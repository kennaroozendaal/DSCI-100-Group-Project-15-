{
 "cells": [
  {
   "cell_type": "markdown",
   "metadata": {},
   "source": [
    "## Group 15 - Contraceptive method used among Indonesian women"
   ]
  },
  {
   "cell_type": "markdown",
   "metadata": {},
   "source": [
    "Kenna Roozendaal, Joy Cai, Naura Ambareswari"
   ]
  },
  {
   "attachments": {},
   "cell_type": "markdown",
   "metadata": {},
   "source": [
    "#### Introduction\n",
    "\n",
    "Indonesia experienced a notable decline in its fertility rates between 1984 and 1987. The increased use of contraceptives is a significant factor in the drop in fertility due to more women gaining access to and awareness of available family planning resources compared to previous years. To better understand and address the declining fertility trend, the National Indonesia Contraceptive Prevalence Survey conducted a survey on family planning as well as collected women’s sociodemographic background.\n",
    "\n",
    "The data taken from the survey will be used to answer the question *“Given the wife's age, religion, and standard of living, what is the preferred contraceptive method used?”*. We will be using the Contraceptive Method Choice Data Set that sampled married women in Indonesia who were not pregnant or were unaware they were pregnant (Lim, 1997). The goal was to predict women’s contraceptive method of choice (no use, long-term methods, short-term methods) based on characteristics like age, religion, standard of living, education, etc.\n",
    "\n",
    "Link to dataset: https://archive.ics.uci.edu/ml/datasets/Contraceptive+Method+Choice "
   ]
  },
  {
   "attachments": {},
   "cell_type": "markdown",
   "metadata": {},
   "source": [
    "#### Methods\n",
    "\n",
    "First, the dataset will need to be filtered in order to only get the columns that are relvant to answering the question. Since there are no headers provided with the dataset, they will need to be manually set. The columns used from the dataset are wife’s age, religion, education, standard of living, and contraceptive method used. Religion was chosen as a predictor because it influences the type of contraceptive used and Indonesia holds the largest Muslim population (Hefner, 2020; Hill et al., 2014). Education and age are predictors because age, socioeconomic level, and level of education, particularly educational lag, have been found to impact women’s contraceptive methods (Sámano et al., 2019). \n",
    "\n",
    "RELEVANT COLUMNS:\n",
    "- Wife's age\n",
    "- Wife's education level (1=low 2,3,4=high)\n",
    "- Wife's religion (0=not Islam 1=Islam)\n",
    "- Standard of living (1=low 2,3,4=high)\n",
    "- Contraceptive method used (1= no use 2=long-term 3=short-term)\n",
    "\n",
    "Aftering filtering the dataset, will be read into Python and the data will be split into a training and testing set, 75% for the training set and 25% for the testing set. This will allow us to evaluate the accuracy of our model for predicting the prefered method of contraception. To create the most accurate predictor, the model will be tuned by testing different k-values for k-nearest neighbors. As such, a standard <code>5-fold-cross-validation</code> will be conducted using the GridSearchCV method from the scikit-learn package. Using the best value for k, the model with maximized efficiency can be used.\n",
    "\n",
    "Using the tuned model, we will be able to predict the method of contraception used given information about the wife using the <code>predict</code> method. \n"
   ]
  },
  {
   "attachments": {},
   "cell_type": "markdown",
   "metadata": {},
   "source": [
    "#### Expected outcomes and significance\n",
    "\n",
    "Women with a higher standard of living and higher education level tend to use contraceptives longer than other groups because they are more aware of the available family planning resources and other resources beyond what the government offers. Alternately, women with lower education levels and a lower standard of living are more likely to use contraceptives for a shorter period or not use them at all (Iseyemi et al., 2017). \n",
    "\n",
    "Predicting women’s contraceptive choice can help healthcare providers and policymakers ensure proper access to their preferred contraception. Identifying sociodemographic groups that use or do not use contraceptives can assess disparities in access, utilization, and education of contraception. Despite Indonesia’s decline in fertility, contraceptive use can lower rates of unplanned pregnancies as well as maternal and infant mortality. \n",
    "This research can further inquire on the accessibility of contraception and family planning for all sociodemographic groups in Indonesia, and how it can be improved in order to ensure equality and promote autonomy and control over women’s reproductive health. \n"
   ]
  },
  {
   "attachments": {},
   "cell_type": "markdown",
   "metadata": {},
   "source": [
    "#### Preliminary exploratory data analysis"
   ]
  },
  {
   "cell_type": "markdown",
   "metadata": {},
   "source": [
    "We first want to load the csv file into a dataframe so that we can better visualize the data. Appropriate headers are added and only the columns that have variables that are not related to the question are removed."
   ]
  },
  {
   "cell_type": "code",
   "execution_count": 9,
   "metadata": {},
   "outputs": [
    {
     "data": {
      "text/plain": [
       "RendererRegistry.enable('mimetype')"
      ]
     },
     "execution_count": 9,
     "metadata": {},
     "output_type": "execute_result"
    }
   ],
   "source": [
    "import altair as alt\n",
    "import numpy as np\n",
    "import pandas as pd\n",
    "import sklearn\n",
    "from sklearn.compose import make_column_transformer\n",
    "from sklearn.metrics import confusion_matrix\n",
    "from sklearn.metrics.pairwise import euclidean_distances\n",
    "from sklearn.model_selection import (\n",
    "    GridSearchCV,\n",
    "    RandomizedSearchCV,\n",
    "    cross_validate,\n",
    "    train_test_split,\n",
    ")\n",
    "from sklearn.neighbors import KNeighborsClassifier\n",
    "from sklearn.pipeline import Pipeline, make_pipeline\n",
    "from sklearn.preprocessing import OneHotEncoder, StandardScaler\n",
    "\n",
    "alt.data_transformers.disable_max_rows()\n",
    "alt.renderers.enable(\"mimetype\")"
   ]
  },
  {
   "cell_type": "code",
   "execution_count": 2,
   "metadata": {},
   "outputs": [
    {
     "data": {
      "text/html": [
       "<div>\n",
       "<style scoped>\n",
       "    .dataframe tbody tr th:only-of-type {\n",
       "        vertical-align: middle;\n",
       "    }\n",
       "\n",
       "    .dataframe tbody tr th {\n",
       "        vertical-align: top;\n",
       "    }\n",
       "\n",
       "    .dataframe thead th {\n",
       "        text-align: right;\n",
       "    }\n",
       "</style>\n",
       "<table border=\"1\" class=\"dataframe\">\n",
       "  <thead>\n",
       "    <tr style=\"text-align: right;\">\n",
       "      <th></th>\n",
       "      <th>wife_age</th>\n",
       "      <th>wife_education</th>\n",
       "      <th>husband_education</th>\n",
       "      <th>num_children_born</th>\n",
       "      <th>wife_religion</th>\n",
       "      <th>wife_working</th>\n",
       "      <th>husband_occupation</th>\n",
       "      <th>standard_of_living_index</th>\n",
       "      <th>media_exposure</th>\n",
       "      <th>contraceptive_method_used</th>\n",
       "    </tr>\n",
       "  </thead>\n",
       "  <tbody>\n",
       "    <tr>\n",
       "      <th>0</th>\n",
       "      <td>24</td>\n",
       "      <td>2</td>\n",
       "      <td>3</td>\n",
       "      <td>3</td>\n",
       "      <td>1</td>\n",
       "      <td>1</td>\n",
       "      <td>2</td>\n",
       "      <td>3</td>\n",
       "      <td>0</td>\n",
       "      <td>1</td>\n",
       "    </tr>\n",
       "    <tr>\n",
       "      <th>1</th>\n",
       "      <td>45</td>\n",
       "      <td>1</td>\n",
       "      <td>3</td>\n",
       "      <td>10</td>\n",
       "      <td>1</td>\n",
       "      <td>1</td>\n",
       "      <td>3</td>\n",
       "      <td>4</td>\n",
       "      <td>0</td>\n",
       "      <td>1</td>\n",
       "    </tr>\n",
       "    <tr>\n",
       "      <th>2</th>\n",
       "      <td>43</td>\n",
       "      <td>2</td>\n",
       "      <td>3</td>\n",
       "      <td>7</td>\n",
       "      <td>1</td>\n",
       "      <td>1</td>\n",
       "      <td>3</td>\n",
       "      <td>4</td>\n",
       "      <td>0</td>\n",
       "      <td>1</td>\n",
       "    </tr>\n",
       "    <tr>\n",
       "      <th>3</th>\n",
       "      <td>42</td>\n",
       "      <td>3</td>\n",
       "      <td>2</td>\n",
       "      <td>9</td>\n",
       "      <td>1</td>\n",
       "      <td>1</td>\n",
       "      <td>3</td>\n",
       "      <td>3</td>\n",
       "      <td>0</td>\n",
       "      <td>1</td>\n",
       "    </tr>\n",
       "    <tr>\n",
       "      <th>4</th>\n",
       "      <td>36</td>\n",
       "      <td>3</td>\n",
       "      <td>3</td>\n",
       "      <td>8</td>\n",
       "      <td>1</td>\n",
       "      <td>1</td>\n",
       "      <td>3</td>\n",
       "      <td>2</td>\n",
       "      <td>0</td>\n",
       "      <td>1</td>\n",
       "    </tr>\n",
       "    <tr>\n",
       "      <th>...</th>\n",
       "      <td>...</td>\n",
       "      <td>...</td>\n",
       "      <td>...</td>\n",
       "      <td>...</td>\n",
       "      <td>...</td>\n",
       "      <td>...</td>\n",
       "      <td>...</td>\n",
       "      <td>...</td>\n",
       "      <td>...</td>\n",
       "      <td>...</td>\n",
       "    </tr>\n",
       "    <tr>\n",
       "      <th>1468</th>\n",
       "      <td>33</td>\n",
       "      <td>4</td>\n",
       "      <td>4</td>\n",
       "      <td>2</td>\n",
       "      <td>1</td>\n",
       "      <td>0</td>\n",
       "      <td>2</td>\n",
       "      <td>4</td>\n",
       "      <td>0</td>\n",
       "      <td>3</td>\n",
       "    </tr>\n",
       "    <tr>\n",
       "      <th>1469</th>\n",
       "      <td>33</td>\n",
       "      <td>4</td>\n",
       "      <td>4</td>\n",
       "      <td>3</td>\n",
       "      <td>1</td>\n",
       "      <td>1</td>\n",
       "      <td>1</td>\n",
       "      <td>4</td>\n",
       "      <td>0</td>\n",
       "      <td>3</td>\n",
       "    </tr>\n",
       "    <tr>\n",
       "      <th>1470</th>\n",
       "      <td>39</td>\n",
       "      <td>3</td>\n",
       "      <td>3</td>\n",
       "      <td>8</td>\n",
       "      <td>1</td>\n",
       "      <td>0</td>\n",
       "      <td>1</td>\n",
       "      <td>4</td>\n",
       "      <td>0</td>\n",
       "      <td>3</td>\n",
       "    </tr>\n",
       "    <tr>\n",
       "      <th>1471</th>\n",
       "      <td>33</td>\n",
       "      <td>3</td>\n",
       "      <td>3</td>\n",
       "      <td>4</td>\n",
       "      <td>1</td>\n",
       "      <td>0</td>\n",
       "      <td>2</td>\n",
       "      <td>2</td>\n",
       "      <td>0</td>\n",
       "      <td>3</td>\n",
       "    </tr>\n",
       "    <tr>\n",
       "      <th>1472</th>\n",
       "      <td>17</td>\n",
       "      <td>3</td>\n",
       "      <td>3</td>\n",
       "      <td>1</td>\n",
       "      <td>1</td>\n",
       "      <td>1</td>\n",
       "      <td>2</td>\n",
       "      <td>4</td>\n",
       "      <td>0</td>\n",
       "      <td>3</td>\n",
       "    </tr>\n",
       "  </tbody>\n",
       "</table>\n",
       "<p>1473 rows × 10 columns</p>\n",
       "</div>"
      ],
      "text/plain": [
       "      wife_age  wife_education  husband_education  num_children_born  \\\n",
       "0           24               2                  3                  3   \n",
       "1           45               1                  3                 10   \n",
       "2           43               2                  3                  7   \n",
       "3           42               3                  2                  9   \n",
       "4           36               3                  3                  8   \n",
       "...        ...             ...                ...                ...   \n",
       "1468        33               4                  4                  2   \n",
       "1469        33               4                  4                  3   \n",
       "1470        39               3                  3                  8   \n",
       "1471        33               3                  3                  4   \n",
       "1472        17               3                  3                  1   \n",
       "\n",
       "      wife_religion  wife_working  husband_occupation  \\\n",
       "0                 1             1                   2   \n",
       "1                 1             1                   3   \n",
       "2                 1             1                   3   \n",
       "3                 1             1                   3   \n",
       "4                 1             1                   3   \n",
       "...             ...           ...                 ...   \n",
       "1468              1             0                   2   \n",
       "1469              1             1                   1   \n",
       "1470              1             0                   1   \n",
       "1471              1             0                   2   \n",
       "1472              1             1                   2   \n",
       "\n",
       "      standard_of_living_index  media_exposure  contraceptive_method_used  \n",
       "0                            3               0                          1  \n",
       "1                            4               0                          1  \n",
       "2                            4               0                          1  \n",
       "3                            3               0                          1  \n",
       "4                            2               0                          1  \n",
       "...                        ...             ...                        ...  \n",
       "1468                         4               0                          3  \n",
       "1469                         4               0                          3  \n",
       "1470                         4               0                          3  \n",
       "1471                         2               0                          3  \n",
       "1472                         4               0                          3  \n",
       "\n",
       "[1473 rows x 10 columns]"
      ]
     },
     "execution_count": 2,
     "metadata": {},
     "output_type": "execute_result"
    }
   ],
   "source": [
    "cmc_dataset = pd.read_csv(\"data/cmc.data.csv\", header=None,\n",
    "                     names=[\n",
    "                         \"wife_age\", \n",
    "                         \"wife_education\", #1=low 2,3,4=high\n",
    "                         \"husband_education\", #1=low 2,3,4=high\n",
    "                         \"num_children_born\",\n",
    "                         \"wife_religion\", #0=not Islam 1=Islam\n",
    "                         \"wife_working\", #0=yes 1=no\n",
    "                         \"husband_occupation\", #1,2,3,4 (categorical)\n",
    "                         \"standard_of_living_index\", #1=low 2,3,4=high\n",
    "                         \"media_exposure\", #0=good 1=not good\n",
    "                         \"contraceptive_method_used\", #1= no use 2=long-term 3=short-term\n",
    "                     ]\n",
    "                     )\n",
    "cmc_dataset"
   ]
  },
  {
   "cell_type": "code",
   "execution_count": 3,
   "metadata": {},
   "outputs": [
    {
     "data": {
      "text/html": [
       "<div>\n",
       "<style scoped>\n",
       "    .dataframe tbody tr th:only-of-type {\n",
       "        vertical-align: middle;\n",
       "    }\n",
       "\n",
       "    .dataframe tbody tr th {\n",
       "        vertical-align: top;\n",
       "    }\n",
       "\n",
       "    .dataframe thead th {\n",
       "        text-align: right;\n",
       "    }\n",
       "</style>\n",
       "<table border=\"1\" class=\"dataframe\">\n",
       "  <thead>\n",
       "    <tr style=\"text-align: right;\">\n",
       "      <th></th>\n",
       "      <th>wife_age</th>\n",
       "      <th>wife_education</th>\n",
       "      <th>wife_religion</th>\n",
       "      <th>standard_of_living_index</th>\n",
       "      <th>contraceptive_method_used</th>\n",
       "    </tr>\n",
       "  </thead>\n",
       "  <tbody>\n",
       "    <tr>\n",
       "      <th>0</th>\n",
       "      <td>24</td>\n",
       "      <td>2</td>\n",
       "      <td>1</td>\n",
       "      <td>3</td>\n",
       "      <td>1</td>\n",
       "    </tr>\n",
       "    <tr>\n",
       "      <th>1</th>\n",
       "      <td>45</td>\n",
       "      <td>1</td>\n",
       "      <td>1</td>\n",
       "      <td>4</td>\n",
       "      <td>1</td>\n",
       "    </tr>\n",
       "    <tr>\n",
       "      <th>2</th>\n",
       "      <td>43</td>\n",
       "      <td>2</td>\n",
       "      <td>1</td>\n",
       "      <td>4</td>\n",
       "      <td>1</td>\n",
       "    </tr>\n",
       "    <tr>\n",
       "      <th>3</th>\n",
       "      <td>42</td>\n",
       "      <td>3</td>\n",
       "      <td>1</td>\n",
       "      <td>3</td>\n",
       "      <td>1</td>\n",
       "    </tr>\n",
       "    <tr>\n",
       "      <th>4</th>\n",
       "      <td>36</td>\n",
       "      <td>3</td>\n",
       "      <td>1</td>\n",
       "      <td>2</td>\n",
       "      <td>1</td>\n",
       "    </tr>\n",
       "    <tr>\n",
       "      <th>...</th>\n",
       "      <td>...</td>\n",
       "      <td>...</td>\n",
       "      <td>...</td>\n",
       "      <td>...</td>\n",
       "      <td>...</td>\n",
       "    </tr>\n",
       "    <tr>\n",
       "      <th>1468</th>\n",
       "      <td>33</td>\n",
       "      <td>4</td>\n",
       "      <td>1</td>\n",
       "      <td>4</td>\n",
       "      <td>3</td>\n",
       "    </tr>\n",
       "    <tr>\n",
       "      <th>1469</th>\n",
       "      <td>33</td>\n",
       "      <td>4</td>\n",
       "      <td>1</td>\n",
       "      <td>4</td>\n",
       "      <td>3</td>\n",
       "    </tr>\n",
       "    <tr>\n",
       "      <th>1470</th>\n",
       "      <td>39</td>\n",
       "      <td>3</td>\n",
       "      <td>1</td>\n",
       "      <td>4</td>\n",
       "      <td>3</td>\n",
       "    </tr>\n",
       "    <tr>\n",
       "      <th>1471</th>\n",
       "      <td>33</td>\n",
       "      <td>3</td>\n",
       "      <td>1</td>\n",
       "      <td>2</td>\n",
       "      <td>3</td>\n",
       "    </tr>\n",
       "    <tr>\n",
       "      <th>1472</th>\n",
       "      <td>17</td>\n",
       "      <td>3</td>\n",
       "      <td>1</td>\n",
       "      <td>4</td>\n",
       "      <td>3</td>\n",
       "    </tr>\n",
       "  </tbody>\n",
       "</table>\n",
       "<p>1473 rows × 5 columns</p>\n",
       "</div>"
      ],
      "text/plain": [
       "      wife_age  wife_education  wife_religion  standard_of_living_index  \\\n",
       "0           24               2              1                         3   \n",
       "1           45               1              1                         4   \n",
       "2           43               2              1                         4   \n",
       "3           42               3              1                         3   \n",
       "4           36               3              1                         2   \n",
       "...        ...             ...            ...                       ...   \n",
       "1468        33               4              1                         4   \n",
       "1469        33               4              1                         4   \n",
       "1470        39               3              1                         4   \n",
       "1471        33               3              1                         2   \n",
       "1472        17               3              1                         4   \n",
       "\n",
       "      contraceptive_method_used  \n",
       "0                             1  \n",
       "1                             1  \n",
       "2                             1  \n",
       "3                             1  \n",
       "4                             1  \n",
       "...                         ...  \n",
       "1468                          3  \n",
       "1469                          3  \n",
       "1470                          3  \n",
       "1471                          3  \n",
       "1472                          3  \n",
       "\n",
       "[1473 rows x 5 columns]"
      ]
     },
     "execution_count": 3,
     "metadata": {},
     "output_type": "execute_result"
    }
   ],
   "source": [
    "cmc_dataset_filtered = cmc_dataset.loc[:, [\"wife_age\", \"wife_education\",\"wife_religion\",\"standard_of_living_index\", \"contraceptive_method_used\"]]\n",
    "cmc_dataset_filtered"
   ]
  },
  {
   "cell_type": "markdown",
   "metadata": {},
   "source": [
    "Now we want to split our data into a training and testing set. The preliminary data analysis will be an exploratory analysis that uses data from the training set only. In order to reduce human bias, only the training set will be visualized. For this project, the dataset will be split 75% training and 25% testing. "
   ]
  },
  {
   "cell_type": "code",
   "execution_count": 10,
   "metadata": {},
   "outputs": [
    {
     "data": {
      "text/html": [
       "<div>\n",
       "<style scoped>\n",
       "    .dataframe tbody tr th:only-of-type {\n",
       "        vertical-align: middle;\n",
       "    }\n",
       "\n",
       "    .dataframe tbody tr th {\n",
       "        vertical-align: top;\n",
       "    }\n",
       "\n",
       "    .dataframe thead th {\n",
       "        text-align: right;\n",
       "    }\n",
       "</style>\n",
       "<table border=\"1\" class=\"dataframe\">\n",
       "  <thead>\n",
       "    <tr style=\"text-align: right;\">\n",
       "      <th></th>\n",
       "      <th>wife_age</th>\n",
       "      <th>wife_education</th>\n",
       "      <th>wife_religion</th>\n",
       "      <th>standard_of_living_index</th>\n",
       "      <th>contraceptive_method_used</th>\n",
       "    </tr>\n",
       "  </thead>\n",
       "  <tbody>\n",
       "    <tr>\n",
       "      <th>1208</th>\n",
       "      <td>40</td>\n",
       "      <td>1</td>\n",
       "      <td>1</td>\n",
       "      <td>2</td>\n",
       "      <td>1</td>\n",
       "    </tr>\n",
       "    <tr>\n",
       "      <th>1297</th>\n",
       "      <td>35</td>\n",
       "      <td>4</td>\n",
       "      <td>1</td>\n",
       "      <td>4</td>\n",
       "      <td>2</td>\n",
       "    </tr>\n",
       "    <tr>\n",
       "      <th>736</th>\n",
       "      <td>19</td>\n",
       "      <td>3</td>\n",
       "      <td>1</td>\n",
       "      <td>3</td>\n",
       "      <td>3</td>\n",
       "    </tr>\n",
       "    <tr>\n",
       "      <th>186</th>\n",
       "      <td>20</td>\n",
       "      <td>2</td>\n",
       "      <td>1</td>\n",
       "      <td>2</td>\n",
       "      <td>1</td>\n",
       "    </tr>\n",
       "    <tr>\n",
       "      <th>1027</th>\n",
       "      <td>41</td>\n",
       "      <td>2</td>\n",
       "      <td>0</td>\n",
       "      <td>2</td>\n",
       "      <td>1</td>\n",
       "    </tr>\n",
       "  </tbody>\n",
       "</table>\n",
       "</div>"
      ],
      "text/plain": [
       "      wife_age  wife_education  wife_religion  standard_of_living_index  \\\n",
       "1208        40               1              1                         2   \n",
       "1297        35               4              1                         4   \n",
       "736         19               3              1                         3   \n",
       "186         20               2              1                         2   \n",
       "1027        41               2              0                         2   \n",
       "\n",
       "      contraceptive_method_used  \n",
       "1208                          1  \n",
       "1297                          2  \n",
       "736                           3  \n",
       "186                           1  \n",
       "1027                          1  "
      ]
     },
     "execution_count": 10,
     "metadata": {},
     "output_type": "execute_result"
    }
   ],
   "source": [
    "cmc_train, cmc_test = train_test_split(cmc_dataset_filtered, test_size=0.25, random_state=123)\n",
    "cmc_train.head()"
   ]
  },
  {
   "cell_type": "markdown",
   "metadata": {},
   "source": [
    "In our preliminary analysis, we want to be able to summarize useful information about the training set in a table. As such, we want to be able to see if there is any missing data, and the means and medians of our predictor variables. "
   ]
  },
  {
   "cell_type": "code",
   "execution_count": 11,
   "metadata": {},
   "outputs": [
    {
     "data": {
      "text/plain": [
       "wife_age                     0\n",
       "wife_education               0\n",
       "wife_religion                0\n",
       "standard_of_living_index     0\n",
       "contraceptive_method_used    0\n",
       "dtype: int64"
      ]
     },
     "execution_count": 11,
     "metadata": {},
     "output_type": "execute_result"
    }
   ],
   "source": [
    "missing_data = cmc_train.isna().sum()\n",
    "missing_data"
   ]
  },
  {
   "attachments": {},
   "cell_type": "markdown",
   "metadata": {},
   "source": [
    "There is no missing data in our dataset, thus we do not need to filter out any incomplete rows."
   ]
  },
  {
   "cell_type": "code",
   "execution_count": 6,
   "metadata": {},
   "outputs": [
    {
     "data": {
      "text/html": [
       "<div>\n",
       "<style scoped>\n",
       "    .dataframe tbody tr th:only-of-type {\n",
       "        vertical-align: middle;\n",
       "    }\n",
       "\n",
       "    .dataframe tbody tr th {\n",
       "        vertical-align: top;\n",
       "    }\n",
       "\n",
       "    .dataframe thead th {\n",
       "        text-align: right;\n",
       "    }\n",
       "</style>\n",
       "<table border=\"1\" class=\"dataframe\">\n",
       "  <thead>\n",
       "    <tr style=\"text-align: right;\">\n",
       "      <th></th>\n",
       "      <th>wife_age</th>\n",
       "      <th>wife_education</th>\n",
       "      <th>wife_religion</th>\n",
       "      <th>standard_of_living_index</th>\n",
       "      <th>contraceptive_method_used</th>\n",
       "    </tr>\n",
       "  </thead>\n",
       "  <tbody>\n",
       "    <tr>\n",
       "      <th>mean</th>\n",
       "      <td>32.570652</td>\n",
       "      <td>2.950181</td>\n",
       "      <td>0.856884</td>\n",
       "      <td>3.130435</td>\n",
       "      <td>1.906703</td>\n",
       "    </tr>\n",
       "    <tr>\n",
       "      <th>median</th>\n",
       "      <td>32.000000</td>\n",
       "      <td>3.000000</td>\n",
       "      <td>1.000000</td>\n",
       "      <td>3.000000</td>\n",
       "      <td>2.000000</td>\n",
       "    </tr>\n",
       "    <tr>\n",
       "      <th>max</th>\n",
       "      <td>49.000000</td>\n",
       "      <td>4.000000</td>\n",
       "      <td>1.000000</td>\n",
       "      <td>4.000000</td>\n",
       "      <td>3.000000</td>\n",
       "    </tr>\n",
       "    <tr>\n",
       "      <th>min</th>\n",
       "      <td>16.000000</td>\n",
       "      <td>1.000000</td>\n",
       "      <td>0.000000</td>\n",
       "      <td>1.000000</td>\n",
       "      <td>1.000000</td>\n",
       "    </tr>\n",
       "  </tbody>\n",
       "</table>\n",
       "</div>"
      ],
      "text/plain": [
       "         wife_age  wife_education  wife_religion  standard_of_living_index  \\\n",
       "mean    32.570652        2.950181       0.856884                  3.130435   \n",
       "median  32.000000        3.000000       1.000000                  3.000000   \n",
       "max     49.000000        4.000000       1.000000                  4.000000   \n",
       "min     16.000000        1.000000       0.000000                  1.000000   \n",
       "\n",
       "        contraceptive_method_used  \n",
       "mean                     1.906703  \n",
       "median                   2.000000  \n",
       "max                      3.000000  \n",
       "min                      1.000000  "
      ]
     },
     "execution_count": 6,
     "metadata": {},
     "output_type": "execute_result"
    }
   ],
   "source": [
    "variable_agg = cmc_train.agg([\"mean\", \"median\", \"max\", \"min\"])\n",
    "variable_agg"
   ]
  },
  {
   "attachments": {},
   "cell_type": "markdown",
   "metadata": {},
   "source": [
    "From the table above, we are able to obtain information about the distribution of the data in the training set. The mean and median gives an idea of the distribution of the data and which groups are dominant for each predictor. Using the min and max, we can confirm that observations spanning the entire range of the dataset are included. "
   ]
  },
  {
   "attachments": {},
   "cell_type": "markdown",
   "metadata": {},
   "source": [
    "**Visualization**\n",
    "\n",
    "We chose our predictors based on academic papers that have found a correlation between each variable and the method of contraception used. As such we want to be able to see if each variable demonstrates a clear correlation. "
   ]
  },
  {
   "cell_type": "markdown",
   "metadata": {},
   "source": [
    "**Wife's age**"
   ]
  },
  {
   "cell_type": "code",
   "execution_count": 17,
   "metadata": {},
   "outputs": [
    {
     "data": {
      "application/vnd.vegalite.v4+json": {
       "$schema": "https://vega.github.io/schema/vega-lite/v4.17.0.json",
       "config": {
        "view": {
         "continuousHeight": 300,
         "continuousWidth": 400
        }
       },
       "data": {
        "name": "data-f15167d60f413a998667f82347f8e248"
       },
       "datasets": {
        "data-f15167d60f413a998667f82347f8e248": [
         {
          "contraceptive_method_used": 1,
          "standard_of_living_index": 2,
          "wife_age": 40,
          "wife_education": 1,
          "wife_religion": 1
         },
         {
          "contraceptive_method_used": 2,
          "standard_of_living_index": 4,
          "wife_age": 35,
          "wife_education": 4,
          "wife_religion": 1
         },
         {
          "contraceptive_method_used": 3,
          "standard_of_living_index": 3,
          "wife_age": 19,
          "wife_education": 3,
          "wife_religion": 1
         },
         {
          "contraceptive_method_used": 1,
          "standard_of_living_index": 2,
          "wife_age": 20,
          "wife_education": 2,
          "wife_religion": 1
         },
         {
          "contraceptive_method_used": 1,
          "standard_of_living_index": 2,
          "wife_age": 41,
          "wife_education": 2,
          "wife_religion": 0
         },
         {
          "contraceptive_method_used": 1,
          "standard_of_living_index": 1,
          "wife_age": 30,
          "wife_education": 2,
          "wife_religion": 1
         },
         {
          "contraceptive_method_used": 3,
          "standard_of_living_index": 3,
          "wife_age": 33,
          "wife_education": 3,
          "wife_religion": 1
         },
         {
          "contraceptive_method_used": 2,
          "standard_of_living_index": 4,
          "wife_age": 48,
          "wife_education": 4,
          "wife_religion": 0
         },
         {
          "contraceptive_method_used": 2,
          "standard_of_living_index": 3,
          "wife_age": 31,
          "wife_education": 4,
          "wife_religion": 0
         },
         {
          "contraceptive_method_used": 1,
          "standard_of_living_index": 4,
          "wife_age": 25,
          "wife_education": 4,
          "wife_religion": 1
         },
         {
          "contraceptive_method_used": 1,
          "standard_of_living_index": 1,
          "wife_age": 26,
          "wife_education": 2,
          "wife_religion": 1
         },
         {
          "contraceptive_method_used": 3,
          "standard_of_living_index": 3,
          "wife_age": 38,
          "wife_education": 4,
          "wife_religion": 1
         },
         {
          "contraceptive_method_used": 3,
          "standard_of_living_index": 3,
          "wife_age": 28,
          "wife_education": 4,
          "wife_religion": 1
         },
         {
          "contraceptive_method_used": 3,
          "standard_of_living_index": 3,
          "wife_age": 23,
          "wife_education": 4,
          "wife_religion": 1
         },
         {
          "contraceptive_method_used": 1,
          "standard_of_living_index": 3,
          "wife_age": 42,
          "wife_education": 3,
          "wife_religion": 1
         },
         {
          "contraceptive_method_used": 3,
          "standard_of_living_index": 3,
          "wife_age": 22,
          "wife_education": 2,
          "wife_religion": 1
         },
         {
          "contraceptive_method_used": 3,
          "standard_of_living_index": 4,
          "wife_age": 24,
          "wife_education": 4,
          "wife_religion": 1
         },
         {
          "contraceptive_method_used": 2,
          "standard_of_living_index": 4,
          "wife_age": 26,
          "wife_education": 4,
          "wife_religion": 0
         },
         {
          "contraceptive_method_used": 1,
          "standard_of_living_index": 2,
          "wife_age": 28,
          "wife_education": 3,
          "wife_religion": 1
         },
         {
          "contraceptive_method_used": 1,
          "standard_of_living_index": 4,
          "wife_age": 24,
          "wife_education": 2,
          "wife_religion": 1
         },
         {
          "contraceptive_method_used": 1,
          "standard_of_living_index": 4,
          "wife_age": 30,
          "wife_education": 2,
          "wife_religion": 1
         },
         {
          "contraceptive_method_used": 2,
          "standard_of_living_index": 3,
          "wife_age": 28,
          "wife_education": 4,
          "wife_religion": 1
         },
         {
          "contraceptive_method_used": 3,
          "standard_of_living_index": 4,
          "wife_age": 35,
          "wife_education": 4,
          "wife_religion": 1
         },
         {
          "contraceptive_method_used": 3,
          "standard_of_living_index": 2,
          "wife_age": 23,
          "wife_education": 2,
          "wife_religion": 1
         },
         {
          "contraceptive_method_used": 3,
          "standard_of_living_index": 3,
          "wife_age": 22,
          "wife_education": 4,
          "wife_religion": 1
         },
         {
          "contraceptive_method_used": 2,
          "standard_of_living_index": 3,
          "wife_age": 36,
          "wife_education": 4,
          "wife_religion": 0
         },
         {
          "contraceptive_method_used": 1,
          "standard_of_living_index": 4,
          "wife_age": 28,
          "wife_education": 4,
          "wife_religion": 1
         },
         {
          "contraceptive_method_used": 1,
          "standard_of_living_index": 1,
          "wife_age": 39,
          "wife_education": 1,
          "wife_religion": 1
         },
         {
          "contraceptive_method_used": 2,
          "standard_of_living_index": 4,
          "wife_age": 24,
          "wife_education": 4,
          "wife_religion": 1
         },
         {
          "contraceptive_method_used": 1,
          "standard_of_living_index": 1,
          "wife_age": 17,
          "wife_education": 2,
          "wife_religion": 1
         },
         {
          "contraceptive_method_used": 1,
          "standard_of_living_index": 4,
          "wife_age": 31,
          "wife_education": 3,
          "wife_religion": 1
         },
         {
          "contraceptive_method_used": 1,
          "standard_of_living_index": 4,
          "wife_age": 27,
          "wife_education": 4,
          "wife_religion": 0
         },
         {
          "contraceptive_method_used": 3,
          "standard_of_living_index": 3,
          "wife_age": 26,
          "wife_education": 3,
          "wife_religion": 1
         },
         {
          "contraceptive_method_used": 1,
          "standard_of_living_index": 4,
          "wife_age": 22,
          "wife_education": 4,
          "wife_religion": 1
         },
         {
          "contraceptive_method_used": 2,
          "standard_of_living_index": 3,
          "wife_age": 26,
          "wife_education": 3,
          "wife_religion": 1
         },
         {
          "contraceptive_method_used": 1,
          "standard_of_living_index": 4,
          "wife_age": 45,
          "wife_education": 2,
          "wife_religion": 1
         },
         {
          "contraceptive_method_used": 3,
          "standard_of_living_index": 4,
          "wife_age": 23,
          "wife_education": 4,
          "wife_religion": 1
         },
         {
          "contraceptive_method_used": 1,
          "standard_of_living_index": 3,
          "wife_age": 29,
          "wife_education": 3,
          "wife_religion": 1
         },
         {
          "contraceptive_method_used": 1,
          "standard_of_living_index": 3,
          "wife_age": 23,
          "wife_education": 4,
          "wife_religion": 1
         },
         {
          "contraceptive_method_used": 1,
          "standard_of_living_index": 4,
          "wife_age": 44,
          "wife_education": 1,
          "wife_religion": 1
         },
         {
          "contraceptive_method_used": 1,
          "standard_of_living_index": 3,
          "wife_age": 23,
          "wife_education": 4,
          "wife_religion": 1
         },
         {
          "contraceptive_method_used": 3,
          "standard_of_living_index": 4,
          "wife_age": 28,
          "wife_education": 3,
          "wife_religion": 1
         },
         {
          "contraceptive_method_used": 1,
          "standard_of_living_index": 4,
          "wife_age": 28,
          "wife_education": 4,
          "wife_religion": 0
         },
         {
          "contraceptive_method_used": 1,
          "standard_of_living_index": 3,
          "wife_age": 41,
          "wife_education": 3,
          "wife_religion": 1
         },
         {
          "contraceptive_method_used": 1,
          "standard_of_living_index": 4,
          "wife_age": 23,
          "wife_education": 4,
          "wife_religion": 1
         },
         {
          "contraceptive_method_used": 1,
          "standard_of_living_index": 4,
          "wife_age": 26,
          "wife_education": 4,
          "wife_religion": 1
         },
         {
          "contraceptive_method_used": 3,
          "standard_of_living_index": 4,
          "wife_age": 31,
          "wife_education": 4,
          "wife_religion": 1
         },
         {
          "contraceptive_method_used": 3,
          "standard_of_living_index": 4,
          "wife_age": 34,
          "wife_education": 4,
          "wife_religion": 0
         },
         {
          "contraceptive_method_used": 3,
          "standard_of_living_index": 3,
          "wife_age": 32,
          "wife_education": 1,
          "wife_religion": 1
         },
         {
          "contraceptive_method_used": 3,
          "standard_of_living_index": 4,
          "wife_age": 38,
          "wife_education": 4,
          "wife_religion": 1
         },
         {
          "contraceptive_method_used": 1,
          "standard_of_living_index": 4,
          "wife_age": 27,
          "wife_education": 2,
          "wife_religion": 1
         },
         {
          "contraceptive_method_used": 3,
          "standard_of_living_index": 2,
          "wife_age": 20,
          "wife_education": 2,
          "wife_religion": 1
         },
         {
          "contraceptive_method_used": 1,
          "standard_of_living_index": 4,
          "wife_age": 22,
          "wife_education": 2,
          "wife_religion": 1
         },
         {
          "contraceptive_method_used": 3,
          "standard_of_living_index": 4,
          "wife_age": 44,
          "wife_education": 4,
          "wife_religion": 1
         },
         {
          "contraceptive_method_used": 1,
          "standard_of_living_index": 1,
          "wife_age": 39,
          "wife_education": 2,
          "wife_religion": 1
         },
         {
          "contraceptive_method_used": 2,
          "standard_of_living_index": 4,
          "wife_age": 22,
          "wife_education": 3,
          "wife_religion": 1
         },
         {
          "contraceptive_method_used": 1,
          "standard_of_living_index": 2,
          "wife_age": 42,
          "wife_education": 1,
          "wife_religion": 0
         },
         {
          "contraceptive_method_used": 3,
          "standard_of_living_index": 1,
          "wife_age": 25,
          "wife_education": 3,
          "wife_religion": 1
         },
         {
          "contraceptive_method_used": 1,
          "standard_of_living_index": 4,
          "wife_age": 33,
          "wife_education": 4,
          "wife_religion": 1
         },
         {
          "contraceptive_method_used": 1,
          "standard_of_living_index": 4,
          "wife_age": 23,
          "wife_education": 3,
          "wife_religion": 1
         },
         {
          "contraceptive_method_used": 2,
          "standard_of_living_index": 4,
          "wife_age": 35,
          "wife_education": 4,
          "wife_religion": 0
         },
         {
          "contraceptive_method_used": 1,
          "standard_of_living_index": 1,
          "wife_age": 35,
          "wife_education": 2,
          "wife_religion": 1
         },
         {
          "contraceptive_method_used": 3,
          "standard_of_living_index": 2,
          "wife_age": 18,
          "wife_education": 3,
          "wife_religion": 1
         },
         {
          "contraceptive_method_used": 3,
          "standard_of_living_index": 3,
          "wife_age": 25,
          "wife_education": 2,
          "wife_religion": 1
         },
         {
          "contraceptive_method_used": 1,
          "standard_of_living_index": 1,
          "wife_age": 26,
          "wife_education": 3,
          "wife_religion": 1
         },
         {
          "contraceptive_method_used": 3,
          "standard_of_living_index": 3,
          "wife_age": 39,
          "wife_education": 4,
          "wife_religion": 0
         },
         {
          "contraceptive_method_used": 2,
          "standard_of_living_index": 3,
          "wife_age": 44,
          "wife_education": 4,
          "wife_religion": 0
         },
         {
          "contraceptive_method_used": 2,
          "standard_of_living_index": 4,
          "wife_age": 23,
          "wife_education": 4,
          "wife_religion": 0
         },
         {
          "contraceptive_method_used": 1,
          "standard_of_living_index": 4,
          "wife_age": 48,
          "wife_education": 4,
          "wife_religion": 1
         },
         {
          "contraceptive_method_used": 1,
          "standard_of_living_index": 2,
          "wife_age": 44,
          "wife_education": 2,
          "wife_religion": 1
         },
         {
          "contraceptive_method_used": 3,
          "standard_of_living_index": 1,
          "wife_age": 20,
          "wife_education": 2,
          "wife_religion": 1
         },
         {
          "contraceptive_method_used": 3,
          "standard_of_living_index": 4,
          "wife_age": 27,
          "wife_education": 2,
          "wife_religion": 1
         },
         {
          "contraceptive_method_used": 2,
          "standard_of_living_index": 4,
          "wife_age": 47,
          "wife_education": 4,
          "wife_religion": 1
         },
         {
          "contraceptive_method_used": 3,
          "standard_of_living_index": 1,
          "wife_age": 41,
          "wife_education": 1,
          "wife_religion": 1
         },
         {
          "contraceptive_method_used": 2,
          "standard_of_living_index": 4,
          "wife_age": 40,
          "wife_education": 4,
          "wife_religion": 0
         },
         {
          "contraceptive_method_used": 1,
          "standard_of_living_index": 2,
          "wife_age": 40,
          "wife_education": 3,
          "wife_religion": 1
         },
         {
          "contraceptive_method_used": 1,
          "standard_of_living_index": 2,
          "wife_age": 34,
          "wife_education": 4,
          "wife_religion": 0
         },
         {
          "contraceptive_method_used": 1,
          "standard_of_living_index": 3,
          "wife_age": 47,
          "wife_education": 1,
          "wife_religion": 1
         },
         {
          "contraceptive_method_used": 1,
          "standard_of_living_index": 1,
          "wife_age": 28,
          "wife_education": 1,
          "wife_religion": 1
         },
         {
          "contraceptive_method_used": 2,
          "standard_of_living_index": 4,
          "wife_age": 30,
          "wife_education": 2,
          "wife_religion": 1
         },
         {
          "contraceptive_method_used": 1,
          "standard_of_living_index": 4,
          "wife_age": 44,
          "wife_education": 3,
          "wife_religion": 1
         },
         {
          "contraceptive_method_used": 3,
          "standard_of_living_index": 4,
          "wife_age": 25,
          "wife_education": 4,
          "wife_religion": 1
         },
         {
          "contraceptive_method_used": 1,
          "standard_of_living_index": 3,
          "wife_age": 34,
          "wife_education": 4,
          "wife_religion": 0
         },
         {
          "contraceptive_method_used": 1,
          "standard_of_living_index": 3,
          "wife_age": 41,
          "wife_education": 1,
          "wife_religion": 1
         },
         {
          "contraceptive_method_used": 3,
          "standard_of_living_index": 4,
          "wife_age": 35,
          "wife_education": 3,
          "wife_religion": 1
         },
         {
          "contraceptive_method_used": 3,
          "standard_of_living_index": 1,
          "wife_age": 32,
          "wife_education": 2,
          "wife_religion": 1
         },
         {
          "contraceptive_method_used": 1,
          "standard_of_living_index": 4,
          "wife_age": 31,
          "wife_education": 3,
          "wife_religion": 1
         },
         {
          "contraceptive_method_used": 2,
          "standard_of_living_index": 4,
          "wife_age": 45,
          "wife_education": 4,
          "wife_religion": 0
         },
         {
          "contraceptive_method_used": 2,
          "standard_of_living_index": 3,
          "wife_age": 23,
          "wife_education": 3,
          "wife_religion": 1
         },
         {
          "contraceptive_method_used": 2,
          "standard_of_living_index": 4,
          "wife_age": 42,
          "wife_education": 4,
          "wife_religion": 1
         },
         {
          "contraceptive_method_used": 2,
          "standard_of_living_index": 1,
          "wife_age": 25,
          "wife_education": 3,
          "wife_religion": 1
         },
         {
          "contraceptive_method_used": 2,
          "standard_of_living_index": 4,
          "wife_age": 37,
          "wife_education": 2,
          "wife_religion": 1
         },
         {
          "contraceptive_method_used": 1,
          "standard_of_living_index": 2,
          "wife_age": 36,
          "wife_education": 4,
          "wife_religion": 1
         },
         {
          "contraceptive_method_used": 1,
          "standard_of_living_index": 4,
          "wife_age": 28,
          "wife_education": 4,
          "wife_religion": 0
         },
         {
          "contraceptive_method_used": 2,
          "standard_of_living_index": 4,
          "wife_age": 35,
          "wife_education": 4,
          "wife_religion": 1
         },
         {
          "contraceptive_method_used": 1,
          "standard_of_living_index": 4,
          "wife_age": 30,
          "wife_education": 3,
          "wife_religion": 1
         },
         {
          "contraceptive_method_used": 1,
          "standard_of_living_index": 3,
          "wife_age": 48,
          "wife_education": 3,
          "wife_religion": 1
         },
         {
          "contraceptive_method_used": 2,
          "standard_of_living_index": 4,
          "wife_age": 45,
          "wife_education": 4,
          "wife_religion": 1
         },
         {
          "contraceptive_method_used": 3,
          "standard_of_living_index": 4,
          "wife_age": 28,
          "wife_education": 4,
          "wife_religion": 1
         },
         {
          "contraceptive_method_used": 1,
          "standard_of_living_index": 2,
          "wife_age": 21,
          "wife_education": 3,
          "wife_religion": 1
         },
         {
          "contraceptive_method_used": 3,
          "standard_of_living_index": 3,
          "wife_age": 40,
          "wife_education": 2,
          "wife_religion": 1
         },
         {
          "contraceptive_method_used": 3,
          "standard_of_living_index": 4,
          "wife_age": 23,
          "wife_education": 4,
          "wife_religion": 1
         },
         {
          "contraceptive_method_used": 2,
          "standard_of_living_index": 4,
          "wife_age": 44,
          "wife_education": 4,
          "wife_religion": 1
         },
         {
          "contraceptive_method_used": 3,
          "standard_of_living_index": 3,
          "wife_age": 22,
          "wife_education": 3,
          "wife_religion": 1
         },
         {
          "contraceptive_method_used": 3,
          "standard_of_living_index": 1,
          "wife_age": 22,
          "wife_education": 3,
          "wife_religion": 1
         },
         {
          "contraceptive_method_used": 3,
          "standard_of_living_index": 3,
          "wife_age": 43,
          "wife_education": 3,
          "wife_religion": 1
         },
         {
          "contraceptive_method_used": 3,
          "standard_of_living_index": 2,
          "wife_age": 38,
          "wife_education": 3,
          "wife_religion": 1
         },
         {
          "contraceptive_method_used": 1,
          "standard_of_living_index": 4,
          "wife_age": 49,
          "wife_education": 1,
          "wife_religion": 1
         },
         {
          "contraceptive_method_used": 1,
          "standard_of_living_index": 3,
          "wife_age": 43,
          "wife_education": 2,
          "wife_religion": 1
         },
         {
          "contraceptive_method_used": 3,
          "standard_of_living_index": 4,
          "wife_age": 27,
          "wife_education": 3,
          "wife_religion": 1
         },
         {
          "contraceptive_method_used": 1,
          "standard_of_living_index": 4,
          "wife_age": 26,
          "wife_education": 2,
          "wife_religion": 1
         },
         {
          "contraceptive_method_used": 1,
          "standard_of_living_index": 2,
          "wife_age": 43,
          "wife_education": 1,
          "wife_religion": 1
         },
         {
          "contraceptive_method_used": 1,
          "standard_of_living_index": 4,
          "wife_age": 34,
          "wife_education": 4,
          "wife_religion": 0
         },
         {
          "contraceptive_method_used": 3,
          "standard_of_living_index": 4,
          "wife_age": 38,
          "wife_education": 4,
          "wife_religion": 1
         },
         {
          "contraceptive_method_used": 3,
          "standard_of_living_index": 3,
          "wife_age": 29,
          "wife_education": 1,
          "wife_religion": 1
         },
         {
          "contraceptive_method_used": 2,
          "standard_of_living_index": 3,
          "wife_age": 36,
          "wife_education": 3,
          "wife_religion": 1
         },
         {
          "contraceptive_method_used": 1,
          "standard_of_living_index": 1,
          "wife_age": 26,
          "wife_education": 2,
          "wife_religion": 1
         },
         {
          "contraceptive_method_used": 1,
          "standard_of_living_index": 1,
          "wife_age": 24,
          "wife_education": 2,
          "wife_religion": 1
         },
         {
          "contraceptive_method_used": 1,
          "standard_of_living_index": 3,
          "wife_age": 41,
          "wife_education": 2,
          "wife_religion": 1
         },
         {
          "contraceptive_method_used": 3,
          "standard_of_living_index": 4,
          "wife_age": 20,
          "wife_education": 3,
          "wife_religion": 0
         },
         {
          "contraceptive_method_used": 3,
          "standard_of_living_index": 2,
          "wife_age": 32,
          "wife_education": 3,
          "wife_religion": 1
         },
         {
          "contraceptive_method_used": 3,
          "standard_of_living_index": 4,
          "wife_age": 41,
          "wife_education": 4,
          "wife_religion": 1
         },
         {
          "contraceptive_method_used": 3,
          "standard_of_living_index": 4,
          "wife_age": 31,
          "wife_education": 4,
          "wife_religion": 0
         },
         {
          "contraceptive_method_used": 1,
          "standard_of_living_index": 2,
          "wife_age": 25,
          "wife_education": 1,
          "wife_religion": 1
         },
         {
          "contraceptive_method_used": 2,
          "standard_of_living_index": 3,
          "wife_age": 24,
          "wife_education": 4,
          "wife_religion": 1
         },
         {
          "contraceptive_method_used": 1,
          "standard_of_living_index": 3,
          "wife_age": 33,
          "wife_education": 4,
          "wife_religion": 0
         },
         {
          "contraceptive_method_used": 3,
          "standard_of_living_index": 4,
          "wife_age": 22,
          "wife_education": 3,
          "wife_religion": 1
         },
         {
          "contraceptive_method_used": 1,
          "standard_of_living_index": 4,
          "wife_age": 24,
          "wife_education": 2,
          "wife_religion": 1
         },
         {
          "contraceptive_method_used": 2,
          "standard_of_living_index": 3,
          "wife_age": 27,
          "wife_education": 4,
          "wife_religion": 1
         },
         {
          "contraceptive_method_used": 3,
          "standard_of_living_index": 3,
          "wife_age": 21,
          "wife_education": 4,
          "wife_religion": 1
         },
         {
          "contraceptive_method_used": 3,
          "standard_of_living_index": 4,
          "wife_age": 31,
          "wife_education": 4,
          "wife_religion": 1
         },
         {
          "contraceptive_method_used": 2,
          "standard_of_living_index": 4,
          "wife_age": 32,
          "wife_education": 4,
          "wife_religion": 0
         },
         {
          "contraceptive_method_used": 2,
          "standard_of_living_index": 1,
          "wife_age": 36,
          "wife_education": 2,
          "wife_religion": 1
         },
         {
          "contraceptive_method_used": 1,
          "standard_of_living_index": 3,
          "wife_age": 33,
          "wife_education": 4,
          "wife_religion": 1
         },
         {
          "contraceptive_method_used": 1,
          "standard_of_living_index": 3,
          "wife_age": 42,
          "wife_education": 1,
          "wife_religion": 1
         },
         {
          "contraceptive_method_used": 3,
          "standard_of_living_index": 3,
          "wife_age": 21,
          "wife_education": 3,
          "wife_religion": 1
         },
         {
          "contraceptive_method_used": 1,
          "standard_of_living_index": 2,
          "wife_age": 47,
          "wife_education": 1,
          "wife_religion": 1
         },
         {
          "contraceptive_method_used": 1,
          "standard_of_living_index": 2,
          "wife_age": 32,
          "wife_education": 2,
          "wife_religion": 1
         },
         {
          "contraceptive_method_used": 2,
          "standard_of_living_index": 4,
          "wife_age": 36,
          "wife_education": 4,
          "wife_religion": 1
         },
         {
          "contraceptive_method_used": 3,
          "standard_of_living_index": 4,
          "wife_age": 43,
          "wife_education": 4,
          "wife_religion": 1
         },
         {
          "contraceptive_method_used": 1,
          "standard_of_living_index": 2,
          "wife_age": 30,
          "wife_education": 1,
          "wife_religion": 1
         },
         {
          "contraceptive_method_used": 3,
          "standard_of_living_index": 4,
          "wife_age": 42,
          "wife_education": 2,
          "wife_religion": 1
         },
         {
          "contraceptive_method_used": 2,
          "standard_of_living_index": 4,
          "wife_age": 32,
          "wife_education": 4,
          "wife_religion": 1
         },
         {
          "contraceptive_method_used": 1,
          "standard_of_living_index": 2,
          "wife_age": 27,
          "wife_education": 2,
          "wife_religion": 1
         },
         {
          "contraceptive_method_used": 2,
          "standard_of_living_index": 2,
          "wife_age": 43,
          "wife_education": 3,
          "wife_religion": 1
         },
         {
          "contraceptive_method_used": 2,
          "standard_of_living_index": 4,
          "wife_age": 39,
          "wife_education": 4,
          "wife_religion": 0
         },
         {
          "contraceptive_method_used": 3,
          "standard_of_living_index": 4,
          "wife_age": 32,
          "wife_education": 4,
          "wife_religion": 1
         },
         {
          "contraceptive_method_used": 1,
          "standard_of_living_index": 2,
          "wife_age": 35,
          "wife_education": 1,
          "wife_religion": 1
         },
         {
          "contraceptive_method_used": 1,
          "standard_of_living_index": 2,
          "wife_age": 28,
          "wife_education": 2,
          "wife_religion": 1
         },
         {
          "contraceptive_method_used": 3,
          "standard_of_living_index": 4,
          "wife_age": 31,
          "wife_education": 3,
          "wife_religion": 1
         },
         {
          "contraceptive_method_used": 1,
          "standard_of_living_index": 2,
          "wife_age": 26,
          "wife_education": 3,
          "wife_religion": 1
         },
         {
          "contraceptive_method_used": 3,
          "standard_of_living_index": 1,
          "wife_age": 27,
          "wife_education": 2,
          "wife_religion": 1
         },
         {
          "contraceptive_method_used": 3,
          "standard_of_living_index": 2,
          "wife_age": 29,
          "wife_education": 3,
          "wife_religion": 1
         },
         {
          "contraceptive_method_used": 1,
          "standard_of_living_index": 2,
          "wife_age": 43,
          "wife_education": 1,
          "wife_religion": 1
         },
         {
          "contraceptive_method_used": 1,
          "standard_of_living_index": 4,
          "wife_age": 32,
          "wife_education": 3,
          "wife_religion": 1
         },
         {
          "contraceptive_method_used": 3,
          "standard_of_living_index": 1,
          "wife_age": 17,
          "wife_education": 3,
          "wife_religion": 1
         },
         {
          "contraceptive_method_used": 1,
          "standard_of_living_index": 4,
          "wife_age": 42,
          "wife_education": 2,
          "wife_religion": 1
         },
         {
          "contraceptive_method_used": 1,
          "standard_of_living_index": 4,
          "wife_age": 28,
          "wife_education": 4,
          "wife_religion": 1
         },
         {
          "contraceptive_method_used": 1,
          "standard_of_living_index": 3,
          "wife_age": 29,
          "wife_education": 4,
          "wife_religion": 1
         },
         {
          "contraceptive_method_used": 2,
          "standard_of_living_index": 3,
          "wife_age": 32,
          "wife_education": 3,
          "wife_religion": 1
         },
         {
          "contraceptive_method_used": 2,
          "standard_of_living_index": 3,
          "wife_age": 26,
          "wife_education": 3,
          "wife_religion": 1
         },
         {
          "contraceptive_method_used": 3,
          "standard_of_living_index": 4,
          "wife_age": 37,
          "wife_education": 3,
          "wife_religion": 1
         },
         {
          "contraceptive_method_used": 1,
          "standard_of_living_index": 2,
          "wife_age": 20,
          "wife_education": 3,
          "wife_religion": 1
         },
         {
          "contraceptive_method_used": 3,
          "standard_of_living_index": 2,
          "wife_age": 29,
          "wife_education": 3,
          "wife_religion": 1
         },
         {
          "contraceptive_method_used": 1,
          "standard_of_living_index": 4,
          "wife_age": 40,
          "wife_education": 4,
          "wife_religion": 1
         },
         {
          "contraceptive_method_used": 3,
          "standard_of_living_index": 4,
          "wife_age": 35,
          "wife_education": 3,
          "wife_religion": 1
         },
         {
          "contraceptive_method_used": 3,
          "standard_of_living_index": 4,
          "wife_age": 37,
          "wife_education": 3,
          "wife_religion": 0
         },
         {
          "contraceptive_method_used": 2,
          "standard_of_living_index": 3,
          "wife_age": 41,
          "wife_education": 4,
          "wife_religion": 1
         },
         {
          "contraceptive_method_used": 2,
          "standard_of_living_index": 4,
          "wife_age": 26,
          "wife_education": 4,
          "wife_religion": 0
         },
         {
          "contraceptive_method_used": 1,
          "standard_of_living_index": 4,
          "wife_age": 29,
          "wife_education": 1,
          "wife_religion": 1
         },
         {
          "contraceptive_method_used": 3,
          "standard_of_living_index": 4,
          "wife_age": 32,
          "wife_education": 4,
          "wife_religion": 0
         },
         {
          "contraceptive_method_used": 3,
          "standard_of_living_index": 4,
          "wife_age": 24,
          "wife_education": 2,
          "wife_religion": 1
         },
         {
          "contraceptive_method_used": 2,
          "standard_of_living_index": 4,
          "wife_age": 42,
          "wife_education": 4,
          "wife_religion": 1
         },
         {
          "contraceptive_method_used": 3,
          "standard_of_living_index": 4,
          "wife_age": 30,
          "wife_education": 4,
          "wife_religion": 0
         },
         {
          "contraceptive_method_used": 1,
          "standard_of_living_index": 4,
          "wife_age": 39,
          "wife_education": 3,
          "wife_religion": 1
         },
         {
          "contraceptive_method_used": 1,
          "standard_of_living_index": 4,
          "wife_age": 26,
          "wife_education": 4,
          "wife_religion": 1
         },
         {
          "contraceptive_method_used": 3,
          "standard_of_living_index": 2,
          "wife_age": 34,
          "wife_education": 2,
          "wife_religion": 0
         },
         {
          "contraceptive_method_used": 3,
          "standard_of_living_index": 3,
          "wife_age": 27,
          "wife_education": 3,
          "wife_religion": 1
         },
         {
          "contraceptive_method_used": 3,
          "standard_of_living_index": 1,
          "wife_age": 29,
          "wife_education": 3,
          "wife_religion": 1
         },
         {
          "contraceptive_method_used": 1,
          "standard_of_living_index": 4,
          "wife_age": 29,
          "wife_education": 2,
          "wife_religion": 1
         },
         {
          "contraceptive_method_used": 1,
          "standard_of_living_index": 3,
          "wife_age": 28,
          "wife_education": 4,
          "wife_religion": 0
         },
         {
          "contraceptive_method_used": 1,
          "standard_of_living_index": 1,
          "wife_age": 29,
          "wife_education": 2,
          "wife_religion": 1
         },
         {
          "contraceptive_method_used": 2,
          "standard_of_living_index": 3,
          "wife_age": 31,
          "wife_education": 4,
          "wife_religion": 1
         },
         {
          "contraceptive_method_used": 3,
          "standard_of_living_index": 4,
          "wife_age": 35,
          "wife_education": 4,
          "wife_religion": 0
         },
         {
          "contraceptive_method_used": 3,
          "standard_of_living_index": 4,
          "wife_age": 22,
          "wife_education": 3,
          "wife_religion": 0
         },
         {
          "contraceptive_method_used": 2,
          "standard_of_living_index": 4,
          "wife_age": 28,
          "wife_education": 3,
          "wife_religion": 1
         },
         {
          "contraceptive_method_used": 3,
          "standard_of_living_index": 3,
          "wife_age": 21,
          "wife_education": 4,
          "wife_religion": 1
         },
         {
          "contraceptive_method_used": 3,
          "standard_of_living_index": 4,
          "wife_age": 30,
          "wife_education": 3,
          "wife_religion": 1
         },
         {
          "contraceptive_method_used": 3,
          "standard_of_living_index": 1,
          "wife_age": 19,
          "wife_education": 3,
          "wife_religion": 1
         },
         {
          "contraceptive_method_used": 1,
          "standard_of_living_index": 1,
          "wife_age": 27,
          "wife_education": 2,
          "wife_religion": 1
         },
         {
          "contraceptive_method_used": 1,
          "standard_of_living_index": 4,
          "wife_age": 31,
          "wife_education": 3,
          "wife_religion": 0
         },
         {
          "contraceptive_method_used": 1,
          "standard_of_living_index": 4,
          "wife_age": 37,
          "wife_education": 1,
          "wife_religion": 1
         },
         {
          "contraceptive_method_used": 1,
          "standard_of_living_index": 4,
          "wife_age": 32,
          "wife_education": 3,
          "wife_religion": 1
         },
         {
          "contraceptive_method_used": 2,
          "standard_of_living_index": 4,
          "wife_age": 26,
          "wife_education": 4,
          "wife_religion": 1
         },
         {
          "contraceptive_method_used": 1,
          "standard_of_living_index": 2,
          "wife_age": 42,
          "wife_education": 3,
          "wife_religion": 1
         },
         {
          "contraceptive_method_used": 1,
          "standard_of_living_index": 1,
          "wife_age": 26,
          "wife_education": 2,
          "wife_religion": 1
         },
         {
          "contraceptive_method_used": 1,
          "standard_of_living_index": 1,
          "wife_age": 46,
          "wife_education": 1,
          "wife_religion": 1
         },
         {
          "contraceptive_method_used": 3,
          "standard_of_living_index": 4,
          "wife_age": 36,
          "wife_education": 4,
          "wife_religion": 0
         },
         {
          "contraceptive_method_used": 1,
          "standard_of_living_index": 4,
          "wife_age": 27,
          "wife_education": 1,
          "wife_religion": 1
         },
         {
          "contraceptive_method_used": 1,
          "standard_of_living_index": 2,
          "wife_age": 45,
          "wife_education": 1,
          "wife_religion": 1
         },
         {
          "contraceptive_method_used": 3,
          "standard_of_living_index": 4,
          "wife_age": 33,
          "wife_education": 2,
          "wife_religion": 1
         },
         {
          "contraceptive_method_used": 3,
          "standard_of_living_index": 1,
          "wife_age": 25,
          "wife_education": 2,
          "wife_religion": 1
         },
         {
          "contraceptive_method_used": 1,
          "standard_of_living_index": 1,
          "wife_age": 30,
          "wife_education": 1,
          "wife_religion": 1
         },
         {
          "contraceptive_method_used": 1,
          "standard_of_living_index": 2,
          "wife_age": 17,
          "wife_education": 2,
          "wife_religion": 1
         },
         {
          "contraceptive_method_used": 1,
          "standard_of_living_index": 3,
          "wife_age": 22,
          "wife_education": 4,
          "wife_religion": 1
         },
         {
          "contraceptive_method_used": 1,
          "standard_of_living_index": 4,
          "wife_age": 21,
          "wife_education": 4,
          "wife_religion": 1
         },
         {
          "contraceptive_method_used": 1,
          "standard_of_living_index": 4,
          "wife_age": 33,
          "wife_education": 4,
          "wife_religion": 0
         },
         {
          "contraceptive_method_used": 2,
          "standard_of_living_index": 4,
          "wife_age": 21,
          "wife_education": 3,
          "wife_religion": 1
         },
         {
          "contraceptive_method_used": 1,
          "standard_of_living_index": 4,
          "wife_age": 21,
          "wife_education": 4,
          "wife_religion": 1
         },
         {
          "contraceptive_method_used": 1,
          "standard_of_living_index": 3,
          "wife_age": 22,
          "wife_education": 2,
          "wife_religion": 1
         },
         {
          "contraceptive_method_used": 3,
          "standard_of_living_index": 4,
          "wife_age": 26,
          "wife_education": 3,
          "wife_religion": 1
         },
         {
          "contraceptive_method_used": 1,
          "standard_of_living_index": 1,
          "wife_age": 22,
          "wife_education": 4,
          "wife_religion": 1
         },
         {
          "contraceptive_method_used": 1,
          "standard_of_living_index": 3,
          "wife_age": 34,
          "wife_education": 4,
          "wife_religion": 1
         },
         {
          "contraceptive_method_used": 3,
          "standard_of_living_index": 4,
          "wife_age": 27,
          "wife_education": 4,
          "wife_religion": 1
         },
         {
          "contraceptive_method_used": 2,
          "standard_of_living_index": 4,
          "wife_age": 29,
          "wife_education": 4,
          "wife_religion": 1
         },
         {
          "contraceptive_method_used": 2,
          "standard_of_living_index": 3,
          "wife_age": 35,
          "wife_education": 3,
          "wife_religion": 1
         },
         {
          "contraceptive_method_used": 1,
          "standard_of_living_index": 4,
          "wife_age": 29,
          "wife_education": 3,
          "wife_religion": 1
         },
         {
          "contraceptive_method_used": 1,
          "standard_of_living_index": 3,
          "wife_age": 23,
          "wife_education": 4,
          "wife_religion": 1
         },
         {
          "contraceptive_method_used": 2,
          "standard_of_living_index": 3,
          "wife_age": 35,
          "wife_education": 3,
          "wife_religion": 1
         },
         {
          "contraceptive_method_used": 3,
          "standard_of_living_index": 4,
          "wife_age": 32,
          "wife_education": 4,
          "wife_religion": 1
         },
         {
          "contraceptive_method_used": 1,
          "standard_of_living_index": 2,
          "wife_age": 25,
          "wife_education": 3,
          "wife_religion": 1
         },
         {
          "contraceptive_method_used": 1,
          "standard_of_living_index": 2,
          "wife_age": 25,
          "wife_education": 2,
          "wife_religion": 1
         },
         {
          "contraceptive_method_used": 3,
          "standard_of_living_index": 4,
          "wife_age": 33,
          "wife_education": 2,
          "wife_religion": 1
         },
         {
          "contraceptive_method_used": 2,
          "standard_of_living_index": 4,
          "wife_age": 30,
          "wife_education": 2,
          "wife_religion": 1
         },
         {
          "contraceptive_method_used": 2,
          "standard_of_living_index": 3,
          "wife_age": 28,
          "wife_education": 2,
          "wife_religion": 1
         },
         {
          "contraceptive_method_used": 2,
          "standard_of_living_index": 3,
          "wife_age": 29,
          "wife_education": 4,
          "wife_religion": 1
         },
         {
          "contraceptive_method_used": 1,
          "standard_of_living_index": 3,
          "wife_age": 21,
          "wife_education": 4,
          "wife_religion": 1
         },
         {
          "contraceptive_method_used": 1,
          "standard_of_living_index": 1,
          "wife_age": 25,
          "wife_education": 2,
          "wife_religion": 1
         },
         {
          "contraceptive_method_used": 2,
          "standard_of_living_index": 3,
          "wife_age": 42,
          "wife_education": 4,
          "wife_religion": 1
         },
         {
          "contraceptive_method_used": 1,
          "standard_of_living_index": 3,
          "wife_age": 44,
          "wife_education": 1,
          "wife_religion": 1
         },
         {
          "contraceptive_method_used": 1,
          "standard_of_living_index": 3,
          "wife_age": 47,
          "wife_education": 1,
          "wife_religion": 1
         },
         {
          "contraceptive_method_used": 1,
          "standard_of_living_index": 1,
          "wife_age": 37,
          "wife_education": 3,
          "wife_religion": 1
         },
         {
          "contraceptive_method_used": 3,
          "standard_of_living_index": 3,
          "wife_age": 27,
          "wife_education": 3,
          "wife_religion": 1
         },
         {
          "contraceptive_method_used": 1,
          "standard_of_living_index": 4,
          "wife_age": 47,
          "wife_education": 1,
          "wife_religion": 1
         },
         {
          "contraceptive_method_used": 3,
          "standard_of_living_index": 3,
          "wife_age": 25,
          "wife_education": 4,
          "wife_religion": 1
         },
         {
          "contraceptive_method_used": 2,
          "standard_of_living_index": 4,
          "wife_age": 36,
          "wife_education": 4,
          "wife_religion": 1
         },
         {
          "contraceptive_method_used": 1,
          "standard_of_living_index": 4,
          "wife_age": 19,
          "wife_education": 4,
          "wife_religion": 0
         },
         {
          "contraceptive_method_used": 1,
          "standard_of_living_index": 4,
          "wife_age": 46,
          "wife_education": 4,
          "wife_religion": 1
         },
         {
          "contraceptive_method_used": 1,
          "standard_of_living_index": 1,
          "wife_age": 24,
          "wife_education": 3,
          "wife_religion": 1
         },
         {
          "contraceptive_method_used": 3,
          "standard_of_living_index": 4,
          "wife_age": 25,
          "wife_education": 2,
          "wife_religion": 1
         },
         {
          "contraceptive_method_used": 3,
          "standard_of_living_index": 4,
          "wife_age": 33,
          "wife_education": 4,
          "wife_religion": 1
         },
         {
          "contraceptive_method_used": 3,
          "standard_of_living_index": 4,
          "wife_age": 28,
          "wife_education": 2,
          "wife_religion": 1
         },
         {
          "contraceptive_method_used": 3,
          "standard_of_living_index": 2,
          "wife_age": 32,
          "wife_education": 1,
          "wife_religion": 1
         },
         {
          "contraceptive_method_used": 3,
          "standard_of_living_index": 4,
          "wife_age": 20,
          "wife_education": 3,
          "wife_religion": 1
         },
         {
          "contraceptive_method_used": 1,
          "standard_of_living_index": 4,
          "wife_age": 32,
          "wife_education": 4,
          "wife_religion": 1
         },
         {
          "contraceptive_method_used": 1,
          "standard_of_living_index": 3,
          "wife_age": 21,
          "wife_education": 3,
          "wife_religion": 1
         },
         {
          "contraceptive_method_used": 3,
          "standard_of_living_index": 4,
          "wife_age": 31,
          "wife_education": 4,
          "wife_religion": 1
         },
         {
          "contraceptive_method_used": 2,
          "standard_of_living_index": 3,
          "wife_age": 28,
          "wife_education": 3,
          "wife_religion": 0
         },
         {
          "contraceptive_method_used": 3,
          "standard_of_living_index": 2,
          "wife_age": 30,
          "wife_education": 2,
          "wife_religion": 1
         },
         {
          "contraceptive_method_used": 3,
          "standard_of_living_index": 3,
          "wife_age": 24,
          "wife_education": 2,
          "wife_religion": 1
         },
         {
          "contraceptive_method_used": 1,
          "standard_of_living_index": 3,
          "wife_age": 40,
          "wife_education": 3,
          "wife_religion": 1
         },
         {
          "contraceptive_method_used": 1,
          "standard_of_living_index": 2,
          "wife_age": 21,
          "wife_education": 1,
          "wife_religion": 1
         },
         {
          "contraceptive_method_used": 1,
          "standard_of_living_index": 3,
          "wife_age": 47,
          "wife_education": 2,
          "wife_religion": 1
         },
         {
          "contraceptive_method_used": 3,
          "standard_of_living_index": 2,
          "wife_age": 35,
          "wife_education": 2,
          "wife_religion": 1
         },
         {
          "contraceptive_method_used": 3,
          "standard_of_living_index": 2,
          "wife_age": 40,
          "wife_education": 3,
          "wife_religion": 1
         },
         {
          "contraceptive_method_used": 3,
          "standard_of_living_index": 3,
          "wife_age": 36,
          "wife_education": 2,
          "wife_religion": 1
         },
         {
          "contraceptive_method_used": 1,
          "standard_of_living_index": 4,
          "wife_age": 37,
          "wife_education": 2,
          "wife_religion": 0
         },
         {
          "contraceptive_method_used": 3,
          "standard_of_living_index": 4,
          "wife_age": 46,
          "wife_education": 4,
          "wife_religion": 1
         },
         {
          "contraceptive_method_used": 2,
          "standard_of_living_index": 4,
          "wife_age": 49,
          "wife_education": 3,
          "wife_religion": 1
         },
         {
          "contraceptive_method_used": 2,
          "standard_of_living_index": 2,
          "wife_age": 36,
          "wife_education": 3,
          "wife_religion": 1
         },
         {
          "contraceptive_method_used": 3,
          "standard_of_living_index": 3,
          "wife_age": 47,
          "wife_education": 1,
          "wife_religion": 1
         },
         {
          "contraceptive_method_used": 1,
          "standard_of_living_index": 1,
          "wife_age": 47,
          "wife_education": 2,
          "wife_religion": 1
         },
         {
          "contraceptive_method_used": 1,
          "standard_of_living_index": 3,
          "wife_age": 31,
          "wife_education": 3,
          "wife_religion": 1
         },
         {
          "contraceptive_method_used": 3,
          "standard_of_living_index": 3,
          "wife_age": 25,
          "wife_education": 3,
          "wife_religion": 1
         },
         {
          "contraceptive_method_used": 3,
          "standard_of_living_index": 2,
          "wife_age": 35,
          "wife_education": 2,
          "wife_religion": 1
         },
         {
          "contraceptive_method_used": 1,
          "standard_of_living_index": 3,
          "wife_age": 35,
          "wife_education": 4,
          "wife_religion": 1
         },
         {
          "contraceptive_method_used": 3,
          "standard_of_living_index": 1,
          "wife_age": 21,
          "wife_education": 3,
          "wife_religion": 1
         },
         {
          "contraceptive_method_used": 1,
          "standard_of_living_index": 3,
          "wife_age": 38,
          "wife_education": 2,
          "wife_religion": 1
         },
         {
          "contraceptive_method_used": 3,
          "standard_of_living_index": 4,
          "wife_age": 37,
          "wife_education": 4,
          "wife_religion": 1
         },
         {
          "contraceptive_method_used": 1,
          "standard_of_living_index": 4,
          "wife_age": 36,
          "wife_education": 4,
          "wife_religion": 1
         },
         {
          "contraceptive_method_used": 3,
          "standard_of_living_index": 4,
          "wife_age": 33,
          "wife_education": 3,
          "wife_religion": 1
         },
         {
          "contraceptive_method_used": 3,
          "standard_of_living_index": 4,
          "wife_age": 33,
          "wife_education": 4,
          "wife_religion": 1
         },
         {
          "contraceptive_method_used": 2,
          "standard_of_living_index": 4,
          "wife_age": 38,
          "wife_education": 4,
          "wife_religion": 1
         },
         {
          "contraceptive_method_used": 2,
          "standard_of_living_index": 4,
          "wife_age": 36,
          "wife_education": 4,
          "wife_religion": 0
         },
         {
          "contraceptive_method_used": 1,
          "standard_of_living_index": 1,
          "wife_age": 22,
          "wife_education": 2,
          "wife_religion": 1
         },
         {
          "contraceptive_method_used": 3,
          "standard_of_living_index": 2,
          "wife_age": 27,
          "wife_education": 3,
          "wife_religion": 1
         },
         {
          "contraceptive_method_used": 1,
          "standard_of_living_index": 3,
          "wife_age": 19,
          "wife_education": 4,
          "wife_religion": 1
         },
         {
          "contraceptive_method_used": 1,
          "standard_of_living_index": 4,
          "wife_age": 28,
          "wife_education": 4,
          "wife_religion": 0
         },
         {
          "contraceptive_method_used": 3,
          "standard_of_living_index": 4,
          "wife_age": 33,
          "wife_education": 4,
          "wife_religion": 1
         },
         {
          "contraceptive_method_used": 1,
          "standard_of_living_index": 3,
          "wife_age": 34,
          "wife_education": 3,
          "wife_religion": 1
         },
         {
          "contraceptive_method_used": 3,
          "standard_of_living_index": 3,
          "wife_age": 33,
          "wife_education": 2,
          "wife_religion": 1
         },
         {
          "contraceptive_method_used": 3,
          "standard_of_living_index": 4,
          "wife_age": 40,
          "wife_education": 4,
          "wife_religion": 1
         },
         {
          "contraceptive_method_used": 2,
          "standard_of_living_index": 4,
          "wife_age": 38,
          "wife_education": 4,
          "wife_religion": 0
         },
         {
          "contraceptive_method_used": 3,
          "standard_of_living_index": 3,
          "wife_age": 20,
          "wife_education": 3,
          "wife_religion": 1
         },
         {
          "contraceptive_method_used": 1,
          "standard_of_living_index": 2,
          "wife_age": 36,
          "wife_education": 3,
          "wife_religion": 1
         },
         {
          "contraceptive_method_used": 1,
          "standard_of_living_index": 4,
          "wife_age": 39,
          "wife_education": 4,
          "wife_religion": 1
         },
         {
          "contraceptive_method_used": 1,
          "standard_of_living_index": 2,
          "wife_age": 29,
          "wife_education": 4,
          "wife_religion": 1
         },
         {
          "contraceptive_method_used": 1,
          "standard_of_living_index": 4,
          "wife_age": 28,
          "wife_education": 4,
          "wife_religion": 0
         },
         {
          "contraceptive_method_used": 1,
          "standard_of_living_index": 4,
          "wife_age": 26,
          "wife_education": 4,
          "wife_religion": 1
         },
         {
          "contraceptive_method_used": 1,
          "standard_of_living_index": 3,
          "wife_age": 49,
          "wife_education": 2,
          "wife_religion": 0
         },
         {
          "contraceptive_method_used": 3,
          "standard_of_living_index": 4,
          "wife_age": 29,
          "wife_education": 4,
          "wife_religion": 1
         },
         {
          "contraceptive_method_used": 1,
          "standard_of_living_index": 1,
          "wife_age": 46,
          "wife_education": 1,
          "wife_religion": 1
         },
         {
          "contraceptive_method_used": 2,
          "standard_of_living_index": 4,
          "wife_age": 38,
          "wife_education": 4,
          "wife_religion": 1
         },
         {
          "contraceptive_method_used": 1,
          "standard_of_living_index": 4,
          "wife_age": 29,
          "wife_education": 4,
          "wife_religion": 1
         },
         {
          "contraceptive_method_used": 3,
          "standard_of_living_index": 3,
          "wife_age": 19,
          "wife_education": 2,
          "wife_religion": 1
         },
         {
          "contraceptive_method_used": 3,
          "standard_of_living_index": 3,
          "wife_age": 25,
          "wife_education": 3,
          "wife_religion": 1
         },
         {
          "contraceptive_method_used": 1,
          "standard_of_living_index": 3,
          "wife_age": 22,
          "wife_education": 3,
          "wife_religion": 1
         },
         {
          "contraceptive_method_used": 3,
          "standard_of_living_index": 4,
          "wife_age": 46,
          "wife_education": 4,
          "wife_religion": 0
         },
         {
          "contraceptive_method_used": 3,
          "standard_of_living_index": 2,
          "wife_age": 29,
          "wife_education": 2,
          "wife_religion": 1
         },
         {
          "contraceptive_method_used": 1,
          "standard_of_living_index": 4,
          "wife_age": 32,
          "wife_education": 2,
          "wife_religion": 1
         },
         {
          "contraceptive_method_used": 3,
          "standard_of_living_index": 4,
          "wife_age": 46,
          "wife_education": 2,
          "wife_religion": 1
         },
         {
          "contraceptive_method_used": 2,
          "standard_of_living_index": 3,
          "wife_age": 34,
          "wife_education": 3,
          "wife_religion": 0
         },
         {
          "contraceptive_method_used": 1,
          "standard_of_living_index": 3,
          "wife_age": 45,
          "wife_education": 3,
          "wife_religion": 1
         },
         {
          "contraceptive_method_used": 1,
          "standard_of_living_index": 3,
          "wife_age": 27,
          "wife_education": 3,
          "wife_religion": 1
         },
         {
          "contraceptive_method_used": 1,
          "standard_of_living_index": 4,
          "wife_age": 49,
          "wife_education": 3,
          "wife_religion": 1
         },
         {
          "contraceptive_method_used": 1,
          "standard_of_living_index": 3,
          "wife_age": 34,
          "wife_education": 2,
          "wife_religion": 1
         },
         {
          "contraceptive_method_used": 2,
          "standard_of_living_index": 4,
          "wife_age": 37,
          "wife_education": 4,
          "wife_religion": 1
         },
         {
          "contraceptive_method_used": 1,
          "standard_of_living_index": 3,
          "wife_age": 39,
          "wife_education": 3,
          "wife_religion": 1
         },
         {
          "contraceptive_method_used": 1,
          "standard_of_living_index": 4,
          "wife_age": 44,
          "wife_education": 4,
          "wife_religion": 0
         },
         {
          "contraceptive_method_used": 1,
          "standard_of_living_index": 4,
          "wife_age": 47,
          "wife_education": 3,
          "wife_religion": 1
         },
         {
          "contraceptive_method_used": 1,
          "standard_of_living_index": 3,
          "wife_age": 36,
          "wife_education": 2,
          "wife_religion": 1
         },
         {
          "contraceptive_method_used": 1,
          "standard_of_living_index": 3,
          "wife_age": 44,
          "wife_education": 3,
          "wife_religion": 1
         },
         {
          "contraceptive_method_used": 3,
          "standard_of_living_index": 2,
          "wife_age": 34,
          "wife_education": 4,
          "wife_religion": 1
         },
         {
          "contraceptive_method_used": 1,
          "standard_of_living_index": 4,
          "wife_age": 22,
          "wife_education": 3,
          "wife_religion": 1
         },
         {
          "contraceptive_method_used": 1,
          "standard_of_living_index": 2,
          "wife_age": 20,
          "wife_education": 2,
          "wife_religion": 0
         },
         {
          "contraceptive_method_used": 2,
          "standard_of_living_index": 4,
          "wife_age": 48,
          "wife_education": 4,
          "wife_religion": 1
         },
         {
          "contraceptive_method_used": 1,
          "standard_of_living_index": 3,
          "wife_age": 38,
          "wife_education": 1,
          "wife_religion": 1
         },
         {
          "contraceptive_method_used": 2,
          "standard_of_living_index": 3,
          "wife_age": 26,
          "wife_education": 4,
          "wife_religion": 1
         },
         {
          "contraceptive_method_used": 1,
          "standard_of_living_index": 3,
          "wife_age": 20,
          "wife_education": 3,
          "wife_religion": 1
         },
         {
          "contraceptive_method_used": 2,
          "standard_of_living_index": 4,
          "wife_age": 41,
          "wife_education": 4,
          "wife_religion": 1
         },
         {
          "contraceptive_method_used": 1,
          "standard_of_living_index": 3,
          "wife_age": 44,
          "wife_education": 1,
          "wife_religion": 1
         },
         {
          "contraceptive_method_used": 1,
          "standard_of_living_index": 4,
          "wife_age": 37,
          "wife_education": 4,
          "wife_religion": 0
         },
         {
          "contraceptive_method_used": 3,
          "standard_of_living_index": 3,
          "wife_age": 27,
          "wife_education": 3,
          "wife_religion": 1
         },
         {
          "contraceptive_method_used": 1,
          "standard_of_living_index": 4,
          "wife_age": 22,
          "wife_education": 1,
          "wife_religion": 1
         },
         {
          "contraceptive_method_used": 3,
          "standard_of_living_index": 4,
          "wife_age": 35,
          "wife_education": 1,
          "wife_religion": 1
         },
         {
          "contraceptive_method_used": 3,
          "standard_of_living_index": 3,
          "wife_age": 48,
          "wife_education": 3,
          "wife_religion": 1
         },
         {
          "contraceptive_method_used": 1,
          "standard_of_living_index": 1,
          "wife_age": 27,
          "wife_education": 1,
          "wife_religion": 1
         },
         {
          "contraceptive_method_used": 1,
          "standard_of_living_index": 3,
          "wife_age": 27,
          "wife_education": 3,
          "wife_religion": 1
         },
         {
          "contraceptive_method_used": 3,
          "standard_of_living_index": 2,
          "wife_age": 27,
          "wife_education": 3,
          "wife_religion": 1
         },
         {
          "contraceptive_method_used": 1,
          "standard_of_living_index": 3,
          "wife_age": 43,
          "wife_education": 2,
          "wife_religion": 0
         },
         {
          "contraceptive_method_used": 3,
          "standard_of_living_index": 4,
          "wife_age": 30,
          "wife_education": 4,
          "wife_religion": 1
         },
         {
          "contraceptive_method_used": 3,
          "standard_of_living_index": 4,
          "wife_age": 29,
          "wife_education": 4,
          "wife_religion": 1
         },
         {
          "contraceptive_method_used": 3,
          "standard_of_living_index": 2,
          "wife_age": 30,
          "wife_education": 3,
          "wife_religion": 1
         },
         {
          "contraceptive_method_used": 2,
          "standard_of_living_index": 4,
          "wife_age": 42,
          "wife_education": 4,
          "wife_religion": 1
         },
         {
          "contraceptive_method_used": 1,
          "standard_of_living_index": 4,
          "wife_age": 25,
          "wife_education": 4,
          "wife_religion": 1
         },
         {
          "contraceptive_method_used": 1,
          "standard_of_living_index": 3,
          "wife_age": 23,
          "wife_education": 3,
          "wife_religion": 1
         },
         {
          "contraceptive_method_used": 2,
          "standard_of_living_index": 3,
          "wife_age": 22,
          "wife_education": 4,
          "wife_religion": 1
         },
         {
          "contraceptive_method_used": 3,
          "standard_of_living_index": 3,
          "wife_age": 33,
          "wife_education": 2,
          "wife_religion": 1
         },
         {
          "contraceptive_method_used": 2,
          "standard_of_living_index": 4,
          "wife_age": 27,
          "wife_education": 4,
          "wife_religion": 1
         },
         {
          "contraceptive_method_used": 2,
          "standard_of_living_index": 4,
          "wife_age": 39,
          "wife_education": 4,
          "wife_religion": 1
         },
         {
          "contraceptive_method_used": 1,
          "standard_of_living_index": 4,
          "wife_age": 30,
          "wife_education": 2,
          "wife_religion": 1
         },
         {
          "contraceptive_method_used": 1,
          "standard_of_living_index": 4,
          "wife_age": 42,
          "wife_education": 4,
          "wife_religion": 1
         },
         {
          "contraceptive_method_used": 2,
          "standard_of_living_index": 4,
          "wife_age": 17,
          "wife_education": 4,
          "wife_religion": 1
         },
         {
          "contraceptive_method_used": 1,
          "standard_of_living_index": 3,
          "wife_age": 24,
          "wife_education": 2,
          "wife_religion": 1
         },
         {
          "contraceptive_method_used": 3,
          "standard_of_living_index": 4,
          "wife_age": 41,
          "wife_education": 3,
          "wife_religion": 0
         },
         {
          "contraceptive_method_used": 1,
          "standard_of_living_index": 3,
          "wife_age": 45,
          "wife_education": 1,
          "wife_religion": 1
         },
         {
          "contraceptive_method_used": 1,
          "standard_of_living_index": 4,
          "wife_age": 38,
          "wife_education": 4,
          "wife_religion": 1
         },
         {
          "contraceptive_method_used": 2,
          "standard_of_living_index": 4,
          "wife_age": 42,
          "wife_education": 2,
          "wife_religion": 1
         },
         {
          "contraceptive_method_used": 2,
          "standard_of_living_index": 3,
          "wife_age": 23,
          "wife_education": 4,
          "wife_religion": 1
         },
         {
          "contraceptive_method_used": 3,
          "standard_of_living_index": 3,
          "wife_age": 21,
          "wife_education": 3,
          "wife_religion": 1
         },
         {
          "contraceptive_method_used": 3,
          "standard_of_living_index": 2,
          "wife_age": 25,
          "wife_education": 2,
          "wife_religion": 1
         },
         {
          "contraceptive_method_used": 3,
          "standard_of_living_index": 3,
          "wife_age": 25,
          "wife_education": 2,
          "wife_religion": 1
         },
         {
          "contraceptive_method_used": 1,
          "standard_of_living_index": 1,
          "wife_age": 44,
          "wife_education": 1,
          "wife_religion": 1
         },
         {
          "contraceptive_method_used": 3,
          "standard_of_living_index": 2,
          "wife_age": 23,
          "wife_education": 3,
          "wife_religion": 1
         },
         {
          "contraceptive_method_used": 3,
          "standard_of_living_index": 4,
          "wife_age": 44,
          "wife_education": 4,
          "wife_religion": 1
         },
         {
          "contraceptive_method_used": 1,
          "standard_of_living_index": 4,
          "wife_age": 25,
          "wife_education": 3,
          "wife_religion": 1
         },
         {
          "contraceptive_method_used": 3,
          "standard_of_living_index": 3,
          "wife_age": 30,
          "wife_education": 4,
          "wife_religion": 0
         },
         {
          "contraceptive_method_used": 1,
          "standard_of_living_index": 4,
          "wife_age": 35,
          "wife_education": 2,
          "wife_religion": 1
         },
         {
          "contraceptive_method_used": 3,
          "standard_of_living_index": 4,
          "wife_age": 36,
          "wife_education": 4,
          "wife_religion": 0
         },
         {
          "contraceptive_method_used": 1,
          "standard_of_living_index": 4,
          "wife_age": 46,
          "wife_education": 2,
          "wife_religion": 1
         },
         {
          "contraceptive_method_used": 1,
          "standard_of_living_index": 4,
          "wife_age": 47,
          "wife_education": 4,
          "wife_religion": 1
         },
         {
          "contraceptive_method_used": 1,
          "standard_of_living_index": 1,
          "wife_age": 25,
          "wife_education": 3,
          "wife_religion": 1
         },
         {
          "contraceptive_method_used": 1,
          "standard_of_living_index": 3,
          "wife_age": 21,
          "wife_education": 3,
          "wife_religion": 1
         },
         {
          "contraceptive_method_used": 3,
          "standard_of_living_index": 2,
          "wife_age": 26,
          "wife_education": 1,
          "wife_religion": 1
         },
         {
          "contraceptive_method_used": 1,
          "standard_of_living_index": 3,
          "wife_age": 28,
          "wife_education": 4,
          "wife_religion": 0
         },
         {
          "contraceptive_method_used": 1,
          "standard_of_living_index": 2,
          "wife_age": 21,
          "wife_education": 2,
          "wife_religion": 1
         },
         {
          "contraceptive_method_used": 3,
          "standard_of_living_index": 2,
          "wife_age": 20,
          "wife_education": 3,
          "wife_religion": 1
         },
         {
          "contraceptive_method_used": 3,
          "standard_of_living_index": 4,
          "wife_age": 35,
          "wife_education": 3,
          "wife_religion": 1
         },
         {
          "contraceptive_method_used": 1,
          "standard_of_living_index": 4,
          "wife_age": 43,
          "wife_education": 4,
          "wife_religion": 1
         },
         {
          "contraceptive_method_used": 3,
          "standard_of_living_index": 3,
          "wife_age": 27,
          "wife_education": 4,
          "wife_religion": 0
         },
         {
          "contraceptive_method_used": 1,
          "standard_of_living_index": 4,
          "wife_age": 35,
          "wife_education": 4,
          "wife_religion": 0
         },
         {
          "contraceptive_method_used": 3,
          "standard_of_living_index": 4,
          "wife_age": 31,
          "wife_education": 4,
          "wife_religion": 1
         },
         {
          "contraceptive_method_used": 1,
          "standard_of_living_index": 3,
          "wife_age": 44,
          "wife_education": 3,
          "wife_religion": 1
         },
         {
          "contraceptive_method_used": 2,
          "standard_of_living_index": 3,
          "wife_age": 28,
          "wife_education": 4,
          "wife_religion": 1
         },
         {
          "contraceptive_method_used": 1,
          "standard_of_living_index": 2,
          "wife_age": 37,
          "wife_education": 2,
          "wife_religion": 1
         },
         {
          "contraceptive_method_used": 3,
          "standard_of_living_index": 3,
          "wife_age": 39,
          "wife_education": 3,
          "wife_religion": 1
         },
         {
          "contraceptive_method_used": 2,
          "standard_of_living_index": 4,
          "wife_age": 44,
          "wife_education": 4,
          "wife_religion": 1
         },
         {
          "contraceptive_method_used": 3,
          "standard_of_living_index": 3,
          "wife_age": 43,
          "wife_education": 3,
          "wife_religion": 1
         },
         {
          "contraceptive_method_used": 3,
          "standard_of_living_index": 4,
          "wife_age": 33,
          "wife_education": 4,
          "wife_religion": 1
         },
         {
          "contraceptive_method_used": 2,
          "standard_of_living_index": 2,
          "wife_age": 34,
          "wife_education": 4,
          "wife_religion": 0
         },
         {
          "contraceptive_method_used": 1,
          "standard_of_living_index": 4,
          "wife_age": 22,
          "wife_education": 2,
          "wife_religion": 1
         },
         {
          "contraceptive_method_used": 1,
          "standard_of_living_index": 1,
          "wife_age": 47,
          "wife_education": 1,
          "wife_religion": 1
         },
         {
          "contraceptive_method_used": 2,
          "standard_of_living_index": 4,
          "wife_age": 34,
          "wife_education": 4,
          "wife_religion": 1
         },
         {
          "contraceptive_method_used": 1,
          "standard_of_living_index": 3,
          "wife_age": 21,
          "wife_education": 3,
          "wife_religion": 1
         },
         {
          "contraceptive_method_used": 1,
          "standard_of_living_index": 2,
          "wife_age": 49,
          "wife_education": 4,
          "wife_religion": 1
         },
         {
          "contraceptive_method_used": 1,
          "standard_of_living_index": 3,
          "wife_age": 29,
          "wife_education": 3,
          "wife_religion": 1
         },
         {
          "contraceptive_method_used": 1,
          "standard_of_living_index": 4,
          "wife_age": 22,
          "wife_education": 4,
          "wife_religion": 1
         },
         {
          "contraceptive_method_used": 2,
          "standard_of_living_index": 4,
          "wife_age": 37,
          "wife_education": 4,
          "wife_religion": 1
         },
         {
          "contraceptive_method_used": 2,
          "standard_of_living_index": 1,
          "wife_age": 21,
          "wife_education": 4,
          "wife_religion": 1
         },
         {
          "contraceptive_method_used": 2,
          "standard_of_living_index": 4,
          "wife_age": 43,
          "wife_education": 1,
          "wife_religion": 1
         },
         {
          "contraceptive_method_used": 1,
          "standard_of_living_index": 3,
          "wife_age": 27,
          "wife_education": 3,
          "wife_religion": 1
         },
         {
          "contraceptive_method_used": 3,
          "standard_of_living_index": 3,
          "wife_age": 21,
          "wife_education": 3,
          "wife_religion": 1
         },
         {
          "contraceptive_method_used": 2,
          "standard_of_living_index": 4,
          "wife_age": 23,
          "wife_education": 4,
          "wife_religion": 1
         },
         {
          "contraceptive_method_used": 3,
          "standard_of_living_index": 3,
          "wife_age": 32,
          "wife_education": 4,
          "wife_religion": 1
         },
         {
          "contraceptive_method_used": 1,
          "standard_of_living_index": 3,
          "wife_age": 45,
          "wife_education": 1,
          "wife_religion": 1
         },
         {
          "contraceptive_method_used": 1,
          "standard_of_living_index": 3,
          "wife_age": 42,
          "wife_education": 1,
          "wife_religion": 1
         },
         {
          "contraceptive_method_used": 3,
          "standard_of_living_index": 1,
          "wife_age": 24,
          "wife_education": 3,
          "wife_religion": 1
         },
         {
          "contraceptive_method_used": 3,
          "standard_of_living_index": 4,
          "wife_age": 34,
          "wife_education": 4,
          "wife_religion": 0
         },
         {
          "contraceptive_method_used": 1,
          "standard_of_living_index": 3,
          "wife_age": 45,
          "wife_education": 1,
          "wife_religion": 1
         },
         {
          "contraceptive_method_used": 3,
          "standard_of_living_index": 4,
          "wife_age": 26,
          "wife_education": 4,
          "wife_religion": 1
         },
         {
          "contraceptive_method_used": 1,
          "standard_of_living_index": 4,
          "wife_age": 16,
          "wife_education": 2,
          "wife_religion": 1
         },
         {
          "contraceptive_method_used": 1,
          "standard_of_living_index": 4,
          "wife_age": 38,
          "wife_education": 4,
          "wife_religion": 1
         },
         {
          "contraceptive_method_used": 3,
          "standard_of_living_index": 4,
          "wife_age": 28,
          "wife_education": 4,
          "wife_religion": 0
         },
         {
          "contraceptive_method_used": 2,
          "standard_of_living_index": 4,
          "wife_age": 45,
          "wife_education": 3,
          "wife_religion": 1
         },
         {
          "contraceptive_method_used": 1,
          "standard_of_living_index": 1,
          "wife_age": 33,
          "wife_education": 1,
          "wife_religion": 1
         },
         {
          "contraceptive_method_used": 1,
          "standard_of_living_index": 3,
          "wife_age": 41,
          "wife_education": 1,
          "wife_religion": 1
         },
         {
          "contraceptive_method_used": 3,
          "standard_of_living_index": 2,
          "wife_age": 21,
          "wife_education": 2,
          "wife_religion": 1
         },
         {
          "contraceptive_method_used": 3,
          "standard_of_living_index": 1,
          "wife_age": 21,
          "wife_education": 3,
          "wife_religion": 1
         },
         {
          "contraceptive_method_used": 1,
          "standard_of_living_index": 4,
          "wife_age": 22,
          "wife_education": 2,
          "wife_religion": 1
         },
         {
          "contraceptive_method_used": 1,
          "standard_of_living_index": 4,
          "wife_age": 45,
          "wife_education": 4,
          "wife_religion": 1
         },
         {
          "contraceptive_method_used": 3,
          "standard_of_living_index": 4,
          "wife_age": 31,
          "wife_education": 4,
          "wife_religion": 1
         },
         {
          "contraceptive_method_used": 3,
          "standard_of_living_index": 2,
          "wife_age": 33,
          "wife_education": 3,
          "wife_religion": 1
         },
         {
          "contraceptive_method_used": 1,
          "standard_of_living_index": 3,
          "wife_age": 46,
          "wife_education": 1,
          "wife_religion": 1
         },
         {
          "contraceptive_method_used": 1,
          "standard_of_living_index": 2,
          "wife_age": 48,
          "wife_education": 1,
          "wife_religion": 1
         },
         {
          "contraceptive_method_used": 1,
          "standard_of_living_index": 4,
          "wife_age": 48,
          "wife_education": 2,
          "wife_religion": 1
         },
         {
          "contraceptive_method_used": 3,
          "standard_of_living_index": 4,
          "wife_age": 34,
          "wife_education": 3,
          "wife_religion": 1
         },
         {
          "contraceptive_method_used": 3,
          "standard_of_living_index": 1,
          "wife_age": 21,
          "wife_education": 3,
          "wife_religion": 1
         },
         {
          "contraceptive_method_used": 3,
          "standard_of_living_index": 4,
          "wife_age": 44,
          "wife_education": 3,
          "wife_religion": 1
         },
         {
          "contraceptive_method_used": 2,
          "standard_of_living_index": 4,
          "wife_age": 33,
          "wife_education": 4,
          "wife_religion": 1
         },
         {
          "contraceptive_method_used": 3,
          "standard_of_living_index": 4,
          "wife_age": 21,
          "wife_education": 4,
          "wife_religion": 0
         },
         {
          "contraceptive_method_used": 3,
          "standard_of_living_index": 2,
          "wife_age": 22,
          "wife_education": 3,
          "wife_religion": 1
         },
         {
          "contraceptive_method_used": 1,
          "standard_of_living_index": 3,
          "wife_age": 45,
          "wife_education": 1,
          "wife_religion": 1
         },
         {
          "contraceptive_method_used": 3,
          "standard_of_living_index": 3,
          "wife_age": 24,
          "wife_education": 4,
          "wife_religion": 1
         },
         {
          "contraceptive_method_used": 3,
          "standard_of_living_index": 2,
          "wife_age": 27,
          "wife_education": 4,
          "wife_religion": 1
         },
         {
          "contraceptive_method_used": 1,
          "standard_of_living_index": 3,
          "wife_age": 43,
          "wife_education": 3,
          "wife_religion": 1
         },
         {
          "contraceptive_method_used": 2,
          "standard_of_living_index": 4,
          "wife_age": 37,
          "wife_education": 4,
          "wife_religion": 1
         },
         {
          "contraceptive_method_used": 1,
          "standard_of_living_index": 3,
          "wife_age": 48,
          "wife_education": 1,
          "wife_religion": 1
         },
         {
          "contraceptive_method_used": 1,
          "standard_of_living_index": 1,
          "wife_age": 32,
          "wife_education": 2,
          "wife_religion": 1
         },
         {
          "contraceptive_method_used": 2,
          "standard_of_living_index": 4,
          "wife_age": 36,
          "wife_education": 4,
          "wife_religion": 1
         },
         {
          "contraceptive_method_used": 2,
          "standard_of_living_index": 3,
          "wife_age": 44,
          "wife_education": 4,
          "wife_religion": 1
         },
         {
          "contraceptive_method_used": 1,
          "standard_of_living_index": 3,
          "wife_age": 45,
          "wife_education": 3,
          "wife_religion": 1
         },
         {
          "contraceptive_method_used": 2,
          "standard_of_living_index": 4,
          "wife_age": 36,
          "wife_education": 4,
          "wife_religion": 1
         },
         {
          "contraceptive_method_used": 2,
          "standard_of_living_index": 2,
          "wife_age": 24,
          "wife_education": 4,
          "wife_religion": 1
         },
         {
          "contraceptive_method_used": 2,
          "standard_of_living_index": 3,
          "wife_age": 42,
          "wife_education": 4,
          "wife_religion": 1
         },
         {
          "contraceptive_method_used": 1,
          "standard_of_living_index": 2,
          "wife_age": 35,
          "wife_education": 2,
          "wife_religion": 1
         },
         {
          "contraceptive_method_used": 1,
          "standard_of_living_index": 3,
          "wife_age": 32,
          "wife_education": 4,
          "wife_religion": 1
         },
         {
          "contraceptive_method_used": 1,
          "standard_of_living_index": 1,
          "wife_age": 34,
          "wife_education": 3,
          "wife_religion": 0
         },
         {
          "contraceptive_method_used": 1,
          "standard_of_living_index": 3,
          "wife_age": 24,
          "wife_education": 3,
          "wife_religion": 1
         },
         {
          "contraceptive_method_used": 2,
          "standard_of_living_index": 3,
          "wife_age": 40,
          "wife_education": 4,
          "wife_religion": 1
         },
         {
          "contraceptive_method_used": 3,
          "standard_of_living_index": 4,
          "wife_age": 30,
          "wife_education": 4,
          "wife_religion": 1
         },
         {
          "contraceptive_method_used": 3,
          "standard_of_living_index": 1,
          "wife_age": 30,
          "wife_education": 2,
          "wife_religion": 1
         },
         {
          "contraceptive_method_used": 3,
          "standard_of_living_index": 3,
          "wife_age": 33,
          "wife_education": 4,
          "wife_religion": 1
         },
         {
          "contraceptive_method_used": 1,
          "standard_of_living_index": 4,
          "wife_age": 30,
          "wife_education": 2,
          "wife_religion": 1
         },
         {
          "contraceptive_method_used": 3,
          "standard_of_living_index": 1,
          "wife_age": 21,
          "wife_education": 2,
          "wife_religion": 1
         },
         {
          "contraceptive_method_used": 1,
          "standard_of_living_index": 2,
          "wife_age": 25,
          "wife_education": 4,
          "wife_religion": 1
         },
         {
          "contraceptive_method_used": 3,
          "standard_of_living_index": 1,
          "wife_age": 31,
          "wife_education": 3,
          "wife_religion": 1
         },
         {
          "contraceptive_method_used": 3,
          "standard_of_living_index": 4,
          "wife_age": 36,
          "wife_education": 4,
          "wife_religion": 0
         },
         {
          "contraceptive_method_used": 3,
          "standard_of_living_index": 2,
          "wife_age": 22,
          "wife_education": 1,
          "wife_religion": 1
         },
         {
          "contraceptive_method_used": 1,
          "standard_of_living_index": 4,
          "wife_age": 25,
          "wife_education": 3,
          "wife_religion": 1
         },
         {
          "contraceptive_method_used": 3,
          "standard_of_living_index": 2,
          "wife_age": 24,
          "wife_education": 1,
          "wife_religion": 1
         },
         {
          "contraceptive_method_used": 1,
          "standard_of_living_index": 3,
          "wife_age": 24,
          "wife_education": 4,
          "wife_religion": 1
         },
         {
          "contraceptive_method_used": 1,
          "standard_of_living_index": 3,
          "wife_age": 23,
          "wife_education": 2,
          "wife_religion": 1
         },
         {
          "contraceptive_method_used": 3,
          "standard_of_living_index": 3,
          "wife_age": 37,
          "wife_education": 2,
          "wife_religion": 1
         },
         {
          "contraceptive_method_used": 1,
          "standard_of_living_index": 1,
          "wife_age": 22,
          "wife_education": 2,
          "wife_religion": 1
         },
         {
          "contraceptive_method_used": 1,
          "standard_of_living_index": 4,
          "wife_age": 20,
          "wife_education": 2,
          "wife_religion": 1
         },
         {
          "contraceptive_method_used": 2,
          "standard_of_living_index": 4,
          "wife_age": 41,
          "wife_education": 4,
          "wife_religion": 1
         },
         {
          "contraceptive_method_used": 3,
          "standard_of_living_index": 3,
          "wife_age": 24,
          "wife_education": 4,
          "wife_religion": 1
         },
         {
          "contraceptive_method_used": 2,
          "standard_of_living_index": 4,
          "wife_age": 34,
          "wife_education": 1,
          "wife_religion": 1
         },
         {
          "contraceptive_method_used": 3,
          "standard_of_living_index": 3,
          "wife_age": 23,
          "wife_education": 2,
          "wife_religion": 1
         },
         {
          "contraceptive_method_used": 2,
          "standard_of_living_index": 3,
          "wife_age": 30,
          "wife_education": 3,
          "wife_religion": 1
         },
         {
          "contraceptive_method_used": 3,
          "standard_of_living_index": 3,
          "wife_age": 19,
          "wife_education": 4,
          "wife_religion": 1
         },
         {
          "contraceptive_method_used": 3,
          "standard_of_living_index": 3,
          "wife_age": 44,
          "wife_education": 4,
          "wife_religion": 0
         },
         {
          "contraceptive_method_used": 2,
          "standard_of_living_index": 3,
          "wife_age": 34,
          "wife_education": 3,
          "wife_religion": 1
         },
         {
          "contraceptive_method_used": 2,
          "standard_of_living_index": 4,
          "wife_age": 26,
          "wife_education": 2,
          "wife_religion": 1
         },
         {
          "contraceptive_method_used": 3,
          "standard_of_living_index": 3,
          "wife_age": 25,
          "wife_education": 4,
          "wife_religion": 1
         },
         {
          "contraceptive_method_used": 3,
          "standard_of_living_index": 3,
          "wife_age": 28,
          "wife_education": 4,
          "wife_religion": 1
         },
         {
          "contraceptive_method_used": 3,
          "standard_of_living_index": 4,
          "wife_age": 37,
          "wife_education": 4,
          "wife_religion": 0
         },
         {
          "contraceptive_method_used": 3,
          "standard_of_living_index": 2,
          "wife_age": 26,
          "wife_education": 3,
          "wife_religion": 1
         },
         {
          "contraceptive_method_used": 3,
          "standard_of_living_index": 2,
          "wife_age": 38,
          "wife_education": 3,
          "wife_religion": 1
         },
         {
          "contraceptive_method_used": 1,
          "standard_of_living_index": 4,
          "wife_age": 22,
          "wife_education": 4,
          "wife_religion": 1
         },
         {
          "contraceptive_method_used": 3,
          "standard_of_living_index": 4,
          "wife_age": 25,
          "wife_education": 3,
          "wife_religion": 1
         },
         {
          "contraceptive_method_used": 1,
          "standard_of_living_index": 2,
          "wife_age": 31,
          "wife_education": 2,
          "wife_religion": 1
         },
         {
          "contraceptive_method_used": 2,
          "standard_of_living_index": 4,
          "wife_age": 33,
          "wife_education": 3,
          "wife_religion": 1
         },
         {
          "contraceptive_method_used": 2,
          "standard_of_living_index": 2,
          "wife_age": 35,
          "wife_education": 2,
          "wife_religion": 0
         },
         {
          "contraceptive_method_used": 1,
          "standard_of_living_index": 4,
          "wife_age": 36,
          "wife_education": 2,
          "wife_religion": 1
         },
         {
          "contraceptive_method_used": 3,
          "standard_of_living_index": 2,
          "wife_age": 25,
          "wife_education": 3,
          "wife_religion": 1
         },
         {
          "contraceptive_method_used": 3,
          "standard_of_living_index": 2,
          "wife_age": 20,
          "wife_education": 2,
          "wife_religion": 1
         },
         {
          "contraceptive_method_used": 1,
          "standard_of_living_index": 4,
          "wife_age": 48,
          "wife_education": 1,
          "wife_religion": 1
         },
         {
          "contraceptive_method_used": 2,
          "standard_of_living_index": 2,
          "wife_age": 22,
          "wife_education": 4,
          "wife_religion": 1
         },
         {
          "contraceptive_method_used": 3,
          "standard_of_living_index": 4,
          "wife_age": 24,
          "wife_education": 3,
          "wife_religion": 1
         },
         {
          "contraceptive_method_used": 1,
          "standard_of_living_index": 4,
          "wife_age": 20,
          "wife_education": 4,
          "wife_religion": 0
         },
         {
          "contraceptive_method_used": 3,
          "standard_of_living_index": 3,
          "wife_age": 29,
          "wife_education": 3,
          "wife_religion": 1
         },
         {
          "contraceptive_method_used": 3,
          "standard_of_living_index": 4,
          "wife_age": 48,
          "wife_education": 3,
          "wife_religion": 1
         },
         {
          "contraceptive_method_used": 1,
          "standard_of_living_index": 4,
          "wife_age": 22,
          "wife_education": 3,
          "wife_religion": 1
         },
         {
          "contraceptive_method_used": 1,
          "standard_of_living_index": 4,
          "wife_age": 37,
          "wife_education": 4,
          "wife_religion": 1
         },
         {
          "contraceptive_method_used": 1,
          "standard_of_living_index": 1,
          "wife_age": 21,
          "wife_education": 3,
          "wife_religion": 1
         },
         {
          "contraceptive_method_used": 3,
          "standard_of_living_index": 4,
          "wife_age": 35,
          "wife_education": 4,
          "wife_religion": 1
         },
         {
          "contraceptive_method_used": 1,
          "standard_of_living_index": 4,
          "wife_age": 41,
          "wife_education": 1,
          "wife_religion": 1
         },
         {
          "contraceptive_method_used": 1,
          "standard_of_living_index": 3,
          "wife_age": 42,
          "wife_education": 3,
          "wife_religion": 1
         },
         {
          "contraceptive_method_used": 1,
          "standard_of_living_index": 1,
          "wife_age": 48,
          "wife_education": 1,
          "wife_religion": 1
         },
         {
          "contraceptive_method_used": 3,
          "standard_of_living_index": 4,
          "wife_age": 33,
          "wife_education": 4,
          "wife_religion": 0
         },
         {
          "contraceptive_method_used": 1,
          "standard_of_living_index": 4,
          "wife_age": 45,
          "wife_education": 3,
          "wife_religion": 0
         },
         {
          "contraceptive_method_used": 2,
          "standard_of_living_index": 3,
          "wife_age": 38,
          "wife_education": 4,
          "wife_religion": 1
         },
         {
          "contraceptive_method_used": 1,
          "standard_of_living_index": 3,
          "wife_age": 48,
          "wife_education": 1,
          "wife_religion": 1
         },
         {
          "contraceptive_method_used": 3,
          "standard_of_living_index": 2,
          "wife_age": 30,
          "wife_education": 3,
          "wife_religion": 1
         },
         {
          "contraceptive_method_used": 1,
          "standard_of_living_index": 4,
          "wife_age": 41,
          "wife_education": 3,
          "wife_religion": 1
         },
         {
          "contraceptive_method_used": 1,
          "standard_of_living_index": 2,
          "wife_age": 42,
          "wife_education": 3,
          "wife_religion": 1
         },
         {
          "contraceptive_method_used": 1,
          "standard_of_living_index": 4,
          "wife_age": 24,
          "wife_education": 2,
          "wife_religion": 1
         },
         {
          "contraceptive_method_used": 1,
          "standard_of_living_index": 3,
          "wife_age": 27,
          "wife_education": 2,
          "wife_religion": 1
         },
         {
          "contraceptive_method_used": 3,
          "standard_of_living_index": 4,
          "wife_age": 33,
          "wife_education": 3,
          "wife_religion": 1
         },
         {
          "contraceptive_method_used": 3,
          "standard_of_living_index": 4,
          "wife_age": 37,
          "wife_education": 3,
          "wife_religion": 0
         },
         {
          "contraceptive_method_used": 2,
          "standard_of_living_index": 3,
          "wife_age": 45,
          "wife_education": 3,
          "wife_religion": 0
         },
         {
          "contraceptive_method_used": 3,
          "standard_of_living_index": 4,
          "wife_age": 26,
          "wife_education": 4,
          "wife_religion": 1
         },
         {
          "contraceptive_method_used": 1,
          "standard_of_living_index": 3,
          "wife_age": 28,
          "wife_education": 3,
          "wife_religion": 1
         },
         {
          "contraceptive_method_used": 1,
          "standard_of_living_index": 4,
          "wife_age": 41,
          "wife_education": 3,
          "wife_religion": 0
         },
         {
          "contraceptive_method_used": 2,
          "standard_of_living_index": 4,
          "wife_age": 33,
          "wife_education": 4,
          "wife_religion": 1
         },
         {
          "contraceptive_method_used": 3,
          "standard_of_living_index": 3,
          "wife_age": 31,
          "wife_education": 1,
          "wife_religion": 1
         },
         {
          "contraceptive_method_used": 1,
          "standard_of_living_index": 2,
          "wife_age": 44,
          "wife_education": 1,
          "wife_religion": 1
         },
         {
          "contraceptive_method_used": 1,
          "standard_of_living_index": 4,
          "wife_age": 37,
          "wife_education": 4,
          "wife_religion": 1
         },
         {
          "contraceptive_method_used": 1,
          "standard_of_living_index": 2,
          "wife_age": 22,
          "wife_education": 2,
          "wife_religion": 1
         },
         {
          "contraceptive_method_used": 3,
          "standard_of_living_index": 4,
          "wife_age": 29,
          "wife_education": 1,
          "wife_religion": 1
         },
         {
          "contraceptive_method_used": 2,
          "standard_of_living_index": 4,
          "wife_age": 26,
          "wife_education": 2,
          "wife_religion": 1
         },
         {
          "contraceptive_method_used": 2,
          "standard_of_living_index": 3,
          "wife_age": 45,
          "wife_education": 3,
          "wife_religion": 1
         },
         {
          "contraceptive_method_used": 1,
          "standard_of_living_index": 2,
          "wife_age": 46,
          "wife_education": 3,
          "wife_religion": 1
         },
         {
          "contraceptive_method_used": 1,
          "standard_of_living_index": 3,
          "wife_age": 18,
          "wife_education": 2,
          "wife_religion": 1
         },
         {
          "contraceptive_method_used": 1,
          "standard_of_living_index": 4,
          "wife_age": 49,
          "wife_education": 4,
          "wife_religion": 1
         },
         {
          "contraceptive_method_used": 2,
          "standard_of_living_index": 4,
          "wife_age": 35,
          "wife_education": 4,
          "wife_religion": 1
         },
         {
          "contraceptive_method_used": 1,
          "standard_of_living_index": 3,
          "wife_age": 36,
          "wife_education": 2,
          "wife_religion": 1
         },
         {
          "contraceptive_method_used": 3,
          "standard_of_living_index": 2,
          "wife_age": 22,
          "wife_education": 2,
          "wife_religion": 1
         },
         {
          "contraceptive_method_used": 2,
          "standard_of_living_index": 4,
          "wife_age": 44,
          "wife_education": 2,
          "wife_religion": 0
         },
         {
          "contraceptive_method_used": 2,
          "standard_of_living_index": 2,
          "wife_age": 38,
          "wife_education": 2,
          "wife_religion": 1
         },
         {
          "contraceptive_method_used": 2,
          "standard_of_living_index": 4,
          "wife_age": 31,
          "wife_education": 4,
          "wife_religion": 0
         },
         {
          "contraceptive_method_used": 1,
          "standard_of_living_index": 1,
          "wife_age": 23,
          "wife_education": 3,
          "wife_religion": 1
         },
         {
          "contraceptive_method_used": 2,
          "standard_of_living_index": 4,
          "wife_age": 38,
          "wife_education": 4,
          "wife_religion": 1
         },
         {
          "contraceptive_method_used": 2,
          "standard_of_living_index": 4,
          "wife_age": 25,
          "wife_education": 2,
          "wife_religion": 1
         },
         {
          "contraceptive_method_used": 3,
          "standard_of_living_index": 4,
          "wife_age": 37,
          "wife_education": 4,
          "wife_religion": 1
         },
         {
          "contraceptive_method_used": 1,
          "standard_of_living_index": 3,
          "wife_age": 43,
          "wife_education": 4,
          "wife_religion": 1
         },
         {
          "contraceptive_method_used": 3,
          "standard_of_living_index": 3,
          "wife_age": 24,
          "wife_education": 4,
          "wife_religion": 1
         },
         {
          "contraceptive_method_used": 1,
          "standard_of_living_index": 3,
          "wife_age": 49,
          "wife_education": 1,
          "wife_religion": 1
         },
         {
          "contraceptive_method_used": 1,
          "standard_of_living_index": 2,
          "wife_age": 21,
          "wife_education": 2,
          "wife_religion": 1
         },
         {
          "contraceptive_method_used": 3,
          "standard_of_living_index": 3,
          "wife_age": 25,
          "wife_education": 3,
          "wife_religion": 1
         },
         {
          "contraceptive_method_used": 3,
          "standard_of_living_index": 3,
          "wife_age": 34,
          "wife_education": 2,
          "wife_religion": 1
         },
         {
          "contraceptive_method_used": 3,
          "standard_of_living_index": 3,
          "wife_age": 35,
          "wife_education": 2,
          "wife_religion": 1
         },
         {
          "contraceptive_method_used": 3,
          "standard_of_living_index": 3,
          "wife_age": 31,
          "wife_education": 2,
          "wife_religion": 1
         },
         {
          "contraceptive_method_used": 2,
          "standard_of_living_index": 4,
          "wife_age": 47,
          "wife_education": 4,
          "wife_religion": 0
         },
         {
          "contraceptive_method_used": 2,
          "standard_of_living_index": 3,
          "wife_age": 32,
          "wife_education": 3,
          "wife_religion": 0
         },
         {
          "contraceptive_method_used": 3,
          "standard_of_living_index": 4,
          "wife_age": 38,
          "wife_education": 2,
          "wife_religion": 1
         },
         {
          "contraceptive_method_used": 2,
          "standard_of_living_index": 2,
          "wife_age": 22,
          "wife_education": 4,
          "wife_religion": 1
         },
         {
          "contraceptive_method_used": 1,
          "standard_of_living_index": 3,
          "wife_age": 34,
          "wife_education": 3,
          "wife_religion": 1
         },
         {
          "contraceptive_method_used": 3,
          "standard_of_living_index": 4,
          "wife_age": 25,
          "wife_education": 2,
          "wife_religion": 1
         },
         {
          "contraceptive_method_used": 1,
          "standard_of_living_index": 3,
          "wife_age": 47,
          "wife_education": 1,
          "wife_religion": 1
         },
         {
          "contraceptive_method_used": 1,
          "standard_of_living_index": 4,
          "wife_age": 20,
          "wife_education": 2,
          "wife_religion": 1
         },
         {
          "contraceptive_method_used": 3,
          "standard_of_living_index": 2,
          "wife_age": 32,
          "wife_education": 2,
          "wife_religion": 1
         },
         {
          "contraceptive_method_used": 1,
          "standard_of_living_index": 2,
          "wife_age": 20,
          "wife_education": 3,
          "wife_religion": 1
         },
         {
          "contraceptive_method_used": 2,
          "standard_of_living_index": 4,
          "wife_age": 30,
          "wife_education": 4,
          "wife_religion": 0
         },
         {
          "contraceptive_method_used": 3,
          "standard_of_living_index": 3,
          "wife_age": 36,
          "wife_education": 4,
          "wife_religion": 1
         },
         {
          "contraceptive_method_used": 2,
          "standard_of_living_index": 2,
          "wife_age": 29,
          "wife_education": 4,
          "wife_religion": 1
         },
         {
          "contraceptive_method_used": 1,
          "standard_of_living_index": 3,
          "wife_age": 37,
          "wife_education": 2,
          "wife_religion": 0
         },
         {
          "contraceptive_method_used": 3,
          "standard_of_living_index": 3,
          "wife_age": 26,
          "wife_education": 4,
          "wife_religion": 1
         },
         {
          "contraceptive_method_used": 1,
          "standard_of_living_index": 4,
          "wife_age": 39,
          "wife_education": 3,
          "wife_religion": 0
         },
         {
          "contraceptive_method_used": 1,
          "standard_of_living_index": 1,
          "wife_age": 25,
          "wife_education": 3,
          "wife_religion": 1
         },
         {
          "contraceptive_method_used": 2,
          "standard_of_living_index": 3,
          "wife_age": 24,
          "wife_education": 2,
          "wife_religion": 1
         },
         {
          "contraceptive_method_used": 3,
          "standard_of_living_index": 4,
          "wife_age": 28,
          "wife_education": 4,
          "wife_religion": 0
         },
         {
          "contraceptive_method_used": 3,
          "standard_of_living_index": 2,
          "wife_age": 23,
          "wife_education": 4,
          "wife_religion": 1
         },
         {
          "contraceptive_method_used": 1,
          "standard_of_living_index": 3,
          "wife_age": 40,
          "wife_education": 2,
          "wife_religion": 1
         },
         {
          "contraceptive_method_used": 1,
          "standard_of_living_index": 4,
          "wife_age": 46,
          "wife_education": 4,
          "wife_religion": 0
         },
         {
          "contraceptive_method_used": 3,
          "standard_of_living_index": 4,
          "wife_age": 43,
          "wife_education": 4,
          "wife_religion": 1
         },
         {
          "contraceptive_method_used": 1,
          "standard_of_living_index": 3,
          "wife_age": 24,
          "wife_education": 2,
          "wife_religion": 1
         },
         {
          "contraceptive_method_used": 1,
          "standard_of_living_index": 4,
          "wife_age": 47,
          "wife_education": 2,
          "wife_religion": 0
         },
         {
          "contraceptive_method_used": 3,
          "standard_of_living_index": 3,
          "wife_age": 26,
          "wife_education": 3,
          "wife_religion": 1
         },
         {
          "contraceptive_method_used": 1,
          "standard_of_living_index": 4,
          "wife_age": 39,
          "wife_education": 2,
          "wife_religion": 1
         },
         {
          "contraceptive_method_used": 1,
          "standard_of_living_index": 4,
          "wife_age": 20,
          "wife_education": 2,
          "wife_religion": 1
         },
         {
          "contraceptive_method_used": 3,
          "standard_of_living_index": 4,
          "wife_age": 49,
          "wife_education": 4,
          "wife_religion": 1
         },
         {
          "contraceptive_method_used": 1,
          "standard_of_living_index": 4,
          "wife_age": 38,
          "wife_education": 3,
          "wife_religion": 1
         },
         {
          "contraceptive_method_used": 1,
          "standard_of_living_index": 1,
          "wife_age": 22,
          "wife_education": 2,
          "wife_religion": 1
         },
         {
          "contraceptive_method_used": 1,
          "standard_of_living_index": 3,
          "wife_age": 23,
          "wife_education": 2,
          "wife_religion": 1
         },
         {
          "contraceptive_method_used": 1,
          "standard_of_living_index": 3,
          "wife_age": 48,
          "wife_education": 2,
          "wife_religion": 1
         },
         {
          "contraceptive_method_used": 1,
          "standard_of_living_index": 4,
          "wife_age": 32,
          "wife_education": 4,
          "wife_religion": 1
         },
         {
          "contraceptive_method_used": 1,
          "standard_of_living_index": 4,
          "wife_age": 48,
          "wife_education": 4,
          "wife_religion": 0
         },
         {
          "contraceptive_method_used": 2,
          "standard_of_living_index": 4,
          "wife_age": 47,
          "wife_education": 4,
          "wife_religion": 1
         },
         {
          "contraceptive_method_used": 2,
          "standard_of_living_index": 4,
          "wife_age": 43,
          "wife_education": 3,
          "wife_religion": 1
         },
         {
          "contraceptive_method_used": 3,
          "standard_of_living_index": 3,
          "wife_age": 40,
          "wife_education": 3,
          "wife_religion": 1
         },
         {
          "contraceptive_method_used": 2,
          "standard_of_living_index": 4,
          "wife_age": 34,
          "wife_education": 4,
          "wife_religion": 1
         },
         {
          "contraceptive_method_used": 2,
          "standard_of_living_index": 4,
          "wife_age": 41,
          "wife_education": 3,
          "wife_religion": 0
         },
         {
          "contraceptive_method_used": 3,
          "standard_of_living_index": 4,
          "wife_age": 28,
          "wife_education": 2,
          "wife_religion": 1
         },
         {
          "contraceptive_method_used": 1,
          "standard_of_living_index": 4,
          "wife_age": 43,
          "wife_education": 4,
          "wife_religion": 0
         },
         {
          "contraceptive_method_used": 2,
          "standard_of_living_index": 1,
          "wife_age": 44,
          "wife_education": 3,
          "wife_religion": 1
         },
         {
          "contraceptive_method_used": 1,
          "standard_of_living_index": 2,
          "wife_age": 38,
          "wife_education": 1,
          "wife_religion": 1
         },
         {
          "contraceptive_method_used": 1,
          "standard_of_living_index": 1,
          "wife_age": 23,
          "wife_education": 1,
          "wife_religion": 1
         },
         {
          "contraceptive_method_used": 2,
          "standard_of_living_index": 1,
          "wife_age": 30,
          "wife_education": 2,
          "wife_religion": 1
         },
         {
          "contraceptive_method_used": 2,
          "standard_of_living_index": 4,
          "wife_age": 39,
          "wife_education": 4,
          "wife_religion": 0
         },
         {
          "contraceptive_method_used": 3,
          "standard_of_living_index": 4,
          "wife_age": 26,
          "wife_education": 3,
          "wife_religion": 1
         },
         {
          "contraceptive_method_used": 1,
          "standard_of_living_index": 2,
          "wife_age": 36,
          "wife_education": 2,
          "wife_religion": 1
         },
         {
          "contraceptive_method_used": 1,
          "standard_of_living_index": 2,
          "wife_age": 38,
          "wife_education": 2,
          "wife_religion": 1
         },
         {
          "contraceptive_method_used": 3,
          "standard_of_living_index": 2,
          "wife_age": 36,
          "wife_education": 1,
          "wife_religion": 1
         },
         {
          "contraceptive_method_used": 2,
          "standard_of_living_index": 4,
          "wife_age": 48,
          "wife_education": 4,
          "wife_religion": 0
         },
         {
          "contraceptive_method_used": 1,
          "standard_of_living_index": 4,
          "wife_age": 24,
          "wife_education": 4,
          "wife_religion": 0
         },
         {
          "contraceptive_method_used": 3,
          "standard_of_living_index": 3,
          "wife_age": 25,
          "wife_education": 1,
          "wife_religion": 1
         },
         {
          "contraceptive_method_used": 1,
          "standard_of_living_index": 1,
          "wife_age": 36,
          "wife_education": 2,
          "wife_religion": 1
         },
         {
          "contraceptive_method_used": 1,
          "standard_of_living_index": 1,
          "wife_age": 49,
          "wife_education": 1,
          "wife_religion": 1
         },
         {
          "contraceptive_method_used": 1,
          "standard_of_living_index": 4,
          "wife_age": 29,
          "wife_education": 3,
          "wife_religion": 1
         },
         {
          "contraceptive_method_used": 1,
          "standard_of_living_index": 2,
          "wife_age": 29,
          "wife_education": 3,
          "wife_religion": 1
         },
         {
          "contraceptive_method_used": 2,
          "standard_of_living_index": 4,
          "wife_age": 33,
          "wife_education": 3,
          "wife_religion": 1
         },
         {
          "contraceptive_method_used": 1,
          "standard_of_living_index": 1,
          "wife_age": 28,
          "wife_education": 2,
          "wife_religion": 1
         },
         {
          "contraceptive_method_used": 1,
          "standard_of_living_index": 1,
          "wife_age": 44,
          "wife_education": 1,
          "wife_religion": 1
         },
         {
          "contraceptive_method_used": 2,
          "standard_of_living_index": 2,
          "wife_age": 44,
          "wife_education": 4,
          "wife_religion": 1
         },
         {
          "contraceptive_method_used": 1,
          "standard_of_living_index": 2,
          "wife_age": 25,
          "wife_education": 2,
          "wife_religion": 1
         },
         {
          "contraceptive_method_used": 1,
          "standard_of_living_index": 1,
          "wife_age": 43,
          "wife_education": 1,
          "wife_religion": 1
         },
         {
          "contraceptive_method_used": 2,
          "standard_of_living_index": 3,
          "wife_age": 47,
          "wife_education": 3,
          "wife_religion": 1
         },
         {
          "contraceptive_method_used": 1,
          "standard_of_living_index": 4,
          "wife_age": 24,
          "wife_education": 4,
          "wife_religion": 1
         },
         {
          "contraceptive_method_used": 3,
          "standard_of_living_index": 2,
          "wife_age": 17,
          "wife_education": 2,
          "wife_religion": 1
         },
         {
          "contraceptive_method_used": 1,
          "standard_of_living_index": 3,
          "wife_age": 26,
          "wife_education": 3,
          "wife_religion": 1
         },
         {
          "contraceptive_method_used": 2,
          "standard_of_living_index": 4,
          "wife_age": 41,
          "wife_education": 4,
          "wife_religion": 0
         },
         {
          "contraceptive_method_used": 1,
          "standard_of_living_index": 2,
          "wife_age": 49,
          "wife_education": 2,
          "wife_religion": 1
         },
         {
          "contraceptive_method_used": 2,
          "standard_of_living_index": 2,
          "wife_age": 29,
          "wife_education": 4,
          "wife_religion": 1
         },
         {
          "contraceptive_method_used": 2,
          "standard_of_living_index": 4,
          "wife_age": 30,
          "wife_education": 4,
          "wife_religion": 0
         },
         {
          "contraceptive_method_used": 2,
          "standard_of_living_index": 4,
          "wife_age": 46,
          "wife_education": 4,
          "wife_religion": 1
         },
         {
          "contraceptive_method_used": 3,
          "standard_of_living_index": 3,
          "wife_age": 26,
          "wife_education": 3,
          "wife_religion": 1
         },
         {
          "contraceptive_method_used": 3,
          "standard_of_living_index": 4,
          "wife_age": 32,
          "wife_education": 4,
          "wife_religion": 1
         },
         {
          "contraceptive_method_used": 2,
          "standard_of_living_index": 4,
          "wife_age": 47,
          "wife_education": 4,
          "wife_religion": 1
         },
         {
          "contraceptive_method_used": 2,
          "standard_of_living_index": 3,
          "wife_age": 35,
          "wife_education": 4,
          "wife_religion": 1
         },
         {
          "contraceptive_method_used": 1,
          "standard_of_living_index": 4,
          "wife_age": 43,
          "wife_education": 1,
          "wife_religion": 1
         },
         {
          "contraceptive_method_used": 1,
          "standard_of_living_index": 4,
          "wife_age": 29,
          "wife_education": 2,
          "wife_religion": 1
         },
         {
          "contraceptive_method_used": 3,
          "standard_of_living_index": 2,
          "wife_age": 29,
          "wife_education": 1,
          "wife_religion": 1
         },
         {
          "contraceptive_method_used": 3,
          "standard_of_living_index": 4,
          "wife_age": 21,
          "wife_education": 2,
          "wife_religion": 0
         },
         {
          "contraceptive_method_used": 3,
          "standard_of_living_index": 1,
          "wife_age": 24,
          "wife_education": 2,
          "wife_religion": 1
         },
         {
          "contraceptive_method_used": 1,
          "standard_of_living_index": 2,
          "wife_age": 40,
          "wife_education": 2,
          "wife_religion": 1
         },
         {
          "contraceptive_method_used": 1,
          "standard_of_living_index": 4,
          "wife_age": 44,
          "wife_education": 4,
          "wife_religion": 1
         },
         {
          "contraceptive_method_used": 3,
          "standard_of_living_index": 4,
          "wife_age": 27,
          "wife_education": 2,
          "wife_religion": 1
         },
         {
          "contraceptive_method_used": 1,
          "standard_of_living_index": 4,
          "wife_age": 35,
          "wife_education": 1,
          "wife_religion": 1
         },
         {
          "contraceptive_method_used": 3,
          "standard_of_living_index": 4,
          "wife_age": 32,
          "wife_education": 4,
          "wife_religion": 1
         },
         {
          "contraceptive_method_used": 1,
          "standard_of_living_index": 3,
          "wife_age": 48,
          "wife_education": 1,
          "wife_religion": 1
         },
         {
          "contraceptive_method_used": 3,
          "standard_of_living_index": 3,
          "wife_age": 23,
          "wife_education": 4,
          "wife_religion": 1
         },
         {
          "contraceptive_method_used": 3,
          "standard_of_living_index": 4,
          "wife_age": 48,
          "wife_education": 4,
          "wife_religion": 1
         },
         {
          "contraceptive_method_used": 2,
          "standard_of_living_index": 4,
          "wife_age": 35,
          "wife_education": 4,
          "wife_religion": 0
         },
         {
          "contraceptive_method_used": 3,
          "standard_of_living_index": 3,
          "wife_age": 29,
          "wife_education": 2,
          "wife_religion": 1
         },
         {
          "contraceptive_method_used": 1,
          "standard_of_living_index": 2,
          "wife_age": 19,
          "wife_education": 2,
          "wife_religion": 1
         },
         {
          "contraceptive_method_used": 2,
          "standard_of_living_index": 4,
          "wife_age": 39,
          "wife_education": 4,
          "wife_religion": 1
         },
         {
          "contraceptive_method_used": 3,
          "standard_of_living_index": 3,
          "wife_age": 29,
          "wife_education": 1,
          "wife_religion": 1
         },
         {
          "contraceptive_method_used": 1,
          "standard_of_living_index": 4,
          "wife_age": 30,
          "wife_education": 4,
          "wife_religion": 1
         },
         {
          "contraceptive_method_used": 3,
          "standard_of_living_index": 3,
          "wife_age": 30,
          "wife_education": 3,
          "wife_religion": 0
         },
         {
          "contraceptive_method_used": 1,
          "standard_of_living_index": 3,
          "wife_age": 31,
          "wife_education": 3,
          "wife_religion": 1
         },
         {
          "contraceptive_method_used": 3,
          "standard_of_living_index": 3,
          "wife_age": 24,
          "wife_education": 4,
          "wife_religion": 1
         },
         {
          "contraceptive_method_used": 3,
          "standard_of_living_index": 3,
          "wife_age": 30,
          "wife_education": 3,
          "wife_religion": 1
         },
         {
          "contraceptive_method_used": 3,
          "standard_of_living_index": 4,
          "wife_age": 37,
          "wife_education": 4,
          "wife_religion": 0
         },
         {
          "contraceptive_method_used": 1,
          "standard_of_living_index": 3,
          "wife_age": 47,
          "wife_education": 1,
          "wife_religion": 1
         },
         {
          "contraceptive_method_used": 2,
          "standard_of_living_index": 2,
          "wife_age": 23,
          "wife_education": 4,
          "wife_religion": 1
         },
         {
          "contraceptive_method_used": 1,
          "standard_of_living_index": 2,
          "wife_age": 22,
          "wife_education": 2,
          "wife_religion": 1
         },
         {
          "contraceptive_method_used": 1,
          "standard_of_living_index": 1,
          "wife_age": 38,
          "wife_education": 1,
          "wife_religion": 1
         },
         {
          "contraceptive_method_used": 3,
          "standard_of_living_index": 4,
          "wife_age": 25,
          "wife_education": 4,
          "wife_religion": 0
         },
         {
          "contraceptive_method_used": 2,
          "standard_of_living_index": 4,
          "wife_age": 45,
          "wife_education": 4,
          "wife_religion": 1
         },
         {
          "contraceptive_method_used": 2,
          "standard_of_living_index": 3,
          "wife_age": 29,
          "wife_education": 3,
          "wife_religion": 1
         },
         {
          "contraceptive_method_used": 3,
          "standard_of_living_index": 4,
          "wife_age": 24,
          "wife_education": 3,
          "wife_religion": 1
         },
         {
          "contraceptive_method_used": 2,
          "standard_of_living_index": 4,
          "wife_age": 37,
          "wife_education": 4,
          "wife_religion": 1
         },
         {
          "contraceptive_method_used": 3,
          "standard_of_living_index": 4,
          "wife_age": 21,
          "wife_education": 3,
          "wife_religion": 1
         },
         {
          "contraceptive_method_used": 1,
          "standard_of_living_index": 2,
          "wife_age": 22,
          "wife_education": 4,
          "wife_religion": 1
         },
         {
          "contraceptive_method_used": 3,
          "standard_of_living_index": 3,
          "wife_age": 25,
          "wife_education": 4,
          "wife_religion": 0
         },
         {
          "contraceptive_method_used": 3,
          "standard_of_living_index": 3,
          "wife_age": 21,
          "wife_education": 2,
          "wife_religion": 1
         },
         {
          "contraceptive_method_used": 3,
          "standard_of_living_index": 4,
          "wife_age": 26,
          "wife_education": 4,
          "wife_religion": 1
         },
         {
          "contraceptive_method_used": 1,
          "standard_of_living_index": 3,
          "wife_age": 47,
          "wife_education": 4,
          "wife_religion": 1
         },
         {
          "contraceptive_method_used": 1,
          "standard_of_living_index": 2,
          "wife_age": 31,
          "wife_education": 1,
          "wife_religion": 1
         },
         {
          "contraceptive_method_used": 2,
          "standard_of_living_index": 3,
          "wife_age": 24,
          "wife_education": 4,
          "wife_religion": 0
         },
         {
          "contraceptive_method_used": 2,
          "standard_of_living_index": 4,
          "wife_age": 26,
          "wife_education": 3,
          "wife_religion": 1
         },
         {
          "contraceptive_method_used": 3,
          "standard_of_living_index": 3,
          "wife_age": 27,
          "wife_education": 2,
          "wife_religion": 1
         },
         {
          "contraceptive_method_used": 1,
          "standard_of_living_index": 2,
          "wife_age": 21,
          "wife_education": 2,
          "wife_religion": 1
         },
         {
          "contraceptive_method_used": 3,
          "standard_of_living_index": 4,
          "wife_age": 36,
          "wife_education": 2,
          "wife_religion": 1
         },
         {
          "contraceptive_method_used": 3,
          "standard_of_living_index": 4,
          "wife_age": 32,
          "wife_education": 4,
          "wife_religion": 1
         },
         {
          "contraceptive_method_used": 2,
          "standard_of_living_index": 4,
          "wife_age": 39,
          "wife_education": 3,
          "wife_religion": 1
         },
         {
          "contraceptive_method_used": 1,
          "standard_of_living_index": 3,
          "wife_age": 38,
          "wife_education": 1,
          "wife_religion": 1
         },
         {
          "contraceptive_method_used": 1,
          "standard_of_living_index": 4,
          "wife_age": 26,
          "wife_education": 4,
          "wife_religion": 1
         },
         {
          "contraceptive_method_used": 3,
          "standard_of_living_index": 2,
          "wife_age": 21,
          "wife_education": 3,
          "wife_religion": 0
         },
         {
          "contraceptive_method_used": 3,
          "standard_of_living_index": 4,
          "wife_age": 43,
          "wife_education": 3,
          "wife_religion": 0
         },
         {
          "contraceptive_method_used": 2,
          "standard_of_living_index": 4,
          "wife_age": 32,
          "wife_education": 3,
          "wife_religion": 1
         },
         {
          "contraceptive_method_used": 2,
          "standard_of_living_index": 3,
          "wife_age": 31,
          "wife_education": 3,
          "wife_religion": 1
         },
         {
          "contraceptive_method_used": 3,
          "standard_of_living_index": 3,
          "wife_age": 24,
          "wife_education": 4,
          "wife_religion": 1
         },
         {
          "contraceptive_method_used": 1,
          "standard_of_living_index": 1,
          "wife_age": 38,
          "wife_education": 3,
          "wife_religion": 1
         },
         {
          "contraceptive_method_used": 3,
          "standard_of_living_index": 3,
          "wife_age": 30,
          "wife_education": 3,
          "wife_religion": 1
         },
         {
          "contraceptive_method_used": 2,
          "standard_of_living_index": 4,
          "wife_age": 44,
          "wife_education": 4,
          "wife_religion": 1
         },
         {
          "contraceptive_method_used": 3,
          "standard_of_living_index": 4,
          "wife_age": 22,
          "wife_education": 4,
          "wife_religion": 1
         },
         {
          "contraceptive_method_used": 1,
          "standard_of_living_index": 3,
          "wife_age": 49,
          "wife_education": 4,
          "wife_religion": 1
         },
         {
          "contraceptive_method_used": 1,
          "standard_of_living_index": 1,
          "wife_age": 25,
          "wife_education": 2,
          "wife_religion": 1
         },
         {
          "contraceptive_method_used": 1,
          "standard_of_living_index": 2,
          "wife_age": 47,
          "wife_education": 2,
          "wife_religion": 1
         },
         {
          "contraceptive_method_used": 1,
          "standard_of_living_index": 2,
          "wife_age": 25,
          "wife_education": 3,
          "wife_religion": 1
         },
         {
          "contraceptive_method_used": 1,
          "standard_of_living_index": 4,
          "wife_age": 31,
          "wife_education": 3,
          "wife_religion": 1
         },
         {
          "contraceptive_method_used": 1,
          "standard_of_living_index": 1,
          "wife_age": 39,
          "wife_education": 1,
          "wife_religion": 1
         },
         {
          "contraceptive_method_used": 1,
          "standard_of_living_index": 3,
          "wife_age": 28,
          "wife_education": 4,
          "wife_religion": 1
         },
         {
          "contraceptive_method_used": 1,
          "standard_of_living_index": 2,
          "wife_age": 38,
          "wife_education": 2,
          "wife_religion": 1
         },
         {
          "contraceptive_method_used": 1,
          "standard_of_living_index": 3,
          "wife_age": 31,
          "wife_education": 3,
          "wife_religion": 1
         },
         {
          "contraceptive_method_used": 1,
          "standard_of_living_index": 4,
          "wife_age": 36,
          "wife_education": 3,
          "wife_religion": 1
         },
         {
          "contraceptive_method_used": 2,
          "standard_of_living_index": 3,
          "wife_age": 33,
          "wife_education": 3,
          "wife_religion": 0
         },
         {
          "contraceptive_method_used": 1,
          "standard_of_living_index": 4,
          "wife_age": 37,
          "wife_education": 3,
          "wife_religion": 1
         },
         {
          "contraceptive_method_used": 1,
          "standard_of_living_index": 4,
          "wife_age": 23,
          "wife_education": 4,
          "wife_religion": 1
         },
         {
          "contraceptive_method_used": 3,
          "standard_of_living_index": 2,
          "wife_age": 19,
          "wife_education": 4,
          "wife_religion": 1
         },
         {
          "contraceptive_method_used": 3,
          "standard_of_living_index": 3,
          "wife_age": 28,
          "wife_education": 2,
          "wife_religion": 1
         },
         {
          "contraceptive_method_used": 2,
          "standard_of_living_index": 4,
          "wife_age": 32,
          "wife_education": 4,
          "wife_religion": 0
         },
         {
          "contraceptive_method_used": 2,
          "standard_of_living_index": 3,
          "wife_age": 29,
          "wife_education": 3,
          "wife_religion": 1
         },
         {
          "contraceptive_method_used": 3,
          "standard_of_living_index": 3,
          "wife_age": 30,
          "wife_education": 3,
          "wife_religion": 1
         },
         {
          "contraceptive_method_used": 1,
          "standard_of_living_index": 2,
          "wife_age": 28,
          "wife_education": 3,
          "wife_religion": 0
         },
         {
          "contraceptive_method_used": 1,
          "standard_of_living_index": 4,
          "wife_age": 25,
          "wife_education": 4,
          "wife_religion": 1
         },
         {
          "contraceptive_method_used": 1,
          "standard_of_living_index": 3,
          "wife_age": 32,
          "wife_education": 4,
          "wife_religion": 1
         },
         {
          "contraceptive_method_used": 1,
          "standard_of_living_index": 4,
          "wife_age": 27,
          "wife_education": 4,
          "wife_religion": 0
         },
         {
          "contraceptive_method_used": 1,
          "standard_of_living_index": 4,
          "wife_age": 48,
          "wife_education": 4,
          "wife_religion": 0
         },
         {
          "contraceptive_method_used": 3,
          "standard_of_living_index": 4,
          "wife_age": 26,
          "wife_education": 4,
          "wife_religion": 1
         },
         {
          "contraceptive_method_used": 2,
          "standard_of_living_index": 4,
          "wife_age": 45,
          "wife_education": 4,
          "wife_religion": 1
         },
         {
          "contraceptive_method_used": 1,
          "standard_of_living_index": 4,
          "wife_age": 49,
          "wife_education": 2,
          "wife_religion": 1
         },
         {
          "contraceptive_method_used": 3,
          "standard_of_living_index": 2,
          "wife_age": 26,
          "wife_education": 4,
          "wife_religion": 1
         },
         {
          "contraceptive_method_used": 2,
          "standard_of_living_index": 3,
          "wife_age": 32,
          "wife_education": 4,
          "wife_religion": 0
         },
         {
          "contraceptive_method_used": 1,
          "standard_of_living_index": 2,
          "wife_age": 26,
          "wife_education": 2,
          "wife_religion": 1
         },
         {
          "contraceptive_method_used": 1,
          "standard_of_living_index": 2,
          "wife_age": 32,
          "wife_education": 1,
          "wife_religion": 1
         },
         {
          "contraceptive_method_used": 1,
          "standard_of_living_index": 4,
          "wife_age": 42,
          "wife_education": 2,
          "wife_religion": 1
         },
         {
          "contraceptive_method_used": 1,
          "standard_of_living_index": 4,
          "wife_age": 48,
          "wife_education": 4,
          "wife_religion": 1
         },
         {
          "contraceptive_method_used": 1,
          "standard_of_living_index": 4,
          "wife_age": 43,
          "wife_education": 1,
          "wife_religion": 1
         },
         {
          "contraceptive_method_used": 1,
          "standard_of_living_index": 3,
          "wife_age": 32,
          "wife_education": 2,
          "wife_religion": 1
         },
         {
          "contraceptive_method_used": 3,
          "standard_of_living_index": 3,
          "wife_age": 21,
          "wife_education": 3,
          "wife_religion": 1
         },
         {
          "contraceptive_method_used": 1,
          "standard_of_living_index": 1,
          "wife_age": 47,
          "wife_education": 2,
          "wife_religion": 1
         },
         {
          "contraceptive_method_used": 1,
          "standard_of_living_index": 4,
          "wife_age": 34,
          "wife_education": 4,
          "wife_religion": 1
         },
         {
          "contraceptive_method_used": 3,
          "standard_of_living_index": 1,
          "wife_age": 30,
          "wife_education": 3,
          "wife_religion": 1
         },
         {
          "contraceptive_method_used": 3,
          "standard_of_living_index": 4,
          "wife_age": 36,
          "wife_education": 3,
          "wife_religion": 1
         },
         {
          "contraceptive_method_used": 1,
          "standard_of_living_index": 2,
          "wife_age": 31,
          "wife_education": 2,
          "wife_religion": 1
         },
         {
          "contraceptive_method_used": 1,
          "standard_of_living_index": 3,
          "wife_age": 45,
          "wife_education": 4,
          "wife_religion": 1
         },
         {
          "contraceptive_method_used": 1,
          "standard_of_living_index": 4,
          "wife_age": 49,
          "wife_education": 4,
          "wife_religion": 0
         },
         {
          "contraceptive_method_used": 3,
          "standard_of_living_index": 4,
          "wife_age": 41,
          "wife_education": 4,
          "wife_religion": 1
         },
         {
          "contraceptive_method_used": 1,
          "standard_of_living_index": 4,
          "wife_age": 49,
          "wife_education": 3,
          "wife_religion": 1
         },
         {
          "contraceptive_method_used": 3,
          "standard_of_living_index": 1,
          "wife_age": 24,
          "wife_education": 3,
          "wife_religion": 1
         },
         {
          "contraceptive_method_used": 3,
          "standard_of_living_index": 4,
          "wife_age": 30,
          "wife_education": 2,
          "wife_religion": 1
         },
         {
          "contraceptive_method_used": 3,
          "standard_of_living_index": 1,
          "wife_age": 25,
          "wife_education": 2,
          "wife_religion": 1
         },
         {
          "contraceptive_method_used": 3,
          "standard_of_living_index": 4,
          "wife_age": 41,
          "wife_education": 1,
          "wife_religion": 1
         },
         {
          "contraceptive_method_used": 1,
          "standard_of_living_index": 2,
          "wife_age": 40,
          "wife_education": 3,
          "wife_religion": 1
         },
         {
          "contraceptive_method_used": 1,
          "standard_of_living_index": 2,
          "wife_age": 32,
          "wife_education": 1,
          "wife_religion": 1
         },
         {
          "contraceptive_method_used": 3,
          "standard_of_living_index": 3,
          "wife_age": 26,
          "wife_education": 3,
          "wife_religion": 1
         },
         {
          "contraceptive_method_used": 3,
          "standard_of_living_index": 2,
          "wife_age": 35,
          "wife_education": 1,
          "wife_religion": 1
         },
         {
          "contraceptive_method_used": 2,
          "standard_of_living_index": 3,
          "wife_age": 36,
          "wife_education": 3,
          "wife_religion": 1
         },
         {
          "contraceptive_method_used": 1,
          "standard_of_living_index": 2,
          "wife_age": 40,
          "wife_education": 2,
          "wife_religion": 1
         },
         {
          "contraceptive_method_used": 2,
          "standard_of_living_index": 3,
          "wife_age": 35,
          "wife_education": 4,
          "wife_religion": 1
         },
         {
          "contraceptive_method_used": 1,
          "standard_of_living_index": 3,
          "wife_age": 48,
          "wife_education": 3,
          "wife_religion": 1
         },
         {
          "contraceptive_method_used": 1,
          "standard_of_living_index": 4,
          "wife_age": 27,
          "wife_education": 4,
          "wife_religion": 1
         },
         {
          "contraceptive_method_used": 3,
          "standard_of_living_index": 3,
          "wife_age": 35,
          "wife_education": 2,
          "wife_religion": 1
         },
         {
          "contraceptive_method_used": 3,
          "standard_of_living_index": 3,
          "wife_age": 47,
          "wife_education": 4,
          "wife_religion": 1
         },
         {
          "contraceptive_method_used": 1,
          "standard_of_living_index": 3,
          "wife_age": 26,
          "wife_education": 2,
          "wife_religion": 1
         },
         {
          "contraceptive_method_used": 3,
          "standard_of_living_index": 2,
          "wife_age": 30,
          "wife_education": 4,
          "wife_religion": 1
         },
         {
          "contraceptive_method_used": 3,
          "standard_of_living_index": 1,
          "wife_age": 29,
          "wife_education": 2,
          "wife_religion": 1
         },
         {
          "contraceptive_method_used": 3,
          "standard_of_living_index": 4,
          "wife_age": 28,
          "wife_education": 3,
          "wife_religion": 1
         },
         {
          "contraceptive_method_used": 3,
          "standard_of_living_index": 4,
          "wife_age": 43,
          "wife_education": 4,
          "wife_religion": 0
         },
         {
          "contraceptive_method_used": 2,
          "standard_of_living_index": 4,
          "wife_age": 42,
          "wife_education": 4,
          "wife_religion": 1
         },
         {
          "contraceptive_method_used": 3,
          "standard_of_living_index": 3,
          "wife_age": 34,
          "wife_education": 2,
          "wife_religion": 1
         },
         {
          "contraceptive_method_used": 1,
          "standard_of_living_index": 2,
          "wife_age": 31,
          "wife_education": 3,
          "wife_religion": 1
         },
         {
          "contraceptive_method_used": 3,
          "standard_of_living_index": 2,
          "wife_age": 36,
          "wife_education": 4,
          "wife_religion": 0
         },
         {
          "contraceptive_method_used": 2,
          "standard_of_living_index": 3,
          "wife_age": 28,
          "wife_education": 3,
          "wife_religion": 0
         },
         {
          "contraceptive_method_used": 2,
          "standard_of_living_index": 3,
          "wife_age": 33,
          "wife_education": 4,
          "wife_religion": 1
         },
         {
          "contraceptive_method_used": 3,
          "standard_of_living_index": 4,
          "wife_age": 44,
          "wife_education": 4,
          "wife_religion": 1
         },
         {
          "contraceptive_method_used": 2,
          "standard_of_living_index": 4,
          "wife_age": 33,
          "wife_education": 3,
          "wife_religion": 0
         },
         {
          "contraceptive_method_used": 3,
          "standard_of_living_index": 3,
          "wife_age": 29,
          "wife_education": 3,
          "wife_religion": 1
         },
         {
          "contraceptive_method_used": 1,
          "standard_of_living_index": 3,
          "wife_age": 31,
          "wife_education": 4,
          "wife_religion": 1
         },
         {
          "contraceptive_method_used": 3,
          "standard_of_living_index": 4,
          "wife_age": 29,
          "wife_education": 2,
          "wife_religion": 1
         },
         {
          "contraceptive_method_used": 1,
          "standard_of_living_index": 3,
          "wife_age": 49,
          "wife_education": 2,
          "wife_religion": 1
         },
         {
          "contraceptive_method_used": 2,
          "standard_of_living_index": 4,
          "wife_age": 27,
          "wife_education": 3,
          "wife_religion": 1
         },
         {
          "contraceptive_method_used": 2,
          "standard_of_living_index": 4,
          "wife_age": 43,
          "wife_education": 4,
          "wife_religion": 0
         },
         {
          "contraceptive_method_used": 3,
          "standard_of_living_index": 4,
          "wife_age": 28,
          "wife_education": 4,
          "wife_religion": 1
         },
         {
          "contraceptive_method_used": 1,
          "standard_of_living_index": 2,
          "wife_age": 45,
          "wife_education": 2,
          "wife_religion": 1
         },
         {
          "contraceptive_method_used": 1,
          "standard_of_living_index": 2,
          "wife_age": 19,
          "wife_education": 2,
          "wife_religion": 1
         },
         {
          "contraceptive_method_used": 3,
          "standard_of_living_index": 4,
          "wife_age": 30,
          "wife_education": 1,
          "wife_religion": 1
         },
         {
          "contraceptive_method_used": 3,
          "standard_of_living_index": 4,
          "wife_age": 32,
          "wife_education": 2,
          "wife_religion": 1
         },
         {
          "contraceptive_method_used": 1,
          "standard_of_living_index": 1,
          "wife_age": 24,
          "wife_education": 2,
          "wife_religion": 1
         },
         {
          "contraceptive_method_used": 3,
          "standard_of_living_index": 4,
          "wife_age": 25,
          "wife_education": 3,
          "wife_religion": 1
         },
         {
          "contraceptive_method_used": 1,
          "standard_of_living_index": 2,
          "wife_age": 31,
          "wife_education": 3,
          "wife_religion": 1
         },
         {
          "contraceptive_method_used": 1,
          "standard_of_living_index": 4,
          "wife_age": 48,
          "wife_education": 3,
          "wife_religion": 1
         },
         {
          "contraceptive_method_used": 1,
          "standard_of_living_index": 4,
          "wife_age": 47,
          "wife_education": 4,
          "wife_religion": 1
         },
         {
          "contraceptive_method_used": 3,
          "standard_of_living_index": 3,
          "wife_age": 47,
          "wife_education": 4,
          "wife_religion": 1
         },
         {
          "contraceptive_method_used": 3,
          "standard_of_living_index": 4,
          "wife_age": 28,
          "wife_education": 2,
          "wife_religion": 1
         },
         {
          "contraceptive_method_used": 1,
          "standard_of_living_index": 2,
          "wife_age": 36,
          "wife_education": 1,
          "wife_religion": 1
         },
         {
          "contraceptive_method_used": 1,
          "standard_of_living_index": 2,
          "wife_age": 27,
          "wife_education": 4,
          "wife_religion": 1
         },
         {
          "contraceptive_method_used": 1,
          "standard_of_living_index": 4,
          "wife_age": 37,
          "wife_education": 3,
          "wife_religion": 1
         },
         {
          "contraceptive_method_used": 1,
          "standard_of_living_index": 3,
          "wife_age": 47,
          "wife_education": 2,
          "wife_religion": 1
         },
         {
          "contraceptive_method_used": 3,
          "standard_of_living_index": 4,
          "wife_age": 37,
          "wife_education": 4,
          "wife_religion": 1
         },
         {
          "contraceptive_method_used": 3,
          "standard_of_living_index": 4,
          "wife_age": 29,
          "wife_education": 3,
          "wife_religion": 1
         },
         {
          "contraceptive_method_used": 3,
          "standard_of_living_index": 2,
          "wife_age": 39,
          "wife_education": 4,
          "wife_religion": 1
         },
         {
          "contraceptive_method_used": 3,
          "standard_of_living_index": 4,
          "wife_age": 44,
          "wife_education": 4,
          "wife_religion": 1
         },
         {
          "contraceptive_method_used": 3,
          "standard_of_living_index": 4,
          "wife_age": 27,
          "wife_education": 3,
          "wife_religion": 1
         },
         {
          "contraceptive_method_used": 1,
          "standard_of_living_index": 4,
          "wife_age": 34,
          "wife_education": 2,
          "wife_religion": 1
         },
         {
          "contraceptive_method_used": 3,
          "standard_of_living_index": 2,
          "wife_age": 21,
          "wife_education": 3,
          "wife_religion": 1
         },
         {
          "contraceptive_method_used": 3,
          "standard_of_living_index": 3,
          "wife_age": 20,
          "wife_education": 4,
          "wife_religion": 1
         },
         {
          "contraceptive_method_used": 1,
          "standard_of_living_index": 3,
          "wife_age": 32,
          "wife_education": 2,
          "wife_religion": 1
         },
         {
          "contraceptive_method_used": 3,
          "standard_of_living_index": 4,
          "wife_age": 25,
          "wife_education": 3,
          "wife_religion": 1
         },
         {
          "contraceptive_method_used": 3,
          "standard_of_living_index": 3,
          "wife_age": 24,
          "wife_education": 3,
          "wife_religion": 1
         },
         {
          "contraceptive_method_used": 1,
          "standard_of_living_index": 4,
          "wife_age": 42,
          "wife_education": 3,
          "wife_religion": 1
         },
         {
          "contraceptive_method_used": 3,
          "standard_of_living_index": 4,
          "wife_age": 25,
          "wife_education": 4,
          "wife_religion": 1
         },
         {
          "contraceptive_method_used": 3,
          "standard_of_living_index": 3,
          "wife_age": 24,
          "wife_education": 3,
          "wife_religion": 1
         },
         {
          "contraceptive_method_used": 2,
          "standard_of_living_index": 4,
          "wife_age": 32,
          "wife_education": 4,
          "wife_religion": 1
         },
         {
          "contraceptive_method_used": 3,
          "standard_of_living_index": 4,
          "wife_age": 41,
          "wife_education": 4,
          "wife_religion": 1
         },
         {
          "contraceptive_method_used": 1,
          "standard_of_living_index": 1,
          "wife_age": 18,
          "wife_education": 3,
          "wife_religion": 1
         },
         {
          "contraceptive_method_used": 2,
          "standard_of_living_index": 4,
          "wife_age": 36,
          "wife_education": 3,
          "wife_religion": 0
         },
         {
          "contraceptive_method_used": 1,
          "standard_of_living_index": 4,
          "wife_age": 47,
          "wife_education": 4,
          "wife_religion": 0
         },
         {
          "contraceptive_method_used": 2,
          "standard_of_living_index": 4,
          "wife_age": 40,
          "wife_education": 4,
          "wife_religion": 1
         },
         {
          "contraceptive_method_used": 1,
          "standard_of_living_index": 4,
          "wife_age": 42,
          "wife_education": 4,
          "wife_religion": 1
         },
         {
          "contraceptive_method_used": 1,
          "standard_of_living_index": 3,
          "wife_age": 46,
          "wife_education": 4,
          "wife_religion": 1
         },
         {
          "contraceptive_method_used": 2,
          "standard_of_living_index": 2,
          "wife_age": 43,
          "wife_education": 3,
          "wife_religion": 1
         },
         {
          "contraceptive_method_used": 1,
          "standard_of_living_index": 2,
          "wife_age": 40,
          "wife_education": 3,
          "wife_religion": 1
         },
         {
          "contraceptive_method_used": 3,
          "standard_of_living_index": 2,
          "wife_age": 32,
          "wife_education": 2,
          "wife_religion": 1
         },
         {
          "contraceptive_method_used": 1,
          "standard_of_living_index": 2,
          "wife_age": 35,
          "wife_education": 3,
          "wife_religion": 1
         },
         {
          "contraceptive_method_used": 1,
          "standard_of_living_index": 4,
          "wife_age": 42,
          "wife_education": 4,
          "wife_religion": 0
         },
         {
          "contraceptive_method_used": 1,
          "standard_of_living_index": 2,
          "wife_age": 37,
          "wife_education": 1,
          "wife_religion": 1
         },
         {
          "contraceptive_method_used": 2,
          "standard_of_living_index": 3,
          "wife_age": 41,
          "wife_education": 3,
          "wife_religion": 1
         },
         {
          "contraceptive_method_used": 1,
          "standard_of_living_index": 2,
          "wife_age": 24,
          "wife_education": 3,
          "wife_religion": 1
         },
         {
          "contraceptive_method_used": 1,
          "standard_of_living_index": 4,
          "wife_age": 25,
          "wife_education": 4,
          "wife_religion": 0
         },
         {
          "contraceptive_method_used": 3,
          "standard_of_living_index": 3,
          "wife_age": 22,
          "wife_education": 2,
          "wife_religion": 1
         },
         {
          "contraceptive_method_used": 1,
          "standard_of_living_index": 3,
          "wife_age": 30,
          "wife_education": 4,
          "wife_religion": 1
         },
         {
          "contraceptive_method_used": 2,
          "standard_of_living_index": 1,
          "wife_age": 33,
          "wife_education": 2,
          "wife_religion": 1
         },
         {
          "contraceptive_method_used": 2,
          "standard_of_living_index": 4,
          "wife_age": 33,
          "wife_education": 2,
          "wife_religion": 1
         },
         {
          "contraceptive_method_used": 1,
          "standard_of_living_index": 4,
          "wife_age": 27,
          "wife_education": 4,
          "wife_religion": 1
         },
         {
          "contraceptive_method_used": 3,
          "standard_of_living_index": 2,
          "wife_age": 21,
          "wife_education": 3,
          "wife_religion": 1
         },
         {
          "contraceptive_method_used": 1,
          "standard_of_living_index": 4,
          "wife_age": 30,
          "wife_education": 1,
          "wife_religion": 1
         },
         {
          "contraceptive_method_used": 3,
          "standard_of_living_index": 2,
          "wife_age": 37,
          "wife_education": 3,
          "wife_religion": 1
         },
         {
          "contraceptive_method_used": 2,
          "standard_of_living_index": 2,
          "wife_age": 24,
          "wife_education": 3,
          "wife_religion": 1
         },
         {
          "contraceptive_method_used": 2,
          "standard_of_living_index": 4,
          "wife_age": 41,
          "wife_education": 4,
          "wife_religion": 1
         },
         {
          "contraceptive_method_used": 1,
          "standard_of_living_index": 3,
          "wife_age": 38,
          "wife_education": 3,
          "wife_religion": 1
         },
         {
          "contraceptive_method_used": 1,
          "standard_of_living_index": 4,
          "wife_age": 37,
          "wife_education": 3,
          "wife_religion": 1
         },
         {
          "contraceptive_method_used": 2,
          "standard_of_living_index": 4,
          "wife_age": 34,
          "wife_education": 4,
          "wife_religion": 1
         },
         {
          "contraceptive_method_used": 2,
          "standard_of_living_index": 4,
          "wife_age": 25,
          "wife_education": 3,
          "wife_religion": 1
         },
         {
          "contraceptive_method_used": 1,
          "standard_of_living_index": 4,
          "wife_age": 42,
          "wife_education": 4,
          "wife_religion": 1
         },
         {
          "contraceptive_method_used": 3,
          "standard_of_living_index": 2,
          "wife_age": 24,
          "wife_education": 1,
          "wife_religion": 1
         },
         {
          "contraceptive_method_used": 2,
          "standard_of_living_index": 4,
          "wife_age": 30,
          "wife_education": 2,
          "wife_religion": 1
         },
         {
          "contraceptive_method_used": 1,
          "standard_of_living_index": 4,
          "wife_age": 34,
          "wife_education": 1,
          "wife_religion": 1
         },
         {
          "contraceptive_method_used": 1,
          "standard_of_living_index": 3,
          "wife_age": 23,
          "wife_education": 3,
          "wife_religion": 1
         },
         {
          "contraceptive_method_used": 2,
          "standard_of_living_index": 3,
          "wife_age": 27,
          "wife_education": 4,
          "wife_religion": 1
         },
         {
          "contraceptive_method_used": 2,
          "standard_of_living_index": 4,
          "wife_age": 33,
          "wife_education": 4,
          "wife_religion": 0
         },
         {
          "contraceptive_method_used": 2,
          "standard_of_living_index": 4,
          "wife_age": 37,
          "wife_education": 4,
          "wife_religion": 1
         },
         {
          "contraceptive_method_used": 2,
          "standard_of_living_index": 4,
          "wife_age": 21,
          "wife_education": 4,
          "wife_religion": 1
         },
         {
          "contraceptive_method_used": 2,
          "standard_of_living_index": 4,
          "wife_age": 27,
          "wife_education": 3,
          "wife_religion": 1
         },
         {
          "contraceptive_method_used": 2,
          "standard_of_living_index": 4,
          "wife_age": 41,
          "wife_education": 4,
          "wife_religion": 1
         },
         {
          "contraceptive_method_used": 1,
          "standard_of_living_index": 3,
          "wife_age": 40,
          "wife_education": 2,
          "wife_religion": 1
         },
         {
          "contraceptive_method_used": 2,
          "standard_of_living_index": 4,
          "wife_age": 44,
          "wife_education": 4,
          "wife_religion": 1
         },
         {
          "contraceptive_method_used": 1,
          "standard_of_living_index": 3,
          "wife_age": 36,
          "wife_education": 2,
          "wife_religion": 1
         },
         {
          "contraceptive_method_used": 1,
          "standard_of_living_index": 4,
          "wife_age": 43,
          "wife_education": 3,
          "wife_religion": 1
         },
         {
          "contraceptive_method_used": 1,
          "standard_of_living_index": 1,
          "wife_age": 28,
          "wife_education": 3,
          "wife_religion": 1
         },
         {
          "contraceptive_method_used": 1,
          "standard_of_living_index": 4,
          "wife_age": 45,
          "wife_education": 1,
          "wife_religion": 1
         },
         {
          "contraceptive_method_used": 1,
          "standard_of_living_index": 4,
          "wife_age": 40,
          "wife_education": 4,
          "wife_religion": 1
         },
         {
          "contraceptive_method_used": 1,
          "standard_of_living_index": 1,
          "wife_age": 45,
          "wife_education": 1,
          "wife_religion": 0
         },
         {
          "contraceptive_method_used": 1,
          "standard_of_living_index": 3,
          "wife_age": 35,
          "wife_education": 2,
          "wife_religion": 1
         },
         {
          "contraceptive_method_used": 3,
          "standard_of_living_index": 3,
          "wife_age": 28,
          "wife_education": 3,
          "wife_religion": 0
         },
         {
          "contraceptive_method_used": 1,
          "standard_of_living_index": 3,
          "wife_age": 45,
          "wife_education": 2,
          "wife_religion": 1
         },
         {
          "contraceptive_method_used": 2,
          "standard_of_living_index": 4,
          "wife_age": 24,
          "wife_education": 4,
          "wife_religion": 1
         },
         {
          "contraceptive_method_used": 1,
          "standard_of_living_index": 1,
          "wife_age": 19,
          "wife_education": 2,
          "wife_religion": 1
         },
         {
          "contraceptive_method_used": 1,
          "standard_of_living_index": 2,
          "wife_age": 47,
          "wife_education": 2,
          "wife_religion": 1
         },
         {
          "contraceptive_method_used": 3,
          "standard_of_living_index": 3,
          "wife_age": 21,
          "wife_education": 1,
          "wife_religion": 1
         },
         {
          "contraceptive_method_used": 3,
          "standard_of_living_index": 4,
          "wife_age": 39,
          "wife_education": 4,
          "wife_religion": 0
         },
         {
          "contraceptive_method_used": 2,
          "standard_of_living_index": 4,
          "wife_age": 48,
          "wife_education": 4,
          "wife_religion": 0
         },
         {
          "contraceptive_method_used": 1,
          "standard_of_living_index": 4,
          "wife_age": 32,
          "wife_education": 3,
          "wife_religion": 0
         },
         {
          "contraceptive_method_used": 1,
          "standard_of_living_index": 3,
          "wife_age": 34,
          "wife_education": 4,
          "wife_religion": 0
         },
         {
          "contraceptive_method_used": 3,
          "standard_of_living_index": 4,
          "wife_age": 34,
          "wife_education": 4,
          "wife_religion": 1
         },
         {
          "contraceptive_method_used": 1,
          "standard_of_living_index": 3,
          "wife_age": 34,
          "wife_education": 3,
          "wife_religion": 1
         },
         {
          "contraceptive_method_used": 3,
          "standard_of_living_index": 4,
          "wife_age": 28,
          "wife_education": 4,
          "wife_religion": 1
         },
         {
          "contraceptive_method_used": 2,
          "standard_of_living_index": 2,
          "wife_age": 35,
          "wife_education": 3,
          "wife_religion": 1
         },
         {
          "contraceptive_method_used": 3,
          "standard_of_living_index": 4,
          "wife_age": 34,
          "wife_education": 4,
          "wife_religion": 1
         },
         {
          "contraceptive_method_used": 3,
          "standard_of_living_index": 3,
          "wife_age": 25,
          "wife_education": 4,
          "wife_religion": 1
         },
         {
          "contraceptive_method_used": 3,
          "standard_of_living_index": 4,
          "wife_age": 27,
          "wife_education": 4,
          "wife_religion": 0
         },
         {
          "contraceptive_method_used": 2,
          "standard_of_living_index": 3,
          "wife_age": 38,
          "wife_education": 4,
          "wife_religion": 1
         },
         {
          "contraceptive_method_used": 1,
          "standard_of_living_index": 4,
          "wife_age": 43,
          "wife_education": 4,
          "wife_religion": 1
         },
         {
          "contraceptive_method_used": 2,
          "standard_of_living_index": 4,
          "wife_age": 36,
          "wife_education": 4,
          "wife_religion": 0
         },
         {
          "contraceptive_method_used": 3,
          "standard_of_living_index": 3,
          "wife_age": 23,
          "wife_education": 3,
          "wife_religion": 1
         },
         {
          "contraceptive_method_used": 3,
          "standard_of_living_index": 4,
          "wife_age": 24,
          "wife_education": 4,
          "wife_religion": 1
         },
         {
          "contraceptive_method_used": 1,
          "standard_of_living_index": 4,
          "wife_age": 23,
          "wife_education": 4,
          "wife_religion": 1
         },
         {
          "contraceptive_method_used": 2,
          "standard_of_living_index": 4,
          "wife_age": 25,
          "wife_education": 4,
          "wife_religion": 1
         },
         {
          "contraceptive_method_used": 2,
          "standard_of_living_index": 4,
          "wife_age": 25,
          "wife_education": 2,
          "wife_religion": 1
         },
         {
          "contraceptive_method_used": 2,
          "standard_of_living_index": 4,
          "wife_age": 36,
          "wife_education": 4,
          "wife_religion": 0
         },
         {
          "contraceptive_method_used": 1,
          "standard_of_living_index": 3,
          "wife_age": 35,
          "wife_education": 4,
          "wife_religion": 0
         },
         {
          "contraceptive_method_used": 1,
          "standard_of_living_index": 3,
          "wife_age": 31,
          "wife_education": 3,
          "wife_religion": 1
         },
         {
          "contraceptive_method_used": 1,
          "standard_of_living_index": 4,
          "wife_age": 32,
          "wife_education": 2,
          "wife_religion": 1
         },
         {
          "contraceptive_method_used": 1,
          "standard_of_living_index": 3,
          "wife_age": 39,
          "wife_education": 3,
          "wife_religion": 1
         },
         {
          "contraceptive_method_used": 3,
          "standard_of_living_index": 4,
          "wife_age": 39,
          "wife_education": 4,
          "wife_religion": 1
         },
         {
          "contraceptive_method_used": 2,
          "standard_of_living_index": 2,
          "wife_age": 32,
          "wife_education": 3,
          "wife_religion": 1
         },
         {
          "contraceptive_method_used": 2,
          "standard_of_living_index": 4,
          "wife_age": 39,
          "wife_education": 4,
          "wife_religion": 1
         },
         {
          "contraceptive_method_used": 3,
          "standard_of_living_index": 3,
          "wife_age": 32,
          "wife_education": 1,
          "wife_religion": 0
         },
         {
          "contraceptive_method_used": 3,
          "standard_of_living_index": 4,
          "wife_age": 19,
          "wife_education": 4,
          "wife_religion": 1
         },
         {
          "contraceptive_method_used": 3,
          "standard_of_living_index": 2,
          "wife_age": 33,
          "wife_education": 3,
          "wife_religion": 1
         },
         {
          "contraceptive_method_used": 1,
          "standard_of_living_index": 4,
          "wife_age": 23,
          "wife_education": 4,
          "wife_religion": 1
         },
         {
          "contraceptive_method_used": 1,
          "standard_of_living_index": 3,
          "wife_age": 38,
          "wife_education": 1,
          "wife_religion": 1
         },
         {
          "contraceptive_method_used": 2,
          "standard_of_living_index": 4,
          "wife_age": 25,
          "wife_education": 2,
          "wife_religion": 1
         },
         {
          "contraceptive_method_used": 1,
          "standard_of_living_index": 3,
          "wife_age": 43,
          "wife_education": 4,
          "wife_religion": 1
         },
         {
          "contraceptive_method_used": 1,
          "standard_of_living_index": 1,
          "wife_age": 25,
          "wife_education": 2,
          "wife_religion": 1
         },
         {
          "contraceptive_method_used": 3,
          "standard_of_living_index": 4,
          "wife_age": 46,
          "wife_education": 1,
          "wife_religion": 1
         },
         {
          "contraceptive_method_used": 1,
          "standard_of_living_index": 4,
          "wife_age": 30,
          "wife_education": 4,
          "wife_religion": 1
         },
         {
          "contraceptive_method_used": 1,
          "standard_of_living_index": 1,
          "wife_age": 28,
          "wife_education": 3,
          "wife_religion": 1
         },
         {
          "contraceptive_method_used": 2,
          "standard_of_living_index": 4,
          "wife_age": 40,
          "wife_education": 3,
          "wife_religion": 0
         },
         {
          "contraceptive_method_used": 1,
          "standard_of_living_index": 4,
          "wife_age": 30,
          "wife_education": 4,
          "wife_religion": 1
         },
         {
          "contraceptive_method_used": 3,
          "standard_of_living_index": 2,
          "wife_age": 25,
          "wife_education": 2,
          "wife_religion": 1
         },
         {
          "contraceptive_method_used": 2,
          "standard_of_living_index": 4,
          "wife_age": 37,
          "wife_education": 4,
          "wife_religion": 0
         },
         {
          "contraceptive_method_used": 3,
          "standard_of_living_index": 2,
          "wife_age": 37,
          "wife_education": 4,
          "wife_religion": 1
         },
         {
          "contraceptive_method_used": 1,
          "standard_of_living_index": 2,
          "wife_age": 27,
          "wife_education": 3,
          "wife_religion": 1
         },
         {
          "contraceptive_method_used": 1,
          "standard_of_living_index": 4,
          "wife_age": 22,
          "wife_education": 4,
          "wife_religion": 1
         },
         {
          "contraceptive_method_used": 1,
          "standard_of_living_index": 2,
          "wife_age": 21,
          "wife_education": 3,
          "wife_religion": 1
         },
         {
          "contraceptive_method_used": 3,
          "standard_of_living_index": 2,
          "wife_age": 30,
          "wife_education": 3,
          "wife_religion": 1
         },
         {
          "contraceptive_method_used": 2,
          "standard_of_living_index": 4,
          "wife_age": 32,
          "wife_education": 4,
          "wife_religion": 1
         },
         {
          "contraceptive_method_used": 1,
          "standard_of_living_index": 3,
          "wife_age": 22,
          "wife_education": 2,
          "wife_religion": 1
         },
         {
          "contraceptive_method_used": 3,
          "standard_of_living_index": 4,
          "wife_age": 22,
          "wife_education": 3,
          "wife_religion": 1
         },
         {
          "contraceptive_method_used": 2,
          "standard_of_living_index": 4,
          "wife_age": 24,
          "wife_education": 4,
          "wife_religion": 1
         },
         {
          "contraceptive_method_used": 2,
          "standard_of_living_index": 4,
          "wife_age": 36,
          "wife_education": 4,
          "wife_religion": 1
         },
         {
          "contraceptive_method_used": 2,
          "standard_of_living_index": 3,
          "wife_age": 43,
          "wife_education": 2,
          "wife_religion": 1
         },
         {
          "contraceptive_method_used": 1,
          "standard_of_living_index": 2,
          "wife_age": 27,
          "wife_education": 2,
          "wife_religion": 1
         },
         {
          "contraceptive_method_used": 3,
          "standard_of_living_index": 4,
          "wife_age": 34,
          "wife_education": 3,
          "wife_religion": 0
         },
         {
          "contraceptive_method_used": 3,
          "standard_of_living_index": 3,
          "wife_age": 34,
          "wife_education": 4,
          "wife_religion": 1
         },
         {
          "contraceptive_method_used": 1,
          "standard_of_living_index": 3,
          "wife_age": 20,
          "wife_education": 3,
          "wife_religion": 1
         },
         {
          "contraceptive_method_used": 2,
          "standard_of_living_index": 2,
          "wife_age": 38,
          "wife_education": 2,
          "wife_religion": 1
         },
         {
          "contraceptive_method_used": 1,
          "standard_of_living_index": 1,
          "wife_age": 18,
          "wife_education": 3,
          "wife_religion": 1
         },
         {
          "contraceptive_method_used": 3,
          "standard_of_living_index": 4,
          "wife_age": 36,
          "wife_education": 2,
          "wife_religion": 1
         },
         {
          "contraceptive_method_used": 1,
          "standard_of_living_index": 4,
          "wife_age": 30,
          "wife_education": 3,
          "wife_religion": 1
         },
         {
          "contraceptive_method_used": 3,
          "standard_of_living_index": 4,
          "wife_age": 33,
          "wife_education": 3,
          "wife_religion": 1
         },
         {
          "contraceptive_method_used": 2,
          "standard_of_living_index": 4,
          "wife_age": 24,
          "wife_education": 4,
          "wife_religion": 1
         },
         {
          "contraceptive_method_used": 3,
          "standard_of_living_index": 4,
          "wife_age": 40,
          "wife_education": 2,
          "wife_religion": 0
         },
         {
          "contraceptive_method_used": 3,
          "standard_of_living_index": 1,
          "wife_age": 25,
          "wife_education": 1,
          "wife_religion": 1
         },
         {
          "contraceptive_method_used": 3,
          "standard_of_living_index": 1,
          "wife_age": 31,
          "wife_education": 3,
          "wife_religion": 1
         },
         {
          "contraceptive_method_used": 1,
          "standard_of_living_index": 4,
          "wife_age": 42,
          "wife_education": 4,
          "wife_religion": 1
         },
         {
          "contraceptive_method_used": 1,
          "standard_of_living_index": 4,
          "wife_age": 45,
          "wife_education": 3,
          "wife_religion": 0
         },
         {
          "contraceptive_method_used": 2,
          "standard_of_living_index": 3,
          "wife_age": 27,
          "wife_education": 4,
          "wife_religion": 1
         },
         {
          "contraceptive_method_used": 2,
          "standard_of_living_index": 2,
          "wife_age": 34,
          "wife_education": 2,
          "wife_religion": 1
         },
         {
          "contraceptive_method_used": 1,
          "standard_of_living_index": 2,
          "wife_age": 25,
          "wife_education": 3,
          "wife_religion": 1
         },
         {
          "contraceptive_method_used": 3,
          "standard_of_living_index": 2,
          "wife_age": 45,
          "wife_education": 1,
          "wife_religion": 1
         },
         {
          "contraceptive_method_used": 3,
          "standard_of_living_index": 4,
          "wife_age": 28,
          "wife_education": 2,
          "wife_religion": 1
         },
         {
          "contraceptive_method_used": 2,
          "standard_of_living_index": 4,
          "wife_age": 49,
          "wife_education": 3,
          "wife_religion": 1
         },
         {
          "contraceptive_method_used": 3,
          "standard_of_living_index": 3,
          "wife_age": 28,
          "wife_education": 1,
          "wife_religion": 1
         },
         {
          "contraceptive_method_used": 2,
          "standard_of_living_index": 4,
          "wife_age": 36,
          "wife_education": 3,
          "wife_religion": 0
         },
         {
          "contraceptive_method_used": 1,
          "standard_of_living_index": 3,
          "wife_age": 25,
          "wife_education": 1,
          "wife_religion": 1
         },
         {
          "contraceptive_method_used": 1,
          "standard_of_living_index": 2,
          "wife_age": 26,
          "wife_education": 3,
          "wife_religion": 0
         },
         {
          "contraceptive_method_used": 1,
          "standard_of_living_index": 3,
          "wife_age": 25,
          "wife_education": 4,
          "wife_religion": 0
         },
         {
          "contraceptive_method_used": 3,
          "standard_of_living_index": 2,
          "wife_age": 21,
          "wife_education": 3,
          "wife_religion": 1
         },
         {
          "contraceptive_method_used": 2,
          "standard_of_living_index": 4,
          "wife_age": 37,
          "wife_education": 4,
          "wife_religion": 0
         },
         {
          "contraceptive_method_used": 3,
          "standard_of_living_index": 3,
          "wife_age": 26,
          "wife_education": 3,
          "wife_religion": 1
         },
         {
          "contraceptive_method_used": 3,
          "standard_of_living_index": 4,
          "wife_age": 33,
          "wife_education": 4,
          "wife_religion": 1
         },
         {
          "contraceptive_method_used": 2,
          "standard_of_living_index": 3,
          "wife_age": 25,
          "wife_education": 3,
          "wife_religion": 1
         },
         {
          "contraceptive_method_used": 3,
          "standard_of_living_index": 4,
          "wife_age": 35,
          "wife_education": 3,
          "wife_religion": 1
         },
         {
          "contraceptive_method_used": 3,
          "standard_of_living_index": 4,
          "wife_age": 32,
          "wife_education": 4,
          "wife_religion": 0
         },
         {
          "contraceptive_method_used": 1,
          "standard_of_living_index": 4,
          "wife_age": 39,
          "wife_education": 3,
          "wife_religion": 0
         },
         {
          "contraceptive_method_used": 2,
          "standard_of_living_index": 4,
          "wife_age": 46,
          "wife_education": 4,
          "wife_religion": 1
         },
         {
          "contraceptive_method_used": 2,
          "standard_of_living_index": 4,
          "wife_age": 48,
          "wife_education": 4,
          "wife_religion": 1
         },
         {
          "contraceptive_method_used": 3,
          "standard_of_living_index": 4,
          "wife_age": 19,
          "wife_education": 4,
          "wife_religion": 1
         },
         {
          "contraceptive_method_used": 1,
          "standard_of_living_index": 1,
          "wife_age": 21,
          "wife_education": 2,
          "wife_religion": 1
         },
         {
          "contraceptive_method_used": 1,
          "standard_of_living_index": 4,
          "wife_age": 47,
          "wife_education": 3,
          "wife_religion": 1
         },
         {
          "contraceptive_method_used": 1,
          "standard_of_living_index": 2,
          "wife_age": 49,
          "wife_education": 1,
          "wife_religion": 1
         },
         {
          "contraceptive_method_used": 2,
          "standard_of_living_index": 4,
          "wife_age": 46,
          "wife_education": 4,
          "wife_religion": 1
         },
         {
          "contraceptive_method_used": 2,
          "standard_of_living_index": 4,
          "wife_age": 34,
          "wife_education": 3,
          "wife_religion": 1
         },
         {
          "contraceptive_method_used": 2,
          "standard_of_living_index": 4,
          "wife_age": 37,
          "wife_education": 4,
          "wife_religion": 0
         },
         {
          "contraceptive_method_used": 3,
          "standard_of_living_index": 4,
          "wife_age": 43,
          "wife_education": 4,
          "wife_religion": 1
         },
         {
          "contraceptive_method_used": 2,
          "standard_of_living_index": 4,
          "wife_age": 42,
          "wife_education": 4,
          "wife_religion": 0
         },
         {
          "contraceptive_method_used": 1,
          "standard_of_living_index": 1,
          "wife_age": 26,
          "wife_education": 2,
          "wife_religion": 1
         },
         {
          "contraceptive_method_used": 2,
          "standard_of_living_index": 4,
          "wife_age": 41,
          "wife_education": 4,
          "wife_religion": 0
         },
         {
          "contraceptive_method_used": 3,
          "standard_of_living_index": 3,
          "wife_age": 38,
          "wife_education": 4,
          "wife_religion": 0
         },
         {
          "contraceptive_method_used": 3,
          "standard_of_living_index": 2,
          "wife_age": 22,
          "wife_education": 4,
          "wife_religion": 1
         },
         {
          "contraceptive_method_used": 2,
          "standard_of_living_index": 2,
          "wife_age": 28,
          "wife_education": 3,
          "wife_religion": 1
         },
         {
          "contraceptive_method_used": 3,
          "standard_of_living_index": 3,
          "wife_age": 33,
          "wife_education": 3,
          "wife_religion": 1
         },
         {
          "contraceptive_method_used": 2,
          "standard_of_living_index": 4,
          "wife_age": 34,
          "wife_education": 4,
          "wife_religion": 1
         },
         {
          "contraceptive_method_used": 3,
          "standard_of_living_index": 4,
          "wife_age": 35,
          "wife_education": 4,
          "wife_religion": 0
         },
         {
          "contraceptive_method_used": 2,
          "standard_of_living_index": 4,
          "wife_age": 30,
          "wife_education": 3,
          "wife_religion": 1
         },
         {
          "contraceptive_method_used": 3,
          "standard_of_living_index": 3,
          "wife_age": 32,
          "wife_education": 2,
          "wife_religion": 1
         },
         {
          "contraceptive_method_used": 1,
          "standard_of_living_index": 3,
          "wife_age": 25,
          "wife_education": 3,
          "wife_religion": 1
         },
         {
          "contraceptive_method_used": 2,
          "standard_of_living_index": 4,
          "wife_age": 41,
          "wife_education": 3,
          "wife_religion": 1
         },
         {
          "contraceptive_method_used": 2,
          "standard_of_living_index": 4,
          "wife_age": 45,
          "wife_education": 3,
          "wife_religion": 0
         },
         {
          "contraceptive_method_used": 1,
          "standard_of_living_index": 4,
          "wife_age": 36,
          "wife_education": 3,
          "wife_religion": 1
         },
         {
          "contraceptive_method_used": 2,
          "standard_of_living_index": 4,
          "wife_age": 41,
          "wife_education": 4,
          "wife_religion": 1
         },
         {
          "contraceptive_method_used": 3,
          "standard_of_living_index": 4,
          "wife_age": 24,
          "wife_education": 2,
          "wife_religion": 1
         },
         {
          "contraceptive_method_used": 1,
          "standard_of_living_index": 3,
          "wife_age": 18,
          "wife_education": 3,
          "wife_religion": 1
         },
         {
          "contraceptive_method_used": 1,
          "standard_of_living_index": 4,
          "wife_age": 39,
          "wife_education": 2,
          "wife_religion": 1
         },
         {
          "contraceptive_method_used": 3,
          "standard_of_living_index": 3,
          "wife_age": 30,
          "wife_education": 3,
          "wife_religion": 1
         },
         {
          "contraceptive_method_used": 2,
          "standard_of_living_index": 3,
          "wife_age": 35,
          "wife_education": 1,
          "wife_religion": 1
         },
         {
          "contraceptive_method_used": 2,
          "standard_of_living_index": 4,
          "wife_age": 32,
          "wife_education": 4,
          "wife_religion": 0
         },
         {
          "contraceptive_method_used": 2,
          "standard_of_living_index": 3,
          "wife_age": 34,
          "wife_education": 2,
          "wife_religion": 1
         },
         {
          "contraceptive_method_used": 3,
          "standard_of_living_index": 3,
          "wife_age": 29,
          "wife_education": 2,
          "wife_religion": 1
         },
         {
          "contraceptive_method_used": 2,
          "standard_of_living_index": 3,
          "wife_age": 40,
          "wife_education": 4,
          "wife_religion": 1
         },
         {
          "contraceptive_method_used": 3,
          "standard_of_living_index": 3,
          "wife_age": 22,
          "wife_education": 3,
          "wife_religion": 1
         },
         {
          "contraceptive_method_used": 3,
          "standard_of_living_index": 4,
          "wife_age": 37,
          "wife_education": 4,
          "wife_religion": 1
         },
         {
          "contraceptive_method_used": 1,
          "standard_of_living_index": 4,
          "wife_age": 26,
          "wife_education": 3,
          "wife_religion": 1
         },
         {
          "contraceptive_method_used": 2,
          "standard_of_living_index": 4,
          "wife_age": 33,
          "wife_education": 3,
          "wife_religion": 1
         },
         {
          "contraceptive_method_used": 2,
          "standard_of_living_index": 4,
          "wife_age": 39,
          "wife_education": 4,
          "wife_religion": 1
         },
         {
          "contraceptive_method_used": 1,
          "standard_of_living_index": 3,
          "wife_age": 24,
          "wife_education": 4,
          "wife_religion": 1
         },
         {
          "contraceptive_method_used": 2,
          "standard_of_living_index": 3,
          "wife_age": 29,
          "wife_education": 4,
          "wife_religion": 1
         },
         {
          "contraceptive_method_used": 3,
          "standard_of_living_index": 3,
          "wife_age": 35,
          "wife_education": 1,
          "wife_religion": 1
         },
         {
          "contraceptive_method_used": 3,
          "standard_of_living_index": 4,
          "wife_age": 28,
          "wife_education": 4,
          "wife_religion": 1
         },
         {
          "contraceptive_method_used": 1,
          "standard_of_living_index": 1,
          "wife_age": 28,
          "wife_education": 1,
          "wife_religion": 1
         },
         {
          "contraceptive_method_used": 3,
          "standard_of_living_index": 3,
          "wife_age": 23,
          "wife_education": 4,
          "wife_religion": 1
         },
         {
          "contraceptive_method_used": 2,
          "standard_of_living_index": 2,
          "wife_age": 32,
          "wife_education": 4,
          "wife_religion": 1
         },
         {
          "contraceptive_method_used": 1,
          "standard_of_living_index": 4,
          "wife_age": 27,
          "wife_education": 2,
          "wife_religion": 1
         },
         {
          "contraceptive_method_used": 1,
          "standard_of_living_index": 4,
          "wife_age": 45,
          "wife_education": 3,
          "wife_religion": 1
         },
         {
          "contraceptive_method_used": 1,
          "standard_of_living_index": 4,
          "wife_age": 21,
          "wife_education": 2,
          "wife_religion": 1
         },
         {
          "contraceptive_method_used": 3,
          "standard_of_living_index": 4,
          "wife_age": 36,
          "wife_education": 2,
          "wife_religion": 1
         },
         {
          "contraceptive_method_used": 3,
          "standard_of_living_index": 4,
          "wife_age": 28,
          "wife_education": 2,
          "wife_religion": 1
         },
         {
          "contraceptive_method_used": 3,
          "standard_of_living_index": 4,
          "wife_age": 22,
          "wife_education": 3,
          "wife_religion": 0
         },
         {
          "contraceptive_method_used": 2,
          "standard_of_living_index": 4,
          "wife_age": 42,
          "wife_education": 2,
          "wife_religion": 1
         },
         {
          "contraceptive_method_used": 2,
          "standard_of_living_index": 3,
          "wife_age": 19,
          "wife_education": 4,
          "wife_religion": 1
         },
         {
          "contraceptive_method_used": 2,
          "standard_of_living_index": 4,
          "wife_age": 31,
          "wife_education": 4,
          "wife_religion": 1
         },
         {
          "contraceptive_method_used": 3,
          "standard_of_living_index": 4,
          "wife_age": 45,
          "wife_education": 2,
          "wife_religion": 0
         },
         {
          "contraceptive_method_used": 3,
          "standard_of_living_index": 3,
          "wife_age": 37,
          "wife_education": 3,
          "wife_religion": 1
         },
         {
          "contraceptive_method_used": 1,
          "standard_of_living_index": 4,
          "wife_age": 47,
          "wife_education": 1,
          "wife_religion": 1
         },
         {
          "contraceptive_method_used": 1,
          "standard_of_living_index": 4,
          "wife_age": 32,
          "wife_education": 4,
          "wife_religion": 0
         },
         {
          "contraceptive_method_used": 1,
          "standard_of_living_index": 4,
          "wife_age": 27,
          "wife_education": 2,
          "wife_religion": 1
         },
         {
          "contraceptive_method_used": 3,
          "standard_of_living_index": 4,
          "wife_age": 36,
          "wife_education": 2,
          "wife_religion": 1
         },
         {
          "contraceptive_method_used": 3,
          "standard_of_living_index": 4,
          "wife_age": 30,
          "wife_education": 1,
          "wife_religion": 1
         },
         {
          "contraceptive_method_used": 1,
          "standard_of_living_index": 4,
          "wife_age": 21,
          "wife_education": 1,
          "wife_religion": 1
         },
         {
          "contraceptive_method_used": 3,
          "standard_of_living_index": 3,
          "wife_age": 38,
          "wife_education": 4,
          "wife_religion": 1
         },
         {
          "contraceptive_method_used": 1,
          "standard_of_living_index": 4,
          "wife_age": 40,
          "wife_education": 1,
          "wife_religion": 1
         },
         {
          "contraceptive_method_used": 1,
          "standard_of_living_index": 3,
          "wife_age": 42,
          "wife_education": 3,
          "wife_religion": 1
         },
         {
          "contraceptive_method_used": 3,
          "standard_of_living_index": 4,
          "wife_age": 46,
          "wife_education": 2,
          "wife_religion": 0
         },
         {
          "contraceptive_method_used": 3,
          "standard_of_living_index": 4,
          "wife_age": 27,
          "wife_education": 4,
          "wife_religion": 1
         },
         {
          "contraceptive_method_used": 3,
          "standard_of_living_index": 4,
          "wife_age": 45,
          "wife_education": 4,
          "wife_religion": 1
         },
         {
          "contraceptive_method_used": 3,
          "standard_of_living_index": 4,
          "wife_age": 39,
          "wife_education": 4,
          "wife_religion": 1
         },
         {
          "contraceptive_method_used": 1,
          "standard_of_living_index": 4,
          "wife_age": 49,
          "wife_education": 3,
          "wife_religion": 1
         },
         {
          "contraceptive_method_used": 3,
          "standard_of_living_index": 3,
          "wife_age": 24,
          "wife_education": 4,
          "wife_religion": 1
         },
         {
          "contraceptive_method_used": 1,
          "standard_of_living_index": 4,
          "wife_age": 28,
          "wife_education": 3,
          "wife_religion": 1
         },
         {
          "contraceptive_method_used": 1,
          "standard_of_living_index": 3,
          "wife_age": 32,
          "wife_education": 4,
          "wife_religion": 1
         },
         {
          "contraceptive_method_used": 1,
          "standard_of_living_index": 3,
          "wife_age": 34,
          "wife_education": 2,
          "wife_religion": 1
         },
         {
          "contraceptive_method_used": 1,
          "standard_of_living_index": 4,
          "wife_age": 28,
          "wife_education": 3,
          "wife_religion": 1
         },
         {
          "contraceptive_method_used": 1,
          "standard_of_living_index": 1,
          "wife_age": 18,
          "wife_education": 3,
          "wife_religion": 1
         },
         {
          "contraceptive_method_used": 1,
          "standard_of_living_index": 4,
          "wife_age": 48,
          "wife_education": 1,
          "wife_religion": 1
         },
         {
          "contraceptive_method_used": 2,
          "standard_of_living_index": 4,
          "wife_age": 39,
          "wife_education": 4,
          "wife_religion": 1
         },
         {
          "contraceptive_method_used": 3,
          "standard_of_living_index": 3,
          "wife_age": 25,
          "wife_education": 2,
          "wife_religion": 1
         },
         {
          "contraceptive_method_used": 1,
          "standard_of_living_index": 3,
          "wife_age": 24,
          "wife_education": 3,
          "wife_religion": 1
         },
         {
          "contraceptive_method_used": 3,
          "standard_of_living_index": 4,
          "wife_age": 32,
          "wife_education": 3,
          "wife_religion": 0
         },
         {
          "contraceptive_method_used": 3,
          "standard_of_living_index": 2,
          "wife_age": 23,
          "wife_education": 1,
          "wife_religion": 1
         },
         {
          "contraceptive_method_used": 3,
          "standard_of_living_index": 4,
          "wife_age": 35,
          "wife_education": 4,
          "wife_religion": 1
         },
         {
          "contraceptive_method_used": 2,
          "standard_of_living_index": 4,
          "wife_age": 27,
          "wife_education": 4,
          "wife_religion": 1
         },
         {
          "contraceptive_method_used": 2,
          "standard_of_living_index": 3,
          "wife_age": 28,
          "wife_education": 2,
          "wife_religion": 1
         },
         {
          "contraceptive_method_used": 1,
          "standard_of_living_index": 3,
          "wife_age": 33,
          "wife_education": 4,
          "wife_religion": 1
         },
         {
          "contraceptive_method_used": 2,
          "standard_of_living_index": 4,
          "wife_age": 36,
          "wife_education": 4,
          "wife_religion": 1
         },
         {
          "contraceptive_method_used": 3,
          "standard_of_living_index": 3,
          "wife_age": 33,
          "wife_education": 4,
          "wife_religion": 1
         },
         {
          "contraceptive_method_used": 2,
          "standard_of_living_index": 4,
          "wife_age": 37,
          "wife_education": 4,
          "wife_religion": 1
         },
         {
          "contraceptive_method_used": 1,
          "standard_of_living_index": 4,
          "wife_age": 23,
          "wife_education": 3,
          "wife_religion": 1
         },
         {
          "contraceptive_method_used": 1,
          "standard_of_living_index": 3,
          "wife_age": 28,
          "wife_education": 4,
          "wife_religion": 1
         },
         {
          "contraceptive_method_used": 1,
          "standard_of_living_index": 3,
          "wife_age": 22,
          "wife_education": 4,
          "wife_religion": 1
         },
         {
          "contraceptive_method_used": 1,
          "standard_of_living_index": 4,
          "wife_age": 29,
          "wife_education": 3,
          "wife_religion": 1
         },
         {
          "contraceptive_method_used": 2,
          "standard_of_living_index": 4,
          "wife_age": 21,
          "wife_education": 4,
          "wife_religion": 1
         },
         {
          "contraceptive_method_used": 1,
          "standard_of_living_index": 3,
          "wife_age": 20,
          "wife_education": 3,
          "wife_religion": 1
         },
         {
          "contraceptive_method_used": 3,
          "standard_of_living_index": 4,
          "wife_age": 35,
          "wife_education": 4,
          "wife_religion": 1
         },
         {
          "contraceptive_method_used": 2,
          "standard_of_living_index": 2,
          "wife_age": 44,
          "wife_education": 3,
          "wife_religion": 1
         },
         {
          "contraceptive_method_used": 1,
          "standard_of_living_index": 3,
          "wife_age": 42,
          "wife_education": 3,
          "wife_religion": 1
         },
         {
          "contraceptive_method_used": 3,
          "standard_of_living_index": 2,
          "wife_age": 30,
          "wife_education": 4,
          "wife_religion": 1
         },
         {
          "contraceptive_method_used": 2,
          "standard_of_living_index": 4,
          "wife_age": 36,
          "wife_education": 4,
          "wife_religion": 0
         },
         {
          "contraceptive_method_used": 3,
          "standard_of_living_index": 4,
          "wife_age": 43,
          "wife_education": 4,
          "wife_religion": 1
         },
         {
          "contraceptive_method_used": 1,
          "standard_of_living_index": 4,
          "wife_age": 20,
          "wife_education": 4,
          "wife_religion": 1
         },
         {
          "contraceptive_method_used": 1,
          "standard_of_living_index": 3,
          "wife_age": 20,
          "wife_education": 3,
          "wife_religion": 1
         },
         {
          "contraceptive_method_used": 2,
          "standard_of_living_index": 3,
          "wife_age": 30,
          "wife_education": 4,
          "wife_religion": 1
         },
         {
          "contraceptive_method_used": 1,
          "standard_of_living_index": 4,
          "wife_age": 23,
          "wife_education": 4,
          "wife_religion": 0
         },
         {
          "contraceptive_method_used": 1,
          "standard_of_living_index": 1,
          "wife_age": 25,
          "wife_education": 3,
          "wife_religion": 1
         },
         {
          "contraceptive_method_used": 3,
          "standard_of_living_index": 3,
          "wife_age": 17,
          "wife_education": 3,
          "wife_religion": 1
         },
         {
          "contraceptive_method_used": 3,
          "standard_of_living_index": 4,
          "wife_age": 27,
          "wife_education": 2,
          "wife_religion": 1
         },
         {
          "contraceptive_method_used": 1,
          "standard_of_living_index": 4,
          "wife_age": 49,
          "wife_education": 4,
          "wife_religion": 0
         },
         {
          "contraceptive_method_used": 2,
          "standard_of_living_index": 2,
          "wife_age": 36,
          "wife_education": 3,
          "wife_religion": 1
         },
         {
          "contraceptive_method_used": 3,
          "standard_of_living_index": 4,
          "wife_age": 32,
          "wife_education": 2,
          "wife_religion": 1
         },
         {
          "contraceptive_method_used": 2,
          "standard_of_living_index": 2,
          "wife_age": 20,
          "wife_education": 3,
          "wife_religion": 1
         },
         {
          "contraceptive_method_used": 2,
          "standard_of_living_index": 4,
          "wife_age": 34,
          "wife_education": 4,
          "wife_religion": 1
         },
         {
          "contraceptive_method_used": 3,
          "standard_of_living_index": 3,
          "wife_age": 22,
          "wife_education": 4,
          "wife_religion": 1
         },
         {
          "contraceptive_method_used": 3,
          "standard_of_living_index": 1,
          "wife_age": 36,
          "wife_education": 1,
          "wife_religion": 1
         },
         {
          "contraceptive_method_used": 1,
          "standard_of_living_index": 4,
          "wife_age": 33,
          "wife_education": 3,
          "wife_religion": 1
         },
         {
          "contraceptive_method_used": 2,
          "standard_of_living_index": 2,
          "wife_age": 21,
          "wife_education": 2,
          "wife_religion": 1
         },
         {
          "contraceptive_method_used": 1,
          "standard_of_living_index": 4,
          "wife_age": 26,
          "wife_education": 2,
          "wife_religion": 1
         },
         {
          "contraceptive_method_used": 3,
          "standard_of_living_index": 3,
          "wife_age": 31,
          "wife_education": 3,
          "wife_religion": 1
         },
         {
          "contraceptive_method_used": 1,
          "standard_of_living_index": 4,
          "wife_age": 25,
          "wife_education": 2,
          "wife_religion": 1
         },
         {
          "contraceptive_method_used": 2,
          "standard_of_living_index": 3,
          "wife_age": 23,
          "wife_education": 4,
          "wife_religion": 1
         },
         {
          "contraceptive_method_used": 1,
          "standard_of_living_index": 3,
          "wife_age": 36,
          "wife_education": 4,
          "wife_religion": 1
         },
         {
          "contraceptive_method_used": 1,
          "standard_of_living_index": 3,
          "wife_age": 33,
          "wife_education": 4,
          "wife_religion": 1
         },
         {
          "contraceptive_method_used": 3,
          "standard_of_living_index": 4,
          "wife_age": 32,
          "wife_education": 4,
          "wife_religion": 0
         },
         {
          "contraceptive_method_used": 1,
          "standard_of_living_index": 4,
          "wife_age": 22,
          "wife_education": 3,
          "wife_religion": 1
         },
         {
          "contraceptive_method_used": 1,
          "standard_of_living_index": 3,
          "wife_age": 37,
          "wife_education": 2,
          "wife_religion": 1
         },
         {
          "contraceptive_method_used": 3,
          "standard_of_living_index": 4,
          "wife_age": 17,
          "wife_education": 3,
          "wife_religion": 1
         },
         {
          "contraceptive_method_used": 3,
          "standard_of_living_index": 4,
          "wife_age": 27,
          "wife_education": 4,
          "wife_religion": 1
         },
         {
          "contraceptive_method_used": 1,
          "standard_of_living_index": 2,
          "wife_age": 45,
          "wife_education": 1,
          "wife_religion": 1
         },
         {
          "contraceptive_method_used": 1,
          "standard_of_living_index": 4,
          "wife_age": 42,
          "wife_education": 2,
          "wife_religion": 1
         },
         {
          "contraceptive_method_used": 1,
          "standard_of_living_index": 4,
          "wife_age": 25,
          "wife_education": 4,
          "wife_religion": 1
         },
         {
          "contraceptive_method_used": 2,
          "standard_of_living_index": 3,
          "wife_age": 31,
          "wife_education": 2,
          "wife_religion": 1
         },
         {
          "contraceptive_method_used": 2,
          "standard_of_living_index": 3,
          "wife_age": 31,
          "wife_education": 3,
          "wife_religion": 1
         },
         {
          "contraceptive_method_used": 1,
          "standard_of_living_index": 3,
          "wife_age": 45,
          "wife_education": 4,
          "wife_religion": 1
         },
         {
          "contraceptive_method_used": 3,
          "standard_of_living_index": 2,
          "wife_age": 47,
          "wife_education": 4,
          "wife_religion": 1
         },
         {
          "contraceptive_method_used": 3,
          "standard_of_living_index": 3,
          "wife_age": 26,
          "wife_education": 3,
          "wife_religion": 1
         },
         {
          "contraceptive_method_used": 3,
          "standard_of_living_index": 4,
          "wife_age": 28,
          "wife_education": 3,
          "wife_religion": 1
         },
         {
          "contraceptive_method_used": 2,
          "standard_of_living_index": 4,
          "wife_age": 41,
          "wife_education": 4,
          "wife_religion": 0
         },
         {
          "contraceptive_method_used": 3,
          "standard_of_living_index": 3,
          "wife_age": 26,
          "wife_education": 2,
          "wife_religion": 1
         },
         {
          "contraceptive_method_used": 3,
          "standard_of_living_index": 4,
          "wife_age": 29,
          "wife_education": 4,
          "wife_religion": 1
         },
         {
          "contraceptive_method_used": 2,
          "standard_of_living_index": 4,
          "wife_age": 29,
          "wife_education": 4,
          "wife_religion": 1
         },
         {
          "contraceptive_method_used": 1,
          "standard_of_living_index": 2,
          "wife_age": 24,
          "wife_education": 4,
          "wife_religion": 1
         },
         {
          "contraceptive_method_used": 3,
          "standard_of_living_index": 2,
          "wife_age": 23,
          "wife_education": 3,
          "wife_religion": 1
         },
         {
          "contraceptive_method_used": 1,
          "standard_of_living_index": 2,
          "wife_age": 48,
          "wife_education": 1,
          "wife_religion": 1
         },
         {
          "contraceptive_method_used": 3,
          "standard_of_living_index": 2,
          "wife_age": 36,
          "wife_education": 2,
          "wife_religion": 1
         },
         {
          "contraceptive_method_used": 1,
          "standard_of_living_index": 2,
          "wife_age": 38,
          "wife_education": 2,
          "wife_religion": 1
         },
         {
          "contraceptive_method_used": 1,
          "standard_of_living_index": 2,
          "wife_age": 37,
          "wife_education": 3,
          "wife_religion": 1
         },
         {
          "contraceptive_method_used": 1,
          "standard_of_living_index": 1,
          "wife_age": 27,
          "wife_education": 2,
          "wife_religion": 1
         },
         {
          "contraceptive_method_used": 1,
          "standard_of_living_index": 4,
          "wife_age": 43,
          "wife_education": 3,
          "wife_religion": 0
         },
         {
          "contraceptive_method_used": 1,
          "standard_of_living_index": 1,
          "wife_age": 26,
          "wife_education": 1,
          "wife_religion": 1
         },
         {
          "contraceptive_method_used": 2,
          "standard_of_living_index": 2,
          "wife_age": 40,
          "wife_education": 2,
          "wife_religion": 1
         },
         {
          "contraceptive_method_used": 2,
          "standard_of_living_index": 3,
          "wife_age": 40,
          "wife_education": 4,
          "wife_religion": 1
         },
         {
          "contraceptive_method_used": 3,
          "standard_of_living_index": 4,
          "wife_age": 39,
          "wife_education": 3,
          "wife_religion": 1
         },
         {
          "contraceptive_method_used": 1,
          "standard_of_living_index": 4,
          "wife_age": 28,
          "wife_education": 2,
          "wife_religion": 1
         },
         {
          "contraceptive_method_used": 1,
          "standard_of_living_index": 2,
          "wife_age": 30,
          "wife_education": 2,
          "wife_religion": 1
         },
         {
          "contraceptive_method_used": 1,
          "standard_of_living_index": 4,
          "wife_age": 43,
          "wife_education": 2,
          "wife_religion": 1
         },
         {
          "contraceptive_method_used": 2,
          "standard_of_living_index": 3,
          "wife_age": 26,
          "wife_education": 2,
          "wife_religion": 1
         },
         {
          "contraceptive_method_used": 1,
          "standard_of_living_index": 3,
          "wife_age": 28,
          "wife_education": 3,
          "wife_religion": 1
         },
         {
          "contraceptive_method_used": 2,
          "standard_of_living_index": 4,
          "wife_age": 28,
          "wife_education": 4,
          "wife_religion": 0
         },
         {
          "contraceptive_method_used": 2,
          "standard_of_living_index": 4,
          "wife_age": 41,
          "wife_education": 4,
          "wife_religion": 0
         },
         {
          "contraceptive_method_used": 2,
          "standard_of_living_index": 3,
          "wife_age": 37,
          "wife_education": 3,
          "wife_religion": 1
         },
         {
          "contraceptive_method_used": 2,
          "standard_of_living_index": 4,
          "wife_age": 26,
          "wife_education": 3,
          "wife_religion": 1
         },
         {
          "contraceptive_method_used": 3,
          "standard_of_living_index": 1,
          "wife_age": 22,
          "wife_education": 1,
          "wife_religion": 1
         },
         {
          "contraceptive_method_used": 3,
          "standard_of_living_index": 4,
          "wife_age": 22,
          "wife_education": 4,
          "wife_religion": 1
         },
         {
          "contraceptive_method_used": 3,
          "standard_of_living_index": 4,
          "wife_age": 42,
          "wife_education": 4,
          "wife_religion": 0
         },
         {
          "contraceptive_method_used": 1,
          "standard_of_living_index": 3,
          "wife_age": 32,
          "wife_education": 3,
          "wife_religion": 1
         },
         {
          "contraceptive_method_used": 1,
          "standard_of_living_index": 4,
          "wife_age": 47,
          "wife_education": 4,
          "wife_religion": 1
         },
         {
          "contraceptive_method_used": 3,
          "standard_of_living_index": 2,
          "wife_age": 17,
          "wife_education": 2,
          "wife_religion": 1
         },
         {
          "contraceptive_method_used": 1,
          "standard_of_living_index": 2,
          "wife_age": 29,
          "wife_education": 2,
          "wife_religion": 1
         },
         {
          "contraceptive_method_used": 1,
          "standard_of_living_index": 4,
          "wife_age": 45,
          "wife_education": 4,
          "wife_religion": 1
         },
         {
          "contraceptive_method_used": 2,
          "standard_of_living_index": 4,
          "wife_age": 47,
          "wife_education": 1,
          "wife_religion": 1
         },
         {
          "contraceptive_method_used": 1,
          "standard_of_living_index": 3,
          "wife_age": 31,
          "wife_education": 2,
          "wife_religion": 1
         },
         {
          "contraceptive_method_used": 1,
          "standard_of_living_index": 3,
          "wife_age": 41,
          "wife_education": 2,
          "wife_religion": 1
         },
         {
          "contraceptive_method_used": 2,
          "standard_of_living_index": 3,
          "wife_age": 26,
          "wife_education": 3,
          "wife_religion": 1
         },
         {
          "contraceptive_method_used": 1,
          "standard_of_living_index": 4,
          "wife_age": 45,
          "wife_education": 4,
          "wife_religion": 1
         },
         {
          "contraceptive_method_used": 1,
          "standard_of_living_index": 1,
          "wife_age": 22,
          "wife_education": 4,
          "wife_religion": 1
         },
         {
          "contraceptive_method_used": 1,
          "standard_of_living_index": 2,
          "wife_age": 24,
          "wife_education": 3,
          "wife_religion": 1
         },
         {
          "contraceptive_method_used": 1,
          "standard_of_living_index": 3,
          "wife_age": 30,
          "wife_education": 3,
          "wife_religion": 0
         },
         {
          "contraceptive_method_used": 3,
          "standard_of_living_index": 3,
          "wife_age": 35,
          "wife_education": 2,
          "wife_religion": 1
         },
         {
          "contraceptive_method_used": 3,
          "standard_of_living_index": 3,
          "wife_age": 36,
          "wife_education": 1,
          "wife_religion": 1
         },
         {
          "contraceptive_method_used": 3,
          "standard_of_living_index": 4,
          "wife_age": 38,
          "wife_education": 4,
          "wife_religion": 1
         }
        ]
       },
       "facet": {
        "field": "contraceptive_method_used",
        "type": "quantitative"
       },
       "spec": {
        "encoding": {
         "x": {
          "field": "wife_age",
          "title": "Wife's age (years)",
          "type": "quantitative"
         },
         "y": {
          "aggregate": "count",
          "title": "Number of records",
          "type": "quantitative"
         }
        },
        "mark": "point",
        "title": "Age vs. Method of Contraception Used"
       }
      },
      "text/plain": [
       "<VegaLite 4 object>\n",
       "\n",
       "If you see this message, it means the renderer has not been properly enabled\n",
       "for the frontend that you are using. For more information, see\n",
       "https://altair-viz.github.io/user_guide/troubleshooting.html\n"
      ]
     },
     "execution_count": 17,
     "metadata": {},
     "output_type": "execute_result"
    }
   ],
   "source": [
    "wife_age_correlation = alt.Chart(cmc_train, title = \"Age vs. Method of Contraception Used\").mark_point().encode(\n",
    "    x = alt.X(\"wife_age\", title = \"Wife's age (years)\"),\n",
    "    y = alt.Y(\"count()\", title = \"Number of records\"),\n",
    ").facet(\"contraceptive_method_used\")\n",
    "wife_age_correlation"
   ]
  },
  {
   "attachments": {},
   "cell_type": "markdown",
   "metadata": {},
   "source": [
    "There does not seem to be a clear correlation between age and no method of contraception used. However, for short-term and long-term contraception, we can clearly see a peak at around 35 and 30 years old respectively. "
   ]
  },
  {
   "cell_type": "markdown",
   "metadata": {},
   "source": [
    "**Wife's education**"
   ]
  },
  {
   "cell_type": "code",
   "execution_count": 19,
   "metadata": {},
   "outputs": [
    {
     "data": {
      "application/vnd.vegalite.v4+json": {
       "$schema": "https://vega.github.io/schema/vega-lite/v4.17.0.json",
       "config": {
        "view": {
         "continuousHeight": 300,
         "continuousWidth": 400
        }
       },
       "data": {
        "name": "data-f15167d60f413a998667f82347f8e248"
       },
       "datasets": {
        "data-f15167d60f413a998667f82347f8e248": [
         {
          "contraceptive_method_used": 1,
          "standard_of_living_index": 2,
          "wife_age": 40,
          "wife_education": 1,
          "wife_religion": 1
         },
         {
          "contraceptive_method_used": 2,
          "standard_of_living_index": 4,
          "wife_age": 35,
          "wife_education": 4,
          "wife_religion": 1
         },
         {
          "contraceptive_method_used": 3,
          "standard_of_living_index": 3,
          "wife_age": 19,
          "wife_education": 3,
          "wife_religion": 1
         },
         {
          "contraceptive_method_used": 1,
          "standard_of_living_index": 2,
          "wife_age": 20,
          "wife_education": 2,
          "wife_religion": 1
         },
         {
          "contraceptive_method_used": 1,
          "standard_of_living_index": 2,
          "wife_age": 41,
          "wife_education": 2,
          "wife_religion": 0
         },
         {
          "contraceptive_method_used": 1,
          "standard_of_living_index": 1,
          "wife_age": 30,
          "wife_education": 2,
          "wife_religion": 1
         },
         {
          "contraceptive_method_used": 3,
          "standard_of_living_index": 3,
          "wife_age": 33,
          "wife_education": 3,
          "wife_religion": 1
         },
         {
          "contraceptive_method_used": 2,
          "standard_of_living_index": 4,
          "wife_age": 48,
          "wife_education": 4,
          "wife_religion": 0
         },
         {
          "contraceptive_method_used": 2,
          "standard_of_living_index": 3,
          "wife_age": 31,
          "wife_education": 4,
          "wife_religion": 0
         },
         {
          "contraceptive_method_used": 1,
          "standard_of_living_index": 4,
          "wife_age": 25,
          "wife_education": 4,
          "wife_religion": 1
         },
         {
          "contraceptive_method_used": 1,
          "standard_of_living_index": 1,
          "wife_age": 26,
          "wife_education": 2,
          "wife_religion": 1
         },
         {
          "contraceptive_method_used": 3,
          "standard_of_living_index": 3,
          "wife_age": 38,
          "wife_education": 4,
          "wife_religion": 1
         },
         {
          "contraceptive_method_used": 3,
          "standard_of_living_index": 3,
          "wife_age": 28,
          "wife_education": 4,
          "wife_religion": 1
         },
         {
          "contraceptive_method_used": 3,
          "standard_of_living_index": 3,
          "wife_age": 23,
          "wife_education": 4,
          "wife_religion": 1
         },
         {
          "contraceptive_method_used": 1,
          "standard_of_living_index": 3,
          "wife_age": 42,
          "wife_education": 3,
          "wife_religion": 1
         },
         {
          "contraceptive_method_used": 3,
          "standard_of_living_index": 3,
          "wife_age": 22,
          "wife_education": 2,
          "wife_religion": 1
         },
         {
          "contraceptive_method_used": 3,
          "standard_of_living_index": 4,
          "wife_age": 24,
          "wife_education": 4,
          "wife_religion": 1
         },
         {
          "contraceptive_method_used": 2,
          "standard_of_living_index": 4,
          "wife_age": 26,
          "wife_education": 4,
          "wife_religion": 0
         },
         {
          "contraceptive_method_used": 1,
          "standard_of_living_index": 2,
          "wife_age": 28,
          "wife_education": 3,
          "wife_religion": 1
         },
         {
          "contraceptive_method_used": 1,
          "standard_of_living_index": 4,
          "wife_age": 24,
          "wife_education": 2,
          "wife_religion": 1
         },
         {
          "contraceptive_method_used": 1,
          "standard_of_living_index": 4,
          "wife_age": 30,
          "wife_education": 2,
          "wife_religion": 1
         },
         {
          "contraceptive_method_used": 2,
          "standard_of_living_index": 3,
          "wife_age": 28,
          "wife_education": 4,
          "wife_religion": 1
         },
         {
          "contraceptive_method_used": 3,
          "standard_of_living_index": 4,
          "wife_age": 35,
          "wife_education": 4,
          "wife_religion": 1
         },
         {
          "contraceptive_method_used": 3,
          "standard_of_living_index": 2,
          "wife_age": 23,
          "wife_education": 2,
          "wife_religion": 1
         },
         {
          "contraceptive_method_used": 3,
          "standard_of_living_index": 3,
          "wife_age": 22,
          "wife_education": 4,
          "wife_religion": 1
         },
         {
          "contraceptive_method_used": 2,
          "standard_of_living_index": 3,
          "wife_age": 36,
          "wife_education": 4,
          "wife_religion": 0
         },
         {
          "contraceptive_method_used": 1,
          "standard_of_living_index": 4,
          "wife_age": 28,
          "wife_education": 4,
          "wife_religion": 1
         },
         {
          "contraceptive_method_used": 1,
          "standard_of_living_index": 1,
          "wife_age": 39,
          "wife_education": 1,
          "wife_religion": 1
         },
         {
          "contraceptive_method_used": 2,
          "standard_of_living_index": 4,
          "wife_age": 24,
          "wife_education": 4,
          "wife_religion": 1
         },
         {
          "contraceptive_method_used": 1,
          "standard_of_living_index": 1,
          "wife_age": 17,
          "wife_education": 2,
          "wife_religion": 1
         },
         {
          "contraceptive_method_used": 1,
          "standard_of_living_index": 4,
          "wife_age": 31,
          "wife_education": 3,
          "wife_religion": 1
         },
         {
          "contraceptive_method_used": 1,
          "standard_of_living_index": 4,
          "wife_age": 27,
          "wife_education": 4,
          "wife_religion": 0
         },
         {
          "contraceptive_method_used": 3,
          "standard_of_living_index": 3,
          "wife_age": 26,
          "wife_education": 3,
          "wife_religion": 1
         },
         {
          "contraceptive_method_used": 1,
          "standard_of_living_index": 4,
          "wife_age": 22,
          "wife_education": 4,
          "wife_religion": 1
         },
         {
          "contraceptive_method_used": 2,
          "standard_of_living_index": 3,
          "wife_age": 26,
          "wife_education": 3,
          "wife_religion": 1
         },
         {
          "contraceptive_method_used": 1,
          "standard_of_living_index": 4,
          "wife_age": 45,
          "wife_education": 2,
          "wife_religion": 1
         },
         {
          "contraceptive_method_used": 3,
          "standard_of_living_index": 4,
          "wife_age": 23,
          "wife_education": 4,
          "wife_religion": 1
         },
         {
          "contraceptive_method_used": 1,
          "standard_of_living_index": 3,
          "wife_age": 29,
          "wife_education": 3,
          "wife_religion": 1
         },
         {
          "contraceptive_method_used": 1,
          "standard_of_living_index": 3,
          "wife_age": 23,
          "wife_education": 4,
          "wife_religion": 1
         },
         {
          "contraceptive_method_used": 1,
          "standard_of_living_index": 4,
          "wife_age": 44,
          "wife_education": 1,
          "wife_religion": 1
         },
         {
          "contraceptive_method_used": 1,
          "standard_of_living_index": 3,
          "wife_age": 23,
          "wife_education": 4,
          "wife_religion": 1
         },
         {
          "contraceptive_method_used": 3,
          "standard_of_living_index": 4,
          "wife_age": 28,
          "wife_education": 3,
          "wife_religion": 1
         },
         {
          "contraceptive_method_used": 1,
          "standard_of_living_index": 4,
          "wife_age": 28,
          "wife_education": 4,
          "wife_religion": 0
         },
         {
          "contraceptive_method_used": 1,
          "standard_of_living_index": 3,
          "wife_age": 41,
          "wife_education": 3,
          "wife_religion": 1
         },
         {
          "contraceptive_method_used": 1,
          "standard_of_living_index": 4,
          "wife_age": 23,
          "wife_education": 4,
          "wife_religion": 1
         },
         {
          "contraceptive_method_used": 1,
          "standard_of_living_index": 4,
          "wife_age": 26,
          "wife_education": 4,
          "wife_religion": 1
         },
         {
          "contraceptive_method_used": 3,
          "standard_of_living_index": 4,
          "wife_age": 31,
          "wife_education": 4,
          "wife_religion": 1
         },
         {
          "contraceptive_method_used": 3,
          "standard_of_living_index": 4,
          "wife_age": 34,
          "wife_education": 4,
          "wife_religion": 0
         },
         {
          "contraceptive_method_used": 3,
          "standard_of_living_index": 3,
          "wife_age": 32,
          "wife_education": 1,
          "wife_religion": 1
         },
         {
          "contraceptive_method_used": 3,
          "standard_of_living_index": 4,
          "wife_age": 38,
          "wife_education": 4,
          "wife_religion": 1
         },
         {
          "contraceptive_method_used": 1,
          "standard_of_living_index": 4,
          "wife_age": 27,
          "wife_education": 2,
          "wife_religion": 1
         },
         {
          "contraceptive_method_used": 3,
          "standard_of_living_index": 2,
          "wife_age": 20,
          "wife_education": 2,
          "wife_religion": 1
         },
         {
          "contraceptive_method_used": 1,
          "standard_of_living_index": 4,
          "wife_age": 22,
          "wife_education": 2,
          "wife_religion": 1
         },
         {
          "contraceptive_method_used": 3,
          "standard_of_living_index": 4,
          "wife_age": 44,
          "wife_education": 4,
          "wife_religion": 1
         },
         {
          "contraceptive_method_used": 1,
          "standard_of_living_index": 1,
          "wife_age": 39,
          "wife_education": 2,
          "wife_religion": 1
         },
         {
          "contraceptive_method_used": 2,
          "standard_of_living_index": 4,
          "wife_age": 22,
          "wife_education": 3,
          "wife_religion": 1
         },
         {
          "contraceptive_method_used": 1,
          "standard_of_living_index": 2,
          "wife_age": 42,
          "wife_education": 1,
          "wife_religion": 0
         },
         {
          "contraceptive_method_used": 3,
          "standard_of_living_index": 1,
          "wife_age": 25,
          "wife_education": 3,
          "wife_religion": 1
         },
         {
          "contraceptive_method_used": 1,
          "standard_of_living_index": 4,
          "wife_age": 33,
          "wife_education": 4,
          "wife_religion": 1
         },
         {
          "contraceptive_method_used": 1,
          "standard_of_living_index": 4,
          "wife_age": 23,
          "wife_education": 3,
          "wife_religion": 1
         },
         {
          "contraceptive_method_used": 2,
          "standard_of_living_index": 4,
          "wife_age": 35,
          "wife_education": 4,
          "wife_religion": 0
         },
         {
          "contraceptive_method_used": 1,
          "standard_of_living_index": 1,
          "wife_age": 35,
          "wife_education": 2,
          "wife_religion": 1
         },
         {
          "contraceptive_method_used": 3,
          "standard_of_living_index": 2,
          "wife_age": 18,
          "wife_education": 3,
          "wife_religion": 1
         },
         {
          "contraceptive_method_used": 3,
          "standard_of_living_index": 3,
          "wife_age": 25,
          "wife_education": 2,
          "wife_religion": 1
         },
         {
          "contraceptive_method_used": 1,
          "standard_of_living_index": 1,
          "wife_age": 26,
          "wife_education": 3,
          "wife_religion": 1
         },
         {
          "contraceptive_method_used": 3,
          "standard_of_living_index": 3,
          "wife_age": 39,
          "wife_education": 4,
          "wife_religion": 0
         },
         {
          "contraceptive_method_used": 2,
          "standard_of_living_index": 3,
          "wife_age": 44,
          "wife_education": 4,
          "wife_religion": 0
         },
         {
          "contraceptive_method_used": 2,
          "standard_of_living_index": 4,
          "wife_age": 23,
          "wife_education": 4,
          "wife_religion": 0
         },
         {
          "contraceptive_method_used": 1,
          "standard_of_living_index": 4,
          "wife_age": 48,
          "wife_education": 4,
          "wife_religion": 1
         },
         {
          "contraceptive_method_used": 1,
          "standard_of_living_index": 2,
          "wife_age": 44,
          "wife_education": 2,
          "wife_religion": 1
         },
         {
          "contraceptive_method_used": 3,
          "standard_of_living_index": 1,
          "wife_age": 20,
          "wife_education": 2,
          "wife_religion": 1
         },
         {
          "contraceptive_method_used": 3,
          "standard_of_living_index": 4,
          "wife_age": 27,
          "wife_education": 2,
          "wife_religion": 1
         },
         {
          "contraceptive_method_used": 2,
          "standard_of_living_index": 4,
          "wife_age": 47,
          "wife_education": 4,
          "wife_religion": 1
         },
         {
          "contraceptive_method_used": 3,
          "standard_of_living_index": 1,
          "wife_age": 41,
          "wife_education": 1,
          "wife_religion": 1
         },
         {
          "contraceptive_method_used": 2,
          "standard_of_living_index": 4,
          "wife_age": 40,
          "wife_education": 4,
          "wife_religion": 0
         },
         {
          "contraceptive_method_used": 1,
          "standard_of_living_index": 2,
          "wife_age": 40,
          "wife_education": 3,
          "wife_religion": 1
         },
         {
          "contraceptive_method_used": 1,
          "standard_of_living_index": 2,
          "wife_age": 34,
          "wife_education": 4,
          "wife_religion": 0
         },
         {
          "contraceptive_method_used": 1,
          "standard_of_living_index": 3,
          "wife_age": 47,
          "wife_education": 1,
          "wife_religion": 1
         },
         {
          "contraceptive_method_used": 1,
          "standard_of_living_index": 1,
          "wife_age": 28,
          "wife_education": 1,
          "wife_religion": 1
         },
         {
          "contraceptive_method_used": 2,
          "standard_of_living_index": 4,
          "wife_age": 30,
          "wife_education": 2,
          "wife_religion": 1
         },
         {
          "contraceptive_method_used": 1,
          "standard_of_living_index": 4,
          "wife_age": 44,
          "wife_education": 3,
          "wife_religion": 1
         },
         {
          "contraceptive_method_used": 3,
          "standard_of_living_index": 4,
          "wife_age": 25,
          "wife_education": 4,
          "wife_religion": 1
         },
         {
          "contraceptive_method_used": 1,
          "standard_of_living_index": 3,
          "wife_age": 34,
          "wife_education": 4,
          "wife_religion": 0
         },
         {
          "contraceptive_method_used": 1,
          "standard_of_living_index": 3,
          "wife_age": 41,
          "wife_education": 1,
          "wife_religion": 1
         },
         {
          "contraceptive_method_used": 3,
          "standard_of_living_index": 4,
          "wife_age": 35,
          "wife_education": 3,
          "wife_religion": 1
         },
         {
          "contraceptive_method_used": 3,
          "standard_of_living_index": 1,
          "wife_age": 32,
          "wife_education": 2,
          "wife_religion": 1
         },
         {
          "contraceptive_method_used": 1,
          "standard_of_living_index": 4,
          "wife_age": 31,
          "wife_education": 3,
          "wife_religion": 1
         },
         {
          "contraceptive_method_used": 2,
          "standard_of_living_index": 4,
          "wife_age": 45,
          "wife_education": 4,
          "wife_religion": 0
         },
         {
          "contraceptive_method_used": 2,
          "standard_of_living_index": 3,
          "wife_age": 23,
          "wife_education": 3,
          "wife_religion": 1
         },
         {
          "contraceptive_method_used": 2,
          "standard_of_living_index": 4,
          "wife_age": 42,
          "wife_education": 4,
          "wife_religion": 1
         },
         {
          "contraceptive_method_used": 2,
          "standard_of_living_index": 1,
          "wife_age": 25,
          "wife_education": 3,
          "wife_religion": 1
         },
         {
          "contraceptive_method_used": 2,
          "standard_of_living_index": 4,
          "wife_age": 37,
          "wife_education": 2,
          "wife_religion": 1
         },
         {
          "contraceptive_method_used": 1,
          "standard_of_living_index": 2,
          "wife_age": 36,
          "wife_education": 4,
          "wife_religion": 1
         },
         {
          "contraceptive_method_used": 1,
          "standard_of_living_index": 4,
          "wife_age": 28,
          "wife_education": 4,
          "wife_religion": 0
         },
         {
          "contraceptive_method_used": 2,
          "standard_of_living_index": 4,
          "wife_age": 35,
          "wife_education": 4,
          "wife_religion": 1
         },
         {
          "contraceptive_method_used": 1,
          "standard_of_living_index": 4,
          "wife_age": 30,
          "wife_education": 3,
          "wife_religion": 1
         },
         {
          "contraceptive_method_used": 1,
          "standard_of_living_index": 3,
          "wife_age": 48,
          "wife_education": 3,
          "wife_religion": 1
         },
         {
          "contraceptive_method_used": 2,
          "standard_of_living_index": 4,
          "wife_age": 45,
          "wife_education": 4,
          "wife_religion": 1
         },
         {
          "contraceptive_method_used": 3,
          "standard_of_living_index": 4,
          "wife_age": 28,
          "wife_education": 4,
          "wife_religion": 1
         },
         {
          "contraceptive_method_used": 1,
          "standard_of_living_index": 2,
          "wife_age": 21,
          "wife_education": 3,
          "wife_religion": 1
         },
         {
          "contraceptive_method_used": 3,
          "standard_of_living_index": 3,
          "wife_age": 40,
          "wife_education": 2,
          "wife_religion": 1
         },
         {
          "contraceptive_method_used": 3,
          "standard_of_living_index": 4,
          "wife_age": 23,
          "wife_education": 4,
          "wife_religion": 1
         },
         {
          "contraceptive_method_used": 2,
          "standard_of_living_index": 4,
          "wife_age": 44,
          "wife_education": 4,
          "wife_religion": 1
         },
         {
          "contraceptive_method_used": 3,
          "standard_of_living_index": 3,
          "wife_age": 22,
          "wife_education": 3,
          "wife_religion": 1
         },
         {
          "contraceptive_method_used": 3,
          "standard_of_living_index": 1,
          "wife_age": 22,
          "wife_education": 3,
          "wife_religion": 1
         },
         {
          "contraceptive_method_used": 3,
          "standard_of_living_index": 3,
          "wife_age": 43,
          "wife_education": 3,
          "wife_religion": 1
         },
         {
          "contraceptive_method_used": 3,
          "standard_of_living_index": 2,
          "wife_age": 38,
          "wife_education": 3,
          "wife_religion": 1
         },
         {
          "contraceptive_method_used": 1,
          "standard_of_living_index": 4,
          "wife_age": 49,
          "wife_education": 1,
          "wife_religion": 1
         },
         {
          "contraceptive_method_used": 1,
          "standard_of_living_index": 3,
          "wife_age": 43,
          "wife_education": 2,
          "wife_religion": 1
         },
         {
          "contraceptive_method_used": 3,
          "standard_of_living_index": 4,
          "wife_age": 27,
          "wife_education": 3,
          "wife_religion": 1
         },
         {
          "contraceptive_method_used": 1,
          "standard_of_living_index": 4,
          "wife_age": 26,
          "wife_education": 2,
          "wife_religion": 1
         },
         {
          "contraceptive_method_used": 1,
          "standard_of_living_index": 2,
          "wife_age": 43,
          "wife_education": 1,
          "wife_religion": 1
         },
         {
          "contraceptive_method_used": 1,
          "standard_of_living_index": 4,
          "wife_age": 34,
          "wife_education": 4,
          "wife_religion": 0
         },
         {
          "contraceptive_method_used": 3,
          "standard_of_living_index": 4,
          "wife_age": 38,
          "wife_education": 4,
          "wife_religion": 1
         },
         {
          "contraceptive_method_used": 3,
          "standard_of_living_index": 3,
          "wife_age": 29,
          "wife_education": 1,
          "wife_religion": 1
         },
         {
          "contraceptive_method_used": 2,
          "standard_of_living_index": 3,
          "wife_age": 36,
          "wife_education": 3,
          "wife_religion": 1
         },
         {
          "contraceptive_method_used": 1,
          "standard_of_living_index": 1,
          "wife_age": 26,
          "wife_education": 2,
          "wife_religion": 1
         },
         {
          "contraceptive_method_used": 1,
          "standard_of_living_index": 1,
          "wife_age": 24,
          "wife_education": 2,
          "wife_religion": 1
         },
         {
          "contraceptive_method_used": 1,
          "standard_of_living_index": 3,
          "wife_age": 41,
          "wife_education": 2,
          "wife_religion": 1
         },
         {
          "contraceptive_method_used": 3,
          "standard_of_living_index": 4,
          "wife_age": 20,
          "wife_education": 3,
          "wife_religion": 0
         },
         {
          "contraceptive_method_used": 3,
          "standard_of_living_index": 2,
          "wife_age": 32,
          "wife_education": 3,
          "wife_religion": 1
         },
         {
          "contraceptive_method_used": 3,
          "standard_of_living_index": 4,
          "wife_age": 41,
          "wife_education": 4,
          "wife_religion": 1
         },
         {
          "contraceptive_method_used": 3,
          "standard_of_living_index": 4,
          "wife_age": 31,
          "wife_education": 4,
          "wife_religion": 0
         },
         {
          "contraceptive_method_used": 1,
          "standard_of_living_index": 2,
          "wife_age": 25,
          "wife_education": 1,
          "wife_religion": 1
         },
         {
          "contraceptive_method_used": 2,
          "standard_of_living_index": 3,
          "wife_age": 24,
          "wife_education": 4,
          "wife_religion": 1
         },
         {
          "contraceptive_method_used": 1,
          "standard_of_living_index": 3,
          "wife_age": 33,
          "wife_education": 4,
          "wife_religion": 0
         },
         {
          "contraceptive_method_used": 3,
          "standard_of_living_index": 4,
          "wife_age": 22,
          "wife_education": 3,
          "wife_religion": 1
         },
         {
          "contraceptive_method_used": 1,
          "standard_of_living_index": 4,
          "wife_age": 24,
          "wife_education": 2,
          "wife_religion": 1
         },
         {
          "contraceptive_method_used": 2,
          "standard_of_living_index": 3,
          "wife_age": 27,
          "wife_education": 4,
          "wife_religion": 1
         },
         {
          "contraceptive_method_used": 3,
          "standard_of_living_index": 3,
          "wife_age": 21,
          "wife_education": 4,
          "wife_religion": 1
         },
         {
          "contraceptive_method_used": 3,
          "standard_of_living_index": 4,
          "wife_age": 31,
          "wife_education": 4,
          "wife_religion": 1
         },
         {
          "contraceptive_method_used": 2,
          "standard_of_living_index": 4,
          "wife_age": 32,
          "wife_education": 4,
          "wife_religion": 0
         },
         {
          "contraceptive_method_used": 2,
          "standard_of_living_index": 1,
          "wife_age": 36,
          "wife_education": 2,
          "wife_religion": 1
         },
         {
          "contraceptive_method_used": 1,
          "standard_of_living_index": 3,
          "wife_age": 33,
          "wife_education": 4,
          "wife_religion": 1
         },
         {
          "contraceptive_method_used": 1,
          "standard_of_living_index": 3,
          "wife_age": 42,
          "wife_education": 1,
          "wife_religion": 1
         },
         {
          "contraceptive_method_used": 3,
          "standard_of_living_index": 3,
          "wife_age": 21,
          "wife_education": 3,
          "wife_religion": 1
         },
         {
          "contraceptive_method_used": 1,
          "standard_of_living_index": 2,
          "wife_age": 47,
          "wife_education": 1,
          "wife_religion": 1
         },
         {
          "contraceptive_method_used": 1,
          "standard_of_living_index": 2,
          "wife_age": 32,
          "wife_education": 2,
          "wife_religion": 1
         },
         {
          "contraceptive_method_used": 2,
          "standard_of_living_index": 4,
          "wife_age": 36,
          "wife_education": 4,
          "wife_religion": 1
         },
         {
          "contraceptive_method_used": 3,
          "standard_of_living_index": 4,
          "wife_age": 43,
          "wife_education": 4,
          "wife_religion": 1
         },
         {
          "contraceptive_method_used": 1,
          "standard_of_living_index": 2,
          "wife_age": 30,
          "wife_education": 1,
          "wife_religion": 1
         },
         {
          "contraceptive_method_used": 3,
          "standard_of_living_index": 4,
          "wife_age": 42,
          "wife_education": 2,
          "wife_religion": 1
         },
         {
          "contraceptive_method_used": 2,
          "standard_of_living_index": 4,
          "wife_age": 32,
          "wife_education": 4,
          "wife_religion": 1
         },
         {
          "contraceptive_method_used": 1,
          "standard_of_living_index": 2,
          "wife_age": 27,
          "wife_education": 2,
          "wife_religion": 1
         },
         {
          "contraceptive_method_used": 2,
          "standard_of_living_index": 2,
          "wife_age": 43,
          "wife_education": 3,
          "wife_religion": 1
         },
         {
          "contraceptive_method_used": 2,
          "standard_of_living_index": 4,
          "wife_age": 39,
          "wife_education": 4,
          "wife_religion": 0
         },
         {
          "contraceptive_method_used": 3,
          "standard_of_living_index": 4,
          "wife_age": 32,
          "wife_education": 4,
          "wife_religion": 1
         },
         {
          "contraceptive_method_used": 1,
          "standard_of_living_index": 2,
          "wife_age": 35,
          "wife_education": 1,
          "wife_religion": 1
         },
         {
          "contraceptive_method_used": 1,
          "standard_of_living_index": 2,
          "wife_age": 28,
          "wife_education": 2,
          "wife_religion": 1
         },
         {
          "contraceptive_method_used": 3,
          "standard_of_living_index": 4,
          "wife_age": 31,
          "wife_education": 3,
          "wife_religion": 1
         },
         {
          "contraceptive_method_used": 1,
          "standard_of_living_index": 2,
          "wife_age": 26,
          "wife_education": 3,
          "wife_religion": 1
         },
         {
          "contraceptive_method_used": 3,
          "standard_of_living_index": 1,
          "wife_age": 27,
          "wife_education": 2,
          "wife_religion": 1
         },
         {
          "contraceptive_method_used": 3,
          "standard_of_living_index": 2,
          "wife_age": 29,
          "wife_education": 3,
          "wife_religion": 1
         },
         {
          "contraceptive_method_used": 1,
          "standard_of_living_index": 2,
          "wife_age": 43,
          "wife_education": 1,
          "wife_religion": 1
         },
         {
          "contraceptive_method_used": 1,
          "standard_of_living_index": 4,
          "wife_age": 32,
          "wife_education": 3,
          "wife_religion": 1
         },
         {
          "contraceptive_method_used": 3,
          "standard_of_living_index": 1,
          "wife_age": 17,
          "wife_education": 3,
          "wife_religion": 1
         },
         {
          "contraceptive_method_used": 1,
          "standard_of_living_index": 4,
          "wife_age": 42,
          "wife_education": 2,
          "wife_religion": 1
         },
         {
          "contraceptive_method_used": 1,
          "standard_of_living_index": 4,
          "wife_age": 28,
          "wife_education": 4,
          "wife_religion": 1
         },
         {
          "contraceptive_method_used": 1,
          "standard_of_living_index": 3,
          "wife_age": 29,
          "wife_education": 4,
          "wife_religion": 1
         },
         {
          "contraceptive_method_used": 2,
          "standard_of_living_index": 3,
          "wife_age": 32,
          "wife_education": 3,
          "wife_religion": 1
         },
         {
          "contraceptive_method_used": 2,
          "standard_of_living_index": 3,
          "wife_age": 26,
          "wife_education": 3,
          "wife_religion": 1
         },
         {
          "contraceptive_method_used": 3,
          "standard_of_living_index": 4,
          "wife_age": 37,
          "wife_education": 3,
          "wife_religion": 1
         },
         {
          "contraceptive_method_used": 1,
          "standard_of_living_index": 2,
          "wife_age": 20,
          "wife_education": 3,
          "wife_religion": 1
         },
         {
          "contraceptive_method_used": 3,
          "standard_of_living_index": 2,
          "wife_age": 29,
          "wife_education": 3,
          "wife_religion": 1
         },
         {
          "contraceptive_method_used": 1,
          "standard_of_living_index": 4,
          "wife_age": 40,
          "wife_education": 4,
          "wife_religion": 1
         },
         {
          "contraceptive_method_used": 3,
          "standard_of_living_index": 4,
          "wife_age": 35,
          "wife_education": 3,
          "wife_religion": 1
         },
         {
          "contraceptive_method_used": 3,
          "standard_of_living_index": 4,
          "wife_age": 37,
          "wife_education": 3,
          "wife_religion": 0
         },
         {
          "contraceptive_method_used": 2,
          "standard_of_living_index": 3,
          "wife_age": 41,
          "wife_education": 4,
          "wife_religion": 1
         },
         {
          "contraceptive_method_used": 2,
          "standard_of_living_index": 4,
          "wife_age": 26,
          "wife_education": 4,
          "wife_religion": 0
         },
         {
          "contraceptive_method_used": 1,
          "standard_of_living_index": 4,
          "wife_age": 29,
          "wife_education": 1,
          "wife_religion": 1
         },
         {
          "contraceptive_method_used": 3,
          "standard_of_living_index": 4,
          "wife_age": 32,
          "wife_education": 4,
          "wife_religion": 0
         },
         {
          "contraceptive_method_used": 3,
          "standard_of_living_index": 4,
          "wife_age": 24,
          "wife_education": 2,
          "wife_religion": 1
         },
         {
          "contraceptive_method_used": 2,
          "standard_of_living_index": 4,
          "wife_age": 42,
          "wife_education": 4,
          "wife_religion": 1
         },
         {
          "contraceptive_method_used": 3,
          "standard_of_living_index": 4,
          "wife_age": 30,
          "wife_education": 4,
          "wife_religion": 0
         },
         {
          "contraceptive_method_used": 1,
          "standard_of_living_index": 4,
          "wife_age": 39,
          "wife_education": 3,
          "wife_religion": 1
         },
         {
          "contraceptive_method_used": 1,
          "standard_of_living_index": 4,
          "wife_age": 26,
          "wife_education": 4,
          "wife_religion": 1
         },
         {
          "contraceptive_method_used": 3,
          "standard_of_living_index": 2,
          "wife_age": 34,
          "wife_education": 2,
          "wife_religion": 0
         },
         {
          "contraceptive_method_used": 3,
          "standard_of_living_index": 3,
          "wife_age": 27,
          "wife_education": 3,
          "wife_religion": 1
         },
         {
          "contraceptive_method_used": 3,
          "standard_of_living_index": 1,
          "wife_age": 29,
          "wife_education": 3,
          "wife_religion": 1
         },
         {
          "contraceptive_method_used": 1,
          "standard_of_living_index": 4,
          "wife_age": 29,
          "wife_education": 2,
          "wife_religion": 1
         },
         {
          "contraceptive_method_used": 1,
          "standard_of_living_index": 3,
          "wife_age": 28,
          "wife_education": 4,
          "wife_religion": 0
         },
         {
          "contraceptive_method_used": 1,
          "standard_of_living_index": 1,
          "wife_age": 29,
          "wife_education": 2,
          "wife_religion": 1
         },
         {
          "contraceptive_method_used": 2,
          "standard_of_living_index": 3,
          "wife_age": 31,
          "wife_education": 4,
          "wife_religion": 1
         },
         {
          "contraceptive_method_used": 3,
          "standard_of_living_index": 4,
          "wife_age": 35,
          "wife_education": 4,
          "wife_religion": 0
         },
         {
          "contraceptive_method_used": 3,
          "standard_of_living_index": 4,
          "wife_age": 22,
          "wife_education": 3,
          "wife_religion": 0
         },
         {
          "contraceptive_method_used": 2,
          "standard_of_living_index": 4,
          "wife_age": 28,
          "wife_education": 3,
          "wife_religion": 1
         },
         {
          "contraceptive_method_used": 3,
          "standard_of_living_index": 3,
          "wife_age": 21,
          "wife_education": 4,
          "wife_religion": 1
         },
         {
          "contraceptive_method_used": 3,
          "standard_of_living_index": 4,
          "wife_age": 30,
          "wife_education": 3,
          "wife_religion": 1
         },
         {
          "contraceptive_method_used": 3,
          "standard_of_living_index": 1,
          "wife_age": 19,
          "wife_education": 3,
          "wife_religion": 1
         },
         {
          "contraceptive_method_used": 1,
          "standard_of_living_index": 1,
          "wife_age": 27,
          "wife_education": 2,
          "wife_religion": 1
         },
         {
          "contraceptive_method_used": 1,
          "standard_of_living_index": 4,
          "wife_age": 31,
          "wife_education": 3,
          "wife_religion": 0
         },
         {
          "contraceptive_method_used": 1,
          "standard_of_living_index": 4,
          "wife_age": 37,
          "wife_education": 1,
          "wife_religion": 1
         },
         {
          "contraceptive_method_used": 1,
          "standard_of_living_index": 4,
          "wife_age": 32,
          "wife_education": 3,
          "wife_religion": 1
         },
         {
          "contraceptive_method_used": 2,
          "standard_of_living_index": 4,
          "wife_age": 26,
          "wife_education": 4,
          "wife_religion": 1
         },
         {
          "contraceptive_method_used": 1,
          "standard_of_living_index": 2,
          "wife_age": 42,
          "wife_education": 3,
          "wife_religion": 1
         },
         {
          "contraceptive_method_used": 1,
          "standard_of_living_index": 1,
          "wife_age": 26,
          "wife_education": 2,
          "wife_religion": 1
         },
         {
          "contraceptive_method_used": 1,
          "standard_of_living_index": 1,
          "wife_age": 46,
          "wife_education": 1,
          "wife_religion": 1
         },
         {
          "contraceptive_method_used": 3,
          "standard_of_living_index": 4,
          "wife_age": 36,
          "wife_education": 4,
          "wife_religion": 0
         },
         {
          "contraceptive_method_used": 1,
          "standard_of_living_index": 4,
          "wife_age": 27,
          "wife_education": 1,
          "wife_religion": 1
         },
         {
          "contraceptive_method_used": 1,
          "standard_of_living_index": 2,
          "wife_age": 45,
          "wife_education": 1,
          "wife_religion": 1
         },
         {
          "contraceptive_method_used": 3,
          "standard_of_living_index": 4,
          "wife_age": 33,
          "wife_education": 2,
          "wife_religion": 1
         },
         {
          "contraceptive_method_used": 3,
          "standard_of_living_index": 1,
          "wife_age": 25,
          "wife_education": 2,
          "wife_religion": 1
         },
         {
          "contraceptive_method_used": 1,
          "standard_of_living_index": 1,
          "wife_age": 30,
          "wife_education": 1,
          "wife_religion": 1
         },
         {
          "contraceptive_method_used": 1,
          "standard_of_living_index": 2,
          "wife_age": 17,
          "wife_education": 2,
          "wife_religion": 1
         },
         {
          "contraceptive_method_used": 1,
          "standard_of_living_index": 3,
          "wife_age": 22,
          "wife_education": 4,
          "wife_religion": 1
         },
         {
          "contraceptive_method_used": 1,
          "standard_of_living_index": 4,
          "wife_age": 21,
          "wife_education": 4,
          "wife_religion": 1
         },
         {
          "contraceptive_method_used": 1,
          "standard_of_living_index": 4,
          "wife_age": 33,
          "wife_education": 4,
          "wife_religion": 0
         },
         {
          "contraceptive_method_used": 2,
          "standard_of_living_index": 4,
          "wife_age": 21,
          "wife_education": 3,
          "wife_religion": 1
         },
         {
          "contraceptive_method_used": 1,
          "standard_of_living_index": 4,
          "wife_age": 21,
          "wife_education": 4,
          "wife_religion": 1
         },
         {
          "contraceptive_method_used": 1,
          "standard_of_living_index": 3,
          "wife_age": 22,
          "wife_education": 2,
          "wife_religion": 1
         },
         {
          "contraceptive_method_used": 3,
          "standard_of_living_index": 4,
          "wife_age": 26,
          "wife_education": 3,
          "wife_religion": 1
         },
         {
          "contraceptive_method_used": 1,
          "standard_of_living_index": 1,
          "wife_age": 22,
          "wife_education": 4,
          "wife_religion": 1
         },
         {
          "contraceptive_method_used": 1,
          "standard_of_living_index": 3,
          "wife_age": 34,
          "wife_education": 4,
          "wife_religion": 1
         },
         {
          "contraceptive_method_used": 3,
          "standard_of_living_index": 4,
          "wife_age": 27,
          "wife_education": 4,
          "wife_religion": 1
         },
         {
          "contraceptive_method_used": 2,
          "standard_of_living_index": 4,
          "wife_age": 29,
          "wife_education": 4,
          "wife_religion": 1
         },
         {
          "contraceptive_method_used": 2,
          "standard_of_living_index": 3,
          "wife_age": 35,
          "wife_education": 3,
          "wife_religion": 1
         },
         {
          "contraceptive_method_used": 1,
          "standard_of_living_index": 4,
          "wife_age": 29,
          "wife_education": 3,
          "wife_religion": 1
         },
         {
          "contraceptive_method_used": 1,
          "standard_of_living_index": 3,
          "wife_age": 23,
          "wife_education": 4,
          "wife_religion": 1
         },
         {
          "contraceptive_method_used": 2,
          "standard_of_living_index": 3,
          "wife_age": 35,
          "wife_education": 3,
          "wife_religion": 1
         },
         {
          "contraceptive_method_used": 3,
          "standard_of_living_index": 4,
          "wife_age": 32,
          "wife_education": 4,
          "wife_religion": 1
         },
         {
          "contraceptive_method_used": 1,
          "standard_of_living_index": 2,
          "wife_age": 25,
          "wife_education": 3,
          "wife_religion": 1
         },
         {
          "contraceptive_method_used": 1,
          "standard_of_living_index": 2,
          "wife_age": 25,
          "wife_education": 2,
          "wife_religion": 1
         },
         {
          "contraceptive_method_used": 3,
          "standard_of_living_index": 4,
          "wife_age": 33,
          "wife_education": 2,
          "wife_religion": 1
         },
         {
          "contraceptive_method_used": 2,
          "standard_of_living_index": 4,
          "wife_age": 30,
          "wife_education": 2,
          "wife_religion": 1
         },
         {
          "contraceptive_method_used": 2,
          "standard_of_living_index": 3,
          "wife_age": 28,
          "wife_education": 2,
          "wife_religion": 1
         },
         {
          "contraceptive_method_used": 2,
          "standard_of_living_index": 3,
          "wife_age": 29,
          "wife_education": 4,
          "wife_religion": 1
         },
         {
          "contraceptive_method_used": 1,
          "standard_of_living_index": 3,
          "wife_age": 21,
          "wife_education": 4,
          "wife_religion": 1
         },
         {
          "contraceptive_method_used": 1,
          "standard_of_living_index": 1,
          "wife_age": 25,
          "wife_education": 2,
          "wife_religion": 1
         },
         {
          "contraceptive_method_used": 2,
          "standard_of_living_index": 3,
          "wife_age": 42,
          "wife_education": 4,
          "wife_religion": 1
         },
         {
          "contraceptive_method_used": 1,
          "standard_of_living_index": 3,
          "wife_age": 44,
          "wife_education": 1,
          "wife_religion": 1
         },
         {
          "contraceptive_method_used": 1,
          "standard_of_living_index": 3,
          "wife_age": 47,
          "wife_education": 1,
          "wife_religion": 1
         },
         {
          "contraceptive_method_used": 1,
          "standard_of_living_index": 1,
          "wife_age": 37,
          "wife_education": 3,
          "wife_religion": 1
         },
         {
          "contraceptive_method_used": 3,
          "standard_of_living_index": 3,
          "wife_age": 27,
          "wife_education": 3,
          "wife_religion": 1
         },
         {
          "contraceptive_method_used": 1,
          "standard_of_living_index": 4,
          "wife_age": 47,
          "wife_education": 1,
          "wife_religion": 1
         },
         {
          "contraceptive_method_used": 3,
          "standard_of_living_index": 3,
          "wife_age": 25,
          "wife_education": 4,
          "wife_religion": 1
         },
         {
          "contraceptive_method_used": 2,
          "standard_of_living_index": 4,
          "wife_age": 36,
          "wife_education": 4,
          "wife_religion": 1
         },
         {
          "contraceptive_method_used": 1,
          "standard_of_living_index": 4,
          "wife_age": 19,
          "wife_education": 4,
          "wife_religion": 0
         },
         {
          "contraceptive_method_used": 1,
          "standard_of_living_index": 4,
          "wife_age": 46,
          "wife_education": 4,
          "wife_religion": 1
         },
         {
          "contraceptive_method_used": 1,
          "standard_of_living_index": 1,
          "wife_age": 24,
          "wife_education": 3,
          "wife_religion": 1
         },
         {
          "contraceptive_method_used": 3,
          "standard_of_living_index": 4,
          "wife_age": 25,
          "wife_education": 2,
          "wife_religion": 1
         },
         {
          "contraceptive_method_used": 3,
          "standard_of_living_index": 4,
          "wife_age": 33,
          "wife_education": 4,
          "wife_religion": 1
         },
         {
          "contraceptive_method_used": 3,
          "standard_of_living_index": 4,
          "wife_age": 28,
          "wife_education": 2,
          "wife_religion": 1
         },
         {
          "contraceptive_method_used": 3,
          "standard_of_living_index": 2,
          "wife_age": 32,
          "wife_education": 1,
          "wife_religion": 1
         },
         {
          "contraceptive_method_used": 3,
          "standard_of_living_index": 4,
          "wife_age": 20,
          "wife_education": 3,
          "wife_religion": 1
         },
         {
          "contraceptive_method_used": 1,
          "standard_of_living_index": 4,
          "wife_age": 32,
          "wife_education": 4,
          "wife_religion": 1
         },
         {
          "contraceptive_method_used": 1,
          "standard_of_living_index": 3,
          "wife_age": 21,
          "wife_education": 3,
          "wife_religion": 1
         },
         {
          "contraceptive_method_used": 3,
          "standard_of_living_index": 4,
          "wife_age": 31,
          "wife_education": 4,
          "wife_religion": 1
         },
         {
          "contraceptive_method_used": 2,
          "standard_of_living_index": 3,
          "wife_age": 28,
          "wife_education": 3,
          "wife_religion": 0
         },
         {
          "contraceptive_method_used": 3,
          "standard_of_living_index": 2,
          "wife_age": 30,
          "wife_education": 2,
          "wife_religion": 1
         },
         {
          "contraceptive_method_used": 3,
          "standard_of_living_index": 3,
          "wife_age": 24,
          "wife_education": 2,
          "wife_religion": 1
         },
         {
          "contraceptive_method_used": 1,
          "standard_of_living_index": 3,
          "wife_age": 40,
          "wife_education": 3,
          "wife_religion": 1
         },
         {
          "contraceptive_method_used": 1,
          "standard_of_living_index": 2,
          "wife_age": 21,
          "wife_education": 1,
          "wife_religion": 1
         },
         {
          "contraceptive_method_used": 1,
          "standard_of_living_index": 3,
          "wife_age": 47,
          "wife_education": 2,
          "wife_religion": 1
         },
         {
          "contraceptive_method_used": 3,
          "standard_of_living_index": 2,
          "wife_age": 35,
          "wife_education": 2,
          "wife_religion": 1
         },
         {
          "contraceptive_method_used": 3,
          "standard_of_living_index": 2,
          "wife_age": 40,
          "wife_education": 3,
          "wife_religion": 1
         },
         {
          "contraceptive_method_used": 3,
          "standard_of_living_index": 3,
          "wife_age": 36,
          "wife_education": 2,
          "wife_religion": 1
         },
         {
          "contraceptive_method_used": 1,
          "standard_of_living_index": 4,
          "wife_age": 37,
          "wife_education": 2,
          "wife_religion": 0
         },
         {
          "contraceptive_method_used": 3,
          "standard_of_living_index": 4,
          "wife_age": 46,
          "wife_education": 4,
          "wife_religion": 1
         },
         {
          "contraceptive_method_used": 2,
          "standard_of_living_index": 4,
          "wife_age": 49,
          "wife_education": 3,
          "wife_religion": 1
         },
         {
          "contraceptive_method_used": 2,
          "standard_of_living_index": 2,
          "wife_age": 36,
          "wife_education": 3,
          "wife_religion": 1
         },
         {
          "contraceptive_method_used": 3,
          "standard_of_living_index": 3,
          "wife_age": 47,
          "wife_education": 1,
          "wife_religion": 1
         },
         {
          "contraceptive_method_used": 1,
          "standard_of_living_index": 1,
          "wife_age": 47,
          "wife_education": 2,
          "wife_religion": 1
         },
         {
          "contraceptive_method_used": 1,
          "standard_of_living_index": 3,
          "wife_age": 31,
          "wife_education": 3,
          "wife_religion": 1
         },
         {
          "contraceptive_method_used": 3,
          "standard_of_living_index": 3,
          "wife_age": 25,
          "wife_education": 3,
          "wife_religion": 1
         },
         {
          "contraceptive_method_used": 3,
          "standard_of_living_index": 2,
          "wife_age": 35,
          "wife_education": 2,
          "wife_religion": 1
         },
         {
          "contraceptive_method_used": 1,
          "standard_of_living_index": 3,
          "wife_age": 35,
          "wife_education": 4,
          "wife_religion": 1
         },
         {
          "contraceptive_method_used": 3,
          "standard_of_living_index": 1,
          "wife_age": 21,
          "wife_education": 3,
          "wife_religion": 1
         },
         {
          "contraceptive_method_used": 1,
          "standard_of_living_index": 3,
          "wife_age": 38,
          "wife_education": 2,
          "wife_religion": 1
         },
         {
          "contraceptive_method_used": 3,
          "standard_of_living_index": 4,
          "wife_age": 37,
          "wife_education": 4,
          "wife_religion": 1
         },
         {
          "contraceptive_method_used": 1,
          "standard_of_living_index": 4,
          "wife_age": 36,
          "wife_education": 4,
          "wife_religion": 1
         },
         {
          "contraceptive_method_used": 3,
          "standard_of_living_index": 4,
          "wife_age": 33,
          "wife_education": 3,
          "wife_religion": 1
         },
         {
          "contraceptive_method_used": 3,
          "standard_of_living_index": 4,
          "wife_age": 33,
          "wife_education": 4,
          "wife_religion": 1
         },
         {
          "contraceptive_method_used": 2,
          "standard_of_living_index": 4,
          "wife_age": 38,
          "wife_education": 4,
          "wife_religion": 1
         },
         {
          "contraceptive_method_used": 2,
          "standard_of_living_index": 4,
          "wife_age": 36,
          "wife_education": 4,
          "wife_religion": 0
         },
         {
          "contraceptive_method_used": 1,
          "standard_of_living_index": 1,
          "wife_age": 22,
          "wife_education": 2,
          "wife_religion": 1
         },
         {
          "contraceptive_method_used": 3,
          "standard_of_living_index": 2,
          "wife_age": 27,
          "wife_education": 3,
          "wife_religion": 1
         },
         {
          "contraceptive_method_used": 1,
          "standard_of_living_index": 3,
          "wife_age": 19,
          "wife_education": 4,
          "wife_religion": 1
         },
         {
          "contraceptive_method_used": 1,
          "standard_of_living_index": 4,
          "wife_age": 28,
          "wife_education": 4,
          "wife_religion": 0
         },
         {
          "contraceptive_method_used": 3,
          "standard_of_living_index": 4,
          "wife_age": 33,
          "wife_education": 4,
          "wife_religion": 1
         },
         {
          "contraceptive_method_used": 1,
          "standard_of_living_index": 3,
          "wife_age": 34,
          "wife_education": 3,
          "wife_religion": 1
         },
         {
          "contraceptive_method_used": 3,
          "standard_of_living_index": 3,
          "wife_age": 33,
          "wife_education": 2,
          "wife_religion": 1
         },
         {
          "contraceptive_method_used": 3,
          "standard_of_living_index": 4,
          "wife_age": 40,
          "wife_education": 4,
          "wife_religion": 1
         },
         {
          "contraceptive_method_used": 2,
          "standard_of_living_index": 4,
          "wife_age": 38,
          "wife_education": 4,
          "wife_religion": 0
         },
         {
          "contraceptive_method_used": 3,
          "standard_of_living_index": 3,
          "wife_age": 20,
          "wife_education": 3,
          "wife_religion": 1
         },
         {
          "contraceptive_method_used": 1,
          "standard_of_living_index": 2,
          "wife_age": 36,
          "wife_education": 3,
          "wife_religion": 1
         },
         {
          "contraceptive_method_used": 1,
          "standard_of_living_index": 4,
          "wife_age": 39,
          "wife_education": 4,
          "wife_religion": 1
         },
         {
          "contraceptive_method_used": 1,
          "standard_of_living_index": 2,
          "wife_age": 29,
          "wife_education": 4,
          "wife_religion": 1
         },
         {
          "contraceptive_method_used": 1,
          "standard_of_living_index": 4,
          "wife_age": 28,
          "wife_education": 4,
          "wife_religion": 0
         },
         {
          "contraceptive_method_used": 1,
          "standard_of_living_index": 4,
          "wife_age": 26,
          "wife_education": 4,
          "wife_religion": 1
         },
         {
          "contraceptive_method_used": 1,
          "standard_of_living_index": 3,
          "wife_age": 49,
          "wife_education": 2,
          "wife_religion": 0
         },
         {
          "contraceptive_method_used": 3,
          "standard_of_living_index": 4,
          "wife_age": 29,
          "wife_education": 4,
          "wife_religion": 1
         },
         {
          "contraceptive_method_used": 1,
          "standard_of_living_index": 1,
          "wife_age": 46,
          "wife_education": 1,
          "wife_religion": 1
         },
         {
          "contraceptive_method_used": 2,
          "standard_of_living_index": 4,
          "wife_age": 38,
          "wife_education": 4,
          "wife_religion": 1
         },
         {
          "contraceptive_method_used": 1,
          "standard_of_living_index": 4,
          "wife_age": 29,
          "wife_education": 4,
          "wife_religion": 1
         },
         {
          "contraceptive_method_used": 3,
          "standard_of_living_index": 3,
          "wife_age": 19,
          "wife_education": 2,
          "wife_religion": 1
         },
         {
          "contraceptive_method_used": 3,
          "standard_of_living_index": 3,
          "wife_age": 25,
          "wife_education": 3,
          "wife_religion": 1
         },
         {
          "contraceptive_method_used": 1,
          "standard_of_living_index": 3,
          "wife_age": 22,
          "wife_education": 3,
          "wife_religion": 1
         },
         {
          "contraceptive_method_used": 3,
          "standard_of_living_index": 4,
          "wife_age": 46,
          "wife_education": 4,
          "wife_religion": 0
         },
         {
          "contraceptive_method_used": 3,
          "standard_of_living_index": 2,
          "wife_age": 29,
          "wife_education": 2,
          "wife_religion": 1
         },
         {
          "contraceptive_method_used": 1,
          "standard_of_living_index": 4,
          "wife_age": 32,
          "wife_education": 2,
          "wife_religion": 1
         },
         {
          "contraceptive_method_used": 3,
          "standard_of_living_index": 4,
          "wife_age": 46,
          "wife_education": 2,
          "wife_religion": 1
         },
         {
          "contraceptive_method_used": 2,
          "standard_of_living_index": 3,
          "wife_age": 34,
          "wife_education": 3,
          "wife_religion": 0
         },
         {
          "contraceptive_method_used": 1,
          "standard_of_living_index": 3,
          "wife_age": 45,
          "wife_education": 3,
          "wife_religion": 1
         },
         {
          "contraceptive_method_used": 1,
          "standard_of_living_index": 3,
          "wife_age": 27,
          "wife_education": 3,
          "wife_religion": 1
         },
         {
          "contraceptive_method_used": 1,
          "standard_of_living_index": 4,
          "wife_age": 49,
          "wife_education": 3,
          "wife_religion": 1
         },
         {
          "contraceptive_method_used": 1,
          "standard_of_living_index": 3,
          "wife_age": 34,
          "wife_education": 2,
          "wife_religion": 1
         },
         {
          "contraceptive_method_used": 2,
          "standard_of_living_index": 4,
          "wife_age": 37,
          "wife_education": 4,
          "wife_religion": 1
         },
         {
          "contraceptive_method_used": 1,
          "standard_of_living_index": 3,
          "wife_age": 39,
          "wife_education": 3,
          "wife_religion": 1
         },
         {
          "contraceptive_method_used": 1,
          "standard_of_living_index": 4,
          "wife_age": 44,
          "wife_education": 4,
          "wife_religion": 0
         },
         {
          "contraceptive_method_used": 1,
          "standard_of_living_index": 4,
          "wife_age": 47,
          "wife_education": 3,
          "wife_religion": 1
         },
         {
          "contraceptive_method_used": 1,
          "standard_of_living_index": 3,
          "wife_age": 36,
          "wife_education": 2,
          "wife_religion": 1
         },
         {
          "contraceptive_method_used": 1,
          "standard_of_living_index": 3,
          "wife_age": 44,
          "wife_education": 3,
          "wife_religion": 1
         },
         {
          "contraceptive_method_used": 3,
          "standard_of_living_index": 2,
          "wife_age": 34,
          "wife_education": 4,
          "wife_religion": 1
         },
         {
          "contraceptive_method_used": 1,
          "standard_of_living_index": 4,
          "wife_age": 22,
          "wife_education": 3,
          "wife_religion": 1
         },
         {
          "contraceptive_method_used": 1,
          "standard_of_living_index": 2,
          "wife_age": 20,
          "wife_education": 2,
          "wife_religion": 0
         },
         {
          "contraceptive_method_used": 2,
          "standard_of_living_index": 4,
          "wife_age": 48,
          "wife_education": 4,
          "wife_religion": 1
         },
         {
          "contraceptive_method_used": 1,
          "standard_of_living_index": 3,
          "wife_age": 38,
          "wife_education": 1,
          "wife_religion": 1
         },
         {
          "contraceptive_method_used": 2,
          "standard_of_living_index": 3,
          "wife_age": 26,
          "wife_education": 4,
          "wife_religion": 1
         },
         {
          "contraceptive_method_used": 1,
          "standard_of_living_index": 3,
          "wife_age": 20,
          "wife_education": 3,
          "wife_religion": 1
         },
         {
          "contraceptive_method_used": 2,
          "standard_of_living_index": 4,
          "wife_age": 41,
          "wife_education": 4,
          "wife_religion": 1
         },
         {
          "contraceptive_method_used": 1,
          "standard_of_living_index": 3,
          "wife_age": 44,
          "wife_education": 1,
          "wife_religion": 1
         },
         {
          "contraceptive_method_used": 1,
          "standard_of_living_index": 4,
          "wife_age": 37,
          "wife_education": 4,
          "wife_religion": 0
         },
         {
          "contraceptive_method_used": 3,
          "standard_of_living_index": 3,
          "wife_age": 27,
          "wife_education": 3,
          "wife_religion": 1
         },
         {
          "contraceptive_method_used": 1,
          "standard_of_living_index": 4,
          "wife_age": 22,
          "wife_education": 1,
          "wife_religion": 1
         },
         {
          "contraceptive_method_used": 3,
          "standard_of_living_index": 4,
          "wife_age": 35,
          "wife_education": 1,
          "wife_religion": 1
         },
         {
          "contraceptive_method_used": 3,
          "standard_of_living_index": 3,
          "wife_age": 48,
          "wife_education": 3,
          "wife_religion": 1
         },
         {
          "contraceptive_method_used": 1,
          "standard_of_living_index": 1,
          "wife_age": 27,
          "wife_education": 1,
          "wife_religion": 1
         },
         {
          "contraceptive_method_used": 1,
          "standard_of_living_index": 3,
          "wife_age": 27,
          "wife_education": 3,
          "wife_religion": 1
         },
         {
          "contraceptive_method_used": 3,
          "standard_of_living_index": 2,
          "wife_age": 27,
          "wife_education": 3,
          "wife_religion": 1
         },
         {
          "contraceptive_method_used": 1,
          "standard_of_living_index": 3,
          "wife_age": 43,
          "wife_education": 2,
          "wife_religion": 0
         },
         {
          "contraceptive_method_used": 3,
          "standard_of_living_index": 4,
          "wife_age": 30,
          "wife_education": 4,
          "wife_religion": 1
         },
         {
          "contraceptive_method_used": 3,
          "standard_of_living_index": 4,
          "wife_age": 29,
          "wife_education": 4,
          "wife_religion": 1
         },
         {
          "contraceptive_method_used": 3,
          "standard_of_living_index": 2,
          "wife_age": 30,
          "wife_education": 3,
          "wife_religion": 1
         },
         {
          "contraceptive_method_used": 2,
          "standard_of_living_index": 4,
          "wife_age": 42,
          "wife_education": 4,
          "wife_religion": 1
         },
         {
          "contraceptive_method_used": 1,
          "standard_of_living_index": 4,
          "wife_age": 25,
          "wife_education": 4,
          "wife_religion": 1
         },
         {
          "contraceptive_method_used": 1,
          "standard_of_living_index": 3,
          "wife_age": 23,
          "wife_education": 3,
          "wife_religion": 1
         },
         {
          "contraceptive_method_used": 2,
          "standard_of_living_index": 3,
          "wife_age": 22,
          "wife_education": 4,
          "wife_religion": 1
         },
         {
          "contraceptive_method_used": 3,
          "standard_of_living_index": 3,
          "wife_age": 33,
          "wife_education": 2,
          "wife_religion": 1
         },
         {
          "contraceptive_method_used": 2,
          "standard_of_living_index": 4,
          "wife_age": 27,
          "wife_education": 4,
          "wife_religion": 1
         },
         {
          "contraceptive_method_used": 2,
          "standard_of_living_index": 4,
          "wife_age": 39,
          "wife_education": 4,
          "wife_religion": 1
         },
         {
          "contraceptive_method_used": 1,
          "standard_of_living_index": 4,
          "wife_age": 30,
          "wife_education": 2,
          "wife_religion": 1
         },
         {
          "contraceptive_method_used": 1,
          "standard_of_living_index": 4,
          "wife_age": 42,
          "wife_education": 4,
          "wife_religion": 1
         },
         {
          "contraceptive_method_used": 2,
          "standard_of_living_index": 4,
          "wife_age": 17,
          "wife_education": 4,
          "wife_religion": 1
         },
         {
          "contraceptive_method_used": 1,
          "standard_of_living_index": 3,
          "wife_age": 24,
          "wife_education": 2,
          "wife_religion": 1
         },
         {
          "contraceptive_method_used": 3,
          "standard_of_living_index": 4,
          "wife_age": 41,
          "wife_education": 3,
          "wife_religion": 0
         },
         {
          "contraceptive_method_used": 1,
          "standard_of_living_index": 3,
          "wife_age": 45,
          "wife_education": 1,
          "wife_religion": 1
         },
         {
          "contraceptive_method_used": 1,
          "standard_of_living_index": 4,
          "wife_age": 38,
          "wife_education": 4,
          "wife_religion": 1
         },
         {
          "contraceptive_method_used": 2,
          "standard_of_living_index": 4,
          "wife_age": 42,
          "wife_education": 2,
          "wife_religion": 1
         },
         {
          "contraceptive_method_used": 2,
          "standard_of_living_index": 3,
          "wife_age": 23,
          "wife_education": 4,
          "wife_religion": 1
         },
         {
          "contraceptive_method_used": 3,
          "standard_of_living_index": 3,
          "wife_age": 21,
          "wife_education": 3,
          "wife_religion": 1
         },
         {
          "contraceptive_method_used": 3,
          "standard_of_living_index": 2,
          "wife_age": 25,
          "wife_education": 2,
          "wife_religion": 1
         },
         {
          "contraceptive_method_used": 3,
          "standard_of_living_index": 3,
          "wife_age": 25,
          "wife_education": 2,
          "wife_religion": 1
         },
         {
          "contraceptive_method_used": 1,
          "standard_of_living_index": 1,
          "wife_age": 44,
          "wife_education": 1,
          "wife_religion": 1
         },
         {
          "contraceptive_method_used": 3,
          "standard_of_living_index": 2,
          "wife_age": 23,
          "wife_education": 3,
          "wife_religion": 1
         },
         {
          "contraceptive_method_used": 3,
          "standard_of_living_index": 4,
          "wife_age": 44,
          "wife_education": 4,
          "wife_religion": 1
         },
         {
          "contraceptive_method_used": 1,
          "standard_of_living_index": 4,
          "wife_age": 25,
          "wife_education": 3,
          "wife_religion": 1
         },
         {
          "contraceptive_method_used": 3,
          "standard_of_living_index": 3,
          "wife_age": 30,
          "wife_education": 4,
          "wife_religion": 0
         },
         {
          "contraceptive_method_used": 1,
          "standard_of_living_index": 4,
          "wife_age": 35,
          "wife_education": 2,
          "wife_religion": 1
         },
         {
          "contraceptive_method_used": 3,
          "standard_of_living_index": 4,
          "wife_age": 36,
          "wife_education": 4,
          "wife_religion": 0
         },
         {
          "contraceptive_method_used": 1,
          "standard_of_living_index": 4,
          "wife_age": 46,
          "wife_education": 2,
          "wife_religion": 1
         },
         {
          "contraceptive_method_used": 1,
          "standard_of_living_index": 4,
          "wife_age": 47,
          "wife_education": 4,
          "wife_religion": 1
         },
         {
          "contraceptive_method_used": 1,
          "standard_of_living_index": 1,
          "wife_age": 25,
          "wife_education": 3,
          "wife_religion": 1
         },
         {
          "contraceptive_method_used": 1,
          "standard_of_living_index": 3,
          "wife_age": 21,
          "wife_education": 3,
          "wife_religion": 1
         },
         {
          "contraceptive_method_used": 3,
          "standard_of_living_index": 2,
          "wife_age": 26,
          "wife_education": 1,
          "wife_religion": 1
         },
         {
          "contraceptive_method_used": 1,
          "standard_of_living_index": 3,
          "wife_age": 28,
          "wife_education": 4,
          "wife_religion": 0
         },
         {
          "contraceptive_method_used": 1,
          "standard_of_living_index": 2,
          "wife_age": 21,
          "wife_education": 2,
          "wife_religion": 1
         },
         {
          "contraceptive_method_used": 3,
          "standard_of_living_index": 2,
          "wife_age": 20,
          "wife_education": 3,
          "wife_religion": 1
         },
         {
          "contraceptive_method_used": 3,
          "standard_of_living_index": 4,
          "wife_age": 35,
          "wife_education": 3,
          "wife_religion": 1
         },
         {
          "contraceptive_method_used": 1,
          "standard_of_living_index": 4,
          "wife_age": 43,
          "wife_education": 4,
          "wife_religion": 1
         },
         {
          "contraceptive_method_used": 3,
          "standard_of_living_index": 3,
          "wife_age": 27,
          "wife_education": 4,
          "wife_religion": 0
         },
         {
          "contraceptive_method_used": 1,
          "standard_of_living_index": 4,
          "wife_age": 35,
          "wife_education": 4,
          "wife_religion": 0
         },
         {
          "contraceptive_method_used": 3,
          "standard_of_living_index": 4,
          "wife_age": 31,
          "wife_education": 4,
          "wife_religion": 1
         },
         {
          "contraceptive_method_used": 1,
          "standard_of_living_index": 3,
          "wife_age": 44,
          "wife_education": 3,
          "wife_religion": 1
         },
         {
          "contraceptive_method_used": 2,
          "standard_of_living_index": 3,
          "wife_age": 28,
          "wife_education": 4,
          "wife_religion": 1
         },
         {
          "contraceptive_method_used": 1,
          "standard_of_living_index": 2,
          "wife_age": 37,
          "wife_education": 2,
          "wife_religion": 1
         },
         {
          "contraceptive_method_used": 3,
          "standard_of_living_index": 3,
          "wife_age": 39,
          "wife_education": 3,
          "wife_religion": 1
         },
         {
          "contraceptive_method_used": 2,
          "standard_of_living_index": 4,
          "wife_age": 44,
          "wife_education": 4,
          "wife_religion": 1
         },
         {
          "contraceptive_method_used": 3,
          "standard_of_living_index": 3,
          "wife_age": 43,
          "wife_education": 3,
          "wife_religion": 1
         },
         {
          "contraceptive_method_used": 3,
          "standard_of_living_index": 4,
          "wife_age": 33,
          "wife_education": 4,
          "wife_religion": 1
         },
         {
          "contraceptive_method_used": 2,
          "standard_of_living_index": 2,
          "wife_age": 34,
          "wife_education": 4,
          "wife_religion": 0
         },
         {
          "contraceptive_method_used": 1,
          "standard_of_living_index": 4,
          "wife_age": 22,
          "wife_education": 2,
          "wife_religion": 1
         },
         {
          "contraceptive_method_used": 1,
          "standard_of_living_index": 1,
          "wife_age": 47,
          "wife_education": 1,
          "wife_religion": 1
         },
         {
          "contraceptive_method_used": 2,
          "standard_of_living_index": 4,
          "wife_age": 34,
          "wife_education": 4,
          "wife_religion": 1
         },
         {
          "contraceptive_method_used": 1,
          "standard_of_living_index": 3,
          "wife_age": 21,
          "wife_education": 3,
          "wife_religion": 1
         },
         {
          "contraceptive_method_used": 1,
          "standard_of_living_index": 2,
          "wife_age": 49,
          "wife_education": 4,
          "wife_religion": 1
         },
         {
          "contraceptive_method_used": 1,
          "standard_of_living_index": 3,
          "wife_age": 29,
          "wife_education": 3,
          "wife_religion": 1
         },
         {
          "contraceptive_method_used": 1,
          "standard_of_living_index": 4,
          "wife_age": 22,
          "wife_education": 4,
          "wife_religion": 1
         },
         {
          "contraceptive_method_used": 2,
          "standard_of_living_index": 4,
          "wife_age": 37,
          "wife_education": 4,
          "wife_religion": 1
         },
         {
          "contraceptive_method_used": 2,
          "standard_of_living_index": 1,
          "wife_age": 21,
          "wife_education": 4,
          "wife_religion": 1
         },
         {
          "contraceptive_method_used": 2,
          "standard_of_living_index": 4,
          "wife_age": 43,
          "wife_education": 1,
          "wife_religion": 1
         },
         {
          "contraceptive_method_used": 1,
          "standard_of_living_index": 3,
          "wife_age": 27,
          "wife_education": 3,
          "wife_religion": 1
         },
         {
          "contraceptive_method_used": 3,
          "standard_of_living_index": 3,
          "wife_age": 21,
          "wife_education": 3,
          "wife_religion": 1
         },
         {
          "contraceptive_method_used": 2,
          "standard_of_living_index": 4,
          "wife_age": 23,
          "wife_education": 4,
          "wife_religion": 1
         },
         {
          "contraceptive_method_used": 3,
          "standard_of_living_index": 3,
          "wife_age": 32,
          "wife_education": 4,
          "wife_religion": 1
         },
         {
          "contraceptive_method_used": 1,
          "standard_of_living_index": 3,
          "wife_age": 45,
          "wife_education": 1,
          "wife_religion": 1
         },
         {
          "contraceptive_method_used": 1,
          "standard_of_living_index": 3,
          "wife_age": 42,
          "wife_education": 1,
          "wife_religion": 1
         },
         {
          "contraceptive_method_used": 3,
          "standard_of_living_index": 1,
          "wife_age": 24,
          "wife_education": 3,
          "wife_religion": 1
         },
         {
          "contraceptive_method_used": 3,
          "standard_of_living_index": 4,
          "wife_age": 34,
          "wife_education": 4,
          "wife_religion": 0
         },
         {
          "contraceptive_method_used": 1,
          "standard_of_living_index": 3,
          "wife_age": 45,
          "wife_education": 1,
          "wife_religion": 1
         },
         {
          "contraceptive_method_used": 3,
          "standard_of_living_index": 4,
          "wife_age": 26,
          "wife_education": 4,
          "wife_religion": 1
         },
         {
          "contraceptive_method_used": 1,
          "standard_of_living_index": 4,
          "wife_age": 16,
          "wife_education": 2,
          "wife_religion": 1
         },
         {
          "contraceptive_method_used": 1,
          "standard_of_living_index": 4,
          "wife_age": 38,
          "wife_education": 4,
          "wife_religion": 1
         },
         {
          "contraceptive_method_used": 3,
          "standard_of_living_index": 4,
          "wife_age": 28,
          "wife_education": 4,
          "wife_religion": 0
         },
         {
          "contraceptive_method_used": 2,
          "standard_of_living_index": 4,
          "wife_age": 45,
          "wife_education": 3,
          "wife_religion": 1
         },
         {
          "contraceptive_method_used": 1,
          "standard_of_living_index": 1,
          "wife_age": 33,
          "wife_education": 1,
          "wife_religion": 1
         },
         {
          "contraceptive_method_used": 1,
          "standard_of_living_index": 3,
          "wife_age": 41,
          "wife_education": 1,
          "wife_religion": 1
         },
         {
          "contraceptive_method_used": 3,
          "standard_of_living_index": 2,
          "wife_age": 21,
          "wife_education": 2,
          "wife_religion": 1
         },
         {
          "contraceptive_method_used": 3,
          "standard_of_living_index": 1,
          "wife_age": 21,
          "wife_education": 3,
          "wife_religion": 1
         },
         {
          "contraceptive_method_used": 1,
          "standard_of_living_index": 4,
          "wife_age": 22,
          "wife_education": 2,
          "wife_religion": 1
         },
         {
          "contraceptive_method_used": 1,
          "standard_of_living_index": 4,
          "wife_age": 45,
          "wife_education": 4,
          "wife_religion": 1
         },
         {
          "contraceptive_method_used": 3,
          "standard_of_living_index": 4,
          "wife_age": 31,
          "wife_education": 4,
          "wife_religion": 1
         },
         {
          "contraceptive_method_used": 3,
          "standard_of_living_index": 2,
          "wife_age": 33,
          "wife_education": 3,
          "wife_religion": 1
         },
         {
          "contraceptive_method_used": 1,
          "standard_of_living_index": 3,
          "wife_age": 46,
          "wife_education": 1,
          "wife_religion": 1
         },
         {
          "contraceptive_method_used": 1,
          "standard_of_living_index": 2,
          "wife_age": 48,
          "wife_education": 1,
          "wife_religion": 1
         },
         {
          "contraceptive_method_used": 1,
          "standard_of_living_index": 4,
          "wife_age": 48,
          "wife_education": 2,
          "wife_religion": 1
         },
         {
          "contraceptive_method_used": 3,
          "standard_of_living_index": 4,
          "wife_age": 34,
          "wife_education": 3,
          "wife_religion": 1
         },
         {
          "contraceptive_method_used": 3,
          "standard_of_living_index": 1,
          "wife_age": 21,
          "wife_education": 3,
          "wife_religion": 1
         },
         {
          "contraceptive_method_used": 3,
          "standard_of_living_index": 4,
          "wife_age": 44,
          "wife_education": 3,
          "wife_religion": 1
         },
         {
          "contraceptive_method_used": 2,
          "standard_of_living_index": 4,
          "wife_age": 33,
          "wife_education": 4,
          "wife_religion": 1
         },
         {
          "contraceptive_method_used": 3,
          "standard_of_living_index": 4,
          "wife_age": 21,
          "wife_education": 4,
          "wife_religion": 0
         },
         {
          "contraceptive_method_used": 3,
          "standard_of_living_index": 2,
          "wife_age": 22,
          "wife_education": 3,
          "wife_religion": 1
         },
         {
          "contraceptive_method_used": 1,
          "standard_of_living_index": 3,
          "wife_age": 45,
          "wife_education": 1,
          "wife_religion": 1
         },
         {
          "contraceptive_method_used": 3,
          "standard_of_living_index": 3,
          "wife_age": 24,
          "wife_education": 4,
          "wife_religion": 1
         },
         {
          "contraceptive_method_used": 3,
          "standard_of_living_index": 2,
          "wife_age": 27,
          "wife_education": 4,
          "wife_religion": 1
         },
         {
          "contraceptive_method_used": 1,
          "standard_of_living_index": 3,
          "wife_age": 43,
          "wife_education": 3,
          "wife_religion": 1
         },
         {
          "contraceptive_method_used": 2,
          "standard_of_living_index": 4,
          "wife_age": 37,
          "wife_education": 4,
          "wife_religion": 1
         },
         {
          "contraceptive_method_used": 1,
          "standard_of_living_index": 3,
          "wife_age": 48,
          "wife_education": 1,
          "wife_religion": 1
         },
         {
          "contraceptive_method_used": 1,
          "standard_of_living_index": 1,
          "wife_age": 32,
          "wife_education": 2,
          "wife_religion": 1
         },
         {
          "contraceptive_method_used": 2,
          "standard_of_living_index": 4,
          "wife_age": 36,
          "wife_education": 4,
          "wife_religion": 1
         },
         {
          "contraceptive_method_used": 2,
          "standard_of_living_index": 3,
          "wife_age": 44,
          "wife_education": 4,
          "wife_religion": 1
         },
         {
          "contraceptive_method_used": 1,
          "standard_of_living_index": 3,
          "wife_age": 45,
          "wife_education": 3,
          "wife_religion": 1
         },
         {
          "contraceptive_method_used": 2,
          "standard_of_living_index": 4,
          "wife_age": 36,
          "wife_education": 4,
          "wife_religion": 1
         },
         {
          "contraceptive_method_used": 2,
          "standard_of_living_index": 2,
          "wife_age": 24,
          "wife_education": 4,
          "wife_religion": 1
         },
         {
          "contraceptive_method_used": 2,
          "standard_of_living_index": 3,
          "wife_age": 42,
          "wife_education": 4,
          "wife_religion": 1
         },
         {
          "contraceptive_method_used": 1,
          "standard_of_living_index": 2,
          "wife_age": 35,
          "wife_education": 2,
          "wife_religion": 1
         },
         {
          "contraceptive_method_used": 1,
          "standard_of_living_index": 3,
          "wife_age": 32,
          "wife_education": 4,
          "wife_religion": 1
         },
         {
          "contraceptive_method_used": 1,
          "standard_of_living_index": 1,
          "wife_age": 34,
          "wife_education": 3,
          "wife_religion": 0
         },
         {
          "contraceptive_method_used": 1,
          "standard_of_living_index": 3,
          "wife_age": 24,
          "wife_education": 3,
          "wife_religion": 1
         },
         {
          "contraceptive_method_used": 2,
          "standard_of_living_index": 3,
          "wife_age": 40,
          "wife_education": 4,
          "wife_religion": 1
         },
         {
          "contraceptive_method_used": 3,
          "standard_of_living_index": 4,
          "wife_age": 30,
          "wife_education": 4,
          "wife_religion": 1
         },
         {
          "contraceptive_method_used": 3,
          "standard_of_living_index": 1,
          "wife_age": 30,
          "wife_education": 2,
          "wife_religion": 1
         },
         {
          "contraceptive_method_used": 3,
          "standard_of_living_index": 3,
          "wife_age": 33,
          "wife_education": 4,
          "wife_religion": 1
         },
         {
          "contraceptive_method_used": 1,
          "standard_of_living_index": 4,
          "wife_age": 30,
          "wife_education": 2,
          "wife_religion": 1
         },
         {
          "contraceptive_method_used": 3,
          "standard_of_living_index": 1,
          "wife_age": 21,
          "wife_education": 2,
          "wife_religion": 1
         },
         {
          "contraceptive_method_used": 1,
          "standard_of_living_index": 2,
          "wife_age": 25,
          "wife_education": 4,
          "wife_religion": 1
         },
         {
          "contraceptive_method_used": 3,
          "standard_of_living_index": 1,
          "wife_age": 31,
          "wife_education": 3,
          "wife_religion": 1
         },
         {
          "contraceptive_method_used": 3,
          "standard_of_living_index": 4,
          "wife_age": 36,
          "wife_education": 4,
          "wife_religion": 0
         },
         {
          "contraceptive_method_used": 3,
          "standard_of_living_index": 2,
          "wife_age": 22,
          "wife_education": 1,
          "wife_religion": 1
         },
         {
          "contraceptive_method_used": 1,
          "standard_of_living_index": 4,
          "wife_age": 25,
          "wife_education": 3,
          "wife_religion": 1
         },
         {
          "contraceptive_method_used": 3,
          "standard_of_living_index": 2,
          "wife_age": 24,
          "wife_education": 1,
          "wife_religion": 1
         },
         {
          "contraceptive_method_used": 1,
          "standard_of_living_index": 3,
          "wife_age": 24,
          "wife_education": 4,
          "wife_religion": 1
         },
         {
          "contraceptive_method_used": 1,
          "standard_of_living_index": 3,
          "wife_age": 23,
          "wife_education": 2,
          "wife_religion": 1
         },
         {
          "contraceptive_method_used": 3,
          "standard_of_living_index": 3,
          "wife_age": 37,
          "wife_education": 2,
          "wife_religion": 1
         },
         {
          "contraceptive_method_used": 1,
          "standard_of_living_index": 1,
          "wife_age": 22,
          "wife_education": 2,
          "wife_religion": 1
         },
         {
          "contraceptive_method_used": 1,
          "standard_of_living_index": 4,
          "wife_age": 20,
          "wife_education": 2,
          "wife_religion": 1
         },
         {
          "contraceptive_method_used": 2,
          "standard_of_living_index": 4,
          "wife_age": 41,
          "wife_education": 4,
          "wife_religion": 1
         },
         {
          "contraceptive_method_used": 3,
          "standard_of_living_index": 3,
          "wife_age": 24,
          "wife_education": 4,
          "wife_religion": 1
         },
         {
          "contraceptive_method_used": 2,
          "standard_of_living_index": 4,
          "wife_age": 34,
          "wife_education": 1,
          "wife_religion": 1
         },
         {
          "contraceptive_method_used": 3,
          "standard_of_living_index": 3,
          "wife_age": 23,
          "wife_education": 2,
          "wife_religion": 1
         },
         {
          "contraceptive_method_used": 2,
          "standard_of_living_index": 3,
          "wife_age": 30,
          "wife_education": 3,
          "wife_religion": 1
         },
         {
          "contraceptive_method_used": 3,
          "standard_of_living_index": 3,
          "wife_age": 19,
          "wife_education": 4,
          "wife_religion": 1
         },
         {
          "contraceptive_method_used": 3,
          "standard_of_living_index": 3,
          "wife_age": 44,
          "wife_education": 4,
          "wife_religion": 0
         },
         {
          "contraceptive_method_used": 2,
          "standard_of_living_index": 3,
          "wife_age": 34,
          "wife_education": 3,
          "wife_religion": 1
         },
         {
          "contraceptive_method_used": 2,
          "standard_of_living_index": 4,
          "wife_age": 26,
          "wife_education": 2,
          "wife_religion": 1
         },
         {
          "contraceptive_method_used": 3,
          "standard_of_living_index": 3,
          "wife_age": 25,
          "wife_education": 4,
          "wife_religion": 1
         },
         {
          "contraceptive_method_used": 3,
          "standard_of_living_index": 3,
          "wife_age": 28,
          "wife_education": 4,
          "wife_religion": 1
         },
         {
          "contraceptive_method_used": 3,
          "standard_of_living_index": 4,
          "wife_age": 37,
          "wife_education": 4,
          "wife_religion": 0
         },
         {
          "contraceptive_method_used": 3,
          "standard_of_living_index": 2,
          "wife_age": 26,
          "wife_education": 3,
          "wife_religion": 1
         },
         {
          "contraceptive_method_used": 3,
          "standard_of_living_index": 2,
          "wife_age": 38,
          "wife_education": 3,
          "wife_religion": 1
         },
         {
          "contraceptive_method_used": 1,
          "standard_of_living_index": 4,
          "wife_age": 22,
          "wife_education": 4,
          "wife_religion": 1
         },
         {
          "contraceptive_method_used": 3,
          "standard_of_living_index": 4,
          "wife_age": 25,
          "wife_education": 3,
          "wife_religion": 1
         },
         {
          "contraceptive_method_used": 1,
          "standard_of_living_index": 2,
          "wife_age": 31,
          "wife_education": 2,
          "wife_religion": 1
         },
         {
          "contraceptive_method_used": 2,
          "standard_of_living_index": 4,
          "wife_age": 33,
          "wife_education": 3,
          "wife_religion": 1
         },
         {
          "contraceptive_method_used": 2,
          "standard_of_living_index": 2,
          "wife_age": 35,
          "wife_education": 2,
          "wife_religion": 0
         },
         {
          "contraceptive_method_used": 1,
          "standard_of_living_index": 4,
          "wife_age": 36,
          "wife_education": 2,
          "wife_religion": 1
         },
         {
          "contraceptive_method_used": 3,
          "standard_of_living_index": 2,
          "wife_age": 25,
          "wife_education": 3,
          "wife_religion": 1
         },
         {
          "contraceptive_method_used": 3,
          "standard_of_living_index": 2,
          "wife_age": 20,
          "wife_education": 2,
          "wife_religion": 1
         },
         {
          "contraceptive_method_used": 1,
          "standard_of_living_index": 4,
          "wife_age": 48,
          "wife_education": 1,
          "wife_religion": 1
         },
         {
          "contraceptive_method_used": 2,
          "standard_of_living_index": 2,
          "wife_age": 22,
          "wife_education": 4,
          "wife_religion": 1
         },
         {
          "contraceptive_method_used": 3,
          "standard_of_living_index": 4,
          "wife_age": 24,
          "wife_education": 3,
          "wife_religion": 1
         },
         {
          "contraceptive_method_used": 1,
          "standard_of_living_index": 4,
          "wife_age": 20,
          "wife_education": 4,
          "wife_religion": 0
         },
         {
          "contraceptive_method_used": 3,
          "standard_of_living_index": 3,
          "wife_age": 29,
          "wife_education": 3,
          "wife_religion": 1
         },
         {
          "contraceptive_method_used": 3,
          "standard_of_living_index": 4,
          "wife_age": 48,
          "wife_education": 3,
          "wife_religion": 1
         },
         {
          "contraceptive_method_used": 1,
          "standard_of_living_index": 4,
          "wife_age": 22,
          "wife_education": 3,
          "wife_religion": 1
         },
         {
          "contraceptive_method_used": 1,
          "standard_of_living_index": 4,
          "wife_age": 37,
          "wife_education": 4,
          "wife_religion": 1
         },
         {
          "contraceptive_method_used": 1,
          "standard_of_living_index": 1,
          "wife_age": 21,
          "wife_education": 3,
          "wife_religion": 1
         },
         {
          "contraceptive_method_used": 3,
          "standard_of_living_index": 4,
          "wife_age": 35,
          "wife_education": 4,
          "wife_religion": 1
         },
         {
          "contraceptive_method_used": 1,
          "standard_of_living_index": 4,
          "wife_age": 41,
          "wife_education": 1,
          "wife_religion": 1
         },
         {
          "contraceptive_method_used": 1,
          "standard_of_living_index": 3,
          "wife_age": 42,
          "wife_education": 3,
          "wife_religion": 1
         },
         {
          "contraceptive_method_used": 1,
          "standard_of_living_index": 1,
          "wife_age": 48,
          "wife_education": 1,
          "wife_religion": 1
         },
         {
          "contraceptive_method_used": 3,
          "standard_of_living_index": 4,
          "wife_age": 33,
          "wife_education": 4,
          "wife_religion": 0
         },
         {
          "contraceptive_method_used": 1,
          "standard_of_living_index": 4,
          "wife_age": 45,
          "wife_education": 3,
          "wife_religion": 0
         },
         {
          "contraceptive_method_used": 2,
          "standard_of_living_index": 3,
          "wife_age": 38,
          "wife_education": 4,
          "wife_religion": 1
         },
         {
          "contraceptive_method_used": 1,
          "standard_of_living_index": 3,
          "wife_age": 48,
          "wife_education": 1,
          "wife_religion": 1
         },
         {
          "contraceptive_method_used": 3,
          "standard_of_living_index": 2,
          "wife_age": 30,
          "wife_education": 3,
          "wife_religion": 1
         },
         {
          "contraceptive_method_used": 1,
          "standard_of_living_index": 4,
          "wife_age": 41,
          "wife_education": 3,
          "wife_religion": 1
         },
         {
          "contraceptive_method_used": 1,
          "standard_of_living_index": 2,
          "wife_age": 42,
          "wife_education": 3,
          "wife_religion": 1
         },
         {
          "contraceptive_method_used": 1,
          "standard_of_living_index": 4,
          "wife_age": 24,
          "wife_education": 2,
          "wife_religion": 1
         },
         {
          "contraceptive_method_used": 1,
          "standard_of_living_index": 3,
          "wife_age": 27,
          "wife_education": 2,
          "wife_religion": 1
         },
         {
          "contraceptive_method_used": 3,
          "standard_of_living_index": 4,
          "wife_age": 33,
          "wife_education": 3,
          "wife_religion": 1
         },
         {
          "contraceptive_method_used": 3,
          "standard_of_living_index": 4,
          "wife_age": 37,
          "wife_education": 3,
          "wife_religion": 0
         },
         {
          "contraceptive_method_used": 2,
          "standard_of_living_index": 3,
          "wife_age": 45,
          "wife_education": 3,
          "wife_religion": 0
         },
         {
          "contraceptive_method_used": 3,
          "standard_of_living_index": 4,
          "wife_age": 26,
          "wife_education": 4,
          "wife_religion": 1
         },
         {
          "contraceptive_method_used": 1,
          "standard_of_living_index": 3,
          "wife_age": 28,
          "wife_education": 3,
          "wife_religion": 1
         },
         {
          "contraceptive_method_used": 1,
          "standard_of_living_index": 4,
          "wife_age": 41,
          "wife_education": 3,
          "wife_religion": 0
         },
         {
          "contraceptive_method_used": 2,
          "standard_of_living_index": 4,
          "wife_age": 33,
          "wife_education": 4,
          "wife_religion": 1
         },
         {
          "contraceptive_method_used": 3,
          "standard_of_living_index": 3,
          "wife_age": 31,
          "wife_education": 1,
          "wife_religion": 1
         },
         {
          "contraceptive_method_used": 1,
          "standard_of_living_index": 2,
          "wife_age": 44,
          "wife_education": 1,
          "wife_religion": 1
         },
         {
          "contraceptive_method_used": 1,
          "standard_of_living_index": 4,
          "wife_age": 37,
          "wife_education": 4,
          "wife_religion": 1
         },
         {
          "contraceptive_method_used": 1,
          "standard_of_living_index": 2,
          "wife_age": 22,
          "wife_education": 2,
          "wife_religion": 1
         },
         {
          "contraceptive_method_used": 3,
          "standard_of_living_index": 4,
          "wife_age": 29,
          "wife_education": 1,
          "wife_religion": 1
         },
         {
          "contraceptive_method_used": 2,
          "standard_of_living_index": 4,
          "wife_age": 26,
          "wife_education": 2,
          "wife_religion": 1
         },
         {
          "contraceptive_method_used": 2,
          "standard_of_living_index": 3,
          "wife_age": 45,
          "wife_education": 3,
          "wife_religion": 1
         },
         {
          "contraceptive_method_used": 1,
          "standard_of_living_index": 2,
          "wife_age": 46,
          "wife_education": 3,
          "wife_religion": 1
         },
         {
          "contraceptive_method_used": 1,
          "standard_of_living_index": 3,
          "wife_age": 18,
          "wife_education": 2,
          "wife_religion": 1
         },
         {
          "contraceptive_method_used": 1,
          "standard_of_living_index": 4,
          "wife_age": 49,
          "wife_education": 4,
          "wife_religion": 1
         },
         {
          "contraceptive_method_used": 2,
          "standard_of_living_index": 4,
          "wife_age": 35,
          "wife_education": 4,
          "wife_religion": 1
         },
         {
          "contraceptive_method_used": 1,
          "standard_of_living_index": 3,
          "wife_age": 36,
          "wife_education": 2,
          "wife_religion": 1
         },
         {
          "contraceptive_method_used": 3,
          "standard_of_living_index": 2,
          "wife_age": 22,
          "wife_education": 2,
          "wife_religion": 1
         },
         {
          "contraceptive_method_used": 2,
          "standard_of_living_index": 4,
          "wife_age": 44,
          "wife_education": 2,
          "wife_religion": 0
         },
         {
          "contraceptive_method_used": 2,
          "standard_of_living_index": 2,
          "wife_age": 38,
          "wife_education": 2,
          "wife_religion": 1
         },
         {
          "contraceptive_method_used": 2,
          "standard_of_living_index": 4,
          "wife_age": 31,
          "wife_education": 4,
          "wife_religion": 0
         },
         {
          "contraceptive_method_used": 1,
          "standard_of_living_index": 1,
          "wife_age": 23,
          "wife_education": 3,
          "wife_religion": 1
         },
         {
          "contraceptive_method_used": 2,
          "standard_of_living_index": 4,
          "wife_age": 38,
          "wife_education": 4,
          "wife_religion": 1
         },
         {
          "contraceptive_method_used": 2,
          "standard_of_living_index": 4,
          "wife_age": 25,
          "wife_education": 2,
          "wife_religion": 1
         },
         {
          "contraceptive_method_used": 3,
          "standard_of_living_index": 4,
          "wife_age": 37,
          "wife_education": 4,
          "wife_religion": 1
         },
         {
          "contraceptive_method_used": 1,
          "standard_of_living_index": 3,
          "wife_age": 43,
          "wife_education": 4,
          "wife_religion": 1
         },
         {
          "contraceptive_method_used": 3,
          "standard_of_living_index": 3,
          "wife_age": 24,
          "wife_education": 4,
          "wife_religion": 1
         },
         {
          "contraceptive_method_used": 1,
          "standard_of_living_index": 3,
          "wife_age": 49,
          "wife_education": 1,
          "wife_religion": 1
         },
         {
          "contraceptive_method_used": 1,
          "standard_of_living_index": 2,
          "wife_age": 21,
          "wife_education": 2,
          "wife_religion": 1
         },
         {
          "contraceptive_method_used": 3,
          "standard_of_living_index": 3,
          "wife_age": 25,
          "wife_education": 3,
          "wife_religion": 1
         },
         {
          "contraceptive_method_used": 3,
          "standard_of_living_index": 3,
          "wife_age": 34,
          "wife_education": 2,
          "wife_religion": 1
         },
         {
          "contraceptive_method_used": 3,
          "standard_of_living_index": 3,
          "wife_age": 35,
          "wife_education": 2,
          "wife_religion": 1
         },
         {
          "contraceptive_method_used": 3,
          "standard_of_living_index": 3,
          "wife_age": 31,
          "wife_education": 2,
          "wife_religion": 1
         },
         {
          "contraceptive_method_used": 2,
          "standard_of_living_index": 4,
          "wife_age": 47,
          "wife_education": 4,
          "wife_religion": 0
         },
         {
          "contraceptive_method_used": 2,
          "standard_of_living_index": 3,
          "wife_age": 32,
          "wife_education": 3,
          "wife_religion": 0
         },
         {
          "contraceptive_method_used": 3,
          "standard_of_living_index": 4,
          "wife_age": 38,
          "wife_education": 2,
          "wife_religion": 1
         },
         {
          "contraceptive_method_used": 2,
          "standard_of_living_index": 2,
          "wife_age": 22,
          "wife_education": 4,
          "wife_religion": 1
         },
         {
          "contraceptive_method_used": 1,
          "standard_of_living_index": 3,
          "wife_age": 34,
          "wife_education": 3,
          "wife_religion": 1
         },
         {
          "contraceptive_method_used": 3,
          "standard_of_living_index": 4,
          "wife_age": 25,
          "wife_education": 2,
          "wife_religion": 1
         },
         {
          "contraceptive_method_used": 1,
          "standard_of_living_index": 3,
          "wife_age": 47,
          "wife_education": 1,
          "wife_religion": 1
         },
         {
          "contraceptive_method_used": 1,
          "standard_of_living_index": 4,
          "wife_age": 20,
          "wife_education": 2,
          "wife_religion": 1
         },
         {
          "contraceptive_method_used": 3,
          "standard_of_living_index": 2,
          "wife_age": 32,
          "wife_education": 2,
          "wife_religion": 1
         },
         {
          "contraceptive_method_used": 1,
          "standard_of_living_index": 2,
          "wife_age": 20,
          "wife_education": 3,
          "wife_religion": 1
         },
         {
          "contraceptive_method_used": 2,
          "standard_of_living_index": 4,
          "wife_age": 30,
          "wife_education": 4,
          "wife_religion": 0
         },
         {
          "contraceptive_method_used": 3,
          "standard_of_living_index": 3,
          "wife_age": 36,
          "wife_education": 4,
          "wife_religion": 1
         },
         {
          "contraceptive_method_used": 2,
          "standard_of_living_index": 2,
          "wife_age": 29,
          "wife_education": 4,
          "wife_religion": 1
         },
         {
          "contraceptive_method_used": 1,
          "standard_of_living_index": 3,
          "wife_age": 37,
          "wife_education": 2,
          "wife_religion": 0
         },
         {
          "contraceptive_method_used": 3,
          "standard_of_living_index": 3,
          "wife_age": 26,
          "wife_education": 4,
          "wife_religion": 1
         },
         {
          "contraceptive_method_used": 1,
          "standard_of_living_index": 4,
          "wife_age": 39,
          "wife_education": 3,
          "wife_religion": 0
         },
         {
          "contraceptive_method_used": 1,
          "standard_of_living_index": 1,
          "wife_age": 25,
          "wife_education": 3,
          "wife_religion": 1
         },
         {
          "contraceptive_method_used": 2,
          "standard_of_living_index": 3,
          "wife_age": 24,
          "wife_education": 2,
          "wife_religion": 1
         },
         {
          "contraceptive_method_used": 3,
          "standard_of_living_index": 4,
          "wife_age": 28,
          "wife_education": 4,
          "wife_religion": 0
         },
         {
          "contraceptive_method_used": 3,
          "standard_of_living_index": 2,
          "wife_age": 23,
          "wife_education": 4,
          "wife_religion": 1
         },
         {
          "contraceptive_method_used": 1,
          "standard_of_living_index": 3,
          "wife_age": 40,
          "wife_education": 2,
          "wife_religion": 1
         },
         {
          "contraceptive_method_used": 1,
          "standard_of_living_index": 4,
          "wife_age": 46,
          "wife_education": 4,
          "wife_religion": 0
         },
         {
          "contraceptive_method_used": 3,
          "standard_of_living_index": 4,
          "wife_age": 43,
          "wife_education": 4,
          "wife_religion": 1
         },
         {
          "contraceptive_method_used": 1,
          "standard_of_living_index": 3,
          "wife_age": 24,
          "wife_education": 2,
          "wife_religion": 1
         },
         {
          "contraceptive_method_used": 1,
          "standard_of_living_index": 4,
          "wife_age": 47,
          "wife_education": 2,
          "wife_religion": 0
         },
         {
          "contraceptive_method_used": 3,
          "standard_of_living_index": 3,
          "wife_age": 26,
          "wife_education": 3,
          "wife_religion": 1
         },
         {
          "contraceptive_method_used": 1,
          "standard_of_living_index": 4,
          "wife_age": 39,
          "wife_education": 2,
          "wife_religion": 1
         },
         {
          "contraceptive_method_used": 1,
          "standard_of_living_index": 4,
          "wife_age": 20,
          "wife_education": 2,
          "wife_religion": 1
         },
         {
          "contraceptive_method_used": 3,
          "standard_of_living_index": 4,
          "wife_age": 49,
          "wife_education": 4,
          "wife_religion": 1
         },
         {
          "contraceptive_method_used": 1,
          "standard_of_living_index": 4,
          "wife_age": 38,
          "wife_education": 3,
          "wife_religion": 1
         },
         {
          "contraceptive_method_used": 1,
          "standard_of_living_index": 1,
          "wife_age": 22,
          "wife_education": 2,
          "wife_religion": 1
         },
         {
          "contraceptive_method_used": 1,
          "standard_of_living_index": 3,
          "wife_age": 23,
          "wife_education": 2,
          "wife_religion": 1
         },
         {
          "contraceptive_method_used": 1,
          "standard_of_living_index": 3,
          "wife_age": 48,
          "wife_education": 2,
          "wife_religion": 1
         },
         {
          "contraceptive_method_used": 1,
          "standard_of_living_index": 4,
          "wife_age": 32,
          "wife_education": 4,
          "wife_religion": 1
         },
         {
          "contraceptive_method_used": 1,
          "standard_of_living_index": 4,
          "wife_age": 48,
          "wife_education": 4,
          "wife_religion": 0
         },
         {
          "contraceptive_method_used": 2,
          "standard_of_living_index": 4,
          "wife_age": 47,
          "wife_education": 4,
          "wife_religion": 1
         },
         {
          "contraceptive_method_used": 2,
          "standard_of_living_index": 4,
          "wife_age": 43,
          "wife_education": 3,
          "wife_religion": 1
         },
         {
          "contraceptive_method_used": 3,
          "standard_of_living_index": 3,
          "wife_age": 40,
          "wife_education": 3,
          "wife_religion": 1
         },
         {
          "contraceptive_method_used": 2,
          "standard_of_living_index": 4,
          "wife_age": 34,
          "wife_education": 4,
          "wife_religion": 1
         },
         {
          "contraceptive_method_used": 2,
          "standard_of_living_index": 4,
          "wife_age": 41,
          "wife_education": 3,
          "wife_religion": 0
         },
         {
          "contraceptive_method_used": 3,
          "standard_of_living_index": 4,
          "wife_age": 28,
          "wife_education": 2,
          "wife_religion": 1
         },
         {
          "contraceptive_method_used": 1,
          "standard_of_living_index": 4,
          "wife_age": 43,
          "wife_education": 4,
          "wife_religion": 0
         },
         {
          "contraceptive_method_used": 2,
          "standard_of_living_index": 1,
          "wife_age": 44,
          "wife_education": 3,
          "wife_religion": 1
         },
         {
          "contraceptive_method_used": 1,
          "standard_of_living_index": 2,
          "wife_age": 38,
          "wife_education": 1,
          "wife_religion": 1
         },
         {
          "contraceptive_method_used": 1,
          "standard_of_living_index": 1,
          "wife_age": 23,
          "wife_education": 1,
          "wife_religion": 1
         },
         {
          "contraceptive_method_used": 2,
          "standard_of_living_index": 1,
          "wife_age": 30,
          "wife_education": 2,
          "wife_religion": 1
         },
         {
          "contraceptive_method_used": 2,
          "standard_of_living_index": 4,
          "wife_age": 39,
          "wife_education": 4,
          "wife_religion": 0
         },
         {
          "contraceptive_method_used": 3,
          "standard_of_living_index": 4,
          "wife_age": 26,
          "wife_education": 3,
          "wife_religion": 1
         },
         {
          "contraceptive_method_used": 1,
          "standard_of_living_index": 2,
          "wife_age": 36,
          "wife_education": 2,
          "wife_religion": 1
         },
         {
          "contraceptive_method_used": 1,
          "standard_of_living_index": 2,
          "wife_age": 38,
          "wife_education": 2,
          "wife_religion": 1
         },
         {
          "contraceptive_method_used": 3,
          "standard_of_living_index": 2,
          "wife_age": 36,
          "wife_education": 1,
          "wife_religion": 1
         },
         {
          "contraceptive_method_used": 2,
          "standard_of_living_index": 4,
          "wife_age": 48,
          "wife_education": 4,
          "wife_religion": 0
         },
         {
          "contraceptive_method_used": 1,
          "standard_of_living_index": 4,
          "wife_age": 24,
          "wife_education": 4,
          "wife_religion": 0
         },
         {
          "contraceptive_method_used": 3,
          "standard_of_living_index": 3,
          "wife_age": 25,
          "wife_education": 1,
          "wife_religion": 1
         },
         {
          "contraceptive_method_used": 1,
          "standard_of_living_index": 1,
          "wife_age": 36,
          "wife_education": 2,
          "wife_religion": 1
         },
         {
          "contraceptive_method_used": 1,
          "standard_of_living_index": 1,
          "wife_age": 49,
          "wife_education": 1,
          "wife_religion": 1
         },
         {
          "contraceptive_method_used": 1,
          "standard_of_living_index": 4,
          "wife_age": 29,
          "wife_education": 3,
          "wife_religion": 1
         },
         {
          "contraceptive_method_used": 1,
          "standard_of_living_index": 2,
          "wife_age": 29,
          "wife_education": 3,
          "wife_religion": 1
         },
         {
          "contraceptive_method_used": 2,
          "standard_of_living_index": 4,
          "wife_age": 33,
          "wife_education": 3,
          "wife_religion": 1
         },
         {
          "contraceptive_method_used": 1,
          "standard_of_living_index": 1,
          "wife_age": 28,
          "wife_education": 2,
          "wife_religion": 1
         },
         {
          "contraceptive_method_used": 1,
          "standard_of_living_index": 1,
          "wife_age": 44,
          "wife_education": 1,
          "wife_religion": 1
         },
         {
          "contraceptive_method_used": 2,
          "standard_of_living_index": 2,
          "wife_age": 44,
          "wife_education": 4,
          "wife_religion": 1
         },
         {
          "contraceptive_method_used": 1,
          "standard_of_living_index": 2,
          "wife_age": 25,
          "wife_education": 2,
          "wife_religion": 1
         },
         {
          "contraceptive_method_used": 1,
          "standard_of_living_index": 1,
          "wife_age": 43,
          "wife_education": 1,
          "wife_religion": 1
         },
         {
          "contraceptive_method_used": 2,
          "standard_of_living_index": 3,
          "wife_age": 47,
          "wife_education": 3,
          "wife_religion": 1
         },
         {
          "contraceptive_method_used": 1,
          "standard_of_living_index": 4,
          "wife_age": 24,
          "wife_education": 4,
          "wife_religion": 1
         },
         {
          "contraceptive_method_used": 3,
          "standard_of_living_index": 2,
          "wife_age": 17,
          "wife_education": 2,
          "wife_religion": 1
         },
         {
          "contraceptive_method_used": 1,
          "standard_of_living_index": 3,
          "wife_age": 26,
          "wife_education": 3,
          "wife_religion": 1
         },
         {
          "contraceptive_method_used": 2,
          "standard_of_living_index": 4,
          "wife_age": 41,
          "wife_education": 4,
          "wife_religion": 0
         },
         {
          "contraceptive_method_used": 1,
          "standard_of_living_index": 2,
          "wife_age": 49,
          "wife_education": 2,
          "wife_religion": 1
         },
         {
          "contraceptive_method_used": 2,
          "standard_of_living_index": 2,
          "wife_age": 29,
          "wife_education": 4,
          "wife_religion": 1
         },
         {
          "contraceptive_method_used": 2,
          "standard_of_living_index": 4,
          "wife_age": 30,
          "wife_education": 4,
          "wife_religion": 0
         },
         {
          "contraceptive_method_used": 2,
          "standard_of_living_index": 4,
          "wife_age": 46,
          "wife_education": 4,
          "wife_religion": 1
         },
         {
          "contraceptive_method_used": 3,
          "standard_of_living_index": 3,
          "wife_age": 26,
          "wife_education": 3,
          "wife_religion": 1
         },
         {
          "contraceptive_method_used": 3,
          "standard_of_living_index": 4,
          "wife_age": 32,
          "wife_education": 4,
          "wife_religion": 1
         },
         {
          "contraceptive_method_used": 2,
          "standard_of_living_index": 4,
          "wife_age": 47,
          "wife_education": 4,
          "wife_religion": 1
         },
         {
          "contraceptive_method_used": 2,
          "standard_of_living_index": 3,
          "wife_age": 35,
          "wife_education": 4,
          "wife_religion": 1
         },
         {
          "contraceptive_method_used": 1,
          "standard_of_living_index": 4,
          "wife_age": 43,
          "wife_education": 1,
          "wife_religion": 1
         },
         {
          "contraceptive_method_used": 1,
          "standard_of_living_index": 4,
          "wife_age": 29,
          "wife_education": 2,
          "wife_religion": 1
         },
         {
          "contraceptive_method_used": 3,
          "standard_of_living_index": 2,
          "wife_age": 29,
          "wife_education": 1,
          "wife_religion": 1
         },
         {
          "contraceptive_method_used": 3,
          "standard_of_living_index": 4,
          "wife_age": 21,
          "wife_education": 2,
          "wife_religion": 0
         },
         {
          "contraceptive_method_used": 3,
          "standard_of_living_index": 1,
          "wife_age": 24,
          "wife_education": 2,
          "wife_religion": 1
         },
         {
          "contraceptive_method_used": 1,
          "standard_of_living_index": 2,
          "wife_age": 40,
          "wife_education": 2,
          "wife_religion": 1
         },
         {
          "contraceptive_method_used": 1,
          "standard_of_living_index": 4,
          "wife_age": 44,
          "wife_education": 4,
          "wife_religion": 1
         },
         {
          "contraceptive_method_used": 3,
          "standard_of_living_index": 4,
          "wife_age": 27,
          "wife_education": 2,
          "wife_religion": 1
         },
         {
          "contraceptive_method_used": 1,
          "standard_of_living_index": 4,
          "wife_age": 35,
          "wife_education": 1,
          "wife_religion": 1
         },
         {
          "contraceptive_method_used": 3,
          "standard_of_living_index": 4,
          "wife_age": 32,
          "wife_education": 4,
          "wife_religion": 1
         },
         {
          "contraceptive_method_used": 1,
          "standard_of_living_index": 3,
          "wife_age": 48,
          "wife_education": 1,
          "wife_religion": 1
         },
         {
          "contraceptive_method_used": 3,
          "standard_of_living_index": 3,
          "wife_age": 23,
          "wife_education": 4,
          "wife_religion": 1
         },
         {
          "contraceptive_method_used": 3,
          "standard_of_living_index": 4,
          "wife_age": 48,
          "wife_education": 4,
          "wife_religion": 1
         },
         {
          "contraceptive_method_used": 2,
          "standard_of_living_index": 4,
          "wife_age": 35,
          "wife_education": 4,
          "wife_religion": 0
         },
         {
          "contraceptive_method_used": 3,
          "standard_of_living_index": 3,
          "wife_age": 29,
          "wife_education": 2,
          "wife_religion": 1
         },
         {
          "contraceptive_method_used": 1,
          "standard_of_living_index": 2,
          "wife_age": 19,
          "wife_education": 2,
          "wife_religion": 1
         },
         {
          "contraceptive_method_used": 2,
          "standard_of_living_index": 4,
          "wife_age": 39,
          "wife_education": 4,
          "wife_religion": 1
         },
         {
          "contraceptive_method_used": 3,
          "standard_of_living_index": 3,
          "wife_age": 29,
          "wife_education": 1,
          "wife_religion": 1
         },
         {
          "contraceptive_method_used": 1,
          "standard_of_living_index": 4,
          "wife_age": 30,
          "wife_education": 4,
          "wife_religion": 1
         },
         {
          "contraceptive_method_used": 3,
          "standard_of_living_index": 3,
          "wife_age": 30,
          "wife_education": 3,
          "wife_religion": 0
         },
         {
          "contraceptive_method_used": 1,
          "standard_of_living_index": 3,
          "wife_age": 31,
          "wife_education": 3,
          "wife_religion": 1
         },
         {
          "contraceptive_method_used": 3,
          "standard_of_living_index": 3,
          "wife_age": 24,
          "wife_education": 4,
          "wife_religion": 1
         },
         {
          "contraceptive_method_used": 3,
          "standard_of_living_index": 3,
          "wife_age": 30,
          "wife_education": 3,
          "wife_religion": 1
         },
         {
          "contraceptive_method_used": 3,
          "standard_of_living_index": 4,
          "wife_age": 37,
          "wife_education": 4,
          "wife_religion": 0
         },
         {
          "contraceptive_method_used": 1,
          "standard_of_living_index": 3,
          "wife_age": 47,
          "wife_education": 1,
          "wife_religion": 1
         },
         {
          "contraceptive_method_used": 2,
          "standard_of_living_index": 2,
          "wife_age": 23,
          "wife_education": 4,
          "wife_religion": 1
         },
         {
          "contraceptive_method_used": 1,
          "standard_of_living_index": 2,
          "wife_age": 22,
          "wife_education": 2,
          "wife_religion": 1
         },
         {
          "contraceptive_method_used": 1,
          "standard_of_living_index": 1,
          "wife_age": 38,
          "wife_education": 1,
          "wife_religion": 1
         },
         {
          "contraceptive_method_used": 3,
          "standard_of_living_index": 4,
          "wife_age": 25,
          "wife_education": 4,
          "wife_religion": 0
         },
         {
          "contraceptive_method_used": 2,
          "standard_of_living_index": 4,
          "wife_age": 45,
          "wife_education": 4,
          "wife_religion": 1
         },
         {
          "contraceptive_method_used": 2,
          "standard_of_living_index": 3,
          "wife_age": 29,
          "wife_education": 3,
          "wife_religion": 1
         },
         {
          "contraceptive_method_used": 3,
          "standard_of_living_index": 4,
          "wife_age": 24,
          "wife_education": 3,
          "wife_religion": 1
         },
         {
          "contraceptive_method_used": 2,
          "standard_of_living_index": 4,
          "wife_age": 37,
          "wife_education": 4,
          "wife_religion": 1
         },
         {
          "contraceptive_method_used": 3,
          "standard_of_living_index": 4,
          "wife_age": 21,
          "wife_education": 3,
          "wife_religion": 1
         },
         {
          "contraceptive_method_used": 1,
          "standard_of_living_index": 2,
          "wife_age": 22,
          "wife_education": 4,
          "wife_religion": 1
         },
         {
          "contraceptive_method_used": 3,
          "standard_of_living_index": 3,
          "wife_age": 25,
          "wife_education": 4,
          "wife_religion": 0
         },
         {
          "contraceptive_method_used": 3,
          "standard_of_living_index": 3,
          "wife_age": 21,
          "wife_education": 2,
          "wife_religion": 1
         },
         {
          "contraceptive_method_used": 3,
          "standard_of_living_index": 4,
          "wife_age": 26,
          "wife_education": 4,
          "wife_religion": 1
         },
         {
          "contraceptive_method_used": 1,
          "standard_of_living_index": 3,
          "wife_age": 47,
          "wife_education": 4,
          "wife_religion": 1
         },
         {
          "contraceptive_method_used": 1,
          "standard_of_living_index": 2,
          "wife_age": 31,
          "wife_education": 1,
          "wife_religion": 1
         },
         {
          "contraceptive_method_used": 2,
          "standard_of_living_index": 3,
          "wife_age": 24,
          "wife_education": 4,
          "wife_religion": 0
         },
         {
          "contraceptive_method_used": 2,
          "standard_of_living_index": 4,
          "wife_age": 26,
          "wife_education": 3,
          "wife_religion": 1
         },
         {
          "contraceptive_method_used": 3,
          "standard_of_living_index": 3,
          "wife_age": 27,
          "wife_education": 2,
          "wife_religion": 1
         },
         {
          "contraceptive_method_used": 1,
          "standard_of_living_index": 2,
          "wife_age": 21,
          "wife_education": 2,
          "wife_religion": 1
         },
         {
          "contraceptive_method_used": 3,
          "standard_of_living_index": 4,
          "wife_age": 36,
          "wife_education": 2,
          "wife_religion": 1
         },
         {
          "contraceptive_method_used": 3,
          "standard_of_living_index": 4,
          "wife_age": 32,
          "wife_education": 4,
          "wife_religion": 1
         },
         {
          "contraceptive_method_used": 2,
          "standard_of_living_index": 4,
          "wife_age": 39,
          "wife_education": 3,
          "wife_religion": 1
         },
         {
          "contraceptive_method_used": 1,
          "standard_of_living_index": 3,
          "wife_age": 38,
          "wife_education": 1,
          "wife_religion": 1
         },
         {
          "contraceptive_method_used": 1,
          "standard_of_living_index": 4,
          "wife_age": 26,
          "wife_education": 4,
          "wife_religion": 1
         },
         {
          "contraceptive_method_used": 3,
          "standard_of_living_index": 2,
          "wife_age": 21,
          "wife_education": 3,
          "wife_religion": 0
         },
         {
          "contraceptive_method_used": 3,
          "standard_of_living_index": 4,
          "wife_age": 43,
          "wife_education": 3,
          "wife_religion": 0
         },
         {
          "contraceptive_method_used": 2,
          "standard_of_living_index": 4,
          "wife_age": 32,
          "wife_education": 3,
          "wife_religion": 1
         },
         {
          "contraceptive_method_used": 2,
          "standard_of_living_index": 3,
          "wife_age": 31,
          "wife_education": 3,
          "wife_religion": 1
         },
         {
          "contraceptive_method_used": 3,
          "standard_of_living_index": 3,
          "wife_age": 24,
          "wife_education": 4,
          "wife_religion": 1
         },
         {
          "contraceptive_method_used": 1,
          "standard_of_living_index": 1,
          "wife_age": 38,
          "wife_education": 3,
          "wife_religion": 1
         },
         {
          "contraceptive_method_used": 3,
          "standard_of_living_index": 3,
          "wife_age": 30,
          "wife_education": 3,
          "wife_religion": 1
         },
         {
          "contraceptive_method_used": 2,
          "standard_of_living_index": 4,
          "wife_age": 44,
          "wife_education": 4,
          "wife_religion": 1
         },
         {
          "contraceptive_method_used": 3,
          "standard_of_living_index": 4,
          "wife_age": 22,
          "wife_education": 4,
          "wife_religion": 1
         },
         {
          "contraceptive_method_used": 1,
          "standard_of_living_index": 3,
          "wife_age": 49,
          "wife_education": 4,
          "wife_religion": 1
         },
         {
          "contraceptive_method_used": 1,
          "standard_of_living_index": 1,
          "wife_age": 25,
          "wife_education": 2,
          "wife_religion": 1
         },
         {
          "contraceptive_method_used": 1,
          "standard_of_living_index": 2,
          "wife_age": 47,
          "wife_education": 2,
          "wife_religion": 1
         },
         {
          "contraceptive_method_used": 1,
          "standard_of_living_index": 2,
          "wife_age": 25,
          "wife_education": 3,
          "wife_religion": 1
         },
         {
          "contraceptive_method_used": 1,
          "standard_of_living_index": 4,
          "wife_age": 31,
          "wife_education": 3,
          "wife_religion": 1
         },
         {
          "contraceptive_method_used": 1,
          "standard_of_living_index": 1,
          "wife_age": 39,
          "wife_education": 1,
          "wife_religion": 1
         },
         {
          "contraceptive_method_used": 1,
          "standard_of_living_index": 3,
          "wife_age": 28,
          "wife_education": 4,
          "wife_religion": 1
         },
         {
          "contraceptive_method_used": 1,
          "standard_of_living_index": 2,
          "wife_age": 38,
          "wife_education": 2,
          "wife_religion": 1
         },
         {
          "contraceptive_method_used": 1,
          "standard_of_living_index": 3,
          "wife_age": 31,
          "wife_education": 3,
          "wife_religion": 1
         },
         {
          "contraceptive_method_used": 1,
          "standard_of_living_index": 4,
          "wife_age": 36,
          "wife_education": 3,
          "wife_religion": 1
         },
         {
          "contraceptive_method_used": 2,
          "standard_of_living_index": 3,
          "wife_age": 33,
          "wife_education": 3,
          "wife_religion": 0
         },
         {
          "contraceptive_method_used": 1,
          "standard_of_living_index": 4,
          "wife_age": 37,
          "wife_education": 3,
          "wife_religion": 1
         },
         {
          "contraceptive_method_used": 1,
          "standard_of_living_index": 4,
          "wife_age": 23,
          "wife_education": 4,
          "wife_religion": 1
         },
         {
          "contraceptive_method_used": 3,
          "standard_of_living_index": 2,
          "wife_age": 19,
          "wife_education": 4,
          "wife_religion": 1
         },
         {
          "contraceptive_method_used": 3,
          "standard_of_living_index": 3,
          "wife_age": 28,
          "wife_education": 2,
          "wife_religion": 1
         },
         {
          "contraceptive_method_used": 2,
          "standard_of_living_index": 4,
          "wife_age": 32,
          "wife_education": 4,
          "wife_religion": 0
         },
         {
          "contraceptive_method_used": 2,
          "standard_of_living_index": 3,
          "wife_age": 29,
          "wife_education": 3,
          "wife_religion": 1
         },
         {
          "contraceptive_method_used": 3,
          "standard_of_living_index": 3,
          "wife_age": 30,
          "wife_education": 3,
          "wife_religion": 1
         },
         {
          "contraceptive_method_used": 1,
          "standard_of_living_index": 2,
          "wife_age": 28,
          "wife_education": 3,
          "wife_religion": 0
         },
         {
          "contraceptive_method_used": 1,
          "standard_of_living_index": 4,
          "wife_age": 25,
          "wife_education": 4,
          "wife_religion": 1
         },
         {
          "contraceptive_method_used": 1,
          "standard_of_living_index": 3,
          "wife_age": 32,
          "wife_education": 4,
          "wife_religion": 1
         },
         {
          "contraceptive_method_used": 1,
          "standard_of_living_index": 4,
          "wife_age": 27,
          "wife_education": 4,
          "wife_religion": 0
         },
         {
          "contraceptive_method_used": 1,
          "standard_of_living_index": 4,
          "wife_age": 48,
          "wife_education": 4,
          "wife_religion": 0
         },
         {
          "contraceptive_method_used": 3,
          "standard_of_living_index": 4,
          "wife_age": 26,
          "wife_education": 4,
          "wife_religion": 1
         },
         {
          "contraceptive_method_used": 2,
          "standard_of_living_index": 4,
          "wife_age": 45,
          "wife_education": 4,
          "wife_religion": 1
         },
         {
          "contraceptive_method_used": 1,
          "standard_of_living_index": 4,
          "wife_age": 49,
          "wife_education": 2,
          "wife_religion": 1
         },
         {
          "contraceptive_method_used": 3,
          "standard_of_living_index": 2,
          "wife_age": 26,
          "wife_education": 4,
          "wife_religion": 1
         },
         {
          "contraceptive_method_used": 2,
          "standard_of_living_index": 3,
          "wife_age": 32,
          "wife_education": 4,
          "wife_religion": 0
         },
         {
          "contraceptive_method_used": 1,
          "standard_of_living_index": 2,
          "wife_age": 26,
          "wife_education": 2,
          "wife_religion": 1
         },
         {
          "contraceptive_method_used": 1,
          "standard_of_living_index": 2,
          "wife_age": 32,
          "wife_education": 1,
          "wife_religion": 1
         },
         {
          "contraceptive_method_used": 1,
          "standard_of_living_index": 4,
          "wife_age": 42,
          "wife_education": 2,
          "wife_religion": 1
         },
         {
          "contraceptive_method_used": 1,
          "standard_of_living_index": 4,
          "wife_age": 48,
          "wife_education": 4,
          "wife_religion": 1
         },
         {
          "contraceptive_method_used": 1,
          "standard_of_living_index": 4,
          "wife_age": 43,
          "wife_education": 1,
          "wife_religion": 1
         },
         {
          "contraceptive_method_used": 1,
          "standard_of_living_index": 3,
          "wife_age": 32,
          "wife_education": 2,
          "wife_religion": 1
         },
         {
          "contraceptive_method_used": 3,
          "standard_of_living_index": 3,
          "wife_age": 21,
          "wife_education": 3,
          "wife_religion": 1
         },
         {
          "contraceptive_method_used": 1,
          "standard_of_living_index": 1,
          "wife_age": 47,
          "wife_education": 2,
          "wife_religion": 1
         },
         {
          "contraceptive_method_used": 1,
          "standard_of_living_index": 4,
          "wife_age": 34,
          "wife_education": 4,
          "wife_religion": 1
         },
         {
          "contraceptive_method_used": 3,
          "standard_of_living_index": 1,
          "wife_age": 30,
          "wife_education": 3,
          "wife_religion": 1
         },
         {
          "contraceptive_method_used": 3,
          "standard_of_living_index": 4,
          "wife_age": 36,
          "wife_education": 3,
          "wife_religion": 1
         },
         {
          "contraceptive_method_used": 1,
          "standard_of_living_index": 2,
          "wife_age": 31,
          "wife_education": 2,
          "wife_religion": 1
         },
         {
          "contraceptive_method_used": 1,
          "standard_of_living_index": 3,
          "wife_age": 45,
          "wife_education": 4,
          "wife_religion": 1
         },
         {
          "contraceptive_method_used": 1,
          "standard_of_living_index": 4,
          "wife_age": 49,
          "wife_education": 4,
          "wife_religion": 0
         },
         {
          "contraceptive_method_used": 3,
          "standard_of_living_index": 4,
          "wife_age": 41,
          "wife_education": 4,
          "wife_religion": 1
         },
         {
          "contraceptive_method_used": 1,
          "standard_of_living_index": 4,
          "wife_age": 49,
          "wife_education": 3,
          "wife_religion": 1
         },
         {
          "contraceptive_method_used": 3,
          "standard_of_living_index": 1,
          "wife_age": 24,
          "wife_education": 3,
          "wife_religion": 1
         },
         {
          "contraceptive_method_used": 3,
          "standard_of_living_index": 4,
          "wife_age": 30,
          "wife_education": 2,
          "wife_religion": 1
         },
         {
          "contraceptive_method_used": 3,
          "standard_of_living_index": 1,
          "wife_age": 25,
          "wife_education": 2,
          "wife_religion": 1
         },
         {
          "contraceptive_method_used": 3,
          "standard_of_living_index": 4,
          "wife_age": 41,
          "wife_education": 1,
          "wife_religion": 1
         },
         {
          "contraceptive_method_used": 1,
          "standard_of_living_index": 2,
          "wife_age": 40,
          "wife_education": 3,
          "wife_religion": 1
         },
         {
          "contraceptive_method_used": 1,
          "standard_of_living_index": 2,
          "wife_age": 32,
          "wife_education": 1,
          "wife_religion": 1
         },
         {
          "contraceptive_method_used": 3,
          "standard_of_living_index": 3,
          "wife_age": 26,
          "wife_education": 3,
          "wife_religion": 1
         },
         {
          "contraceptive_method_used": 3,
          "standard_of_living_index": 2,
          "wife_age": 35,
          "wife_education": 1,
          "wife_religion": 1
         },
         {
          "contraceptive_method_used": 2,
          "standard_of_living_index": 3,
          "wife_age": 36,
          "wife_education": 3,
          "wife_religion": 1
         },
         {
          "contraceptive_method_used": 1,
          "standard_of_living_index": 2,
          "wife_age": 40,
          "wife_education": 2,
          "wife_religion": 1
         },
         {
          "contraceptive_method_used": 2,
          "standard_of_living_index": 3,
          "wife_age": 35,
          "wife_education": 4,
          "wife_religion": 1
         },
         {
          "contraceptive_method_used": 1,
          "standard_of_living_index": 3,
          "wife_age": 48,
          "wife_education": 3,
          "wife_religion": 1
         },
         {
          "contraceptive_method_used": 1,
          "standard_of_living_index": 4,
          "wife_age": 27,
          "wife_education": 4,
          "wife_religion": 1
         },
         {
          "contraceptive_method_used": 3,
          "standard_of_living_index": 3,
          "wife_age": 35,
          "wife_education": 2,
          "wife_religion": 1
         },
         {
          "contraceptive_method_used": 3,
          "standard_of_living_index": 3,
          "wife_age": 47,
          "wife_education": 4,
          "wife_religion": 1
         },
         {
          "contraceptive_method_used": 1,
          "standard_of_living_index": 3,
          "wife_age": 26,
          "wife_education": 2,
          "wife_religion": 1
         },
         {
          "contraceptive_method_used": 3,
          "standard_of_living_index": 2,
          "wife_age": 30,
          "wife_education": 4,
          "wife_religion": 1
         },
         {
          "contraceptive_method_used": 3,
          "standard_of_living_index": 1,
          "wife_age": 29,
          "wife_education": 2,
          "wife_religion": 1
         },
         {
          "contraceptive_method_used": 3,
          "standard_of_living_index": 4,
          "wife_age": 28,
          "wife_education": 3,
          "wife_religion": 1
         },
         {
          "contraceptive_method_used": 3,
          "standard_of_living_index": 4,
          "wife_age": 43,
          "wife_education": 4,
          "wife_religion": 0
         },
         {
          "contraceptive_method_used": 2,
          "standard_of_living_index": 4,
          "wife_age": 42,
          "wife_education": 4,
          "wife_religion": 1
         },
         {
          "contraceptive_method_used": 3,
          "standard_of_living_index": 3,
          "wife_age": 34,
          "wife_education": 2,
          "wife_religion": 1
         },
         {
          "contraceptive_method_used": 1,
          "standard_of_living_index": 2,
          "wife_age": 31,
          "wife_education": 3,
          "wife_religion": 1
         },
         {
          "contraceptive_method_used": 3,
          "standard_of_living_index": 2,
          "wife_age": 36,
          "wife_education": 4,
          "wife_religion": 0
         },
         {
          "contraceptive_method_used": 2,
          "standard_of_living_index": 3,
          "wife_age": 28,
          "wife_education": 3,
          "wife_religion": 0
         },
         {
          "contraceptive_method_used": 2,
          "standard_of_living_index": 3,
          "wife_age": 33,
          "wife_education": 4,
          "wife_religion": 1
         },
         {
          "contraceptive_method_used": 3,
          "standard_of_living_index": 4,
          "wife_age": 44,
          "wife_education": 4,
          "wife_religion": 1
         },
         {
          "contraceptive_method_used": 2,
          "standard_of_living_index": 4,
          "wife_age": 33,
          "wife_education": 3,
          "wife_religion": 0
         },
         {
          "contraceptive_method_used": 3,
          "standard_of_living_index": 3,
          "wife_age": 29,
          "wife_education": 3,
          "wife_religion": 1
         },
         {
          "contraceptive_method_used": 1,
          "standard_of_living_index": 3,
          "wife_age": 31,
          "wife_education": 4,
          "wife_religion": 1
         },
         {
          "contraceptive_method_used": 3,
          "standard_of_living_index": 4,
          "wife_age": 29,
          "wife_education": 2,
          "wife_religion": 1
         },
         {
          "contraceptive_method_used": 1,
          "standard_of_living_index": 3,
          "wife_age": 49,
          "wife_education": 2,
          "wife_religion": 1
         },
         {
          "contraceptive_method_used": 2,
          "standard_of_living_index": 4,
          "wife_age": 27,
          "wife_education": 3,
          "wife_religion": 1
         },
         {
          "contraceptive_method_used": 2,
          "standard_of_living_index": 4,
          "wife_age": 43,
          "wife_education": 4,
          "wife_religion": 0
         },
         {
          "contraceptive_method_used": 3,
          "standard_of_living_index": 4,
          "wife_age": 28,
          "wife_education": 4,
          "wife_religion": 1
         },
         {
          "contraceptive_method_used": 1,
          "standard_of_living_index": 2,
          "wife_age": 45,
          "wife_education": 2,
          "wife_religion": 1
         },
         {
          "contraceptive_method_used": 1,
          "standard_of_living_index": 2,
          "wife_age": 19,
          "wife_education": 2,
          "wife_religion": 1
         },
         {
          "contraceptive_method_used": 3,
          "standard_of_living_index": 4,
          "wife_age": 30,
          "wife_education": 1,
          "wife_religion": 1
         },
         {
          "contraceptive_method_used": 3,
          "standard_of_living_index": 4,
          "wife_age": 32,
          "wife_education": 2,
          "wife_religion": 1
         },
         {
          "contraceptive_method_used": 1,
          "standard_of_living_index": 1,
          "wife_age": 24,
          "wife_education": 2,
          "wife_religion": 1
         },
         {
          "contraceptive_method_used": 3,
          "standard_of_living_index": 4,
          "wife_age": 25,
          "wife_education": 3,
          "wife_religion": 1
         },
         {
          "contraceptive_method_used": 1,
          "standard_of_living_index": 2,
          "wife_age": 31,
          "wife_education": 3,
          "wife_religion": 1
         },
         {
          "contraceptive_method_used": 1,
          "standard_of_living_index": 4,
          "wife_age": 48,
          "wife_education": 3,
          "wife_religion": 1
         },
         {
          "contraceptive_method_used": 1,
          "standard_of_living_index": 4,
          "wife_age": 47,
          "wife_education": 4,
          "wife_religion": 1
         },
         {
          "contraceptive_method_used": 3,
          "standard_of_living_index": 3,
          "wife_age": 47,
          "wife_education": 4,
          "wife_religion": 1
         },
         {
          "contraceptive_method_used": 3,
          "standard_of_living_index": 4,
          "wife_age": 28,
          "wife_education": 2,
          "wife_religion": 1
         },
         {
          "contraceptive_method_used": 1,
          "standard_of_living_index": 2,
          "wife_age": 36,
          "wife_education": 1,
          "wife_religion": 1
         },
         {
          "contraceptive_method_used": 1,
          "standard_of_living_index": 2,
          "wife_age": 27,
          "wife_education": 4,
          "wife_religion": 1
         },
         {
          "contraceptive_method_used": 1,
          "standard_of_living_index": 4,
          "wife_age": 37,
          "wife_education": 3,
          "wife_religion": 1
         },
         {
          "contraceptive_method_used": 1,
          "standard_of_living_index": 3,
          "wife_age": 47,
          "wife_education": 2,
          "wife_religion": 1
         },
         {
          "contraceptive_method_used": 3,
          "standard_of_living_index": 4,
          "wife_age": 37,
          "wife_education": 4,
          "wife_religion": 1
         },
         {
          "contraceptive_method_used": 3,
          "standard_of_living_index": 4,
          "wife_age": 29,
          "wife_education": 3,
          "wife_religion": 1
         },
         {
          "contraceptive_method_used": 3,
          "standard_of_living_index": 2,
          "wife_age": 39,
          "wife_education": 4,
          "wife_religion": 1
         },
         {
          "contraceptive_method_used": 3,
          "standard_of_living_index": 4,
          "wife_age": 44,
          "wife_education": 4,
          "wife_religion": 1
         },
         {
          "contraceptive_method_used": 3,
          "standard_of_living_index": 4,
          "wife_age": 27,
          "wife_education": 3,
          "wife_religion": 1
         },
         {
          "contraceptive_method_used": 1,
          "standard_of_living_index": 4,
          "wife_age": 34,
          "wife_education": 2,
          "wife_religion": 1
         },
         {
          "contraceptive_method_used": 3,
          "standard_of_living_index": 2,
          "wife_age": 21,
          "wife_education": 3,
          "wife_religion": 1
         },
         {
          "contraceptive_method_used": 3,
          "standard_of_living_index": 3,
          "wife_age": 20,
          "wife_education": 4,
          "wife_religion": 1
         },
         {
          "contraceptive_method_used": 1,
          "standard_of_living_index": 3,
          "wife_age": 32,
          "wife_education": 2,
          "wife_religion": 1
         },
         {
          "contraceptive_method_used": 3,
          "standard_of_living_index": 4,
          "wife_age": 25,
          "wife_education": 3,
          "wife_religion": 1
         },
         {
          "contraceptive_method_used": 3,
          "standard_of_living_index": 3,
          "wife_age": 24,
          "wife_education": 3,
          "wife_religion": 1
         },
         {
          "contraceptive_method_used": 1,
          "standard_of_living_index": 4,
          "wife_age": 42,
          "wife_education": 3,
          "wife_religion": 1
         },
         {
          "contraceptive_method_used": 3,
          "standard_of_living_index": 4,
          "wife_age": 25,
          "wife_education": 4,
          "wife_religion": 1
         },
         {
          "contraceptive_method_used": 3,
          "standard_of_living_index": 3,
          "wife_age": 24,
          "wife_education": 3,
          "wife_religion": 1
         },
         {
          "contraceptive_method_used": 2,
          "standard_of_living_index": 4,
          "wife_age": 32,
          "wife_education": 4,
          "wife_religion": 1
         },
         {
          "contraceptive_method_used": 3,
          "standard_of_living_index": 4,
          "wife_age": 41,
          "wife_education": 4,
          "wife_religion": 1
         },
         {
          "contraceptive_method_used": 1,
          "standard_of_living_index": 1,
          "wife_age": 18,
          "wife_education": 3,
          "wife_religion": 1
         },
         {
          "contraceptive_method_used": 2,
          "standard_of_living_index": 4,
          "wife_age": 36,
          "wife_education": 3,
          "wife_religion": 0
         },
         {
          "contraceptive_method_used": 1,
          "standard_of_living_index": 4,
          "wife_age": 47,
          "wife_education": 4,
          "wife_religion": 0
         },
         {
          "contraceptive_method_used": 2,
          "standard_of_living_index": 4,
          "wife_age": 40,
          "wife_education": 4,
          "wife_religion": 1
         },
         {
          "contraceptive_method_used": 1,
          "standard_of_living_index": 4,
          "wife_age": 42,
          "wife_education": 4,
          "wife_religion": 1
         },
         {
          "contraceptive_method_used": 1,
          "standard_of_living_index": 3,
          "wife_age": 46,
          "wife_education": 4,
          "wife_religion": 1
         },
         {
          "contraceptive_method_used": 2,
          "standard_of_living_index": 2,
          "wife_age": 43,
          "wife_education": 3,
          "wife_religion": 1
         },
         {
          "contraceptive_method_used": 1,
          "standard_of_living_index": 2,
          "wife_age": 40,
          "wife_education": 3,
          "wife_religion": 1
         },
         {
          "contraceptive_method_used": 3,
          "standard_of_living_index": 2,
          "wife_age": 32,
          "wife_education": 2,
          "wife_religion": 1
         },
         {
          "contraceptive_method_used": 1,
          "standard_of_living_index": 2,
          "wife_age": 35,
          "wife_education": 3,
          "wife_religion": 1
         },
         {
          "contraceptive_method_used": 1,
          "standard_of_living_index": 4,
          "wife_age": 42,
          "wife_education": 4,
          "wife_religion": 0
         },
         {
          "contraceptive_method_used": 1,
          "standard_of_living_index": 2,
          "wife_age": 37,
          "wife_education": 1,
          "wife_religion": 1
         },
         {
          "contraceptive_method_used": 2,
          "standard_of_living_index": 3,
          "wife_age": 41,
          "wife_education": 3,
          "wife_religion": 1
         },
         {
          "contraceptive_method_used": 1,
          "standard_of_living_index": 2,
          "wife_age": 24,
          "wife_education": 3,
          "wife_religion": 1
         },
         {
          "contraceptive_method_used": 1,
          "standard_of_living_index": 4,
          "wife_age": 25,
          "wife_education": 4,
          "wife_religion": 0
         },
         {
          "contraceptive_method_used": 3,
          "standard_of_living_index": 3,
          "wife_age": 22,
          "wife_education": 2,
          "wife_religion": 1
         },
         {
          "contraceptive_method_used": 1,
          "standard_of_living_index": 3,
          "wife_age": 30,
          "wife_education": 4,
          "wife_religion": 1
         },
         {
          "contraceptive_method_used": 2,
          "standard_of_living_index": 1,
          "wife_age": 33,
          "wife_education": 2,
          "wife_religion": 1
         },
         {
          "contraceptive_method_used": 2,
          "standard_of_living_index": 4,
          "wife_age": 33,
          "wife_education": 2,
          "wife_religion": 1
         },
         {
          "contraceptive_method_used": 1,
          "standard_of_living_index": 4,
          "wife_age": 27,
          "wife_education": 4,
          "wife_religion": 1
         },
         {
          "contraceptive_method_used": 3,
          "standard_of_living_index": 2,
          "wife_age": 21,
          "wife_education": 3,
          "wife_religion": 1
         },
         {
          "contraceptive_method_used": 1,
          "standard_of_living_index": 4,
          "wife_age": 30,
          "wife_education": 1,
          "wife_religion": 1
         },
         {
          "contraceptive_method_used": 3,
          "standard_of_living_index": 2,
          "wife_age": 37,
          "wife_education": 3,
          "wife_religion": 1
         },
         {
          "contraceptive_method_used": 2,
          "standard_of_living_index": 2,
          "wife_age": 24,
          "wife_education": 3,
          "wife_religion": 1
         },
         {
          "contraceptive_method_used": 2,
          "standard_of_living_index": 4,
          "wife_age": 41,
          "wife_education": 4,
          "wife_religion": 1
         },
         {
          "contraceptive_method_used": 1,
          "standard_of_living_index": 3,
          "wife_age": 38,
          "wife_education": 3,
          "wife_religion": 1
         },
         {
          "contraceptive_method_used": 1,
          "standard_of_living_index": 4,
          "wife_age": 37,
          "wife_education": 3,
          "wife_religion": 1
         },
         {
          "contraceptive_method_used": 2,
          "standard_of_living_index": 4,
          "wife_age": 34,
          "wife_education": 4,
          "wife_religion": 1
         },
         {
          "contraceptive_method_used": 2,
          "standard_of_living_index": 4,
          "wife_age": 25,
          "wife_education": 3,
          "wife_religion": 1
         },
         {
          "contraceptive_method_used": 1,
          "standard_of_living_index": 4,
          "wife_age": 42,
          "wife_education": 4,
          "wife_religion": 1
         },
         {
          "contraceptive_method_used": 3,
          "standard_of_living_index": 2,
          "wife_age": 24,
          "wife_education": 1,
          "wife_religion": 1
         },
         {
          "contraceptive_method_used": 2,
          "standard_of_living_index": 4,
          "wife_age": 30,
          "wife_education": 2,
          "wife_religion": 1
         },
         {
          "contraceptive_method_used": 1,
          "standard_of_living_index": 4,
          "wife_age": 34,
          "wife_education": 1,
          "wife_religion": 1
         },
         {
          "contraceptive_method_used": 1,
          "standard_of_living_index": 3,
          "wife_age": 23,
          "wife_education": 3,
          "wife_religion": 1
         },
         {
          "contraceptive_method_used": 2,
          "standard_of_living_index": 3,
          "wife_age": 27,
          "wife_education": 4,
          "wife_religion": 1
         },
         {
          "contraceptive_method_used": 2,
          "standard_of_living_index": 4,
          "wife_age": 33,
          "wife_education": 4,
          "wife_religion": 0
         },
         {
          "contraceptive_method_used": 2,
          "standard_of_living_index": 4,
          "wife_age": 37,
          "wife_education": 4,
          "wife_religion": 1
         },
         {
          "contraceptive_method_used": 2,
          "standard_of_living_index": 4,
          "wife_age": 21,
          "wife_education": 4,
          "wife_religion": 1
         },
         {
          "contraceptive_method_used": 2,
          "standard_of_living_index": 4,
          "wife_age": 27,
          "wife_education": 3,
          "wife_religion": 1
         },
         {
          "contraceptive_method_used": 2,
          "standard_of_living_index": 4,
          "wife_age": 41,
          "wife_education": 4,
          "wife_religion": 1
         },
         {
          "contraceptive_method_used": 1,
          "standard_of_living_index": 3,
          "wife_age": 40,
          "wife_education": 2,
          "wife_religion": 1
         },
         {
          "contraceptive_method_used": 2,
          "standard_of_living_index": 4,
          "wife_age": 44,
          "wife_education": 4,
          "wife_religion": 1
         },
         {
          "contraceptive_method_used": 1,
          "standard_of_living_index": 3,
          "wife_age": 36,
          "wife_education": 2,
          "wife_religion": 1
         },
         {
          "contraceptive_method_used": 1,
          "standard_of_living_index": 4,
          "wife_age": 43,
          "wife_education": 3,
          "wife_religion": 1
         },
         {
          "contraceptive_method_used": 1,
          "standard_of_living_index": 1,
          "wife_age": 28,
          "wife_education": 3,
          "wife_religion": 1
         },
         {
          "contraceptive_method_used": 1,
          "standard_of_living_index": 4,
          "wife_age": 45,
          "wife_education": 1,
          "wife_religion": 1
         },
         {
          "contraceptive_method_used": 1,
          "standard_of_living_index": 4,
          "wife_age": 40,
          "wife_education": 4,
          "wife_religion": 1
         },
         {
          "contraceptive_method_used": 1,
          "standard_of_living_index": 1,
          "wife_age": 45,
          "wife_education": 1,
          "wife_religion": 0
         },
         {
          "contraceptive_method_used": 1,
          "standard_of_living_index": 3,
          "wife_age": 35,
          "wife_education": 2,
          "wife_religion": 1
         },
         {
          "contraceptive_method_used": 3,
          "standard_of_living_index": 3,
          "wife_age": 28,
          "wife_education": 3,
          "wife_religion": 0
         },
         {
          "contraceptive_method_used": 1,
          "standard_of_living_index": 3,
          "wife_age": 45,
          "wife_education": 2,
          "wife_religion": 1
         },
         {
          "contraceptive_method_used": 2,
          "standard_of_living_index": 4,
          "wife_age": 24,
          "wife_education": 4,
          "wife_religion": 1
         },
         {
          "contraceptive_method_used": 1,
          "standard_of_living_index": 1,
          "wife_age": 19,
          "wife_education": 2,
          "wife_religion": 1
         },
         {
          "contraceptive_method_used": 1,
          "standard_of_living_index": 2,
          "wife_age": 47,
          "wife_education": 2,
          "wife_religion": 1
         },
         {
          "contraceptive_method_used": 3,
          "standard_of_living_index": 3,
          "wife_age": 21,
          "wife_education": 1,
          "wife_religion": 1
         },
         {
          "contraceptive_method_used": 3,
          "standard_of_living_index": 4,
          "wife_age": 39,
          "wife_education": 4,
          "wife_religion": 0
         },
         {
          "contraceptive_method_used": 2,
          "standard_of_living_index": 4,
          "wife_age": 48,
          "wife_education": 4,
          "wife_religion": 0
         },
         {
          "contraceptive_method_used": 1,
          "standard_of_living_index": 4,
          "wife_age": 32,
          "wife_education": 3,
          "wife_religion": 0
         },
         {
          "contraceptive_method_used": 1,
          "standard_of_living_index": 3,
          "wife_age": 34,
          "wife_education": 4,
          "wife_religion": 0
         },
         {
          "contraceptive_method_used": 3,
          "standard_of_living_index": 4,
          "wife_age": 34,
          "wife_education": 4,
          "wife_religion": 1
         },
         {
          "contraceptive_method_used": 1,
          "standard_of_living_index": 3,
          "wife_age": 34,
          "wife_education": 3,
          "wife_religion": 1
         },
         {
          "contraceptive_method_used": 3,
          "standard_of_living_index": 4,
          "wife_age": 28,
          "wife_education": 4,
          "wife_religion": 1
         },
         {
          "contraceptive_method_used": 2,
          "standard_of_living_index": 2,
          "wife_age": 35,
          "wife_education": 3,
          "wife_religion": 1
         },
         {
          "contraceptive_method_used": 3,
          "standard_of_living_index": 4,
          "wife_age": 34,
          "wife_education": 4,
          "wife_religion": 1
         },
         {
          "contraceptive_method_used": 3,
          "standard_of_living_index": 3,
          "wife_age": 25,
          "wife_education": 4,
          "wife_religion": 1
         },
         {
          "contraceptive_method_used": 3,
          "standard_of_living_index": 4,
          "wife_age": 27,
          "wife_education": 4,
          "wife_religion": 0
         },
         {
          "contraceptive_method_used": 2,
          "standard_of_living_index": 3,
          "wife_age": 38,
          "wife_education": 4,
          "wife_religion": 1
         },
         {
          "contraceptive_method_used": 1,
          "standard_of_living_index": 4,
          "wife_age": 43,
          "wife_education": 4,
          "wife_religion": 1
         },
         {
          "contraceptive_method_used": 2,
          "standard_of_living_index": 4,
          "wife_age": 36,
          "wife_education": 4,
          "wife_religion": 0
         },
         {
          "contraceptive_method_used": 3,
          "standard_of_living_index": 3,
          "wife_age": 23,
          "wife_education": 3,
          "wife_religion": 1
         },
         {
          "contraceptive_method_used": 3,
          "standard_of_living_index": 4,
          "wife_age": 24,
          "wife_education": 4,
          "wife_religion": 1
         },
         {
          "contraceptive_method_used": 1,
          "standard_of_living_index": 4,
          "wife_age": 23,
          "wife_education": 4,
          "wife_religion": 1
         },
         {
          "contraceptive_method_used": 2,
          "standard_of_living_index": 4,
          "wife_age": 25,
          "wife_education": 4,
          "wife_religion": 1
         },
         {
          "contraceptive_method_used": 2,
          "standard_of_living_index": 4,
          "wife_age": 25,
          "wife_education": 2,
          "wife_religion": 1
         },
         {
          "contraceptive_method_used": 2,
          "standard_of_living_index": 4,
          "wife_age": 36,
          "wife_education": 4,
          "wife_religion": 0
         },
         {
          "contraceptive_method_used": 1,
          "standard_of_living_index": 3,
          "wife_age": 35,
          "wife_education": 4,
          "wife_religion": 0
         },
         {
          "contraceptive_method_used": 1,
          "standard_of_living_index": 3,
          "wife_age": 31,
          "wife_education": 3,
          "wife_religion": 1
         },
         {
          "contraceptive_method_used": 1,
          "standard_of_living_index": 4,
          "wife_age": 32,
          "wife_education": 2,
          "wife_religion": 1
         },
         {
          "contraceptive_method_used": 1,
          "standard_of_living_index": 3,
          "wife_age": 39,
          "wife_education": 3,
          "wife_religion": 1
         },
         {
          "contraceptive_method_used": 3,
          "standard_of_living_index": 4,
          "wife_age": 39,
          "wife_education": 4,
          "wife_religion": 1
         },
         {
          "contraceptive_method_used": 2,
          "standard_of_living_index": 2,
          "wife_age": 32,
          "wife_education": 3,
          "wife_religion": 1
         },
         {
          "contraceptive_method_used": 2,
          "standard_of_living_index": 4,
          "wife_age": 39,
          "wife_education": 4,
          "wife_religion": 1
         },
         {
          "contraceptive_method_used": 3,
          "standard_of_living_index": 3,
          "wife_age": 32,
          "wife_education": 1,
          "wife_religion": 0
         },
         {
          "contraceptive_method_used": 3,
          "standard_of_living_index": 4,
          "wife_age": 19,
          "wife_education": 4,
          "wife_religion": 1
         },
         {
          "contraceptive_method_used": 3,
          "standard_of_living_index": 2,
          "wife_age": 33,
          "wife_education": 3,
          "wife_religion": 1
         },
         {
          "contraceptive_method_used": 1,
          "standard_of_living_index": 4,
          "wife_age": 23,
          "wife_education": 4,
          "wife_religion": 1
         },
         {
          "contraceptive_method_used": 1,
          "standard_of_living_index": 3,
          "wife_age": 38,
          "wife_education": 1,
          "wife_religion": 1
         },
         {
          "contraceptive_method_used": 2,
          "standard_of_living_index": 4,
          "wife_age": 25,
          "wife_education": 2,
          "wife_religion": 1
         },
         {
          "contraceptive_method_used": 1,
          "standard_of_living_index": 3,
          "wife_age": 43,
          "wife_education": 4,
          "wife_religion": 1
         },
         {
          "contraceptive_method_used": 1,
          "standard_of_living_index": 1,
          "wife_age": 25,
          "wife_education": 2,
          "wife_religion": 1
         },
         {
          "contraceptive_method_used": 3,
          "standard_of_living_index": 4,
          "wife_age": 46,
          "wife_education": 1,
          "wife_religion": 1
         },
         {
          "contraceptive_method_used": 1,
          "standard_of_living_index": 4,
          "wife_age": 30,
          "wife_education": 4,
          "wife_religion": 1
         },
         {
          "contraceptive_method_used": 1,
          "standard_of_living_index": 1,
          "wife_age": 28,
          "wife_education": 3,
          "wife_religion": 1
         },
         {
          "contraceptive_method_used": 2,
          "standard_of_living_index": 4,
          "wife_age": 40,
          "wife_education": 3,
          "wife_religion": 0
         },
         {
          "contraceptive_method_used": 1,
          "standard_of_living_index": 4,
          "wife_age": 30,
          "wife_education": 4,
          "wife_religion": 1
         },
         {
          "contraceptive_method_used": 3,
          "standard_of_living_index": 2,
          "wife_age": 25,
          "wife_education": 2,
          "wife_religion": 1
         },
         {
          "contraceptive_method_used": 2,
          "standard_of_living_index": 4,
          "wife_age": 37,
          "wife_education": 4,
          "wife_religion": 0
         },
         {
          "contraceptive_method_used": 3,
          "standard_of_living_index": 2,
          "wife_age": 37,
          "wife_education": 4,
          "wife_religion": 1
         },
         {
          "contraceptive_method_used": 1,
          "standard_of_living_index": 2,
          "wife_age": 27,
          "wife_education": 3,
          "wife_religion": 1
         },
         {
          "contraceptive_method_used": 1,
          "standard_of_living_index": 4,
          "wife_age": 22,
          "wife_education": 4,
          "wife_religion": 1
         },
         {
          "contraceptive_method_used": 1,
          "standard_of_living_index": 2,
          "wife_age": 21,
          "wife_education": 3,
          "wife_religion": 1
         },
         {
          "contraceptive_method_used": 3,
          "standard_of_living_index": 2,
          "wife_age": 30,
          "wife_education": 3,
          "wife_religion": 1
         },
         {
          "contraceptive_method_used": 2,
          "standard_of_living_index": 4,
          "wife_age": 32,
          "wife_education": 4,
          "wife_religion": 1
         },
         {
          "contraceptive_method_used": 1,
          "standard_of_living_index": 3,
          "wife_age": 22,
          "wife_education": 2,
          "wife_religion": 1
         },
         {
          "contraceptive_method_used": 3,
          "standard_of_living_index": 4,
          "wife_age": 22,
          "wife_education": 3,
          "wife_religion": 1
         },
         {
          "contraceptive_method_used": 2,
          "standard_of_living_index": 4,
          "wife_age": 24,
          "wife_education": 4,
          "wife_religion": 1
         },
         {
          "contraceptive_method_used": 2,
          "standard_of_living_index": 4,
          "wife_age": 36,
          "wife_education": 4,
          "wife_religion": 1
         },
         {
          "contraceptive_method_used": 2,
          "standard_of_living_index": 3,
          "wife_age": 43,
          "wife_education": 2,
          "wife_religion": 1
         },
         {
          "contraceptive_method_used": 1,
          "standard_of_living_index": 2,
          "wife_age": 27,
          "wife_education": 2,
          "wife_religion": 1
         },
         {
          "contraceptive_method_used": 3,
          "standard_of_living_index": 4,
          "wife_age": 34,
          "wife_education": 3,
          "wife_religion": 0
         },
         {
          "contraceptive_method_used": 3,
          "standard_of_living_index": 3,
          "wife_age": 34,
          "wife_education": 4,
          "wife_religion": 1
         },
         {
          "contraceptive_method_used": 1,
          "standard_of_living_index": 3,
          "wife_age": 20,
          "wife_education": 3,
          "wife_religion": 1
         },
         {
          "contraceptive_method_used": 2,
          "standard_of_living_index": 2,
          "wife_age": 38,
          "wife_education": 2,
          "wife_religion": 1
         },
         {
          "contraceptive_method_used": 1,
          "standard_of_living_index": 1,
          "wife_age": 18,
          "wife_education": 3,
          "wife_religion": 1
         },
         {
          "contraceptive_method_used": 3,
          "standard_of_living_index": 4,
          "wife_age": 36,
          "wife_education": 2,
          "wife_religion": 1
         },
         {
          "contraceptive_method_used": 1,
          "standard_of_living_index": 4,
          "wife_age": 30,
          "wife_education": 3,
          "wife_religion": 1
         },
         {
          "contraceptive_method_used": 3,
          "standard_of_living_index": 4,
          "wife_age": 33,
          "wife_education": 3,
          "wife_religion": 1
         },
         {
          "contraceptive_method_used": 2,
          "standard_of_living_index": 4,
          "wife_age": 24,
          "wife_education": 4,
          "wife_religion": 1
         },
         {
          "contraceptive_method_used": 3,
          "standard_of_living_index": 4,
          "wife_age": 40,
          "wife_education": 2,
          "wife_religion": 0
         },
         {
          "contraceptive_method_used": 3,
          "standard_of_living_index": 1,
          "wife_age": 25,
          "wife_education": 1,
          "wife_religion": 1
         },
         {
          "contraceptive_method_used": 3,
          "standard_of_living_index": 1,
          "wife_age": 31,
          "wife_education": 3,
          "wife_religion": 1
         },
         {
          "contraceptive_method_used": 1,
          "standard_of_living_index": 4,
          "wife_age": 42,
          "wife_education": 4,
          "wife_religion": 1
         },
         {
          "contraceptive_method_used": 1,
          "standard_of_living_index": 4,
          "wife_age": 45,
          "wife_education": 3,
          "wife_religion": 0
         },
         {
          "contraceptive_method_used": 2,
          "standard_of_living_index": 3,
          "wife_age": 27,
          "wife_education": 4,
          "wife_religion": 1
         },
         {
          "contraceptive_method_used": 2,
          "standard_of_living_index": 2,
          "wife_age": 34,
          "wife_education": 2,
          "wife_religion": 1
         },
         {
          "contraceptive_method_used": 1,
          "standard_of_living_index": 2,
          "wife_age": 25,
          "wife_education": 3,
          "wife_religion": 1
         },
         {
          "contraceptive_method_used": 3,
          "standard_of_living_index": 2,
          "wife_age": 45,
          "wife_education": 1,
          "wife_religion": 1
         },
         {
          "contraceptive_method_used": 3,
          "standard_of_living_index": 4,
          "wife_age": 28,
          "wife_education": 2,
          "wife_religion": 1
         },
         {
          "contraceptive_method_used": 2,
          "standard_of_living_index": 4,
          "wife_age": 49,
          "wife_education": 3,
          "wife_religion": 1
         },
         {
          "contraceptive_method_used": 3,
          "standard_of_living_index": 3,
          "wife_age": 28,
          "wife_education": 1,
          "wife_religion": 1
         },
         {
          "contraceptive_method_used": 2,
          "standard_of_living_index": 4,
          "wife_age": 36,
          "wife_education": 3,
          "wife_religion": 0
         },
         {
          "contraceptive_method_used": 1,
          "standard_of_living_index": 3,
          "wife_age": 25,
          "wife_education": 1,
          "wife_religion": 1
         },
         {
          "contraceptive_method_used": 1,
          "standard_of_living_index": 2,
          "wife_age": 26,
          "wife_education": 3,
          "wife_religion": 0
         },
         {
          "contraceptive_method_used": 1,
          "standard_of_living_index": 3,
          "wife_age": 25,
          "wife_education": 4,
          "wife_religion": 0
         },
         {
          "contraceptive_method_used": 3,
          "standard_of_living_index": 2,
          "wife_age": 21,
          "wife_education": 3,
          "wife_religion": 1
         },
         {
          "contraceptive_method_used": 2,
          "standard_of_living_index": 4,
          "wife_age": 37,
          "wife_education": 4,
          "wife_religion": 0
         },
         {
          "contraceptive_method_used": 3,
          "standard_of_living_index": 3,
          "wife_age": 26,
          "wife_education": 3,
          "wife_religion": 1
         },
         {
          "contraceptive_method_used": 3,
          "standard_of_living_index": 4,
          "wife_age": 33,
          "wife_education": 4,
          "wife_religion": 1
         },
         {
          "contraceptive_method_used": 2,
          "standard_of_living_index": 3,
          "wife_age": 25,
          "wife_education": 3,
          "wife_religion": 1
         },
         {
          "contraceptive_method_used": 3,
          "standard_of_living_index": 4,
          "wife_age": 35,
          "wife_education": 3,
          "wife_religion": 1
         },
         {
          "contraceptive_method_used": 3,
          "standard_of_living_index": 4,
          "wife_age": 32,
          "wife_education": 4,
          "wife_religion": 0
         },
         {
          "contraceptive_method_used": 1,
          "standard_of_living_index": 4,
          "wife_age": 39,
          "wife_education": 3,
          "wife_religion": 0
         },
         {
          "contraceptive_method_used": 2,
          "standard_of_living_index": 4,
          "wife_age": 46,
          "wife_education": 4,
          "wife_religion": 1
         },
         {
          "contraceptive_method_used": 2,
          "standard_of_living_index": 4,
          "wife_age": 48,
          "wife_education": 4,
          "wife_religion": 1
         },
         {
          "contraceptive_method_used": 3,
          "standard_of_living_index": 4,
          "wife_age": 19,
          "wife_education": 4,
          "wife_religion": 1
         },
         {
          "contraceptive_method_used": 1,
          "standard_of_living_index": 1,
          "wife_age": 21,
          "wife_education": 2,
          "wife_religion": 1
         },
         {
          "contraceptive_method_used": 1,
          "standard_of_living_index": 4,
          "wife_age": 47,
          "wife_education": 3,
          "wife_religion": 1
         },
         {
          "contraceptive_method_used": 1,
          "standard_of_living_index": 2,
          "wife_age": 49,
          "wife_education": 1,
          "wife_religion": 1
         },
         {
          "contraceptive_method_used": 2,
          "standard_of_living_index": 4,
          "wife_age": 46,
          "wife_education": 4,
          "wife_religion": 1
         },
         {
          "contraceptive_method_used": 2,
          "standard_of_living_index": 4,
          "wife_age": 34,
          "wife_education": 3,
          "wife_religion": 1
         },
         {
          "contraceptive_method_used": 2,
          "standard_of_living_index": 4,
          "wife_age": 37,
          "wife_education": 4,
          "wife_religion": 0
         },
         {
          "contraceptive_method_used": 3,
          "standard_of_living_index": 4,
          "wife_age": 43,
          "wife_education": 4,
          "wife_religion": 1
         },
         {
          "contraceptive_method_used": 2,
          "standard_of_living_index": 4,
          "wife_age": 42,
          "wife_education": 4,
          "wife_religion": 0
         },
         {
          "contraceptive_method_used": 1,
          "standard_of_living_index": 1,
          "wife_age": 26,
          "wife_education": 2,
          "wife_religion": 1
         },
         {
          "contraceptive_method_used": 2,
          "standard_of_living_index": 4,
          "wife_age": 41,
          "wife_education": 4,
          "wife_religion": 0
         },
         {
          "contraceptive_method_used": 3,
          "standard_of_living_index": 3,
          "wife_age": 38,
          "wife_education": 4,
          "wife_religion": 0
         },
         {
          "contraceptive_method_used": 3,
          "standard_of_living_index": 2,
          "wife_age": 22,
          "wife_education": 4,
          "wife_religion": 1
         },
         {
          "contraceptive_method_used": 2,
          "standard_of_living_index": 2,
          "wife_age": 28,
          "wife_education": 3,
          "wife_religion": 1
         },
         {
          "contraceptive_method_used": 3,
          "standard_of_living_index": 3,
          "wife_age": 33,
          "wife_education": 3,
          "wife_religion": 1
         },
         {
          "contraceptive_method_used": 2,
          "standard_of_living_index": 4,
          "wife_age": 34,
          "wife_education": 4,
          "wife_religion": 1
         },
         {
          "contraceptive_method_used": 3,
          "standard_of_living_index": 4,
          "wife_age": 35,
          "wife_education": 4,
          "wife_religion": 0
         },
         {
          "contraceptive_method_used": 2,
          "standard_of_living_index": 4,
          "wife_age": 30,
          "wife_education": 3,
          "wife_religion": 1
         },
         {
          "contraceptive_method_used": 3,
          "standard_of_living_index": 3,
          "wife_age": 32,
          "wife_education": 2,
          "wife_religion": 1
         },
         {
          "contraceptive_method_used": 1,
          "standard_of_living_index": 3,
          "wife_age": 25,
          "wife_education": 3,
          "wife_religion": 1
         },
         {
          "contraceptive_method_used": 2,
          "standard_of_living_index": 4,
          "wife_age": 41,
          "wife_education": 3,
          "wife_religion": 1
         },
         {
          "contraceptive_method_used": 2,
          "standard_of_living_index": 4,
          "wife_age": 45,
          "wife_education": 3,
          "wife_religion": 0
         },
         {
          "contraceptive_method_used": 1,
          "standard_of_living_index": 4,
          "wife_age": 36,
          "wife_education": 3,
          "wife_religion": 1
         },
         {
          "contraceptive_method_used": 2,
          "standard_of_living_index": 4,
          "wife_age": 41,
          "wife_education": 4,
          "wife_religion": 1
         },
         {
          "contraceptive_method_used": 3,
          "standard_of_living_index": 4,
          "wife_age": 24,
          "wife_education": 2,
          "wife_religion": 1
         },
         {
          "contraceptive_method_used": 1,
          "standard_of_living_index": 3,
          "wife_age": 18,
          "wife_education": 3,
          "wife_religion": 1
         },
         {
          "contraceptive_method_used": 1,
          "standard_of_living_index": 4,
          "wife_age": 39,
          "wife_education": 2,
          "wife_religion": 1
         },
         {
          "contraceptive_method_used": 3,
          "standard_of_living_index": 3,
          "wife_age": 30,
          "wife_education": 3,
          "wife_religion": 1
         },
         {
          "contraceptive_method_used": 2,
          "standard_of_living_index": 3,
          "wife_age": 35,
          "wife_education": 1,
          "wife_religion": 1
         },
         {
          "contraceptive_method_used": 2,
          "standard_of_living_index": 4,
          "wife_age": 32,
          "wife_education": 4,
          "wife_religion": 0
         },
         {
          "contraceptive_method_used": 2,
          "standard_of_living_index": 3,
          "wife_age": 34,
          "wife_education": 2,
          "wife_religion": 1
         },
         {
          "contraceptive_method_used": 3,
          "standard_of_living_index": 3,
          "wife_age": 29,
          "wife_education": 2,
          "wife_religion": 1
         },
         {
          "contraceptive_method_used": 2,
          "standard_of_living_index": 3,
          "wife_age": 40,
          "wife_education": 4,
          "wife_religion": 1
         },
         {
          "contraceptive_method_used": 3,
          "standard_of_living_index": 3,
          "wife_age": 22,
          "wife_education": 3,
          "wife_religion": 1
         },
         {
          "contraceptive_method_used": 3,
          "standard_of_living_index": 4,
          "wife_age": 37,
          "wife_education": 4,
          "wife_religion": 1
         },
         {
          "contraceptive_method_used": 1,
          "standard_of_living_index": 4,
          "wife_age": 26,
          "wife_education": 3,
          "wife_religion": 1
         },
         {
          "contraceptive_method_used": 2,
          "standard_of_living_index": 4,
          "wife_age": 33,
          "wife_education": 3,
          "wife_religion": 1
         },
         {
          "contraceptive_method_used": 2,
          "standard_of_living_index": 4,
          "wife_age": 39,
          "wife_education": 4,
          "wife_religion": 1
         },
         {
          "contraceptive_method_used": 1,
          "standard_of_living_index": 3,
          "wife_age": 24,
          "wife_education": 4,
          "wife_religion": 1
         },
         {
          "contraceptive_method_used": 2,
          "standard_of_living_index": 3,
          "wife_age": 29,
          "wife_education": 4,
          "wife_religion": 1
         },
         {
          "contraceptive_method_used": 3,
          "standard_of_living_index": 3,
          "wife_age": 35,
          "wife_education": 1,
          "wife_religion": 1
         },
         {
          "contraceptive_method_used": 3,
          "standard_of_living_index": 4,
          "wife_age": 28,
          "wife_education": 4,
          "wife_religion": 1
         },
         {
          "contraceptive_method_used": 1,
          "standard_of_living_index": 1,
          "wife_age": 28,
          "wife_education": 1,
          "wife_religion": 1
         },
         {
          "contraceptive_method_used": 3,
          "standard_of_living_index": 3,
          "wife_age": 23,
          "wife_education": 4,
          "wife_religion": 1
         },
         {
          "contraceptive_method_used": 2,
          "standard_of_living_index": 2,
          "wife_age": 32,
          "wife_education": 4,
          "wife_religion": 1
         },
         {
          "contraceptive_method_used": 1,
          "standard_of_living_index": 4,
          "wife_age": 27,
          "wife_education": 2,
          "wife_religion": 1
         },
         {
          "contraceptive_method_used": 1,
          "standard_of_living_index": 4,
          "wife_age": 45,
          "wife_education": 3,
          "wife_religion": 1
         },
         {
          "contraceptive_method_used": 1,
          "standard_of_living_index": 4,
          "wife_age": 21,
          "wife_education": 2,
          "wife_religion": 1
         },
         {
          "contraceptive_method_used": 3,
          "standard_of_living_index": 4,
          "wife_age": 36,
          "wife_education": 2,
          "wife_religion": 1
         },
         {
          "contraceptive_method_used": 3,
          "standard_of_living_index": 4,
          "wife_age": 28,
          "wife_education": 2,
          "wife_religion": 1
         },
         {
          "contraceptive_method_used": 3,
          "standard_of_living_index": 4,
          "wife_age": 22,
          "wife_education": 3,
          "wife_religion": 0
         },
         {
          "contraceptive_method_used": 2,
          "standard_of_living_index": 4,
          "wife_age": 42,
          "wife_education": 2,
          "wife_religion": 1
         },
         {
          "contraceptive_method_used": 2,
          "standard_of_living_index": 3,
          "wife_age": 19,
          "wife_education": 4,
          "wife_religion": 1
         },
         {
          "contraceptive_method_used": 2,
          "standard_of_living_index": 4,
          "wife_age": 31,
          "wife_education": 4,
          "wife_religion": 1
         },
         {
          "contraceptive_method_used": 3,
          "standard_of_living_index": 4,
          "wife_age": 45,
          "wife_education": 2,
          "wife_religion": 0
         },
         {
          "contraceptive_method_used": 3,
          "standard_of_living_index": 3,
          "wife_age": 37,
          "wife_education": 3,
          "wife_religion": 1
         },
         {
          "contraceptive_method_used": 1,
          "standard_of_living_index": 4,
          "wife_age": 47,
          "wife_education": 1,
          "wife_religion": 1
         },
         {
          "contraceptive_method_used": 1,
          "standard_of_living_index": 4,
          "wife_age": 32,
          "wife_education": 4,
          "wife_religion": 0
         },
         {
          "contraceptive_method_used": 1,
          "standard_of_living_index": 4,
          "wife_age": 27,
          "wife_education": 2,
          "wife_religion": 1
         },
         {
          "contraceptive_method_used": 3,
          "standard_of_living_index": 4,
          "wife_age": 36,
          "wife_education": 2,
          "wife_religion": 1
         },
         {
          "contraceptive_method_used": 3,
          "standard_of_living_index": 4,
          "wife_age": 30,
          "wife_education": 1,
          "wife_religion": 1
         },
         {
          "contraceptive_method_used": 1,
          "standard_of_living_index": 4,
          "wife_age": 21,
          "wife_education": 1,
          "wife_religion": 1
         },
         {
          "contraceptive_method_used": 3,
          "standard_of_living_index": 3,
          "wife_age": 38,
          "wife_education": 4,
          "wife_religion": 1
         },
         {
          "contraceptive_method_used": 1,
          "standard_of_living_index": 4,
          "wife_age": 40,
          "wife_education": 1,
          "wife_religion": 1
         },
         {
          "contraceptive_method_used": 1,
          "standard_of_living_index": 3,
          "wife_age": 42,
          "wife_education": 3,
          "wife_religion": 1
         },
         {
          "contraceptive_method_used": 3,
          "standard_of_living_index": 4,
          "wife_age": 46,
          "wife_education": 2,
          "wife_religion": 0
         },
         {
          "contraceptive_method_used": 3,
          "standard_of_living_index": 4,
          "wife_age": 27,
          "wife_education": 4,
          "wife_religion": 1
         },
         {
          "contraceptive_method_used": 3,
          "standard_of_living_index": 4,
          "wife_age": 45,
          "wife_education": 4,
          "wife_religion": 1
         },
         {
          "contraceptive_method_used": 3,
          "standard_of_living_index": 4,
          "wife_age": 39,
          "wife_education": 4,
          "wife_religion": 1
         },
         {
          "contraceptive_method_used": 1,
          "standard_of_living_index": 4,
          "wife_age": 49,
          "wife_education": 3,
          "wife_religion": 1
         },
         {
          "contraceptive_method_used": 3,
          "standard_of_living_index": 3,
          "wife_age": 24,
          "wife_education": 4,
          "wife_religion": 1
         },
         {
          "contraceptive_method_used": 1,
          "standard_of_living_index": 4,
          "wife_age": 28,
          "wife_education": 3,
          "wife_religion": 1
         },
         {
          "contraceptive_method_used": 1,
          "standard_of_living_index": 3,
          "wife_age": 32,
          "wife_education": 4,
          "wife_religion": 1
         },
         {
          "contraceptive_method_used": 1,
          "standard_of_living_index": 3,
          "wife_age": 34,
          "wife_education": 2,
          "wife_religion": 1
         },
         {
          "contraceptive_method_used": 1,
          "standard_of_living_index": 4,
          "wife_age": 28,
          "wife_education": 3,
          "wife_religion": 1
         },
         {
          "contraceptive_method_used": 1,
          "standard_of_living_index": 1,
          "wife_age": 18,
          "wife_education": 3,
          "wife_religion": 1
         },
         {
          "contraceptive_method_used": 1,
          "standard_of_living_index": 4,
          "wife_age": 48,
          "wife_education": 1,
          "wife_religion": 1
         },
         {
          "contraceptive_method_used": 2,
          "standard_of_living_index": 4,
          "wife_age": 39,
          "wife_education": 4,
          "wife_religion": 1
         },
         {
          "contraceptive_method_used": 3,
          "standard_of_living_index": 3,
          "wife_age": 25,
          "wife_education": 2,
          "wife_religion": 1
         },
         {
          "contraceptive_method_used": 1,
          "standard_of_living_index": 3,
          "wife_age": 24,
          "wife_education": 3,
          "wife_religion": 1
         },
         {
          "contraceptive_method_used": 3,
          "standard_of_living_index": 4,
          "wife_age": 32,
          "wife_education": 3,
          "wife_religion": 0
         },
         {
          "contraceptive_method_used": 3,
          "standard_of_living_index": 2,
          "wife_age": 23,
          "wife_education": 1,
          "wife_religion": 1
         },
         {
          "contraceptive_method_used": 3,
          "standard_of_living_index": 4,
          "wife_age": 35,
          "wife_education": 4,
          "wife_religion": 1
         },
         {
          "contraceptive_method_used": 2,
          "standard_of_living_index": 4,
          "wife_age": 27,
          "wife_education": 4,
          "wife_religion": 1
         },
         {
          "contraceptive_method_used": 2,
          "standard_of_living_index": 3,
          "wife_age": 28,
          "wife_education": 2,
          "wife_religion": 1
         },
         {
          "contraceptive_method_used": 1,
          "standard_of_living_index": 3,
          "wife_age": 33,
          "wife_education": 4,
          "wife_religion": 1
         },
         {
          "contraceptive_method_used": 2,
          "standard_of_living_index": 4,
          "wife_age": 36,
          "wife_education": 4,
          "wife_religion": 1
         },
         {
          "contraceptive_method_used": 3,
          "standard_of_living_index": 3,
          "wife_age": 33,
          "wife_education": 4,
          "wife_religion": 1
         },
         {
          "contraceptive_method_used": 2,
          "standard_of_living_index": 4,
          "wife_age": 37,
          "wife_education": 4,
          "wife_religion": 1
         },
         {
          "contraceptive_method_used": 1,
          "standard_of_living_index": 4,
          "wife_age": 23,
          "wife_education": 3,
          "wife_religion": 1
         },
         {
          "contraceptive_method_used": 1,
          "standard_of_living_index": 3,
          "wife_age": 28,
          "wife_education": 4,
          "wife_religion": 1
         },
         {
          "contraceptive_method_used": 1,
          "standard_of_living_index": 3,
          "wife_age": 22,
          "wife_education": 4,
          "wife_religion": 1
         },
         {
          "contraceptive_method_used": 1,
          "standard_of_living_index": 4,
          "wife_age": 29,
          "wife_education": 3,
          "wife_religion": 1
         },
         {
          "contraceptive_method_used": 2,
          "standard_of_living_index": 4,
          "wife_age": 21,
          "wife_education": 4,
          "wife_religion": 1
         },
         {
          "contraceptive_method_used": 1,
          "standard_of_living_index": 3,
          "wife_age": 20,
          "wife_education": 3,
          "wife_religion": 1
         },
         {
          "contraceptive_method_used": 3,
          "standard_of_living_index": 4,
          "wife_age": 35,
          "wife_education": 4,
          "wife_religion": 1
         },
         {
          "contraceptive_method_used": 2,
          "standard_of_living_index": 2,
          "wife_age": 44,
          "wife_education": 3,
          "wife_religion": 1
         },
         {
          "contraceptive_method_used": 1,
          "standard_of_living_index": 3,
          "wife_age": 42,
          "wife_education": 3,
          "wife_religion": 1
         },
         {
          "contraceptive_method_used": 3,
          "standard_of_living_index": 2,
          "wife_age": 30,
          "wife_education": 4,
          "wife_religion": 1
         },
         {
          "contraceptive_method_used": 2,
          "standard_of_living_index": 4,
          "wife_age": 36,
          "wife_education": 4,
          "wife_religion": 0
         },
         {
          "contraceptive_method_used": 3,
          "standard_of_living_index": 4,
          "wife_age": 43,
          "wife_education": 4,
          "wife_religion": 1
         },
         {
          "contraceptive_method_used": 1,
          "standard_of_living_index": 4,
          "wife_age": 20,
          "wife_education": 4,
          "wife_religion": 1
         },
         {
          "contraceptive_method_used": 1,
          "standard_of_living_index": 3,
          "wife_age": 20,
          "wife_education": 3,
          "wife_religion": 1
         },
         {
          "contraceptive_method_used": 2,
          "standard_of_living_index": 3,
          "wife_age": 30,
          "wife_education": 4,
          "wife_religion": 1
         },
         {
          "contraceptive_method_used": 1,
          "standard_of_living_index": 4,
          "wife_age": 23,
          "wife_education": 4,
          "wife_religion": 0
         },
         {
          "contraceptive_method_used": 1,
          "standard_of_living_index": 1,
          "wife_age": 25,
          "wife_education": 3,
          "wife_religion": 1
         },
         {
          "contraceptive_method_used": 3,
          "standard_of_living_index": 3,
          "wife_age": 17,
          "wife_education": 3,
          "wife_religion": 1
         },
         {
          "contraceptive_method_used": 3,
          "standard_of_living_index": 4,
          "wife_age": 27,
          "wife_education": 2,
          "wife_religion": 1
         },
         {
          "contraceptive_method_used": 1,
          "standard_of_living_index": 4,
          "wife_age": 49,
          "wife_education": 4,
          "wife_religion": 0
         },
         {
          "contraceptive_method_used": 2,
          "standard_of_living_index": 2,
          "wife_age": 36,
          "wife_education": 3,
          "wife_religion": 1
         },
         {
          "contraceptive_method_used": 3,
          "standard_of_living_index": 4,
          "wife_age": 32,
          "wife_education": 2,
          "wife_religion": 1
         },
         {
          "contraceptive_method_used": 2,
          "standard_of_living_index": 2,
          "wife_age": 20,
          "wife_education": 3,
          "wife_religion": 1
         },
         {
          "contraceptive_method_used": 2,
          "standard_of_living_index": 4,
          "wife_age": 34,
          "wife_education": 4,
          "wife_religion": 1
         },
         {
          "contraceptive_method_used": 3,
          "standard_of_living_index": 3,
          "wife_age": 22,
          "wife_education": 4,
          "wife_religion": 1
         },
         {
          "contraceptive_method_used": 3,
          "standard_of_living_index": 1,
          "wife_age": 36,
          "wife_education": 1,
          "wife_religion": 1
         },
         {
          "contraceptive_method_used": 1,
          "standard_of_living_index": 4,
          "wife_age": 33,
          "wife_education": 3,
          "wife_religion": 1
         },
         {
          "contraceptive_method_used": 2,
          "standard_of_living_index": 2,
          "wife_age": 21,
          "wife_education": 2,
          "wife_religion": 1
         },
         {
          "contraceptive_method_used": 1,
          "standard_of_living_index": 4,
          "wife_age": 26,
          "wife_education": 2,
          "wife_religion": 1
         },
         {
          "contraceptive_method_used": 3,
          "standard_of_living_index": 3,
          "wife_age": 31,
          "wife_education": 3,
          "wife_religion": 1
         },
         {
          "contraceptive_method_used": 1,
          "standard_of_living_index": 4,
          "wife_age": 25,
          "wife_education": 2,
          "wife_religion": 1
         },
         {
          "contraceptive_method_used": 2,
          "standard_of_living_index": 3,
          "wife_age": 23,
          "wife_education": 4,
          "wife_religion": 1
         },
         {
          "contraceptive_method_used": 1,
          "standard_of_living_index": 3,
          "wife_age": 36,
          "wife_education": 4,
          "wife_religion": 1
         },
         {
          "contraceptive_method_used": 1,
          "standard_of_living_index": 3,
          "wife_age": 33,
          "wife_education": 4,
          "wife_religion": 1
         },
         {
          "contraceptive_method_used": 3,
          "standard_of_living_index": 4,
          "wife_age": 32,
          "wife_education": 4,
          "wife_religion": 0
         },
         {
          "contraceptive_method_used": 1,
          "standard_of_living_index": 4,
          "wife_age": 22,
          "wife_education": 3,
          "wife_religion": 1
         },
         {
          "contraceptive_method_used": 1,
          "standard_of_living_index": 3,
          "wife_age": 37,
          "wife_education": 2,
          "wife_religion": 1
         },
         {
          "contraceptive_method_used": 3,
          "standard_of_living_index": 4,
          "wife_age": 17,
          "wife_education": 3,
          "wife_religion": 1
         },
         {
          "contraceptive_method_used": 3,
          "standard_of_living_index": 4,
          "wife_age": 27,
          "wife_education": 4,
          "wife_religion": 1
         },
         {
          "contraceptive_method_used": 1,
          "standard_of_living_index": 2,
          "wife_age": 45,
          "wife_education": 1,
          "wife_religion": 1
         },
         {
          "contraceptive_method_used": 1,
          "standard_of_living_index": 4,
          "wife_age": 42,
          "wife_education": 2,
          "wife_religion": 1
         },
         {
          "contraceptive_method_used": 1,
          "standard_of_living_index": 4,
          "wife_age": 25,
          "wife_education": 4,
          "wife_religion": 1
         },
         {
          "contraceptive_method_used": 2,
          "standard_of_living_index": 3,
          "wife_age": 31,
          "wife_education": 2,
          "wife_religion": 1
         },
         {
          "contraceptive_method_used": 2,
          "standard_of_living_index": 3,
          "wife_age": 31,
          "wife_education": 3,
          "wife_religion": 1
         },
         {
          "contraceptive_method_used": 1,
          "standard_of_living_index": 3,
          "wife_age": 45,
          "wife_education": 4,
          "wife_religion": 1
         },
         {
          "contraceptive_method_used": 3,
          "standard_of_living_index": 2,
          "wife_age": 47,
          "wife_education": 4,
          "wife_religion": 1
         },
         {
          "contraceptive_method_used": 3,
          "standard_of_living_index": 3,
          "wife_age": 26,
          "wife_education": 3,
          "wife_religion": 1
         },
         {
          "contraceptive_method_used": 3,
          "standard_of_living_index": 4,
          "wife_age": 28,
          "wife_education": 3,
          "wife_religion": 1
         },
         {
          "contraceptive_method_used": 2,
          "standard_of_living_index": 4,
          "wife_age": 41,
          "wife_education": 4,
          "wife_religion": 0
         },
         {
          "contraceptive_method_used": 3,
          "standard_of_living_index": 3,
          "wife_age": 26,
          "wife_education": 2,
          "wife_religion": 1
         },
         {
          "contraceptive_method_used": 3,
          "standard_of_living_index": 4,
          "wife_age": 29,
          "wife_education": 4,
          "wife_religion": 1
         },
         {
          "contraceptive_method_used": 2,
          "standard_of_living_index": 4,
          "wife_age": 29,
          "wife_education": 4,
          "wife_religion": 1
         },
         {
          "contraceptive_method_used": 1,
          "standard_of_living_index": 2,
          "wife_age": 24,
          "wife_education": 4,
          "wife_religion": 1
         },
         {
          "contraceptive_method_used": 3,
          "standard_of_living_index": 2,
          "wife_age": 23,
          "wife_education": 3,
          "wife_religion": 1
         },
         {
          "contraceptive_method_used": 1,
          "standard_of_living_index": 2,
          "wife_age": 48,
          "wife_education": 1,
          "wife_religion": 1
         },
         {
          "contraceptive_method_used": 3,
          "standard_of_living_index": 2,
          "wife_age": 36,
          "wife_education": 2,
          "wife_religion": 1
         },
         {
          "contraceptive_method_used": 1,
          "standard_of_living_index": 2,
          "wife_age": 38,
          "wife_education": 2,
          "wife_religion": 1
         },
         {
          "contraceptive_method_used": 1,
          "standard_of_living_index": 2,
          "wife_age": 37,
          "wife_education": 3,
          "wife_religion": 1
         },
         {
          "contraceptive_method_used": 1,
          "standard_of_living_index": 1,
          "wife_age": 27,
          "wife_education": 2,
          "wife_religion": 1
         },
         {
          "contraceptive_method_used": 1,
          "standard_of_living_index": 4,
          "wife_age": 43,
          "wife_education": 3,
          "wife_religion": 0
         },
         {
          "contraceptive_method_used": 1,
          "standard_of_living_index": 1,
          "wife_age": 26,
          "wife_education": 1,
          "wife_religion": 1
         },
         {
          "contraceptive_method_used": 2,
          "standard_of_living_index": 2,
          "wife_age": 40,
          "wife_education": 2,
          "wife_religion": 1
         },
         {
          "contraceptive_method_used": 2,
          "standard_of_living_index": 3,
          "wife_age": 40,
          "wife_education": 4,
          "wife_religion": 1
         },
         {
          "contraceptive_method_used": 3,
          "standard_of_living_index": 4,
          "wife_age": 39,
          "wife_education": 3,
          "wife_religion": 1
         },
         {
          "contraceptive_method_used": 1,
          "standard_of_living_index": 4,
          "wife_age": 28,
          "wife_education": 2,
          "wife_religion": 1
         },
         {
          "contraceptive_method_used": 1,
          "standard_of_living_index": 2,
          "wife_age": 30,
          "wife_education": 2,
          "wife_religion": 1
         },
         {
          "contraceptive_method_used": 1,
          "standard_of_living_index": 4,
          "wife_age": 43,
          "wife_education": 2,
          "wife_religion": 1
         },
         {
          "contraceptive_method_used": 2,
          "standard_of_living_index": 3,
          "wife_age": 26,
          "wife_education": 2,
          "wife_religion": 1
         },
         {
          "contraceptive_method_used": 1,
          "standard_of_living_index": 3,
          "wife_age": 28,
          "wife_education": 3,
          "wife_religion": 1
         },
         {
          "contraceptive_method_used": 2,
          "standard_of_living_index": 4,
          "wife_age": 28,
          "wife_education": 4,
          "wife_religion": 0
         },
         {
          "contraceptive_method_used": 2,
          "standard_of_living_index": 4,
          "wife_age": 41,
          "wife_education": 4,
          "wife_religion": 0
         },
         {
          "contraceptive_method_used": 2,
          "standard_of_living_index": 3,
          "wife_age": 37,
          "wife_education": 3,
          "wife_religion": 1
         },
         {
          "contraceptive_method_used": 2,
          "standard_of_living_index": 4,
          "wife_age": 26,
          "wife_education": 3,
          "wife_religion": 1
         },
         {
          "contraceptive_method_used": 3,
          "standard_of_living_index": 1,
          "wife_age": 22,
          "wife_education": 1,
          "wife_religion": 1
         },
         {
          "contraceptive_method_used": 3,
          "standard_of_living_index": 4,
          "wife_age": 22,
          "wife_education": 4,
          "wife_religion": 1
         },
         {
          "contraceptive_method_used": 3,
          "standard_of_living_index": 4,
          "wife_age": 42,
          "wife_education": 4,
          "wife_religion": 0
         },
         {
          "contraceptive_method_used": 1,
          "standard_of_living_index": 3,
          "wife_age": 32,
          "wife_education": 3,
          "wife_religion": 1
         },
         {
          "contraceptive_method_used": 1,
          "standard_of_living_index": 4,
          "wife_age": 47,
          "wife_education": 4,
          "wife_religion": 1
         },
         {
          "contraceptive_method_used": 3,
          "standard_of_living_index": 2,
          "wife_age": 17,
          "wife_education": 2,
          "wife_religion": 1
         },
         {
          "contraceptive_method_used": 1,
          "standard_of_living_index": 2,
          "wife_age": 29,
          "wife_education": 2,
          "wife_religion": 1
         },
         {
          "contraceptive_method_used": 1,
          "standard_of_living_index": 4,
          "wife_age": 45,
          "wife_education": 4,
          "wife_religion": 1
         },
         {
          "contraceptive_method_used": 2,
          "standard_of_living_index": 4,
          "wife_age": 47,
          "wife_education": 1,
          "wife_religion": 1
         },
         {
          "contraceptive_method_used": 1,
          "standard_of_living_index": 3,
          "wife_age": 31,
          "wife_education": 2,
          "wife_religion": 1
         },
         {
          "contraceptive_method_used": 1,
          "standard_of_living_index": 3,
          "wife_age": 41,
          "wife_education": 2,
          "wife_religion": 1
         },
         {
          "contraceptive_method_used": 2,
          "standard_of_living_index": 3,
          "wife_age": 26,
          "wife_education": 3,
          "wife_religion": 1
         },
         {
          "contraceptive_method_used": 1,
          "standard_of_living_index": 4,
          "wife_age": 45,
          "wife_education": 4,
          "wife_religion": 1
         },
         {
          "contraceptive_method_used": 1,
          "standard_of_living_index": 1,
          "wife_age": 22,
          "wife_education": 4,
          "wife_religion": 1
         },
         {
          "contraceptive_method_used": 1,
          "standard_of_living_index": 2,
          "wife_age": 24,
          "wife_education": 3,
          "wife_religion": 1
         },
         {
          "contraceptive_method_used": 1,
          "standard_of_living_index": 3,
          "wife_age": 30,
          "wife_education": 3,
          "wife_religion": 0
         },
         {
          "contraceptive_method_used": 3,
          "standard_of_living_index": 3,
          "wife_age": 35,
          "wife_education": 2,
          "wife_religion": 1
         },
         {
          "contraceptive_method_used": 3,
          "standard_of_living_index": 3,
          "wife_age": 36,
          "wife_education": 1,
          "wife_religion": 1
         },
         {
          "contraceptive_method_used": 3,
          "standard_of_living_index": 4,
          "wife_age": 38,
          "wife_education": 4,
          "wife_religion": 1
         }
        ]
       },
       "encoding": {
        "color": {
         "field": "wife_education",
         "legend": {
          "title": "Education level"
         },
         "type": "quantitative"
        },
        "x": {
         "field": "contraceptive_method_used",
         "title": "Contraceptive method used",
         "type": "quantitative"
        },
        "y": {
         "aggregate": "count",
         "title": "Number of records",
         "type": "quantitative"
        }
       },
       "mark": {
        "size": 10,
        "type": "bar"
       },
       "title": "Distribution of Education For Each Method of Contraception Used",
       "width": 100
      },
      "text/plain": [
       "<VegaLite 4 object>\n",
       "\n",
       "If you see this message, it means the renderer has not been properly enabled\n",
       "for the frontend that you are using. For more information, see\n",
       "https://altair-viz.github.io/user_guide/troubleshooting.html\n"
      ]
     },
     "execution_count": 19,
     "metadata": {},
     "output_type": "execute_result"
    }
   ],
   "source": [
    "wife_education_correlation = alt.Chart(cmc_train, title = \"Distribution of Education For Each Method of Contraception Used\").mark_bar(size=10).encode(\n",
    "    x = alt.X(\"contraceptive_method_used\", title = \"Contraceptive method used\"),\n",
    "    y = alt.Y(\"count()\", title = \"Number of records\"),\n",
    "    color = alt.Color(\"wife_education\",legend=alt.Legend(title=\"Education level\"))\n",
    ").properties(width=100)\n",
    "wife_education_correlation"
   ]
  },
  {
   "attachments": {},
   "cell_type": "markdown",
   "metadata": {},
   "source": [
    "From the graph, we can see that as the level of education increases, there is a greater proportion of of women who chose to use contraceptives. "
   ]
  },
  {
   "cell_type": "markdown",
   "metadata": {},
   "source": [
    "**Standard of living**"
   ]
  },
  {
   "cell_type": "code",
   "execution_count": 20,
   "metadata": {},
   "outputs": [
    {
     "data": {
      "application/vnd.vegalite.v4+json": {
       "$schema": "https://vega.github.io/schema/vega-lite/v4.17.0.json",
       "config": {
        "view": {
         "continuousHeight": 300,
         "continuousWidth": 400
        }
       },
       "data": {
        "name": "data-f15167d60f413a998667f82347f8e248"
       },
       "datasets": {
        "data-f15167d60f413a998667f82347f8e248": [
         {
          "contraceptive_method_used": 1,
          "standard_of_living_index": 2,
          "wife_age": 40,
          "wife_education": 1,
          "wife_religion": 1
         },
         {
          "contraceptive_method_used": 2,
          "standard_of_living_index": 4,
          "wife_age": 35,
          "wife_education": 4,
          "wife_religion": 1
         },
         {
          "contraceptive_method_used": 3,
          "standard_of_living_index": 3,
          "wife_age": 19,
          "wife_education": 3,
          "wife_religion": 1
         },
         {
          "contraceptive_method_used": 1,
          "standard_of_living_index": 2,
          "wife_age": 20,
          "wife_education": 2,
          "wife_religion": 1
         },
         {
          "contraceptive_method_used": 1,
          "standard_of_living_index": 2,
          "wife_age": 41,
          "wife_education": 2,
          "wife_religion": 0
         },
         {
          "contraceptive_method_used": 1,
          "standard_of_living_index": 1,
          "wife_age": 30,
          "wife_education": 2,
          "wife_religion": 1
         },
         {
          "contraceptive_method_used": 3,
          "standard_of_living_index": 3,
          "wife_age": 33,
          "wife_education": 3,
          "wife_religion": 1
         },
         {
          "contraceptive_method_used": 2,
          "standard_of_living_index": 4,
          "wife_age": 48,
          "wife_education": 4,
          "wife_religion": 0
         },
         {
          "contraceptive_method_used": 2,
          "standard_of_living_index": 3,
          "wife_age": 31,
          "wife_education": 4,
          "wife_religion": 0
         },
         {
          "contraceptive_method_used": 1,
          "standard_of_living_index": 4,
          "wife_age": 25,
          "wife_education": 4,
          "wife_religion": 1
         },
         {
          "contraceptive_method_used": 1,
          "standard_of_living_index": 1,
          "wife_age": 26,
          "wife_education": 2,
          "wife_religion": 1
         },
         {
          "contraceptive_method_used": 3,
          "standard_of_living_index": 3,
          "wife_age": 38,
          "wife_education": 4,
          "wife_religion": 1
         },
         {
          "contraceptive_method_used": 3,
          "standard_of_living_index": 3,
          "wife_age": 28,
          "wife_education": 4,
          "wife_religion": 1
         },
         {
          "contraceptive_method_used": 3,
          "standard_of_living_index": 3,
          "wife_age": 23,
          "wife_education": 4,
          "wife_religion": 1
         },
         {
          "contraceptive_method_used": 1,
          "standard_of_living_index": 3,
          "wife_age": 42,
          "wife_education": 3,
          "wife_religion": 1
         },
         {
          "contraceptive_method_used": 3,
          "standard_of_living_index": 3,
          "wife_age": 22,
          "wife_education": 2,
          "wife_religion": 1
         },
         {
          "contraceptive_method_used": 3,
          "standard_of_living_index": 4,
          "wife_age": 24,
          "wife_education": 4,
          "wife_religion": 1
         },
         {
          "contraceptive_method_used": 2,
          "standard_of_living_index": 4,
          "wife_age": 26,
          "wife_education": 4,
          "wife_religion": 0
         },
         {
          "contraceptive_method_used": 1,
          "standard_of_living_index": 2,
          "wife_age": 28,
          "wife_education": 3,
          "wife_religion": 1
         },
         {
          "contraceptive_method_used": 1,
          "standard_of_living_index": 4,
          "wife_age": 24,
          "wife_education": 2,
          "wife_religion": 1
         },
         {
          "contraceptive_method_used": 1,
          "standard_of_living_index": 4,
          "wife_age": 30,
          "wife_education": 2,
          "wife_religion": 1
         },
         {
          "contraceptive_method_used": 2,
          "standard_of_living_index": 3,
          "wife_age": 28,
          "wife_education": 4,
          "wife_religion": 1
         },
         {
          "contraceptive_method_used": 3,
          "standard_of_living_index": 4,
          "wife_age": 35,
          "wife_education": 4,
          "wife_religion": 1
         },
         {
          "contraceptive_method_used": 3,
          "standard_of_living_index": 2,
          "wife_age": 23,
          "wife_education": 2,
          "wife_religion": 1
         },
         {
          "contraceptive_method_used": 3,
          "standard_of_living_index": 3,
          "wife_age": 22,
          "wife_education": 4,
          "wife_religion": 1
         },
         {
          "contraceptive_method_used": 2,
          "standard_of_living_index": 3,
          "wife_age": 36,
          "wife_education": 4,
          "wife_religion": 0
         },
         {
          "contraceptive_method_used": 1,
          "standard_of_living_index": 4,
          "wife_age": 28,
          "wife_education": 4,
          "wife_religion": 1
         },
         {
          "contraceptive_method_used": 1,
          "standard_of_living_index": 1,
          "wife_age": 39,
          "wife_education": 1,
          "wife_religion": 1
         },
         {
          "contraceptive_method_used": 2,
          "standard_of_living_index": 4,
          "wife_age": 24,
          "wife_education": 4,
          "wife_religion": 1
         },
         {
          "contraceptive_method_used": 1,
          "standard_of_living_index": 1,
          "wife_age": 17,
          "wife_education": 2,
          "wife_religion": 1
         },
         {
          "contraceptive_method_used": 1,
          "standard_of_living_index": 4,
          "wife_age": 31,
          "wife_education": 3,
          "wife_religion": 1
         },
         {
          "contraceptive_method_used": 1,
          "standard_of_living_index": 4,
          "wife_age": 27,
          "wife_education": 4,
          "wife_religion": 0
         },
         {
          "contraceptive_method_used": 3,
          "standard_of_living_index": 3,
          "wife_age": 26,
          "wife_education": 3,
          "wife_religion": 1
         },
         {
          "contraceptive_method_used": 1,
          "standard_of_living_index": 4,
          "wife_age": 22,
          "wife_education": 4,
          "wife_religion": 1
         },
         {
          "contraceptive_method_used": 2,
          "standard_of_living_index": 3,
          "wife_age": 26,
          "wife_education": 3,
          "wife_religion": 1
         },
         {
          "contraceptive_method_used": 1,
          "standard_of_living_index": 4,
          "wife_age": 45,
          "wife_education": 2,
          "wife_religion": 1
         },
         {
          "contraceptive_method_used": 3,
          "standard_of_living_index": 4,
          "wife_age": 23,
          "wife_education": 4,
          "wife_religion": 1
         },
         {
          "contraceptive_method_used": 1,
          "standard_of_living_index": 3,
          "wife_age": 29,
          "wife_education": 3,
          "wife_religion": 1
         },
         {
          "contraceptive_method_used": 1,
          "standard_of_living_index": 3,
          "wife_age": 23,
          "wife_education": 4,
          "wife_religion": 1
         },
         {
          "contraceptive_method_used": 1,
          "standard_of_living_index": 4,
          "wife_age": 44,
          "wife_education": 1,
          "wife_religion": 1
         },
         {
          "contraceptive_method_used": 1,
          "standard_of_living_index": 3,
          "wife_age": 23,
          "wife_education": 4,
          "wife_religion": 1
         },
         {
          "contraceptive_method_used": 3,
          "standard_of_living_index": 4,
          "wife_age": 28,
          "wife_education": 3,
          "wife_religion": 1
         },
         {
          "contraceptive_method_used": 1,
          "standard_of_living_index": 4,
          "wife_age": 28,
          "wife_education": 4,
          "wife_religion": 0
         },
         {
          "contraceptive_method_used": 1,
          "standard_of_living_index": 3,
          "wife_age": 41,
          "wife_education": 3,
          "wife_religion": 1
         },
         {
          "contraceptive_method_used": 1,
          "standard_of_living_index": 4,
          "wife_age": 23,
          "wife_education": 4,
          "wife_religion": 1
         },
         {
          "contraceptive_method_used": 1,
          "standard_of_living_index": 4,
          "wife_age": 26,
          "wife_education": 4,
          "wife_religion": 1
         },
         {
          "contraceptive_method_used": 3,
          "standard_of_living_index": 4,
          "wife_age": 31,
          "wife_education": 4,
          "wife_religion": 1
         },
         {
          "contraceptive_method_used": 3,
          "standard_of_living_index": 4,
          "wife_age": 34,
          "wife_education": 4,
          "wife_religion": 0
         },
         {
          "contraceptive_method_used": 3,
          "standard_of_living_index": 3,
          "wife_age": 32,
          "wife_education": 1,
          "wife_religion": 1
         },
         {
          "contraceptive_method_used": 3,
          "standard_of_living_index": 4,
          "wife_age": 38,
          "wife_education": 4,
          "wife_religion": 1
         },
         {
          "contraceptive_method_used": 1,
          "standard_of_living_index": 4,
          "wife_age": 27,
          "wife_education": 2,
          "wife_religion": 1
         },
         {
          "contraceptive_method_used": 3,
          "standard_of_living_index": 2,
          "wife_age": 20,
          "wife_education": 2,
          "wife_religion": 1
         },
         {
          "contraceptive_method_used": 1,
          "standard_of_living_index": 4,
          "wife_age": 22,
          "wife_education": 2,
          "wife_religion": 1
         },
         {
          "contraceptive_method_used": 3,
          "standard_of_living_index": 4,
          "wife_age": 44,
          "wife_education": 4,
          "wife_religion": 1
         },
         {
          "contraceptive_method_used": 1,
          "standard_of_living_index": 1,
          "wife_age": 39,
          "wife_education": 2,
          "wife_religion": 1
         },
         {
          "contraceptive_method_used": 2,
          "standard_of_living_index": 4,
          "wife_age": 22,
          "wife_education": 3,
          "wife_religion": 1
         },
         {
          "contraceptive_method_used": 1,
          "standard_of_living_index": 2,
          "wife_age": 42,
          "wife_education": 1,
          "wife_religion": 0
         },
         {
          "contraceptive_method_used": 3,
          "standard_of_living_index": 1,
          "wife_age": 25,
          "wife_education": 3,
          "wife_religion": 1
         },
         {
          "contraceptive_method_used": 1,
          "standard_of_living_index": 4,
          "wife_age": 33,
          "wife_education": 4,
          "wife_religion": 1
         },
         {
          "contraceptive_method_used": 1,
          "standard_of_living_index": 4,
          "wife_age": 23,
          "wife_education": 3,
          "wife_religion": 1
         },
         {
          "contraceptive_method_used": 2,
          "standard_of_living_index": 4,
          "wife_age": 35,
          "wife_education": 4,
          "wife_religion": 0
         },
         {
          "contraceptive_method_used": 1,
          "standard_of_living_index": 1,
          "wife_age": 35,
          "wife_education": 2,
          "wife_religion": 1
         },
         {
          "contraceptive_method_used": 3,
          "standard_of_living_index": 2,
          "wife_age": 18,
          "wife_education": 3,
          "wife_religion": 1
         },
         {
          "contraceptive_method_used": 3,
          "standard_of_living_index": 3,
          "wife_age": 25,
          "wife_education": 2,
          "wife_religion": 1
         },
         {
          "contraceptive_method_used": 1,
          "standard_of_living_index": 1,
          "wife_age": 26,
          "wife_education": 3,
          "wife_religion": 1
         },
         {
          "contraceptive_method_used": 3,
          "standard_of_living_index": 3,
          "wife_age": 39,
          "wife_education": 4,
          "wife_religion": 0
         },
         {
          "contraceptive_method_used": 2,
          "standard_of_living_index": 3,
          "wife_age": 44,
          "wife_education": 4,
          "wife_religion": 0
         },
         {
          "contraceptive_method_used": 2,
          "standard_of_living_index": 4,
          "wife_age": 23,
          "wife_education": 4,
          "wife_religion": 0
         },
         {
          "contraceptive_method_used": 1,
          "standard_of_living_index": 4,
          "wife_age": 48,
          "wife_education": 4,
          "wife_religion": 1
         },
         {
          "contraceptive_method_used": 1,
          "standard_of_living_index": 2,
          "wife_age": 44,
          "wife_education": 2,
          "wife_religion": 1
         },
         {
          "contraceptive_method_used": 3,
          "standard_of_living_index": 1,
          "wife_age": 20,
          "wife_education": 2,
          "wife_religion": 1
         },
         {
          "contraceptive_method_used": 3,
          "standard_of_living_index": 4,
          "wife_age": 27,
          "wife_education": 2,
          "wife_religion": 1
         },
         {
          "contraceptive_method_used": 2,
          "standard_of_living_index": 4,
          "wife_age": 47,
          "wife_education": 4,
          "wife_religion": 1
         },
         {
          "contraceptive_method_used": 3,
          "standard_of_living_index": 1,
          "wife_age": 41,
          "wife_education": 1,
          "wife_religion": 1
         },
         {
          "contraceptive_method_used": 2,
          "standard_of_living_index": 4,
          "wife_age": 40,
          "wife_education": 4,
          "wife_religion": 0
         },
         {
          "contraceptive_method_used": 1,
          "standard_of_living_index": 2,
          "wife_age": 40,
          "wife_education": 3,
          "wife_religion": 1
         },
         {
          "contraceptive_method_used": 1,
          "standard_of_living_index": 2,
          "wife_age": 34,
          "wife_education": 4,
          "wife_religion": 0
         },
         {
          "contraceptive_method_used": 1,
          "standard_of_living_index": 3,
          "wife_age": 47,
          "wife_education": 1,
          "wife_religion": 1
         },
         {
          "contraceptive_method_used": 1,
          "standard_of_living_index": 1,
          "wife_age": 28,
          "wife_education": 1,
          "wife_religion": 1
         },
         {
          "contraceptive_method_used": 2,
          "standard_of_living_index": 4,
          "wife_age": 30,
          "wife_education": 2,
          "wife_religion": 1
         },
         {
          "contraceptive_method_used": 1,
          "standard_of_living_index": 4,
          "wife_age": 44,
          "wife_education": 3,
          "wife_religion": 1
         },
         {
          "contraceptive_method_used": 3,
          "standard_of_living_index": 4,
          "wife_age": 25,
          "wife_education": 4,
          "wife_religion": 1
         },
         {
          "contraceptive_method_used": 1,
          "standard_of_living_index": 3,
          "wife_age": 34,
          "wife_education": 4,
          "wife_religion": 0
         },
         {
          "contraceptive_method_used": 1,
          "standard_of_living_index": 3,
          "wife_age": 41,
          "wife_education": 1,
          "wife_religion": 1
         },
         {
          "contraceptive_method_used": 3,
          "standard_of_living_index": 4,
          "wife_age": 35,
          "wife_education": 3,
          "wife_religion": 1
         },
         {
          "contraceptive_method_used": 3,
          "standard_of_living_index": 1,
          "wife_age": 32,
          "wife_education": 2,
          "wife_religion": 1
         },
         {
          "contraceptive_method_used": 1,
          "standard_of_living_index": 4,
          "wife_age": 31,
          "wife_education": 3,
          "wife_religion": 1
         },
         {
          "contraceptive_method_used": 2,
          "standard_of_living_index": 4,
          "wife_age": 45,
          "wife_education": 4,
          "wife_religion": 0
         },
         {
          "contraceptive_method_used": 2,
          "standard_of_living_index": 3,
          "wife_age": 23,
          "wife_education": 3,
          "wife_religion": 1
         },
         {
          "contraceptive_method_used": 2,
          "standard_of_living_index": 4,
          "wife_age": 42,
          "wife_education": 4,
          "wife_religion": 1
         },
         {
          "contraceptive_method_used": 2,
          "standard_of_living_index": 1,
          "wife_age": 25,
          "wife_education": 3,
          "wife_religion": 1
         },
         {
          "contraceptive_method_used": 2,
          "standard_of_living_index": 4,
          "wife_age": 37,
          "wife_education": 2,
          "wife_religion": 1
         },
         {
          "contraceptive_method_used": 1,
          "standard_of_living_index": 2,
          "wife_age": 36,
          "wife_education": 4,
          "wife_religion": 1
         },
         {
          "contraceptive_method_used": 1,
          "standard_of_living_index": 4,
          "wife_age": 28,
          "wife_education": 4,
          "wife_religion": 0
         },
         {
          "contraceptive_method_used": 2,
          "standard_of_living_index": 4,
          "wife_age": 35,
          "wife_education": 4,
          "wife_religion": 1
         },
         {
          "contraceptive_method_used": 1,
          "standard_of_living_index": 4,
          "wife_age": 30,
          "wife_education": 3,
          "wife_religion": 1
         },
         {
          "contraceptive_method_used": 1,
          "standard_of_living_index": 3,
          "wife_age": 48,
          "wife_education": 3,
          "wife_religion": 1
         },
         {
          "contraceptive_method_used": 2,
          "standard_of_living_index": 4,
          "wife_age": 45,
          "wife_education": 4,
          "wife_religion": 1
         },
         {
          "contraceptive_method_used": 3,
          "standard_of_living_index": 4,
          "wife_age": 28,
          "wife_education": 4,
          "wife_religion": 1
         },
         {
          "contraceptive_method_used": 1,
          "standard_of_living_index": 2,
          "wife_age": 21,
          "wife_education": 3,
          "wife_religion": 1
         },
         {
          "contraceptive_method_used": 3,
          "standard_of_living_index": 3,
          "wife_age": 40,
          "wife_education": 2,
          "wife_religion": 1
         },
         {
          "contraceptive_method_used": 3,
          "standard_of_living_index": 4,
          "wife_age": 23,
          "wife_education": 4,
          "wife_religion": 1
         },
         {
          "contraceptive_method_used": 2,
          "standard_of_living_index": 4,
          "wife_age": 44,
          "wife_education": 4,
          "wife_religion": 1
         },
         {
          "contraceptive_method_used": 3,
          "standard_of_living_index": 3,
          "wife_age": 22,
          "wife_education": 3,
          "wife_religion": 1
         },
         {
          "contraceptive_method_used": 3,
          "standard_of_living_index": 1,
          "wife_age": 22,
          "wife_education": 3,
          "wife_religion": 1
         },
         {
          "contraceptive_method_used": 3,
          "standard_of_living_index": 3,
          "wife_age": 43,
          "wife_education": 3,
          "wife_religion": 1
         },
         {
          "contraceptive_method_used": 3,
          "standard_of_living_index": 2,
          "wife_age": 38,
          "wife_education": 3,
          "wife_religion": 1
         },
         {
          "contraceptive_method_used": 1,
          "standard_of_living_index": 4,
          "wife_age": 49,
          "wife_education": 1,
          "wife_religion": 1
         },
         {
          "contraceptive_method_used": 1,
          "standard_of_living_index": 3,
          "wife_age": 43,
          "wife_education": 2,
          "wife_religion": 1
         },
         {
          "contraceptive_method_used": 3,
          "standard_of_living_index": 4,
          "wife_age": 27,
          "wife_education": 3,
          "wife_religion": 1
         },
         {
          "contraceptive_method_used": 1,
          "standard_of_living_index": 4,
          "wife_age": 26,
          "wife_education": 2,
          "wife_religion": 1
         },
         {
          "contraceptive_method_used": 1,
          "standard_of_living_index": 2,
          "wife_age": 43,
          "wife_education": 1,
          "wife_religion": 1
         },
         {
          "contraceptive_method_used": 1,
          "standard_of_living_index": 4,
          "wife_age": 34,
          "wife_education": 4,
          "wife_religion": 0
         },
         {
          "contraceptive_method_used": 3,
          "standard_of_living_index": 4,
          "wife_age": 38,
          "wife_education": 4,
          "wife_religion": 1
         },
         {
          "contraceptive_method_used": 3,
          "standard_of_living_index": 3,
          "wife_age": 29,
          "wife_education": 1,
          "wife_religion": 1
         },
         {
          "contraceptive_method_used": 2,
          "standard_of_living_index": 3,
          "wife_age": 36,
          "wife_education": 3,
          "wife_religion": 1
         },
         {
          "contraceptive_method_used": 1,
          "standard_of_living_index": 1,
          "wife_age": 26,
          "wife_education": 2,
          "wife_religion": 1
         },
         {
          "contraceptive_method_used": 1,
          "standard_of_living_index": 1,
          "wife_age": 24,
          "wife_education": 2,
          "wife_religion": 1
         },
         {
          "contraceptive_method_used": 1,
          "standard_of_living_index": 3,
          "wife_age": 41,
          "wife_education": 2,
          "wife_religion": 1
         },
         {
          "contraceptive_method_used": 3,
          "standard_of_living_index": 4,
          "wife_age": 20,
          "wife_education": 3,
          "wife_religion": 0
         },
         {
          "contraceptive_method_used": 3,
          "standard_of_living_index": 2,
          "wife_age": 32,
          "wife_education": 3,
          "wife_religion": 1
         },
         {
          "contraceptive_method_used": 3,
          "standard_of_living_index": 4,
          "wife_age": 41,
          "wife_education": 4,
          "wife_religion": 1
         },
         {
          "contraceptive_method_used": 3,
          "standard_of_living_index": 4,
          "wife_age": 31,
          "wife_education": 4,
          "wife_religion": 0
         },
         {
          "contraceptive_method_used": 1,
          "standard_of_living_index": 2,
          "wife_age": 25,
          "wife_education": 1,
          "wife_religion": 1
         },
         {
          "contraceptive_method_used": 2,
          "standard_of_living_index": 3,
          "wife_age": 24,
          "wife_education": 4,
          "wife_religion": 1
         },
         {
          "contraceptive_method_used": 1,
          "standard_of_living_index": 3,
          "wife_age": 33,
          "wife_education": 4,
          "wife_religion": 0
         },
         {
          "contraceptive_method_used": 3,
          "standard_of_living_index": 4,
          "wife_age": 22,
          "wife_education": 3,
          "wife_religion": 1
         },
         {
          "contraceptive_method_used": 1,
          "standard_of_living_index": 4,
          "wife_age": 24,
          "wife_education": 2,
          "wife_religion": 1
         },
         {
          "contraceptive_method_used": 2,
          "standard_of_living_index": 3,
          "wife_age": 27,
          "wife_education": 4,
          "wife_religion": 1
         },
         {
          "contraceptive_method_used": 3,
          "standard_of_living_index": 3,
          "wife_age": 21,
          "wife_education": 4,
          "wife_religion": 1
         },
         {
          "contraceptive_method_used": 3,
          "standard_of_living_index": 4,
          "wife_age": 31,
          "wife_education": 4,
          "wife_religion": 1
         },
         {
          "contraceptive_method_used": 2,
          "standard_of_living_index": 4,
          "wife_age": 32,
          "wife_education": 4,
          "wife_religion": 0
         },
         {
          "contraceptive_method_used": 2,
          "standard_of_living_index": 1,
          "wife_age": 36,
          "wife_education": 2,
          "wife_religion": 1
         },
         {
          "contraceptive_method_used": 1,
          "standard_of_living_index": 3,
          "wife_age": 33,
          "wife_education": 4,
          "wife_religion": 1
         },
         {
          "contraceptive_method_used": 1,
          "standard_of_living_index": 3,
          "wife_age": 42,
          "wife_education": 1,
          "wife_religion": 1
         },
         {
          "contraceptive_method_used": 3,
          "standard_of_living_index": 3,
          "wife_age": 21,
          "wife_education": 3,
          "wife_religion": 1
         },
         {
          "contraceptive_method_used": 1,
          "standard_of_living_index": 2,
          "wife_age": 47,
          "wife_education": 1,
          "wife_religion": 1
         },
         {
          "contraceptive_method_used": 1,
          "standard_of_living_index": 2,
          "wife_age": 32,
          "wife_education": 2,
          "wife_religion": 1
         },
         {
          "contraceptive_method_used": 2,
          "standard_of_living_index": 4,
          "wife_age": 36,
          "wife_education": 4,
          "wife_religion": 1
         },
         {
          "contraceptive_method_used": 3,
          "standard_of_living_index": 4,
          "wife_age": 43,
          "wife_education": 4,
          "wife_religion": 1
         },
         {
          "contraceptive_method_used": 1,
          "standard_of_living_index": 2,
          "wife_age": 30,
          "wife_education": 1,
          "wife_religion": 1
         },
         {
          "contraceptive_method_used": 3,
          "standard_of_living_index": 4,
          "wife_age": 42,
          "wife_education": 2,
          "wife_religion": 1
         },
         {
          "contraceptive_method_used": 2,
          "standard_of_living_index": 4,
          "wife_age": 32,
          "wife_education": 4,
          "wife_religion": 1
         },
         {
          "contraceptive_method_used": 1,
          "standard_of_living_index": 2,
          "wife_age": 27,
          "wife_education": 2,
          "wife_religion": 1
         },
         {
          "contraceptive_method_used": 2,
          "standard_of_living_index": 2,
          "wife_age": 43,
          "wife_education": 3,
          "wife_religion": 1
         },
         {
          "contraceptive_method_used": 2,
          "standard_of_living_index": 4,
          "wife_age": 39,
          "wife_education": 4,
          "wife_religion": 0
         },
         {
          "contraceptive_method_used": 3,
          "standard_of_living_index": 4,
          "wife_age": 32,
          "wife_education": 4,
          "wife_religion": 1
         },
         {
          "contraceptive_method_used": 1,
          "standard_of_living_index": 2,
          "wife_age": 35,
          "wife_education": 1,
          "wife_religion": 1
         },
         {
          "contraceptive_method_used": 1,
          "standard_of_living_index": 2,
          "wife_age": 28,
          "wife_education": 2,
          "wife_religion": 1
         },
         {
          "contraceptive_method_used": 3,
          "standard_of_living_index": 4,
          "wife_age": 31,
          "wife_education": 3,
          "wife_religion": 1
         },
         {
          "contraceptive_method_used": 1,
          "standard_of_living_index": 2,
          "wife_age": 26,
          "wife_education": 3,
          "wife_religion": 1
         },
         {
          "contraceptive_method_used": 3,
          "standard_of_living_index": 1,
          "wife_age": 27,
          "wife_education": 2,
          "wife_religion": 1
         },
         {
          "contraceptive_method_used": 3,
          "standard_of_living_index": 2,
          "wife_age": 29,
          "wife_education": 3,
          "wife_religion": 1
         },
         {
          "contraceptive_method_used": 1,
          "standard_of_living_index": 2,
          "wife_age": 43,
          "wife_education": 1,
          "wife_religion": 1
         },
         {
          "contraceptive_method_used": 1,
          "standard_of_living_index": 4,
          "wife_age": 32,
          "wife_education": 3,
          "wife_religion": 1
         },
         {
          "contraceptive_method_used": 3,
          "standard_of_living_index": 1,
          "wife_age": 17,
          "wife_education": 3,
          "wife_religion": 1
         },
         {
          "contraceptive_method_used": 1,
          "standard_of_living_index": 4,
          "wife_age": 42,
          "wife_education": 2,
          "wife_religion": 1
         },
         {
          "contraceptive_method_used": 1,
          "standard_of_living_index": 4,
          "wife_age": 28,
          "wife_education": 4,
          "wife_religion": 1
         },
         {
          "contraceptive_method_used": 1,
          "standard_of_living_index": 3,
          "wife_age": 29,
          "wife_education": 4,
          "wife_religion": 1
         },
         {
          "contraceptive_method_used": 2,
          "standard_of_living_index": 3,
          "wife_age": 32,
          "wife_education": 3,
          "wife_religion": 1
         },
         {
          "contraceptive_method_used": 2,
          "standard_of_living_index": 3,
          "wife_age": 26,
          "wife_education": 3,
          "wife_religion": 1
         },
         {
          "contraceptive_method_used": 3,
          "standard_of_living_index": 4,
          "wife_age": 37,
          "wife_education": 3,
          "wife_religion": 1
         },
         {
          "contraceptive_method_used": 1,
          "standard_of_living_index": 2,
          "wife_age": 20,
          "wife_education": 3,
          "wife_religion": 1
         },
         {
          "contraceptive_method_used": 3,
          "standard_of_living_index": 2,
          "wife_age": 29,
          "wife_education": 3,
          "wife_religion": 1
         },
         {
          "contraceptive_method_used": 1,
          "standard_of_living_index": 4,
          "wife_age": 40,
          "wife_education": 4,
          "wife_religion": 1
         },
         {
          "contraceptive_method_used": 3,
          "standard_of_living_index": 4,
          "wife_age": 35,
          "wife_education": 3,
          "wife_religion": 1
         },
         {
          "contraceptive_method_used": 3,
          "standard_of_living_index": 4,
          "wife_age": 37,
          "wife_education": 3,
          "wife_religion": 0
         },
         {
          "contraceptive_method_used": 2,
          "standard_of_living_index": 3,
          "wife_age": 41,
          "wife_education": 4,
          "wife_religion": 1
         },
         {
          "contraceptive_method_used": 2,
          "standard_of_living_index": 4,
          "wife_age": 26,
          "wife_education": 4,
          "wife_religion": 0
         },
         {
          "contraceptive_method_used": 1,
          "standard_of_living_index": 4,
          "wife_age": 29,
          "wife_education": 1,
          "wife_religion": 1
         },
         {
          "contraceptive_method_used": 3,
          "standard_of_living_index": 4,
          "wife_age": 32,
          "wife_education": 4,
          "wife_religion": 0
         },
         {
          "contraceptive_method_used": 3,
          "standard_of_living_index": 4,
          "wife_age": 24,
          "wife_education": 2,
          "wife_religion": 1
         },
         {
          "contraceptive_method_used": 2,
          "standard_of_living_index": 4,
          "wife_age": 42,
          "wife_education": 4,
          "wife_religion": 1
         },
         {
          "contraceptive_method_used": 3,
          "standard_of_living_index": 4,
          "wife_age": 30,
          "wife_education": 4,
          "wife_religion": 0
         },
         {
          "contraceptive_method_used": 1,
          "standard_of_living_index": 4,
          "wife_age": 39,
          "wife_education": 3,
          "wife_religion": 1
         },
         {
          "contraceptive_method_used": 1,
          "standard_of_living_index": 4,
          "wife_age": 26,
          "wife_education": 4,
          "wife_religion": 1
         },
         {
          "contraceptive_method_used": 3,
          "standard_of_living_index": 2,
          "wife_age": 34,
          "wife_education": 2,
          "wife_religion": 0
         },
         {
          "contraceptive_method_used": 3,
          "standard_of_living_index": 3,
          "wife_age": 27,
          "wife_education": 3,
          "wife_religion": 1
         },
         {
          "contraceptive_method_used": 3,
          "standard_of_living_index": 1,
          "wife_age": 29,
          "wife_education": 3,
          "wife_religion": 1
         },
         {
          "contraceptive_method_used": 1,
          "standard_of_living_index": 4,
          "wife_age": 29,
          "wife_education": 2,
          "wife_religion": 1
         },
         {
          "contraceptive_method_used": 1,
          "standard_of_living_index": 3,
          "wife_age": 28,
          "wife_education": 4,
          "wife_religion": 0
         },
         {
          "contraceptive_method_used": 1,
          "standard_of_living_index": 1,
          "wife_age": 29,
          "wife_education": 2,
          "wife_religion": 1
         },
         {
          "contraceptive_method_used": 2,
          "standard_of_living_index": 3,
          "wife_age": 31,
          "wife_education": 4,
          "wife_religion": 1
         },
         {
          "contraceptive_method_used": 3,
          "standard_of_living_index": 4,
          "wife_age": 35,
          "wife_education": 4,
          "wife_religion": 0
         },
         {
          "contraceptive_method_used": 3,
          "standard_of_living_index": 4,
          "wife_age": 22,
          "wife_education": 3,
          "wife_religion": 0
         },
         {
          "contraceptive_method_used": 2,
          "standard_of_living_index": 4,
          "wife_age": 28,
          "wife_education": 3,
          "wife_religion": 1
         },
         {
          "contraceptive_method_used": 3,
          "standard_of_living_index": 3,
          "wife_age": 21,
          "wife_education": 4,
          "wife_religion": 1
         },
         {
          "contraceptive_method_used": 3,
          "standard_of_living_index": 4,
          "wife_age": 30,
          "wife_education": 3,
          "wife_religion": 1
         },
         {
          "contraceptive_method_used": 3,
          "standard_of_living_index": 1,
          "wife_age": 19,
          "wife_education": 3,
          "wife_religion": 1
         },
         {
          "contraceptive_method_used": 1,
          "standard_of_living_index": 1,
          "wife_age": 27,
          "wife_education": 2,
          "wife_religion": 1
         },
         {
          "contraceptive_method_used": 1,
          "standard_of_living_index": 4,
          "wife_age": 31,
          "wife_education": 3,
          "wife_religion": 0
         },
         {
          "contraceptive_method_used": 1,
          "standard_of_living_index": 4,
          "wife_age": 37,
          "wife_education": 1,
          "wife_religion": 1
         },
         {
          "contraceptive_method_used": 1,
          "standard_of_living_index": 4,
          "wife_age": 32,
          "wife_education": 3,
          "wife_religion": 1
         },
         {
          "contraceptive_method_used": 2,
          "standard_of_living_index": 4,
          "wife_age": 26,
          "wife_education": 4,
          "wife_religion": 1
         },
         {
          "contraceptive_method_used": 1,
          "standard_of_living_index": 2,
          "wife_age": 42,
          "wife_education": 3,
          "wife_religion": 1
         },
         {
          "contraceptive_method_used": 1,
          "standard_of_living_index": 1,
          "wife_age": 26,
          "wife_education": 2,
          "wife_religion": 1
         },
         {
          "contraceptive_method_used": 1,
          "standard_of_living_index": 1,
          "wife_age": 46,
          "wife_education": 1,
          "wife_religion": 1
         },
         {
          "contraceptive_method_used": 3,
          "standard_of_living_index": 4,
          "wife_age": 36,
          "wife_education": 4,
          "wife_religion": 0
         },
         {
          "contraceptive_method_used": 1,
          "standard_of_living_index": 4,
          "wife_age": 27,
          "wife_education": 1,
          "wife_religion": 1
         },
         {
          "contraceptive_method_used": 1,
          "standard_of_living_index": 2,
          "wife_age": 45,
          "wife_education": 1,
          "wife_religion": 1
         },
         {
          "contraceptive_method_used": 3,
          "standard_of_living_index": 4,
          "wife_age": 33,
          "wife_education": 2,
          "wife_religion": 1
         },
         {
          "contraceptive_method_used": 3,
          "standard_of_living_index": 1,
          "wife_age": 25,
          "wife_education": 2,
          "wife_religion": 1
         },
         {
          "contraceptive_method_used": 1,
          "standard_of_living_index": 1,
          "wife_age": 30,
          "wife_education": 1,
          "wife_religion": 1
         },
         {
          "contraceptive_method_used": 1,
          "standard_of_living_index": 2,
          "wife_age": 17,
          "wife_education": 2,
          "wife_religion": 1
         },
         {
          "contraceptive_method_used": 1,
          "standard_of_living_index": 3,
          "wife_age": 22,
          "wife_education": 4,
          "wife_religion": 1
         },
         {
          "contraceptive_method_used": 1,
          "standard_of_living_index": 4,
          "wife_age": 21,
          "wife_education": 4,
          "wife_religion": 1
         },
         {
          "contraceptive_method_used": 1,
          "standard_of_living_index": 4,
          "wife_age": 33,
          "wife_education": 4,
          "wife_religion": 0
         },
         {
          "contraceptive_method_used": 2,
          "standard_of_living_index": 4,
          "wife_age": 21,
          "wife_education": 3,
          "wife_religion": 1
         },
         {
          "contraceptive_method_used": 1,
          "standard_of_living_index": 4,
          "wife_age": 21,
          "wife_education": 4,
          "wife_religion": 1
         },
         {
          "contraceptive_method_used": 1,
          "standard_of_living_index": 3,
          "wife_age": 22,
          "wife_education": 2,
          "wife_religion": 1
         },
         {
          "contraceptive_method_used": 3,
          "standard_of_living_index": 4,
          "wife_age": 26,
          "wife_education": 3,
          "wife_religion": 1
         },
         {
          "contraceptive_method_used": 1,
          "standard_of_living_index": 1,
          "wife_age": 22,
          "wife_education": 4,
          "wife_religion": 1
         },
         {
          "contraceptive_method_used": 1,
          "standard_of_living_index": 3,
          "wife_age": 34,
          "wife_education": 4,
          "wife_religion": 1
         },
         {
          "contraceptive_method_used": 3,
          "standard_of_living_index": 4,
          "wife_age": 27,
          "wife_education": 4,
          "wife_religion": 1
         },
         {
          "contraceptive_method_used": 2,
          "standard_of_living_index": 4,
          "wife_age": 29,
          "wife_education": 4,
          "wife_religion": 1
         },
         {
          "contraceptive_method_used": 2,
          "standard_of_living_index": 3,
          "wife_age": 35,
          "wife_education": 3,
          "wife_religion": 1
         },
         {
          "contraceptive_method_used": 1,
          "standard_of_living_index": 4,
          "wife_age": 29,
          "wife_education": 3,
          "wife_religion": 1
         },
         {
          "contraceptive_method_used": 1,
          "standard_of_living_index": 3,
          "wife_age": 23,
          "wife_education": 4,
          "wife_religion": 1
         },
         {
          "contraceptive_method_used": 2,
          "standard_of_living_index": 3,
          "wife_age": 35,
          "wife_education": 3,
          "wife_religion": 1
         },
         {
          "contraceptive_method_used": 3,
          "standard_of_living_index": 4,
          "wife_age": 32,
          "wife_education": 4,
          "wife_religion": 1
         },
         {
          "contraceptive_method_used": 1,
          "standard_of_living_index": 2,
          "wife_age": 25,
          "wife_education": 3,
          "wife_religion": 1
         },
         {
          "contraceptive_method_used": 1,
          "standard_of_living_index": 2,
          "wife_age": 25,
          "wife_education": 2,
          "wife_religion": 1
         },
         {
          "contraceptive_method_used": 3,
          "standard_of_living_index": 4,
          "wife_age": 33,
          "wife_education": 2,
          "wife_religion": 1
         },
         {
          "contraceptive_method_used": 2,
          "standard_of_living_index": 4,
          "wife_age": 30,
          "wife_education": 2,
          "wife_religion": 1
         },
         {
          "contraceptive_method_used": 2,
          "standard_of_living_index": 3,
          "wife_age": 28,
          "wife_education": 2,
          "wife_religion": 1
         },
         {
          "contraceptive_method_used": 2,
          "standard_of_living_index": 3,
          "wife_age": 29,
          "wife_education": 4,
          "wife_religion": 1
         },
         {
          "contraceptive_method_used": 1,
          "standard_of_living_index": 3,
          "wife_age": 21,
          "wife_education": 4,
          "wife_religion": 1
         },
         {
          "contraceptive_method_used": 1,
          "standard_of_living_index": 1,
          "wife_age": 25,
          "wife_education": 2,
          "wife_religion": 1
         },
         {
          "contraceptive_method_used": 2,
          "standard_of_living_index": 3,
          "wife_age": 42,
          "wife_education": 4,
          "wife_religion": 1
         },
         {
          "contraceptive_method_used": 1,
          "standard_of_living_index": 3,
          "wife_age": 44,
          "wife_education": 1,
          "wife_religion": 1
         },
         {
          "contraceptive_method_used": 1,
          "standard_of_living_index": 3,
          "wife_age": 47,
          "wife_education": 1,
          "wife_religion": 1
         },
         {
          "contraceptive_method_used": 1,
          "standard_of_living_index": 1,
          "wife_age": 37,
          "wife_education": 3,
          "wife_religion": 1
         },
         {
          "contraceptive_method_used": 3,
          "standard_of_living_index": 3,
          "wife_age": 27,
          "wife_education": 3,
          "wife_religion": 1
         },
         {
          "contraceptive_method_used": 1,
          "standard_of_living_index": 4,
          "wife_age": 47,
          "wife_education": 1,
          "wife_religion": 1
         },
         {
          "contraceptive_method_used": 3,
          "standard_of_living_index": 3,
          "wife_age": 25,
          "wife_education": 4,
          "wife_religion": 1
         },
         {
          "contraceptive_method_used": 2,
          "standard_of_living_index": 4,
          "wife_age": 36,
          "wife_education": 4,
          "wife_religion": 1
         },
         {
          "contraceptive_method_used": 1,
          "standard_of_living_index": 4,
          "wife_age": 19,
          "wife_education": 4,
          "wife_religion": 0
         },
         {
          "contraceptive_method_used": 1,
          "standard_of_living_index": 4,
          "wife_age": 46,
          "wife_education": 4,
          "wife_religion": 1
         },
         {
          "contraceptive_method_used": 1,
          "standard_of_living_index": 1,
          "wife_age": 24,
          "wife_education": 3,
          "wife_religion": 1
         },
         {
          "contraceptive_method_used": 3,
          "standard_of_living_index": 4,
          "wife_age": 25,
          "wife_education": 2,
          "wife_religion": 1
         },
         {
          "contraceptive_method_used": 3,
          "standard_of_living_index": 4,
          "wife_age": 33,
          "wife_education": 4,
          "wife_religion": 1
         },
         {
          "contraceptive_method_used": 3,
          "standard_of_living_index": 4,
          "wife_age": 28,
          "wife_education": 2,
          "wife_religion": 1
         },
         {
          "contraceptive_method_used": 3,
          "standard_of_living_index": 2,
          "wife_age": 32,
          "wife_education": 1,
          "wife_religion": 1
         },
         {
          "contraceptive_method_used": 3,
          "standard_of_living_index": 4,
          "wife_age": 20,
          "wife_education": 3,
          "wife_religion": 1
         },
         {
          "contraceptive_method_used": 1,
          "standard_of_living_index": 4,
          "wife_age": 32,
          "wife_education": 4,
          "wife_religion": 1
         },
         {
          "contraceptive_method_used": 1,
          "standard_of_living_index": 3,
          "wife_age": 21,
          "wife_education": 3,
          "wife_religion": 1
         },
         {
          "contraceptive_method_used": 3,
          "standard_of_living_index": 4,
          "wife_age": 31,
          "wife_education": 4,
          "wife_religion": 1
         },
         {
          "contraceptive_method_used": 2,
          "standard_of_living_index": 3,
          "wife_age": 28,
          "wife_education": 3,
          "wife_religion": 0
         },
         {
          "contraceptive_method_used": 3,
          "standard_of_living_index": 2,
          "wife_age": 30,
          "wife_education": 2,
          "wife_religion": 1
         },
         {
          "contraceptive_method_used": 3,
          "standard_of_living_index": 3,
          "wife_age": 24,
          "wife_education": 2,
          "wife_religion": 1
         },
         {
          "contraceptive_method_used": 1,
          "standard_of_living_index": 3,
          "wife_age": 40,
          "wife_education": 3,
          "wife_religion": 1
         },
         {
          "contraceptive_method_used": 1,
          "standard_of_living_index": 2,
          "wife_age": 21,
          "wife_education": 1,
          "wife_religion": 1
         },
         {
          "contraceptive_method_used": 1,
          "standard_of_living_index": 3,
          "wife_age": 47,
          "wife_education": 2,
          "wife_religion": 1
         },
         {
          "contraceptive_method_used": 3,
          "standard_of_living_index": 2,
          "wife_age": 35,
          "wife_education": 2,
          "wife_religion": 1
         },
         {
          "contraceptive_method_used": 3,
          "standard_of_living_index": 2,
          "wife_age": 40,
          "wife_education": 3,
          "wife_religion": 1
         },
         {
          "contraceptive_method_used": 3,
          "standard_of_living_index": 3,
          "wife_age": 36,
          "wife_education": 2,
          "wife_religion": 1
         },
         {
          "contraceptive_method_used": 1,
          "standard_of_living_index": 4,
          "wife_age": 37,
          "wife_education": 2,
          "wife_religion": 0
         },
         {
          "contraceptive_method_used": 3,
          "standard_of_living_index": 4,
          "wife_age": 46,
          "wife_education": 4,
          "wife_religion": 1
         },
         {
          "contraceptive_method_used": 2,
          "standard_of_living_index": 4,
          "wife_age": 49,
          "wife_education": 3,
          "wife_religion": 1
         },
         {
          "contraceptive_method_used": 2,
          "standard_of_living_index": 2,
          "wife_age": 36,
          "wife_education": 3,
          "wife_religion": 1
         },
         {
          "contraceptive_method_used": 3,
          "standard_of_living_index": 3,
          "wife_age": 47,
          "wife_education": 1,
          "wife_religion": 1
         },
         {
          "contraceptive_method_used": 1,
          "standard_of_living_index": 1,
          "wife_age": 47,
          "wife_education": 2,
          "wife_religion": 1
         },
         {
          "contraceptive_method_used": 1,
          "standard_of_living_index": 3,
          "wife_age": 31,
          "wife_education": 3,
          "wife_religion": 1
         },
         {
          "contraceptive_method_used": 3,
          "standard_of_living_index": 3,
          "wife_age": 25,
          "wife_education": 3,
          "wife_religion": 1
         },
         {
          "contraceptive_method_used": 3,
          "standard_of_living_index": 2,
          "wife_age": 35,
          "wife_education": 2,
          "wife_religion": 1
         },
         {
          "contraceptive_method_used": 1,
          "standard_of_living_index": 3,
          "wife_age": 35,
          "wife_education": 4,
          "wife_religion": 1
         },
         {
          "contraceptive_method_used": 3,
          "standard_of_living_index": 1,
          "wife_age": 21,
          "wife_education": 3,
          "wife_religion": 1
         },
         {
          "contraceptive_method_used": 1,
          "standard_of_living_index": 3,
          "wife_age": 38,
          "wife_education": 2,
          "wife_religion": 1
         },
         {
          "contraceptive_method_used": 3,
          "standard_of_living_index": 4,
          "wife_age": 37,
          "wife_education": 4,
          "wife_religion": 1
         },
         {
          "contraceptive_method_used": 1,
          "standard_of_living_index": 4,
          "wife_age": 36,
          "wife_education": 4,
          "wife_religion": 1
         },
         {
          "contraceptive_method_used": 3,
          "standard_of_living_index": 4,
          "wife_age": 33,
          "wife_education": 3,
          "wife_religion": 1
         },
         {
          "contraceptive_method_used": 3,
          "standard_of_living_index": 4,
          "wife_age": 33,
          "wife_education": 4,
          "wife_religion": 1
         },
         {
          "contraceptive_method_used": 2,
          "standard_of_living_index": 4,
          "wife_age": 38,
          "wife_education": 4,
          "wife_religion": 1
         },
         {
          "contraceptive_method_used": 2,
          "standard_of_living_index": 4,
          "wife_age": 36,
          "wife_education": 4,
          "wife_religion": 0
         },
         {
          "contraceptive_method_used": 1,
          "standard_of_living_index": 1,
          "wife_age": 22,
          "wife_education": 2,
          "wife_religion": 1
         },
         {
          "contraceptive_method_used": 3,
          "standard_of_living_index": 2,
          "wife_age": 27,
          "wife_education": 3,
          "wife_religion": 1
         },
         {
          "contraceptive_method_used": 1,
          "standard_of_living_index": 3,
          "wife_age": 19,
          "wife_education": 4,
          "wife_religion": 1
         },
         {
          "contraceptive_method_used": 1,
          "standard_of_living_index": 4,
          "wife_age": 28,
          "wife_education": 4,
          "wife_religion": 0
         },
         {
          "contraceptive_method_used": 3,
          "standard_of_living_index": 4,
          "wife_age": 33,
          "wife_education": 4,
          "wife_religion": 1
         },
         {
          "contraceptive_method_used": 1,
          "standard_of_living_index": 3,
          "wife_age": 34,
          "wife_education": 3,
          "wife_religion": 1
         },
         {
          "contraceptive_method_used": 3,
          "standard_of_living_index": 3,
          "wife_age": 33,
          "wife_education": 2,
          "wife_religion": 1
         },
         {
          "contraceptive_method_used": 3,
          "standard_of_living_index": 4,
          "wife_age": 40,
          "wife_education": 4,
          "wife_religion": 1
         },
         {
          "contraceptive_method_used": 2,
          "standard_of_living_index": 4,
          "wife_age": 38,
          "wife_education": 4,
          "wife_religion": 0
         },
         {
          "contraceptive_method_used": 3,
          "standard_of_living_index": 3,
          "wife_age": 20,
          "wife_education": 3,
          "wife_religion": 1
         },
         {
          "contraceptive_method_used": 1,
          "standard_of_living_index": 2,
          "wife_age": 36,
          "wife_education": 3,
          "wife_religion": 1
         },
         {
          "contraceptive_method_used": 1,
          "standard_of_living_index": 4,
          "wife_age": 39,
          "wife_education": 4,
          "wife_religion": 1
         },
         {
          "contraceptive_method_used": 1,
          "standard_of_living_index": 2,
          "wife_age": 29,
          "wife_education": 4,
          "wife_religion": 1
         },
         {
          "contraceptive_method_used": 1,
          "standard_of_living_index": 4,
          "wife_age": 28,
          "wife_education": 4,
          "wife_religion": 0
         },
         {
          "contraceptive_method_used": 1,
          "standard_of_living_index": 4,
          "wife_age": 26,
          "wife_education": 4,
          "wife_religion": 1
         },
         {
          "contraceptive_method_used": 1,
          "standard_of_living_index": 3,
          "wife_age": 49,
          "wife_education": 2,
          "wife_religion": 0
         },
         {
          "contraceptive_method_used": 3,
          "standard_of_living_index": 4,
          "wife_age": 29,
          "wife_education": 4,
          "wife_religion": 1
         },
         {
          "contraceptive_method_used": 1,
          "standard_of_living_index": 1,
          "wife_age": 46,
          "wife_education": 1,
          "wife_religion": 1
         },
         {
          "contraceptive_method_used": 2,
          "standard_of_living_index": 4,
          "wife_age": 38,
          "wife_education": 4,
          "wife_religion": 1
         },
         {
          "contraceptive_method_used": 1,
          "standard_of_living_index": 4,
          "wife_age": 29,
          "wife_education": 4,
          "wife_religion": 1
         },
         {
          "contraceptive_method_used": 3,
          "standard_of_living_index": 3,
          "wife_age": 19,
          "wife_education": 2,
          "wife_religion": 1
         },
         {
          "contraceptive_method_used": 3,
          "standard_of_living_index": 3,
          "wife_age": 25,
          "wife_education": 3,
          "wife_religion": 1
         },
         {
          "contraceptive_method_used": 1,
          "standard_of_living_index": 3,
          "wife_age": 22,
          "wife_education": 3,
          "wife_religion": 1
         },
         {
          "contraceptive_method_used": 3,
          "standard_of_living_index": 4,
          "wife_age": 46,
          "wife_education": 4,
          "wife_religion": 0
         },
         {
          "contraceptive_method_used": 3,
          "standard_of_living_index": 2,
          "wife_age": 29,
          "wife_education": 2,
          "wife_religion": 1
         },
         {
          "contraceptive_method_used": 1,
          "standard_of_living_index": 4,
          "wife_age": 32,
          "wife_education": 2,
          "wife_religion": 1
         },
         {
          "contraceptive_method_used": 3,
          "standard_of_living_index": 4,
          "wife_age": 46,
          "wife_education": 2,
          "wife_religion": 1
         },
         {
          "contraceptive_method_used": 2,
          "standard_of_living_index": 3,
          "wife_age": 34,
          "wife_education": 3,
          "wife_religion": 0
         },
         {
          "contraceptive_method_used": 1,
          "standard_of_living_index": 3,
          "wife_age": 45,
          "wife_education": 3,
          "wife_religion": 1
         },
         {
          "contraceptive_method_used": 1,
          "standard_of_living_index": 3,
          "wife_age": 27,
          "wife_education": 3,
          "wife_religion": 1
         },
         {
          "contraceptive_method_used": 1,
          "standard_of_living_index": 4,
          "wife_age": 49,
          "wife_education": 3,
          "wife_religion": 1
         },
         {
          "contraceptive_method_used": 1,
          "standard_of_living_index": 3,
          "wife_age": 34,
          "wife_education": 2,
          "wife_religion": 1
         },
         {
          "contraceptive_method_used": 2,
          "standard_of_living_index": 4,
          "wife_age": 37,
          "wife_education": 4,
          "wife_religion": 1
         },
         {
          "contraceptive_method_used": 1,
          "standard_of_living_index": 3,
          "wife_age": 39,
          "wife_education": 3,
          "wife_religion": 1
         },
         {
          "contraceptive_method_used": 1,
          "standard_of_living_index": 4,
          "wife_age": 44,
          "wife_education": 4,
          "wife_religion": 0
         },
         {
          "contraceptive_method_used": 1,
          "standard_of_living_index": 4,
          "wife_age": 47,
          "wife_education": 3,
          "wife_religion": 1
         },
         {
          "contraceptive_method_used": 1,
          "standard_of_living_index": 3,
          "wife_age": 36,
          "wife_education": 2,
          "wife_religion": 1
         },
         {
          "contraceptive_method_used": 1,
          "standard_of_living_index": 3,
          "wife_age": 44,
          "wife_education": 3,
          "wife_religion": 1
         },
         {
          "contraceptive_method_used": 3,
          "standard_of_living_index": 2,
          "wife_age": 34,
          "wife_education": 4,
          "wife_religion": 1
         },
         {
          "contraceptive_method_used": 1,
          "standard_of_living_index": 4,
          "wife_age": 22,
          "wife_education": 3,
          "wife_religion": 1
         },
         {
          "contraceptive_method_used": 1,
          "standard_of_living_index": 2,
          "wife_age": 20,
          "wife_education": 2,
          "wife_religion": 0
         },
         {
          "contraceptive_method_used": 2,
          "standard_of_living_index": 4,
          "wife_age": 48,
          "wife_education": 4,
          "wife_religion": 1
         },
         {
          "contraceptive_method_used": 1,
          "standard_of_living_index": 3,
          "wife_age": 38,
          "wife_education": 1,
          "wife_religion": 1
         },
         {
          "contraceptive_method_used": 2,
          "standard_of_living_index": 3,
          "wife_age": 26,
          "wife_education": 4,
          "wife_religion": 1
         },
         {
          "contraceptive_method_used": 1,
          "standard_of_living_index": 3,
          "wife_age": 20,
          "wife_education": 3,
          "wife_religion": 1
         },
         {
          "contraceptive_method_used": 2,
          "standard_of_living_index": 4,
          "wife_age": 41,
          "wife_education": 4,
          "wife_religion": 1
         },
         {
          "contraceptive_method_used": 1,
          "standard_of_living_index": 3,
          "wife_age": 44,
          "wife_education": 1,
          "wife_religion": 1
         },
         {
          "contraceptive_method_used": 1,
          "standard_of_living_index": 4,
          "wife_age": 37,
          "wife_education": 4,
          "wife_religion": 0
         },
         {
          "contraceptive_method_used": 3,
          "standard_of_living_index": 3,
          "wife_age": 27,
          "wife_education": 3,
          "wife_religion": 1
         },
         {
          "contraceptive_method_used": 1,
          "standard_of_living_index": 4,
          "wife_age": 22,
          "wife_education": 1,
          "wife_religion": 1
         },
         {
          "contraceptive_method_used": 3,
          "standard_of_living_index": 4,
          "wife_age": 35,
          "wife_education": 1,
          "wife_religion": 1
         },
         {
          "contraceptive_method_used": 3,
          "standard_of_living_index": 3,
          "wife_age": 48,
          "wife_education": 3,
          "wife_religion": 1
         },
         {
          "contraceptive_method_used": 1,
          "standard_of_living_index": 1,
          "wife_age": 27,
          "wife_education": 1,
          "wife_religion": 1
         },
         {
          "contraceptive_method_used": 1,
          "standard_of_living_index": 3,
          "wife_age": 27,
          "wife_education": 3,
          "wife_religion": 1
         },
         {
          "contraceptive_method_used": 3,
          "standard_of_living_index": 2,
          "wife_age": 27,
          "wife_education": 3,
          "wife_religion": 1
         },
         {
          "contraceptive_method_used": 1,
          "standard_of_living_index": 3,
          "wife_age": 43,
          "wife_education": 2,
          "wife_religion": 0
         },
         {
          "contraceptive_method_used": 3,
          "standard_of_living_index": 4,
          "wife_age": 30,
          "wife_education": 4,
          "wife_religion": 1
         },
         {
          "contraceptive_method_used": 3,
          "standard_of_living_index": 4,
          "wife_age": 29,
          "wife_education": 4,
          "wife_religion": 1
         },
         {
          "contraceptive_method_used": 3,
          "standard_of_living_index": 2,
          "wife_age": 30,
          "wife_education": 3,
          "wife_religion": 1
         },
         {
          "contraceptive_method_used": 2,
          "standard_of_living_index": 4,
          "wife_age": 42,
          "wife_education": 4,
          "wife_religion": 1
         },
         {
          "contraceptive_method_used": 1,
          "standard_of_living_index": 4,
          "wife_age": 25,
          "wife_education": 4,
          "wife_religion": 1
         },
         {
          "contraceptive_method_used": 1,
          "standard_of_living_index": 3,
          "wife_age": 23,
          "wife_education": 3,
          "wife_religion": 1
         },
         {
          "contraceptive_method_used": 2,
          "standard_of_living_index": 3,
          "wife_age": 22,
          "wife_education": 4,
          "wife_religion": 1
         },
         {
          "contraceptive_method_used": 3,
          "standard_of_living_index": 3,
          "wife_age": 33,
          "wife_education": 2,
          "wife_religion": 1
         },
         {
          "contraceptive_method_used": 2,
          "standard_of_living_index": 4,
          "wife_age": 27,
          "wife_education": 4,
          "wife_religion": 1
         },
         {
          "contraceptive_method_used": 2,
          "standard_of_living_index": 4,
          "wife_age": 39,
          "wife_education": 4,
          "wife_religion": 1
         },
         {
          "contraceptive_method_used": 1,
          "standard_of_living_index": 4,
          "wife_age": 30,
          "wife_education": 2,
          "wife_religion": 1
         },
         {
          "contraceptive_method_used": 1,
          "standard_of_living_index": 4,
          "wife_age": 42,
          "wife_education": 4,
          "wife_religion": 1
         },
         {
          "contraceptive_method_used": 2,
          "standard_of_living_index": 4,
          "wife_age": 17,
          "wife_education": 4,
          "wife_religion": 1
         },
         {
          "contraceptive_method_used": 1,
          "standard_of_living_index": 3,
          "wife_age": 24,
          "wife_education": 2,
          "wife_religion": 1
         },
         {
          "contraceptive_method_used": 3,
          "standard_of_living_index": 4,
          "wife_age": 41,
          "wife_education": 3,
          "wife_religion": 0
         },
         {
          "contraceptive_method_used": 1,
          "standard_of_living_index": 3,
          "wife_age": 45,
          "wife_education": 1,
          "wife_religion": 1
         },
         {
          "contraceptive_method_used": 1,
          "standard_of_living_index": 4,
          "wife_age": 38,
          "wife_education": 4,
          "wife_religion": 1
         },
         {
          "contraceptive_method_used": 2,
          "standard_of_living_index": 4,
          "wife_age": 42,
          "wife_education": 2,
          "wife_religion": 1
         },
         {
          "contraceptive_method_used": 2,
          "standard_of_living_index": 3,
          "wife_age": 23,
          "wife_education": 4,
          "wife_religion": 1
         },
         {
          "contraceptive_method_used": 3,
          "standard_of_living_index": 3,
          "wife_age": 21,
          "wife_education": 3,
          "wife_religion": 1
         },
         {
          "contraceptive_method_used": 3,
          "standard_of_living_index": 2,
          "wife_age": 25,
          "wife_education": 2,
          "wife_religion": 1
         },
         {
          "contraceptive_method_used": 3,
          "standard_of_living_index": 3,
          "wife_age": 25,
          "wife_education": 2,
          "wife_religion": 1
         },
         {
          "contraceptive_method_used": 1,
          "standard_of_living_index": 1,
          "wife_age": 44,
          "wife_education": 1,
          "wife_religion": 1
         },
         {
          "contraceptive_method_used": 3,
          "standard_of_living_index": 2,
          "wife_age": 23,
          "wife_education": 3,
          "wife_religion": 1
         },
         {
          "contraceptive_method_used": 3,
          "standard_of_living_index": 4,
          "wife_age": 44,
          "wife_education": 4,
          "wife_religion": 1
         },
         {
          "contraceptive_method_used": 1,
          "standard_of_living_index": 4,
          "wife_age": 25,
          "wife_education": 3,
          "wife_religion": 1
         },
         {
          "contraceptive_method_used": 3,
          "standard_of_living_index": 3,
          "wife_age": 30,
          "wife_education": 4,
          "wife_religion": 0
         },
         {
          "contraceptive_method_used": 1,
          "standard_of_living_index": 4,
          "wife_age": 35,
          "wife_education": 2,
          "wife_religion": 1
         },
         {
          "contraceptive_method_used": 3,
          "standard_of_living_index": 4,
          "wife_age": 36,
          "wife_education": 4,
          "wife_religion": 0
         },
         {
          "contraceptive_method_used": 1,
          "standard_of_living_index": 4,
          "wife_age": 46,
          "wife_education": 2,
          "wife_religion": 1
         },
         {
          "contraceptive_method_used": 1,
          "standard_of_living_index": 4,
          "wife_age": 47,
          "wife_education": 4,
          "wife_religion": 1
         },
         {
          "contraceptive_method_used": 1,
          "standard_of_living_index": 1,
          "wife_age": 25,
          "wife_education": 3,
          "wife_religion": 1
         },
         {
          "contraceptive_method_used": 1,
          "standard_of_living_index": 3,
          "wife_age": 21,
          "wife_education": 3,
          "wife_religion": 1
         },
         {
          "contraceptive_method_used": 3,
          "standard_of_living_index": 2,
          "wife_age": 26,
          "wife_education": 1,
          "wife_religion": 1
         },
         {
          "contraceptive_method_used": 1,
          "standard_of_living_index": 3,
          "wife_age": 28,
          "wife_education": 4,
          "wife_religion": 0
         },
         {
          "contraceptive_method_used": 1,
          "standard_of_living_index": 2,
          "wife_age": 21,
          "wife_education": 2,
          "wife_religion": 1
         },
         {
          "contraceptive_method_used": 3,
          "standard_of_living_index": 2,
          "wife_age": 20,
          "wife_education": 3,
          "wife_religion": 1
         },
         {
          "contraceptive_method_used": 3,
          "standard_of_living_index": 4,
          "wife_age": 35,
          "wife_education": 3,
          "wife_religion": 1
         },
         {
          "contraceptive_method_used": 1,
          "standard_of_living_index": 4,
          "wife_age": 43,
          "wife_education": 4,
          "wife_religion": 1
         },
         {
          "contraceptive_method_used": 3,
          "standard_of_living_index": 3,
          "wife_age": 27,
          "wife_education": 4,
          "wife_religion": 0
         },
         {
          "contraceptive_method_used": 1,
          "standard_of_living_index": 4,
          "wife_age": 35,
          "wife_education": 4,
          "wife_religion": 0
         },
         {
          "contraceptive_method_used": 3,
          "standard_of_living_index": 4,
          "wife_age": 31,
          "wife_education": 4,
          "wife_religion": 1
         },
         {
          "contraceptive_method_used": 1,
          "standard_of_living_index": 3,
          "wife_age": 44,
          "wife_education": 3,
          "wife_religion": 1
         },
         {
          "contraceptive_method_used": 2,
          "standard_of_living_index": 3,
          "wife_age": 28,
          "wife_education": 4,
          "wife_religion": 1
         },
         {
          "contraceptive_method_used": 1,
          "standard_of_living_index": 2,
          "wife_age": 37,
          "wife_education": 2,
          "wife_religion": 1
         },
         {
          "contraceptive_method_used": 3,
          "standard_of_living_index": 3,
          "wife_age": 39,
          "wife_education": 3,
          "wife_religion": 1
         },
         {
          "contraceptive_method_used": 2,
          "standard_of_living_index": 4,
          "wife_age": 44,
          "wife_education": 4,
          "wife_religion": 1
         },
         {
          "contraceptive_method_used": 3,
          "standard_of_living_index": 3,
          "wife_age": 43,
          "wife_education": 3,
          "wife_religion": 1
         },
         {
          "contraceptive_method_used": 3,
          "standard_of_living_index": 4,
          "wife_age": 33,
          "wife_education": 4,
          "wife_religion": 1
         },
         {
          "contraceptive_method_used": 2,
          "standard_of_living_index": 2,
          "wife_age": 34,
          "wife_education": 4,
          "wife_religion": 0
         },
         {
          "contraceptive_method_used": 1,
          "standard_of_living_index": 4,
          "wife_age": 22,
          "wife_education": 2,
          "wife_religion": 1
         },
         {
          "contraceptive_method_used": 1,
          "standard_of_living_index": 1,
          "wife_age": 47,
          "wife_education": 1,
          "wife_religion": 1
         },
         {
          "contraceptive_method_used": 2,
          "standard_of_living_index": 4,
          "wife_age": 34,
          "wife_education": 4,
          "wife_religion": 1
         },
         {
          "contraceptive_method_used": 1,
          "standard_of_living_index": 3,
          "wife_age": 21,
          "wife_education": 3,
          "wife_religion": 1
         },
         {
          "contraceptive_method_used": 1,
          "standard_of_living_index": 2,
          "wife_age": 49,
          "wife_education": 4,
          "wife_religion": 1
         },
         {
          "contraceptive_method_used": 1,
          "standard_of_living_index": 3,
          "wife_age": 29,
          "wife_education": 3,
          "wife_religion": 1
         },
         {
          "contraceptive_method_used": 1,
          "standard_of_living_index": 4,
          "wife_age": 22,
          "wife_education": 4,
          "wife_religion": 1
         },
         {
          "contraceptive_method_used": 2,
          "standard_of_living_index": 4,
          "wife_age": 37,
          "wife_education": 4,
          "wife_religion": 1
         },
         {
          "contraceptive_method_used": 2,
          "standard_of_living_index": 1,
          "wife_age": 21,
          "wife_education": 4,
          "wife_religion": 1
         },
         {
          "contraceptive_method_used": 2,
          "standard_of_living_index": 4,
          "wife_age": 43,
          "wife_education": 1,
          "wife_religion": 1
         },
         {
          "contraceptive_method_used": 1,
          "standard_of_living_index": 3,
          "wife_age": 27,
          "wife_education": 3,
          "wife_religion": 1
         },
         {
          "contraceptive_method_used": 3,
          "standard_of_living_index": 3,
          "wife_age": 21,
          "wife_education": 3,
          "wife_religion": 1
         },
         {
          "contraceptive_method_used": 2,
          "standard_of_living_index": 4,
          "wife_age": 23,
          "wife_education": 4,
          "wife_religion": 1
         },
         {
          "contraceptive_method_used": 3,
          "standard_of_living_index": 3,
          "wife_age": 32,
          "wife_education": 4,
          "wife_religion": 1
         },
         {
          "contraceptive_method_used": 1,
          "standard_of_living_index": 3,
          "wife_age": 45,
          "wife_education": 1,
          "wife_religion": 1
         },
         {
          "contraceptive_method_used": 1,
          "standard_of_living_index": 3,
          "wife_age": 42,
          "wife_education": 1,
          "wife_religion": 1
         },
         {
          "contraceptive_method_used": 3,
          "standard_of_living_index": 1,
          "wife_age": 24,
          "wife_education": 3,
          "wife_religion": 1
         },
         {
          "contraceptive_method_used": 3,
          "standard_of_living_index": 4,
          "wife_age": 34,
          "wife_education": 4,
          "wife_religion": 0
         },
         {
          "contraceptive_method_used": 1,
          "standard_of_living_index": 3,
          "wife_age": 45,
          "wife_education": 1,
          "wife_religion": 1
         },
         {
          "contraceptive_method_used": 3,
          "standard_of_living_index": 4,
          "wife_age": 26,
          "wife_education": 4,
          "wife_religion": 1
         },
         {
          "contraceptive_method_used": 1,
          "standard_of_living_index": 4,
          "wife_age": 16,
          "wife_education": 2,
          "wife_religion": 1
         },
         {
          "contraceptive_method_used": 1,
          "standard_of_living_index": 4,
          "wife_age": 38,
          "wife_education": 4,
          "wife_religion": 1
         },
         {
          "contraceptive_method_used": 3,
          "standard_of_living_index": 4,
          "wife_age": 28,
          "wife_education": 4,
          "wife_religion": 0
         },
         {
          "contraceptive_method_used": 2,
          "standard_of_living_index": 4,
          "wife_age": 45,
          "wife_education": 3,
          "wife_religion": 1
         },
         {
          "contraceptive_method_used": 1,
          "standard_of_living_index": 1,
          "wife_age": 33,
          "wife_education": 1,
          "wife_religion": 1
         },
         {
          "contraceptive_method_used": 1,
          "standard_of_living_index": 3,
          "wife_age": 41,
          "wife_education": 1,
          "wife_religion": 1
         },
         {
          "contraceptive_method_used": 3,
          "standard_of_living_index": 2,
          "wife_age": 21,
          "wife_education": 2,
          "wife_religion": 1
         },
         {
          "contraceptive_method_used": 3,
          "standard_of_living_index": 1,
          "wife_age": 21,
          "wife_education": 3,
          "wife_religion": 1
         },
         {
          "contraceptive_method_used": 1,
          "standard_of_living_index": 4,
          "wife_age": 22,
          "wife_education": 2,
          "wife_religion": 1
         },
         {
          "contraceptive_method_used": 1,
          "standard_of_living_index": 4,
          "wife_age": 45,
          "wife_education": 4,
          "wife_religion": 1
         },
         {
          "contraceptive_method_used": 3,
          "standard_of_living_index": 4,
          "wife_age": 31,
          "wife_education": 4,
          "wife_religion": 1
         },
         {
          "contraceptive_method_used": 3,
          "standard_of_living_index": 2,
          "wife_age": 33,
          "wife_education": 3,
          "wife_religion": 1
         },
         {
          "contraceptive_method_used": 1,
          "standard_of_living_index": 3,
          "wife_age": 46,
          "wife_education": 1,
          "wife_religion": 1
         },
         {
          "contraceptive_method_used": 1,
          "standard_of_living_index": 2,
          "wife_age": 48,
          "wife_education": 1,
          "wife_religion": 1
         },
         {
          "contraceptive_method_used": 1,
          "standard_of_living_index": 4,
          "wife_age": 48,
          "wife_education": 2,
          "wife_religion": 1
         },
         {
          "contraceptive_method_used": 3,
          "standard_of_living_index": 4,
          "wife_age": 34,
          "wife_education": 3,
          "wife_religion": 1
         },
         {
          "contraceptive_method_used": 3,
          "standard_of_living_index": 1,
          "wife_age": 21,
          "wife_education": 3,
          "wife_religion": 1
         },
         {
          "contraceptive_method_used": 3,
          "standard_of_living_index": 4,
          "wife_age": 44,
          "wife_education": 3,
          "wife_religion": 1
         },
         {
          "contraceptive_method_used": 2,
          "standard_of_living_index": 4,
          "wife_age": 33,
          "wife_education": 4,
          "wife_religion": 1
         },
         {
          "contraceptive_method_used": 3,
          "standard_of_living_index": 4,
          "wife_age": 21,
          "wife_education": 4,
          "wife_religion": 0
         },
         {
          "contraceptive_method_used": 3,
          "standard_of_living_index": 2,
          "wife_age": 22,
          "wife_education": 3,
          "wife_religion": 1
         },
         {
          "contraceptive_method_used": 1,
          "standard_of_living_index": 3,
          "wife_age": 45,
          "wife_education": 1,
          "wife_religion": 1
         },
         {
          "contraceptive_method_used": 3,
          "standard_of_living_index": 3,
          "wife_age": 24,
          "wife_education": 4,
          "wife_religion": 1
         },
         {
          "contraceptive_method_used": 3,
          "standard_of_living_index": 2,
          "wife_age": 27,
          "wife_education": 4,
          "wife_religion": 1
         },
         {
          "contraceptive_method_used": 1,
          "standard_of_living_index": 3,
          "wife_age": 43,
          "wife_education": 3,
          "wife_religion": 1
         },
         {
          "contraceptive_method_used": 2,
          "standard_of_living_index": 4,
          "wife_age": 37,
          "wife_education": 4,
          "wife_religion": 1
         },
         {
          "contraceptive_method_used": 1,
          "standard_of_living_index": 3,
          "wife_age": 48,
          "wife_education": 1,
          "wife_religion": 1
         },
         {
          "contraceptive_method_used": 1,
          "standard_of_living_index": 1,
          "wife_age": 32,
          "wife_education": 2,
          "wife_religion": 1
         },
         {
          "contraceptive_method_used": 2,
          "standard_of_living_index": 4,
          "wife_age": 36,
          "wife_education": 4,
          "wife_religion": 1
         },
         {
          "contraceptive_method_used": 2,
          "standard_of_living_index": 3,
          "wife_age": 44,
          "wife_education": 4,
          "wife_religion": 1
         },
         {
          "contraceptive_method_used": 1,
          "standard_of_living_index": 3,
          "wife_age": 45,
          "wife_education": 3,
          "wife_religion": 1
         },
         {
          "contraceptive_method_used": 2,
          "standard_of_living_index": 4,
          "wife_age": 36,
          "wife_education": 4,
          "wife_religion": 1
         },
         {
          "contraceptive_method_used": 2,
          "standard_of_living_index": 2,
          "wife_age": 24,
          "wife_education": 4,
          "wife_religion": 1
         },
         {
          "contraceptive_method_used": 2,
          "standard_of_living_index": 3,
          "wife_age": 42,
          "wife_education": 4,
          "wife_religion": 1
         },
         {
          "contraceptive_method_used": 1,
          "standard_of_living_index": 2,
          "wife_age": 35,
          "wife_education": 2,
          "wife_religion": 1
         },
         {
          "contraceptive_method_used": 1,
          "standard_of_living_index": 3,
          "wife_age": 32,
          "wife_education": 4,
          "wife_religion": 1
         },
         {
          "contraceptive_method_used": 1,
          "standard_of_living_index": 1,
          "wife_age": 34,
          "wife_education": 3,
          "wife_religion": 0
         },
         {
          "contraceptive_method_used": 1,
          "standard_of_living_index": 3,
          "wife_age": 24,
          "wife_education": 3,
          "wife_religion": 1
         },
         {
          "contraceptive_method_used": 2,
          "standard_of_living_index": 3,
          "wife_age": 40,
          "wife_education": 4,
          "wife_religion": 1
         },
         {
          "contraceptive_method_used": 3,
          "standard_of_living_index": 4,
          "wife_age": 30,
          "wife_education": 4,
          "wife_religion": 1
         },
         {
          "contraceptive_method_used": 3,
          "standard_of_living_index": 1,
          "wife_age": 30,
          "wife_education": 2,
          "wife_religion": 1
         },
         {
          "contraceptive_method_used": 3,
          "standard_of_living_index": 3,
          "wife_age": 33,
          "wife_education": 4,
          "wife_religion": 1
         },
         {
          "contraceptive_method_used": 1,
          "standard_of_living_index": 4,
          "wife_age": 30,
          "wife_education": 2,
          "wife_religion": 1
         },
         {
          "contraceptive_method_used": 3,
          "standard_of_living_index": 1,
          "wife_age": 21,
          "wife_education": 2,
          "wife_religion": 1
         },
         {
          "contraceptive_method_used": 1,
          "standard_of_living_index": 2,
          "wife_age": 25,
          "wife_education": 4,
          "wife_religion": 1
         },
         {
          "contraceptive_method_used": 3,
          "standard_of_living_index": 1,
          "wife_age": 31,
          "wife_education": 3,
          "wife_religion": 1
         },
         {
          "contraceptive_method_used": 3,
          "standard_of_living_index": 4,
          "wife_age": 36,
          "wife_education": 4,
          "wife_religion": 0
         },
         {
          "contraceptive_method_used": 3,
          "standard_of_living_index": 2,
          "wife_age": 22,
          "wife_education": 1,
          "wife_religion": 1
         },
         {
          "contraceptive_method_used": 1,
          "standard_of_living_index": 4,
          "wife_age": 25,
          "wife_education": 3,
          "wife_religion": 1
         },
         {
          "contraceptive_method_used": 3,
          "standard_of_living_index": 2,
          "wife_age": 24,
          "wife_education": 1,
          "wife_religion": 1
         },
         {
          "contraceptive_method_used": 1,
          "standard_of_living_index": 3,
          "wife_age": 24,
          "wife_education": 4,
          "wife_religion": 1
         },
         {
          "contraceptive_method_used": 1,
          "standard_of_living_index": 3,
          "wife_age": 23,
          "wife_education": 2,
          "wife_religion": 1
         },
         {
          "contraceptive_method_used": 3,
          "standard_of_living_index": 3,
          "wife_age": 37,
          "wife_education": 2,
          "wife_religion": 1
         },
         {
          "contraceptive_method_used": 1,
          "standard_of_living_index": 1,
          "wife_age": 22,
          "wife_education": 2,
          "wife_religion": 1
         },
         {
          "contraceptive_method_used": 1,
          "standard_of_living_index": 4,
          "wife_age": 20,
          "wife_education": 2,
          "wife_religion": 1
         },
         {
          "contraceptive_method_used": 2,
          "standard_of_living_index": 4,
          "wife_age": 41,
          "wife_education": 4,
          "wife_religion": 1
         },
         {
          "contraceptive_method_used": 3,
          "standard_of_living_index": 3,
          "wife_age": 24,
          "wife_education": 4,
          "wife_religion": 1
         },
         {
          "contraceptive_method_used": 2,
          "standard_of_living_index": 4,
          "wife_age": 34,
          "wife_education": 1,
          "wife_religion": 1
         },
         {
          "contraceptive_method_used": 3,
          "standard_of_living_index": 3,
          "wife_age": 23,
          "wife_education": 2,
          "wife_religion": 1
         },
         {
          "contraceptive_method_used": 2,
          "standard_of_living_index": 3,
          "wife_age": 30,
          "wife_education": 3,
          "wife_religion": 1
         },
         {
          "contraceptive_method_used": 3,
          "standard_of_living_index": 3,
          "wife_age": 19,
          "wife_education": 4,
          "wife_religion": 1
         },
         {
          "contraceptive_method_used": 3,
          "standard_of_living_index": 3,
          "wife_age": 44,
          "wife_education": 4,
          "wife_religion": 0
         },
         {
          "contraceptive_method_used": 2,
          "standard_of_living_index": 3,
          "wife_age": 34,
          "wife_education": 3,
          "wife_religion": 1
         },
         {
          "contraceptive_method_used": 2,
          "standard_of_living_index": 4,
          "wife_age": 26,
          "wife_education": 2,
          "wife_religion": 1
         },
         {
          "contraceptive_method_used": 3,
          "standard_of_living_index": 3,
          "wife_age": 25,
          "wife_education": 4,
          "wife_religion": 1
         },
         {
          "contraceptive_method_used": 3,
          "standard_of_living_index": 3,
          "wife_age": 28,
          "wife_education": 4,
          "wife_religion": 1
         },
         {
          "contraceptive_method_used": 3,
          "standard_of_living_index": 4,
          "wife_age": 37,
          "wife_education": 4,
          "wife_religion": 0
         },
         {
          "contraceptive_method_used": 3,
          "standard_of_living_index": 2,
          "wife_age": 26,
          "wife_education": 3,
          "wife_religion": 1
         },
         {
          "contraceptive_method_used": 3,
          "standard_of_living_index": 2,
          "wife_age": 38,
          "wife_education": 3,
          "wife_religion": 1
         },
         {
          "contraceptive_method_used": 1,
          "standard_of_living_index": 4,
          "wife_age": 22,
          "wife_education": 4,
          "wife_religion": 1
         },
         {
          "contraceptive_method_used": 3,
          "standard_of_living_index": 4,
          "wife_age": 25,
          "wife_education": 3,
          "wife_religion": 1
         },
         {
          "contraceptive_method_used": 1,
          "standard_of_living_index": 2,
          "wife_age": 31,
          "wife_education": 2,
          "wife_religion": 1
         },
         {
          "contraceptive_method_used": 2,
          "standard_of_living_index": 4,
          "wife_age": 33,
          "wife_education": 3,
          "wife_religion": 1
         },
         {
          "contraceptive_method_used": 2,
          "standard_of_living_index": 2,
          "wife_age": 35,
          "wife_education": 2,
          "wife_religion": 0
         },
         {
          "contraceptive_method_used": 1,
          "standard_of_living_index": 4,
          "wife_age": 36,
          "wife_education": 2,
          "wife_religion": 1
         },
         {
          "contraceptive_method_used": 3,
          "standard_of_living_index": 2,
          "wife_age": 25,
          "wife_education": 3,
          "wife_religion": 1
         },
         {
          "contraceptive_method_used": 3,
          "standard_of_living_index": 2,
          "wife_age": 20,
          "wife_education": 2,
          "wife_religion": 1
         },
         {
          "contraceptive_method_used": 1,
          "standard_of_living_index": 4,
          "wife_age": 48,
          "wife_education": 1,
          "wife_religion": 1
         },
         {
          "contraceptive_method_used": 2,
          "standard_of_living_index": 2,
          "wife_age": 22,
          "wife_education": 4,
          "wife_religion": 1
         },
         {
          "contraceptive_method_used": 3,
          "standard_of_living_index": 4,
          "wife_age": 24,
          "wife_education": 3,
          "wife_religion": 1
         },
         {
          "contraceptive_method_used": 1,
          "standard_of_living_index": 4,
          "wife_age": 20,
          "wife_education": 4,
          "wife_religion": 0
         },
         {
          "contraceptive_method_used": 3,
          "standard_of_living_index": 3,
          "wife_age": 29,
          "wife_education": 3,
          "wife_religion": 1
         },
         {
          "contraceptive_method_used": 3,
          "standard_of_living_index": 4,
          "wife_age": 48,
          "wife_education": 3,
          "wife_religion": 1
         },
         {
          "contraceptive_method_used": 1,
          "standard_of_living_index": 4,
          "wife_age": 22,
          "wife_education": 3,
          "wife_religion": 1
         },
         {
          "contraceptive_method_used": 1,
          "standard_of_living_index": 4,
          "wife_age": 37,
          "wife_education": 4,
          "wife_religion": 1
         },
         {
          "contraceptive_method_used": 1,
          "standard_of_living_index": 1,
          "wife_age": 21,
          "wife_education": 3,
          "wife_religion": 1
         },
         {
          "contraceptive_method_used": 3,
          "standard_of_living_index": 4,
          "wife_age": 35,
          "wife_education": 4,
          "wife_religion": 1
         },
         {
          "contraceptive_method_used": 1,
          "standard_of_living_index": 4,
          "wife_age": 41,
          "wife_education": 1,
          "wife_religion": 1
         },
         {
          "contraceptive_method_used": 1,
          "standard_of_living_index": 3,
          "wife_age": 42,
          "wife_education": 3,
          "wife_religion": 1
         },
         {
          "contraceptive_method_used": 1,
          "standard_of_living_index": 1,
          "wife_age": 48,
          "wife_education": 1,
          "wife_religion": 1
         },
         {
          "contraceptive_method_used": 3,
          "standard_of_living_index": 4,
          "wife_age": 33,
          "wife_education": 4,
          "wife_religion": 0
         },
         {
          "contraceptive_method_used": 1,
          "standard_of_living_index": 4,
          "wife_age": 45,
          "wife_education": 3,
          "wife_religion": 0
         },
         {
          "contraceptive_method_used": 2,
          "standard_of_living_index": 3,
          "wife_age": 38,
          "wife_education": 4,
          "wife_religion": 1
         },
         {
          "contraceptive_method_used": 1,
          "standard_of_living_index": 3,
          "wife_age": 48,
          "wife_education": 1,
          "wife_religion": 1
         },
         {
          "contraceptive_method_used": 3,
          "standard_of_living_index": 2,
          "wife_age": 30,
          "wife_education": 3,
          "wife_religion": 1
         },
         {
          "contraceptive_method_used": 1,
          "standard_of_living_index": 4,
          "wife_age": 41,
          "wife_education": 3,
          "wife_religion": 1
         },
         {
          "contraceptive_method_used": 1,
          "standard_of_living_index": 2,
          "wife_age": 42,
          "wife_education": 3,
          "wife_religion": 1
         },
         {
          "contraceptive_method_used": 1,
          "standard_of_living_index": 4,
          "wife_age": 24,
          "wife_education": 2,
          "wife_religion": 1
         },
         {
          "contraceptive_method_used": 1,
          "standard_of_living_index": 3,
          "wife_age": 27,
          "wife_education": 2,
          "wife_religion": 1
         },
         {
          "contraceptive_method_used": 3,
          "standard_of_living_index": 4,
          "wife_age": 33,
          "wife_education": 3,
          "wife_religion": 1
         },
         {
          "contraceptive_method_used": 3,
          "standard_of_living_index": 4,
          "wife_age": 37,
          "wife_education": 3,
          "wife_religion": 0
         },
         {
          "contraceptive_method_used": 2,
          "standard_of_living_index": 3,
          "wife_age": 45,
          "wife_education": 3,
          "wife_religion": 0
         },
         {
          "contraceptive_method_used": 3,
          "standard_of_living_index": 4,
          "wife_age": 26,
          "wife_education": 4,
          "wife_religion": 1
         },
         {
          "contraceptive_method_used": 1,
          "standard_of_living_index": 3,
          "wife_age": 28,
          "wife_education": 3,
          "wife_religion": 1
         },
         {
          "contraceptive_method_used": 1,
          "standard_of_living_index": 4,
          "wife_age": 41,
          "wife_education": 3,
          "wife_religion": 0
         },
         {
          "contraceptive_method_used": 2,
          "standard_of_living_index": 4,
          "wife_age": 33,
          "wife_education": 4,
          "wife_religion": 1
         },
         {
          "contraceptive_method_used": 3,
          "standard_of_living_index": 3,
          "wife_age": 31,
          "wife_education": 1,
          "wife_religion": 1
         },
         {
          "contraceptive_method_used": 1,
          "standard_of_living_index": 2,
          "wife_age": 44,
          "wife_education": 1,
          "wife_religion": 1
         },
         {
          "contraceptive_method_used": 1,
          "standard_of_living_index": 4,
          "wife_age": 37,
          "wife_education": 4,
          "wife_religion": 1
         },
         {
          "contraceptive_method_used": 1,
          "standard_of_living_index": 2,
          "wife_age": 22,
          "wife_education": 2,
          "wife_religion": 1
         },
         {
          "contraceptive_method_used": 3,
          "standard_of_living_index": 4,
          "wife_age": 29,
          "wife_education": 1,
          "wife_religion": 1
         },
         {
          "contraceptive_method_used": 2,
          "standard_of_living_index": 4,
          "wife_age": 26,
          "wife_education": 2,
          "wife_religion": 1
         },
         {
          "contraceptive_method_used": 2,
          "standard_of_living_index": 3,
          "wife_age": 45,
          "wife_education": 3,
          "wife_religion": 1
         },
         {
          "contraceptive_method_used": 1,
          "standard_of_living_index": 2,
          "wife_age": 46,
          "wife_education": 3,
          "wife_religion": 1
         },
         {
          "contraceptive_method_used": 1,
          "standard_of_living_index": 3,
          "wife_age": 18,
          "wife_education": 2,
          "wife_religion": 1
         },
         {
          "contraceptive_method_used": 1,
          "standard_of_living_index": 4,
          "wife_age": 49,
          "wife_education": 4,
          "wife_religion": 1
         },
         {
          "contraceptive_method_used": 2,
          "standard_of_living_index": 4,
          "wife_age": 35,
          "wife_education": 4,
          "wife_religion": 1
         },
         {
          "contraceptive_method_used": 1,
          "standard_of_living_index": 3,
          "wife_age": 36,
          "wife_education": 2,
          "wife_religion": 1
         },
         {
          "contraceptive_method_used": 3,
          "standard_of_living_index": 2,
          "wife_age": 22,
          "wife_education": 2,
          "wife_religion": 1
         },
         {
          "contraceptive_method_used": 2,
          "standard_of_living_index": 4,
          "wife_age": 44,
          "wife_education": 2,
          "wife_religion": 0
         },
         {
          "contraceptive_method_used": 2,
          "standard_of_living_index": 2,
          "wife_age": 38,
          "wife_education": 2,
          "wife_religion": 1
         },
         {
          "contraceptive_method_used": 2,
          "standard_of_living_index": 4,
          "wife_age": 31,
          "wife_education": 4,
          "wife_religion": 0
         },
         {
          "contraceptive_method_used": 1,
          "standard_of_living_index": 1,
          "wife_age": 23,
          "wife_education": 3,
          "wife_religion": 1
         },
         {
          "contraceptive_method_used": 2,
          "standard_of_living_index": 4,
          "wife_age": 38,
          "wife_education": 4,
          "wife_religion": 1
         },
         {
          "contraceptive_method_used": 2,
          "standard_of_living_index": 4,
          "wife_age": 25,
          "wife_education": 2,
          "wife_religion": 1
         },
         {
          "contraceptive_method_used": 3,
          "standard_of_living_index": 4,
          "wife_age": 37,
          "wife_education": 4,
          "wife_religion": 1
         },
         {
          "contraceptive_method_used": 1,
          "standard_of_living_index": 3,
          "wife_age": 43,
          "wife_education": 4,
          "wife_religion": 1
         },
         {
          "contraceptive_method_used": 3,
          "standard_of_living_index": 3,
          "wife_age": 24,
          "wife_education": 4,
          "wife_religion": 1
         },
         {
          "contraceptive_method_used": 1,
          "standard_of_living_index": 3,
          "wife_age": 49,
          "wife_education": 1,
          "wife_religion": 1
         },
         {
          "contraceptive_method_used": 1,
          "standard_of_living_index": 2,
          "wife_age": 21,
          "wife_education": 2,
          "wife_religion": 1
         },
         {
          "contraceptive_method_used": 3,
          "standard_of_living_index": 3,
          "wife_age": 25,
          "wife_education": 3,
          "wife_religion": 1
         },
         {
          "contraceptive_method_used": 3,
          "standard_of_living_index": 3,
          "wife_age": 34,
          "wife_education": 2,
          "wife_religion": 1
         },
         {
          "contraceptive_method_used": 3,
          "standard_of_living_index": 3,
          "wife_age": 35,
          "wife_education": 2,
          "wife_religion": 1
         },
         {
          "contraceptive_method_used": 3,
          "standard_of_living_index": 3,
          "wife_age": 31,
          "wife_education": 2,
          "wife_religion": 1
         },
         {
          "contraceptive_method_used": 2,
          "standard_of_living_index": 4,
          "wife_age": 47,
          "wife_education": 4,
          "wife_religion": 0
         },
         {
          "contraceptive_method_used": 2,
          "standard_of_living_index": 3,
          "wife_age": 32,
          "wife_education": 3,
          "wife_religion": 0
         },
         {
          "contraceptive_method_used": 3,
          "standard_of_living_index": 4,
          "wife_age": 38,
          "wife_education": 2,
          "wife_religion": 1
         },
         {
          "contraceptive_method_used": 2,
          "standard_of_living_index": 2,
          "wife_age": 22,
          "wife_education": 4,
          "wife_religion": 1
         },
         {
          "contraceptive_method_used": 1,
          "standard_of_living_index": 3,
          "wife_age": 34,
          "wife_education": 3,
          "wife_religion": 1
         },
         {
          "contraceptive_method_used": 3,
          "standard_of_living_index": 4,
          "wife_age": 25,
          "wife_education": 2,
          "wife_religion": 1
         },
         {
          "contraceptive_method_used": 1,
          "standard_of_living_index": 3,
          "wife_age": 47,
          "wife_education": 1,
          "wife_religion": 1
         },
         {
          "contraceptive_method_used": 1,
          "standard_of_living_index": 4,
          "wife_age": 20,
          "wife_education": 2,
          "wife_religion": 1
         },
         {
          "contraceptive_method_used": 3,
          "standard_of_living_index": 2,
          "wife_age": 32,
          "wife_education": 2,
          "wife_religion": 1
         },
         {
          "contraceptive_method_used": 1,
          "standard_of_living_index": 2,
          "wife_age": 20,
          "wife_education": 3,
          "wife_religion": 1
         },
         {
          "contraceptive_method_used": 2,
          "standard_of_living_index": 4,
          "wife_age": 30,
          "wife_education": 4,
          "wife_religion": 0
         },
         {
          "contraceptive_method_used": 3,
          "standard_of_living_index": 3,
          "wife_age": 36,
          "wife_education": 4,
          "wife_religion": 1
         },
         {
          "contraceptive_method_used": 2,
          "standard_of_living_index": 2,
          "wife_age": 29,
          "wife_education": 4,
          "wife_religion": 1
         },
         {
          "contraceptive_method_used": 1,
          "standard_of_living_index": 3,
          "wife_age": 37,
          "wife_education": 2,
          "wife_religion": 0
         },
         {
          "contraceptive_method_used": 3,
          "standard_of_living_index": 3,
          "wife_age": 26,
          "wife_education": 4,
          "wife_religion": 1
         },
         {
          "contraceptive_method_used": 1,
          "standard_of_living_index": 4,
          "wife_age": 39,
          "wife_education": 3,
          "wife_religion": 0
         },
         {
          "contraceptive_method_used": 1,
          "standard_of_living_index": 1,
          "wife_age": 25,
          "wife_education": 3,
          "wife_religion": 1
         },
         {
          "contraceptive_method_used": 2,
          "standard_of_living_index": 3,
          "wife_age": 24,
          "wife_education": 2,
          "wife_religion": 1
         },
         {
          "contraceptive_method_used": 3,
          "standard_of_living_index": 4,
          "wife_age": 28,
          "wife_education": 4,
          "wife_religion": 0
         },
         {
          "contraceptive_method_used": 3,
          "standard_of_living_index": 2,
          "wife_age": 23,
          "wife_education": 4,
          "wife_religion": 1
         },
         {
          "contraceptive_method_used": 1,
          "standard_of_living_index": 3,
          "wife_age": 40,
          "wife_education": 2,
          "wife_religion": 1
         },
         {
          "contraceptive_method_used": 1,
          "standard_of_living_index": 4,
          "wife_age": 46,
          "wife_education": 4,
          "wife_religion": 0
         },
         {
          "contraceptive_method_used": 3,
          "standard_of_living_index": 4,
          "wife_age": 43,
          "wife_education": 4,
          "wife_religion": 1
         },
         {
          "contraceptive_method_used": 1,
          "standard_of_living_index": 3,
          "wife_age": 24,
          "wife_education": 2,
          "wife_religion": 1
         },
         {
          "contraceptive_method_used": 1,
          "standard_of_living_index": 4,
          "wife_age": 47,
          "wife_education": 2,
          "wife_religion": 0
         },
         {
          "contraceptive_method_used": 3,
          "standard_of_living_index": 3,
          "wife_age": 26,
          "wife_education": 3,
          "wife_religion": 1
         },
         {
          "contraceptive_method_used": 1,
          "standard_of_living_index": 4,
          "wife_age": 39,
          "wife_education": 2,
          "wife_religion": 1
         },
         {
          "contraceptive_method_used": 1,
          "standard_of_living_index": 4,
          "wife_age": 20,
          "wife_education": 2,
          "wife_religion": 1
         },
         {
          "contraceptive_method_used": 3,
          "standard_of_living_index": 4,
          "wife_age": 49,
          "wife_education": 4,
          "wife_religion": 1
         },
         {
          "contraceptive_method_used": 1,
          "standard_of_living_index": 4,
          "wife_age": 38,
          "wife_education": 3,
          "wife_religion": 1
         },
         {
          "contraceptive_method_used": 1,
          "standard_of_living_index": 1,
          "wife_age": 22,
          "wife_education": 2,
          "wife_religion": 1
         },
         {
          "contraceptive_method_used": 1,
          "standard_of_living_index": 3,
          "wife_age": 23,
          "wife_education": 2,
          "wife_religion": 1
         },
         {
          "contraceptive_method_used": 1,
          "standard_of_living_index": 3,
          "wife_age": 48,
          "wife_education": 2,
          "wife_religion": 1
         },
         {
          "contraceptive_method_used": 1,
          "standard_of_living_index": 4,
          "wife_age": 32,
          "wife_education": 4,
          "wife_religion": 1
         },
         {
          "contraceptive_method_used": 1,
          "standard_of_living_index": 4,
          "wife_age": 48,
          "wife_education": 4,
          "wife_religion": 0
         },
         {
          "contraceptive_method_used": 2,
          "standard_of_living_index": 4,
          "wife_age": 47,
          "wife_education": 4,
          "wife_religion": 1
         },
         {
          "contraceptive_method_used": 2,
          "standard_of_living_index": 4,
          "wife_age": 43,
          "wife_education": 3,
          "wife_religion": 1
         },
         {
          "contraceptive_method_used": 3,
          "standard_of_living_index": 3,
          "wife_age": 40,
          "wife_education": 3,
          "wife_religion": 1
         },
         {
          "contraceptive_method_used": 2,
          "standard_of_living_index": 4,
          "wife_age": 34,
          "wife_education": 4,
          "wife_religion": 1
         },
         {
          "contraceptive_method_used": 2,
          "standard_of_living_index": 4,
          "wife_age": 41,
          "wife_education": 3,
          "wife_religion": 0
         },
         {
          "contraceptive_method_used": 3,
          "standard_of_living_index": 4,
          "wife_age": 28,
          "wife_education": 2,
          "wife_religion": 1
         },
         {
          "contraceptive_method_used": 1,
          "standard_of_living_index": 4,
          "wife_age": 43,
          "wife_education": 4,
          "wife_religion": 0
         },
         {
          "contraceptive_method_used": 2,
          "standard_of_living_index": 1,
          "wife_age": 44,
          "wife_education": 3,
          "wife_religion": 1
         },
         {
          "contraceptive_method_used": 1,
          "standard_of_living_index": 2,
          "wife_age": 38,
          "wife_education": 1,
          "wife_religion": 1
         },
         {
          "contraceptive_method_used": 1,
          "standard_of_living_index": 1,
          "wife_age": 23,
          "wife_education": 1,
          "wife_religion": 1
         },
         {
          "contraceptive_method_used": 2,
          "standard_of_living_index": 1,
          "wife_age": 30,
          "wife_education": 2,
          "wife_religion": 1
         },
         {
          "contraceptive_method_used": 2,
          "standard_of_living_index": 4,
          "wife_age": 39,
          "wife_education": 4,
          "wife_religion": 0
         },
         {
          "contraceptive_method_used": 3,
          "standard_of_living_index": 4,
          "wife_age": 26,
          "wife_education": 3,
          "wife_religion": 1
         },
         {
          "contraceptive_method_used": 1,
          "standard_of_living_index": 2,
          "wife_age": 36,
          "wife_education": 2,
          "wife_religion": 1
         },
         {
          "contraceptive_method_used": 1,
          "standard_of_living_index": 2,
          "wife_age": 38,
          "wife_education": 2,
          "wife_religion": 1
         },
         {
          "contraceptive_method_used": 3,
          "standard_of_living_index": 2,
          "wife_age": 36,
          "wife_education": 1,
          "wife_religion": 1
         },
         {
          "contraceptive_method_used": 2,
          "standard_of_living_index": 4,
          "wife_age": 48,
          "wife_education": 4,
          "wife_religion": 0
         },
         {
          "contraceptive_method_used": 1,
          "standard_of_living_index": 4,
          "wife_age": 24,
          "wife_education": 4,
          "wife_religion": 0
         },
         {
          "contraceptive_method_used": 3,
          "standard_of_living_index": 3,
          "wife_age": 25,
          "wife_education": 1,
          "wife_religion": 1
         },
         {
          "contraceptive_method_used": 1,
          "standard_of_living_index": 1,
          "wife_age": 36,
          "wife_education": 2,
          "wife_religion": 1
         },
         {
          "contraceptive_method_used": 1,
          "standard_of_living_index": 1,
          "wife_age": 49,
          "wife_education": 1,
          "wife_religion": 1
         },
         {
          "contraceptive_method_used": 1,
          "standard_of_living_index": 4,
          "wife_age": 29,
          "wife_education": 3,
          "wife_religion": 1
         },
         {
          "contraceptive_method_used": 1,
          "standard_of_living_index": 2,
          "wife_age": 29,
          "wife_education": 3,
          "wife_religion": 1
         },
         {
          "contraceptive_method_used": 2,
          "standard_of_living_index": 4,
          "wife_age": 33,
          "wife_education": 3,
          "wife_religion": 1
         },
         {
          "contraceptive_method_used": 1,
          "standard_of_living_index": 1,
          "wife_age": 28,
          "wife_education": 2,
          "wife_religion": 1
         },
         {
          "contraceptive_method_used": 1,
          "standard_of_living_index": 1,
          "wife_age": 44,
          "wife_education": 1,
          "wife_religion": 1
         },
         {
          "contraceptive_method_used": 2,
          "standard_of_living_index": 2,
          "wife_age": 44,
          "wife_education": 4,
          "wife_religion": 1
         },
         {
          "contraceptive_method_used": 1,
          "standard_of_living_index": 2,
          "wife_age": 25,
          "wife_education": 2,
          "wife_religion": 1
         },
         {
          "contraceptive_method_used": 1,
          "standard_of_living_index": 1,
          "wife_age": 43,
          "wife_education": 1,
          "wife_religion": 1
         },
         {
          "contraceptive_method_used": 2,
          "standard_of_living_index": 3,
          "wife_age": 47,
          "wife_education": 3,
          "wife_religion": 1
         },
         {
          "contraceptive_method_used": 1,
          "standard_of_living_index": 4,
          "wife_age": 24,
          "wife_education": 4,
          "wife_religion": 1
         },
         {
          "contraceptive_method_used": 3,
          "standard_of_living_index": 2,
          "wife_age": 17,
          "wife_education": 2,
          "wife_religion": 1
         },
         {
          "contraceptive_method_used": 1,
          "standard_of_living_index": 3,
          "wife_age": 26,
          "wife_education": 3,
          "wife_religion": 1
         },
         {
          "contraceptive_method_used": 2,
          "standard_of_living_index": 4,
          "wife_age": 41,
          "wife_education": 4,
          "wife_religion": 0
         },
         {
          "contraceptive_method_used": 1,
          "standard_of_living_index": 2,
          "wife_age": 49,
          "wife_education": 2,
          "wife_religion": 1
         },
         {
          "contraceptive_method_used": 2,
          "standard_of_living_index": 2,
          "wife_age": 29,
          "wife_education": 4,
          "wife_religion": 1
         },
         {
          "contraceptive_method_used": 2,
          "standard_of_living_index": 4,
          "wife_age": 30,
          "wife_education": 4,
          "wife_religion": 0
         },
         {
          "contraceptive_method_used": 2,
          "standard_of_living_index": 4,
          "wife_age": 46,
          "wife_education": 4,
          "wife_religion": 1
         },
         {
          "contraceptive_method_used": 3,
          "standard_of_living_index": 3,
          "wife_age": 26,
          "wife_education": 3,
          "wife_religion": 1
         },
         {
          "contraceptive_method_used": 3,
          "standard_of_living_index": 4,
          "wife_age": 32,
          "wife_education": 4,
          "wife_religion": 1
         },
         {
          "contraceptive_method_used": 2,
          "standard_of_living_index": 4,
          "wife_age": 47,
          "wife_education": 4,
          "wife_religion": 1
         },
         {
          "contraceptive_method_used": 2,
          "standard_of_living_index": 3,
          "wife_age": 35,
          "wife_education": 4,
          "wife_religion": 1
         },
         {
          "contraceptive_method_used": 1,
          "standard_of_living_index": 4,
          "wife_age": 43,
          "wife_education": 1,
          "wife_religion": 1
         },
         {
          "contraceptive_method_used": 1,
          "standard_of_living_index": 4,
          "wife_age": 29,
          "wife_education": 2,
          "wife_religion": 1
         },
         {
          "contraceptive_method_used": 3,
          "standard_of_living_index": 2,
          "wife_age": 29,
          "wife_education": 1,
          "wife_religion": 1
         },
         {
          "contraceptive_method_used": 3,
          "standard_of_living_index": 4,
          "wife_age": 21,
          "wife_education": 2,
          "wife_religion": 0
         },
         {
          "contraceptive_method_used": 3,
          "standard_of_living_index": 1,
          "wife_age": 24,
          "wife_education": 2,
          "wife_religion": 1
         },
         {
          "contraceptive_method_used": 1,
          "standard_of_living_index": 2,
          "wife_age": 40,
          "wife_education": 2,
          "wife_religion": 1
         },
         {
          "contraceptive_method_used": 1,
          "standard_of_living_index": 4,
          "wife_age": 44,
          "wife_education": 4,
          "wife_religion": 1
         },
         {
          "contraceptive_method_used": 3,
          "standard_of_living_index": 4,
          "wife_age": 27,
          "wife_education": 2,
          "wife_religion": 1
         },
         {
          "contraceptive_method_used": 1,
          "standard_of_living_index": 4,
          "wife_age": 35,
          "wife_education": 1,
          "wife_religion": 1
         },
         {
          "contraceptive_method_used": 3,
          "standard_of_living_index": 4,
          "wife_age": 32,
          "wife_education": 4,
          "wife_religion": 1
         },
         {
          "contraceptive_method_used": 1,
          "standard_of_living_index": 3,
          "wife_age": 48,
          "wife_education": 1,
          "wife_religion": 1
         },
         {
          "contraceptive_method_used": 3,
          "standard_of_living_index": 3,
          "wife_age": 23,
          "wife_education": 4,
          "wife_religion": 1
         },
         {
          "contraceptive_method_used": 3,
          "standard_of_living_index": 4,
          "wife_age": 48,
          "wife_education": 4,
          "wife_religion": 1
         },
         {
          "contraceptive_method_used": 2,
          "standard_of_living_index": 4,
          "wife_age": 35,
          "wife_education": 4,
          "wife_religion": 0
         },
         {
          "contraceptive_method_used": 3,
          "standard_of_living_index": 3,
          "wife_age": 29,
          "wife_education": 2,
          "wife_religion": 1
         },
         {
          "contraceptive_method_used": 1,
          "standard_of_living_index": 2,
          "wife_age": 19,
          "wife_education": 2,
          "wife_religion": 1
         },
         {
          "contraceptive_method_used": 2,
          "standard_of_living_index": 4,
          "wife_age": 39,
          "wife_education": 4,
          "wife_religion": 1
         },
         {
          "contraceptive_method_used": 3,
          "standard_of_living_index": 3,
          "wife_age": 29,
          "wife_education": 1,
          "wife_religion": 1
         },
         {
          "contraceptive_method_used": 1,
          "standard_of_living_index": 4,
          "wife_age": 30,
          "wife_education": 4,
          "wife_religion": 1
         },
         {
          "contraceptive_method_used": 3,
          "standard_of_living_index": 3,
          "wife_age": 30,
          "wife_education": 3,
          "wife_religion": 0
         },
         {
          "contraceptive_method_used": 1,
          "standard_of_living_index": 3,
          "wife_age": 31,
          "wife_education": 3,
          "wife_religion": 1
         },
         {
          "contraceptive_method_used": 3,
          "standard_of_living_index": 3,
          "wife_age": 24,
          "wife_education": 4,
          "wife_religion": 1
         },
         {
          "contraceptive_method_used": 3,
          "standard_of_living_index": 3,
          "wife_age": 30,
          "wife_education": 3,
          "wife_religion": 1
         },
         {
          "contraceptive_method_used": 3,
          "standard_of_living_index": 4,
          "wife_age": 37,
          "wife_education": 4,
          "wife_religion": 0
         },
         {
          "contraceptive_method_used": 1,
          "standard_of_living_index": 3,
          "wife_age": 47,
          "wife_education": 1,
          "wife_religion": 1
         },
         {
          "contraceptive_method_used": 2,
          "standard_of_living_index": 2,
          "wife_age": 23,
          "wife_education": 4,
          "wife_religion": 1
         },
         {
          "contraceptive_method_used": 1,
          "standard_of_living_index": 2,
          "wife_age": 22,
          "wife_education": 2,
          "wife_religion": 1
         },
         {
          "contraceptive_method_used": 1,
          "standard_of_living_index": 1,
          "wife_age": 38,
          "wife_education": 1,
          "wife_religion": 1
         },
         {
          "contraceptive_method_used": 3,
          "standard_of_living_index": 4,
          "wife_age": 25,
          "wife_education": 4,
          "wife_religion": 0
         },
         {
          "contraceptive_method_used": 2,
          "standard_of_living_index": 4,
          "wife_age": 45,
          "wife_education": 4,
          "wife_religion": 1
         },
         {
          "contraceptive_method_used": 2,
          "standard_of_living_index": 3,
          "wife_age": 29,
          "wife_education": 3,
          "wife_religion": 1
         },
         {
          "contraceptive_method_used": 3,
          "standard_of_living_index": 4,
          "wife_age": 24,
          "wife_education": 3,
          "wife_religion": 1
         },
         {
          "contraceptive_method_used": 2,
          "standard_of_living_index": 4,
          "wife_age": 37,
          "wife_education": 4,
          "wife_religion": 1
         },
         {
          "contraceptive_method_used": 3,
          "standard_of_living_index": 4,
          "wife_age": 21,
          "wife_education": 3,
          "wife_religion": 1
         },
         {
          "contraceptive_method_used": 1,
          "standard_of_living_index": 2,
          "wife_age": 22,
          "wife_education": 4,
          "wife_religion": 1
         },
         {
          "contraceptive_method_used": 3,
          "standard_of_living_index": 3,
          "wife_age": 25,
          "wife_education": 4,
          "wife_religion": 0
         },
         {
          "contraceptive_method_used": 3,
          "standard_of_living_index": 3,
          "wife_age": 21,
          "wife_education": 2,
          "wife_religion": 1
         },
         {
          "contraceptive_method_used": 3,
          "standard_of_living_index": 4,
          "wife_age": 26,
          "wife_education": 4,
          "wife_religion": 1
         },
         {
          "contraceptive_method_used": 1,
          "standard_of_living_index": 3,
          "wife_age": 47,
          "wife_education": 4,
          "wife_religion": 1
         },
         {
          "contraceptive_method_used": 1,
          "standard_of_living_index": 2,
          "wife_age": 31,
          "wife_education": 1,
          "wife_religion": 1
         },
         {
          "contraceptive_method_used": 2,
          "standard_of_living_index": 3,
          "wife_age": 24,
          "wife_education": 4,
          "wife_religion": 0
         },
         {
          "contraceptive_method_used": 2,
          "standard_of_living_index": 4,
          "wife_age": 26,
          "wife_education": 3,
          "wife_religion": 1
         },
         {
          "contraceptive_method_used": 3,
          "standard_of_living_index": 3,
          "wife_age": 27,
          "wife_education": 2,
          "wife_religion": 1
         },
         {
          "contraceptive_method_used": 1,
          "standard_of_living_index": 2,
          "wife_age": 21,
          "wife_education": 2,
          "wife_religion": 1
         },
         {
          "contraceptive_method_used": 3,
          "standard_of_living_index": 4,
          "wife_age": 36,
          "wife_education": 2,
          "wife_religion": 1
         },
         {
          "contraceptive_method_used": 3,
          "standard_of_living_index": 4,
          "wife_age": 32,
          "wife_education": 4,
          "wife_religion": 1
         },
         {
          "contraceptive_method_used": 2,
          "standard_of_living_index": 4,
          "wife_age": 39,
          "wife_education": 3,
          "wife_religion": 1
         },
         {
          "contraceptive_method_used": 1,
          "standard_of_living_index": 3,
          "wife_age": 38,
          "wife_education": 1,
          "wife_religion": 1
         },
         {
          "contraceptive_method_used": 1,
          "standard_of_living_index": 4,
          "wife_age": 26,
          "wife_education": 4,
          "wife_religion": 1
         },
         {
          "contraceptive_method_used": 3,
          "standard_of_living_index": 2,
          "wife_age": 21,
          "wife_education": 3,
          "wife_religion": 0
         },
         {
          "contraceptive_method_used": 3,
          "standard_of_living_index": 4,
          "wife_age": 43,
          "wife_education": 3,
          "wife_religion": 0
         },
         {
          "contraceptive_method_used": 2,
          "standard_of_living_index": 4,
          "wife_age": 32,
          "wife_education": 3,
          "wife_religion": 1
         },
         {
          "contraceptive_method_used": 2,
          "standard_of_living_index": 3,
          "wife_age": 31,
          "wife_education": 3,
          "wife_religion": 1
         },
         {
          "contraceptive_method_used": 3,
          "standard_of_living_index": 3,
          "wife_age": 24,
          "wife_education": 4,
          "wife_religion": 1
         },
         {
          "contraceptive_method_used": 1,
          "standard_of_living_index": 1,
          "wife_age": 38,
          "wife_education": 3,
          "wife_religion": 1
         },
         {
          "contraceptive_method_used": 3,
          "standard_of_living_index": 3,
          "wife_age": 30,
          "wife_education": 3,
          "wife_religion": 1
         },
         {
          "contraceptive_method_used": 2,
          "standard_of_living_index": 4,
          "wife_age": 44,
          "wife_education": 4,
          "wife_religion": 1
         },
         {
          "contraceptive_method_used": 3,
          "standard_of_living_index": 4,
          "wife_age": 22,
          "wife_education": 4,
          "wife_religion": 1
         },
         {
          "contraceptive_method_used": 1,
          "standard_of_living_index": 3,
          "wife_age": 49,
          "wife_education": 4,
          "wife_religion": 1
         },
         {
          "contraceptive_method_used": 1,
          "standard_of_living_index": 1,
          "wife_age": 25,
          "wife_education": 2,
          "wife_religion": 1
         },
         {
          "contraceptive_method_used": 1,
          "standard_of_living_index": 2,
          "wife_age": 47,
          "wife_education": 2,
          "wife_religion": 1
         },
         {
          "contraceptive_method_used": 1,
          "standard_of_living_index": 2,
          "wife_age": 25,
          "wife_education": 3,
          "wife_religion": 1
         },
         {
          "contraceptive_method_used": 1,
          "standard_of_living_index": 4,
          "wife_age": 31,
          "wife_education": 3,
          "wife_religion": 1
         },
         {
          "contraceptive_method_used": 1,
          "standard_of_living_index": 1,
          "wife_age": 39,
          "wife_education": 1,
          "wife_religion": 1
         },
         {
          "contraceptive_method_used": 1,
          "standard_of_living_index": 3,
          "wife_age": 28,
          "wife_education": 4,
          "wife_religion": 1
         },
         {
          "contraceptive_method_used": 1,
          "standard_of_living_index": 2,
          "wife_age": 38,
          "wife_education": 2,
          "wife_religion": 1
         },
         {
          "contraceptive_method_used": 1,
          "standard_of_living_index": 3,
          "wife_age": 31,
          "wife_education": 3,
          "wife_religion": 1
         },
         {
          "contraceptive_method_used": 1,
          "standard_of_living_index": 4,
          "wife_age": 36,
          "wife_education": 3,
          "wife_religion": 1
         },
         {
          "contraceptive_method_used": 2,
          "standard_of_living_index": 3,
          "wife_age": 33,
          "wife_education": 3,
          "wife_religion": 0
         },
         {
          "contraceptive_method_used": 1,
          "standard_of_living_index": 4,
          "wife_age": 37,
          "wife_education": 3,
          "wife_religion": 1
         },
         {
          "contraceptive_method_used": 1,
          "standard_of_living_index": 4,
          "wife_age": 23,
          "wife_education": 4,
          "wife_religion": 1
         },
         {
          "contraceptive_method_used": 3,
          "standard_of_living_index": 2,
          "wife_age": 19,
          "wife_education": 4,
          "wife_religion": 1
         },
         {
          "contraceptive_method_used": 3,
          "standard_of_living_index": 3,
          "wife_age": 28,
          "wife_education": 2,
          "wife_religion": 1
         },
         {
          "contraceptive_method_used": 2,
          "standard_of_living_index": 4,
          "wife_age": 32,
          "wife_education": 4,
          "wife_religion": 0
         },
         {
          "contraceptive_method_used": 2,
          "standard_of_living_index": 3,
          "wife_age": 29,
          "wife_education": 3,
          "wife_religion": 1
         },
         {
          "contraceptive_method_used": 3,
          "standard_of_living_index": 3,
          "wife_age": 30,
          "wife_education": 3,
          "wife_religion": 1
         },
         {
          "contraceptive_method_used": 1,
          "standard_of_living_index": 2,
          "wife_age": 28,
          "wife_education": 3,
          "wife_religion": 0
         },
         {
          "contraceptive_method_used": 1,
          "standard_of_living_index": 4,
          "wife_age": 25,
          "wife_education": 4,
          "wife_religion": 1
         },
         {
          "contraceptive_method_used": 1,
          "standard_of_living_index": 3,
          "wife_age": 32,
          "wife_education": 4,
          "wife_religion": 1
         },
         {
          "contraceptive_method_used": 1,
          "standard_of_living_index": 4,
          "wife_age": 27,
          "wife_education": 4,
          "wife_religion": 0
         },
         {
          "contraceptive_method_used": 1,
          "standard_of_living_index": 4,
          "wife_age": 48,
          "wife_education": 4,
          "wife_religion": 0
         },
         {
          "contraceptive_method_used": 3,
          "standard_of_living_index": 4,
          "wife_age": 26,
          "wife_education": 4,
          "wife_religion": 1
         },
         {
          "contraceptive_method_used": 2,
          "standard_of_living_index": 4,
          "wife_age": 45,
          "wife_education": 4,
          "wife_religion": 1
         },
         {
          "contraceptive_method_used": 1,
          "standard_of_living_index": 4,
          "wife_age": 49,
          "wife_education": 2,
          "wife_religion": 1
         },
         {
          "contraceptive_method_used": 3,
          "standard_of_living_index": 2,
          "wife_age": 26,
          "wife_education": 4,
          "wife_religion": 1
         },
         {
          "contraceptive_method_used": 2,
          "standard_of_living_index": 3,
          "wife_age": 32,
          "wife_education": 4,
          "wife_religion": 0
         },
         {
          "contraceptive_method_used": 1,
          "standard_of_living_index": 2,
          "wife_age": 26,
          "wife_education": 2,
          "wife_religion": 1
         },
         {
          "contraceptive_method_used": 1,
          "standard_of_living_index": 2,
          "wife_age": 32,
          "wife_education": 1,
          "wife_religion": 1
         },
         {
          "contraceptive_method_used": 1,
          "standard_of_living_index": 4,
          "wife_age": 42,
          "wife_education": 2,
          "wife_religion": 1
         },
         {
          "contraceptive_method_used": 1,
          "standard_of_living_index": 4,
          "wife_age": 48,
          "wife_education": 4,
          "wife_religion": 1
         },
         {
          "contraceptive_method_used": 1,
          "standard_of_living_index": 4,
          "wife_age": 43,
          "wife_education": 1,
          "wife_religion": 1
         },
         {
          "contraceptive_method_used": 1,
          "standard_of_living_index": 3,
          "wife_age": 32,
          "wife_education": 2,
          "wife_religion": 1
         },
         {
          "contraceptive_method_used": 3,
          "standard_of_living_index": 3,
          "wife_age": 21,
          "wife_education": 3,
          "wife_religion": 1
         },
         {
          "contraceptive_method_used": 1,
          "standard_of_living_index": 1,
          "wife_age": 47,
          "wife_education": 2,
          "wife_religion": 1
         },
         {
          "contraceptive_method_used": 1,
          "standard_of_living_index": 4,
          "wife_age": 34,
          "wife_education": 4,
          "wife_religion": 1
         },
         {
          "contraceptive_method_used": 3,
          "standard_of_living_index": 1,
          "wife_age": 30,
          "wife_education": 3,
          "wife_religion": 1
         },
         {
          "contraceptive_method_used": 3,
          "standard_of_living_index": 4,
          "wife_age": 36,
          "wife_education": 3,
          "wife_religion": 1
         },
         {
          "contraceptive_method_used": 1,
          "standard_of_living_index": 2,
          "wife_age": 31,
          "wife_education": 2,
          "wife_religion": 1
         },
         {
          "contraceptive_method_used": 1,
          "standard_of_living_index": 3,
          "wife_age": 45,
          "wife_education": 4,
          "wife_religion": 1
         },
         {
          "contraceptive_method_used": 1,
          "standard_of_living_index": 4,
          "wife_age": 49,
          "wife_education": 4,
          "wife_religion": 0
         },
         {
          "contraceptive_method_used": 3,
          "standard_of_living_index": 4,
          "wife_age": 41,
          "wife_education": 4,
          "wife_religion": 1
         },
         {
          "contraceptive_method_used": 1,
          "standard_of_living_index": 4,
          "wife_age": 49,
          "wife_education": 3,
          "wife_religion": 1
         },
         {
          "contraceptive_method_used": 3,
          "standard_of_living_index": 1,
          "wife_age": 24,
          "wife_education": 3,
          "wife_religion": 1
         },
         {
          "contraceptive_method_used": 3,
          "standard_of_living_index": 4,
          "wife_age": 30,
          "wife_education": 2,
          "wife_religion": 1
         },
         {
          "contraceptive_method_used": 3,
          "standard_of_living_index": 1,
          "wife_age": 25,
          "wife_education": 2,
          "wife_religion": 1
         },
         {
          "contraceptive_method_used": 3,
          "standard_of_living_index": 4,
          "wife_age": 41,
          "wife_education": 1,
          "wife_religion": 1
         },
         {
          "contraceptive_method_used": 1,
          "standard_of_living_index": 2,
          "wife_age": 40,
          "wife_education": 3,
          "wife_religion": 1
         },
         {
          "contraceptive_method_used": 1,
          "standard_of_living_index": 2,
          "wife_age": 32,
          "wife_education": 1,
          "wife_religion": 1
         },
         {
          "contraceptive_method_used": 3,
          "standard_of_living_index": 3,
          "wife_age": 26,
          "wife_education": 3,
          "wife_religion": 1
         },
         {
          "contraceptive_method_used": 3,
          "standard_of_living_index": 2,
          "wife_age": 35,
          "wife_education": 1,
          "wife_religion": 1
         },
         {
          "contraceptive_method_used": 2,
          "standard_of_living_index": 3,
          "wife_age": 36,
          "wife_education": 3,
          "wife_religion": 1
         },
         {
          "contraceptive_method_used": 1,
          "standard_of_living_index": 2,
          "wife_age": 40,
          "wife_education": 2,
          "wife_religion": 1
         },
         {
          "contraceptive_method_used": 2,
          "standard_of_living_index": 3,
          "wife_age": 35,
          "wife_education": 4,
          "wife_religion": 1
         },
         {
          "contraceptive_method_used": 1,
          "standard_of_living_index": 3,
          "wife_age": 48,
          "wife_education": 3,
          "wife_religion": 1
         },
         {
          "contraceptive_method_used": 1,
          "standard_of_living_index": 4,
          "wife_age": 27,
          "wife_education": 4,
          "wife_religion": 1
         },
         {
          "contraceptive_method_used": 3,
          "standard_of_living_index": 3,
          "wife_age": 35,
          "wife_education": 2,
          "wife_religion": 1
         },
         {
          "contraceptive_method_used": 3,
          "standard_of_living_index": 3,
          "wife_age": 47,
          "wife_education": 4,
          "wife_religion": 1
         },
         {
          "contraceptive_method_used": 1,
          "standard_of_living_index": 3,
          "wife_age": 26,
          "wife_education": 2,
          "wife_religion": 1
         },
         {
          "contraceptive_method_used": 3,
          "standard_of_living_index": 2,
          "wife_age": 30,
          "wife_education": 4,
          "wife_religion": 1
         },
         {
          "contraceptive_method_used": 3,
          "standard_of_living_index": 1,
          "wife_age": 29,
          "wife_education": 2,
          "wife_religion": 1
         },
         {
          "contraceptive_method_used": 3,
          "standard_of_living_index": 4,
          "wife_age": 28,
          "wife_education": 3,
          "wife_religion": 1
         },
         {
          "contraceptive_method_used": 3,
          "standard_of_living_index": 4,
          "wife_age": 43,
          "wife_education": 4,
          "wife_religion": 0
         },
         {
          "contraceptive_method_used": 2,
          "standard_of_living_index": 4,
          "wife_age": 42,
          "wife_education": 4,
          "wife_religion": 1
         },
         {
          "contraceptive_method_used": 3,
          "standard_of_living_index": 3,
          "wife_age": 34,
          "wife_education": 2,
          "wife_religion": 1
         },
         {
          "contraceptive_method_used": 1,
          "standard_of_living_index": 2,
          "wife_age": 31,
          "wife_education": 3,
          "wife_religion": 1
         },
         {
          "contraceptive_method_used": 3,
          "standard_of_living_index": 2,
          "wife_age": 36,
          "wife_education": 4,
          "wife_religion": 0
         },
         {
          "contraceptive_method_used": 2,
          "standard_of_living_index": 3,
          "wife_age": 28,
          "wife_education": 3,
          "wife_religion": 0
         },
         {
          "contraceptive_method_used": 2,
          "standard_of_living_index": 3,
          "wife_age": 33,
          "wife_education": 4,
          "wife_religion": 1
         },
         {
          "contraceptive_method_used": 3,
          "standard_of_living_index": 4,
          "wife_age": 44,
          "wife_education": 4,
          "wife_religion": 1
         },
         {
          "contraceptive_method_used": 2,
          "standard_of_living_index": 4,
          "wife_age": 33,
          "wife_education": 3,
          "wife_religion": 0
         },
         {
          "contraceptive_method_used": 3,
          "standard_of_living_index": 3,
          "wife_age": 29,
          "wife_education": 3,
          "wife_religion": 1
         },
         {
          "contraceptive_method_used": 1,
          "standard_of_living_index": 3,
          "wife_age": 31,
          "wife_education": 4,
          "wife_religion": 1
         },
         {
          "contraceptive_method_used": 3,
          "standard_of_living_index": 4,
          "wife_age": 29,
          "wife_education": 2,
          "wife_religion": 1
         },
         {
          "contraceptive_method_used": 1,
          "standard_of_living_index": 3,
          "wife_age": 49,
          "wife_education": 2,
          "wife_religion": 1
         },
         {
          "contraceptive_method_used": 2,
          "standard_of_living_index": 4,
          "wife_age": 27,
          "wife_education": 3,
          "wife_religion": 1
         },
         {
          "contraceptive_method_used": 2,
          "standard_of_living_index": 4,
          "wife_age": 43,
          "wife_education": 4,
          "wife_religion": 0
         },
         {
          "contraceptive_method_used": 3,
          "standard_of_living_index": 4,
          "wife_age": 28,
          "wife_education": 4,
          "wife_religion": 1
         },
         {
          "contraceptive_method_used": 1,
          "standard_of_living_index": 2,
          "wife_age": 45,
          "wife_education": 2,
          "wife_religion": 1
         },
         {
          "contraceptive_method_used": 1,
          "standard_of_living_index": 2,
          "wife_age": 19,
          "wife_education": 2,
          "wife_religion": 1
         },
         {
          "contraceptive_method_used": 3,
          "standard_of_living_index": 4,
          "wife_age": 30,
          "wife_education": 1,
          "wife_religion": 1
         },
         {
          "contraceptive_method_used": 3,
          "standard_of_living_index": 4,
          "wife_age": 32,
          "wife_education": 2,
          "wife_religion": 1
         },
         {
          "contraceptive_method_used": 1,
          "standard_of_living_index": 1,
          "wife_age": 24,
          "wife_education": 2,
          "wife_religion": 1
         },
         {
          "contraceptive_method_used": 3,
          "standard_of_living_index": 4,
          "wife_age": 25,
          "wife_education": 3,
          "wife_religion": 1
         },
         {
          "contraceptive_method_used": 1,
          "standard_of_living_index": 2,
          "wife_age": 31,
          "wife_education": 3,
          "wife_religion": 1
         },
         {
          "contraceptive_method_used": 1,
          "standard_of_living_index": 4,
          "wife_age": 48,
          "wife_education": 3,
          "wife_religion": 1
         },
         {
          "contraceptive_method_used": 1,
          "standard_of_living_index": 4,
          "wife_age": 47,
          "wife_education": 4,
          "wife_religion": 1
         },
         {
          "contraceptive_method_used": 3,
          "standard_of_living_index": 3,
          "wife_age": 47,
          "wife_education": 4,
          "wife_religion": 1
         },
         {
          "contraceptive_method_used": 3,
          "standard_of_living_index": 4,
          "wife_age": 28,
          "wife_education": 2,
          "wife_religion": 1
         },
         {
          "contraceptive_method_used": 1,
          "standard_of_living_index": 2,
          "wife_age": 36,
          "wife_education": 1,
          "wife_religion": 1
         },
         {
          "contraceptive_method_used": 1,
          "standard_of_living_index": 2,
          "wife_age": 27,
          "wife_education": 4,
          "wife_religion": 1
         },
         {
          "contraceptive_method_used": 1,
          "standard_of_living_index": 4,
          "wife_age": 37,
          "wife_education": 3,
          "wife_religion": 1
         },
         {
          "contraceptive_method_used": 1,
          "standard_of_living_index": 3,
          "wife_age": 47,
          "wife_education": 2,
          "wife_religion": 1
         },
         {
          "contraceptive_method_used": 3,
          "standard_of_living_index": 4,
          "wife_age": 37,
          "wife_education": 4,
          "wife_religion": 1
         },
         {
          "contraceptive_method_used": 3,
          "standard_of_living_index": 4,
          "wife_age": 29,
          "wife_education": 3,
          "wife_religion": 1
         },
         {
          "contraceptive_method_used": 3,
          "standard_of_living_index": 2,
          "wife_age": 39,
          "wife_education": 4,
          "wife_religion": 1
         },
         {
          "contraceptive_method_used": 3,
          "standard_of_living_index": 4,
          "wife_age": 44,
          "wife_education": 4,
          "wife_religion": 1
         },
         {
          "contraceptive_method_used": 3,
          "standard_of_living_index": 4,
          "wife_age": 27,
          "wife_education": 3,
          "wife_religion": 1
         },
         {
          "contraceptive_method_used": 1,
          "standard_of_living_index": 4,
          "wife_age": 34,
          "wife_education": 2,
          "wife_religion": 1
         },
         {
          "contraceptive_method_used": 3,
          "standard_of_living_index": 2,
          "wife_age": 21,
          "wife_education": 3,
          "wife_religion": 1
         },
         {
          "contraceptive_method_used": 3,
          "standard_of_living_index": 3,
          "wife_age": 20,
          "wife_education": 4,
          "wife_religion": 1
         },
         {
          "contraceptive_method_used": 1,
          "standard_of_living_index": 3,
          "wife_age": 32,
          "wife_education": 2,
          "wife_religion": 1
         },
         {
          "contraceptive_method_used": 3,
          "standard_of_living_index": 4,
          "wife_age": 25,
          "wife_education": 3,
          "wife_religion": 1
         },
         {
          "contraceptive_method_used": 3,
          "standard_of_living_index": 3,
          "wife_age": 24,
          "wife_education": 3,
          "wife_religion": 1
         },
         {
          "contraceptive_method_used": 1,
          "standard_of_living_index": 4,
          "wife_age": 42,
          "wife_education": 3,
          "wife_religion": 1
         },
         {
          "contraceptive_method_used": 3,
          "standard_of_living_index": 4,
          "wife_age": 25,
          "wife_education": 4,
          "wife_religion": 1
         },
         {
          "contraceptive_method_used": 3,
          "standard_of_living_index": 3,
          "wife_age": 24,
          "wife_education": 3,
          "wife_religion": 1
         },
         {
          "contraceptive_method_used": 2,
          "standard_of_living_index": 4,
          "wife_age": 32,
          "wife_education": 4,
          "wife_religion": 1
         },
         {
          "contraceptive_method_used": 3,
          "standard_of_living_index": 4,
          "wife_age": 41,
          "wife_education": 4,
          "wife_religion": 1
         },
         {
          "contraceptive_method_used": 1,
          "standard_of_living_index": 1,
          "wife_age": 18,
          "wife_education": 3,
          "wife_religion": 1
         },
         {
          "contraceptive_method_used": 2,
          "standard_of_living_index": 4,
          "wife_age": 36,
          "wife_education": 3,
          "wife_religion": 0
         },
         {
          "contraceptive_method_used": 1,
          "standard_of_living_index": 4,
          "wife_age": 47,
          "wife_education": 4,
          "wife_religion": 0
         },
         {
          "contraceptive_method_used": 2,
          "standard_of_living_index": 4,
          "wife_age": 40,
          "wife_education": 4,
          "wife_religion": 1
         },
         {
          "contraceptive_method_used": 1,
          "standard_of_living_index": 4,
          "wife_age": 42,
          "wife_education": 4,
          "wife_religion": 1
         },
         {
          "contraceptive_method_used": 1,
          "standard_of_living_index": 3,
          "wife_age": 46,
          "wife_education": 4,
          "wife_religion": 1
         },
         {
          "contraceptive_method_used": 2,
          "standard_of_living_index": 2,
          "wife_age": 43,
          "wife_education": 3,
          "wife_religion": 1
         },
         {
          "contraceptive_method_used": 1,
          "standard_of_living_index": 2,
          "wife_age": 40,
          "wife_education": 3,
          "wife_religion": 1
         },
         {
          "contraceptive_method_used": 3,
          "standard_of_living_index": 2,
          "wife_age": 32,
          "wife_education": 2,
          "wife_religion": 1
         },
         {
          "contraceptive_method_used": 1,
          "standard_of_living_index": 2,
          "wife_age": 35,
          "wife_education": 3,
          "wife_religion": 1
         },
         {
          "contraceptive_method_used": 1,
          "standard_of_living_index": 4,
          "wife_age": 42,
          "wife_education": 4,
          "wife_religion": 0
         },
         {
          "contraceptive_method_used": 1,
          "standard_of_living_index": 2,
          "wife_age": 37,
          "wife_education": 1,
          "wife_religion": 1
         },
         {
          "contraceptive_method_used": 2,
          "standard_of_living_index": 3,
          "wife_age": 41,
          "wife_education": 3,
          "wife_religion": 1
         },
         {
          "contraceptive_method_used": 1,
          "standard_of_living_index": 2,
          "wife_age": 24,
          "wife_education": 3,
          "wife_religion": 1
         },
         {
          "contraceptive_method_used": 1,
          "standard_of_living_index": 4,
          "wife_age": 25,
          "wife_education": 4,
          "wife_religion": 0
         },
         {
          "contraceptive_method_used": 3,
          "standard_of_living_index": 3,
          "wife_age": 22,
          "wife_education": 2,
          "wife_religion": 1
         },
         {
          "contraceptive_method_used": 1,
          "standard_of_living_index": 3,
          "wife_age": 30,
          "wife_education": 4,
          "wife_religion": 1
         },
         {
          "contraceptive_method_used": 2,
          "standard_of_living_index": 1,
          "wife_age": 33,
          "wife_education": 2,
          "wife_religion": 1
         },
         {
          "contraceptive_method_used": 2,
          "standard_of_living_index": 4,
          "wife_age": 33,
          "wife_education": 2,
          "wife_religion": 1
         },
         {
          "contraceptive_method_used": 1,
          "standard_of_living_index": 4,
          "wife_age": 27,
          "wife_education": 4,
          "wife_religion": 1
         },
         {
          "contraceptive_method_used": 3,
          "standard_of_living_index": 2,
          "wife_age": 21,
          "wife_education": 3,
          "wife_religion": 1
         },
         {
          "contraceptive_method_used": 1,
          "standard_of_living_index": 4,
          "wife_age": 30,
          "wife_education": 1,
          "wife_religion": 1
         },
         {
          "contraceptive_method_used": 3,
          "standard_of_living_index": 2,
          "wife_age": 37,
          "wife_education": 3,
          "wife_religion": 1
         },
         {
          "contraceptive_method_used": 2,
          "standard_of_living_index": 2,
          "wife_age": 24,
          "wife_education": 3,
          "wife_religion": 1
         },
         {
          "contraceptive_method_used": 2,
          "standard_of_living_index": 4,
          "wife_age": 41,
          "wife_education": 4,
          "wife_religion": 1
         },
         {
          "contraceptive_method_used": 1,
          "standard_of_living_index": 3,
          "wife_age": 38,
          "wife_education": 3,
          "wife_religion": 1
         },
         {
          "contraceptive_method_used": 1,
          "standard_of_living_index": 4,
          "wife_age": 37,
          "wife_education": 3,
          "wife_religion": 1
         },
         {
          "contraceptive_method_used": 2,
          "standard_of_living_index": 4,
          "wife_age": 34,
          "wife_education": 4,
          "wife_religion": 1
         },
         {
          "contraceptive_method_used": 2,
          "standard_of_living_index": 4,
          "wife_age": 25,
          "wife_education": 3,
          "wife_religion": 1
         },
         {
          "contraceptive_method_used": 1,
          "standard_of_living_index": 4,
          "wife_age": 42,
          "wife_education": 4,
          "wife_religion": 1
         },
         {
          "contraceptive_method_used": 3,
          "standard_of_living_index": 2,
          "wife_age": 24,
          "wife_education": 1,
          "wife_religion": 1
         },
         {
          "contraceptive_method_used": 2,
          "standard_of_living_index": 4,
          "wife_age": 30,
          "wife_education": 2,
          "wife_religion": 1
         },
         {
          "contraceptive_method_used": 1,
          "standard_of_living_index": 4,
          "wife_age": 34,
          "wife_education": 1,
          "wife_religion": 1
         },
         {
          "contraceptive_method_used": 1,
          "standard_of_living_index": 3,
          "wife_age": 23,
          "wife_education": 3,
          "wife_religion": 1
         },
         {
          "contraceptive_method_used": 2,
          "standard_of_living_index": 3,
          "wife_age": 27,
          "wife_education": 4,
          "wife_religion": 1
         },
         {
          "contraceptive_method_used": 2,
          "standard_of_living_index": 4,
          "wife_age": 33,
          "wife_education": 4,
          "wife_religion": 0
         },
         {
          "contraceptive_method_used": 2,
          "standard_of_living_index": 4,
          "wife_age": 37,
          "wife_education": 4,
          "wife_religion": 1
         },
         {
          "contraceptive_method_used": 2,
          "standard_of_living_index": 4,
          "wife_age": 21,
          "wife_education": 4,
          "wife_religion": 1
         },
         {
          "contraceptive_method_used": 2,
          "standard_of_living_index": 4,
          "wife_age": 27,
          "wife_education": 3,
          "wife_religion": 1
         },
         {
          "contraceptive_method_used": 2,
          "standard_of_living_index": 4,
          "wife_age": 41,
          "wife_education": 4,
          "wife_religion": 1
         },
         {
          "contraceptive_method_used": 1,
          "standard_of_living_index": 3,
          "wife_age": 40,
          "wife_education": 2,
          "wife_religion": 1
         },
         {
          "contraceptive_method_used": 2,
          "standard_of_living_index": 4,
          "wife_age": 44,
          "wife_education": 4,
          "wife_religion": 1
         },
         {
          "contraceptive_method_used": 1,
          "standard_of_living_index": 3,
          "wife_age": 36,
          "wife_education": 2,
          "wife_religion": 1
         },
         {
          "contraceptive_method_used": 1,
          "standard_of_living_index": 4,
          "wife_age": 43,
          "wife_education": 3,
          "wife_religion": 1
         },
         {
          "contraceptive_method_used": 1,
          "standard_of_living_index": 1,
          "wife_age": 28,
          "wife_education": 3,
          "wife_religion": 1
         },
         {
          "contraceptive_method_used": 1,
          "standard_of_living_index": 4,
          "wife_age": 45,
          "wife_education": 1,
          "wife_religion": 1
         },
         {
          "contraceptive_method_used": 1,
          "standard_of_living_index": 4,
          "wife_age": 40,
          "wife_education": 4,
          "wife_religion": 1
         },
         {
          "contraceptive_method_used": 1,
          "standard_of_living_index": 1,
          "wife_age": 45,
          "wife_education": 1,
          "wife_religion": 0
         },
         {
          "contraceptive_method_used": 1,
          "standard_of_living_index": 3,
          "wife_age": 35,
          "wife_education": 2,
          "wife_religion": 1
         },
         {
          "contraceptive_method_used": 3,
          "standard_of_living_index": 3,
          "wife_age": 28,
          "wife_education": 3,
          "wife_religion": 0
         },
         {
          "contraceptive_method_used": 1,
          "standard_of_living_index": 3,
          "wife_age": 45,
          "wife_education": 2,
          "wife_religion": 1
         },
         {
          "contraceptive_method_used": 2,
          "standard_of_living_index": 4,
          "wife_age": 24,
          "wife_education": 4,
          "wife_religion": 1
         },
         {
          "contraceptive_method_used": 1,
          "standard_of_living_index": 1,
          "wife_age": 19,
          "wife_education": 2,
          "wife_religion": 1
         },
         {
          "contraceptive_method_used": 1,
          "standard_of_living_index": 2,
          "wife_age": 47,
          "wife_education": 2,
          "wife_religion": 1
         },
         {
          "contraceptive_method_used": 3,
          "standard_of_living_index": 3,
          "wife_age": 21,
          "wife_education": 1,
          "wife_religion": 1
         },
         {
          "contraceptive_method_used": 3,
          "standard_of_living_index": 4,
          "wife_age": 39,
          "wife_education": 4,
          "wife_religion": 0
         },
         {
          "contraceptive_method_used": 2,
          "standard_of_living_index": 4,
          "wife_age": 48,
          "wife_education": 4,
          "wife_religion": 0
         },
         {
          "contraceptive_method_used": 1,
          "standard_of_living_index": 4,
          "wife_age": 32,
          "wife_education": 3,
          "wife_religion": 0
         },
         {
          "contraceptive_method_used": 1,
          "standard_of_living_index": 3,
          "wife_age": 34,
          "wife_education": 4,
          "wife_religion": 0
         },
         {
          "contraceptive_method_used": 3,
          "standard_of_living_index": 4,
          "wife_age": 34,
          "wife_education": 4,
          "wife_religion": 1
         },
         {
          "contraceptive_method_used": 1,
          "standard_of_living_index": 3,
          "wife_age": 34,
          "wife_education": 3,
          "wife_religion": 1
         },
         {
          "contraceptive_method_used": 3,
          "standard_of_living_index": 4,
          "wife_age": 28,
          "wife_education": 4,
          "wife_religion": 1
         },
         {
          "contraceptive_method_used": 2,
          "standard_of_living_index": 2,
          "wife_age": 35,
          "wife_education": 3,
          "wife_religion": 1
         },
         {
          "contraceptive_method_used": 3,
          "standard_of_living_index": 4,
          "wife_age": 34,
          "wife_education": 4,
          "wife_religion": 1
         },
         {
          "contraceptive_method_used": 3,
          "standard_of_living_index": 3,
          "wife_age": 25,
          "wife_education": 4,
          "wife_religion": 1
         },
         {
          "contraceptive_method_used": 3,
          "standard_of_living_index": 4,
          "wife_age": 27,
          "wife_education": 4,
          "wife_religion": 0
         },
         {
          "contraceptive_method_used": 2,
          "standard_of_living_index": 3,
          "wife_age": 38,
          "wife_education": 4,
          "wife_religion": 1
         },
         {
          "contraceptive_method_used": 1,
          "standard_of_living_index": 4,
          "wife_age": 43,
          "wife_education": 4,
          "wife_religion": 1
         },
         {
          "contraceptive_method_used": 2,
          "standard_of_living_index": 4,
          "wife_age": 36,
          "wife_education": 4,
          "wife_religion": 0
         },
         {
          "contraceptive_method_used": 3,
          "standard_of_living_index": 3,
          "wife_age": 23,
          "wife_education": 3,
          "wife_religion": 1
         },
         {
          "contraceptive_method_used": 3,
          "standard_of_living_index": 4,
          "wife_age": 24,
          "wife_education": 4,
          "wife_religion": 1
         },
         {
          "contraceptive_method_used": 1,
          "standard_of_living_index": 4,
          "wife_age": 23,
          "wife_education": 4,
          "wife_religion": 1
         },
         {
          "contraceptive_method_used": 2,
          "standard_of_living_index": 4,
          "wife_age": 25,
          "wife_education": 4,
          "wife_religion": 1
         },
         {
          "contraceptive_method_used": 2,
          "standard_of_living_index": 4,
          "wife_age": 25,
          "wife_education": 2,
          "wife_religion": 1
         },
         {
          "contraceptive_method_used": 2,
          "standard_of_living_index": 4,
          "wife_age": 36,
          "wife_education": 4,
          "wife_religion": 0
         },
         {
          "contraceptive_method_used": 1,
          "standard_of_living_index": 3,
          "wife_age": 35,
          "wife_education": 4,
          "wife_religion": 0
         },
         {
          "contraceptive_method_used": 1,
          "standard_of_living_index": 3,
          "wife_age": 31,
          "wife_education": 3,
          "wife_religion": 1
         },
         {
          "contraceptive_method_used": 1,
          "standard_of_living_index": 4,
          "wife_age": 32,
          "wife_education": 2,
          "wife_religion": 1
         },
         {
          "contraceptive_method_used": 1,
          "standard_of_living_index": 3,
          "wife_age": 39,
          "wife_education": 3,
          "wife_religion": 1
         },
         {
          "contraceptive_method_used": 3,
          "standard_of_living_index": 4,
          "wife_age": 39,
          "wife_education": 4,
          "wife_religion": 1
         },
         {
          "contraceptive_method_used": 2,
          "standard_of_living_index": 2,
          "wife_age": 32,
          "wife_education": 3,
          "wife_religion": 1
         },
         {
          "contraceptive_method_used": 2,
          "standard_of_living_index": 4,
          "wife_age": 39,
          "wife_education": 4,
          "wife_religion": 1
         },
         {
          "contraceptive_method_used": 3,
          "standard_of_living_index": 3,
          "wife_age": 32,
          "wife_education": 1,
          "wife_religion": 0
         },
         {
          "contraceptive_method_used": 3,
          "standard_of_living_index": 4,
          "wife_age": 19,
          "wife_education": 4,
          "wife_religion": 1
         },
         {
          "contraceptive_method_used": 3,
          "standard_of_living_index": 2,
          "wife_age": 33,
          "wife_education": 3,
          "wife_religion": 1
         },
         {
          "contraceptive_method_used": 1,
          "standard_of_living_index": 4,
          "wife_age": 23,
          "wife_education": 4,
          "wife_religion": 1
         },
         {
          "contraceptive_method_used": 1,
          "standard_of_living_index": 3,
          "wife_age": 38,
          "wife_education": 1,
          "wife_religion": 1
         },
         {
          "contraceptive_method_used": 2,
          "standard_of_living_index": 4,
          "wife_age": 25,
          "wife_education": 2,
          "wife_religion": 1
         },
         {
          "contraceptive_method_used": 1,
          "standard_of_living_index": 3,
          "wife_age": 43,
          "wife_education": 4,
          "wife_religion": 1
         },
         {
          "contraceptive_method_used": 1,
          "standard_of_living_index": 1,
          "wife_age": 25,
          "wife_education": 2,
          "wife_religion": 1
         },
         {
          "contraceptive_method_used": 3,
          "standard_of_living_index": 4,
          "wife_age": 46,
          "wife_education": 1,
          "wife_religion": 1
         },
         {
          "contraceptive_method_used": 1,
          "standard_of_living_index": 4,
          "wife_age": 30,
          "wife_education": 4,
          "wife_religion": 1
         },
         {
          "contraceptive_method_used": 1,
          "standard_of_living_index": 1,
          "wife_age": 28,
          "wife_education": 3,
          "wife_religion": 1
         },
         {
          "contraceptive_method_used": 2,
          "standard_of_living_index": 4,
          "wife_age": 40,
          "wife_education": 3,
          "wife_religion": 0
         },
         {
          "contraceptive_method_used": 1,
          "standard_of_living_index": 4,
          "wife_age": 30,
          "wife_education": 4,
          "wife_religion": 1
         },
         {
          "contraceptive_method_used": 3,
          "standard_of_living_index": 2,
          "wife_age": 25,
          "wife_education": 2,
          "wife_religion": 1
         },
         {
          "contraceptive_method_used": 2,
          "standard_of_living_index": 4,
          "wife_age": 37,
          "wife_education": 4,
          "wife_religion": 0
         },
         {
          "contraceptive_method_used": 3,
          "standard_of_living_index": 2,
          "wife_age": 37,
          "wife_education": 4,
          "wife_religion": 1
         },
         {
          "contraceptive_method_used": 1,
          "standard_of_living_index": 2,
          "wife_age": 27,
          "wife_education": 3,
          "wife_religion": 1
         },
         {
          "contraceptive_method_used": 1,
          "standard_of_living_index": 4,
          "wife_age": 22,
          "wife_education": 4,
          "wife_religion": 1
         },
         {
          "contraceptive_method_used": 1,
          "standard_of_living_index": 2,
          "wife_age": 21,
          "wife_education": 3,
          "wife_religion": 1
         },
         {
          "contraceptive_method_used": 3,
          "standard_of_living_index": 2,
          "wife_age": 30,
          "wife_education": 3,
          "wife_religion": 1
         },
         {
          "contraceptive_method_used": 2,
          "standard_of_living_index": 4,
          "wife_age": 32,
          "wife_education": 4,
          "wife_religion": 1
         },
         {
          "contraceptive_method_used": 1,
          "standard_of_living_index": 3,
          "wife_age": 22,
          "wife_education": 2,
          "wife_religion": 1
         },
         {
          "contraceptive_method_used": 3,
          "standard_of_living_index": 4,
          "wife_age": 22,
          "wife_education": 3,
          "wife_religion": 1
         },
         {
          "contraceptive_method_used": 2,
          "standard_of_living_index": 4,
          "wife_age": 24,
          "wife_education": 4,
          "wife_religion": 1
         },
         {
          "contraceptive_method_used": 2,
          "standard_of_living_index": 4,
          "wife_age": 36,
          "wife_education": 4,
          "wife_religion": 1
         },
         {
          "contraceptive_method_used": 2,
          "standard_of_living_index": 3,
          "wife_age": 43,
          "wife_education": 2,
          "wife_religion": 1
         },
         {
          "contraceptive_method_used": 1,
          "standard_of_living_index": 2,
          "wife_age": 27,
          "wife_education": 2,
          "wife_religion": 1
         },
         {
          "contraceptive_method_used": 3,
          "standard_of_living_index": 4,
          "wife_age": 34,
          "wife_education": 3,
          "wife_religion": 0
         },
         {
          "contraceptive_method_used": 3,
          "standard_of_living_index": 3,
          "wife_age": 34,
          "wife_education": 4,
          "wife_religion": 1
         },
         {
          "contraceptive_method_used": 1,
          "standard_of_living_index": 3,
          "wife_age": 20,
          "wife_education": 3,
          "wife_religion": 1
         },
         {
          "contraceptive_method_used": 2,
          "standard_of_living_index": 2,
          "wife_age": 38,
          "wife_education": 2,
          "wife_religion": 1
         },
         {
          "contraceptive_method_used": 1,
          "standard_of_living_index": 1,
          "wife_age": 18,
          "wife_education": 3,
          "wife_religion": 1
         },
         {
          "contraceptive_method_used": 3,
          "standard_of_living_index": 4,
          "wife_age": 36,
          "wife_education": 2,
          "wife_religion": 1
         },
         {
          "contraceptive_method_used": 1,
          "standard_of_living_index": 4,
          "wife_age": 30,
          "wife_education": 3,
          "wife_religion": 1
         },
         {
          "contraceptive_method_used": 3,
          "standard_of_living_index": 4,
          "wife_age": 33,
          "wife_education": 3,
          "wife_religion": 1
         },
         {
          "contraceptive_method_used": 2,
          "standard_of_living_index": 4,
          "wife_age": 24,
          "wife_education": 4,
          "wife_religion": 1
         },
         {
          "contraceptive_method_used": 3,
          "standard_of_living_index": 4,
          "wife_age": 40,
          "wife_education": 2,
          "wife_religion": 0
         },
         {
          "contraceptive_method_used": 3,
          "standard_of_living_index": 1,
          "wife_age": 25,
          "wife_education": 1,
          "wife_religion": 1
         },
         {
          "contraceptive_method_used": 3,
          "standard_of_living_index": 1,
          "wife_age": 31,
          "wife_education": 3,
          "wife_religion": 1
         },
         {
          "contraceptive_method_used": 1,
          "standard_of_living_index": 4,
          "wife_age": 42,
          "wife_education": 4,
          "wife_religion": 1
         },
         {
          "contraceptive_method_used": 1,
          "standard_of_living_index": 4,
          "wife_age": 45,
          "wife_education": 3,
          "wife_religion": 0
         },
         {
          "contraceptive_method_used": 2,
          "standard_of_living_index": 3,
          "wife_age": 27,
          "wife_education": 4,
          "wife_religion": 1
         },
         {
          "contraceptive_method_used": 2,
          "standard_of_living_index": 2,
          "wife_age": 34,
          "wife_education": 2,
          "wife_religion": 1
         },
         {
          "contraceptive_method_used": 1,
          "standard_of_living_index": 2,
          "wife_age": 25,
          "wife_education": 3,
          "wife_religion": 1
         },
         {
          "contraceptive_method_used": 3,
          "standard_of_living_index": 2,
          "wife_age": 45,
          "wife_education": 1,
          "wife_religion": 1
         },
         {
          "contraceptive_method_used": 3,
          "standard_of_living_index": 4,
          "wife_age": 28,
          "wife_education": 2,
          "wife_religion": 1
         },
         {
          "contraceptive_method_used": 2,
          "standard_of_living_index": 4,
          "wife_age": 49,
          "wife_education": 3,
          "wife_religion": 1
         },
         {
          "contraceptive_method_used": 3,
          "standard_of_living_index": 3,
          "wife_age": 28,
          "wife_education": 1,
          "wife_religion": 1
         },
         {
          "contraceptive_method_used": 2,
          "standard_of_living_index": 4,
          "wife_age": 36,
          "wife_education": 3,
          "wife_religion": 0
         },
         {
          "contraceptive_method_used": 1,
          "standard_of_living_index": 3,
          "wife_age": 25,
          "wife_education": 1,
          "wife_religion": 1
         },
         {
          "contraceptive_method_used": 1,
          "standard_of_living_index": 2,
          "wife_age": 26,
          "wife_education": 3,
          "wife_religion": 0
         },
         {
          "contraceptive_method_used": 1,
          "standard_of_living_index": 3,
          "wife_age": 25,
          "wife_education": 4,
          "wife_religion": 0
         },
         {
          "contraceptive_method_used": 3,
          "standard_of_living_index": 2,
          "wife_age": 21,
          "wife_education": 3,
          "wife_religion": 1
         },
         {
          "contraceptive_method_used": 2,
          "standard_of_living_index": 4,
          "wife_age": 37,
          "wife_education": 4,
          "wife_religion": 0
         },
         {
          "contraceptive_method_used": 3,
          "standard_of_living_index": 3,
          "wife_age": 26,
          "wife_education": 3,
          "wife_religion": 1
         },
         {
          "contraceptive_method_used": 3,
          "standard_of_living_index": 4,
          "wife_age": 33,
          "wife_education": 4,
          "wife_religion": 1
         },
         {
          "contraceptive_method_used": 2,
          "standard_of_living_index": 3,
          "wife_age": 25,
          "wife_education": 3,
          "wife_religion": 1
         },
         {
          "contraceptive_method_used": 3,
          "standard_of_living_index": 4,
          "wife_age": 35,
          "wife_education": 3,
          "wife_religion": 1
         },
         {
          "contraceptive_method_used": 3,
          "standard_of_living_index": 4,
          "wife_age": 32,
          "wife_education": 4,
          "wife_religion": 0
         },
         {
          "contraceptive_method_used": 1,
          "standard_of_living_index": 4,
          "wife_age": 39,
          "wife_education": 3,
          "wife_religion": 0
         },
         {
          "contraceptive_method_used": 2,
          "standard_of_living_index": 4,
          "wife_age": 46,
          "wife_education": 4,
          "wife_religion": 1
         },
         {
          "contraceptive_method_used": 2,
          "standard_of_living_index": 4,
          "wife_age": 48,
          "wife_education": 4,
          "wife_religion": 1
         },
         {
          "contraceptive_method_used": 3,
          "standard_of_living_index": 4,
          "wife_age": 19,
          "wife_education": 4,
          "wife_religion": 1
         },
         {
          "contraceptive_method_used": 1,
          "standard_of_living_index": 1,
          "wife_age": 21,
          "wife_education": 2,
          "wife_religion": 1
         },
         {
          "contraceptive_method_used": 1,
          "standard_of_living_index": 4,
          "wife_age": 47,
          "wife_education": 3,
          "wife_religion": 1
         },
         {
          "contraceptive_method_used": 1,
          "standard_of_living_index": 2,
          "wife_age": 49,
          "wife_education": 1,
          "wife_religion": 1
         },
         {
          "contraceptive_method_used": 2,
          "standard_of_living_index": 4,
          "wife_age": 46,
          "wife_education": 4,
          "wife_religion": 1
         },
         {
          "contraceptive_method_used": 2,
          "standard_of_living_index": 4,
          "wife_age": 34,
          "wife_education": 3,
          "wife_religion": 1
         },
         {
          "contraceptive_method_used": 2,
          "standard_of_living_index": 4,
          "wife_age": 37,
          "wife_education": 4,
          "wife_religion": 0
         },
         {
          "contraceptive_method_used": 3,
          "standard_of_living_index": 4,
          "wife_age": 43,
          "wife_education": 4,
          "wife_religion": 1
         },
         {
          "contraceptive_method_used": 2,
          "standard_of_living_index": 4,
          "wife_age": 42,
          "wife_education": 4,
          "wife_religion": 0
         },
         {
          "contraceptive_method_used": 1,
          "standard_of_living_index": 1,
          "wife_age": 26,
          "wife_education": 2,
          "wife_religion": 1
         },
         {
          "contraceptive_method_used": 2,
          "standard_of_living_index": 4,
          "wife_age": 41,
          "wife_education": 4,
          "wife_religion": 0
         },
         {
          "contraceptive_method_used": 3,
          "standard_of_living_index": 3,
          "wife_age": 38,
          "wife_education": 4,
          "wife_religion": 0
         },
         {
          "contraceptive_method_used": 3,
          "standard_of_living_index": 2,
          "wife_age": 22,
          "wife_education": 4,
          "wife_religion": 1
         },
         {
          "contraceptive_method_used": 2,
          "standard_of_living_index": 2,
          "wife_age": 28,
          "wife_education": 3,
          "wife_religion": 1
         },
         {
          "contraceptive_method_used": 3,
          "standard_of_living_index": 3,
          "wife_age": 33,
          "wife_education": 3,
          "wife_religion": 1
         },
         {
          "contraceptive_method_used": 2,
          "standard_of_living_index": 4,
          "wife_age": 34,
          "wife_education": 4,
          "wife_religion": 1
         },
         {
          "contraceptive_method_used": 3,
          "standard_of_living_index": 4,
          "wife_age": 35,
          "wife_education": 4,
          "wife_religion": 0
         },
         {
          "contraceptive_method_used": 2,
          "standard_of_living_index": 4,
          "wife_age": 30,
          "wife_education": 3,
          "wife_religion": 1
         },
         {
          "contraceptive_method_used": 3,
          "standard_of_living_index": 3,
          "wife_age": 32,
          "wife_education": 2,
          "wife_religion": 1
         },
         {
          "contraceptive_method_used": 1,
          "standard_of_living_index": 3,
          "wife_age": 25,
          "wife_education": 3,
          "wife_religion": 1
         },
         {
          "contraceptive_method_used": 2,
          "standard_of_living_index": 4,
          "wife_age": 41,
          "wife_education": 3,
          "wife_religion": 1
         },
         {
          "contraceptive_method_used": 2,
          "standard_of_living_index": 4,
          "wife_age": 45,
          "wife_education": 3,
          "wife_religion": 0
         },
         {
          "contraceptive_method_used": 1,
          "standard_of_living_index": 4,
          "wife_age": 36,
          "wife_education": 3,
          "wife_religion": 1
         },
         {
          "contraceptive_method_used": 2,
          "standard_of_living_index": 4,
          "wife_age": 41,
          "wife_education": 4,
          "wife_religion": 1
         },
         {
          "contraceptive_method_used": 3,
          "standard_of_living_index": 4,
          "wife_age": 24,
          "wife_education": 2,
          "wife_religion": 1
         },
         {
          "contraceptive_method_used": 1,
          "standard_of_living_index": 3,
          "wife_age": 18,
          "wife_education": 3,
          "wife_religion": 1
         },
         {
          "contraceptive_method_used": 1,
          "standard_of_living_index": 4,
          "wife_age": 39,
          "wife_education": 2,
          "wife_religion": 1
         },
         {
          "contraceptive_method_used": 3,
          "standard_of_living_index": 3,
          "wife_age": 30,
          "wife_education": 3,
          "wife_religion": 1
         },
         {
          "contraceptive_method_used": 2,
          "standard_of_living_index": 3,
          "wife_age": 35,
          "wife_education": 1,
          "wife_religion": 1
         },
         {
          "contraceptive_method_used": 2,
          "standard_of_living_index": 4,
          "wife_age": 32,
          "wife_education": 4,
          "wife_religion": 0
         },
         {
          "contraceptive_method_used": 2,
          "standard_of_living_index": 3,
          "wife_age": 34,
          "wife_education": 2,
          "wife_religion": 1
         },
         {
          "contraceptive_method_used": 3,
          "standard_of_living_index": 3,
          "wife_age": 29,
          "wife_education": 2,
          "wife_religion": 1
         },
         {
          "contraceptive_method_used": 2,
          "standard_of_living_index": 3,
          "wife_age": 40,
          "wife_education": 4,
          "wife_religion": 1
         },
         {
          "contraceptive_method_used": 3,
          "standard_of_living_index": 3,
          "wife_age": 22,
          "wife_education": 3,
          "wife_religion": 1
         },
         {
          "contraceptive_method_used": 3,
          "standard_of_living_index": 4,
          "wife_age": 37,
          "wife_education": 4,
          "wife_religion": 1
         },
         {
          "contraceptive_method_used": 1,
          "standard_of_living_index": 4,
          "wife_age": 26,
          "wife_education": 3,
          "wife_religion": 1
         },
         {
          "contraceptive_method_used": 2,
          "standard_of_living_index": 4,
          "wife_age": 33,
          "wife_education": 3,
          "wife_religion": 1
         },
         {
          "contraceptive_method_used": 2,
          "standard_of_living_index": 4,
          "wife_age": 39,
          "wife_education": 4,
          "wife_religion": 1
         },
         {
          "contraceptive_method_used": 1,
          "standard_of_living_index": 3,
          "wife_age": 24,
          "wife_education": 4,
          "wife_religion": 1
         },
         {
          "contraceptive_method_used": 2,
          "standard_of_living_index": 3,
          "wife_age": 29,
          "wife_education": 4,
          "wife_religion": 1
         },
         {
          "contraceptive_method_used": 3,
          "standard_of_living_index": 3,
          "wife_age": 35,
          "wife_education": 1,
          "wife_religion": 1
         },
         {
          "contraceptive_method_used": 3,
          "standard_of_living_index": 4,
          "wife_age": 28,
          "wife_education": 4,
          "wife_religion": 1
         },
         {
          "contraceptive_method_used": 1,
          "standard_of_living_index": 1,
          "wife_age": 28,
          "wife_education": 1,
          "wife_religion": 1
         },
         {
          "contraceptive_method_used": 3,
          "standard_of_living_index": 3,
          "wife_age": 23,
          "wife_education": 4,
          "wife_religion": 1
         },
         {
          "contraceptive_method_used": 2,
          "standard_of_living_index": 2,
          "wife_age": 32,
          "wife_education": 4,
          "wife_religion": 1
         },
         {
          "contraceptive_method_used": 1,
          "standard_of_living_index": 4,
          "wife_age": 27,
          "wife_education": 2,
          "wife_religion": 1
         },
         {
          "contraceptive_method_used": 1,
          "standard_of_living_index": 4,
          "wife_age": 45,
          "wife_education": 3,
          "wife_religion": 1
         },
         {
          "contraceptive_method_used": 1,
          "standard_of_living_index": 4,
          "wife_age": 21,
          "wife_education": 2,
          "wife_religion": 1
         },
         {
          "contraceptive_method_used": 3,
          "standard_of_living_index": 4,
          "wife_age": 36,
          "wife_education": 2,
          "wife_religion": 1
         },
         {
          "contraceptive_method_used": 3,
          "standard_of_living_index": 4,
          "wife_age": 28,
          "wife_education": 2,
          "wife_religion": 1
         },
         {
          "contraceptive_method_used": 3,
          "standard_of_living_index": 4,
          "wife_age": 22,
          "wife_education": 3,
          "wife_religion": 0
         },
         {
          "contraceptive_method_used": 2,
          "standard_of_living_index": 4,
          "wife_age": 42,
          "wife_education": 2,
          "wife_religion": 1
         },
         {
          "contraceptive_method_used": 2,
          "standard_of_living_index": 3,
          "wife_age": 19,
          "wife_education": 4,
          "wife_religion": 1
         },
         {
          "contraceptive_method_used": 2,
          "standard_of_living_index": 4,
          "wife_age": 31,
          "wife_education": 4,
          "wife_religion": 1
         },
         {
          "contraceptive_method_used": 3,
          "standard_of_living_index": 4,
          "wife_age": 45,
          "wife_education": 2,
          "wife_religion": 0
         },
         {
          "contraceptive_method_used": 3,
          "standard_of_living_index": 3,
          "wife_age": 37,
          "wife_education": 3,
          "wife_religion": 1
         },
         {
          "contraceptive_method_used": 1,
          "standard_of_living_index": 4,
          "wife_age": 47,
          "wife_education": 1,
          "wife_religion": 1
         },
         {
          "contraceptive_method_used": 1,
          "standard_of_living_index": 4,
          "wife_age": 32,
          "wife_education": 4,
          "wife_religion": 0
         },
         {
          "contraceptive_method_used": 1,
          "standard_of_living_index": 4,
          "wife_age": 27,
          "wife_education": 2,
          "wife_religion": 1
         },
         {
          "contraceptive_method_used": 3,
          "standard_of_living_index": 4,
          "wife_age": 36,
          "wife_education": 2,
          "wife_religion": 1
         },
         {
          "contraceptive_method_used": 3,
          "standard_of_living_index": 4,
          "wife_age": 30,
          "wife_education": 1,
          "wife_religion": 1
         },
         {
          "contraceptive_method_used": 1,
          "standard_of_living_index": 4,
          "wife_age": 21,
          "wife_education": 1,
          "wife_religion": 1
         },
         {
          "contraceptive_method_used": 3,
          "standard_of_living_index": 3,
          "wife_age": 38,
          "wife_education": 4,
          "wife_religion": 1
         },
         {
          "contraceptive_method_used": 1,
          "standard_of_living_index": 4,
          "wife_age": 40,
          "wife_education": 1,
          "wife_religion": 1
         },
         {
          "contraceptive_method_used": 1,
          "standard_of_living_index": 3,
          "wife_age": 42,
          "wife_education": 3,
          "wife_religion": 1
         },
         {
          "contraceptive_method_used": 3,
          "standard_of_living_index": 4,
          "wife_age": 46,
          "wife_education": 2,
          "wife_religion": 0
         },
         {
          "contraceptive_method_used": 3,
          "standard_of_living_index": 4,
          "wife_age": 27,
          "wife_education": 4,
          "wife_religion": 1
         },
         {
          "contraceptive_method_used": 3,
          "standard_of_living_index": 4,
          "wife_age": 45,
          "wife_education": 4,
          "wife_religion": 1
         },
         {
          "contraceptive_method_used": 3,
          "standard_of_living_index": 4,
          "wife_age": 39,
          "wife_education": 4,
          "wife_religion": 1
         },
         {
          "contraceptive_method_used": 1,
          "standard_of_living_index": 4,
          "wife_age": 49,
          "wife_education": 3,
          "wife_religion": 1
         },
         {
          "contraceptive_method_used": 3,
          "standard_of_living_index": 3,
          "wife_age": 24,
          "wife_education": 4,
          "wife_religion": 1
         },
         {
          "contraceptive_method_used": 1,
          "standard_of_living_index": 4,
          "wife_age": 28,
          "wife_education": 3,
          "wife_religion": 1
         },
         {
          "contraceptive_method_used": 1,
          "standard_of_living_index": 3,
          "wife_age": 32,
          "wife_education": 4,
          "wife_religion": 1
         },
         {
          "contraceptive_method_used": 1,
          "standard_of_living_index": 3,
          "wife_age": 34,
          "wife_education": 2,
          "wife_religion": 1
         },
         {
          "contraceptive_method_used": 1,
          "standard_of_living_index": 4,
          "wife_age": 28,
          "wife_education": 3,
          "wife_religion": 1
         },
         {
          "contraceptive_method_used": 1,
          "standard_of_living_index": 1,
          "wife_age": 18,
          "wife_education": 3,
          "wife_religion": 1
         },
         {
          "contraceptive_method_used": 1,
          "standard_of_living_index": 4,
          "wife_age": 48,
          "wife_education": 1,
          "wife_religion": 1
         },
         {
          "contraceptive_method_used": 2,
          "standard_of_living_index": 4,
          "wife_age": 39,
          "wife_education": 4,
          "wife_religion": 1
         },
         {
          "contraceptive_method_used": 3,
          "standard_of_living_index": 3,
          "wife_age": 25,
          "wife_education": 2,
          "wife_religion": 1
         },
         {
          "contraceptive_method_used": 1,
          "standard_of_living_index": 3,
          "wife_age": 24,
          "wife_education": 3,
          "wife_religion": 1
         },
         {
          "contraceptive_method_used": 3,
          "standard_of_living_index": 4,
          "wife_age": 32,
          "wife_education": 3,
          "wife_religion": 0
         },
         {
          "contraceptive_method_used": 3,
          "standard_of_living_index": 2,
          "wife_age": 23,
          "wife_education": 1,
          "wife_religion": 1
         },
         {
          "contraceptive_method_used": 3,
          "standard_of_living_index": 4,
          "wife_age": 35,
          "wife_education": 4,
          "wife_religion": 1
         },
         {
          "contraceptive_method_used": 2,
          "standard_of_living_index": 4,
          "wife_age": 27,
          "wife_education": 4,
          "wife_religion": 1
         },
         {
          "contraceptive_method_used": 2,
          "standard_of_living_index": 3,
          "wife_age": 28,
          "wife_education": 2,
          "wife_religion": 1
         },
         {
          "contraceptive_method_used": 1,
          "standard_of_living_index": 3,
          "wife_age": 33,
          "wife_education": 4,
          "wife_religion": 1
         },
         {
          "contraceptive_method_used": 2,
          "standard_of_living_index": 4,
          "wife_age": 36,
          "wife_education": 4,
          "wife_religion": 1
         },
         {
          "contraceptive_method_used": 3,
          "standard_of_living_index": 3,
          "wife_age": 33,
          "wife_education": 4,
          "wife_religion": 1
         },
         {
          "contraceptive_method_used": 2,
          "standard_of_living_index": 4,
          "wife_age": 37,
          "wife_education": 4,
          "wife_religion": 1
         },
         {
          "contraceptive_method_used": 1,
          "standard_of_living_index": 4,
          "wife_age": 23,
          "wife_education": 3,
          "wife_religion": 1
         },
         {
          "contraceptive_method_used": 1,
          "standard_of_living_index": 3,
          "wife_age": 28,
          "wife_education": 4,
          "wife_religion": 1
         },
         {
          "contraceptive_method_used": 1,
          "standard_of_living_index": 3,
          "wife_age": 22,
          "wife_education": 4,
          "wife_religion": 1
         },
         {
          "contraceptive_method_used": 1,
          "standard_of_living_index": 4,
          "wife_age": 29,
          "wife_education": 3,
          "wife_religion": 1
         },
         {
          "contraceptive_method_used": 2,
          "standard_of_living_index": 4,
          "wife_age": 21,
          "wife_education": 4,
          "wife_religion": 1
         },
         {
          "contraceptive_method_used": 1,
          "standard_of_living_index": 3,
          "wife_age": 20,
          "wife_education": 3,
          "wife_religion": 1
         },
         {
          "contraceptive_method_used": 3,
          "standard_of_living_index": 4,
          "wife_age": 35,
          "wife_education": 4,
          "wife_religion": 1
         },
         {
          "contraceptive_method_used": 2,
          "standard_of_living_index": 2,
          "wife_age": 44,
          "wife_education": 3,
          "wife_religion": 1
         },
         {
          "contraceptive_method_used": 1,
          "standard_of_living_index": 3,
          "wife_age": 42,
          "wife_education": 3,
          "wife_religion": 1
         },
         {
          "contraceptive_method_used": 3,
          "standard_of_living_index": 2,
          "wife_age": 30,
          "wife_education": 4,
          "wife_religion": 1
         },
         {
          "contraceptive_method_used": 2,
          "standard_of_living_index": 4,
          "wife_age": 36,
          "wife_education": 4,
          "wife_religion": 0
         },
         {
          "contraceptive_method_used": 3,
          "standard_of_living_index": 4,
          "wife_age": 43,
          "wife_education": 4,
          "wife_religion": 1
         },
         {
          "contraceptive_method_used": 1,
          "standard_of_living_index": 4,
          "wife_age": 20,
          "wife_education": 4,
          "wife_religion": 1
         },
         {
          "contraceptive_method_used": 1,
          "standard_of_living_index": 3,
          "wife_age": 20,
          "wife_education": 3,
          "wife_religion": 1
         },
         {
          "contraceptive_method_used": 2,
          "standard_of_living_index": 3,
          "wife_age": 30,
          "wife_education": 4,
          "wife_religion": 1
         },
         {
          "contraceptive_method_used": 1,
          "standard_of_living_index": 4,
          "wife_age": 23,
          "wife_education": 4,
          "wife_religion": 0
         },
         {
          "contraceptive_method_used": 1,
          "standard_of_living_index": 1,
          "wife_age": 25,
          "wife_education": 3,
          "wife_religion": 1
         },
         {
          "contraceptive_method_used": 3,
          "standard_of_living_index": 3,
          "wife_age": 17,
          "wife_education": 3,
          "wife_religion": 1
         },
         {
          "contraceptive_method_used": 3,
          "standard_of_living_index": 4,
          "wife_age": 27,
          "wife_education": 2,
          "wife_religion": 1
         },
         {
          "contraceptive_method_used": 1,
          "standard_of_living_index": 4,
          "wife_age": 49,
          "wife_education": 4,
          "wife_religion": 0
         },
         {
          "contraceptive_method_used": 2,
          "standard_of_living_index": 2,
          "wife_age": 36,
          "wife_education": 3,
          "wife_religion": 1
         },
         {
          "contraceptive_method_used": 3,
          "standard_of_living_index": 4,
          "wife_age": 32,
          "wife_education": 2,
          "wife_religion": 1
         },
         {
          "contraceptive_method_used": 2,
          "standard_of_living_index": 2,
          "wife_age": 20,
          "wife_education": 3,
          "wife_religion": 1
         },
         {
          "contraceptive_method_used": 2,
          "standard_of_living_index": 4,
          "wife_age": 34,
          "wife_education": 4,
          "wife_religion": 1
         },
         {
          "contraceptive_method_used": 3,
          "standard_of_living_index": 3,
          "wife_age": 22,
          "wife_education": 4,
          "wife_religion": 1
         },
         {
          "contraceptive_method_used": 3,
          "standard_of_living_index": 1,
          "wife_age": 36,
          "wife_education": 1,
          "wife_religion": 1
         },
         {
          "contraceptive_method_used": 1,
          "standard_of_living_index": 4,
          "wife_age": 33,
          "wife_education": 3,
          "wife_religion": 1
         },
         {
          "contraceptive_method_used": 2,
          "standard_of_living_index": 2,
          "wife_age": 21,
          "wife_education": 2,
          "wife_religion": 1
         },
         {
          "contraceptive_method_used": 1,
          "standard_of_living_index": 4,
          "wife_age": 26,
          "wife_education": 2,
          "wife_religion": 1
         },
         {
          "contraceptive_method_used": 3,
          "standard_of_living_index": 3,
          "wife_age": 31,
          "wife_education": 3,
          "wife_religion": 1
         },
         {
          "contraceptive_method_used": 1,
          "standard_of_living_index": 4,
          "wife_age": 25,
          "wife_education": 2,
          "wife_religion": 1
         },
         {
          "contraceptive_method_used": 2,
          "standard_of_living_index": 3,
          "wife_age": 23,
          "wife_education": 4,
          "wife_religion": 1
         },
         {
          "contraceptive_method_used": 1,
          "standard_of_living_index": 3,
          "wife_age": 36,
          "wife_education": 4,
          "wife_religion": 1
         },
         {
          "contraceptive_method_used": 1,
          "standard_of_living_index": 3,
          "wife_age": 33,
          "wife_education": 4,
          "wife_religion": 1
         },
         {
          "contraceptive_method_used": 3,
          "standard_of_living_index": 4,
          "wife_age": 32,
          "wife_education": 4,
          "wife_religion": 0
         },
         {
          "contraceptive_method_used": 1,
          "standard_of_living_index": 4,
          "wife_age": 22,
          "wife_education": 3,
          "wife_religion": 1
         },
         {
          "contraceptive_method_used": 1,
          "standard_of_living_index": 3,
          "wife_age": 37,
          "wife_education": 2,
          "wife_religion": 1
         },
         {
          "contraceptive_method_used": 3,
          "standard_of_living_index": 4,
          "wife_age": 17,
          "wife_education": 3,
          "wife_religion": 1
         },
         {
          "contraceptive_method_used": 3,
          "standard_of_living_index": 4,
          "wife_age": 27,
          "wife_education": 4,
          "wife_religion": 1
         },
         {
          "contraceptive_method_used": 1,
          "standard_of_living_index": 2,
          "wife_age": 45,
          "wife_education": 1,
          "wife_religion": 1
         },
         {
          "contraceptive_method_used": 1,
          "standard_of_living_index": 4,
          "wife_age": 42,
          "wife_education": 2,
          "wife_religion": 1
         },
         {
          "contraceptive_method_used": 1,
          "standard_of_living_index": 4,
          "wife_age": 25,
          "wife_education": 4,
          "wife_religion": 1
         },
         {
          "contraceptive_method_used": 2,
          "standard_of_living_index": 3,
          "wife_age": 31,
          "wife_education": 2,
          "wife_religion": 1
         },
         {
          "contraceptive_method_used": 2,
          "standard_of_living_index": 3,
          "wife_age": 31,
          "wife_education": 3,
          "wife_religion": 1
         },
         {
          "contraceptive_method_used": 1,
          "standard_of_living_index": 3,
          "wife_age": 45,
          "wife_education": 4,
          "wife_religion": 1
         },
         {
          "contraceptive_method_used": 3,
          "standard_of_living_index": 2,
          "wife_age": 47,
          "wife_education": 4,
          "wife_religion": 1
         },
         {
          "contraceptive_method_used": 3,
          "standard_of_living_index": 3,
          "wife_age": 26,
          "wife_education": 3,
          "wife_religion": 1
         },
         {
          "contraceptive_method_used": 3,
          "standard_of_living_index": 4,
          "wife_age": 28,
          "wife_education": 3,
          "wife_religion": 1
         },
         {
          "contraceptive_method_used": 2,
          "standard_of_living_index": 4,
          "wife_age": 41,
          "wife_education": 4,
          "wife_religion": 0
         },
         {
          "contraceptive_method_used": 3,
          "standard_of_living_index": 3,
          "wife_age": 26,
          "wife_education": 2,
          "wife_religion": 1
         },
         {
          "contraceptive_method_used": 3,
          "standard_of_living_index": 4,
          "wife_age": 29,
          "wife_education": 4,
          "wife_religion": 1
         },
         {
          "contraceptive_method_used": 2,
          "standard_of_living_index": 4,
          "wife_age": 29,
          "wife_education": 4,
          "wife_religion": 1
         },
         {
          "contraceptive_method_used": 1,
          "standard_of_living_index": 2,
          "wife_age": 24,
          "wife_education": 4,
          "wife_religion": 1
         },
         {
          "contraceptive_method_used": 3,
          "standard_of_living_index": 2,
          "wife_age": 23,
          "wife_education": 3,
          "wife_religion": 1
         },
         {
          "contraceptive_method_used": 1,
          "standard_of_living_index": 2,
          "wife_age": 48,
          "wife_education": 1,
          "wife_religion": 1
         },
         {
          "contraceptive_method_used": 3,
          "standard_of_living_index": 2,
          "wife_age": 36,
          "wife_education": 2,
          "wife_religion": 1
         },
         {
          "contraceptive_method_used": 1,
          "standard_of_living_index": 2,
          "wife_age": 38,
          "wife_education": 2,
          "wife_religion": 1
         },
         {
          "contraceptive_method_used": 1,
          "standard_of_living_index": 2,
          "wife_age": 37,
          "wife_education": 3,
          "wife_religion": 1
         },
         {
          "contraceptive_method_used": 1,
          "standard_of_living_index": 1,
          "wife_age": 27,
          "wife_education": 2,
          "wife_religion": 1
         },
         {
          "contraceptive_method_used": 1,
          "standard_of_living_index": 4,
          "wife_age": 43,
          "wife_education": 3,
          "wife_religion": 0
         },
         {
          "contraceptive_method_used": 1,
          "standard_of_living_index": 1,
          "wife_age": 26,
          "wife_education": 1,
          "wife_religion": 1
         },
         {
          "contraceptive_method_used": 2,
          "standard_of_living_index": 2,
          "wife_age": 40,
          "wife_education": 2,
          "wife_religion": 1
         },
         {
          "contraceptive_method_used": 2,
          "standard_of_living_index": 3,
          "wife_age": 40,
          "wife_education": 4,
          "wife_religion": 1
         },
         {
          "contraceptive_method_used": 3,
          "standard_of_living_index": 4,
          "wife_age": 39,
          "wife_education": 3,
          "wife_religion": 1
         },
         {
          "contraceptive_method_used": 1,
          "standard_of_living_index": 4,
          "wife_age": 28,
          "wife_education": 2,
          "wife_religion": 1
         },
         {
          "contraceptive_method_used": 1,
          "standard_of_living_index": 2,
          "wife_age": 30,
          "wife_education": 2,
          "wife_religion": 1
         },
         {
          "contraceptive_method_used": 1,
          "standard_of_living_index": 4,
          "wife_age": 43,
          "wife_education": 2,
          "wife_religion": 1
         },
         {
          "contraceptive_method_used": 2,
          "standard_of_living_index": 3,
          "wife_age": 26,
          "wife_education": 2,
          "wife_religion": 1
         },
         {
          "contraceptive_method_used": 1,
          "standard_of_living_index": 3,
          "wife_age": 28,
          "wife_education": 3,
          "wife_religion": 1
         },
         {
          "contraceptive_method_used": 2,
          "standard_of_living_index": 4,
          "wife_age": 28,
          "wife_education": 4,
          "wife_religion": 0
         },
         {
          "contraceptive_method_used": 2,
          "standard_of_living_index": 4,
          "wife_age": 41,
          "wife_education": 4,
          "wife_religion": 0
         },
         {
          "contraceptive_method_used": 2,
          "standard_of_living_index": 3,
          "wife_age": 37,
          "wife_education": 3,
          "wife_religion": 1
         },
         {
          "contraceptive_method_used": 2,
          "standard_of_living_index": 4,
          "wife_age": 26,
          "wife_education": 3,
          "wife_religion": 1
         },
         {
          "contraceptive_method_used": 3,
          "standard_of_living_index": 1,
          "wife_age": 22,
          "wife_education": 1,
          "wife_religion": 1
         },
         {
          "contraceptive_method_used": 3,
          "standard_of_living_index": 4,
          "wife_age": 22,
          "wife_education": 4,
          "wife_religion": 1
         },
         {
          "contraceptive_method_used": 3,
          "standard_of_living_index": 4,
          "wife_age": 42,
          "wife_education": 4,
          "wife_religion": 0
         },
         {
          "contraceptive_method_used": 1,
          "standard_of_living_index": 3,
          "wife_age": 32,
          "wife_education": 3,
          "wife_religion": 1
         },
         {
          "contraceptive_method_used": 1,
          "standard_of_living_index": 4,
          "wife_age": 47,
          "wife_education": 4,
          "wife_religion": 1
         },
         {
          "contraceptive_method_used": 3,
          "standard_of_living_index": 2,
          "wife_age": 17,
          "wife_education": 2,
          "wife_religion": 1
         },
         {
          "contraceptive_method_used": 1,
          "standard_of_living_index": 2,
          "wife_age": 29,
          "wife_education": 2,
          "wife_religion": 1
         },
         {
          "contraceptive_method_used": 1,
          "standard_of_living_index": 4,
          "wife_age": 45,
          "wife_education": 4,
          "wife_religion": 1
         },
         {
          "contraceptive_method_used": 2,
          "standard_of_living_index": 4,
          "wife_age": 47,
          "wife_education": 1,
          "wife_religion": 1
         },
         {
          "contraceptive_method_used": 1,
          "standard_of_living_index": 3,
          "wife_age": 31,
          "wife_education": 2,
          "wife_religion": 1
         },
         {
          "contraceptive_method_used": 1,
          "standard_of_living_index": 3,
          "wife_age": 41,
          "wife_education": 2,
          "wife_religion": 1
         },
         {
          "contraceptive_method_used": 2,
          "standard_of_living_index": 3,
          "wife_age": 26,
          "wife_education": 3,
          "wife_religion": 1
         },
         {
          "contraceptive_method_used": 1,
          "standard_of_living_index": 4,
          "wife_age": 45,
          "wife_education": 4,
          "wife_religion": 1
         },
         {
          "contraceptive_method_used": 1,
          "standard_of_living_index": 1,
          "wife_age": 22,
          "wife_education": 4,
          "wife_religion": 1
         },
         {
          "contraceptive_method_used": 1,
          "standard_of_living_index": 2,
          "wife_age": 24,
          "wife_education": 3,
          "wife_religion": 1
         },
         {
          "contraceptive_method_used": 1,
          "standard_of_living_index": 3,
          "wife_age": 30,
          "wife_education": 3,
          "wife_religion": 0
         },
         {
          "contraceptive_method_used": 3,
          "standard_of_living_index": 3,
          "wife_age": 35,
          "wife_education": 2,
          "wife_religion": 1
         },
         {
          "contraceptive_method_used": 3,
          "standard_of_living_index": 3,
          "wife_age": 36,
          "wife_education": 1,
          "wife_religion": 1
         },
         {
          "contraceptive_method_used": 3,
          "standard_of_living_index": 4,
          "wife_age": 38,
          "wife_education": 4,
          "wife_religion": 1
         }
        ]
       },
       "encoding": {
        "color": {
         "field": "standard_of_living_index",
         "legend": {
          "title": "Standard of living index"
         },
         "type": "quantitative"
        },
        "x": {
         "field": "contraceptive_method_used",
         "title": "Contraceptive method used",
         "type": "quantitative"
        },
        "y": {
         "aggregate": "count",
         "title": "Number of records",
         "type": "quantitative"
        }
       },
       "mark": {
        "size": 10,
        "type": "bar"
       },
       "title": "Distribution of Standard of Living For Each Method of Contraception Used",
       "width": 100
      },
      "text/plain": [
       "<VegaLite 4 object>\n",
       "\n",
       "If you see this message, it means the renderer has not been properly enabled\n",
       "for the frontend that you are using. For more information, see\n",
       "https://altair-viz.github.io/user_guide/troubleshooting.html\n"
      ]
     },
     "execution_count": 20,
     "metadata": {},
     "output_type": "execute_result"
    }
   ],
   "source": [
    "living_standard_correlation = alt.Chart(cmc_train, title = \"Distribution of Standard of Living For Each Method of Contraception Used\").mark_bar(size=10).encode(\n",
    "    x = alt.X(\"contraceptive_method_used\", title = \"Contraceptive method used\"),\n",
    "    y = alt.Y(\"count()\", title = \"Number of records\"),\n",
    "    color = alt.Color(\"standard_of_living_index\", legend=alt.Legend(title=\"Standard of living index\"))\n",
    ").properties(width=100)\n",
    "living_standard_correlation"
   ]
  },
  {
   "attachments": {},
   "cell_type": "markdown",
   "metadata": {},
   "source": [
    "For individuals who have a standard of living of 1-3, it can clearly be seen that the proportion that use contraceptions decreases significantly for short-term (2) and long-term (3) methods. In addition, a larger percentage of the bars for 2 and 3 are taken up by individuals with a very high standard of living (4), meaning that there is a greater proportion that use contraceptives. "
   ]
  },
  {
   "cell_type": "markdown",
   "metadata": {},
   "source": [
    "**Religion**"
   ]
  },
  {
   "cell_type": "code",
   "execution_count": 21,
   "metadata": {},
   "outputs": [
    {
     "data": {
      "application/vnd.vegalite.v4+json": {
       "$schema": "https://vega.github.io/schema/vega-lite/v4.17.0.json",
       "config": {
        "view": {
         "continuousHeight": 300,
         "continuousWidth": 400
        }
       },
       "data": {
        "name": "data-f15167d60f413a998667f82347f8e248"
       },
       "datasets": {
        "data-f15167d60f413a998667f82347f8e248": [
         {
          "contraceptive_method_used": 1,
          "standard_of_living_index": 2,
          "wife_age": 40,
          "wife_education": 1,
          "wife_religion": 1
         },
         {
          "contraceptive_method_used": 2,
          "standard_of_living_index": 4,
          "wife_age": 35,
          "wife_education": 4,
          "wife_religion": 1
         },
         {
          "contraceptive_method_used": 3,
          "standard_of_living_index": 3,
          "wife_age": 19,
          "wife_education": 3,
          "wife_religion": 1
         },
         {
          "contraceptive_method_used": 1,
          "standard_of_living_index": 2,
          "wife_age": 20,
          "wife_education": 2,
          "wife_religion": 1
         },
         {
          "contraceptive_method_used": 1,
          "standard_of_living_index": 2,
          "wife_age": 41,
          "wife_education": 2,
          "wife_religion": 0
         },
         {
          "contraceptive_method_used": 1,
          "standard_of_living_index": 1,
          "wife_age": 30,
          "wife_education": 2,
          "wife_religion": 1
         },
         {
          "contraceptive_method_used": 3,
          "standard_of_living_index": 3,
          "wife_age": 33,
          "wife_education": 3,
          "wife_religion": 1
         },
         {
          "contraceptive_method_used": 2,
          "standard_of_living_index": 4,
          "wife_age": 48,
          "wife_education": 4,
          "wife_religion": 0
         },
         {
          "contraceptive_method_used": 2,
          "standard_of_living_index": 3,
          "wife_age": 31,
          "wife_education": 4,
          "wife_religion": 0
         },
         {
          "contraceptive_method_used": 1,
          "standard_of_living_index": 4,
          "wife_age": 25,
          "wife_education": 4,
          "wife_religion": 1
         },
         {
          "contraceptive_method_used": 1,
          "standard_of_living_index": 1,
          "wife_age": 26,
          "wife_education": 2,
          "wife_religion": 1
         },
         {
          "contraceptive_method_used": 3,
          "standard_of_living_index": 3,
          "wife_age": 38,
          "wife_education": 4,
          "wife_religion": 1
         },
         {
          "contraceptive_method_used": 3,
          "standard_of_living_index": 3,
          "wife_age": 28,
          "wife_education": 4,
          "wife_religion": 1
         },
         {
          "contraceptive_method_used": 3,
          "standard_of_living_index": 3,
          "wife_age": 23,
          "wife_education": 4,
          "wife_religion": 1
         },
         {
          "contraceptive_method_used": 1,
          "standard_of_living_index": 3,
          "wife_age": 42,
          "wife_education": 3,
          "wife_religion": 1
         },
         {
          "contraceptive_method_used": 3,
          "standard_of_living_index": 3,
          "wife_age": 22,
          "wife_education": 2,
          "wife_religion": 1
         },
         {
          "contraceptive_method_used": 3,
          "standard_of_living_index": 4,
          "wife_age": 24,
          "wife_education": 4,
          "wife_religion": 1
         },
         {
          "contraceptive_method_used": 2,
          "standard_of_living_index": 4,
          "wife_age": 26,
          "wife_education": 4,
          "wife_religion": 0
         },
         {
          "contraceptive_method_used": 1,
          "standard_of_living_index": 2,
          "wife_age": 28,
          "wife_education": 3,
          "wife_religion": 1
         },
         {
          "contraceptive_method_used": 1,
          "standard_of_living_index": 4,
          "wife_age": 24,
          "wife_education": 2,
          "wife_religion": 1
         },
         {
          "contraceptive_method_used": 1,
          "standard_of_living_index": 4,
          "wife_age": 30,
          "wife_education": 2,
          "wife_religion": 1
         },
         {
          "contraceptive_method_used": 2,
          "standard_of_living_index": 3,
          "wife_age": 28,
          "wife_education": 4,
          "wife_religion": 1
         },
         {
          "contraceptive_method_used": 3,
          "standard_of_living_index": 4,
          "wife_age": 35,
          "wife_education": 4,
          "wife_religion": 1
         },
         {
          "contraceptive_method_used": 3,
          "standard_of_living_index": 2,
          "wife_age": 23,
          "wife_education": 2,
          "wife_religion": 1
         },
         {
          "contraceptive_method_used": 3,
          "standard_of_living_index": 3,
          "wife_age": 22,
          "wife_education": 4,
          "wife_religion": 1
         },
         {
          "contraceptive_method_used": 2,
          "standard_of_living_index": 3,
          "wife_age": 36,
          "wife_education": 4,
          "wife_religion": 0
         },
         {
          "contraceptive_method_used": 1,
          "standard_of_living_index": 4,
          "wife_age": 28,
          "wife_education": 4,
          "wife_religion": 1
         },
         {
          "contraceptive_method_used": 1,
          "standard_of_living_index": 1,
          "wife_age": 39,
          "wife_education": 1,
          "wife_religion": 1
         },
         {
          "contraceptive_method_used": 2,
          "standard_of_living_index": 4,
          "wife_age": 24,
          "wife_education": 4,
          "wife_religion": 1
         },
         {
          "contraceptive_method_used": 1,
          "standard_of_living_index": 1,
          "wife_age": 17,
          "wife_education": 2,
          "wife_religion": 1
         },
         {
          "contraceptive_method_used": 1,
          "standard_of_living_index": 4,
          "wife_age": 31,
          "wife_education": 3,
          "wife_religion": 1
         },
         {
          "contraceptive_method_used": 1,
          "standard_of_living_index": 4,
          "wife_age": 27,
          "wife_education": 4,
          "wife_religion": 0
         },
         {
          "contraceptive_method_used": 3,
          "standard_of_living_index": 3,
          "wife_age": 26,
          "wife_education": 3,
          "wife_religion": 1
         },
         {
          "contraceptive_method_used": 1,
          "standard_of_living_index": 4,
          "wife_age": 22,
          "wife_education": 4,
          "wife_religion": 1
         },
         {
          "contraceptive_method_used": 2,
          "standard_of_living_index": 3,
          "wife_age": 26,
          "wife_education": 3,
          "wife_religion": 1
         },
         {
          "contraceptive_method_used": 1,
          "standard_of_living_index": 4,
          "wife_age": 45,
          "wife_education": 2,
          "wife_religion": 1
         },
         {
          "contraceptive_method_used": 3,
          "standard_of_living_index": 4,
          "wife_age": 23,
          "wife_education": 4,
          "wife_religion": 1
         },
         {
          "contraceptive_method_used": 1,
          "standard_of_living_index": 3,
          "wife_age": 29,
          "wife_education": 3,
          "wife_religion": 1
         },
         {
          "contraceptive_method_used": 1,
          "standard_of_living_index": 3,
          "wife_age": 23,
          "wife_education": 4,
          "wife_religion": 1
         },
         {
          "contraceptive_method_used": 1,
          "standard_of_living_index": 4,
          "wife_age": 44,
          "wife_education": 1,
          "wife_religion": 1
         },
         {
          "contraceptive_method_used": 1,
          "standard_of_living_index": 3,
          "wife_age": 23,
          "wife_education": 4,
          "wife_religion": 1
         },
         {
          "contraceptive_method_used": 3,
          "standard_of_living_index": 4,
          "wife_age": 28,
          "wife_education": 3,
          "wife_religion": 1
         },
         {
          "contraceptive_method_used": 1,
          "standard_of_living_index": 4,
          "wife_age": 28,
          "wife_education": 4,
          "wife_religion": 0
         },
         {
          "contraceptive_method_used": 1,
          "standard_of_living_index": 3,
          "wife_age": 41,
          "wife_education": 3,
          "wife_religion": 1
         },
         {
          "contraceptive_method_used": 1,
          "standard_of_living_index": 4,
          "wife_age": 23,
          "wife_education": 4,
          "wife_religion": 1
         },
         {
          "contraceptive_method_used": 1,
          "standard_of_living_index": 4,
          "wife_age": 26,
          "wife_education": 4,
          "wife_religion": 1
         },
         {
          "contraceptive_method_used": 3,
          "standard_of_living_index": 4,
          "wife_age": 31,
          "wife_education": 4,
          "wife_religion": 1
         },
         {
          "contraceptive_method_used": 3,
          "standard_of_living_index": 4,
          "wife_age": 34,
          "wife_education": 4,
          "wife_religion": 0
         },
         {
          "contraceptive_method_used": 3,
          "standard_of_living_index": 3,
          "wife_age": 32,
          "wife_education": 1,
          "wife_religion": 1
         },
         {
          "contraceptive_method_used": 3,
          "standard_of_living_index": 4,
          "wife_age": 38,
          "wife_education": 4,
          "wife_religion": 1
         },
         {
          "contraceptive_method_used": 1,
          "standard_of_living_index": 4,
          "wife_age": 27,
          "wife_education": 2,
          "wife_religion": 1
         },
         {
          "contraceptive_method_used": 3,
          "standard_of_living_index": 2,
          "wife_age": 20,
          "wife_education": 2,
          "wife_religion": 1
         },
         {
          "contraceptive_method_used": 1,
          "standard_of_living_index": 4,
          "wife_age": 22,
          "wife_education": 2,
          "wife_religion": 1
         },
         {
          "contraceptive_method_used": 3,
          "standard_of_living_index": 4,
          "wife_age": 44,
          "wife_education": 4,
          "wife_religion": 1
         },
         {
          "contraceptive_method_used": 1,
          "standard_of_living_index": 1,
          "wife_age": 39,
          "wife_education": 2,
          "wife_religion": 1
         },
         {
          "contraceptive_method_used": 2,
          "standard_of_living_index": 4,
          "wife_age": 22,
          "wife_education": 3,
          "wife_religion": 1
         },
         {
          "contraceptive_method_used": 1,
          "standard_of_living_index": 2,
          "wife_age": 42,
          "wife_education": 1,
          "wife_religion": 0
         },
         {
          "contraceptive_method_used": 3,
          "standard_of_living_index": 1,
          "wife_age": 25,
          "wife_education": 3,
          "wife_religion": 1
         },
         {
          "contraceptive_method_used": 1,
          "standard_of_living_index": 4,
          "wife_age": 33,
          "wife_education": 4,
          "wife_religion": 1
         },
         {
          "contraceptive_method_used": 1,
          "standard_of_living_index": 4,
          "wife_age": 23,
          "wife_education": 3,
          "wife_religion": 1
         },
         {
          "contraceptive_method_used": 2,
          "standard_of_living_index": 4,
          "wife_age": 35,
          "wife_education": 4,
          "wife_religion": 0
         },
         {
          "contraceptive_method_used": 1,
          "standard_of_living_index": 1,
          "wife_age": 35,
          "wife_education": 2,
          "wife_religion": 1
         },
         {
          "contraceptive_method_used": 3,
          "standard_of_living_index": 2,
          "wife_age": 18,
          "wife_education": 3,
          "wife_religion": 1
         },
         {
          "contraceptive_method_used": 3,
          "standard_of_living_index": 3,
          "wife_age": 25,
          "wife_education": 2,
          "wife_religion": 1
         },
         {
          "contraceptive_method_used": 1,
          "standard_of_living_index": 1,
          "wife_age": 26,
          "wife_education": 3,
          "wife_religion": 1
         },
         {
          "contraceptive_method_used": 3,
          "standard_of_living_index": 3,
          "wife_age": 39,
          "wife_education": 4,
          "wife_religion": 0
         },
         {
          "contraceptive_method_used": 2,
          "standard_of_living_index": 3,
          "wife_age": 44,
          "wife_education": 4,
          "wife_religion": 0
         },
         {
          "contraceptive_method_used": 2,
          "standard_of_living_index": 4,
          "wife_age": 23,
          "wife_education": 4,
          "wife_religion": 0
         },
         {
          "contraceptive_method_used": 1,
          "standard_of_living_index": 4,
          "wife_age": 48,
          "wife_education": 4,
          "wife_religion": 1
         },
         {
          "contraceptive_method_used": 1,
          "standard_of_living_index": 2,
          "wife_age": 44,
          "wife_education": 2,
          "wife_religion": 1
         },
         {
          "contraceptive_method_used": 3,
          "standard_of_living_index": 1,
          "wife_age": 20,
          "wife_education": 2,
          "wife_religion": 1
         },
         {
          "contraceptive_method_used": 3,
          "standard_of_living_index": 4,
          "wife_age": 27,
          "wife_education": 2,
          "wife_religion": 1
         },
         {
          "contraceptive_method_used": 2,
          "standard_of_living_index": 4,
          "wife_age": 47,
          "wife_education": 4,
          "wife_religion": 1
         },
         {
          "contraceptive_method_used": 3,
          "standard_of_living_index": 1,
          "wife_age": 41,
          "wife_education": 1,
          "wife_religion": 1
         },
         {
          "contraceptive_method_used": 2,
          "standard_of_living_index": 4,
          "wife_age": 40,
          "wife_education": 4,
          "wife_religion": 0
         },
         {
          "contraceptive_method_used": 1,
          "standard_of_living_index": 2,
          "wife_age": 40,
          "wife_education": 3,
          "wife_religion": 1
         },
         {
          "contraceptive_method_used": 1,
          "standard_of_living_index": 2,
          "wife_age": 34,
          "wife_education": 4,
          "wife_religion": 0
         },
         {
          "contraceptive_method_used": 1,
          "standard_of_living_index": 3,
          "wife_age": 47,
          "wife_education": 1,
          "wife_religion": 1
         },
         {
          "contraceptive_method_used": 1,
          "standard_of_living_index": 1,
          "wife_age": 28,
          "wife_education": 1,
          "wife_religion": 1
         },
         {
          "contraceptive_method_used": 2,
          "standard_of_living_index": 4,
          "wife_age": 30,
          "wife_education": 2,
          "wife_religion": 1
         },
         {
          "contraceptive_method_used": 1,
          "standard_of_living_index": 4,
          "wife_age": 44,
          "wife_education": 3,
          "wife_religion": 1
         },
         {
          "contraceptive_method_used": 3,
          "standard_of_living_index": 4,
          "wife_age": 25,
          "wife_education": 4,
          "wife_religion": 1
         },
         {
          "contraceptive_method_used": 1,
          "standard_of_living_index": 3,
          "wife_age": 34,
          "wife_education": 4,
          "wife_religion": 0
         },
         {
          "contraceptive_method_used": 1,
          "standard_of_living_index": 3,
          "wife_age": 41,
          "wife_education": 1,
          "wife_religion": 1
         },
         {
          "contraceptive_method_used": 3,
          "standard_of_living_index": 4,
          "wife_age": 35,
          "wife_education": 3,
          "wife_religion": 1
         },
         {
          "contraceptive_method_used": 3,
          "standard_of_living_index": 1,
          "wife_age": 32,
          "wife_education": 2,
          "wife_religion": 1
         },
         {
          "contraceptive_method_used": 1,
          "standard_of_living_index": 4,
          "wife_age": 31,
          "wife_education": 3,
          "wife_religion": 1
         },
         {
          "contraceptive_method_used": 2,
          "standard_of_living_index": 4,
          "wife_age": 45,
          "wife_education": 4,
          "wife_religion": 0
         },
         {
          "contraceptive_method_used": 2,
          "standard_of_living_index": 3,
          "wife_age": 23,
          "wife_education": 3,
          "wife_religion": 1
         },
         {
          "contraceptive_method_used": 2,
          "standard_of_living_index": 4,
          "wife_age": 42,
          "wife_education": 4,
          "wife_religion": 1
         },
         {
          "contraceptive_method_used": 2,
          "standard_of_living_index": 1,
          "wife_age": 25,
          "wife_education": 3,
          "wife_religion": 1
         },
         {
          "contraceptive_method_used": 2,
          "standard_of_living_index": 4,
          "wife_age": 37,
          "wife_education": 2,
          "wife_religion": 1
         },
         {
          "contraceptive_method_used": 1,
          "standard_of_living_index": 2,
          "wife_age": 36,
          "wife_education": 4,
          "wife_religion": 1
         },
         {
          "contraceptive_method_used": 1,
          "standard_of_living_index": 4,
          "wife_age": 28,
          "wife_education": 4,
          "wife_religion": 0
         },
         {
          "contraceptive_method_used": 2,
          "standard_of_living_index": 4,
          "wife_age": 35,
          "wife_education": 4,
          "wife_religion": 1
         },
         {
          "contraceptive_method_used": 1,
          "standard_of_living_index": 4,
          "wife_age": 30,
          "wife_education": 3,
          "wife_religion": 1
         },
         {
          "contraceptive_method_used": 1,
          "standard_of_living_index": 3,
          "wife_age": 48,
          "wife_education": 3,
          "wife_religion": 1
         },
         {
          "contraceptive_method_used": 2,
          "standard_of_living_index": 4,
          "wife_age": 45,
          "wife_education": 4,
          "wife_religion": 1
         },
         {
          "contraceptive_method_used": 3,
          "standard_of_living_index": 4,
          "wife_age": 28,
          "wife_education": 4,
          "wife_religion": 1
         },
         {
          "contraceptive_method_used": 1,
          "standard_of_living_index": 2,
          "wife_age": 21,
          "wife_education": 3,
          "wife_religion": 1
         },
         {
          "contraceptive_method_used": 3,
          "standard_of_living_index": 3,
          "wife_age": 40,
          "wife_education": 2,
          "wife_religion": 1
         },
         {
          "contraceptive_method_used": 3,
          "standard_of_living_index": 4,
          "wife_age": 23,
          "wife_education": 4,
          "wife_religion": 1
         },
         {
          "contraceptive_method_used": 2,
          "standard_of_living_index": 4,
          "wife_age": 44,
          "wife_education": 4,
          "wife_religion": 1
         },
         {
          "contraceptive_method_used": 3,
          "standard_of_living_index": 3,
          "wife_age": 22,
          "wife_education": 3,
          "wife_religion": 1
         },
         {
          "contraceptive_method_used": 3,
          "standard_of_living_index": 1,
          "wife_age": 22,
          "wife_education": 3,
          "wife_religion": 1
         },
         {
          "contraceptive_method_used": 3,
          "standard_of_living_index": 3,
          "wife_age": 43,
          "wife_education": 3,
          "wife_religion": 1
         },
         {
          "contraceptive_method_used": 3,
          "standard_of_living_index": 2,
          "wife_age": 38,
          "wife_education": 3,
          "wife_religion": 1
         },
         {
          "contraceptive_method_used": 1,
          "standard_of_living_index": 4,
          "wife_age": 49,
          "wife_education": 1,
          "wife_religion": 1
         },
         {
          "contraceptive_method_used": 1,
          "standard_of_living_index": 3,
          "wife_age": 43,
          "wife_education": 2,
          "wife_religion": 1
         },
         {
          "contraceptive_method_used": 3,
          "standard_of_living_index": 4,
          "wife_age": 27,
          "wife_education": 3,
          "wife_religion": 1
         },
         {
          "contraceptive_method_used": 1,
          "standard_of_living_index": 4,
          "wife_age": 26,
          "wife_education": 2,
          "wife_religion": 1
         },
         {
          "contraceptive_method_used": 1,
          "standard_of_living_index": 2,
          "wife_age": 43,
          "wife_education": 1,
          "wife_religion": 1
         },
         {
          "contraceptive_method_used": 1,
          "standard_of_living_index": 4,
          "wife_age": 34,
          "wife_education": 4,
          "wife_religion": 0
         },
         {
          "contraceptive_method_used": 3,
          "standard_of_living_index": 4,
          "wife_age": 38,
          "wife_education": 4,
          "wife_religion": 1
         },
         {
          "contraceptive_method_used": 3,
          "standard_of_living_index": 3,
          "wife_age": 29,
          "wife_education": 1,
          "wife_religion": 1
         },
         {
          "contraceptive_method_used": 2,
          "standard_of_living_index": 3,
          "wife_age": 36,
          "wife_education": 3,
          "wife_religion": 1
         },
         {
          "contraceptive_method_used": 1,
          "standard_of_living_index": 1,
          "wife_age": 26,
          "wife_education": 2,
          "wife_religion": 1
         },
         {
          "contraceptive_method_used": 1,
          "standard_of_living_index": 1,
          "wife_age": 24,
          "wife_education": 2,
          "wife_religion": 1
         },
         {
          "contraceptive_method_used": 1,
          "standard_of_living_index": 3,
          "wife_age": 41,
          "wife_education": 2,
          "wife_religion": 1
         },
         {
          "contraceptive_method_used": 3,
          "standard_of_living_index": 4,
          "wife_age": 20,
          "wife_education": 3,
          "wife_religion": 0
         },
         {
          "contraceptive_method_used": 3,
          "standard_of_living_index": 2,
          "wife_age": 32,
          "wife_education": 3,
          "wife_religion": 1
         },
         {
          "contraceptive_method_used": 3,
          "standard_of_living_index": 4,
          "wife_age": 41,
          "wife_education": 4,
          "wife_religion": 1
         },
         {
          "contraceptive_method_used": 3,
          "standard_of_living_index": 4,
          "wife_age": 31,
          "wife_education": 4,
          "wife_religion": 0
         },
         {
          "contraceptive_method_used": 1,
          "standard_of_living_index": 2,
          "wife_age": 25,
          "wife_education": 1,
          "wife_religion": 1
         },
         {
          "contraceptive_method_used": 2,
          "standard_of_living_index": 3,
          "wife_age": 24,
          "wife_education": 4,
          "wife_religion": 1
         },
         {
          "contraceptive_method_used": 1,
          "standard_of_living_index": 3,
          "wife_age": 33,
          "wife_education": 4,
          "wife_religion": 0
         },
         {
          "contraceptive_method_used": 3,
          "standard_of_living_index": 4,
          "wife_age": 22,
          "wife_education": 3,
          "wife_religion": 1
         },
         {
          "contraceptive_method_used": 1,
          "standard_of_living_index": 4,
          "wife_age": 24,
          "wife_education": 2,
          "wife_religion": 1
         },
         {
          "contraceptive_method_used": 2,
          "standard_of_living_index": 3,
          "wife_age": 27,
          "wife_education": 4,
          "wife_religion": 1
         },
         {
          "contraceptive_method_used": 3,
          "standard_of_living_index": 3,
          "wife_age": 21,
          "wife_education": 4,
          "wife_religion": 1
         },
         {
          "contraceptive_method_used": 3,
          "standard_of_living_index": 4,
          "wife_age": 31,
          "wife_education": 4,
          "wife_religion": 1
         },
         {
          "contraceptive_method_used": 2,
          "standard_of_living_index": 4,
          "wife_age": 32,
          "wife_education": 4,
          "wife_religion": 0
         },
         {
          "contraceptive_method_used": 2,
          "standard_of_living_index": 1,
          "wife_age": 36,
          "wife_education": 2,
          "wife_religion": 1
         },
         {
          "contraceptive_method_used": 1,
          "standard_of_living_index": 3,
          "wife_age": 33,
          "wife_education": 4,
          "wife_religion": 1
         },
         {
          "contraceptive_method_used": 1,
          "standard_of_living_index": 3,
          "wife_age": 42,
          "wife_education": 1,
          "wife_religion": 1
         },
         {
          "contraceptive_method_used": 3,
          "standard_of_living_index": 3,
          "wife_age": 21,
          "wife_education": 3,
          "wife_religion": 1
         },
         {
          "contraceptive_method_used": 1,
          "standard_of_living_index": 2,
          "wife_age": 47,
          "wife_education": 1,
          "wife_religion": 1
         },
         {
          "contraceptive_method_used": 1,
          "standard_of_living_index": 2,
          "wife_age": 32,
          "wife_education": 2,
          "wife_religion": 1
         },
         {
          "contraceptive_method_used": 2,
          "standard_of_living_index": 4,
          "wife_age": 36,
          "wife_education": 4,
          "wife_religion": 1
         },
         {
          "contraceptive_method_used": 3,
          "standard_of_living_index": 4,
          "wife_age": 43,
          "wife_education": 4,
          "wife_religion": 1
         },
         {
          "contraceptive_method_used": 1,
          "standard_of_living_index": 2,
          "wife_age": 30,
          "wife_education": 1,
          "wife_religion": 1
         },
         {
          "contraceptive_method_used": 3,
          "standard_of_living_index": 4,
          "wife_age": 42,
          "wife_education": 2,
          "wife_religion": 1
         },
         {
          "contraceptive_method_used": 2,
          "standard_of_living_index": 4,
          "wife_age": 32,
          "wife_education": 4,
          "wife_religion": 1
         },
         {
          "contraceptive_method_used": 1,
          "standard_of_living_index": 2,
          "wife_age": 27,
          "wife_education": 2,
          "wife_religion": 1
         },
         {
          "contraceptive_method_used": 2,
          "standard_of_living_index": 2,
          "wife_age": 43,
          "wife_education": 3,
          "wife_religion": 1
         },
         {
          "contraceptive_method_used": 2,
          "standard_of_living_index": 4,
          "wife_age": 39,
          "wife_education": 4,
          "wife_religion": 0
         },
         {
          "contraceptive_method_used": 3,
          "standard_of_living_index": 4,
          "wife_age": 32,
          "wife_education": 4,
          "wife_religion": 1
         },
         {
          "contraceptive_method_used": 1,
          "standard_of_living_index": 2,
          "wife_age": 35,
          "wife_education": 1,
          "wife_religion": 1
         },
         {
          "contraceptive_method_used": 1,
          "standard_of_living_index": 2,
          "wife_age": 28,
          "wife_education": 2,
          "wife_religion": 1
         },
         {
          "contraceptive_method_used": 3,
          "standard_of_living_index": 4,
          "wife_age": 31,
          "wife_education": 3,
          "wife_religion": 1
         },
         {
          "contraceptive_method_used": 1,
          "standard_of_living_index": 2,
          "wife_age": 26,
          "wife_education": 3,
          "wife_religion": 1
         },
         {
          "contraceptive_method_used": 3,
          "standard_of_living_index": 1,
          "wife_age": 27,
          "wife_education": 2,
          "wife_religion": 1
         },
         {
          "contraceptive_method_used": 3,
          "standard_of_living_index": 2,
          "wife_age": 29,
          "wife_education": 3,
          "wife_religion": 1
         },
         {
          "contraceptive_method_used": 1,
          "standard_of_living_index": 2,
          "wife_age": 43,
          "wife_education": 1,
          "wife_religion": 1
         },
         {
          "contraceptive_method_used": 1,
          "standard_of_living_index": 4,
          "wife_age": 32,
          "wife_education": 3,
          "wife_religion": 1
         },
         {
          "contraceptive_method_used": 3,
          "standard_of_living_index": 1,
          "wife_age": 17,
          "wife_education": 3,
          "wife_religion": 1
         },
         {
          "contraceptive_method_used": 1,
          "standard_of_living_index": 4,
          "wife_age": 42,
          "wife_education": 2,
          "wife_religion": 1
         },
         {
          "contraceptive_method_used": 1,
          "standard_of_living_index": 4,
          "wife_age": 28,
          "wife_education": 4,
          "wife_religion": 1
         },
         {
          "contraceptive_method_used": 1,
          "standard_of_living_index": 3,
          "wife_age": 29,
          "wife_education": 4,
          "wife_religion": 1
         },
         {
          "contraceptive_method_used": 2,
          "standard_of_living_index": 3,
          "wife_age": 32,
          "wife_education": 3,
          "wife_religion": 1
         },
         {
          "contraceptive_method_used": 2,
          "standard_of_living_index": 3,
          "wife_age": 26,
          "wife_education": 3,
          "wife_religion": 1
         },
         {
          "contraceptive_method_used": 3,
          "standard_of_living_index": 4,
          "wife_age": 37,
          "wife_education": 3,
          "wife_religion": 1
         },
         {
          "contraceptive_method_used": 1,
          "standard_of_living_index": 2,
          "wife_age": 20,
          "wife_education": 3,
          "wife_religion": 1
         },
         {
          "contraceptive_method_used": 3,
          "standard_of_living_index": 2,
          "wife_age": 29,
          "wife_education": 3,
          "wife_religion": 1
         },
         {
          "contraceptive_method_used": 1,
          "standard_of_living_index": 4,
          "wife_age": 40,
          "wife_education": 4,
          "wife_religion": 1
         },
         {
          "contraceptive_method_used": 3,
          "standard_of_living_index": 4,
          "wife_age": 35,
          "wife_education": 3,
          "wife_religion": 1
         },
         {
          "contraceptive_method_used": 3,
          "standard_of_living_index": 4,
          "wife_age": 37,
          "wife_education": 3,
          "wife_religion": 0
         },
         {
          "contraceptive_method_used": 2,
          "standard_of_living_index": 3,
          "wife_age": 41,
          "wife_education": 4,
          "wife_religion": 1
         },
         {
          "contraceptive_method_used": 2,
          "standard_of_living_index": 4,
          "wife_age": 26,
          "wife_education": 4,
          "wife_religion": 0
         },
         {
          "contraceptive_method_used": 1,
          "standard_of_living_index": 4,
          "wife_age": 29,
          "wife_education": 1,
          "wife_religion": 1
         },
         {
          "contraceptive_method_used": 3,
          "standard_of_living_index": 4,
          "wife_age": 32,
          "wife_education": 4,
          "wife_religion": 0
         },
         {
          "contraceptive_method_used": 3,
          "standard_of_living_index": 4,
          "wife_age": 24,
          "wife_education": 2,
          "wife_religion": 1
         },
         {
          "contraceptive_method_used": 2,
          "standard_of_living_index": 4,
          "wife_age": 42,
          "wife_education": 4,
          "wife_religion": 1
         },
         {
          "contraceptive_method_used": 3,
          "standard_of_living_index": 4,
          "wife_age": 30,
          "wife_education": 4,
          "wife_religion": 0
         },
         {
          "contraceptive_method_used": 1,
          "standard_of_living_index": 4,
          "wife_age": 39,
          "wife_education": 3,
          "wife_religion": 1
         },
         {
          "contraceptive_method_used": 1,
          "standard_of_living_index": 4,
          "wife_age": 26,
          "wife_education": 4,
          "wife_religion": 1
         },
         {
          "contraceptive_method_used": 3,
          "standard_of_living_index": 2,
          "wife_age": 34,
          "wife_education": 2,
          "wife_religion": 0
         },
         {
          "contraceptive_method_used": 3,
          "standard_of_living_index": 3,
          "wife_age": 27,
          "wife_education": 3,
          "wife_religion": 1
         },
         {
          "contraceptive_method_used": 3,
          "standard_of_living_index": 1,
          "wife_age": 29,
          "wife_education": 3,
          "wife_religion": 1
         },
         {
          "contraceptive_method_used": 1,
          "standard_of_living_index": 4,
          "wife_age": 29,
          "wife_education": 2,
          "wife_religion": 1
         },
         {
          "contraceptive_method_used": 1,
          "standard_of_living_index": 3,
          "wife_age": 28,
          "wife_education": 4,
          "wife_religion": 0
         },
         {
          "contraceptive_method_used": 1,
          "standard_of_living_index": 1,
          "wife_age": 29,
          "wife_education": 2,
          "wife_religion": 1
         },
         {
          "contraceptive_method_used": 2,
          "standard_of_living_index": 3,
          "wife_age": 31,
          "wife_education": 4,
          "wife_religion": 1
         },
         {
          "contraceptive_method_used": 3,
          "standard_of_living_index": 4,
          "wife_age": 35,
          "wife_education": 4,
          "wife_religion": 0
         },
         {
          "contraceptive_method_used": 3,
          "standard_of_living_index": 4,
          "wife_age": 22,
          "wife_education": 3,
          "wife_religion": 0
         },
         {
          "contraceptive_method_used": 2,
          "standard_of_living_index": 4,
          "wife_age": 28,
          "wife_education": 3,
          "wife_religion": 1
         },
         {
          "contraceptive_method_used": 3,
          "standard_of_living_index": 3,
          "wife_age": 21,
          "wife_education": 4,
          "wife_religion": 1
         },
         {
          "contraceptive_method_used": 3,
          "standard_of_living_index": 4,
          "wife_age": 30,
          "wife_education": 3,
          "wife_religion": 1
         },
         {
          "contraceptive_method_used": 3,
          "standard_of_living_index": 1,
          "wife_age": 19,
          "wife_education": 3,
          "wife_religion": 1
         },
         {
          "contraceptive_method_used": 1,
          "standard_of_living_index": 1,
          "wife_age": 27,
          "wife_education": 2,
          "wife_religion": 1
         },
         {
          "contraceptive_method_used": 1,
          "standard_of_living_index": 4,
          "wife_age": 31,
          "wife_education": 3,
          "wife_religion": 0
         },
         {
          "contraceptive_method_used": 1,
          "standard_of_living_index": 4,
          "wife_age": 37,
          "wife_education": 1,
          "wife_religion": 1
         },
         {
          "contraceptive_method_used": 1,
          "standard_of_living_index": 4,
          "wife_age": 32,
          "wife_education": 3,
          "wife_religion": 1
         },
         {
          "contraceptive_method_used": 2,
          "standard_of_living_index": 4,
          "wife_age": 26,
          "wife_education": 4,
          "wife_religion": 1
         },
         {
          "contraceptive_method_used": 1,
          "standard_of_living_index": 2,
          "wife_age": 42,
          "wife_education": 3,
          "wife_religion": 1
         },
         {
          "contraceptive_method_used": 1,
          "standard_of_living_index": 1,
          "wife_age": 26,
          "wife_education": 2,
          "wife_religion": 1
         },
         {
          "contraceptive_method_used": 1,
          "standard_of_living_index": 1,
          "wife_age": 46,
          "wife_education": 1,
          "wife_religion": 1
         },
         {
          "contraceptive_method_used": 3,
          "standard_of_living_index": 4,
          "wife_age": 36,
          "wife_education": 4,
          "wife_religion": 0
         },
         {
          "contraceptive_method_used": 1,
          "standard_of_living_index": 4,
          "wife_age": 27,
          "wife_education": 1,
          "wife_religion": 1
         },
         {
          "contraceptive_method_used": 1,
          "standard_of_living_index": 2,
          "wife_age": 45,
          "wife_education": 1,
          "wife_religion": 1
         },
         {
          "contraceptive_method_used": 3,
          "standard_of_living_index": 4,
          "wife_age": 33,
          "wife_education": 2,
          "wife_religion": 1
         },
         {
          "contraceptive_method_used": 3,
          "standard_of_living_index": 1,
          "wife_age": 25,
          "wife_education": 2,
          "wife_religion": 1
         },
         {
          "contraceptive_method_used": 1,
          "standard_of_living_index": 1,
          "wife_age": 30,
          "wife_education": 1,
          "wife_religion": 1
         },
         {
          "contraceptive_method_used": 1,
          "standard_of_living_index": 2,
          "wife_age": 17,
          "wife_education": 2,
          "wife_religion": 1
         },
         {
          "contraceptive_method_used": 1,
          "standard_of_living_index": 3,
          "wife_age": 22,
          "wife_education": 4,
          "wife_religion": 1
         },
         {
          "contraceptive_method_used": 1,
          "standard_of_living_index": 4,
          "wife_age": 21,
          "wife_education": 4,
          "wife_religion": 1
         },
         {
          "contraceptive_method_used": 1,
          "standard_of_living_index": 4,
          "wife_age": 33,
          "wife_education": 4,
          "wife_religion": 0
         },
         {
          "contraceptive_method_used": 2,
          "standard_of_living_index": 4,
          "wife_age": 21,
          "wife_education": 3,
          "wife_religion": 1
         },
         {
          "contraceptive_method_used": 1,
          "standard_of_living_index": 4,
          "wife_age": 21,
          "wife_education": 4,
          "wife_religion": 1
         },
         {
          "contraceptive_method_used": 1,
          "standard_of_living_index": 3,
          "wife_age": 22,
          "wife_education": 2,
          "wife_religion": 1
         },
         {
          "contraceptive_method_used": 3,
          "standard_of_living_index": 4,
          "wife_age": 26,
          "wife_education": 3,
          "wife_religion": 1
         },
         {
          "contraceptive_method_used": 1,
          "standard_of_living_index": 1,
          "wife_age": 22,
          "wife_education": 4,
          "wife_religion": 1
         },
         {
          "contraceptive_method_used": 1,
          "standard_of_living_index": 3,
          "wife_age": 34,
          "wife_education": 4,
          "wife_religion": 1
         },
         {
          "contraceptive_method_used": 3,
          "standard_of_living_index": 4,
          "wife_age": 27,
          "wife_education": 4,
          "wife_religion": 1
         },
         {
          "contraceptive_method_used": 2,
          "standard_of_living_index": 4,
          "wife_age": 29,
          "wife_education": 4,
          "wife_religion": 1
         },
         {
          "contraceptive_method_used": 2,
          "standard_of_living_index": 3,
          "wife_age": 35,
          "wife_education": 3,
          "wife_religion": 1
         },
         {
          "contraceptive_method_used": 1,
          "standard_of_living_index": 4,
          "wife_age": 29,
          "wife_education": 3,
          "wife_religion": 1
         },
         {
          "contraceptive_method_used": 1,
          "standard_of_living_index": 3,
          "wife_age": 23,
          "wife_education": 4,
          "wife_religion": 1
         },
         {
          "contraceptive_method_used": 2,
          "standard_of_living_index": 3,
          "wife_age": 35,
          "wife_education": 3,
          "wife_religion": 1
         },
         {
          "contraceptive_method_used": 3,
          "standard_of_living_index": 4,
          "wife_age": 32,
          "wife_education": 4,
          "wife_religion": 1
         },
         {
          "contraceptive_method_used": 1,
          "standard_of_living_index": 2,
          "wife_age": 25,
          "wife_education": 3,
          "wife_religion": 1
         },
         {
          "contraceptive_method_used": 1,
          "standard_of_living_index": 2,
          "wife_age": 25,
          "wife_education": 2,
          "wife_religion": 1
         },
         {
          "contraceptive_method_used": 3,
          "standard_of_living_index": 4,
          "wife_age": 33,
          "wife_education": 2,
          "wife_religion": 1
         },
         {
          "contraceptive_method_used": 2,
          "standard_of_living_index": 4,
          "wife_age": 30,
          "wife_education": 2,
          "wife_religion": 1
         },
         {
          "contraceptive_method_used": 2,
          "standard_of_living_index": 3,
          "wife_age": 28,
          "wife_education": 2,
          "wife_religion": 1
         },
         {
          "contraceptive_method_used": 2,
          "standard_of_living_index": 3,
          "wife_age": 29,
          "wife_education": 4,
          "wife_religion": 1
         },
         {
          "contraceptive_method_used": 1,
          "standard_of_living_index": 3,
          "wife_age": 21,
          "wife_education": 4,
          "wife_religion": 1
         },
         {
          "contraceptive_method_used": 1,
          "standard_of_living_index": 1,
          "wife_age": 25,
          "wife_education": 2,
          "wife_religion": 1
         },
         {
          "contraceptive_method_used": 2,
          "standard_of_living_index": 3,
          "wife_age": 42,
          "wife_education": 4,
          "wife_religion": 1
         },
         {
          "contraceptive_method_used": 1,
          "standard_of_living_index": 3,
          "wife_age": 44,
          "wife_education": 1,
          "wife_religion": 1
         },
         {
          "contraceptive_method_used": 1,
          "standard_of_living_index": 3,
          "wife_age": 47,
          "wife_education": 1,
          "wife_religion": 1
         },
         {
          "contraceptive_method_used": 1,
          "standard_of_living_index": 1,
          "wife_age": 37,
          "wife_education": 3,
          "wife_religion": 1
         },
         {
          "contraceptive_method_used": 3,
          "standard_of_living_index": 3,
          "wife_age": 27,
          "wife_education": 3,
          "wife_religion": 1
         },
         {
          "contraceptive_method_used": 1,
          "standard_of_living_index": 4,
          "wife_age": 47,
          "wife_education": 1,
          "wife_religion": 1
         },
         {
          "contraceptive_method_used": 3,
          "standard_of_living_index": 3,
          "wife_age": 25,
          "wife_education": 4,
          "wife_religion": 1
         },
         {
          "contraceptive_method_used": 2,
          "standard_of_living_index": 4,
          "wife_age": 36,
          "wife_education": 4,
          "wife_religion": 1
         },
         {
          "contraceptive_method_used": 1,
          "standard_of_living_index": 4,
          "wife_age": 19,
          "wife_education": 4,
          "wife_religion": 0
         },
         {
          "contraceptive_method_used": 1,
          "standard_of_living_index": 4,
          "wife_age": 46,
          "wife_education": 4,
          "wife_religion": 1
         },
         {
          "contraceptive_method_used": 1,
          "standard_of_living_index": 1,
          "wife_age": 24,
          "wife_education": 3,
          "wife_religion": 1
         },
         {
          "contraceptive_method_used": 3,
          "standard_of_living_index": 4,
          "wife_age": 25,
          "wife_education": 2,
          "wife_religion": 1
         },
         {
          "contraceptive_method_used": 3,
          "standard_of_living_index": 4,
          "wife_age": 33,
          "wife_education": 4,
          "wife_religion": 1
         },
         {
          "contraceptive_method_used": 3,
          "standard_of_living_index": 4,
          "wife_age": 28,
          "wife_education": 2,
          "wife_religion": 1
         },
         {
          "contraceptive_method_used": 3,
          "standard_of_living_index": 2,
          "wife_age": 32,
          "wife_education": 1,
          "wife_religion": 1
         },
         {
          "contraceptive_method_used": 3,
          "standard_of_living_index": 4,
          "wife_age": 20,
          "wife_education": 3,
          "wife_religion": 1
         },
         {
          "contraceptive_method_used": 1,
          "standard_of_living_index": 4,
          "wife_age": 32,
          "wife_education": 4,
          "wife_religion": 1
         },
         {
          "contraceptive_method_used": 1,
          "standard_of_living_index": 3,
          "wife_age": 21,
          "wife_education": 3,
          "wife_religion": 1
         },
         {
          "contraceptive_method_used": 3,
          "standard_of_living_index": 4,
          "wife_age": 31,
          "wife_education": 4,
          "wife_religion": 1
         },
         {
          "contraceptive_method_used": 2,
          "standard_of_living_index": 3,
          "wife_age": 28,
          "wife_education": 3,
          "wife_religion": 0
         },
         {
          "contraceptive_method_used": 3,
          "standard_of_living_index": 2,
          "wife_age": 30,
          "wife_education": 2,
          "wife_religion": 1
         },
         {
          "contraceptive_method_used": 3,
          "standard_of_living_index": 3,
          "wife_age": 24,
          "wife_education": 2,
          "wife_religion": 1
         },
         {
          "contraceptive_method_used": 1,
          "standard_of_living_index": 3,
          "wife_age": 40,
          "wife_education": 3,
          "wife_religion": 1
         },
         {
          "contraceptive_method_used": 1,
          "standard_of_living_index": 2,
          "wife_age": 21,
          "wife_education": 1,
          "wife_religion": 1
         },
         {
          "contraceptive_method_used": 1,
          "standard_of_living_index": 3,
          "wife_age": 47,
          "wife_education": 2,
          "wife_religion": 1
         },
         {
          "contraceptive_method_used": 3,
          "standard_of_living_index": 2,
          "wife_age": 35,
          "wife_education": 2,
          "wife_religion": 1
         },
         {
          "contraceptive_method_used": 3,
          "standard_of_living_index": 2,
          "wife_age": 40,
          "wife_education": 3,
          "wife_religion": 1
         },
         {
          "contraceptive_method_used": 3,
          "standard_of_living_index": 3,
          "wife_age": 36,
          "wife_education": 2,
          "wife_religion": 1
         },
         {
          "contraceptive_method_used": 1,
          "standard_of_living_index": 4,
          "wife_age": 37,
          "wife_education": 2,
          "wife_religion": 0
         },
         {
          "contraceptive_method_used": 3,
          "standard_of_living_index": 4,
          "wife_age": 46,
          "wife_education": 4,
          "wife_religion": 1
         },
         {
          "contraceptive_method_used": 2,
          "standard_of_living_index": 4,
          "wife_age": 49,
          "wife_education": 3,
          "wife_religion": 1
         },
         {
          "contraceptive_method_used": 2,
          "standard_of_living_index": 2,
          "wife_age": 36,
          "wife_education": 3,
          "wife_religion": 1
         },
         {
          "contraceptive_method_used": 3,
          "standard_of_living_index": 3,
          "wife_age": 47,
          "wife_education": 1,
          "wife_religion": 1
         },
         {
          "contraceptive_method_used": 1,
          "standard_of_living_index": 1,
          "wife_age": 47,
          "wife_education": 2,
          "wife_religion": 1
         },
         {
          "contraceptive_method_used": 1,
          "standard_of_living_index": 3,
          "wife_age": 31,
          "wife_education": 3,
          "wife_religion": 1
         },
         {
          "contraceptive_method_used": 3,
          "standard_of_living_index": 3,
          "wife_age": 25,
          "wife_education": 3,
          "wife_religion": 1
         },
         {
          "contraceptive_method_used": 3,
          "standard_of_living_index": 2,
          "wife_age": 35,
          "wife_education": 2,
          "wife_religion": 1
         },
         {
          "contraceptive_method_used": 1,
          "standard_of_living_index": 3,
          "wife_age": 35,
          "wife_education": 4,
          "wife_religion": 1
         },
         {
          "contraceptive_method_used": 3,
          "standard_of_living_index": 1,
          "wife_age": 21,
          "wife_education": 3,
          "wife_religion": 1
         },
         {
          "contraceptive_method_used": 1,
          "standard_of_living_index": 3,
          "wife_age": 38,
          "wife_education": 2,
          "wife_religion": 1
         },
         {
          "contraceptive_method_used": 3,
          "standard_of_living_index": 4,
          "wife_age": 37,
          "wife_education": 4,
          "wife_religion": 1
         },
         {
          "contraceptive_method_used": 1,
          "standard_of_living_index": 4,
          "wife_age": 36,
          "wife_education": 4,
          "wife_religion": 1
         },
         {
          "contraceptive_method_used": 3,
          "standard_of_living_index": 4,
          "wife_age": 33,
          "wife_education": 3,
          "wife_religion": 1
         },
         {
          "contraceptive_method_used": 3,
          "standard_of_living_index": 4,
          "wife_age": 33,
          "wife_education": 4,
          "wife_religion": 1
         },
         {
          "contraceptive_method_used": 2,
          "standard_of_living_index": 4,
          "wife_age": 38,
          "wife_education": 4,
          "wife_religion": 1
         },
         {
          "contraceptive_method_used": 2,
          "standard_of_living_index": 4,
          "wife_age": 36,
          "wife_education": 4,
          "wife_religion": 0
         },
         {
          "contraceptive_method_used": 1,
          "standard_of_living_index": 1,
          "wife_age": 22,
          "wife_education": 2,
          "wife_religion": 1
         },
         {
          "contraceptive_method_used": 3,
          "standard_of_living_index": 2,
          "wife_age": 27,
          "wife_education": 3,
          "wife_religion": 1
         },
         {
          "contraceptive_method_used": 1,
          "standard_of_living_index": 3,
          "wife_age": 19,
          "wife_education": 4,
          "wife_religion": 1
         },
         {
          "contraceptive_method_used": 1,
          "standard_of_living_index": 4,
          "wife_age": 28,
          "wife_education": 4,
          "wife_religion": 0
         },
         {
          "contraceptive_method_used": 3,
          "standard_of_living_index": 4,
          "wife_age": 33,
          "wife_education": 4,
          "wife_religion": 1
         },
         {
          "contraceptive_method_used": 1,
          "standard_of_living_index": 3,
          "wife_age": 34,
          "wife_education": 3,
          "wife_religion": 1
         },
         {
          "contraceptive_method_used": 3,
          "standard_of_living_index": 3,
          "wife_age": 33,
          "wife_education": 2,
          "wife_religion": 1
         },
         {
          "contraceptive_method_used": 3,
          "standard_of_living_index": 4,
          "wife_age": 40,
          "wife_education": 4,
          "wife_religion": 1
         },
         {
          "contraceptive_method_used": 2,
          "standard_of_living_index": 4,
          "wife_age": 38,
          "wife_education": 4,
          "wife_religion": 0
         },
         {
          "contraceptive_method_used": 3,
          "standard_of_living_index": 3,
          "wife_age": 20,
          "wife_education": 3,
          "wife_religion": 1
         },
         {
          "contraceptive_method_used": 1,
          "standard_of_living_index": 2,
          "wife_age": 36,
          "wife_education": 3,
          "wife_religion": 1
         },
         {
          "contraceptive_method_used": 1,
          "standard_of_living_index": 4,
          "wife_age": 39,
          "wife_education": 4,
          "wife_religion": 1
         },
         {
          "contraceptive_method_used": 1,
          "standard_of_living_index": 2,
          "wife_age": 29,
          "wife_education": 4,
          "wife_religion": 1
         },
         {
          "contraceptive_method_used": 1,
          "standard_of_living_index": 4,
          "wife_age": 28,
          "wife_education": 4,
          "wife_religion": 0
         },
         {
          "contraceptive_method_used": 1,
          "standard_of_living_index": 4,
          "wife_age": 26,
          "wife_education": 4,
          "wife_religion": 1
         },
         {
          "contraceptive_method_used": 1,
          "standard_of_living_index": 3,
          "wife_age": 49,
          "wife_education": 2,
          "wife_religion": 0
         },
         {
          "contraceptive_method_used": 3,
          "standard_of_living_index": 4,
          "wife_age": 29,
          "wife_education": 4,
          "wife_religion": 1
         },
         {
          "contraceptive_method_used": 1,
          "standard_of_living_index": 1,
          "wife_age": 46,
          "wife_education": 1,
          "wife_religion": 1
         },
         {
          "contraceptive_method_used": 2,
          "standard_of_living_index": 4,
          "wife_age": 38,
          "wife_education": 4,
          "wife_religion": 1
         },
         {
          "contraceptive_method_used": 1,
          "standard_of_living_index": 4,
          "wife_age": 29,
          "wife_education": 4,
          "wife_religion": 1
         },
         {
          "contraceptive_method_used": 3,
          "standard_of_living_index": 3,
          "wife_age": 19,
          "wife_education": 2,
          "wife_religion": 1
         },
         {
          "contraceptive_method_used": 3,
          "standard_of_living_index": 3,
          "wife_age": 25,
          "wife_education": 3,
          "wife_religion": 1
         },
         {
          "contraceptive_method_used": 1,
          "standard_of_living_index": 3,
          "wife_age": 22,
          "wife_education": 3,
          "wife_religion": 1
         },
         {
          "contraceptive_method_used": 3,
          "standard_of_living_index": 4,
          "wife_age": 46,
          "wife_education": 4,
          "wife_religion": 0
         },
         {
          "contraceptive_method_used": 3,
          "standard_of_living_index": 2,
          "wife_age": 29,
          "wife_education": 2,
          "wife_religion": 1
         },
         {
          "contraceptive_method_used": 1,
          "standard_of_living_index": 4,
          "wife_age": 32,
          "wife_education": 2,
          "wife_religion": 1
         },
         {
          "contraceptive_method_used": 3,
          "standard_of_living_index": 4,
          "wife_age": 46,
          "wife_education": 2,
          "wife_religion": 1
         },
         {
          "contraceptive_method_used": 2,
          "standard_of_living_index": 3,
          "wife_age": 34,
          "wife_education": 3,
          "wife_religion": 0
         },
         {
          "contraceptive_method_used": 1,
          "standard_of_living_index": 3,
          "wife_age": 45,
          "wife_education": 3,
          "wife_religion": 1
         },
         {
          "contraceptive_method_used": 1,
          "standard_of_living_index": 3,
          "wife_age": 27,
          "wife_education": 3,
          "wife_religion": 1
         },
         {
          "contraceptive_method_used": 1,
          "standard_of_living_index": 4,
          "wife_age": 49,
          "wife_education": 3,
          "wife_religion": 1
         },
         {
          "contraceptive_method_used": 1,
          "standard_of_living_index": 3,
          "wife_age": 34,
          "wife_education": 2,
          "wife_religion": 1
         },
         {
          "contraceptive_method_used": 2,
          "standard_of_living_index": 4,
          "wife_age": 37,
          "wife_education": 4,
          "wife_religion": 1
         },
         {
          "contraceptive_method_used": 1,
          "standard_of_living_index": 3,
          "wife_age": 39,
          "wife_education": 3,
          "wife_religion": 1
         },
         {
          "contraceptive_method_used": 1,
          "standard_of_living_index": 4,
          "wife_age": 44,
          "wife_education": 4,
          "wife_religion": 0
         },
         {
          "contraceptive_method_used": 1,
          "standard_of_living_index": 4,
          "wife_age": 47,
          "wife_education": 3,
          "wife_religion": 1
         },
         {
          "contraceptive_method_used": 1,
          "standard_of_living_index": 3,
          "wife_age": 36,
          "wife_education": 2,
          "wife_religion": 1
         },
         {
          "contraceptive_method_used": 1,
          "standard_of_living_index": 3,
          "wife_age": 44,
          "wife_education": 3,
          "wife_religion": 1
         },
         {
          "contraceptive_method_used": 3,
          "standard_of_living_index": 2,
          "wife_age": 34,
          "wife_education": 4,
          "wife_religion": 1
         },
         {
          "contraceptive_method_used": 1,
          "standard_of_living_index": 4,
          "wife_age": 22,
          "wife_education": 3,
          "wife_religion": 1
         },
         {
          "contraceptive_method_used": 1,
          "standard_of_living_index": 2,
          "wife_age": 20,
          "wife_education": 2,
          "wife_religion": 0
         },
         {
          "contraceptive_method_used": 2,
          "standard_of_living_index": 4,
          "wife_age": 48,
          "wife_education": 4,
          "wife_religion": 1
         },
         {
          "contraceptive_method_used": 1,
          "standard_of_living_index": 3,
          "wife_age": 38,
          "wife_education": 1,
          "wife_religion": 1
         },
         {
          "contraceptive_method_used": 2,
          "standard_of_living_index": 3,
          "wife_age": 26,
          "wife_education": 4,
          "wife_religion": 1
         },
         {
          "contraceptive_method_used": 1,
          "standard_of_living_index": 3,
          "wife_age": 20,
          "wife_education": 3,
          "wife_religion": 1
         },
         {
          "contraceptive_method_used": 2,
          "standard_of_living_index": 4,
          "wife_age": 41,
          "wife_education": 4,
          "wife_religion": 1
         },
         {
          "contraceptive_method_used": 1,
          "standard_of_living_index": 3,
          "wife_age": 44,
          "wife_education": 1,
          "wife_religion": 1
         },
         {
          "contraceptive_method_used": 1,
          "standard_of_living_index": 4,
          "wife_age": 37,
          "wife_education": 4,
          "wife_religion": 0
         },
         {
          "contraceptive_method_used": 3,
          "standard_of_living_index": 3,
          "wife_age": 27,
          "wife_education": 3,
          "wife_religion": 1
         },
         {
          "contraceptive_method_used": 1,
          "standard_of_living_index": 4,
          "wife_age": 22,
          "wife_education": 1,
          "wife_religion": 1
         },
         {
          "contraceptive_method_used": 3,
          "standard_of_living_index": 4,
          "wife_age": 35,
          "wife_education": 1,
          "wife_religion": 1
         },
         {
          "contraceptive_method_used": 3,
          "standard_of_living_index": 3,
          "wife_age": 48,
          "wife_education": 3,
          "wife_religion": 1
         },
         {
          "contraceptive_method_used": 1,
          "standard_of_living_index": 1,
          "wife_age": 27,
          "wife_education": 1,
          "wife_religion": 1
         },
         {
          "contraceptive_method_used": 1,
          "standard_of_living_index": 3,
          "wife_age": 27,
          "wife_education": 3,
          "wife_religion": 1
         },
         {
          "contraceptive_method_used": 3,
          "standard_of_living_index": 2,
          "wife_age": 27,
          "wife_education": 3,
          "wife_religion": 1
         },
         {
          "contraceptive_method_used": 1,
          "standard_of_living_index": 3,
          "wife_age": 43,
          "wife_education": 2,
          "wife_religion": 0
         },
         {
          "contraceptive_method_used": 3,
          "standard_of_living_index": 4,
          "wife_age": 30,
          "wife_education": 4,
          "wife_religion": 1
         },
         {
          "contraceptive_method_used": 3,
          "standard_of_living_index": 4,
          "wife_age": 29,
          "wife_education": 4,
          "wife_religion": 1
         },
         {
          "contraceptive_method_used": 3,
          "standard_of_living_index": 2,
          "wife_age": 30,
          "wife_education": 3,
          "wife_religion": 1
         },
         {
          "contraceptive_method_used": 2,
          "standard_of_living_index": 4,
          "wife_age": 42,
          "wife_education": 4,
          "wife_religion": 1
         },
         {
          "contraceptive_method_used": 1,
          "standard_of_living_index": 4,
          "wife_age": 25,
          "wife_education": 4,
          "wife_religion": 1
         },
         {
          "contraceptive_method_used": 1,
          "standard_of_living_index": 3,
          "wife_age": 23,
          "wife_education": 3,
          "wife_religion": 1
         },
         {
          "contraceptive_method_used": 2,
          "standard_of_living_index": 3,
          "wife_age": 22,
          "wife_education": 4,
          "wife_religion": 1
         },
         {
          "contraceptive_method_used": 3,
          "standard_of_living_index": 3,
          "wife_age": 33,
          "wife_education": 2,
          "wife_religion": 1
         },
         {
          "contraceptive_method_used": 2,
          "standard_of_living_index": 4,
          "wife_age": 27,
          "wife_education": 4,
          "wife_religion": 1
         },
         {
          "contraceptive_method_used": 2,
          "standard_of_living_index": 4,
          "wife_age": 39,
          "wife_education": 4,
          "wife_religion": 1
         },
         {
          "contraceptive_method_used": 1,
          "standard_of_living_index": 4,
          "wife_age": 30,
          "wife_education": 2,
          "wife_religion": 1
         },
         {
          "contraceptive_method_used": 1,
          "standard_of_living_index": 4,
          "wife_age": 42,
          "wife_education": 4,
          "wife_religion": 1
         },
         {
          "contraceptive_method_used": 2,
          "standard_of_living_index": 4,
          "wife_age": 17,
          "wife_education": 4,
          "wife_religion": 1
         },
         {
          "contraceptive_method_used": 1,
          "standard_of_living_index": 3,
          "wife_age": 24,
          "wife_education": 2,
          "wife_religion": 1
         },
         {
          "contraceptive_method_used": 3,
          "standard_of_living_index": 4,
          "wife_age": 41,
          "wife_education": 3,
          "wife_religion": 0
         },
         {
          "contraceptive_method_used": 1,
          "standard_of_living_index": 3,
          "wife_age": 45,
          "wife_education": 1,
          "wife_religion": 1
         },
         {
          "contraceptive_method_used": 1,
          "standard_of_living_index": 4,
          "wife_age": 38,
          "wife_education": 4,
          "wife_religion": 1
         },
         {
          "contraceptive_method_used": 2,
          "standard_of_living_index": 4,
          "wife_age": 42,
          "wife_education": 2,
          "wife_religion": 1
         },
         {
          "contraceptive_method_used": 2,
          "standard_of_living_index": 3,
          "wife_age": 23,
          "wife_education": 4,
          "wife_religion": 1
         },
         {
          "contraceptive_method_used": 3,
          "standard_of_living_index": 3,
          "wife_age": 21,
          "wife_education": 3,
          "wife_religion": 1
         },
         {
          "contraceptive_method_used": 3,
          "standard_of_living_index": 2,
          "wife_age": 25,
          "wife_education": 2,
          "wife_religion": 1
         },
         {
          "contraceptive_method_used": 3,
          "standard_of_living_index": 3,
          "wife_age": 25,
          "wife_education": 2,
          "wife_religion": 1
         },
         {
          "contraceptive_method_used": 1,
          "standard_of_living_index": 1,
          "wife_age": 44,
          "wife_education": 1,
          "wife_religion": 1
         },
         {
          "contraceptive_method_used": 3,
          "standard_of_living_index": 2,
          "wife_age": 23,
          "wife_education": 3,
          "wife_religion": 1
         },
         {
          "contraceptive_method_used": 3,
          "standard_of_living_index": 4,
          "wife_age": 44,
          "wife_education": 4,
          "wife_religion": 1
         },
         {
          "contraceptive_method_used": 1,
          "standard_of_living_index": 4,
          "wife_age": 25,
          "wife_education": 3,
          "wife_religion": 1
         },
         {
          "contraceptive_method_used": 3,
          "standard_of_living_index": 3,
          "wife_age": 30,
          "wife_education": 4,
          "wife_religion": 0
         },
         {
          "contraceptive_method_used": 1,
          "standard_of_living_index": 4,
          "wife_age": 35,
          "wife_education": 2,
          "wife_religion": 1
         },
         {
          "contraceptive_method_used": 3,
          "standard_of_living_index": 4,
          "wife_age": 36,
          "wife_education": 4,
          "wife_religion": 0
         },
         {
          "contraceptive_method_used": 1,
          "standard_of_living_index": 4,
          "wife_age": 46,
          "wife_education": 2,
          "wife_religion": 1
         },
         {
          "contraceptive_method_used": 1,
          "standard_of_living_index": 4,
          "wife_age": 47,
          "wife_education": 4,
          "wife_religion": 1
         },
         {
          "contraceptive_method_used": 1,
          "standard_of_living_index": 1,
          "wife_age": 25,
          "wife_education": 3,
          "wife_religion": 1
         },
         {
          "contraceptive_method_used": 1,
          "standard_of_living_index": 3,
          "wife_age": 21,
          "wife_education": 3,
          "wife_religion": 1
         },
         {
          "contraceptive_method_used": 3,
          "standard_of_living_index": 2,
          "wife_age": 26,
          "wife_education": 1,
          "wife_religion": 1
         },
         {
          "contraceptive_method_used": 1,
          "standard_of_living_index": 3,
          "wife_age": 28,
          "wife_education": 4,
          "wife_religion": 0
         },
         {
          "contraceptive_method_used": 1,
          "standard_of_living_index": 2,
          "wife_age": 21,
          "wife_education": 2,
          "wife_religion": 1
         },
         {
          "contraceptive_method_used": 3,
          "standard_of_living_index": 2,
          "wife_age": 20,
          "wife_education": 3,
          "wife_religion": 1
         },
         {
          "contraceptive_method_used": 3,
          "standard_of_living_index": 4,
          "wife_age": 35,
          "wife_education": 3,
          "wife_religion": 1
         },
         {
          "contraceptive_method_used": 1,
          "standard_of_living_index": 4,
          "wife_age": 43,
          "wife_education": 4,
          "wife_religion": 1
         },
         {
          "contraceptive_method_used": 3,
          "standard_of_living_index": 3,
          "wife_age": 27,
          "wife_education": 4,
          "wife_religion": 0
         },
         {
          "contraceptive_method_used": 1,
          "standard_of_living_index": 4,
          "wife_age": 35,
          "wife_education": 4,
          "wife_religion": 0
         },
         {
          "contraceptive_method_used": 3,
          "standard_of_living_index": 4,
          "wife_age": 31,
          "wife_education": 4,
          "wife_religion": 1
         },
         {
          "contraceptive_method_used": 1,
          "standard_of_living_index": 3,
          "wife_age": 44,
          "wife_education": 3,
          "wife_religion": 1
         },
         {
          "contraceptive_method_used": 2,
          "standard_of_living_index": 3,
          "wife_age": 28,
          "wife_education": 4,
          "wife_religion": 1
         },
         {
          "contraceptive_method_used": 1,
          "standard_of_living_index": 2,
          "wife_age": 37,
          "wife_education": 2,
          "wife_religion": 1
         },
         {
          "contraceptive_method_used": 3,
          "standard_of_living_index": 3,
          "wife_age": 39,
          "wife_education": 3,
          "wife_religion": 1
         },
         {
          "contraceptive_method_used": 2,
          "standard_of_living_index": 4,
          "wife_age": 44,
          "wife_education": 4,
          "wife_religion": 1
         },
         {
          "contraceptive_method_used": 3,
          "standard_of_living_index": 3,
          "wife_age": 43,
          "wife_education": 3,
          "wife_religion": 1
         },
         {
          "contraceptive_method_used": 3,
          "standard_of_living_index": 4,
          "wife_age": 33,
          "wife_education": 4,
          "wife_religion": 1
         },
         {
          "contraceptive_method_used": 2,
          "standard_of_living_index": 2,
          "wife_age": 34,
          "wife_education": 4,
          "wife_religion": 0
         },
         {
          "contraceptive_method_used": 1,
          "standard_of_living_index": 4,
          "wife_age": 22,
          "wife_education": 2,
          "wife_religion": 1
         },
         {
          "contraceptive_method_used": 1,
          "standard_of_living_index": 1,
          "wife_age": 47,
          "wife_education": 1,
          "wife_religion": 1
         },
         {
          "contraceptive_method_used": 2,
          "standard_of_living_index": 4,
          "wife_age": 34,
          "wife_education": 4,
          "wife_religion": 1
         },
         {
          "contraceptive_method_used": 1,
          "standard_of_living_index": 3,
          "wife_age": 21,
          "wife_education": 3,
          "wife_religion": 1
         },
         {
          "contraceptive_method_used": 1,
          "standard_of_living_index": 2,
          "wife_age": 49,
          "wife_education": 4,
          "wife_religion": 1
         },
         {
          "contraceptive_method_used": 1,
          "standard_of_living_index": 3,
          "wife_age": 29,
          "wife_education": 3,
          "wife_religion": 1
         },
         {
          "contraceptive_method_used": 1,
          "standard_of_living_index": 4,
          "wife_age": 22,
          "wife_education": 4,
          "wife_religion": 1
         },
         {
          "contraceptive_method_used": 2,
          "standard_of_living_index": 4,
          "wife_age": 37,
          "wife_education": 4,
          "wife_religion": 1
         },
         {
          "contraceptive_method_used": 2,
          "standard_of_living_index": 1,
          "wife_age": 21,
          "wife_education": 4,
          "wife_religion": 1
         },
         {
          "contraceptive_method_used": 2,
          "standard_of_living_index": 4,
          "wife_age": 43,
          "wife_education": 1,
          "wife_religion": 1
         },
         {
          "contraceptive_method_used": 1,
          "standard_of_living_index": 3,
          "wife_age": 27,
          "wife_education": 3,
          "wife_religion": 1
         },
         {
          "contraceptive_method_used": 3,
          "standard_of_living_index": 3,
          "wife_age": 21,
          "wife_education": 3,
          "wife_religion": 1
         },
         {
          "contraceptive_method_used": 2,
          "standard_of_living_index": 4,
          "wife_age": 23,
          "wife_education": 4,
          "wife_religion": 1
         },
         {
          "contraceptive_method_used": 3,
          "standard_of_living_index": 3,
          "wife_age": 32,
          "wife_education": 4,
          "wife_religion": 1
         },
         {
          "contraceptive_method_used": 1,
          "standard_of_living_index": 3,
          "wife_age": 45,
          "wife_education": 1,
          "wife_religion": 1
         },
         {
          "contraceptive_method_used": 1,
          "standard_of_living_index": 3,
          "wife_age": 42,
          "wife_education": 1,
          "wife_religion": 1
         },
         {
          "contraceptive_method_used": 3,
          "standard_of_living_index": 1,
          "wife_age": 24,
          "wife_education": 3,
          "wife_religion": 1
         },
         {
          "contraceptive_method_used": 3,
          "standard_of_living_index": 4,
          "wife_age": 34,
          "wife_education": 4,
          "wife_religion": 0
         },
         {
          "contraceptive_method_used": 1,
          "standard_of_living_index": 3,
          "wife_age": 45,
          "wife_education": 1,
          "wife_religion": 1
         },
         {
          "contraceptive_method_used": 3,
          "standard_of_living_index": 4,
          "wife_age": 26,
          "wife_education": 4,
          "wife_religion": 1
         },
         {
          "contraceptive_method_used": 1,
          "standard_of_living_index": 4,
          "wife_age": 16,
          "wife_education": 2,
          "wife_religion": 1
         },
         {
          "contraceptive_method_used": 1,
          "standard_of_living_index": 4,
          "wife_age": 38,
          "wife_education": 4,
          "wife_religion": 1
         },
         {
          "contraceptive_method_used": 3,
          "standard_of_living_index": 4,
          "wife_age": 28,
          "wife_education": 4,
          "wife_religion": 0
         },
         {
          "contraceptive_method_used": 2,
          "standard_of_living_index": 4,
          "wife_age": 45,
          "wife_education": 3,
          "wife_religion": 1
         },
         {
          "contraceptive_method_used": 1,
          "standard_of_living_index": 1,
          "wife_age": 33,
          "wife_education": 1,
          "wife_religion": 1
         },
         {
          "contraceptive_method_used": 1,
          "standard_of_living_index": 3,
          "wife_age": 41,
          "wife_education": 1,
          "wife_religion": 1
         },
         {
          "contraceptive_method_used": 3,
          "standard_of_living_index": 2,
          "wife_age": 21,
          "wife_education": 2,
          "wife_religion": 1
         },
         {
          "contraceptive_method_used": 3,
          "standard_of_living_index": 1,
          "wife_age": 21,
          "wife_education": 3,
          "wife_religion": 1
         },
         {
          "contraceptive_method_used": 1,
          "standard_of_living_index": 4,
          "wife_age": 22,
          "wife_education": 2,
          "wife_religion": 1
         },
         {
          "contraceptive_method_used": 1,
          "standard_of_living_index": 4,
          "wife_age": 45,
          "wife_education": 4,
          "wife_religion": 1
         },
         {
          "contraceptive_method_used": 3,
          "standard_of_living_index": 4,
          "wife_age": 31,
          "wife_education": 4,
          "wife_religion": 1
         },
         {
          "contraceptive_method_used": 3,
          "standard_of_living_index": 2,
          "wife_age": 33,
          "wife_education": 3,
          "wife_religion": 1
         },
         {
          "contraceptive_method_used": 1,
          "standard_of_living_index": 3,
          "wife_age": 46,
          "wife_education": 1,
          "wife_religion": 1
         },
         {
          "contraceptive_method_used": 1,
          "standard_of_living_index": 2,
          "wife_age": 48,
          "wife_education": 1,
          "wife_religion": 1
         },
         {
          "contraceptive_method_used": 1,
          "standard_of_living_index": 4,
          "wife_age": 48,
          "wife_education": 2,
          "wife_religion": 1
         },
         {
          "contraceptive_method_used": 3,
          "standard_of_living_index": 4,
          "wife_age": 34,
          "wife_education": 3,
          "wife_religion": 1
         },
         {
          "contraceptive_method_used": 3,
          "standard_of_living_index": 1,
          "wife_age": 21,
          "wife_education": 3,
          "wife_religion": 1
         },
         {
          "contraceptive_method_used": 3,
          "standard_of_living_index": 4,
          "wife_age": 44,
          "wife_education": 3,
          "wife_religion": 1
         },
         {
          "contraceptive_method_used": 2,
          "standard_of_living_index": 4,
          "wife_age": 33,
          "wife_education": 4,
          "wife_religion": 1
         },
         {
          "contraceptive_method_used": 3,
          "standard_of_living_index": 4,
          "wife_age": 21,
          "wife_education": 4,
          "wife_religion": 0
         },
         {
          "contraceptive_method_used": 3,
          "standard_of_living_index": 2,
          "wife_age": 22,
          "wife_education": 3,
          "wife_religion": 1
         },
         {
          "contraceptive_method_used": 1,
          "standard_of_living_index": 3,
          "wife_age": 45,
          "wife_education": 1,
          "wife_religion": 1
         },
         {
          "contraceptive_method_used": 3,
          "standard_of_living_index": 3,
          "wife_age": 24,
          "wife_education": 4,
          "wife_religion": 1
         },
         {
          "contraceptive_method_used": 3,
          "standard_of_living_index": 2,
          "wife_age": 27,
          "wife_education": 4,
          "wife_religion": 1
         },
         {
          "contraceptive_method_used": 1,
          "standard_of_living_index": 3,
          "wife_age": 43,
          "wife_education": 3,
          "wife_religion": 1
         },
         {
          "contraceptive_method_used": 2,
          "standard_of_living_index": 4,
          "wife_age": 37,
          "wife_education": 4,
          "wife_religion": 1
         },
         {
          "contraceptive_method_used": 1,
          "standard_of_living_index": 3,
          "wife_age": 48,
          "wife_education": 1,
          "wife_religion": 1
         },
         {
          "contraceptive_method_used": 1,
          "standard_of_living_index": 1,
          "wife_age": 32,
          "wife_education": 2,
          "wife_religion": 1
         },
         {
          "contraceptive_method_used": 2,
          "standard_of_living_index": 4,
          "wife_age": 36,
          "wife_education": 4,
          "wife_religion": 1
         },
         {
          "contraceptive_method_used": 2,
          "standard_of_living_index": 3,
          "wife_age": 44,
          "wife_education": 4,
          "wife_religion": 1
         },
         {
          "contraceptive_method_used": 1,
          "standard_of_living_index": 3,
          "wife_age": 45,
          "wife_education": 3,
          "wife_religion": 1
         },
         {
          "contraceptive_method_used": 2,
          "standard_of_living_index": 4,
          "wife_age": 36,
          "wife_education": 4,
          "wife_religion": 1
         },
         {
          "contraceptive_method_used": 2,
          "standard_of_living_index": 2,
          "wife_age": 24,
          "wife_education": 4,
          "wife_religion": 1
         },
         {
          "contraceptive_method_used": 2,
          "standard_of_living_index": 3,
          "wife_age": 42,
          "wife_education": 4,
          "wife_religion": 1
         },
         {
          "contraceptive_method_used": 1,
          "standard_of_living_index": 2,
          "wife_age": 35,
          "wife_education": 2,
          "wife_religion": 1
         },
         {
          "contraceptive_method_used": 1,
          "standard_of_living_index": 3,
          "wife_age": 32,
          "wife_education": 4,
          "wife_religion": 1
         },
         {
          "contraceptive_method_used": 1,
          "standard_of_living_index": 1,
          "wife_age": 34,
          "wife_education": 3,
          "wife_religion": 0
         },
         {
          "contraceptive_method_used": 1,
          "standard_of_living_index": 3,
          "wife_age": 24,
          "wife_education": 3,
          "wife_religion": 1
         },
         {
          "contraceptive_method_used": 2,
          "standard_of_living_index": 3,
          "wife_age": 40,
          "wife_education": 4,
          "wife_religion": 1
         },
         {
          "contraceptive_method_used": 3,
          "standard_of_living_index": 4,
          "wife_age": 30,
          "wife_education": 4,
          "wife_religion": 1
         },
         {
          "contraceptive_method_used": 3,
          "standard_of_living_index": 1,
          "wife_age": 30,
          "wife_education": 2,
          "wife_religion": 1
         },
         {
          "contraceptive_method_used": 3,
          "standard_of_living_index": 3,
          "wife_age": 33,
          "wife_education": 4,
          "wife_religion": 1
         },
         {
          "contraceptive_method_used": 1,
          "standard_of_living_index": 4,
          "wife_age": 30,
          "wife_education": 2,
          "wife_religion": 1
         },
         {
          "contraceptive_method_used": 3,
          "standard_of_living_index": 1,
          "wife_age": 21,
          "wife_education": 2,
          "wife_religion": 1
         },
         {
          "contraceptive_method_used": 1,
          "standard_of_living_index": 2,
          "wife_age": 25,
          "wife_education": 4,
          "wife_religion": 1
         },
         {
          "contraceptive_method_used": 3,
          "standard_of_living_index": 1,
          "wife_age": 31,
          "wife_education": 3,
          "wife_religion": 1
         },
         {
          "contraceptive_method_used": 3,
          "standard_of_living_index": 4,
          "wife_age": 36,
          "wife_education": 4,
          "wife_religion": 0
         },
         {
          "contraceptive_method_used": 3,
          "standard_of_living_index": 2,
          "wife_age": 22,
          "wife_education": 1,
          "wife_religion": 1
         },
         {
          "contraceptive_method_used": 1,
          "standard_of_living_index": 4,
          "wife_age": 25,
          "wife_education": 3,
          "wife_religion": 1
         },
         {
          "contraceptive_method_used": 3,
          "standard_of_living_index": 2,
          "wife_age": 24,
          "wife_education": 1,
          "wife_religion": 1
         },
         {
          "contraceptive_method_used": 1,
          "standard_of_living_index": 3,
          "wife_age": 24,
          "wife_education": 4,
          "wife_religion": 1
         },
         {
          "contraceptive_method_used": 1,
          "standard_of_living_index": 3,
          "wife_age": 23,
          "wife_education": 2,
          "wife_religion": 1
         },
         {
          "contraceptive_method_used": 3,
          "standard_of_living_index": 3,
          "wife_age": 37,
          "wife_education": 2,
          "wife_religion": 1
         },
         {
          "contraceptive_method_used": 1,
          "standard_of_living_index": 1,
          "wife_age": 22,
          "wife_education": 2,
          "wife_religion": 1
         },
         {
          "contraceptive_method_used": 1,
          "standard_of_living_index": 4,
          "wife_age": 20,
          "wife_education": 2,
          "wife_religion": 1
         },
         {
          "contraceptive_method_used": 2,
          "standard_of_living_index": 4,
          "wife_age": 41,
          "wife_education": 4,
          "wife_religion": 1
         },
         {
          "contraceptive_method_used": 3,
          "standard_of_living_index": 3,
          "wife_age": 24,
          "wife_education": 4,
          "wife_religion": 1
         },
         {
          "contraceptive_method_used": 2,
          "standard_of_living_index": 4,
          "wife_age": 34,
          "wife_education": 1,
          "wife_religion": 1
         },
         {
          "contraceptive_method_used": 3,
          "standard_of_living_index": 3,
          "wife_age": 23,
          "wife_education": 2,
          "wife_religion": 1
         },
         {
          "contraceptive_method_used": 2,
          "standard_of_living_index": 3,
          "wife_age": 30,
          "wife_education": 3,
          "wife_religion": 1
         },
         {
          "contraceptive_method_used": 3,
          "standard_of_living_index": 3,
          "wife_age": 19,
          "wife_education": 4,
          "wife_religion": 1
         },
         {
          "contraceptive_method_used": 3,
          "standard_of_living_index": 3,
          "wife_age": 44,
          "wife_education": 4,
          "wife_religion": 0
         },
         {
          "contraceptive_method_used": 2,
          "standard_of_living_index": 3,
          "wife_age": 34,
          "wife_education": 3,
          "wife_religion": 1
         },
         {
          "contraceptive_method_used": 2,
          "standard_of_living_index": 4,
          "wife_age": 26,
          "wife_education": 2,
          "wife_religion": 1
         },
         {
          "contraceptive_method_used": 3,
          "standard_of_living_index": 3,
          "wife_age": 25,
          "wife_education": 4,
          "wife_religion": 1
         },
         {
          "contraceptive_method_used": 3,
          "standard_of_living_index": 3,
          "wife_age": 28,
          "wife_education": 4,
          "wife_religion": 1
         },
         {
          "contraceptive_method_used": 3,
          "standard_of_living_index": 4,
          "wife_age": 37,
          "wife_education": 4,
          "wife_religion": 0
         },
         {
          "contraceptive_method_used": 3,
          "standard_of_living_index": 2,
          "wife_age": 26,
          "wife_education": 3,
          "wife_religion": 1
         },
         {
          "contraceptive_method_used": 3,
          "standard_of_living_index": 2,
          "wife_age": 38,
          "wife_education": 3,
          "wife_religion": 1
         },
         {
          "contraceptive_method_used": 1,
          "standard_of_living_index": 4,
          "wife_age": 22,
          "wife_education": 4,
          "wife_religion": 1
         },
         {
          "contraceptive_method_used": 3,
          "standard_of_living_index": 4,
          "wife_age": 25,
          "wife_education": 3,
          "wife_religion": 1
         },
         {
          "contraceptive_method_used": 1,
          "standard_of_living_index": 2,
          "wife_age": 31,
          "wife_education": 2,
          "wife_religion": 1
         },
         {
          "contraceptive_method_used": 2,
          "standard_of_living_index": 4,
          "wife_age": 33,
          "wife_education": 3,
          "wife_religion": 1
         },
         {
          "contraceptive_method_used": 2,
          "standard_of_living_index": 2,
          "wife_age": 35,
          "wife_education": 2,
          "wife_religion": 0
         },
         {
          "contraceptive_method_used": 1,
          "standard_of_living_index": 4,
          "wife_age": 36,
          "wife_education": 2,
          "wife_religion": 1
         },
         {
          "contraceptive_method_used": 3,
          "standard_of_living_index": 2,
          "wife_age": 25,
          "wife_education": 3,
          "wife_religion": 1
         },
         {
          "contraceptive_method_used": 3,
          "standard_of_living_index": 2,
          "wife_age": 20,
          "wife_education": 2,
          "wife_religion": 1
         },
         {
          "contraceptive_method_used": 1,
          "standard_of_living_index": 4,
          "wife_age": 48,
          "wife_education": 1,
          "wife_religion": 1
         },
         {
          "contraceptive_method_used": 2,
          "standard_of_living_index": 2,
          "wife_age": 22,
          "wife_education": 4,
          "wife_religion": 1
         },
         {
          "contraceptive_method_used": 3,
          "standard_of_living_index": 4,
          "wife_age": 24,
          "wife_education": 3,
          "wife_religion": 1
         },
         {
          "contraceptive_method_used": 1,
          "standard_of_living_index": 4,
          "wife_age": 20,
          "wife_education": 4,
          "wife_religion": 0
         },
         {
          "contraceptive_method_used": 3,
          "standard_of_living_index": 3,
          "wife_age": 29,
          "wife_education": 3,
          "wife_religion": 1
         },
         {
          "contraceptive_method_used": 3,
          "standard_of_living_index": 4,
          "wife_age": 48,
          "wife_education": 3,
          "wife_religion": 1
         },
         {
          "contraceptive_method_used": 1,
          "standard_of_living_index": 4,
          "wife_age": 22,
          "wife_education": 3,
          "wife_religion": 1
         },
         {
          "contraceptive_method_used": 1,
          "standard_of_living_index": 4,
          "wife_age": 37,
          "wife_education": 4,
          "wife_religion": 1
         },
         {
          "contraceptive_method_used": 1,
          "standard_of_living_index": 1,
          "wife_age": 21,
          "wife_education": 3,
          "wife_religion": 1
         },
         {
          "contraceptive_method_used": 3,
          "standard_of_living_index": 4,
          "wife_age": 35,
          "wife_education": 4,
          "wife_religion": 1
         },
         {
          "contraceptive_method_used": 1,
          "standard_of_living_index": 4,
          "wife_age": 41,
          "wife_education": 1,
          "wife_religion": 1
         },
         {
          "contraceptive_method_used": 1,
          "standard_of_living_index": 3,
          "wife_age": 42,
          "wife_education": 3,
          "wife_religion": 1
         },
         {
          "contraceptive_method_used": 1,
          "standard_of_living_index": 1,
          "wife_age": 48,
          "wife_education": 1,
          "wife_religion": 1
         },
         {
          "contraceptive_method_used": 3,
          "standard_of_living_index": 4,
          "wife_age": 33,
          "wife_education": 4,
          "wife_religion": 0
         },
         {
          "contraceptive_method_used": 1,
          "standard_of_living_index": 4,
          "wife_age": 45,
          "wife_education": 3,
          "wife_religion": 0
         },
         {
          "contraceptive_method_used": 2,
          "standard_of_living_index": 3,
          "wife_age": 38,
          "wife_education": 4,
          "wife_religion": 1
         },
         {
          "contraceptive_method_used": 1,
          "standard_of_living_index": 3,
          "wife_age": 48,
          "wife_education": 1,
          "wife_religion": 1
         },
         {
          "contraceptive_method_used": 3,
          "standard_of_living_index": 2,
          "wife_age": 30,
          "wife_education": 3,
          "wife_religion": 1
         },
         {
          "contraceptive_method_used": 1,
          "standard_of_living_index": 4,
          "wife_age": 41,
          "wife_education": 3,
          "wife_religion": 1
         },
         {
          "contraceptive_method_used": 1,
          "standard_of_living_index": 2,
          "wife_age": 42,
          "wife_education": 3,
          "wife_religion": 1
         },
         {
          "contraceptive_method_used": 1,
          "standard_of_living_index": 4,
          "wife_age": 24,
          "wife_education": 2,
          "wife_religion": 1
         },
         {
          "contraceptive_method_used": 1,
          "standard_of_living_index": 3,
          "wife_age": 27,
          "wife_education": 2,
          "wife_religion": 1
         },
         {
          "contraceptive_method_used": 3,
          "standard_of_living_index": 4,
          "wife_age": 33,
          "wife_education": 3,
          "wife_religion": 1
         },
         {
          "contraceptive_method_used": 3,
          "standard_of_living_index": 4,
          "wife_age": 37,
          "wife_education": 3,
          "wife_religion": 0
         },
         {
          "contraceptive_method_used": 2,
          "standard_of_living_index": 3,
          "wife_age": 45,
          "wife_education": 3,
          "wife_religion": 0
         },
         {
          "contraceptive_method_used": 3,
          "standard_of_living_index": 4,
          "wife_age": 26,
          "wife_education": 4,
          "wife_religion": 1
         },
         {
          "contraceptive_method_used": 1,
          "standard_of_living_index": 3,
          "wife_age": 28,
          "wife_education": 3,
          "wife_religion": 1
         },
         {
          "contraceptive_method_used": 1,
          "standard_of_living_index": 4,
          "wife_age": 41,
          "wife_education": 3,
          "wife_religion": 0
         },
         {
          "contraceptive_method_used": 2,
          "standard_of_living_index": 4,
          "wife_age": 33,
          "wife_education": 4,
          "wife_religion": 1
         },
         {
          "contraceptive_method_used": 3,
          "standard_of_living_index": 3,
          "wife_age": 31,
          "wife_education": 1,
          "wife_religion": 1
         },
         {
          "contraceptive_method_used": 1,
          "standard_of_living_index": 2,
          "wife_age": 44,
          "wife_education": 1,
          "wife_religion": 1
         },
         {
          "contraceptive_method_used": 1,
          "standard_of_living_index": 4,
          "wife_age": 37,
          "wife_education": 4,
          "wife_religion": 1
         },
         {
          "contraceptive_method_used": 1,
          "standard_of_living_index": 2,
          "wife_age": 22,
          "wife_education": 2,
          "wife_religion": 1
         },
         {
          "contraceptive_method_used": 3,
          "standard_of_living_index": 4,
          "wife_age": 29,
          "wife_education": 1,
          "wife_religion": 1
         },
         {
          "contraceptive_method_used": 2,
          "standard_of_living_index": 4,
          "wife_age": 26,
          "wife_education": 2,
          "wife_religion": 1
         },
         {
          "contraceptive_method_used": 2,
          "standard_of_living_index": 3,
          "wife_age": 45,
          "wife_education": 3,
          "wife_religion": 1
         },
         {
          "contraceptive_method_used": 1,
          "standard_of_living_index": 2,
          "wife_age": 46,
          "wife_education": 3,
          "wife_religion": 1
         },
         {
          "contraceptive_method_used": 1,
          "standard_of_living_index": 3,
          "wife_age": 18,
          "wife_education": 2,
          "wife_religion": 1
         },
         {
          "contraceptive_method_used": 1,
          "standard_of_living_index": 4,
          "wife_age": 49,
          "wife_education": 4,
          "wife_religion": 1
         },
         {
          "contraceptive_method_used": 2,
          "standard_of_living_index": 4,
          "wife_age": 35,
          "wife_education": 4,
          "wife_religion": 1
         },
         {
          "contraceptive_method_used": 1,
          "standard_of_living_index": 3,
          "wife_age": 36,
          "wife_education": 2,
          "wife_religion": 1
         },
         {
          "contraceptive_method_used": 3,
          "standard_of_living_index": 2,
          "wife_age": 22,
          "wife_education": 2,
          "wife_religion": 1
         },
         {
          "contraceptive_method_used": 2,
          "standard_of_living_index": 4,
          "wife_age": 44,
          "wife_education": 2,
          "wife_religion": 0
         },
         {
          "contraceptive_method_used": 2,
          "standard_of_living_index": 2,
          "wife_age": 38,
          "wife_education": 2,
          "wife_religion": 1
         },
         {
          "contraceptive_method_used": 2,
          "standard_of_living_index": 4,
          "wife_age": 31,
          "wife_education": 4,
          "wife_religion": 0
         },
         {
          "contraceptive_method_used": 1,
          "standard_of_living_index": 1,
          "wife_age": 23,
          "wife_education": 3,
          "wife_religion": 1
         },
         {
          "contraceptive_method_used": 2,
          "standard_of_living_index": 4,
          "wife_age": 38,
          "wife_education": 4,
          "wife_religion": 1
         },
         {
          "contraceptive_method_used": 2,
          "standard_of_living_index": 4,
          "wife_age": 25,
          "wife_education": 2,
          "wife_religion": 1
         },
         {
          "contraceptive_method_used": 3,
          "standard_of_living_index": 4,
          "wife_age": 37,
          "wife_education": 4,
          "wife_religion": 1
         },
         {
          "contraceptive_method_used": 1,
          "standard_of_living_index": 3,
          "wife_age": 43,
          "wife_education": 4,
          "wife_religion": 1
         },
         {
          "contraceptive_method_used": 3,
          "standard_of_living_index": 3,
          "wife_age": 24,
          "wife_education": 4,
          "wife_religion": 1
         },
         {
          "contraceptive_method_used": 1,
          "standard_of_living_index": 3,
          "wife_age": 49,
          "wife_education": 1,
          "wife_religion": 1
         },
         {
          "contraceptive_method_used": 1,
          "standard_of_living_index": 2,
          "wife_age": 21,
          "wife_education": 2,
          "wife_religion": 1
         },
         {
          "contraceptive_method_used": 3,
          "standard_of_living_index": 3,
          "wife_age": 25,
          "wife_education": 3,
          "wife_religion": 1
         },
         {
          "contraceptive_method_used": 3,
          "standard_of_living_index": 3,
          "wife_age": 34,
          "wife_education": 2,
          "wife_religion": 1
         },
         {
          "contraceptive_method_used": 3,
          "standard_of_living_index": 3,
          "wife_age": 35,
          "wife_education": 2,
          "wife_religion": 1
         },
         {
          "contraceptive_method_used": 3,
          "standard_of_living_index": 3,
          "wife_age": 31,
          "wife_education": 2,
          "wife_religion": 1
         },
         {
          "contraceptive_method_used": 2,
          "standard_of_living_index": 4,
          "wife_age": 47,
          "wife_education": 4,
          "wife_religion": 0
         },
         {
          "contraceptive_method_used": 2,
          "standard_of_living_index": 3,
          "wife_age": 32,
          "wife_education": 3,
          "wife_religion": 0
         },
         {
          "contraceptive_method_used": 3,
          "standard_of_living_index": 4,
          "wife_age": 38,
          "wife_education": 2,
          "wife_religion": 1
         },
         {
          "contraceptive_method_used": 2,
          "standard_of_living_index": 2,
          "wife_age": 22,
          "wife_education": 4,
          "wife_religion": 1
         },
         {
          "contraceptive_method_used": 1,
          "standard_of_living_index": 3,
          "wife_age": 34,
          "wife_education": 3,
          "wife_religion": 1
         },
         {
          "contraceptive_method_used": 3,
          "standard_of_living_index": 4,
          "wife_age": 25,
          "wife_education": 2,
          "wife_religion": 1
         },
         {
          "contraceptive_method_used": 1,
          "standard_of_living_index": 3,
          "wife_age": 47,
          "wife_education": 1,
          "wife_religion": 1
         },
         {
          "contraceptive_method_used": 1,
          "standard_of_living_index": 4,
          "wife_age": 20,
          "wife_education": 2,
          "wife_religion": 1
         },
         {
          "contraceptive_method_used": 3,
          "standard_of_living_index": 2,
          "wife_age": 32,
          "wife_education": 2,
          "wife_religion": 1
         },
         {
          "contraceptive_method_used": 1,
          "standard_of_living_index": 2,
          "wife_age": 20,
          "wife_education": 3,
          "wife_religion": 1
         },
         {
          "contraceptive_method_used": 2,
          "standard_of_living_index": 4,
          "wife_age": 30,
          "wife_education": 4,
          "wife_religion": 0
         },
         {
          "contraceptive_method_used": 3,
          "standard_of_living_index": 3,
          "wife_age": 36,
          "wife_education": 4,
          "wife_religion": 1
         },
         {
          "contraceptive_method_used": 2,
          "standard_of_living_index": 2,
          "wife_age": 29,
          "wife_education": 4,
          "wife_religion": 1
         },
         {
          "contraceptive_method_used": 1,
          "standard_of_living_index": 3,
          "wife_age": 37,
          "wife_education": 2,
          "wife_religion": 0
         },
         {
          "contraceptive_method_used": 3,
          "standard_of_living_index": 3,
          "wife_age": 26,
          "wife_education": 4,
          "wife_religion": 1
         },
         {
          "contraceptive_method_used": 1,
          "standard_of_living_index": 4,
          "wife_age": 39,
          "wife_education": 3,
          "wife_religion": 0
         },
         {
          "contraceptive_method_used": 1,
          "standard_of_living_index": 1,
          "wife_age": 25,
          "wife_education": 3,
          "wife_religion": 1
         },
         {
          "contraceptive_method_used": 2,
          "standard_of_living_index": 3,
          "wife_age": 24,
          "wife_education": 2,
          "wife_religion": 1
         },
         {
          "contraceptive_method_used": 3,
          "standard_of_living_index": 4,
          "wife_age": 28,
          "wife_education": 4,
          "wife_religion": 0
         },
         {
          "contraceptive_method_used": 3,
          "standard_of_living_index": 2,
          "wife_age": 23,
          "wife_education": 4,
          "wife_religion": 1
         },
         {
          "contraceptive_method_used": 1,
          "standard_of_living_index": 3,
          "wife_age": 40,
          "wife_education": 2,
          "wife_religion": 1
         },
         {
          "contraceptive_method_used": 1,
          "standard_of_living_index": 4,
          "wife_age": 46,
          "wife_education": 4,
          "wife_religion": 0
         },
         {
          "contraceptive_method_used": 3,
          "standard_of_living_index": 4,
          "wife_age": 43,
          "wife_education": 4,
          "wife_religion": 1
         },
         {
          "contraceptive_method_used": 1,
          "standard_of_living_index": 3,
          "wife_age": 24,
          "wife_education": 2,
          "wife_religion": 1
         },
         {
          "contraceptive_method_used": 1,
          "standard_of_living_index": 4,
          "wife_age": 47,
          "wife_education": 2,
          "wife_religion": 0
         },
         {
          "contraceptive_method_used": 3,
          "standard_of_living_index": 3,
          "wife_age": 26,
          "wife_education": 3,
          "wife_religion": 1
         },
         {
          "contraceptive_method_used": 1,
          "standard_of_living_index": 4,
          "wife_age": 39,
          "wife_education": 2,
          "wife_religion": 1
         },
         {
          "contraceptive_method_used": 1,
          "standard_of_living_index": 4,
          "wife_age": 20,
          "wife_education": 2,
          "wife_religion": 1
         },
         {
          "contraceptive_method_used": 3,
          "standard_of_living_index": 4,
          "wife_age": 49,
          "wife_education": 4,
          "wife_religion": 1
         },
         {
          "contraceptive_method_used": 1,
          "standard_of_living_index": 4,
          "wife_age": 38,
          "wife_education": 3,
          "wife_religion": 1
         },
         {
          "contraceptive_method_used": 1,
          "standard_of_living_index": 1,
          "wife_age": 22,
          "wife_education": 2,
          "wife_religion": 1
         },
         {
          "contraceptive_method_used": 1,
          "standard_of_living_index": 3,
          "wife_age": 23,
          "wife_education": 2,
          "wife_religion": 1
         },
         {
          "contraceptive_method_used": 1,
          "standard_of_living_index": 3,
          "wife_age": 48,
          "wife_education": 2,
          "wife_religion": 1
         },
         {
          "contraceptive_method_used": 1,
          "standard_of_living_index": 4,
          "wife_age": 32,
          "wife_education": 4,
          "wife_religion": 1
         },
         {
          "contraceptive_method_used": 1,
          "standard_of_living_index": 4,
          "wife_age": 48,
          "wife_education": 4,
          "wife_religion": 0
         },
         {
          "contraceptive_method_used": 2,
          "standard_of_living_index": 4,
          "wife_age": 47,
          "wife_education": 4,
          "wife_religion": 1
         },
         {
          "contraceptive_method_used": 2,
          "standard_of_living_index": 4,
          "wife_age": 43,
          "wife_education": 3,
          "wife_religion": 1
         },
         {
          "contraceptive_method_used": 3,
          "standard_of_living_index": 3,
          "wife_age": 40,
          "wife_education": 3,
          "wife_religion": 1
         },
         {
          "contraceptive_method_used": 2,
          "standard_of_living_index": 4,
          "wife_age": 34,
          "wife_education": 4,
          "wife_religion": 1
         },
         {
          "contraceptive_method_used": 2,
          "standard_of_living_index": 4,
          "wife_age": 41,
          "wife_education": 3,
          "wife_religion": 0
         },
         {
          "contraceptive_method_used": 3,
          "standard_of_living_index": 4,
          "wife_age": 28,
          "wife_education": 2,
          "wife_religion": 1
         },
         {
          "contraceptive_method_used": 1,
          "standard_of_living_index": 4,
          "wife_age": 43,
          "wife_education": 4,
          "wife_religion": 0
         },
         {
          "contraceptive_method_used": 2,
          "standard_of_living_index": 1,
          "wife_age": 44,
          "wife_education": 3,
          "wife_religion": 1
         },
         {
          "contraceptive_method_used": 1,
          "standard_of_living_index": 2,
          "wife_age": 38,
          "wife_education": 1,
          "wife_religion": 1
         },
         {
          "contraceptive_method_used": 1,
          "standard_of_living_index": 1,
          "wife_age": 23,
          "wife_education": 1,
          "wife_religion": 1
         },
         {
          "contraceptive_method_used": 2,
          "standard_of_living_index": 1,
          "wife_age": 30,
          "wife_education": 2,
          "wife_religion": 1
         },
         {
          "contraceptive_method_used": 2,
          "standard_of_living_index": 4,
          "wife_age": 39,
          "wife_education": 4,
          "wife_religion": 0
         },
         {
          "contraceptive_method_used": 3,
          "standard_of_living_index": 4,
          "wife_age": 26,
          "wife_education": 3,
          "wife_religion": 1
         },
         {
          "contraceptive_method_used": 1,
          "standard_of_living_index": 2,
          "wife_age": 36,
          "wife_education": 2,
          "wife_religion": 1
         },
         {
          "contraceptive_method_used": 1,
          "standard_of_living_index": 2,
          "wife_age": 38,
          "wife_education": 2,
          "wife_religion": 1
         },
         {
          "contraceptive_method_used": 3,
          "standard_of_living_index": 2,
          "wife_age": 36,
          "wife_education": 1,
          "wife_religion": 1
         },
         {
          "contraceptive_method_used": 2,
          "standard_of_living_index": 4,
          "wife_age": 48,
          "wife_education": 4,
          "wife_religion": 0
         },
         {
          "contraceptive_method_used": 1,
          "standard_of_living_index": 4,
          "wife_age": 24,
          "wife_education": 4,
          "wife_religion": 0
         },
         {
          "contraceptive_method_used": 3,
          "standard_of_living_index": 3,
          "wife_age": 25,
          "wife_education": 1,
          "wife_religion": 1
         },
         {
          "contraceptive_method_used": 1,
          "standard_of_living_index": 1,
          "wife_age": 36,
          "wife_education": 2,
          "wife_religion": 1
         },
         {
          "contraceptive_method_used": 1,
          "standard_of_living_index": 1,
          "wife_age": 49,
          "wife_education": 1,
          "wife_religion": 1
         },
         {
          "contraceptive_method_used": 1,
          "standard_of_living_index": 4,
          "wife_age": 29,
          "wife_education": 3,
          "wife_religion": 1
         },
         {
          "contraceptive_method_used": 1,
          "standard_of_living_index": 2,
          "wife_age": 29,
          "wife_education": 3,
          "wife_religion": 1
         },
         {
          "contraceptive_method_used": 2,
          "standard_of_living_index": 4,
          "wife_age": 33,
          "wife_education": 3,
          "wife_religion": 1
         },
         {
          "contraceptive_method_used": 1,
          "standard_of_living_index": 1,
          "wife_age": 28,
          "wife_education": 2,
          "wife_religion": 1
         },
         {
          "contraceptive_method_used": 1,
          "standard_of_living_index": 1,
          "wife_age": 44,
          "wife_education": 1,
          "wife_religion": 1
         },
         {
          "contraceptive_method_used": 2,
          "standard_of_living_index": 2,
          "wife_age": 44,
          "wife_education": 4,
          "wife_religion": 1
         },
         {
          "contraceptive_method_used": 1,
          "standard_of_living_index": 2,
          "wife_age": 25,
          "wife_education": 2,
          "wife_religion": 1
         },
         {
          "contraceptive_method_used": 1,
          "standard_of_living_index": 1,
          "wife_age": 43,
          "wife_education": 1,
          "wife_religion": 1
         },
         {
          "contraceptive_method_used": 2,
          "standard_of_living_index": 3,
          "wife_age": 47,
          "wife_education": 3,
          "wife_religion": 1
         },
         {
          "contraceptive_method_used": 1,
          "standard_of_living_index": 4,
          "wife_age": 24,
          "wife_education": 4,
          "wife_religion": 1
         },
         {
          "contraceptive_method_used": 3,
          "standard_of_living_index": 2,
          "wife_age": 17,
          "wife_education": 2,
          "wife_religion": 1
         },
         {
          "contraceptive_method_used": 1,
          "standard_of_living_index": 3,
          "wife_age": 26,
          "wife_education": 3,
          "wife_religion": 1
         },
         {
          "contraceptive_method_used": 2,
          "standard_of_living_index": 4,
          "wife_age": 41,
          "wife_education": 4,
          "wife_religion": 0
         },
         {
          "contraceptive_method_used": 1,
          "standard_of_living_index": 2,
          "wife_age": 49,
          "wife_education": 2,
          "wife_religion": 1
         },
         {
          "contraceptive_method_used": 2,
          "standard_of_living_index": 2,
          "wife_age": 29,
          "wife_education": 4,
          "wife_religion": 1
         },
         {
          "contraceptive_method_used": 2,
          "standard_of_living_index": 4,
          "wife_age": 30,
          "wife_education": 4,
          "wife_religion": 0
         },
         {
          "contraceptive_method_used": 2,
          "standard_of_living_index": 4,
          "wife_age": 46,
          "wife_education": 4,
          "wife_religion": 1
         },
         {
          "contraceptive_method_used": 3,
          "standard_of_living_index": 3,
          "wife_age": 26,
          "wife_education": 3,
          "wife_religion": 1
         },
         {
          "contraceptive_method_used": 3,
          "standard_of_living_index": 4,
          "wife_age": 32,
          "wife_education": 4,
          "wife_religion": 1
         },
         {
          "contraceptive_method_used": 2,
          "standard_of_living_index": 4,
          "wife_age": 47,
          "wife_education": 4,
          "wife_religion": 1
         },
         {
          "contraceptive_method_used": 2,
          "standard_of_living_index": 3,
          "wife_age": 35,
          "wife_education": 4,
          "wife_religion": 1
         },
         {
          "contraceptive_method_used": 1,
          "standard_of_living_index": 4,
          "wife_age": 43,
          "wife_education": 1,
          "wife_religion": 1
         },
         {
          "contraceptive_method_used": 1,
          "standard_of_living_index": 4,
          "wife_age": 29,
          "wife_education": 2,
          "wife_religion": 1
         },
         {
          "contraceptive_method_used": 3,
          "standard_of_living_index": 2,
          "wife_age": 29,
          "wife_education": 1,
          "wife_religion": 1
         },
         {
          "contraceptive_method_used": 3,
          "standard_of_living_index": 4,
          "wife_age": 21,
          "wife_education": 2,
          "wife_religion": 0
         },
         {
          "contraceptive_method_used": 3,
          "standard_of_living_index": 1,
          "wife_age": 24,
          "wife_education": 2,
          "wife_religion": 1
         },
         {
          "contraceptive_method_used": 1,
          "standard_of_living_index": 2,
          "wife_age": 40,
          "wife_education": 2,
          "wife_religion": 1
         },
         {
          "contraceptive_method_used": 1,
          "standard_of_living_index": 4,
          "wife_age": 44,
          "wife_education": 4,
          "wife_religion": 1
         },
         {
          "contraceptive_method_used": 3,
          "standard_of_living_index": 4,
          "wife_age": 27,
          "wife_education": 2,
          "wife_religion": 1
         },
         {
          "contraceptive_method_used": 1,
          "standard_of_living_index": 4,
          "wife_age": 35,
          "wife_education": 1,
          "wife_religion": 1
         },
         {
          "contraceptive_method_used": 3,
          "standard_of_living_index": 4,
          "wife_age": 32,
          "wife_education": 4,
          "wife_religion": 1
         },
         {
          "contraceptive_method_used": 1,
          "standard_of_living_index": 3,
          "wife_age": 48,
          "wife_education": 1,
          "wife_religion": 1
         },
         {
          "contraceptive_method_used": 3,
          "standard_of_living_index": 3,
          "wife_age": 23,
          "wife_education": 4,
          "wife_religion": 1
         },
         {
          "contraceptive_method_used": 3,
          "standard_of_living_index": 4,
          "wife_age": 48,
          "wife_education": 4,
          "wife_religion": 1
         },
         {
          "contraceptive_method_used": 2,
          "standard_of_living_index": 4,
          "wife_age": 35,
          "wife_education": 4,
          "wife_religion": 0
         },
         {
          "contraceptive_method_used": 3,
          "standard_of_living_index": 3,
          "wife_age": 29,
          "wife_education": 2,
          "wife_religion": 1
         },
         {
          "contraceptive_method_used": 1,
          "standard_of_living_index": 2,
          "wife_age": 19,
          "wife_education": 2,
          "wife_religion": 1
         },
         {
          "contraceptive_method_used": 2,
          "standard_of_living_index": 4,
          "wife_age": 39,
          "wife_education": 4,
          "wife_religion": 1
         },
         {
          "contraceptive_method_used": 3,
          "standard_of_living_index": 3,
          "wife_age": 29,
          "wife_education": 1,
          "wife_religion": 1
         },
         {
          "contraceptive_method_used": 1,
          "standard_of_living_index": 4,
          "wife_age": 30,
          "wife_education": 4,
          "wife_religion": 1
         },
         {
          "contraceptive_method_used": 3,
          "standard_of_living_index": 3,
          "wife_age": 30,
          "wife_education": 3,
          "wife_religion": 0
         },
         {
          "contraceptive_method_used": 1,
          "standard_of_living_index": 3,
          "wife_age": 31,
          "wife_education": 3,
          "wife_religion": 1
         },
         {
          "contraceptive_method_used": 3,
          "standard_of_living_index": 3,
          "wife_age": 24,
          "wife_education": 4,
          "wife_religion": 1
         },
         {
          "contraceptive_method_used": 3,
          "standard_of_living_index": 3,
          "wife_age": 30,
          "wife_education": 3,
          "wife_religion": 1
         },
         {
          "contraceptive_method_used": 3,
          "standard_of_living_index": 4,
          "wife_age": 37,
          "wife_education": 4,
          "wife_religion": 0
         },
         {
          "contraceptive_method_used": 1,
          "standard_of_living_index": 3,
          "wife_age": 47,
          "wife_education": 1,
          "wife_religion": 1
         },
         {
          "contraceptive_method_used": 2,
          "standard_of_living_index": 2,
          "wife_age": 23,
          "wife_education": 4,
          "wife_religion": 1
         },
         {
          "contraceptive_method_used": 1,
          "standard_of_living_index": 2,
          "wife_age": 22,
          "wife_education": 2,
          "wife_religion": 1
         },
         {
          "contraceptive_method_used": 1,
          "standard_of_living_index": 1,
          "wife_age": 38,
          "wife_education": 1,
          "wife_religion": 1
         },
         {
          "contraceptive_method_used": 3,
          "standard_of_living_index": 4,
          "wife_age": 25,
          "wife_education": 4,
          "wife_religion": 0
         },
         {
          "contraceptive_method_used": 2,
          "standard_of_living_index": 4,
          "wife_age": 45,
          "wife_education": 4,
          "wife_religion": 1
         },
         {
          "contraceptive_method_used": 2,
          "standard_of_living_index": 3,
          "wife_age": 29,
          "wife_education": 3,
          "wife_religion": 1
         },
         {
          "contraceptive_method_used": 3,
          "standard_of_living_index": 4,
          "wife_age": 24,
          "wife_education": 3,
          "wife_religion": 1
         },
         {
          "contraceptive_method_used": 2,
          "standard_of_living_index": 4,
          "wife_age": 37,
          "wife_education": 4,
          "wife_religion": 1
         },
         {
          "contraceptive_method_used": 3,
          "standard_of_living_index": 4,
          "wife_age": 21,
          "wife_education": 3,
          "wife_religion": 1
         },
         {
          "contraceptive_method_used": 1,
          "standard_of_living_index": 2,
          "wife_age": 22,
          "wife_education": 4,
          "wife_religion": 1
         },
         {
          "contraceptive_method_used": 3,
          "standard_of_living_index": 3,
          "wife_age": 25,
          "wife_education": 4,
          "wife_religion": 0
         },
         {
          "contraceptive_method_used": 3,
          "standard_of_living_index": 3,
          "wife_age": 21,
          "wife_education": 2,
          "wife_religion": 1
         },
         {
          "contraceptive_method_used": 3,
          "standard_of_living_index": 4,
          "wife_age": 26,
          "wife_education": 4,
          "wife_religion": 1
         },
         {
          "contraceptive_method_used": 1,
          "standard_of_living_index": 3,
          "wife_age": 47,
          "wife_education": 4,
          "wife_religion": 1
         },
         {
          "contraceptive_method_used": 1,
          "standard_of_living_index": 2,
          "wife_age": 31,
          "wife_education": 1,
          "wife_religion": 1
         },
         {
          "contraceptive_method_used": 2,
          "standard_of_living_index": 3,
          "wife_age": 24,
          "wife_education": 4,
          "wife_religion": 0
         },
         {
          "contraceptive_method_used": 2,
          "standard_of_living_index": 4,
          "wife_age": 26,
          "wife_education": 3,
          "wife_religion": 1
         },
         {
          "contraceptive_method_used": 3,
          "standard_of_living_index": 3,
          "wife_age": 27,
          "wife_education": 2,
          "wife_religion": 1
         },
         {
          "contraceptive_method_used": 1,
          "standard_of_living_index": 2,
          "wife_age": 21,
          "wife_education": 2,
          "wife_religion": 1
         },
         {
          "contraceptive_method_used": 3,
          "standard_of_living_index": 4,
          "wife_age": 36,
          "wife_education": 2,
          "wife_religion": 1
         },
         {
          "contraceptive_method_used": 3,
          "standard_of_living_index": 4,
          "wife_age": 32,
          "wife_education": 4,
          "wife_religion": 1
         },
         {
          "contraceptive_method_used": 2,
          "standard_of_living_index": 4,
          "wife_age": 39,
          "wife_education": 3,
          "wife_religion": 1
         },
         {
          "contraceptive_method_used": 1,
          "standard_of_living_index": 3,
          "wife_age": 38,
          "wife_education": 1,
          "wife_religion": 1
         },
         {
          "contraceptive_method_used": 1,
          "standard_of_living_index": 4,
          "wife_age": 26,
          "wife_education": 4,
          "wife_religion": 1
         },
         {
          "contraceptive_method_used": 3,
          "standard_of_living_index": 2,
          "wife_age": 21,
          "wife_education": 3,
          "wife_religion": 0
         },
         {
          "contraceptive_method_used": 3,
          "standard_of_living_index": 4,
          "wife_age": 43,
          "wife_education": 3,
          "wife_religion": 0
         },
         {
          "contraceptive_method_used": 2,
          "standard_of_living_index": 4,
          "wife_age": 32,
          "wife_education": 3,
          "wife_religion": 1
         },
         {
          "contraceptive_method_used": 2,
          "standard_of_living_index": 3,
          "wife_age": 31,
          "wife_education": 3,
          "wife_religion": 1
         },
         {
          "contraceptive_method_used": 3,
          "standard_of_living_index": 3,
          "wife_age": 24,
          "wife_education": 4,
          "wife_religion": 1
         },
         {
          "contraceptive_method_used": 1,
          "standard_of_living_index": 1,
          "wife_age": 38,
          "wife_education": 3,
          "wife_religion": 1
         },
         {
          "contraceptive_method_used": 3,
          "standard_of_living_index": 3,
          "wife_age": 30,
          "wife_education": 3,
          "wife_religion": 1
         },
         {
          "contraceptive_method_used": 2,
          "standard_of_living_index": 4,
          "wife_age": 44,
          "wife_education": 4,
          "wife_religion": 1
         },
         {
          "contraceptive_method_used": 3,
          "standard_of_living_index": 4,
          "wife_age": 22,
          "wife_education": 4,
          "wife_religion": 1
         },
         {
          "contraceptive_method_used": 1,
          "standard_of_living_index": 3,
          "wife_age": 49,
          "wife_education": 4,
          "wife_religion": 1
         },
         {
          "contraceptive_method_used": 1,
          "standard_of_living_index": 1,
          "wife_age": 25,
          "wife_education": 2,
          "wife_religion": 1
         },
         {
          "contraceptive_method_used": 1,
          "standard_of_living_index": 2,
          "wife_age": 47,
          "wife_education": 2,
          "wife_religion": 1
         },
         {
          "contraceptive_method_used": 1,
          "standard_of_living_index": 2,
          "wife_age": 25,
          "wife_education": 3,
          "wife_religion": 1
         },
         {
          "contraceptive_method_used": 1,
          "standard_of_living_index": 4,
          "wife_age": 31,
          "wife_education": 3,
          "wife_religion": 1
         },
         {
          "contraceptive_method_used": 1,
          "standard_of_living_index": 1,
          "wife_age": 39,
          "wife_education": 1,
          "wife_religion": 1
         },
         {
          "contraceptive_method_used": 1,
          "standard_of_living_index": 3,
          "wife_age": 28,
          "wife_education": 4,
          "wife_religion": 1
         },
         {
          "contraceptive_method_used": 1,
          "standard_of_living_index": 2,
          "wife_age": 38,
          "wife_education": 2,
          "wife_religion": 1
         },
         {
          "contraceptive_method_used": 1,
          "standard_of_living_index": 3,
          "wife_age": 31,
          "wife_education": 3,
          "wife_religion": 1
         },
         {
          "contraceptive_method_used": 1,
          "standard_of_living_index": 4,
          "wife_age": 36,
          "wife_education": 3,
          "wife_religion": 1
         },
         {
          "contraceptive_method_used": 2,
          "standard_of_living_index": 3,
          "wife_age": 33,
          "wife_education": 3,
          "wife_religion": 0
         },
         {
          "contraceptive_method_used": 1,
          "standard_of_living_index": 4,
          "wife_age": 37,
          "wife_education": 3,
          "wife_religion": 1
         },
         {
          "contraceptive_method_used": 1,
          "standard_of_living_index": 4,
          "wife_age": 23,
          "wife_education": 4,
          "wife_religion": 1
         },
         {
          "contraceptive_method_used": 3,
          "standard_of_living_index": 2,
          "wife_age": 19,
          "wife_education": 4,
          "wife_religion": 1
         },
         {
          "contraceptive_method_used": 3,
          "standard_of_living_index": 3,
          "wife_age": 28,
          "wife_education": 2,
          "wife_religion": 1
         },
         {
          "contraceptive_method_used": 2,
          "standard_of_living_index": 4,
          "wife_age": 32,
          "wife_education": 4,
          "wife_religion": 0
         },
         {
          "contraceptive_method_used": 2,
          "standard_of_living_index": 3,
          "wife_age": 29,
          "wife_education": 3,
          "wife_religion": 1
         },
         {
          "contraceptive_method_used": 3,
          "standard_of_living_index": 3,
          "wife_age": 30,
          "wife_education": 3,
          "wife_religion": 1
         },
         {
          "contraceptive_method_used": 1,
          "standard_of_living_index": 2,
          "wife_age": 28,
          "wife_education": 3,
          "wife_religion": 0
         },
         {
          "contraceptive_method_used": 1,
          "standard_of_living_index": 4,
          "wife_age": 25,
          "wife_education": 4,
          "wife_religion": 1
         },
         {
          "contraceptive_method_used": 1,
          "standard_of_living_index": 3,
          "wife_age": 32,
          "wife_education": 4,
          "wife_religion": 1
         },
         {
          "contraceptive_method_used": 1,
          "standard_of_living_index": 4,
          "wife_age": 27,
          "wife_education": 4,
          "wife_religion": 0
         },
         {
          "contraceptive_method_used": 1,
          "standard_of_living_index": 4,
          "wife_age": 48,
          "wife_education": 4,
          "wife_religion": 0
         },
         {
          "contraceptive_method_used": 3,
          "standard_of_living_index": 4,
          "wife_age": 26,
          "wife_education": 4,
          "wife_religion": 1
         },
         {
          "contraceptive_method_used": 2,
          "standard_of_living_index": 4,
          "wife_age": 45,
          "wife_education": 4,
          "wife_religion": 1
         },
         {
          "contraceptive_method_used": 1,
          "standard_of_living_index": 4,
          "wife_age": 49,
          "wife_education": 2,
          "wife_religion": 1
         },
         {
          "contraceptive_method_used": 3,
          "standard_of_living_index": 2,
          "wife_age": 26,
          "wife_education": 4,
          "wife_religion": 1
         },
         {
          "contraceptive_method_used": 2,
          "standard_of_living_index": 3,
          "wife_age": 32,
          "wife_education": 4,
          "wife_religion": 0
         },
         {
          "contraceptive_method_used": 1,
          "standard_of_living_index": 2,
          "wife_age": 26,
          "wife_education": 2,
          "wife_religion": 1
         },
         {
          "contraceptive_method_used": 1,
          "standard_of_living_index": 2,
          "wife_age": 32,
          "wife_education": 1,
          "wife_religion": 1
         },
         {
          "contraceptive_method_used": 1,
          "standard_of_living_index": 4,
          "wife_age": 42,
          "wife_education": 2,
          "wife_religion": 1
         },
         {
          "contraceptive_method_used": 1,
          "standard_of_living_index": 4,
          "wife_age": 48,
          "wife_education": 4,
          "wife_religion": 1
         },
         {
          "contraceptive_method_used": 1,
          "standard_of_living_index": 4,
          "wife_age": 43,
          "wife_education": 1,
          "wife_religion": 1
         },
         {
          "contraceptive_method_used": 1,
          "standard_of_living_index": 3,
          "wife_age": 32,
          "wife_education": 2,
          "wife_religion": 1
         },
         {
          "contraceptive_method_used": 3,
          "standard_of_living_index": 3,
          "wife_age": 21,
          "wife_education": 3,
          "wife_religion": 1
         },
         {
          "contraceptive_method_used": 1,
          "standard_of_living_index": 1,
          "wife_age": 47,
          "wife_education": 2,
          "wife_religion": 1
         },
         {
          "contraceptive_method_used": 1,
          "standard_of_living_index": 4,
          "wife_age": 34,
          "wife_education": 4,
          "wife_religion": 1
         },
         {
          "contraceptive_method_used": 3,
          "standard_of_living_index": 1,
          "wife_age": 30,
          "wife_education": 3,
          "wife_religion": 1
         },
         {
          "contraceptive_method_used": 3,
          "standard_of_living_index": 4,
          "wife_age": 36,
          "wife_education": 3,
          "wife_religion": 1
         },
         {
          "contraceptive_method_used": 1,
          "standard_of_living_index": 2,
          "wife_age": 31,
          "wife_education": 2,
          "wife_religion": 1
         },
         {
          "contraceptive_method_used": 1,
          "standard_of_living_index": 3,
          "wife_age": 45,
          "wife_education": 4,
          "wife_religion": 1
         },
         {
          "contraceptive_method_used": 1,
          "standard_of_living_index": 4,
          "wife_age": 49,
          "wife_education": 4,
          "wife_religion": 0
         },
         {
          "contraceptive_method_used": 3,
          "standard_of_living_index": 4,
          "wife_age": 41,
          "wife_education": 4,
          "wife_religion": 1
         },
         {
          "contraceptive_method_used": 1,
          "standard_of_living_index": 4,
          "wife_age": 49,
          "wife_education": 3,
          "wife_religion": 1
         },
         {
          "contraceptive_method_used": 3,
          "standard_of_living_index": 1,
          "wife_age": 24,
          "wife_education": 3,
          "wife_religion": 1
         },
         {
          "contraceptive_method_used": 3,
          "standard_of_living_index": 4,
          "wife_age": 30,
          "wife_education": 2,
          "wife_religion": 1
         },
         {
          "contraceptive_method_used": 3,
          "standard_of_living_index": 1,
          "wife_age": 25,
          "wife_education": 2,
          "wife_religion": 1
         },
         {
          "contraceptive_method_used": 3,
          "standard_of_living_index": 4,
          "wife_age": 41,
          "wife_education": 1,
          "wife_religion": 1
         },
         {
          "contraceptive_method_used": 1,
          "standard_of_living_index": 2,
          "wife_age": 40,
          "wife_education": 3,
          "wife_religion": 1
         },
         {
          "contraceptive_method_used": 1,
          "standard_of_living_index": 2,
          "wife_age": 32,
          "wife_education": 1,
          "wife_religion": 1
         },
         {
          "contraceptive_method_used": 3,
          "standard_of_living_index": 3,
          "wife_age": 26,
          "wife_education": 3,
          "wife_religion": 1
         },
         {
          "contraceptive_method_used": 3,
          "standard_of_living_index": 2,
          "wife_age": 35,
          "wife_education": 1,
          "wife_religion": 1
         },
         {
          "contraceptive_method_used": 2,
          "standard_of_living_index": 3,
          "wife_age": 36,
          "wife_education": 3,
          "wife_religion": 1
         },
         {
          "contraceptive_method_used": 1,
          "standard_of_living_index": 2,
          "wife_age": 40,
          "wife_education": 2,
          "wife_religion": 1
         },
         {
          "contraceptive_method_used": 2,
          "standard_of_living_index": 3,
          "wife_age": 35,
          "wife_education": 4,
          "wife_religion": 1
         },
         {
          "contraceptive_method_used": 1,
          "standard_of_living_index": 3,
          "wife_age": 48,
          "wife_education": 3,
          "wife_religion": 1
         },
         {
          "contraceptive_method_used": 1,
          "standard_of_living_index": 4,
          "wife_age": 27,
          "wife_education": 4,
          "wife_religion": 1
         },
         {
          "contraceptive_method_used": 3,
          "standard_of_living_index": 3,
          "wife_age": 35,
          "wife_education": 2,
          "wife_religion": 1
         },
         {
          "contraceptive_method_used": 3,
          "standard_of_living_index": 3,
          "wife_age": 47,
          "wife_education": 4,
          "wife_religion": 1
         },
         {
          "contraceptive_method_used": 1,
          "standard_of_living_index": 3,
          "wife_age": 26,
          "wife_education": 2,
          "wife_religion": 1
         },
         {
          "contraceptive_method_used": 3,
          "standard_of_living_index": 2,
          "wife_age": 30,
          "wife_education": 4,
          "wife_religion": 1
         },
         {
          "contraceptive_method_used": 3,
          "standard_of_living_index": 1,
          "wife_age": 29,
          "wife_education": 2,
          "wife_religion": 1
         },
         {
          "contraceptive_method_used": 3,
          "standard_of_living_index": 4,
          "wife_age": 28,
          "wife_education": 3,
          "wife_religion": 1
         },
         {
          "contraceptive_method_used": 3,
          "standard_of_living_index": 4,
          "wife_age": 43,
          "wife_education": 4,
          "wife_religion": 0
         },
         {
          "contraceptive_method_used": 2,
          "standard_of_living_index": 4,
          "wife_age": 42,
          "wife_education": 4,
          "wife_religion": 1
         },
         {
          "contraceptive_method_used": 3,
          "standard_of_living_index": 3,
          "wife_age": 34,
          "wife_education": 2,
          "wife_religion": 1
         },
         {
          "contraceptive_method_used": 1,
          "standard_of_living_index": 2,
          "wife_age": 31,
          "wife_education": 3,
          "wife_religion": 1
         },
         {
          "contraceptive_method_used": 3,
          "standard_of_living_index": 2,
          "wife_age": 36,
          "wife_education": 4,
          "wife_religion": 0
         },
         {
          "contraceptive_method_used": 2,
          "standard_of_living_index": 3,
          "wife_age": 28,
          "wife_education": 3,
          "wife_religion": 0
         },
         {
          "contraceptive_method_used": 2,
          "standard_of_living_index": 3,
          "wife_age": 33,
          "wife_education": 4,
          "wife_religion": 1
         },
         {
          "contraceptive_method_used": 3,
          "standard_of_living_index": 4,
          "wife_age": 44,
          "wife_education": 4,
          "wife_religion": 1
         },
         {
          "contraceptive_method_used": 2,
          "standard_of_living_index": 4,
          "wife_age": 33,
          "wife_education": 3,
          "wife_religion": 0
         },
         {
          "contraceptive_method_used": 3,
          "standard_of_living_index": 3,
          "wife_age": 29,
          "wife_education": 3,
          "wife_religion": 1
         },
         {
          "contraceptive_method_used": 1,
          "standard_of_living_index": 3,
          "wife_age": 31,
          "wife_education": 4,
          "wife_religion": 1
         },
         {
          "contraceptive_method_used": 3,
          "standard_of_living_index": 4,
          "wife_age": 29,
          "wife_education": 2,
          "wife_religion": 1
         },
         {
          "contraceptive_method_used": 1,
          "standard_of_living_index": 3,
          "wife_age": 49,
          "wife_education": 2,
          "wife_religion": 1
         },
         {
          "contraceptive_method_used": 2,
          "standard_of_living_index": 4,
          "wife_age": 27,
          "wife_education": 3,
          "wife_religion": 1
         },
         {
          "contraceptive_method_used": 2,
          "standard_of_living_index": 4,
          "wife_age": 43,
          "wife_education": 4,
          "wife_religion": 0
         },
         {
          "contraceptive_method_used": 3,
          "standard_of_living_index": 4,
          "wife_age": 28,
          "wife_education": 4,
          "wife_religion": 1
         },
         {
          "contraceptive_method_used": 1,
          "standard_of_living_index": 2,
          "wife_age": 45,
          "wife_education": 2,
          "wife_religion": 1
         },
         {
          "contraceptive_method_used": 1,
          "standard_of_living_index": 2,
          "wife_age": 19,
          "wife_education": 2,
          "wife_religion": 1
         },
         {
          "contraceptive_method_used": 3,
          "standard_of_living_index": 4,
          "wife_age": 30,
          "wife_education": 1,
          "wife_religion": 1
         },
         {
          "contraceptive_method_used": 3,
          "standard_of_living_index": 4,
          "wife_age": 32,
          "wife_education": 2,
          "wife_religion": 1
         },
         {
          "contraceptive_method_used": 1,
          "standard_of_living_index": 1,
          "wife_age": 24,
          "wife_education": 2,
          "wife_religion": 1
         },
         {
          "contraceptive_method_used": 3,
          "standard_of_living_index": 4,
          "wife_age": 25,
          "wife_education": 3,
          "wife_religion": 1
         },
         {
          "contraceptive_method_used": 1,
          "standard_of_living_index": 2,
          "wife_age": 31,
          "wife_education": 3,
          "wife_religion": 1
         },
         {
          "contraceptive_method_used": 1,
          "standard_of_living_index": 4,
          "wife_age": 48,
          "wife_education": 3,
          "wife_religion": 1
         },
         {
          "contraceptive_method_used": 1,
          "standard_of_living_index": 4,
          "wife_age": 47,
          "wife_education": 4,
          "wife_religion": 1
         },
         {
          "contraceptive_method_used": 3,
          "standard_of_living_index": 3,
          "wife_age": 47,
          "wife_education": 4,
          "wife_religion": 1
         },
         {
          "contraceptive_method_used": 3,
          "standard_of_living_index": 4,
          "wife_age": 28,
          "wife_education": 2,
          "wife_religion": 1
         },
         {
          "contraceptive_method_used": 1,
          "standard_of_living_index": 2,
          "wife_age": 36,
          "wife_education": 1,
          "wife_religion": 1
         },
         {
          "contraceptive_method_used": 1,
          "standard_of_living_index": 2,
          "wife_age": 27,
          "wife_education": 4,
          "wife_religion": 1
         },
         {
          "contraceptive_method_used": 1,
          "standard_of_living_index": 4,
          "wife_age": 37,
          "wife_education": 3,
          "wife_religion": 1
         },
         {
          "contraceptive_method_used": 1,
          "standard_of_living_index": 3,
          "wife_age": 47,
          "wife_education": 2,
          "wife_religion": 1
         },
         {
          "contraceptive_method_used": 3,
          "standard_of_living_index": 4,
          "wife_age": 37,
          "wife_education": 4,
          "wife_religion": 1
         },
         {
          "contraceptive_method_used": 3,
          "standard_of_living_index": 4,
          "wife_age": 29,
          "wife_education": 3,
          "wife_religion": 1
         },
         {
          "contraceptive_method_used": 3,
          "standard_of_living_index": 2,
          "wife_age": 39,
          "wife_education": 4,
          "wife_religion": 1
         },
         {
          "contraceptive_method_used": 3,
          "standard_of_living_index": 4,
          "wife_age": 44,
          "wife_education": 4,
          "wife_religion": 1
         },
         {
          "contraceptive_method_used": 3,
          "standard_of_living_index": 4,
          "wife_age": 27,
          "wife_education": 3,
          "wife_religion": 1
         },
         {
          "contraceptive_method_used": 1,
          "standard_of_living_index": 4,
          "wife_age": 34,
          "wife_education": 2,
          "wife_religion": 1
         },
         {
          "contraceptive_method_used": 3,
          "standard_of_living_index": 2,
          "wife_age": 21,
          "wife_education": 3,
          "wife_religion": 1
         },
         {
          "contraceptive_method_used": 3,
          "standard_of_living_index": 3,
          "wife_age": 20,
          "wife_education": 4,
          "wife_religion": 1
         },
         {
          "contraceptive_method_used": 1,
          "standard_of_living_index": 3,
          "wife_age": 32,
          "wife_education": 2,
          "wife_religion": 1
         },
         {
          "contraceptive_method_used": 3,
          "standard_of_living_index": 4,
          "wife_age": 25,
          "wife_education": 3,
          "wife_religion": 1
         },
         {
          "contraceptive_method_used": 3,
          "standard_of_living_index": 3,
          "wife_age": 24,
          "wife_education": 3,
          "wife_religion": 1
         },
         {
          "contraceptive_method_used": 1,
          "standard_of_living_index": 4,
          "wife_age": 42,
          "wife_education": 3,
          "wife_religion": 1
         },
         {
          "contraceptive_method_used": 3,
          "standard_of_living_index": 4,
          "wife_age": 25,
          "wife_education": 4,
          "wife_religion": 1
         },
         {
          "contraceptive_method_used": 3,
          "standard_of_living_index": 3,
          "wife_age": 24,
          "wife_education": 3,
          "wife_religion": 1
         },
         {
          "contraceptive_method_used": 2,
          "standard_of_living_index": 4,
          "wife_age": 32,
          "wife_education": 4,
          "wife_religion": 1
         },
         {
          "contraceptive_method_used": 3,
          "standard_of_living_index": 4,
          "wife_age": 41,
          "wife_education": 4,
          "wife_religion": 1
         },
         {
          "contraceptive_method_used": 1,
          "standard_of_living_index": 1,
          "wife_age": 18,
          "wife_education": 3,
          "wife_religion": 1
         },
         {
          "contraceptive_method_used": 2,
          "standard_of_living_index": 4,
          "wife_age": 36,
          "wife_education": 3,
          "wife_religion": 0
         },
         {
          "contraceptive_method_used": 1,
          "standard_of_living_index": 4,
          "wife_age": 47,
          "wife_education": 4,
          "wife_religion": 0
         },
         {
          "contraceptive_method_used": 2,
          "standard_of_living_index": 4,
          "wife_age": 40,
          "wife_education": 4,
          "wife_religion": 1
         },
         {
          "contraceptive_method_used": 1,
          "standard_of_living_index": 4,
          "wife_age": 42,
          "wife_education": 4,
          "wife_religion": 1
         },
         {
          "contraceptive_method_used": 1,
          "standard_of_living_index": 3,
          "wife_age": 46,
          "wife_education": 4,
          "wife_religion": 1
         },
         {
          "contraceptive_method_used": 2,
          "standard_of_living_index": 2,
          "wife_age": 43,
          "wife_education": 3,
          "wife_religion": 1
         },
         {
          "contraceptive_method_used": 1,
          "standard_of_living_index": 2,
          "wife_age": 40,
          "wife_education": 3,
          "wife_religion": 1
         },
         {
          "contraceptive_method_used": 3,
          "standard_of_living_index": 2,
          "wife_age": 32,
          "wife_education": 2,
          "wife_religion": 1
         },
         {
          "contraceptive_method_used": 1,
          "standard_of_living_index": 2,
          "wife_age": 35,
          "wife_education": 3,
          "wife_religion": 1
         },
         {
          "contraceptive_method_used": 1,
          "standard_of_living_index": 4,
          "wife_age": 42,
          "wife_education": 4,
          "wife_religion": 0
         },
         {
          "contraceptive_method_used": 1,
          "standard_of_living_index": 2,
          "wife_age": 37,
          "wife_education": 1,
          "wife_religion": 1
         },
         {
          "contraceptive_method_used": 2,
          "standard_of_living_index": 3,
          "wife_age": 41,
          "wife_education": 3,
          "wife_religion": 1
         },
         {
          "contraceptive_method_used": 1,
          "standard_of_living_index": 2,
          "wife_age": 24,
          "wife_education": 3,
          "wife_religion": 1
         },
         {
          "contraceptive_method_used": 1,
          "standard_of_living_index": 4,
          "wife_age": 25,
          "wife_education": 4,
          "wife_religion": 0
         },
         {
          "contraceptive_method_used": 3,
          "standard_of_living_index": 3,
          "wife_age": 22,
          "wife_education": 2,
          "wife_religion": 1
         },
         {
          "contraceptive_method_used": 1,
          "standard_of_living_index": 3,
          "wife_age": 30,
          "wife_education": 4,
          "wife_religion": 1
         },
         {
          "contraceptive_method_used": 2,
          "standard_of_living_index": 1,
          "wife_age": 33,
          "wife_education": 2,
          "wife_religion": 1
         },
         {
          "contraceptive_method_used": 2,
          "standard_of_living_index": 4,
          "wife_age": 33,
          "wife_education": 2,
          "wife_religion": 1
         },
         {
          "contraceptive_method_used": 1,
          "standard_of_living_index": 4,
          "wife_age": 27,
          "wife_education": 4,
          "wife_religion": 1
         },
         {
          "contraceptive_method_used": 3,
          "standard_of_living_index": 2,
          "wife_age": 21,
          "wife_education": 3,
          "wife_religion": 1
         },
         {
          "contraceptive_method_used": 1,
          "standard_of_living_index": 4,
          "wife_age": 30,
          "wife_education": 1,
          "wife_religion": 1
         },
         {
          "contraceptive_method_used": 3,
          "standard_of_living_index": 2,
          "wife_age": 37,
          "wife_education": 3,
          "wife_religion": 1
         },
         {
          "contraceptive_method_used": 2,
          "standard_of_living_index": 2,
          "wife_age": 24,
          "wife_education": 3,
          "wife_religion": 1
         },
         {
          "contraceptive_method_used": 2,
          "standard_of_living_index": 4,
          "wife_age": 41,
          "wife_education": 4,
          "wife_religion": 1
         },
         {
          "contraceptive_method_used": 1,
          "standard_of_living_index": 3,
          "wife_age": 38,
          "wife_education": 3,
          "wife_religion": 1
         },
         {
          "contraceptive_method_used": 1,
          "standard_of_living_index": 4,
          "wife_age": 37,
          "wife_education": 3,
          "wife_religion": 1
         },
         {
          "contraceptive_method_used": 2,
          "standard_of_living_index": 4,
          "wife_age": 34,
          "wife_education": 4,
          "wife_religion": 1
         },
         {
          "contraceptive_method_used": 2,
          "standard_of_living_index": 4,
          "wife_age": 25,
          "wife_education": 3,
          "wife_religion": 1
         },
         {
          "contraceptive_method_used": 1,
          "standard_of_living_index": 4,
          "wife_age": 42,
          "wife_education": 4,
          "wife_religion": 1
         },
         {
          "contraceptive_method_used": 3,
          "standard_of_living_index": 2,
          "wife_age": 24,
          "wife_education": 1,
          "wife_religion": 1
         },
         {
          "contraceptive_method_used": 2,
          "standard_of_living_index": 4,
          "wife_age": 30,
          "wife_education": 2,
          "wife_religion": 1
         },
         {
          "contraceptive_method_used": 1,
          "standard_of_living_index": 4,
          "wife_age": 34,
          "wife_education": 1,
          "wife_religion": 1
         },
         {
          "contraceptive_method_used": 1,
          "standard_of_living_index": 3,
          "wife_age": 23,
          "wife_education": 3,
          "wife_religion": 1
         },
         {
          "contraceptive_method_used": 2,
          "standard_of_living_index": 3,
          "wife_age": 27,
          "wife_education": 4,
          "wife_religion": 1
         },
         {
          "contraceptive_method_used": 2,
          "standard_of_living_index": 4,
          "wife_age": 33,
          "wife_education": 4,
          "wife_religion": 0
         },
         {
          "contraceptive_method_used": 2,
          "standard_of_living_index": 4,
          "wife_age": 37,
          "wife_education": 4,
          "wife_religion": 1
         },
         {
          "contraceptive_method_used": 2,
          "standard_of_living_index": 4,
          "wife_age": 21,
          "wife_education": 4,
          "wife_religion": 1
         },
         {
          "contraceptive_method_used": 2,
          "standard_of_living_index": 4,
          "wife_age": 27,
          "wife_education": 3,
          "wife_religion": 1
         },
         {
          "contraceptive_method_used": 2,
          "standard_of_living_index": 4,
          "wife_age": 41,
          "wife_education": 4,
          "wife_religion": 1
         },
         {
          "contraceptive_method_used": 1,
          "standard_of_living_index": 3,
          "wife_age": 40,
          "wife_education": 2,
          "wife_religion": 1
         },
         {
          "contraceptive_method_used": 2,
          "standard_of_living_index": 4,
          "wife_age": 44,
          "wife_education": 4,
          "wife_religion": 1
         },
         {
          "contraceptive_method_used": 1,
          "standard_of_living_index": 3,
          "wife_age": 36,
          "wife_education": 2,
          "wife_religion": 1
         },
         {
          "contraceptive_method_used": 1,
          "standard_of_living_index": 4,
          "wife_age": 43,
          "wife_education": 3,
          "wife_religion": 1
         },
         {
          "contraceptive_method_used": 1,
          "standard_of_living_index": 1,
          "wife_age": 28,
          "wife_education": 3,
          "wife_religion": 1
         },
         {
          "contraceptive_method_used": 1,
          "standard_of_living_index": 4,
          "wife_age": 45,
          "wife_education": 1,
          "wife_religion": 1
         },
         {
          "contraceptive_method_used": 1,
          "standard_of_living_index": 4,
          "wife_age": 40,
          "wife_education": 4,
          "wife_religion": 1
         },
         {
          "contraceptive_method_used": 1,
          "standard_of_living_index": 1,
          "wife_age": 45,
          "wife_education": 1,
          "wife_religion": 0
         },
         {
          "contraceptive_method_used": 1,
          "standard_of_living_index": 3,
          "wife_age": 35,
          "wife_education": 2,
          "wife_religion": 1
         },
         {
          "contraceptive_method_used": 3,
          "standard_of_living_index": 3,
          "wife_age": 28,
          "wife_education": 3,
          "wife_religion": 0
         },
         {
          "contraceptive_method_used": 1,
          "standard_of_living_index": 3,
          "wife_age": 45,
          "wife_education": 2,
          "wife_religion": 1
         },
         {
          "contraceptive_method_used": 2,
          "standard_of_living_index": 4,
          "wife_age": 24,
          "wife_education": 4,
          "wife_religion": 1
         },
         {
          "contraceptive_method_used": 1,
          "standard_of_living_index": 1,
          "wife_age": 19,
          "wife_education": 2,
          "wife_religion": 1
         },
         {
          "contraceptive_method_used": 1,
          "standard_of_living_index": 2,
          "wife_age": 47,
          "wife_education": 2,
          "wife_religion": 1
         },
         {
          "contraceptive_method_used": 3,
          "standard_of_living_index": 3,
          "wife_age": 21,
          "wife_education": 1,
          "wife_religion": 1
         },
         {
          "contraceptive_method_used": 3,
          "standard_of_living_index": 4,
          "wife_age": 39,
          "wife_education": 4,
          "wife_religion": 0
         },
         {
          "contraceptive_method_used": 2,
          "standard_of_living_index": 4,
          "wife_age": 48,
          "wife_education": 4,
          "wife_religion": 0
         },
         {
          "contraceptive_method_used": 1,
          "standard_of_living_index": 4,
          "wife_age": 32,
          "wife_education": 3,
          "wife_religion": 0
         },
         {
          "contraceptive_method_used": 1,
          "standard_of_living_index": 3,
          "wife_age": 34,
          "wife_education": 4,
          "wife_religion": 0
         },
         {
          "contraceptive_method_used": 3,
          "standard_of_living_index": 4,
          "wife_age": 34,
          "wife_education": 4,
          "wife_religion": 1
         },
         {
          "contraceptive_method_used": 1,
          "standard_of_living_index": 3,
          "wife_age": 34,
          "wife_education": 3,
          "wife_religion": 1
         },
         {
          "contraceptive_method_used": 3,
          "standard_of_living_index": 4,
          "wife_age": 28,
          "wife_education": 4,
          "wife_religion": 1
         },
         {
          "contraceptive_method_used": 2,
          "standard_of_living_index": 2,
          "wife_age": 35,
          "wife_education": 3,
          "wife_religion": 1
         },
         {
          "contraceptive_method_used": 3,
          "standard_of_living_index": 4,
          "wife_age": 34,
          "wife_education": 4,
          "wife_religion": 1
         },
         {
          "contraceptive_method_used": 3,
          "standard_of_living_index": 3,
          "wife_age": 25,
          "wife_education": 4,
          "wife_religion": 1
         },
         {
          "contraceptive_method_used": 3,
          "standard_of_living_index": 4,
          "wife_age": 27,
          "wife_education": 4,
          "wife_religion": 0
         },
         {
          "contraceptive_method_used": 2,
          "standard_of_living_index": 3,
          "wife_age": 38,
          "wife_education": 4,
          "wife_religion": 1
         },
         {
          "contraceptive_method_used": 1,
          "standard_of_living_index": 4,
          "wife_age": 43,
          "wife_education": 4,
          "wife_religion": 1
         },
         {
          "contraceptive_method_used": 2,
          "standard_of_living_index": 4,
          "wife_age": 36,
          "wife_education": 4,
          "wife_religion": 0
         },
         {
          "contraceptive_method_used": 3,
          "standard_of_living_index": 3,
          "wife_age": 23,
          "wife_education": 3,
          "wife_religion": 1
         },
         {
          "contraceptive_method_used": 3,
          "standard_of_living_index": 4,
          "wife_age": 24,
          "wife_education": 4,
          "wife_religion": 1
         },
         {
          "contraceptive_method_used": 1,
          "standard_of_living_index": 4,
          "wife_age": 23,
          "wife_education": 4,
          "wife_religion": 1
         },
         {
          "contraceptive_method_used": 2,
          "standard_of_living_index": 4,
          "wife_age": 25,
          "wife_education": 4,
          "wife_religion": 1
         },
         {
          "contraceptive_method_used": 2,
          "standard_of_living_index": 4,
          "wife_age": 25,
          "wife_education": 2,
          "wife_religion": 1
         },
         {
          "contraceptive_method_used": 2,
          "standard_of_living_index": 4,
          "wife_age": 36,
          "wife_education": 4,
          "wife_religion": 0
         },
         {
          "contraceptive_method_used": 1,
          "standard_of_living_index": 3,
          "wife_age": 35,
          "wife_education": 4,
          "wife_religion": 0
         },
         {
          "contraceptive_method_used": 1,
          "standard_of_living_index": 3,
          "wife_age": 31,
          "wife_education": 3,
          "wife_religion": 1
         },
         {
          "contraceptive_method_used": 1,
          "standard_of_living_index": 4,
          "wife_age": 32,
          "wife_education": 2,
          "wife_religion": 1
         },
         {
          "contraceptive_method_used": 1,
          "standard_of_living_index": 3,
          "wife_age": 39,
          "wife_education": 3,
          "wife_religion": 1
         },
         {
          "contraceptive_method_used": 3,
          "standard_of_living_index": 4,
          "wife_age": 39,
          "wife_education": 4,
          "wife_religion": 1
         },
         {
          "contraceptive_method_used": 2,
          "standard_of_living_index": 2,
          "wife_age": 32,
          "wife_education": 3,
          "wife_religion": 1
         },
         {
          "contraceptive_method_used": 2,
          "standard_of_living_index": 4,
          "wife_age": 39,
          "wife_education": 4,
          "wife_religion": 1
         },
         {
          "contraceptive_method_used": 3,
          "standard_of_living_index": 3,
          "wife_age": 32,
          "wife_education": 1,
          "wife_religion": 0
         },
         {
          "contraceptive_method_used": 3,
          "standard_of_living_index": 4,
          "wife_age": 19,
          "wife_education": 4,
          "wife_religion": 1
         },
         {
          "contraceptive_method_used": 3,
          "standard_of_living_index": 2,
          "wife_age": 33,
          "wife_education": 3,
          "wife_religion": 1
         },
         {
          "contraceptive_method_used": 1,
          "standard_of_living_index": 4,
          "wife_age": 23,
          "wife_education": 4,
          "wife_religion": 1
         },
         {
          "contraceptive_method_used": 1,
          "standard_of_living_index": 3,
          "wife_age": 38,
          "wife_education": 1,
          "wife_religion": 1
         },
         {
          "contraceptive_method_used": 2,
          "standard_of_living_index": 4,
          "wife_age": 25,
          "wife_education": 2,
          "wife_religion": 1
         },
         {
          "contraceptive_method_used": 1,
          "standard_of_living_index": 3,
          "wife_age": 43,
          "wife_education": 4,
          "wife_religion": 1
         },
         {
          "contraceptive_method_used": 1,
          "standard_of_living_index": 1,
          "wife_age": 25,
          "wife_education": 2,
          "wife_religion": 1
         },
         {
          "contraceptive_method_used": 3,
          "standard_of_living_index": 4,
          "wife_age": 46,
          "wife_education": 1,
          "wife_religion": 1
         },
         {
          "contraceptive_method_used": 1,
          "standard_of_living_index": 4,
          "wife_age": 30,
          "wife_education": 4,
          "wife_religion": 1
         },
         {
          "contraceptive_method_used": 1,
          "standard_of_living_index": 1,
          "wife_age": 28,
          "wife_education": 3,
          "wife_religion": 1
         },
         {
          "contraceptive_method_used": 2,
          "standard_of_living_index": 4,
          "wife_age": 40,
          "wife_education": 3,
          "wife_religion": 0
         },
         {
          "contraceptive_method_used": 1,
          "standard_of_living_index": 4,
          "wife_age": 30,
          "wife_education": 4,
          "wife_religion": 1
         },
         {
          "contraceptive_method_used": 3,
          "standard_of_living_index": 2,
          "wife_age": 25,
          "wife_education": 2,
          "wife_religion": 1
         },
         {
          "contraceptive_method_used": 2,
          "standard_of_living_index": 4,
          "wife_age": 37,
          "wife_education": 4,
          "wife_religion": 0
         },
         {
          "contraceptive_method_used": 3,
          "standard_of_living_index": 2,
          "wife_age": 37,
          "wife_education": 4,
          "wife_religion": 1
         },
         {
          "contraceptive_method_used": 1,
          "standard_of_living_index": 2,
          "wife_age": 27,
          "wife_education": 3,
          "wife_religion": 1
         },
         {
          "contraceptive_method_used": 1,
          "standard_of_living_index": 4,
          "wife_age": 22,
          "wife_education": 4,
          "wife_religion": 1
         },
         {
          "contraceptive_method_used": 1,
          "standard_of_living_index": 2,
          "wife_age": 21,
          "wife_education": 3,
          "wife_religion": 1
         },
         {
          "contraceptive_method_used": 3,
          "standard_of_living_index": 2,
          "wife_age": 30,
          "wife_education": 3,
          "wife_religion": 1
         },
         {
          "contraceptive_method_used": 2,
          "standard_of_living_index": 4,
          "wife_age": 32,
          "wife_education": 4,
          "wife_religion": 1
         },
         {
          "contraceptive_method_used": 1,
          "standard_of_living_index": 3,
          "wife_age": 22,
          "wife_education": 2,
          "wife_religion": 1
         },
         {
          "contraceptive_method_used": 3,
          "standard_of_living_index": 4,
          "wife_age": 22,
          "wife_education": 3,
          "wife_religion": 1
         },
         {
          "contraceptive_method_used": 2,
          "standard_of_living_index": 4,
          "wife_age": 24,
          "wife_education": 4,
          "wife_religion": 1
         },
         {
          "contraceptive_method_used": 2,
          "standard_of_living_index": 4,
          "wife_age": 36,
          "wife_education": 4,
          "wife_religion": 1
         },
         {
          "contraceptive_method_used": 2,
          "standard_of_living_index": 3,
          "wife_age": 43,
          "wife_education": 2,
          "wife_religion": 1
         },
         {
          "contraceptive_method_used": 1,
          "standard_of_living_index": 2,
          "wife_age": 27,
          "wife_education": 2,
          "wife_religion": 1
         },
         {
          "contraceptive_method_used": 3,
          "standard_of_living_index": 4,
          "wife_age": 34,
          "wife_education": 3,
          "wife_religion": 0
         },
         {
          "contraceptive_method_used": 3,
          "standard_of_living_index": 3,
          "wife_age": 34,
          "wife_education": 4,
          "wife_religion": 1
         },
         {
          "contraceptive_method_used": 1,
          "standard_of_living_index": 3,
          "wife_age": 20,
          "wife_education": 3,
          "wife_religion": 1
         },
         {
          "contraceptive_method_used": 2,
          "standard_of_living_index": 2,
          "wife_age": 38,
          "wife_education": 2,
          "wife_religion": 1
         },
         {
          "contraceptive_method_used": 1,
          "standard_of_living_index": 1,
          "wife_age": 18,
          "wife_education": 3,
          "wife_religion": 1
         },
         {
          "contraceptive_method_used": 3,
          "standard_of_living_index": 4,
          "wife_age": 36,
          "wife_education": 2,
          "wife_religion": 1
         },
         {
          "contraceptive_method_used": 1,
          "standard_of_living_index": 4,
          "wife_age": 30,
          "wife_education": 3,
          "wife_religion": 1
         },
         {
          "contraceptive_method_used": 3,
          "standard_of_living_index": 4,
          "wife_age": 33,
          "wife_education": 3,
          "wife_religion": 1
         },
         {
          "contraceptive_method_used": 2,
          "standard_of_living_index": 4,
          "wife_age": 24,
          "wife_education": 4,
          "wife_religion": 1
         },
         {
          "contraceptive_method_used": 3,
          "standard_of_living_index": 4,
          "wife_age": 40,
          "wife_education": 2,
          "wife_religion": 0
         },
         {
          "contraceptive_method_used": 3,
          "standard_of_living_index": 1,
          "wife_age": 25,
          "wife_education": 1,
          "wife_religion": 1
         },
         {
          "contraceptive_method_used": 3,
          "standard_of_living_index": 1,
          "wife_age": 31,
          "wife_education": 3,
          "wife_religion": 1
         },
         {
          "contraceptive_method_used": 1,
          "standard_of_living_index": 4,
          "wife_age": 42,
          "wife_education": 4,
          "wife_religion": 1
         },
         {
          "contraceptive_method_used": 1,
          "standard_of_living_index": 4,
          "wife_age": 45,
          "wife_education": 3,
          "wife_religion": 0
         },
         {
          "contraceptive_method_used": 2,
          "standard_of_living_index": 3,
          "wife_age": 27,
          "wife_education": 4,
          "wife_religion": 1
         },
         {
          "contraceptive_method_used": 2,
          "standard_of_living_index": 2,
          "wife_age": 34,
          "wife_education": 2,
          "wife_religion": 1
         },
         {
          "contraceptive_method_used": 1,
          "standard_of_living_index": 2,
          "wife_age": 25,
          "wife_education": 3,
          "wife_religion": 1
         },
         {
          "contraceptive_method_used": 3,
          "standard_of_living_index": 2,
          "wife_age": 45,
          "wife_education": 1,
          "wife_religion": 1
         },
         {
          "contraceptive_method_used": 3,
          "standard_of_living_index": 4,
          "wife_age": 28,
          "wife_education": 2,
          "wife_religion": 1
         },
         {
          "contraceptive_method_used": 2,
          "standard_of_living_index": 4,
          "wife_age": 49,
          "wife_education": 3,
          "wife_religion": 1
         },
         {
          "contraceptive_method_used": 3,
          "standard_of_living_index": 3,
          "wife_age": 28,
          "wife_education": 1,
          "wife_religion": 1
         },
         {
          "contraceptive_method_used": 2,
          "standard_of_living_index": 4,
          "wife_age": 36,
          "wife_education": 3,
          "wife_religion": 0
         },
         {
          "contraceptive_method_used": 1,
          "standard_of_living_index": 3,
          "wife_age": 25,
          "wife_education": 1,
          "wife_religion": 1
         },
         {
          "contraceptive_method_used": 1,
          "standard_of_living_index": 2,
          "wife_age": 26,
          "wife_education": 3,
          "wife_religion": 0
         },
         {
          "contraceptive_method_used": 1,
          "standard_of_living_index": 3,
          "wife_age": 25,
          "wife_education": 4,
          "wife_religion": 0
         },
         {
          "contraceptive_method_used": 3,
          "standard_of_living_index": 2,
          "wife_age": 21,
          "wife_education": 3,
          "wife_religion": 1
         },
         {
          "contraceptive_method_used": 2,
          "standard_of_living_index": 4,
          "wife_age": 37,
          "wife_education": 4,
          "wife_religion": 0
         },
         {
          "contraceptive_method_used": 3,
          "standard_of_living_index": 3,
          "wife_age": 26,
          "wife_education": 3,
          "wife_religion": 1
         },
         {
          "contraceptive_method_used": 3,
          "standard_of_living_index": 4,
          "wife_age": 33,
          "wife_education": 4,
          "wife_religion": 1
         },
         {
          "contraceptive_method_used": 2,
          "standard_of_living_index": 3,
          "wife_age": 25,
          "wife_education": 3,
          "wife_religion": 1
         },
         {
          "contraceptive_method_used": 3,
          "standard_of_living_index": 4,
          "wife_age": 35,
          "wife_education": 3,
          "wife_religion": 1
         },
         {
          "contraceptive_method_used": 3,
          "standard_of_living_index": 4,
          "wife_age": 32,
          "wife_education": 4,
          "wife_religion": 0
         },
         {
          "contraceptive_method_used": 1,
          "standard_of_living_index": 4,
          "wife_age": 39,
          "wife_education": 3,
          "wife_religion": 0
         },
         {
          "contraceptive_method_used": 2,
          "standard_of_living_index": 4,
          "wife_age": 46,
          "wife_education": 4,
          "wife_religion": 1
         },
         {
          "contraceptive_method_used": 2,
          "standard_of_living_index": 4,
          "wife_age": 48,
          "wife_education": 4,
          "wife_religion": 1
         },
         {
          "contraceptive_method_used": 3,
          "standard_of_living_index": 4,
          "wife_age": 19,
          "wife_education": 4,
          "wife_religion": 1
         },
         {
          "contraceptive_method_used": 1,
          "standard_of_living_index": 1,
          "wife_age": 21,
          "wife_education": 2,
          "wife_religion": 1
         },
         {
          "contraceptive_method_used": 1,
          "standard_of_living_index": 4,
          "wife_age": 47,
          "wife_education": 3,
          "wife_religion": 1
         },
         {
          "contraceptive_method_used": 1,
          "standard_of_living_index": 2,
          "wife_age": 49,
          "wife_education": 1,
          "wife_religion": 1
         },
         {
          "contraceptive_method_used": 2,
          "standard_of_living_index": 4,
          "wife_age": 46,
          "wife_education": 4,
          "wife_religion": 1
         },
         {
          "contraceptive_method_used": 2,
          "standard_of_living_index": 4,
          "wife_age": 34,
          "wife_education": 3,
          "wife_religion": 1
         },
         {
          "contraceptive_method_used": 2,
          "standard_of_living_index": 4,
          "wife_age": 37,
          "wife_education": 4,
          "wife_religion": 0
         },
         {
          "contraceptive_method_used": 3,
          "standard_of_living_index": 4,
          "wife_age": 43,
          "wife_education": 4,
          "wife_religion": 1
         },
         {
          "contraceptive_method_used": 2,
          "standard_of_living_index": 4,
          "wife_age": 42,
          "wife_education": 4,
          "wife_religion": 0
         },
         {
          "contraceptive_method_used": 1,
          "standard_of_living_index": 1,
          "wife_age": 26,
          "wife_education": 2,
          "wife_religion": 1
         },
         {
          "contraceptive_method_used": 2,
          "standard_of_living_index": 4,
          "wife_age": 41,
          "wife_education": 4,
          "wife_religion": 0
         },
         {
          "contraceptive_method_used": 3,
          "standard_of_living_index": 3,
          "wife_age": 38,
          "wife_education": 4,
          "wife_religion": 0
         },
         {
          "contraceptive_method_used": 3,
          "standard_of_living_index": 2,
          "wife_age": 22,
          "wife_education": 4,
          "wife_religion": 1
         },
         {
          "contraceptive_method_used": 2,
          "standard_of_living_index": 2,
          "wife_age": 28,
          "wife_education": 3,
          "wife_religion": 1
         },
         {
          "contraceptive_method_used": 3,
          "standard_of_living_index": 3,
          "wife_age": 33,
          "wife_education": 3,
          "wife_religion": 1
         },
         {
          "contraceptive_method_used": 2,
          "standard_of_living_index": 4,
          "wife_age": 34,
          "wife_education": 4,
          "wife_religion": 1
         },
         {
          "contraceptive_method_used": 3,
          "standard_of_living_index": 4,
          "wife_age": 35,
          "wife_education": 4,
          "wife_religion": 0
         },
         {
          "contraceptive_method_used": 2,
          "standard_of_living_index": 4,
          "wife_age": 30,
          "wife_education": 3,
          "wife_religion": 1
         },
         {
          "contraceptive_method_used": 3,
          "standard_of_living_index": 3,
          "wife_age": 32,
          "wife_education": 2,
          "wife_religion": 1
         },
         {
          "contraceptive_method_used": 1,
          "standard_of_living_index": 3,
          "wife_age": 25,
          "wife_education": 3,
          "wife_religion": 1
         },
         {
          "contraceptive_method_used": 2,
          "standard_of_living_index": 4,
          "wife_age": 41,
          "wife_education": 3,
          "wife_religion": 1
         },
         {
          "contraceptive_method_used": 2,
          "standard_of_living_index": 4,
          "wife_age": 45,
          "wife_education": 3,
          "wife_religion": 0
         },
         {
          "contraceptive_method_used": 1,
          "standard_of_living_index": 4,
          "wife_age": 36,
          "wife_education": 3,
          "wife_religion": 1
         },
         {
          "contraceptive_method_used": 2,
          "standard_of_living_index": 4,
          "wife_age": 41,
          "wife_education": 4,
          "wife_religion": 1
         },
         {
          "contraceptive_method_used": 3,
          "standard_of_living_index": 4,
          "wife_age": 24,
          "wife_education": 2,
          "wife_religion": 1
         },
         {
          "contraceptive_method_used": 1,
          "standard_of_living_index": 3,
          "wife_age": 18,
          "wife_education": 3,
          "wife_religion": 1
         },
         {
          "contraceptive_method_used": 1,
          "standard_of_living_index": 4,
          "wife_age": 39,
          "wife_education": 2,
          "wife_religion": 1
         },
         {
          "contraceptive_method_used": 3,
          "standard_of_living_index": 3,
          "wife_age": 30,
          "wife_education": 3,
          "wife_religion": 1
         },
         {
          "contraceptive_method_used": 2,
          "standard_of_living_index": 3,
          "wife_age": 35,
          "wife_education": 1,
          "wife_religion": 1
         },
         {
          "contraceptive_method_used": 2,
          "standard_of_living_index": 4,
          "wife_age": 32,
          "wife_education": 4,
          "wife_religion": 0
         },
         {
          "contraceptive_method_used": 2,
          "standard_of_living_index": 3,
          "wife_age": 34,
          "wife_education": 2,
          "wife_religion": 1
         },
         {
          "contraceptive_method_used": 3,
          "standard_of_living_index": 3,
          "wife_age": 29,
          "wife_education": 2,
          "wife_religion": 1
         },
         {
          "contraceptive_method_used": 2,
          "standard_of_living_index": 3,
          "wife_age": 40,
          "wife_education": 4,
          "wife_religion": 1
         },
         {
          "contraceptive_method_used": 3,
          "standard_of_living_index": 3,
          "wife_age": 22,
          "wife_education": 3,
          "wife_religion": 1
         },
         {
          "contraceptive_method_used": 3,
          "standard_of_living_index": 4,
          "wife_age": 37,
          "wife_education": 4,
          "wife_religion": 1
         },
         {
          "contraceptive_method_used": 1,
          "standard_of_living_index": 4,
          "wife_age": 26,
          "wife_education": 3,
          "wife_religion": 1
         },
         {
          "contraceptive_method_used": 2,
          "standard_of_living_index": 4,
          "wife_age": 33,
          "wife_education": 3,
          "wife_religion": 1
         },
         {
          "contraceptive_method_used": 2,
          "standard_of_living_index": 4,
          "wife_age": 39,
          "wife_education": 4,
          "wife_religion": 1
         },
         {
          "contraceptive_method_used": 1,
          "standard_of_living_index": 3,
          "wife_age": 24,
          "wife_education": 4,
          "wife_religion": 1
         },
         {
          "contraceptive_method_used": 2,
          "standard_of_living_index": 3,
          "wife_age": 29,
          "wife_education": 4,
          "wife_religion": 1
         },
         {
          "contraceptive_method_used": 3,
          "standard_of_living_index": 3,
          "wife_age": 35,
          "wife_education": 1,
          "wife_religion": 1
         },
         {
          "contraceptive_method_used": 3,
          "standard_of_living_index": 4,
          "wife_age": 28,
          "wife_education": 4,
          "wife_religion": 1
         },
         {
          "contraceptive_method_used": 1,
          "standard_of_living_index": 1,
          "wife_age": 28,
          "wife_education": 1,
          "wife_religion": 1
         },
         {
          "contraceptive_method_used": 3,
          "standard_of_living_index": 3,
          "wife_age": 23,
          "wife_education": 4,
          "wife_religion": 1
         },
         {
          "contraceptive_method_used": 2,
          "standard_of_living_index": 2,
          "wife_age": 32,
          "wife_education": 4,
          "wife_religion": 1
         },
         {
          "contraceptive_method_used": 1,
          "standard_of_living_index": 4,
          "wife_age": 27,
          "wife_education": 2,
          "wife_religion": 1
         },
         {
          "contraceptive_method_used": 1,
          "standard_of_living_index": 4,
          "wife_age": 45,
          "wife_education": 3,
          "wife_religion": 1
         },
         {
          "contraceptive_method_used": 1,
          "standard_of_living_index": 4,
          "wife_age": 21,
          "wife_education": 2,
          "wife_religion": 1
         },
         {
          "contraceptive_method_used": 3,
          "standard_of_living_index": 4,
          "wife_age": 36,
          "wife_education": 2,
          "wife_religion": 1
         },
         {
          "contraceptive_method_used": 3,
          "standard_of_living_index": 4,
          "wife_age": 28,
          "wife_education": 2,
          "wife_religion": 1
         },
         {
          "contraceptive_method_used": 3,
          "standard_of_living_index": 4,
          "wife_age": 22,
          "wife_education": 3,
          "wife_religion": 0
         },
         {
          "contraceptive_method_used": 2,
          "standard_of_living_index": 4,
          "wife_age": 42,
          "wife_education": 2,
          "wife_religion": 1
         },
         {
          "contraceptive_method_used": 2,
          "standard_of_living_index": 3,
          "wife_age": 19,
          "wife_education": 4,
          "wife_religion": 1
         },
         {
          "contraceptive_method_used": 2,
          "standard_of_living_index": 4,
          "wife_age": 31,
          "wife_education": 4,
          "wife_religion": 1
         },
         {
          "contraceptive_method_used": 3,
          "standard_of_living_index": 4,
          "wife_age": 45,
          "wife_education": 2,
          "wife_religion": 0
         },
         {
          "contraceptive_method_used": 3,
          "standard_of_living_index": 3,
          "wife_age": 37,
          "wife_education": 3,
          "wife_religion": 1
         },
         {
          "contraceptive_method_used": 1,
          "standard_of_living_index": 4,
          "wife_age": 47,
          "wife_education": 1,
          "wife_religion": 1
         },
         {
          "contraceptive_method_used": 1,
          "standard_of_living_index": 4,
          "wife_age": 32,
          "wife_education": 4,
          "wife_religion": 0
         },
         {
          "contraceptive_method_used": 1,
          "standard_of_living_index": 4,
          "wife_age": 27,
          "wife_education": 2,
          "wife_religion": 1
         },
         {
          "contraceptive_method_used": 3,
          "standard_of_living_index": 4,
          "wife_age": 36,
          "wife_education": 2,
          "wife_religion": 1
         },
         {
          "contraceptive_method_used": 3,
          "standard_of_living_index": 4,
          "wife_age": 30,
          "wife_education": 1,
          "wife_religion": 1
         },
         {
          "contraceptive_method_used": 1,
          "standard_of_living_index": 4,
          "wife_age": 21,
          "wife_education": 1,
          "wife_religion": 1
         },
         {
          "contraceptive_method_used": 3,
          "standard_of_living_index": 3,
          "wife_age": 38,
          "wife_education": 4,
          "wife_religion": 1
         },
         {
          "contraceptive_method_used": 1,
          "standard_of_living_index": 4,
          "wife_age": 40,
          "wife_education": 1,
          "wife_religion": 1
         },
         {
          "contraceptive_method_used": 1,
          "standard_of_living_index": 3,
          "wife_age": 42,
          "wife_education": 3,
          "wife_religion": 1
         },
         {
          "contraceptive_method_used": 3,
          "standard_of_living_index": 4,
          "wife_age": 46,
          "wife_education": 2,
          "wife_religion": 0
         },
         {
          "contraceptive_method_used": 3,
          "standard_of_living_index": 4,
          "wife_age": 27,
          "wife_education": 4,
          "wife_religion": 1
         },
         {
          "contraceptive_method_used": 3,
          "standard_of_living_index": 4,
          "wife_age": 45,
          "wife_education": 4,
          "wife_religion": 1
         },
         {
          "contraceptive_method_used": 3,
          "standard_of_living_index": 4,
          "wife_age": 39,
          "wife_education": 4,
          "wife_religion": 1
         },
         {
          "contraceptive_method_used": 1,
          "standard_of_living_index": 4,
          "wife_age": 49,
          "wife_education": 3,
          "wife_religion": 1
         },
         {
          "contraceptive_method_used": 3,
          "standard_of_living_index": 3,
          "wife_age": 24,
          "wife_education": 4,
          "wife_religion": 1
         },
         {
          "contraceptive_method_used": 1,
          "standard_of_living_index": 4,
          "wife_age": 28,
          "wife_education": 3,
          "wife_religion": 1
         },
         {
          "contraceptive_method_used": 1,
          "standard_of_living_index": 3,
          "wife_age": 32,
          "wife_education": 4,
          "wife_religion": 1
         },
         {
          "contraceptive_method_used": 1,
          "standard_of_living_index": 3,
          "wife_age": 34,
          "wife_education": 2,
          "wife_religion": 1
         },
         {
          "contraceptive_method_used": 1,
          "standard_of_living_index": 4,
          "wife_age": 28,
          "wife_education": 3,
          "wife_religion": 1
         },
         {
          "contraceptive_method_used": 1,
          "standard_of_living_index": 1,
          "wife_age": 18,
          "wife_education": 3,
          "wife_religion": 1
         },
         {
          "contraceptive_method_used": 1,
          "standard_of_living_index": 4,
          "wife_age": 48,
          "wife_education": 1,
          "wife_religion": 1
         },
         {
          "contraceptive_method_used": 2,
          "standard_of_living_index": 4,
          "wife_age": 39,
          "wife_education": 4,
          "wife_religion": 1
         },
         {
          "contraceptive_method_used": 3,
          "standard_of_living_index": 3,
          "wife_age": 25,
          "wife_education": 2,
          "wife_religion": 1
         },
         {
          "contraceptive_method_used": 1,
          "standard_of_living_index": 3,
          "wife_age": 24,
          "wife_education": 3,
          "wife_religion": 1
         },
         {
          "contraceptive_method_used": 3,
          "standard_of_living_index": 4,
          "wife_age": 32,
          "wife_education": 3,
          "wife_religion": 0
         },
         {
          "contraceptive_method_used": 3,
          "standard_of_living_index": 2,
          "wife_age": 23,
          "wife_education": 1,
          "wife_religion": 1
         },
         {
          "contraceptive_method_used": 3,
          "standard_of_living_index": 4,
          "wife_age": 35,
          "wife_education": 4,
          "wife_religion": 1
         },
         {
          "contraceptive_method_used": 2,
          "standard_of_living_index": 4,
          "wife_age": 27,
          "wife_education": 4,
          "wife_religion": 1
         },
         {
          "contraceptive_method_used": 2,
          "standard_of_living_index": 3,
          "wife_age": 28,
          "wife_education": 2,
          "wife_religion": 1
         },
         {
          "contraceptive_method_used": 1,
          "standard_of_living_index": 3,
          "wife_age": 33,
          "wife_education": 4,
          "wife_religion": 1
         },
         {
          "contraceptive_method_used": 2,
          "standard_of_living_index": 4,
          "wife_age": 36,
          "wife_education": 4,
          "wife_religion": 1
         },
         {
          "contraceptive_method_used": 3,
          "standard_of_living_index": 3,
          "wife_age": 33,
          "wife_education": 4,
          "wife_religion": 1
         },
         {
          "contraceptive_method_used": 2,
          "standard_of_living_index": 4,
          "wife_age": 37,
          "wife_education": 4,
          "wife_religion": 1
         },
         {
          "contraceptive_method_used": 1,
          "standard_of_living_index": 4,
          "wife_age": 23,
          "wife_education": 3,
          "wife_religion": 1
         },
         {
          "contraceptive_method_used": 1,
          "standard_of_living_index": 3,
          "wife_age": 28,
          "wife_education": 4,
          "wife_religion": 1
         },
         {
          "contraceptive_method_used": 1,
          "standard_of_living_index": 3,
          "wife_age": 22,
          "wife_education": 4,
          "wife_religion": 1
         },
         {
          "contraceptive_method_used": 1,
          "standard_of_living_index": 4,
          "wife_age": 29,
          "wife_education": 3,
          "wife_religion": 1
         },
         {
          "contraceptive_method_used": 2,
          "standard_of_living_index": 4,
          "wife_age": 21,
          "wife_education": 4,
          "wife_religion": 1
         },
         {
          "contraceptive_method_used": 1,
          "standard_of_living_index": 3,
          "wife_age": 20,
          "wife_education": 3,
          "wife_religion": 1
         },
         {
          "contraceptive_method_used": 3,
          "standard_of_living_index": 4,
          "wife_age": 35,
          "wife_education": 4,
          "wife_religion": 1
         },
         {
          "contraceptive_method_used": 2,
          "standard_of_living_index": 2,
          "wife_age": 44,
          "wife_education": 3,
          "wife_religion": 1
         },
         {
          "contraceptive_method_used": 1,
          "standard_of_living_index": 3,
          "wife_age": 42,
          "wife_education": 3,
          "wife_religion": 1
         },
         {
          "contraceptive_method_used": 3,
          "standard_of_living_index": 2,
          "wife_age": 30,
          "wife_education": 4,
          "wife_religion": 1
         },
         {
          "contraceptive_method_used": 2,
          "standard_of_living_index": 4,
          "wife_age": 36,
          "wife_education": 4,
          "wife_religion": 0
         },
         {
          "contraceptive_method_used": 3,
          "standard_of_living_index": 4,
          "wife_age": 43,
          "wife_education": 4,
          "wife_religion": 1
         },
         {
          "contraceptive_method_used": 1,
          "standard_of_living_index": 4,
          "wife_age": 20,
          "wife_education": 4,
          "wife_religion": 1
         },
         {
          "contraceptive_method_used": 1,
          "standard_of_living_index": 3,
          "wife_age": 20,
          "wife_education": 3,
          "wife_religion": 1
         },
         {
          "contraceptive_method_used": 2,
          "standard_of_living_index": 3,
          "wife_age": 30,
          "wife_education": 4,
          "wife_religion": 1
         },
         {
          "contraceptive_method_used": 1,
          "standard_of_living_index": 4,
          "wife_age": 23,
          "wife_education": 4,
          "wife_religion": 0
         },
         {
          "contraceptive_method_used": 1,
          "standard_of_living_index": 1,
          "wife_age": 25,
          "wife_education": 3,
          "wife_religion": 1
         },
         {
          "contraceptive_method_used": 3,
          "standard_of_living_index": 3,
          "wife_age": 17,
          "wife_education": 3,
          "wife_religion": 1
         },
         {
          "contraceptive_method_used": 3,
          "standard_of_living_index": 4,
          "wife_age": 27,
          "wife_education": 2,
          "wife_religion": 1
         },
         {
          "contraceptive_method_used": 1,
          "standard_of_living_index": 4,
          "wife_age": 49,
          "wife_education": 4,
          "wife_religion": 0
         },
         {
          "contraceptive_method_used": 2,
          "standard_of_living_index": 2,
          "wife_age": 36,
          "wife_education": 3,
          "wife_religion": 1
         },
         {
          "contraceptive_method_used": 3,
          "standard_of_living_index": 4,
          "wife_age": 32,
          "wife_education": 2,
          "wife_religion": 1
         },
         {
          "contraceptive_method_used": 2,
          "standard_of_living_index": 2,
          "wife_age": 20,
          "wife_education": 3,
          "wife_religion": 1
         },
         {
          "contraceptive_method_used": 2,
          "standard_of_living_index": 4,
          "wife_age": 34,
          "wife_education": 4,
          "wife_religion": 1
         },
         {
          "contraceptive_method_used": 3,
          "standard_of_living_index": 3,
          "wife_age": 22,
          "wife_education": 4,
          "wife_religion": 1
         },
         {
          "contraceptive_method_used": 3,
          "standard_of_living_index": 1,
          "wife_age": 36,
          "wife_education": 1,
          "wife_religion": 1
         },
         {
          "contraceptive_method_used": 1,
          "standard_of_living_index": 4,
          "wife_age": 33,
          "wife_education": 3,
          "wife_religion": 1
         },
         {
          "contraceptive_method_used": 2,
          "standard_of_living_index": 2,
          "wife_age": 21,
          "wife_education": 2,
          "wife_religion": 1
         },
         {
          "contraceptive_method_used": 1,
          "standard_of_living_index": 4,
          "wife_age": 26,
          "wife_education": 2,
          "wife_religion": 1
         },
         {
          "contraceptive_method_used": 3,
          "standard_of_living_index": 3,
          "wife_age": 31,
          "wife_education": 3,
          "wife_religion": 1
         },
         {
          "contraceptive_method_used": 1,
          "standard_of_living_index": 4,
          "wife_age": 25,
          "wife_education": 2,
          "wife_religion": 1
         },
         {
          "contraceptive_method_used": 2,
          "standard_of_living_index": 3,
          "wife_age": 23,
          "wife_education": 4,
          "wife_religion": 1
         },
         {
          "contraceptive_method_used": 1,
          "standard_of_living_index": 3,
          "wife_age": 36,
          "wife_education": 4,
          "wife_religion": 1
         },
         {
          "contraceptive_method_used": 1,
          "standard_of_living_index": 3,
          "wife_age": 33,
          "wife_education": 4,
          "wife_religion": 1
         },
         {
          "contraceptive_method_used": 3,
          "standard_of_living_index": 4,
          "wife_age": 32,
          "wife_education": 4,
          "wife_religion": 0
         },
         {
          "contraceptive_method_used": 1,
          "standard_of_living_index": 4,
          "wife_age": 22,
          "wife_education": 3,
          "wife_religion": 1
         },
         {
          "contraceptive_method_used": 1,
          "standard_of_living_index": 3,
          "wife_age": 37,
          "wife_education": 2,
          "wife_religion": 1
         },
         {
          "contraceptive_method_used": 3,
          "standard_of_living_index": 4,
          "wife_age": 17,
          "wife_education": 3,
          "wife_religion": 1
         },
         {
          "contraceptive_method_used": 3,
          "standard_of_living_index": 4,
          "wife_age": 27,
          "wife_education": 4,
          "wife_religion": 1
         },
         {
          "contraceptive_method_used": 1,
          "standard_of_living_index": 2,
          "wife_age": 45,
          "wife_education": 1,
          "wife_religion": 1
         },
         {
          "contraceptive_method_used": 1,
          "standard_of_living_index": 4,
          "wife_age": 42,
          "wife_education": 2,
          "wife_religion": 1
         },
         {
          "contraceptive_method_used": 1,
          "standard_of_living_index": 4,
          "wife_age": 25,
          "wife_education": 4,
          "wife_religion": 1
         },
         {
          "contraceptive_method_used": 2,
          "standard_of_living_index": 3,
          "wife_age": 31,
          "wife_education": 2,
          "wife_religion": 1
         },
         {
          "contraceptive_method_used": 2,
          "standard_of_living_index": 3,
          "wife_age": 31,
          "wife_education": 3,
          "wife_religion": 1
         },
         {
          "contraceptive_method_used": 1,
          "standard_of_living_index": 3,
          "wife_age": 45,
          "wife_education": 4,
          "wife_religion": 1
         },
         {
          "contraceptive_method_used": 3,
          "standard_of_living_index": 2,
          "wife_age": 47,
          "wife_education": 4,
          "wife_religion": 1
         },
         {
          "contraceptive_method_used": 3,
          "standard_of_living_index": 3,
          "wife_age": 26,
          "wife_education": 3,
          "wife_religion": 1
         },
         {
          "contraceptive_method_used": 3,
          "standard_of_living_index": 4,
          "wife_age": 28,
          "wife_education": 3,
          "wife_religion": 1
         },
         {
          "contraceptive_method_used": 2,
          "standard_of_living_index": 4,
          "wife_age": 41,
          "wife_education": 4,
          "wife_religion": 0
         },
         {
          "contraceptive_method_used": 3,
          "standard_of_living_index": 3,
          "wife_age": 26,
          "wife_education": 2,
          "wife_religion": 1
         },
         {
          "contraceptive_method_used": 3,
          "standard_of_living_index": 4,
          "wife_age": 29,
          "wife_education": 4,
          "wife_religion": 1
         },
         {
          "contraceptive_method_used": 2,
          "standard_of_living_index": 4,
          "wife_age": 29,
          "wife_education": 4,
          "wife_religion": 1
         },
         {
          "contraceptive_method_used": 1,
          "standard_of_living_index": 2,
          "wife_age": 24,
          "wife_education": 4,
          "wife_religion": 1
         },
         {
          "contraceptive_method_used": 3,
          "standard_of_living_index": 2,
          "wife_age": 23,
          "wife_education": 3,
          "wife_religion": 1
         },
         {
          "contraceptive_method_used": 1,
          "standard_of_living_index": 2,
          "wife_age": 48,
          "wife_education": 1,
          "wife_religion": 1
         },
         {
          "contraceptive_method_used": 3,
          "standard_of_living_index": 2,
          "wife_age": 36,
          "wife_education": 2,
          "wife_religion": 1
         },
         {
          "contraceptive_method_used": 1,
          "standard_of_living_index": 2,
          "wife_age": 38,
          "wife_education": 2,
          "wife_religion": 1
         },
         {
          "contraceptive_method_used": 1,
          "standard_of_living_index": 2,
          "wife_age": 37,
          "wife_education": 3,
          "wife_religion": 1
         },
         {
          "contraceptive_method_used": 1,
          "standard_of_living_index": 1,
          "wife_age": 27,
          "wife_education": 2,
          "wife_religion": 1
         },
         {
          "contraceptive_method_used": 1,
          "standard_of_living_index": 4,
          "wife_age": 43,
          "wife_education": 3,
          "wife_religion": 0
         },
         {
          "contraceptive_method_used": 1,
          "standard_of_living_index": 1,
          "wife_age": 26,
          "wife_education": 1,
          "wife_religion": 1
         },
         {
          "contraceptive_method_used": 2,
          "standard_of_living_index": 2,
          "wife_age": 40,
          "wife_education": 2,
          "wife_religion": 1
         },
         {
          "contraceptive_method_used": 2,
          "standard_of_living_index": 3,
          "wife_age": 40,
          "wife_education": 4,
          "wife_religion": 1
         },
         {
          "contraceptive_method_used": 3,
          "standard_of_living_index": 4,
          "wife_age": 39,
          "wife_education": 3,
          "wife_religion": 1
         },
         {
          "contraceptive_method_used": 1,
          "standard_of_living_index": 4,
          "wife_age": 28,
          "wife_education": 2,
          "wife_religion": 1
         },
         {
          "contraceptive_method_used": 1,
          "standard_of_living_index": 2,
          "wife_age": 30,
          "wife_education": 2,
          "wife_religion": 1
         },
         {
          "contraceptive_method_used": 1,
          "standard_of_living_index": 4,
          "wife_age": 43,
          "wife_education": 2,
          "wife_religion": 1
         },
         {
          "contraceptive_method_used": 2,
          "standard_of_living_index": 3,
          "wife_age": 26,
          "wife_education": 2,
          "wife_religion": 1
         },
         {
          "contraceptive_method_used": 1,
          "standard_of_living_index": 3,
          "wife_age": 28,
          "wife_education": 3,
          "wife_religion": 1
         },
         {
          "contraceptive_method_used": 2,
          "standard_of_living_index": 4,
          "wife_age": 28,
          "wife_education": 4,
          "wife_religion": 0
         },
         {
          "contraceptive_method_used": 2,
          "standard_of_living_index": 4,
          "wife_age": 41,
          "wife_education": 4,
          "wife_religion": 0
         },
         {
          "contraceptive_method_used": 2,
          "standard_of_living_index": 3,
          "wife_age": 37,
          "wife_education": 3,
          "wife_religion": 1
         },
         {
          "contraceptive_method_used": 2,
          "standard_of_living_index": 4,
          "wife_age": 26,
          "wife_education": 3,
          "wife_religion": 1
         },
         {
          "contraceptive_method_used": 3,
          "standard_of_living_index": 1,
          "wife_age": 22,
          "wife_education": 1,
          "wife_religion": 1
         },
         {
          "contraceptive_method_used": 3,
          "standard_of_living_index": 4,
          "wife_age": 22,
          "wife_education": 4,
          "wife_religion": 1
         },
         {
          "contraceptive_method_used": 3,
          "standard_of_living_index": 4,
          "wife_age": 42,
          "wife_education": 4,
          "wife_religion": 0
         },
         {
          "contraceptive_method_used": 1,
          "standard_of_living_index": 3,
          "wife_age": 32,
          "wife_education": 3,
          "wife_religion": 1
         },
         {
          "contraceptive_method_used": 1,
          "standard_of_living_index": 4,
          "wife_age": 47,
          "wife_education": 4,
          "wife_religion": 1
         },
         {
          "contraceptive_method_used": 3,
          "standard_of_living_index": 2,
          "wife_age": 17,
          "wife_education": 2,
          "wife_religion": 1
         },
         {
          "contraceptive_method_used": 1,
          "standard_of_living_index": 2,
          "wife_age": 29,
          "wife_education": 2,
          "wife_religion": 1
         },
         {
          "contraceptive_method_used": 1,
          "standard_of_living_index": 4,
          "wife_age": 45,
          "wife_education": 4,
          "wife_religion": 1
         },
         {
          "contraceptive_method_used": 2,
          "standard_of_living_index": 4,
          "wife_age": 47,
          "wife_education": 1,
          "wife_religion": 1
         },
         {
          "contraceptive_method_used": 1,
          "standard_of_living_index": 3,
          "wife_age": 31,
          "wife_education": 2,
          "wife_religion": 1
         },
         {
          "contraceptive_method_used": 1,
          "standard_of_living_index": 3,
          "wife_age": 41,
          "wife_education": 2,
          "wife_religion": 1
         },
         {
          "contraceptive_method_used": 2,
          "standard_of_living_index": 3,
          "wife_age": 26,
          "wife_education": 3,
          "wife_religion": 1
         },
         {
          "contraceptive_method_used": 1,
          "standard_of_living_index": 4,
          "wife_age": 45,
          "wife_education": 4,
          "wife_religion": 1
         },
         {
          "contraceptive_method_used": 1,
          "standard_of_living_index": 1,
          "wife_age": 22,
          "wife_education": 4,
          "wife_religion": 1
         },
         {
          "contraceptive_method_used": 1,
          "standard_of_living_index": 2,
          "wife_age": 24,
          "wife_education": 3,
          "wife_religion": 1
         },
         {
          "contraceptive_method_used": 1,
          "standard_of_living_index": 3,
          "wife_age": 30,
          "wife_education": 3,
          "wife_religion": 0
         },
         {
          "contraceptive_method_used": 3,
          "standard_of_living_index": 3,
          "wife_age": 35,
          "wife_education": 2,
          "wife_religion": 1
         },
         {
          "contraceptive_method_used": 3,
          "standard_of_living_index": 3,
          "wife_age": 36,
          "wife_education": 1,
          "wife_religion": 1
         },
         {
          "contraceptive_method_used": 3,
          "standard_of_living_index": 4,
          "wife_age": 38,
          "wife_education": 4,
          "wife_religion": 1
         }
        ]
       },
       "encoding": {
        "color": {
         "field": "wife_religion",
         "legend": {
          "title": "Religion"
         },
         "type": "quantitative"
        },
        "x": {
         "field": "contraceptive_method_used",
         "title": "Contraceptive method used",
         "type": "quantitative"
        },
        "y": {
         "aggregate": "count",
         "title": "Number of records",
         "type": "quantitative"
        }
       },
       "mark": {
        "size": 10,
        "type": "bar"
       },
       "title": "Distribution of Religion For Each Method of Contraception Used",
       "width": 100
      },
      "text/plain": [
       "<VegaLite 4 object>\n",
       "\n",
       "If you see this message, it means the renderer has not been properly enabled\n",
       "for the frontend that you are using. For more information, see\n",
       "https://altair-viz.github.io/user_guide/troubleshooting.html\n"
      ]
     },
     "execution_count": 21,
     "metadata": {},
     "output_type": "execute_result"
    }
   ],
   "source": [
    "wife_religion_correlation = alt.Chart(cmc_train, title = \"Distribution of Religion For Each Method of Contraception Used\").mark_bar(size=10).encode(\n",
    "    x = alt.X(\"contraceptive_method_used\", title = \"Contraceptive method used\"),\n",
    "    y = alt.Y(\"count()\", title = \"Number of records\"),\n",
    "    color = alt.Color(\"wife_religion\", legend=alt.Legend(title=\"Religion\"))\n",
    ").properties(width=100)\n",
    "wife_religion_correlation"
   ]
  },
  {
   "attachments": {},
   "cell_type": "markdown",
   "metadata": {},
   "source": [
    "From the graph, we can see that the greater number of women surveyed were religious and used no method of contraception. However, when focusing on the invididual bars, the distribution of religion and non-religious women for each method of contraception does not differ greatly. "
   ]
  },
  {
   "attachments": {},
   "cell_type": "markdown",
   "metadata": {},
   "source": [
    "#### References\n",
    "\n",
    "Hefner, R. W. (2020). Islam and covenantal pluralism in Indonesia: A critical juncture analysis. The Review of Faith & International Affairs, 18(2), 1-17.\n",
    "\n",
    "Hill, N. J., Siwatu, M., & Robinson, A. K. (2014). “My religion picked my birth control”: The influence of religion on contraceptive use. Journal of religion and health, 53, 825-833.\n",
    "\n",
    "Iseyemi, A., Zhao, Q., McNicholas, C., & Peipert, J. F. (2017). Socioeconomic status as a risk factor for unintended pregnancy in the contraceptive CHOICE project. Obstetrics and gynecology, 130(3), 609.\n",
    "\n",
    "Lim, T. (1997). UCI Machine Learning Repository [http://archive.ics.uci.edu/ml]. Irvine, CA: University of California, School of Information and Computer Science.\n",
    "\n",
    "Sámano, R., Martínez-Rojano, H., Chico-Barba, G., Sánchez-Jiménez, B., Sam-Soto, S., Rodríguez-Ventura, A. L., ... & Sclavo-Melo, S. (2019). Sociodemographic factors associated with the knowledge and use of birth control methods in adolescents before and after pregnancy. International journal of environmental research and public health, 16(6), 1022.\n"
   ]
  },
  {
   "attachments": {},
   "cell_type": "markdown",
   "metadata": {},
   "source": []
  },
  {
   "cell_type": "code",
   "execution_count": null,
   "metadata": {},
   "outputs": [],
   "source": []
  }
 ],
 "metadata": {
  "kernelspec": {
   "display_name": "Python 3 (ipykernel)",
   "language": "python",
   "name": "python3"
  },
  "language_info": {
   "codemirror_mode": {
    "name": "ipython",
    "version": 3
   },
   "file_extension": ".py",
   "mimetype": "text/x-python",
   "name": "python",
   "nbconvert_exporter": "python",
   "pygments_lexer": "ipython3",
   "version": "3.9.12"
  },
  "vscode": {
   "interpreter": {
    "hash": "1b287bfc4bc62216e94f1ce7ec6562cda326ab241add07299d3b54ca651f2698"
   }
  }
 },
 "nbformat": 4,
 "nbformat_minor": 4
}
