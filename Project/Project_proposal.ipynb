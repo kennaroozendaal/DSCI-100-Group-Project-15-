{
 "cells": [
  {
   "cell_type": "markdown",
   "metadata": {},
   "source": [
    "## Group 15 - Group Project"
   ]
  },
  {
   "cell_type": "markdown",
   "metadata": {},
   "source": [
    "**Question:** Given the wife's age, religion, and standard of living, what is the preferred contraceptive method used?"
   ]
  },
  {
   "attachments": {},
   "cell_type": "markdown",
   "metadata": {},
   "source": [
    "We first want to load the csv file into a dataframe so that we can better visualize the data. Appropriate headers are added and only the columns that have variables that are not related to the question are removed."
   ]
  },
  {
   "cell_type": "code",
   "execution_count": 8,
   "metadata": {},
   "outputs": [
    {
     "data": {
      "text/plain": [
       "RendererRegistry.enable('mimetype')"
      ]
     },
     "execution_count": 8,
     "metadata": {},
     "output_type": "execute_result"
    }
   ],
   "source": [
    "import altair as alt\n",
    "import numpy as np\n",
    "import pandas as pd\n",
    "import sklearn\n",
    "from sklearn.compose import make_column_transformer\n",
    "from sklearn.metrics import confusion_matrix\n",
    "from sklearn.metrics.pairwise import euclidean_distances\n",
    "from sklearn.model_selection import (\n",
    "    GridSearchCV,\n",
    "    RandomizedSearchCV,\n",
    "    cross_validate,\n",
    "    train_test_split,\n",
    ")\n",
    "from sklearn.neighbors import KNeighborsClassifier\n",
    "from sklearn.pipeline import Pipeline, make_pipeline\n",
    "from sklearn.preprocessing import OneHotEncoder, StandardScaler\n",
    "\n",
    "alt.data_transformers.disable_max_rows()\n",
    "alt.renderers.enable(\"mimetype\")"
   ]
  },
  {
   "cell_type": "code",
   "execution_count": 3,
   "metadata": {},
   "outputs": [
    {
     "data": {
      "text/html": [
       "<div>\n",
       "<style scoped>\n",
       "    .dataframe tbody tr th:only-of-type {\n",
       "        vertical-align: middle;\n",
       "    }\n",
       "\n",
       "    .dataframe tbody tr th {\n",
       "        vertical-align: top;\n",
       "    }\n",
       "\n",
       "    .dataframe thead th {\n",
       "        text-align: right;\n",
       "    }\n",
       "</style>\n",
       "<table border=\"1\" class=\"dataframe\">\n",
       "  <thead>\n",
       "    <tr style=\"text-align: right;\">\n",
       "      <th></th>\n",
       "      <th>wife_age</th>\n",
       "      <th>wife_education</th>\n",
       "      <th>husband_education</th>\n",
       "      <th>num_children_born</th>\n",
       "      <th>wife_religion</th>\n",
       "      <th>wife_working</th>\n",
       "      <th>husband_occupation</th>\n",
       "      <th>standard_of_living_index</th>\n",
       "      <th>media_exposure</th>\n",
       "      <th>contraceptive_method_used</th>\n",
       "    </tr>\n",
       "  </thead>\n",
       "  <tbody>\n",
       "    <tr>\n",
       "      <th>0</th>\n",
       "      <td>24</td>\n",
       "      <td>2</td>\n",
       "      <td>3</td>\n",
       "      <td>3</td>\n",
       "      <td>1</td>\n",
       "      <td>1</td>\n",
       "      <td>2</td>\n",
       "      <td>3</td>\n",
       "      <td>0</td>\n",
       "      <td>1</td>\n",
       "    </tr>\n",
       "    <tr>\n",
       "      <th>1</th>\n",
       "      <td>45</td>\n",
       "      <td>1</td>\n",
       "      <td>3</td>\n",
       "      <td>10</td>\n",
       "      <td>1</td>\n",
       "      <td>1</td>\n",
       "      <td>3</td>\n",
       "      <td>4</td>\n",
       "      <td>0</td>\n",
       "      <td>1</td>\n",
       "    </tr>\n",
       "    <tr>\n",
       "      <th>2</th>\n",
       "      <td>43</td>\n",
       "      <td>2</td>\n",
       "      <td>3</td>\n",
       "      <td>7</td>\n",
       "      <td>1</td>\n",
       "      <td>1</td>\n",
       "      <td>3</td>\n",
       "      <td>4</td>\n",
       "      <td>0</td>\n",
       "      <td>1</td>\n",
       "    </tr>\n",
       "    <tr>\n",
       "      <th>3</th>\n",
       "      <td>42</td>\n",
       "      <td>3</td>\n",
       "      <td>2</td>\n",
       "      <td>9</td>\n",
       "      <td>1</td>\n",
       "      <td>1</td>\n",
       "      <td>3</td>\n",
       "      <td>3</td>\n",
       "      <td>0</td>\n",
       "      <td>1</td>\n",
       "    </tr>\n",
       "    <tr>\n",
       "      <th>4</th>\n",
       "      <td>36</td>\n",
       "      <td>3</td>\n",
       "      <td>3</td>\n",
       "      <td>8</td>\n",
       "      <td>1</td>\n",
       "      <td>1</td>\n",
       "      <td>3</td>\n",
       "      <td>2</td>\n",
       "      <td>0</td>\n",
       "      <td>1</td>\n",
       "    </tr>\n",
       "    <tr>\n",
       "      <th>...</th>\n",
       "      <td>...</td>\n",
       "      <td>...</td>\n",
       "      <td>...</td>\n",
       "      <td>...</td>\n",
       "      <td>...</td>\n",
       "      <td>...</td>\n",
       "      <td>...</td>\n",
       "      <td>...</td>\n",
       "      <td>...</td>\n",
       "      <td>...</td>\n",
       "    </tr>\n",
       "    <tr>\n",
       "      <th>1468</th>\n",
       "      <td>33</td>\n",
       "      <td>4</td>\n",
       "      <td>4</td>\n",
       "      <td>2</td>\n",
       "      <td>1</td>\n",
       "      <td>0</td>\n",
       "      <td>2</td>\n",
       "      <td>4</td>\n",
       "      <td>0</td>\n",
       "      <td>3</td>\n",
       "    </tr>\n",
       "    <tr>\n",
       "      <th>1469</th>\n",
       "      <td>33</td>\n",
       "      <td>4</td>\n",
       "      <td>4</td>\n",
       "      <td>3</td>\n",
       "      <td>1</td>\n",
       "      <td>1</td>\n",
       "      <td>1</td>\n",
       "      <td>4</td>\n",
       "      <td>0</td>\n",
       "      <td>3</td>\n",
       "    </tr>\n",
       "    <tr>\n",
       "      <th>1470</th>\n",
       "      <td>39</td>\n",
       "      <td>3</td>\n",
       "      <td>3</td>\n",
       "      <td>8</td>\n",
       "      <td>1</td>\n",
       "      <td>0</td>\n",
       "      <td>1</td>\n",
       "      <td>4</td>\n",
       "      <td>0</td>\n",
       "      <td>3</td>\n",
       "    </tr>\n",
       "    <tr>\n",
       "      <th>1471</th>\n",
       "      <td>33</td>\n",
       "      <td>3</td>\n",
       "      <td>3</td>\n",
       "      <td>4</td>\n",
       "      <td>1</td>\n",
       "      <td>0</td>\n",
       "      <td>2</td>\n",
       "      <td>2</td>\n",
       "      <td>0</td>\n",
       "      <td>3</td>\n",
       "    </tr>\n",
       "    <tr>\n",
       "      <th>1472</th>\n",
       "      <td>17</td>\n",
       "      <td>3</td>\n",
       "      <td>3</td>\n",
       "      <td>1</td>\n",
       "      <td>1</td>\n",
       "      <td>1</td>\n",
       "      <td>2</td>\n",
       "      <td>4</td>\n",
       "      <td>0</td>\n",
       "      <td>3</td>\n",
       "    </tr>\n",
       "  </tbody>\n",
       "</table>\n",
       "<p>1473 rows × 10 columns</p>\n",
       "</div>"
      ],
      "text/plain": [
       "      wife_age  wife_education  husband_education  num_children_born  \\\n",
       "0           24               2                  3                  3   \n",
       "1           45               1                  3                 10   \n",
       "2           43               2                  3                  7   \n",
       "3           42               3                  2                  9   \n",
       "4           36               3                  3                  8   \n",
       "...        ...             ...                ...                ...   \n",
       "1468        33               4                  4                  2   \n",
       "1469        33               4                  4                  3   \n",
       "1470        39               3                  3                  8   \n",
       "1471        33               3                  3                  4   \n",
       "1472        17               3                  3                  1   \n",
       "\n",
       "      wife_religion  wife_working  husband_occupation  \\\n",
       "0                 1             1                   2   \n",
       "1                 1             1                   3   \n",
       "2                 1             1                   3   \n",
       "3                 1             1                   3   \n",
       "4                 1             1                   3   \n",
       "...             ...           ...                 ...   \n",
       "1468              1             0                   2   \n",
       "1469              1             1                   1   \n",
       "1470              1             0                   1   \n",
       "1471              1             0                   2   \n",
       "1472              1             1                   2   \n",
       "\n",
       "      standard_of_living_index  media_exposure  contraceptive_method_used  \n",
       "0                            3               0                          1  \n",
       "1                            4               0                          1  \n",
       "2                            4               0                          1  \n",
       "3                            3               0                          1  \n",
       "4                            2               0                          1  \n",
       "...                        ...             ...                        ...  \n",
       "1468                         4               0                          3  \n",
       "1469                         4               0                          3  \n",
       "1470                         4               0                          3  \n",
       "1471                         2               0                          3  \n",
       "1472                         4               0                          3  \n",
       "\n",
       "[1473 rows x 10 columns]"
      ]
     },
     "execution_count": 3,
     "metadata": {},
     "output_type": "execute_result"
    }
   ],
   "source": [
    "cmc_dataset = pd.read_csv(\"data/cmc.data.csv\", header=None,\n",
    "                     names=[\n",
    "                         \"wife_age\", \n",
    "                         \"wife_education\", #1=low 2,3,4=high\n",
    "                         \"husband_education\", #1=low 2,3,4=high\n",
    "                         \"num_children_born\",\n",
    "                         \"wife_religion\", #0=not Islam 1=Islam\n",
    "                         \"wife_working\", #0=yes 1=no\n",
    "                         \"husband_occupation\", #1,2,3,4 (categorical)\n",
    "                         \"standard_of_living_index\", #1=low 2,3,4=high\n",
    "                         \"media_exposure\", #0=good 1=not good\n",
    "                         \"contraceptive_method_used\", #1= no use 2=long-term 3=short-term\n",
    "                     ]\n",
    "                     )\n",
    "cmc_dataset"
   ]
  },
  {
   "cell_type": "code",
   "execution_count": 5,
   "metadata": {},
   "outputs": [
    {
     "data": {
      "text/html": [
       "<div>\n",
       "<style scoped>\n",
       "    .dataframe tbody tr th:only-of-type {\n",
       "        vertical-align: middle;\n",
       "    }\n",
       "\n",
       "    .dataframe tbody tr th {\n",
       "        vertical-align: top;\n",
       "    }\n",
       "\n",
       "    .dataframe thead th {\n",
       "        text-align: right;\n",
       "    }\n",
       "</style>\n",
       "<table border=\"1\" class=\"dataframe\">\n",
       "  <thead>\n",
       "    <tr style=\"text-align: right;\">\n",
       "      <th></th>\n",
       "      <th>wife_age</th>\n",
       "      <th>wife_education</th>\n",
       "      <th>wife_religion</th>\n",
       "      <th>standard_of_living_index</th>\n",
       "      <th>contraceptive_method_used</th>\n",
       "    </tr>\n",
       "  </thead>\n",
       "  <tbody>\n",
       "    <tr>\n",
       "      <th>0</th>\n",
       "      <td>24</td>\n",
       "      <td>2</td>\n",
       "      <td>1</td>\n",
       "      <td>3</td>\n",
       "      <td>1</td>\n",
       "    </tr>\n",
       "    <tr>\n",
       "      <th>1</th>\n",
       "      <td>45</td>\n",
       "      <td>1</td>\n",
       "      <td>1</td>\n",
       "      <td>4</td>\n",
       "      <td>1</td>\n",
       "    </tr>\n",
       "    <tr>\n",
       "      <th>2</th>\n",
       "      <td>43</td>\n",
       "      <td>2</td>\n",
       "      <td>1</td>\n",
       "      <td>4</td>\n",
       "      <td>1</td>\n",
       "    </tr>\n",
       "    <tr>\n",
       "      <th>3</th>\n",
       "      <td>42</td>\n",
       "      <td>3</td>\n",
       "      <td>1</td>\n",
       "      <td>3</td>\n",
       "      <td>1</td>\n",
       "    </tr>\n",
       "    <tr>\n",
       "      <th>4</th>\n",
       "      <td>36</td>\n",
       "      <td>3</td>\n",
       "      <td>1</td>\n",
       "      <td>2</td>\n",
       "      <td>1</td>\n",
       "    </tr>\n",
       "    <tr>\n",
       "      <th>...</th>\n",
       "      <td>...</td>\n",
       "      <td>...</td>\n",
       "      <td>...</td>\n",
       "      <td>...</td>\n",
       "      <td>...</td>\n",
       "    </tr>\n",
       "    <tr>\n",
       "      <th>1468</th>\n",
       "      <td>33</td>\n",
       "      <td>4</td>\n",
       "      <td>1</td>\n",
       "      <td>4</td>\n",
       "      <td>3</td>\n",
       "    </tr>\n",
       "    <tr>\n",
       "      <th>1469</th>\n",
       "      <td>33</td>\n",
       "      <td>4</td>\n",
       "      <td>1</td>\n",
       "      <td>4</td>\n",
       "      <td>3</td>\n",
       "    </tr>\n",
       "    <tr>\n",
       "      <th>1470</th>\n",
       "      <td>39</td>\n",
       "      <td>3</td>\n",
       "      <td>1</td>\n",
       "      <td>4</td>\n",
       "      <td>3</td>\n",
       "    </tr>\n",
       "    <tr>\n",
       "      <th>1471</th>\n",
       "      <td>33</td>\n",
       "      <td>3</td>\n",
       "      <td>1</td>\n",
       "      <td>2</td>\n",
       "      <td>3</td>\n",
       "    </tr>\n",
       "    <tr>\n",
       "      <th>1472</th>\n",
       "      <td>17</td>\n",
       "      <td>3</td>\n",
       "      <td>1</td>\n",
       "      <td>4</td>\n",
       "      <td>3</td>\n",
       "    </tr>\n",
       "  </tbody>\n",
       "</table>\n",
       "<p>1473 rows × 5 columns</p>\n",
       "</div>"
      ],
      "text/plain": [
       "      wife_age  wife_education  wife_religion  standard_of_living_index  \\\n",
       "0           24               2              1                         3   \n",
       "1           45               1              1                         4   \n",
       "2           43               2              1                         4   \n",
       "3           42               3              1                         3   \n",
       "4           36               3              1                         2   \n",
       "...        ...             ...            ...                       ...   \n",
       "1468        33               4              1                         4   \n",
       "1469        33               4              1                         4   \n",
       "1470        39               3              1                         4   \n",
       "1471        33               3              1                         2   \n",
       "1472        17               3              1                         4   \n",
       "\n",
       "      contraceptive_method_used  \n",
       "0                             1  \n",
       "1                             1  \n",
       "2                             1  \n",
       "3                             1  \n",
       "4                             1  \n",
       "...                         ...  \n",
       "1468                          3  \n",
       "1469                          3  \n",
       "1470                          3  \n",
       "1471                          3  \n",
       "1472                          3  \n",
       "\n",
       "[1473 rows x 5 columns]"
      ]
     },
     "execution_count": 5,
     "metadata": {},
     "output_type": "execute_result"
    }
   ],
   "source": [
    "cmc_dataset_filtered = cmc_dataset.loc[:, [\"wife_age\", \"wife_education\",\"wife_religion\",\"standard_of_living_index\", \"contraceptive_method_used\"]]\n",
    "cmc_dataset_filtered"
   ]
  },
  {
   "attachments": {},
   "cell_type": "markdown",
   "metadata": {},
   "source": [
    "Now we want to split our data into a training and testing set. The preliminary data analysis will be an exploratory analysis that uses data from the training set only. In order to reduce human bias, only the training set will be visualized. For this project, the dataset will be split 75% training and 25% testing. "
   ]
  },
  {
   "cell_type": "code",
   "execution_count": 11,
   "metadata": {},
   "outputs": [
    {
     "data": {
      "text/html": [
       "<div>\n",
       "<style scoped>\n",
       "    .dataframe tbody tr th:only-of-type {\n",
       "        vertical-align: middle;\n",
       "    }\n",
       "\n",
       "    .dataframe tbody tr th {\n",
       "        vertical-align: top;\n",
       "    }\n",
       "\n",
       "    .dataframe thead th {\n",
       "        text-align: right;\n",
       "    }\n",
       "</style>\n",
       "<table border=\"1\" class=\"dataframe\">\n",
       "  <thead>\n",
       "    <tr style=\"text-align: right;\">\n",
       "      <th></th>\n",
       "      <th>wife_age</th>\n",
       "      <th>wife_education</th>\n",
       "      <th>wife_religion</th>\n",
       "      <th>standard_of_living_index</th>\n",
       "      <th>contraceptive_method_used</th>\n",
       "    </tr>\n",
       "  </thead>\n",
       "  <tbody>\n",
       "    <tr>\n",
       "      <th>1208</th>\n",
       "      <td>40</td>\n",
       "      <td>1</td>\n",
       "      <td>1</td>\n",
       "      <td>2</td>\n",
       "      <td>1</td>\n",
       "    </tr>\n",
       "    <tr>\n",
       "      <th>1297</th>\n",
       "      <td>35</td>\n",
       "      <td>4</td>\n",
       "      <td>1</td>\n",
       "      <td>4</td>\n",
       "      <td>2</td>\n",
       "    </tr>\n",
       "    <tr>\n",
       "      <th>736</th>\n",
       "      <td>19</td>\n",
       "      <td>3</td>\n",
       "      <td>1</td>\n",
       "      <td>3</td>\n",
       "      <td>3</td>\n",
       "    </tr>\n",
       "    <tr>\n",
       "      <th>186</th>\n",
       "      <td>20</td>\n",
       "      <td>2</td>\n",
       "      <td>1</td>\n",
       "      <td>2</td>\n",
       "      <td>1</td>\n",
       "    </tr>\n",
       "    <tr>\n",
       "      <th>1027</th>\n",
       "      <td>41</td>\n",
       "      <td>2</td>\n",
       "      <td>0</td>\n",
       "      <td>2</td>\n",
       "      <td>1</td>\n",
       "    </tr>\n",
       "  </tbody>\n",
       "</table>\n",
       "</div>"
      ],
      "text/plain": [
       "      wife_age  wife_education  wife_religion  standard_of_living_index  \\\n",
       "1208        40               1              1                         2   \n",
       "1297        35               4              1                         4   \n",
       "736         19               3              1                         3   \n",
       "186         20               2              1                         2   \n",
       "1027        41               2              0                         2   \n",
       "\n",
       "      contraceptive_method_used  \n",
       "1208                          1  \n",
       "1297                          2  \n",
       "736                           3  \n",
       "186                           1  \n",
       "1027                          1  "
      ]
     },
     "execution_count": 11,
     "metadata": {},
     "output_type": "execute_result"
    }
   ],
   "source": [
    "cmc_train, cmc_test = train_test_split(cmc_dataset_filtered, test_size=0.25, random_state=123)\n",
    "cmc_train.head()"
   ]
  },
  {
   "attachments": {},
   "cell_type": "markdown",
   "metadata": {},
   "source": [
    "Now we want to know how many of each observation is in each class in order to provide the most equal split between different variables to ensure that one observation doesn't have a significantly larger influence on the results. "
   ]
  },
  {
   "cell_type": "code",
   "execution_count": 12,
   "metadata": {},
   "outputs": [
    {
     "name": "stdout",
     "output_type": "stream",
     "text": [
      "<class 'pandas.core.frame.DataFrame'>\n",
      "Int64Index: 1104 entries, 1208 to 1389\n",
      "Data columns (total 5 columns):\n",
      " #   Column                     Non-Null Count  Dtype\n",
      "---  ------                     --------------  -----\n",
      " 0   wife_age                   1104 non-null   int64\n",
      " 1   wife_education             1104 non-null   int64\n",
      " 2   wife_religion              1104 non-null   int64\n",
      " 3   standard_of_living_index   1104 non-null   int64\n",
      " 4   contraceptive_method_used  1104 non-null   int64\n",
      "dtypes: int64(5)\n",
      "memory usage: 51.8 KB\n"
     ]
    }
   ],
   "source": [
    "cmc_train.info()"
   ]
  },
  {
   "cell_type": "code",
   "execution_count": 13,
   "metadata": {},
   "outputs": [],
   "source": [
    "#TODO\n",
    "#Create a table of useful observations about the dataset"
   ]
  },
  {
   "cell_type": "code",
   "execution_count": 26,
   "metadata": {},
   "outputs": [
    {
     "data": {
      "application/vnd.vegalite.v4+json": {
       "$schema": "https://vega.github.io/schema/vega-lite/v4.17.0.json",
       "config": {
        "view": {
         "continuousHeight": 300,
         "continuousWidth": 400
        }
       },
       "data": {
        "name": "data-f15167d60f413a998667f82347f8e248"
       },
       "datasets": {
        "data-f15167d60f413a998667f82347f8e248": [
         {
          "contraceptive_method_used": 1,
          "standard_of_living_index": 2,
          "wife_age": 40,
          "wife_education": 1,
          "wife_religion": 1
         },
         {
          "contraceptive_method_used": 2,
          "standard_of_living_index": 4,
          "wife_age": 35,
          "wife_education": 4,
          "wife_religion": 1
         },
         {
          "contraceptive_method_used": 3,
          "standard_of_living_index": 3,
          "wife_age": 19,
          "wife_education": 3,
          "wife_religion": 1
         },
         {
          "contraceptive_method_used": 1,
          "standard_of_living_index": 2,
          "wife_age": 20,
          "wife_education": 2,
          "wife_religion": 1
         },
         {
          "contraceptive_method_used": 1,
          "standard_of_living_index": 2,
          "wife_age": 41,
          "wife_education": 2,
          "wife_religion": 0
         },
         {
          "contraceptive_method_used": 1,
          "standard_of_living_index": 1,
          "wife_age": 30,
          "wife_education": 2,
          "wife_religion": 1
         },
         {
          "contraceptive_method_used": 3,
          "standard_of_living_index": 3,
          "wife_age": 33,
          "wife_education": 3,
          "wife_religion": 1
         },
         {
          "contraceptive_method_used": 2,
          "standard_of_living_index": 4,
          "wife_age": 48,
          "wife_education": 4,
          "wife_religion": 0
         },
         {
          "contraceptive_method_used": 2,
          "standard_of_living_index": 3,
          "wife_age": 31,
          "wife_education": 4,
          "wife_religion": 0
         },
         {
          "contraceptive_method_used": 1,
          "standard_of_living_index": 4,
          "wife_age": 25,
          "wife_education": 4,
          "wife_religion": 1
         },
         {
          "contraceptive_method_used": 1,
          "standard_of_living_index": 1,
          "wife_age": 26,
          "wife_education": 2,
          "wife_religion": 1
         },
         {
          "contraceptive_method_used": 3,
          "standard_of_living_index": 3,
          "wife_age": 38,
          "wife_education": 4,
          "wife_religion": 1
         },
         {
          "contraceptive_method_used": 3,
          "standard_of_living_index": 3,
          "wife_age": 28,
          "wife_education": 4,
          "wife_religion": 1
         },
         {
          "contraceptive_method_used": 3,
          "standard_of_living_index": 3,
          "wife_age": 23,
          "wife_education": 4,
          "wife_religion": 1
         },
         {
          "contraceptive_method_used": 1,
          "standard_of_living_index": 3,
          "wife_age": 42,
          "wife_education": 3,
          "wife_religion": 1
         },
         {
          "contraceptive_method_used": 3,
          "standard_of_living_index": 3,
          "wife_age": 22,
          "wife_education": 2,
          "wife_religion": 1
         },
         {
          "contraceptive_method_used": 3,
          "standard_of_living_index": 4,
          "wife_age": 24,
          "wife_education": 4,
          "wife_religion": 1
         },
         {
          "contraceptive_method_used": 2,
          "standard_of_living_index": 4,
          "wife_age": 26,
          "wife_education": 4,
          "wife_religion": 0
         },
         {
          "contraceptive_method_used": 1,
          "standard_of_living_index": 2,
          "wife_age": 28,
          "wife_education": 3,
          "wife_religion": 1
         },
         {
          "contraceptive_method_used": 1,
          "standard_of_living_index": 4,
          "wife_age": 24,
          "wife_education": 2,
          "wife_religion": 1
         },
         {
          "contraceptive_method_used": 1,
          "standard_of_living_index": 4,
          "wife_age": 30,
          "wife_education": 2,
          "wife_religion": 1
         },
         {
          "contraceptive_method_used": 2,
          "standard_of_living_index": 3,
          "wife_age": 28,
          "wife_education": 4,
          "wife_religion": 1
         },
         {
          "contraceptive_method_used": 3,
          "standard_of_living_index": 4,
          "wife_age": 35,
          "wife_education": 4,
          "wife_religion": 1
         },
         {
          "contraceptive_method_used": 3,
          "standard_of_living_index": 2,
          "wife_age": 23,
          "wife_education": 2,
          "wife_religion": 1
         },
         {
          "contraceptive_method_used": 3,
          "standard_of_living_index": 3,
          "wife_age": 22,
          "wife_education": 4,
          "wife_religion": 1
         },
         {
          "contraceptive_method_used": 2,
          "standard_of_living_index": 3,
          "wife_age": 36,
          "wife_education": 4,
          "wife_religion": 0
         },
         {
          "contraceptive_method_used": 1,
          "standard_of_living_index": 4,
          "wife_age": 28,
          "wife_education": 4,
          "wife_religion": 1
         },
         {
          "contraceptive_method_used": 1,
          "standard_of_living_index": 1,
          "wife_age": 39,
          "wife_education": 1,
          "wife_religion": 1
         },
         {
          "contraceptive_method_used": 2,
          "standard_of_living_index": 4,
          "wife_age": 24,
          "wife_education": 4,
          "wife_religion": 1
         },
         {
          "contraceptive_method_used": 1,
          "standard_of_living_index": 1,
          "wife_age": 17,
          "wife_education": 2,
          "wife_religion": 1
         },
         {
          "contraceptive_method_used": 1,
          "standard_of_living_index": 4,
          "wife_age": 31,
          "wife_education": 3,
          "wife_religion": 1
         },
         {
          "contraceptive_method_used": 1,
          "standard_of_living_index": 4,
          "wife_age": 27,
          "wife_education": 4,
          "wife_religion": 0
         },
         {
          "contraceptive_method_used": 3,
          "standard_of_living_index": 3,
          "wife_age": 26,
          "wife_education": 3,
          "wife_religion": 1
         },
         {
          "contraceptive_method_used": 1,
          "standard_of_living_index": 4,
          "wife_age": 22,
          "wife_education": 4,
          "wife_religion": 1
         },
         {
          "contraceptive_method_used": 2,
          "standard_of_living_index": 3,
          "wife_age": 26,
          "wife_education": 3,
          "wife_religion": 1
         },
         {
          "contraceptive_method_used": 1,
          "standard_of_living_index": 4,
          "wife_age": 45,
          "wife_education": 2,
          "wife_religion": 1
         },
         {
          "contraceptive_method_used": 3,
          "standard_of_living_index": 4,
          "wife_age": 23,
          "wife_education": 4,
          "wife_religion": 1
         },
         {
          "contraceptive_method_used": 1,
          "standard_of_living_index": 3,
          "wife_age": 29,
          "wife_education": 3,
          "wife_religion": 1
         },
         {
          "contraceptive_method_used": 1,
          "standard_of_living_index": 3,
          "wife_age": 23,
          "wife_education": 4,
          "wife_religion": 1
         },
         {
          "contraceptive_method_used": 1,
          "standard_of_living_index": 4,
          "wife_age": 44,
          "wife_education": 1,
          "wife_religion": 1
         },
         {
          "contraceptive_method_used": 1,
          "standard_of_living_index": 3,
          "wife_age": 23,
          "wife_education": 4,
          "wife_religion": 1
         },
         {
          "contraceptive_method_used": 3,
          "standard_of_living_index": 4,
          "wife_age": 28,
          "wife_education": 3,
          "wife_religion": 1
         },
         {
          "contraceptive_method_used": 1,
          "standard_of_living_index": 4,
          "wife_age": 28,
          "wife_education": 4,
          "wife_religion": 0
         },
         {
          "contraceptive_method_used": 1,
          "standard_of_living_index": 3,
          "wife_age": 41,
          "wife_education": 3,
          "wife_religion": 1
         },
         {
          "contraceptive_method_used": 1,
          "standard_of_living_index": 4,
          "wife_age": 23,
          "wife_education": 4,
          "wife_religion": 1
         },
         {
          "contraceptive_method_used": 1,
          "standard_of_living_index": 4,
          "wife_age": 26,
          "wife_education": 4,
          "wife_religion": 1
         },
         {
          "contraceptive_method_used": 3,
          "standard_of_living_index": 4,
          "wife_age": 31,
          "wife_education": 4,
          "wife_religion": 1
         },
         {
          "contraceptive_method_used": 3,
          "standard_of_living_index": 4,
          "wife_age": 34,
          "wife_education": 4,
          "wife_religion": 0
         },
         {
          "contraceptive_method_used": 3,
          "standard_of_living_index": 3,
          "wife_age": 32,
          "wife_education": 1,
          "wife_religion": 1
         },
         {
          "contraceptive_method_used": 3,
          "standard_of_living_index": 4,
          "wife_age": 38,
          "wife_education": 4,
          "wife_religion": 1
         },
         {
          "contraceptive_method_used": 1,
          "standard_of_living_index": 4,
          "wife_age": 27,
          "wife_education": 2,
          "wife_religion": 1
         },
         {
          "contraceptive_method_used": 3,
          "standard_of_living_index": 2,
          "wife_age": 20,
          "wife_education": 2,
          "wife_religion": 1
         },
         {
          "contraceptive_method_used": 1,
          "standard_of_living_index": 4,
          "wife_age": 22,
          "wife_education": 2,
          "wife_religion": 1
         },
         {
          "contraceptive_method_used": 3,
          "standard_of_living_index": 4,
          "wife_age": 44,
          "wife_education": 4,
          "wife_religion": 1
         },
         {
          "contraceptive_method_used": 1,
          "standard_of_living_index": 1,
          "wife_age": 39,
          "wife_education": 2,
          "wife_religion": 1
         },
         {
          "contraceptive_method_used": 2,
          "standard_of_living_index": 4,
          "wife_age": 22,
          "wife_education": 3,
          "wife_religion": 1
         },
         {
          "contraceptive_method_used": 1,
          "standard_of_living_index": 2,
          "wife_age": 42,
          "wife_education": 1,
          "wife_religion": 0
         },
         {
          "contraceptive_method_used": 3,
          "standard_of_living_index": 1,
          "wife_age": 25,
          "wife_education": 3,
          "wife_religion": 1
         },
         {
          "contraceptive_method_used": 1,
          "standard_of_living_index": 4,
          "wife_age": 33,
          "wife_education": 4,
          "wife_religion": 1
         },
         {
          "contraceptive_method_used": 1,
          "standard_of_living_index": 4,
          "wife_age": 23,
          "wife_education": 3,
          "wife_religion": 1
         },
         {
          "contraceptive_method_used": 2,
          "standard_of_living_index": 4,
          "wife_age": 35,
          "wife_education": 4,
          "wife_religion": 0
         },
         {
          "contraceptive_method_used": 1,
          "standard_of_living_index": 1,
          "wife_age": 35,
          "wife_education": 2,
          "wife_religion": 1
         },
         {
          "contraceptive_method_used": 3,
          "standard_of_living_index": 2,
          "wife_age": 18,
          "wife_education": 3,
          "wife_religion": 1
         },
         {
          "contraceptive_method_used": 3,
          "standard_of_living_index": 3,
          "wife_age": 25,
          "wife_education": 2,
          "wife_religion": 1
         },
         {
          "contraceptive_method_used": 1,
          "standard_of_living_index": 1,
          "wife_age": 26,
          "wife_education": 3,
          "wife_religion": 1
         },
         {
          "contraceptive_method_used": 3,
          "standard_of_living_index": 3,
          "wife_age": 39,
          "wife_education": 4,
          "wife_religion": 0
         },
         {
          "contraceptive_method_used": 2,
          "standard_of_living_index": 3,
          "wife_age": 44,
          "wife_education": 4,
          "wife_religion": 0
         },
         {
          "contraceptive_method_used": 2,
          "standard_of_living_index": 4,
          "wife_age": 23,
          "wife_education": 4,
          "wife_religion": 0
         },
         {
          "contraceptive_method_used": 1,
          "standard_of_living_index": 4,
          "wife_age": 48,
          "wife_education": 4,
          "wife_religion": 1
         },
         {
          "contraceptive_method_used": 1,
          "standard_of_living_index": 2,
          "wife_age": 44,
          "wife_education": 2,
          "wife_religion": 1
         },
         {
          "contraceptive_method_used": 3,
          "standard_of_living_index": 1,
          "wife_age": 20,
          "wife_education": 2,
          "wife_religion": 1
         },
         {
          "contraceptive_method_used": 3,
          "standard_of_living_index": 4,
          "wife_age": 27,
          "wife_education": 2,
          "wife_religion": 1
         },
         {
          "contraceptive_method_used": 2,
          "standard_of_living_index": 4,
          "wife_age": 47,
          "wife_education": 4,
          "wife_religion": 1
         },
         {
          "contraceptive_method_used": 3,
          "standard_of_living_index": 1,
          "wife_age": 41,
          "wife_education": 1,
          "wife_religion": 1
         },
         {
          "contraceptive_method_used": 2,
          "standard_of_living_index": 4,
          "wife_age": 40,
          "wife_education": 4,
          "wife_religion": 0
         },
         {
          "contraceptive_method_used": 1,
          "standard_of_living_index": 2,
          "wife_age": 40,
          "wife_education": 3,
          "wife_religion": 1
         },
         {
          "contraceptive_method_used": 1,
          "standard_of_living_index": 2,
          "wife_age": 34,
          "wife_education": 4,
          "wife_religion": 0
         },
         {
          "contraceptive_method_used": 1,
          "standard_of_living_index": 3,
          "wife_age": 47,
          "wife_education": 1,
          "wife_religion": 1
         },
         {
          "contraceptive_method_used": 1,
          "standard_of_living_index": 1,
          "wife_age": 28,
          "wife_education": 1,
          "wife_religion": 1
         },
         {
          "contraceptive_method_used": 2,
          "standard_of_living_index": 4,
          "wife_age": 30,
          "wife_education": 2,
          "wife_religion": 1
         },
         {
          "contraceptive_method_used": 1,
          "standard_of_living_index": 4,
          "wife_age": 44,
          "wife_education": 3,
          "wife_religion": 1
         },
         {
          "contraceptive_method_used": 3,
          "standard_of_living_index": 4,
          "wife_age": 25,
          "wife_education": 4,
          "wife_religion": 1
         },
         {
          "contraceptive_method_used": 1,
          "standard_of_living_index": 3,
          "wife_age": 34,
          "wife_education": 4,
          "wife_religion": 0
         },
         {
          "contraceptive_method_used": 1,
          "standard_of_living_index": 3,
          "wife_age": 41,
          "wife_education": 1,
          "wife_religion": 1
         },
         {
          "contraceptive_method_used": 3,
          "standard_of_living_index": 4,
          "wife_age": 35,
          "wife_education": 3,
          "wife_religion": 1
         },
         {
          "contraceptive_method_used": 3,
          "standard_of_living_index": 1,
          "wife_age": 32,
          "wife_education": 2,
          "wife_religion": 1
         },
         {
          "contraceptive_method_used": 1,
          "standard_of_living_index": 4,
          "wife_age": 31,
          "wife_education": 3,
          "wife_religion": 1
         },
         {
          "contraceptive_method_used": 2,
          "standard_of_living_index": 4,
          "wife_age": 45,
          "wife_education": 4,
          "wife_religion": 0
         },
         {
          "contraceptive_method_used": 2,
          "standard_of_living_index": 3,
          "wife_age": 23,
          "wife_education": 3,
          "wife_religion": 1
         },
         {
          "contraceptive_method_used": 2,
          "standard_of_living_index": 4,
          "wife_age": 42,
          "wife_education": 4,
          "wife_religion": 1
         },
         {
          "contraceptive_method_used": 2,
          "standard_of_living_index": 1,
          "wife_age": 25,
          "wife_education": 3,
          "wife_religion": 1
         },
         {
          "contraceptive_method_used": 2,
          "standard_of_living_index": 4,
          "wife_age": 37,
          "wife_education": 2,
          "wife_religion": 1
         },
         {
          "contraceptive_method_used": 1,
          "standard_of_living_index": 2,
          "wife_age": 36,
          "wife_education": 4,
          "wife_religion": 1
         },
         {
          "contraceptive_method_used": 1,
          "standard_of_living_index": 4,
          "wife_age": 28,
          "wife_education": 4,
          "wife_religion": 0
         },
         {
          "contraceptive_method_used": 2,
          "standard_of_living_index": 4,
          "wife_age": 35,
          "wife_education": 4,
          "wife_religion": 1
         },
         {
          "contraceptive_method_used": 1,
          "standard_of_living_index": 4,
          "wife_age": 30,
          "wife_education": 3,
          "wife_religion": 1
         },
         {
          "contraceptive_method_used": 1,
          "standard_of_living_index": 3,
          "wife_age": 48,
          "wife_education": 3,
          "wife_religion": 1
         },
         {
          "contraceptive_method_used": 2,
          "standard_of_living_index": 4,
          "wife_age": 45,
          "wife_education": 4,
          "wife_religion": 1
         },
         {
          "contraceptive_method_used": 3,
          "standard_of_living_index": 4,
          "wife_age": 28,
          "wife_education": 4,
          "wife_religion": 1
         },
         {
          "contraceptive_method_used": 1,
          "standard_of_living_index": 2,
          "wife_age": 21,
          "wife_education": 3,
          "wife_religion": 1
         },
         {
          "contraceptive_method_used": 3,
          "standard_of_living_index": 3,
          "wife_age": 40,
          "wife_education": 2,
          "wife_religion": 1
         },
         {
          "contraceptive_method_used": 3,
          "standard_of_living_index": 4,
          "wife_age": 23,
          "wife_education": 4,
          "wife_religion": 1
         },
         {
          "contraceptive_method_used": 2,
          "standard_of_living_index": 4,
          "wife_age": 44,
          "wife_education": 4,
          "wife_religion": 1
         },
         {
          "contraceptive_method_used": 3,
          "standard_of_living_index": 3,
          "wife_age": 22,
          "wife_education": 3,
          "wife_religion": 1
         },
         {
          "contraceptive_method_used": 3,
          "standard_of_living_index": 1,
          "wife_age": 22,
          "wife_education": 3,
          "wife_religion": 1
         },
         {
          "contraceptive_method_used": 3,
          "standard_of_living_index": 3,
          "wife_age": 43,
          "wife_education": 3,
          "wife_religion": 1
         },
         {
          "contraceptive_method_used": 3,
          "standard_of_living_index": 2,
          "wife_age": 38,
          "wife_education": 3,
          "wife_religion": 1
         },
         {
          "contraceptive_method_used": 1,
          "standard_of_living_index": 4,
          "wife_age": 49,
          "wife_education": 1,
          "wife_religion": 1
         },
         {
          "contraceptive_method_used": 1,
          "standard_of_living_index": 3,
          "wife_age": 43,
          "wife_education": 2,
          "wife_religion": 1
         },
         {
          "contraceptive_method_used": 3,
          "standard_of_living_index": 4,
          "wife_age": 27,
          "wife_education": 3,
          "wife_religion": 1
         },
         {
          "contraceptive_method_used": 1,
          "standard_of_living_index": 4,
          "wife_age": 26,
          "wife_education": 2,
          "wife_religion": 1
         },
         {
          "contraceptive_method_used": 1,
          "standard_of_living_index": 2,
          "wife_age": 43,
          "wife_education": 1,
          "wife_religion": 1
         },
         {
          "contraceptive_method_used": 1,
          "standard_of_living_index": 4,
          "wife_age": 34,
          "wife_education": 4,
          "wife_religion": 0
         },
         {
          "contraceptive_method_used": 3,
          "standard_of_living_index": 4,
          "wife_age": 38,
          "wife_education": 4,
          "wife_religion": 1
         },
         {
          "contraceptive_method_used": 3,
          "standard_of_living_index": 3,
          "wife_age": 29,
          "wife_education": 1,
          "wife_religion": 1
         },
         {
          "contraceptive_method_used": 2,
          "standard_of_living_index": 3,
          "wife_age": 36,
          "wife_education": 3,
          "wife_religion": 1
         },
         {
          "contraceptive_method_used": 1,
          "standard_of_living_index": 1,
          "wife_age": 26,
          "wife_education": 2,
          "wife_religion": 1
         },
         {
          "contraceptive_method_used": 1,
          "standard_of_living_index": 1,
          "wife_age": 24,
          "wife_education": 2,
          "wife_religion": 1
         },
         {
          "contraceptive_method_used": 1,
          "standard_of_living_index": 3,
          "wife_age": 41,
          "wife_education": 2,
          "wife_religion": 1
         },
         {
          "contraceptive_method_used": 3,
          "standard_of_living_index": 4,
          "wife_age": 20,
          "wife_education": 3,
          "wife_religion": 0
         },
         {
          "contraceptive_method_used": 3,
          "standard_of_living_index": 2,
          "wife_age": 32,
          "wife_education": 3,
          "wife_religion": 1
         },
         {
          "contraceptive_method_used": 3,
          "standard_of_living_index": 4,
          "wife_age": 41,
          "wife_education": 4,
          "wife_religion": 1
         },
         {
          "contraceptive_method_used": 3,
          "standard_of_living_index": 4,
          "wife_age": 31,
          "wife_education": 4,
          "wife_religion": 0
         },
         {
          "contraceptive_method_used": 1,
          "standard_of_living_index": 2,
          "wife_age": 25,
          "wife_education": 1,
          "wife_religion": 1
         },
         {
          "contraceptive_method_used": 2,
          "standard_of_living_index": 3,
          "wife_age": 24,
          "wife_education": 4,
          "wife_religion": 1
         },
         {
          "contraceptive_method_used": 1,
          "standard_of_living_index": 3,
          "wife_age": 33,
          "wife_education": 4,
          "wife_religion": 0
         },
         {
          "contraceptive_method_used": 3,
          "standard_of_living_index": 4,
          "wife_age": 22,
          "wife_education": 3,
          "wife_religion": 1
         },
         {
          "contraceptive_method_used": 1,
          "standard_of_living_index": 4,
          "wife_age": 24,
          "wife_education": 2,
          "wife_religion": 1
         },
         {
          "contraceptive_method_used": 2,
          "standard_of_living_index": 3,
          "wife_age": 27,
          "wife_education": 4,
          "wife_religion": 1
         },
         {
          "contraceptive_method_used": 3,
          "standard_of_living_index": 3,
          "wife_age": 21,
          "wife_education": 4,
          "wife_religion": 1
         },
         {
          "contraceptive_method_used": 3,
          "standard_of_living_index": 4,
          "wife_age": 31,
          "wife_education": 4,
          "wife_religion": 1
         },
         {
          "contraceptive_method_used": 2,
          "standard_of_living_index": 4,
          "wife_age": 32,
          "wife_education": 4,
          "wife_religion": 0
         },
         {
          "contraceptive_method_used": 2,
          "standard_of_living_index": 1,
          "wife_age": 36,
          "wife_education": 2,
          "wife_religion": 1
         },
         {
          "contraceptive_method_used": 1,
          "standard_of_living_index": 3,
          "wife_age": 33,
          "wife_education": 4,
          "wife_religion": 1
         },
         {
          "contraceptive_method_used": 1,
          "standard_of_living_index": 3,
          "wife_age": 42,
          "wife_education": 1,
          "wife_religion": 1
         },
         {
          "contraceptive_method_used": 3,
          "standard_of_living_index": 3,
          "wife_age": 21,
          "wife_education": 3,
          "wife_religion": 1
         },
         {
          "contraceptive_method_used": 1,
          "standard_of_living_index": 2,
          "wife_age": 47,
          "wife_education": 1,
          "wife_religion": 1
         },
         {
          "contraceptive_method_used": 1,
          "standard_of_living_index": 2,
          "wife_age": 32,
          "wife_education": 2,
          "wife_religion": 1
         },
         {
          "contraceptive_method_used": 2,
          "standard_of_living_index": 4,
          "wife_age": 36,
          "wife_education": 4,
          "wife_religion": 1
         },
         {
          "contraceptive_method_used": 3,
          "standard_of_living_index": 4,
          "wife_age": 43,
          "wife_education": 4,
          "wife_religion": 1
         },
         {
          "contraceptive_method_used": 1,
          "standard_of_living_index": 2,
          "wife_age": 30,
          "wife_education": 1,
          "wife_religion": 1
         },
         {
          "contraceptive_method_used": 3,
          "standard_of_living_index": 4,
          "wife_age": 42,
          "wife_education": 2,
          "wife_religion": 1
         },
         {
          "contraceptive_method_used": 2,
          "standard_of_living_index": 4,
          "wife_age": 32,
          "wife_education": 4,
          "wife_religion": 1
         },
         {
          "contraceptive_method_used": 1,
          "standard_of_living_index": 2,
          "wife_age": 27,
          "wife_education": 2,
          "wife_religion": 1
         },
         {
          "contraceptive_method_used": 2,
          "standard_of_living_index": 2,
          "wife_age": 43,
          "wife_education": 3,
          "wife_religion": 1
         },
         {
          "contraceptive_method_used": 2,
          "standard_of_living_index": 4,
          "wife_age": 39,
          "wife_education": 4,
          "wife_religion": 0
         },
         {
          "contraceptive_method_used": 3,
          "standard_of_living_index": 4,
          "wife_age": 32,
          "wife_education": 4,
          "wife_religion": 1
         },
         {
          "contraceptive_method_used": 1,
          "standard_of_living_index": 2,
          "wife_age": 35,
          "wife_education": 1,
          "wife_religion": 1
         },
         {
          "contraceptive_method_used": 1,
          "standard_of_living_index": 2,
          "wife_age": 28,
          "wife_education": 2,
          "wife_religion": 1
         },
         {
          "contraceptive_method_used": 3,
          "standard_of_living_index": 4,
          "wife_age": 31,
          "wife_education": 3,
          "wife_religion": 1
         },
         {
          "contraceptive_method_used": 1,
          "standard_of_living_index": 2,
          "wife_age": 26,
          "wife_education": 3,
          "wife_religion": 1
         },
         {
          "contraceptive_method_used": 3,
          "standard_of_living_index": 1,
          "wife_age": 27,
          "wife_education": 2,
          "wife_religion": 1
         },
         {
          "contraceptive_method_used": 3,
          "standard_of_living_index": 2,
          "wife_age": 29,
          "wife_education": 3,
          "wife_religion": 1
         },
         {
          "contraceptive_method_used": 1,
          "standard_of_living_index": 2,
          "wife_age": 43,
          "wife_education": 1,
          "wife_religion": 1
         },
         {
          "contraceptive_method_used": 1,
          "standard_of_living_index": 4,
          "wife_age": 32,
          "wife_education": 3,
          "wife_religion": 1
         },
         {
          "contraceptive_method_used": 3,
          "standard_of_living_index": 1,
          "wife_age": 17,
          "wife_education": 3,
          "wife_religion": 1
         },
         {
          "contraceptive_method_used": 1,
          "standard_of_living_index": 4,
          "wife_age": 42,
          "wife_education": 2,
          "wife_religion": 1
         },
         {
          "contraceptive_method_used": 1,
          "standard_of_living_index": 4,
          "wife_age": 28,
          "wife_education": 4,
          "wife_religion": 1
         },
         {
          "contraceptive_method_used": 1,
          "standard_of_living_index": 3,
          "wife_age": 29,
          "wife_education": 4,
          "wife_religion": 1
         },
         {
          "contraceptive_method_used": 2,
          "standard_of_living_index": 3,
          "wife_age": 32,
          "wife_education": 3,
          "wife_religion": 1
         },
         {
          "contraceptive_method_used": 2,
          "standard_of_living_index": 3,
          "wife_age": 26,
          "wife_education": 3,
          "wife_religion": 1
         },
         {
          "contraceptive_method_used": 3,
          "standard_of_living_index": 4,
          "wife_age": 37,
          "wife_education": 3,
          "wife_religion": 1
         },
         {
          "contraceptive_method_used": 1,
          "standard_of_living_index": 2,
          "wife_age": 20,
          "wife_education": 3,
          "wife_religion": 1
         },
         {
          "contraceptive_method_used": 3,
          "standard_of_living_index": 2,
          "wife_age": 29,
          "wife_education": 3,
          "wife_religion": 1
         },
         {
          "contraceptive_method_used": 1,
          "standard_of_living_index": 4,
          "wife_age": 40,
          "wife_education": 4,
          "wife_religion": 1
         },
         {
          "contraceptive_method_used": 3,
          "standard_of_living_index": 4,
          "wife_age": 35,
          "wife_education": 3,
          "wife_religion": 1
         },
         {
          "contraceptive_method_used": 3,
          "standard_of_living_index": 4,
          "wife_age": 37,
          "wife_education": 3,
          "wife_religion": 0
         },
         {
          "contraceptive_method_used": 2,
          "standard_of_living_index": 3,
          "wife_age": 41,
          "wife_education": 4,
          "wife_religion": 1
         },
         {
          "contraceptive_method_used": 2,
          "standard_of_living_index": 4,
          "wife_age": 26,
          "wife_education": 4,
          "wife_religion": 0
         },
         {
          "contraceptive_method_used": 1,
          "standard_of_living_index": 4,
          "wife_age": 29,
          "wife_education": 1,
          "wife_religion": 1
         },
         {
          "contraceptive_method_used": 3,
          "standard_of_living_index": 4,
          "wife_age": 32,
          "wife_education": 4,
          "wife_religion": 0
         },
         {
          "contraceptive_method_used": 3,
          "standard_of_living_index": 4,
          "wife_age": 24,
          "wife_education": 2,
          "wife_religion": 1
         },
         {
          "contraceptive_method_used": 2,
          "standard_of_living_index": 4,
          "wife_age": 42,
          "wife_education": 4,
          "wife_religion": 1
         },
         {
          "contraceptive_method_used": 3,
          "standard_of_living_index": 4,
          "wife_age": 30,
          "wife_education": 4,
          "wife_religion": 0
         },
         {
          "contraceptive_method_used": 1,
          "standard_of_living_index": 4,
          "wife_age": 39,
          "wife_education": 3,
          "wife_religion": 1
         },
         {
          "contraceptive_method_used": 1,
          "standard_of_living_index": 4,
          "wife_age": 26,
          "wife_education": 4,
          "wife_religion": 1
         },
         {
          "contraceptive_method_used": 3,
          "standard_of_living_index": 2,
          "wife_age": 34,
          "wife_education": 2,
          "wife_religion": 0
         },
         {
          "contraceptive_method_used": 3,
          "standard_of_living_index": 3,
          "wife_age": 27,
          "wife_education": 3,
          "wife_religion": 1
         },
         {
          "contraceptive_method_used": 3,
          "standard_of_living_index": 1,
          "wife_age": 29,
          "wife_education": 3,
          "wife_religion": 1
         },
         {
          "contraceptive_method_used": 1,
          "standard_of_living_index": 4,
          "wife_age": 29,
          "wife_education": 2,
          "wife_religion": 1
         },
         {
          "contraceptive_method_used": 1,
          "standard_of_living_index": 3,
          "wife_age": 28,
          "wife_education": 4,
          "wife_religion": 0
         },
         {
          "contraceptive_method_used": 1,
          "standard_of_living_index": 1,
          "wife_age": 29,
          "wife_education": 2,
          "wife_religion": 1
         },
         {
          "contraceptive_method_used": 2,
          "standard_of_living_index": 3,
          "wife_age": 31,
          "wife_education": 4,
          "wife_religion": 1
         },
         {
          "contraceptive_method_used": 3,
          "standard_of_living_index": 4,
          "wife_age": 35,
          "wife_education": 4,
          "wife_religion": 0
         },
         {
          "contraceptive_method_used": 3,
          "standard_of_living_index": 4,
          "wife_age": 22,
          "wife_education": 3,
          "wife_religion": 0
         },
         {
          "contraceptive_method_used": 2,
          "standard_of_living_index": 4,
          "wife_age": 28,
          "wife_education": 3,
          "wife_religion": 1
         },
         {
          "contraceptive_method_used": 3,
          "standard_of_living_index": 3,
          "wife_age": 21,
          "wife_education": 4,
          "wife_religion": 1
         },
         {
          "contraceptive_method_used": 3,
          "standard_of_living_index": 4,
          "wife_age": 30,
          "wife_education": 3,
          "wife_religion": 1
         },
         {
          "contraceptive_method_used": 3,
          "standard_of_living_index": 1,
          "wife_age": 19,
          "wife_education": 3,
          "wife_religion": 1
         },
         {
          "contraceptive_method_used": 1,
          "standard_of_living_index": 1,
          "wife_age": 27,
          "wife_education": 2,
          "wife_religion": 1
         },
         {
          "contraceptive_method_used": 1,
          "standard_of_living_index": 4,
          "wife_age": 31,
          "wife_education": 3,
          "wife_religion": 0
         },
         {
          "contraceptive_method_used": 1,
          "standard_of_living_index": 4,
          "wife_age": 37,
          "wife_education": 1,
          "wife_religion": 1
         },
         {
          "contraceptive_method_used": 1,
          "standard_of_living_index": 4,
          "wife_age": 32,
          "wife_education": 3,
          "wife_religion": 1
         },
         {
          "contraceptive_method_used": 2,
          "standard_of_living_index": 4,
          "wife_age": 26,
          "wife_education": 4,
          "wife_religion": 1
         },
         {
          "contraceptive_method_used": 1,
          "standard_of_living_index": 2,
          "wife_age": 42,
          "wife_education": 3,
          "wife_religion": 1
         },
         {
          "contraceptive_method_used": 1,
          "standard_of_living_index": 1,
          "wife_age": 26,
          "wife_education": 2,
          "wife_religion": 1
         },
         {
          "contraceptive_method_used": 1,
          "standard_of_living_index": 1,
          "wife_age": 46,
          "wife_education": 1,
          "wife_religion": 1
         },
         {
          "contraceptive_method_used": 3,
          "standard_of_living_index": 4,
          "wife_age": 36,
          "wife_education": 4,
          "wife_religion": 0
         },
         {
          "contraceptive_method_used": 1,
          "standard_of_living_index": 4,
          "wife_age": 27,
          "wife_education": 1,
          "wife_religion": 1
         },
         {
          "contraceptive_method_used": 1,
          "standard_of_living_index": 2,
          "wife_age": 45,
          "wife_education": 1,
          "wife_religion": 1
         },
         {
          "contraceptive_method_used": 3,
          "standard_of_living_index": 4,
          "wife_age": 33,
          "wife_education": 2,
          "wife_religion": 1
         },
         {
          "contraceptive_method_used": 3,
          "standard_of_living_index": 1,
          "wife_age": 25,
          "wife_education": 2,
          "wife_religion": 1
         },
         {
          "contraceptive_method_used": 1,
          "standard_of_living_index": 1,
          "wife_age": 30,
          "wife_education": 1,
          "wife_religion": 1
         },
         {
          "contraceptive_method_used": 1,
          "standard_of_living_index": 2,
          "wife_age": 17,
          "wife_education": 2,
          "wife_religion": 1
         },
         {
          "contraceptive_method_used": 1,
          "standard_of_living_index": 3,
          "wife_age": 22,
          "wife_education": 4,
          "wife_religion": 1
         },
         {
          "contraceptive_method_used": 1,
          "standard_of_living_index": 4,
          "wife_age": 21,
          "wife_education": 4,
          "wife_religion": 1
         },
         {
          "contraceptive_method_used": 1,
          "standard_of_living_index": 4,
          "wife_age": 33,
          "wife_education": 4,
          "wife_religion": 0
         },
         {
          "contraceptive_method_used": 2,
          "standard_of_living_index": 4,
          "wife_age": 21,
          "wife_education": 3,
          "wife_religion": 1
         },
         {
          "contraceptive_method_used": 1,
          "standard_of_living_index": 4,
          "wife_age": 21,
          "wife_education": 4,
          "wife_religion": 1
         },
         {
          "contraceptive_method_used": 1,
          "standard_of_living_index": 3,
          "wife_age": 22,
          "wife_education": 2,
          "wife_religion": 1
         },
         {
          "contraceptive_method_used": 3,
          "standard_of_living_index": 4,
          "wife_age": 26,
          "wife_education": 3,
          "wife_religion": 1
         },
         {
          "contraceptive_method_used": 1,
          "standard_of_living_index": 1,
          "wife_age": 22,
          "wife_education": 4,
          "wife_religion": 1
         },
         {
          "contraceptive_method_used": 1,
          "standard_of_living_index": 3,
          "wife_age": 34,
          "wife_education": 4,
          "wife_religion": 1
         },
         {
          "contraceptive_method_used": 3,
          "standard_of_living_index": 4,
          "wife_age": 27,
          "wife_education": 4,
          "wife_religion": 1
         },
         {
          "contraceptive_method_used": 2,
          "standard_of_living_index": 4,
          "wife_age": 29,
          "wife_education": 4,
          "wife_religion": 1
         },
         {
          "contraceptive_method_used": 2,
          "standard_of_living_index": 3,
          "wife_age": 35,
          "wife_education": 3,
          "wife_religion": 1
         },
         {
          "contraceptive_method_used": 1,
          "standard_of_living_index": 4,
          "wife_age": 29,
          "wife_education": 3,
          "wife_religion": 1
         },
         {
          "contraceptive_method_used": 1,
          "standard_of_living_index": 3,
          "wife_age": 23,
          "wife_education": 4,
          "wife_religion": 1
         },
         {
          "contraceptive_method_used": 2,
          "standard_of_living_index": 3,
          "wife_age": 35,
          "wife_education": 3,
          "wife_religion": 1
         },
         {
          "contraceptive_method_used": 3,
          "standard_of_living_index": 4,
          "wife_age": 32,
          "wife_education": 4,
          "wife_religion": 1
         },
         {
          "contraceptive_method_used": 1,
          "standard_of_living_index": 2,
          "wife_age": 25,
          "wife_education": 3,
          "wife_religion": 1
         },
         {
          "contraceptive_method_used": 1,
          "standard_of_living_index": 2,
          "wife_age": 25,
          "wife_education": 2,
          "wife_religion": 1
         },
         {
          "contraceptive_method_used": 3,
          "standard_of_living_index": 4,
          "wife_age": 33,
          "wife_education": 2,
          "wife_religion": 1
         },
         {
          "contraceptive_method_used": 2,
          "standard_of_living_index": 4,
          "wife_age": 30,
          "wife_education": 2,
          "wife_religion": 1
         },
         {
          "contraceptive_method_used": 2,
          "standard_of_living_index": 3,
          "wife_age": 28,
          "wife_education": 2,
          "wife_religion": 1
         },
         {
          "contraceptive_method_used": 2,
          "standard_of_living_index": 3,
          "wife_age": 29,
          "wife_education": 4,
          "wife_religion": 1
         },
         {
          "contraceptive_method_used": 1,
          "standard_of_living_index": 3,
          "wife_age": 21,
          "wife_education": 4,
          "wife_religion": 1
         },
         {
          "contraceptive_method_used": 1,
          "standard_of_living_index": 1,
          "wife_age": 25,
          "wife_education": 2,
          "wife_religion": 1
         },
         {
          "contraceptive_method_used": 2,
          "standard_of_living_index": 3,
          "wife_age": 42,
          "wife_education": 4,
          "wife_religion": 1
         },
         {
          "contraceptive_method_used": 1,
          "standard_of_living_index": 3,
          "wife_age": 44,
          "wife_education": 1,
          "wife_religion": 1
         },
         {
          "contraceptive_method_used": 1,
          "standard_of_living_index": 3,
          "wife_age": 47,
          "wife_education": 1,
          "wife_religion": 1
         },
         {
          "contraceptive_method_used": 1,
          "standard_of_living_index": 1,
          "wife_age": 37,
          "wife_education": 3,
          "wife_religion": 1
         },
         {
          "contraceptive_method_used": 3,
          "standard_of_living_index": 3,
          "wife_age": 27,
          "wife_education": 3,
          "wife_religion": 1
         },
         {
          "contraceptive_method_used": 1,
          "standard_of_living_index": 4,
          "wife_age": 47,
          "wife_education": 1,
          "wife_religion": 1
         },
         {
          "contraceptive_method_used": 3,
          "standard_of_living_index": 3,
          "wife_age": 25,
          "wife_education": 4,
          "wife_religion": 1
         },
         {
          "contraceptive_method_used": 2,
          "standard_of_living_index": 4,
          "wife_age": 36,
          "wife_education": 4,
          "wife_religion": 1
         },
         {
          "contraceptive_method_used": 1,
          "standard_of_living_index": 4,
          "wife_age": 19,
          "wife_education": 4,
          "wife_religion": 0
         },
         {
          "contraceptive_method_used": 1,
          "standard_of_living_index": 4,
          "wife_age": 46,
          "wife_education": 4,
          "wife_religion": 1
         },
         {
          "contraceptive_method_used": 1,
          "standard_of_living_index": 1,
          "wife_age": 24,
          "wife_education": 3,
          "wife_religion": 1
         },
         {
          "contraceptive_method_used": 3,
          "standard_of_living_index": 4,
          "wife_age": 25,
          "wife_education": 2,
          "wife_religion": 1
         },
         {
          "contraceptive_method_used": 3,
          "standard_of_living_index": 4,
          "wife_age": 33,
          "wife_education": 4,
          "wife_religion": 1
         },
         {
          "contraceptive_method_used": 3,
          "standard_of_living_index": 4,
          "wife_age": 28,
          "wife_education": 2,
          "wife_religion": 1
         },
         {
          "contraceptive_method_used": 3,
          "standard_of_living_index": 2,
          "wife_age": 32,
          "wife_education": 1,
          "wife_religion": 1
         },
         {
          "contraceptive_method_used": 3,
          "standard_of_living_index": 4,
          "wife_age": 20,
          "wife_education": 3,
          "wife_religion": 1
         },
         {
          "contraceptive_method_used": 1,
          "standard_of_living_index": 4,
          "wife_age": 32,
          "wife_education": 4,
          "wife_religion": 1
         },
         {
          "contraceptive_method_used": 1,
          "standard_of_living_index": 3,
          "wife_age": 21,
          "wife_education": 3,
          "wife_religion": 1
         },
         {
          "contraceptive_method_used": 3,
          "standard_of_living_index": 4,
          "wife_age": 31,
          "wife_education": 4,
          "wife_religion": 1
         },
         {
          "contraceptive_method_used": 2,
          "standard_of_living_index": 3,
          "wife_age": 28,
          "wife_education": 3,
          "wife_religion": 0
         },
         {
          "contraceptive_method_used": 3,
          "standard_of_living_index": 2,
          "wife_age": 30,
          "wife_education": 2,
          "wife_religion": 1
         },
         {
          "contraceptive_method_used": 3,
          "standard_of_living_index": 3,
          "wife_age": 24,
          "wife_education": 2,
          "wife_religion": 1
         },
         {
          "contraceptive_method_used": 1,
          "standard_of_living_index": 3,
          "wife_age": 40,
          "wife_education": 3,
          "wife_religion": 1
         },
         {
          "contraceptive_method_used": 1,
          "standard_of_living_index": 2,
          "wife_age": 21,
          "wife_education": 1,
          "wife_religion": 1
         },
         {
          "contraceptive_method_used": 1,
          "standard_of_living_index": 3,
          "wife_age": 47,
          "wife_education": 2,
          "wife_religion": 1
         },
         {
          "contraceptive_method_used": 3,
          "standard_of_living_index": 2,
          "wife_age": 35,
          "wife_education": 2,
          "wife_religion": 1
         },
         {
          "contraceptive_method_used": 3,
          "standard_of_living_index": 2,
          "wife_age": 40,
          "wife_education": 3,
          "wife_religion": 1
         },
         {
          "contraceptive_method_used": 3,
          "standard_of_living_index": 3,
          "wife_age": 36,
          "wife_education": 2,
          "wife_religion": 1
         },
         {
          "contraceptive_method_used": 1,
          "standard_of_living_index": 4,
          "wife_age": 37,
          "wife_education": 2,
          "wife_religion": 0
         },
         {
          "contraceptive_method_used": 3,
          "standard_of_living_index": 4,
          "wife_age": 46,
          "wife_education": 4,
          "wife_religion": 1
         },
         {
          "contraceptive_method_used": 2,
          "standard_of_living_index": 4,
          "wife_age": 49,
          "wife_education": 3,
          "wife_religion": 1
         },
         {
          "contraceptive_method_used": 2,
          "standard_of_living_index": 2,
          "wife_age": 36,
          "wife_education": 3,
          "wife_religion": 1
         },
         {
          "contraceptive_method_used": 3,
          "standard_of_living_index": 3,
          "wife_age": 47,
          "wife_education": 1,
          "wife_religion": 1
         },
         {
          "contraceptive_method_used": 1,
          "standard_of_living_index": 1,
          "wife_age": 47,
          "wife_education": 2,
          "wife_religion": 1
         },
         {
          "contraceptive_method_used": 1,
          "standard_of_living_index": 3,
          "wife_age": 31,
          "wife_education": 3,
          "wife_religion": 1
         },
         {
          "contraceptive_method_used": 3,
          "standard_of_living_index": 3,
          "wife_age": 25,
          "wife_education": 3,
          "wife_religion": 1
         },
         {
          "contraceptive_method_used": 3,
          "standard_of_living_index": 2,
          "wife_age": 35,
          "wife_education": 2,
          "wife_religion": 1
         },
         {
          "contraceptive_method_used": 1,
          "standard_of_living_index": 3,
          "wife_age": 35,
          "wife_education": 4,
          "wife_religion": 1
         },
         {
          "contraceptive_method_used": 3,
          "standard_of_living_index": 1,
          "wife_age": 21,
          "wife_education": 3,
          "wife_religion": 1
         },
         {
          "contraceptive_method_used": 1,
          "standard_of_living_index": 3,
          "wife_age": 38,
          "wife_education": 2,
          "wife_religion": 1
         },
         {
          "contraceptive_method_used": 3,
          "standard_of_living_index": 4,
          "wife_age": 37,
          "wife_education": 4,
          "wife_religion": 1
         },
         {
          "contraceptive_method_used": 1,
          "standard_of_living_index": 4,
          "wife_age": 36,
          "wife_education": 4,
          "wife_religion": 1
         },
         {
          "contraceptive_method_used": 3,
          "standard_of_living_index": 4,
          "wife_age": 33,
          "wife_education": 3,
          "wife_religion": 1
         },
         {
          "contraceptive_method_used": 3,
          "standard_of_living_index": 4,
          "wife_age": 33,
          "wife_education": 4,
          "wife_religion": 1
         },
         {
          "contraceptive_method_used": 2,
          "standard_of_living_index": 4,
          "wife_age": 38,
          "wife_education": 4,
          "wife_religion": 1
         },
         {
          "contraceptive_method_used": 2,
          "standard_of_living_index": 4,
          "wife_age": 36,
          "wife_education": 4,
          "wife_religion": 0
         },
         {
          "contraceptive_method_used": 1,
          "standard_of_living_index": 1,
          "wife_age": 22,
          "wife_education": 2,
          "wife_religion": 1
         },
         {
          "contraceptive_method_used": 3,
          "standard_of_living_index": 2,
          "wife_age": 27,
          "wife_education": 3,
          "wife_religion": 1
         },
         {
          "contraceptive_method_used": 1,
          "standard_of_living_index": 3,
          "wife_age": 19,
          "wife_education": 4,
          "wife_religion": 1
         },
         {
          "contraceptive_method_used": 1,
          "standard_of_living_index": 4,
          "wife_age": 28,
          "wife_education": 4,
          "wife_religion": 0
         },
         {
          "contraceptive_method_used": 3,
          "standard_of_living_index": 4,
          "wife_age": 33,
          "wife_education": 4,
          "wife_religion": 1
         },
         {
          "contraceptive_method_used": 1,
          "standard_of_living_index": 3,
          "wife_age": 34,
          "wife_education": 3,
          "wife_religion": 1
         },
         {
          "contraceptive_method_used": 3,
          "standard_of_living_index": 3,
          "wife_age": 33,
          "wife_education": 2,
          "wife_religion": 1
         },
         {
          "contraceptive_method_used": 3,
          "standard_of_living_index": 4,
          "wife_age": 40,
          "wife_education": 4,
          "wife_religion": 1
         },
         {
          "contraceptive_method_used": 2,
          "standard_of_living_index": 4,
          "wife_age": 38,
          "wife_education": 4,
          "wife_religion": 0
         },
         {
          "contraceptive_method_used": 3,
          "standard_of_living_index": 3,
          "wife_age": 20,
          "wife_education": 3,
          "wife_religion": 1
         },
         {
          "contraceptive_method_used": 1,
          "standard_of_living_index": 2,
          "wife_age": 36,
          "wife_education": 3,
          "wife_religion": 1
         },
         {
          "contraceptive_method_used": 1,
          "standard_of_living_index": 4,
          "wife_age": 39,
          "wife_education": 4,
          "wife_religion": 1
         },
         {
          "contraceptive_method_used": 1,
          "standard_of_living_index": 2,
          "wife_age": 29,
          "wife_education": 4,
          "wife_religion": 1
         },
         {
          "contraceptive_method_used": 1,
          "standard_of_living_index": 4,
          "wife_age": 28,
          "wife_education": 4,
          "wife_religion": 0
         },
         {
          "contraceptive_method_used": 1,
          "standard_of_living_index": 4,
          "wife_age": 26,
          "wife_education": 4,
          "wife_religion": 1
         },
         {
          "contraceptive_method_used": 1,
          "standard_of_living_index": 3,
          "wife_age": 49,
          "wife_education": 2,
          "wife_religion": 0
         },
         {
          "contraceptive_method_used": 3,
          "standard_of_living_index": 4,
          "wife_age": 29,
          "wife_education": 4,
          "wife_religion": 1
         },
         {
          "contraceptive_method_used": 1,
          "standard_of_living_index": 1,
          "wife_age": 46,
          "wife_education": 1,
          "wife_religion": 1
         },
         {
          "contraceptive_method_used": 2,
          "standard_of_living_index": 4,
          "wife_age": 38,
          "wife_education": 4,
          "wife_religion": 1
         },
         {
          "contraceptive_method_used": 1,
          "standard_of_living_index": 4,
          "wife_age": 29,
          "wife_education": 4,
          "wife_religion": 1
         },
         {
          "contraceptive_method_used": 3,
          "standard_of_living_index": 3,
          "wife_age": 19,
          "wife_education": 2,
          "wife_religion": 1
         },
         {
          "contraceptive_method_used": 3,
          "standard_of_living_index": 3,
          "wife_age": 25,
          "wife_education": 3,
          "wife_religion": 1
         },
         {
          "contraceptive_method_used": 1,
          "standard_of_living_index": 3,
          "wife_age": 22,
          "wife_education": 3,
          "wife_religion": 1
         },
         {
          "contraceptive_method_used": 3,
          "standard_of_living_index": 4,
          "wife_age": 46,
          "wife_education": 4,
          "wife_religion": 0
         },
         {
          "contraceptive_method_used": 3,
          "standard_of_living_index": 2,
          "wife_age": 29,
          "wife_education": 2,
          "wife_religion": 1
         },
         {
          "contraceptive_method_used": 1,
          "standard_of_living_index": 4,
          "wife_age": 32,
          "wife_education": 2,
          "wife_religion": 1
         },
         {
          "contraceptive_method_used": 3,
          "standard_of_living_index": 4,
          "wife_age": 46,
          "wife_education": 2,
          "wife_religion": 1
         },
         {
          "contraceptive_method_used": 2,
          "standard_of_living_index": 3,
          "wife_age": 34,
          "wife_education": 3,
          "wife_religion": 0
         },
         {
          "contraceptive_method_used": 1,
          "standard_of_living_index": 3,
          "wife_age": 45,
          "wife_education": 3,
          "wife_religion": 1
         },
         {
          "contraceptive_method_used": 1,
          "standard_of_living_index": 3,
          "wife_age": 27,
          "wife_education": 3,
          "wife_religion": 1
         },
         {
          "contraceptive_method_used": 1,
          "standard_of_living_index": 4,
          "wife_age": 49,
          "wife_education": 3,
          "wife_religion": 1
         },
         {
          "contraceptive_method_used": 1,
          "standard_of_living_index": 3,
          "wife_age": 34,
          "wife_education": 2,
          "wife_religion": 1
         },
         {
          "contraceptive_method_used": 2,
          "standard_of_living_index": 4,
          "wife_age": 37,
          "wife_education": 4,
          "wife_religion": 1
         },
         {
          "contraceptive_method_used": 1,
          "standard_of_living_index": 3,
          "wife_age": 39,
          "wife_education": 3,
          "wife_religion": 1
         },
         {
          "contraceptive_method_used": 1,
          "standard_of_living_index": 4,
          "wife_age": 44,
          "wife_education": 4,
          "wife_religion": 0
         },
         {
          "contraceptive_method_used": 1,
          "standard_of_living_index": 4,
          "wife_age": 47,
          "wife_education": 3,
          "wife_religion": 1
         },
         {
          "contraceptive_method_used": 1,
          "standard_of_living_index": 3,
          "wife_age": 36,
          "wife_education": 2,
          "wife_religion": 1
         },
         {
          "contraceptive_method_used": 1,
          "standard_of_living_index": 3,
          "wife_age": 44,
          "wife_education": 3,
          "wife_religion": 1
         },
         {
          "contraceptive_method_used": 3,
          "standard_of_living_index": 2,
          "wife_age": 34,
          "wife_education": 4,
          "wife_religion": 1
         },
         {
          "contraceptive_method_used": 1,
          "standard_of_living_index": 4,
          "wife_age": 22,
          "wife_education": 3,
          "wife_religion": 1
         },
         {
          "contraceptive_method_used": 1,
          "standard_of_living_index": 2,
          "wife_age": 20,
          "wife_education": 2,
          "wife_religion": 0
         },
         {
          "contraceptive_method_used": 2,
          "standard_of_living_index": 4,
          "wife_age": 48,
          "wife_education": 4,
          "wife_religion": 1
         },
         {
          "contraceptive_method_used": 1,
          "standard_of_living_index": 3,
          "wife_age": 38,
          "wife_education": 1,
          "wife_religion": 1
         },
         {
          "contraceptive_method_used": 2,
          "standard_of_living_index": 3,
          "wife_age": 26,
          "wife_education": 4,
          "wife_religion": 1
         },
         {
          "contraceptive_method_used": 1,
          "standard_of_living_index": 3,
          "wife_age": 20,
          "wife_education": 3,
          "wife_religion": 1
         },
         {
          "contraceptive_method_used": 2,
          "standard_of_living_index": 4,
          "wife_age": 41,
          "wife_education": 4,
          "wife_religion": 1
         },
         {
          "contraceptive_method_used": 1,
          "standard_of_living_index": 3,
          "wife_age": 44,
          "wife_education": 1,
          "wife_religion": 1
         },
         {
          "contraceptive_method_used": 1,
          "standard_of_living_index": 4,
          "wife_age": 37,
          "wife_education": 4,
          "wife_religion": 0
         },
         {
          "contraceptive_method_used": 3,
          "standard_of_living_index": 3,
          "wife_age": 27,
          "wife_education": 3,
          "wife_religion": 1
         },
         {
          "contraceptive_method_used": 1,
          "standard_of_living_index": 4,
          "wife_age": 22,
          "wife_education": 1,
          "wife_religion": 1
         },
         {
          "contraceptive_method_used": 3,
          "standard_of_living_index": 4,
          "wife_age": 35,
          "wife_education": 1,
          "wife_religion": 1
         },
         {
          "contraceptive_method_used": 3,
          "standard_of_living_index": 3,
          "wife_age": 48,
          "wife_education": 3,
          "wife_religion": 1
         },
         {
          "contraceptive_method_used": 1,
          "standard_of_living_index": 1,
          "wife_age": 27,
          "wife_education": 1,
          "wife_religion": 1
         },
         {
          "contraceptive_method_used": 1,
          "standard_of_living_index": 3,
          "wife_age": 27,
          "wife_education": 3,
          "wife_religion": 1
         },
         {
          "contraceptive_method_used": 3,
          "standard_of_living_index": 2,
          "wife_age": 27,
          "wife_education": 3,
          "wife_religion": 1
         },
         {
          "contraceptive_method_used": 1,
          "standard_of_living_index": 3,
          "wife_age": 43,
          "wife_education": 2,
          "wife_religion": 0
         },
         {
          "contraceptive_method_used": 3,
          "standard_of_living_index": 4,
          "wife_age": 30,
          "wife_education": 4,
          "wife_religion": 1
         },
         {
          "contraceptive_method_used": 3,
          "standard_of_living_index": 4,
          "wife_age": 29,
          "wife_education": 4,
          "wife_religion": 1
         },
         {
          "contraceptive_method_used": 3,
          "standard_of_living_index": 2,
          "wife_age": 30,
          "wife_education": 3,
          "wife_religion": 1
         },
         {
          "contraceptive_method_used": 2,
          "standard_of_living_index": 4,
          "wife_age": 42,
          "wife_education": 4,
          "wife_religion": 1
         },
         {
          "contraceptive_method_used": 1,
          "standard_of_living_index": 4,
          "wife_age": 25,
          "wife_education": 4,
          "wife_religion": 1
         },
         {
          "contraceptive_method_used": 1,
          "standard_of_living_index": 3,
          "wife_age": 23,
          "wife_education": 3,
          "wife_religion": 1
         },
         {
          "contraceptive_method_used": 2,
          "standard_of_living_index": 3,
          "wife_age": 22,
          "wife_education": 4,
          "wife_religion": 1
         },
         {
          "contraceptive_method_used": 3,
          "standard_of_living_index": 3,
          "wife_age": 33,
          "wife_education": 2,
          "wife_religion": 1
         },
         {
          "contraceptive_method_used": 2,
          "standard_of_living_index": 4,
          "wife_age": 27,
          "wife_education": 4,
          "wife_religion": 1
         },
         {
          "contraceptive_method_used": 2,
          "standard_of_living_index": 4,
          "wife_age": 39,
          "wife_education": 4,
          "wife_religion": 1
         },
         {
          "contraceptive_method_used": 1,
          "standard_of_living_index": 4,
          "wife_age": 30,
          "wife_education": 2,
          "wife_religion": 1
         },
         {
          "contraceptive_method_used": 1,
          "standard_of_living_index": 4,
          "wife_age": 42,
          "wife_education": 4,
          "wife_religion": 1
         },
         {
          "contraceptive_method_used": 2,
          "standard_of_living_index": 4,
          "wife_age": 17,
          "wife_education": 4,
          "wife_religion": 1
         },
         {
          "contraceptive_method_used": 1,
          "standard_of_living_index": 3,
          "wife_age": 24,
          "wife_education": 2,
          "wife_religion": 1
         },
         {
          "contraceptive_method_used": 3,
          "standard_of_living_index": 4,
          "wife_age": 41,
          "wife_education": 3,
          "wife_religion": 0
         },
         {
          "contraceptive_method_used": 1,
          "standard_of_living_index": 3,
          "wife_age": 45,
          "wife_education": 1,
          "wife_religion": 1
         },
         {
          "contraceptive_method_used": 1,
          "standard_of_living_index": 4,
          "wife_age": 38,
          "wife_education": 4,
          "wife_religion": 1
         },
         {
          "contraceptive_method_used": 2,
          "standard_of_living_index": 4,
          "wife_age": 42,
          "wife_education": 2,
          "wife_religion": 1
         },
         {
          "contraceptive_method_used": 2,
          "standard_of_living_index": 3,
          "wife_age": 23,
          "wife_education": 4,
          "wife_religion": 1
         },
         {
          "contraceptive_method_used": 3,
          "standard_of_living_index": 3,
          "wife_age": 21,
          "wife_education": 3,
          "wife_religion": 1
         },
         {
          "contraceptive_method_used": 3,
          "standard_of_living_index": 2,
          "wife_age": 25,
          "wife_education": 2,
          "wife_religion": 1
         },
         {
          "contraceptive_method_used": 3,
          "standard_of_living_index": 3,
          "wife_age": 25,
          "wife_education": 2,
          "wife_religion": 1
         },
         {
          "contraceptive_method_used": 1,
          "standard_of_living_index": 1,
          "wife_age": 44,
          "wife_education": 1,
          "wife_religion": 1
         },
         {
          "contraceptive_method_used": 3,
          "standard_of_living_index": 2,
          "wife_age": 23,
          "wife_education": 3,
          "wife_religion": 1
         },
         {
          "contraceptive_method_used": 3,
          "standard_of_living_index": 4,
          "wife_age": 44,
          "wife_education": 4,
          "wife_religion": 1
         },
         {
          "contraceptive_method_used": 1,
          "standard_of_living_index": 4,
          "wife_age": 25,
          "wife_education": 3,
          "wife_religion": 1
         },
         {
          "contraceptive_method_used": 3,
          "standard_of_living_index": 3,
          "wife_age": 30,
          "wife_education": 4,
          "wife_religion": 0
         },
         {
          "contraceptive_method_used": 1,
          "standard_of_living_index": 4,
          "wife_age": 35,
          "wife_education": 2,
          "wife_religion": 1
         },
         {
          "contraceptive_method_used": 3,
          "standard_of_living_index": 4,
          "wife_age": 36,
          "wife_education": 4,
          "wife_religion": 0
         },
         {
          "contraceptive_method_used": 1,
          "standard_of_living_index": 4,
          "wife_age": 46,
          "wife_education": 2,
          "wife_religion": 1
         },
         {
          "contraceptive_method_used": 1,
          "standard_of_living_index": 4,
          "wife_age": 47,
          "wife_education": 4,
          "wife_religion": 1
         },
         {
          "contraceptive_method_used": 1,
          "standard_of_living_index": 1,
          "wife_age": 25,
          "wife_education": 3,
          "wife_religion": 1
         },
         {
          "contraceptive_method_used": 1,
          "standard_of_living_index": 3,
          "wife_age": 21,
          "wife_education": 3,
          "wife_religion": 1
         },
         {
          "contraceptive_method_used": 3,
          "standard_of_living_index": 2,
          "wife_age": 26,
          "wife_education": 1,
          "wife_religion": 1
         },
         {
          "contraceptive_method_used": 1,
          "standard_of_living_index": 3,
          "wife_age": 28,
          "wife_education": 4,
          "wife_religion": 0
         },
         {
          "contraceptive_method_used": 1,
          "standard_of_living_index": 2,
          "wife_age": 21,
          "wife_education": 2,
          "wife_religion": 1
         },
         {
          "contraceptive_method_used": 3,
          "standard_of_living_index": 2,
          "wife_age": 20,
          "wife_education": 3,
          "wife_religion": 1
         },
         {
          "contraceptive_method_used": 3,
          "standard_of_living_index": 4,
          "wife_age": 35,
          "wife_education": 3,
          "wife_religion": 1
         },
         {
          "contraceptive_method_used": 1,
          "standard_of_living_index": 4,
          "wife_age": 43,
          "wife_education": 4,
          "wife_religion": 1
         },
         {
          "contraceptive_method_used": 3,
          "standard_of_living_index": 3,
          "wife_age": 27,
          "wife_education": 4,
          "wife_religion": 0
         },
         {
          "contraceptive_method_used": 1,
          "standard_of_living_index": 4,
          "wife_age": 35,
          "wife_education": 4,
          "wife_religion": 0
         },
         {
          "contraceptive_method_used": 3,
          "standard_of_living_index": 4,
          "wife_age": 31,
          "wife_education": 4,
          "wife_religion": 1
         },
         {
          "contraceptive_method_used": 1,
          "standard_of_living_index": 3,
          "wife_age": 44,
          "wife_education": 3,
          "wife_religion": 1
         },
         {
          "contraceptive_method_used": 2,
          "standard_of_living_index": 3,
          "wife_age": 28,
          "wife_education": 4,
          "wife_religion": 1
         },
         {
          "contraceptive_method_used": 1,
          "standard_of_living_index": 2,
          "wife_age": 37,
          "wife_education": 2,
          "wife_religion": 1
         },
         {
          "contraceptive_method_used": 3,
          "standard_of_living_index": 3,
          "wife_age": 39,
          "wife_education": 3,
          "wife_religion": 1
         },
         {
          "contraceptive_method_used": 2,
          "standard_of_living_index": 4,
          "wife_age": 44,
          "wife_education": 4,
          "wife_religion": 1
         },
         {
          "contraceptive_method_used": 3,
          "standard_of_living_index": 3,
          "wife_age": 43,
          "wife_education": 3,
          "wife_religion": 1
         },
         {
          "contraceptive_method_used": 3,
          "standard_of_living_index": 4,
          "wife_age": 33,
          "wife_education": 4,
          "wife_religion": 1
         },
         {
          "contraceptive_method_used": 2,
          "standard_of_living_index": 2,
          "wife_age": 34,
          "wife_education": 4,
          "wife_religion": 0
         },
         {
          "contraceptive_method_used": 1,
          "standard_of_living_index": 4,
          "wife_age": 22,
          "wife_education": 2,
          "wife_religion": 1
         },
         {
          "contraceptive_method_used": 1,
          "standard_of_living_index": 1,
          "wife_age": 47,
          "wife_education": 1,
          "wife_religion": 1
         },
         {
          "contraceptive_method_used": 2,
          "standard_of_living_index": 4,
          "wife_age": 34,
          "wife_education": 4,
          "wife_religion": 1
         },
         {
          "contraceptive_method_used": 1,
          "standard_of_living_index": 3,
          "wife_age": 21,
          "wife_education": 3,
          "wife_religion": 1
         },
         {
          "contraceptive_method_used": 1,
          "standard_of_living_index": 2,
          "wife_age": 49,
          "wife_education": 4,
          "wife_religion": 1
         },
         {
          "contraceptive_method_used": 1,
          "standard_of_living_index": 3,
          "wife_age": 29,
          "wife_education": 3,
          "wife_religion": 1
         },
         {
          "contraceptive_method_used": 1,
          "standard_of_living_index": 4,
          "wife_age": 22,
          "wife_education": 4,
          "wife_religion": 1
         },
         {
          "contraceptive_method_used": 2,
          "standard_of_living_index": 4,
          "wife_age": 37,
          "wife_education": 4,
          "wife_religion": 1
         },
         {
          "contraceptive_method_used": 2,
          "standard_of_living_index": 1,
          "wife_age": 21,
          "wife_education": 4,
          "wife_religion": 1
         },
         {
          "contraceptive_method_used": 2,
          "standard_of_living_index": 4,
          "wife_age": 43,
          "wife_education": 1,
          "wife_religion": 1
         },
         {
          "contraceptive_method_used": 1,
          "standard_of_living_index": 3,
          "wife_age": 27,
          "wife_education": 3,
          "wife_religion": 1
         },
         {
          "contraceptive_method_used": 3,
          "standard_of_living_index": 3,
          "wife_age": 21,
          "wife_education": 3,
          "wife_religion": 1
         },
         {
          "contraceptive_method_used": 2,
          "standard_of_living_index": 4,
          "wife_age": 23,
          "wife_education": 4,
          "wife_religion": 1
         },
         {
          "contraceptive_method_used": 3,
          "standard_of_living_index": 3,
          "wife_age": 32,
          "wife_education": 4,
          "wife_religion": 1
         },
         {
          "contraceptive_method_used": 1,
          "standard_of_living_index": 3,
          "wife_age": 45,
          "wife_education": 1,
          "wife_religion": 1
         },
         {
          "contraceptive_method_used": 1,
          "standard_of_living_index": 3,
          "wife_age": 42,
          "wife_education": 1,
          "wife_religion": 1
         },
         {
          "contraceptive_method_used": 3,
          "standard_of_living_index": 1,
          "wife_age": 24,
          "wife_education": 3,
          "wife_religion": 1
         },
         {
          "contraceptive_method_used": 3,
          "standard_of_living_index": 4,
          "wife_age": 34,
          "wife_education": 4,
          "wife_religion": 0
         },
         {
          "contraceptive_method_used": 1,
          "standard_of_living_index": 3,
          "wife_age": 45,
          "wife_education": 1,
          "wife_religion": 1
         },
         {
          "contraceptive_method_used": 3,
          "standard_of_living_index": 4,
          "wife_age": 26,
          "wife_education": 4,
          "wife_religion": 1
         },
         {
          "contraceptive_method_used": 1,
          "standard_of_living_index": 4,
          "wife_age": 16,
          "wife_education": 2,
          "wife_religion": 1
         },
         {
          "contraceptive_method_used": 1,
          "standard_of_living_index": 4,
          "wife_age": 38,
          "wife_education": 4,
          "wife_religion": 1
         },
         {
          "contraceptive_method_used": 3,
          "standard_of_living_index": 4,
          "wife_age": 28,
          "wife_education": 4,
          "wife_religion": 0
         },
         {
          "contraceptive_method_used": 2,
          "standard_of_living_index": 4,
          "wife_age": 45,
          "wife_education": 3,
          "wife_religion": 1
         },
         {
          "contraceptive_method_used": 1,
          "standard_of_living_index": 1,
          "wife_age": 33,
          "wife_education": 1,
          "wife_religion": 1
         },
         {
          "contraceptive_method_used": 1,
          "standard_of_living_index": 3,
          "wife_age": 41,
          "wife_education": 1,
          "wife_religion": 1
         },
         {
          "contraceptive_method_used": 3,
          "standard_of_living_index": 2,
          "wife_age": 21,
          "wife_education": 2,
          "wife_religion": 1
         },
         {
          "contraceptive_method_used": 3,
          "standard_of_living_index": 1,
          "wife_age": 21,
          "wife_education": 3,
          "wife_religion": 1
         },
         {
          "contraceptive_method_used": 1,
          "standard_of_living_index": 4,
          "wife_age": 22,
          "wife_education": 2,
          "wife_religion": 1
         },
         {
          "contraceptive_method_used": 1,
          "standard_of_living_index": 4,
          "wife_age": 45,
          "wife_education": 4,
          "wife_religion": 1
         },
         {
          "contraceptive_method_used": 3,
          "standard_of_living_index": 4,
          "wife_age": 31,
          "wife_education": 4,
          "wife_religion": 1
         },
         {
          "contraceptive_method_used": 3,
          "standard_of_living_index": 2,
          "wife_age": 33,
          "wife_education": 3,
          "wife_religion": 1
         },
         {
          "contraceptive_method_used": 1,
          "standard_of_living_index": 3,
          "wife_age": 46,
          "wife_education": 1,
          "wife_religion": 1
         },
         {
          "contraceptive_method_used": 1,
          "standard_of_living_index": 2,
          "wife_age": 48,
          "wife_education": 1,
          "wife_religion": 1
         },
         {
          "contraceptive_method_used": 1,
          "standard_of_living_index": 4,
          "wife_age": 48,
          "wife_education": 2,
          "wife_religion": 1
         },
         {
          "contraceptive_method_used": 3,
          "standard_of_living_index": 4,
          "wife_age": 34,
          "wife_education": 3,
          "wife_religion": 1
         },
         {
          "contraceptive_method_used": 3,
          "standard_of_living_index": 1,
          "wife_age": 21,
          "wife_education": 3,
          "wife_religion": 1
         },
         {
          "contraceptive_method_used": 3,
          "standard_of_living_index": 4,
          "wife_age": 44,
          "wife_education": 3,
          "wife_religion": 1
         },
         {
          "contraceptive_method_used": 2,
          "standard_of_living_index": 4,
          "wife_age": 33,
          "wife_education": 4,
          "wife_religion": 1
         },
         {
          "contraceptive_method_used": 3,
          "standard_of_living_index": 4,
          "wife_age": 21,
          "wife_education": 4,
          "wife_religion": 0
         },
         {
          "contraceptive_method_used": 3,
          "standard_of_living_index": 2,
          "wife_age": 22,
          "wife_education": 3,
          "wife_religion": 1
         },
         {
          "contraceptive_method_used": 1,
          "standard_of_living_index": 3,
          "wife_age": 45,
          "wife_education": 1,
          "wife_religion": 1
         },
         {
          "contraceptive_method_used": 3,
          "standard_of_living_index": 3,
          "wife_age": 24,
          "wife_education": 4,
          "wife_religion": 1
         },
         {
          "contraceptive_method_used": 3,
          "standard_of_living_index": 2,
          "wife_age": 27,
          "wife_education": 4,
          "wife_religion": 1
         },
         {
          "contraceptive_method_used": 1,
          "standard_of_living_index": 3,
          "wife_age": 43,
          "wife_education": 3,
          "wife_religion": 1
         },
         {
          "contraceptive_method_used": 2,
          "standard_of_living_index": 4,
          "wife_age": 37,
          "wife_education": 4,
          "wife_religion": 1
         },
         {
          "contraceptive_method_used": 1,
          "standard_of_living_index": 3,
          "wife_age": 48,
          "wife_education": 1,
          "wife_religion": 1
         },
         {
          "contraceptive_method_used": 1,
          "standard_of_living_index": 1,
          "wife_age": 32,
          "wife_education": 2,
          "wife_religion": 1
         },
         {
          "contraceptive_method_used": 2,
          "standard_of_living_index": 4,
          "wife_age": 36,
          "wife_education": 4,
          "wife_religion": 1
         },
         {
          "contraceptive_method_used": 2,
          "standard_of_living_index": 3,
          "wife_age": 44,
          "wife_education": 4,
          "wife_religion": 1
         },
         {
          "contraceptive_method_used": 1,
          "standard_of_living_index": 3,
          "wife_age": 45,
          "wife_education": 3,
          "wife_religion": 1
         },
         {
          "contraceptive_method_used": 2,
          "standard_of_living_index": 4,
          "wife_age": 36,
          "wife_education": 4,
          "wife_religion": 1
         },
         {
          "contraceptive_method_used": 2,
          "standard_of_living_index": 2,
          "wife_age": 24,
          "wife_education": 4,
          "wife_religion": 1
         },
         {
          "contraceptive_method_used": 2,
          "standard_of_living_index": 3,
          "wife_age": 42,
          "wife_education": 4,
          "wife_religion": 1
         },
         {
          "contraceptive_method_used": 1,
          "standard_of_living_index": 2,
          "wife_age": 35,
          "wife_education": 2,
          "wife_religion": 1
         },
         {
          "contraceptive_method_used": 1,
          "standard_of_living_index": 3,
          "wife_age": 32,
          "wife_education": 4,
          "wife_religion": 1
         },
         {
          "contraceptive_method_used": 1,
          "standard_of_living_index": 1,
          "wife_age": 34,
          "wife_education": 3,
          "wife_religion": 0
         },
         {
          "contraceptive_method_used": 1,
          "standard_of_living_index": 3,
          "wife_age": 24,
          "wife_education": 3,
          "wife_religion": 1
         },
         {
          "contraceptive_method_used": 2,
          "standard_of_living_index": 3,
          "wife_age": 40,
          "wife_education": 4,
          "wife_religion": 1
         },
         {
          "contraceptive_method_used": 3,
          "standard_of_living_index": 4,
          "wife_age": 30,
          "wife_education": 4,
          "wife_religion": 1
         },
         {
          "contraceptive_method_used": 3,
          "standard_of_living_index": 1,
          "wife_age": 30,
          "wife_education": 2,
          "wife_religion": 1
         },
         {
          "contraceptive_method_used": 3,
          "standard_of_living_index": 3,
          "wife_age": 33,
          "wife_education": 4,
          "wife_religion": 1
         },
         {
          "contraceptive_method_used": 1,
          "standard_of_living_index": 4,
          "wife_age": 30,
          "wife_education": 2,
          "wife_religion": 1
         },
         {
          "contraceptive_method_used": 3,
          "standard_of_living_index": 1,
          "wife_age": 21,
          "wife_education": 2,
          "wife_religion": 1
         },
         {
          "contraceptive_method_used": 1,
          "standard_of_living_index": 2,
          "wife_age": 25,
          "wife_education": 4,
          "wife_religion": 1
         },
         {
          "contraceptive_method_used": 3,
          "standard_of_living_index": 1,
          "wife_age": 31,
          "wife_education": 3,
          "wife_religion": 1
         },
         {
          "contraceptive_method_used": 3,
          "standard_of_living_index": 4,
          "wife_age": 36,
          "wife_education": 4,
          "wife_religion": 0
         },
         {
          "contraceptive_method_used": 3,
          "standard_of_living_index": 2,
          "wife_age": 22,
          "wife_education": 1,
          "wife_religion": 1
         },
         {
          "contraceptive_method_used": 1,
          "standard_of_living_index": 4,
          "wife_age": 25,
          "wife_education": 3,
          "wife_religion": 1
         },
         {
          "contraceptive_method_used": 3,
          "standard_of_living_index": 2,
          "wife_age": 24,
          "wife_education": 1,
          "wife_religion": 1
         },
         {
          "contraceptive_method_used": 1,
          "standard_of_living_index": 3,
          "wife_age": 24,
          "wife_education": 4,
          "wife_religion": 1
         },
         {
          "contraceptive_method_used": 1,
          "standard_of_living_index": 3,
          "wife_age": 23,
          "wife_education": 2,
          "wife_religion": 1
         },
         {
          "contraceptive_method_used": 3,
          "standard_of_living_index": 3,
          "wife_age": 37,
          "wife_education": 2,
          "wife_religion": 1
         },
         {
          "contraceptive_method_used": 1,
          "standard_of_living_index": 1,
          "wife_age": 22,
          "wife_education": 2,
          "wife_religion": 1
         },
         {
          "contraceptive_method_used": 1,
          "standard_of_living_index": 4,
          "wife_age": 20,
          "wife_education": 2,
          "wife_religion": 1
         },
         {
          "contraceptive_method_used": 2,
          "standard_of_living_index": 4,
          "wife_age": 41,
          "wife_education": 4,
          "wife_religion": 1
         },
         {
          "contraceptive_method_used": 3,
          "standard_of_living_index": 3,
          "wife_age": 24,
          "wife_education": 4,
          "wife_religion": 1
         },
         {
          "contraceptive_method_used": 2,
          "standard_of_living_index": 4,
          "wife_age": 34,
          "wife_education": 1,
          "wife_religion": 1
         },
         {
          "contraceptive_method_used": 3,
          "standard_of_living_index": 3,
          "wife_age": 23,
          "wife_education": 2,
          "wife_religion": 1
         },
         {
          "contraceptive_method_used": 2,
          "standard_of_living_index": 3,
          "wife_age": 30,
          "wife_education": 3,
          "wife_religion": 1
         },
         {
          "contraceptive_method_used": 3,
          "standard_of_living_index": 3,
          "wife_age": 19,
          "wife_education": 4,
          "wife_religion": 1
         },
         {
          "contraceptive_method_used": 3,
          "standard_of_living_index": 3,
          "wife_age": 44,
          "wife_education": 4,
          "wife_religion": 0
         },
         {
          "contraceptive_method_used": 2,
          "standard_of_living_index": 3,
          "wife_age": 34,
          "wife_education": 3,
          "wife_religion": 1
         },
         {
          "contraceptive_method_used": 2,
          "standard_of_living_index": 4,
          "wife_age": 26,
          "wife_education": 2,
          "wife_religion": 1
         },
         {
          "contraceptive_method_used": 3,
          "standard_of_living_index": 3,
          "wife_age": 25,
          "wife_education": 4,
          "wife_religion": 1
         },
         {
          "contraceptive_method_used": 3,
          "standard_of_living_index": 3,
          "wife_age": 28,
          "wife_education": 4,
          "wife_religion": 1
         },
         {
          "contraceptive_method_used": 3,
          "standard_of_living_index": 4,
          "wife_age": 37,
          "wife_education": 4,
          "wife_religion": 0
         },
         {
          "contraceptive_method_used": 3,
          "standard_of_living_index": 2,
          "wife_age": 26,
          "wife_education": 3,
          "wife_religion": 1
         },
         {
          "contraceptive_method_used": 3,
          "standard_of_living_index": 2,
          "wife_age": 38,
          "wife_education": 3,
          "wife_religion": 1
         },
         {
          "contraceptive_method_used": 1,
          "standard_of_living_index": 4,
          "wife_age": 22,
          "wife_education": 4,
          "wife_religion": 1
         },
         {
          "contraceptive_method_used": 3,
          "standard_of_living_index": 4,
          "wife_age": 25,
          "wife_education": 3,
          "wife_religion": 1
         },
         {
          "contraceptive_method_used": 1,
          "standard_of_living_index": 2,
          "wife_age": 31,
          "wife_education": 2,
          "wife_religion": 1
         },
         {
          "contraceptive_method_used": 2,
          "standard_of_living_index": 4,
          "wife_age": 33,
          "wife_education": 3,
          "wife_religion": 1
         },
         {
          "contraceptive_method_used": 2,
          "standard_of_living_index": 2,
          "wife_age": 35,
          "wife_education": 2,
          "wife_religion": 0
         },
         {
          "contraceptive_method_used": 1,
          "standard_of_living_index": 4,
          "wife_age": 36,
          "wife_education": 2,
          "wife_religion": 1
         },
         {
          "contraceptive_method_used": 3,
          "standard_of_living_index": 2,
          "wife_age": 25,
          "wife_education": 3,
          "wife_religion": 1
         },
         {
          "contraceptive_method_used": 3,
          "standard_of_living_index": 2,
          "wife_age": 20,
          "wife_education": 2,
          "wife_religion": 1
         },
         {
          "contraceptive_method_used": 1,
          "standard_of_living_index": 4,
          "wife_age": 48,
          "wife_education": 1,
          "wife_religion": 1
         },
         {
          "contraceptive_method_used": 2,
          "standard_of_living_index": 2,
          "wife_age": 22,
          "wife_education": 4,
          "wife_religion": 1
         },
         {
          "contraceptive_method_used": 3,
          "standard_of_living_index": 4,
          "wife_age": 24,
          "wife_education": 3,
          "wife_religion": 1
         },
         {
          "contraceptive_method_used": 1,
          "standard_of_living_index": 4,
          "wife_age": 20,
          "wife_education": 4,
          "wife_religion": 0
         },
         {
          "contraceptive_method_used": 3,
          "standard_of_living_index": 3,
          "wife_age": 29,
          "wife_education": 3,
          "wife_religion": 1
         },
         {
          "contraceptive_method_used": 3,
          "standard_of_living_index": 4,
          "wife_age": 48,
          "wife_education": 3,
          "wife_religion": 1
         },
         {
          "contraceptive_method_used": 1,
          "standard_of_living_index": 4,
          "wife_age": 22,
          "wife_education": 3,
          "wife_religion": 1
         },
         {
          "contraceptive_method_used": 1,
          "standard_of_living_index": 4,
          "wife_age": 37,
          "wife_education": 4,
          "wife_religion": 1
         },
         {
          "contraceptive_method_used": 1,
          "standard_of_living_index": 1,
          "wife_age": 21,
          "wife_education": 3,
          "wife_religion": 1
         },
         {
          "contraceptive_method_used": 3,
          "standard_of_living_index": 4,
          "wife_age": 35,
          "wife_education": 4,
          "wife_religion": 1
         },
         {
          "contraceptive_method_used": 1,
          "standard_of_living_index": 4,
          "wife_age": 41,
          "wife_education": 1,
          "wife_religion": 1
         },
         {
          "contraceptive_method_used": 1,
          "standard_of_living_index": 3,
          "wife_age": 42,
          "wife_education": 3,
          "wife_religion": 1
         },
         {
          "contraceptive_method_used": 1,
          "standard_of_living_index": 1,
          "wife_age": 48,
          "wife_education": 1,
          "wife_religion": 1
         },
         {
          "contraceptive_method_used": 3,
          "standard_of_living_index": 4,
          "wife_age": 33,
          "wife_education": 4,
          "wife_religion": 0
         },
         {
          "contraceptive_method_used": 1,
          "standard_of_living_index": 4,
          "wife_age": 45,
          "wife_education": 3,
          "wife_religion": 0
         },
         {
          "contraceptive_method_used": 2,
          "standard_of_living_index": 3,
          "wife_age": 38,
          "wife_education": 4,
          "wife_religion": 1
         },
         {
          "contraceptive_method_used": 1,
          "standard_of_living_index": 3,
          "wife_age": 48,
          "wife_education": 1,
          "wife_religion": 1
         },
         {
          "contraceptive_method_used": 3,
          "standard_of_living_index": 2,
          "wife_age": 30,
          "wife_education": 3,
          "wife_religion": 1
         },
         {
          "contraceptive_method_used": 1,
          "standard_of_living_index": 4,
          "wife_age": 41,
          "wife_education": 3,
          "wife_religion": 1
         },
         {
          "contraceptive_method_used": 1,
          "standard_of_living_index": 2,
          "wife_age": 42,
          "wife_education": 3,
          "wife_religion": 1
         },
         {
          "contraceptive_method_used": 1,
          "standard_of_living_index": 4,
          "wife_age": 24,
          "wife_education": 2,
          "wife_religion": 1
         },
         {
          "contraceptive_method_used": 1,
          "standard_of_living_index": 3,
          "wife_age": 27,
          "wife_education": 2,
          "wife_religion": 1
         },
         {
          "contraceptive_method_used": 3,
          "standard_of_living_index": 4,
          "wife_age": 33,
          "wife_education": 3,
          "wife_religion": 1
         },
         {
          "contraceptive_method_used": 3,
          "standard_of_living_index": 4,
          "wife_age": 37,
          "wife_education": 3,
          "wife_religion": 0
         },
         {
          "contraceptive_method_used": 2,
          "standard_of_living_index": 3,
          "wife_age": 45,
          "wife_education": 3,
          "wife_religion": 0
         },
         {
          "contraceptive_method_used": 3,
          "standard_of_living_index": 4,
          "wife_age": 26,
          "wife_education": 4,
          "wife_religion": 1
         },
         {
          "contraceptive_method_used": 1,
          "standard_of_living_index": 3,
          "wife_age": 28,
          "wife_education": 3,
          "wife_religion": 1
         },
         {
          "contraceptive_method_used": 1,
          "standard_of_living_index": 4,
          "wife_age": 41,
          "wife_education": 3,
          "wife_religion": 0
         },
         {
          "contraceptive_method_used": 2,
          "standard_of_living_index": 4,
          "wife_age": 33,
          "wife_education": 4,
          "wife_religion": 1
         },
         {
          "contraceptive_method_used": 3,
          "standard_of_living_index": 3,
          "wife_age": 31,
          "wife_education": 1,
          "wife_religion": 1
         },
         {
          "contraceptive_method_used": 1,
          "standard_of_living_index": 2,
          "wife_age": 44,
          "wife_education": 1,
          "wife_religion": 1
         },
         {
          "contraceptive_method_used": 1,
          "standard_of_living_index": 4,
          "wife_age": 37,
          "wife_education": 4,
          "wife_religion": 1
         },
         {
          "contraceptive_method_used": 1,
          "standard_of_living_index": 2,
          "wife_age": 22,
          "wife_education": 2,
          "wife_religion": 1
         },
         {
          "contraceptive_method_used": 3,
          "standard_of_living_index": 4,
          "wife_age": 29,
          "wife_education": 1,
          "wife_religion": 1
         },
         {
          "contraceptive_method_used": 2,
          "standard_of_living_index": 4,
          "wife_age": 26,
          "wife_education": 2,
          "wife_religion": 1
         },
         {
          "contraceptive_method_used": 2,
          "standard_of_living_index": 3,
          "wife_age": 45,
          "wife_education": 3,
          "wife_religion": 1
         },
         {
          "contraceptive_method_used": 1,
          "standard_of_living_index": 2,
          "wife_age": 46,
          "wife_education": 3,
          "wife_religion": 1
         },
         {
          "contraceptive_method_used": 1,
          "standard_of_living_index": 3,
          "wife_age": 18,
          "wife_education": 2,
          "wife_religion": 1
         },
         {
          "contraceptive_method_used": 1,
          "standard_of_living_index": 4,
          "wife_age": 49,
          "wife_education": 4,
          "wife_religion": 1
         },
         {
          "contraceptive_method_used": 2,
          "standard_of_living_index": 4,
          "wife_age": 35,
          "wife_education": 4,
          "wife_religion": 1
         },
         {
          "contraceptive_method_used": 1,
          "standard_of_living_index": 3,
          "wife_age": 36,
          "wife_education": 2,
          "wife_religion": 1
         },
         {
          "contraceptive_method_used": 3,
          "standard_of_living_index": 2,
          "wife_age": 22,
          "wife_education": 2,
          "wife_religion": 1
         },
         {
          "contraceptive_method_used": 2,
          "standard_of_living_index": 4,
          "wife_age": 44,
          "wife_education": 2,
          "wife_religion": 0
         },
         {
          "contraceptive_method_used": 2,
          "standard_of_living_index": 2,
          "wife_age": 38,
          "wife_education": 2,
          "wife_religion": 1
         },
         {
          "contraceptive_method_used": 2,
          "standard_of_living_index": 4,
          "wife_age": 31,
          "wife_education": 4,
          "wife_religion": 0
         },
         {
          "contraceptive_method_used": 1,
          "standard_of_living_index": 1,
          "wife_age": 23,
          "wife_education": 3,
          "wife_religion": 1
         },
         {
          "contraceptive_method_used": 2,
          "standard_of_living_index": 4,
          "wife_age": 38,
          "wife_education": 4,
          "wife_religion": 1
         },
         {
          "contraceptive_method_used": 2,
          "standard_of_living_index": 4,
          "wife_age": 25,
          "wife_education": 2,
          "wife_religion": 1
         },
         {
          "contraceptive_method_used": 3,
          "standard_of_living_index": 4,
          "wife_age": 37,
          "wife_education": 4,
          "wife_religion": 1
         },
         {
          "contraceptive_method_used": 1,
          "standard_of_living_index": 3,
          "wife_age": 43,
          "wife_education": 4,
          "wife_religion": 1
         },
         {
          "contraceptive_method_used": 3,
          "standard_of_living_index": 3,
          "wife_age": 24,
          "wife_education": 4,
          "wife_religion": 1
         },
         {
          "contraceptive_method_used": 1,
          "standard_of_living_index": 3,
          "wife_age": 49,
          "wife_education": 1,
          "wife_religion": 1
         },
         {
          "contraceptive_method_used": 1,
          "standard_of_living_index": 2,
          "wife_age": 21,
          "wife_education": 2,
          "wife_religion": 1
         },
         {
          "contraceptive_method_used": 3,
          "standard_of_living_index": 3,
          "wife_age": 25,
          "wife_education": 3,
          "wife_religion": 1
         },
         {
          "contraceptive_method_used": 3,
          "standard_of_living_index": 3,
          "wife_age": 34,
          "wife_education": 2,
          "wife_religion": 1
         },
         {
          "contraceptive_method_used": 3,
          "standard_of_living_index": 3,
          "wife_age": 35,
          "wife_education": 2,
          "wife_religion": 1
         },
         {
          "contraceptive_method_used": 3,
          "standard_of_living_index": 3,
          "wife_age": 31,
          "wife_education": 2,
          "wife_religion": 1
         },
         {
          "contraceptive_method_used": 2,
          "standard_of_living_index": 4,
          "wife_age": 47,
          "wife_education": 4,
          "wife_religion": 0
         },
         {
          "contraceptive_method_used": 2,
          "standard_of_living_index": 3,
          "wife_age": 32,
          "wife_education": 3,
          "wife_religion": 0
         },
         {
          "contraceptive_method_used": 3,
          "standard_of_living_index": 4,
          "wife_age": 38,
          "wife_education": 2,
          "wife_religion": 1
         },
         {
          "contraceptive_method_used": 2,
          "standard_of_living_index": 2,
          "wife_age": 22,
          "wife_education": 4,
          "wife_religion": 1
         },
         {
          "contraceptive_method_used": 1,
          "standard_of_living_index": 3,
          "wife_age": 34,
          "wife_education": 3,
          "wife_religion": 1
         },
         {
          "contraceptive_method_used": 3,
          "standard_of_living_index": 4,
          "wife_age": 25,
          "wife_education": 2,
          "wife_religion": 1
         },
         {
          "contraceptive_method_used": 1,
          "standard_of_living_index": 3,
          "wife_age": 47,
          "wife_education": 1,
          "wife_religion": 1
         },
         {
          "contraceptive_method_used": 1,
          "standard_of_living_index": 4,
          "wife_age": 20,
          "wife_education": 2,
          "wife_religion": 1
         },
         {
          "contraceptive_method_used": 3,
          "standard_of_living_index": 2,
          "wife_age": 32,
          "wife_education": 2,
          "wife_religion": 1
         },
         {
          "contraceptive_method_used": 1,
          "standard_of_living_index": 2,
          "wife_age": 20,
          "wife_education": 3,
          "wife_religion": 1
         },
         {
          "contraceptive_method_used": 2,
          "standard_of_living_index": 4,
          "wife_age": 30,
          "wife_education": 4,
          "wife_religion": 0
         },
         {
          "contraceptive_method_used": 3,
          "standard_of_living_index": 3,
          "wife_age": 36,
          "wife_education": 4,
          "wife_religion": 1
         },
         {
          "contraceptive_method_used": 2,
          "standard_of_living_index": 2,
          "wife_age": 29,
          "wife_education": 4,
          "wife_religion": 1
         },
         {
          "contraceptive_method_used": 1,
          "standard_of_living_index": 3,
          "wife_age": 37,
          "wife_education": 2,
          "wife_religion": 0
         },
         {
          "contraceptive_method_used": 3,
          "standard_of_living_index": 3,
          "wife_age": 26,
          "wife_education": 4,
          "wife_religion": 1
         },
         {
          "contraceptive_method_used": 1,
          "standard_of_living_index": 4,
          "wife_age": 39,
          "wife_education": 3,
          "wife_religion": 0
         },
         {
          "contraceptive_method_used": 1,
          "standard_of_living_index": 1,
          "wife_age": 25,
          "wife_education": 3,
          "wife_religion": 1
         },
         {
          "contraceptive_method_used": 2,
          "standard_of_living_index": 3,
          "wife_age": 24,
          "wife_education": 2,
          "wife_religion": 1
         },
         {
          "contraceptive_method_used": 3,
          "standard_of_living_index": 4,
          "wife_age": 28,
          "wife_education": 4,
          "wife_religion": 0
         },
         {
          "contraceptive_method_used": 3,
          "standard_of_living_index": 2,
          "wife_age": 23,
          "wife_education": 4,
          "wife_religion": 1
         },
         {
          "contraceptive_method_used": 1,
          "standard_of_living_index": 3,
          "wife_age": 40,
          "wife_education": 2,
          "wife_religion": 1
         },
         {
          "contraceptive_method_used": 1,
          "standard_of_living_index": 4,
          "wife_age": 46,
          "wife_education": 4,
          "wife_religion": 0
         },
         {
          "contraceptive_method_used": 3,
          "standard_of_living_index": 4,
          "wife_age": 43,
          "wife_education": 4,
          "wife_religion": 1
         },
         {
          "contraceptive_method_used": 1,
          "standard_of_living_index": 3,
          "wife_age": 24,
          "wife_education": 2,
          "wife_religion": 1
         },
         {
          "contraceptive_method_used": 1,
          "standard_of_living_index": 4,
          "wife_age": 47,
          "wife_education": 2,
          "wife_religion": 0
         },
         {
          "contraceptive_method_used": 3,
          "standard_of_living_index": 3,
          "wife_age": 26,
          "wife_education": 3,
          "wife_religion": 1
         },
         {
          "contraceptive_method_used": 1,
          "standard_of_living_index": 4,
          "wife_age": 39,
          "wife_education": 2,
          "wife_religion": 1
         },
         {
          "contraceptive_method_used": 1,
          "standard_of_living_index": 4,
          "wife_age": 20,
          "wife_education": 2,
          "wife_religion": 1
         },
         {
          "contraceptive_method_used": 3,
          "standard_of_living_index": 4,
          "wife_age": 49,
          "wife_education": 4,
          "wife_religion": 1
         },
         {
          "contraceptive_method_used": 1,
          "standard_of_living_index": 4,
          "wife_age": 38,
          "wife_education": 3,
          "wife_religion": 1
         },
         {
          "contraceptive_method_used": 1,
          "standard_of_living_index": 1,
          "wife_age": 22,
          "wife_education": 2,
          "wife_religion": 1
         },
         {
          "contraceptive_method_used": 1,
          "standard_of_living_index": 3,
          "wife_age": 23,
          "wife_education": 2,
          "wife_religion": 1
         },
         {
          "contraceptive_method_used": 1,
          "standard_of_living_index": 3,
          "wife_age": 48,
          "wife_education": 2,
          "wife_religion": 1
         },
         {
          "contraceptive_method_used": 1,
          "standard_of_living_index": 4,
          "wife_age": 32,
          "wife_education": 4,
          "wife_religion": 1
         },
         {
          "contraceptive_method_used": 1,
          "standard_of_living_index": 4,
          "wife_age": 48,
          "wife_education": 4,
          "wife_religion": 0
         },
         {
          "contraceptive_method_used": 2,
          "standard_of_living_index": 4,
          "wife_age": 47,
          "wife_education": 4,
          "wife_religion": 1
         },
         {
          "contraceptive_method_used": 2,
          "standard_of_living_index": 4,
          "wife_age": 43,
          "wife_education": 3,
          "wife_religion": 1
         },
         {
          "contraceptive_method_used": 3,
          "standard_of_living_index": 3,
          "wife_age": 40,
          "wife_education": 3,
          "wife_religion": 1
         },
         {
          "contraceptive_method_used": 2,
          "standard_of_living_index": 4,
          "wife_age": 34,
          "wife_education": 4,
          "wife_religion": 1
         },
         {
          "contraceptive_method_used": 2,
          "standard_of_living_index": 4,
          "wife_age": 41,
          "wife_education": 3,
          "wife_religion": 0
         },
         {
          "contraceptive_method_used": 3,
          "standard_of_living_index": 4,
          "wife_age": 28,
          "wife_education": 2,
          "wife_religion": 1
         },
         {
          "contraceptive_method_used": 1,
          "standard_of_living_index": 4,
          "wife_age": 43,
          "wife_education": 4,
          "wife_religion": 0
         },
         {
          "contraceptive_method_used": 2,
          "standard_of_living_index": 1,
          "wife_age": 44,
          "wife_education": 3,
          "wife_religion": 1
         },
         {
          "contraceptive_method_used": 1,
          "standard_of_living_index": 2,
          "wife_age": 38,
          "wife_education": 1,
          "wife_religion": 1
         },
         {
          "contraceptive_method_used": 1,
          "standard_of_living_index": 1,
          "wife_age": 23,
          "wife_education": 1,
          "wife_religion": 1
         },
         {
          "contraceptive_method_used": 2,
          "standard_of_living_index": 1,
          "wife_age": 30,
          "wife_education": 2,
          "wife_religion": 1
         },
         {
          "contraceptive_method_used": 2,
          "standard_of_living_index": 4,
          "wife_age": 39,
          "wife_education": 4,
          "wife_religion": 0
         },
         {
          "contraceptive_method_used": 3,
          "standard_of_living_index": 4,
          "wife_age": 26,
          "wife_education": 3,
          "wife_religion": 1
         },
         {
          "contraceptive_method_used": 1,
          "standard_of_living_index": 2,
          "wife_age": 36,
          "wife_education": 2,
          "wife_religion": 1
         },
         {
          "contraceptive_method_used": 1,
          "standard_of_living_index": 2,
          "wife_age": 38,
          "wife_education": 2,
          "wife_religion": 1
         },
         {
          "contraceptive_method_used": 3,
          "standard_of_living_index": 2,
          "wife_age": 36,
          "wife_education": 1,
          "wife_religion": 1
         },
         {
          "contraceptive_method_used": 2,
          "standard_of_living_index": 4,
          "wife_age": 48,
          "wife_education": 4,
          "wife_religion": 0
         },
         {
          "contraceptive_method_used": 1,
          "standard_of_living_index": 4,
          "wife_age": 24,
          "wife_education": 4,
          "wife_religion": 0
         },
         {
          "contraceptive_method_used": 3,
          "standard_of_living_index": 3,
          "wife_age": 25,
          "wife_education": 1,
          "wife_religion": 1
         },
         {
          "contraceptive_method_used": 1,
          "standard_of_living_index": 1,
          "wife_age": 36,
          "wife_education": 2,
          "wife_religion": 1
         },
         {
          "contraceptive_method_used": 1,
          "standard_of_living_index": 1,
          "wife_age": 49,
          "wife_education": 1,
          "wife_religion": 1
         },
         {
          "contraceptive_method_used": 1,
          "standard_of_living_index": 4,
          "wife_age": 29,
          "wife_education": 3,
          "wife_religion": 1
         },
         {
          "contraceptive_method_used": 1,
          "standard_of_living_index": 2,
          "wife_age": 29,
          "wife_education": 3,
          "wife_religion": 1
         },
         {
          "contraceptive_method_used": 2,
          "standard_of_living_index": 4,
          "wife_age": 33,
          "wife_education": 3,
          "wife_religion": 1
         },
         {
          "contraceptive_method_used": 1,
          "standard_of_living_index": 1,
          "wife_age": 28,
          "wife_education": 2,
          "wife_religion": 1
         },
         {
          "contraceptive_method_used": 1,
          "standard_of_living_index": 1,
          "wife_age": 44,
          "wife_education": 1,
          "wife_religion": 1
         },
         {
          "contraceptive_method_used": 2,
          "standard_of_living_index": 2,
          "wife_age": 44,
          "wife_education": 4,
          "wife_religion": 1
         },
         {
          "contraceptive_method_used": 1,
          "standard_of_living_index": 2,
          "wife_age": 25,
          "wife_education": 2,
          "wife_religion": 1
         },
         {
          "contraceptive_method_used": 1,
          "standard_of_living_index": 1,
          "wife_age": 43,
          "wife_education": 1,
          "wife_religion": 1
         },
         {
          "contraceptive_method_used": 2,
          "standard_of_living_index": 3,
          "wife_age": 47,
          "wife_education": 3,
          "wife_religion": 1
         },
         {
          "contraceptive_method_used": 1,
          "standard_of_living_index": 4,
          "wife_age": 24,
          "wife_education": 4,
          "wife_religion": 1
         },
         {
          "contraceptive_method_used": 3,
          "standard_of_living_index": 2,
          "wife_age": 17,
          "wife_education": 2,
          "wife_religion": 1
         },
         {
          "contraceptive_method_used": 1,
          "standard_of_living_index": 3,
          "wife_age": 26,
          "wife_education": 3,
          "wife_religion": 1
         },
         {
          "contraceptive_method_used": 2,
          "standard_of_living_index": 4,
          "wife_age": 41,
          "wife_education": 4,
          "wife_religion": 0
         },
         {
          "contraceptive_method_used": 1,
          "standard_of_living_index": 2,
          "wife_age": 49,
          "wife_education": 2,
          "wife_religion": 1
         },
         {
          "contraceptive_method_used": 2,
          "standard_of_living_index": 2,
          "wife_age": 29,
          "wife_education": 4,
          "wife_religion": 1
         },
         {
          "contraceptive_method_used": 2,
          "standard_of_living_index": 4,
          "wife_age": 30,
          "wife_education": 4,
          "wife_religion": 0
         },
         {
          "contraceptive_method_used": 2,
          "standard_of_living_index": 4,
          "wife_age": 46,
          "wife_education": 4,
          "wife_religion": 1
         },
         {
          "contraceptive_method_used": 3,
          "standard_of_living_index": 3,
          "wife_age": 26,
          "wife_education": 3,
          "wife_religion": 1
         },
         {
          "contraceptive_method_used": 3,
          "standard_of_living_index": 4,
          "wife_age": 32,
          "wife_education": 4,
          "wife_religion": 1
         },
         {
          "contraceptive_method_used": 2,
          "standard_of_living_index": 4,
          "wife_age": 47,
          "wife_education": 4,
          "wife_religion": 1
         },
         {
          "contraceptive_method_used": 2,
          "standard_of_living_index": 3,
          "wife_age": 35,
          "wife_education": 4,
          "wife_religion": 1
         },
         {
          "contraceptive_method_used": 1,
          "standard_of_living_index": 4,
          "wife_age": 43,
          "wife_education": 1,
          "wife_religion": 1
         },
         {
          "contraceptive_method_used": 1,
          "standard_of_living_index": 4,
          "wife_age": 29,
          "wife_education": 2,
          "wife_religion": 1
         },
         {
          "contraceptive_method_used": 3,
          "standard_of_living_index": 2,
          "wife_age": 29,
          "wife_education": 1,
          "wife_religion": 1
         },
         {
          "contraceptive_method_used": 3,
          "standard_of_living_index": 4,
          "wife_age": 21,
          "wife_education": 2,
          "wife_religion": 0
         },
         {
          "contraceptive_method_used": 3,
          "standard_of_living_index": 1,
          "wife_age": 24,
          "wife_education": 2,
          "wife_religion": 1
         },
         {
          "contraceptive_method_used": 1,
          "standard_of_living_index": 2,
          "wife_age": 40,
          "wife_education": 2,
          "wife_religion": 1
         },
         {
          "contraceptive_method_used": 1,
          "standard_of_living_index": 4,
          "wife_age": 44,
          "wife_education": 4,
          "wife_religion": 1
         },
         {
          "contraceptive_method_used": 3,
          "standard_of_living_index": 4,
          "wife_age": 27,
          "wife_education": 2,
          "wife_religion": 1
         },
         {
          "contraceptive_method_used": 1,
          "standard_of_living_index": 4,
          "wife_age": 35,
          "wife_education": 1,
          "wife_religion": 1
         },
         {
          "contraceptive_method_used": 3,
          "standard_of_living_index": 4,
          "wife_age": 32,
          "wife_education": 4,
          "wife_religion": 1
         },
         {
          "contraceptive_method_used": 1,
          "standard_of_living_index": 3,
          "wife_age": 48,
          "wife_education": 1,
          "wife_religion": 1
         },
         {
          "contraceptive_method_used": 3,
          "standard_of_living_index": 3,
          "wife_age": 23,
          "wife_education": 4,
          "wife_religion": 1
         },
         {
          "contraceptive_method_used": 3,
          "standard_of_living_index": 4,
          "wife_age": 48,
          "wife_education": 4,
          "wife_religion": 1
         },
         {
          "contraceptive_method_used": 2,
          "standard_of_living_index": 4,
          "wife_age": 35,
          "wife_education": 4,
          "wife_religion": 0
         },
         {
          "contraceptive_method_used": 3,
          "standard_of_living_index": 3,
          "wife_age": 29,
          "wife_education": 2,
          "wife_religion": 1
         },
         {
          "contraceptive_method_used": 1,
          "standard_of_living_index": 2,
          "wife_age": 19,
          "wife_education": 2,
          "wife_religion": 1
         },
         {
          "contraceptive_method_used": 2,
          "standard_of_living_index": 4,
          "wife_age": 39,
          "wife_education": 4,
          "wife_religion": 1
         },
         {
          "contraceptive_method_used": 3,
          "standard_of_living_index": 3,
          "wife_age": 29,
          "wife_education": 1,
          "wife_religion": 1
         },
         {
          "contraceptive_method_used": 1,
          "standard_of_living_index": 4,
          "wife_age": 30,
          "wife_education": 4,
          "wife_religion": 1
         },
         {
          "contraceptive_method_used": 3,
          "standard_of_living_index": 3,
          "wife_age": 30,
          "wife_education": 3,
          "wife_religion": 0
         },
         {
          "contraceptive_method_used": 1,
          "standard_of_living_index": 3,
          "wife_age": 31,
          "wife_education": 3,
          "wife_religion": 1
         },
         {
          "contraceptive_method_used": 3,
          "standard_of_living_index": 3,
          "wife_age": 24,
          "wife_education": 4,
          "wife_religion": 1
         },
         {
          "contraceptive_method_used": 3,
          "standard_of_living_index": 3,
          "wife_age": 30,
          "wife_education": 3,
          "wife_religion": 1
         },
         {
          "contraceptive_method_used": 3,
          "standard_of_living_index": 4,
          "wife_age": 37,
          "wife_education": 4,
          "wife_religion": 0
         },
         {
          "contraceptive_method_used": 1,
          "standard_of_living_index": 3,
          "wife_age": 47,
          "wife_education": 1,
          "wife_religion": 1
         },
         {
          "contraceptive_method_used": 2,
          "standard_of_living_index": 2,
          "wife_age": 23,
          "wife_education": 4,
          "wife_religion": 1
         },
         {
          "contraceptive_method_used": 1,
          "standard_of_living_index": 2,
          "wife_age": 22,
          "wife_education": 2,
          "wife_religion": 1
         },
         {
          "contraceptive_method_used": 1,
          "standard_of_living_index": 1,
          "wife_age": 38,
          "wife_education": 1,
          "wife_religion": 1
         },
         {
          "contraceptive_method_used": 3,
          "standard_of_living_index": 4,
          "wife_age": 25,
          "wife_education": 4,
          "wife_religion": 0
         },
         {
          "contraceptive_method_used": 2,
          "standard_of_living_index": 4,
          "wife_age": 45,
          "wife_education": 4,
          "wife_religion": 1
         },
         {
          "contraceptive_method_used": 2,
          "standard_of_living_index": 3,
          "wife_age": 29,
          "wife_education": 3,
          "wife_religion": 1
         },
         {
          "contraceptive_method_used": 3,
          "standard_of_living_index": 4,
          "wife_age": 24,
          "wife_education": 3,
          "wife_religion": 1
         },
         {
          "contraceptive_method_used": 2,
          "standard_of_living_index": 4,
          "wife_age": 37,
          "wife_education": 4,
          "wife_religion": 1
         },
         {
          "contraceptive_method_used": 3,
          "standard_of_living_index": 4,
          "wife_age": 21,
          "wife_education": 3,
          "wife_religion": 1
         },
         {
          "contraceptive_method_used": 1,
          "standard_of_living_index": 2,
          "wife_age": 22,
          "wife_education": 4,
          "wife_religion": 1
         },
         {
          "contraceptive_method_used": 3,
          "standard_of_living_index": 3,
          "wife_age": 25,
          "wife_education": 4,
          "wife_religion": 0
         },
         {
          "contraceptive_method_used": 3,
          "standard_of_living_index": 3,
          "wife_age": 21,
          "wife_education": 2,
          "wife_religion": 1
         },
         {
          "contraceptive_method_used": 3,
          "standard_of_living_index": 4,
          "wife_age": 26,
          "wife_education": 4,
          "wife_religion": 1
         },
         {
          "contraceptive_method_used": 1,
          "standard_of_living_index": 3,
          "wife_age": 47,
          "wife_education": 4,
          "wife_religion": 1
         },
         {
          "contraceptive_method_used": 1,
          "standard_of_living_index": 2,
          "wife_age": 31,
          "wife_education": 1,
          "wife_religion": 1
         },
         {
          "contraceptive_method_used": 2,
          "standard_of_living_index": 3,
          "wife_age": 24,
          "wife_education": 4,
          "wife_religion": 0
         },
         {
          "contraceptive_method_used": 2,
          "standard_of_living_index": 4,
          "wife_age": 26,
          "wife_education": 3,
          "wife_religion": 1
         },
         {
          "contraceptive_method_used": 3,
          "standard_of_living_index": 3,
          "wife_age": 27,
          "wife_education": 2,
          "wife_religion": 1
         },
         {
          "contraceptive_method_used": 1,
          "standard_of_living_index": 2,
          "wife_age": 21,
          "wife_education": 2,
          "wife_religion": 1
         },
         {
          "contraceptive_method_used": 3,
          "standard_of_living_index": 4,
          "wife_age": 36,
          "wife_education": 2,
          "wife_religion": 1
         },
         {
          "contraceptive_method_used": 3,
          "standard_of_living_index": 4,
          "wife_age": 32,
          "wife_education": 4,
          "wife_religion": 1
         },
         {
          "contraceptive_method_used": 2,
          "standard_of_living_index": 4,
          "wife_age": 39,
          "wife_education": 3,
          "wife_religion": 1
         },
         {
          "contraceptive_method_used": 1,
          "standard_of_living_index": 3,
          "wife_age": 38,
          "wife_education": 1,
          "wife_religion": 1
         },
         {
          "contraceptive_method_used": 1,
          "standard_of_living_index": 4,
          "wife_age": 26,
          "wife_education": 4,
          "wife_religion": 1
         },
         {
          "contraceptive_method_used": 3,
          "standard_of_living_index": 2,
          "wife_age": 21,
          "wife_education": 3,
          "wife_religion": 0
         },
         {
          "contraceptive_method_used": 3,
          "standard_of_living_index": 4,
          "wife_age": 43,
          "wife_education": 3,
          "wife_religion": 0
         },
         {
          "contraceptive_method_used": 2,
          "standard_of_living_index": 4,
          "wife_age": 32,
          "wife_education": 3,
          "wife_religion": 1
         },
         {
          "contraceptive_method_used": 2,
          "standard_of_living_index": 3,
          "wife_age": 31,
          "wife_education": 3,
          "wife_religion": 1
         },
         {
          "contraceptive_method_used": 3,
          "standard_of_living_index": 3,
          "wife_age": 24,
          "wife_education": 4,
          "wife_religion": 1
         },
         {
          "contraceptive_method_used": 1,
          "standard_of_living_index": 1,
          "wife_age": 38,
          "wife_education": 3,
          "wife_religion": 1
         },
         {
          "contraceptive_method_used": 3,
          "standard_of_living_index": 3,
          "wife_age": 30,
          "wife_education": 3,
          "wife_religion": 1
         },
         {
          "contraceptive_method_used": 2,
          "standard_of_living_index": 4,
          "wife_age": 44,
          "wife_education": 4,
          "wife_religion": 1
         },
         {
          "contraceptive_method_used": 3,
          "standard_of_living_index": 4,
          "wife_age": 22,
          "wife_education": 4,
          "wife_religion": 1
         },
         {
          "contraceptive_method_used": 1,
          "standard_of_living_index": 3,
          "wife_age": 49,
          "wife_education": 4,
          "wife_religion": 1
         },
         {
          "contraceptive_method_used": 1,
          "standard_of_living_index": 1,
          "wife_age": 25,
          "wife_education": 2,
          "wife_religion": 1
         },
         {
          "contraceptive_method_used": 1,
          "standard_of_living_index": 2,
          "wife_age": 47,
          "wife_education": 2,
          "wife_religion": 1
         },
         {
          "contraceptive_method_used": 1,
          "standard_of_living_index": 2,
          "wife_age": 25,
          "wife_education": 3,
          "wife_religion": 1
         },
         {
          "contraceptive_method_used": 1,
          "standard_of_living_index": 4,
          "wife_age": 31,
          "wife_education": 3,
          "wife_religion": 1
         },
         {
          "contraceptive_method_used": 1,
          "standard_of_living_index": 1,
          "wife_age": 39,
          "wife_education": 1,
          "wife_religion": 1
         },
         {
          "contraceptive_method_used": 1,
          "standard_of_living_index": 3,
          "wife_age": 28,
          "wife_education": 4,
          "wife_religion": 1
         },
         {
          "contraceptive_method_used": 1,
          "standard_of_living_index": 2,
          "wife_age": 38,
          "wife_education": 2,
          "wife_religion": 1
         },
         {
          "contraceptive_method_used": 1,
          "standard_of_living_index": 3,
          "wife_age": 31,
          "wife_education": 3,
          "wife_religion": 1
         },
         {
          "contraceptive_method_used": 1,
          "standard_of_living_index": 4,
          "wife_age": 36,
          "wife_education": 3,
          "wife_religion": 1
         },
         {
          "contraceptive_method_used": 2,
          "standard_of_living_index": 3,
          "wife_age": 33,
          "wife_education": 3,
          "wife_religion": 0
         },
         {
          "contraceptive_method_used": 1,
          "standard_of_living_index": 4,
          "wife_age": 37,
          "wife_education": 3,
          "wife_religion": 1
         },
         {
          "contraceptive_method_used": 1,
          "standard_of_living_index": 4,
          "wife_age": 23,
          "wife_education": 4,
          "wife_religion": 1
         },
         {
          "contraceptive_method_used": 3,
          "standard_of_living_index": 2,
          "wife_age": 19,
          "wife_education": 4,
          "wife_religion": 1
         },
         {
          "contraceptive_method_used": 3,
          "standard_of_living_index": 3,
          "wife_age": 28,
          "wife_education": 2,
          "wife_religion": 1
         },
         {
          "contraceptive_method_used": 2,
          "standard_of_living_index": 4,
          "wife_age": 32,
          "wife_education": 4,
          "wife_religion": 0
         },
         {
          "contraceptive_method_used": 2,
          "standard_of_living_index": 3,
          "wife_age": 29,
          "wife_education": 3,
          "wife_religion": 1
         },
         {
          "contraceptive_method_used": 3,
          "standard_of_living_index": 3,
          "wife_age": 30,
          "wife_education": 3,
          "wife_religion": 1
         },
         {
          "contraceptive_method_used": 1,
          "standard_of_living_index": 2,
          "wife_age": 28,
          "wife_education": 3,
          "wife_religion": 0
         },
         {
          "contraceptive_method_used": 1,
          "standard_of_living_index": 4,
          "wife_age": 25,
          "wife_education": 4,
          "wife_religion": 1
         },
         {
          "contraceptive_method_used": 1,
          "standard_of_living_index": 3,
          "wife_age": 32,
          "wife_education": 4,
          "wife_religion": 1
         },
         {
          "contraceptive_method_used": 1,
          "standard_of_living_index": 4,
          "wife_age": 27,
          "wife_education": 4,
          "wife_religion": 0
         },
         {
          "contraceptive_method_used": 1,
          "standard_of_living_index": 4,
          "wife_age": 48,
          "wife_education": 4,
          "wife_religion": 0
         },
         {
          "contraceptive_method_used": 3,
          "standard_of_living_index": 4,
          "wife_age": 26,
          "wife_education": 4,
          "wife_religion": 1
         },
         {
          "contraceptive_method_used": 2,
          "standard_of_living_index": 4,
          "wife_age": 45,
          "wife_education": 4,
          "wife_religion": 1
         },
         {
          "contraceptive_method_used": 1,
          "standard_of_living_index": 4,
          "wife_age": 49,
          "wife_education": 2,
          "wife_religion": 1
         },
         {
          "contraceptive_method_used": 3,
          "standard_of_living_index": 2,
          "wife_age": 26,
          "wife_education": 4,
          "wife_religion": 1
         },
         {
          "contraceptive_method_used": 2,
          "standard_of_living_index": 3,
          "wife_age": 32,
          "wife_education": 4,
          "wife_religion": 0
         },
         {
          "contraceptive_method_used": 1,
          "standard_of_living_index": 2,
          "wife_age": 26,
          "wife_education": 2,
          "wife_religion": 1
         },
         {
          "contraceptive_method_used": 1,
          "standard_of_living_index": 2,
          "wife_age": 32,
          "wife_education": 1,
          "wife_religion": 1
         },
         {
          "contraceptive_method_used": 1,
          "standard_of_living_index": 4,
          "wife_age": 42,
          "wife_education": 2,
          "wife_religion": 1
         },
         {
          "contraceptive_method_used": 1,
          "standard_of_living_index": 4,
          "wife_age": 48,
          "wife_education": 4,
          "wife_religion": 1
         },
         {
          "contraceptive_method_used": 1,
          "standard_of_living_index": 4,
          "wife_age": 43,
          "wife_education": 1,
          "wife_religion": 1
         },
         {
          "contraceptive_method_used": 1,
          "standard_of_living_index": 3,
          "wife_age": 32,
          "wife_education": 2,
          "wife_religion": 1
         },
         {
          "contraceptive_method_used": 3,
          "standard_of_living_index": 3,
          "wife_age": 21,
          "wife_education": 3,
          "wife_religion": 1
         },
         {
          "contraceptive_method_used": 1,
          "standard_of_living_index": 1,
          "wife_age": 47,
          "wife_education": 2,
          "wife_religion": 1
         },
         {
          "contraceptive_method_used": 1,
          "standard_of_living_index": 4,
          "wife_age": 34,
          "wife_education": 4,
          "wife_religion": 1
         },
         {
          "contraceptive_method_used": 3,
          "standard_of_living_index": 1,
          "wife_age": 30,
          "wife_education": 3,
          "wife_religion": 1
         },
         {
          "contraceptive_method_used": 3,
          "standard_of_living_index": 4,
          "wife_age": 36,
          "wife_education": 3,
          "wife_religion": 1
         },
         {
          "contraceptive_method_used": 1,
          "standard_of_living_index": 2,
          "wife_age": 31,
          "wife_education": 2,
          "wife_religion": 1
         },
         {
          "contraceptive_method_used": 1,
          "standard_of_living_index": 3,
          "wife_age": 45,
          "wife_education": 4,
          "wife_religion": 1
         },
         {
          "contraceptive_method_used": 1,
          "standard_of_living_index": 4,
          "wife_age": 49,
          "wife_education": 4,
          "wife_religion": 0
         },
         {
          "contraceptive_method_used": 3,
          "standard_of_living_index": 4,
          "wife_age": 41,
          "wife_education": 4,
          "wife_religion": 1
         },
         {
          "contraceptive_method_used": 1,
          "standard_of_living_index": 4,
          "wife_age": 49,
          "wife_education": 3,
          "wife_religion": 1
         },
         {
          "contraceptive_method_used": 3,
          "standard_of_living_index": 1,
          "wife_age": 24,
          "wife_education": 3,
          "wife_religion": 1
         },
         {
          "contraceptive_method_used": 3,
          "standard_of_living_index": 4,
          "wife_age": 30,
          "wife_education": 2,
          "wife_religion": 1
         },
         {
          "contraceptive_method_used": 3,
          "standard_of_living_index": 1,
          "wife_age": 25,
          "wife_education": 2,
          "wife_religion": 1
         },
         {
          "contraceptive_method_used": 3,
          "standard_of_living_index": 4,
          "wife_age": 41,
          "wife_education": 1,
          "wife_religion": 1
         },
         {
          "contraceptive_method_used": 1,
          "standard_of_living_index": 2,
          "wife_age": 40,
          "wife_education": 3,
          "wife_religion": 1
         },
         {
          "contraceptive_method_used": 1,
          "standard_of_living_index": 2,
          "wife_age": 32,
          "wife_education": 1,
          "wife_religion": 1
         },
         {
          "contraceptive_method_used": 3,
          "standard_of_living_index": 3,
          "wife_age": 26,
          "wife_education": 3,
          "wife_religion": 1
         },
         {
          "contraceptive_method_used": 3,
          "standard_of_living_index": 2,
          "wife_age": 35,
          "wife_education": 1,
          "wife_religion": 1
         },
         {
          "contraceptive_method_used": 2,
          "standard_of_living_index": 3,
          "wife_age": 36,
          "wife_education": 3,
          "wife_religion": 1
         },
         {
          "contraceptive_method_used": 1,
          "standard_of_living_index": 2,
          "wife_age": 40,
          "wife_education": 2,
          "wife_religion": 1
         },
         {
          "contraceptive_method_used": 2,
          "standard_of_living_index": 3,
          "wife_age": 35,
          "wife_education": 4,
          "wife_religion": 1
         },
         {
          "contraceptive_method_used": 1,
          "standard_of_living_index": 3,
          "wife_age": 48,
          "wife_education": 3,
          "wife_religion": 1
         },
         {
          "contraceptive_method_used": 1,
          "standard_of_living_index": 4,
          "wife_age": 27,
          "wife_education": 4,
          "wife_religion": 1
         },
         {
          "contraceptive_method_used": 3,
          "standard_of_living_index": 3,
          "wife_age": 35,
          "wife_education": 2,
          "wife_religion": 1
         },
         {
          "contraceptive_method_used": 3,
          "standard_of_living_index": 3,
          "wife_age": 47,
          "wife_education": 4,
          "wife_religion": 1
         },
         {
          "contraceptive_method_used": 1,
          "standard_of_living_index": 3,
          "wife_age": 26,
          "wife_education": 2,
          "wife_religion": 1
         },
         {
          "contraceptive_method_used": 3,
          "standard_of_living_index": 2,
          "wife_age": 30,
          "wife_education": 4,
          "wife_religion": 1
         },
         {
          "contraceptive_method_used": 3,
          "standard_of_living_index": 1,
          "wife_age": 29,
          "wife_education": 2,
          "wife_religion": 1
         },
         {
          "contraceptive_method_used": 3,
          "standard_of_living_index": 4,
          "wife_age": 28,
          "wife_education": 3,
          "wife_religion": 1
         },
         {
          "contraceptive_method_used": 3,
          "standard_of_living_index": 4,
          "wife_age": 43,
          "wife_education": 4,
          "wife_religion": 0
         },
         {
          "contraceptive_method_used": 2,
          "standard_of_living_index": 4,
          "wife_age": 42,
          "wife_education": 4,
          "wife_religion": 1
         },
         {
          "contraceptive_method_used": 3,
          "standard_of_living_index": 3,
          "wife_age": 34,
          "wife_education": 2,
          "wife_religion": 1
         },
         {
          "contraceptive_method_used": 1,
          "standard_of_living_index": 2,
          "wife_age": 31,
          "wife_education": 3,
          "wife_religion": 1
         },
         {
          "contraceptive_method_used": 3,
          "standard_of_living_index": 2,
          "wife_age": 36,
          "wife_education": 4,
          "wife_religion": 0
         },
         {
          "contraceptive_method_used": 2,
          "standard_of_living_index": 3,
          "wife_age": 28,
          "wife_education": 3,
          "wife_religion": 0
         },
         {
          "contraceptive_method_used": 2,
          "standard_of_living_index": 3,
          "wife_age": 33,
          "wife_education": 4,
          "wife_religion": 1
         },
         {
          "contraceptive_method_used": 3,
          "standard_of_living_index": 4,
          "wife_age": 44,
          "wife_education": 4,
          "wife_religion": 1
         },
         {
          "contraceptive_method_used": 2,
          "standard_of_living_index": 4,
          "wife_age": 33,
          "wife_education": 3,
          "wife_religion": 0
         },
         {
          "contraceptive_method_used": 3,
          "standard_of_living_index": 3,
          "wife_age": 29,
          "wife_education": 3,
          "wife_religion": 1
         },
         {
          "contraceptive_method_used": 1,
          "standard_of_living_index": 3,
          "wife_age": 31,
          "wife_education": 4,
          "wife_religion": 1
         },
         {
          "contraceptive_method_used": 3,
          "standard_of_living_index": 4,
          "wife_age": 29,
          "wife_education": 2,
          "wife_religion": 1
         },
         {
          "contraceptive_method_used": 1,
          "standard_of_living_index": 3,
          "wife_age": 49,
          "wife_education": 2,
          "wife_religion": 1
         },
         {
          "contraceptive_method_used": 2,
          "standard_of_living_index": 4,
          "wife_age": 27,
          "wife_education": 3,
          "wife_religion": 1
         },
         {
          "contraceptive_method_used": 2,
          "standard_of_living_index": 4,
          "wife_age": 43,
          "wife_education": 4,
          "wife_religion": 0
         },
         {
          "contraceptive_method_used": 3,
          "standard_of_living_index": 4,
          "wife_age": 28,
          "wife_education": 4,
          "wife_religion": 1
         },
         {
          "contraceptive_method_used": 1,
          "standard_of_living_index": 2,
          "wife_age": 45,
          "wife_education": 2,
          "wife_religion": 1
         },
         {
          "contraceptive_method_used": 1,
          "standard_of_living_index": 2,
          "wife_age": 19,
          "wife_education": 2,
          "wife_religion": 1
         },
         {
          "contraceptive_method_used": 3,
          "standard_of_living_index": 4,
          "wife_age": 30,
          "wife_education": 1,
          "wife_religion": 1
         },
         {
          "contraceptive_method_used": 3,
          "standard_of_living_index": 4,
          "wife_age": 32,
          "wife_education": 2,
          "wife_religion": 1
         },
         {
          "contraceptive_method_used": 1,
          "standard_of_living_index": 1,
          "wife_age": 24,
          "wife_education": 2,
          "wife_religion": 1
         },
         {
          "contraceptive_method_used": 3,
          "standard_of_living_index": 4,
          "wife_age": 25,
          "wife_education": 3,
          "wife_religion": 1
         },
         {
          "contraceptive_method_used": 1,
          "standard_of_living_index": 2,
          "wife_age": 31,
          "wife_education": 3,
          "wife_religion": 1
         },
         {
          "contraceptive_method_used": 1,
          "standard_of_living_index": 4,
          "wife_age": 48,
          "wife_education": 3,
          "wife_religion": 1
         },
         {
          "contraceptive_method_used": 1,
          "standard_of_living_index": 4,
          "wife_age": 47,
          "wife_education": 4,
          "wife_religion": 1
         },
         {
          "contraceptive_method_used": 3,
          "standard_of_living_index": 3,
          "wife_age": 47,
          "wife_education": 4,
          "wife_religion": 1
         },
         {
          "contraceptive_method_used": 3,
          "standard_of_living_index": 4,
          "wife_age": 28,
          "wife_education": 2,
          "wife_religion": 1
         },
         {
          "contraceptive_method_used": 1,
          "standard_of_living_index": 2,
          "wife_age": 36,
          "wife_education": 1,
          "wife_religion": 1
         },
         {
          "contraceptive_method_used": 1,
          "standard_of_living_index": 2,
          "wife_age": 27,
          "wife_education": 4,
          "wife_religion": 1
         },
         {
          "contraceptive_method_used": 1,
          "standard_of_living_index": 4,
          "wife_age": 37,
          "wife_education": 3,
          "wife_religion": 1
         },
         {
          "contraceptive_method_used": 1,
          "standard_of_living_index": 3,
          "wife_age": 47,
          "wife_education": 2,
          "wife_religion": 1
         },
         {
          "contraceptive_method_used": 3,
          "standard_of_living_index": 4,
          "wife_age": 37,
          "wife_education": 4,
          "wife_religion": 1
         },
         {
          "contraceptive_method_used": 3,
          "standard_of_living_index": 4,
          "wife_age": 29,
          "wife_education": 3,
          "wife_religion": 1
         },
         {
          "contraceptive_method_used": 3,
          "standard_of_living_index": 2,
          "wife_age": 39,
          "wife_education": 4,
          "wife_religion": 1
         },
         {
          "contraceptive_method_used": 3,
          "standard_of_living_index": 4,
          "wife_age": 44,
          "wife_education": 4,
          "wife_religion": 1
         },
         {
          "contraceptive_method_used": 3,
          "standard_of_living_index": 4,
          "wife_age": 27,
          "wife_education": 3,
          "wife_religion": 1
         },
         {
          "contraceptive_method_used": 1,
          "standard_of_living_index": 4,
          "wife_age": 34,
          "wife_education": 2,
          "wife_religion": 1
         },
         {
          "contraceptive_method_used": 3,
          "standard_of_living_index": 2,
          "wife_age": 21,
          "wife_education": 3,
          "wife_religion": 1
         },
         {
          "contraceptive_method_used": 3,
          "standard_of_living_index": 3,
          "wife_age": 20,
          "wife_education": 4,
          "wife_religion": 1
         },
         {
          "contraceptive_method_used": 1,
          "standard_of_living_index": 3,
          "wife_age": 32,
          "wife_education": 2,
          "wife_religion": 1
         },
         {
          "contraceptive_method_used": 3,
          "standard_of_living_index": 4,
          "wife_age": 25,
          "wife_education": 3,
          "wife_religion": 1
         },
         {
          "contraceptive_method_used": 3,
          "standard_of_living_index": 3,
          "wife_age": 24,
          "wife_education": 3,
          "wife_religion": 1
         },
         {
          "contraceptive_method_used": 1,
          "standard_of_living_index": 4,
          "wife_age": 42,
          "wife_education": 3,
          "wife_religion": 1
         },
         {
          "contraceptive_method_used": 3,
          "standard_of_living_index": 4,
          "wife_age": 25,
          "wife_education": 4,
          "wife_religion": 1
         },
         {
          "contraceptive_method_used": 3,
          "standard_of_living_index": 3,
          "wife_age": 24,
          "wife_education": 3,
          "wife_religion": 1
         },
         {
          "contraceptive_method_used": 2,
          "standard_of_living_index": 4,
          "wife_age": 32,
          "wife_education": 4,
          "wife_religion": 1
         },
         {
          "contraceptive_method_used": 3,
          "standard_of_living_index": 4,
          "wife_age": 41,
          "wife_education": 4,
          "wife_religion": 1
         },
         {
          "contraceptive_method_used": 1,
          "standard_of_living_index": 1,
          "wife_age": 18,
          "wife_education": 3,
          "wife_religion": 1
         },
         {
          "contraceptive_method_used": 2,
          "standard_of_living_index": 4,
          "wife_age": 36,
          "wife_education": 3,
          "wife_religion": 0
         },
         {
          "contraceptive_method_used": 1,
          "standard_of_living_index": 4,
          "wife_age": 47,
          "wife_education": 4,
          "wife_religion": 0
         },
         {
          "contraceptive_method_used": 2,
          "standard_of_living_index": 4,
          "wife_age": 40,
          "wife_education": 4,
          "wife_religion": 1
         },
         {
          "contraceptive_method_used": 1,
          "standard_of_living_index": 4,
          "wife_age": 42,
          "wife_education": 4,
          "wife_religion": 1
         },
         {
          "contraceptive_method_used": 1,
          "standard_of_living_index": 3,
          "wife_age": 46,
          "wife_education": 4,
          "wife_religion": 1
         },
         {
          "contraceptive_method_used": 2,
          "standard_of_living_index": 2,
          "wife_age": 43,
          "wife_education": 3,
          "wife_religion": 1
         },
         {
          "contraceptive_method_used": 1,
          "standard_of_living_index": 2,
          "wife_age": 40,
          "wife_education": 3,
          "wife_religion": 1
         },
         {
          "contraceptive_method_used": 3,
          "standard_of_living_index": 2,
          "wife_age": 32,
          "wife_education": 2,
          "wife_religion": 1
         },
         {
          "contraceptive_method_used": 1,
          "standard_of_living_index": 2,
          "wife_age": 35,
          "wife_education": 3,
          "wife_religion": 1
         },
         {
          "contraceptive_method_used": 1,
          "standard_of_living_index": 4,
          "wife_age": 42,
          "wife_education": 4,
          "wife_religion": 0
         },
         {
          "contraceptive_method_used": 1,
          "standard_of_living_index": 2,
          "wife_age": 37,
          "wife_education": 1,
          "wife_religion": 1
         },
         {
          "contraceptive_method_used": 2,
          "standard_of_living_index": 3,
          "wife_age": 41,
          "wife_education": 3,
          "wife_religion": 1
         },
         {
          "contraceptive_method_used": 1,
          "standard_of_living_index": 2,
          "wife_age": 24,
          "wife_education": 3,
          "wife_religion": 1
         },
         {
          "contraceptive_method_used": 1,
          "standard_of_living_index": 4,
          "wife_age": 25,
          "wife_education": 4,
          "wife_religion": 0
         },
         {
          "contraceptive_method_used": 3,
          "standard_of_living_index": 3,
          "wife_age": 22,
          "wife_education": 2,
          "wife_religion": 1
         },
         {
          "contraceptive_method_used": 1,
          "standard_of_living_index": 3,
          "wife_age": 30,
          "wife_education": 4,
          "wife_religion": 1
         },
         {
          "contraceptive_method_used": 2,
          "standard_of_living_index": 1,
          "wife_age": 33,
          "wife_education": 2,
          "wife_religion": 1
         },
         {
          "contraceptive_method_used": 2,
          "standard_of_living_index": 4,
          "wife_age": 33,
          "wife_education": 2,
          "wife_religion": 1
         },
         {
          "contraceptive_method_used": 1,
          "standard_of_living_index": 4,
          "wife_age": 27,
          "wife_education": 4,
          "wife_religion": 1
         },
         {
          "contraceptive_method_used": 3,
          "standard_of_living_index": 2,
          "wife_age": 21,
          "wife_education": 3,
          "wife_religion": 1
         },
         {
          "contraceptive_method_used": 1,
          "standard_of_living_index": 4,
          "wife_age": 30,
          "wife_education": 1,
          "wife_religion": 1
         },
         {
          "contraceptive_method_used": 3,
          "standard_of_living_index": 2,
          "wife_age": 37,
          "wife_education": 3,
          "wife_religion": 1
         },
         {
          "contraceptive_method_used": 2,
          "standard_of_living_index": 2,
          "wife_age": 24,
          "wife_education": 3,
          "wife_religion": 1
         },
         {
          "contraceptive_method_used": 2,
          "standard_of_living_index": 4,
          "wife_age": 41,
          "wife_education": 4,
          "wife_religion": 1
         },
         {
          "contraceptive_method_used": 1,
          "standard_of_living_index": 3,
          "wife_age": 38,
          "wife_education": 3,
          "wife_religion": 1
         },
         {
          "contraceptive_method_used": 1,
          "standard_of_living_index": 4,
          "wife_age": 37,
          "wife_education": 3,
          "wife_religion": 1
         },
         {
          "contraceptive_method_used": 2,
          "standard_of_living_index": 4,
          "wife_age": 34,
          "wife_education": 4,
          "wife_religion": 1
         },
         {
          "contraceptive_method_used": 2,
          "standard_of_living_index": 4,
          "wife_age": 25,
          "wife_education": 3,
          "wife_religion": 1
         },
         {
          "contraceptive_method_used": 1,
          "standard_of_living_index": 4,
          "wife_age": 42,
          "wife_education": 4,
          "wife_religion": 1
         },
         {
          "contraceptive_method_used": 3,
          "standard_of_living_index": 2,
          "wife_age": 24,
          "wife_education": 1,
          "wife_religion": 1
         },
         {
          "contraceptive_method_used": 2,
          "standard_of_living_index": 4,
          "wife_age": 30,
          "wife_education": 2,
          "wife_religion": 1
         },
         {
          "contraceptive_method_used": 1,
          "standard_of_living_index": 4,
          "wife_age": 34,
          "wife_education": 1,
          "wife_religion": 1
         },
         {
          "contraceptive_method_used": 1,
          "standard_of_living_index": 3,
          "wife_age": 23,
          "wife_education": 3,
          "wife_religion": 1
         },
         {
          "contraceptive_method_used": 2,
          "standard_of_living_index": 3,
          "wife_age": 27,
          "wife_education": 4,
          "wife_religion": 1
         },
         {
          "contraceptive_method_used": 2,
          "standard_of_living_index": 4,
          "wife_age": 33,
          "wife_education": 4,
          "wife_religion": 0
         },
         {
          "contraceptive_method_used": 2,
          "standard_of_living_index": 4,
          "wife_age": 37,
          "wife_education": 4,
          "wife_religion": 1
         },
         {
          "contraceptive_method_used": 2,
          "standard_of_living_index": 4,
          "wife_age": 21,
          "wife_education": 4,
          "wife_religion": 1
         },
         {
          "contraceptive_method_used": 2,
          "standard_of_living_index": 4,
          "wife_age": 27,
          "wife_education": 3,
          "wife_religion": 1
         },
         {
          "contraceptive_method_used": 2,
          "standard_of_living_index": 4,
          "wife_age": 41,
          "wife_education": 4,
          "wife_religion": 1
         },
         {
          "contraceptive_method_used": 1,
          "standard_of_living_index": 3,
          "wife_age": 40,
          "wife_education": 2,
          "wife_religion": 1
         },
         {
          "contraceptive_method_used": 2,
          "standard_of_living_index": 4,
          "wife_age": 44,
          "wife_education": 4,
          "wife_religion": 1
         },
         {
          "contraceptive_method_used": 1,
          "standard_of_living_index": 3,
          "wife_age": 36,
          "wife_education": 2,
          "wife_religion": 1
         },
         {
          "contraceptive_method_used": 1,
          "standard_of_living_index": 4,
          "wife_age": 43,
          "wife_education": 3,
          "wife_religion": 1
         },
         {
          "contraceptive_method_used": 1,
          "standard_of_living_index": 1,
          "wife_age": 28,
          "wife_education": 3,
          "wife_religion": 1
         },
         {
          "contraceptive_method_used": 1,
          "standard_of_living_index": 4,
          "wife_age": 45,
          "wife_education": 1,
          "wife_religion": 1
         },
         {
          "contraceptive_method_used": 1,
          "standard_of_living_index": 4,
          "wife_age": 40,
          "wife_education": 4,
          "wife_religion": 1
         },
         {
          "contraceptive_method_used": 1,
          "standard_of_living_index": 1,
          "wife_age": 45,
          "wife_education": 1,
          "wife_religion": 0
         },
         {
          "contraceptive_method_used": 1,
          "standard_of_living_index": 3,
          "wife_age": 35,
          "wife_education": 2,
          "wife_religion": 1
         },
         {
          "contraceptive_method_used": 3,
          "standard_of_living_index": 3,
          "wife_age": 28,
          "wife_education": 3,
          "wife_religion": 0
         },
         {
          "contraceptive_method_used": 1,
          "standard_of_living_index": 3,
          "wife_age": 45,
          "wife_education": 2,
          "wife_religion": 1
         },
         {
          "contraceptive_method_used": 2,
          "standard_of_living_index": 4,
          "wife_age": 24,
          "wife_education": 4,
          "wife_religion": 1
         },
         {
          "contraceptive_method_used": 1,
          "standard_of_living_index": 1,
          "wife_age": 19,
          "wife_education": 2,
          "wife_religion": 1
         },
         {
          "contraceptive_method_used": 1,
          "standard_of_living_index": 2,
          "wife_age": 47,
          "wife_education": 2,
          "wife_religion": 1
         },
         {
          "contraceptive_method_used": 3,
          "standard_of_living_index": 3,
          "wife_age": 21,
          "wife_education": 1,
          "wife_religion": 1
         },
         {
          "contraceptive_method_used": 3,
          "standard_of_living_index": 4,
          "wife_age": 39,
          "wife_education": 4,
          "wife_religion": 0
         },
         {
          "contraceptive_method_used": 2,
          "standard_of_living_index": 4,
          "wife_age": 48,
          "wife_education": 4,
          "wife_religion": 0
         },
         {
          "contraceptive_method_used": 1,
          "standard_of_living_index": 4,
          "wife_age": 32,
          "wife_education": 3,
          "wife_religion": 0
         },
         {
          "contraceptive_method_used": 1,
          "standard_of_living_index": 3,
          "wife_age": 34,
          "wife_education": 4,
          "wife_religion": 0
         },
         {
          "contraceptive_method_used": 3,
          "standard_of_living_index": 4,
          "wife_age": 34,
          "wife_education": 4,
          "wife_religion": 1
         },
         {
          "contraceptive_method_used": 1,
          "standard_of_living_index": 3,
          "wife_age": 34,
          "wife_education": 3,
          "wife_religion": 1
         },
         {
          "contraceptive_method_used": 3,
          "standard_of_living_index": 4,
          "wife_age": 28,
          "wife_education": 4,
          "wife_religion": 1
         },
         {
          "contraceptive_method_used": 2,
          "standard_of_living_index": 2,
          "wife_age": 35,
          "wife_education": 3,
          "wife_religion": 1
         },
         {
          "contraceptive_method_used": 3,
          "standard_of_living_index": 4,
          "wife_age": 34,
          "wife_education": 4,
          "wife_religion": 1
         },
         {
          "contraceptive_method_used": 3,
          "standard_of_living_index": 3,
          "wife_age": 25,
          "wife_education": 4,
          "wife_religion": 1
         },
         {
          "contraceptive_method_used": 3,
          "standard_of_living_index": 4,
          "wife_age": 27,
          "wife_education": 4,
          "wife_religion": 0
         },
         {
          "contraceptive_method_used": 2,
          "standard_of_living_index": 3,
          "wife_age": 38,
          "wife_education": 4,
          "wife_religion": 1
         },
         {
          "contraceptive_method_used": 1,
          "standard_of_living_index": 4,
          "wife_age": 43,
          "wife_education": 4,
          "wife_religion": 1
         },
         {
          "contraceptive_method_used": 2,
          "standard_of_living_index": 4,
          "wife_age": 36,
          "wife_education": 4,
          "wife_religion": 0
         },
         {
          "contraceptive_method_used": 3,
          "standard_of_living_index": 3,
          "wife_age": 23,
          "wife_education": 3,
          "wife_religion": 1
         },
         {
          "contraceptive_method_used": 3,
          "standard_of_living_index": 4,
          "wife_age": 24,
          "wife_education": 4,
          "wife_religion": 1
         },
         {
          "contraceptive_method_used": 1,
          "standard_of_living_index": 4,
          "wife_age": 23,
          "wife_education": 4,
          "wife_religion": 1
         },
         {
          "contraceptive_method_used": 2,
          "standard_of_living_index": 4,
          "wife_age": 25,
          "wife_education": 4,
          "wife_religion": 1
         },
         {
          "contraceptive_method_used": 2,
          "standard_of_living_index": 4,
          "wife_age": 25,
          "wife_education": 2,
          "wife_religion": 1
         },
         {
          "contraceptive_method_used": 2,
          "standard_of_living_index": 4,
          "wife_age": 36,
          "wife_education": 4,
          "wife_religion": 0
         },
         {
          "contraceptive_method_used": 1,
          "standard_of_living_index": 3,
          "wife_age": 35,
          "wife_education": 4,
          "wife_religion": 0
         },
         {
          "contraceptive_method_used": 1,
          "standard_of_living_index": 3,
          "wife_age": 31,
          "wife_education": 3,
          "wife_religion": 1
         },
         {
          "contraceptive_method_used": 1,
          "standard_of_living_index": 4,
          "wife_age": 32,
          "wife_education": 2,
          "wife_religion": 1
         },
         {
          "contraceptive_method_used": 1,
          "standard_of_living_index": 3,
          "wife_age": 39,
          "wife_education": 3,
          "wife_religion": 1
         },
         {
          "contraceptive_method_used": 3,
          "standard_of_living_index": 4,
          "wife_age": 39,
          "wife_education": 4,
          "wife_religion": 1
         },
         {
          "contraceptive_method_used": 2,
          "standard_of_living_index": 2,
          "wife_age": 32,
          "wife_education": 3,
          "wife_religion": 1
         },
         {
          "contraceptive_method_used": 2,
          "standard_of_living_index": 4,
          "wife_age": 39,
          "wife_education": 4,
          "wife_religion": 1
         },
         {
          "contraceptive_method_used": 3,
          "standard_of_living_index": 3,
          "wife_age": 32,
          "wife_education": 1,
          "wife_religion": 0
         },
         {
          "contraceptive_method_used": 3,
          "standard_of_living_index": 4,
          "wife_age": 19,
          "wife_education": 4,
          "wife_religion": 1
         },
         {
          "contraceptive_method_used": 3,
          "standard_of_living_index": 2,
          "wife_age": 33,
          "wife_education": 3,
          "wife_religion": 1
         },
         {
          "contraceptive_method_used": 1,
          "standard_of_living_index": 4,
          "wife_age": 23,
          "wife_education": 4,
          "wife_religion": 1
         },
         {
          "contraceptive_method_used": 1,
          "standard_of_living_index": 3,
          "wife_age": 38,
          "wife_education": 1,
          "wife_religion": 1
         },
         {
          "contraceptive_method_used": 2,
          "standard_of_living_index": 4,
          "wife_age": 25,
          "wife_education": 2,
          "wife_religion": 1
         },
         {
          "contraceptive_method_used": 1,
          "standard_of_living_index": 3,
          "wife_age": 43,
          "wife_education": 4,
          "wife_religion": 1
         },
         {
          "contraceptive_method_used": 1,
          "standard_of_living_index": 1,
          "wife_age": 25,
          "wife_education": 2,
          "wife_religion": 1
         },
         {
          "contraceptive_method_used": 3,
          "standard_of_living_index": 4,
          "wife_age": 46,
          "wife_education": 1,
          "wife_religion": 1
         },
         {
          "contraceptive_method_used": 1,
          "standard_of_living_index": 4,
          "wife_age": 30,
          "wife_education": 4,
          "wife_religion": 1
         },
         {
          "contraceptive_method_used": 1,
          "standard_of_living_index": 1,
          "wife_age": 28,
          "wife_education": 3,
          "wife_religion": 1
         },
         {
          "contraceptive_method_used": 2,
          "standard_of_living_index": 4,
          "wife_age": 40,
          "wife_education": 3,
          "wife_religion": 0
         },
         {
          "contraceptive_method_used": 1,
          "standard_of_living_index": 4,
          "wife_age": 30,
          "wife_education": 4,
          "wife_religion": 1
         },
         {
          "contraceptive_method_used": 3,
          "standard_of_living_index": 2,
          "wife_age": 25,
          "wife_education": 2,
          "wife_religion": 1
         },
         {
          "contraceptive_method_used": 2,
          "standard_of_living_index": 4,
          "wife_age": 37,
          "wife_education": 4,
          "wife_religion": 0
         },
         {
          "contraceptive_method_used": 3,
          "standard_of_living_index": 2,
          "wife_age": 37,
          "wife_education": 4,
          "wife_religion": 1
         },
         {
          "contraceptive_method_used": 1,
          "standard_of_living_index": 2,
          "wife_age": 27,
          "wife_education": 3,
          "wife_religion": 1
         },
         {
          "contraceptive_method_used": 1,
          "standard_of_living_index": 4,
          "wife_age": 22,
          "wife_education": 4,
          "wife_religion": 1
         },
         {
          "contraceptive_method_used": 1,
          "standard_of_living_index": 2,
          "wife_age": 21,
          "wife_education": 3,
          "wife_religion": 1
         },
         {
          "contraceptive_method_used": 3,
          "standard_of_living_index": 2,
          "wife_age": 30,
          "wife_education": 3,
          "wife_religion": 1
         },
         {
          "contraceptive_method_used": 2,
          "standard_of_living_index": 4,
          "wife_age": 32,
          "wife_education": 4,
          "wife_religion": 1
         },
         {
          "contraceptive_method_used": 1,
          "standard_of_living_index": 3,
          "wife_age": 22,
          "wife_education": 2,
          "wife_religion": 1
         },
         {
          "contraceptive_method_used": 3,
          "standard_of_living_index": 4,
          "wife_age": 22,
          "wife_education": 3,
          "wife_religion": 1
         },
         {
          "contraceptive_method_used": 2,
          "standard_of_living_index": 4,
          "wife_age": 24,
          "wife_education": 4,
          "wife_religion": 1
         },
         {
          "contraceptive_method_used": 2,
          "standard_of_living_index": 4,
          "wife_age": 36,
          "wife_education": 4,
          "wife_religion": 1
         },
         {
          "contraceptive_method_used": 2,
          "standard_of_living_index": 3,
          "wife_age": 43,
          "wife_education": 2,
          "wife_religion": 1
         },
         {
          "contraceptive_method_used": 1,
          "standard_of_living_index": 2,
          "wife_age": 27,
          "wife_education": 2,
          "wife_religion": 1
         },
         {
          "contraceptive_method_used": 3,
          "standard_of_living_index": 4,
          "wife_age": 34,
          "wife_education": 3,
          "wife_religion": 0
         },
         {
          "contraceptive_method_used": 3,
          "standard_of_living_index": 3,
          "wife_age": 34,
          "wife_education": 4,
          "wife_religion": 1
         },
         {
          "contraceptive_method_used": 1,
          "standard_of_living_index": 3,
          "wife_age": 20,
          "wife_education": 3,
          "wife_religion": 1
         },
         {
          "contraceptive_method_used": 2,
          "standard_of_living_index": 2,
          "wife_age": 38,
          "wife_education": 2,
          "wife_religion": 1
         },
         {
          "contraceptive_method_used": 1,
          "standard_of_living_index": 1,
          "wife_age": 18,
          "wife_education": 3,
          "wife_religion": 1
         },
         {
          "contraceptive_method_used": 3,
          "standard_of_living_index": 4,
          "wife_age": 36,
          "wife_education": 2,
          "wife_religion": 1
         },
         {
          "contraceptive_method_used": 1,
          "standard_of_living_index": 4,
          "wife_age": 30,
          "wife_education": 3,
          "wife_religion": 1
         },
         {
          "contraceptive_method_used": 3,
          "standard_of_living_index": 4,
          "wife_age": 33,
          "wife_education": 3,
          "wife_religion": 1
         },
         {
          "contraceptive_method_used": 2,
          "standard_of_living_index": 4,
          "wife_age": 24,
          "wife_education": 4,
          "wife_religion": 1
         },
         {
          "contraceptive_method_used": 3,
          "standard_of_living_index": 4,
          "wife_age": 40,
          "wife_education": 2,
          "wife_religion": 0
         },
         {
          "contraceptive_method_used": 3,
          "standard_of_living_index": 1,
          "wife_age": 25,
          "wife_education": 1,
          "wife_religion": 1
         },
         {
          "contraceptive_method_used": 3,
          "standard_of_living_index": 1,
          "wife_age": 31,
          "wife_education": 3,
          "wife_religion": 1
         },
         {
          "contraceptive_method_used": 1,
          "standard_of_living_index": 4,
          "wife_age": 42,
          "wife_education": 4,
          "wife_religion": 1
         },
         {
          "contraceptive_method_used": 1,
          "standard_of_living_index": 4,
          "wife_age": 45,
          "wife_education": 3,
          "wife_religion": 0
         },
         {
          "contraceptive_method_used": 2,
          "standard_of_living_index": 3,
          "wife_age": 27,
          "wife_education": 4,
          "wife_religion": 1
         },
         {
          "contraceptive_method_used": 2,
          "standard_of_living_index": 2,
          "wife_age": 34,
          "wife_education": 2,
          "wife_religion": 1
         },
         {
          "contraceptive_method_used": 1,
          "standard_of_living_index": 2,
          "wife_age": 25,
          "wife_education": 3,
          "wife_religion": 1
         },
         {
          "contraceptive_method_used": 3,
          "standard_of_living_index": 2,
          "wife_age": 45,
          "wife_education": 1,
          "wife_religion": 1
         },
         {
          "contraceptive_method_used": 3,
          "standard_of_living_index": 4,
          "wife_age": 28,
          "wife_education": 2,
          "wife_religion": 1
         },
         {
          "contraceptive_method_used": 2,
          "standard_of_living_index": 4,
          "wife_age": 49,
          "wife_education": 3,
          "wife_religion": 1
         },
         {
          "contraceptive_method_used": 3,
          "standard_of_living_index": 3,
          "wife_age": 28,
          "wife_education": 1,
          "wife_religion": 1
         },
         {
          "contraceptive_method_used": 2,
          "standard_of_living_index": 4,
          "wife_age": 36,
          "wife_education": 3,
          "wife_religion": 0
         },
         {
          "contraceptive_method_used": 1,
          "standard_of_living_index": 3,
          "wife_age": 25,
          "wife_education": 1,
          "wife_religion": 1
         },
         {
          "contraceptive_method_used": 1,
          "standard_of_living_index": 2,
          "wife_age": 26,
          "wife_education": 3,
          "wife_religion": 0
         },
         {
          "contraceptive_method_used": 1,
          "standard_of_living_index": 3,
          "wife_age": 25,
          "wife_education": 4,
          "wife_religion": 0
         },
         {
          "contraceptive_method_used": 3,
          "standard_of_living_index": 2,
          "wife_age": 21,
          "wife_education": 3,
          "wife_religion": 1
         },
         {
          "contraceptive_method_used": 2,
          "standard_of_living_index": 4,
          "wife_age": 37,
          "wife_education": 4,
          "wife_religion": 0
         },
         {
          "contraceptive_method_used": 3,
          "standard_of_living_index": 3,
          "wife_age": 26,
          "wife_education": 3,
          "wife_religion": 1
         },
         {
          "contraceptive_method_used": 3,
          "standard_of_living_index": 4,
          "wife_age": 33,
          "wife_education": 4,
          "wife_religion": 1
         },
         {
          "contraceptive_method_used": 2,
          "standard_of_living_index": 3,
          "wife_age": 25,
          "wife_education": 3,
          "wife_religion": 1
         },
         {
          "contraceptive_method_used": 3,
          "standard_of_living_index": 4,
          "wife_age": 35,
          "wife_education": 3,
          "wife_religion": 1
         },
         {
          "contraceptive_method_used": 3,
          "standard_of_living_index": 4,
          "wife_age": 32,
          "wife_education": 4,
          "wife_religion": 0
         },
         {
          "contraceptive_method_used": 1,
          "standard_of_living_index": 4,
          "wife_age": 39,
          "wife_education": 3,
          "wife_religion": 0
         },
         {
          "contraceptive_method_used": 2,
          "standard_of_living_index": 4,
          "wife_age": 46,
          "wife_education": 4,
          "wife_religion": 1
         },
         {
          "contraceptive_method_used": 2,
          "standard_of_living_index": 4,
          "wife_age": 48,
          "wife_education": 4,
          "wife_religion": 1
         },
         {
          "contraceptive_method_used": 3,
          "standard_of_living_index": 4,
          "wife_age": 19,
          "wife_education": 4,
          "wife_religion": 1
         },
         {
          "contraceptive_method_used": 1,
          "standard_of_living_index": 1,
          "wife_age": 21,
          "wife_education": 2,
          "wife_religion": 1
         },
         {
          "contraceptive_method_used": 1,
          "standard_of_living_index": 4,
          "wife_age": 47,
          "wife_education": 3,
          "wife_religion": 1
         },
         {
          "contraceptive_method_used": 1,
          "standard_of_living_index": 2,
          "wife_age": 49,
          "wife_education": 1,
          "wife_religion": 1
         },
         {
          "contraceptive_method_used": 2,
          "standard_of_living_index": 4,
          "wife_age": 46,
          "wife_education": 4,
          "wife_religion": 1
         },
         {
          "contraceptive_method_used": 2,
          "standard_of_living_index": 4,
          "wife_age": 34,
          "wife_education": 3,
          "wife_religion": 1
         },
         {
          "contraceptive_method_used": 2,
          "standard_of_living_index": 4,
          "wife_age": 37,
          "wife_education": 4,
          "wife_religion": 0
         },
         {
          "contraceptive_method_used": 3,
          "standard_of_living_index": 4,
          "wife_age": 43,
          "wife_education": 4,
          "wife_religion": 1
         },
         {
          "contraceptive_method_used": 2,
          "standard_of_living_index": 4,
          "wife_age": 42,
          "wife_education": 4,
          "wife_religion": 0
         },
         {
          "contraceptive_method_used": 1,
          "standard_of_living_index": 1,
          "wife_age": 26,
          "wife_education": 2,
          "wife_religion": 1
         },
         {
          "contraceptive_method_used": 2,
          "standard_of_living_index": 4,
          "wife_age": 41,
          "wife_education": 4,
          "wife_religion": 0
         },
         {
          "contraceptive_method_used": 3,
          "standard_of_living_index": 3,
          "wife_age": 38,
          "wife_education": 4,
          "wife_religion": 0
         },
         {
          "contraceptive_method_used": 3,
          "standard_of_living_index": 2,
          "wife_age": 22,
          "wife_education": 4,
          "wife_religion": 1
         },
         {
          "contraceptive_method_used": 2,
          "standard_of_living_index": 2,
          "wife_age": 28,
          "wife_education": 3,
          "wife_religion": 1
         },
         {
          "contraceptive_method_used": 3,
          "standard_of_living_index": 3,
          "wife_age": 33,
          "wife_education": 3,
          "wife_religion": 1
         },
         {
          "contraceptive_method_used": 2,
          "standard_of_living_index": 4,
          "wife_age": 34,
          "wife_education": 4,
          "wife_religion": 1
         },
         {
          "contraceptive_method_used": 3,
          "standard_of_living_index": 4,
          "wife_age": 35,
          "wife_education": 4,
          "wife_religion": 0
         },
         {
          "contraceptive_method_used": 2,
          "standard_of_living_index": 4,
          "wife_age": 30,
          "wife_education": 3,
          "wife_religion": 1
         },
         {
          "contraceptive_method_used": 3,
          "standard_of_living_index": 3,
          "wife_age": 32,
          "wife_education": 2,
          "wife_religion": 1
         },
         {
          "contraceptive_method_used": 1,
          "standard_of_living_index": 3,
          "wife_age": 25,
          "wife_education": 3,
          "wife_religion": 1
         },
         {
          "contraceptive_method_used": 2,
          "standard_of_living_index": 4,
          "wife_age": 41,
          "wife_education": 3,
          "wife_religion": 1
         },
         {
          "contraceptive_method_used": 2,
          "standard_of_living_index": 4,
          "wife_age": 45,
          "wife_education": 3,
          "wife_religion": 0
         },
         {
          "contraceptive_method_used": 1,
          "standard_of_living_index": 4,
          "wife_age": 36,
          "wife_education": 3,
          "wife_religion": 1
         },
         {
          "contraceptive_method_used": 2,
          "standard_of_living_index": 4,
          "wife_age": 41,
          "wife_education": 4,
          "wife_religion": 1
         },
         {
          "contraceptive_method_used": 3,
          "standard_of_living_index": 4,
          "wife_age": 24,
          "wife_education": 2,
          "wife_religion": 1
         },
         {
          "contraceptive_method_used": 1,
          "standard_of_living_index": 3,
          "wife_age": 18,
          "wife_education": 3,
          "wife_religion": 1
         },
         {
          "contraceptive_method_used": 1,
          "standard_of_living_index": 4,
          "wife_age": 39,
          "wife_education": 2,
          "wife_religion": 1
         },
         {
          "contraceptive_method_used": 3,
          "standard_of_living_index": 3,
          "wife_age": 30,
          "wife_education": 3,
          "wife_religion": 1
         },
         {
          "contraceptive_method_used": 2,
          "standard_of_living_index": 3,
          "wife_age": 35,
          "wife_education": 1,
          "wife_religion": 1
         },
         {
          "contraceptive_method_used": 2,
          "standard_of_living_index": 4,
          "wife_age": 32,
          "wife_education": 4,
          "wife_religion": 0
         },
         {
          "contraceptive_method_used": 2,
          "standard_of_living_index": 3,
          "wife_age": 34,
          "wife_education": 2,
          "wife_religion": 1
         },
         {
          "contraceptive_method_used": 3,
          "standard_of_living_index": 3,
          "wife_age": 29,
          "wife_education": 2,
          "wife_religion": 1
         },
         {
          "contraceptive_method_used": 2,
          "standard_of_living_index": 3,
          "wife_age": 40,
          "wife_education": 4,
          "wife_religion": 1
         },
         {
          "contraceptive_method_used": 3,
          "standard_of_living_index": 3,
          "wife_age": 22,
          "wife_education": 3,
          "wife_religion": 1
         },
         {
          "contraceptive_method_used": 3,
          "standard_of_living_index": 4,
          "wife_age": 37,
          "wife_education": 4,
          "wife_religion": 1
         },
         {
          "contraceptive_method_used": 1,
          "standard_of_living_index": 4,
          "wife_age": 26,
          "wife_education": 3,
          "wife_religion": 1
         },
         {
          "contraceptive_method_used": 2,
          "standard_of_living_index": 4,
          "wife_age": 33,
          "wife_education": 3,
          "wife_religion": 1
         },
         {
          "contraceptive_method_used": 2,
          "standard_of_living_index": 4,
          "wife_age": 39,
          "wife_education": 4,
          "wife_religion": 1
         },
         {
          "contraceptive_method_used": 1,
          "standard_of_living_index": 3,
          "wife_age": 24,
          "wife_education": 4,
          "wife_religion": 1
         },
         {
          "contraceptive_method_used": 2,
          "standard_of_living_index": 3,
          "wife_age": 29,
          "wife_education": 4,
          "wife_religion": 1
         },
         {
          "contraceptive_method_used": 3,
          "standard_of_living_index": 3,
          "wife_age": 35,
          "wife_education": 1,
          "wife_religion": 1
         },
         {
          "contraceptive_method_used": 3,
          "standard_of_living_index": 4,
          "wife_age": 28,
          "wife_education": 4,
          "wife_religion": 1
         },
         {
          "contraceptive_method_used": 1,
          "standard_of_living_index": 1,
          "wife_age": 28,
          "wife_education": 1,
          "wife_religion": 1
         },
         {
          "contraceptive_method_used": 3,
          "standard_of_living_index": 3,
          "wife_age": 23,
          "wife_education": 4,
          "wife_religion": 1
         },
         {
          "contraceptive_method_used": 2,
          "standard_of_living_index": 2,
          "wife_age": 32,
          "wife_education": 4,
          "wife_religion": 1
         },
         {
          "contraceptive_method_used": 1,
          "standard_of_living_index": 4,
          "wife_age": 27,
          "wife_education": 2,
          "wife_religion": 1
         },
         {
          "contraceptive_method_used": 1,
          "standard_of_living_index": 4,
          "wife_age": 45,
          "wife_education": 3,
          "wife_religion": 1
         },
         {
          "contraceptive_method_used": 1,
          "standard_of_living_index": 4,
          "wife_age": 21,
          "wife_education": 2,
          "wife_religion": 1
         },
         {
          "contraceptive_method_used": 3,
          "standard_of_living_index": 4,
          "wife_age": 36,
          "wife_education": 2,
          "wife_religion": 1
         },
         {
          "contraceptive_method_used": 3,
          "standard_of_living_index": 4,
          "wife_age": 28,
          "wife_education": 2,
          "wife_religion": 1
         },
         {
          "contraceptive_method_used": 3,
          "standard_of_living_index": 4,
          "wife_age": 22,
          "wife_education": 3,
          "wife_religion": 0
         },
         {
          "contraceptive_method_used": 2,
          "standard_of_living_index": 4,
          "wife_age": 42,
          "wife_education": 2,
          "wife_religion": 1
         },
         {
          "contraceptive_method_used": 2,
          "standard_of_living_index": 3,
          "wife_age": 19,
          "wife_education": 4,
          "wife_religion": 1
         },
         {
          "contraceptive_method_used": 2,
          "standard_of_living_index": 4,
          "wife_age": 31,
          "wife_education": 4,
          "wife_religion": 1
         },
         {
          "contraceptive_method_used": 3,
          "standard_of_living_index": 4,
          "wife_age": 45,
          "wife_education": 2,
          "wife_religion": 0
         },
         {
          "contraceptive_method_used": 3,
          "standard_of_living_index": 3,
          "wife_age": 37,
          "wife_education": 3,
          "wife_religion": 1
         },
         {
          "contraceptive_method_used": 1,
          "standard_of_living_index": 4,
          "wife_age": 47,
          "wife_education": 1,
          "wife_religion": 1
         },
         {
          "contraceptive_method_used": 1,
          "standard_of_living_index": 4,
          "wife_age": 32,
          "wife_education": 4,
          "wife_religion": 0
         },
         {
          "contraceptive_method_used": 1,
          "standard_of_living_index": 4,
          "wife_age": 27,
          "wife_education": 2,
          "wife_religion": 1
         },
         {
          "contraceptive_method_used": 3,
          "standard_of_living_index": 4,
          "wife_age": 36,
          "wife_education": 2,
          "wife_religion": 1
         },
         {
          "contraceptive_method_used": 3,
          "standard_of_living_index": 4,
          "wife_age": 30,
          "wife_education": 1,
          "wife_religion": 1
         },
         {
          "contraceptive_method_used": 1,
          "standard_of_living_index": 4,
          "wife_age": 21,
          "wife_education": 1,
          "wife_religion": 1
         },
         {
          "contraceptive_method_used": 3,
          "standard_of_living_index": 3,
          "wife_age": 38,
          "wife_education": 4,
          "wife_religion": 1
         },
         {
          "contraceptive_method_used": 1,
          "standard_of_living_index": 4,
          "wife_age": 40,
          "wife_education": 1,
          "wife_religion": 1
         },
         {
          "contraceptive_method_used": 1,
          "standard_of_living_index": 3,
          "wife_age": 42,
          "wife_education": 3,
          "wife_religion": 1
         },
         {
          "contraceptive_method_used": 3,
          "standard_of_living_index": 4,
          "wife_age": 46,
          "wife_education": 2,
          "wife_religion": 0
         },
         {
          "contraceptive_method_used": 3,
          "standard_of_living_index": 4,
          "wife_age": 27,
          "wife_education": 4,
          "wife_religion": 1
         },
         {
          "contraceptive_method_used": 3,
          "standard_of_living_index": 4,
          "wife_age": 45,
          "wife_education": 4,
          "wife_religion": 1
         },
         {
          "contraceptive_method_used": 3,
          "standard_of_living_index": 4,
          "wife_age": 39,
          "wife_education": 4,
          "wife_religion": 1
         },
         {
          "contraceptive_method_used": 1,
          "standard_of_living_index": 4,
          "wife_age": 49,
          "wife_education": 3,
          "wife_religion": 1
         },
         {
          "contraceptive_method_used": 3,
          "standard_of_living_index": 3,
          "wife_age": 24,
          "wife_education": 4,
          "wife_religion": 1
         },
         {
          "contraceptive_method_used": 1,
          "standard_of_living_index": 4,
          "wife_age": 28,
          "wife_education": 3,
          "wife_religion": 1
         },
         {
          "contraceptive_method_used": 1,
          "standard_of_living_index": 3,
          "wife_age": 32,
          "wife_education": 4,
          "wife_religion": 1
         },
         {
          "contraceptive_method_used": 1,
          "standard_of_living_index": 3,
          "wife_age": 34,
          "wife_education": 2,
          "wife_religion": 1
         },
         {
          "contraceptive_method_used": 1,
          "standard_of_living_index": 4,
          "wife_age": 28,
          "wife_education": 3,
          "wife_religion": 1
         },
         {
          "contraceptive_method_used": 1,
          "standard_of_living_index": 1,
          "wife_age": 18,
          "wife_education": 3,
          "wife_religion": 1
         },
         {
          "contraceptive_method_used": 1,
          "standard_of_living_index": 4,
          "wife_age": 48,
          "wife_education": 1,
          "wife_religion": 1
         },
         {
          "contraceptive_method_used": 2,
          "standard_of_living_index": 4,
          "wife_age": 39,
          "wife_education": 4,
          "wife_religion": 1
         },
         {
          "contraceptive_method_used": 3,
          "standard_of_living_index": 3,
          "wife_age": 25,
          "wife_education": 2,
          "wife_religion": 1
         },
         {
          "contraceptive_method_used": 1,
          "standard_of_living_index": 3,
          "wife_age": 24,
          "wife_education": 3,
          "wife_religion": 1
         },
         {
          "contraceptive_method_used": 3,
          "standard_of_living_index": 4,
          "wife_age": 32,
          "wife_education": 3,
          "wife_religion": 0
         },
         {
          "contraceptive_method_used": 3,
          "standard_of_living_index": 2,
          "wife_age": 23,
          "wife_education": 1,
          "wife_religion": 1
         },
         {
          "contraceptive_method_used": 3,
          "standard_of_living_index": 4,
          "wife_age": 35,
          "wife_education": 4,
          "wife_religion": 1
         },
         {
          "contraceptive_method_used": 2,
          "standard_of_living_index": 4,
          "wife_age": 27,
          "wife_education": 4,
          "wife_religion": 1
         },
         {
          "contraceptive_method_used": 2,
          "standard_of_living_index": 3,
          "wife_age": 28,
          "wife_education": 2,
          "wife_religion": 1
         },
         {
          "contraceptive_method_used": 1,
          "standard_of_living_index": 3,
          "wife_age": 33,
          "wife_education": 4,
          "wife_religion": 1
         },
         {
          "contraceptive_method_used": 2,
          "standard_of_living_index": 4,
          "wife_age": 36,
          "wife_education": 4,
          "wife_religion": 1
         },
         {
          "contraceptive_method_used": 3,
          "standard_of_living_index": 3,
          "wife_age": 33,
          "wife_education": 4,
          "wife_religion": 1
         },
         {
          "contraceptive_method_used": 2,
          "standard_of_living_index": 4,
          "wife_age": 37,
          "wife_education": 4,
          "wife_religion": 1
         },
         {
          "contraceptive_method_used": 1,
          "standard_of_living_index": 4,
          "wife_age": 23,
          "wife_education": 3,
          "wife_religion": 1
         },
         {
          "contraceptive_method_used": 1,
          "standard_of_living_index": 3,
          "wife_age": 28,
          "wife_education": 4,
          "wife_religion": 1
         },
         {
          "contraceptive_method_used": 1,
          "standard_of_living_index": 3,
          "wife_age": 22,
          "wife_education": 4,
          "wife_religion": 1
         },
         {
          "contraceptive_method_used": 1,
          "standard_of_living_index": 4,
          "wife_age": 29,
          "wife_education": 3,
          "wife_religion": 1
         },
         {
          "contraceptive_method_used": 2,
          "standard_of_living_index": 4,
          "wife_age": 21,
          "wife_education": 4,
          "wife_religion": 1
         },
         {
          "contraceptive_method_used": 1,
          "standard_of_living_index": 3,
          "wife_age": 20,
          "wife_education": 3,
          "wife_religion": 1
         },
         {
          "contraceptive_method_used": 3,
          "standard_of_living_index": 4,
          "wife_age": 35,
          "wife_education": 4,
          "wife_religion": 1
         },
         {
          "contraceptive_method_used": 2,
          "standard_of_living_index": 2,
          "wife_age": 44,
          "wife_education": 3,
          "wife_religion": 1
         },
         {
          "contraceptive_method_used": 1,
          "standard_of_living_index": 3,
          "wife_age": 42,
          "wife_education": 3,
          "wife_religion": 1
         },
         {
          "contraceptive_method_used": 3,
          "standard_of_living_index": 2,
          "wife_age": 30,
          "wife_education": 4,
          "wife_religion": 1
         },
         {
          "contraceptive_method_used": 2,
          "standard_of_living_index": 4,
          "wife_age": 36,
          "wife_education": 4,
          "wife_religion": 0
         },
         {
          "contraceptive_method_used": 3,
          "standard_of_living_index": 4,
          "wife_age": 43,
          "wife_education": 4,
          "wife_religion": 1
         },
         {
          "contraceptive_method_used": 1,
          "standard_of_living_index": 4,
          "wife_age": 20,
          "wife_education": 4,
          "wife_religion": 1
         },
         {
          "contraceptive_method_used": 1,
          "standard_of_living_index": 3,
          "wife_age": 20,
          "wife_education": 3,
          "wife_religion": 1
         },
         {
          "contraceptive_method_used": 2,
          "standard_of_living_index": 3,
          "wife_age": 30,
          "wife_education": 4,
          "wife_religion": 1
         },
         {
          "contraceptive_method_used": 1,
          "standard_of_living_index": 4,
          "wife_age": 23,
          "wife_education": 4,
          "wife_religion": 0
         },
         {
          "contraceptive_method_used": 1,
          "standard_of_living_index": 1,
          "wife_age": 25,
          "wife_education": 3,
          "wife_religion": 1
         },
         {
          "contraceptive_method_used": 3,
          "standard_of_living_index": 3,
          "wife_age": 17,
          "wife_education": 3,
          "wife_religion": 1
         },
         {
          "contraceptive_method_used": 3,
          "standard_of_living_index": 4,
          "wife_age": 27,
          "wife_education": 2,
          "wife_religion": 1
         },
         {
          "contraceptive_method_used": 1,
          "standard_of_living_index": 4,
          "wife_age": 49,
          "wife_education": 4,
          "wife_religion": 0
         },
         {
          "contraceptive_method_used": 2,
          "standard_of_living_index": 2,
          "wife_age": 36,
          "wife_education": 3,
          "wife_religion": 1
         },
         {
          "contraceptive_method_used": 3,
          "standard_of_living_index": 4,
          "wife_age": 32,
          "wife_education": 2,
          "wife_religion": 1
         },
         {
          "contraceptive_method_used": 2,
          "standard_of_living_index": 2,
          "wife_age": 20,
          "wife_education": 3,
          "wife_religion": 1
         },
         {
          "contraceptive_method_used": 2,
          "standard_of_living_index": 4,
          "wife_age": 34,
          "wife_education": 4,
          "wife_religion": 1
         },
         {
          "contraceptive_method_used": 3,
          "standard_of_living_index": 3,
          "wife_age": 22,
          "wife_education": 4,
          "wife_religion": 1
         },
         {
          "contraceptive_method_used": 3,
          "standard_of_living_index": 1,
          "wife_age": 36,
          "wife_education": 1,
          "wife_religion": 1
         },
         {
          "contraceptive_method_used": 1,
          "standard_of_living_index": 4,
          "wife_age": 33,
          "wife_education": 3,
          "wife_religion": 1
         },
         {
          "contraceptive_method_used": 2,
          "standard_of_living_index": 2,
          "wife_age": 21,
          "wife_education": 2,
          "wife_religion": 1
         },
         {
          "contraceptive_method_used": 1,
          "standard_of_living_index": 4,
          "wife_age": 26,
          "wife_education": 2,
          "wife_religion": 1
         },
         {
          "contraceptive_method_used": 3,
          "standard_of_living_index": 3,
          "wife_age": 31,
          "wife_education": 3,
          "wife_religion": 1
         },
         {
          "contraceptive_method_used": 1,
          "standard_of_living_index": 4,
          "wife_age": 25,
          "wife_education": 2,
          "wife_religion": 1
         },
         {
          "contraceptive_method_used": 2,
          "standard_of_living_index": 3,
          "wife_age": 23,
          "wife_education": 4,
          "wife_religion": 1
         },
         {
          "contraceptive_method_used": 1,
          "standard_of_living_index": 3,
          "wife_age": 36,
          "wife_education": 4,
          "wife_religion": 1
         },
         {
          "contraceptive_method_used": 1,
          "standard_of_living_index": 3,
          "wife_age": 33,
          "wife_education": 4,
          "wife_religion": 1
         },
         {
          "contraceptive_method_used": 3,
          "standard_of_living_index": 4,
          "wife_age": 32,
          "wife_education": 4,
          "wife_religion": 0
         },
         {
          "contraceptive_method_used": 1,
          "standard_of_living_index": 4,
          "wife_age": 22,
          "wife_education": 3,
          "wife_religion": 1
         },
         {
          "contraceptive_method_used": 1,
          "standard_of_living_index": 3,
          "wife_age": 37,
          "wife_education": 2,
          "wife_religion": 1
         },
         {
          "contraceptive_method_used": 3,
          "standard_of_living_index": 4,
          "wife_age": 17,
          "wife_education": 3,
          "wife_religion": 1
         },
         {
          "contraceptive_method_used": 3,
          "standard_of_living_index": 4,
          "wife_age": 27,
          "wife_education": 4,
          "wife_religion": 1
         },
         {
          "contraceptive_method_used": 1,
          "standard_of_living_index": 2,
          "wife_age": 45,
          "wife_education": 1,
          "wife_religion": 1
         },
         {
          "contraceptive_method_used": 1,
          "standard_of_living_index": 4,
          "wife_age": 42,
          "wife_education": 2,
          "wife_religion": 1
         },
         {
          "contraceptive_method_used": 1,
          "standard_of_living_index": 4,
          "wife_age": 25,
          "wife_education": 4,
          "wife_religion": 1
         },
         {
          "contraceptive_method_used": 2,
          "standard_of_living_index": 3,
          "wife_age": 31,
          "wife_education": 2,
          "wife_religion": 1
         },
         {
          "contraceptive_method_used": 2,
          "standard_of_living_index": 3,
          "wife_age": 31,
          "wife_education": 3,
          "wife_religion": 1
         },
         {
          "contraceptive_method_used": 1,
          "standard_of_living_index": 3,
          "wife_age": 45,
          "wife_education": 4,
          "wife_religion": 1
         },
         {
          "contraceptive_method_used": 3,
          "standard_of_living_index": 2,
          "wife_age": 47,
          "wife_education": 4,
          "wife_religion": 1
         },
         {
          "contraceptive_method_used": 3,
          "standard_of_living_index": 3,
          "wife_age": 26,
          "wife_education": 3,
          "wife_religion": 1
         },
         {
          "contraceptive_method_used": 3,
          "standard_of_living_index": 4,
          "wife_age": 28,
          "wife_education": 3,
          "wife_religion": 1
         },
         {
          "contraceptive_method_used": 2,
          "standard_of_living_index": 4,
          "wife_age": 41,
          "wife_education": 4,
          "wife_religion": 0
         },
         {
          "contraceptive_method_used": 3,
          "standard_of_living_index": 3,
          "wife_age": 26,
          "wife_education": 2,
          "wife_religion": 1
         },
         {
          "contraceptive_method_used": 3,
          "standard_of_living_index": 4,
          "wife_age": 29,
          "wife_education": 4,
          "wife_religion": 1
         },
         {
          "contraceptive_method_used": 2,
          "standard_of_living_index": 4,
          "wife_age": 29,
          "wife_education": 4,
          "wife_religion": 1
         },
         {
          "contraceptive_method_used": 1,
          "standard_of_living_index": 2,
          "wife_age": 24,
          "wife_education": 4,
          "wife_religion": 1
         },
         {
          "contraceptive_method_used": 3,
          "standard_of_living_index": 2,
          "wife_age": 23,
          "wife_education": 3,
          "wife_religion": 1
         },
         {
          "contraceptive_method_used": 1,
          "standard_of_living_index": 2,
          "wife_age": 48,
          "wife_education": 1,
          "wife_religion": 1
         },
         {
          "contraceptive_method_used": 3,
          "standard_of_living_index": 2,
          "wife_age": 36,
          "wife_education": 2,
          "wife_religion": 1
         },
         {
          "contraceptive_method_used": 1,
          "standard_of_living_index": 2,
          "wife_age": 38,
          "wife_education": 2,
          "wife_religion": 1
         },
         {
          "contraceptive_method_used": 1,
          "standard_of_living_index": 2,
          "wife_age": 37,
          "wife_education": 3,
          "wife_religion": 1
         },
         {
          "contraceptive_method_used": 1,
          "standard_of_living_index": 1,
          "wife_age": 27,
          "wife_education": 2,
          "wife_religion": 1
         },
         {
          "contraceptive_method_used": 1,
          "standard_of_living_index": 4,
          "wife_age": 43,
          "wife_education": 3,
          "wife_religion": 0
         },
         {
          "contraceptive_method_used": 1,
          "standard_of_living_index": 1,
          "wife_age": 26,
          "wife_education": 1,
          "wife_religion": 1
         },
         {
          "contraceptive_method_used": 2,
          "standard_of_living_index": 2,
          "wife_age": 40,
          "wife_education": 2,
          "wife_religion": 1
         },
         {
          "contraceptive_method_used": 2,
          "standard_of_living_index": 3,
          "wife_age": 40,
          "wife_education": 4,
          "wife_religion": 1
         },
         {
          "contraceptive_method_used": 3,
          "standard_of_living_index": 4,
          "wife_age": 39,
          "wife_education": 3,
          "wife_religion": 1
         },
         {
          "contraceptive_method_used": 1,
          "standard_of_living_index": 4,
          "wife_age": 28,
          "wife_education": 2,
          "wife_religion": 1
         },
         {
          "contraceptive_method_used": 1,
          "standard_of_living_index": 2,
          "wife_age": 30,
          "wife_education": 2,
          "wife_religion": 1
         },
         {
          "contraceptive_method_used": 1,
          "standard_of_living_index": 4,
          "wife_age": 43,
          "wife_education": 2,
          "wife_religion": 1
         },
         {
          "contraceptive_method_used": 2,
          "standard_of_living_index": 3,
          "wife_age": 26,
          "wife_education": 2,
          "wife_religion": 1
         },
         {
          "contraceptive_method_used": 1,
          "standard_of_living_index": 3,
          "wife_age": 28,
          "wife_education": 3,
          "wife_religion": 1
         },
         {
          "contraceptive_method_used": 2,
          "standard_of_living_index": 4,
          "wife_age": 28,
          "wife_education": 4,
          "wife_religion": 0
         },
         {
          "contraceptive_method_used": 2,
          "standard_of_living_index": 4,
          "wife_age": 41,
          "wife_education": 4,
          "wife_religion": 0
         },
         {
          "contraceptive_method_used": 2,
          "standard_of_living_index": 3,
          "wife_age": 37,
          "wife_education": 3,
          "wife_religion": 1
         },
         {
          "contraceptive_method_used": 2,
          "standard_of_living_index": 4,
          "wife_age": 26,
          "wife_education": 3,
          "wife_religion": 1
         },
         {
          "contraceptive_method_used": 3,
          "standard_of_living_index": 1,
          "wife_age": 22,
          "wife_education": 1,
          "wife_religion": 1
         },
         {
          "contraceptive_method_used": 3,
          "standard_of_living_index": 4,
          "wife_age": 22,
          "wife_education": 4,
          "wife_religion": 1
         },
         {
          "contraceptive_method_used": 3,
          "standard_of_living_index": 4,
          "wife_age": 42,
          "wife_education": 4,
          "wife_religion": 0
         },
         {
          "contraceptive_method_used": 1,
          "standard_of_living_index": 3,
          "wife_age": 32,
          "wife_education": 3,
          "wife_religion": 1
         },
         {
          "contraceptive_method_used": 1,
          "standard_of_living_index": 4,
          "wife_age": 47,
          "wife_education": 4,
          "wife_religion": 1
         },
         {
          "contraceptive_method_used": 3,
          "standard_of_living_index": 2,
          "wife_age": 17,
          "wife_education": 2,
          "wife_religion": 1
         },
         {
          "contraceptive_method_used": 1,
          "standard_of_living_index": 2,
          "wife_age": 29,
          "wife_education": 2,
          "wife_religion": 1
         },
         {
          "contraceptive_method_used": 1,
          "standard_of_living_index": 4,
          "wife_age": 45,
          "wife_education": 4,
          "wife_religion": 1
         },
         {
          "contraceptive_method_used": 2,
          "standard_of_living_index": 4,
          "wife_age": 47,
          "wife_education": 1,
          "wife_religion": 1
         },
         {
          "contraceptive_method_used": 1,
          "standard_of_living_index": 3,
          "wife_age": 31,
          "wife_education": 2,
          "wife_religion": 1
         },
         {
          "contraceptive_method_used": 1,
          "standard_of_living_index": 3,
          "wife_age": 41,
          "wife_education": 2,
          "wife_religion": 1
         },
         {
          "contraceptive_method_used": 2,
          "standard_of_living_index": 3,
          "wife_age": 26,
          "wife_education": 3,
          "wife_religion": 1
         },
         {
          "contraceptive_method_used": 1,
          "standard_of_living_index": 4,
          "wife_age": 45,
          "wife_education": 4,
          "wife_religion": 1
         },
         {
          "contraceptive_method_used": 1,
          "standard_of_living_index": 1,
          "wife_age": 22,
          "wife_education": 4,
          "wife_religion": 1
         },
         {
          "contraceptive_method_used": 1,
          "standard_of_living_index": 2,
          "wife_age": 24,
          "wife_education": 3,
          "wife_religion": 1
         },
         {
          "contraceptive_method_used": 1,
          "standard_of_living_index": 3,
          "wife_age": 30,
          "wife_education": 3,
          "wife_religion": 0
         },
         {
          "contraceptive_method_used": 3,
          "standard_of_living_index": 3,
          "wife_age": 35,
          "wife_education": 2,
          "wife_religion": 1
         },
         {
          "contraceptive_method_used": 3,
          "standard_of_living_index": 3,
          "wife_age": 36,
          "wife_education": 1,
          "wife_religion": 1
         },
         {
          "contraceptive_method_used": 3,
          "standard_of_living_index": 4,
          "wife_age": 38,
          "wife_education": 4,
          "wife_religion": 1
         }
        ]
       },
       "encoding": {
        "x": {
         "field": "wife_age",
         "title": "Wife's age (years)",
         "type": "quantitative"
        },
        "y": {
         "aggregate": "count",
         "title": "Count of records",
         "type": "quantitative"
        }
       },
       "mark": "bar",
       "title": "Number of women of each age"
      },
      "text/plain": [
       "<VegaLite 4 object>\n",
       "\n",
       "If you see this message, it means the renderer has not been properly enabled\n",
       "for the frontend that you are using. For more information, see\n",
       "https://altair-viz.github.io/user_guide/troubleshooting.html\n"
      ]
     },
     "execution_count": 26,
     "metadata": {},
     "output_type": "execute_result"
    }
   ],
   "source": [
    "wife_age_dist = alt.Chart(cmc_train, title = \"Number of women of each age\").mark_bar().encode(\n",
    "    x = alt.X(\"wife_age\", title = \"Wife's age (years)\"),\n",
    "    y = alt.Y(\"count()\", title = \"Count of records\")\n",
    ")\n",
    "wife_age_dist"
   ]
  },
  {
   "cell_type": "code",
   "execution_count": null,
   "metadata": {},
   "outputs": [],
   "source": []
  }
 ],
 "metadata": {
  "kernelspec": {
   "display_name": "Python 3 (ipykernel)",
   "language": "python",
   "name": "python3"
  },
  "language_info": {
   "codemirror_mode": {
    "name": "ipython",
    "version": 3
   },
   "file_extension": ".py",
   "mimetype": "text/x-python",
   "name": "python",
   "nbconvert_exporter": "python",
   "pygments_lexer": "ipython3",
   "version": "3.9.12"
  },
  "vscode": {
   "interpreter": {
    "hash": "1b287bfc4bc62216e94f1ce7ec6562cda326ab241add07299d3b54ca651f2698"
   }
  }
 },
 "nbformat": 4,
 "nbformat_minor": 4
}
