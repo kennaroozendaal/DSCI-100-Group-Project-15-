{
 "cells": [
  {
   "cell_type": "markdown",
   "metadata": {},
   "source": [
    "## Group 15 - Contraceptive method used among Indonesian women"
   ]
  },
  {
   "cell_type": "markdown",
   "metadata": {},
   "source": [
    "Kenna Roozendaal, Joy Cai, Naura Ambareswari"
   ]
  },
  {
   "cell_type": "markdown",
   "metadata": {},
   "source": [
    "#### Introduction\n",
    "\n",
    "Indonesia experienced a notable decline in its fertility rates between 1984 and 1987. The increased use of contraceptives is a significant factor in the drop in fertility due to more women gaining access to and awareness of available family planning resources compared to previous years. To better understand and address the declining fertility trend, the National Indonesia Contraceptive Prevalence Survey conducted a survey on family planning as well as collected women’s sociodemographic background.\n",
    "\n",
    "The data taken from the survey will be used to answer the question *“Given the wife's age, religion, and standard of living, what is the preferred contraceptive method used?”*. We will be using the Contraceptive Method Choice Data Set that sampled married women in Indonesia who were not pregnant or were unaware they were pregnant (Lim, 1997). The goal was to predict women’s contraceptive method of choice (no use, long-term methods, short-term methods) based on characteristics like age, religion, standard of living, education, etc.\n",
    "\n",
    "Link to dataset: https://archive.ics.uci.edu/ml/datasets/Contraceptive+Method+Choice "
   ]
  },
  {
   "cell_type": "markdown",
   "metadata": {},
   "source": [
    "#### Methods\n",
    "\n",
    "First, the dataset will need to be filtered in order to only get the columns that are relvant to answering the question. Since there are no headers provided with the dataset, they will need to be manually set. The columns used from the dataset are wife’s age, religion, education, standard of living, and contraceptive method used. Religion was chosen as a predictor because it influences the type of contraceptive used and Indonesia holds the largest Muslim population (Hefner, 2020; Hill et al., 2014). Education and age are predictors because age, socioeconomic level, and level of education, particularly educational lag, have been found to impact women’s contraceptive methods (Sámano et al., 2019). \n",
    "\n",
    "RELEVANT COLUMNS:\n",
    "- Wife's age\n",
    "- Wife's education level (1=low 2,3,4=high)\n",
    "- Wife's religion (0=not Islam 1=Islam)\n",
    "- Standard of living (1=low 2,3,4=high)\n",
    "- Contraceptive method used (1= no use 2=long-term 3=short-term)\n",
    "\n",
    "Aftering filtering the dataset, will be read into Python and the data will be split into a training and testing set, 75% for the training set and 25% for the testing set. This will allow us to evaluate the accuracy of our model for predicting the prefered method of contraception. To create the most accurate predictor, the model will be tuned by testing different k-values for k-nearest neighbors. As such, a standard <code>5-fold-cross-validation</code> will be conducted using the GridSearchCV method from the scikit-learn package. Using the best value for k, the model with maximized efficiency can be used.\n",
    "\n",
    "Using the tuned model, we will be able to predict the method of contraception used given information about the wife using the <code>predict</code> method. \n"
   ]
  },
  {
   "cell_type": "markdown",
   "metadata": {},
   "source": [
    "#### Expected outcomes and significance\n",
    "\n",
    "Women with a higher standard of living and higher education level tend to use contraceptives longer than other groups because they are more aware of the available family planning resources and other resources beyond what the government offers. Alternately, women with lower education levels and a lower standard of living are more likely to use contraceptives for a shorter period or not use them at all (Iseyemi et al., 2017). \n",
    "\n",
    "Predicting women’s contraceptive choice can help healthcare providers and policymakers ensure proper access to their preferred contraception. Identifying sociodemographic groups that use or do not use contraceptives can assess disparities in access, utilization, and education of contraception. Despite Indonesia’s decline in fertility, contraceptive use can lower rates of unplanned pregnancies as well as maternal and infant mortality. \n",
    "This research can further inquire on the accessibility of contraception and family planning for all sociodemographic groups in Indonesia, and how it can be improved in order to ensure equality and promote autonomy and control over women’s reproductive health. \n"
   ]
  },
  {
   "cell_type": "markdown",
   "metadata": {},
   "source": [
    "#### Preliminary exploratory data analysis"
   ]
  },
  {
   "cell_type": "markdown",
   "metadata": {},
   "source": [
    "We first want to load the csv file into a dataframe so that we can better visualize the data. Appropriate headers are added and only the columns that have variables that are not related to the question are removed."
   ]
  },
  {
   "cell_type": "code",
   "execution_count": 6,
   "metadata": {},
   "outputs": [
    {
     "data": {
      "text/plain": [
       "RendererRegistry.enable('mimetype')"
      ]
     },
     "execution_count": 6,
     "metadata": {},
     "output_type": "execute_result"
    }
   ],
   "source": [
    "import altair as alt\n",
    "import numpy as np\n",
    "import pandas as pd\n",
    "import sklearn\n",
    "from sklearn.compose import make_column_transformer\n",
    "from sklearn.metrics import confusion_matrix\n",
    "from sklearn.metrics.pairwise import euclidean_distances\n",
    "from sklearn.model_selection import (\n",
    "    GridSearchCV,\n",
    "    RandomizedSearchCV,\n",
    "    cross_validate,\n",
    "    train_test_split,\n",
    ")\n",
    "from sklearn.neighbors import KNeighborsClassifier\n",
    "from sklearn.pipeline import Pipeline, make_pipeline\n",
    "from sklearn.preprocessing import OneHotEncoder, StandardScaler\n",
    "\n",
    "alt.data_transformers.disable_max_rows()\n",
    "alt.renderers.enable(\"mimetype\")"
   ]
  },
  {
   "cell_type": "code",
   "execution_count": 7,
   "metadata": {},
   "outputs": [
    {
     "data": {
      "text/html": [
       "<div>\n",
       "<style scoped>\n",
       "    .dataframe tbody tr th:only-of-type {\n",
       "        vertical-align: middle;\n",
       "    }\n",
       "\n",
       "    .dataframe tbody tr th {\n",
       "        vertical-align: top;\n",
       "    }\n",
       "\n",
       "    .dataframe thead th {\n",
       "        text-align: right;\n",
       "    }\n",
       "</style>\n",
       "<table border=\"1\" class=\"dataframe\">\n",
       "  <thead>\n",
       "    <tr style=\"text-align: right;\">\n",
       "      <th></th>\n",
       "      <th>wife_age</th>\n",
       "      <th>wife_education</th>\n",
       "      <th>husband_education</th>\n",
       "      <th>num_children_born</th>\n",
       "      <th>wife_religion</th>\n",
       "      <th>wife_working</th>\n",
       "      <th>husband_occupation</th>\n",
       "      <th>standard_of_living_index</th>\n",
       "      <th>media_exposure</th>\n",
       "      <th>contraceptive_method_used</th>\n",
       "    </tr>\n",
       "  </thead>\n",
       "  <tbody>\n",
       "    <tr>\n",
       "      <th>0</th>\n",
       "      <td>24</td>\n",
       "      <td>2</td>\n",
       "      <td>3</td>\n",
       "      <td>3</td>\n",
       "      <td>1</td>\n",
       "      <td>1</td>\n",
       "      <td>2</td>\n",
       "      <td>3</td>\n",
       "      <td>0</td>\n",
       "      <td>1</td>\n",
       "    </tr>\n",
       "    <tr>\n",
       "      <th>1</th>\n",
       "      <td>45</td>\n",
       "      <td>1</td>\n",
       "      <td>3</td>\n",
       "      <td>10</td>\n",
       "      <td>1</td>\n",
       "      <td>1</td>\n",
       "      <td>3</td>\n",
       "      <td>4</td>\n",
       "      <td>0</td>\n",
       "      <td>1</td>\n",
       "    </tr>\n",
       "    <tr>\n",
       "      <th>2</th>\n",
       "      <td>43</td>\n",
       "      <td>2</td>\n",
       "      <td>3</td>\n",
       "      <td>7</td>\n",
       "      <td>1</td>\n",
       "      <td>1</td>\n",
       "      <td>3</td>\n",
       "      <td>4</td>\n",
       "      <td>0</td>\n",
       "      <td>1</td>\n",
       "    </tr>\n",
       "    <tr>\n",
       "      <th>3</th>\n",
       "      <td>42</td>\n",
       "      <td>3</td>\n",
       "      <td>2</td>\n",
       "      <td>9</td>\n",
       "      <td>1</td>\n",
       "      <td>1</td>\n",
       "      <td>3</td>\n",
       "      <td>3</td>\n",
       "      <td>0</td>\n",
       "      <td>1</td>\n",
       "    </tr>\n",
       "    <tr>\n",
       "      <th>4</th>\n",
       "      <td>36</td>\n",
       "      <td>3</td>\n",
       "      <td>3</td>\n",
       "      <td>8</td>\n",
       "      <td>1</td>\n",
       "      <td>1</td>\n",
       "      <td>3</td>\n",
       "      <td>2</td>\n",
       "      <td>0</td>\n",
       "      <td>1</td>\n",
       "    </tr>\n",
       "    <tr>\n",
       "      <th>...</th>\n",
       "      <td>...</td>\n",
       "      <td>...</td>\n",
       "      <td>...</td>\n",
       "      <td>...</td>\n",
       "      <td>...</td>\n",
       "      <td>...</td>\n",
       "      <td>...</td>\n",
       "      <td>...</td>\n",
       "      <td>...</td>\n",
       "      <td>...</td>\n",
       "    </tr>\n",
       "    <tr>\n",
       "      <th>1468</th>\n",
       "      <td>33</td>\n",
       "      <td>4</td>\n",
       "      <td>4</td>\n",
       "      <td>2</td>\n",
       "      <td>1</td>\n",
       "      <td>0</td>\n",
       "      <td>2</td>\n",
       "      <td>4</td>\n",
       "      <td>0</td>\n",
       "      <td>3</td>\n",
       "    </tr>\n",
       "    <tr>\n",
       "      <th>1469</th>\n",
       "      <td>33</td>\n",
       "      <td>4</td>\n",
       "      <td>4</td>\n",
       "      <td>3</td>\n",
       "      <td>1</td>\n",
       "      <td>1</td>\n",
       "      <td>1</td>\n",
       "      <td>4</td>\n",
       "      <td>0</td>\n",
       "      <td>3</td>\n",
       "    </tr>\n",
       "    <tr>\n",
       "      <th>1470</th>\n",
       "      <td>39</td>\n",
       "      <td>3</td>\n",
       "      <td>3</td>\n",
       "      <td>8</td>\n",
       "      <td>1</td>\n",
       "      <td>0</td>\n",
       "      <td>1</td>\n",
       "      <td>4</td>\n",
       "      <td>0</td>\n",
       "      <td>3</td>\n",
       "    </tr>\n",
       "    <tr>\n",
       "      <th>1471</th>\n",
       "      <td>33</td>\n",
       "      <td>3</td>\n",
       "      <td>3</td>\n",
       "      <td>4</td>\n",
       "      <td>1</td>\n",
       "      <td>0</td>\n",
       "      <td>2</td>\n",
       "      <td>2</td>\n",
       "      <td>0</td>\n",
       "      <td>3</td>\n",
       "    </tr>\n",
       "    <tr>\n",
       "      <th>1472</th>\n",
       "      <td>17</td>\n",
       "      <td>3</td>\n",
       "      <td>3</td>\n",
       "      <td>1</td>\n",
       "      <td>1</td>\n",
       "      <td>1</td>\n",
       "      <td>2</td>\n",
       "      <td>4</td>\n",
       "      <td>0</td>\n",
       "      <td>3</td>\n",
       "    </tr>\n",
       "  </tbody>\n",
       "</table>\n",
       "<p>1473 rows × 10 columns</p>\n",
       "</div>"
      ],
      "text/plain": [
       "      wife_age  wife_education  husband_education  num_children_born  \\\n",
       "0           24               2                  3                  3   \n",
       "1           45               1                  3                 10   \n",
       "2           43               2                  3                  7   \n",
       "3           42               3                  2                  9   \n",
       "4           36               3                  3                  8   \n",
       "...        ...             ...                ...                ...   \n",
       "1468        33               4                  4                  2   \n",
       "1469        33               4                  4                  3   \n",
       "1470        39               3                  3                  8   \n",
       "1471        33               3                  3                  4   \n",
       "1472        17               3                  3                  1   \n",
       "\n",
       "      wife_religion  wife_working  husband_occupation  \\\n",
       "0                 1             1                   2   \n",
       "1                 1             1                   3   \n",
       "2                 1             1                   3   \n",
       "3                 1             1                   3   \n",
       "4                 1             1                   3   \n",
       "...             ...           ...                 ...   \n",
       "1468              1             0                   2   \n",
       "1469              1             1                   1   \n",
       "1470              1             0                   1   \n",
       "1471              1             0                   2   \n",
       "1472              1             1                   2   \n",
       "\n",
       "      standard_of_living_index  media_exposure  contraceptive_method_used  \n",
       "0                            3               0                          1  \n",
       "1                            4               0                          1  \n",
       "2                            4               0                          1  \n",
       "3                            3               0                          1  \n",
       "4                            2               0                          1  \n",
       "...                        ...             ...                        ...  \n",
       "1468                         4               0                          3  \n",
       "1469                         4               0                          3  \n",
       "1470                         4               0                          3  \n",
       "1471                         2               0                          3  \n",
       "1472                         4               0                          3  \n",
       "\n",
       "[1473 rows x 10 columns]"
      ]
     },
     "execution_count": 7,
     "metadata": {},
     "output_type": "execute_result"
    }
   ],
   "source": [
    "cmc_dataset = pd.read_csv(\"data/cmc.data.csv\", header=None,\n",
    "                     names=[\n",
    "                         \"wife_age\", \n",
    "                         \"wife_education\", #1=low 2,3,4=high\n",
    "                         \"husband_education\", #1=low 2,3,4=high\n",
    "                         \"num_children_born\",\n",
    "                         \"wife_religion\", #0=not Islam 1=Islam\n",
    "                         \"wife_working\", #0=yes 1=no\n",
    "                         \"husband_occupation\", #1,2,3,4 (categorical)\n",
    "                         \"standard_of_living_index\", #1=low 2,3,4=high\n",
    "                         \"media_exposure\", #0=good 1=not good\n",
    "                         \"contraceptive_method_used\", #1= no use 2=long-term 3=short-term\n",
    "                     ]\n",
    "                     )\n",
    "cmc_dataset"
   ]
  },
  {
   "cell_type": "code",
   "execution_count": 8,
   "metadata": {},
   "outputs": [
    {
     "data": {
      "text/html": [
       "<div>\n",
       "<style scoped>\n",
       "    .dataframe tbody tr th:only-of-type {\n",
       "        vertical-align: middle;\n",
       "    }\n",
       "\n",
       "    .dataframe tbody tr th {\n",
       "        vertical-align: top;\n",
       "    }\n",
       "\n",
       "    .dataframe thead th {\n",
       "        text-align: right;\n",
       "    }\n",
       "</style>\n",
       "<table border=\"1\" class=\"dataframe\">\n",
       "  <thead>\n",
       "    <tr style=\"text-align: right;\">\n",
       "      <th></th>\n",
       "      <th>wife_age</th>\n",
       "      <th>wife_education</th>\n",
       "      <th>wife_religion</th>\n",
       "      <th>standard_of_living_index</th>\n",
       "      <th>contraceptive_method_used</th>\n",
       "    </tr>\n",
       "  </thead>\n",
       "  <tbody>\n",
       "    <tr>\n",
       "      <th>0</th>\n",
       "      <td>24</td>\n",
       "      <td>2</td>\n",
       "      <td>1</td>\n",
       "      <td>3</td>\n",
       "      <td>1</td>\n",
       "    </tr>\n",
       "    <tr>\n",
       "      <th>1</th>\n",
       "      <td>45</td>\n",
       "      <td>1</td>\n",
       "      <td>1</td>\n",
       "      <td>4</td>\n",
       "      <td>1</td>\n",
       "    </tr>\n",
       "    <tr>\n",
       "      <th>2</th>\n",
       "      <td>43</td>\n",
       "      <td>2</td>\n",
       "      <td>1</td>\n",
       "      <td>4</td>\n",
       "      <td>1</td>\n",
       "    </tr>\n",
       "    <tr>\n",
       "      <th>3</th>\n",
       "      <td>42</td>\n",
       "      <td>3</td>\n",
       "      <td>1</td>\n",
       "      <td>3</td>\n",
       "      <td>1</td>\n",
       "    </tr>\n",
       "    <tr>\n",
       "      <th>4</th>\n",
       "      <td>36</td>\n",
       "      <td>3</td>\n",
       "      <td>1</td>\n",
       "      <td>2</td>\n",
       "      <td>1</td>\n",
       "    </tr>\n",
       "    <tr>\n",
       "      <th>...</th>\n",
       "      <td>...</td>\n",
       "      <td>...</td>\n",
       "      <td>...</td>\n",
       "      <td>...</td>\n",
       "      <td>...</td>\n",
       "    </tr>\n",
       "    <tr>\n",
       "      <th>1468</th>\n",
       "      <td>33</td>\n",
       "      <td>4</td>\n",
       "      <td>1</td>\n",
       "      <td>4</td>\n",
       "      <td>3</td>\n",
       "    </tr>\n",
       "    <tr>\n",
       "      <th>1469</th>\n",
       "      <td>33</td>\n",
       "      <td>4</td>\n",
       "      <td>1</td>\n",
       "      <td>4</td>\n",
       "      <td>3</td>\n",
       "    </tr>\n",
       "    <tr>\n",
       "      <th>1470</th>\n",
       "      <td>39</td>\n",
       "      <td>3</td>\n",
       "      <td>1</td>\n",
       "      <td>4</td>\n",
       "      <td>3</td>\n",
       "    </tr>\n",
       "    <tr>\n",
       "      <th>1471</th>\n",
       "      <td>33</td>\n",
       "      <td>3</td>\n",
       "      <td>1</td>\n",
       "      <td>2</td>\n",
       "      <td>3</td>\n",
       "    </tr>\n",
       "    <tr>\n",
       "      <th>1472</th>\n",
       "      <td>17</td>\n",
       "      <td>3</td>\n",
       "      <td>1</td>\n",
       "      <td>4</td>\n",
       "      <td>3</td>\n",
       "    </tr>\n",
       "  </tbody>\n",
       "</table>\n",
       "<p>1473 rows × 5 columns</p>\n",
       "</div>"
      ],
      "text/plain": [
       "      wife_age  wife_education  wife_religion  standard_of_living_index  \\\n",
       "0           24               2              1                         3   \n",
       "1           45               1              1                         4   \n",
       "2           43               2              1                         4   \n",
       "3           42               3              1                         3   \n",
       "4           36               3              1                         2   \n",
       "...        ...             ...            ...                       ...   \n",
       "1468        33               4              1                         4   \n",
       "1469        33               4              1                         4   \n",
       "1470        39               3              1                         4   \n",
       "1471        33               3              1                         2   \n",
       "1472        17               3              1                         4   \n",
       "\n",
       "      contraceptive_method_used  \n",
       "0                             1  \n",
       "1                             1  \n",
       "2                             1  \n",
       "3                             1  \n",
       "4                             1  \n",
       "...                         ...  \n",
       "1468                          3  \n",
       "1469                          3  \n",
       "1470                          3  \n",
       "1471                          3  \n",
       "1472                          3  \n",
       "\n",
       "[1473 rows x 5 columns]"
      ]
     },
     "execution_count": 8,
     "metadata": {},
     "output_type": "execute_result"
    }
   ],
   "source": [
    "cmc_dataset_filtered = cmc_dataset.loc[:, [\"wife_age\", \"wife_education\",\"wife_religion\",\"standard_of_living_index\", \"contraceptive_method_used\"]]\n",
    "cmc_dataset_filtered"
   ]
  },
  {
   "attachments": {},
   "cell_type": "markdown",
   "metadata": {},
   "source": [
    "Now we want to split our data into a training and testing set. The preliminary data analysis will be an exploratory analysis that uses data from the training set only. In order to reduce human bias, only the training set will be visualized. For this project, the dataset will be split 75% training and 25% testing. Stratify was used to maintain the distribution. "
   ]
  },
  {
   "cell_type": "code",
   "execution_count": 32,
   "metadata": {},
   "outputs": [
    {
     "data": {
      "text/html": [
       "<div>\n",
       "<style scoped>\n",
       "    .dataframe tbody tr th:only-of-type {\n",
       "        vertical-align: middle;\n",
       "    }\n",
       "\n",
       "    .dataframe tbody tr th {\n",
       "        vertical-align: top;\n",
       "    }\n",
       "\n",
       "    .dataframe thead th {\n",
       "        text-align: right;\n",
       "    }\n",
       "</style>\n",
       "<table border=\"1\" class=\"dataframe\">\n",
       "  <thead>\n",
       "    <tr style=\"text-align: right;\">\n",
       "      <th></th>\n",
       "      <th>wife_age</th>\n",
       "      <th>wife_education</th>\n",
       "      <th>wife_religion</th>\n",
       "      <th>standard_of_living_index</th>\n",
       "      <th>contraceptive_method_used</th>\n",
       "    </tr>\n",
       "  </thead>\n",
       "  <tbody>\n",
       "    <tr>\n",
       "      <th>823</th>\n",
       "      <td>30</td>\n",
       "      <td>3</td>\n",
       "      <td>1</td>\n",
       "      <td>1</td>\n",
       "      <td>3</td>\n",
       "    </tr>\n",
       "    <tr>\n",
       "      <th>567</th>\n",
       "      <td>34</td>\n",
       "      <td>3</td>\n",
       "      <td>0</td>\n",
       "      <td>3</td>\n",
       "      <td>2</td>\n",
       "    </tr>\n",
       "    <tr>\n",
       "      <th>388</th>\n",
       "      <td>28</td>\n",
       "      <td>2</td>\n",
       "      <td>1</td>\n",
       "      <td>4</td>\n",
       "      <td>1</td>\n",
       "    </tr>\n",
       "    <tr>\n",
       "      <th>337</th>\n",
       "      <td>30</td>\n",
       "      <td>4</td>\n",
       "      <td>1</td>\n",
       "      <td>4</td>\n",
       "      <td>1</td>\n",
       "    </tr>\n",
       "    <tr>\n",
       "      <th>331</th>\n",
       "      <td>35</td>\n",
       "      <td>1</td>\n",
       "      <td>1</td>\n",
       "      <td>4</td>\n",
       "      <td>1</td>\n",
       "    </tr>\n",
       "  </tbody>\n",
       "</table>\n",
       "</div>"
      ],
      "text/plain": [
       "     wife_age  wife_education  wife_religion  standard_of_living_index  \\\n",
       "823        30               3              1                         1   \n",
       "567        34               3              0                         3   \n",
       "388        28               2              1                         4   \n",
       "337        30               4              1                         4   \n",
       "331        35               1              1                         4   \n",
       "\n",
       "     contraceptive_method_used  \n",
       "823                          3  \n",
       "567                          2  \n",
       "388                          1  \n",
       "337                          1  \n",
       "331                          1  "
      ]
     },
     "execution_count": 32,
     "metadata": {},
     "output_type": "execute_result"
    }
   ],
   "source": [
    "cmc_train, cmc_test = train_test_split(cmc_dataset_filtered, test_size=0.25, stratify = cmc_dataset_filtered[\"contraceptive_method_used\"], \n",
    "                                       random_state=123)\n",
    "cmc_train.head()"
   ]
  },
  {
   "cell_type": "markdown",
   "metadata": {},
   "source": [
    "In our preliminary analysis, we want to be able to summarize useful information about the training set in a table. As such, we want to be able to see if there is any missing data, and the means and medians of our predictor variables. "
   ]
  },
  {
   "cell_type": "code",
   "execution_count": 33,
   "metadata": {},
   "outputs": [
    {
     "data": {
      "text/plain": [
       "wife_age                     0\n",
       "wife_education               0\n",
       "wife_religion                0\n",
       "standard_of_living_index     0\n",
       "contraceptive_method_used    0\n",
       "dtype: int64"
      ]
     },
     "execution_count": 33,
     "metadata": {},
     "output_type": "execute_result"
    }
   ],
   "source": [
    "missing_data = cmc_train.isna().sum()\n",
    "missing_data"
   ]
  },
  {
   "cell_type": "markdown",
   "metadata": {},
   "source": [
    "There is no missing data in our dataset, thus we do not need to filter out any incomplete rows."
   ]
  },
  {
   "cell_type": "code",
   "execution_count": 34,
   "metadata": {},
   "outputs": [
    {
     "data": {
      "text/html": [
       "<div>\n",
       "<style scoped>\n",
       "    .dataframe tbody tr th:only-of-type {\n",
       "        vertical-align: middle;\n",
       "    }\n",
       "\n",
       "    .dataframe tbody tr th {\n",
       "        vertical-align: top;\n",
       "    }\n",
       "\n",
       "    .dataframe thead th {\n",
       "        text-align: right;\n",
       "    }\n",
       "</style>\n",
       "<table border=\"1\" class=\"dataframe\">\n",
       "  <thead>\n",
       "    <tr style=\"text-align: right;\">\n",
       "      <th></th>\n",
       "      <th>wife_age</th>\n",
       "      <th>wife_education</th>\n",
       "      <th>wife_religion</th>\n",
       "      <th>standard_of_living_index</th>\n",
       "      <th>contraceptive_method_used</th>\n",
       "    </tr>\n",
       "  </thead>\n",
       "  <tbody>\n",
       "    <tr>\n",
       "      <th>mean</th>\n",
       "      <td>32.627717</td>\n",
       "      <td>2.958333</td>\n",
       "      <td>0.848732</td>\n",
       "      <td>3.123188</td>\n",
       "      <td>1.92029</td>\n",
       "    </tr>\n",
       "    <tr>\n",
       "      <th>median</th>\n",
       "      <td>32.000000</td>\n",
       "      <td>3.000000</td>\n",
       "      <td>1.000000</td>\n",
       "      <td>3.000000</td>\n",
       "      <td>2.00000</td>\n",
       "    </tr>\n",
       "    <tr>\n",
       "      <th>max</th>\n",
       "      <td>49.000000</td>\n",
       "      <td>4.000000</td>\n",
       "      <td>1.000000</td>\n",
       "      <td>4.000000</td>\n",
       "      <td>3.00000</td>\n",
       "    </tr>\n",
       "    <tr>\n",
       "      <th>min</th>\n",
       "      <td>16.000000</td>\n",
       "      <td>1.000000</td>\n",
       "      <td>0.000000</td>\n",
       "      <td>1.000000</td>\n",
       "      <td>1.00000</td>\n",
       "    </tr>\n",
       "  </tbody>\n",
       "</table>\n",
       "</div>"
      ],
      "text/plain": [
       "         wife_age  wife_education  wife_religion  standard_of_living_index  \\\n",
       "mean    32.627717        2.958333       0.848732                  3.123188   \n",
       "median  32.000000        3.000000       1.000000                  3.000000   \n",
       "max     49.000000        4.000000       1.000000                  4.000000   \n",
       "min     16.000000        1.000000       0.000000                  1.000000   \n",
       "\n",
       "        contraceptive_method_used  \n",
       "mean                      1.92029  \n",
       "median                    2.00000  \n",
       "max                       3.00000  \n",
       "min                       1.00000  "
      ]
     },
     "execution_count": 34,
     "metadata": {},
     "output_type": "execute_result"
    }
   ],
   "source": [
    "variable_agg = cmc_train.agg([\"mean\", \"median\", \"max\", \"min\"])\n",
    "variable_agg"
   ]
  },
  {
   "cell_type": "markdown",
   "metadata": {},
   "source": [
    "From the table above, we are able to obtain information about the distribution of the data in the training set. The mean and median gives an idea of the distribution of the data and which groups are dominant for each predictor. Using the min and max, we can confirm that observations spanning the entire range of the dataset are included. "
   ]
  },
  {
   "cell_type": "markdown",
   "metadata": {},
   "source": [
    "**Visualization**\n",
    "\n",
    "We chose our predictors based on academic papers that have found a correlation between each variable and the method of contraception used. As such we want to be able to see if each variable demonstrates a clear correlation. "
   ]
  },
  {
   "cell_type": "markdown",
   "metadata": {},
   "source": [
    "**Wife's age**"
   ]
  },
  {
   "cell_type": "code",
   "execution_count": 35,
   "metadata": {},
   "outputs": [
    {
     "data": {
      "application/vnd.vegalite.v4+json": {
       "$schema": "https://vega.github.io/schema/vega-lite/v4.17.0.json",
       "config": {
        "view": {
         "continuousHeight": 300,
         "continuousWidth": 400
        }
       },
       "data": {
        "name": "data-3895c4260d1dd1a6efb37b73d7dea99f"
       },
       "datasets": {
        "data-3895c4260d1dd1a6efb37b73d7dea99f": [
         {
          "contraceptive_method_used": 3,
          "standard_of_living_index": 1,
          "wife_age": 30,
          "wife_education": 3,
          "wife_religion": 1
         },
         {
          "contraceptive_method_used": 2,
          "standard_of_living_index": 3,
          "wife_age": 34,
          "wife_education": 3,
          "wife_religion": 0
         },
         {
          "contraceptive_method_used": 1,
          "standard_of_living_index": 4,
          "wife_age": 28,
          "wife_education": 2,
          "wife_religion": 1
         },
         {
          "contraceptive_method_used": 1,
          "standard_of_living_index": 4,
          "wife_age": 30,
          "wife_education": 4,
          "wife_religion": 1
         },
         {
          "contraceptive_method_used": 1,
          "standard_of_living_index": 4,
          "wife_age": 35,
          "wife_education": 1,
          "wife_religion": 1
         },
         {
          "contraceptive_method_used": 2,
          "standard_of_living_index": 3,
          "wife_age": 21,
          "wife_education": 4,
          "wife_religion": 1
         },
         {
          "contraceptive_method_used": 2,
          "standard_of_living_index": 4,
          "wife_age": 26,
          "wife_education": 4,
          "wife_religion": 0
         },
         {
          "contraceptive_method_used": 1,
          "standard_of_living_index": 4,
          "wife_age": 42,
          "wife_education": 2,
          "wife_religion": 1
         },
         {
          "contraceptive_method_used": 3,
          "standard_of_living_index": 4,
          "wife_age": 40,
          "wife_education": 2,
          "wife_religion": 0
         },
         {
          "contraceptive_method_used": 1,
          "standard_of_living_index": 2,
          "wife_age": 22,
          "wife_education": 4,
          "wife_religion": 1
         },
         {
          "contraceptive_method_used": 3,
          "standard_of_living_index": 4,
          "wife_age": 26,
          "wife_education": 4,
          "wife_religion": 0
         },
         {
          "contraceptive_method_used": 1,
          "standard_of_living_index": 2,
          "wife_age": 19,
          "wife_education": 3,
          "wife_religion": 1
         },
         {
          "contraceptive_method_used": 1,
          "standard_of_living_index": 2,
          "wife_age": 27,
          "wife_education": 2,
          "wife_religion": 1
         },
         {
          "contraceptive_method_used": 3,
          "standard_of_living_index": 4,
          "wife_age": 25,
          "wife_education": 4,
          "wife_religion": 1
         },
         {
          "contraceptive_method_used": 1,
          "standard_of_living_index": 2,
          "wife_age": 28,
          "wife_education": 2,
          "wife_religion": 1
         },
         {
          "contraceptive_method_used": 1,
          "standard_of_living_index": 3,
          "wife_age": 22,
          "wife_education": 2,
          "wife_religion": 1
         },
         {
          "contraceptive_method_used": 1,
          "standard_of_living_index": 3,
          "wife_age": 21,
          "wife_education": 3,
          "wife_religion": 1
         },
         {
          "contraceptive_method_used": 3,
          "standard_of_living_index": 4,
          "wife_age": 37,
          "wife_education": 3,
          "wife_religion": 0
         },
         {
          "contraceptive_method_used": 1,
          "standard_of_living_index": 3,
          "wife_age": 29,
          "wife_education": 3,
          "wife_religion": 0
         },
         {
          "contraceptive_method_used": 1,
          "standard_of_living_index": 3,
          "wife_age": 45,
          "wife_education": 1,
          "wife_religion": 1
         },
         {
          "contraceptive_method_used": 3,
          "standard_of_living_index": 3,
          "wife_age": 28,
          "wife_education": 3,
          "wife_religion": 0
         },
         {
          "contraceptive_method_used": 1,
          "standard_of_living_index": 3,
          "wife_age": 36,
          "wife_education": 3,
          "wife_religion": 0
         },
         {
          "contraceptive_method_used": 1,
          "standard_of_living_index": 2,
          "wife_age": 19,
          "wife_education": 2,
          "wife_religion": 1
         },
         {
          "contraceptive_method_used": 3,
          "standard_of_living_index": 3,
          "wife_age": 27,
          "wife_education": 3,
          "wife_religion": 1
         },
         {
          "contraceptive_method_used": 1,
          "standard_of_living_index": 3,
          "wife_age": 31,
          "wife_education": 3,
          "wife_religion": 1
         },
         {
          "contraceptive_method_used": 1,
          "standard_of_living_index": 1,
          "wife_age": 25,
          "wife_education": 2,
          "wife_religion": 1
         },
         {
          "contraceptive_method_used": 3,
          "standard_of_living_index": 1,
          "wife_age": 20,
          "wife_education": 2,
          "wife_religion": 1
         },
         {
          "contraceptive_method_used": 1,
          "standard_of_living_index": 3,
          "wife_age": 49,
          "wife_education": 2,
          "wife_religion": 0
         },
         {
          "contraceptive_method_used": 2,
          "standard_of_living_index": 4,
          "wife_age": 37,
          "wife_education": 4,
          "wife_religion": 0
         },
         {
          "contraceptive_method_used": 2,
          "standard_of_living_index": 4,
          "wife_age": 25,
          "wife_education": 2,
          "wife_religion": 1
         },
         {
          "contraceptive_method_used": 1,
          "standard_of_living_index": 4,
          "wife_age": 45,
          "wife_education": 4,
          "wife_religion": 1
         },
         {
          "contraceptive_method_used": 2,
          "standard_of_living_index": 4,
          "wife_age": 44,
          "wife_education": 4,
          "wife_religion": 1
         },
         {
          "contraceptive_method_used": 2,
          "standard_of_living_index": 4,
          "wife_age": 47,
          "wife_education": 2,
          "wife_religion": 1
         },
         {
          "contraceptive_method_used": 1,
          "standard_of_living_index": 4,
          "wife_age": 47,
          "wife_education": 4,
          "wife_religion": 1
         },
         {
          "contraceptive_method_used": 3,
          "standard_of_living_index": 3,
          "wife_age": 22,
          "wife_education": 4,
          "wife_religion": 1
         },
         {
          "contraceptive_method_used": 1,
          "standard_of_living_index": 2,
          "wife_age": 40,
          "wife_education": 3,
          "wife_religion": 1
         },
         {
          "contraceptive_method_used": 2,
          "standard_of_living_index": 4,
          "wife_age": 44,
          "wife_education": 4,
          "wife_religion": 1
         },
         {
          "contraceptive_method_used": 3,
          "standard_of_living_index": 4,
          "wife_age": 38,
          "wife_education": 4,
          "wife_religion": 1
         },
         {
          "contraceptive_method_used": 2,
          "standard_of_living_index": 4,
          "wife_age": 36,
          "wife_education": 4,
          "wife_religion": 1
         },
         {
          "contraceptive_method_used": 1,
          "standard_of_living_index": 4,
          "wife_age": 37,
          "wife_education": 3,
          "wife_religion": 1
         },
         {
          "contraceptive_method_used": 1,
          "standard_of_living_index": 2,
          "wife_age": 42,
          "wife_education": 1,
          "wife_religion": 1
         },
         {
          "contraceptive_method_used": 2,
          "standard_of_living_index": 4,
          "wife_age": 41,
          "wife_education": 4,
          "wife_religion": 1
         },
         {
          "contraceptive_method_used": 2,
          "standard_of_living_index": 4,
          "wife_age": 44,
          "wife_education": 4,
          "wife_religion": 1
         },
         {
          "contraceptive_method_used": 3,
          "standard_of_living_index": 4,
          "wife_age": 32,
          "wife_education": 4,
          "wife_religion": 1
         },
         {
          "contraceptive_method_used": 2,
          "standard_of_living_index": 4,
          "wife_age": 41,
          "wife_education": 4,
          "wife_religion": 1
         },
         {
          "contraceptive_method_used": 2,
          "standard_of_living_index": 4,
          "wife_age": 40,
          "wife_education": 4,
          "wife_religion": 1
         },
         {
          "contraceptive_method_used": 3,
          "standard_of_living_index": 4,
          "wife_age": 49,
          "wife_education": 4,
          "wife_religion": 1
         },
         {
          "contraceptive_method_used": 1,
          "standard_of_living_index": 4,
          "wife_age": 33,
          "wife_education": 2,
          "wife_religion": 0
         },
         {
          "contraceptive_method_used": 2,
          "standard_of_living_index": 3,
          "wife_age": 37,
          "wife_education": 4,
          "wife_religion": 1
         },
         {
          "contraceptive_method_used": 1,
          "standard_of_living_index": 4,
          "wife_age": 28,
          "wife_education": 4,
          "wife_religion": 1
         },
         {
          "contraceptive_method_used": 1,
          "standard_of_living_index": 4,
          "wife_age": 49,
          "wife_education": 3,
          "wife_religion": 1
         },
         {
          "contraceptive_method_used": 2,
          "standard_of_living_index": 4,
          "wife_age": 44,
          "wife_education": 4,
          "wife_religion": 1
         },
         {
          "contraceptive_method_used": 1,
          "standard_of_living_index": 4,
          "wife_age": 30,
          "wife_education": 1,
          "wife_religion": 1
         },
         {
          "contraceptive_method_used": 1,
          "standard_of_living_index": 1,
          "wife_age": 28,
          "wife_education": 3,
          "wife_religion": 1
         },
         {
          "contraceptive_method_used": 1,
          "standard_of_living_index": 2,
          "wife_age": 42,
          "wife_education": 3,
          "wife_religion": 1
         },
         {
          "contraceptive_method_used": 2,
          "standard_of_living_index": 4,
          "wife_age": 41,
          "wife_education": 4,
          "wife_religion": 0
         },
         {
          "contraceptive_method_used": 3,
          "standard_of_living_index": 4,
          "wife_age": 26,
          "wife_education": 2,
          "wife_religion": 1
         },
         {
          "contraceptive_method_used": 1,
          "standard_of_living_index": 4,
          "wife_age": 39,
          "wife_education": 3,
          "wife_religion": 1
         },
         {
          "contraceptive_method_used": 2,
          "standard_of_living_index": 4,
          "wife_age": 41,
          "wife_education": 4,
          "wife_religion": 0
         },
         {
          "contraceptive_method_used": 3,
          "standard_of_living_index": 3,
          "wife_age": 26,
          "wife_education": 3,
          "wife_religion": 1
         },
         {
          "contraceptive_method_used": 2,
          "standard_of_living_index": 3,
          "wife_age": 25,
          "wife_education": 4,
          "wife_religion": 0
         },
         {
          "contraceptive_method_used": 2,
          "standard_of_living_index": 4,
          "wife_age": 40,
          "wife_education": 4,
          "wife_religion": 0
         },
         {
          "contraceptive_method_used": 3,
          "standard_of_living_index": 4,
          "wife_age": 25,
          "wife_education": 4,
          "wife_religion": 1
         },
         {
          "contraceptive_method_used": 2,
          "standard_of_living_index": 2,
          "wife_age": 24,
          "wife_education": 1,
          "wife_religion": 1
         },
         {
          "contraceptive_method_used": 1,
          "standard_of_living_index": 4,
          "wife_age": 32,
          "wife_education": 2,
          "wife_religion": 1
         },
         {
          "contraceptive_method_used": 1,
          "standard_of_living_index": 4,
          "wife_age": 39,
          "wife_education": 3,
          "wife_religion": 0
         },
         {
          "contraceptive_method_used": 3,
          "standard_of_living_index": 2,
          "wife_age": 35,
          "wife_education": 1,
          "wife_religion": 1
         },
         {
          "contraceptive_method_used": 2,
          "standard_of_living_index": 2,
          "wife_age": 24,
          "wife_education": 4,
          "wife_religion": 1
         },
         {
          "contraceptive_method_used": 2,
          "standard_of_living_index": 4,
          "wife_age": 25,
          "wife_education": 4,
          "wife_religion": 1
         },
         {
          "contraceptive_method_used": 3,
          "standard_of_living_index": 2,
          "wife_age": 22,
          "wife_education": 1,
          "wife_religion": 1
         },
         {
          "contraceptive_method_used": 1,
          "standard_of_living_index": 4,
          "wife_age": 25,
          "wife_education": 3,
          "wife_religion": 1
         },
         {
          "contraceptive_method_used": 2,
          "standard_of_living_index": 4,
          "wife_age": 24,
          "wife_education": 4,
          "wife_religion": 1
         },
         {
          "contraceptive_method_used": 1,
          "standard_of_living_index": 1,
          "wife_age": 40,
          "wife_education": 1,
          "wife_religion": 1
         },
         {
          "contraceptive_method_used": 2,
          "standard_of_living_index": 2,
          "wife_age": 36,
          "wife_education": 3,
          "wife_religion": 1
         },
         {
          "contraceptive_method_used": 2,
          "standard_of_living_index": 2,
          "wife_age": 35,
          "wife_education": 3,
          "wife_religion": 1
         },
         {
          "contraceptive_method_used": 1,
          "standard_of_living_index": 3,
          "wife_age": 22,
          "wife_education": 2,
          "wife_religion": 1
         },
         {
          "contraceptive_method_used": 2,
          "standard_of_living_index": 4,
          "wife_age": 17,
          "wife_education": 4,
          "wife_religion": 1
         },
         {
          "contraceptive_method_used": 3,
          "standard_of_living_index": 4,
          "wife_age": 17,
          "wife_education": 3,
          "wife_religion": 1
         },
         {
          "contraceptive_method_used": 3,
          "standard_of_living_index": 4,
          "wife_age": 35,
          "wife_education": 4,
          "wife_religion": 0
         },
         {
          "contraceptive_method_used": 1,
          "standard_of_living_index": 3,
          "wife_age": 45,
          "wife_education": 1,
          "wife_religion": 1
         },
         {
          "contraceptive_method_used": 2,
          "standard_of_living_index": 3,
          "wife_age": 28,
          "wife_education": 2,
          "wife_religion": 1
         },
         {
          "contraceptive_method_used": 1,
          "standard_of_living_index": 4,
          "wife_age": 47,
          "wife_education": 3,
          "wife_religion": 1
         },
         {
          "contraceptive_method_used": 2,
          "standard_of_living_index": 4,
          "wife_age": 30,
          "wife_education": 3,
          "wife_religion": 1
         },
         {
          "contraceptive_method_used": 2,
          "standard_of_living_index": 4,
          "wife_age": 21,
          "wife_education": 3,
          "wife_religion": 1
         },
         {
          "contraceptive_method_used": 2,
          "standard_of_living_index": 4,
          "wife_age": 35,
          "wife_education": 4,
          "wife_religion": 0
         },
         {
          "contraceptive_method_used": 1,
          "standard_of_living_index": 3,
          "wife_age": 25,
          "wife_education": 4,
          "wife_religion": 1
         },
         {
          "contraceptive_method_used": 1,
          "standard_of_living_index": 4,
          "wife_age": 38,
          "wife_education": 3,
          "wife_religion": 0
         },
         {
          "contraceptive_method_used": 2,
          "standard_of_living_index": 4,
          "wife_age": 21,
          "wife_education": 4,
          "wife_religion": 1
         },
         {
          "contraceptive_method_used": 1,
          "standard_of_living_index": 4,
          "wife_age": 48,
          "wife_education": 3,
          "wife_religion": 0
         },
         {
          "contraceptive_method_used": 1,
          "standard_of_living_index": 3,
          "wife_age": 35,
          "wife_education": 2,
          "wife_religion": 1
         },
         {
          "contraceptive_method_used": 3,
          "standard_of_living_index": 4,
          "wife_age": 35,
          "wife_education": 4,
          "wife_religion": 0
         },
         {
          "contraceptive_method_used": 1,
          "standard_of_living_index": 2,
          "wife_age": 22,
          "wife_education": 3,
          "wife_religion": 1
         },
         {
          "contraceptive_method_used": 3,
          "standard_of_living_index": 2,
          "wife_age": 40,
          "wife_education": 3,
          "wife_religion": 1
         },
         {
          "contraceptive_method_used": 1,
          "standard_of_living_index": 4,
          "wife_age": 27,
          "wife_education": 2,
          "wife_religion": 1
         },
         {
          "contraceptive_method_used": 2,
          "standard_of_living_index": 4,
          "wife_age": 30,
          "wife_education": 3,
          "wife_religion": 1
         },
         {
          "contraceptive_method_used": 1,
          "standard_of_living_index": 3,
          "wife_age": 47,
          "wife_education": 1,
          "wife_religion": 1
         },
         {
          "contraceptive_method_used": 3,
          "standard_of_living_index": 4,
          "wife_age": 25,
          "wife_education": 2,
          "wife_religion": 1
         },
         {
          "contraceptive_method_used": 3,
          "standard_of_living_index": 4,
          "wife_age": 32,
          "wife_education": 4,
          "wife_religion": 0
         },
         {
          "contraceptive_method_used": 1,
          "standard_of_living_index": 3,
          "wife_age": 36,
          "wife_education": 2,
          "wife_religion": 1
         },
         {
          "contraceptive_method_used": 3,
          "standard_of_living_index": 2,
          "wife_age": 26,
          "wife_education": 3,
          "wife_religion": 1
         },
         {
          "contraceptive_method_used": 3,
          "standard_of_living_index": 3,
          "wife_age": 22,
          "wife_education": 3,
          "wife_religion": 1
         },
         {
          "contraceptive_method_used": 1,
          "standard_of_living_index": 1,
          "wife_age": 34,
          "wife_education": 3,
          "wife_religion": 0
         },
         {
          "contraceptive_method_used": 2,
          "standard_of_living_index": 3,
          "wife_age": 36,
          "wife_education": 3,
          "wife_religion": 1
         },
         {
          "contraceptive_method_used": 3,
          "standard_of_living_index": 3,
          "wife_age": 32,
          "wife_education": 2,
          "wife_religion": 1
         },
         {
          "contraceptive_method_used": 1,
          "standard_of_living_index": 4,
          "wife_age": 28,
          "wife_education": 4,
          "wife_religion": 0
         },
         {
          "contraceptive_method_used": 1,
          "standard_of_living_index": 4,
          "wife_age": 47,
          "wife_education": 4,
          "wife_religion": 0
         },
         {
          "contraceptive_method_used": 1,
          "standard_of_living_index": 4,
          "wife_age": 33,
          "wife_education": 4,
          "wife_religion": 1
         },
         {
          "contraceptive_method_used": 1,
          "standard_of_living_index": 2,
          "wife_age": 35,
          "wife_education": 3,
          "wife_religion": 1
         },
         {
          "contraceptive_method_used": 3,
          "standard_of_living_index": 3,
          "wife_age": 25,
          "wife_education": 4,
          "wife_religion": 1
         },
         {
          "contraceptive_method_used": 3,
          "standard_of_living_index": 1,
          "wife_age": 36,
          "wife_education": 1,
          "wife_religion": 1
         },
         {
          "contraceptive_method_used": 1,
          "standard_of_living_index": 3,
          "wife_age": 29,
          "wife_education": 4,
          "wife_religion": 1
         },
         {
          "contraceptive_method_used": 1,
          "standard_of_living_index": 4,
          "wife_age": 49,
          "wife_education": 4,
          "wife_religion": 0
         },
         {
          "contraceptive_method_used": 3,
          "standard_of_living_index": 4,
          "wife_age": 33,
          "wife_education": 4,
          "wife_religion": 0
         },
         {
          "contraceptive_method_used": 3,
          "standard_of_living_index": 3,
          "wife_age": 48,
          "wife_education": 3,
          "wife_religion": 1
         },
         {
          "contraceptive_method_used": 3,
          "standard_of_living_index": 3,
          "wife_age": 31,
          "wife_education": 2,
          "wife_religion": 1
         },
         {
          "contraceptive_method_used": 3,
          "standard_of_living_index": 4,
          "wife_age": 46,
          "wife_education": 3,
          "wife_religion": 1
         },
         {
          "contraceptive_method_used": 1,
          "standard_of_living_index": 3,
          "wife_age": 37,
          "wife_education": 2,
          "wife_religion": 1
         },
         {
          "contraceptive_method_used": 1,
          "standard_of_living_index": 2,
          "wife_age": 35,
          "wife_education": 3,
          "wife_religion": 1
         },
         {
          "contraceptive_method_used": 2,
          "standard_of_living_index": 4,
          "wife_age": 39,
          "wife_education": 4,
          "wife_religion": 0
         },
         {
          "contraceptive_method_used": 3,
          "standard_of_living_index": 1,
          "wife_age": 30,
          "wife_education": 2,
          "wife_religion": 1
         },
         {
          "contraceptive_method_used": 3,
          "standard_of_living_index": 4,
          "wife_age": 35,
          "wife_education": 4,
          "wife_religion": 1
         },
         {
          "contraceptive_method_used": 2,
          "standard_of_living_index": 4,
          "wife_age": 38,
          "wife_education": 4,
          "wife_religion": 1
         },
         {
          "contraceptive_method_used": 1,
          "standard_of_living_index": 2,
          "wife_age": 49,
          "wife_education": 1,
          "wife_religion": 1
         },
         {
          "contraceptive_method_used": 2,
          "standard_of_living_index": 4,
          "wife_age": 45,
          "wife_education": 4,
          "wife_religion": 1
         },
         {
          "contraceptive_method_used": 1,
          "standard_of_living_index": 4,
          "wife_age": 37,
          "wife_education": 4,
          "wife_religion": 0
         },
         {
          "contraceptive_method_used": 1,
          "standard_of_living_index": 4,
          "wife_age": 44,
          "wife_education": 1,
          "wife_religion": 1
         },
         {
          "contraceptive_method_used": 2,
          "standard_of_living_index": 4,
          "wife_age": 35,
          "wife_education": 4,
          "wife_religion": 1
         },
         {
          "contraceptive_method_used": 3,
          "standard_of_living_index": 4,
          "wife_age": 24,
          "wife_education": 2,
          "wife_religion": 1
         },
         {
          "contraceptive_method_used": 3,
          "standard_of_living_index": 4,
          "wife_age": 32,
          "wife_education": 4,
          "wife_religion": 0
         },
         {
          "contraceptive_method_used": 1,
          "standard_of_living_index": 2,
          "wife_age": 47,
          "wife_education": 2,
          "wife_religion": 1
         },
         {
          "contraceptive_method_used": 3,
          "standard_of_living_index": 4,
          "wife_age": 48,
          "wife_education": 4,
          "wife_religion": 1
         },
         {
          "contraceptive_method_used": 3,
          "standard_of_living_index": 4,
          "wife_age": 33,
          "wife_education": 3,
          "wife_religion": 1
         },
         {
          "contraceptive_method_used": 1,
          "standard_of_living_index": 4,
          "wife_age": 43,
          "wife_education": 4,
          "wife_religion": 1
         },
         {
          "contraceptive_method_used": 2,
          "standard_of_living_index": 4,
          "wife_age": 47,
          "wife_education": 4,
          "wife_religion": 1
         },
         {
          "contraceptive_method_used": 1,
          "standard_of_living_index": 2,
          "wife_age": 43,
          "wife_education": 1,
          "wife_religion": 1
         },
         {
          "contraceptive_method_used": 1,
          "standard_of_living_index": 4,
          "wife_age": 26,
          "wife_education": 4,
          "wife_religion": 1
         },
         {
          "contraceptive_method_used": 3,
          "standard_of_living_index": 2,
          "wife_age": 30,
          "wife_education": 3,
          "wife_religion": 1
         },
         {
          "contraceptive_method_used": 1,
          "standard_of_living_index": 3,
          "wife_age": 21,
          "wife_education": 4,
          "wife_religion": 1
         },
         {
          "contraceptive_method_used": 1,
          "standard_of_living_index": 4,
          "wife_age": 43,
          "wife_education": 1,
          "wife_religion": 1
         },
         {
          "contraceptive_method_used": 3,
          "standard_of_living_index": 2,
          "wife_age": 26,
          "wife_education": 1,
          "wife_religion": 1
         },
         {
          "contraceptive_method_used": 1,
          "standard_of_living_index": 1,
          "wife_age": 28,
          "wife_education": 2,
          "wife_religion": 1
         },
         {
          "contraceptive_method_used": 2,
          "standard_of_living_index": 4,
          "wife_age": 38,
          "wife_education": 4,
          "wife_religion": 1
         },
         {
          "contraceptive_method_used": 3,
          "standard_of_living_index": 3,
          "wife_age": 23,
          "wife_education": 3,
          "wife_religion": 1
         },
         {
          "contraceptive_method_used": 1,
          "standard_of_living_index": 3,
          "wife_age": 28,
          "wife_education": 3,
          "wife_religion": 1
         },
         {
          "contraceptive_method_used": 1,
          "standard_of_living_index": 1,
          "wife_age": 18,
          "wife_education": 3,
          "wife_religion": 1
         },
         {
          "contraceptive_method_used": 1,
          "standard_of_living_index": 4,
          "wife_age": 35,
          "wife_education": 4,
          "wife_religion": 1
         },
         {
          "contraceptive_method_used": 1,
          "standard_of_living_index": 4,
          "wife_age": 48,
          "wife_education": 4,
          "wife_religion": 0
         },
         {
          "contraceptive_method_used": 3,
          "standard_of_living_index": 3,
          "wife_age": 29,
          "wife_education": 1,
          "wife_religion": 1
         },
         {
          "contraceptive_method_used": 1,
          "standard_of_living_index": 1,
          "wife_age": 22,
          "wife_education": 4,
          "wife_religion": 1
         },
         {
          "contraceptive_method_used": 3,
          "standard_of_living_index": 1,
          "wife_age": 25,
          "wife_education": 2,
          "wife_religion": 1
         },
         {
          "contraceptive_method_used": 3,
          "standard_of_living_index": 4,
          "wife_age": 32,
          "wife_education": 4,
          "wife_religion": 1
         },
         {
          "contraceptive_method_used": 2,
          "standard_of_living_index": 3,
          "wife_age": 44,
          "wife_education": 4,
          "wife_religion": 0
         },
         {
          "contraceptive_method_used": 3,
          "standard_of_living_index": 4,
          "wife_age": 28,
          "wife_education": 2,
          "wife_religion": 1
         },
         {
          "contraceptive_method_used": 2,
          "standard_of_living_index": 4,
          "wife_age": 35,
          "wife_education": 4,
          "wife_religion": 1
         },
         {
          "contraceptive_method_used": 2,
          "standard_of_living_index": 2,
          "wife_age": 32,
          "wife_education": 3,
          "wife_religion": 1
         },
         {
          "contraceptive_method_used": 2,
          "standard_of_living_index": 4,
          "wife_age": 27,
          "wife_education": 4,
          "wife_religion": 1
         },
         {
          "contraceptive_method_used": 3,
          "standard_of_living_index": 3,
          "wife_age": 25,
          "wife_education": 4,
          "wife_religion": 1
         },
         {
          "contraceptive_method_used": 3,
          "standard_of_living_index": 3,
          "wife_age": 33,
          "wife_education": 2,
          "wife_religion": 1
         },
         {
          "contraceptive_method_used": 1,
          "standard_of_living_index": 3,
          "wife_age": 24,
          "wife_education": 3,
          "wife_religion": 1
         },
         {
          "contraceptive_method_used": 3,
          "standard_of_living_index": 3,
          "wife_age": 31,
          "wife_education": 3,
          "wife_religion": 1
         },
         {
          "contraceptive_method_used": 3,
          "standard_of_living_index": 4,
          "wife_age": 35,
          "wife_education": 4,
          "wife_religion": 1
         },
         {
          "contraceptive_method_used": 2,
          "standard_of_living_index": 3,
          "wife_age": 32,
          "wife_education": 3,
          "wife_religion": 0
         },
         {
          "contraceptive_method_used": 1,
          "standard_of_living_index": 2,
          "wife_age": 27,
          "wife_education": 3,
          "wife_religion": 1
         },
         {
          "contraceptive_method_used": 3,
          "standard_of_living_index": 3,
          "wife_age": 47,
          "wife_education": 4,
          "wife_religion": 1
         },
         {
          "contraceptive_method_used": 1,
          "standard_of_living_index": 4,
          "wife_age": 21,
          "wife_education": 4,
          "wife_religion": 1
         },
         {
          "contraceptive_method_used": 2,
          "standard_of_living_index": 3,
          "wife_age": 33,
          "wife_education": 4,
          "wife_religion": 1
         },
         {
          "contraceptive_method_used": 3,
          "standard_of_living_index": 4,
          "wife_age": 31,
          "wife_education": 4,
          "wife_religion": 0
         },
         {
          "contraceptive_method_used": 1,
          "standard_of_living_index": 4,
          "wife_age": 40,
          "wife_education": 3,
          "wife_religion": 0
         },
         {
          "contraceptive_method_used": 1,
          "standard_of_living_index": 3,
          "wife_age": 38,
          "wife_education": 1,
          "wife_religion": 1
         },
         {
          "contraceptive_method_used": 1,
          "standard_of_living_index": 4,
          "wife_age": 43,
          "wife_education": 1,
          "wife_religion": 1
         },
         {
          "contraceptive_method_used": 1,
          "standard_of_living_index": 4,
          "wife_age": 48,
          "wife_education": 4,
          "wife_religion": 1
         },
         {
          "contraceptive_method_used": 1,
          "standard_of_living_index": 1,
          "wife_age": 26,
          "wife_education": 3,
          "wife_religion": 1
         },
         {
          "contraceptive_method_used": 3,
          "standard_of_living_index": 3,
          "wife_age": 26,
          "wife_education": 4,
          "wife_religion": 1
         },
         {
          "contraceptive_method_used": 1,
          "standard_of_living_index": 1,
          "wife_age": 39,
          "wife_education": 1,
          "wife_religion": 1
         },
         {
          "contraceptive_method_used": 3,
          "standard_of_living_index": 1,
          "wife_age": 21,
          "wife_education": 3,
          "wife_religion": 1
         },
         {
          "contraceptive_method_used": 2,
          "standard_of_living_index": 3,
          "wife_age": 35,
          "wife_education": 4,
          "wife_religion": 0
         },
         {
          "contraceptive_method_used": 2,
          "standard_of_living_index": 4,
          "wife_age": 38,
          "wife_education": 4,
          "wife_religion": 0
         },
         {
          "contraceptive_method_used": 2,
          "standard_of_living_index": 4,
          "wife_age": 29,
          "wife_education": 4,
          "wife_religion": 1
         },
         {
          "contraceptive_method_used": 3,
          "standard_of_living_index": 4,
          "wife_age": 36,
          "wife_education": 4,
          "wife_religion": 0
         },
         {
          "contraceptive_method_used": 3,
          "standard_of_living_index": 4,
          "wife_age": 28,
          "wife_education": 4,
          "wife_religion": 1
         },
         {
          "contraceptive_method_used": 2,
          "standard_of_living_index": 3,
          "wife_age": 29,
          "wife_education": 4,
          "wife_religion": 1
         },
         {
          "contraceptive_method_used": 2,
          "standard_of_living_index": 4,
          "wife_age": 29,
          "wife_education": 4,
          "wife_religion": 1
         },
         {
          "contraceptive_method_used": 3,
          "standard_of_living_index": 4,
          "wife_age": 44,
          "wife_education": 3,
          "wife_religion": 1
         },
         {
          "contraceptive_method_used": 1,
          "standard_of_living_index": 1,
          "wife_age": 28,
          "wife_education": 2,
          "wife_religion": 1
         },
         {
          "contraceptive_method_used": 3,
          "standard_of_living_index": 4,
          "wife_age": 41,
          "wife_education": 4,
          "wife_religion": 1
         },
         {
          "contraceptive_method_used": 2,
          "standard_of_living_index": 3,
          "wife_age": 42,
          "wife_education": 2,
          "wife_religion": 0
         },
         {
          "contraceptive_method_used": 1,
          "standard_of_living_index": 3,
          "wife_age": 27,
          "wife_education": 2,
          "wife_religion": 1
         },
         {
          "contraceptive_method_used": 3,
          "standard_of_living_index": 1,
          "wife_age": 22,
          "wife_education": 3,
          "wife_religion": 1
         },
         {
          "contraceptive_method_used": 3,
          "standard_of_living_index": 3,
          "wife_age": 30,
          "wife_education": 2,
          "wife_religion": 1
         },
         {
          "contraceptive_method_used": 2,
          "standard_of_living_index": 4,
          "wife_age": 36,
          "wife_education": 4,
          "wife_religion": 1
         },
         {
          "contraceptive_method_used": 2,
          "standard_of_living_index": 4,
          "wife_age": 42,
          "wife_education": 4,
          "wife_religion": 1
         },
         {
          "contraceptive_method_used": 3,
          "standard_of_living_index": 4,
          "wife_age": 31,
          "wife_education": 4,
          "wife_religion": 1
         },
         {
          "contraceptive_method_used": 1,
          "standard_of_living_index": 3,
          "wife_age": 25,
          "wife_education": 1,
          "wife_religion": 1
         },
         {
          "contraceptive_method_used": 1,
          "standard_of_living_index": 4,
          "wife_age": 32,
          "wife_education": 2,
          "wife_religion": 1
         },
         {
          "contraceptive_method_used": 1,
          "standard_of_living_index": 4,
          "wife_age": 40,
          "wife_education": 4,
          "wife_religion": 1
         },
         {
          "contraceptive_method_used": 3,
          "standard_of_living_index": 4,
          "wife_age": 22,
          "wife_education": 3,
          "wife_religion": 0
         },
         {
          "contraceptive_method_used": 3,
          "standard_of_living_index": 3,
          "wife_age": 26,
          "wife_education": 3,
          "wife_religion": 1
         },
         {
          "contraceptive_method_used": 3,
          "standard_of_living_index": 4,
          "wife_age": 35,
          "wife_education": 3,
          "wife_religion": 1
         },
         {
          "contraceptive_method_used": 1,
          "standard_of_living_index": 2,
          "wife_age": 43,
          "wife_education": 1,
          "wife_religion": 1
         },
         {
          "contraceptive_method_used": 3,
          "standard_of_living_index": 4,
          "wife_age": 25,
          "wife_education": 2,
          "wife_religion": 1
         },
         {
          "contraceptive_method_used": 2,
          "standard_of_living_index": 2,
          "wife_age": 29,
          "wife_education": 4,
          "wife_religion": 1
         },
         {
          "contraceptive_method_used": 3,
          "standard_of_living_index": 2,
          "wife_age": 37,
          "wife_education": 3,
          "wife_religion": 1
         },
         {
          "contraceptive_method_used": 3,
          "standard_of_living_index": 1,
          "wife_age": 25,
          "wife_education": 2,
          "wife_religion": 1
         },
         {
          "contraceptive_method_used": 1,
          "standard_of_living_index": 4,
          "wife_age": 29,
          "wife_education": 2,
          "wife_religion": 1
         },
         {
          "contraceptive_method_used": 3,
          "standard_of_living_index": 3,
          "wife_age": 25,
          "wife_education": 2,
          "wife_religion": 1
         },
         {
          "contraceptive_method_used": 3,
          "standard_of_living_index": 3,
          "wife_age": 30,
          "wife_education": 3,
          "wife_religion": 0
         },
         {
          "contraceptive_method_used": 1,
          "standard_of_living_index": 3,
          "wife_age": 31,
          "wife_education": 3,
          "wife_religion": 1
         },
         {
          "contraceptive_method_used": 3,
          "standard_of_living_index": 3,
          "wife_age": 28,
          "wife_education": 3,
          "wife_religion": 1
         },
         {
          "contraceptive_method_used": 2,
          "standard_of_living_index": 4,
          "wife_age": 44,
          "wife_education": 4,
          "wife_religion": 1
         },
         {
          "contraceptive_method_used": 1,
          "standard_of_living_index": 4,
          "wife_age": 36,
          "wife_education": 4,
          "wife_religion": 1
         },
         {
          "contraceptive_method_used": 1,
          "standard_of_living_index": 2,
          "wife_age": 49,
          "wife_education": 4,
          "wife_religion": 1
         },
         {
          "contraceptive_method_used": 1,
          "standard_of_living_index": 4,
          "wife_age": 31,
          "wife_education": 4,
          "wife_religion": 0
         },
         {
          "contraceptive_method_used": 1,
          "standard_of_living_index": 3,
          "wife_age": 24,
          "wife_education": 2,
          "wife_religion": 1
         },
         {
          "contraceptive_method_used": 1,
          "standard_of_living_index": 1,
          "wife_age": 30,
          "wife_education": 2,
          "wife_religion": 1
         },
         {
          "contraceptive_method_used": 2,
          "standard_of_living_index": 4,
          "wife_age": 42,
          "wife_education": 3,
          "wife_religion": 1
         },
         {
          "contraceptive_method_used": 2,
          "standard_of_living_index": 4,
          "wife_age": 30,
          "wife_education": 4,
          "wife_religion": 0
         },
         {
          "contraceptive_method_used": 1,
          "standard_of_living_index": 2,
          "wife_age": 35,
          "wife_education": 3,
          "wife_religion": 1
         },
         {
          "contraceptive_method_used": 3,
          "standard_of_living_index": 4,
          "wife_age": 27,
          "wife_education": 2,
          "wife_religion": 1
         },
         {
          "contraceptive_method_used": 1,
          "standard_of_living_index": 3,
          "wife_age": 38,
          "wife_education": 2,
          "wife_religion": 1
         },
         {
          "contraceptive_method_used": 1,
          "standard_of_living_index": 4,
          "wife_age": 23,
          "wife_education": 2,
          "wife_religion": 1
         },
         {
          "contraceptive_method_used": 1,
          "standard_of_living_index": 4,
          "wife_age": 33,
          "wife_education": 2,
          "wife_religion": 1
         },
         {
          "contraceptive_method_used": 2,
          "standard_of_living_index": 3,
          "wife_age": 44,
          "wife_education": 2,
          "wife_religion": 1
         },
         {
          "contraceptive_method_used": 3,
          "standard_of_living_index": 3,
          "wife_age": 24,
          "wife_education": 4,
          "wife_religion": 1
         },
         {
          "contraceptive_method_used": 2,
          "standard_of_living_index": 3,
          "wife_age": 45,
          "wife_education": 3,
          "wife_religion": 0
         },
         {
          "contraceptive_method_used": 3,
          "standard_of_living_index": 4,
          "wife_age": 26,
          "wife_education": 2,
          "wife_religion": 1
         },
         {
          "contraceptive_method_used": 2,
          "standard_of_living_index": 3,
          "wife_age": 33,
          "wife_education": 3,
          "wife_religion": 0
         },
         {
          "contraceptive_method_used": 1,
          "standard_of_living_index": 3,
          "wife_age": 21,
          "wife_education": 3,
          "wife_religion": 1
         },
         {
          "contraceptive_method_used": 3,
          "standard_of_living_index": 3,
          "wife_age": 29,
          "wife_education": 3,
          "wife_religion": 1
         },
         {
          "contraceptive_method_used": 1,
          "standard_of_living_index": 2,
          "wife_age": 31,
          "wife_education": 2,
          "wife_religion": 1
         },
         {
          "contraceptive_method_used": 2,
          "standard_of_living_index": 4,
          "wife_age": 42,
          "wife_education": 4,
          "wife_religion": 1
         },
         {
          "contraceptive_method_used": 3,
          "standard_of_living_index": 2,
          "wife_age": 39,
          "wife_education": 4,
          "wife_religion": 1
         },
         {
          "contraceptive_method_used": 2,
          "standard_of_living_index": 4,
          "wife_age": 33,
          "wife_education": 4,
          "wife_religion": 1
         },
         {
          "contraceptive_method_used": 1,
          "standard_of_living_index": 4,
          "wife_age": 37,
          "wife_education": 4,
          "wife_religion": 1
         },
         {
          "contraceptive_method_used": 1,
          "standard_of_living_index": 4,
          "wife_age": 45,
          "wife_education": 2,
          "wife_religion": 1
         },
         {
          "contraceptive_method_used": 1,
          "standard_of_living_index": 4,
          "wife_age": 46,
          "wife_education": 4,
          "wife_religion": 1
         },
         {
          "contraceptive_method_used": 3,
          "standard_of_living_index": 2,
          "wife_age": 27,
          "wife_education": 3,
          "wife_religion": 1
         },
         {
          "contraceptive_method_used": 2,
          "standard_of_living_index": 3,
          "wife_age": 23,
          "wife_education": 4,
          "wife_religion": 1
         },
         {
          "contraceptive_method_used": 1,
          "standard_of_living_index": 2,
          "wife_age": 31,
          "wife_education": 3,
          "wife_religion": 1
         },
         {
          "contraceptive_method_used": 3,
          "standard_of_living_index": 3,
          "wife_age": 34,
          "wife_education": 2,
          "wife_religion": 1
         },
         {
          "contraceptive_method_used": 2,
          "standard_of_living_index": 4,
          "wife_age": 46,
          "wife_education": 4,
          "wife_religion": 1
         },
         {
          "contraceptive_method_used": 3,
          "standard_of_living_index": 4,
          "wife_age": 29,
          "wife_education": 2,
          "wife_religion": 1
         },
         {
          "contraceptive_method_used": 3,
          "standard_of_living_index": 4,
          "wife_age": 36,
          "wife_education": 2,
          "wife_religion": 1
         },
         {
          "contraceptive_method_used": 1,
          "standard_of_living_index": 3,
          "wife_age": 19,
          "wife_education": 4,
          "wife_religion": 1
         },
         {
          "contraceptive_method_used": 2,
          "standard_of_living_index": 4,
          "wife_age": 42,
          "wife_education": 2,
          "wife_religion": 1
         },
         {
          "contraceptive_method_used": 1,
          "standard_of_living_index": 4,
          "wife_age": 25,
          "wife_education": 4,
          "wife_religion": 1
         },
         {
          "contraceptive_method_used": 1,
          "standard_of_living_index": 4,
          "wife_age": 24,
          "wife_education": 4,
          "wife_religion": 0
         },
         {
          "contraceptive_method_used": 3,
          "standard_of_living_index": 4,
          "wife_age": 46,
          "wife_education": 1,
          "wife_religion": 1
         },
         {
          "contraceptive_method_used": 3,
          "standard_of_living_index": 3,
          "wife_age": 37,
          "wife_education": 2,
          "wife_religion": 1
         },
         {
          "contraceptive_method_used": 1,
          "standard_of_living_index": 1,
          "wife_age": 25,
          "wife_education": 3,
          "wife_religion": 1
         },
         {
          "contraceptive_method_used": 1,
          "standard_of_living_index": 4,
          "wife_age": 35,
          "wife_education": 4,
          "wife_religion": 0
         },
         {
          "contraceptive_method_used": 1,
          "standard_of_living_index": 3,
          "wife_age": 24,
          "wife_education": 4,
          "wife_religion": 1
         },
         {
          "contraceptive_method_used": 3,
          "standard_of_living_index": 4,
          "wife_age": 38,
          "wife_education": 4,
          "wife_religion": 1
         },
         {
          "contraceptive_method_used": 1,
          "standard_of_living_index": 2,
          "wife_age": 24,
          "wife_education": 4,
          "wife_religion": 1
         },
         {
          "contraceptive_method_used": 1,
          "standard_of_living_index": 1,
          "wife_age": 30,
          "wife_education": 4,
          "wife_religion": 0
         },
         {
          "contraceptive_method_used": 2,
          "standard_of_living_index": 4,
          "wife_age": 48,
          "wife_education": 4,
          "wife_religion": 0
         },
         {
          "contraceptive_method_used": 3,
          "standard_of_living_index": 3,
          "wife_age": 23,
          "wife_education": 4,
          "wife_religion": 1
         },
         {
          "contraceptive_method_used": 1,
          "standard_of_living_index": 2,
          "wife_age": 25,
          "wife_education": 3,
          "wife_religion": 1
         },
         {
          "contraceptive_method_used": 1,
          "standard_of_living_index": 1,
          "wife_age": 33,
          "wife_education": 2,
          "wife_religion": 1
         },
         {
          "contraceptive_method_used": 2,
          "standard_of_living_index": 4,
          "wife_age": 37,
          "wife_education": 4,
          "wife_religion": 1
         },
         {
          "contraceptive_method_used": 1,
          "standard_of_living_index": 4,
          "wife_age": 32,
          "wife_education": 4,
          "wife_religion": 1
         },
         {
          "contraceptive_method_used": 3,
          "standard_of_living_index": 2,
          "wife_age": 30,
          "wife_education": 3,
          "wife_religion": 1
         },
         {
          "contraceptive_method_used": 3,
          "standard_of_living_index": 4,
          "wife_age": 36,
          "wife_education": 2,
          "wife_religion": 1
         },
         {
          "contraceptive_method_used": 3,
          "standard_of_living_index": 2,
          "wife_age": 21,
          "wife_education": 2,
          "wife_religion": 1
         },
         {
          "contraceptive_method_used": 3,
          "standard_of_living_index": 4,
          "wife_age": 30,
          "wife_education": 1,
          "wife_religion": 1
         },
         {
          "contraceptive_method_used": 3,
          "standard_of_living_index": 4,
          "wife_age": 28,
          "wife_education": 2,
          "wife_religion": 1
         },
         {
          "contraceptive_method_used": 2,
          "standard_of_living_index": 4,
          "wife_age": 36,
          "wife_education": 4,
          "wife_religion": 0
         },
         {
          "contraceptive_method_used": 3,
          "standard_of_living_index": 2,
          "wife_age": 37,
          "wife_education": 2,
          "wife_religion": 1
         },
         {
          "contraceptive_method_used": 2,
          "standard_of_living_index": 2,
          "wife_age": 32,
          "wife_education": 2,
          "wife_religion": 1
         },
         {
          "contraceptive_method_used": 2,
          "standard_of_living_index": 4,
          "wife_age": 32,
          "wife_education": 4,
          "wife_religion": 1
         },
         {
          "contraceptive_method_used": 3,
          "standard_of_living_index": 2,
          "wife_age": 21,
          "wife_education": 2,
          "wife_religion": 1
         },
         {
          "contraceptive_method_used": 3,
          "standard_of_living_index": 4,
          "wife_age": 27,
          "wife_education": 2,
          "wife_religion": 1
         },
         {
          "contraceptive_method_used": 2,
          "standard_of_living_index": 2,
          "wife_age": 44,
          "wife_education": 3,
          "wife_religion": 1
         },
         {
          "contraceptive_method_used": 1,
          "standard_of_living_index": 4,
          "wife_age": 29,
          "wife_education": 4,
          "wife_religion": 1
         },
         {
          "contraceptive_method_used": 1,
          "standard_of_living_index": 4,
          "wife_age": 36,
          "wife_education": 2,
          "wife_religion": 1
         },
         {
          "contraceptive_method_used": 1,
          "standard_of_living_index": 3,
          "wife_age": 20,
          "wife_education": 3,
          "wife_religion": 1
         },
         {
          "contraceptive_method_used": 1,
          "standard_of_living_index": 2,
          "wife_age": 36,
          "wife_education": 4,
          "wife_religion": 1
         },
         {
          "contraceptive_method_used": 1,
          "standard_of_living_index": 4,
          "wife_age": 46,
          "wife_education": 4,
          "wife_religion": 0
         },
         {
          "contraceptive_method_used": 3,
          "standard_of_living_index": 2,
          "wife_age": 34,
          "wife_education": 2,
          "wife_religion": 0
         },
         {
          "contraceptive_method_used": 1,
          "standard_of_living_index": 3,
          "wife_age": 35,
          "wife_education": 4,
          "wife_religion": 1
         },
         {
          "contraceptive_method_used": 3,
          "standard_of_living_index": 2,
          "wife_age": 18,
          "wife_education": 3,
          "wife_religion": 1
         },
         {
          "contraceptive_method_used": 1,
          "standard_of_living_index": 4,
          "wife_age": 19,
          "wife_education": 4,
          "wife_religion": 0
         },
         {
          "contraceptive_method_used": 1,
          "standard_of_living_index": 3,
          "wife_age": 27,
          "wife_education": 3,
          "wife_religion": 1
         },
         {
          "contraceptive_method_used": 3,
          "standard_of_living_index": 3,
          "wife_age": 25,
          "wife_education": 3,
          "wife_religion": 1
         },
         {
          "contraceptive_method_used": 3,
          "standard_of_living_index": 2,
          "wife_age": 21,
          "wife_education": 3,
          "wife_religion": 1
         },
         {
          "contraceptive_method_used": 2,
          "standard_of_living_index": 4,
          "wife_age": 44,
          "wife_education": 4,
          "wife_religion": 1
         },
         {
          "contraceptive_method_used": 1,
          "standard_of_living_index": 3,
          "wife_age": 42,
          "wife_education": 3,
          "wife_religion": 1
         },
         {
          "contraceptive_method_used": 3,
          "standard_of_living_index": 4,
          "wife_age": 42,
          "wife_education": 4,
          "wife_religion": 1
         },
         {
          "contraceptive_method_used": 1,
          "standard_of_living_index": 3,
          "wife_age": 36,
          "wife_education": 2,
          "wife_religion": 1
         },
         {
          "contraceptive_method_used": 3,
          "standard_of_living_index": 3,
          "wife_age": 32,
          "wife_education": 3,
          "wife_religion": 1
         },
         {
          "contraceptive_method_used": 1,
          "standard_of_living_index": 3,
          "wife_age": 26,
          "wife_education": 4,
          "wife_religion": 1
         },
         {
          "contraceptive_method_used": 1,
          "standard_of_living_index": 3,
          "wife_age": 28,
          "wife_education": 1,
          "wife_religion": 1
         },
         {
          "contraceptive_method_used": 3,
          "standard_of_living_index": 4,
          "wife_age": 22,
          "wife_education": 1,
          "wife_religion": 1
         },
         {
          "contraceptive_method_used": 3,
          "standard_of_living_index": 4,
          "wife_age": 40,
          "wife_education": 4,
          "wife_religion": 0
         },
         {
          "contraceptive_method_used": 2,
          "standard_of_living_index": 3,
          "wife_age": 27,
          "wife_education": 4,
          "wife_religion": 1
         },
         {
          "contraceptive_method_used": 2,
          "standard_of_living_index": 3,
          "wife_age": 29,
          "wife_education": 3,
          "wife_religion": 1
         },
         {
          "contraceptive_method_used": 2,
          "standard_of_living_index": 2,
          "wife_age": 43,
          "wife_education": 3,
          "wife_religion": 1
         },
         {
          "contraceptive_method_used": 3,
          "standard_of_living_index": 3,
          "wife_age": 35,
          "wife_education": 2,
          "wife_religion": 1
         },
         {
          "contraceptive_method_used": 1,
          "standard_of_living_index": 2,
          "wife_age": 31,
          "wife_education": 2,
          "wife_religion": 1
         },
         {
          "contraceptive_method_used": 1,
          "standard_of_living_index": 3,
          "wife_age": 23,
          "wife_education": 4,
          "wife_religion": 1
         },
         {
          "contraceptive_method_used": 1,
          "standard_of_living_index": 4,
          "wife_age": 26,
          "wife_education": 2,
          "wife_religion": 1
         },
         {
          "contraceptive_method_used": 3,
          "standard_of_living_index": 2,
          "wife_age": 22,
          "wife_education": 2,
          "wife_religion": 1
         },
         {
          "contraceptive_method_used": 2,
          "standard_of_living_index": 4,
          "wife_age": 40,
          "wife_education": 3,
          "wife_religion": 0
         },
         {
          "contraceptive_method_used": 1,
          "standard_of_living_index": 4,
          "wife_age": 41,
          "wife_education": 4,
          "wife_religion": 1
         },
         {
          "contraceptive_method_used": 1,
          "standard_of_living_index": 1,
          "wife_age": 49,
          "wife_education": 2,
          "wife_religion": 1
         },
         {
          "contraceptive_method_used": 1,
          "standard_of_living_index": 4,
          "wife_age": 31,
          "wife_education": 3,
          "wife_religion": 0
         },
         {
          "contraceptive_method_used": 2,
          "standard_of_living_index": 3,
          "wife_age": 32,
          "wife_education": 4,
          "wife_religion": 0
         },
         {
          "contraceptive_method_used": 2,
          "standard_of_living_index": 4,
          "wife_age": 36,
          "wife_education": 3,
          "wife_religion": 0
         },
         {
          "contraceptive_method_used": 2,
          "standard_of_living_index": 4,
          "wife_age": 27,
          "wife_education": 4,
          "wife_religion": 1
         },
         {
          "contraceptive_method_used": 1,
          "standard_of_living_index": 4,
          "wife_age": 24,
          "wife_education": 2,
          "wife_religion": 1
         },
         {
          "contraceptive_method_used": 1,
          "standard_of_living_index": 1,
          "wife_age": 24,
          "wife_education": 2,
          "wife_religion": 1
         },
         {
          "contraceptive_method_used": 1,
          "standard_of_living_index": 1,
          "wife_age": 22,
          "wife_education": 2,
          "wife_religion": 1
         },
         {
          "contraceptive_method_used": 1,
          "standard_of_living_index": 3,
          "wife_age": 23,
          "wife_education": 3,
          "wife_religion": 1
         },
         {
          "contraceptive_method_used": 3,
          "standard_of_living_index": 2,
          "wife_age": 26,
          "wife_education": 4,
          "wife_religion": 1
         },
         {
          "contraceptive_method_used": 2,
          "standard_of_living_index": 4,
          "wife_age": 34,
          "wife_education": 4,
          "wife_religion": 1
         },
         {
          "contraceptive_method_used": 2,
          "standard_of_living_index": 4,
          "wife_age": 39,
          "wife_education": 4,
          "wife_religion": 1
         },
         {
          "contraceptive_method_used": 1,
          "standard_of_living_index": 2,
          "wife_age": 36,
          "wife_education": 2,
          "wife_religion": 1
         },
         {
          "contraceptive_method_used": 1,
          "standard_of_living_index": 1,
          "wife_age": 22,
          "wife_education": 2,
          "wife_religion": 1
         },
         {
          "contraceptive_method_used": 3,
          "standard_of_living_index": 3,
          "wife_age": 28,
          "wife_education": 2,
          "wife_religion": 1
         },
         {
          "contraceptive_method_used": 2,
          "standard_of_living_index": 4,
          "wife_age": 45,
          "wife_education": 3,
          "wife_religion": 1
         },
         {
          "contraceptive_method_used": 2,
          "standard_of_living_index": 3,
          "wife_age": 33,
          "wife_education": 4,
          "wife_religion": 0
         },
         {
          "contraceptive_method_used": 2,
          "standard_of_living_index": 4,
          "wife_age": 21,
          "wife_education": 4,
          "wife_religion": 1
         },
         {
          "contraceptive_method_used": 1,
          "standard_of_living_index": 3,
          "wife_age": 47,
          "wife_education": 2,
          "wife_religion": 1
         },
         {
          "contraceptive_method_used": 3,
          "standard_of_living_index": 2,
          "wife_age": 21,
          "wife_education": 3,
          "wife_religion": 0
         },
         {
          "contraceptive_method_used": 1,
          "standard_of_living_index": 2,
          "wife_age": 21,
          "wife_education": 3,
          "wife_religion": 1
         },
         {
          "contraceptive_method_used": 3,
          "standard_of_living_index": 2,
          "wife_age": 36,
          "wife_education": 4,
          "wife_religion": 0
         },
         {
          "contraceptive_method_used": 1,
          "standard_of_living_index": 4,
          "wife_age": 29,
          "wife_education": 3,
          "wife_religion": 1
         },
         {
          "contraceptive_method_used": 1,
          "standard_of_living_index": 1,
          "wife_age": 38,
          "wife_education": 1,
          "wife_religion": 1
         },
         {
          "contraceptive_method_used": 3,
          "standard_of_living_index": 3,
          "wife_age": 22,
          "wife_education": 3,
          "wife_religion": 1
         },
         {
          "contraceptive_method_used": 1,
          "standard_of_living_index": 4,
          "wife_age": 28,
          "wife_education": 4,
          "wife_religion": 0
         },
         {
          "contraceptive_method_used": 3,
          "standard_of_living_index": 3,
          "wife_age": 24,
          "wife_education": 2,
          "wife_religion": 1
         },
         {
          "contraceptive_method_used": 2,
          "standard_of_living_index": 2,
          "wife_age": 22,
          "wife_education": 4,
          "wife_religion": 1
         },
         {
          "contraceptive_method_used": 1,
          "standard_of_living_index": 4,
          "wife_age": 22,
          "wife_education": 4,
          "wife_religion": 1
         },
         {
          "contraceptive_method_used": 2,
          "standard_of_living_index": 4,
          "wife_age": 41,
          "wife_education": 4,
          "wife_religion": 0
         },
         {
          "contraceptive_method_used": 1,
          "standard_of_living_index": 4,
          "wife_age": 29,
          "wife_education": 2,
          "wife_religion": 1
         },
         {
          "contraceptive_method_used": 1,
          "standard_of_living_index": 1,
          "wife_age": 46,
          "wife_education": 1,
          "wife_religion": 1
         },
         {
          "contraceptive_method_used": 1,
          "standard_of_living_index": 3,
          "wife_age": 23,
          "wife_education": 3,
          "wife_religion": 1
         },
         {
          "contraceptive_method_used": 2,
          "standard_of_living_index": 4,
          "wife_age": 34,
          "wife_education": 4,
          "wife_religion": 1
         },
         {
          "contraceptive_method_used": 3,
          "standard_of_living_index": 4,
          "wife_age": 35,
          "wife_education": 4,
          "wife_religion": 1
         },
         {
          "contraceptive_method_used": 3,
          "standard_of_living_index": 3,
          "wife_age": 47,
          "wife_education": 4,
          "wife_religion": 1
         },
         {
          "contraceptive_method_used": 2,
          "standard_of_living_index": 4,
          "wife_age": 33,
          "wife_education": 2,
          "wife_religion": 1
         },
         {
          "contraceptive_method_used": 1,
          "standard_of_living_index": 4,
          "wife_age": 22,
          "wife_education": 3,
          "wife_religion": 1
         },
         {
          "contraceptive_method_used": 1,
          "standard_of_living_index": 4,
          "wife_age": 43,
          "wife_education": 4,
          "wife_religion": 0
         },
         {
          "contraceptive_method_used": 2,
          "standard_of_living_index": 4,
          "wife_age": 26,
          "wife_education": 1,
          "wife_religion": 1
         },
         {
          "contraceptive_method_used": 1,
          "standard_of_living_index": 4,
          "wife_age": 30,
          "wife_education": 2,
          "wife_religion": 1
         },
         {
          "contraceptive_method_used": 3,
          "standard_of_living_index": 1,
          "wife_age": 16,
          "wife_education": 2,
          "wife_religion": 1
         },
         {
          "contraceptive_method_used": 3,
          "standard_of_living_index": 4,
          "wife_age": 28,
          "wife_education": 4,
          "wife_religion": 0
         },
         {
          "contraceptive_method_used": 2,
          "standard_of_living_index": 4,
          "wife_age": 27,
          "wife_education": 3,
          "wife_religion": 0
         },
         {
          "contraceptive_method_used": 3,
          "standard_of_living_index": 3,
          "wife_age": 21,
          "wife_education": 3,
          "wife_religion": 1
         },
         {
          "contraceptive_method_used": 3,
          "standard_of_living_index": 3,
          "wife_age": 21,
          "wife_education": 3,
          "wife_religion": 1
         },
         {
          "contraceptive_method_used": 1,
          "standard_of_living_index": 4,
          "wife_age": 30,
          "wife_education": 3,
          "wife_religion": 1
         },
         {
          "contraceptive_method_used": 1,
          "standard_of_living_index": 3,
          "wife_age": 22,
          "wife_education": 4,
          "wife_religion": 1
         },
         {
          "contraceptive_method_used": 1,
          "standard_of_living_index": 2,
          "wife_age": 34,
          "wife_education": 2,
          "wife_religion": 1
         },
         {
          "contraceptive_method_used": 3,
          "standard_of_living_index": 1,
          "wife_age": 25,
          "wife_education": 1,
          "wife_religion": 1
         },
         {
          "contraceptive_method_used": 1,
          "standard_of_living_index": 2,
          "wife_age": 27,
          "wife_education": 2,
          "wife_religion": 1
         },
         {
          "contraceptive_method_used": 1,
          "standard_of_living_index": 4,
          "wife_age": 31,
          "wife_education": 3,
          "wife_religion": 1
         },
         {
          "contraceptive_method_used": 2,
          "standard_of_living_index": 4,
          "wife_age": 25,
          "wife_education": 4,
          "wife_religion": 1
         },
         {
          "contraceptive_method_used": 3,
          "standard_of_living_index": 4,
          "wife_age": 30,
          "wife_education": 4,
          "wife_religion": 1
         },
         {
          "contraceptive_method_used": 2,
          "standard_of_living_index": 4,
          "wife_age": 36,
          "wife_education": 4,
          "wife_religion": 1
         },
         {
          "contraceptive_method_used": 3,
          "standard_of_living_index": 2,
          "wife_age": 23,
          "wife_education": 1,
          "wife_religion": 1
         },
         {
          "contraceptive_method_used": 2,
          "standard_of_living_index": 3,
          "wife_age": 26,
          "wife_education": 4,
          "wife_religion": 1
         },
         {
          "contraceptive_method_used": 3,
          "standard_of_living_index": 4,
          "wife_age": 20,
          "wife_education": 4,
          "wife_religion": 1
         },
         {
          "contraceptive_method_used": 3,
          "standard_of_living_index": 4,
          "wife_age": 27,
          "wife_education": 4,
          "wife_religion": 0
         },
         {
          "contraceptive_method_used": 2,
          "standard_of_living_index": 4,
          "wife_age": 37,
          "wife_education": 4,
          "wife_religion": 0
         },
         {
          "contraceptive_method_used": 1,
          "standard_of_living_index": 4,
          "wife_age": 38,
          "wife_education": 4,
          "wife_religion": 1
         },
         {
          "contraceptive_method_used": 3,
          "standard_of_living_index": 2,
          "wife_age": 26,
          "wife_education": 3,
          "wife_religion": 1
         },
         {
          "contraceptive_method_used": 1,
          "standard_of_living_index": 4,
          "wife_age": 37,
          "wife_education": 3,
          "wife_religion": 1
         },
         {
          "contraceptive_method_used": 1,
          "standard_of_living_index": 3,
          "wife_age": 45,
          "wife_education": 4,
          "wife_religion": 1
         },
         {
          "contraceptive_method_used": 2,
          "standard_of_living_index": 3,
          "wife_age": 24,
          "wife_education": 2,
          "wife_religion": 1
         },
         {
          "contraceptive_method_used": 3,
          "standard_of_living_index": 4,
          "wife_age": 46,
          "wife_education": 3,
          "wife_religion": 1
         },
         {
          "contraceptive_method_used": 2,
          "standard_of_living_index": 4,
          "wife_age": 31,
          "wife_education": 4,
          "wife_religion": 1
         },
         {
          "contraceptive_method_used": 1,
          "standard_of_living_index": 3,
          "wife_age": 47,
          "wife_education": 3,
          "wife_religion": 1
         },
         {
          "contraceptive_method_used": 3,
          "standard_of_living_index": 3,
          "wife_age": 29,
          "wife_education": 2,
          "wife_religion": 1
         },
         {
          "contraceptive_method_used": 1,
          "standard_of_living_index": 2,
          "wife_age": 47,
          "wife_education": 2,
          "wife_religion": 1
         },
         {
          "contraceptive_method_used": 1,
          "standard_of_living_index": 4,
          "wife_age": 31,
          "wife_education": 3,
          "wife_religion": 1
         },
         {
          "contraceptive_method_used": 3,
          "standard_of_living_index": 2,
          "wife_age": 23,
          "wife_education": 3,
          "wife_religion": 1
         },
         {
          "contraceptive_method_used": 3,
          "standard_of_living_index": 1,
          "wife_age": 25,
          "wife_education": 2,
          "wife_religion": 1
         },
         {
          "contraceptive_method_used": 3,
          "standard_of_living_index": 4,
          "wife_age": 34,
          "wife_education": 4,
          "wife_religion": 0
         },
         {
          "contraceptive_method_used": 3,
          "standard_of_living_index": 2,
          "wife_age": 17,
          "wife_education": 2,
          "wife_religion": 1
         },
         {
          "contraceptive_method_used": 3,
          "standard_of_living_index": 3,
          "wife_age": 21,
          "wife_education": 4,
          "wife_religion": 1
         },
         {
          "contraceptive_method_used": 1,
          "standard_of_living_index": 3,
          "wife_age": 20,
          "wife_education": 3,
          "wife_religion": 1
         },
         {
          "contraceptive_method_used": 1,
          "standard_of_living_index": 4,
          "wife_age": 28,
          "wife_education": 4,
          "wife_religion": 0
         },
         {
          "contraceptive_method_used": 2,
          "standard_of_living_index": 3,
          "wife_age": 30,
          "wife_education": 4,
          "wife_religion": 1
         },
         {
          "contraceptive_method_used": 2,
          "standard_of_living_index": 2,
          "wife_age": 38,
          "wife_education": 2,
          "wife_religion": 1
         },
         {
          "contraceptive_method_used": 3,
          "standard_of_living_index": 4,
          "wife_age": 41,
          "wife_education": 3,
          "wife_religion": 0
         },
         {
          "contraceptive_method_used": 1,
          "standard_of_living_index": 4,
          "wife_age": 42,
          "wife_education": 4,
          "wife_religion": 1
         },
         {
          "contraceptive_method_used": 3,
          "standard_of_living_index": 3,
          "wife_age": 23,
          "wife_education": 4,
          "wife_religion": 1
         },
         {
          "contraceptive_method_used": 2,
          "standard_of_living_index": 3,
          "wife_age": 19,
          "wife_education": 4,
          "wife_religion": 1
         },
         {
          "contraceptive_method_used": 3,
          "standard_of_living_index": 4,
          "wife_age": 32,
          "wife_education": 4,
          "wife_religion": 1
         },
         {
          "contraceptive_method_used": 3,
          "standard_of_living_index": 3,
          "wife_age": 32,
          "wife_education": 1,
          "wife_religion": 1
         },
         {
          "contraceptive_method_used": 2,
          "standard_of_living_index": 2,
          "wife_age": 34,
          "wife_education": 2,
          "wife_religion": 1
         },
         {
          "contraceptive_method_used": 1,
          "standard_of_living_index": 3,
          "wife_age": 43,
          "wife_education": 2,
          "wife_religion": 1
         },
         {
          "contraceptive_method_used": 1,
          "standard_of_living_index": 4,
          "wife_age": 21,
          "wife_education": 1,
          "wife_religion": 1
         },
         {
          "contraceptive_method_used": 3,
          "standard_of_living_index": 3,
          "wife_age": 25,
          "wife_education": 2,
          "wife_religion": 1
         },
         {
          "contraceptive_method_used": 3,
          "standard_of_living_index": 2,
          "wife_age": 32,
          "wife_education": 2,
          "wife_religion": 1
         },
         {
          "contraceptive_method_used": 3,
          "standard_of_living_index": 4,
          "wife_age": 34,
          "wife_education": 4,
          "wife_religion": 1
         },
         {
          "contraceptive_method_used": 1,
          "standard_of_living_index": 4,
          "wife_age": 38,
          "wife_education": 4,
          "wife_religion": 1
         },
         {
          "contraceptive_method_used": 3,
          "standard_of_living_index": 4,
          "wife_age": 28,
          "wife_education": 4,
          "wife_religion": 0
         },
         {
          "contraceptive_method_used": 1,
          "standard_of_living_index": 4,
          "wife_age": 42,
          "wife_education": 1,
          "wife_religion": 1
         },
         {
          "contraceptive_method_used": 3,
          "standard_of_living_index": 1,
          "wife_age": 25,
          "wife_education": 3,
          "wife_religion": 1
         },
         {
          "contraceptive_method_used": 2,
          "standard_of_living_index": 4,
          "wife_age": 29,
          "wife_education": 4,
          "wife_religion": 1
         },
         {
          "contraceptive_method_used": 3,
          "standard_of_living_index": 4,
          "wife_age": 29,
          "wife_education": 4,
          "wife_religion": 1
         },
         {
          "contraceptive_method_used": 3,
          "standard_of_living_index": 3,
          "wife_age": 30,
          "wife_education": 2,
          "wife_religion": 1
         },
         {
          "contraceptive_method_used": 2,
          "standard_of_living_index": 4,
          "wife_age": 49,
          "wife_education": 3,
          "wife_religion": 1
         },
         {
          "contraceptive_method_used": 2,
          "standard_of_living_index": 4,
          "wife_age": 35,
          "wife_education": 4,
          "wife_religion": 0
         },
         {
          "contraceptive_method_used": 3,
          "standard_of_living_index": 4,
          "wife_age": 30,
          "wife_education": 1,
          "wife_religion": 1
         },
         {
          "contraceptive_method_used": 1,
          "standard_of_living_index": 1,
          "wife_age": 45,
          "wife_education": 2,
          "wife_religion": 1
         },
         {
          "contraceptive_method_used": 3,
          "standard_of_living_index": 3,
          "wife_age": 25,
          "wife_education": 2,
          "wife_religion": 1
         },
         {
          "contraceptive_method_used": 2,
          "standard_of_living_index": 3,
          "wife_age": 34,
          "wife_education": 4,
          "wife_religion": 1
         },
         {
          "contraceptive_method_used": 3,
          "standard_of_living_index": 4,
          "wife_age": 28,
          "wife_education": 2,
          "wife_religion": 1
         },
         {
          "contraceptive_method_used": 2,
          "standard_of_living_index": 4,
          "wife_age": 45,
          "wife_education": 3,
          "wife_religion": 0
         },
         {
          "contraceptive_method_used": 1,
          "standard_of_living_index": 3,
          "wife_age": 40,
          "wife_education": 2,
          "wife_religion": 1
         },
         {
          "contraceptive_method_used": 1,
          "standard_of_living_index": 3,
          "wife_age": 26,
          "wife_education": 4,
          "wife_religion": 1
         },
         {
          "contraceptive_method_used": 3,
          "standard_of_living_index": 4,
          "wife_age": 29,
          "wife_education": 1,
          "wife_religion": 1
         },
         {
          "contraceptive_method_used": 1,
          "standard_of_living_index": 4,
          "wife_age": 44,
          "wife_education": 4,
          "wife_religion": 0
         },
         {
          "contraceptive_method_used": 2,
          "standard_of_living_index": 4,
          "wife_age": 42,
          "wife_education": 4,
          "wife_religion": 1
         },
         {
          "contraceptive_method_used": 1,
          "standard_of_living_index": 1,
          "wife_age": 36,
          "wife_education": 2,
          "wife_religion": 1
         },
         {
          "contraceptive_method_used": 3,
          "standard_of_living_index": 4,
          "wife_age": 35,
          "wife_education": 4,
          "wife_religion": 0
         },
         {
          "contraceptive_method_used": 2,
          "standard_of_living_index": 2,
          "wife_age": 29,
          "wife_education": 4,
          "wife_religion": 1
         },
         {
          "contraceptive_method_used": 3,
          "standard_of_living_index": 4,
          "wife_age": 39,
          "wife_education": 3,
          "wife_religion": 1
         },
         {
          "contraceptive_method_used": 3,
          "standard_of_living_index": 1,
          "wife_age": 22,
          "wife_education": 4,
          "wife_religion": 0
         },
         {
          "contraceptive_method_used": 3,
          "standard_of_living_index": 4,
          "wife_age": 39,
          "wife_education": 1,
          "wife_religion": 1
         },
         {
          "contraceptive_method_used": 2,
          "standard_of_living_index": 4,
          "wife_age": 47,
          "wife_education": 1,
          "wife_religion": 1
         },
         {
          "contraceptive_method_used": 3,
          "standard_of_living_index": 3,
          "wife_age": 36,
          "wife_education": 2,
          "wife_religion": 1
         },
         {
          "contraceptive_method_used": 2,
          "standard_of_living_index": 4,
          "wife_age": 25,
          "wife_education": 4,
          "wife_religion": 1
         },
         {
          "contraceptive_method_used": 3,
          "standard_of_living_index": 4,
          "wife_age": 31,
          "wife_education": 4,
          "wife_religion": 1
         },
         {
          "contraceptive_method_used": 1,
          "standard_of_living_index": 2,
          "wife_age": 38,
          "wife_education": 2,
          "wife_religion": 1
         },
         {
          "contraceptive_method_used": 3,
          "standard_of_living_index": 3,
          "wife_age": 21,
          "wife_education": 2,
          "wife_religion": 1
         },
         {
          "contraceptive_method_used": 3,
          "standard_of_living_index": 2,
          "wife_age": 27,
          "wife_education": 4,
          "wife_religion": 1
         },
         {
          "contraceptive_method_used": 1,
          "standard_of_living_index": 2,
          "wife_age": 26,
          "wife_education": 2,
          "wife_religion": 1
         },
         {
          "contraceptive_method_used": 1,
          "standard_of_living_index": 2,
          "wife_age": 38,
          "wife_education": 2,
          "wife_religion": 1
         },
         {
          "contraceptive_method_used": 1,
          "standard_of_living_index": 1,
          "wife_age": 33,
          "wife_education": 1,
          "wife_religion": 1
         },
         {
          "contraceptive_method_used": 2,
          "standard_of_living_index": 4,
          "wife_age": 32,
          "wife_education": 3,
          "wife_religion": 1
         },
         {
          "contraceptive_method_used": 1,
          "standard_of_living_index": 4,
          "wife_age": 45,
          "wife_education": 2,
          "wife_religion": 1
         },
         {
          "contraceptive_method_used": 2,
          "standard_of_living_index": 3,
          "wife_age": 26,
          "wife_education": 3,
          "wife_religion": 1
         },
         {
          "contraceptive_method_used": 1,
          "standard_of_living_index": 2,
          "wife_age": 21,
          "wife_education": 1,
          "wife_religion": 1
         },
         {
          "contraceptive_method_used": 2,
          "standard_of_living_index": 4,
          "wife_age": 38,
          "wife_education": 4,
          "wife_religion": 1
         },
         {
          "contraceptive_method_used": 1,
          "standard_of_living_index": 4,
          "wife_age": 37,
          "wife_education": 4,
          "wife_religion": 1
         },
         {
          "contraceptive_method_used": 2,
          "standard_of_living_index": 2,
          "wife_age": 38,
          "wife_education": 2,
          "wife_religion": 1
         },
         {
          "contraceptive_method_used": 3,
          "standard_of_living_index": 4,
          "wife_age": 41,
          "wife_education": 4,
          "wife_religion": 1
         },
         {
          "contraceptive_method_used": 2,
          "standard_of_living_index": 4,
          "wife_age": 25,
          "wife_education": 2,
          "wife_religion": 1
         },
         {
          "contraceptive_method_used": 1,
          "standard_of_living_index": 4,
          "wife_age": 33,
          "wife_education": 4,
          "wife_religion": 1
         },
         {
          "contraceptive_method_used": 1,
          "standard_of_living_index": 3,
          "wife_age": 41,
          "wife_education": 2,
          "wife_religion": 1
         },
         {
          "contraceptive_method_used": 1,
          "standard_of_living_index": 1,
          "wife_age": 37,
          "wife_education": 3,
          "wife_religion": 1
         },
         {
          "contraceptive_method_used": 3,
          "standard_of_living_index": 4,
          "wife_age": 34,
          "wife_education": 3,
          "wife_religion": 1
         },
         {
          "contraceptive_method_used": 1,
          "standard_of_living_index": 1,
          "wife_age": 25,
          "wife_education": 2,
          "wife_religion": 1
         },
         {
          "contraceptive_method_used": 1,
          "standard_of_living_index": 4,
          "wife_age": 44,
          "wife_education": 3,
          "wife_religion": 1
         },
         {
          "contraceptive_method_used": 3,
          "standard_of_living_index": 1,
          "wife_age": 31,
          "wife_education": 3,
          "wife_religion": 1
         },
         {
          "contraceptive_method_used": 1,
          "standard_of_living_index": 3,
          "wife_age": 43,
          "wife_education": 3,
          "wife_religion": 1
         },
         {
          "contraceptive_method_used": 3,
          "standard_of_living_index": 4,
          "wife_age": 37,
          "wife_education": 4,
          "wife_religion": 1
         },
         {
          "contraceptive_method_used": 2,
          "standard_of_living_index": 3,
          "wife_age": 38,
          "wife_education": 4,
          "wife_religion": 1
         },
         {
          "contraceptive_method_used": 3,
          "standard_of_living_index": 4,
          "wife_age": 33,
          "wife_education": 3,
          "wife_religion": 1
         },
         {
          "contraceptive_method_used": 1,
          "standard_of_living_index": 4,
          "wife_age": 44,
          "wife_education": 4,
          "wife_religion": 1
         },
         {
          "contraceptive_method_used": 1,
          "standard_of_living_index": 3,
          "wife_age": 30,
          "wife_education": 4,
          "wife_religion": 1
         },
         {
          "contraceptive_method_used": 3,
          "standard_of_living_index": 3,
          "wife_age": 44,
          "wife_education": 4,
          "wife_religion": 0
         },
         {
          "contraceptive_method_used": 3,
          "standard_of_living_index": 2,
          "wife_age": 30,
          "wife_education": 2,
          "wife_religion": 1
         },
         {
          "contraceptive_method_used": 1,
          "standard_of_living_index": 3,
          "wife_age": 44,
          "wife_education": 4,
          "wife_religion": 1
         },
         {
          "contraceptive_method_used": 3,
          "standard_of_living_index": 1,
          "wife_age": 21,
          "wife_education": 2,
          "wife_religion": 1
         },
         {
          "contraceptive_method_used": 3,
          "standard_of_living_index": 4,
          "wife_age": 43,
          "wife_education": 4,
          "wife_religion": 0
         },
         {
          "contraceptive_method_used": 3,
          "standard_of_living_index": 4,
          "wife_age": 32,
          "wife_education": 4,
          "wife_religion": 1
         },
         {
          "contraceptive_method_used": 2,
          "standard_of_living_index": 4,
          "wife_age": 18,
          "wife_education": 3,
          "wife_religion": 1
         },
         {
          "contraceptive_method_used": 2,
          "standard_of_living_index": 2,
          "wife_age": 34,
          "wife_education": 4,
          "wife_religion": 0
         },
         {
          "contraceptive_method_used": 1,
          "standard_of_living_index": 1,
          "wife_age": 39,
          "wife_education": 1,
          "wife_religion": 1
         },
         {
          "contraceptive_method_used": 1,
          "standard_of_living_index": 4,
          "wife_age": 27,
          "wife_education": 3,
          "wife_religion": 1
         },
         {
          "contraceptive_method_used": 1,
          "standard_of_living_index": 2,
          "wife_age": 21,
          "wife_education": 3,
          "wife_religion": 1
         },
         {
          "contraceptive_method_used": 3,
          "standard_of_living_index": 3,
          "wife_age": 23,
          "wife_education": 2,
          "wife_religion": 1
         },
         {
          "contraceptive_method_used": 1,
          "standard_of_living_index": 3,
          "wife_age": 44,
          "wife_education": 3,
          "wife_religion": 1
         },
         {
          "contraceptive_method_used": 1,
          "standard_of_living_index": 3,
          "wife_age": 43,
          "wife_education": 2,
          "wife_religion": 0
         },
         {
          "contraceptive_method_used": 1,
          "standard_of_living_index": 3,
          "wife_age": 27,
          "wife_education": 3,
          "wife_religion": 1
         },
         {
          "contraceptive_method_used": 1,
          "standard_of_living_index": 3,
          "wife_age": 45,
          "wife_education": 3,
          "wife_religion": 1
         },
         {
          "contraceptive_method_used": 3,
          "standard_of_living_index": 2,
          "wife_age": 27,
          "wife_education": 3,
          "wife_religion": 1
         },
         {
          "contraceptive_method_used": 2,
          "standard_of_living_index": 4,
          "wife_age": 41,
          "wife_education": 3,
          "wife_religion": 1
         },
         {
          "contraceptive_method_used": 1,
          "standard_of_living_index": 2,
          "wife_age": 27,
          "wife_education": 4,
          "wife_religion": 1
         },
         {
          "contraceptive_method_used": 3,
          "standard_of_living_index": 1,
          "wife_age": 21,
          "wife_education": 3,
          "wife_religion": 1
         },
         {
          "contraceptive_method_used": 2,
          "standard_of_living_index": 3,
          "wife_age": 27,
          "wife_education": 4,
          "wife_religion": 1
         },
         {
          "contraceptive_method_used": 3,
          "standard_of_living_index": 2,
          "wife_age": 35,
          "wife_education": 2,
          "wife_religion": 1
         },
         {
          "contraceptive_method_used": 2,
          "standard_of_living_index": 3,
          "wife_age": 47,
          "wife_education": 1,
          "wife_religion": 1
         },
         {
          "contraceptive_method_used": 1,
          "standard_of_living_index": 3,
          "wife_age": 36,
          "wife_education": 2,
          "wife_religion": 1
         },
         {
          "contraceptive_method_used": 3,
          "standard_of_living_index": 4,
          "wife_age": 30,
          "wife_education": 2,
          "wife_religion": 1
         },
         {
          "contraceptive_method_used": 3,
          "standard_of_living_index": 1,
          "wife_age": 22,
          "wife_education": 3,
          "wife_religion": 1
         },
         {
          "contraceptive_method_used": 1,
          "standard_of_living_index": 2,
          "wife_age": 26,
          "wife_education": 3,
          "wife_religion": 0
         },
         {
          "contraceptive_method_used": 2,
          "standard_of_living_index": 2,
          "wife_age": 22,
          "wife_education": 4,
          "wife_religion": 1
         },
         {
          "contraceptive_method_used": 1,
          "standard_of_living_index": 3,
          "wife_age": 36,
          "wife_education": 2,
          "wife_religion": 0
         },
         {
          "contraceptive_method_used": 3,
          "standard_of_living_index": 4,
          "wife_age": 25,
          "wife_education": 3,
          "wife_religion": 1
         },
         {
          "contraceptive_method_used": 3,
          "standard_of_living_index": 3,
          "wife_age": 25,
          "wife_education": 1,
          "wife_religion": 1
         },
         {
          "contraceptive_method_used": 2,
          "standard_of_living_index": 4,
          "wife_age": 23,
          "wife_education": 4,
          "wife_religion": 1
         },
         {
          "contraceptive_method_used": 1,
          "standard_of_living_index": 3,
          "wife_age": 46,
          "wife_education": 1,
          "wife_religion": 1
         },
         {
          "contraceptive_method_used": 1,
          "standard_of_living_index": 1,
          "wife_age": 27,
          "wife_education": 2,
          "wife_religion": 1
         },
         {
          "contraceptive_method_used": 3,
          "standard_of_living_index": 1,
          "wife_age": 24,
          "wife_education": 2,
          "wife_religion": 1
         },
         {
          "contraceptive_method_used": 3,
          "standard_of_living_index": 2,
          "wife_age": 35,
          "wife_education": 2,
          "wife_religion": 1
         },
         {
          "contraceptive_method_used": 1,
          "standard_of_living_index": 2,
          "wife_age": 28,
          "wife_education": 3,
          "wife_religion": 1
         },
         {
          "contraceptive_method_used": 1,
          "standard_of_living_index": 4,
          "wife_age": 25,
          "wife_education": 3,
          "wife_religion": 1
         },
         {
          "contraceptive_method_used": 2,
          "standard_of_living_index": 4,
          "wife_age": 33,
          "wife_education": 3,
          "wife_religion": 1
         },
         {
          "contraceptive_method_used": 3,
          "standard_of_living_index": 3,
          "wife_age": 41,
          "wife_education": 4,
          "wife_religion": 1
         },
         {
          "contraceptive_method_used": 1,
          "standard_of_living_index": 3,
          "wife_age": 41,
          "wife_education": 3,
          "wife_religion": 1
         },
         {
          "contraceptive_method_used": 1,
          "standard_of_living_index": 3,
          "wife_age": 46,
          "wife_education": 4,
          "wife_religion": 1
         },
         {
          "contraceptive_method_used": 3,
          "standard_of_living_index": 4,
          "wife_age": 43,
          "wife_education": 4,
          "wife_religion": 1
         },
         {
          "contraceptive_method_used": 1,
          "standard_of_living_index": 4,
          "wife_age": 25,
          "wife_education": 4,
          "wife_religion": 1
         },
         {
          "contraceptive_method_used": 3,
          "standard_of_living_index": 2,
          "wife_age": 22,
          "wife_education": 3,
          "wife_religion": 1
         },
         {
          "contraceptive_method_used": 3,
          "standard_of_living_index": 4,
          "wife_age": 21,
          "wife_education": 4,
          "wife_religion": 0
         },
         {
          "contraceptive_method_used": 1,
          "standard_of_living_index": 3,
          "wife_age": 48,
          "wife_education": 2,
          "wife_religion": 1
         },
         {
          "contraceptive_method_used": 2,
          "standard_of_living_index": 2,
          "wife_age": 28,
          "wife_education": 3,
          "wife_religion": 1
         },
         {
          "contraceptive_method_used": 1,
          "standard_of_living_index": 4,
          "wife_age": 25,
          "wife_education": 3,
          "wife_religion": 1
         },
         {
          "contraceptive_method_used": 2,
          "standard_of_living_index": 4,
          "wife_age": 33,
          "wife_education": 4,
          "wife_religion": 1
         },
         {
          "contraceptive_method_used": 3,
          "standard_of_living_index": 4,
          "wife_age": 31,
          "wife_education": 4,
          "wife_religion": 1
         },
         {
          "contraceptive_method_used": 1,
          "standard_of_living_index": 4,
          "wife_age": 25,
          "wife_education": 4,
          "wife_religion": 0
         },
         {
          "contraceptive_method_used": 2,
          "standard_of_living_index": 3,
          "wife_age": 32,
          "wife_education": 3,
          "wife_religion": 1
         },
         {
          "contraceptive_method_used": 1,
          "standard_of_living_index": 4,
          "wife_age": 45,
          "wife_education": 4,
          "wife_religion": 1
         },
         {
          "contraceptive_method_used": 1,
          "standard_of_living_index": 4,
          "wife_age": 26,
          "wife_education": 4,
          "wife_religion": 1
         },
         {
          "contraceptive_method_used": 2,
          "standard_of_living_index": 4,
          "wife_age": 36,
          "wife_education": 4,
          "wife_religion": 1
         },
         {
          "contraceptive_method_used": 1,
          "standard_of_living_index": 3,
          "wife_age": 27,
          "wife_education": 3,
          "wife_religion": 1
         },
         {
          "contraceptive_method_used": 1,
          "standard_of_living_index": 3,
          "wife_age": 32,
          "wife_education": 4,
          "wife_religion": 1
         },
         {
          "contraceptive_method_used": 3,
          "standard_of_living_index": 3,
          "wife_age": 24,
          "wife_education": 4,
          "wife_religion": 1
         },
         {
          "contraceptive_method_used": 2,
          "standard_of_living_index": 4,
          "wife_age": 39,
          "wife_education": 4,
          "wife_religion": 1
         },
         {
          "contraceptive_method_used": 3,
          "standard_of_living_index": 1,
          "wife_age": 31,
          "wife_education": 3,
          "wife_religion": 1
         },
         {
          "contraceptive_method_used": 3,
          "standard_of_living_index": 3,
          "wife_age": 30,
          "wife_education": 4,
          "wife_religion": 1
         },
         {
          "contraceptive_method_used": 1,
          "standard_of_living_index": 4,
          "wife_age": 20,
          "wife_education": 2,
          "wife_religion": 1
         },
         {
          "contraceptive_method_used": 2,
          "standard_of_living_index": 4,
          "wife_age": 23,
          "wife_education": 4,
          "wife_religion": 1
         },
         {
          "contraceptive_method_used": 3,
          "standard_of_living_index": 4,
          "wife_age": 35,
          "wife_education": 2,
          "wife_religion": 1
         },
         {
          "contraceptive_method_used": 1,
          "standard_of_living_index": 4,
          "wife_age": 37,
          "wife_education": 3,
          "wife_religion": 1
         },
         {
          "contraceptive_method_used": 1,
          "standard_of_living_index": 1,
          "wife_age": 30,
          "wife_education": 1,
          "wife_religion": 1
         },
         {
          "contraceptive_method_used": 2,
          "standard_of_living_index": 4,
          "wife_age": 27,
          "wife_education": 4,
          "wife_religion": 0
         },
         {
          "contraceptive_method_used": 3,
          "standard_of_living_index": 2,
          "wife_age": 25,
          "wife_education": 2,
          "wife_religion": 1
         },
         {
          "contraceptive_method_used": 2,
          "standard_of_living_index": 3,
          "wife_age": 28,
          "wife_education": 2,
          "wife_religion": 1
         },
         {
          "contraceptive_method_used": 2,
          "standard_of_living_index": 4,
          "wife_age": 33,
          "wife_education": 4,
          "wife_religion": 1
         },
         {
          "contraceptive_method_used": 1,
          "standard_of_living_index": 3,
          "wife_age": 28,
          "wife_education": 3,
          "wife_religion": 1
         },
         {
          "contraceptive_method_used": 3,
          "standard_of_living_index": 4,
          "wife_age": 37,
          "wife_education": 4,
          "wife_religion": 1
         },
         {
          "contraceptive_method_used": 1,
          "standard_of_living_index": 3,
          "wife_age": 25,
          "wife_education": 4,
          "wife_religion": 0
         },
         {
          "contraceptive_method_used": 1,
          "standard_of_living_index": 4,
          "wife_age": 44,
          "wife_education": 3,
          "wife_religion": 1
         },
         {
          "contraceptive_method_used": 1,
          "standard_of_living_index": 4,
          "wife_age": 16,
          "wife_education": 2,
          "wife_religion": 1
         },
         {
          "contraceptive_method_used": 3,
          "standard_of_living_index": 4,
          "wife_age": 33,
          "wife_education": 4,
          "wife_religion": 1
         },
         {
          "contraceptive_method_used": 3,
          "standard_of_living_index": 2,
          "wife_age": 32,
          "wife_education": 3,
          "wife_religion": 1
         },
         {
          "contraceptive_method_used": 1,
          "standard_of_living_index": 4,
          "wife_age": 35,
          "wife_education": 4,
          "wife_religion": 1
         },
         {
          "contraceptive_method_used": 2,
          "standard_of_living_index": 4,
          "wife_age": 32,
          "wife_education": 4,
          "wife_religion": 1
         },
         {
          "contraceptive_method_used": 3,
          "standard_of_living_index": 3,
          "wife_age": 25,
          "wife_education": 3,
          "wife_religion": 1
         },
         {
          "contraceptive_method_used": 2,
          "standard_of_living_index": 4,
          "wife_age": 38,
          "wife_education": 4,
          "wife_religion": 1
         },
         {
          "contraceptive_method_used": 3,
          "standard_of_living_index": 4,
          "wife_age": 30,
          "wife_education": 4,
          "wife_religion": 1
         },
         {
          "contraceptive_method_used": 3,
          "standard_of_living_index": 4,
          "wife_age": 23,
          "wife_education": 2,
          "wife_religion": 1
         },
         {
          "contraceptive_method_used": 1,
          "standard_of_living_index": 2,
          "wife_age": 19,
          "wife_education": 2,
          "wife_religion": 1
         },
         {
          "contraceptive_method_used": 3,
          "standard_of_living_index": 4,
          "wife_age": 40,
          "wife_education": 2,
          "wife_religion": 0
         },
         {
          "contraceptive_method_used": 2,
          "standard_of_living_index": 3,
          "wife_age": 26,
          "wife_education": 3,
          "wife_religion": 1
         },
         {
          "contraceptive_method_used": 1,
          "standard_of_living_index": 4,
          "wife_age": 31,
          "wife_education": 3,
          "wife_religion": 1
         },
         {
          "contraceptive_method_used": 2,
          "standard_of_living_index": 4,
          "wife_age": 37,
          "wife_education": 4,
          "wife_religion": 1
         },
         {
          "contraceptive_method_used": 1,
          "standard_of_living_index": 1,
          "wife_age": 24,
          "wife_education": 2,
          "wife_religion": 1
         },
         {
          "contraceptive_method_used": 3,
          "standard_of_living_index": 2,
          "wife_age": 30,
          "wife_education": 4,
          "wife_religion": 1
         },
         {
          "contraceptive_method_used": 3,
          "standard_of_living_index": 4,
          "wife_age": 26,
          "wife_education": 3,
          "wife_religion": 1
         },
         {
          "contraceptive_method_used": 2,
          "standard_of_living_index": 4,
          "wife_age": 44,
          "wife_education": 4,
          "wife_religion": 1
         },
         {
          "contraceptive_method_used": 1,
          "standard_of_living_index": 2,
          "wife_age": 46,
          "wife_education": 3,
          "wife_religion": 1
         },
         {
          "contraceptive_method_used": 3,
          "standard_of_living_index": 4,
          "wife_age": 44,
          "wife_education": 4,
          "wife_religion": 1
         },
         {
          "contraceptive_method_used": 1,
          "standard_of_living_index": 1,
          "wife_age": 48,
          "wife_education": 1,
          "wife_religion": 1
         },
         {
          "contraceptive_method_used": 1,
          "standard_of_living_index": 3,
          "wife_age": 47,
          "wife_education": 1,
          "wife_religion": 1
         },
         {
          "contraceptive_method_used": 1,
          "standard_of_living_index": 3,
          "wife_age": 47,
          "wife_education": 1,
          "wife_religion": 1
         },
         {
          "contraceptive_method_used": 3,
          "standard_of_living_index": 1,
          "wife_age": 27,
          "wife_education": 2,
          "wife_religion": 1
         },
         {
          "contraceptive_method_used": 1,
          "standard_of_living_index": 1,
          "wife_age": 24,
          "wife_education": 3,
          "wife_religion": 1
         },
         {
          "contraceptive_method_used": 3,
          "standard_of_living_index": 4,
          "wife_age": 41,
          "wife_education": 4,
          "wife_religion": 1
         },
         {
          "contraceptive_method_used": 2,
          "standard_of_living_index": 4,
          "wife_age": 32,
          "wife_education": 4,
          "wife_religion": 0
         },
         {
          "contraceptive_method_used": 3,
          "standard_of_living_index": 3,
          "wife_age": 26,
          "wife_education": 2,
          "wife_religion": 1
         },
         {
          "contraceptive_method_used": 3,
          "standard_of_living_index": 3,
          "wife_age": 24,
          "wife_education": 2,
          "wife_religion": 1
         },
         {
          "contraceptive_method_used": 2,
          "standard_of_living_index": 4,
          "wife_age": 20,
          "wife_education": 3,
          "wife_religion": 1
         },
         {
          "contraceptive_method_used": 1,
          "standard_of_living_index": 2,
          "wife_age": 48,
          "wife_education": 1,
          "wife_religion": 1
         },
         {
          "contraceptive_method_used": 1,
          "standard_of_living_index": 2,
          "wife_age": 45,
          "wife_education": 1,
          "wife_religion": 1
         },
         {
          "contraceptive_method_used": 1,
          "standard_of_living_index": 4,
          "wife_age": 30,
          "wife_education": 4,
          "wife_religion": 1
         },
         {
          "contraceptive_method_used": 3,
          "standard_of_living_index": 2,
          "wife_age": 34,
          "wife_education": 2,
          "wife_religion": 0
         },
         {
          "contraceptive_method_used": 1,
          "standard_of_living_index": 3,
          "wife_age": 23,
          "wife_education": 2,
          "wife_religion": 1
         },
         {
          "contraceptive_method_used": 3,
          "standard_of_living_index": 1,
          "wife_age": 29,
          "wife_education": 3,
          "wife_religion": 1
         },
         {
          "contraceptive_method_used": 1,
          "standard_of_living_index": 1,
          "wife_age": 29,
          "wife_education": 2,
          "wife_religion": 1
         },
         {
          "contraceptive_method_used": 1,
          "standard_of_living_index": 4,
          "wife_age": 48,
          "wife_education": 4,
          "wife_religion": 1
         },
         {
          "contraceptive_method_used": 1,
          "standard_of_living_index": 4,
          "wife_age": 27,
          "wife_education": 4,
          "wife_religion": 1
         },
         {
          "contraceptive_method_used": 3,
          "standard_of_living_index": 4,
          "wife_age": 27,
          "wife_education": 2,
          "wife_religion": 1
         },
         {
          "contraceptive_method_used": 1,
          "standard_of_living_index": 4,
          "wife_age": 22,
          "wife_education": 4,
          "wife_religion": 1
         },
         {
          "contraceptive_method_used": 1,
          "standard_of_living_index": 3,
          "wife_age": 47,
          "wife_education": 1,
          "wife_religion": 1
         },
         {
          "contraceptive_method_used": 1,
          "standard_of_living_index": 2,
          "wife_age": 21,
          "wife_education": 2,
          "wife_religion": 1
         },
         {
          "contraceptive_method_used": 1,
          "standard_of_living_index": 2,
          "wife_age": 40,
          "wife_education": 3,
          "wife_religion": 1
         },
         {
          "contraceptive_method_used": 2,
          "standard_of_living_index": 2,
          "wife_age": 21,
          "wife_education": 2,
          "wife_religion": 1
         },
         {
          "contraceptive_method_used": 1,
          "standard_of_living_index": 1,
          "wife_age": 44,
          "wife_education": 1,
          "wife_religion": 1
         },
         {
          "contraceptive_method_used": 3,
          "standard_of_living_index": 3,
          "wife_age": 19,
          "wife_education": 4,
          "wife_religion": 1
         },
         {
          "contraceptive_method_used": 2,
          "standard_of_living_index": 4,
          "wife_age": 45,
          "wife_education": 4,
          "wife_religion": 0
         },
         {
          "contraceptive_method_used": 3,
          "standard_of_living_index": 3,
          "wife_age": 24,
          "wife_education": 4,
          "wife_religion": 1
         },
         {
          "contraceptive_method_used": 3,
          "standard_of_living_index": 4,
          "wife_age": 28,
          "wife_education": 4,
          "wife_religion": 1
         },
         {
          "contraceptive_method_used": 1,
          "standard_of_living_index": 2,
          "wife_age": 32,
          "wife_education": 1,
          "wife_religion": 1
         },
         {
          "contraceptive_method_used": 3,
          "standard_of_living_index": 1,
          "wife_age": 29,
          "wife_education": 2,
          "wife_religion": 1
         },
         {
          "contraceptive_method_used": 2,
          "standard_of_living_index": 1,
          "wife_age": 21,
          "wife_education": 4,
          "wife_religion": 1
         },
         {
          "contraceptive_method_used": 1,
          "standard_of_living_index": 3,
          "wife_age": 40,
          "wife_education": 2,
          "wife_religion": 1
         },
         {
          "contraceptive_method_used": 1,
          "standard_of_living_index": 2,
          "wife_age": 41,
          "wife_education": 2,
          "wife_religion": 0
         },
         {
          "contraceptive_method_used": 1,
          "standard_of_living_index": 3,
          "wife_age": 34,
          "wife_education": 4,
          "wife_religion": 0
         },
         {
          "contraceptive_method_used": 1,
          "standard_of_living_index": 4,
          "wife_age": 49,
          "wife_education": 4,
          "wife_religion": 1
         },
         {
          "contraceptive_method_used": 3,
          "standard_of_living_index": 4,
          "wife_age": 33,
          "wife_education": 2,
          "wife_religion": 1
         },
         {
          "contraceptive_method_used": 3,
          "standard_of_living_index": 4,
          "wife_age": 28,
          "wife_education": 2,
          "wife_religion": 1
         },
         {
          "contraceptive_method_used": 1,
          "standard_of_living_index": 3,
          "wife_age": 33,
          "wife_education": 1,
          "wife_religion": 1
         },
         {
          "contraceptive_method_used": 1,
          "standard_of_living_index": 4,
          "wife_age": 26,
          "wife_education": 2,
          "wife_religion": 1
         },
         {
          "contraceptive_method_used": 1,
          "standard_of_living_index": 4,
          "wife_age": 45,
          "wife_education": 3,
          "wife_religion": 1
         },
         {
          "contraceptive_method_used": 1,
          "standard_of_living_index": 2,
          "wife_age": 28,
          "wife_education": 3,
          "wife_religion": 0
         },
         {
          "contraceptive_method_used": 1,
          "standard_of_living_index": 4,
          "wife_age": 25,
          "wife_education": 4,
          "wife_religion": 1
         },
         {
          "contraceptive_method_used": 3,
          "standard_of_living_index": 2,
          "wife_age": 29,
          "wife_education": 3,
          "wife_religion": 1
         },
         {
          "contraceptive_method_used": 1,
          "standard_of_living_index": 3,
          "wife_age": 45,
          "wife_education": 2,
          "wife_religion": 1
         },
         {
          "contraceptive_method_used": 2,
          "standard_of_living_index": 4,
          "wife_age": 36,
          "wife_education": 3,
          "wife_religion": 0
         },
         {
          "contraceptive_method_used": 1,
          "standard_of_living_index": 2,
          "wife_age": 25,
          "wife_education": 3,
          "wife_religion": 1
         },
         {
          "contraceptive_method_used": 3,
          "standard_of_living_index": 3,
          "wife_age": 26,
          "wife_education": 2,
          "wife_religion": 1
         },
         {
          "contraceptive_method_used": 3,
          "standard_of_living_index": 2,
          "wife_age": 29,
          "wife_education": 2,
          "wife_religion": 1
         },
         {
          "contraceptive_method_used": 2,
          "standard_of_living_index": 2,
          "wife_age": 36,
          "wife_education": 3,
          "wife_religion": 1
         },
         {
          "contraceptive_method_used": 1,
          "standard_of_living_index": 2,
          "wife_age": 26,
          "wife_education": 3,
          "wife_religion": 1
         },
         {
          "contraceptive_method_used": 2,
          "standard_of_living_index": 3,
          "wife_age": 35,
          "wife_education": 1,
          "wife_religion": 1
         },
         {
          "contraceptive_method_used": 3,
          "standard_of_living_index": 4,
          "wife_age": 32,
          "wife_education": 3,
          "wife_religion": 0
         },
         {
          "contraceptive_method_used": 3,
          "standard_of_living_index": 4,
          "wife_age": 26,
          "wife_education": 4,
          "wife_religion": 1
         },
         {
          "contraceptive_method_used": 3,
          "standard_of_living_index": 4,
          "wife_age": 22,
          "wife_education": 3,
          "wife_religion": 0
         },
         {
          "contraceptive_method_used": 3,
          "standard_of_living_index": 2,
          "wife_age": 20,
          "wife_education": 2,
          "wife_religion": 1
         },
         {
          "contraceptive_method_used": 3,
          "standard_of_living_index": 4,
          "wife_age": 25,
          "wife_education": 3,
          "wife_religion": 1
         },
         {
          "contraceptive_method_used": 1,
          "standard_of_living_index": 3,
          "wife_age": 34,
          "wife_education": 3,
          "wife_religion": 1
         },
         {
          "contraceptive_method_used": 3,
          "standard_of_living_index": 3,
          "wife_age": 19,
          "wife_education": 2,
          "wife_religion": 1
         },
         {
          "contraceptive_method_used": 3,
          "standard_of_living_index": 4,
          "wife_age": 29,
          "wife_education": 3,
          "wife_religion": 0
         },
         {
          "contraceptive_method_used": 3,
          "standard_of_living_index": 3,
          "wife_age": 26,
          "wife_education": 3,
          "wife_religion": 1
         },
         {
          "contraceptive_method_used": 1,
          "standard_of_living_index": 1,
          "wife_age": 26,
          "wife_education": 2,
          "wife_religion": 1
         },
         {
          "contraceptive_method_used": 2,
          "standard_of_living_index": 3,
          "wife_age": 35,
          "wife_education": 4,
          "wife_religion": 1
         },
         {
          "contraceptive_method_used": 1,
          "standard_of_living_index": 2,
          "wife_age": 44,
          "wife_education": 2,
          "wife_religion": 1
         },
         {
          "contraceptive_method_used": 1,
          "standard_of_living_index": 1,
          "wife_age": 25,
          "wife_education": 3,
          "wife_religion": 1
         },
         {
          "contraceptive_method_used": 3,
          "standard_of_living_index": 4,
          "wife_age": 20,
          "wife_education": 3,
          "wife_religion": 1
         },
         {
          "contraceptive_method_used": 1,
          "standard_of_living_index": 4,
          "wife_age": 32,
          "wife_education": 3,
          "wife_religion": 1
         },
         {
          "contraceptive_method_used": 1,
          "standard_of_living_index": 3,
          "wife_age": 34,
          "wife_education": 2,
          "wife_religion": 1
         },
         {
          "contraceptive_method_used": 3,
          "standard_of_living_index": 4,
          "wife_age": 31,
          "wife_education": 4,
          "wife_religion": 1
         },
         {
          "contraceptive_method_used": 3,
          "standard_of_living_index": 4,
          "wife_age": 43,
          "wife_education": 4,
          "wife_religion": 1
         },
         {
          "contraceptive_method_used": 3,
          "standard_of_living_index": 2,
          "wife_age": 27,
          "wife_education": 2,
          "wife_religion": 1
         },
         {
          "contraceptive_method_used": 1,
          "standard_of_living_index": 3,
          "wife_age": 28,
          "wife_education": 4,
          "wife_religion": 0
         },
         {
          "contraceptive_method_used": 1,
          "standard_of_living_index": 3,
          "wife_age": 45,
          "wife_education": 3,
          "wife_religion": 1
         },
         {
          "contraceptive_method_used": 3,
          "standard_of_living_index": 3,
          "wife_age": 25,
          "wife_education": 2,
          "wife_religion": 1
         },
         {
          "contraceptive_method_used": 3,
          "standard_of_living_index": 2,
          "wife_age": 22,
          "wife_education": 4,
          "wife_religion": 1
         },
         {
          "contraceptive_method_used": 3,
          "standard_of_living_index": 2,
          "wife_age": 28,
          "wife_education": 4,
          "wife_religion": 1
         },
         {
          "contraceptive_method_used": 1,
          "standard_of_living_index": 2,
          "wife_age": 37,
          "wife_education": 2,
          "wife_religion": 1
         },
         {
          "contraceptive_method_used": 1,
          "standard_of_living_index": 4,
          "wife_age": 42,
          "wife_education": 4,
          "wife_religion": 1
         },
         {
          "contraceptive_method_used": 3,
          "standard_of_living_index": 3,
          "wife_age": 33,
          "wife_education": 2,
          "wife_religion": 1
         },
         {
          "contraceptive_method_used": 1,
          "standard_of_living_index": 1,
          "wife_age": 23,
          "wife_education": 1,
          "wife_religion": 1
         },
         {
          "contraceptive_method_used": 1,
          "standard_of_living_index": 3,
          "wife_age": 24,
          "wife_education": 4,
          "wife_religion": 1
         },
         {
          "contraceptive_method_used": 3,
          "standard_of_living_index": 4,
          "wife_age": 24,
          "wife_education": 4,
          "wife_religion": 1
         },
         {
          "contraceptive_method_used": 1,
          "standard_of_living_index": 1,
          "wife_age": 47,
          "wife_education": 2,
          "wife_religion": 1
         },
         {
          "contraceptive_method_used": 1,
          "standard_of_living_index": 4,
          "wife_age": 47,
          "wife_education": 4,
          "wife_religion": 1
         },
         {
          "contraceptive_method_used": 3,
          "standard_of_living_index": 1,
          "wife_age": 19,
          "wife_education": 3,
          "wife_religion": 1
         },
         {
          "contraceptive_method_used": 3,
          "standard_of_living_index": 4,
          "wife_age": 27,
          "wife_education": 4,
          "wife_religion": 1
         },
         {
          "contraceptive_method_used": 1,
          "standard_of_living_index": 3,
          "wife_age": 47,
          "wife_education": 2,
          "wife_religion": 1
         },
         {
          "contraceptive_method_used": 3,
          "standard_of_living_index": 3,
          "wife_age": 40,
          "wife_education": 3,
          "wife_religion": 1
         },
         {
          "contraceptive_method_used": 3,
          "standard_of_living_index": 4,
          "wife_age": 35,
          "wife_education": 3,
          "wife_religion": 1
         },
         {
          "contraceptive_method_used": 3,
          "standard_of_living_index": 3,
          "wife_age": 40,
          "wife_education": 2,
          "wife_religion": 1
         },
         {
          "contraceptive_method_used": 3,
          "standard_of_living_index": 3,
          "wife_age": 21,
          "wife_education": 3,
          "wife_religion": 1
         },
         {
          "contraceptive_method_used": 2,
          "standard_of_living_index": 2,
          "wife_age": 20,
          "wife_education": 3,
          "wife_religion": 1
         },
         {
          "contraceptive_method_used": 1,
          "standard_of_living_index": 1,
          "wife_age": 32,
          "wife_education": 2,
          "wife_religion": 1
         },
         {
          "contraceptive_method_used": 1,
          "standard_of_living_index": 2,
          "wife_age": 42,
          "wife_education": 3,
          "wife_religion": 1
         },
         {
          "contraceptive_method_used": 1,
          "standard_of_living_index": 2,
          "wife_age": 32,
          "wife_education": 3,
          "wife_religion": 1
         },
         {
          "contraceptive_method_used": 3,
          "standard_of_living_index": 4,
          "wife_age": 29,
          "wife_education": 3,
          "wife_religion": 1
         },
         {
          "contraceptive_method_used": 1,
          "standard_of_living_index": 2,
          "wife_age": 36,
          "wife_education": 3,
          "wife_religion": 1
         },
         {
          "contraceptive_method_used": 1,
          "standard_of_living_index": 3,
          "wife_age": 49,
          "wife_education": 1,
          "wife_religion": 1
         },
         {
          "contraceptive_method_used": 1,
          "standard_of_living_index": 3,
          "wife_age": 47,
          "wife_education": 1,
          "wife_religion": 1
         },
         {
          "contraceptive_method_used": 3,
          "standard_of_living_index": 4,
          "wife_age": 45,
          "wife_education": 2,
          "wife_religion": 0
         },
         {
          "contraceptive_method_used": 1,
          "standard_of_living_index": 1,
          "wife_age": 48,
          "wife_education": 3,
          "wife_religion": 1
         },
         {
          "contraceptive_method_used": 3,
          "standard_of_living_index": 4,
          "wife_age": 37,
          "wife_education": 2,
          "wife_religion": 1
         },
         {
          "contraceptive_method_used": 1,
          "standard_of_living_index": 4,
          "wife_age": 45,
          "wife_education": 3,
          "wife_religion": 0
         },
         {
          "contraceptive_method_used": 2,
          "standard_of_living_index": 4,
          "wife_age": 34,
          "wife_education": 4,
          "wife_religion": 1
         },
         {
          "contraceptive_method_used": 1,
          "standard_of_living_index": 2,
          "wife_age": 25,
          "wife_education": 4,
          "wife_religion": 1
         },
         {
          "contraceptive_method_used": 2,
          "standard_of_living_index": 3,
          "wife_age": 28,
          "wife_education": 4,
          "wife_religion": 1
         },
         {
          "contraceptive_method_used": 3,
          "standard_of_living_index": 4,
          "wife_age": 25,
          "wife_education": 3,
          "wife_religion": 1
         },
         {
          "contraceptive_method_used": 2,
          "standard_of_living_index": 4,
          "wife_age": 39,
          "wife_education": 4,
          "wife_religion": 1
         },
         {
          "contraceptive_method_used": 1,
          "standard_of_living_index": 4,
          "wife_age": 20,
          "wife_education": 4,
          "wife_religion": 0
         },
         {
          "contraceptive_method_used": 3,
          "standard_of_living_index": 4,
          "wife_age": 20,
          "wife_education": 3,
          "wife_religion": 0
         },
         {
          "contraceptive_method_used": 3,
          "standard_of_living_index": 2,
          "wife_age": 26,
          "wife_education": 3,
          "wife_religion": 1
         },
         {
          "contraceptive_method_used": 3,
          "standard_of_living_index": 4,
          "wife_age": 37,
          "wife_education": 4,
          "wife_religion": 1
         },
         {
          "contraceptive_method_used": 3,
          "standard_of_living_index": 3,
          "wife_age": 29,
          "wife_education": 3,
          "wife_religion": 1
         },
         {
          "contraceptive_method_used": 1,
          "standard_of_living_index": 4,
          "wife_age": 38,
          "wife_education": 1,
          "wife_religion": 1
         },
         {
          "contraceptive_method_used": 2,
          "standard_of_living_index": 4,
          "wife_age": 41,
          "wife_education": 4,
          "wife_religion": 1
         },
         {
          "contraceptive_method_used": 2,
          "standard_of_living_index": 4,
          "wife_age": 33,
          "wife_education": 4,
          "wife_religion": 1
         },
         {
          "contraceptive_method_used": 3,
          "standard_of_living_index": 4,
          "wife_age": 27,
          "wife_education": 4,
          "wife_religion": 1
         },
         {
          "contraceptive_method_used": 1,
          "standard_of_living_index": 3,
          "wife_age": 26,
          "wife_education": 3,
          "wife_religion": 1
         },
         {
          "contraceptive_method_used": 1,
          "standard_of_living_index": 3,
          "wife_age": 36,
          "wife_education": 2,
          "wife_religion": 1
         },
         {
          "contraceptive_method_used": 3,
          "standard_of_living_index": 4,
          "wife_age": 33,
          "wife_education": 4,
          "wife_religion": 1
         },
         {
          "contraceptive_method_used": 2,
          "standard_of_living_index": 4,
          "wife_age": 23,
          "wife_education": 4,
          "wife_religion": 0
         },
         {
          "contraceptive_method_used": 1,
          "standard_of_living_index": 4,
          "wife_age": 48,
          "wife_education": 3,
          "wife_religion": 1
         },
         {
          "contraceptive_method_used": 1,
          "standard_of_living_index": 2,
          "wife_age": 40,
          "wife_education": 2,
          "wife_religion": 1
         },
         {
          "contraceptive_method_used": 2,
          "standard_of_living_index": 4,
          "wife_age": 26,
          "wife_education": 4,
          "wife_religion": 0
         },
         {
          "contraceptive_method_used": 3,
          "standard_of_living_index": 3,
          "wife_age": 39,
          "wife_education": 3,
          "wife_religion": 1
         },
         {
          "contraceptive_method_used": 1,
          "standard_of_living_index": 4,
          "wife_age": 42,
          "wife_education": 3,
          "wife_religion": 1
         },
         {
          "contraceptive_method_used": 3,
          "standard_of_living_index": 3,
          "wife_age": 29,
          "wife_education": 1,
          "wife_religion": 1
         },
         {
          "contraceptive_method_used": 1,
          "standard_of_living_index": 3,
          "wife_age": 45,
          "wife_education": 2,
          "wife_religion": 1
         },
         {
          "contraceptive_method_used": 1,
          "standard_of_living_index": 3,
          "wife_age": 28,
          "wife_education": 4,
          "wife_religion": 1
         },
         {
          "contraceptive_method_used": 1,
          "standard_of_living_index": 3,
          "wife_age": 44,
          "wife_education": 1,
          "wife_religion": 1
         },
         {
          "contraceptive_method_used": 3,
          "standard_of_living_index": 4,
          "wife_age": 33,
          "wife_education": 2,
          "wife_religion": 1
         },
         {
          "contraceptive_method_used": 3,
          "standard_of_living_index": 4,
          "wife_age": 33,
          "wife_education": 4,
          "wife_religion": 1
         },
         {
          "contraceptive_method_used": 1,
          "standard_of_living_index": 3,
          "wife_age": 39,
          "wife_education": 3,
          "wife_religion": 1
         },
         {
          "contraceptive_method_used": 1,
          "standard_of_living_index": 4,
          "wife_age": 35,
          "wife_education": 2,
          "wife_religion": 1
         },
         {
          "contraceptive_method_used": 2,
          "standard_of_living_index": 3,
          "wife_age": 44,
          "wife_education": 1,
          "wife_religion": 1
         },
         {
          "contraceptive_method_used": 1,
          "standard_of_living_index": 3,
          "wife_age": 19,
          "wife_education": 3,
          "wife_religion": 1
         },
         {
          "contraceptive_method_used": 1,
          "standard_of_living_index": 4,
          "wife_age": 32,
          "wife_education": 4,
          "wife_religion": 0
         },
         {
          "contraceptive_method_used": 1,
          "standard_of_living_index": 3,
          "wife_age": 32,
          "wife_education": 4,
          "wife_religion": 1
         },
         {
          "contraceptive_method_used": 1,
          "standard_of_living_index": 3,
          "wife_age": 22,
          "wife_education": 3,
          "wife_religion": 1
         },
         {
          "contraceptive_method_used": 3,
          "standard_of_living_index": 2,
          "wife_age": 31,
          "wife_education": 1,
          "wife_religion": 1
         },
         {
          "contraceptive_method_used": 2,
          "standard_of_living_index": 1,
          "wife_age": 44,
          "wife_education": 3,
          "wife_religion": 1
         },
         {
          "contraceptive_method_used": 2,
          "standard_of_living_index": 1,
          "wife_age": 25,
          "wife_education": 3,
          "wife_religion": 1
         },
         {
          "contraceptive_method_used": 2,
          "standard_of_living_index": 3,
          "wife_age": 37,
          "wife_education": 3,
          "wife_religion": 1
         },
         {
          "contraceptive_method_used": 1,
          "standard_of_living_index": 4,
          "wife_age": 49,
          "wife_education": 3,
          "wife_religion": 1
         },
         {
          "contraceptive_method_used": 1,
          "standard_of_living_index": 4,
          "wife_age": 24,
          "wife_education": 3,
          "wife_religion": 1
         },
         {
          "contraceptive_method_used": 1,
          "standard_of_living_index": 2,
          "wife_age": 38,
          "wife_education": 1,
          "wife_religion": 1
         },
         {
          "contraceptive_method_used": 1,
          "standard_of_living_index": 1,
          "wife_age": 38,
          "wife_education": 3,
          "wife_religion": 1
         },
         {
          "contraceptive_method_used": 3,
          "standard_of_living_index": 4,
          "wife_age": 25,
          "wife_education": 4,
          "wife_religion": 0
         },
         {
          "contraceptive_method_used": 3,
          "standard_of_living_index": 2,
          "wife_age": 21,
          "wife_education": 3,
          "wife_religion": 1
         },
         {
          "contraceptive_method_used": 3,
          "standard_of_living_index": 1,
          "wife_age": 22,
          "wife_education": 1,
          "wife_religion": 1
         },
         {
          "contraceptive_method_used": 1,
          "standard_of_living_index": 3,
          "wife_age": 31,
          "wife_education": 4,
          "wife_religion": 1
         },
         {
          "contraceptive_method_used": 3,
          "standard_of_living_index": 4,
          "wife_age": 29,
          "wife_education": 4,
          "wife_religion": 1
         },
         {
          "contraceptive_method_used": 1,
          "standard_of_living_index": 3,
          "wife_age": 31,
          "wife_education": 3,
          "wife_religion": 1
         },
         {
          "contraceptive_method_used": 3,
          "standard_of_living_index": 3,
          "wife_age": 26,
          "wife_education": 3,
          "wife_religion": 1
         },
         {
          "contraceptive_method_used": 3,
          "standard_of_living_index": 4,
          "wife_age": 24,
          "wife_education": 2,
          "wife_religion": 1
         },
         {
          "contraceptive_method_used": 1,
          "standard_of_living_index": 3,
          "wife_age": 30,
          "wife_education": 4,
          "wife_religion": 0
         },
         {
          "contraceptive_method_used": 2,
          "standard_of_living_index": 3,
          "wife_age": 45,
          "wife_education": 3,
          "wife_religion": 1
         },
         {
          "contraceptive_method_used": 1,
          "standard_of_living_index": 4,
          "wife_age": 22,
          "wife_education": 4,
          "wife_religion": 1
         },
         {
          "contraceptive_method_used": 3,
          "standard_of_living_index": 4,
          "wife_age": 26,
          "wife_education": 3,
          "wife_religion": 1
         },
         {
          "contraceptive_method_used": 3,
          "standard_of_living_index": 3,
          "wife_age": 37,
          "wife_education": 3,
          "wife_religion": 1
         },
         {
          "contraceptive_method_used": 1,
          "standard_of_living_index": 4,
          "wife_age": 26,
          "wife_education": 4,
          "wife_religion": 1
         },
         {
          "contraceptive_method_used": 3,
          "standard_of_living_index": 3,
          "wife_age": 25,
          "wife_education": 4,
          "wife_religion": 1
         },
         {
          "contraceptive_method_used": 1,
          "standard_of_living_index": 1,
          "wife_age": 26,
          "wife_education": 2,
          "wife_religion": 1
         },
         {
          "contraceptive_method_used": 1,
          "standard_of_living_index": 4,
          "wife_age": 40,
          "wife_education": 4,
          "wife_religion": 0
         },
         {
          "contraceptive_method_used": 3,
          "standard_of_living_index": 4,
          "wife_age": 37,
          "wife_education": 4,
          "wife_religion": 0
         },
         {
          "contraceptive_method_used": 2,
          "standard_of_living_index": 3,
          "wife_age": 40,
          "wife_education": 4,
          "wife_religion": 1
         },
         {
          "contraceptive_method_used": 2,
          "standard_of_living_index": 4,
          "wife_age": 35,
          "wife_education": 4,
          "wife_religion": 1
         },
         {
          "contraceptive_method_used": 1,
          "standard_of_living_index": 3,
          "wife_age": 43,
          "wife_education": 4,
          "wife_religion": 1
         },
         {
          "contraceptive_method_used": 2,
          "standard_of_living_index": 4,
          "wife_age": 27,
          "wife_education": 3,
          "wife_religion": 1
         },
         {
          "contraceptive_method_used": 1,
          "standard_of_living_index": 4,
          "wife_age": 27,
          "wife_education": 1,
          "wife_religion": 1
         },
         {
          "contraceptive_method_used": 1,
          "standard_of_living_index": 3,
          "wife_age": 34,
          "wife_education": 2,
          "wife_religion": 1
         },
         {
          "contraceptive_method_used": 1,
          "standard_of_living_index": 1,
          "wife_age": 49,
          "wife_education": 1,
          "wife_religion": 1
         },
         {
          "contraceptive_method_used": 1,
          "standard_of_living_index": 4,
          "wife_age": 33,
          "wife_education": 4,
          "wife_religion": 1
         },
         {
          "contraceptive_method_used": 1,
          "standard_of_living_index": 2,
          "wife_age": 44,
          "wife_education": 2,
          "wife_religion": 1
         },
         {
          "contraceptive_method_used": 2,
          "standard_of_living_index": 1,
          "wife_age": 36,
          "wife_education": 2,
          "wife_religion": 1
         },
         {
          "contraceptive_method_used": 1,
          "standard_of_living_index": 4,
          "wife_age": 22,
          "wife_education": 2,
          "wife_religion": 1
         },
         {
          "contraceptive_method_used": 3,
          "standard_of_living_index": 4,
          "wife_age": 27,
          "wife_education": 4,
          "wife_religion": 0
         },
         {
          "contraceptive_method_used": 3,
          "standard_of_living_index": 3,
          "wife_age": 27,
          "wife_education": 3,
          "wife_religion": 1
         },
         {
          "contraceptive_method_used": 1,
          "standard_of_living_index": 4,
          "wife_age": 43,
          "wife_education": 3,
          "wife_religion": 1
         },
         {
          "contraceptive_method_used": 3,
          "standard_of_living_index": 3,
          "wife_age": 43,
          "wife_education": 3,
          "wife_religion": 1
         },
         {
          "contraceptive_method_used": 2,
          "standard_of_living_index": 4,
          "wife_age": 33,
          "wife_education": 4,
          "wife_religion": 1
         },
         {
          "contraceptive_method_used": 3,
          "standard_of_living_index": 2,
          "wife_age": 45,
          "wife_education": 1,
          "wife_religion": 1
         },
         {
          "contraceptive_method_used": 1,
          "standard_of_living_index": 3,
          "wife_age": 24,
          "wife_education": 3,
          "wife_religion": 1
         },
         {
          "contraceptive_method_used": 3,
          "standard_of_living_index": 2,
          "wife_age": 30,
          "wife_education": 3,
          "wife_religion": 1
         },
         {
          "contraceptive_method_used": 3,
          "standard_of_living_index": 4,
          "wife_age": 33,
          "wife_education": 4,
          "wife_religion": 1
         },
         {
          "contraceptive_method_used": 1,
          "standard_of_living_index": 4,
          "wife_age": 49,
          "wife_education": 1,
          "wife_religion": 1
         },
         {
          "contraceptive_method_used": 1,
          "standard_of_living_index": 3,
          "wife_age": 44,
          "wife_education": 1,
          "wife_religion": 1
         },
         {
          "contraceptive_method_used": 3,
          "standard_of_living_index": 4,
          "wife_age": 29,
          "wife_education": 2,
          "wife_religion": 1
         },
         {
          "contraceptive_method_used": 2,
          "standard_of_living_index": 3,
          "wife_age": 32,
          "wife_education": 3,
          "wife_religion": 1
         },
         {
          "contraceptive_method_used": 3,
          "standard_of_living_index": 4,
          "wife_age": 39,
          "wife_education": 4,
          "wife_religion": 1
         },
         {
          "contraceptive_method_used": 2,
          "standard_of_living_index": 4,
          "wife_age": 42,
          "wife_education": 4,
          "wife_religion": 0
         },
         {
          "contraceptive_method_used": 1,
          "standard_of_living_index": 3,
          "wife_age": 47,
          "wife_education": 4,
          "wife_religion": 1
         },
         {
          "contraceptive_method_used": 3,
          "standard_of_living_index": 4,
          "wife_age": 39,
          "wife_education": 4,
          "wife_religion": 1
         },
         {
          "contraceptive_method_used": 3,
          "standard_of_living_index": 4,
          "wife_age": 43,
          "wife_education": 4,
          "wife_religion": 1
         },
         {
          "contraceptive_method_used": 1,
          "standard_of_living_index": 3,
          "wife_age": 48,
          "wife_education": 3,
          "wife_religion": 1
         },
         {
          "contraceptive_method_used": 2,
          "standard_of_living_index": 4,
          "wife_age": 24,
          "wife_education": 4,
          "wife_religion": 1
         },
         {
          "contraceptive_method_used": 3,
          "standard_of_living_index": 3,
          "wife_age": 43,
          "wife_education": 3,
          "wife_religion": 1
         },
         {
          "contraceptive_method_used": 1,
          "standard_of_living_index": 4,
          "wife_age": 45,
          "wife_education": 1,
          "wife_religion": 1
         },
         {
          "contraceptive_method_used": 3,
          "standard_of_living_index": 4,
          "wife_age": 41,
          "wife_education": 4,
          "wife_religion": 1
         },
         {
          "contraceptive_method_used": 3,
          "standard_of_living_index": 1,
          "wife_age": 21,
          "wife_education": 3,
          "wife_religion": 1
         },
         {
          "contraceptive_method_used": 3,
          "standard_of_living_index": 2,
          "wife_age": 29,
          "wife_education": 2,
          "wife_religion": 1
         },
         {
          "contraceptive_method_used": 1,
          "standard_of_living_index": 3,
          "wife_age": 41,
          "wife_education": 1,
          "wife_religion": 1
         },
         {
          "contraceptive_method_used": 2,
          "standard_of_living_index": 4,
          "wife_age": 24,
          "wife_education": 4,
          "wife_religion": 1
         },
         {
          "contraceptive_method_used": 2,
          "standard_of_living_index": 4,
          "wife_age": 35,
          "wife_education": 4,
          "wife_religion": 1
         },
         {
          "contraceptive_method_used": 1,
          "standard_of_living_index": 1,
          "wife_age": 47,
          "wife_education": 2,
          "wife_religion": 1
         },
         {
          "contraceptive_method_used": 3,
          "standard_of_living_index": 4,
          "wife_age": 28,
          "wife_education": 3,
          "wife_religion": 1
         },
         {
          "contraceptive_method_used": 3,
          "standard_of_living_index": 3,
          "wife_age": 22,
          "wife_education": 3,
          "wife_religion": 1
         },
         {
          "contraceptive_method_used": 2,
          "standard_of_living_index": 3,
          "wife_age": 28,
          "wife_education": 4,
          "wife_religion": 1
         },
         {
          "contraceptive_method_used": 3,
          "standard_of_living_index": 3,
          "wife_age": 27,
          "wife_education": 4,
          "wife_religion": 1
         },
         {
          "contraceptive_method_used": 3,
          "standard_of_living_index": 3,
          "wife_age": 24,
          "wife_education": 3,
          "wife_religion": 1
         },
         {
          "contraceptive_method_used": 2,
          "standard_of_living_index": 2,
          "wife_age": 35,
          "wife_education": 2,
          "wife_religion": 0
         },
         {
          "contraceptive_method_used": 1,
          "standard_of_living_index": 4,
          "wife_age": 28,
          "wife_education": 4,
          "wife_religion": 0
         },
         {
          "contraceptive_method_used": 3,
          "standard_of_living_index": 2,
          "wife_age": 30,
          "wife_education": 4,
          "wife_religion": 1
         },
         {
          "contraceptive_method_used": 1,
          "standard_of_living_index": 3,
          "wife_age": 45,
          "wife_education": 4,
          "wife_religion": 1
         },
         {
          "contraceptive_method_used": 2,
          "standard_of_living_index": 4,
          "wife_age": 35,
          "wife_education": 4,
          "wife_religion": 1
         },
         {
          "contraceptive_method_used": 3,
          "standard_of_living_index": 3,
          "wife_age": 33,
          "wife_education": 3,
          "wife_religion": 1
         },
         {
          "contraceptive_method_used": 3,
          "standard_of_living_index": 3,
          "wife_age": 29,
          "wife_education": 2,
          "wife_religion": 1
         },
         {
          "contraceptive_method_used": 2,
          "standard_of_living_index": 3,
          "wife_age": 23,
          "wife_education": 3,
          "wife_religion": 1
         },
         {
          "contraceptive_method_used": 2,
          "standard_of_living_index": 4,
          "wife_age": 31,
          "wife_education": 4,
          "wife_religion": 0
         },
         {
          "contraceptive_method_used": 3,
          "standard_of_living_index": 4,
          "wife_age": 34,
          "wife_education": 4,
          "wife_religion": 1
         },
         {
          "contraceptive_method_used": 2,
          "standard_of_living_index": 3,
          "wife_age": 24,
          "wife_education": 4,
          "wife_religion": 1
         },
         {
          "contraceptive_method_used": 2,
          "standard_of_living_index": 3,
          "wife_age": 44,
          "wife_education": 4,
          "wife_religion": 1
         },
         {
          "contraceptive_method_used": 3,
          "standard_of_living_index": 4,
          "wife_age": 33,
          "wife_education": 2,
          "wife_religion": 1
         },
         {
          "contraceptive_method_used": 1,
          "standard_of_living_index": 4,
          "wife_age": 26,
          "wife_education": 4,
          "wife_religion": 1
         },
         {
          "contraceptive_method_used": 2,
          "standard_of_living_index": 3,
          "wife_age": 36,
          "wife_education": 4,
          "wife_religion": 0
         },
         {
          "contraceptive_method_used": 2,
          "standard_of_living_index": 4,
          "wife_age": 41,
          "wife_education": 4,
          "wife_religion": 1
         },
         {
          "contraceptive_method_used": 3,
          "standard_of_living_index": 4,
          "wife_age": 36,
          "wife_education": 4,
          "wife_religion": 0
         },
         {
          "contraceptive_method_used": 1,
          "standard_of_living_index": 2,
          "wife_age": 31,
          "wife_education": 4,
          "wife_religion": 1
         },
         {
          "contraceptive_method_used": 1,
          "standard_of_living_index": 4,
          "wife_age": 20,
          "wife_education": 2,
          "wife_religion": 1
         },
         {
          "contraceptive_method_used": 3,
          "standard_of_living_index": 4,
          "wife_age": 38,
          "wife_education": 4,
          "wife_religion": 1
         },
         {
          "contraceptive_method_used": 3,
          "standard_of_living_index": 1,
          "wife_age": 32,
          "wife_education": 3,
          "wife_religion": 1
         },
         {
          "contraceptive_method_used": 3,
          "standard_of_living_index": 4,
          "wife_age": 25,
          "wife_education": 3,
          "wife_religion": 1
         },
         {
          "contraceptive_method_used": 3,
          "standard_of_living_index": 2,
          "wife_age": 24,
          "wife_education": 3,
          "wife_religion": 1
         },
         {
          "contraceptive_method_used": 1,
          "standard_of_living_index": 1,
          "wife_age": 25,
          "wife_education": 1,
          "wife_religion": 1
         },
         {
          "contraceptive_method_used": 3,
          "standard_of_living_index": 3,
          "wife_age": 33,
          "wife_education": 4,
          "wife_religion": 1
         },
         {
          "contraceptive_method_used": 1,
          "standard_of_living_index": 4,
          "wife_age": 49,
          "wife_education": 2,
          "wife_religion": 1
         },
         {
          "contraceptive_method_used": 3,
          "standard_of_living_index": 4,
          "wife_age": 25,
          "wife_education": 4,
          "wife_religion": 1
         },
         {
          "contraceptive_method_used": 1,
          "standard_of_living_index": 2,
          "wife_age": 22,
          "wife_education": 2,
          "wife_religion": 1
         },
         {
          "contraceptive_method_used": 1,
          "standard_of_living_index": 4,
          "wife_age": 26,
          "wife_education": 4,
          "wife_religion": 1
         },
         {
          "contraceptive_method_used": 1,
          "standard_of_living_index": 1,
          "wife_age": 19,
          "wife_education": 2,
          "wife_religion": 1
         },
         {
          "contraceptive_method_used": 1,
          "standard_of_living_index": 3,
          "wife_age": 48,
          "wife_education": 1,
          "wife_religion": 1
         },
         {
          "contraceptive_method_used": 1,
          "standard_of_living_index": 4,
          "wife_age": 48,
          "wife_education": 4,
          "wife_religion": 0
         },
         {
          "contraceptive_method_used": 2,
          "standard_of_living_index": 3,
          "wife_age": 36,
          "wife_education": 3,
          "wife_religion": 1
         },
         {
          "contraceptive_method_used": 3,
          "standard_of_living_index": 3,
          "wife_age": 35,
          "wife_education": 1,
          "wife_religion": 1
         },
         {
          "contraceptive_method_used": 3,
          "standard_of_living_index": 3,
          "wife_age": 20,
          "wife_education": 4,
          "wife_religion": 1
         },
         {
          "contraceptive_method_used": 1,
          "standard_of_living_index": 4,
          "wife_age": 34,
          "wife_education": 2,
          "wife_religion": 1
         },
         {
          "contraceptive_method_used": 1,
          "standard_of_living_index": 2,
          "wife_age": 39,
          "wife_education": 2,
          "wife_religion": 1
         },
         {
          "contraceptive_method_used": 1,
          "standard_of_living_index": 3,
          "wife_age": 21,
          "wife_education": 3,
          "wife_religion": 1
         },
         {
          "contraceptive_method_used": 1,
          "standard_of_living_index": 4,
          "wife_age": 36,
          "wife_education": 3,
          "wife_religion": 1
         },
         {
          "contraceptive_method_used": 1,
          "standard_of_living_index": 4,
          "wife_age": 47,
          "wife_education": 1,
          "wife_religion": 1
         },
         {
          "contraceptive_method_used": 1,
          "standard_of_living_index": 1,
          "wife_age": 46,
          "wife_education": 1,
          "wife_religion": 1
         },
         {
          "contraceptive_method_used": 1,
          "standard_of_living_index": 2,
          "wife_age": 25,
          "wife_education": 3,
          "wife_religion": 1
         },
         {
          "contraceptive_method_used": 3,
          "standard_of_living_index": 3,
          "wife_age": 34,
          "wife_education": 3,
          "wife_religion": 1
         },
         {
          "contraceptive_method_used": 1,
          "standard_of_living_index": 2,
          "wife_age": 45,
          "wife_education": 2,
          "wife_religion": 1
         },
         {
          "contraceptive_method_used": 1,
          "standard_of_living_index": 3,
          "wife_age": 40,
          "wife_education": 3,
          "wife_religion": 1
         },
         {
          "contraceptive_method_used": 1,
          "standard_of_living_index": 3,
          "wife_age": 35,
          "wife_education": 3,
          "wife_religion": 0
         },
         {
          "contraceptive_method_used": 1,
          "standard_of_living_index": 2,
          "wife_age": 38,
          "wife_education": 2,
          "wife_religion": 0
         },
         {
          "contraceptive_method_used": 1,
          "standard_of_living_index": 4,
          "wife_age": 30,
          "wife_education": 2,
          "wife_religion": 1
         },
         {
          "contraceptive_method_used": 1,
          "standard_of_living_index": 2,
          "wife_age": 35,
          "wife_education": 1,
          "wife_religion": 1
         },
         {
          "contraceptive_method_used": 3,
          "standard_of_living_index": 4,
          "wife_age": 28,
          "wife_education": 2,
          "wife_religion": 1
         },
         {
          "contraceptive_method_used": 2,
          "standard_of_living_index": 4,
          "wife_age": 42,
          "wife_education": 4,
          "wife_religion": 0
         },
         {
          "contraceptive_method_used": 2,
          "standard_of_living_index": 4,
          "wife_age": 26,
          "wife_education": 2,
          "wife_religion": 1
         },
         {
          "contraceptive_method_used": 1,
          "standard_of_living_index": 2,
          "wife_age": 31,
          "wife_education": 4,
          "wife_religion": 1
         },
         {
          "contraceptive_method_used": 3,
          "standard_of_living_index": 3,
          "wife_age": 35,
          "wife_education": 2,
          "wife_religion": 1
         },
         {
          "contraceptive_method_used": 3,
          "standard_of_living_index": 4,
          "wife_age": 36,
          "wife_education": 4,
          "wife_religion": 1
         },
         {
          "contraceptive_method_used": 2,
          "standard_of_living_index": 3,
          "wife_age": 35,
          "wife_education": 3,
          "wife_religion": 1
         },
         {
          "contraceptive_method_used": 3,
          "standard_of_living_index": 4,
          "wife_age": 35,
          "wife_education": 1,
          "wife_religion": 1
         },
         {
          "contraceptive_method_used": 3,
          "standard_of_living_index": 2,
          "wife_age": 38,
          "wife_education": 3,
          "wife_religion": 1
         },
         {
          "contraceptive_method_used": 3,
          "standard_of_living_index": 4,
          "wife_age": 48,
          "wife_education": 3,
          "wife_religion": 1
         },
         {
          "contraceptive_method_used": 2,
          "standard_of_living_index": 4,
          "wife_age": 25,
          "wife_education": 2,
          "wife_religion": 1
         },
         {
          "contraceptive_method_used": 2,
          "standard_of_living_index": 3,
          "wife_age": 31,
          "wife_education": 2,
          "wife_religion": 1
         },
         {
          "contraceptive_method_used": 3,
          "standard_of_living_index": 1,
          "wife_age": 23,
          "wife_education": 2,
          "wife_religion": 1
         },
         {
          "contraceptive_method_used": 1,
          "standard_of_living_index": 2,
          "wife_age": 33,
          "wife_education": 2,
          "wife_religion": 1
         },
         {
          "contraceptive_method_used": 3,
          "standard_of_living_index": 4,
          "wife_age": 40,
          "wife_education": 4,
          "wife_religion": 1
         },
         {
          "contraceptive_method_used": 1,
          "standard_of_living_index": 3,
          "wife_age": 44,
          "wife_education": 3,
          "wife_religion": 1
         },
         {
          "contraceptive_method_used": 2,
          "standard_of_living_index": 3,
          "wife_age": 43,
          "wife_education": 2,
          "wife_religion": 1
         },
         {
          "contraceptive_method_used": 1,
          "standard_of_living_index": 2,
          "wife_age": 36,
          "wife_education": 1,
          "wife_religion": 1
         },
         {
          "contraceptive_method_used": 1,
          "standard_of_living_index": 4,
          "wife_age": 29,
          "wife_education": 1,
          "wife_religion": 1
         },
         {
          "contraceptive_method_used": 2,
          "standard_of_living_index": 4,
          "wife_age": 27,
          "wife_education": 3,
          "wife_religion": 1
         },
         {
          "contraceptive_method_used": 2,
          "standard_of_living_index": 4,
          "wife_age": 26,
          "wife_education": 3,
          "wife_religion": 1
         },
         {
          "contraceptive_method_used": 3,
          "standard_of_living_index": 2,
          "wife_age": 24,
          "wife_education": 1,
          "wife_religion": 1
         },
         {
          "contraceptive_method_used": 3,
          "standard_of_living_index": 3,
          "wife_age": 30,
          "wife_education": 2,
          "wife_religion": 1
         },
         {
          "contraceptive_method_used": 3,
          "standard_of_living_index": 4,
          "wife_age": 32,
          "wife_education": 4,
          "wife_religion": 0
         },
         {
          "contraceptive_method_used": 3,
          "standard_of_living_index": 3,
          "wife_age": 27,
          "wife_education": 4,
          "wife_religion": 0
         },
         {
          "contraceptive_method_used": 2,
          "standard_of_living_index": 4,
          "wife_age": 30,
          "wife_education": 4,
          "wife_religion": 0
         },
         {
          "contraceptive_method_used": 3,
          "standard_of_living_index": 4,
          "wife_age": 29,
          "wife_education": 4,
          "wife_religion": 1
         },
         {
          "contraceptive_method_used": 3,
          "standard_of_living_index": 3,
          "wife_age": 41,
          "wife_education": 1,
          "wife_religion": 1
         },
         {
          "contraceptive_method_used": 3,
          "standard_of_living_index": 4,
          "wife_age": 36,
          "wife_education": 4,
          "wife_religion": 0
         },
         {
          "contraceptive_method_used": 3,
          "standard_of_living_index": 2,
          "wife_age": 29,
          "wife_education": 3,
          "wife_religion": 1
         },
         {
          "contraceptive_method_used": 1,
          "standard_of_living_index": 4,
          "wife_age": 45,
          "wife_education": 4,
          "wife_religion": 1
         },
         {
          "contraceptive_method_used": 3,
          "standard_of_living_index": 4,
          "wife_age": 32,
          "wife_education": 4,
          "wife_religion": 1
         },
         {
          "contraceptive_method_used": 1,
          "standard_of_living_index": 2,
          "wife_age": 25,
          "wife_education": 4,
          "wife_religion": 1
         },
         {
          "contraceptive_method_used": 1,
          "standard_of_living_index": 1,
          "wife_age": 25,
          "wife_education": 2,
          "wife_religion": 1
         },
         {
          "contraceptive_method_used": 3,
          "standard_of_living_index": 4,
          "wife_age": 35,
          "wife_education": 3,
          "wife_religion": 1
         },
         {
          "contraceptive_method_used": 1,
          "standard_of_living_index": 2,
          "wife_age": 32,
          "wife_education": 2,
          "wife_religion": 1
         },
         {
          "contraceptive_method_used": 3,
          "standard_of_living_index": 3,
          "wife_age": 22,
          "wife_education": 2,
          "wife_religion": 1
         },
         {
          "contraceptive_method_used": 3,
          "standard_of_living_index": 4,
          "wife_age": 22,
          "wife_education": 3,
          "wife_religion": 1
         },
         {
          "contraceptive_method_used": 3,
          "standard_of_living_index": 3,
          "wife_age": 28,
          "wife_education": 4,
          "wife_religion": 1
         },
         {
          "contraceptive_method_used": 1,
          "standard_of_living_index": 3,
          "wife_age": 48,
          "wife_education": 1,
          "wife_religion": 1
         },
         {
          "contraceptive_method_used": 1,
          "standard_of_living_index": 1,
          "wife_age": 47,
          "wife_education": 2,
          "wife_religion": 1
         },
         {
          "contraceptive_method_used": 1,
          "standard_of_living_index": 2,
          "wife_age": 31,
          "wife_education": 1,
          "wife_religion": 1
         },
         {
          "contraceptive_method_used": 3,
          "standard_of_living_index": 4,
          "wife_age": 30,
          "wife_education": 3,
          "wife_religion": 1
         },
         {
          "contraceptive_method_used": 3,
          "standard_of_living_index": 2,
          "wife_age": 25,
          "wife_education": 3,
          "wife_religion": 1
         },
         {
          "contraceptive_method_used": 3,
          "standard_of_living_index": 1,
          "wife_age": 25,
          "wife_education": 3,
          "wife_religion": 1
         },
         {
          "contraceptive_method_used": 3,
          "standard_of_living_index": 1,
          "wife_age": 27,
          "wife_education": 2,
          "wife_religion": 1
         },
         {
          "contraceptive_method_used": 3,
          "standard_of_living_index": 3,
          "wife_age": 24,
          "wife_education": 4,
          "wife_religion": 1
         },
         {
          "contraceptive_method_used": 1,
          "standard_of_living_index": 4,
          "wife_age": 34,
          "wife_education": 4,
          "wife_religion": 0
         },
         {
          "contraceptive_method_used": 2,
          "standard_of_living_index": 2,
          "wife_age": 44,
          "wife_education": 4,
          "wife_religion": 1
         },
         {
          "contraceptive_method_used": 1,
          "standard_of_living_index": 4,
          "wife_age": 24,
          "wife_education": 2,
          "wife_religion": 1
         },
         {
          "contraceptive_method_used": 1,
          "standard_of_living_index": 3,
          "wife_age": 26,
          "wife_education": 4,
          "wife_religion": 1
         },
         {
          "contraceptive_method_used": 2,
          "standard_of_living_index": 4,
          "wife_age": 37,
          "wife_education": 4,
          "wife_religion": 1
         },
         {
          "contraceptive_method_used": 3,
          "standard_of_living_index": 3,
          "wife_age": 26,
          "wife_education": 3,
          "wife_religion": 1
         },
         {
          "contraceptive_method_used": 1,
          "standard_of_living_index": 3,
          "wife_age": 18,
          "wife_education": 3,
          "wife_religion": 1
         },
         {
          "contraceptive_method_used": 2,
          "standard_of_living_index": 3,
          "wife_age": 29,
          "wife_education": 4,
          "wife_religion": 1
         },
         {
          "contraceptive_method_used": 2,
          "standard_of_living_index": 4,
          "wife_age": 22,
          "wife_education": 3,
          "wife_religion": 1
         },
         {
          "contraceptive_method_used": 2,
          "standard_of_living_index": 3,
          "wife_age": 32,
          "wife_education": 4,
          "wife_religion": 1
         },
         {
          "contraceptive_method_used": 1,
          "standard_of_living_index": 4,
          "wife_age": 27,
          "wife_education": 4,
          "wife_religion": 0
         },
         {
          "contraceptive_method_used": 1,
          "standard_of_living_index": 3,
          "wife_age": 34,
          "wife_education": 4,
          "wife_religion": 1
         },
         {
          "contraceptive_method_used": 3,
          "standard_of_living_index": 3,
          "wife_age": 32,
          "wife_education": 4,
          "wife_religion": 1
         },
         {
          "contraceptive_method_used": 2,
          "standard_of_living_index": 3,
          "wife_age": 30,
          "wife_education": 3,
          "wife_religion": 1
         },
         {
          "contraceptive_method_used": 2,
          "standard_of_living_index": 3,
          "wife_age": 31,
          "wife_education": 4,
          "wife_religion": 1
         },
         {
          "contraceptive_method_used": 1,
          "standard_of_living_index": 3,
          "wife_age": 29,
          "wife_education": 3,
          "wife_religion": 1
         },
         {
          "contraceptive_method_used": 1,
          "standard_of_living_index": 1,
          "wife_age": 27,
          "wife_education": 1,
          "wife_religion": 1
         },
         {
          "contraceptive_method_used": 1,
          "standard_of_living_index": 3,
          "wife_age": 31,
          "wife_education": 3,
          "wife_religion": 1
         },
         {
          "contraceptive_method_used": 2,
          "standard_of_living_index": 4,
          "wife_age": 34,
          "wife_education": 3,
          "wife_religion": 0
         },
         {
          "contraceptive_method_used": 1,
          "standard_of_living_index": 4,
          "wife_age": 24,
          "wife_education": 2,
          "wife_religion": 1
         },
         {
          "contraceptive_method_used": 1,
          "standard_of_living_index": 2,
          "wife_age": 25,
          "wife_education": 3,
          "wife_religion": 1
         },
         {
          "contraceptive_method_used": 1,
          "standard_of_living_index": 3,
          "wife_age": 42,
          "wife_education": 2,
          "wife_religion": 1
         },
         {
          "contraceptive_method_used": 1,
          "standard_of_living_index": 4,
          "wife_age": 48,
          "wife_education": 1,
          "wife_religion": 1
         },
         {
          "contraceptive_method_used": 3,
          "standard_of_living_index": 3,
          "wife_age": 24,
          "wife_education": 4,
          "wife_religion": 1
         },
         {
          "contraceptive_method_used": 3,
          "standard_of_living_index": 4,
          "wife_age": 39,
          "wife_education": 4,
          "wife_religion": 1
         },
         {
          "contraceptive_method_used": 1,
          "standard_of_living_index": 3,
          "wife_age": 43,
          "wife_education": 4,
          "wife_religion": 1
         },
         {
          "contraceptive_method_used": 3,
          "standard_of_living_index": 3,
          "wife_age": 36,
          "wife_education": 4,
          "wife_religion": 1
         },
         {
          "contraceptive_method_used": 1,
          "standard_of_living_index": 2,
          "wife_age": 40,
          "wife_education": 3,
          "wife_religion": 1
         },
         {
          "contraceptive_method_used": 2,
          "standard_of_living_index": 4,
          "wife_age": 41,
          "wife_education": 4,
          "wife_religion": 0
         },
         {
          "contraceptive_method_used": 3,
          "standard_of_living_index": 3,
          "wife_age": 17,
          "wife_education": 3,
          "wife_religion": 1
         },
         {
          "contraceptive_method_used": 1,
          "standard_of_living_index": 3,
          "wife_age": 23,
          "wife_education": 3,
          "wife_religion": 1
         },
         {
          "contraceptive_method_used": 1,
          "standard_of_living_index": 1,
          "wife_age": 28,
          "wife_education": 4,
          "wife_religion": 1
         },
         {
          "contraceptive_method_used": 1,
          "standard_of_living_index": 1,
          "wife_age": 48,
          "wife_education": 1,
          "wife_religion": 1
         },
         {
          "contraceptive_method_used": 1,
          "standard_of_living_index": 1,
          "wife_age": 39,
          "wife_education": 2,
          "wife_religion": 1
         },
         {
          "contraceptive_method_used": 1,
          "standard_of_living_index": 4,
          "wife_age": 39,
          "wife_education": 4,
          "wife_religion": 1
         },
         {
          "contraceptive_method_used": 1,
          "standard_of_living_index": 4,
          "wife_age": 30,
          "wife_education": 4,
          "wife_religion": 1
         },
         {
          "contraceptive_method_used": 1,
          "standard_of_living_index": 3,
          "wife_age": 34,
          "wife_education": 4,
          "wife_religion": 1
         },
         {
          "contraceptive_method_used": 1,
          "standard_of_living_index": 1,
          "wife_age": 25,
          "wife_education": 2,
          "wife_religion": 1
         },
         {
          "contraceptive_method_used": 3,
          "standard_of_living_index": 3,
          "wife_age": 47,
          "wife_education": 1,
          "wife_religion": 1
         },
         {
          "contraceptive_method_used": 1,
          "standard_of_living_index": 2,
          "wife_age": 25,
          "wife_education": 2,
          "wife_religion": 1
         },
         {
          "contraceptive_method_used": 1,
          "standard_of_living_index": 3,
          "wife_age": 34,
          "wife_education": 3,
          "wife_religion": 1
         },
         {
          "contraceptive_method_used": 1,
          "standard_of_living_index": 3,
          "wife_age": 20,
          "wife_education": 3,
          "wife_religion": 1
         },
         {
          "contraceptive_method_used": 1,
          "standard_of_living_index": 4,
          "wife_age": 39,
          "wife_education": 3,
          "wife_religion": 1
         },
         {
          "contraceptive_method_used": 1,
          "standard_of_living_index": 4,
          "wife_age": 36,
          "wife_education": 3,
          "wife_religion": 1
         },
         {
          "contraceptive_method_used": 1,
          "standard_of_living_index": 4,
          "wife_age": 49,
          "wife_education": 4,
          "wife_religion": 1
         },
         {
          "contraceptive_method_used": 3,
          "standard_of_living_index": 4,
          "wife_age": 42,
          "wife_education": 4,
          "wife_religion": 0
         },
         {
          "contraceptive_method_used": 2,
          "standard_of_living_index": 3,
          "wife_age": 40,
          "wife_education": 4,
          "wife_religion": 1
         },
         {
          "contraceptive_method_used": 1,
          "standard_of_living_index": 1,
          "wife_age": 35,
          "wife_education": 2,
          "wife_religion": 1
         },
         {
          "contraceptive_method_used": 2,
          "standard_of_living_index": 4,
          "wife_age": 45,
          "wife_education": 4,
          "wife_religion": 1
         },
         {
          "contraceptive_method_used": 3,
          "standard_of_living_index": 3,
          "wife_age": 25,
          "wife_education": 2,
          "wife_religion": 1
         },
         {
          "contraceptive_method_used": 1,
          "standard_of_living_index": 3,
          "wife_age": 20,
          "wife_education": 3,
          "wife_religion": 1
         },
         {
          "contraceptive_method_used": 1,
          "standard_of_living_index": 4,
          "wife_age": 23,
          "wife_education": 3,
          "wife_religion": 1
         },
         {
          "contraceptive_method_used": 3,
          "standard_of_living_index": 2,
          "wife_age": 23,
          "wife_education": 3,
          "wife_religion": 1
         },
         {
          "contraceptive_method_used": 2,
          "standard_of_living_index": 4,
          "wife_age": 37,
          "wife_education": 4,
          "wife_religion": 1
         },
         {
          "contraceptive_method_used": 1,
          "standard_of_living_index": 4,
          "wife_age": 47,
          "wife_education": 1,
          "wife_religion": 1
         },
         {
          "contraceptive_method_used": 1,
          "standard_of_living_index": 4,
          "wife_age": 26,
          "wife_education": 2,
          "wife_religion": 1
         },
         {
          "contraceptive_method_used": 1,
          "standard_of_living_index": 1,
          "wife_age": 29,
          "wife_education": 2,
          "wife_religion": 1
         },
         {
          "contraceptive_method_used": 1,
          "standard_of_living_index": 3,
          "wife_age": 18,
          "wife_education": 2,
          "wife_religion": 1
         },
         {
          "contraceptive_method_used": 2,
          "standard_of_living_index": 4,
          "wife_age": 39,
          "wife_education": 4,
          "wife_religion": 1
         },
         {
          "contraceptive_method_used": 3,
          "standard_of_living_index": 4,
          "wife_age": 33,
          "wife_education": 3,
          "wife_religion": 1
         },
         {
          "contraceptive_method_used": 3,
          "standard_of_living_index": 4,
          "wife_age": 19,
          "wife_education": 4,
          "wife_religion": 1
         },
         {
          "contraceptive_method_used": 1,
          "standard_of_living_index": 4,
          "wife_age": 30,
          "wife_education": 4,
          "wife_religion": 1
         },
         {
          "contraceptive_method_used": 3,
          "standard_of_living_index": 4,
          "wife_age": 21,
          "wife_education": 2,
          "wife_religion": 0
         },
         {
          "contraceptive_method_used": 2,
          "standard_of_living_index": 4,
          "wife_age": 43,
          "wife_education": 4,
          "wife_religion": 0
         },
         {
          "contraceptive_method_used": 1,
          "standard_of_living_index": 1,
          "wife_age": 25,
          "wife_education": 3,
          "wife_religion": 1
         },
         {
          "contraceptive_method_used": 2,
          "standard_of_living_index": 4,
          "wife_age": 48,
          "wife_education": 4,
          "wife_religion": 0
         },
         {
          "contraceptive_method_used": 1,
          "standard_of_living_index": 3,
          "wife_age": 42,
          "wife_education": 1,
          "wife_religion": 1
         },
         {
          "contraceptive_method_used": 3,
          "standard_of_living_index": 4,
          "wife_age": 24,
          "wife_education": 3,
          "wife_religion": 1
         },
         {
          "contraceptive_method_used": 3,
          "standard_of_living_index": 2,
          "wife_age": 20,
          "wife_education": 3,
          "wife_religion": 1
         },
         {
          "contraceptive_method_used": 1,
          "standard_of_living_index": 3,
          "wife_age": 29,
          "wife_education": 3,
          "wife_religion": 1
         },
         {
          "contraceptive_method_used": 1,
          "standard_of_living_index": 3,
          "wife_age": 41,
          "wife_education": 1,
          "wife_religion": 1
         },
         {
          "contraceptive_method_used": 2,
          "standard_of_living_index": 3,
          "wife_age": 26,
          "wife_education": 2,
          "wife_religion": 1
         },
         {
          "contraceptive_method_used": 3,
          "standard_of_living_index": 3,
          "wife_age": 32,
          "wife_education": 1,
          "wife_religion": 0
         },
         {
          "contraceptive_method_used": 2,
          "standard_of_living_index": 4,
          "wife_age": 39,
          "wife_education": 4,
          "wife_religion": 1
         },
         {
          "contraceptive_method_used": 1,
          "standard_of_living_index": 4,
          "wife_age": 22,
          "wife_education": 1,
          "wife_religion": 1
         },
         {
          "contraceptive_method_used": 3,
          "standard_of_living_index": 4,
          "wife_age": 36,
          "wife_education": 4,
          "wife_religion": 1
         },
         {
          "contraceptive_method_used": 1,
          "standard_of_living_index": 3,
          "wife_age": 45,
          "wife_education": 1,
          "wife_religion": 1
         },
         {
          "contraceptive_method_used": 1,
          "standard_of_living_index": 4,
          "wife_age": 44,
          "wife_education": 4,
          "wife_religion": 1
         },
         {
          "contraceptive_method_used": 1,
          "standard_of_living_index": 1,
          "wife_age": 22,
          "wife_education": 2,
          "wife_religion": 1
         },
         {
          "contraceptive_method_used": 3,
          "standard_of_living_index": 4,
          "wife_age": 42,
          "wife_education": 2,
          "wife_religion": 1
         },
         {
          "contraceptive_method_used": 1,
          "standard_of_living_index": 3,
          "wife_age": 32,
          "wife_education": 2,
          "wife_religion": 1
         },
         {
          "contraceptive_method_used": 3,
          "standard_of_living_index": 3,
          "wife_age": 22,
          "wife_education": 2,
          "wife_religion": 1
         },
         {
          "contraceptive_method_used": 1,
          "standard_of_living_index": 2,
          "wife_age": 27,
          "wife_education": 3,
          "wife_religion": 1
         },
         {
          "contraceptive_method_used": 1,
          "standard_of_living_index": 1,
          "wife_age": 21,
          "wife_education": 3,
          "wife_religion": 1
         },
         {
          "contraceptive_method_used": 1,
          "standard_of_living_index": 4,
          "wife_age": 47,
          "wife_education": 3,
          "wife_religion": 1
         },
         {
          "contraceptive_method_used": 3,
          "standard_of_living_index": 3,
          "wife_age": 28,
          "wife_education": 3,
          "wife_religion": 1
         },
         {
          "contraceptive_method_used": 2,
          "standard_of_living_index": 4,
          "wife_age": 42,
          "wife_education": 2,
          "wife_religion": 1
         },
         {
          "contraceptive_method_used": 1,
          "standard_of_living_index": 4,
          "wife_age": 30,
          "wife_education": 2,
          "wife_religion": 1
         },
         {
          "contraceptive_method_used": 1,
          "standard_of_living_index": 4,
          "wife_age": 31,
          "wife_education": 4,
          "wife_religion": 1
         },
         {
          "contraceptive_method_used": 1,
          "standard_of_living_index": 4,
          "wife_age": 40,
          "wife_education": 4,
          "wife_religion": 1
         },
         {
          "contraceptive_method_used": 3,
          "standard_of_living_index": 1,
          "wife_age": 30,
          "wife_education": 2,
          "wife_religion": 1
         },
         {
          "contraceptive_method_used": 2,
          "standard_of_living_index": 4,
          "wife_age": 37,
          "wife_education": 4,
          "wife_religion": 1
         },
         {
          "contraceptive_method_used": 1,
          "standard_of_living_index": 2,
          "wife_age": 21,
          "wife_education": 3,
          "wife_religion": 1
         },
         {
          "contraceptive_method_used": 2,
          "standard_of_living_index": 4,
          "wife_age": 35,
          "wife_education": 4,
          "wife_religion": 1
         },
         {
          "contraceptive_method_used": 3,
          "standard_of_living_index": 1,
          "wife_age": 22,
          "wife_education": 1,
          "wife_religion": 1
         },
         {
          "contraceptive_method_used": 2,
          "standard_of_living_index": 4,
          "wife_age": 34,
          "wife_education": 4,
          "wife_religion": 1
         },
         {
          "contraceptive_method_used": 1,
          "standard_of_living_index": 1,
          "wife_age": 23,
          "wife_education": 3,
          "wife_religion": 1
         },
         {
          "contraceptive_method_used": 3,
          "standard_of_living_index": 3,
          "wife_age": 19,
          "wife_education": 3,
          "wife_religion": 1
         },
         {
          "contraceptive_method_used": 2,
          "standard_of_living_index": 4,
          "wife_age": 34,
          "wife_education": 1,
          "wife_religion": 1
         },
         {
          "contraceptive_method_used": 1,
          "standard_of_living_index": 4,
          "wife_age": 47,
          "wife_education": 2,
          "wife_religion": 0
         },
         {
          "contraceptive_method_used": 1,
          "standard_of_living_index": 3,
          "wife_age": 25,
          "wife_education": 2,
          "wife_religion": 1
         },
         {
          "contraceptive_method_used": 2,
          "standard_of_living_index": 4,
          "wife_age": 34,
          "wife_education": 4,
          "wife_religion": 1
         },
         {
          "contraceptive_method_used": 3,
          "standard_of_living_index": 3,
          "wife_age": 30,
          "wife_education": 3,
          "wife_religion": 1
         },
         {
          "contraceptive_method_used": 2,
          "standard_of_living_index": 4,
          "wife_age": 34,
          "wife_education": 3,
          "wife_religion": 1
         },
         {
          "contraceptive_method_used": 1,
          "standard_of_living_index": 4,
          "wife_age": 42,
          "wife_education": 4,
          "wife_religion": 1
         },
         {
          "contraceptive_method_used": 2,
          "standard_of_living_index": 4,
          "wife_age": 23,
          "wife_education": 3,
          "wife_religion": 1
         },
         {
          "contraceptive_method_used": 3,
          "standard_of_living_index": 4,
          "wife_age": 29,
          "wife_education": 3,
          "wife_religion": 1
         },
         {
          "contraceptive_method_used": 1,
          "standard_of_living_index": 4,
          "wife_age": 41,
          "wife_education": 3,
          "wife_religion": 1
         },
         {
          "contraceptive_method_used": 1,
          "standard_of_living_index": 4,
          "wife_age": 38,
          "wife_education": 3,
          "wife_religion": 1
         },
         {
          "contraceptive_method_used": 1,
          "standard_of_living_index": 4,
          "wife_age": 20,
          "wife_education": 2,
          "wife_religion": 1
         },
         {
          "contraceptive_method_used": 1,
          "standard_of_living_index": 3,
          "wife_age": 40,
          "wife_education": 3,
          "wife_religion": 1
         },
         {
          "contraceptive_method_used": 3,
          "standard_of_living_index": 2,
          "wife_age": 21,
          "wife_education": 3,
          "wife_religion": 1
         },
         {
          "contraceptive_method_used": 2,
          "standard_of_living_index": 4,
          "wife_age": 43,
          "wife_education": 3,
          "wife_religion": 1
         },
         {
          "contraceptive_method_used": 2,
          "standard_of_living_index": 4,
          "wife_age": 43,
          "wife_education": 4,
          "wife_religion": 0
         },
         {
          "contraceptive_method_used": 1,
          "standard_of_living_index": 3,
          "wife_age": 45,
          "wife_education": 1,
          "wife_religion": 1
         },
         {
          "contraceptive_method_used": 1,
          "standard_of_living_index": 2,
          "wife_age": 42,
          "wife_education": 1,
          "wife_religion": 0
         },
         {
          "contraceptive_method_used": 1,
          "standard_of_living_index": 3,
          "wife_age": 35,
          "wife_education": 4,
          "wife_religion": 0
         },
         {
          "contraceptive_method_used": 3,
          "standard_of_living_index": 4,
          "wife_age": 34,
          "wife_education": 3,
          "wife_religion": 0
         },
         {
          "contraceptive_method_used": 1,
          "standard_of_living_index": 3,
          "wife_age": 48,
          "wife_education": 2,
          "wife_religion": 1
         },
         {
          "contraceptive_method_used": 3,
          "standard_of_living_index": 2,
          "wife_age": 34,
          "wife_education": 4,
          "wife_religion": 1
         },
         {
          "contraceptive_method_used": 2,
          "standard_of_living_index": 3,
          "wife_age": 41,
          "wife_education": 3,
          "wife_religion": 1
         },
         {
          "contraceptive_method_used": 2,
          "standard_of_living_index": 4,
          "wife_age": 39,
          "wife_education": 4,
          "wife_religion": 0
         },
         {
          "contraceptive_method_used": 2,
          "standard_of_living_index": 4,
          "wife_age": 35,
          "wife_education": 2,
          "wife_religion": 0
         },
         {
          "contraceptive_method_used": 3,
          "standard_of_living_index": 4,
          "wife_age": 30,
          "wife_education": 2,
          "wife_religion": 1
         },
         {
          "contraceptive_method_used": 1,
          "standard_of_living_index": 1,
          "wife_age": 43,
          "wife_education": 1,
          "wife_religion": 1
         },
         {
          "contraceptive_method_used": 2,
          "standard_of_living_index": 4,
          "wife_age": 37,
          "wife_education": 4,
          "wife_religion": 1
         },
         {
          "contraceptive_method_used": 2,
          "standard_of_living_index": 4,
          "wife_age": 36,
          "wife_education": 4,
          "wife_religion": 0
         },
         {
          "contraceptive_method_used": 1,
          "standard_of_living_index": 3,
          "wife_age": 48,
          "wife_education": 3,
          "wife_religion": 1
         },
         {
          "contraceptive_method_used": 3,
          "standard_of_living_index": 3,
          "wife_age": 32,
          "wife_education": 4,
          "wife_religion": 1
         },
         {
          "contraceptive_method_used": 2,
          "standard_of_living_index": 4,
          "wife_age": 39,
          "wife_education": 4,
          "wife_religion": 0
         },
         {
          "contraceptive_method_used": 1,
          "standard_of_living_index": 2,
          "wife_age": 47,
          "wife_education": 1,
          "wife_religion": 1
         },
         {
          "contraceptive_method_used": 3,
          "standard_of_living_index": 4,
          "wife_age": 32,
          "wife_education": 2,
          "wife_religion": 1
         },
         {
          "contraceptive_method_used": 2,
          "standard_of_living_index": 4,
          "wife_age": 24,
          "wife_education": 4,
          "wife_religion": 1
         },
         {
          "contraceptive_method_used": 1,
          "standard_of_living_index": 3,
          "wife_age": 34,
          "wife_education": 4,
          "wife_religion": 0
         },
         {
          "contraceptive_method_used": 1,
          "standard_of_living_index": 4,
          "wife_age": 42,
          "wife_education": 4,
          "wife_religion": 0
         },
         {
          "contraceptive_method_used": 1,
          "standard_of_living_index": 2,
          "wife_age": 31,
          "wife_education": 3,
          "wife_religion": 1
         },
         {
          "contraceptive_method_used": 1,
          "standard_of_living_index": 3,
          "wife_age": 16,
          "wife_education": 3,
          "wife_religion": 1
         },
         {
          "contraceptive_method_used": 2,
          "standard_of_living_index": 4,
          "wife_age": 31,
          "wife_education": 4,
          "wife_religion": 1
         },
         {
          "contraceptive_method_used": 1,
          "standard_of_living_index": 3,
          "wife_age": 26,
          "wife_education": 2,
          "wife_religion": 1
         },
         {
          "contraceptive_method_used": 3,
          "standard_of_living_index": 4,
          "wife_age": 26,
          "wife_education": 3,
          "wife_religion": 1
         },
         {
          "contraceptive_method_used": 3,
          "standard_of_living_index": 3,
          "wife_age": 29,
          "wife_education": 2,
          "wife_religion": 1
         },
         {
          "contraceptive_method_used": 3,
          "standard_of_living_index": 3,
          "wife_age": 30,
          "wife_education": 3,
          "wife_religion": 1
         },
         {
          "contraceptive_method_used": 2,
          "standard_of_living_index": 1,
          "wife_age": 30,
          "wife_education": 4,
          "wife_religion": 1
         },
         {
          "contraceptive_method_used": 1,
          "standard_of_living_index": 4,
          "wife_age": 32,
          "wife_education": 3,
          "wife_religion": 0
         },
         {
          "contraceptive_method_used": 2,
          "standard_of_living_index": 4,
          "wife_age": 48,
          "wife_education": 4,
          "wife_religion": 1
         },
         {
          "contraceptive_method_used": 2,
          "standard_of_living_index": 4,
          "wife_age": 48,
          "wife_education": 4,
          "wife_religion": 0
         },
         {
          "contraceptive_method_used": 1,
          "standard_of_living_index": 3,
          "wife_age": 24,
          "wife_education": 2,
          "wife_religion": 1
         },
         {
          "contraceptive_method_used": 3,
          "standard_of_living_index": 2,
          "wife_age": 33,
          "wife_education": 3,
          "wife_religion": 1
         },
         {
          "contraceptive_method_used": 1,
          "standard_of_living_index": 2,
          "wife_age": 38,
          "wife_education": 2,
          "wife_religion": 1
         },
         {
          "contraceptive_method_used": 1,
          "standard_of_living_index": 4,
          "wife_age": 40,
          "wife_education": 4,
          "wife_religion": 0
         },
         {
          "contraceptive_method_used": 2,
          "standard_of_living_index": 4,
          "wife_age": 29,
          "wife_education": 3,
          "wife_religion": 1
         },
         {
          "contraceptive_method_used": 1,
          "standard_of_living_index": 4,
          "wife_age": 48,
          "wife_education": 2,
          "wife_religion": 1
         },
         {
          "contraceptive_method_used": 1,
          "standard_of_living_index": 4,
          "wife_age": 24,
          "wife_education": 2,
          "wife_religion": 1
         },
         {
          "contraceptive_method_used": 1,
          "standard_of_living_index": 3,
          "wife_age": 49,
          "wife_education": 4,
          "wife_religion": 1
         },
         {
          "contraceptive_method_used": 2,
          "standard_of_living_index": 4,
          "wife_age": 41,
          "wife_education": 4,
          "wife_religion": 0
         },
         {
          "contraceptive_method_used": 2,
          "standard_of_living_index": 4,
          "wife_age": 42,
          "wife_education": 4,
          "wife_religion": 1
         },
         {
          "contraceptive_method_used": 1,
          "standard_of_living_index": 3,
          "wife_age": 19,
          "wife_education": 4,
          "wife_religion": 1
         },
         {
          "contraceptive_method_used": 3,
          "standard_of_living_index": 1,
          "wife_age": 31,
          "wife_education": 3,
          "wife_religion": 1
         },
         {
          "contraceptive_method_used": 1,
          "standard_of_living_index": 4,
          "wife_age": 37,
          "wife_education": 1,
          "wife_religion": 1
         },
         {
          "contraceptive_method_used": 1,
          "standard_of_living_index": 2,
          "wife_age": 25,
          "wife_education": 2,
          "wife_religion": 1
         },
         {
          "contraceptive_method_used": 1,
          "standard_of_living_index": 2,
          "wife_age": 40,
          "wife_education": 3,
          "wife_religion": 1
         },
         {
          "contraceptive_method_used": 3,
          "standard_of_living_index": 4,
          "wife_age": 44,
          "wife_education": 4,
          "wife_religion": 1
         },
         {
          "contraceptive_method_used": 1,
          "standard_of_living_index": 4,
          "wife_age": 33,
          "wife_education": 4,
          "wife_religion": 0
         },
         {
          "contraceptive_method_used": 1,
          "standard_of_living_index": 3,
          "wife_age": 42,
          "wife_education": 1,
          "wife_religion": 1
         },
         {
          "contraceptive_method_used": 3,
          "standard_of_living_index": 4,
          "wife_age": 26,
          "wife_education": 4,
          "wife_religion": 1
         },
         {
          "contraceptive_method_used": 3,
          "standard_of_living_index": 3,
          "wife_age": 33,
          "wife_education": 4,
          "wife_religion": 0
         },
         {
          "contraceptive_method_used": 3,
          "standard_of_living_index": 3,
          "wife_age": 34,
          "wife_education": 4,
          "wife_religion": 1
         },
         {
          "contraceptive_method_used": 2,
          "standard_of_living_index": 3,
          "wife_age": 40,
          "wife_education": 4,
          "wife_religion": 1
         },
         {
          "contraceptive_method_used": 2,
          "standard_of_living_index": 4,
          "wife_age": 30,
          "wife_education": 2,
          "wife_religion": 1
         },
         {
          "contraceptive_method_used": 1,
          "standard_of_living_index": 2,
          "wife_age": 20,
          "wife_education": 2,
          "wife_religion": 1
         },
         {
          "contraceptive_method_used": 3,
          "standard_of_living_index": 2,
          "wife_age": 24,
          "wife_education": 1,
          "wife_religion": 1
         },
         {
          "contraceptive_method_used": 1,
          "standard_of_living_index": 4,
          "wife_age": 34,
          "wife_education": 1,
          "wife_religion": 1
         },
         {
          "contraceptive_method_used": 3,
          "standard_of_living_index": 4,
          "wife_age": 32,
          "wife_education": 2,
          "wife_religion": 1
         },
         {
          "contraceptive_method_used": 3,
          "standard_of_living_index": 3,
          "wife_age": 21,
          "wife_education": 4,
          "wife_religion": 1
         },
         {
          "contraceptive_method_used": 2,
          "standard_of_living_index": 4,
          "wife_age": 46,
          "wife_education": 4,
          "wife_religion": 1
         },
         {
          "contraceptive_method_used": 3,
          "standard_of_living_index": 3,
          "wife_age": 24,
          "wife_education": 3,
          "wife_religion": 1
         },
         {
          "contraceptive_method_used": 3,
          "standard_of_living_index": 3,
          "wife_age": 30,
          "wife_education": 3,
          "wife_religion": 1
         },
         {
          "contraceptive_method_used": 3,
          "standard_of_living_index": 2,
          "wife_age": 25,
          "wife_education": 2,
          "wife_religion": 1
         },
         {
          "contraceptive_method_used": 3,
          "standard_of_living_index": 4,
          "wife_age": 23,
          "wife_education": 4,
          "wife_religion": 1
         },
         {
          "contraceptive_method_used": 3,
          "standard_of_living_index": 3,
          "wife_age": 22,
          "wife_education": 4,
          "wife_religion": 1
         },
         {
          "contraceptive_method_used": 3,
          "standard_of_living_index": 2,
          "wife_age": 30,
          "wife_education": 3,
          "wife_religion": 1
         },
         {
          "contraceptive_method_used": 3,
          "standard_of_living_index": 4,
          "wife_age": 27,
          "wife_education": 4,
          "wife_religion": 1
         },
         {
          "contraceptive_method_used": 3,
          "standard_of_living_index": 3,
          "wife_age": 25,
          "wife_education": 4,
          "wife_religion": 0
         },
         {
          "contraceptive_method_used": 1,
          "standard_of_living_index": 4,
          "wife_age": 44,
          "wife_education": 4,
          "wife_religion": 1
         },
         {
          "contraceptive_method_used": 3,
          "standard_of_living_index": 4,
          "wife_age": 34,
          "wife_education": 4,
          "wife_religion": 0
         },
         {
          "contraceptive_method_used": 3,
          "standard_of_living_index": 4,
          "wife_age": 26,
          "wife_education": 4,
          "wife_religion": 1
         },
         {
          "contraceptive_method_used": 1,
          "standard_of_living_index": 4,
          "wife_age": 41,
          "wife_education": 3,
          "wife_religion": 0
         },
         {
          "contraceptive_method_used": 2,
          "standard_of_living_index": 4,
          "wife_age": 32,
          "wife_education": 4,
          "wife_religion": 0
         },
         {
          "contraceptive_method_used": 2,
          "standard_of_living_index": 3,
          "wife_age": 31,
          "wife_education": 4,
          "wife_religion": 0
         },
         {
          "contraceptive_method_used": 2,
          "standard_of_living_index": 4,
          "wife_age": 28,
          "wife_education": 3,
          "wife_religion": 1
         },
         {
          "contraceptive_method_used": 1,
          "standard_of_living_index": 4,
          "wife_age": 29,
          "wife_education": 3,
          "wife_religion": 1
         },
         {
          "contraceptive_method_used": 1,
          "standard_of_living_index": 4,
          "wife_age": 23,
          "wife_education": 4,
          "wife_religion": 1
         },
         {
          "contraceptive_method_used": 1,
          "standard_of_living_index": 2,
          "wife_age": 46,
          "wife_education": 3,
          "wife_religion": 1
         },
         {
          "contraceptive_method_used": 3,
          "standard_of_living_index": 4,
          "wife_age": 32,
          "wife_education": 4,
          "wife_religion": 1
         },
         {
          "contraceptive_method_used": 2,
          "standard_of_living_index": 4,
          "wife_age": 46,
          "wife_education": 4,
          "wife_religion": 0
         },
         {
          "contraceptive_method_used": 1,
          "standard_of_living_index": 3,
          "wife_age": 23,
          "wife_education": 2,
          "wife_religion": 1
         },
         {
          "contraceptive_method_used": 3,
          "standard_of_living_index": 4,
          "wife_age": 41,
          "wife_education": 1,
          "wife_religion": 1
         },
         {
          "contraceptive_method_used": 2,
          "standard_of_living_index": 4,
          "wife_age": 49,
          "wife_education": 3,
          "wife_religion": 1
         },
         {
          "contraceptive_method_used": 3,
          "standard_of_living_index": 4,
          "wife_age": 25,
          "wife_education": 4,
          "wife_religion": 1
         },
         {
          "contraceptive_method_used": 3,
          "standard_of_living_index": 4,
          "wife_age": 39,
          "wife_education": 4,
          "wife_religion": 0
         },
         {
          "contraceptive_method_used": 2,
          "standard_of_living_index": 2,
          "wife_age": 40,
          "wife_education": 2,
          "wife_religion": 1
         },
         {
          "contraceptive_method_used": 3,
          "standard_of_living_index": 3,
          "wife_age": 26,
          "wife_education": 4,
          "wife_religion": 1
         },
         {
          "contraceptive_method_used": 1,
          "standard_of_living_index": 3,
          "wife_age": 20,
          "wife_education": 2,
          "wife_religion": 1
         },
         {
          "contraceptive_method_used": 2,
          "standard_of_living_index": 4,
          "wife_age": 32,
          "wife_education": 4,
          "wife_religion": 1
         },
         {
          "contraceptive_method_used": 1,
          "standard_of_living_index": 1,
          "wife_age": 21,
          "wife_education": 2,
          "wife_religion": 1
         },
         {
          "contraceptive_method_used": 1,
          "standard_of_living_index": 4,
          "wife_age": 46,
          "wife_education": 2,
          "wife_religion": 1
         },
         {
          "contraceptive_method_used": 1,
          "standard_of_living_index": 4,
          "wife_age": 35,
          "wife_education": 4,
          "wife_religion": 1
         },
         {
          "contraceptive_method_used": 2,
          "standard_of_living_index": 4,
          "wife_age": 28,
          "wife_education": 4,
          "wife_religion": 0
         },
         {
          "contraceptive_method_used": 3,
          "standard_of_living_index": 3,
          "wife_age": 30,
          "wife_education": 4,
          "wife_religion": 0
         },
         {
          "contraceptive_method_used": 2,
          "standard_of_living_index": 4,
          "wife_age": 32,
          "wife_education": 4,
          "wife_religion": 1
         },
         {
          "contraceptive_method_used": 1,
          "standard_of_living_index": 2,
          "wife_age": 43,
          "wife_education": 1,
          "wife_religion": 1
         },
         {
          "contraceptive_method_used": 3,
          "standard_of_living_index": 4,
          "wife_age": 36,
          "wife_education": 2,
          "wife_religion": 1
         },
         {
          "contraceptive_method_used": 3,
          "standard_of_living_index": 3,
          "wife_age": 25,
          "wife_education": 4,
          "wife_religion": 1
         },
         {
          "contraceptive_method_used": 1,
          "standard_of_living_index": 3,
          "wife_age": 22,
          "wife_education": 3,
          "wife_religion": 1
         },
         {
          "contraceptive_method_used": 2,
          "standard_of_living_index": 3,
          "wife_age": 35,
          "wife_education": 3,
          "wife_religion": 1
         },
         {
          "contraceptive_method_used": 1,
          "standard_of_living_index": 4,
          "wife_age": 27,
          "wife_education": 4,
          "wife_religion": 0
         },
         {
          "contraceptive_method_used": 1,
          "standard_of_living_index": 3,
          "wife_age": 34,
          "wife_education": 4,
          "wife_religion": 0
         },
         {
          "contraceptive_method_used": 3,
          "standard_of_living_index": 3,
          "wife_age": 33,
          "wife_education": 4,
          "wife_religion": 1
         },
         {
          "contraceptive_method_used": 2,
          "standard_of_living_index": 4,
          "wife_age": 31,
          "wife_education": 4,
          "wife_religion": 0
         },
         {
          "contraceptive_method_used": 1,
          "standard_of_living_index": 2,
          "wife_age": 21,
          "wife_education": 2,
          "wife_religion": 1
         },
         {
          "contraceptive_method_used": 3,
          "standard_of_living_index": 3,
          "wife_age": 30,
          "wife_education": 3,
          "wife_religion": 1
         },
         {
          "contraceptive_method_used": 2,
          "standard_of_living_index": 4,
          "wife_age": 33,
          "wife_education": 3,
          "wife_religion": 0
         },
         {
          "contraceptive_method_used": 3,
          "standard_of_living_index": 3,
          "wife_age": 38,
          "wife_education": 4,
          "wife_religion": 0
         },
         {
          "contraceptive_method_used": 3,
          "standard_of_living_index": 1,
          "wife_age": 32,
          "wife_education": 2,
          "wife_religion": 1
         },
         {
          "contraceptive_method_used": 3,
          "standard_of_living_index": 3,
          "wife_age": 39,
          "wife_education": 4,
          "wife_religion": 0
         },
         {
          "contraceptive_method_used": 1,
          "standard_of_living_index": 3,
          "wife_age": 42,
          "wife_education": 3,
          "wife_religion": 1
         },
         {
          "contraceptive_method_used": 1,
          "standard_of_living_index": 4,
          "wife_age": 31,
          "wife_education": 3,
          "wife_religion": 1
         },
         {
          "contraceptive_method_used": 1,
          "standard_of_living_index": 4,
          "wife_age": 26,
          "wife_education": 4,
          "wife_religion": 1
         },
         {
          "contraceptive_method_used": 1,
          "standard_of_living_index": 4,
          "wife_age": 30,
          "wife_education": 4,
          "wife_religion": 1
         },
         {
          "contraceptive_method_used": 1,
          "standard_of_living_index": 3,
          "wife_age": 27,
          "wife_education": 2,
          "wife_religion": 1
         },
         {
          "contraceptive_method_used": 3,
          "standard_of_living_index": 4,
          "wife_age": 37,
          "wife_education": 4,
          "wife_religion": 1
         },
         {
          "contraceptive_method_used": 1,
          "standard_of_living_index": 2,
          "wife_age": 24,
          "wife_education": 3,
          "wife_religion": 1
         },
         {
          "contraceptive_method_used": 1,
          "standard_of_living_index": 1,
          "wife_age": 26,
          "wife_education": 1,
          "wife_religion": 1
         },
         {
          "contraceptive_method_used": 3,
          "standard_of_living_index": 4,
          "wife_age": 31,
          "wife_education": 4,
          "wife_religion": 1
         },
         {
          "contraceptive_method_used": 1,
          "standard_of_living_index": 4,
          "wife_age": 47,
          "wife_education": 4,
          "wife_religion": 1
         },
         {
          "contraceptive_method_used": 2,
          "standard_of_living_index": 3,
          "wife_age": 29,
          "wife_education": 3,
          "wife_religion": 1
         },
         {
          "contraceptive_method_used": 1,
          "standard_of_living_index": 2,
          "wife_age": 24,
          "wife_education": 3,
          "wife_religion": 1
         },
         {
          "contraceptive_method_used": 2,
          "standard_of_living_index": 3,
          "wife_age": 28,
          "wife_education": 4,
          "wife_religion": 1
         },
         {
          "contraceptive_method_used": 1,
          "standard_of_living_index": 2,
          "wife_age": 47,
          "wife_education": 1,
          "wife_religion": 1
         },
         {
          "contraceptive_method_used": 3,
          "standard_of_living_index": 4,
          "wife_age": 44,
          "wife_education": 4,
          "wife_religion": 1
         },
         {
          "contraceptive_method_used": 2,
          "standard_of_living_index": 4,
          "wife_age": 33,
          "wife_education": 3,
          "wife_religion": 1
         },
         {
          "contraceptive_method_used": 3,
          "standard_of_living_index": 2,
          "wife_age": 32,
          "wife_education": 1,
          "wife_religion": 1
         },
         {
          "contraceptive_method_used": 2,
          "standard_of_living_index": 3,
          "wife_age": 34,
          "wife_education": 2,
          "wife_religion": 1
         },
         {
          "contraceptive_method_used": 3,
          "standard_of_living_index": 4,
          "wife_age": 28,
          "wife_education": 1,
          "wife_religion": 1
         },
         {
          "contraceptive_method_used": 2,
          "standard_of_living_index": 4,
          "wife_age": 47,
          "wife_education": 4,
          "wife_religion": 1
         },
         {
          "contraceptive_method_used": 1,
          "standard_of_living_index": 4,
          "wife_age": 22,
          "wife_education": 3,
          "wife_religion": 1
         },
         {
          "contraceptive_method_used": 2,
          "standard_of_living_index": 3,
          "wife_age": 22,
          "wife_education": 4,
          "wife_religion": 1
         },
         {
          "contraceptive_method_used": 3,
          "standard_of_living_index": 4,
          "wife_age": 42,
          "wife_education": 4,
          "wife_religion": 0
         },
         {
          "contraceptive_method_used": 1,
          "standard_of_living_index": 4,
          "wife_age": 37,
          "wife_education": 3,
          "wife_religion": 1
         }
        ]
       },
       "facet": {
        "field": "contraceptive_method_used",
        "type": "quantitative"
       },
       "spec": {
        "encoding": {
         "x": {
          "field": "wife_age",
          "title": "Wife's age (years)",
          "type": "quantitative"
         },
         "y": {
          "aggregate": "count",
          "title": "Number of records",
          "type": "quantitative"
         }
        },
        "mark": "point",
        "title": "Age vs. Method of Contraception Used"
       }
      },
      "text/plain": [
       "<VegaLite 4 object>\n",
       "\n",
       "If you see this message, it means the renderer has not been properly enabled\n",
       "for the frontend that you are using. For more information, see\n",
       "https://altair-viz.github.io/user_guide/troubleshooting.html\n"
      ]
     },
     "execution_count": 35,
     "metadata": {},
     "output_type": "execute_result"
    }
   ],
   "source": [
    "wife_age_correlation = alt.Chart(cmc_train, title = \"Age vs. Method of Contraception Used\").mark_point().encode(\n",
    "    x = alt.X(\"wife_age\", title = \"Wife's age (years)\"),\n",
    "    y = alt.Y(\"count()\", title = \"Number of records\"),\n",
    ").facet(\"contraceptive_method_used\")\n",
    "wife_age_correlation"
   ]
  },
  {
   "cell_type": "markdown",
   "metadata": {},
   "source": [
    "There does not seem to be a clear correlation between age and no method of contraception used. However, for short-term and long-term contraception, we can clearly see a peak at around 35 and 30 years old respectively. "
   ]
  },
  {
   "cell_type": "markdown",
   "metadata": {},
   "source": [
    "**Wife's education**"
   ]
  },
  {
   "cell_type": "code",
   "execution_count": 36,
   "metadata": {},
   "outputs": [
    {
     "data": {
      "application/vnd.vegalite.v4+json": {
       "$schema": "https://vega.github.io/schema/vega-lite/v4.17.0.json",
       "config": {
        "view": {
         "continuousHeight": 300,
         "continuousWidth": 400
        }
       },
       "data": {
        "name": "data-3895c4260d1dd1a6efb37b73d7dea99f"
       },
       "datasets": {
        "data-3895c4260d1dd1a6efb37b73d7dea99f": [
         {
          "contraceptive_method_used": 3,
          "standard_of_living_index": 1,
          "wife_age": 30,
          "wife_education": 3,
          "wife_religion": 1
         },
         {
          "contraceptive_method_used": 2,
          "standard_of_living_index": 3,
          "wife_age": 34,
          "wife_education": 3,
          "wife_religion": 0
         },
         {
          "contraceptive_method_used": 1,
          "standard_of_living_index": 4,
          "wife_age": 28,
          "wife_education": 2,
          "wife_religion": 1
         },
         {
          "contraceptive_method_used": 1,
          "standard_of_living_index": 4,
          "wife_age": 30,
          "wife_education": 4,
          "wife_religion": 1
         },
         {
          "contraceptive_method_used": 1,
          "standard_of_living_index": 4,
          "wife_age": 35,
          "wife_education": 1,
          "wife_religion": 1
         },
         {
          "contraceptive_method_used": 2,
          "standard_of_living_index": 3,
          "wife_age": 21,
          "wife_education": 4,
          "wife_religion": 1
         },
         {
          "contraceptive_method_used": 2,
          "standard_of_living_index": 4,
          "wife_age": 26,
          "wife_education": 4,
          "wife_religion": 0
         },
         {
          "contraceptive_method_used": 1,
          "standard_of_living_index": 4,
          "wife_age": 42,
          "wife_education": 2,
          "wife_religion": 1
         },
         {
          "contraceptive_method_used": 3,
          "standard_of_living_index": 4,
          "wife_age": 40,
          "wife_education": 2,
          "wife_religion": 0
         },
         {
          "contraceptive_method_used": 1,
          "standard_of_living_index": 2,
          "wife_age": 22,
          "wife_education": 4,
          "wife_religion": 1
         },
         {
          "contraceptive_method_used": 3,
          "standard_of_living_index": 4,
          "wife_age": 26,
          "wife_education": 4,
          "wife_religion": 0
         },
         {
          "contraceptive_method_used": 1,
          "standard_of_living_index": 2,
          "wife_age": 19,
          "wife_education": 3,
          "wife_religion": 1
         },
         {
          "contraceptive_method_used": 1,
          "standard_of_living_index": 2,
          "wife_age": 27,
          "wife_education": 2,
          "wife_religion": 1
         },
         {
          "contraceptive_method_used": 3,
          "standard_of_living_index": 4,
          "wife_age": 25,
          "wife_education": 4,
          "wife_religion": 1
         },
         {
          "contraceptive_method_used": 1,
          "standard_of_living_index": 2,
          "wife_age": 28,
          "wife_education": 2,
          "wife_religion": 1
         },
         {
          "contraceptive_method_used": 1,
          "standard_of_living_index": 3,
          "wife_age": 22,
          "wife_education": 2,
          "wife_religion": 1
         },
         {
          "contraceptive_method_used": 1,
          "standard_of_living_index": 3,
          "wife_age": 21,
          "wife_education": 3,
          "wife_religion": 1
         },
         {
          "contraceptive_method_used": 3,
          "standard_of_living_index": 4,
          "wife_age": 37,
          "wife_education": 3,
          "wife_religion": 0
         },
         {
          "contraceptive_method_used": 1,
          "standard_of_living_index": 3,
          "wife_age": 29,
          "wife_education": 3,
          "wife_religion": 0
         },
         {
          "contraceptive_method_used": 1,
          "standard_of_living_index": 3,
          "wife_age": 45,
          "wife_education": 1,
          "wife_religion": 1
         },
         {
          "contraceptive_method_used": 3,
          "standard_of_living_index": 3,
          "wife_age": 28,
          "wife_education": 3,
          "wife_religion": 0
         },
         {
          "contraceptive_method_used": 1,
          "standard_of_living_index": 3,
          "wife_age": 36,
          "wife_education": 3,
          "wife_religion": 0
         },
         {
          "contraceptive_method_used": 1,
          "standard_of_living_index": 2,
          "wife_age": 19,
          "wife_education": 2,
          "wife_religion": 1
         },
         {
          "contraceptive_method_used": 3,
          "standard_of_living_index": 3,
          "wife_age": 27,
          "wife_education": 3,
          "wife_religion": 1
         },
         {
          "contraceptive_method_used": 1,
          "standard_of_living_index": 3,
          "wife_age": 31,
          "wife_education": 3,
          "wife_religion": 1
         },
         {
          "contraceptive_method_used": 1,
          "standard_of_living_index": 1,
          "wife_age": 25,
          "wife_education": 2,
          "wife_religion": 1
         },
         {
          "contraceptive_method_used": 3,
          "standard_of_living_index": 1,
          "wife_age": 20,
          "wife_education": 2,
          "wife_religion": 1
         },
         {
          "contraceptive_method_used": 1,
          "standard_of_living_index": 3,
          "wife_age": 49,
          "wife_education": 2,
          "wife_religion": 0
         },
         {
          "contraceptive_method_used": 2,
          "standard_of_living_index": 4,
          "wife_age": 37,
          "wife_education": 4,
          "wife_religion": 0
         },
         {
          "contraceptive_method_used": 2,
          "standard_of_living_index": 4,
          "wife_age": 25,
          "wife_education": 2,
          "wife_religion": 1
         },
         {
          "contraceptive_method_used": 1,
          "standard_of_living_index": 4,
          "wife_age": 45,
          "wife_education": 4,
          "wife_religion": 1
         },
         {
          "contraceptive_method_used": 2,
          "standard_of_living_index": 4,
          "wife_age": 44,
          "wife_education": 4,
          "wife_religion": 1
         },
         {
          "contraceptive_method_used": 2,
          "standard_of_living_index": 4,
          "wife_age": 47,
          "wife_education": 2,
          "wife_religion": 1
         },
         {
          "contraceptive_method_used": 1,
          "standard_of_living_index": 4,
          "wife_age": 47,
          "wife_education": 4,
          "wife_religion": 1
         },
         {
          "contraceptive_method_used": 3,
          "standard_of_living_index": 3,
          "wife_age": 22,
          "wife_education": 4,
          "wife_religion": 1
         },
         {
          "contraceptive_method_used": 1,
          "standard_of_living_index": 2,
          "wife_age": 40,
          "wife_education": 3,
          "wife_religion": 1
         },
         {
          "contraceptive_method_used": 2,
          "standard_of_living_index": 4,
          "wife_age": 44,
          "wife_education": 4,
          "wife_religion": 1
         },
         {
          "contraceptive_method_used": 3,
          "standard_of_living_index": 4,
          "wife_age": 38,
          "wife_education": 4,
          "wife_religion": 1
         },
         {
          "contraceptive_method_used": 2,
          "standard_of_living_index": 4,
          "wife_age": 36,
          "wife_education": 4,
          "wife_religion": 1
         },
         {
          "contraceptive_method_used": 1,
          "standard_of_living_index": 4,
          "wife_age": 37,
          "wife_education": 3,
          "wife_religion": 1
         },
         {
          "contraceptive_method_used": 1,
          "standard_of_living_index": 2,
          "wife_age": 42,
          "wife_education": 1,
          "wife_religion": 1
         },
         {
          "contraceptive_method_used": 2,
          "standard_of_living_index": 4,
          "wife_age": 41,
          "wife_education": 4,
          "wife_religion": 1
         },
         {
          "contraceptive_method_used": 2,
          "standard_of_living_index": 4,
          "wife_age": 44,
          "wife_education": 4,
          "wife_religion": 1
         },
         {
          "contraceptive_method_used": 3,
          "standard_of_living_index": 4,
          "wife_age": 32,
          "wife_education": 4,
          "wife_religion": 1
         },
         {
          "contraceptive_method_used": 2,
          "standard_of_living_index": 4,
          "wife_age": 41,
          "wife_education": 4,
          "wife_religion": 1
         },
         {
          "contraceptive_method_used": 2,
          "standard_of_living_index": 4,
          "wife_age": 40,
          "wife_education": 4,
          "wife_religion": 1
         },
         {
          "contraceptive_method_used": 3,
          "standard_of_living_index": 4,
          "wife_age": 49,
          "wife_education": 4,
          "wife_religion": 1
         },
         {
          "contraceptive_method_used": 1,
          "standard_of_living_index": 4,
          "wife_age": 33,
          "wife_education": 2,
          "wife_religion": 0
         },
         {
          "contraceptive_method_used": 2,
          "standard_of_living_index": 3,
          "wife_age": 37,
          "wife_education": 4,
          "wife_religion": 1
         },
         {
          "contraceptive_method_used": 1,
          "standard_of_living_index": 4,
          "wife_age": 28,
          "wife_education": 4,
          "wife_religion": 1
         },
         {
          "contraceptive_method_used": 1,
          "standard_of_living_index": 4,
          "wife_age": 49,
          "wife_education": 3,
          "wife_religion": 1
         },
         {
          "contraceptive_method_used": 2,
          "standard_of_living_index": 4,
          "wife_age": 44,
          "wife_education": 4,
          "wife_religion": 1
         },
         {
          "contraceptive_method_used": 1,
          "standard_of_living_index": 4,
          "wife_age": 30,
          "wife_education": 1,
          "wife_religion": 1
         },
         {
          "contraceptive_method_used": 1,
          "standard_of_living_index": 1,
          "wife_age": 28,
          "wife_education": 3,
          "wife_religion": 1
         },
         {
          "contraceptive_method_used": 1,
          "standard_of_living_index": 2,
          "wife_age": 42,
          "wife_education": 3,
          "wife_religion": 1
         },
         {
          "contraceptive_method_used": 2,
          "standard_of_living_index": 4,
          "wife_age": 41,
          "wife_education": 4,
          "wife_religion": 0
         },
         {
          "contraceptive_method_used": 3,
          "standard_of_living_index": 4,
          "wife_age": 26,
          "wife_education": 2,
          "wife_religion": 1
         },
         {
          "contraceptive_method_used": 1,
          "standard_of_living_index": 4,
          "wife_age": 39,
          "wife_education": 3,
          "wife_religion": 1
         },
         {
          "contraceptive_method_used": 2,
          "standard_of_living_index": 4,
          "wife_age": 41,
          "wife_education": 4,
          "wife_religion": 0
         },
         {
          "contraceptive_method_used": 3,
          "standard_of_living_index": 3,
          "wife_age": 26,
          "wife_education": 3,
          "wife_religion": 1
         },
         {
          "contraceptive_method_used": 2,
          "standard_of_living_index": 3,
          "wife_age": 25,
          "wife_education": 4,
          "wife_religion": 0
         },
         {
          "contraceptive_method_used": 2,
          "standard_of_living_index": 4,
          "wife_age": 40,
          "wife_education": 4,
          "wife_religion": 0
         },
         {
          "contraceptive_method_used": 3,
          "standard_of_living_index": 4,
          "wife_age": 25,
          "wife_education": 4,
          "wife_religion": 1
         },
         {
          "contraceptive_method_used": 2,
          "standard_of_living_index": 2,
          "wife_age": 24,
          "wife_education": 1,
          "wife_religion": 1
         },
         {
          "contraceptive_method_used": 1,
          "standard_of_living_index": 4,
          "wife_age": 32,
          "wife_education": 2,
          "wife_religion": 1
         },
         {
          "contraceptive_method_used": 1,
          "standard_of_living_index": 4,
          "wife_age": 39,
          "wife_education": 3,
          "wife_religion": 0
         },
         {
          "contraceptive_method_used": 3,
          "standard_of_living_index": 2,
          "wife_age": 35,
          "wife_education": 1,
          "wife_religion": 1
         },
         {
          "contraceptive_method_used": 2,
          "standard_of_living_index": 2,
          "wife_age": 24,
          "wife_education": 4,
          "wife_religion": 1
         },
         {
          "contraceptive_method_used": 2,
          "standard_of_living_index": 4,
          "wife_age": 25,
          "wife_education": 4,
          "wife_religion": 1
         },
         {
          "contraceptive_method_used": 3,
          "standard_of_living_index": 2,
          "wife_age": 22,
          "wife_education": 1,
          "wife_religion": 1
         },
         {
          "contraceptive_method_used": 1,
          "standard_of_living_index": 4,
          "wife_age": 25,
          "wife_education": 3,
          "wife_religion": 1
         },
         {
          "contraceptive_method_used": 2,
          "standard_of_living_index": 4,
          "wife_age": 24,
          "wife_education": 4,
          "wife_religion": 1
         },
         {
          "contraceptive_method_used": 1,
          "standard_of_living_index": 1,
          "wife_age": 40,
          "wife_education": 1,
          "wife_religion": 1
         },
         {
          "contraceptive_method_used": 2,
          "standard_of_living_index": 2,
          "wife_age": 36,
          "wife_education": 3,
          "wife_religion": 1
         },
         {
          "contraceptive_method_used": 2,
          "standard_of_living_index": 2,
          "wife_age": 35,
          "wife_education": 3,
          "wife_religion": 1
         },
         {
          "contraceptive_method_used": 1,
          "standard_of_living_index": 3,
          "wife_age": 22,
          "wife_education": 2,
          "wife_religion": 1
         },
         {
          "contraceptive_method_used": 2,
          "standard_of_living_index": 4,
          "wife_age": 17,
          "wife_education": 4,
          "wife_religion": 1
         },
         {
          "contraceptive_method_used": 3,
          "standard_of_living_index": 4,
          "wife_age": 17,
          "wife_education": 3,
          "wife_religion": 1
         },
         {
          "contraceptive_method_used": 3,
          "standard_of_living_index": 4,
          "wife_age": 35,
          "wife_education": 4,
          "wife_religion": 0
         },
         {
          "contraceptive_method_used": 1,
          "standard_of_living_index": 3,
          "wife_age": 45,
          "wife_education": 1,
          "wife_religion": 1
         },
         {
          "contraceptive_method_used": 2,
          "standard_of_living_index": 3,
          "wife_age": 28,
          "wife_education": 2,
          "wife_religion": 1
         },
         {
          "contraceptive_method_used": 1,
          "standard_of_living_index": 4,
          "wife_age": 47,
          "wife_education": 3,
          "wife_religion": 1
         },
         {
          "contraceptive_method_used": 2,
          "standard_of_living_index": 4,
          "wife_age": 30,
          "wife_education": 3,
          "wife_religion": 1
         },
         {
          "contraceptive_method_used": 2,
          "standard_of_living_index": 4,
          "wife_age": 21,
          "wife_education": 3,
          "wife_religion": 1
         },
         {
          "contraceptive_method_used": 2,
          "standard_of_living_index": 4,
          "wife_age": 35,
          "wife_education": 4,
          "wife_religion": 0
         },
         {
          "contraceptive_method_used": 1,
          "standard_of_living_index": 3,
          "wife_age": 25,
          "wife_education": 4,
          "wife_religion": 1
         },
         {
          "contraceptive_method_used": 1,
          "standard_of_living_index": 4,
          "wife_age": 38,
          "wife_education": 3,
          "wife_religion": 0
         },
         {
          "contraceptive_method_used": 2,
          "standard_of_living_index": 4,
          "wife_age": 21,
          "wife_education": 4,
          "wife_religion": 1
         },
         {
          "contraceptive_method_used": 1,
          "standard_of_living_index": 4,
          "wife_age": 48,
          "wife_education": 3,
          "wife_religion": 0
         },
         {
          "contraceptive_method_used": 1,
          "standard_of_living_index": 3,
          "wife_age": 35,
          "wife_education": 2,
          "wife_religion": 1
         },
         {
          "contraceptive_method_used": 3,
          "standard_of_living_index": 4,
          "wife_age": 35,
          "wife_education": 4,
          "wife_religion": 0
         },
         {
          "contraceptive_method_used": 1,
          "standard_of_living_index": 2,
          "wife_age": 22,
          "wife_education": 3,
          "wife_religion": 1
         },
         {
          "contraceptive_method_used": 3,
          "standard_of_living_index": 2,
          "wife_age": 40,
          "wife_education": 3,
          "wife_religion": 1
         },
         {
          "contraceptive_method_used": 1,
          "standard_of_living_index": 4,
          "wife_age": 27,
          "wife_education": 2,
          "wife_religion": 1
         },
         {
          "contraceptive_method_used": 2,
          "standard_of_living_index": 4,
          "wife_age": 30,
          "wife_education": 3,
          "wife_religion": 1
         },
         {
          "contraceptive_method_used": 1,
          "standard_of_living_index": 3,
          "wife_age": 47,
          "wife_education": 1,
          "wife_religion": 1
         },
         {
          "contraceptive_method_used": 3,
          "standard_of_living_index": 4,
          "wife_age": 25,
          "wife_education": 2,
          "wife_religion": 1
         },
         {
          "contraceptive_method_used": 3,
          "standard_of_living_index": 4,
          "wife_age": 32,
          "wife_education": 4,
          "wife_religion": 0
         },
         {
          "contraceptive_method_used": 1,
          "standard_of_living_index": 3,
          "wife_age": 36,
          "wife_education": 2,
          "wife_religion": 1
         },
         {
          "contraceptive_method_used": 3,
          "standard_of_living_index": 2,
          "wife_age": 26,
          "wife_education": 3,
          "wife_religion": 1
         },
         {
          "contraceptive_method_used": 3,
          "standard_of_living_index": 3,
          "wife_age": 22,
          "wife_education": 3,
          "wife_religion": 1
         },
         {
          "contraceptive_method_used": 1,
          "standard_of_living_index": 1,
          "wife_age": 34,
          "wife_education": 3,
          "wife_religion": 0
         },
         {
          "contraceptive_method_used": 2,
          "standard_of_living_index": 3,
          "wife_age": 36,
          "wife_education": 3,
          "wife_religion": 1
         },
         {
          "contraceptive_method_used": 3,
          "standard_of_living_index": 3,
          "wife_age": 32,
          "wife_education": 2,
          "wife_religion": 1
         },
         {
          "contraceptive_method_used": 1,
          "standard_of_living_index": 4,
          "wife_age": 28,
          "wife_education": 4,
          "wife_religion": 0
         },
         {
          "contraceptive_method_used": 1,
          "standard_of_living_index": 4,
          "wife_age": 47,
          "wife_education": 4,
          "wife_religion": 0
         },
         {
          "contraceptive_method_used": 1,
          "standard_of_living_index": 4,
          "wife_age": 33,
          "wife_education": 4,
          "wife_religion": 1
         },
         {
          "contraceptive_method_used": 1,
          "standard_of_living_index": 2,
          "wife_age": 35,
          "wife_education": 3,
          "wife_religion": 1
         },
         {
          "contraceptive_method_used": 3,
          "standard_of_living_index": 3,
          "wife_age": 25,
          "wife_education": 4,
          "wife_religion": 1
         },
         {
          "contraceptive_method_used": 3,
          "standard_of_living_index": 1,
          "wife_age": 36,
          "wife_education": 1,
          "wife_religion": 1
         },
         {
          "contraceptive_method_used": 1,
          "standard_of_living_index": 3,
          "wife_age": 29,
          "wife_education": 4,
          "wife_religion": 1
         },
         {
          "contraceptive_method_used": 1,
          "standard_of_living_index": 4,
          "wife_age": 49,
          "wife_education": 4,
          "wife_religion": 0
         },
         {
          "contraceptive_method_used": 3,
          "standard_of_living_index": 4,
          "wife_age": 33,
          "wife_education": 4,
          "wife_religion": 0
         },
         {
          "contraceptive_method_used": 3,
          "standard_of_living_index": 3,
          "wife_age": 48,
          "wife_education": 3,
          "wife_religion": 1
         },
         {
          "contraceptive_method_used": 3,
          "standard_of_living_index": 3,
          "wife_age": 31,
          "wife_education": 2,
          "wife_religion": 1
         },
         {
          "contraceptive_method_used": 3,
          "standard_of_living_index": 4,
          "wife_age": 46,
          "wife_education": 3,
          "wife_religion": 1
         },
         {
          "contraceptive_method_used": 1,
          "standard_of_living_index": 3,
          "wife_age": 37,
          "wife_education": 2,
          "wife_religion": 1
         },
         {
          "contraceptive_method_used": 1,
          "standard_of_living_index": 2,
          "wife_age": 35,
          "wife_education": 3,
          "wife_religion": 1
         },
         {
          "contraceptive_method_used": 2,
          "standard_of_living_index": 4,
          "wife_age": 39,
          "wife_education": 4,
          "wife_religion": 0
         },
         {
          "contraceptive_method_used": 3,
          "standard_of_living_index": 1,
          "wife_age": 30,
          "wife_education": 2,
          "wife_religion": 1
         },
         {
          "contraceptive_method_used": 3,
          "standard_of_living_index": 4,
          "wife_age": 35,
          "wife_education": 4,
          "wife_religion": 1
         },
         {
          "contraceptive_method_used": 2,
          "standard_of_living_index": 4,
          "wife_age": 38,
          "wife_education": 4,
          "wife_religion": 1
         },
         {
          "contraceptive_method_used": 1,
          "standard_of_living_index": 2,
          "wife_age": 49,
          "wife_education": 1,
          "wife_religion": 1
         },
         {
          "contraceptive_method_used": 2,
          "standard_of_living_index": 4,
          "wife_age": 45,
          "wife_education": 4,
          "wife_religion": 1
         },
         {
          "contraceptive_method_used": 1,
          "standard_of_living_index": 4,
          "wife_age": 37,
          "wife_education": 4,
          "wife_religion": 0
         },
         {
          "contraceptive_method_used": 1,
          "standard_of_living_index": 4,
          "wife_age": 44,
          "wife_education": 1,
          "wife_religion": 1
         },
         {
          "contraceptive_method_used": 2,
          "standard_of_living_index": 4,
          "wife_age": 35,
          "wife_education": 4,
          "wife_religion": 1
         },
         {
          "contraceptive_method_used": 3,
          "standard_of_living_index": 4,
          "wife_age": 24,
          "wife_education": 2,
          "wife_religion": 1
         },
         {
          "contraceptive_method_used": 3,
          "standard_of_living_index": 4,
          "wife_age": 32,
          "wife_education": 4,
          "wife_religion": 0
         },
         {
          "contraceptive_method_used": 1,
          "standard_of_living_index": 2,
          "wife_age": 47,
          "wife_education": 2,
          "wife_religion": 1
         },
         {
          "contraceptive_method_used": 3,
          "standard_of_living_index": 4,
          "wife_age": 48,
          "wife_education": 4,
          "wife_religion": 1
         },
         {
          "contraceptive_method_used": 3,
          "standard_of_living_index": 4,
          "wife_age": 33,
          "wife_education": 3,
          "wife_religion": 1
         },
         {
          "contraceptive_method_used": 1,
          "standard_of_living_index": 4,
          "wife_age": 43,
          "wife_education": 4,
          "wife_religion": 1
         },
         {
          "contraceptive_method_used": 2,
          "standard_of_living_index": 4,
          "wife_age": 47,
          "wife_education": 4,
          "wife_religion": 1
         },
         {
          "contraceptive_method_used": 1,
          "standard_of_living_index": 2,
          "wife_age": 43,
          "wife_education": 1,
          "wife_religion": 1
         },
         {
          "contraceptive_method_used": 1,
          "standard_of_living_index": 4,
          "wife_age": 26,
          "wife_education": 4,
          "wife_religion": 1
         },
         {
          "contraceptive_method_used": 3,
          "standard_of_living_index": 2,
          "wife_age": 30,
          "wife_education": 3,
          "wife_religion": 1
         },
         {
          "contraceptive_method_used": 1,
          "standard_of_living_index": 3,
          "wife_age": 21,
          "wife_education": 4,
          "wife_religion": 1
         },
         {
          "contraceptive_method_used": 1,
          "standard_of_living_index": 4,
          "wife_age": 43,
          "wife_education": 1,
          "wife_religion": 1
         },
         {
          "contraceptive_method_used": 3,
          "standard_of_living_index": 2,
          "wife_age": 26,
          "wife_education": 1,
          "wife_religion": 1
         },
         {
          "contraceptive_method_used": 1,
          "standard_of_living_index": 1,
          "wife_age": 28,
          "wife_education": 2,
          "wife_religion": 1
         },
         {
          "contraceptive_method_used": 2,
          "standard_of_living_index": 4,
          "wife_age": 38,
          "wife_education": 4,
          "wife_religion": 1
         },
         {
          "contraceptive_method_used": 3,
          "standard_of_living_index": 3,
          "wife_age": 23,
          "wife_education": 3,
          "wife_religion": 1
         },
         {
          "contraceptive_method_used": 1,
          "standard_of_living_index": 3,
          "wife_age": 28,
          "wife_education": 3,
          "wife_religion": 1
         },
         {
          "contraceptive_method_used": 1,
          "standard_of_living_index": 1,
          "wife_age": 18,
          "wife_education": 3,
          "wife_religion": 1
         },
         {
          "contraceptive_method_used": 1,
          "standard_of_living_index": 4,
          "wife_age": 35,
          "wife_education": 4,
          "wife_religion": 1
         },
         {
          "contraceptive_method_used": 1,
          "standard_of_living_index": 4,
          "wife_age": 48,
          "wife_education": 4,
          "wife_religion": 0
         },
         {
          "contraceptive_method_used": 3,
          "standard_of_living_index": 3,
          "wife_age": 29,
          "wife_education": 1,
          "wife_religion": 1
         },
         {
          "contraceptive_method_used": 1,
          "standard_of_living_index": 1,
          "wife_age": 22,
          "wife_education": 4,
          "wife_religion": 1
         },
         {
          "contraceptive_method_used": 3,
          "standard_of_living_index": 1,
          "wife_age": 25,
          "wife_education": 2,
          "wife_religion": 1
         },
         {
          "contraceptive_method_used": 3,
          "standard_of_living_index": 4,
          "wife_age": 32,
          "wife_education": 4,
          "wife_religion": 1
         },
         {
          "contraceptive_method_used": 2,
          "standard_of_living_index": 3,
          "wife_age": 44,
          "wife_education": 4,
          "wife_religion": 0
         },
         {
          "contraceptive_method_used": 3,
          "standard_of_living_index": 4,
          "wife_age": 28,
          "wife_education": 2,
          "wife_religion": 1
         },
         {
          "contraceptive_method_used": 2,
          "standard_of_living_index": 4,
          "wife_age": 35,
          "wife_education": 4,
          "wife_religion": 1
         },
         {
          "contraceptive_method_used": 2,
          "standard_of_living_index": 2,
          "wife_age": 32,
          "wife_education": 3,
          "wife_religion": 1
         },
         {
          "contraceptive_method_used": 2,
          "standard_of_living_index": 4,
          "wife_age": 27,
          "wife_education": 4,
          "wife_religion": 1
         },
         {
          "contraceptive_method_used": 3,
          "standard_of_living_index": 3,
          "wife_age": 25,
          "wife_education": 4,
          "wife_religion": 1
         },
         {
          "contraceptive_method_used": 3,
          "standard_of_living_index": 3,
          "wife_age": 33,
          "wife_education": 2,
          "wife_religion": 1
         },
         {
          "contraceptive_method_used": 1,
          "standard_of_living_index": 3,
          "wife_age": 24,
          "wife_education": 3,
          "wife_religion": 1
         },
         {
          "contraceptive_method_used": 3,
          "standard_of_living_index": 3,
          "wife_age": 31,
          "wife_education": 3,
          "wife_religion": 1
         },
         {
          "contraceptive_method_used": 3,
          "standard_of_living_index": 4,
          "wife_age": 35,
          "wife_education": 4,
          "wife_religion": 1
         },
         {
          "contraceptive_method_used": 2,
          "standard_of_living_index": 3,
          "wife_age": 32,
          "wife_education": 3,
          "wife_religion": 0
         },
         {
          "contraceptive_method_used": 1,
          "standard_of_living_index": 2,
          "wife_age": 27,
          "wife_education": 3,
          "wife_religion": 1
         },
         {
          "contraceptive_method_used": 3,
          "standard_of_living_index": 3,
          "wife_age": 47,
          "wife_education": 4,
          "wife_religion": 1
         },
         {
          "contraceptive_method_used": 1,
          "standard_of_living_index": 4,
          "wife_age": 21,
          "wife_education": 4,
          "wife_religion": 1
         },
         {
          "contraceptive_method_used": 2,
          "standard_of_living_index": 3,
          "wife_age": 33,
          "wife_education": 4,
          "wife_religion": 1
         },
         {
          "contraceptive_method_used": 3,
          "standard_of_living_index": 4,
          "wife_age": 31,
          "wife_education": 4,
          "wife_religion": 0
         },
         {
          "contraceptive_method_used": 1,
          "standard_of_living_index": 4,
          "wife_age": 40,
          "wife_education": 3,
          "wife_religion": 0
         },
         {
          "contraceptive_method_used": 1,
          "standard_of_living_index": 3,
          "wife_age": 38,
          "wife_education": 1,
          "wife_religion": 1
         },
         {
          "contraceptive_method_used": 1,
          "standard_of_living_index": 4,
          "wife_age": 43,
          "wife_education": 1,
          "wife_religion": 1
         },
         {
          "contraceptive_method_used": 1,
          "standard_of_living_index": 4,
          "wife_age": 48,
          "wife_education": 4,
          "wife_religion": 1
         },
         {
          "contraceptive_method_used": 1,
          "standard_of_living_index": 1,
          "wife_age": 26,
          "wife_education": 3,
          "wife_religion": 1
         },
         {
          "contraceptive_method_used": 3,
          "standard_of_living_index": 3,
          "wife_age": 26,
          "wife_education": 4,
          "wife_religion": 1
         },
         {
          "contraceptive_method_used": 1,
          "standard_of_living_index": 1,
          "wife_age": 39,
          "wife_education": 1,
          "wife_religion": 1
         },
         {
          "contraceptive_method_used": 3,
          "standard_of_living_index": 1,
          "wife_age": 21,
          "wife_education": 3,
          "wife_religion": 1
         },
         {
          "contraceptive_method_used": 2,
          "standard_of_living_index": 3,
          "wife_age": 35,
          "wife_education": 4,
          "wife_religion": 0
         },
         {
          "contraceptive_method_used": 2,
          "standard_of_living_index": 4,
          "wife_age": 38,
          "wife_education": 4,
          "wife_religion": 0
         },
         {
          "contraceptive_method_used": 2,
          "standard_of_living_index": 4,
          "wife_age": 29,
          "wife_education": 4,
          "wife_religion": 1
         },
         {
          "contraceptive_method_used": 3,
          "standard_of_living_index": 4,
          "wife_age": 36,
          "wife_education": 4,
          "wife_religion": 0
         },
         {
          "contraceptive_method_used": 3,
          "standard_of_living_index": 4,
          "wife_age": 28,
          "wife_education": 4,
          "wife_religion": 1
         },
         {
          "contraceptive_method_used": 2,
          "standard_of_living_index": 3,
          "wife_age": 29,
          "wife_education": 4,
          "wife_religion": 1
         },
         {
          "contraceptive_method_used": 2,
          "standard_of_living_index": 4,
          "wife_age": 29,
          "wife_education": 4,
          "wife_religion": 1
         },
         {
          "contraceptive_method_used": 3,
          "standard_of_living_index": 4,
          "wife_age": 44,
          "wife_education": 3,
          "wife_religion": 1
         },
         {
          "contraceptive_method_used": 1,
          "standard_of_living_index": 1,
          "wife_age": 28,
          "wife_education": 2,
          "wife_religion": 1
         },
         {
          "contraceptive_method_used": 3,
          "standard_of_living_index": 4,
          "wife_age": 41,
          "wife_education": 4,
          "wife_religion": 1
         },
         {
          "contraceptive_method_used": 2,
          "standard_of_living_index": 3,
          "wife_age": 42,
          "wife_education": 2,
          "wife_religion": 0
         },
         {
          "contraceptive_method_used": 1,
          "standard_of_living_index": 3,
          "wife_age": 27,
          "wife_education": 2,
          "wife_religion": 1
         },
         {
          "contraceptive_method_used": 3,
          "standard_of_living_index": 1,
          "wife_age": 22,
          "wife_education": 3,
          "wife_religion": 1
         },
         {
          "contraceptive_method_used": 3,
          "standard_of_living_index": 3,
          "wife_age": 30,
          "wife_education": 2,
          "wife_religion": 1
         },
         {
          "contraceptive_method_used": 2,
          "standard_of_living_index": 4,
          "wife_age": 36,
          "wife_education": 4,
          "wife_religion": 1
         },
         {
          "contraceptive_method_used": 2,
          "standard_of_living_index": 4,
          "wife_age": 42,
          "wife_education": 4,
          "wife_religion": 1
         },
         {
          "contraceptive_method_used": 3,
          "standard_of_living_index": 4,
          "wife_age": 31,
          "wife_education": 4,
          "wife_religion": 1
         },
         {
          "contraceptive_method_used": 1,
          "standard_of_living_index": 3,
          "wife_age": 25,
          "wife_education": 1,
          "wife_religion": 1
         },
         {
          "contraceptive_method_used": 1,
          "standard_of_living_index": 4,
          "wife_age": 32,
          "wife_education": 2,
          "wife_religion": 1
         },
         {
          "contraceptive_method_used": 1,
          "standard_of_living_index": 4,
          "wife_age": 40,
          "wife_education": 4,
          "wife_religion": 1
         },
         {
          "contraceptive_method_used": 3,
          "standard_of_living_index": 4,
          "wife_age": 22,
          "wife_education": 3,
          "wife_religion": 0
         },
         {
          "contraceptive_method_used": 3,
          "standard_of_living_index": 3,
          "wife_age": 26,
          "wife_education": 3,
          "wife_religion": 1
         },
         {
          "contraceptive_method_used": 3,
          "standard_of_living_index": 4,
          "wife_age": 35,
          "wife_education": 3,
          "wife_religion": 1
         },
         {
          "contraceptive_method_used": 1,
          "standard_of_living_index": 2,
          "wife_age": 43,
          "wife_education": 1,
          "wife_religion": 1
         },
         {
          "contraceptive_method_used": 3,
          "standard_of_living_index": 4,
          "wife_age": 25,
          "wife_education": 2,
          "wife_religion": 1
         },
         {
          "contraceptive_method_used": 2,
          "standard_of_living_index": 2,
          "wife_age": 29,
          "wife_education": 4,
          "wife_religion": 1
         },
         {
          "contraceptive_method_used": 3,
          "standard_of_living_index": 2,
          "wife_age": 37,
          "wife_education": 3,
          "wife_religion": 1
         },
         {
          "contraceptive_method_used": 3,
          "standard_of_living_index": 1,
          "wife_age": 25,
          "wife_education": 2,
          "wife_religion": 1
         },
         {
          "contraceptive_method_used": 1,
          "standard_of_living_index": 4,
          "wife_age": 29,
          "wife_education": 2,
          "wife_religion": 1
         },
         {
          "contraceptive_method_used": 3,
          "standard_of_living_index": 3,
          "wife_age": 25,
          "wife_education": 2,
          "wife_religion": 1
         },
         {
          "contraceptive_method_used": 3,
          "standard_of_living_index": 3,
          "wife_age": 30,
          "wife_education": 3,
          "wife_religion": 0
         },
         {
          "contraceptive_method_used": 1,
          "standard_of_living_index": 3,
          "wife_age": 31,
          "wife_education": 3,
          "wife_religion": 1
         },
         {
          "contraceptive_method_used": 3,
          "standard_of_living_index": 3,
          "wife_age": 28,
          "wife_education": 3,
          "wife_religion": 1
         },
         {
          "contraceptive_method_used": 2,
          "standard_of_living_index": 4,
          "wife_age": 44,
          "wife_education": 4,
          "wife_religion": 1
         },
         {
          "contraceptive_method_used": 1,
          "standard_of_living_index": 4,
          "wife_age": 36,
          "wife_education": 4,
          "wife_religion": 1
         },
         {
          "contraceptive_method_used": 1,
          "standard_of_living_index": 2,
          "wife_age": 49,
          "wife_education": 4,
          "wife_religion": 1
         },
         {
          "contraceptive_method_used": 1,
          "standard_of_living_index": 4,
          "wife_age": 31,
          "wife_education": 4,
          "wife_religion": 0
         },
         {
          "contraceptive_method_used": 1,
          "standard_of_living_index": 3,
          "wife_age": 24,
          "wife_education": 2,
          "wife_religion": 1
         },
         {
          "contraceptive_method_used": 1,
          "standard_of_living_index": 1,
          "wife_age": 30,
          "wife_education": 2,
          "wife_religion": 1
         },
         {
          "contraceptive_method_used": 2,
          "standard_of_living_index": 4,
          "wife_age": 42,
          "wife_education": 3,
          "wife_religion": 1
         },
         {
          "contraceptive_method_used": 2,
          "standard_of_living_index": 4,
          "wife_age": 30,
          "wife_education": 4,
          "wife_religion": 0
         },
         {
          "contraceptive_method_used": 1,
          "standard_of_living_index": 2,
          "wife_age": 35,
          "wife_education": 3,
          "wife_religion": 1
         },
         {
          "contraceptive_method_used": 3,
          "standard_of_living_index": 4,
          "wife_age": 27,
          "wife_education": 2,
          "wife_religion": 1
         },
         {
          "contraceptive_method_used": 1,
          "standard_of_living_index": 3,
          "wife_age": 38,
          "wife_education": 2,
          "wife_religion": 1
         },
         {
          "contraceptive_method_used": 1,
          "standard_of_living_index": 4,
          "wife_age": 23,
          "wife_education": 2,
          "wife_religion": 1
         },
         {
          "contraceptive_method_used": 1,
          "standard_of_living_index": 4,
          "wife_age": 33,
          "wife_education": 2,
          "wife_religion": 1
         },
         {
          "contraceptive_method_used": 2,
          "standard_of_living_index": 3,
          "wife_age": 44,
          "wife_education": 2,
          "wife_religion": 1
         },
         {
          "contraceptive_method_used": 3,
          "standard_of_living_index": 3,
          "wife_age": 24,
          "wife_education": 4,
          "wife_religion": 1
         },
         {
          "contraceptive_method_used": 2,
          "standard_of_living_index": 3,
          "wife_age": 45,
          "wife_education": 3,
          "wife_religion": 0
         },
         {
          "contraceptive_method_used": 3,
          "standard_of_living_index": 4,
          "wife_age": 26,
          "wife_education": 2,
          "wife_religion": 1
         },
         {
          "contraceptive_method_used": 2,
          "standard_of_living_index": 3,
          "wife_age": 33,
          "wife_education": 3,
          "wife_religion": 0
         },
         {
          "contraceptive_method_used": 1,
          "standard_of_living_index": 3,
          "wife_age": 21,
          "wife_education": 3,
          "wife_religion": 1
         },
         {
          "contraceptive_method_used": 3,
          "standard_of_living_index": 3,
          "wife_age": 29,
          "wife_education": 3,
          "wife_religion": 1
         },
         {
          "contraceptive_method_used": 1,
          "standard_of_living_index": 2,
          "wife_age": 31,
          "wife_education": 2,
          "wife_religion": 1
         },
         {
          "contraceptive_method_used": 2,
          "standard_of_living_index": 4,
          "wife_age": 42,
          "wife_education": 4,
          "wife_religion": 1
         },
         {
          "contraceptive_method_used": 3,
          "standard_of_living_index": 2,
          "wife_age": 39,
          "wife_education": 4,
          "wife_religion": 1
         },
         {
          "contraceptive_method_used": 2,
          "standard_of_living_index": 4,
          "wife_age": 33,
          "wife_education": 4,
          "wife_religion": 1
         },
         {
          "contraceptive_method_used": 1,
          "standard_of_living_index": 4,
          "wife_age": 37,
          "wife_education": 4,
          "wife_religion": 1
         },
         {
          "contraceptive_method_used": 1,
          "standard_of_living_index": 4,
          "wife_age": 45,
          "wife_education": 2,
          "wife_religion": 1
         },
         {
          "contraceptive_method_used": 1,
          "standard_of_living_index": 4,
          "wife_age": 46,
          "wife_education": 4,
          "wife_religion": 1
         },
         {
          "contraceptive_method_used": 3,
          "standard_of_living_index": 2,
          "wife_age": 27,
          "wife_education": 3,
          "wife_religion": 1
         },
         {
          "contraceptive_method_used": 2,
          "standard_of_living_index": 3,
          "wife_age": 23,
          "wife_education": 4,
          "wife_religion": 1
         },
         {
          "contraceptive_method_used": 1,
          "standard_of_living_index": 2,
          "wife_age": 31,
          "wife_education": 3,
          "wife_religion": 1
         },
         {
          "contraceptive_method_used": 3,
          "standard_of_living_index": 3,
          "wife_age": 34,
          "wife_education": 2,
          "wife_religion": 1
         },
         {
          "contraceptive_method_used": 2,
          "standard_of_living_index": 4,
          "wife_age": 46,
          "wife_education": 4,
          "wife_religion": 1
         },
         {
          "contraceptive_method_used": 3,
          "standard_of_living_index": 4,
          "wife_age": 29,
          "wife_education": 2,
          "wife_religion": 1
         },
         {
          "contraceptive_method_used": 3,
          "standard_of_living_index": 4,
          "wife_age": 36,
          "wife_education": 2,
          "wife_religion": 1
         },
         {
          "contraceptive_method_used": 1,
          "standard_of_living_index": 3,
          "wife_age": 19,
          "wife_education": 4,
          "wife_religion": 1
         },
         {
          "contraceptive_method_used": 2,
          "standard_of_living_index": 4,
          "wife_age": 42,
          "wife_education": 2,
          "wife_religion": 1
         },
         {
          "contraceptive_method_used": 1,
          "standard_of_living_index": 4,
          "wife_age": 25,
          "wife_education": 4,
          "wife_religion": 1
         },
         {
          "contraceptive_method_used": 1,
          "standard_of_living_index": 4,
          "wife_age": 24,
          "wife_education": 4,
          "wife_religion": 0
         },
         {
          "contraceptive_method_used": 3,
          "standard_of_living_index": 4,
          "wife_age": 46,
          "wife_education": 1,
          "wife_religion": 1
         },
         {
          "contraceptive_method_used": 3,
          "standard_of_living_index": 3,
          "wife_age": 37,
          "wife_education": 2,
          "wife_religion": 1
         },
         {
          "contraceptive_method_used": 1,
          "standard_of_living_index": 1,
          "wife_age": 25,
          "wife_education": 3,
          "wife_religion": 1
         },
         {
          "contraceptive_method_used": 1,
          "standard_of_living_index": 4,
          "wife_age": 35,
          "wife_education": 4,
          "wife_religion": 0
         },
         {
          "contraceptive_method_used": 1,
          "standard_of_living_index": 3,
          "wife_age": 24,
          "wife_education": 4,
          "wife_religion": 1
         },
         {
          "contraceptive_method_used": 3,
          "standard_of_living_index": 4,
          "wife_age": 38,
          "wife_education": 4,
          "wife_religion": 1
         },
         {
          "contraceptive_method_used": 1,
          "standard_of_living_index": 2,
          "wife_age": 24,
          "wife_education": 4,
          "wife_religion": 1
         },
         {
          "contraceptive_method_used": 1,
          "standard_of_living_index": 1,
          "wife_age": 30,
          "wife_education": 4,
          "wife_religion": 0
         },
         {
          "contraceptive_method_used": 2,
          "standard_of_living_index": 4,
          "wife_age": 48,
          "wife_education": 4,
          "wife_religion": 0
         },
         {
          "contraceptive_method_used": 3,
          "standard_of_living_index": 3,
          "wife_age": 23,
          "wife_education": 4,
          "wife_religion": 1
         },
         {
          "contraceptive_method_used": 1,
          "standard_of_living_index": 2,
          "wife_age": 25,
          "wife_education": 3,
          "wife_religion": 1
         },
         {
          "contraceptive_method_used": 1,
          "standard_of_living_index": 1,
          "wife_age": 33,
          "wife_education": 2,
          "wife_religion": 1
         },
         {
          "contraceptive_method_used": 2,
          "standard_of_living_index": 4,
          "wife_age": 37,
          "wife_education": 4,
          "wife_religion": 1
         },
         {
          "contraceptive_method_used": 1,
          "standard_of_living_index": 4,
          "wife_age": 32,
          "wife_education": 4,
          "wife_religion": 1
         },
         {
          "contraceptive_method_used": 3,
          "standard_of_living_index": 2,
          "wife_age": 30,
          "wife_education": 3,
          "wife_religion": 1
         },
         {
          "contraceptive_method_used": 3,
          "standard_of_living_index": 4,
          "wife_age": 36,
          "wife_education": 2,
          "wife_religion": 1
         },
         {
          "contraceptive_method_used": 3,
          "standard_of_living_index": 2,
          "wife_age": 21,
          "wife_education": 2,
          "wife_religion": 1
         },
         {
          "contraceptive_method_used": 3,
          "standard_of_living_index": 4,
          "wife_age": 30,
          "wife_education": 1,
          "wife_religion": 1
         },
         {
          "contraceptive_method_used": 3,
          "standard_of_living_index": 4,
          "wife_age": 28,
          "wife_education": 2,
          "wife_religion": 1
         },
         {
          "contraceptive_method_used": 2,
          "standard_of_living_index": 4,
          "wife_age": 36,
          "wife_education": 4,
          "wife_religion": 0
         },
         {
          "contraceptive_method_used": 3,
          "standard_of_living_index": 2,
          "wife_age": 37,
          "wife_education": 2,
          "wife_religion": 1
         },
         {
          "contraceptive_method_used": 2,
          "standard_of_living_index": 2,
          "wife_age": 32,
          "wife_education": 2,
          "wife_religion": 1
         },
         {
          "contraceptive_method_used": 2,
          "standard_of_living_index": 4,
          "wife_age": 32,
          "wife_education": 4,
          "wife_religion": 1
         },
         {
          "contraceptive_method_used": 3,
          "standard_of_living_index": 2,
          "wife_age": 21,
          "wife_education": 2,
          "wife_religion": 1
         },
         {
          "contraceptive_method_used": 3,
          "standard_of_living_index": 4,
          "wife_age": 27,
          "wife_education": 2,
          "wife_religion": 1
         },
         {
          "contraceptive_method_used": 2,
          "standard_of_living_index": 2,
          "wife_age": 44,
          "wife_education": 3,
          "wife_religion": 1
         },
         {
          "contraceptive_method_used": 1,
          "standard_of_living_index": 4,
          "wife_age": 29,
          "wife_education": 4,
          "wife_religion": 1
         },
         {
          "contraceptive_method_used": 1,
          "standard_of_living_index": 4,
          "wife_age": 36,
          "wife_education": 2,
          "wife_religion": 1
         },
         {
          "contraceptive_method_used": 1,
          "standard_of_living_index": 3,
          "wife_age": 20,
          "wife_education": 3,
          "wife_religion": 1
         },
         {
          "contraceptive_method_used": 1,
          "standard_of_living_index": 2,
          "wife_age": 36,
          "wife_education": 4,
          "wife_religion": 1
         },
         {
          "contraceptive_method_used": 1,
          "standard_of_living_index": 4,
          "wife_age": 46,
          "wife_education": 4,
          "wife_religion": 0
         },
         {
          "contraceptive_method_used": 3,
          "standard_of_living_index": 2,
          "wife_age": 34,
          "wife_education": 2,
          "wife_religion": 0
         },
         {
          "contraceptive_method_used": 1,
          "standard_of_living_index": 3,
          "wife_age": 35,
          "wife_education": 4,
          "wife_religion": 1
         },
         {
          "contraceptive_method_used": 3,
          "standard_of_living_index": 2,
          "wife_age": 18,
          "wife_education": 3,
          "wife_religion": 1
         },
         {
          "contraceptive_method_used": 1,
          "standard_of_living_index": 4,
          "wife_age": 19,
          "wife_education": 4,
          "wife_religion": 0
         },
         {
          "contraceptive_method_used": 1,
          "standard_of_living_index": 3,
          "wife_age": 27,
          "wife_education": 3,
          "wife_religion": 1
         },
         {
          "contraceptive_method_used": 3,
          "standard_of_living_index": 3,
          "wife_age": 25,
          "wife_education": 3,
          "wife_religion": 1
         },
         {
          "contraceptive_method_used": 3,
          "standard_of_living_index": 2,
          "wife_age": 21,
          "wife_education": 3,
          "wife_religion": 1
         },
         {
          "contraceptive_method_used": 2,
          "standard_of_living_index": 4,
          "wife_age": 44,
          "wife_education": 4,
          "wife_religion": 1
         },
         {
          "contraceptive_method_used": 1,
          "standard_of_living_index": 3,
          "wife_age": 42,
          "wife_education": 3,
          "wife_religion": 1
         },
         {
          "contraceptive_method_used": 3,
          "standard_of_living_index": 4,
          "wife_age": 42,
          "wife_education": 4,
          "wife_religion": 1
         },
         {
          "contraceptive_method_used": 1,
          "standard_of_living_index": 3,
          "wife_age": 36,
          "wife_education": 2,
          "wife_religion": 1
         },
         {
          "contraceptive_method_used": 3,
          "standard_of_living_index": 3,
          "wife_age": 32,
          "wife_education": 3,
          "wife_religion": 1
         },
         {
          "contraceptive_method_used": 1,
          "standard_of_living_index": 3,
          "wife_age": 26,
          "wife_education": 4,
          "wife_religion": 1
         },
         {
          "contraceptive_method_used": 1,
          "standard_of_living_index": 3,
          "wife_age": 28,
          "wife_education": 1,
          "wife_religion": 1
         },
         {
          "contraceptive_method_used": 3,
          "standard_of_living_index": 4,
          "wife_age": 22,
          "wife_education": 1,
          "wife_religion": 1
         },
         {
          "contraceptive_method_used": 3,
          "standard_of_living_index": 4,
          "wife_age": 40,
          "wife_education": 4,
          "wife_religion": 0
         },
         {
          "contraceptive_method_used": 2,
          "standard_of_living_index": 3,
          "wife_age": 27,
          "wife_education": 4,
          "wife_religion": 1
         },
         {
          "contraceptive_method_used": 2,
          "standard_of_living_index": 3,
          "wife_age": 29,
          "wife_education": 3,
          "wife_religion": 1
         },
         {
          "contraceptive_method_used": 2,
          "standard_of_living_index": 2,
          "wife_age": 43,
          "wife_education": 3,
          "wife_religion": 1
         },
         {
          "contraceptive_method_used": 3,
          "standard_of_living_index": 3,
          "wife_age": 35,
          "wife_education": 2,
          "wife_religion": 1
         },
         {
          "contraceptive_method_used": 1,
          "standard_of_living_index": 2,
          "wife_age": 31,
          "wife_education": 2,
          "wife_religion": 1
         },
         {
          "contraceptive_method_used": 1,
          "standard_of_living_index": 3,
          "wife_age": 23,
          "wife_education": 4,
          "wife_religion": 1
         },
         {
          "contraceptive_method_used": 1,
          "standard_of_living_index": 4,
          "wife_age": 26,
          "wife_education": 2,
          "wife_religion": 1
         },
         {
          "contraceptive_method_used": 3,
          "standard_of_living_index": 2,
          "wife_age": 22,
          "wife_education": 2,
          "wife_religion": 1
         },
         {
          "contraceptive_method_used": 2,
          "standard_of_living_index": 4,
          "wife_age": 40,
          "wife_education": 3,
          "wife_religion": 0
         },
         {
          "contraceptive_method_used": 1,
          "standard_of_living_index": 4,
          "wife_age": 41,
          "wife_education": 4,
          "wife_religion": 1
         },
         {
          "contraceptive_method_used": 1,
          "standard_of_living_index": 1,
          "wife_age": 49,
          "wife_education": 2,
          "wife_religion": 1
         },
         {
          "contraceptive_method_used": 1,
          "standard_of_living_index": 4,
          "wife_age": 31,
          "wife_education": 3,
          "wife_religion": 0
         },
         {
          "contraceptive_method_used": 2,
          "standard_of_living_index": 3,
          "wife_age": 32,
          "wife_education": 4,
          "wife_religion": 0
         },
         {
          "contraceptive_method_used": 2,
          "standard_of_living_index": 4,
          "wife_age": 36,
          "wife_education": 3,
          "wife_religion": 0
         },
         {
          "contraceptive_method_used": 2,
          "standard_of_living_index": 4,
          "wife_age": 27,
          "wife_education": 4,
          "wife_religion": 1
         },
         {
          "contraceptive_method_used": 1,
          "standard_of_living_index": 4,
          "wife_age": 24,
          "wife_education": 2,
          "wife_religion": 1
         },
         {
          "contraceptive_method_used": 1,
          "standard_of_living_index": 1,
          "wife_age": 24,
          "wife_education": 2,
          "wife_religion": 1
         },
         {
          "contraceptive_method_used": 1,
          "standard_of_living_index": 1,
          "wife_age": 22,
          "wife_education": 2,
          "wife_religion": 1
         },
         {
          "contraceptive_method_used": 1,
          "standard_of_living_index": 3,
          "wife_age": 23,
          "wife_education": 3,
          "wife_religion": 1
         },
         {
          "contraceptive_method_used": 3,
          "standard_of_living_index": 2,
          "wife_age": 26,
          "wife_education": 4,
          "wife_religion": 1
         },
         {
          "contraceptive_method_used": 2,
          "standard_of_living_index": 4,
          "wife_age": 34,
          "wife_education": 4,
          "wife_religion": 1
         },
         {
          "contraceptive_method_used": 2,
          "standard_of_living_index": 4,
          "wife_age": 39,
          "wife_education": 4,
          "wife_religion": 1
         },
         {
          "contraceptive_method_used": 1,
          "standard_of_living_index": 2,
          "wife_age": 36,
          "wife_education": 2,
          "wife_religion": 1
         },
         {
          "contraceptive_method_used": 1,
          "standard_of_living_index": 1,
          "wife_age": 22,
          "wife_education": 2,
          "wife_religion": 1
         },
         {
          "contraceptive_method_used": 3,
          "standard_of_living_index": 3,
          "wife_age": 28,
          "wife_education": 2,
          "wife_religion": 1
         },
         {
          "contraceptive_method_used": 2,
          "standard_of_living_index": 4,
          "wife_age": 45,
          "wife_education": 3,
          "wife_religion": 1
         },
         {
          "contraceptive_method_used": 2,
          "standard_of_living_index": 3,
          "wife_age": 33,
          "wife_education": 4,
          "wife_religion": 0
         },
         {
          "contraceptive_method_used": 2,
          "standard_of_living_index": 4,
          "wife_age": 21,
          "wife_education": 4,
          "wife_religion": 1
         },
         {
          "contraceptive_method_used": 1,
          "standard_of_living_index": 3,
          "wife_age": 47,
          "wife_education": 2,
          "wife_religion": 1
         },
         {
          "contraceptive_method_used": 3,
          "standard_of_living_index": 2,
          "wife_age": 21,
          "wife_education": 3,
          "wife_religion": 0
         },
         {
          "contraceptive_method_used": 1,
          "standard_of_living_index": 2,
          "wife_age": 21,
          "wife_education": 3,
          "wife_religion": 1
         },
         {
          "contraceptive_method_used": 3,
          "standard_of_living_index": 2,
          "wife_age": 36,
          "wife_education": 4,
          "wife_religion": 0
         },
         {
          "contraceptive_method_used": 1,
          "standard_of_living_index": 4,
          "wife_age": 29,
          "wife_education": 3,
          "wife_religion": 1
         },
         {
          "contraceptive_method_used": 1,
          "standard_of_living_index": 1,
          "wife_age": 38,
          "wife_education": 1,
          "wife_religion": 1
         },
         {
          "contraceptive_method_used": 3,
          "standard_of_living_index": 3,
          "wife_age": 22,
          "wife_education": 3,
          "wife_religion": 1
         },
         {
          "contraceptive_method_used": 1,
          "standard_of_living_index": 4,
          "wife_age": 28,
          "wife_education": 4,
          "wife_religion": 0
         },
         {
          "contraceptive_method_used": 3,
          "standard_of_living_index": 3,
          "wife_age": 24,
          "wife_education": 2,
          "wife_religion": 1
         },
         {
          "contraceptive_method_used": 2,
          "standard_of_living_index": 2,
          "wife_age": 22,
          "wife_education": 4,
          "wife_religion": 1
         },
         {
          "contraceptive_method_used": 1,
          "standard_of_living_index": 4,
          "wife_age": 22,
          "wife_education": 4,
          "wife_religion": 1
         },
         {
          "contraceptive_method_used": 2,
          "standard_of_living_index": 4,
          "wife_age": 41,
          "wife_education": 4,
          "wife_religion": 0
         },
         {
          "contraceptive_method_used": 1,
          "standard_of_living_index": 4,
          "wife_age": 29,
          "wife_education": 2,
          "wife_religion": 1
         },
         {
          "contraceptive_method_used": 1,
          "standard_of_living_index": 1,
          "wife_age": 46,
          "wife_education": 1,
          "wife_religion": 1
         },
         {
          "contraceptive_method_used": 1,
          "standard_of_living_index": 3,
          "wife_age": 23,
          "wife_education": 3,
          "wife_religion": 1
         },
         {
          "contraceptive_method_used": 2,
          "standard_of_living_index": 4,
          "wife_age": 34,
          "wife_education": 4,
          "wife_religion": 1
         },
         {
          "contraceptive_method_used": 3,
          "standard_of_living_index": 4,
          "wife_age": 35,
          "wife_education": 4,
          "wife_religion": 1
         },
         {
          "contraceptive_method_used": 3,
          "standard_of_living_index": 3,
          "wife_age": 47,
          "wife_education": 4,
          "wife_religion": 1
         },
         {
          "contraceptive_method_used": 2,
          "standard_of_living_index": 4,
          "wife_age": 33,
          "wife_education": 2,
          "wife_religion": 1
         },
         {
          "contraceptive_method_used": 1,
          "standard_of_living_index": 4,
          "wife_age": 22,
          "wife_education": 3,
          "wife_religion": 1
         },
         {
          "contraceptive_method_used": 1,
          "standard_of_living_index": 4,
          "wife_age": 43,
          "wife_education": 4,
          "wife_religion": 0
         },
         {
          "contraceptive_method_used": 2,
          "standard_of_living_index": 4,
          "wife_age": 26,
          "wife_education": 1,
          "wife_religion": 1
         },
         {
          "contraceptive_method_used": 1,
          "standard_of_living_index": 4,
          "wife_age": 30,
          "wife_education": 2,
          "wife_religion": 1
         },
         {
          "contraceptive_method_used": 3,
          "standard_of_living_index": 1,
          "wife_age": 16,
          "wife_education": 2,
          "wife_religion": 1
         },
         {
          "contraceptive_method_used": 3,
          "standard_of_living_index": 4,
          "wife_age": 28,
          "wife_education": 4,
          "wife_religion": 0
         },
         {
          "contraceptive_method_used": 2,
          "standard_of_living_index": 4,
          "wife_age": 27,
          "wife_education": 3,
          "wife_religion": 0
         },
         {
          "contraceptive_method_used": 3,
          "standard_of_living_index": 3,
          "wife_age": 21,
          "wife_education": 3,
          "wife_religion": 1
         },
         {
          "contraceptive_method_used": 3,
          "standard_of_living_index": 3,
          "wife_age": 21,
          "wife_education": 3,
          "wife_religion": 1
         },
         {
          "contraceptive_method_used": 1,
          "standard_of_living_index": 4,
          "wife_age": 30,
          "wife_education": 3,
          "wife_religion": 1
         },
         {
          "contraceptive_method_used": 1,
          "standard_of_living_index": 3,
          "wife_age": 22,
          "wife_education": 4,
          "wife_religion": 1
         },
         {
          "contraceptive_method_used": 1,
          "standard_of_living_index": 2,
          "wife_age": 34,
          "wife_education": 2,
          "wife_religion": 1
         },
         {
          "contraceptive_method_used": 3,
          "standard_of_living_index": 1,
          "wife_age": 25,
          "wife_education": 1,
          "wife_religion": 1
         },
         {
          "contraceptive_method_used": 1,
          "standard_of_living_index": 2,
          "wife_age": 27,
          "wife_education": 2,
          "wife_religion": 1
         },
         {
          "contraceptive_method_used": 1,
          "standard_of_living_index": 4,
          "wife_age": 31,
          "wife_education": 3,
          "wife_religion": 1
         },
         {
          "contraceptive_method_used": 2,
          "standard_of_living_index": 4,
          "wife_age": 25,
          "wife_education": 4,
          "wife_religion": 1
         },
         {
          "contraceptive_method_used": 3,
          "standard_of_living_index": 4,
          "wife_age": 30,
          "wife_education": 4,
          "wife_religion": 1
         },
         {
          "contraceptive_method_used": 2,
          "standard_of_living_index": 4,
          "wife_age": 36,
          "wife_education": 4,
          "wife_religion": 1
         },
         {
          "contraceptive_method_used": 3,
          "standard_of_living_index": 2,
          "wife_age": 23,
          "wife_education": 1,
          "wife_religion": 1
         },
         {
          "contraceptive_method_used": 2,
          "standard_of_living_index": 3,
          "wife_age": 26,
          "wife_education": 4,
          "wife_religion": 1
         },
         {
          "contraceptive_method_used": 3,
          "standard_of_living_index": 4,
          "wife_age": 20,
          "wife_education": 4,
          "wife_religion": 1
         },
         {
          "contraceptive_method_used": 3,
          "standard_of_living_index": 4,
          "wife_age": 27,
          "wife_education": 4,
          "wife_religion": 0
         },
         {
          "contraceptive_method_used": 2,
          "standard_of_living_index": 4,
          "wife_age": 37,
          "wife_education": 4,
          "wife_religion": 0
         },
         {
          "contraceptive_method_used": 1,
          "standard_of_living_index": 4,
          "wife_age": 38,
          "wife_education": 4,
          "wife_religion": 1
         },
         {
          "contraceptive_method_used": 3,
          "standard_of_living_index": 2,
          "wife_age": 26,
          "wife_education": 3,
          "wife_religion": 1
         },
         {
          "contraceptive_method_used": 1,
          "standard_of_living_index": 4,
          "wife_age": 37,
          "wife_education": 3,
          "wife_religion": 1
         },
         {
          "contraceptive_method_used": 1,
          "standard_of_living_index": 3,
          "wife_age": 45,
          "wife_education": 4,
          "wife_religion": 1
         },
         {
          "contraceptive_method_used": 2,
          "standard_of_living_index": 3,
          "wife_age": 24,
          "wife_education": 2,
          "wife_religion": 1
         },
         {
          "contraceptive_method_used": 3,
          "standard_of_living_index": 4,
          "wife_age": 46,
          "wife_education": 3,
          "wife_religion": 1
         },
         {
          "contraceptive_method_used": 2,
          "standard_of_living_index": 4,
          "wife_age": 31,
          "wife_education": 4,
          "wife_religion": 1
         },
         {
          "contraceptive_method_used": 1,
          "standard_of_living_index": 3,
          "wife_age": 47,
          "wife_education": 3,
          "wife_religion": 1
         },
         {
          "contraceptive_method_used": 3,
          "standard_of_living_index": 3,
          "wife_age": 29,
          "wife_education": 2,
          "wife_religion": 1
         },
         {
          "contraceptive_method_used": 1,
          "standard_of_living_index": 2,
          "wife_age": 47,
          "wife_education": 2,
          "wife_religion": 1
         },
         {
          "contraceptive_method_used": 1,
          "standard_of_living_index": 4,
          "wife_age": 31,
          "wife_education": 3,
          "wife_religion": 1
         },
         {
          "contraceptive_method_used": 3,
          "standard_of_living_index": 2,
          "wife_age": 23,
          "wife_education": 3,
          "wife_religion": 1
         },
         {
          "contraceptive_method_used": 3,
          "standard_of_living_index": 1,
          "wife_age": 25,
          "wife_education": 2,
          "wife_religion": 1
         },
         {
          "contraceptive_method_used": 3,
          "standard_of_living_index": 4,
          "wife_age": 34,
          "wife_education": 4,
          "wife_religion": 0
         },
         {
          "contraceptive_method_used": 3,
          "standard_of_living_index": 2,
          "wife_age": 17,
          "wife_education": 2,
          "wife_religion": 1
         },
         {
          "contraceptive_method_used": 3,
          "standard_of_living_index": 3,
          "wife_age": 21,
          "wife_education": 4,
          "wife_religion": 1
         },
         {
          "contraceptive_method_used": 1,
          "standard_of_living_index": 3,
          "wife_age": 20,
          "wife_education": 3,
          "wife_religion": 1
         },
         {
          "contraceptive_method_used": 1,
          "standard_of_living_index": 4,
          "wife_age": 28,
          "wife_education": 4,
          "wife_religion": 0
         },
         {
          "contraceptive_method_used": 2,
          "standard_of_living_index": 3,
          "wife_age": 30,
          "wife_education": 4,
          "wife_religion": 1
         },
         {
          "contraceptive_method_used": 2,
          "standard_of_living_index": 2,
          "wife_age": 38,
          "wife_education": 2,
          "wife_religion": 1
         },
         {
          "contraceptive_method_used": 3,
          "standard_of_living_index": 4,
          "wife_age": 41,
          "wife_education": 3,
          "wife_religion": 0
         },
         {
          "contraceptive_method_used": 1,
          "standard_of_living_index": 4,
          "wife_age": 42,
          "wife_education": 4,
          "wife_religion": 1
         },
         {
          "contraceptive_method_used": 3,
          "standard_of_living_index": 3,
          "wife_age": 23,
          "wife_education": 4,
          "wife_religion": 1
         },
         {
          "contraceptive_method_used": 2,
          "standard_of_living_index": 3,
          "wife_age": 19,
          "wife_education": 4,
          "wife_religion": 1
         },
         {
          "contraceptive_method_used": 3,
          "standard_of_living_index": 4,
          "wife_age": 32,
          "wife_education": 4,
          "wife_religion": 1
         },
         {
          "contraceptive_method_used": 3,
          "standard_of_living_index": 3,
          "wife_age": 32,
          "wife_education": 1,
          "wife_religion": 1
         },
         {
          "contraceptive_method_used": 2,
          "standard_of_living_index": 2,
          "wife_age": 34,
          "wife_education": 2,
          "wife_religion": 1
         },
         {
          "contraceptive_method_used": 1,
          "standard_of_living_index": 3,
          "wife_age": 43,
          "wife_education": 2,
          "wife_religion": 1
         },
         {
          "contraceptive_method_used": 1,
          "standard_of_living_index": 4,
          "wife_age": 21,
          "wife_education": 1,
          "wife_religion": 1
         },
         {
          "contraceptive_method_used": 3,
          "standard_of_living_index": 3,
          "wife_age": 25,
          "wife_education": 2,
          "wife_religion": 1
         },
         {
          "contraceptive_method_used": 3,
          "standard_of_living_index": 2,
          "wife_age": 32,
          "wife_education": 2,
          "wife_religion": 1
         },
         {
          "contraceptive_method_used": 3,
          "standard_of_living_index": 4,
          "wife_age": 34,
          "wife_education": 4,
          "wife_religion": 1
         },
         {
          "contraceptive_method_used": 1,
          "standard_of_living_index": 4,
          "wife_age": 38,
          "wife_education": 4,
          "wife_religion": 1
         },
         {
          "contraceptive_method_used": 3,
          "standard_of_living_index": 4,
          "wife_age": 28,
          "wife_education": 4,
          "wife_religion": 0
         },
         {
          "contraceptive_method_used": 1,
          "standard_of_living_index": 4,
          "wife_age": 42,
          "wife_education": 1,
          "wife_religion": 1
         },
         {
          "contraceptive_method_used": 3,
          "standard_of_living_index": 1,
          "wife_age": 25,
          "wife_education": 3,
          "wife_religion": 1
         },
         {
          "contraceptive_method_used": 2,
          "standard_of_living_index": 4,
          "wife_age": 29,
          "wife_education": 4,
          "wife_religion": 1
         },
         {
          "contraceptive_method_used": 3,
          "standard_of_living_index": 4,
          "wife_age": 29,
          "wife_education": 4,
          "wife_religion": 1
         },
         {
          "contraceptive_method_used": 3,
          "standard_of_living_index": 3,
          "wife_age": 30,
          "wife_education": 2,
          "wife_religion": 1
         },
         {
          "contraceptive_method_used": 2,
          "standard_of_living_index": 4,
          "wife_age": 49,
          "wife_education": 3,
          "wife_religion": 1
         },
         {
          "contraceptive_method_used": 2,
          "standard_of_living_index": 4,
          "wife_age": 35,
          "wife_education": 4,
          "wife_religion": 0
         },
         {
          "contraceptive_method_used": 3,
          "standard_of_living_index": 4,
          "wife_age": 30,
          "wife_education": 1,
          "wife_religion": 1
         },
         {
          "contraceptive_method_used": 1,
          "standard_of_living_index": 1,
          "wife_age": 45,
          "wife_education": 2,
          "wife_religion": 1
         },
         {
          "contraceptive_method_used": 3,
          "standard_of_living_index": 3,
          "wife_age": 25,
          "wife_education": 2,
          "wife_religion": 1
         },
         {
          "contraceptive_method_used": 2,
          "standard_of_living_index": 3,
          "wife_age": 34,
          "wife_education": 4,
          "wife_religion": 1
         },
         {
          "contraceptive_method_used": 3,
          "standard_of_living_index": 4,
          "wife_age": 28,
          "wife_education": 2,
          "wife_religion": 1
         },
         {
          "contraceptive_method_used": 2,
          "standard_of_living_index": 4,
          "wife_age": 45,
          "wife_education": 3,
          "wife_religion": 0
         },
         {
          "contraceptive_method_used": 1,
          "standard_of_living_index": 3,
          "wife_age": 40,
          "wife_education": 2,
          "wife_religion": 1
         },
         {
          "contraceptive_method_used": 1,
          "standard_of_living_index": 3,
          "wife_age": 26,
          "wife_education": 4,
          "wife_religion": 1
         },
         {
          "contraceptive_method_used": 3,
          "standard_of_living_index": 4,
          "wife_age": 29,
          "wife_education": 1,
          "wife_religion": 1
         },
         {
          "contraceptive_method_used": 1,
          "standard_of_living_index": 4,
          "wife_age": 44,
          "wife_education": 4,
          "wife_religion": 0
         },
         {
          "contraceptive_method_used": 2,
          "standard_of_living_index": 4,
          "wife_age": 42,
          "wife_education": 4,
          "wife_religion": 1
         },
         {
          "contraceptive_method_used": 1,
          "standard_of_living_index": 1,
          "wife_age": 36,
          "wife_education": 2,
          "wife_religion": 1
         },
         {
          "contraceptive_method_used": 3,
          "standard_of_living_index": 4,
          "wife_age": 35,
          "wife_education": 4,
          "wife_religion": 0
         },
         {
          "contraceptive_method_used": 2,
          "standard_of_living_index": 2,
          "wife_age": 29,
          "wife_education": 4,
          "wife_religion": 1
         },
         {
          "contraceptive_method_used": 3,
          "standard_of_living_index": 4,
          "wife_age": 39,
          "wife_education": 3,
          "wife_religion": 1
         },
         {
          "contraceptive_method_used": 3,
          "standard_of_living_index": 1,
          "wife_age": 22,
          "wife_education": 4,
          "wife_religion": 0
         },
         {
          "contraceptive_method_used": 3,
          "standard_of_living_index": 4,
          "wife_age": 39,
          "wife_education": 1,
          "wife_religion": 1
         },
         {
          "contraceptive_method_used": 2,
          "standard_of_living_index": 4,
          "wife_age": 47,
          "wife_education": 1,
          "wife_religion": 1
         },
         {
          "contraceptive_method_used": 3,
          "standard_of_living_index": 3,
          "wife_age": 36,
          "wife_education": 2,
          "wife_religion": 1
         },
         {
          "contraceptive_method_used": 2,
          "standard_of_living_index": 4,
          "wife_age": 25,
          "wife_education": 4,
          "wife_religion": 1
         },
         {
          "contraceptive_method_used": 3,
          "standard_of_living_index": 4,
          "wife_age": 31,
          "wife_education": 4,
          "wife_religion": 1
         },
         {
          "contraceptive_method_used": 1,
          "standard_of_living_index": 2,
          "wife_age": 38,
          "wife_education": 2,
          "wife_religion": 1
         },
         {
          "contraceptive_method_used": 3,
          "standard_of_living_index": 3,
          "wife_age": 21,
          "wife_education": 2,
          "wife_religion": 1
         },
         {
          "contraceptive_method_used": 3,
          "standard_of_living_index": 2,
          "wife_age": 27,
          "wife_education": 4,
          "wife_religion": 1
         },
         {
          "contraceptive_method_used": 1,
          "standard_of_living_index": 2,
          "wife_age": 26,
          "wife_education": 2,
          "wife_religion": 1
         },
         {
          "contraceptive_method_used": 1,
          "standard_of_living_index": 2,
          "wife_age": 38,
          "wife_education": 2,
          "wife_religion": 1
         },
         {
          "contraceptive_method_used": 1,
          "standard_of_living_index": 1,
          "wife_age": 33,
          "wife_education": 1,
          "wife_religion": 1
         },
         {
          "contraceptive_method_used": 2,
          "standard_of_living_index": 4,
          "wife_age": 32,
          "wife_education": 3,
          "wife_religion": 1
         },
         {
          "contraceptive_method_used": 1,
          "standard_of_living_index": 4,
          "wife_age": 45,
          "wife_education": 2,
          "wife_religion": 1
         },
         {
          "contraceptive_method_used": 2,
          "standard_of_living_index": 3,
          "wife_age": 26,
          "wife_education": 3,
          "wife_religion": 1
         },
         {
          "contraceptive_method_used": 1,
          "standard_of_living_index": 2,
          "wife_age": 21,
          "wife_education": 1,
          "wife_religion": 1
         },
         {
          "contraceptive_method_used": 2,
          "standard_of_living_index": 4,
          "wife_age": 38,
          "wife_education": 4,
          "wife_religion": 1
         },
         {
          "contraceptive_method_used": 1,
          "standard_of_living_index": 4,
          "wife_age": 37,
          "wife_education": 4,
          "wife_religion": 1
         },
         {
          "contraceptive_method_used": 2,
          "standard_of_living_index": 2,
          "wife_age": 38,
          "wife_education": 2,
          "wife_religion": 1
         },
         {
          "contraceptive_method_used": 3,
          "standard_of_living_index": 4,
          "wife_age": 41,
          "wife_education": 4,
          "wife_religion": 1
         },
         {
          "contraceptive_method_used": 2,
          "standard_of_living_index": 4,
          "wife_age": 25,
          "wife_education": 2,
          "wife_religion": 1
         },
         {
          "contraceptive_method_used": 1,
          "standard_of_living_index": 4,
          "wife_age": 33,
          "wife_education": 4,
          "wife_religion": 1
         },
         {
          "contraceptive_method_used": 1,
          "standard_of_living_index": 3,
          "wife_age": 41,
          "wife_education": 2,
          "wife_religion": 1
         },
         {
          "contraceptive_method_used": 1,
          "standard_of_living_index": 1,
          "wife_age": 37,
          "wife_education": 3,
          "wife_religion": 1
         },
         {
          "contraceptive_method_used": 3,
          "standard_of_living_index": 4,
          "wife_age": 34,
          "wife_education": 3,
          "wife_religion": 1
         },
         {
          "contraceptive_method_used": 1,
          "standard_of_living_index": 1,
          "wife_age": 25,
          "wife_education": 2,
          "wife_religion": 1
         },
         {
          "contraceptive_method_used": 1,
          "standard_of_living_index": 4,
          "wife_age": 44,
          "wife_education": 3,
          "wife_religion": 1
         },
         {
          "contraceptive_method_used": 3,
          "standard_of_living_index": 1,
          "wife_age": 31,
          "wife_education": 3,
          "wife_religion": 1
         },
         {
          "contraceptive_method_used": 1,
          "standard_of_living_index": 3,
          "wife_age": 43,
          "wife_education": 3,
          "wife_religion": 1
         },
         {
          "contraceptive_method_used": 3,
          "standard_of_living_index": 4,
          "wife_age": 37,
          "wife_education": 4,
          "wife_religion": 1
         },
         {
          "contraceptive_method_used": 2,
          "standard_of_living_index": 3,
          "wife_age": 38,
          "wife_education": 4,
          "wife_religion": 1
         },
         {
          "contraceptive_method_used": 3,
          "standard_of_living_index": 4,
          "wife_age": 33,
          "wife_education": 3,
          "wife_religion": 1
         },
         {
          "contraceptive_method_used": 1,
          "standard_of_living_index": 4,
          "wife_age": 44,
          "wife_education": 4,
          "wife_religion": 1
         },
         {
          "contraceptive_method_used": 1,
          "standard_of_living_index": 3,
          "wife_age": 30,
          "wife_education": 4,
          "wife_religion": 1
         },
         {
          "contraceptive_method_used": 3,
          "standard_of_living_index": 3,
          "wife_age": 44,
          "wife_education": 4,
          "wife_religion": 0
         },
         {
          "contraceptive_method_used": 3,
          "standard_of_living_index": 2,
          "wife_age": 30,
          "wife_education": 2,
          "wife_religion": 1
         },
         {
          "contraceptive_method_used": 1,
          "standard_of_living_index": 3,
          "wife_age": 44,
          "wife_education": 4,
          "wife_religion": 1
         },
         {
          "contraceptive_method_used": 3,
          "standard_of_living_index": 1,
          "wife_age": 21,
          "wife_education": 2,
          "wife_religion": 1
         },
         {
          "contraceptive_method_used": 3,
          "standard_of_living_index": 4,
          "wife_age": 43,
          "wife_education": 4,
          "wife_religion": 0
         },
         {
          "contraceptive_method_used": 3,
          "standard_of_living_index": 4,
          "wife_age": 32,
          "wife_education": 4,
          "wife_religion": 1
         },
         {
          "contraceptive_method_used": 2,
          "standard_of_living_index": 4,
          "wife_age": 18,
          "wife_education": 3,
          "wife_religion": 1
         },
         {
          "contraceptive_method_used": 2,
          "standard_of_living_index": 2,
          "wife_age": 34,
          "wife_education": 4,
          "wife_religion": 0
         },
         {
          "contraceptive_method_used": 1,
          "standard_of_living_index": 1,
          "wife_age": 39,
          "wife_education": 1,
          "wife_religion": 1
         },
         {
          "contraceptive_method_used": 1,
          "standard_of_living_index": 4,
          "wife_age": 27,
          "wife_education": 3,
          "wife_religion": 1
         },
         {
          "contraceptive_method_used": 1,
          "standard_of_living_index": 2,
          "wife_age": 21,
          "wife_education": 3,
          "wife_religion": 1
         },
         {
          "contraceptive_method_used": 3,
          "standard_of_living_index": 3,
          "wife_age": 23,
          "wife_education": 2,
          "wife_religion": 1
         },
         {
          "contraceptive_method_used": 1,
          "standard_of_living_index": 3,
          "wife_age": 44,
          "wife_education": 3,
          "wife_religion": 1
         },
         {
          "contraceptive_method_used": 1,
          "standard_of_living_index": 3,
          "wife_age": 43,
          "wife_education": 2,
          "wife_religion": 0
         },
         {
          "contraceptive_method_used": 1,
          "standard_of_living_index": 3,
          "wife_age": 27,
          "wife_education": 3,
          "wife_religion": 1
         },
         {
          "contraceptive_method_used": 1,
          "standard_of_living_index": 3,
          "wife_age": 45,
          "wife_education": 3,
          "wife_religion": 1
         },
         {
          "contraceptive_method_used": 3,
          "standard_of_living_index": 2,
          "wife_age": 27,
          "wife_education": 3,
          "wife_religion": 1
         },
         {
          "contraceptive_method_used": 2,
          "standard_of_living_index": 4,
          "wife_age": 41,
          "wife_education": 3,
          "wife_religion": 1
         },
         {
          "contraceptive_method_used": 1,
          "standard_of_living_index": 2,
          "wife_age": 27,
          "wife_education": 4,
          "wife_religion": 1
         },
         {
          "contraceptive_method_used": 3,
          "standard_of_living_index": 1,
          "wife_age": 21,
          "wife_education": 3,
          "wife_religion": 1
         },
         {
          "contraceptive_method_used": 2,
          "standard_of_living_index": 3,
          "wife_age": 27,
          "wife_education": 4,
          "wife_religion": 1
         },
         {
          "contraceptive_method_used": 3,
          "standard_of_living_index": 2,
          "wife_age": 35,
          "wife_education": 2,
          "wife_religion": 1
         },
         {
          "contraceptive_method_used": 2,
          "standard_of_living_index": 3,
          "wife_age": 47,
          "wife_education": 1,
          "wife_religion": 1
         },
         {
          "contraceptive_method_used": 1,
          "standard_of_living_index": 3,
          "wife_age": 36,
          "wife_education": 2,
          "wife_religion": 1
         },
         {
          "contraceptive_method_used": 3,
          "standard_of_living_index": 4,
          "wife_age": 30,
          "wife_education": 2,
          "wife_religion": 1
         },
         {
          "contraceptive_method_used": 3,
          "standard_of_living_index": 1,
          "wife_age": 22,
          "wife_education": 3,
          "wife_religion": 1
         },
         {
          "contraceptive_method_used": 1,
          "standard_of_living_index": 2,
          "wife_age": 26,
          "wife_education": 3,
          "wife_religion": 0
         },
         {
          "contraceptive_method_used": 2,
          "standard_of_living_index": 2,
          "wife_age": 22,
          "wife_education": 4,
          "wife_religion": 1
         },
         {
          "contraceptive_method_used": 1,
          "standard_of_living_index": 3,
          "wife_age": 36,
          "wife_education": 2,
          "wife_religion": 0
         },
         {
          "contraceptive_method_used": 3,
          "standard_of_living_index": 4,
          "wife_age": 25,
          "wife_education": 3,
          "wife_religion": 1
         },
         {
          "contraceptive_method_used": 3,
          "standard_of_living_index": 3,
          "wife_age": 25,
          "wife_education": 1,
          "wife_religion": 1
         },
         {
          "contraceptive_method_used": 2,
          "standard_of_living_index": 4,
          "wife_age": 23,
          "wife_education": 4,
          "wife_religion": 1
         },
         {
          "contraceptive_method_used": 1,
          "standard_of_living_index": 3,
          "wife_age": 46,
          "wife_education": 1,
          "wife_religion": 1
         },
         {
          "contraceptive_method_used": 1,
          "standard_of_living_index": 1,
          "wife_age": 27,
          "wife_education": 2,
          "wife_religion": 1
         },
         {
          "contraceptive_method_used": 3,
          "standard_of_living_index": 1,
          "wife_age": 24,
          "wife_education": 2,
          "wife_religion": 1
         },
         {
          "contraceptive_method_used": 3,
          "standard_of_living_index": 2,
          "wife_age": 35,
          "wife_education": 2,
          "wife_religion": 1
         },
         {
          "contraceptive_method_used": 1,
          "standard_of_living_index": 2,
          "wife_age": 28,
          "wife_education": 3,
          "wife_religion": 1
         },
         {
          "contraceptive_method_used": 1,
          "standard_of_living_index": 4,
          "wife_age": 25,
          "wife_education": 3,
          "wife_religion": 1
         },
         {
          "contraceptive_method_used": 2,
          "standard_of_living_index": 4,
          "wife_age": 33,
          "wife_education": 3,
          "wife_religion": 1
         },
         {
          "contraceptive_method_used": 3,
          "standard_of_living_index": 3,
          "wife_age": 41,
          "wife_education": 4,
          "wife_religion": 1
         },
         {
          "contraceptive_method_used": 1,
          "standard_of_living_index": 3,
          "wife_age": 41,
          "wife_education": 3,
          "wife_religion": 1
         },
         {
          "contraceptive_method_used": 1,
          "standard_of_living_index": 3,
          "wife_age": 46,
          "wife_education": 4,
          "wife_religion": 1
         },
         {
          "contraceptive_method_used": 3,
          "standard_of_living_index": 4,
          "wife_age": 43,
          "wife_education": 4,
          "wife_religion": 1
         },
         {
          "contraceptive_method_used": 1,
          "standard_of_living_index": 4,
          "wife_age": 25,
          "wife_education": 4,
          "wife_religion": 1
         },
         {
          "contraceptive_method_used": 3,
          "standard_of_living_index": 2,
          "wife_age": 22,
          "wife_education": 3,
          "wife_religion": 1
         },
         {
          "contraceptive_method_used": 3,
          "standard_of_living_index": 4,
          "wife_age": 21,
          "wife_education": 4,
          "wife_religion": 0
         },
         {
          "contraceptive_method_used": 1,
          "standard_of_living_index": 3,
          "wife_age": 48,
          "wife_education": 2,
          "wife_religion": 1
         },
         {
          "contraceptive_method_used": 2,
          "standard_of_living_index": 2,
          "wife_age": 28,
          "wife_education": 3,
          "wife_religion": 1
         },
         {
          "contraceptive_method_used": 1,
          "standard_of_living_index": 4,
          "wife_age": 25,
          "wife_education": 3,
          "wife_religion": 1
         },
         {
          "contraceptive_method_used": 2,
          "standard_of_living_index": 4,
          "wife_age": 33,
          "wife_education": 4,
          "wife_religion": 1
         },
         {
          "contraceptive_method_used": 3,
          "standard_of_living_index": 4,
          "wife_age": 31,
          "wife_education": 4,
          "wife_religion": 1
         },
         {
          "contraceptive_method_used": 1,
          "standard_of_living_index": 4,
          "wife_age": 25,
          "wife_education": 4,
          "wife_religion": 0
         },
         {
          "contraceptive_method_used": 2,
          "standard_of_living_index": 3,
          "wife_age": 32,
          "wife_education": 3,
          "wife_religion": 1
         },
         {
          "contraceptive_method_used": 1,
          "standard_of_living_index": 4,
          "wife_age": 45,
          "wife_education": 4,
          "wife_religion": 1
         },
         {
          "contraceptive_method_used": 1,
          "standard_of_living_index": 4,
          "wife_age": 26,
          "wife_education": 4,
          "wife_religion": 1
         },
         {
          "contraceptive_method_used": 2,
          "standard_of_living_index": 4,
          "wife_age": 36,
          "wife_education": 4,
          "wife_religion": 1
         },
         {
          "contraceptive_method_used": 1,
          "standard_of_living_index": 3,
          "wife_age": 27,
          "wife_education": 3,
          "wife_religion": 1
         },
         {
          "contraceptive_method_used": 1,
          "standard_of_living_index": 3,
          "wife_age": 32,
          "wife_education": 4,
          "wife_religion": 1
         },
         {
          "contraceptive_method_used": 3,
          "standard_of_living_index": 3,
          "wife_age": 24,
          "wife_education": 4,
          "wife_religion": 1
         },
         {
          "contraceptive_method_used": 2,
          "standard_of_living_index": 4,
          "wife_age": 39,
          "wife_education": 4,
          "wife_religion": 1
         },
         {
          "contraceptive_method_used": 3,
          "standard_of_living_index": 1,
          "wife_age": 31,
          "wife_education": 3,
          "wife_religion": 1
         },
         {
          "contraceptive_method_used": 3,
          "standard_of_living_index": 3,
          "wife_age": 30,
          "wife_education": 4,
          "wife_religion": 1
         },
         {
          "contraceptive_method_used": 1,
          "standard_of_living_index": 4,
          "wife_age": 20,
          "wife_education": 2,
          "wife_religion": 1
         },
         {
          "contraceptive_method_used": 2,
          "standard_of_living_index": 4,
          "wife_age": 23,
          "wife_education": 4,
          "wife_religion": 1
         },
         {
          "contraceptive_method_used": 3,
          "standard_of_living_index": 4,
          "wife_age": 35,
          "wife_education": 2,
          "wife_religion": 1
         },
         {
          "contraceptive_method_used": 1,
          "standard_of_living_index": 4,
          "wife_age": 37,
          "wife_education": 3,
          "wife_religion": 1
         },
         {
          "contraceptive_method_used": 1,
          "standard_of_living_index": 1,
          "wife_age": 30,
          "wife_education": 1,
          "wife_religion": 1
         },
         {
          "contraceptive_method_used": 2,
          "standard_of_living_index": 4,
          "wife_age": 27,
          "wife_education": 4,
          "wife_religion": 0
         },
         {
          "contraceptive_method_used": 3,
          "standard_of_living_index": 2,
          "wife_age": 25,
          "wife_education": 2,
          "wife_religion": 1
         },
         {
          "contraceptive_method_used": 2,
          "standard_of_living_index": 3,
          "wife_age": 28,
          "wife_education": 2,
          "wife_religion": 1
         },
         {
          "contraceptive_method_used": 2,
          "standard_of_living_index": 4,
          "wife_age": 33,
          "wife_education": 4,
          "wife_religion": 1
         },
         {
          "contraceptive_method_used": 1,
          "standard_of_living_index": 3,
          "wife_age": 28,
          "wife_education": 3,
          "wife_religion": 1
         },
         {
          "contraceptive_method_used": 3,
          "standard_of_living_index": 4,
          "wife_age": 37,
          "wife_education": 4,
          "wife_religion": 1
         },
         {
          "contraceptive_method_used": 1,
          "standard_of_living_index": 3,
          "wife_age": 25,
          "wife_education": 4,
          "wife_religion": 0
         },
         {
          "contraceptive_method_used": 1,
          "standard_of_living_index": 4,
          "wife_age": 44,
          "wife_education": 3,
          "wife_religion": 1
         },
         {
          "contraceptive_method_used": 1,
          "standard_of_living_index": 4,
          "wife_age": 16,
          "wife_education": 2,
          "wife_religion": 1
         },
         {
          "contraceptive_method_used": 3,
          "standard_of_living_index": 4,
          "wife_age": 33,
          "wife_education": 4,
          "wife_religion": 1
         },
         {
          "contraceptive_method_used": 3,
          "standard_of_living_index": 2,
          "wife_age": 32,
          "wife_education": 3,
          "wife_religion": 1
         },
         {
          "contraceptive_method_used": 1,
          "standard_of_living_index": 4,
          "wife_age": 35,
          "wife_education": 4,
          "wife_religion": 1
         },
         {
          "contraceptive_method_used": 2,
          "standard_of_living_index": 4,
          "wife_age": 32,
          "wife_education": 4,
          "wife_religion": 1
         },
         {
          "contraceptive_method_used": 3,
          "standard_of_living_index": 3,
          "wife_age": 25,
          "wife_education": 3,
          "wife_religion": 1
         },
         {
          "contraceptive_method_used": 2,
          "standard_of_living_index": 4,
          "wife_age": 38,
          "wife_education": 4,
          "wife_religion": 1
         },
         {
          "contraceptive_method_used": 3,
          "standard_of_living_index": 4,
          "wife_age": 30,
          "wife_education": 4,
          "wife_religion": 1
         },
         {
          "contraceptive_method_used": 3,
          "standard_of_living_index": 4,
          "wife_age": 23,
          "wife_education": 2,
          "wife_religion": 1
         },
         {
          "contraceptive_method_used": 1,
          "standard_of_living_index": 2,
          "wife_age": 19,
          "wife_education": 2,
          "wife_religion": 1
         },
         {
          "contraceptive_method_used": 3,
          "standard_of_living_index": 4,
          "wife_age": 40,
          "wife_education": 2,
          "wife_religion": 0
         },
         {
          "contraceptive_method_used": 2,
          "standard_of_living_index": 3,
          "wife_age": 26,
          "wife_education": 3,
          "wife_religion": 1
         },
         {
          "contraceptive_method_used": 1,
          "standard_of_living_index": 4,
          "wife_age": 31,
          "wife_education": 3,
          "wife_religion": 1
         },
         {
          "contraceptive_method_used": 2,
          "standard_of_living_index": 4,
          "wife_age": 37,
          "wife_education": 4,
          "wife_religion": 1
         },
         {
          "contraceptive_method_used": 1,
          "standard_of_living_index": 1,
          "wife_age": 24,
          "wife_education": 2,
          "wife_religion": 1
         },
         {
          "contraceptive_method_used": 3,
          "standard_of_living_index": 2,
          "wife_age": 30,
          "wife_education": 4,
          "wife_religion": 1
         },
         {
          "contraceptive_method_used": 3,
          "standard_of_living_index": 4,
          "wife_age": 26,
          "wife_education": 3,
          "wife_religion": 1
         },
         {
          "contraceptive_method_used": 2,
          "standard_of_living_index": 4,
          "wife_age": 44,
          "wife_education": 4,
          "wife_religion": 1
         },
         {
          "contraceptive_method_used": 1,
          "standard_of_living_index": 2,
          "wife_age": 46,
          "wife_education": 3,
          "wife_religion": 1
         },
         {
          "contraceptive_method_used": 3,
          "standard_of_living_index": 4,
          "wife_age": 44,
          "wife_education": 4,
          "wife_religion": 1
         },
         {
          "contraceptive_method_used": 1,
          "standard_of_living_index": 1,
          "wife_age": 48,
          "wife_education": 1,
          "wife_religion": 1
         },
         {
          "contraceptive_method_used": 1,
          "standard_of_living_index": 3,
          "wife_age": 47,
          "wife_education": 1,
          "wife_religion": 1
         },
         {
          "contraceptive_method_used": 1,
          "standard_of_living_index": 3,
          "wife_age": 47,
          "wife_education": 1,
          "wife_religion": 1
         },
         {
          "contraceptive_method_used": 3,
          "standard_of_living_index": 1,
          "wife_age": 27,
          "wife_education": 2,
          "wife_religion": 1
         },
         {
          "contraceptive_method_used": 1,
          "standard_of_living_index": 1,
          "wife_age": 24,
          "wife_education": 3,
          "wife_religion": 1
         },
         {
          "contraceptive_method_used": 3,
          "standard_of_living_index": 4,
          "wife_age": 41,
          "wife_education": 4,
          "wife_religion": 1
         },
         {
          "contraceptive_method_used": 2,
          "standard_of_living_index": 4,
          "wife_age": 32,
          "wife_education": 4,
          "wife_religion": 0
         },
         {
          "contraceptive_method_used": 3,
          "standard_of_living_index": 3,
          "wife_age": 26,
          "wife_education": 2,
          "wife_religion": 1
         },
         {
          "contraceptive_method_used": 3,
          "standard_of_living_index": 3,
          "wife_age": 24,
          "wife_education": 2,
          "wife_religion": 1
         },
         {
          "contraceptive_method_used": 2,
          "standard_of_living_index": 4,
          "wife_age": 20,
          "wife_education": 3,
          "wife_religion": 1
         },
         {
          "contraceptive_method_used": 1,
          "standard_of_living_index": 2,
          "wife_age": 48,
          "wife_education": 1,
          "wife_religion": 1
         },
         {
          "contraceptive_method_used": 1,
          "standard_of_living_index": 2,
          "wife_age": 45,
          "wife_education": 1,
          "wife_religion": 1
         },
         {
          "contraceptive_method_used": 1,
          "standard_of_living_index": 4,
          "wife_age": 30,
          "wife_education": 4,
          "wife_religion": 1
         },
         {
          "contraceptive_method_used": 3,
          "standard_of_living_index": 2,
          "wife_age": 34,
          "wife_education": 2,
          "wife_religion": 0
         },
         {
          "contraceptive_method_used": 1,
          "standard_of_living_index": 3,
          "wife_age": 23,
          "wife_education": 2,
          "wife_religion": 1
         },
         {
          "contraceptive_method_used": 3,
          "standard_of_living_index": 1,
          "wife_age": 29,
          "wife_education": 3,
          "wife_religion": 1
         },
         {
          "contraceptive_method_used": 1,
          "standard_of_living_index": 1,
          "wife_age": 29,
          "wife_education": 2,
          "wife_religion": 1
         },
         {
          "contraceptive_method_used": 1,
          "standard_of_living_index": 4,
          "wife_age": 48,
          "wife_education": 4,
          "wife_religion": 1
         },
         {
          "contraceptive_method_used": 1,
          "standard_of_living_index": 4,
          "wife_age": 27,
          "wife_education": 4,
          "wife_religion": 1
         },
         {
          "contraceptive_method_used": 3,
          "standard_of_living_index": 4,
          "wife_age": 27,
          "wife_education": 2,
          "wife_religion": 1
         },
         {
          "contraceptive_method_used": 1,
          "standard_of_living_index": 4,
          "wife_age": 22,
          "wife_education": 4,
          "wife_religion": 1
         },
         {
          "contraceptive_method_used": 1,
          "standard_of_living_index": 3,
          "wife_age": 47,
          "wife_education": 1,
          "wife_religion": 1
         },
         {
          "contraceptive_method_used": 1,
          "standard_of_living_index": 2,
          "wife_age": 21,
          "wife_education": 2,
          "wife_religion": 1
         },
         {
          "contraceptive_method_used": 1,
          "standard_of_living_index": 2,
          "wife_age": 40,
          "wife_education": 3,
          "wife_religion": 1
         },
         {
          "contraceptive_method_used": 2,
          "standard_of_living_index": 2,
          "wife_age": 21,
          "wife_education": 2,
          "wife_religion": 1
         },
         {
          "contraceptive_method_used": 1,
          "standard_of_living_index": 1,
          "wife_age": 44,
          "wife_education": 1,
          "wife_religion": 1
         },
         {
          "contraceptive_method_used": 3,
          "standard_of_living_index": 3,
          "wife_age": 19,
          "wife_education": 4,
          "wife_religion": 1
         },
         {
          "contraceptive_method_used": 2,
          "standard_of_living_index": 4,
          "wife_age": 45,
          "wife_education": 4,
          "wife_religion": 0
         },
         {
          "contraceptive_method_used": 3,
          "standard_of_living_index": 3,
          "wife_age": 24,
          "wife_education": 4,
          "wife_religion": 1
         },
         {
          "contraceptive_method_used": 3,
          "standard_of_living_index": 4,
          "wife_age": 28,
          "wife_education": 4,
          "wife_religion": 1
         },
         {
          "contraceptive_method_used": 1,
          "standard_of_living_index": 2,
          "wife_age": 32,
          "wife_education": 1,
          "wife_religion": 1
         },
         {
          "contraceptive_method_used": 3,
          "standard_of_living_index": 1,
          "wife_age": 29,
          "wife_education": 2,
          "wife_religion": 1
         },
         {
          "contraceptive_method_used": 2,
          "standard_of_living_index": 1,
          "wife_age": 21,
          "wife_education": 4,
          "wife_religion": 1
         },
         {
          "contraceptive_method_used": 1,
          "standard_of_living_index": 3,
          "wife_age": 40,
          "wife_education": 2,
          "wife_religion": 1
         },
         {
          "contraceptive_method_used": 1,
          "standard_of_living_index": 2,
          "wife_age": 41,
          "wife_education": 2,
          "wife_religion": 0
         },
         {
          "contraceptive_method_used": 1,
          "standard_of_living_index": 3,
          "wife_age": 34,
          "wife_education": 4,
          "wife_religion": 0
         },
         {
          "contraceptive_method_used": 1,
          "standard_of_living_index": 4,
          "wife_age": 49,
          "wife_education": 4,
          "wife_religion": 1
         },
         {
          "contraceptive_method_used": 3,
          "standard_of_living_index": 4,
          "wife_age": 33,
          "wife_education": 2,
          "wife_religion": 1
         },
         {
          "contraceptive_method_used": 3,
          "standard_of_living_index": 4,
          "wife_age": 28,
          "wife_education": 2,
          "wife_religion": 1
         },
         {
          "contraceptive_method_used": 1,
          "standard_of_living_index": 3,
          "wife_age": 33,
          "wife_education": 1,
          "wife_religion": 1
         },
         {
          "contraceptive_method_used": 1,
          "standard_of_living_index": 4,
          "wife_age": 26,
          "wife_education": 2,
          "wife_religion": 1
         },
         {
          "contraceptive_method_used": 1,
          "standard_of_living_index": 4,
          "wife_age": 45,
          "wife_education": 3,
          "wife_religion": 1
         },
         {
          "contraceptive_method_used": 1,
          "standard_of_living_index": 2,
          "wife_age": 28,
          "wife_education": 3,
          "wife_religion": 0
         },
         {
          "contraceptive_method_used": 1,
          "standard_of_living_index": 4,
          "wife_age": 25,
          "wife_education": 4,
          "wife_religion": 1
         },
         {
          "contraceptive_method_used": 3,
          "standard_of_living_index": 2,
          "wife_age": 29,
          "wife_education": 3,
          "wife_religion": 1
         },
         {
          "contraceptive_method_used": 1,
          "standard_of_living_index": 3,
          "wife_age": 45,
          "wife_education": 2,
          "wife_religion": 1
         },
         {
          "contraceptive_method_used": 2,
          "standard_of_living_index": 4,
          "wife_age": 36,
          "wife_education": 3,
          "wife_religion": 0
         },
         {
          "contraceptive_method_used": 1,
          "standard_of_living_index": 2,
          "wife_age": 25,
          "wife_education": 3,
          "wife_religion": 1
         },
         {
          "contraceptive_method_used": 3,
          "standard_of_living_index": 3,
          "wife_age": 26,
          "wife_education": 2,
          "wife_religion": 1
         },
         {
          "contraceptive_method_used": 3,
          "standard_of_living_index": 2,
          "wife_age": 29,
          "wife_education": 2,
          "wife_religion": 1
         },
         {
          "contraceptive_method_used": 2,
          "standard_of_living_index": 2,
          "wife_age": 36,
          "wife_education": 3,
          "wife_religion": 1
         },
         {
          "contraceptive_method_used": 1,
          "standard_of_living_index": 2,
          "wife_age": 26,
          "wife_education": 3,
          "wife_religion": 1
         },
         {
          "contraceptive_method_used": 2,
          "standard_of_living_index": 3,
          "wife_age": 35,
          "wife_education": 1,
          "wife_religion": 1
         },
         {
          "contraceptive_method_used": 3,
          "standard_of_living_index": 4,
          "wife_age": 32,
          "wife_education": 3,
          "wife_religion": 0
         },
         {
          "contraceptive_method_used": 3,
          "standard_of_living_index": 4,
          "wife_age": 26,
          "wife_education": 4,
          "wife_religion": 1
         },
         {
          "contraceptive_method_used": 3,
          "standard_of_living_index": 4,
          "wife_age": 22,
          "wife_education": 3,
          "wife_religion": 0
         },
         {
          "contraceptive_method_used": 3,
          "standard_of_living_index": 2,
          "wife_age": 20,
          "wife_education": 2,
          "wife_religion": 1
         },
         {
          "contraceptive_method_used": 3,
          "standard_of_living_index": 4,
          "wife_age": 25,
          "wife_education": 3,
          "wife_religion": 1
         },
         {
          "contraceptive_method_used": 1,
          "standard_of_living_index": 3,
          "wife_age": 34,
          "wife_education": 3,
          "wife_religion": 1
         },
         {
          "contraceptive_method_used": 3,
          "standard_of_living_index": 3,
          "wife_age": 19,
          "wife_education": 2,
          "wife_religion": 1
         },
         {
          "contraceptive_method_used": 3,
          "standard_of_living_index": 4,
          "wife_age": 29,
          "wife_education": 3,
          "wife_religion": 0
         },
         {
          "contraceptive_method_used": 3,
          "standard_of_living_index": 3,
          "wife_age": 26,
          "wife_education": 3,
          "wife_religion": 1
         },
         {
          "contraceptive_method_used": 1,
          "standard_of_living_index": 1,
          "wife_age": 26,
          "wife_education": 2,
          "wife_religion": 1
         },
         {
          "contraceptive_method_used": 2,
          "standard_of_living_index": 3,
          "wife_age": 35,
          "wife_education": 4,
          "wife_religion": 1
         },
         {
          "contraceptive_method_used": 1,
          "standard_of_living_index": 2,
          "wife_age": 44,
          "wife_education": 2,
          "wife_religion": 1
         },
         {
          "contraceptive_method_used": 1,
          "standard_of_living_index": 1,
          "wife_age": 25,
          "wife_education": 3,
          "wife_religion": 1
         },
         {
          "contraceptive_method_used": 3,
          "standard_of_living_index": 4,
          "wife_age": 20,
          "wife_education": 3,
          "wife_religion": 1
         },
         {
          "contraceptive_method_used": 1,
          "standard_of_living_index": 4,
          "wife_age": 32,
          "wife_education": 3,
          "wife_religion": 1
         },
         {
          "contraceptive_method_used": 1,
          "standard_of_living_index": 3,
          "wife_age": 34,
          "wife_education": 2,
          "wife_religion": 1
         },
         {
          "contraceptive_method_used": 3,
          "standard_of_living_index": 4,
          "wife_age": 31,
          "wife_education": 4,
          "wife_religion": 1
         },
         {
          "contraceptive_method_used": 3,
          "standard_of_living_index": 4,
          "wife_age": 43,
          "wife_education": 4,
          "wife_religion": 1
         },
         {
          "contraceptive_method_used": 3,
          "standard_of_living_index": 2,
          "wife_age": 27,
          "wife_education": 2,
          "wife_religion": 1
         },
         {
          "contraceptive_method_used": 1,
          "standard_of_living_index": 3,
          "wife_age": 28,
          "wife_education": 4,
          "wife_religion": 0
         },
         {
          "contraceptive_method_used": 1,
          "standard_of_living_index": 3,
          "wife_age": 45,
          "wife_education": 3,
          "wife_religion": 1
         },
         {
          "contraceptive_method_used": 3,
          "standard_of_living_index": 3,
          "wife_age": 25,
          "wife_education": 2,
          "wife_religion": 1
         },
         {
          "contraceptive_method_used": 3,
          "standard_of_living_index": 2,
          "wife_age": 22,
          "wife_education": 4,
          "wife_religion": 1
         },
         {
          "contraceptive_method_used": 3,
          "standard_of_living_index": 2,
          "wife_age": 28,
          "wife_education": 4,
          "wife_religion": 1
         },
         {
          "contraceptive_method_used": 1,
          "standard_of_living_index": 2,
          "wife_age": 37,
          "wife_education": 2,
          "wife_religion": 1
         },
         {
          "contraceptive_method_used": 1,
          "standard_of_living_index": 4,
          "wife_age": 42,
          "wife_education": 4,
          "wife_religion": 1
         },
         {
          "contraceptive_method_used": 3,
          "standard_of_living_index": 3,
          "wife_age": 33,
          "wife_education": 2,
          "wife_religion": 1
         },
         {
          "contraceptive_method_used": 1,
          "standard_of_living_index": 1,
          "wife_age": 23,
          "wife_education": 1,
          "wife_religion": 1
         },
         {
          "contraceptive_method_used": 1,
          "standard_of_living_index": 3,
          "wife_age": 24,
          "wife_education": 4,
          "wife_religion": 1
         },
         {
          "contraceptive_method_used": 3,
          "standard_of_living_index": 4,
          "wife_age": 24,
          "wife_education": 4,
          "wife_religion": 1
         },
         {
          "contraceptive_method_used": 1,
          "standard_of_living_index": 1,
          "wife_age": 47,
          "wife_education": 2,
          "wife_religion": 1
         },
         {
          "contraceptive_method_used": 1,
          "standard_of_living_index": 4,
          "wife_age": 47,
          "wife_education": 4,
          "wife_religion": 1
         },
         {
          "contraceptive_method_used": 3,
          "standard_of_living_index": 1,
          "wife_age": 19,
          "wife_education": 3,
          "wife_religion": 1
         },
         {
          "contraceptive_method_used": 3,
          "standard_of_living_index": 4,
          "wife_age": 27,
          "wife_education": 4,
          "wife_religion": 1
         },
         {
          "contraceptive_method_used": 1,
          "standard_of_living_index": 3,
          "wife_age": 47,
          "wife_education": 2,
          "wife_religion": 1
         },
         {
          "contraceptive_method_used": 3,
          "standard_of_living_index": 3,
          "wife_age": 40,
          "wife_education": 3,
          "wife_religion": 1
         },
         {
          "contraceptive_method_used": 3,
          "standard_of_living_index": 4,
          "wife_age": 35,
          "wife_education": 3,
          "wife_religion": 1
         },
         {
          "contraceptive_method_used": 3,
          "standard_of_living_index": 3,
          "wife_age": 40,
          "wife_education": 2,
          "wife_religion": 1
         },
         {
          "contraceptive_method_used": 3,
          "standard_of_living_index": 3,
          "wife_age": 21,
          "wife_education": 3,
          "wife_religion": 1
         },
         {
          "contraceptive_method_used": 2,
          "standard_of_living_index": 2,
          "wife_age": 20,
          "wife_education": 3,
          "wife_religion": 1
         },
         {
          "contraceptive_method_used": 1,
          "standard_of_living_index": 1,
          "wife_age": 32,
          "wife_education": 2,
          "wife_religion": 1
         },
         {
          "contraceptive_method_used": 1,
          "standard_of_living_index": 2,
          "wife_age": 42,
          "wife_education": 3,
          "wife_religion": 1
         },
         {
          "contraceptive_method_used": 1,
          "standard_of_living_index": 2,
          "wife_age": 32,
          "wife_education": 3,
          "wife_religion": 1
         },
         {
          "contraceptive_method_used": 3,
          "standard_of_living_index": 4,
          "wife_age": 29,
          "wife_education": 3,
          "wife_religion": 1
         },
         {
          "contraceptive_method_used": 1,
          "standard_of_living_index": 2,
          "wife_age": 36,
          "wife_education": 3,
          "wife_religion": 1
         },
         {
          "contraceptive_method_used": 1,
          "standard_of_living_index": 3,
          "wife_age": 49,
          "wife_education": 1,
          "wife_religion": 1
         },
         {
          "contraceptive_method_used": 1,
          "standard_of_living_index": 3,
          "wife_age": 47,
          "wife_education": 1,
          "wife_religion": 1
         },
         {
          "contraceptive_method_used": 3,
          "standard_of_living_index": 4,
          "wife_age": 45,
          "wife_education": 2,
          "wife_religion": 0
         },
         {
          "contraceptive_method_used": 1,
          "standard_of_living_index": 1,
          "wife_age": 48,
          "wife_education": 3,
          "wife_religion": 1
         },
         {
          "contraceptive_method_used": 3,
          "standard_of_living_index": 4,
          "wife_age": 37,
          "wife_education": 2,
          "wife_religion": 1
         },
         {
          "contraceptive_method_used": 1,
          "standard_of_living_index": 4,
          "wife_age": 45,
          "wife_education": 3,
          "wife_religion": 0
         },
         {
          "contraceptive_method_used": 2,
          "standard_of_living_index": 4,
          "wife_age": 34,
          "wife_education": 4,
          "wife_religion": 1
         },
         {
          "contraceptive_method_used": 1,
          "standard_of_living_index": 2,
          "wife_age": 25,
          "wife_education": 4,
          "wife_religion": 1
         },
         {
          "contraceptive_method_used": 2,
          "standard_of_living_index": 3,
          "wife_age": 28,
          "wife_education": 4,
          "wife_religion": 1
         },
         {
          "contraceptive_method_used": 3,
          "standard_of_living_index": 4,
          "wife_age": 25,
          "wife_education": 3,
          "wife_religion": 1
         },
         {
          "contraceptive_method_used": 2,
          "standard_of_living_index": 4,
          "wife_age": 39,
          "wife_education": 4,
          "wife_religion": 1
         },
         {
          "contraceptive_method_used": 1,
          "standard_of_living_index": 4,
          "wife_age": 20,
          "wife_education": 4,
          "wife_religion": 0
         },
         {
          "contraceptive_method_used": 3,
          "standard_of_living_index": 4,
          "wife_age": 20,
          "wife_education": 3,
          "wife_religion": 0
         },
         {
          "contraceptive_method_used": 3,
          "standard_of_living_index": 2,
          "wife_age": 26,
          "wife_education": 3,
          "wife_religion": 1
         },
         {
          "contraceptive_method_used": 3,
          "standard_of_living_index": 4,
          "wife_age": 37,
          "wife_education": 4,
          "wife_religion": 1
         },
         {
          "contraceptive_method_used": 3,
          "standard_of_living_index": 3,
          "wife_age": 29,
          "wife_education": 3,
          "wife_religion": 1
         },
         {
          "contraceptive_method_used": 1,
          "standard_of_living_index": 4,
          "wife_age": 38,
          "wife_education": 1,
          "wife_religion": 1
         },
         {
          "contraceptive_method_used": 2,
          "standard_of_living_index": 4,
          "wife_age": 41,
          "wife_education": 4,
          "wife_religion": 1
         },
         {
          "contraceptive_method_used": 2,
          "standard_of_living_index": 4,
          "wife_age": 33,
          "wife_education": 4,
          "wife_religion": 1
         },
         {
          "contraceptive_method_used": 3,
          "standard_of_living_index": 4,
          "wife_age": 27,
          "wife_education": 4,
          "wife_religion": 1
         },
         {
          "contraceptive_method_used": 1,
          "standard_of_living_index": 3,
          "wife_age": 26,
          "wife_education": 3,
          "wife_religion": 1
         },
         {
          "contraceptive_method_used": 1,
          "standard_of_living_index": 3,
          "wife_age": 36,
          "wife_education": 2,
          "wife_religion": 1
         },
         {
          "contraceptive_method_used": 3,
          "standard_of_living_index": 4,
          "wife_age": 33,
          "wife_education": 4,
          "wife_religion": 1
         },
         {
          "contraceptive_method_used": 2,
          "standard_of_living_index": 4,
          "wife_age": 23,
          "wife_education": 4,
          "wife_religion": 0
         },
         {
          "contraceptive_method_used": 1,
          "standard_of_living_index": 4,
          "wife_age": 48,
          "wife_education": 3,
          "wife_religion": 1
         },
         {
          "contraceptive_method_used": 1,
          "standard_of_living_index": 2,
          "wife_age": 40,
          "wife_education": 2,
          "wife_religion": 1
         },
         {
          "contraceptive_method_used": 2,
          "standard_of_living_index": 4,
          "wife_age": 26,
          "wife_education": 4,
          "wife_religion": 0
         },
         {
          "contraceptive_method_used": 3,
          "standard_of_living_index": 3,
          "wife_age": 39,
          "wife_education": 3,
          "wife_religion": 1
         },
         {
          "contraceptive_method_used": 1,
          "standard_of_living_index": 4,
          "wife_age": 42,
          "wife_education": 3,
          "wife_religion": 1
         },
         {
          "contraceptive_method_used": 3,
          "standard_of_living_index": 3,
          "wife_age": 29,
          "wife_education": 1,
          "wife_religion": 1
         },
         {
          "contraceptive_method_used": 1,
          "standard_of_living_index": 3,
          "wife_age": 45,
          "wife_education": 2,
          "wife_religion": 1
         },
         {
          "contraceptive_method_used": 1,
          "standard_of_living_index": 3,
          "wife_age": 28,
          "wife_education": 4,
          "wife_religion": 1
         },
         {
          "contraceptive_method_used": 1,
          "standard_of_living_index": 3,
          "wife_age": 44,
          "wife_education": 1,
          "wife_religion": 1
         },
         {
          "contraceptive_method_used": 3,
          "standard_of_living_index": 4,
          "wife_age": 33,
          "wife_education": 2,
          "wife_religion": 1
         },
         {
          "contraceptive_method_used": 3,
          "standard_of_living_index": 4,
          "wife_age": 33,
          "wife_education": 4,
          "wife_religion": 1
         },
         {
          "contraceptive_method_used": 1,
          "standard_of_living_index": 3,
          "wife_age": 39,
          "wife_education": 3,
          "wife_religion": 1
         },
         {
          "contraceptive_method_used": 1,
          "standard_of_living_index": 4,
          "wife_age": 35,
          "wife_education": 2,
          "wife_religion": 1
         },
         {
          "contraceptive_method_used": 2,
          "standard_of_living_index": 3,
          "wife_age": 44,
          "wife_education": 1,
          "wife_religion": 1
         },
         {
          "contraceptive_method_used": 1,
          "standard_of_living_index": 3,
          "wife_age": 19,
          "wife_education": 3,
          "wife_religion": 1
         },
         {
          "contraceptive_method_used": 1,
          "standard_of_living_index": 4,
          "wife_age": 32,
          "wife_education": 4,
          "wife_religion": 0
         },
         {
          "contraceptive_method_used": 1,
          "standard_of_living_index": 3,
          "wife_age": 32,
          "wife_education": 4,
          "wife_religion": 1
         },
         {
          "contraceptive_method_used": 1,
          "standard_of_living_index": 3,
          "wife_age": 22,
          "wife_education": 3,
          "wife_religion": 1
         },
         {
          "contraceptive_method_used": 3,
          "standard_of_living_index": 2,
          "wife_age": 31,
          "wife_education": 1,
          "wife_religion": 1
         },
         {
          "contraceptive_method_used": 2,
          "standard_of_living_index": 1,
          "wife_age": 44,
          "wife_education": 3,
          "wife_religion": 1
         },
         {
          "contraceptive_method_used": 2,
          "standard_of_living_index": 1,
          "wife_age": 25,
          "wife_education": 3,
          "wife_religion": 1
         },
         {
          "contraceptive_method_used": 2,
          "standard_of_living_index": 3,
          "wife_age": 37,
          "wife_education": 3,
          "wife_religion": 1
         },
         {
          "contraceptive_method_used": 1,
          "standard_of_living_index": 4,
          "wife_age": 49,
          "wife_education": 3,
          "wife_religion": 1
         },
         {
          "contraceptive_method_used": 1,
          "standard_of_living_index": 4,
          "wife_age": 24,
          "wife_education": 3,
          "wife_religion": 1
         },
         {
          "contraceptive_method_used": 1,
          "standard_of_living_index": 2,
          "wife_age": 38,
          "wife_education": 1,
          "wife_religion": 1
         },
         {
          "contraceptive_method_used": 1,
          "standard_of_living_index": 1,
          "wife_age": 38,
          "wife_education": 3,
          "wife_religion": 1
         },
         {
          "contraceptive_method_used": 3,
          "standard_of_living_index": 4,
          "wife_age": 25,
          "wife_education": 4,
          "wife_religion": 0
         },
         {
          "contraceptive_method_used": 3,
          "standard_of_living_index": 2,
          "wife_age": 21,
          "wife_education": 3,
          "wife_religion": 1
         },
         {
          "contraceptive_method_used": 3,
          "standard_of_living_index": 1,
          "wife_age": 22,
          "wife_education": 1,
          "wife_religion": 1
         },
         {
          "contraceptive_method_used": 1,
          "standard_of_living_index": 3,
          "wife_age": 31,
          "wife_education": 4,
          "wife_religion": 1
         },
         {
          "contraceptive_method_used": 3,
          "standard_of_living_index": 4,
          "wife_age": 29,
          "wife_education": 4,
          "wife_religion": 1
         },
         {
          "contraceptive_method_used": 1,
          "standard_of_living_index": 3,
          "wife_age": 31,
          "wife_education": 3,
          "wife_religion": 1
         },
         {
          "contraceptive_method_used": 3,
          "standard_of_living_index": 3,
          "wife_age": 26,
          "wife_education": 3,
          "wife_religion": 1
         },
         {
          "contraceptive_method_used": 3,
          "standard_of_living_index": 4,
          "wife_age": 24,
          "wife_education": 2,
          "wife_religion": 1
         },
         {
          "contraceptive_method_used": 1,
          "standard_of_living_index": 3,
          "wife_age": 30,
          "wife_education": 4,
          "wife_religion": 0
         },
         {
          "contraceptive_method_used": 2,
          "standard_of_living_index": 3,
          "wife_age": 45,
          "wife_education": 3,
          "wife_religion": 1
         },
         {
          "contraceptive_method_used": 1,
          "standard_of_living_index": 4,
          "wife_age": 22,
          "wife_education": 4,
          "wife_religion": 1
         },
         {
          "contraceptive_method_used": 3,
          "standard_of_living_index": 4,
          "wife_age": 26,
          "wife_education": 3,
          "wife_religion": 1
         },
         {
          "contraceptive_method_used": 3,
          "standard_of_living_index": 3,
          "wife_age": 37,
          "wife_education": 3,
          "wife_religion": 1
         },
         {
          "contraceptive_method_used": 1,
          "standard_of_living_index": 4,
          "wife_age": 26,
          "wife_education": 4,
          "wife_religion": 1
         },
         {
          "contraceptive_method_used": 3,
          "standard_of_living_index": 3,
          "wife_age": 25,
          "wife_education": 4,
          "wife_religion": 1
         },
         {
          "contraceptive_method_used": 1,
          "standard_of_living_index": 1,
          "wife_age": 26,
          "wife_education": 2,
          "wife_religion": 1
         },
         {
          "contraceptive_method_used": 1,
          "standard_of_living_index": 4,
          "wife_age": 40,
          "wife_education": 4,
          "wife_religion": 0
         },
         {
          "contraceptive_method_used": 3,
          "standard_of_living_index": 4,
          "wife_age": 37,
          "wife_education": 4,
          "wife_religion": 0
         },
         {
          "contraceptive_method_used": 2,
          "standard_of_living_index": 3,
          "wife_age": 40,
          "wife_education": 4,
          "wife_religion": 1
         },
         {
          "contraceptive_method_used": 2,
          "standard_of_living_index": 4,
          "wife_age": 35,
          "wife_education": 4,
          "wife_religion": 1
         },
         {
          "contraceptive_method_used": 1,
          "standard_of_living_index": 3,
          "wife_age": 43,
          "wife_education": 4,
          "wife_religion": 1
         },
         {
          "contraceptive_method_used": 2,
          "standard_of_living_index": 4,
          "wife_age": 27,
          "wife_education": 3,
          "wife_religion": 1
         },
         {
          "contraceptive_method_used": 1,
          "standard_of_living_index": 4,
          "wife_age": 27,
          "wife_education": 1,
          "wife_religion": 1
         },
         {
          "contraceptive_method_used": 1,
          "standard_of_living_index": 3,
          "wife_age": 34,
          "wife_education": 2,
          "wife_religion": 1
         },
         {
          "contraceptive_method_used": 1,
          "standard_of_living_index": 1,
          "wife_age": 49,
          "wife_education": 1,
          "wife_religion": 1
         },
         {
          "contraceptive_method_used": 1,
          "standard_of_living_index": 4,
          "wife_age": 33,
          "wife_education": 4,
          "wife_religion": 1
         },
         {
          "contraceptive_method_used": 1,
          "standard_of_living_index": 2,
          "wife_age": 44,
          "wife_education": 2,
          "wife_religion": 1
         },
         {
          "contraceptive_method_used": 2,
          "standard_of_living_index": 1,
          "wife_age": 36,
          "wife_education": 2,
          "wife_religion": 1
         },
         {
          "contraceptive_method_used": 1,
          "standard_of_living_index": 4,
          "wife_age": 22,
          "wife_education": 2,
          "wife_religion": 1
         },
         {
          "contraceptive_method_used": 3,
          "standard_of_living_index": 4,
          "wife_age": 27,
          "wife_education": 4,
          "wife_religion": 0
         },
         {
          "contraceptive_method_used": 3,
          "standard_of_living_index": 3,
          "wife_age": 27,
          "wife_education": 3,
          "wife_religion": 1
         },
         {
          "contraceptive_method_used": 1,
          "standard_of_living_index": 4,
          "wife_age": 43,
          "wife_education": 3,
          "wife_religion": 1
         },
         {
          "contraceptive_method_used": 3,
          "standard_of_living_index": 3,
          "wife_age": 43,
          "wife_education": 3,
          "wife_religion": 1
         },
         {
          "contraceptive_method_used": 2,
          "standard_of_living_index": 4,
          "wife_age": 33,
          "wife_education": 4,
          "wife_religion": 1
         },
         {
          "contraceptive_method_used": 3,
          "standard_of_living_index": 2,
          "wife_age": 45,
          "wife_education": 1,
          "wife_religion": 1
         },
         {
          "contraceptive_method_used": 1,
          "standard_of_living_index": 3,
          "wife_age": 24,
          "wife_education": 3,
          "wife_religion": 1
         },
         {
          "contraceptive_method_used": 3,
          "standard_of_living_index": 2,
          "wife_age": 30,
          "wife_education": 3,
          "wife_religion": 1
         },
         {
          "contraceptive_method_used": 3,
          "standard_of_living_index": 4,
          "wife_age": 33,
          "wife_education": 4,
          "wife_religion": 1
         },
         {
          "contraceptive_method_used": 1,
          "standard_of_living_index": 4,
          "wife_age": 49,
          "wife_education": 1,
          "wife_religion": 1
         },
         {
          "contraceptive_method_used": 1,
          "standard_of_living_index": 3,
          "wife_age": 44,
          "wife_education": 1,
          "wife_religion": 1
         },
         {
          "contraceptive_method_used": 3,
          "standard_of_living_index": 4,
          "wife_age": 29,
          "wife_education": 2,
          "wife_religion": 1
         },
         {
          "contraceptive_method_used": 2,
          "standard_of_living_index": 3,
          "wife_age": 32,
          "wife_education": 3,
          "wife_religion": 1
         },
         {
          "contraceptive_method_used": 3,
          "standard_of_living_index": 4,
          "wife_age": 39,
          "wife_education": 4,
          "wife_religion": 1
         },
         {
          "contraceptive_method_used": 2,
          "standard_of_living_index": 4,
          "wife_age": 42,
          "wife_education": 4,
          "wife_religion": 0
         },
         {
          "contraceptive_method_used": 1,
          "standard_of_living_index": 3,
          "wife_age": 47,
          "wife_education": 4,
          "wife_religion": 1
         },
         {
          "contraceptive_method_used": 3,
          "standard_of_living_index": 4,
          "wife_age": 39,
          "wife_education": 4,
          "wife_religion": 1
         },
         {
          "contraceptive_method_used": 3,
          "standard_of_living_index": 4,
          "wife_age": 43,
          "wife_education": 4,
          "wife_religion": 1
         },
         {
          "contraceptive_method_used": 1,
          "standard_of_living_index": 3,
          "wife_age": 48,
          "wife_education": 3,
          "wife_religion": 1
         },
         {
          "contraceptive_method_used": 2,
          "standard_of_living_index": 4,
          "wife_age": 24,
          "wife_education": 4,
          "wife_religion": 1
         },
         {
          "contraceptive_method_used": 3,
          "standard_of_living_index": 3,
          "wife_age": 43,
          "wife_education": 3,
          "wife_religion": 1
         },
         {
          "contraceptive_method_used": 1,
          "standard_of_living_index": 4,
          "wife_age": 45,
          "wife_education": 1,
          "wife_religion": 1
         },
         {
          "contraceptive_method_used": 3,
          "standard_of_living_index": 4,
          "wife_age": 41,
          "wife_education": 4,
          "wife_religion": 1
         },
         {
          "contraceptive_method_used": 3,
          "standard_of_living_index": 1,
          "wife_age": 21,
          "wife_education": 3,
          "wife_religion": 1
         },
         {
          "contraceptive_method_used": 3,
          "standard_of_living_index": 2,
          "wife_age": 29,
          "wife_education": 2,
          "wife_religion": 1
         },
         {
          "contraceptive_method_used": 1,
          "standard_of_living_index": 3,
          "wife_age": 41,
          "wife_education": 1,
          "wife_religion": 1
         },
         {
          "contraceptive_method_used": 2,
          "standard_of_living_index": 4,
          "wife_age": 24,
          "wife_education": 4,
          "wife_religion": 1
         },
         {
          "contraceptive_method_used": 2,
          "standard_of_living_index": 4,
          "wife_age": 35,
          "wife_education": 4,
          "wife_religion": 1
         },
         {
          "contraceptive_method_used": 1,
          "standard_of_living_index": 1,
          "wife_age": 47,
          "wife_education": 2,
          "wife_religion": 1
         },
         {
          "contraceptive_method_used": 3,
          "standard_of_living_index": 4,
          "wife_age": 28,
          "wife_education": 3,
          "wife_religion": 1
         },
         {
          "contraceptive_method_used": 3,
          "standard_of_living_index": 3,
          "wife_age": 22,
          "wife_education": 3,
          "wife_religion": 1
         },
         {
          "contraceptive_method_used": 2,
          "standard_of_living_index": 3,
          "wife_age": 28,
          "wife_education": 4,
          "wife_religion": 1
         },
         {
          "contraceptive_method_used": 3,
          "standard_of_living_index": 3,
          "wife_age": 27,
          "wife_education": 4,
          "wife_religion": 1
         },
         {
          "contraceptive_method_used": 3,
          "standard_of_living_index": 3,
          "wife_age": 24,
          "wife_education": 3,
          "wife_religion": 1
         },
         {
          "contraceptive_method_used": 2,
          "standard_of_living_index": 2,
          "wife_age": 35,
          "wife_education": 2,
          "wife_religion": 0
         },
         {
          "contraceptive_method_used": 1,
          "standard_of_living_index": 4,
          "wife_age": 28,
          "wife_education": 4,
          "wife_religion": 0
         },
         {
          "contraceptive_method_used": 3,
          "standard_of_living_index": 2,
          "wife_age": 30,
          "wife_education": 4,
          "wife_religion": 1
         },
         {
          "contraceptive_method_used": 1,
          "standard_of_living_index": 3,
          "wife_age": 45,
          "wife_education": 4,
          "wife_religion": 1
         },
         {
          "contraceptive_method_used": 2,
          "standard_of_living_index": 4,
          "wife_age": 35,
          "wife_education": 4,
          "wife_religion": 1
         },
         {
          "contraceptive_method_used": 3,
          "standard_of_living_index": 3,
          "wife_age": 33,
          "wife_education": 3,
          "wife_religion": 1
         },
         {
          "contraceptive_method_used": 3,
          "standard_of_living_index": 3,
          "wife_age": 29,
          "wife_education": 2,
          "wife_religion": 1
         },
         {
          "contraceptive_method_used": 2,
          "standard_of_living_index": 3,
          "wife_age": 23,
          "wife_education": 3,
          "wife_religion": 1
         },
         {
          "contraceptive_method_used": 2,
          "standard_of_living_index": 4,
          "wife_age": 31,
          "wife_education": 4,
          "wife_religion": 0
         },
         {
          "contraceptive_method_used": 3,
          "standard_of_living_index": 4,
          "wife_age": 34,
          "wife_education": 4,
          "wife_religion": 1
         },
         {
          "contraceptive_method_used": 2,
          "standard_of_living_index": 3,
          "wife_age": 24,
          "wife_education": 4,
          "wife_religion": 1
         },
         {
          "contraceptive_method_used": 2,
          "standard_of_living_index": 3,
          "wife_age": 44,
          "wife_education": 4,
          "wife_religion": 1
         },
         {
          "contraceptive_method_used": 3,
          "standard_of_living_index": 4,
          "wife_age": 33,
          "wife_education": 2,
          "wife_religion": 1
         },
         {
          "contraceptive_method_used": 1,
          "standard_of_living_index": 4,
          "wife_age": 26,
          "wife_education": 4,
          "wife_religion": 1
         },
         {
          "contraceptive_method_used": 2,
          "standard_of_living_index": 3,
          "wife_age": 36,
          "wife_education": 4,
          "wife_religion": 0
         },
         {
          "contraceptive_method_used": 2,
          "standard_of_living_index": 4,
          "wife_age": 41,
          "wife_education": 4,
          "wife_religion": 1
         },
         {
          "contraceptive_method_used": 3,
          "standard_of_living_index": 4,
          "wife_age": 36,
          "wife_education": 4,
          "wife_religion": 0
         },
         {
          "contraceptive_method_used": 1,
          "standard_of_living_index": 2,
          "wife_age": 31,
          "wife_education": 4,
          "wife_religion": 1
         },
         {
          "contraceptive_method_used": 1,
          "standard_of_living_index": 4,
          "wife_age": 20,
          "wife_education": 2,
          "wife_religion": 1
         },
         {
          "contraceptive_method_used": 3,
          "standard_of_living_index": 4,
          "wife_age": 38,
          "wife_education": 4,
          "wife_religion": 1
         },
         {
          "contraceptive_method_used": 3,
          "standard_of_living_index": 1,
          "wife_age": 32,
          "wife_education": 3,
          "wife_religion": 1
         },
         {
          "contraceptive_method_used": 3,
          "standard_of_living_index": 4,
          "wife_age": 25,
          "wife_education": 3,
          "wife_religion": 1
         },
         {
          "contraceptive_method_used": 3,
          "standard_of_living_index": 2,
          "wife_age": 24,
          "wife_education": 3,
          "wife_religion": 1
         },
         {
          "contraceptive_method_used": 1,
          "standard_of_living_index": 1,
          "wife_age": 25,
          "wife_education": 1,
          "wife_religion": 1
         },
         {
          "contraceptive_method_used": 3,
          "standard_of_living_index": 3,
          "wife_age": 33,
          "wife_education": 4,
          "wife_religion": 1
         },
         {
          "contraceptive_method_used": 1,
          "standard_of_living_index": 4,
          "wife_age": 49,
          "wife_education": 2,
          "wife_religion": 1
         },
         {
          "contraceptive_method_used": 3,
          "standard_of_living_index": 4,
          "wife_age": 25,
          "wife_education": 4,
          "wife_religion": 1
         },
         {
          "contraceptive_method_used": 1,
          "standard_of_living_index": 2,
          "wife_age": 22,
          "wife_education": 2,
          "wife_religion": 1
         },
         {
          "contraceptive_method_used": 1,
          "standard_of_living_index": 4,
          "wife_age": 26,
          "wife_education": 4,
          "wife_religion": 1
         },
         {
          "contraceptive_method_used": 1,
          "standard_of_living_index": 1,
          "wife_age": 19,
          "wife_education": 2,
          "wife_religion": 1
         },
         {
          "contraceptive_method_used": 1,
          "standard_of_living_index": 3,
          "wife_age": 48,
          "wife_education": 1,
          "wife_religion": 1
         },
         {
          "contraceptive_method_used": 1,
          "standard_of_living_index": 4,
          "wife_age": 48,
          "wife_education": 4,
          "wife_religion": 0
         },
         {
          "contraceptive_method_used": 2,
          "standard_of_living_index": 3,
          "wife_age": 36,
          "wife_education": 3,
          "wife_religion": 1
         },
         {
          "contraceptive_method_used": 3,
          "standard_of_living_index": 3,
          "wife_age": 35,
          "wife_education": 1,
          "wife_religion": 1
         },
         {
          "contraceptive_method_used": 3,
          "standard_of_living_index": 3,
          "wife_age": 20,
          "wife_education": 4,
          "wife_religion": 1
         },
         {
          "contraceptive_method_used": 1,
          "standard_of_living_index": 4,
          "wife_age": 34,
          "wife_education": 2,
          "wife_religion": 1
         },
         {
          "contraceptive_method_used": 1,
          "standard_of_living_index": 2,
          "wife_age": 39,
          "wife_education": 2,
          "wife_religion": 1
         },
         {
          "contraceptive_method_used": 1,
          "standard_of_living_index": 3,
          "wife_age": 21,
          "wife_education": 3,
          "wife_religion": 1
         },
         {
          "contraceptive_method_used": 1,
          "standard_of_living_index": 4,
          "wife_age": 36,
          "wife_education": 3,
          "wife_religion": 1
         },
         {
          "contraceptive_method_used": 1,
          "standard_of_living_index": 4,
          "wife_age": 47,
          "wife_education": 1,
          "wife_religion": 1
         },
         {
          "contraceptive_method_used": 1,
          "standard_of_living_index": 1,
          "wife_age": 46,
          "wife_education": 1,
          "wife_religion": 1
         },
         {
          "contraceptive_method_used": 1,
          "standard_of_living_index": 2,
          "wife_age": 25,
          "wife_education": 3,
          "wife_religion": 1
         },
         {
          "contraceptive_method_used": 3,
          "standard_of_living_index": 3,
          "wife_age": 34,
          "wife_education": 3,
          "wife_religion": 1
         },
         {
          "contraceptive_method_used": 1,
          "standard_of_living_index": 2,
          "wife_age": 45,
          "wife_education": 2,
          "wife_religion": 1
         },
         {
          "contraceptive_method_used": 1,
          "standard_of_living_index": 3,
          "wife_age": 40,
          "wife_education": 3,
          "wife_religion": 1
         },
         {
          "contraceptive_method_used": 1,
          "standard_of_living_index": 3,
          "wife_age": 35,
          "wife_education": 3,
          "wife_religion": 0
         },
         {
          "contraceptive_method_used": 1,
          "standard_of_living_index": 2,
          "wife_age": 38,
          "wife_education": 2,
          "wife_religion": 0
         },
         {
          "contraceptive_method_used": 1,
          "standard_of_living_index": 4,
          "wife_age": 30,
          "wife_education": 2,
          "wife_religion": 1
         },
         {
          "contraceptive_method_used": 1,
          "standard_of_living_index": 2,
          "wife_age": 35,
          "wife_education": 1,
          "wife_religion": 1
         },
         {
          "contraceptive_method_used": 3,
          "standard_of_living_index": 4,
          "wife_age": 28,
          "wife_education": 2,
          "wife_religion": 1
         },
         {
          "contraceptive_method_used": 2,
          "standard_of_living_index": 4,
          "wife_age": 42,
          "wife_education": 4,
          "wife_religion": 0
         },
         {
          "contraceptive_method_used": 2,
          "standard_of_living_index": 4,
          "wife_age": 26,
          "wife_education": 2,
          "wife_religion": 1
         },
         {
          "contraceptive_method_used": 1,
          "standard_of_living_index": 2,
          "wife_age": 31,
          "wife_education": 4,
          "wife_religion": 1
         },
         {
          "contraceptive_method_used": 3,
          "standard_of_living_index": 3,
          "wife_age": 35,
          "wife_education": 2,
          "wife_religion": 1
         },
         {
          "contraceptive_method_used": 3,
          "standard_of_living_index": 4,
          "wife_age": 36,
          "wife_education": 4,
          "wife_religion": 1
         },
         {
          "contraceptive_method_used": 2,
          "standard_of_living_index": 3,
          "wife_age": 35,
          "wife_education": 3,
          "wife_religion": 1
         },
         {
          "contraceptive_method_used": 3,
          "standard_of_living_index": 4,
          "wife_age": 35,
          "wife_education": 1,
          "wife_religion": 1
         },
         {
          "contraceptive_method_used": 3,
          "standard_of_living_index": 2,
          "wife_age": 38,
          "wife_education": 3,
          "wife_religion": 1
         },
         {
          "contraceptive_method_used": 3,
          "standard_of_living_index": 4,
          "wife_age": 48,
          "wife_education": 3,
          "wife_religion": 1
         },
         {
          "contraceptive_method_used": 2,
          "standard_of_living_index": 4,
          "wife_age": 25,
          "wife_education": 2,
          "wife_religion": 1
         },
         {
          "contraceptive_method_used": 2,
          "standard_of_living_index": 3,
          "wife_age": 31,
          "wife_education": 2,
          "wife_religion": 1
         },
         {
          "contraceptive_method_used": 3,
          "standard_of_living_index": 1,
          "wife_age": 23,
          "wife_education": 2,
          "wife_religion": 1
         },
         {
          "contraceptive_method_used": 1,
          "standard_of_living_index": 2,
          "wife_age": 33,
          "wife_education": 2,
          "wife_religion": 1
         },
         {
          "contraceptive_method_used": 3,
          "standard_of_living_index": 4,
          "wife_age": 40,
          "wife_education": 4,
          "wife_religion": 1
         },
         {
          "contraceptive_method_used": 1,
          "standard_of_living_index": 3,
          "wife_age": 44,
          "wife_education": 3,
          "wife_religion": 1
         },
         {
          "contraceptive_method_used": 2,
          "standard_of_living_index": 3,
          "wife_age": 43,
          "wife_education": 2,
          "wife_religion": 1
         },
         {
          "contraceptive_method_used": 1,
          "standard_of_living_index": 2,
          "wife_age": 36,
          "wife_education": 1,
          "wife_religion": 1
         },
         {
          "contraceptive_method_used": 1,
          "standard_of_living_index": 4,
          "wife_age": 29,
          "wife_education": 1,
          "wife_religion": 1
         },
         {
          "contraceptive_method_used": 2,
          "standard_of_living_index": 4,
          "wife_age": 27,
          "wife_education": 3,
          "wife_religion": 1
         },
         {
          "contraceptive_method_used": 2,
          "standard_of_living_index": 4,
          "wife_age": 26,
          "wife_education": 3,
          "wife_religion": 1
         },
         {
          "contraceptive_method_used": 3,
          "standard_of_living_index": 2,
          "wife_age": 24,
          "wife_education": 1,
          "wife_religion": 1
         },
         {
          "contraceptive_method_used": 3,
          "standard_of_living_index": 3,
          "wife_age": 30,
          "wife_education": 2,
          "wife_religion": 1
         },
         {
          "contraceptive_method_used": 3,
          "standard_of_living_index": 4,
          "wife_age": 32,
          "wife_education": 4,
          "wife_religion": 0
         },
         {
          "contraceptive_method_used": 3,
          "standard_of_living_index": 3,
          "wife_age": 27,
          "wife_education": 4,
          "wife_religion": 0
         },
         {
          "contraceptive_method_used": 2,
          "standard_of_living_index": 4,
          "wife_age": 30,
          "wife_education": 4,
          "wife_religion": 0
         },
         {
          "contraceptive_method_used": 3,
          "standard_of_living_index": 4,
          "wife_age": 29,
          "wife_education": 4,
          "wife_religion": 1
         },
         {
          "contraceptive_method_used": 3,
          "standard_of_living_index": 3,
          "wife_age": 41,
          "wife_education": 1,
          "wife_religion": 1
         },
         {
          "contraceptive_method_used": 3,
          "standard_of_living_index": 4,
          "wife_age": 36,
          "wife_education": 4,
          "wife_religion": 0
         },
         {
          "contraceptive_method_used": 3,
          "standard_of_living_index": 2,
          "wife_age": 29,
          "wife_education": 3,
          "wife_religion": 1
         },
         {
          "contraceptive_method_used": 1,
          "standard_of_living_index": 4,
          "wife_age": 45,
          "wife_education": 4,
          "wife_religion": 1
         },
         {
          "contraceptive_method_used": 3,
          "standard_of_living_index": 4,
          "wife_age": 32,
          "wife_education": 4,
          "wife_religion": 1
         },
         {
          "contraceptive_method_used": 1,
          "standard_of_living_index": 2,
          "wife_age": 25,
          "wife_education": 4,
          "wife_religion": 1
         },
         {
          "contraceptive_method_used": 1,
          "standard_of_living_index": 1,
          "wife_age": 25,
          "wife_education": 2,
          "wife_religion": 1
         },
         {
          "contraceptive_method_used": 3,
          "standard_of_living_index": 4,
          "wife_age": 35,
          "wife_education": 3,
          "wife_religion": 1
         },
         {
          "contraceptive_method_used": 1,
          "standard_of_living_index": 2,
          "wife_age": 32,
          "wife_education": 2,
          "wife_religion": 1
         },
         {
          "contraceptive_method_used": 3,
          "standard_of_living_index": 3,
          "wife_age": 22,
          "wife_education": 2,
          "wife_religion": 1
         },
         {
          "contraceptive_method_used": 3,
          "standard_of_living_index": 4,
          "wife_age": 22,
          "wife_education": 3,
          "wife_religion": 1
         },
         {
          "contraceptive_method_used": 3,
          "standard_of_living_index": 3,
          "wife_age": 28,
          "wife_education": 4,
          "wife_religion": 1
         },
         {
          "contraceptive_method_used": 1,
          "standard_of_living_index": 3,
          "wife_age": 48,
          "wife_education": 1,
          "wife_religion": 1
         },
         {
          "contraceptive_method_used": 1,
          "standard_of_living_index": 1,
          "wife_age": 47,
          "wife_education": 2,
          "wife_religion": 1
         },
         {
          "contraceptive_method_used": 1,
          "standard_of_living_index": 2,
          "wife_age": 31,
          "wife_education": 1,
          "wife_religion": 1
         },
         {
          "contraceptive_method_used": 3,
          "standard_of_living_index": 4,
          "wife_age": 30,
          "wife_education": 3,
          "wife_religion": 1
         },
         {
          "contraceptive_method_used": 3,
          "standard_of_living_index": 2,
          "wife_age": 25,
          "wife_education": 3,
          "wife_religion": 1
         },
         {
          "contraceptive_method_used": 3,
          "standard_of_living_index": 1,
          "wife_age": 25,
          "wife_education": 3,
          "wife_religion": 1
         },
         {
          "contraceptive_method_used": 3,
          "standard_of_living_index": 1,
          "wife_age": 27,
          "wife_education": 2,
          "wife_religion": 1
         },
         {
          "contraceptive_method_used": 3,
          "standard_of_living_index": 3,
          "wife_age": 24,
          "wife_education": 4,
          "wife_religion": 1
         },
         {
          "contraceptive_method_used": 1,
          "standard_of_living_index": 4,
          "wife_age": 34,
          "wife_education": 4,
          "wife_religion": 0
         },
         {
          "contraceptive_method_used": 2,
          "standard_of_living_index": 2,
          "wife_age": 44,
          "wife_education": 4,
          "wife_religion": 1
         },
         {
          "contraceptive_method_used": 1,
          "standard_of_living_index": 4,
          "wife_age": 24,
          "wife_education": 2,
          "wife_religion": 1
         },
         {
          "contraceptive_method_used": 1,
          "standard_of_living_index": 3,
          "wife_age": 26,
          "wife_education": 4,
          "wife_religion": 1
         },
         {
          "contraceptive_method_used": 2,
          "standard_of_living_index": 4,
          "wife_age": 37,
          "wife_education": 4,
          "wife_religion": 1
         },
         {
          "contraceptive_method_used": 3,
          "standard_of_living_index": 3,
          "wife_age": 26,
          "wife_education": 3,
          "wife_religion": 1
         },
         {
          "contraceptive_method_used": 1,
          "standard_of_living_index": 3,
          "wife_age": 18,
          "wife_education": 3,
          "wife_religion": 1
         },
         {
          "contraceptive_method_used": 2,
          "standard_of_living_index": 3,
          "wife_age": 29,
          "wife_education": 4,
          "wife_religion": 1
         },
         {
          "contraceptive_method_used": 2,
          "standard_of_living_index": 4,
          "wife_age": 22,
          "wife_education": 3,
          "wife_religion": 1
         },
         {
          "contraceptive_method_used": 2,
          "standard_of_living_index": 3,
          "wife_age": 32,
          "wife_education": 4,
          "wife_religion": 1
         },
         {
          "contraceptive_method_used": 1,
          "standard_of_living_index": 4,
          "wife_age": 27,
          "wife_education": 4,
          "wife_religion": 0
         },
         {
          "contraceptive_method_used": 1,
          "standard_of_living_index": 3,
          "wife_age": 34,
          "wife_education": 4,
          "wife_religion": 1
         },
         {
          "contraceptive_method_used": 3,
          "standard_of_living_index": 3,
          "wife_age": 32,
          "wife_education": 4,
          "wife_religion": 1
         },
         {
          "contraceptive_method_used": 2,
          "standard_of_living_index": 3,
          "wife_age": 30,
          "wife_education": 3,
          "wife_religion": 1
         },
         {
          "contraceptive_method_used": 2,
          "standard_of_living_index": 3,
          "wife_age": 31,
          "wife_education": 4,
          "wife_religion": 1
         },
         {
          "contraceptive_method_used": 1,
          "standard_of_living_index": 3,
          "wife_age": 29,
          "wife_education": 3,
          "wife_religion": 1
         },
         {
          "contraceptive_method_used": 1,
          "standard_of_living_index": 1,
          "wife_age": 27,
          "wife_education": 1,
          "wife_religion": 1
         },
         {
          "contraceptive_method_used": 1,
          "standard_of_living_index": 3,
          "wife_age": 31,
          "wife_education": 3,
          "wife_religion": 1
         },
         {
          "contraceptive_method_used": 2,
          "standard_of_living_index": 4,
          "wife_age": 34,
          "wife_education": 3,
          "wife_religion": 0
         },
         {
          "contraceptive_method_used": 1,
          "standard_of_living_index": 4,
          "wife_age": 24,
          "wife_education": 2,
          "wife_religion": 1
         },
         {
          "contraceptive_method_used": 1,
          "standard_of_living_index": 2,
          "wife_age": 25,
          "wife_education": 3,
          "wife_religion": 1
         },
         {
          "contraceptive_method_used": 1,
          "standard_of_living_index": 3,
          "wife_age": 42,
          "wife_education": 2,
          "wife_religion": 1
         },
         {
          "contraceptive_method_used": 1,
          "standard_of_living_index": 4,
          "wife_age": 48,
          "wife_education": 1,
          "wife_religion": 1
         },
         {
          "contraceptive_method_used": 3,
          "standard_of_living_index": 3,
          "wife_age": 24,
          "wife_education": 4,
          "wife_religion": 1
         },
         {
          "contraceptive_method_used": 3,
          "standard_of_living_index": 4,
          "wife_age": 39,
          "wife_education": 4,
          "wife_religion": 1
         },
         {
          "contraceptive_method_used": 1,
          "standard_of_living_index": 3,
          "wife_age": 43,
          "wife_education": 4,
          "wife_religion": 1
         },
         {
          "contraceptive_method_used": 3,
          "standard_of_living_index": 3,
          "wife_age": 36,
          "wife_education": 4,
          "wife_religion": 1
         },
         {
          "contraceptive_method_used": 1,
          "standard_of_living_index": 2,
          "wife_age": 40,
          "wife_education": 3,
          "wife_religion": 1
         },
         {
          "contraceptive_method_used": 2,
          "standard_of_living_index": 4,
          "wife_age": 41,
          "wife_education": 4,
          "wife_religion": 0
         },
         {
          "contraceptive_method_used": 3,
          "standard_of_living_index": 3,
          "wife_age": 17,
          "wife_education": 3,
          "wife_religion": 1
         },
         {
          "contraceptive_method_used": 1,
          "standard_of_living_index": 3,
          "wife_age": 23,
          "wife_education": 3,
          "wife_religion": 1
         },
         {
          "contraceptive_method_used": 1,
          "standard_of_living_index": 1,
          "wife_age": 28,
          "wife_education": 4,
          "wife_religion": 1
         },
         {
          "contraceptive_method_used": 1,
          "standard_of_living_index": 1,
          "wife_age": 48,
          "wife_education": 1,
          "wife_religion": 1
         },
         {
          "contraceptive_method_used": 1,
          "standard_of_living_index": 1,
          "wife_age": 39,
          "wife_education": 2,
          "wife_religion": 1
         },
         {
          "contraceptive_method_used": 1,
          "standard_of_living_index": 4,
          "wife_age": 39,
          "wife_education": 4,
          "wife_religion": 1
         },
         {
          "contraceptive_method_used": 1,
          "standard_of_living_index": 4,
          "wife_age": 30,
          "wife_education": 4,
          "wife_religion": 1
         },
         {
          "contraceptive_method_used": 1,
          "standard_of_living_index": 3,
          "wife_age": 34,
          "wife_education": 4,
          "wife_religion": 1
         },
         {
          "contraceptive_method_used": 1,
          "standard_of_living_index": 1,
          "wife_age": 25,
          "wife_education": 2,
          "wife_religion": 1
         },
         {
          "contraceptive_method_used": 3,
          "standard_of_living_index": 3,
          "wife_age": 47,
          "wife_education": 1,
          "wife_religion": 1
         },
         {
          "contraceptive_method_used": 1,
          "standard_of_living_index": 2,
          "wife_age": 25,
          "wife_education": 2,
          "wife_religion": 1
         },
         {
          "contraceptive_method_used": 1,
          "standard_of_living_index": 3,
          "wife_age": 34,
          "wife_education": 3,
          "wife_religion": 1
         },
         {
          "contraceptive_method_used": 1,
          "standard_of_living_index": 3,
          "wife_age": 20,
          "wife_education": 3,
          "wife_religion": 1
         },
         {
          "contraceptive_method_used": 1,
          "standard_of_living_index": 4,
          "wife_age": 39,
          "wife_education": 3,
          "wife_religion": 1
         },
         {
          "contraceptive_method_used": 1,
          "standard_of_living_index": 4,
          "wife_age": 36,
          "wife_education": 3,
          "wife_religion": 1
         },
         {
          "contraceptive_method_used": 1,
          "standard_of_living_index": 4,
          "wife_age": 49,
          "wife_education": 4,
          "wife_religion": 1
         },
         {
          "contraceptive_method_used": 3,
          "standard_of_living_index": 4,
          "wife_age": 42,
          "wife_education": 4,
          "wife_religion": 0
         },
         {
          "contraceptive_method_used": 2,
          "standard_of_living_index": 3,
          "wife_age": 40,
          "wife_education": 4,
          "wife_religion": 1
         },
         {
          "contraceptive_method_used": 1,
          "standard_of_living_index": 1,
          "wife_age": 35,
          "wife_education": 2,
          "wife_religion": 1
         },
         {
          "contraceptive_method_used": 2,
          "standard_of_living_index": 4,
          "wife_age": 45,
          "wife_education": 4,
          "wife_religion": 1
         },
         {
          "contraceptive_method_used": 3,
          "standard_of_living_index": 3,
          "wife_age": 25,
          "wife_education": 2,
          "wife_religion": 1
         },
         {
          "contraceptive_method_used": 1,
          "standard_of_living_index": 3,
          "wife_age": 20,
          "wife_education": 3,
          "wife_religion": 1
         },
         {
          "contraceptive_method_used": 1,
          "standard_of_living_index": 4,
          "wife_age": 23,
          "wife_education": 3,
          "wife_religion": 1
         },
         {
          "contraceptive_method_used": 3,
          "standard_of_living_index": 2,
          "wife_age": 23,
          "wife_education": 3,
          "wife_religion": 1
         },
         {
          "contraceptive_method_used": 2,
          "standard_of_living_index": 4,
          "wife_age": 37,
          "wife_education": 4,
          "wife_religion": 1
         },
         {
          "contraceptive_method_used": 1,
          "standard_of_living_index": 4,
          "wife_age": 47,
          "wife_education": 1,
          "wife_religion": 1
         },
         {
          "contraceptive_method_used": 1,
          "standard_of_living_index": 4,
          "wife_age": 26,
          "wife_education": 2,
          "wife_religion": 1
         },
         {
          "contraceptive_method_used": 1,
          "standard_of_living_index": 1,
          "wife_age": 29,
          "wife_education": 2,
          "wife_religion": 1
         },
         {
          "contraceptive_method_used": 1,
          "standard_of_living_index": 3,
          "wife_age": 18,
          "wife_education": 2,
          "wife_religion": 1
         },
         {
          "contraceptive_method_used": 2,
          "standard_of_living_index": 4,
          "wife_age": 39,
          "wife_education": 4,
          "wife_religion": 1
         },
         {
          "contraceptive_method_used": 3,
          "standard_of_living_index": 4,
          "wife_age": 33,
          "wife_education": 3,
          "wife_religion": 1
         },
         {
          "contraceptive_method_used": 3,
          "standard_of_living_index": 4,
          "wife_age": 19,
          "wife_education": 4,
          "wife_religion": 1
         },
         {
          "contraceptive_method_used": 1,
          "standard_of_living_index": 4,
          "wife_age": 30,
          "wife_education": 4,
          "wife_religion": 1
         },
         {
          "contraceptive_method_used": 3,
          "standard_of_living_index": 4,
          "wife_age": 21,
          "wife_education": 2,
          "wife_religion": 0
         },
         {
          "contraceptive_method_used": 2,
          "standard_of_living_index": 4,
          "wife_age": 43,
          "wife_education": 4,
          "wife_religion": 0
         },
         {
          "contraceptive_method_used": 1,
          "standard_of_living_index": 1,
          "wife_age": 25,
          "wife_education": 3,
          "wife_religion": 1
         },
         {
          "contraceptive_method_used": 2,
          "standard_of_living_index": 4,
          "wife_age": 48,
          "wife_education": 4,
          "wife_religion": 0
         },
         {
          "contraceptive_method_used": 1,
          "standard_of_living_index": 3,
          "wife_age": 42,
          "wife_education": 1,
          "wife_religion": 1
         },
         {
          "contraceptive_method_used": 3,
          "standard_of_living_index": 4,
          "wife_age": 24,
          "wife_education": 3,
          "wife_religion": 1
         },
         {
          "contraceptive_method_used": 3,
          "standard_of_living_index": 2,
          "wife_age": 20,
          "wife_education": 3,
          "wife_religion": 1
         },
         {
          "contraceptive_method_used": 1,
          "standard_of_living_index": 3,
          "wife_age": 29,
          "wife_education": 3,
          "wife_religion": 1
         },
         {
          "contraceptive_method_used": 1,
          "standard_of_living_index": 3,
          "wife_age": 41,
          "wife_education": 1,
          "wife_religion": 1
         },
         {
          "contraceptive_method_used": 2,
          "standard_of_living_index": 3,
          "wife_age": 26,
          "wife_education": 2,
          "wife_religion": 1
         },
         {
          "contraceptive_method_used": 3,
          "standard_of_living_index": 3,
          "wife_age": 32,
          "wife_education": 1,
          "wife_religion": 0
         },
         {
          "contraceptive_method_used": 2,
          "standard_of_living_index": 4,
          "wife_age": 39,
          "wife_education": 4,
          "wife_religion": 1
         },
         {
          "contraceptive_method_used": 1,
          "standard_of_living_index": 4,
          "wife_age": 22,
          "wife_education": 1,
          "wife_religion": 1
         },
         {
          "contraceptive_method_used": 3,
          "standard_of_living_index": 4,
          "wife_age": 36,
          "wife_education": 4,
          "wife_religion": 1
         },
         {
          "contraceptive_method_used": 1,
          "standard_of_living_index": 3,
          "wife_age": 45,
          "wife_education": 1,
          "wife_religion": 1
         },
         {
          "contraceptive_method_used": 1,
          "standard_of_living_index": 4,
          "wife_age": 44,
          "wife_education": 4,
          "wife_religion": 1
         },
         {
          "contraceptive_method_used": 1,
          "standard_of_living_index": 1,
          "wife_age": 22,
          "wife_education": 2,
          "wife_religion": 1
         },
         {
          "contraceptive_method_used": 3,
          "standard_of_living_index": 4,
          "wife_age": 42,
          "wife_education": 2,
          "wife_religion": 1
         },
         {
          "contraceptive_method_used": 1,
          "standard_of_living_index": 3,
          "wife_age": 32,
          "wife_education": 2,
          "wife_religion": 1
         },
         {
          "contraceptive_method_used": 3,
          "standard_of_living_index": 3,
          "wife_age": 22,
          "wife_education": 2,
          "wife_religion": 1
         },
         {
          "contraceptive_method_used": 1,
          "standard_of_living_index": 2,
          "wife_age": 27,
          "wife_education": 3,
          "wife_religion": 1
         },
         {
          "contraceptive_method_used": 1,
          "standard_of_living_index": 1,
          "wife_age": 21,
          "wife_education": 3,
          "wife_religion": 1
         },
         {
          "contraceptive_method_used": 1,
          "standard_of_living_index": 4,
          "wife_age": 47,
          "wife_education": 3,
          "wife_religion": 1
         },
         {
          "contraceptive_method_used": 3,
          "standard_of_living_index": 3,
          "wife_age": 28,
          "wife_education": 3,
          "wife_religion": 1
         },
         {
          "contraceptive_method_used": 2,
          "standard_of_living_index": 4,
          "wife_age": 42,
          "wife_education": 2,
          "wife_religion": 1
         },
         {
          "contraceptive_method_used": 1,
          "standard_of_living_index": 4,
          "wife_age": 30,
          "wife_education": 2,
          "wife_religion": 1
         },
         {
          "contraceptive_method_used": 1,
          "standard_of_living_index": 4,
          "wife_age": 31,
          "wife_education": 4,
          "wife_religion": 1
         },
         {
          "contraceptive_method_used": 1,
          "standard_of_living_index": 4,
          "wife_age": 40,
          "wife_education": 4,
          "wife_religion": 1
         },
         {
          "contraceptive_method_used": 3,
          "standard_of_living_index": 1,
          "wife_age": 30,
          "wife_education": 2,
          "wife_religion": 1
         },
         {
          "contraceptive_method_used": 2,
          "standard_of_living_index": 4,
          "wife_age": 37,
          "wife_education": 4,
          "wife_religion": 1
         },
         {
          "contraceptive_method_used": 1,
          "standard_of_living_index": 2,
          "wife_age": 21,
          "wife_education": 3,
          "wife_religion": 1
         },
         {
          "contraceptive_method_used": 2,
          "standard_of_living_index": 4,
          "wife_age": 35,
          "wife_education": 4,
          "wife_religion": 1
         },
         {
          "contraceptive_method_used": 3,
          "standard_of_living_index": 1,
          "wife_age": 22,
          "wife_education": 1,
          "wife_religion": 1
         },
         {
          "contraceptive_method_used": 2,
          "standard_of_living_index": 4,
          "wife_age": 34,
          "wife_education": 4,
          "wife_religion": 1
         },
         {
          "contraceptive_method_used": 1,
          "standard_of_living_index": 1,
          "wife_age": 23,
          "wife_education": 3,
          "wife_religion": 1
         },
         {
          "contraceptive_method_used": 3,
          "standard_of_living_index": 3,
          "wife_age": 19,
          "wife_education": 3,
          "wife_religion": 1
         },
         {
          "contraceptive_method_used": 2,
          "standard_of_living_index": 4,
          "wife_age": 34,
          "wife_education": 1,
          "wife_religion": 1
         },
         {
          "contraceptive_method_used": 1,
          "standard_of_living_index": 4,
          "wife_age": 47,
          "wife_education": 2,
          "wife_religion": 0
         },
         {
          "contraceptive_method_used": 1,
          "standard_of_living_index": 3,
          "wife_age": 25,
          "wife_education": 2,
          "wife_religion": 1
         },
         {
          "contraceptive_method_used": 2,
          "standard_of_living_index": 4,
          "wife_age": 34,
          "wife_education": 4,
          "wife_religion": 1
         },
         {
          "contraceptive_method_used": 3,
          "standard_of_living_index": 3,
          "wife_age": 30,
          "wife_education": 3,
          "wife_religion": 1
         },
         {
          "contraceptive_method_used": 2,
          "standard_of_living_index": 4,
          "wife_age": 34,
          "wife_education": 3,
          "wife_religion": 1
         },
         {
          "contraceptive_method_used": 1,
          "standard_of_living_index": 4,
          "wife_age": 42,
          "wife_education": 4,
          "wife_religion": 1
         },
         {
          "contraceptive_method_used": 2,
          "standard_of_living_index": 4,
          "wife_age": 23,
          "wife_education": 3,
          "wife_religion": 1
         },
         {
          "contraceptive_method_used": 3,
          "standard_of_living_index": 4,
          "wife_age": 29,
          "wife_education": 3,
          "wife_religion": 1
         },
         {
          "contraceptive_method_used": 1,
          "standard_of_living_index": 4,
          "wife_age": 41,
          "wife_education": 3,
          "wife_religion": 1
         },
         {
          "contraceptive_method_used": 1,
          "standard_of_living_index": 4,
          "wife_age": 38,
          "wife_education": 3,
          "wife_religion": 1
         },
         {
          "contraceptive_method_used": 1,
          "standard_of_living_index": 4,
          "wife_age": 20,
          "wife_education": 2,
          "wife_religion": 1
         },
         {
          "contraceptive_method_used": 1,
          "standard_of_living_index": 3,
          "wife_age": 40,
          "wife_education": 3,
          "wife_religion": 1
         },
         {
          "contraceptive_method_used": 3,
          "standard_of_living_index": 2,
          "wife_age": 21,
          "wife_education": 3,
          "wife_religion": 1
         },
         {
          "contraceptive_method_used": 2,
          "standard_of_living_index": 4,
          "wife_age": 43,
          "wife_education": 3,
          "wife_religion": 1
         },
         {
          "contraceptive_method_used": 2,
          "standard_of_living_index": 4,
          "wife_age": 43,
          "wife_education": 4,
          "wife_religion": 0
         },
         {
          "contraceptive_method_used": 1,
          "standard_of_living_index": 3,
          "wife_age": 45,
          "wife_education": 1,
          "wife_religion": 1
         },
         {
          "contraceptive_method_used": 1,
          "standard_of_living_index": 2,
          "wife_age": 42,
          "wife_education": 1,
          "wife_religion": 0
         },
         {
          "contraceptive_method_used": 1,
          "standard_of_living_index": 3,
          "wife_age": 35,
          "wife_education": 4,
          "wife_religion": 0
         },
         {
          "contraceptive_method_used": 3,
          "standard_of_living_index": 4,
          "wife_age": 34,
          "wife_education": 3,
          "wife_religion": 0
         },
         {
          "contraceptive_method_used": 1,
          "standard_of_living_index": 3,
          "wife_age": 48,
          "wife_education": 2,
          "wife_religion": 1
         },
         {
          "contraceptive_method_used": 3,
          "standard_of_living_index": 2,
          "wife_age": 34,
          "wife_education": 4,
          "wife_religion": 1
         },
         {
          "contraceptive_method_used": 2,
          "standard_of_living_index": 3,
          "wife_age": 41,
          "wife_education": 3,
          "wife_religion": 1
         },
         {
          "contraceptive_method_used": 2,
          "standard_of_living_index": 4,
          "wife_age": 39,
          "wife_education": 4,
          "wife_religion": 0
         },
         {
          "contraceptive_method_used": 2,
          "standard_of_living_index": 4,
          "wife_age": 35,
          "wife_education": 2,
          "wife_religion": 0
         },
         {
          "contraceptive_method_used": 3,
          "standard_of_living_index": 4,
          "wife_age": 30,
          "wife_education": 2,
          "wife_religion": 1
         },
         {
          "contraceptive_method_used": 1,
          "standard_of_living_index": 1,
          "wife_age": 43,
          "wife_education": 1,
          "wife_religion": 1
         },
         {
          "contraceptive_method_used": 2,
          "standard_of_living_index": 4,
          "wife_age": 37,
          "wife_education": 4,
          "wife_religion": 1
         },
         {
          "contraceptive_method_used": 2,
          "standard_of_living_index": 4,
          "wife_age": 36,
          "wife_education": 4,
          "wife_religion": 0
         },
         {
          "contraceptive_method_used": 1,
          "standard_of_living_index": 3,
          "wife_age": 48,
          "wife_education": 3,
          "wife_religion": 1
         },
         {
          "contraceptive_method_used": 3,
          "standard_of_living_index": 3,
          "wife_age": 32,
          "wife_education": 4,
          "wife_religion": 1
         },
         {
          "contraceptive_method_used": 2,
          "standard_of_living_index": 4,
          "wife_age": 39,
          "wife_education": 4,
          "wife_religion": 0
         },
         {
          "contraceptive_method_used": 1,
          "standard_of_living_index": 2,
          "wife_age": 47,
          "wife_education": 1,
          "wife_religion": 1
         },
         {
          "contraceptive_method_used": 3,
          "standard_of_living_index": 4,
          "wife_age": 32,
          "wife_education": 2,
          "wife_religion": 1
         },
         {
          "contraceptive_method_used": 2,
          "standard_of_living_index": 4,
          "wife_age": 24,
          "wife_education": 4,
          "wife_religion": 1
         },
         {
          "contraceptive_method_used": 1,
          "standard_of_living_index": 3,
          "wife_age": 34,
          "wife_education": 4,
          "wife_religion": 0
         },
         {
          "contraceptive_method_used": 1,
          "standard_of_living_index": 4,
          "wife_age": 42,
          "wife_education": 4,
          "wife_religion": 0
         },
         {
          "contraceptive_method_used": 1,
          "standard_of_living_index": 2,
          "wife_age": 31,
          "wife_education": 3,
          "wife_religion": 1
         },
         {
          "contraceptive_method_used": 1,
          "standard_of_living_index": 3,
          "wife_age": 16,
          "wife_education": 3,
          "wife_religion": 1
         },
         {
          "contraceptive_method_used": 2,
          "standard_of_living_index": 4,
          "wife_age": 31,
          "wife_education": 4,
          "wife_religion": 1
         },
         {
          "contraceptive_method_used": 1,
          "standard_of_living_index": 3,
          "wife_age": 26,
          "wife_education": 2,
          "wife_religion": 1
         },
         {
          "contraceptive_method_used": 3,
          "standard_of_living_index": 4,
          "wife_age": 26,
          "wife_education": 3,
          "wife_religion": 1
         },
         {
          "contraceptive_method_used": 3,
          "standard_of_living_index": 3,
          "wife_age": 29,
          "wife_education": 2,
          "wife_religion": 1
         },
         {
          "contraceptive_method_used": 3,
          "standard_of_living_index": 3,
          "wife_age": 30,
          "wife_education": 3,
          "wife_religion": 1
         },
         {
          "contraceptive_method_used": 2,
          "standard_of_living_index": 1,
          "wife_age": 30,
          "wife_education": 4,
          "wife_religion": 1
         },
         {
          "contraceptive_method_used": 1,
          "standard_of_living_index": 4,
          "wife_age": 32,
          "wife_education": 3,
          "wife_religion": 0
         },
         {
          "contraceptive_method_used": 2,
          "standard_of_living_index": 4,
          "wife_age": 48,
          "wife_education": 4,
          "wife_religion": 1
         },
         {
          "contraceptive_method_used": 2,
          "standard_of_living_index": 4,
          "wife_age": 48,
          "wife_education": 4,
          "wife_religion": 0
         },
         {
          "contraceptive_method_used": 1,
          "standard_of_living_index": 3,
          "wife_age": 24,
          "wife_education": 2,
          "wife_religion": 1
         },
         {
          "contraceptive_method_used": 3,
          "standard_of_living_index": 2,
          "wife_age": 33,
          "wife_education": 3,
          "wife_religion": 1
         },
         {
          "contraceptive_method_used": 1,
          "standard_of_living_index": 2,
          "wife_age": 38,
          "wife_education": 2,
          "wife_religion": 1
         },
         {
          "contraceptive_method_used": 1,
          "standard_of_living_index": 4,
          "wife_age": 40,
          "wife_education": 4,
          "wife_religion": 0
         },
         {
          "contraceptive_method_used": 2,
          "standard_of_living_index": 4,
          "wife_age": 29,
          "wife_education": 3,
          "wife_religion": 1
         },
         {
          "contraceptive_method_used": 1,
          "standard_of_living_index": 4,
          "wife_age": 48,
          "wife_education": 2,
          "wife_religion": 1
         },
         {
          "contraceptive_method_used": 1,
          "standard_of_living_index": 4,
          "wife_age": 24,
          "wife_education": 2,
          "wife_religion": 1
         },
         {
          "contraceptive_method_used": 1,
          "standard_of_living_index": 3,
          "wife_age": 49,
          "wife_education": 4,
          "wife_religion": 1
         },
         {
          "contraceptive_method_used": 2,
          "standard_of_living_index": 4,
          "wife_age": 41,
          "wife_education": 4,
          "wife_religion": 0
         },
         {
          "contraceptive_method_used": 2,
          "standard_of_living_index": 4,
          "wife_age": 42,
          "wife_education": 4,
          "wife_religion": 1
         },
         {
          "contraceptive_method_used": 1,
          "standard_of_living_index": 3,
          "wife_age": 19,
          "wife_education": 4,
          "wife_religion": 1
         },
         {
          "contraceptive_method_used": 3,
          "standard_of_living_index": 1,
          "wife_age": 31,
          "wife_education": 3,
          "wife_religion": 1
         },
         {
          "contraceptive_method_used": 1,
          "standard_of_living_index": 4,
          "wife_age": 37,
          "wife_education": 1,
          "wife_religion": 1
         },
         {
          "contraceptive_method_used": 1,
          "standard_of_living_index": 2,
          "wife_age": 25,
          "wife_education": 2,
          "wife_religion": 1
         },
         {
          "contraceptive_method_used": 1,
          "standard_of_living_index": 2,
          "wife_age": 40,
          "wife_education": 3,
          "wife_religion": 1
         },
         {
          "contraceptive_method_used": 3,
          "standard_of_living_index": 4,
          "wife_age": 44,
          "wife_education": 4,
          "wife_religion": 1
         },
         {
          "contraceptive_method_used": 1,
          "standard_of_living_index": 4,
          "wife_age": 33,
          "wife_education": 4,
          "wife_religion": 0
         },
         {
          "contraceptive_method_used": 1,
          "standard_of_living_index": 3,
          "wife_age": 42,
          "wife_education": 1,
          "wife_religion": 1
         },
         {
          "contraceptive_method_used": 3,
          "standard_of_living_index": 4,
          "wife_age": 26,
          "wife_education": 4,
          "wife_religion": 1
         },
         {
          "contraceptive_method_used": 3,
          "standard_of_living_index": 3,
          "wife_age": 33,
          "wife_education": 4,
          "wife_religion": 0
         },
         {
          "contraceptive_method_used": 3,
          "standard_of_living_index": 3,
          "wife_age": 34,
          "wife_education": 4,
          "wife_religion": 1
         },
         {
          "contraceptive_method_used": 2,
          "standard_of_living_index": 3,
          "wife_age": 40,
          "wife_education": 4,
          "wife_religion": 1
         },
         {
          "contraceptive_method_used": 2,
          "standard_of_living_index": 4,
          "wife_age": 30,
          "wife_education": 2,
          "wife_religion": 1
         },
         {
          "contraceptive_method_used": 1,
          "standard_of_living_index": 2,
          "wife_age": 20,
          "wife_education": 2,
          "wife_religion": 1
         },
         {
          "contraceptive_method_used": 3,
          "standard_of_living_index": 2,
          "wife_age": 24,
          "wife_education": 1,
          "wife_religion": 1
         },
         {
          "contraceptive_method_used": 1,
          "standard_of_living_index": 4,
          "wife_age": 34,
          "wife_education": 1,
          "wife_religion": 1
         },
         {
          "contraceptive_method_used": 3,
          "standard_of_living_index": 4,
          "wife_age": 32,
          "wife_education": 2,
          "wife_religion": 1
         },
         {
          "contraceptive_method_used": 3,
          "standard_of_living_index": 3,
          "wife_age": 21,
          "wife_education": 4,
          "wife_religion": 1
         },
         {
          "contraceptive_method_used": 2,
          "standard_of_living_index": 4,
          "wife_age": 46,
          "wife_education": 4,
          "wife_religion": 1
         },
         {
          "contraceptive_method_used": 3,
          "standard_of_living_index": 3,
          "wife_age": 24,
          "wife_education": 3,
          "wife_religion": 1
         },
         {
          "contraceptive_method_used": 3,
          "standard_of_living_index": 3,
          "wife_age": 30,
          "wife_education": 3,
          "wife_religion": 1
         },
         {
          "contraceptive_method_used": 3,
          "standard_of_living_index": 2,
          "wife_age": 25,
          "wife_education": 2,
          "wife_religion": 1
         },
         {
          "contraceptive_method_used": 3,
          "standard_of_living_index": 4,
          "wife_age": 23,
          "wife_education": 4,
          "wife_religion": 1
         },
         {
          "contraceptive_method_used": 3,
          "standard_of_living_index": 3,
          "wife_age": 22,
          "wife_education": 4,
          "wife_religion": 1
         },
         {
          "contraceptive_method_used": 3,
          "standard_of_living_index": 2,
          "wife_age": 30,
          "wife_education": 3,
          "wife_religion": 1
         },
         {
          "contraceptive_method_used": 3,
          "standard_of_living_index": 4,
          "wife_age": 27,
          "wife_education": 4,
          "wife_religion": 1
         },
         {
          "contraceptive_method_used": 3,
          "standard_of_living_index": 3,
          "wife_age": 25,
          "wife_education": 4,
          "wife_religion": 0
         },
         {
          "contraceptive_method_used": 1,
          "standard_of_living_index": 4,
          "wife_age": 44,
          "wife_education": 4,
          "wife_religion": 1
         },
         {
          "contraceptive_method_used": 3,
          "standard_of_living_index": 4,
          "wife_age": 34,
          "wife_education": 4,
          "wife_religion": 0
         },
         {
          "contraceptive_method_used": 3,
          "standard_of_living_index": 4,
          "wife_age": 26,
          "wife_education": 4,
          "wife_religion": 1
         },
         {
          "contraceptive_method_used": 1,
          "standard_of_living_index": 4,
          "wife_age": 41,
          "wife_education": 3,
          "wife_religion": 0
         },
         {
          "contraceptive_method_used": 2,
          "standard_of_living_index": 4,
          "wife_age": 32,
          "wife_education": 4,
          "wife_religion": 0
         },
         {
          "contraceptive_method_used": 2,
          "standard_of_living_index": 3,
          "wife_age": 31,
          "wife_education": 4,
          "wife_religion": 0
         },
         {
          "contraceptive_method_used": 2,
          "standard_of_living_index": 4,
          "wife_age": 28,
          "wife_education": 3,
          "wife_religion": 1
         },
         {
          "contraceptive_method_used": 1,
          "standard_of_living_index": 4,
          "wife_age": 29,
          "wife_education": 3,
          "wife_religion": 1
         },
         {
          "contraceptive_method_used": 1,
          "standard_of_living_index": 4,
          "wife_age": 23,
          "wife_education": 4,
          "wife_religion": 1
         },
         {
          "contraceptive_method_used": 1,
          "standard_of_living_index": 2,
          "wife_age": 46,
          "wife_education": 3,
          "wife_religion": 1
         },
         {
          "contraceptive_method_used": 3,
          "standard_of_living_index": 4,
          "wife_age": 32,
          "wife_education": 4,
          "wife_religion": 1
         },
         {
          "contraceptive_method_used": 2,
          "standard_of_living_index": 4,
          "wife_age": 46,
          "wife_education": 4,
          "wife_religion": 0
         },
         {
          "contraceptive_method_used": 1,
          "standard_of_living_index": 3,
          "wife_age": 23,
          "wife_education": 2,
          "wife_religion": 1
         },
         {
          "contraceptive_method_used": 3,
          "standard_of_living_index": 4,
          "wife_age": 41,
          "wife_education": 1,
          "wife_religion": 1
         },
         {
          "contraceptive_method_used": 2,
          "standard_of_living_index": 4,
          "wife_age": 49,
          "wife_education": 3,
          "wife_religion": 1
         },
         {
          "contraceptive_method_used": 3,
          "standard_of_living_index": 4,
          "wife_age": 25,
          "wife_education": 4,
          "wife_religion": 1
         },
         {
          "contraceptive_method_used": 3,
          "standard_of_living_index": 4,
          "wife_age": 39,
          "wife_education": 4,
          "wife_religion": 0
         },
         {
          "contraceptive_method_used": 2,
          "standard_of_living_index": 2,
          "wife_age": 40,
          "wife_education": 2,
          "wife_religion": 1
         },
         {
          "contraceptive_method_used": 3,
          "standard_of_living_index": 3,
          "wife_age": 26,
          "wife_education": 4,
          "wife_religion": 1
         },
         {
          "contraceptive_method_used": 1,
          "standard_of_living_index": 3,
          "wife_age": 20,
          "wife_education": 2,
          "wife_religion": 1
         },
         {
          "contraceptive_method_used": 2,
          "standard_of_living_index": 4,
          "wife_age": 32,
          "wife_education": 4,
          "wife_religion": 1
         },
         {
          "contraceptive_method_used": 1,
          "standard_of_living_index": 1,
          "wife_age": 21,
          "wife_education": 2,
          "wife_religion": 1
         },
         {
          "contraceptive_method_used": 1,
          "standard_of_living_index": 4,
          "wife_age": 46,
          "wife_education": 2,
          "wife_religion": 1
         },
         {
          "contraceptive_method_used": 1,
          "standard_of_living_index": 4,
          "wife_age": 35,
          "wife_education": 4,
          "wife_religion": 1
         },
         {
          "contraceptive_method_used": 2,
          "standard_of_living_index": 4,
          "wife_age": 28,
          "wife_education": 4,
          "wife_religion": 0
         },
         {
          "contraceptive_method_used": 3,
          "standard_of_living_index": 3,
          "wife_age": 30,
          "wife_education": 4,
          "wife_religion": 0
         },
         {
          "contraceptive_method_used": 2,
          "standard_of_living_index": 4,
          "wife_age": 32,
          "wife_education": 4,
          "wife_religion": 1
         },
         {
          "contraceptive_method_used": 1,
          "standard_of_living_index": 2,
          "wife_age": 43,
          "wife_education": 1,
          "wife_religion": 1
         },
         {
          "contraceptive_method_used": 3,
          "standard_of_living_index": 4,
          "wife_age": 36,
          "wife_education": 2,
          "wife_religion": 1
         },
         {
          "contraceptive_method_used": 3,
          "standard_of_living_index": 3,
          "wife_age": 25,
          "wife_education": 4,
          "wife_religion": 1
         },
         {
          "contraceptive_method_used": 1,
          "standard_of_living_index": 3,
          "wife_age": 22,
          "wife_education": 3,
          "wife_religion": 1
         },
         {
          "contraceptive_method_used": 2,
          "standard_of_living_index": 3,
          "wife_age": 35,
          "wife_education": 3,
          "wife_religion": 1
         },
         {
          "contraceptive_method_used": 1,
          "standard_of_living_index": 4,
          "wife_age": 27,
          "wife_education": 4,
          "wife_religion": 0
         },
         {
          "contraceptive_method_used": 1,
          "standard_of_living_index": 3,
          "wife_age": 34,
          "wife_education": 4,
          "wife_religion": 0
         },
         {
          "contraceptive_method_used": 3,
          "standard_of_living_index": 3,
          "wife_age": 33,
          "wife_education": 4,
          "wife_religion": 1
         },
         {
          "contraceptive_method_used": 2,
          "standard_of_living_index": 4,
          "wife_age": 31,
          "wife_education": 4,
          "wife_religion": 0
         },
         {
          "contraceptive_method_used": 1,
          "standard_of_living_index": 2,
          "wife_age": 21,
          "wife_education": 2,
          "wife_religion": 1
         },
         {
          "contraceptive_method_used": 3,
          "standard_of_living_index": 3,
          "wife_age": 30,
          "wife_education": 3,
          "wife_religion": 1
         },
         {
          "contraceptive_method_used": 2,
          "standard_of_living_index": 4,
          "wife_age": 33,
          "wife_education": 3,
          "wife_religion": 0
         },
         {
          "contraceptive_method_used": 3,
          "standard_of_living_index": 3,
          "wife_age": 38,
          "wife_education": 4,
          "wife_religion": 0
         },
         {
          "contraceptive_method_used": 3,
          "standard_of_living_index": 1,
          "wife_age": 32,
          "wife_education": 2,
          "wife_religion": 1
         },
         {
          "contraceptive_method_used": 3,
          "standard_of_living_index": 3,
          "wife_age": 39,
          "wife_education": 4,
          "wife_religion": 0
         },
         {
          "contraceptive_method_used": 1,
          "standard_of_living_index": 3,
          "wife_age": 42,
          "wife_education": 3,
          "wife_religion": 1
         },
         {
          "contraceptive_method_used": 1,
          "standard_of_living_index": 4,
          "wife_age": 31,
          "wife_education": 3,
          "wife_religion": 1
         },
         {
          "contraceptive_method_used": 1,
          "standard_of_living_index": 4,
          "wife_age": 26,
          "wife_education": 4,
          "wife_religion": 1
         },
         {
          "contraceptive_method_used": 1,
          "standard_of_living_index": 4,
          "wife_age": 30,
          "wife_education": 4,
          "wife_religion": 1
         },
         {
          "contraceptive_method_used": 1,
          "standard_of_living_index": 3,
          "wife_age": 27,
          "wife_education": 2,
          "wife_religion": 1
         },
         {
          "contraceptive_method_used": 3,
          "standard_of_living_index": 4,
          "wife_age": 37,
          "wife_education": 4,
          "wife_religion": 1
         },
         {
          "contraceptive_method_used": 1,
          "standard_of_living_index": 2,
          "wife_age": 24,
          "wife_education": 3,
          "wife_religion": 1
         },
         {
          "contraceptive_method_used": 1,
          "standard_of_living_index": 1,
          "wife_age": 26,
          "wife_education": 1,
          "wife_religion": 1
         },
         {
          "contraceptive_method_used": 3,
          "standard_of_living_index": 4,
          "wife_age": 31,
          "wife_education": 4,
          "wife_religion": 1
         },
         {
          "contraceptive_method_used": 1,
          "standard_of_living_index": 4,
          "wife_age": 47,
          "wife_education": 4,
          "wife_religion": 1
         },
         {
          "contraceptive_method_used": 2,
          "standard_of_living_index": 3,
          "wife_age": 29,
          "wife_education": 3,
          "wife_religion": 1
         },
         {
          "contraceptive_method_used": 1,
          "standard_of_living_index": 2,
          "wife_age": 24,
          "wife_education": 3,
          "wife_religion": 1
         },
         {
          "contraceptive_method_used": 2,
          "standard_of_living_index": 3,
          "wife_age": 28,
          "wife_education": 4,
          "wife_religion": 1
         },
         {
          "contraceptive_method_used": 1,
          "standard_of_living_index": 2,
          "wife_age": 47,
          "wife_education": 1,
          "wife_religion": 1
         },
         {
          "contraceptive_method_used": 3,
          "standard_of_living_index": 4,
          "wife_age": 44,
          "wife_education": 4,
          "wife_religion": 1
         },
         {
          "contraceptive_method_used": 2,
          "standard_of_living_index": 4,
          "wife_age": 33,
          "wife_education": 3,
          "wife_religion": 1
         },
         {
          "contraceptive_method_used": 3,
          "standard_of_living_index": 2,
          "wife_age": 32,
          "wife_education": 1,
          "wife_religion": 1
         },
         {
          "contraceptive_method_used": 2,
          "standard_of_living_index": 3,
          "wife_age": 34,
          "wife_education": 2,
          "wife_religion": 1
         },
         {
          "contraceptive_method_used": 3,
          "standard_of_living_index": 4,
          "wife_age": 28,
          "wife_education": 1,
          "wife_religion": 1
         },
         {
          "contraceptive_method_used": 2,
          "standard_of_living_index": 4,
          "wife_age": 47,
          "wife_education": 4,
          "wife_religion": 1
         },
         {
          "contraceptive_method_used": 1,
          "standard_of_living_index": 4,
          "wife_age": 22,
          "wife_education": 3,
          "wife_religion": 1
         },
         {
          "contraceptive_method_used": 2,
          "standard_of_living_index": 3,
          "wife_age": 22,
          "wife_education": 4,
          "wife_religion": 1
         },
         {
          "contraceptive_method_used": 3,
          "standard_of_living_index": 4,
          "wife_age": 42,
          "wife_education": 4,
          "wife_religion": 0
         },
         {
          "contraceptive_method_used": 1,
          "standard_of_living_index": 4,
          "wife_age": 37,
          "wife_education": 3,
          "wife_religion": 1
         }
        ]
       },
       "encoding": {
        "color": {
         "field": "wife_education",
         "legend": {
          "title": "Education level"
         },
         "type": "quantitative"
        },
        "x": {
         "field": "contraceptive_method_used",
         "title": "Contraceptive method used",
         "type": "quantitative"
        },
        "y": {
         "aggregate": "count",
         "title": "Number of records",
         "type": "quantitative"
        }
       },
       "mark": {
        "size": 10,
        "type": "bar"
       },
       "title": "Distribution of Education For Each Method of Contraception Used",
       "width": 100
      },
      "text/plain": [
       "<VegaLite 4 object>\n",
       "\n",
       "If you see this message, it means the renderer has not been properly enabled\n",
       "for the frontend that you are using. For more information, see\n",
       "https://altair-viz.github.io/user_guide/troubleshooting.html\n"
      ]
     },
     "execution_count": 36,
     "metadata": {},
     "output_type": "execute_result"
    }
   ],
   "source": [
    "wife_education_correlation = alt.Chart(cmc_train, title = \"Distribution of Education For Each Method of Contraception Used\").mark_bar(size=10).encode(\n",
    "    x = alt.X(\"contraceptive_method_used\", title = \"Contraceptive method used\"),\n",
    "    y = alt.Y(\"count()\", title = \"Number of records\"),\n",
    "    color = alt.Color(\"wife_education\",legend=alt.Legend(title=\"Education level\"))\n",
    ").properties(width=100)\n",
    "wife_education_correlation"
   ]
  },
  {
   "cell_type": "markdown",
   "metadata": {},
   "source": [
    "From the graph, we can see that as the level of education increases, there is a greater proportion of of women who chose to use contraceptives. "
   ]
  },
  {
   "cell_type": "markdown",
   "metadata": {},
   "source": [
    "**Standard of living**"
   ]
  },
  {
   "cell_type": "code",
   "execution_count": 37,
   "metadata": {},
   "outputs": [
    {
     "data": {
      "application/vnd.vegalite.v4+json": {
       "$schema": "https://vega.github.io/schema/vega-lite/v4.17.0.json",
       "config": {
        "view": {
         "continuousHeight": 300,
         "continuousWidth": 400
        }
       },
       "data": {
        "name": "data-3895c4260d1dd1a6efb37b73d7dea99f"
       },
       "datasets": {
        "data-3895c4260d1dd1a6efb37b73d7dea99f": [
         {
          "contraceptive_method_used": 3,
          "standard_of_living_index": 1,
          "wife_age": 30,
          "wife_education": 3,
          "wife_religion": 1
         },
         {
          "contraceptive_method_used": 2,
          "standard_of_living_index": 3,
          "wife_age": 34,
          "wife_education": 3,
          "wife_religion": 0
         },
         {
          "contraceptive_method_used": 1,
          "standard_of_living_index": 4,
          "wife_age": 28,
          "wife_education": 2,
          "wife_religion": 1
         },
         {
          "contraceptive_method_used": 1,
          "standard_of_living_index": 4,
          "wife_age": 30,
          "wife_education": 4,
          "wife_religion": 1
         },
         {
          "contraceptive_method_used": 1,
          "standard_of_living_index": 4,
          "wife_age": 35,
          "wife_education": 1,
          "wife_religion": 1
         },
         {
          "contraceptive_method_used": 2,
          "standard_of_living_index": 3,
          "wife_age": 21,
          "wife_education": 4,
          "wife_religion": 1
         },
         {
          "contraceptive_method_used": 2,
          "standard_of_living_index": 4,
          "wife_age": 26,
          "wife_education": 4,
          "wife_religion": 0
         },
         {
          "contraceptive_method_used": 1,
          "standard_of_living_index": 4,
          "wife_age": 42,
          "wife_education": 2,
          "wife_religion": 1
         },
         {
          "contraceptive_method_used": 3,
          "standard_of_living_index": 4,
          "wife_age": 40,
          "wife_education": 2,
          "wife_religion": 0
         },
         {
          "contraceptive_method_used": 1,
          "standard_of_living_index": 2,
          "wife_age": 22,
          "wife_education": 4,
          "wife_religion": 1
         },
         {
          "contraceptive_method_used": 3,
          "standard_of_living_index": 4,
          "wife_age": 26,
          "wife_education": 4,
          "wife_religion": 0
         },
         {
          "contraceptive_method_used": 1,
          "standard_of_living_index": 2,
          "wife_age": 19,
          "wife_education": 3,
          "wife_religion": 1
         },
         {
          "contraceptive_method_used": 1,
          "standard_of_living_index": 2,
          "wife_age": 27,
          "wife_education": 2,
          "wife_religion": 1
         },
         {
          "contraceptive_method_used": 3,
          "standard_of_living_index": 4,
          "wife_age": 25,
          "wife_education": 4,
          "wife_religion": 1
         },
         {
          "contraceptive_method_used": 1,
          "standard_of_living_index": 2,
          "wife_age": 28,
          "wife_education": 2,
          "wife_religion": 1
         },
         {
          "contraceptive_method_used": 1,
          "standard_of_living_index": 3,
          "wife_age": 22,
          "wife_education": 2,
          "wife_religion": 1
         },
         {
          "contraceptive_method_used": 1,
          "standard_of_living_index": 3,
          "wife_age": 21,
          "wife_education": 3,
          "wife_religion": 1
         },
         {
          "contraceptive_method_used": 3,
          "standard_of_living_index": 4,
          "wife_age": 37,
          "wife_education": 3,
          "wife_religion": 0
         },
         {
          "contraceptive_method_used": 1,
          "standard_of_living_index": 3,
          "wife_age": 29,
          "wife_education": 3,
          "wife_religion": 0
         },
         {
          "contraceptive_method_used": 1,
          "standard_of_living_index": 3,
          "wife_age": 45,
          "wife_education": 1,
          "wife_religion": 1
         },
         {
          "contraceptive_method_used": 3,
          "standard_of_living_index": 3,
          "wife_age": 28,
          "wife_education": 3,
          "wife_religion": 0
         },
         {
          "contraceptive_method_used": 1,
          "standard_of_living_index": 3,
          "wife_age": 36,
          "wife_education": 3,
          "wife_religion": 0
         },
         {
          "contraceptive_method_used": 1,
          "standard_of_living_index": 2,
          "wife_age": 19,
          "wife_education": 2,
          "wife_religion": 1
         },
         {
          "contraceptive_method_used": 3,
          "standard_of_living_index": 3,
          "wife_age": 27,
          "wife_education": 3,
          "wife_religion": 1
         },
         {
          "contraceptive_method_used": 1,
          "standard_of_living_index": 3,
          "wife_age": 31,
          "wife_education": 3,
          "wife_religion": 1
         },
         {
          "contraceptive_method_used": 1,
          "standard_of_living_index": 1,
          "wife_age": 25,
          "wife_education": 2,
          "wife_religion": 1
         },
         {
          "contraceptive_method_used": 3,
          "standard_of_living_index": 1,
          "wife_age": 20,
          "wife_education": 2,
          "wife_religion": 1
         },
         {
          "contraceptive_method_used": 1,
          "standard_of_living_index": 3,
          "wife_age": 49,
          "wife_education": 2,
          "wife_religion": 0
         },
         {
          "contraceptive_method_used": 2,
          "standard_of_living_index": 4,
          "wife_age": 37,
          "wife_education": 4,
          "wife_religion": 0
         },
         {
          "contraceptive_method_used": 2,
          "standard_of_living_index": 4,
          "wife_age": 25,
          "wife_education": 2,
          "wife_religion": 1
         },
         {
          "contraceptive_method_used": 1,
          "standard_of_living_index": 4,
          "wife_age": 45,
          "wife_education": 4,
          "wife_religion": 1
         },
         {
          "contraceptive_method_used": 2,
          "standard_of_living_index": 4,
          "wife_age": 44,
          "wife_education": 4,
          "wife_religion": 1
         },
         {
          "contraceptive_method_used": 2,
          "standard_of_living_index": 4,
          "wife_age": 47,
          "wife_education": 2,
          "wife_religion": 1
         },
         {
          "contraceptive_method_used": 1,
          "standard_of_living_index": 4,
          "wife_age": 47,
          "wife_education": 4,
          "wife_religion": 1
         },
         {
          "contraceptive_method_used": 3,
          "standard_of_living_index": 3,
          "wife_age": 22,
          "wife_education": 4,
          "wife_religion": 1
         },
         {
          "contraceptive_method_used": 1,
          "standard_of_living_index": 2,
          "wife_age": 40,
          "wife_education": 3,
          "wife_religion": 1
         },
         {
          "contraceptive_method_used": 2,
          "standard_of_living_index": 4,
          "wife_age": 44,
          "wife_education": 4,
          "wife_religion": 1
         },
         {
          "contraceptive_method_used": 3,
          "standard_of_living_index": 4,
          "wife_age": 38,
          "wife_education": 4,
          "wife_religion": 1
         },
         {
          "contraceptive_method_used": 2,
          "standard_of_living_index": 4,
          "wife_age": 36,
          "wife_education": 4,
          "wife_religion": 1
         },
         {
          "contraceptive_method_used": 1,
          "standard_of_living_index": 4,
          "wife_age": 37,
          "wife_education": 3,
          "wife_religion": 1
         },
         {
          "contraceptive_method_used": 1,
          "standard_of_living_index": 2,
          "wife_age": 42,
          "wife_education": 1,
          "wife_religion": 1
         },
         {
          "contraceptive_method_used": 2,
          "standard_of_living_index": 4,
          "wife_age": 41,
          "wife_education": 4,
          "wife_religion": 1
         },
         {
          "contraceptive_method_used": 2,
          "standard_of_living_index": 4,
          "wife_age": 44,
          "wife_education": 4,
          "wife_religion": 1
         },
         {
          "contraceptive_method_used": 3,
          "standard_of_living_index": 4,
          "wife_age": 32,
          "wife_education": 4,
          "wife_religion": 1
         },
         {
          "contraceptive_method_used": 2,
          "standard_of_living_index": 4,
          "wife_age": 41,
          "wife_education": 4,
          "wife_religion": 1
         },
         {
          "contraceptive_method_used": 2,
          "standard_of_living_index": 4,
          "wife_age": 40,
          "wife_education": 4,
          "wife_religion": 1
         },
         {
          "contraceptive_method_used": 3,
          "standard_of_living_index": 4,
          "wife_age": 49,
          "wife_education": 4,
          "wife_religion": 1
         },
         {
          "contraceptive_method_used": 1,
          "standard_of_living_index": 4,
          "wife_age": 33,
          "wife_education": 2,
          "wife_religion": 0
         },
         {
          "contraceptive_method_used": 2,
          "standard_of_living_index": 3,
          "wife_age": 37,
          "wife_education": 4,
          "wife_religion": 1
         },
         {
          "contraceptive_method_used": 1,
          "standard_of_living_index": 4,
          "wife_age": 28,
          "wife_education": 4,
          "wife_religion": 1
         },
         {
          "contraceptive_method_used": 1,
          "standard_of_living_index": 4,
          "wife_age": 49,
          "wife_education": 3,
          "wife_religion": 1
         },
         {
          "contraceptive_method_used": 2,
          "standard_of_living_index": 4,
          "wife_age": 44,
          "wife_education": 4,
          "wife_religion": 1
         },
         {
          "contraceptive_method_used": 1,
          "standard_of_living_index": 4,
          "wife_age": 30,
          "wife_education": 1,
          "wife_religion": 1
         },
         {
          "contraceptive_method_used": 1,
          "standard_of_living_index": 1,
          "wife_age": 28,
          "wife_education": 3,
          "wife_religion": 1
         },
         {
          "contraceptive_method_used": 1,
          "standard_of_living_index": 2,
          "wife_age": 42,
          "wife_education": 3,
          "wife_religion": 1
         },
         {
          "contraceptive_method_used": 2,
          "standard_of_living_index": 4,
          "wife_age": 41,
          "wife_education": 4,
          "wife_religion": 0
         },
         {
          "contraceptive_method_used": 3,
          "standard_of_living_index": 4,
          "wife_age": 26,
          "wife_education": 2,
          "wife_religion": 1
         },
         {
          "contraceptive_method_used": 1,
          "standard_of_living_index": 4,
          "wife_age": 39,
          "wife_education": 3,
          "wife_religion": 1
         },
         {
          "contraceptive_method_used": 2,
          "standard_of_living_index": 4,
          "wife_age": 41,
          "wife_education": 4,
          "wife_religion": 0
         },
         {
          "contraceptive_method_used": 3,
          "standard_of_living_index": 3,
          "wife_age": 26,
          "wife_education": 3,
          "wife_religion": 1
         },
         {
          "contraceptive_method_used": 2,
          "standard_of_living_index": 3,
          "wife_age": 25,
          "wife_education": 4,
          "wife_religion": 0
         },
         {
          "contraceptive_method_used": 2,
          "standard_of_living_index": 4,
          "wife_age": 40,
          "wife_education": 4,
          "wife_religion": 0
         },
         {
          "contraceptive_method_used": 3,
          "standard_of_living_index": 4,
          "wife_age": 25,
          "wife_education": 4,
          "wife_religion": 1
         },
         {
          "contraceptive_method_used": 2,
          "standard_of_living_index": 2,
          "wife_age": 24,
          "wife_education": 1,
          "wife_religion": 1
         },
         {
          "contraceptive_method_used": 1,
          "standard_of_living_index": 4,
          "wife_age": 32,
          "wife_education": 2,
          "wife_religion": 1
         },
         {
          "contraceptive_method_used": 1,
          "standard_of_living_index": 4,
          "wife_age": 39,
          "wife_education": 3,
          "wife_religion": 0
         },
         {
          "contraceptive_method_used": 3,
          "standard_of_living_index": 2,
          "wife_age": 35,
          "wife_education": 1,
          "wife_religion": 1
         },
         {
          "contraceptive_method_used": 2,
          "standard_of_living_index": 2,
          "wife_age": 24,
          "wife_education": 4,
          "wife_religion": 1
         },
         {
          "contraceptive_method_used": 2,
          "standard_of_living_index": 4,
          "wife_age": 25,
          "wife_education": 4,
          "wife_religion": 1
         },
         {
          "contraceptive_method_used": 3,
          "standard_of_living_index": 2,
          "wife_age": 22,
          "wife_education": 1,
          "wife_religion": 1
         },
         {
          "contraceptive_method_used": 1,
          "standard_of_living_index": 4,
          "wife_age": 25,
          "wife_education": 3,
          "wife_religion": 1
         },
         {
          "contraceptive_method_used": 2,
          "standard_of_living_index": 4,
          "wife_age": 24,
          "wife_education": 4,
          "wife_religion": 1
         },
         {
          "contraceptive_method_used": 1,
          "standard_of_living_index": 1,
          "wife_age": 40,
          "wife_education": 1,
          "wife_religion": 1
         },
         {
          "contraceptive_method_used": 2,
          "standard_of_living_index": 2,
          "wife_age": 36,
          "wife_education": 3,
          "wife_religion": 1
         },
         {
          "contraceptive_method_used": 2,
          "standard_of_living_index": 2,
          "wife_age": 35,
          "wife_education": 3,
          "wife_religion": 1
         },
         {
          "contraceptive_method_used": 1,
          "standard_of_living_index": 3,
          "wife_age": 22,
          "wife_education": 2,
          "wife_religion": 1
         },
         {
          "contraceptive_method_used": 2,
          "standard_of_living_index": 4,
          "wife_age": 17,
          "wife_education": 4,
          "wife_religion": 1
         },
         {
          "contraceptive_method_used": 3,
          "standard_of_living_index": 4,
          "wife_age": 17,
          "wife_education": 3,
          "wife_religion": 1
         },
         {
          "contraceptive_method_used": 3,
          "standard_of_living_index": 4,
          "wife_age": 35,
          "wife_education": 4,
          "wife_religion": 0
         },
         {
          "contraceptive_method_used": 1,
          "standard_of_living_index": 3,
          "wife_age": 45,
          "wife_education": 1,
          "wife_religion": 1
         },
         {
          "contraceptive_method_used": 2,
          "standard_of_living_index": 3,
          "wife_age": 28,
          "wife_education": 2,
          "wife_religion": 1
         },
         {
          "contraceptive_method_used": 1,
          "standard_of_living_index": 4,
          "wife_age": 47,
          "wife_education": 3,
          "wife_religion": 1
         },
         {
          "contraceptive_method_used": 2,
          "standard_of_living_index": 4,
          "wife_age": 30,
          "wife_education": 3,
          "wife_religion": 1
         },
         {
          "contraceptive_method_used": 2,
          "standard_of_living_index": 4,
          "wife_age": 21,
          "wife_education": 3,
          "wife_religion": 1
         },
         {
          "contraceptive_method_used": 2,
          "standard_of_living_index": 4,
          "wife_age": 35,
          "wife_education": 4,
          "wife_religion": 0
         },
         {
          "contraceptive_method_used": 1,
          "standard_of_living_index": 3,
          "wife_age": 25,
          "wife_education": 4,
          "wife_religion": 1
         },
         {
          "contraceptive_method_used": 1,
          "standard_of_living_index": 4,
          "wife_age": 38,
          "wife_education": 3,
          "wife_religion": 0
         },
         {
          "contraceptive_method_used": 2,
          "standard_of_living_index": 4,
          "wife_age": 21,
          "wife_education": 4,
          "wife_religion": 1
         },
         {
          "contraceptive_method_used": 1,
          "standard_of_living_index": 4,
          "wife_age": 48,
          "wife_education": 3,
          "wife_religion": 0
         },
         {
          "contraceptive_method_used": 1,
          "standard_of_living_index": 3,
          "wife_age": 35,
          "wife_education": 2,
          "wife_religion": 1
         },
         {
          "contraceptive_method_used": 3,
          "standard_of_living_index": 4,
          "wife_age": 35,
          "wife_education": 4,
          "wife_religion": 0
         },
         {
          "contraceptive_method_used": 1,
          "standard_of_living_index": 2,
          "wife_age": 22,
          "wife_education": 3,
          "wife_religion": 1
         },
         {
          "contraceptive_method_used": 3,
          "standard_of_living_index": 2,
          "wife_age": 40,
          "wife_education": 3,
          "wife_religion": 1
         },
         {
          "contraceptive_method_used": 1,
          "standard_of_living_index": 4,
          "wife_age": 27,
          "wife_education": 2,
          "wife_religion": 1
         },
         {
          "contraceptive_method_used": 2,
          "standard_of_living_index": 4,
          "wife_age": 30,
          "wife_education": 3,
          "wife_religion": 1
         },
         {
          "contraceptive_method_used": 1,
          "standard_of_living_index": 3,
          "wife_age": 47,
          "wife_education": 1,
          "wife_religion": 1
         },
         {
          "contraceptive_method_used": 3,
          "standard_of_living_index": 4,
          "wife_age": 25,
          "wife_education": 2,
          "wife_religion": 1
         },
         {
          "contraceptive_method_used": 3,
          "standard_of_living_index": 4,
          "wife_age": 32,
          "wife_education": 4,
          "wife_religion": 0
         },
         {
          "contraceptive_method_used": 1,
          "standard_of_living_index": 3,
          "wife_age": 36,
          "wife_education": 2,
          "wife_religion": 1
         },
         {
          "contraceptive_method_used": 3,
          "standard_of_living_index": 2,
          "wife_age": 26,
          "wife_education": 3,
          "wife_religion": 1
         },
         {
          "contraceptive_method_used": 3,
          "standard_of_living_index": 3,
          "wife_age": 22,
          "wife_education": 3,
          "wife_religion": 1
         },
         {
          "contraceptive_method_used": 1,
          "standard_of_living_index": 1,
          "wife_age": 34,
          "wife_education": 3,
          "wife_religion": 0
         },
         {
          "contraceptive_method_used": 2,
          "standard_of_living_index": 3,
          "wife_age": 36,
          "wife_education": 3,
          "wife_religion": 1
         },
         {
          "contraceptive_method_used": 3,
          "standard_of_living_index": 3,
          "wife_age": 32,
          "wife_education": 2,
          "wife_religion": 1
         },
         {
          "contraceptive_method_used": 1,
          "standard_of_living_index": 4,
          "wife_age": 28,
          "wife_education": 4,
          "wife_religion": 0
         },
         {
          "contraceptive_method_used": 1,
          "standard_of_living_index": 4,
          "wife_age": 47,
          "wife_education": 4,
          "wife_religion": 0
         },
         {
          "contraceptive_method_used": 1,
          "standard_of_living_index": 4,
          "wife_age": 33,
          "wife_education": 4,
          "wife_religion": 1
         },
         {
          "contraceptive_method_used": 1,
          "standard_of_living_index": 2,
          "wife_age": 35,
          "wife_education": 3,
          "wife_religion": 1
         },
         {
          "contraceptive_method_used": 3,
          "standard_of_living_index": 3,
          "wife_age": 25,
          "wife_education": 4,
          "wife_religion": 1
         },
         {
          "contraceptive_method_used": 3,
          "standard_of_living_index": 1,
          "wife_age": 36,
          "wife_education": 1,
          "wife_religion": 1
         },
         {
          "contraceptive_method_used": 1,
          "standard_of_living_index": 3,
          "wife_age": 29,
          "wife_education": 4,
          "wife_religion": 1
         },
         {
          "contraceptive_method_used": 1,
          "standard_of_living_index": 4,
          "wife_age": 49,
          "wife_education": 4,
          "wife_religion": 0
         },
         {
          "contraceptive_method_used": 3,
          "standard_of_living_index": 4,
          "wife_age": 33,
          "wife_education": 4,
          "wife_religion": 0
         },
         {
          "contraceptive_method_used": 3,
          "standard_of_living_index": 3,
          "wife_age": 48,
          "wife_education": 3,
          "wife_religion": 1
         },
         {
          "contraceptive_method_used": 3,
          "standard_of_living_index": 3,
          "wife_age": 31,
          "wife_education": 2,
          "wife_religion": 1
         },
         {
          "contraceptive_method_used": 3,
          "standard_of_living_index": 4,
          "wife_age": 46,
          "wife_education": 3,
          "wife_religion": 1
         },
         {
          "contraceptive_method_used": 1,
          "standard_of_living_index": 3,
          "wife_age": 37,
          "wife_education": 2,
          "wife_religion": 1
         },
         {
          "contraceptive_method_used": 1,
          "standard_of_living_index": 2,
          "wife_age": 35,
          "wife_education": 3,
          "wife_religion": 1
         },
         {
          "contraceptive_method_used": 2,
          "standard_of_living_index": 4,
          "wife_age": 39,
          "wife_education": 4,
          "wife_religion": 0
         },
         {
          "contraceptive_method_used": 3,
          "standard_of_living_index": 1,
          "wife_age": 30,
          "wife_education": 2,
          "wife_religion": 1
         },
         {
          "contraceptive_method_used": 3,
          "standard_of_living_index": 4,
          "wife_age": 35,
          "wife_education": 4,
          "wife_religion": 1
         },
         {
          "contraceptive_method_used": 2,
          "standard_of_living_index": 4,
          "wife_age": 38,
          "wife_education": 4,
          "wife_religion": 1
         },
         {
          "contraceptive_method_used": 1,
          "standard_of_living_index": 2,
          "wife_age": 49,
          "wife_education": 1,
          "wife_religion": 1
         },
         {
          "contraceptive_method_used": 2,
          "standard_of_living_index": 4,
          "wife_age": 45,
          "wife_education": 4,
          "wife_religion": 1
         },
         {
          "contraceptive_method_used": 1,
          "standard_of_living_index": 4,
          "wife_age": 37,
          "wife_education": 4,
          "wife_religion": 0
         },
         {
          "contraceptive_method_used": 1,
          "standard_of_living_index": 4,
          "wife_age": 44,
          "wife_education": 1,
          "wife_religion": 1
         },
         {
          "contraceptive_method_used": 2,
          "standard_of_living_index": 4,
          "wife_age": 35,
          "wife_education": 4,
          "wife_religion": 1
         },
         {
          "contraceptive_method_used": 3,
          "standard_of_living_index": 4,
          "wife_age": 24,
          "wife_education": 2,
          "wife_religion": 1
         },
         {
          "contraceptive_method_used": 3,
          "standard_of_living_index": 4,
          "wife_age": 32,
          "wife_education": 4,
          "wife_religion": 0
         },
         {
          "contraceptive_method_used": 1,
          "standard_of_living_index": 2,
          "wife_age": 47,
          "wife_education": 2,
          "wife_religion": 1
         },
         {
          "contraceptive_method_used": 3,
          "standard_of_living_index": 4,
          "wife_age": 48,
          "wife_education": 4,
          "wife_religion": 1
         },
         {
          "contraceptive_method_used": 3,
          "standard_of_living_index": 4,
          "wife_age": 33,
          "wife_education": 3,
          "wife_religion": 1
         },
         {
          "contraceptive_method_used": 1,
          "standard_of_living_index": 4,
          "wife_age": 43,
          "wife_education": 4,
          "wife_religion": 1
         },
         {
          "contraceptive_method_used": 2,
          "standard_of_living_index": 4,
          "wife_age": 47,
          "wife_education": 4,
          "wife_religion": 1
         },
         {
          "contraceptive_method_used": 1,
          "standard_of_living_index": 2,
          "wife_age": 43,
          "wife_education": 1,
          "wife_religion": 1
         },
         {
          "contraceptive_method_used": 1,
          "standard_of_living_index": 4,
          "wife_age": 26,
          "wife_education": 4,
          "wife_religion": 1
         },
         {
          "contraceptive_method_used": 3,
          "standard_of_living_index": 2,
          "wife_age": 30,
          "wife_education": 3,
          "wife_religion": 1
         },
         {
          "contraceptive_method_used": 1,
          "standard_of_living_index": 3,
          "wife_age": 21,
          "wife_education": 4,
          "wife_religion": 1
         },
         {
          "contraceptive_method_used": 1,
          "standard_of_living_index": 4,
          "wife_age": 43,
          "wife_education": 1,
          "wife_religion": 1
         },
         {
          "contraceptive_method_used": 3,
          "standard_of_living_index": 2,
          "wife_age": 26,
          "wife_education": 1,
          "wife_religion": 1
         },
         {
          "contraceptive_method_used": 1,
          "standard_of_living_index": 1,
          "wife_age": 28,
          "wife_education": 2,
          "wife_religion": 1
         },
         {
          "contraceptive_method_used": 2,
          "standard_of_living_index": 4,
          "wife_age": 38,
          "wife_education": 4,
          "wife_religion": 1
         },
         {
          "contraceptive_method_used": 3,
          "standard_of_living_index": 3,
          "wife_age": 23,
          "wife_education": 3,
          "wife_religion": 1
         },
         {
          "contraceptive_method_used": 1,
          "standard_of_living_index": 3,
          "wife_age": 28,
          "wife_education": 3,
          "wife_religion": 1
         },
         {
          "contraceptive_method_used": 1,
          "standard_of_living_index": 1,
          "wife_age": 18,
          "wife_education": 3,
          "wife_religion": 1
         },
         {
          "contraceptive_method_used": 1,
          "standard_of_living_index": 4,
          "wife_age": 35,
          "wife_education": 4,
          "wife_religion": 1
         },
         {
          "contraceptive_method_used": 1,
          "standard_of_living_index": 4,
          "wife_age": 48,
          "wife_education": 4,
          "wife_religion": 0
         },
         {
          "contraceptive_method_used": 3,
          "standard_of_living_index": 3,
          "wife_age": 29,
          "wife_education": 1,
          "wife_religion": 1
         },
         {
          "contraceptive_method_used": 1,
          "standard_of_living_index": 1,
          "wife_age": 22,
          "wife_education": 4,
          "wife_religion": 1
         },
         {
          "contraceptive_method_used": 3,
          "standard_of_living_index": 1,
          "wife_age": 25,
          "wife_education": 2,
          "wife_religion": 1
         },
         {
          "contraceptive_method_used": 3,
          "standard_of_living_index": 4,
          "wife_age": 32,
          "wife_education": 4,
          "wife_religion": 1
         },
         {
          "contraceptive_method_used": 2,
          "standard_of_living_index": 3,
          "wife_age": 44,
          "wife_education": 4,
          "wife_religion": 0
         },
         {
          "contraceptive_method_used": 3,
          "standard_of_living_index": 4,
          "wife_age": 28,
          "wife_education": 2,
          "wife_religion": 1
         },
         {
          "contraceptive_method_used": 2,
          "standard_of_living_index": 4,
          "wife_age": 35,
          "wife_education": 4,
          "wife_religion": 1
         },
         {
          "contraceptive_method_used": 2,
          "standard_of_living_index": 2,
          "wife_age": 32,
          "wife_education": 3,
          "wife_religion": 1
         },
         {
          "contraceptive_method_used": 2,
          "standard_of_living_index": 4,
          "wife_age": 27,
          "wife_education": 4,
          "wife_religion": 1
         },
         {
          "contraceptive_method_used": 3,
          "standard_of_living_index": 3,
          "wife_age": 25,
          "wife_education": 4,
          "wife_religion": 1
         },
         {
          "contraceptive_method_used": 3,
          "standard_of_living_index": 3,
          "wife_age": 33,
          "wife_education": 2,
          "wife_religion": 1
         },
         {
          "contraceptive_method_used": 1,
          "standard_of_living_index": 3,
          "wife_age": 24,
          "wife_education": 3,
          "wife_religion": 1
         },
         {
          "contraceptive_method_used": 3,
          "standard_of_living_index": 3,
          "wife_age": 31,
          "wife_education": 3,
          "wife_religion": 1
         },
         {
          "contraceptive_method_used": 3,
          "standard_of_living_index": 4,
          "wife_age": 35,
          "wife_education": 4,
          "wife_religion": 1
         },
         {
          "contraceptive_method_used": 2,
          "standard_of_living_index": 3,
          "wife_age": 32,
          "wife_education": 3,
          "wife_religion": 0
         },
         {
          "contraceptive_method_used": 1,
          "standard_of_living_index": 2,
          "wife_age": 27,
          "wife_education": 3,
          "wife_religion": 1
         },
         {
          "contraceptive_method_used": 3,
          "standard_of_living_index": 3,
          "wife_age": 47,
          "wife_education": 4,
          "wife_religion": 1
         },
         {
          "contraceptive_method_used": 1,
          "standard_of_living_index": 4,
          "wife_age": 21,
          "wife_education": 4,
          "wife_religion": 1
         },
         {
          "contraceptive_method_used": 2,
          "standard_of_living_index": 3,
          "wife_age": 33,
          "wife_education": 4,
          "wife_religion": 1
         },
         {
          "contraceptive_method_used": 3,
          "standard_of_living_index": 4,
          "wife_age": 31,
          "wife_education": 4,
          "wife_religion": 0
         },
         {
          "contraceptive_method_used": 1,
          "standard_of_living_index": 4,
          "wife_age": 40,
          "wife_education": 3,
          "wife_religion": 0
         },
         {
          "contraceptive_method_used": 1,
          "standard_of_living_index": 3,
          "wife_age": 38,
          "wife_education": 1,
          "wife_religion": 1
         },
         {
          "contraceptive_method_used": 1,
          "standard_of_living_index": 4,
          "wife_age": 43,
          "wife_education": 1,
          "wife_religion": 1
         },
         {
          "contraceptive_method_used": 1,
          "standard_of_living_index": 4,
          "wife_age": 48,
          "wife_education": 4,
          "wife_religion": 1
         },
         {
          "contraceptive_method_used": 1,
          "standard_of_living_index": 1,
          "wife_age": 26,
          "wife_education": 3,
          "wife_religion": 1
         },
         {
          "contraceptive_method_used": 3,
          "standard_of_living_index": 3,
          "wife_age": 26,
          "wife_education": 4,
          "wife_religion": 1
         },
         {
          "contraceptive_method_used": 1,
          "standard_of_living_index": 1,
          "wife_age": 39,
          "wife_education": 1,
          "wife_religion": 1
         },
         {
          "contraceptive_method_used": 3,
          "standard_of_living_index": 1,
          "wife_age": 21,
          "wife_education": 3,
          "wife_religion": 1
         },
         {
          "contraceptive_method_used": 2,
          "standard_of_living_index": 3,
          "wife_age": 35,
          "wife_education": 4,
          "wife_religion": 0
         },
         {
          "contraceptive_method_used": 2,
          "standard_of_living_index": 4,
          "wife_age": 38,
          "wife_education": 4,
          "wife_religion": 0
         },
         {
          "contraceptive_method_used": 2,
          "standard_of_living_index": 4,
          "wife_age": 29,
          "wife_education": 4,
          "wife_religion": 1
         },
         {
          "contraceptive_method_used": 3,
          "standard_of_living_index": 4,
          "wife_age": 36,
          "wife_education": 4,
          "wife_religion": 0
         },
         {
          "contraceptive_method_used": 3,
          "standard_of_living_index": 4,
          "wife_age": 28,
          "wife_education": 4,
          "wife_religion": 1
         },
         {
          "contraceptive_method_used": 2,
          "standard_of_living_index": 3,
          "wife_age": 29,
          "wife_education": 4,
          "wife_religion": 1
         },
         {
          "contraceptive_method_used": 2,
          "standard_of_living_index": 4,
          "wife_age": 29,
          "wife_education": 4,
          "wife_religion": 1
         },
         {
          "contraceptive_method_used": 3,
          "standard_of_living_index": 4,
          "wife_age": 44,
          "wife_education": 3,
          "wife_religion": 1
         },
         {
          "contraceptive_method_used": 1,
          "standard_of_living_index": 1,
          "wife_age": 28,
          "wife_education": 2,
          "wife_religion": 1
         },
         {
          "contraceptive_method_used": 3,
          "standard_of_living_index": 4,
          "wife_age": 41,
          "wife_education": 4,
          "wife_religion": 1
         },
         {
          "contraceptive_method_used": 2,
          "standard_of_living_index": 3,
          "wife_age": 42,
          "wife_education": 2,
          "wife_religion": 0
         },
         {
          "contraceptive_method_used": 1,
          "standard_of_living_index": 3,
          "wife_age": 27,
          "wife_education": 2,
          "wife_religion": 1
         },
         {
          "contraceptive_method_used": 3,
          "standard_of_living_index": 1,
          "wife_age": 22,
          "wife_education": 3,
          "wife_religion": 1
         },
         {
          "contraceptive_method_used": 3,
          "standard_of_living_index": 3,
          "wife_age": 30,
          "wife_education": 2,
          "wife_religion": 1
         },
         {
          "contraceptive_method_used": 2,
          "standard_of_living_index": 4,
          "wife_age": 36,
          "wife_education": 4,
          "wife_religion": 1
         },
         {
          "contraceptive_method_used": 2,
          "standard_of_living_index": 4,
          "wife_age": 42,
          "wife_education": 4,
          "wife_religion": 1
         },
         {
          "contraceptive_method_used": 3,
          "standard_of_living_index": 4,
          "wife_age": 31,
          "wife_education": 4,
          "wife_religion": 1
         },
         {
          "contraceptive_method_used": 1,
          "standard_of_living_index": 3,
          "wife_age": 25,
          "wife_education": 1,
          "wife_religion": 1
         },
         {
          "contraceptive_method_used": 1,
          "standard_of_living_index": 4,
          "wife_age": 32,
          "wife_education": 2,
          "wife_religion": 1
         },
         {
          "contraceptive_method_used": 1,
          "standard_of_living_index": 4,
          "wife_age": 40,
          "wife_education": 4,
          "wife_religion": 1
         },
         {
          "contraceptive_method_used": 3,
          "standard_of_living_index": 4,
          "wife_age": 22,
          "wife_education": 3,
          "wife_religion": 0
         },
         {
          "contraceptive_method_used": 3,
          "standard_of_living_index": 3,
          "wife_age": 26,
          "wife_education": 3,
          "wife_religion": 1
         },
         {
          "contraceptive_method_used": 3,
          "standard_of_living_index": 4,
          "wife_age": 35,
          "wife_education": 3,
          "wife_religion": 1
         },
         {
          "contraceptive_method_used": 1,
          "standard_of_living_index": 2,
          "wife_age": 43,
          "wife_education": 1,
          "wife_religion": 1
         },
         {
          "contraceptive_method_used": 3,
          "standard_of_living_index": 4,
          "wife_age": 25,
          "wife_education": 2,
          "wife_religion": 1
         },
         {
          "contraceptive_method_used": 2,
          "standard_of_living_index": 2,
          "wife_age": 29,
          "wife_education": 4,
          "wife_religion": 1
         },
         {
          "contraceptive_method_used": 3,
          "standard_of_living_index": 2,
          "wife_age": 37,
          "wife_education": 3,
          "wife_religion": 1
         },
         {
          "contraceptive_method_used": 3,
          "standard_of_living_index": 1,
          "wife_age": 25,
          "wife_education": 2,
          "wife_religion": 1
         },
         {
          "contraceptive_method_used": 1,
          "standard_of_living_index": 4,
          "wife_age": 29,
          "wife_education": 2,
          "wife_religion": 1
         },
         {
          "contraceptive_method_used": 3,
          "standard_of_living_index": 3,
          "wife_age": 25,
          "wife_education": 2,
          "wife_religion": 1
         },
         {
          "contraceptive_method_used": 3,
          "standard_of_living_index": 3,
          "wife_age": 30,
          "wife_education": 3,
          "wife_religion": 0
         },
         {
          "contraceptive_method_used": 1,
          "standard_of_living_index": 3,
          "wife_age": 31,
          "wife_education": 3,
          "wife_religion": 1
         },
         {
          "contraceptive_method_used": 3,
          "standard_of_living_index": 3,
          "wife_age": 28,
          "wife_education": 3,
          "wife_religion": 1
         },
         {
          "contraceptive_method_used": 2,
          "standard_of_living_index": 4,
          "wife_age": 44,
          "wife_education": 4,
          "wife_religion": 1
         },
         {
          "contraceptive_method_used": 1,
          "standard_of_living_index": 4,
          "wife_age": 36,
          "wife_education": 4,
          "wife_religion": 1
         },
         {
          "contraceptive_method_used": 1,
          "standard_of_living_index": 2,
          "wife_age": 49,
          "wife_education": 4,
          "wife_religion": 1
         },
         {
          "contraceptive_method_used": 1,
          "standard_of_living_index": 4,
          "wife_age": 31,
          "wife_education": 4,
          "wife_religion": 0
         },
         {
          "contraceptive_method_used": 1,
          "standard_of_living_index": 3,
          "wife_age": 24,
          "wife_education": 2,
          "wife_religion": 1
         },
         {
          "contraceptive_method_used": 1,
          "standard_of_living_index": 1,
          "wife_age": 30,
          "wife_education": 2,
          "wife_religion": 1
         },
         {
          "contraceptive_method_used": 2,
          "standard_of_living_index": 4,
          "wife_age": 42,
          "wife_education": 3,
          "wife_religion": 1
         },
         {
          "contraceptive_method_used": 2,
          "standard_of_living_index": 4,
          "wife_age": 30,
          "wife_education": 4,
          "wife_religion": 0
         },
         {
          "contraceptive_method_used": 1,
          "standard_of_living_index": 2,
          "wife_age": 35,
          "wife_education": 3,
          "wife_religion": 1
         },
         {
          "contraceptive_method_used": 3,
          "standard_of_living_index": 4,
          "wife_age": 27,
          "wife_education": 2,
          "wife_religion": 1
         },
         {
          "contraceptive_method_used": 1,
          "standard_of_living_index": 3,
          "wife_age": 38,
          "wife_education": 2,
          "wife_religion": 1
         },
         {
          "contraceptive_method_used": 1,
          "standard_of_living_index": 4,
          "wife_age": 23,
          "wife_education": 2,
          "wife_religion": 1
         },
         {
          "contraceptive_method_used": 1,
          "standard_of_living_index": 4,
          "wife_age": 33,
          "wife_education": 2,
          "wife_religion": 1
         },
         {
          "contraceptive_method_used": 2,
          "standard_of_living_index": 3,
          "wife_age": 44,
          "wife_education": 2,
          "wife_religion": 1
         },
         {
          "contraceptive_method_used": 3,
          "standard_of_living_index": 3,
          "wife_age": 24,
          "wife_education": 4,
          "wife_religion": 1
         },
         {
          "contraceptive_method_used": 2,
          "standard_of_living_index": 3,
          "wife_age": 45,
          "wife_education": 3,
          "wife_religion": 0
         },
         {
          "contraceptive_method_used": 3,
          "standard_of_living_index": 4,
          "wife_age": 26,
          "wife_education": 2,
          "wife_religion": 1
         },
         {
          "contraceptive_method_used": 2,
          "standard_of_living_index": 3,
          "wife_age": 33,
          "wife_education": 3,
          "wife_religion": 0
         },
         {
          "contraceptive_method_used": 1,
          "standard_of_living_index": 3,
          "wife_age": 21,
          "wife_education": 3,
          "wife_religion": 1
         },
         {
          "contraceptive_method_used": 3,
          "standard_of_living_index": 3,
          "wife_age": 29,
          "wife_education": 3,
          "wife_religion": 1
         },
         {
          "contraceptive_method_used": 1,
          "standard_of_living_index": 2,
          "wife_age": 31,
          "wife_education": 2,
          "wife_religion": 1
         },
         {
          "contraceptive_method_used": 2,
          "standard_of_living_index": 4,
          "wife_age": 42,
          "wife_education": 4,
          "wife_religion": 1
         },
         {
          "contraceptive_method_used": 3,
          "standard_of_living_index": 2,
          "wife_age": 39,
          "wife_education": 4,
          "wife_religion": 1
         },
         {
          "contraceptive_method_used": 2,
          "standard_of_living_index": 4,
          "wife_age": 33,
          "wife_education": 4,
          "wife_religion": 1
         },
         {
          "contraceptive_method_used": 1,
          "standard_of_living_index": 4,
          "wife_age": 37,
          "wife_education": 4,
          "wife_religion": 1
         },
         {
          "contraceptive_method_used": 1,
          "standard_of_living_index": 4,
          "wife_age": 45,
          "wife_education": 2,
          "wife_religion": 1
         },
         {
          "contraceptive_method_used": 1,
          "standard_of_living_index": 4,
          "wife_age": 46,
          "wife_education": 4,
          "wife_religion": 1
         },
         {
          "contraceptive_method_used": 3,
          "standard_of_living_index": 2,
          "wife_age": 27,
          "wife_education": 3,
          "wife_religion": 1
         },
         {
          "contraceptive_method_used": 2,
          "standard_of_living_index": 3,
          "wife_age": 23,
          "wife_education": 4,
          "wife_religion": 1
         },
         {
          "contraceptive_method_used": 1,
          "standard_of_living_index": 2,
          "wife_age": 31,
          "wife_education": 3,
          "wife_religion": 1
         },
         {
          "contraceptive_method_used": 3,
          "standard_of_living_index": 3,
          "wife_age": 34,
          "wife_education": 2,
          "wife_religion": 1
         },
         {
          "contraceptive_method_used": 2,
          "standard_of_living_index": 4,
          "wife_age": 46,
          "wife_education": 4,
          "wife_religion": 1
         },
         {
          "contraceptive_method_used": 3,
          "standard_of_living_index": 4,
          "wife_age": 29,
          "wife_education": 2,
          "wife_religion": 1
         },
         {
          "contraceptive_method_used": 3,
          "standard_of_living_index": 4,
          "wife_age": 36,
          "wife_education": 2,
          "wife_religion": 1
         },
         {
          "contraceptive_method_used": 1,
          "standard_of_living_index": 3,
          "wife_age": 19,
          "wife_education": 4,
          "wife_religion": 1
         },
         {
          "contraceptive_method_used": 2,
          "standard_of_living_index": 4,
          "wife_age": 42,
          "wife_education": 2,
          "wife_religion": 1
         },
         {
          "contraceptive_method_used": 1,
          "standard_of_living_index": 4,
          "wife_age": 25,
          "wife_education": 4,
          "wife_religion": 1
         },
         {
          "contraceptive_method_used": 1,
          "standard_of_living_index": 4,
          "wife_age": 24,
          "wife_education": 4,
          "wife_religion": 0
         },
         {
          "contraceptive_method_used": 3,
          "standard_of_living_index": 4,
          "wife_age": 46,
          "wife_education": 1,
          "wife_religion": 1
         },
         {
          "contraceptive_method_used": 3,
          "standard_of_living_index": 3,
          "wife_age": 37,
          "wife_education": 2,
          "wife_religion": 1
         },
         {
          "contraceptive_method_used": 1,
          "standard_of_living_index": 1,
          "wife_age": 25,
          "wife_education": 3,
          "wife_religion": 1
         },
         {
          "contraceptive_method_used": 1,
          "standard_of_living_index": 4,
          "wife_age": 35,
          "wife_education": 4,
          "wife_religion": 0
         },
         {
          "contraceptive_method_used": 1,
          "standard_of_living_index": 3,
          "wife_age": 24,
          "wife_education": 4,
          "wife_religion": 1
         },
         {
          "contraceptive_method_used": 3,
          "standard_of_living_index": 4,
          "wife_age": 38,
          "wife_education": 4,
          "wife_religion": 1
         },
         {
          "contraceptive_method_used": 1,
          "standard_of_living_index": 2,
          "wife_age": 24,
          "wife_education": 4,
          "wife_religion": 1
         },
         {
          "contraceptive_method_used": 1,
          "standard_of_living_index": 1,
          "wife_age": 30,
          "wife_education": 4,
          "wife_religion": 0
         },
         {
          "contraceptive_method_used": 2,
          "standard_of_living_index": 4,
          "wife_age": 48,
          "wife_education": 4,
          "wife_religion": 0
         },
         {
          "contraceptive_method_used": 3,
          "standard_of_living_index": 3,
          "wife_age": 23,
          "wife_education": 4,
          "wife_religion": 1
         },
         {
          "contraceptive_method_used": 1,
          "standard_of_living_index": 2,
          "wife_age": 25,
          "wife_education": 3,
          "wife_religion": 1
         },
         {
          "contraceptive_method_used": 1,
          "standard_of_living_index": 1,
          "wife_age": 33,
          "wife_education": 2,
          "wife_religion": 1
         },
         {
          "contraceptive_method_used": 2,
          "standard_of_living_index": 4,
          "wife_age": 37,
          "wife_education": 4,
          "wife_religion": 1
         },
         {
          "contraceptive_method_used": 1,
          "standard_of_living_index": 4,
          "wife_age": 32,
          "wife_education": 4,
          "wife_religion": 1
         },
         {
          "contraceptive_method_used": 3,
          "standard_of_living_index": 2,
          "wife_age": 30,
          "wife_education": 3,
          "wife_religion": 1
         },
         {
          "contraceptive_method_used": 3,
          "standard_of_living_index": 4,
          "wife_age": 36,
          "wife_education": 2,
          "wife_religion": 1
         },
         {
          "contraceptive_method_used": 3,
          "standard_of_living_index": 2,
          "wife_age": 21,
          "wife_education": 2,
          "wife_religion": 1
         },
         {
          "contraceptive_method_used": 3,
          "standard_of_living_index": 4,
          "wife_age": 30,
          "wife_education": 1,
          "wife_religion": 1
         },
         {
          "contraceptive_method_used": 3,
          "standard_of_living_index": 4,
          "wife_age": 28,
          "wife_education": 2,
          "wife_religion": 1
         },
         {
          "contraceptive_method_used": 2,
          "standard_of_living_index": 4,
          "wife_age": 36,
          "wife_education": 4,
          "wife_religion": 0
         },
         {
          "contraceptive_method_used": 3,
          "standard_of_living_index": 2,
          "wife_age": 37,
          "wife_education": 2,
          "wife_religion": 1
         },
         {
          "contraceptive_method_used": 2,
          "standard_of_living_index": 2,
          "wife_age": 32,
          "wife_education": 2,
          "wife_religion": 1
         },
         {
          "contraceptive_method_used": 2,
          "standard_of_living_index": 4,
          "wife_age": 32,
          "wife_education": 4,
          "wife_religion": 1
         },
         {
          "contraceptive_method_used": 3,
          "standard_of_living_index": 2,
          "wife_age": 21,
          "wife_education": 2,
          "wife_religion": 1
         },
         {
          "contraceptive_method_used": 3,
          "standard_of_living_index": 4,
          "wife_age": 27,
          "wife_education": 2,
          "wife_religion": 1
         },
         {
          "contraceptive_method_used": 2,
          "standard_of_living_index": 2,
          "wife_age": 44,
          "wife_education": 3,
          "wife_religion": 1
         },
         {
          "contraceptive_method_used": 1,
          "standard_of_living_index": 4,
          "wife_age": 29,
          "wife_education": 4,
          "wife_religion": 1
         },
         {
          "contraceptive_method_used": 1,
          "standard_of_living_index": 4,
          "wife_age": 36,
          "wife_education": 2,
          "wife_religion": 1
         },
         {
          "contraceptive_method_used": 1,
          "standard_of_living_index": 3,
          "wife_age": 20,
          "wife_education": 3,
          "wife_religion": 1
         },
         {
          "contraceptive_method_used": 1,
          "standard_of_living_index": 2,
          "wife_age": 36,
          "wife_education": 4,
          "wife_religion": 1
         },
         {
          "contraceptive_method_used": 1,
          "standard_of_living_index": 4,
          "wife_age": 46,
          "wife_education": 4,
          "wife_religion": 0
         },
         {
          "contraceptive_method_used": 3,
          "standard_of_living_index": 2,
          "wife_age": 34,
          "wife_education": 2,
          "wife_religion": 0
         },
         {
          "contraceptive_method_used": 1,
          "standard_of_living_index": 3,
          "wife_age": 35,
          "wife_education": 4,
          "wife_religion": 1
         },
         {
          "contraceptive_method_used": 3,
          "standard_of_living_index": 2,
          "wife_age": 18,
          "wife_education": 3,
          "wife_religion": 1
         },
         {
          "contraceptive_method_used": 1,
          "standard_of_living_index": 4,
          "wife_age": 19,
          "wife_education": 4,
          "wife_religion": 0
         },
         {
          "contraceptive_method_used": 1,
          "standard_of_living_index": 3,
          "wife_age": 27,
          "wife_education": 3,
          "wife_religion": 1
         },
         {
          "contraceptive_method_used": 3,
          "standard_of_living_index": 3,
          "wife_age": 25,
          "wife_education": 3,
          "wife_religion": 1
         },
         {
          "contraceptive_method_used": 3,
          "standard_of_living_index": 2,
          "wife_age": 21,
          "wife_education": 3,
          "wife_religion": 1
         },
         {
          "contraceptive_method_used": 2,
          "standard_of_living_index": 4,
          "wife_age": 44,
          "wife_education": 4,
          "wife_religion": 1
         },
         {
          "contraceptive_method_used": 1,
          "standard_of_living_index": 3,
          "wife_age": 42,
          "wife_education": 3,
          "wife_religion": 1
         },
         {
          "contraceptive_method_used": 3,
          "standard_of_living_index": 4,
          "wife_age": 42,
          "wife_education": 4,
          "wife_religion": 1
         },
         {
          "contraceptive_method_used": 1,
          "standard_of_living_index": 3,
          "wife_age": 36,
          "wife_education": 2,
          "wife_religion": 1
         },
         {
          "contraceptive_method_used": 3,
          "standard_of_living_index": 3,
          "wife_age": 32,
          "wife_education": 3,
          "wife_religion": 1
         },
         {
          "contraceptive_method_used": 1,
          "standard_of_living_index": 3,
          "wife_age": 26,
          "wife_education": 4,
          "wife_religion": 1
         },
         {
          "contraceptive_method_used": 1,
          "standard_of_living_index": 3,
          "wife_age": 28,
          "wife_education": 1,
          "wife_religion": 1
         },
         {
          "contraceptive_method_used": 3,
          "standard_of_living_index": 4,
          "wife_age": 22,
          "wife_education": 1,
          "wife_religion": 1
         },
         {
          "contraceptive_method_used": 3,
          "standard_of_living_index": 4,
          "wife_age": 40,
          "wife_education": 4,
          "wife_religion": 0
         },
         {
          "contraceptive_method_used": 2,
          "standard_of_living_index": 3,
          "wife_age": 27,
          "wife_education": 4,
          "wife_religion": 1
         },
         {
          "contraceptive_method_used": 2,
          "standard_of_living_index": 3,
          "wife_age": 29,
          "wife_education": 3,
          "wife_religion": 1
         },
         {
          "contraceptive_method_used": 2,
          "standard_of_living_index": 2,
          "wife_age": 43,
          "wife_education": 3,
          "wife_religion": 1
         },
         {
          "contraceptive_method_used": 3,
          "standard_of_living_index": 3,
          "wife_age": 35,
          "wife_education": 2,
          "wife_religion": 1
         },
         {
          "contraceptive_method_used": 1,
          "standard_of_living_index": 2,
          "wife_age": 31,
          "wife_education": 2,
          "wife_religion": 1
         },
         {
          "contraceptive_method_used": 1,
          "standard_of_living_index": 3,
          "wife_age": 23,
          "wife_education": 4,
          "wife_religion": 1
         },
         {
          "contraceptive_method_used": 1,
          "standard_of_living_index": 4,
          "wife_age": 26,
          "wife_education": 2,
          "wife_religion": 1
         },
         {
          "contraceptive_method_used": 3,
          "standard_of_living_index": 2,
          "wife_age": 22,
          "wife_education": 2,
          "wife_religion": 1
         },
         {
          "contraceptive_method_used": 2,
          "standard_of_living_index": 4,
          "wife_age": 40,
          "wife_education": 3,
          "wife_religion": 0
         },
         {
          "contraceptive_method_used": 1,
          "standard_of_living_index": 4,
          "wife_age": 41,
          "wife_education": 4,
          "wife_religion": 1
         },
         {
          "contraceptive_method_used": 1,
          "standard_of_living_index": 1,
          "wife_age": 49,
          "wife_education": 2,
          "wife_religion": 1
         },
         {
          "contraceptive_method_used": 1,
          "standard_of_living_index": 4,
          "wife_age": 31,
          "wife_education": 3,
          "wife_religion": 0
         },
         {
          "contraceptive_method_used": 2,
          "standard_of_living_index": 3,
          "wife_age": 32,
          "wife_education": 4,
          "wife_religion": 0
         },
         {
          "contraceptive_method_used": 2,
          "standard_of_living_index": 4,
          "wife_age": 36,
          "wife_education": 3,
          "wife_religion": 0
         },
         {
          "contraceptive_method_used": 2,
          "standard_of_living_index": 4,
          "wife_age": 27,
          "wife_education": 4,
          "wife_religion": 1
         },
         {
          "contraceptive_method_used": 1,
          "standard_of_living_index": 4,
          "wife_age": 24,
          "wife_education": 2,
          "wife_religion": 1
         },
         {
          "contraceptive_method_used": 1,
          "standard_of_living_index": 1,
          "wife_age": 24,
          "wife_education": 2,
          "wife_religion": 1
         },
         {
          "contraceptive_method_used": 1,
          "standard_of_living_index": 1,
          "wife_age": 22,
          "wife_education": 2,
          "wife_religion": 1
         },
         {
          "contraceptive_method_used": 1,
          "standard_of_living_index": 3,
          "wife_age": 23,
          "wife_education": 3,
          "wife_religion": 1
         },
         {
          "contraceptive_method_used": 3,
          "standard_of_living_index": 2,
          "wife_age": 26,
          "wife_education": 4,
          "wife_religion": 1
         },
         {
          "contraceptive_method_used": 2,
          "standard_of_living_index": 4,
          "wife_age": 34,
          "wife_education": 4,
          "wife_religion": 1
         },
         {
          "contraceptive_method_used": 2,
          "standard_of_living_index": 4,
          "wife_age": 39,
          "wife_education": 4,
          "wife_religion": 1
         },
         {
          "contraceptive_method_used": 1,
          "standard_of_living_index": 2,
          "wife_age": 36,
          "wife_education": 2,
          "wife_religion": 1
         },
         {
          "contraceptive_method_used": 1,
          "standard_of_living_index": 1,
          "wife_age": 22,
          "wife_education": 2,
          "wife_religion": 1
         },
         {
          "contraceptive_method_used": 3,
          "standard_of_living_index": 3,
          "wife_age": 28,
          "wife_education": 2,
          "wife_religion": 1
         },
         {
          "contraceptive_method_used": 2,
          "standard_of_living_index": 4,
          "wife_age": 45,
          "wife_education": 3,
          "wife_religion": 1
         },
         {
          "contraceptive_method_used": 2,
          "standard_of_living_index": 3,
          "wife_age": 33,
          "wife_education": 4,
          "wife_religion": 0
         },
         {
          "contraceptive_method_used": 2,
          "standard_of_living_index": 4,
          "wife_age": 21,
          "wife_education": 4,
          "wife_religion": 1
         },
         {
          "contraceptive_method_used": 1,
          "standard_of_living_index": 3,
          "wife_age": 47,
          "wife_education": 2,
          "wife_religion": 1
         },
         {
          "contraceptive_method_used": 3,
          "standard_of_living_index": 2,
          "wife_age": 21,
          "wife_education": 3,
          "wife_religion": 0
         },
         {
          "contraceptive_method_used": 1,
          "standard_of_living_index": 2,
          "wife_age": 21,
          "wife_education": 3,
          "wife_religion": 1
         },
         {
          "contraceptive_method_used": 3,
          "standard_of_living_index": 2,
          "wife_age": 36,
          "wife_education": 4,
          "wife_religion": 0
         },
         {
          "contraceptive_method_used": 1,
          "standard_of_living_index": 4,
          "wife_age": 29,
          "wife_education": 3,
          "wife_religion": 1
         },
         {
          "contraceptive_method_used": 1,
          "standard_of_living_index": 1,
          "wife_age": 38,
          "wife_education": 1,
          "wife_religion": 1
         },
         {
          "contraceptive_method_used": 3,
          "standard_of_living_index": 3,
          "wife_age": 22,
          "wife_education": 3,
          "wife_religion": 1
         },
         {
          "contraceptive_method_used": 1,
          "standard_of_living_index": 4,
          "wife_age": 28,
          "wife_education": 4,
          "wife_religion": 0
         },
         {
          "contraceptive_method_used": 3,
          "standard_of_living_index": 3,
          "wife_age": 24,
          "wife_education": 2,
          "wife_religion": 1
         },
         {
          "contraceptive_method_used": 2,
          "standard_of_living_index": 2,
          "wife_age": 22,
          "wife_education": 4,
          "wife_religion": 1
         },
         {
          "contraceptive_method_used": 1,
          "standard_of_living_index": 4,
          "wife_age": 22,
          "wife_education": 4,
          "wife_religion": 1
         },
         {
          "contraceptive_method_used": 2,
          "standard_of_living_index": 4,
          "wife_age": 41,
          "wife_education": 4,
          "wife_religion": 0
         },
         {
          "contraceptive_method_used": 1,
          "standard_of_living_index": 4,
          "wife_age": 29,
          "wife_education": 2,
          "wife_religion": 1
         },
         {
          "contraceptive_method_used": 1,
          "standard_of_living_index": 1,
          "wife_age": 46,
          "wife_education": 1,
          "wife_religion": 1
         },
         {
          "contraceptive_method_used": 1,
          "standard_of_living_index": 3,
          "wife_age": 23,
          "wife_education": 3,
          "wife_religion": 1
         },
         {
          "contraceptive_method_used": 2,
          "standard_of_living_index": 4,
          "wife_age": 34,
          "wife_education": 4,
          "wife_religion": 1
         },
         {
          "contraceptive_method_used": 3,
          "standard_of_living_index": 4,
          "wife_age": 35,
          "wife_education": 4,
          "wife_religion": 1
         },
         {
          "contraceptive_method_used": 3,
          "standard_of_living_index": 3,
          "wife_age": 47,
          "wife_education": 4,
          "wife_religion": 1
         },
         {
          "contraceptive_method_used": 2,
          "standard_of_living_index": 4,
          "wife_age": 33,
          "wife_education": 2,
          "wife_religion": 1
         },
         {
          "contraceptive_method_used": 1,
          "standard_of_living_index": 4,
          "wife_age": 22,
          "wife_education": 3,
          "wife_religion": 1
         },
         {
          "contraceptive_method_used": 1,
          "standard_of_living_index": 4,
          "wife_age": 43,
          "wife_education": 4,
          "wife_religion": 0
         },
         {
          "contraceptive_method_used": 2,
          "standard_of_living_index": 4,
          "wife_age": 26,
          "wife_education": 1,
          "wife_religion": 1
         },
         {
          "contraceptive_method_used": 1,
          "standard_of_living_index": 4,
          "wife_age": 30,
          "wife_education": 2,
          "wife_religion": 1
         },
         {
          "contraceptive_method_used": 3,
          "standard_of_living_index": 1,
          "wife_age": 16,
          "wife_education": 2,
          "wife_religion": 1
         },
         {
          "contraceptive_method_used": 3,
          "standard_of_living_index": 4,
          "wife_age": 28,
          "wife_education": 4,
          "wife_religion": 0
         },
         {
          "contraceptive_method_used": 2,
          "standard_of_living_index": 4,
          "wife_age": 27,
          "wife_education": 3,
          "wife_religion": 0
         },
         {
          "contraceptive_method_used": 3,
          "standard_of_living_index": 3,
          "wife_age": 21,
          "wife_education": 3,
          "wife_religion": 1
         },
         {
          "contraceptive_method_used": 3,
          "standard_of_living_index": 3,
          "wife_age": 21,
          "wife_education": 3,
          "wife_religion": 1
         },
         {
          "contraceptive_method_used": 1,
          "standard_of_living_index": 4,
          "wife_age": 30,
          "wife_education": 3,
          "wife_religion": 1
         },
         {
          "contraceptive_method_used": 1,
          "standard_of_living_index": 3,
          "wife_age": 22,
          "wife_education": 4,
          "wife_religion": 1
         },
         {
          "contraceptive_method_used": 1,
          "standard_of_living_index": 2,
          "wife_age": 34,
          "wife_education": 2,
          "wife_religion": 1
         },
         {
          "contraceptive_method_used": 3,
          "standard_of_living_index": 1,
          "wife_age": 25,
          "wife_education": 1,
          "wife_religion": 1
         },
         {
          "contraceptive_method_used": 1,
          "standard_of_living_index": 2,
          "wife_age": 27,
          "wife_education": 2,
          "wife_religion": 1
         },
         {
          "contraceptive_method_used": 1,
          "standard_of_living_index": 4,
          "wife_age": 31,
          "wife_education": 3,
          "wife_religion": 1
         },
         {
          "contraceptive_method_used": 2,
          "standard_of_living_index": 4,
          "wife_age": 25,
          "wife_education": 4,
          "wife_religion": 1
         },
         {
          "contraceptive_method_used": 3,
          "standard_of_living_index": 4,
          "wife_age": 30,
          "wife_education": 4,
          "wife_religion": 1
         },
         {
          "contraceptive_method_used": 2,
          "standard_of_living_index": 4,
          "wife_age": 36,
          "wife_education": 4,
          "wife_religion": 1
         },
         {
          "contraceptive_method_used": 3,
          "standard_of_living_index": 2,
          "wife_age": 23,
          "wife_education": 1,
          "wife_religion": 1
         },
         {
          "contraceptive_method_used": 2,
          "standard_of_living_index": 3,
          "wife_age": 26,
          "wife_education": 4,
          "wife_religion": 1
         },
         {
          "contraceptive_method_used": 3,
          "standard_of_living_index": 4,
          "wife_age": 20,
          "wife_education": 4,
          "wife_religion": 1
         },
         {
          "contraceptive_method_used": 3,
          "standard_of_living_index": 4,
          "wife_age": 27,
          "wife_education": 4,
          "wife_religion": 0
         },
         {
          "contraceptive_method_used": 2,
          "standard_of_living_index": 4,
          "wife_age": 37,
          "wife_education": 4,
          "wife_religion": 0
         },
         {
          "contraceptive_method_used": 1,
          "standard_of_living_index": 4,
          "wife_age": 38,
          "wife_education": 4,
          "wife_religion": 1
         },
         {
          "contraceptive_method_used": 3,
          "standard_of_living_index": 2,
          "wife_age": 26,
          "wife_education": 3,
          "wife_religion": 1
         },
         {
          "contraceptive_method_used": 1,
          "standard_of_living_index": 4,
          "wife_age": 37,
          "wife_education": 3,
          "wife_religion": 1
         },
         {
          "contraceptive_method_used": 1,
          "standard_of_living_index": 3,
          "wife_age": 45,
          "wife_education": 4,
          "wife_religion": 1
         },
         {
          "contraceptive_method_used": 2,
          "standard_of_living_index": 3,
          "wife_age": 24,
          "wife_education": 2,
          "wife_religion": 1
         },
         {
          "contraceptive_method_used": 3,
          "standard_of_living_index": 4,
          "wife_age": 46,
          "wife_education": 3,
          "wife_religion": 1
         },
         {
          "contraceptive_method_used": 2,
          "standard_of_living_index": 4,
          "wife_age": 31,
          "wife_education": 4,
          "wife_religion": 1
         },
         {
          "contraceptive_method_used": 1,
          "standard_of_living_index": 3,
          "wife_age": 47,
          "wife_education": 3,
          "wife_religion": 1
         },
         {
          "contraceptive_method_used": 3,
          "standard_of_living_index": 3,
          "wife_age": 29,
          "wife_education": 2,
          "wife_religion": 1
         },
         {
          "contraceptive_method_used": 1,
          "standard_of_living_index": 2,
          "wife_age": 47,
          "wife_education": 2,
          "wife_religion": 1
         },
         {
          "contraceptive_method_used": 1,
          "standard_of_living_index": 4,
          "wife_age": 31,
          "wife_education": 3,
          "wife_religion": 1
         },
         {
          "contraceptive_method_used": 3,
          "standard_of_living_index": 2,
          "wife_age": 23,
          "wife_education": 3,
          "wife_religion": 1
         },
         {
          "contraceptive_method_used": 3,
          "standard_of_living_index": 1,
          "wife_age": 25,
          "wife_education": 2,
          "wife_religion": 1
         },
         {
          "contraceptive_method_used": 3,
          "standard_of_living_index": 4,
          "wife_age": 34,
          "wife_education": 4,
          "wife_religion": 0
         },
         {
          "contraceptive_method_used": 3,
          "standard_of_living_index": 2,
          "wife_age": 17,
          "wife_education": 2,
          "wife_religion": 1
         },
         {
          "contraceptive_method_used": 3,
          "standard_of_living_index": 3,
          "wife_age": 21,
          "wife_education": 4,
          "wife_religion": 1
         },
         {
          "contraceptive_method_used": 1,
          "standard_of_living_index": 3,
          "wife_age": 20,
          "wife_education": 3,
          "wife_religion": 1
         },
         {
          "contraceptive_method_used": 1,
          "standard_of_living_index": 4,
          "wife_age": 28,
          "wife_education": 4,
          "wife_religion": 0
         },
         {
          "contraceptive_method_used": 2,
          "standard_of_living_index": 3,
          "wife_age": 30,
          "wife_education": 4,
          "wife_religion": 1
         },
         {
          "contraceptive_method_used": 2,
          "standard_of_living_index": 2,
          "wife_age": 38,
          "wife_education": 2,
          "wife_religion": 1
         },
         {
          "contraceptive_method_used": 3,
          "standard_of_living_index": 4,
          "wife_age": 41,
          "wife_education": 3,
          "wife_religion": 0
         },
         {
          "contraceptive_method_used": 1,
          "standard_of_living_index": 4,
          "wife_age": 42,
          "wife_education": 4,
          "wife_religion": 1
         },
         {
          "contraceptive_method_used": 3,
          "standard_of_living_index": 3,
          "wife_age": 23,
          "wife_education": 4,
          "wife_religion": 1
         },
         {
          "contraceptive_method_used": 2,
          "standard_of_living_index": 3,
          "wife_age": 19,
          "wife_education": 4,
          "wife_religion": 1
         },
         {
          "contraceptive_method_used": 3,
          "standard_of_living_index": 4,
          "wife_age": 32,
          "wife_education": 4,
          "wife_religion": 1
         },
         {
          "contraceptive_method_used": 3,
          "standard_of_living_index": 3,
          "wife_age": 32,
          "wife_education": 1,
          "wife_religion": 1
         },
         {
          "contraceptive_method_used": 2,
          "standard_of_living_index": 2,
          "wife_age": 34,
          "wife_education": 2,
          "wife_religion": 1
         },
         {
          "contraceptive_method_used": 1,
          "standard_of_living_index": 3,
          "wife_age": 43,
          "wife_education": 2,
          "wife_religion": 1
         },
         {
          "contraceptive_method_used": 1,
          "standard_of_living_index": 4,
          "wife_age": 21,
          "wife_education": 1,
          "wife_religion": 1
         },
         {
          "contraceptive_method_used": 3,
          "standard_of_living_index": 3,
          "wife_age": 25,
          "wife_education": 2,
          "wife_religion": 1
         },
         {
          "contraceptive_method_used": 3,
          "standard_of_living_index": 2,
          "wife_age": 32,
          "wife_education": 2,
          "wife_religion": 1
         },
         {
          "contraceptive_method_used": 3,
          "standard_of_living_index": 4,
          "wife_age": 34,
          "wife_education": 4,
          "wife_religion": 1
         },
         {
          "contraceptive_method_used": 1,
          "standard_of_living_index": 4,
          "wife_age": 38,
          "wife_education": 4,
          "wife_religion": 1
         },
         {
          "contraceptive_method_used": 3,
          "standard_of_living_index": 4,
          "wife_age": 28,
          "wife_education": 4,
          "wife_religion": 0
         },
         {
          "contraceptive_method_used": 1,
          "standard_of_living_index": 4,
          "wife_age": 42,
          "wife_education": 1,
          "wife_religion": 1
         },
         {
          "contraceptive_method_used": 3,
          "standard_of_living_index": 1,
          "wife_age": 25,
          "wife_education": 3,
          "wife_religion": 1
         },
         {
          "contraceptive_method_used": 2,
          "standard_of_living_index": 4,
          "wife_age": 29,
          "wife_education": 4,
          "wife_religion": 1
         },
         {
          "contraceptive_method_used": 3,
          "standard_of_living_index": 4,
          "wife_age": 29,
          "wife_education": 4,
          "wife_religion": 1
         },
         {
          "contraceptive_method_used": 3,
          "standard_of_living_index": 3,
          "wife_age": 30,
          "wife_education": 2,
          "wife_religion": 1
         },
         {
          "contraceptive_method_used": 2,
          "standard_of_living_index": 4,
          "wife_age": 49,
          "wife_education": 3,
          "wife_religion": 1
         },
         {
          "contraceptive_method_used": 2,
          "standard_of_living_index": 4,
          "wife_age": 35,
          "wife_education": 4,
          "wife_religion": 0
         },
         {
          "contraceptive_method_used": 3,
          "standard_of_living_index": 4,
          "wife_age": 30,
          "wife_education": 1,
          "wife_religion": 1
         },
         {
          "contraceptive_method_used": 1,
          "standard_of_living_index": 1,
          "wife_age": 45,
          "wife_education": 2,
          "wife_religion": 1
         },
         {
          "contraceptive_method_used": 3,
          "standard_of_living_index": 3,
          "wife_age": 25,
          "wife_education": 2,
          "wife_religion": 1
         },
         {
          "contraceptive_method_used": 2,
          "standard_of_living_index": 3,
          "wife_age": 34,
          "wife_education": 4,
          "wife_religion": 1
         },
         {
          "contraceptive_method_used": 3,
          "standard_of_living_index": 4,
          "wife_age": 28,
          "wife_education": 2,
          "wife_religion": 1
         },
         {
          "contraceptive_method_used": 2,
          "standard_of_living_index": 4,
          "wife_age": 45,
          "wife_education": 3,
          "wife_religion": 0
         },
         {
          "contraceptive_method_used": 1,
          "standard_of_living_index": 3,
          "wife_age": 40,
          "wife_education": 2,
          "wife_religion": 1
         },
         {
          "contraceptive_method_used": 1,
          "standard_of_living_index": 3,
          "wife_age": 26,
          "wife_education": 4,
          "wife_religion": 1
         },
         {
          "contraceptive_method_used": 3,
          "standard_of_living_index": 4,
          "wife_age": 29,
          "wife_education": 1,
          "wife_religion": 1
         },
         {
          "contraceptive_method_used": 1,
          "standard_of_living_index": 4,
          "wife_age": 44,
          "wife_education": 4,
          "wife_religion": 0
         },
         {
          "contraceptive_method_used": 2,
          "standard_of_living_index": 4,
          "wife_age": 42,
          "wife_education": 4,
          "wife_religion": 1
         },
         {
          "contraceptive_method_used": 1,
          "standard_of_living_index": 1,
          "wife_age": 36,
          "wife_education": 2,
          "wife_religion": 1
         },
         {
          "contraceptive_method_used": 3,
          "standard_of_living_index": 4,
          "wife_age": 35,
          "wife_education": 4,
          "wife_religion": 0
         },
         {
          "contraceptive_method_used": 2,
          "standard_of_living_index": 2,
          "wife_age": 29,
          "wife_education": 4,
          "wife_religion": 1
         },
         {
          "contraceptive_method_used": 3,
          "standard_of_living_index": 4,
          "wife_age": 39,
          "wife_education": 3,
          "wife_religion": 1
         },
         {
          "contraceptive_method_used": 3,
          "standard_of_living_index": 1,
          "wife_age": 22,
          "wife_education": 4,
          "wife_religion": 0
         },
         {
          "contraceptive_method_used": 3,
          "standard_of_living_index": 4,
          "wife_age": 39,
          "wife_education": 1,
          "wife_religion": 1
         },
         {
          "contraceptive_method_used": 2,
          "standard_of_living_index": 4,
          "wife_age": 47,
          "wife_education": 1,
          "wife_religion": 1
         },
         {
          "contraceptive_method_used": 3,
          "standard_of_living_index": 3,
          "wife_age": 36,
          "wife_education": 2,
          "wife_religion": 1
         },
         {
          "contraceptive_method_used": 2,
          "standard_of_living_index": 4,
          "wife_age": 25,
          "wife_education": 4,
          "wife_religion": 1
         },
         {
          "contraceptive_method_used": 3,
          "standard_of_living_index": 4,
          "wife_age": 31,
          "wife_education": 4,
          "wife_religion": 1
         },
         {
          "contraceptive_method_used": 1,
          "standard_of_living_index": 2,
          "wife_age": 38,
          "wife_education": 2,
          "wife_religion": 1
         },
         {
          "contraceptive_method_used": 3,
          "standard_of_living_index": 3,
          "wife_age": 21,
          "wife_education": 2,
          "wife_religion": 1
         },
         {
          "contraceptive_method_used": 3,
          "standard_of_living_index": 2,
          "wife_age": 27,
          "wife_education": 4,
          "wife_religion": 1
         },
         {
          "contraceptive_method_used": 1,
          "standard_of_living_index": 2,
          "wife_age": 26,
          "wife_education": 2,
          "wife_religion": 1
         },
         {
          "contraceptive_method_used": 1,
          "standard_of_living_index": 2,
          "wife_age": 38,
          "wife_education": 2,
          "wife_religion": 1
         },
         {
          "contraceptive_method_used": 1,
          "standard_of_living_index": 1,
          "wife_age": 33,
          "wife_education": 1,
          "wife_religion": 1
         },
         {
          "contraceptive_method_used": 2,
          "standard_of_living_index": 4,
          "wife_age": 32,
          "wife_education": 3,
          "wife_religion": 1
         },
         {
          "contraceptive_method_used": 1,
          "standard_of_living_index": 4,
          "wife_age": 45,
          "wife_education": 2,
          "wife_religion": 1
         },
         {
          "contraceptive_method_used": 2,
          "standard_of_living_index": 3,
          "wife_age": 26,
          "wife_education": 3,
          "wife_religion": 1
         },
         {
          "contraceptive_method_used": 1,
          "standard_of_living_index": 2,
          "wife_age": 21,
          "wife_education": 1,
          "wife_religion": 1
         },
         {
          "contraceptive_method_used": 2,
          "standard_of_living_index": 4,
          "wife_age": 38,
          "wife_education": 4,
          "wife_religion": 1
         },
         {
          "contraceptive_method_used": 1,
          "standard_of_living_index": 4,
          "wife_age": 37,
          "wife_education": 4,
          "wife_religion": 1
         },
         {
          "contraceptive_method_used": 2,
          "standard_of_living_index": 2,
          "wife_age": 38,
          "wife_education": 2,
          "wife_religion": 1
         },
         {
          "contraceptive_method_used": 3,
          "standard_of_living_index": 4,
          "wife_age": 41,
          "wife_education": 4,
          "wife_religion": 1
         },
         {
          "contraceptive_method_used": 2,
          "standard_of_living_index": 4,
          "wife_age": 25,
          "wife_education": 2,
          "wife_religion": 1
         },
         {
          "contraceptive_method_used": 1,
          "standard_of_living_index": 4,
          "wife_age": 33,
          "wife_education": 4,
          "wife_religion": 1
         },
         {
          "contraceptive_method_used": 1,
          "standard_of_living_index": 3,
          "wife_age": 41,
          "wife_education": 2,
          "wife_religion": 1
         },
         {
          "contraceptive_method_used": 1,
          "standard_of_living_index": 1,
          "wife_age": 37,
          "wife_education": 3,
          "wife_religion": 1
         },
         {
          "contraceptive_method_used": 3,
          "standard_of_living_index": 4,
          "wife_age": 34,
          "wife_education": 3,
          "wife_religion": 1
         },
         {
          "contraceptive_method_used": 1,
          "standard_of_living_index": 1,
          "wife_age": 25,
          "wife_education": 2,
          "wife_religion": 1
         },
         {
          "contraceptive_method_used": 1,
          "standard_of_living_index": 4,
          "wife_age": 44,
          "wife_education": 3,
          "wife_religion": 1
         },
         {
          "contraceptive_method_used": 3,
          "standard_of_living_index": 1,
          "wife_age": 31,
          "wife_education": 3,
          "wife_religion": 1
         },
         {
          "contraceptive_method_used": 1,
          "standard_of_living_index": 3,
          "wife_age": 43,
          "wife_education": 3,
          "wife_religion": 1
         },
         {
          "contraceptive_method_used": 3,
          "standard_of_living_index": 4,
          "wife_age": 37,
          "wife_education": 4,
          "wife_religion": 1
         },
         {
          "contraceptive_method_used": 2,
          "standard_of_living_index": 3,
          "wife_age": 38,
          "wife_education": 4,
          "wife_religion": 1
         },
         {
          "contraceptive_method_used": 3,
          "standard_of_living_index": 4,
          "wife_age": 33,
          "wife_education": 3,
          "wife_religion": 1
         },
         {
          "contraceptive_method_used": 1,
          "standard_of_living_index": 4,
          "wife_age": 44,
          "wife_education": 4,
          "wife_religion": 1
         },
         {
          "contraceptive_method_used": 1,
          "standard_of_living_index": 3,
          "wife_age": 30,
          "wife_education": 4,
          "wife_religion": 1
         },
         {
          "contraceptive_method_used": 3,
          "standard_of_living_index": 3,
          "wife_age": 44,
          "wife_education": 4,
          "wife_religion": 0
         },
         {
          "contraceptive_method_used": 3,
          "standard_of_living_index": 2,
          "wife_age": 30,
          "wife_education": 2,
          "wife_religion": 1
         },
         {
          "contraceptive_method_used": 1,
          "standard_of_living_index": 3,
          "wife_age": 44,
          "wife_education": 4,
          "wife_religion": 1
         },
         {
          "contraceptive_method_used": 3,
          "standard_of_living_index": 1,
          "wife_age": 21,
          "wife_education": 2,
          "wife_religion": 1
         },
         {
          "contraceptive_method_used": 3,
          "standard_of_living_index": 4,
          "wife_age": 43,
          "wife_education": 4,
          "wife_religion": 0
         },
         {
          "contraceptive_method_used": 3,
          "standard_of_living_index": 4,
          "wife_age": 32,
          "wife_education": 4,
          "wife_religion": 1
         },
         {
          "contraceptive_method_used": 2,
          "standard_of_living_index": 4,
          "wife_age": 18,
          "wife_education": 3,
          "wife_religion": 1
         },
         {
          "contraceptive_method_used": 2,
          "standard_of_living_index": 2,
          "wife_age": 34,
          "wife_education": 4,
          "wife_religion": 0
         },
         {
          "contraceptive_method_used": 1,
          "standard_of_living_index": 1,
          "wife_age": 39,
          "wife_education": 1,
          "wife_religion": 1
         },
         {
          "contraceptive_method_used": 1,
          "standard_of_living_index": 4,
          "wife_age": 27,
          "wife_education": 3,
          "wife_religion": 1
         },
         {
          "contraceptive_method_used": 1,
          "standard_of_living_index": 2,
          "wife_age": 21,
          "wife_education": 3,
          "wife_religion": 1
         },
         {
          "contraceptive_method_used": 3,
          "standard_of_living_index": 3,
          "wife_age": 23,
          "wife_education": 2,
          "wife_religion": 1
         },
         {
          "contraceptive_method_used": 1,
          "standard_of_living_index": 3,
          "wife_age": 44,
          "wife_education": 3,
          "wife_religion": 1
         },
         {
          "contraceptive_method_used": 1,
          "standard_of_living_index": 3,
          "wife_age": 43,
          "wife_education": 2,
          "wife_religion": 0
         },
         {
          "contraceptive_method_used": 1,
          "standard_of_living_index": 3,
          "wife_age": 27,
          "wife_education": 3,
          "wife_religion": 1
         },
         {
          "contraceptive_method_used": 1,
          "standard_of_living_index": 3,
          "wife_age": 45,
          "wife_education": 3,
          "wife_religion": 1
         },
         {
          "contraceptive_method_used": 3,
          "standard_of_living_index": 2,
          "wife_age": 27,
          "wife_education": 3,
          "wife_religion": 1
         },
         {
          "contraceptive_method_used": 2,
          "standard_of_living_index": 4,
          "wife_age": 41,
          "wife_education": 3,
          "wife_religion": 1
         },
         {
          "contraceptive_method_used": 1,
          "standard_of_living_index": 2,
          "wife_age": 27,
          "wife_education": 4,
          "wife_religion": 1
         },
         {
          "contraceptive_method_used": 3,
          "standard_of_living_index": 1,
          "wife_age": 21,
          "wife_education": 3,
          "wife_religion": 1
         },
         {
          "contraceptive_method_used": 2,
          "standard_of_living_index": 3,
          "wife_age": 27,
          "wife_education": 4,
          "wife_religion": 1
         },
         {
          "contraceptive_method_used": 3,
          "standard_of_living_index": 2,
          "wife_age": 35,
          "wife_education": 2,
          "wife_religion": 1
         },
         {
          "contraceptive_method_used": 2,
          "standard_of_living_index": 3,
          "wife_age": 47,
          "wife_education": 1,
          "wife_religion": 1
         },
         {
          "contraceptive_method_used": 1,
          "standard_of_living_index": 3,
          "wife_age": 36,
          "wife_education": 2,
          "wife_religion": 1
         },
         {
          "contraceptive_method_used": 3,
          "standard_of_living_index": 4,
          "wife_age": 30,
          "wife_education": 2,
          "wife_religion": 1
         },
         {
          "contraceptive_method_used": 3,
          "standard_of_living_index": 1,
          "wife_age": 22,
          "wife_education": 3,
          "wife_religion": 1
         },
         {
          "contraceptive_method_used": 1,
          "standard_of_living_index": 2,
          "wife_age": 26,
          "wife_education": 3,
          "wife_religion": 0
         },
         {
          "contraceptive_method_used": 2,
          "standard_of_living_index": 2,
          "wife_age": 22,
          "wife_education": 4,
          "wife_religion": 1
         },
         {
          "contraceptive_method_used": 1,
          "standard_of_living_index": 3,
          "wife_age": 36,
          "wife_education": 2,
          "wife_religion": 0
         },
         {
          "contraceptive_method_used": 3,
          "standard_of_living_index": 4,
          "wife_age": 25,
          "wife_education": 3,
          "wife_religion": 1
         },
         {
          "contraceptive_method_used": 3,
          "standard_of_living_index": 3,
          "wife_age": 25,
          "wife_education": 1,
          "wife_religion": 1
         },
         {
          "contraceptive_method_used": 2,
          "standard_of_living_index": 4,
          "wife_age": 23,
          "wife_education": 4,
          "wife_religion": 1
         },
         {
          "contraceptive_method_used": 1,
          "standard_of_living_index": 3,
          "wife_age": 46,
          "wife_education": 1,
          "wife_religion": 1
         },
         {
          "contraceptive_method_used": 1,
          "standard_of_living_index": 1,
          "wife_age": 27,
          "wife_education": 2,
          "wife_religion": 1
         },
         {
          "contraceptive_method_used": 3,
          "standard_of_living_index": 1,
          "wife_age": 24,
          "wife_education": 2,
          "wife_religion": 1
         },
         {
          "contraceptive_method_used": 3,
          "standard_of_living_index": 2,
          "wife_age": 35,
          "wife_education": 2,
          "wife_religion": 1
         },
         {
          "contraceptive_method_used": 1,
          "standard_of_living_index": 2,
          "wife_age": 28,
          "wife_education": 3,
          "wife_religion": 1
         },
         {
          "contraceptive_method_used": 1,
          "standard_of_living_index": 4,
          "wife_age": 25,
          "wife_education": 3,
          "wife_religion": 1
         },
         {
          "contraceptive_method_used": 2,
          "standard_of_living_index": 4,
          "wife_age": 33,
          "wife_education": 3,
          "wife_religion": 1
         },
         {
          "contraceptive_method_used": 3,
          "standard_of_living_index": 3,
          "wife_age": 41,
          "wife_education": 4,
          "wife_religion": 1
         },
         {
          "contraceptive_method_used": 1,
          "standard_of_living_index": 3,
          "wife_age": 41,
          "wife_education": 3,
          "wife_religion": 1
         },
         {
          "contraceptive_method_used": 1,
          "standard_of_living_index": 3,
          "wife_age": 46,
          "wife_education": 4,
          "wife_religion": 1
         },
         {
          "contraceptive_method_used": 3,
          "standard_of_living_index": 4,
          "wife_age": 43,
          "wife_education": 4,
          "wife_religion": 1
         },
         {
          "contraceptive_method_used": 1,
          "standard_of_living_index": 4,
          "wife_age": 25,
          "wife_education": 4,
          "wife_religion": 1
         },
         {
          "contraceptive_method_used": 3,
          "standard_of_living_index": 2,
          "wife_age": 22,
          "wife_education": 3,
          "wife_religion": 1
         },
         {
          "contraceptive_method_used": 3,
          "standard_of_living_index": 4,
          "wife_age": 21,
          "wife_education": 4,
          "wife_religion": 0
         },
         {
          "contraceptive_method_used": 1,
          "standard_of_living_index": 3,
          "wife_age": 48,
          "wife_education": 2,
          "wife_religion": 1
         },
         {
          "contraceptive_method_used": 2,
          "standard_of_living_index": 2,
          "wife_age": 28,
          "wife_education": 3,
          "wife_religion": 1
         },
         {
          "contraceptive_method_used": 1,
          "standard_of_living_index": 4,
          "wife_age": 25,
          "wife_education": 3,
          "wife_religion": 1
         },
         {
          "contraceptive_method_used": 2,
          "standard_of_living_index": 4,
          "wife_age": 33,
          "wife_education": 4,
          "wife_religion": 1
         },
         {
          "contraceptive_method_used": 3,
          "standard_of_living_index": 4,
          "wife_age": 31,
          "wife_education": 4,
          "wife_religion": 1
         },
         {
          "contraceptive_method_used": 1,
          "standard_of_living_index": 4,
          "wife_age": 25,
          "wife_education": 4,
          "wife_religion": 0
         },
         {
          "contraceptive_method_used": 2,
          "standard_of_living_index": 3,
          "wife_age": 32,
          "wife_education": 3,
          "wife_religion": 1
         },
         {
          "contraceptive_method_used": 1,
          "standard_of_living_index": 4,
          "wife_age": 45,
          "wife_education": 4,
          "wife_religion": 1
         },
         {
          "contraceptive_method_used": 1,
          "standard_of_living_index": 4,
          "wife_age": 26,
          "wife_education": 4,
          "wife_religion": 1
         },
         {
          "contraceptive_method_used": 2,
          "standard_of_living_index": 4,
          "wife_age": 36,
          "wife_education": 4,
          "wife_religion": 1
         },
         {
          "contraceptive_method_used": 1,
          "standard_of_living_index": 3,
          "wife_age": 27,
          "wife_education": 3,
          "wife_religion": 1
         },
         {
          "contraceptive_method_used": 1,
          "standard_of_living_index": 3,
          "wife_age": 32,
          "wife_education": 4,
          "wife_religion": 1
         },
         {
          "contraceptive_method_used": 3,
          "standard_of_living_index": 3,
          "wife_age": 24,
          "wife_education": 4,
          "wife_religion": 1
         },
         {
          "contraceptive_method_used": 2,
          "standard_of_living_index": 4,
          "wife_age": 39,
          "wife_education": 4,
          "wife_religion": 1
         },
         {
          "contraceptive_method_used": 3,
          "standard_of_living_index": 1,
          "wife_age": 31,
          "wife_education": 3,
          "wife_religion": 1
         },
         {
          "contraceptive_method_used": 3,
          "standard_of_living_index": 3,
          "wife_age": 30,
          "wife_education": 4,
          "wife_religion": 1
         },
         {
          "contraceptive_method_used": 1,
          "standard_of_living_index": 4,
          "wife_age": 20,
          "wife_education": 2,
          "wife_religion": 1
         },
         {
          "contraceptive_method_used": 2,
          "standard_of_living_index": 4,
          "wife_age": 23,
          "wife_education": 4,
          "wife_religion": 1
         },
         {
          "contraceptive_method_used": 3,
          "standard_of_living_index": 4,
          "wife_age": 35,
          "wife_education": 2,
          "wife_religion": 1
         },
         {
          "contraceptive_method_used": 1,
          "standard_of_living_index": 4,
          "wife_age": 37,
          "wife_education": 3,
          "wife_religion": 1
         },
         {
          "contraceptive_method_used": 1,
          "standard_of_living_index": 1,
          "wife_age": 30,
          "wife_education": 1,
          "wife_religion": 1
         },
         {
          "contraceptive_method_used": 2,
          "standard_of_living_index": 4,
          "wife_age": 27,
          "wife_education": 4,
          "wife_religion": 0
         },
         {
          "contraceptive_method_used": 3,
          "standard_of_living_index": 2,
          "wife_age": 25,
          "wife_education": 2,
          "wife_religion": 1
         },
         {
          "contraceptive_method_used": 2,
          "standard_of_living_index": 3,
          "wife_age": 28,
          "wife_education": 2,
          "wife_religion": 1
         },
         {
          "contraceptive_method_used": 2,
          "standard_of_living_index": 4,
          "wife_age": 33,
          "wife_education": 4,
          "wife_religion": 1
         },
         {
          "contraceptive_method_used": 1,
          "standard_of_living_index": 3,
          "wife_age": 28,
          "wife_education": 3,
          "wife_religion": 1
         },
         {
          "contraceptive_method_used": 3,
          "standard_of_living_index": 4,
          "wife_age": 37,
          "wife_education": 4,
          "wife_religion": 1
         },
         {
          "contraceptive_method_used": 1,
          "standard_of_living_index": 3,
          "wife_age": 25,
          "wife_education": 4,
          "wife_religion": 0
         },
         {
          "contraceptive_method_used": 1,
          "standard_of_living_index": 4,
          "wife_age": 44,
          "wife_education": 3,
          "wife_religion": 1
         },
         {
          "contraceptive_method_used": 1,
          "standard_of_living_index": 4,
          "wife_age": 16,
          "wife_education": 2,
          "wife_religion": 1
         },
         {
          "contraceptive_method_used": 3,
          "standard_of_living_index": 4,
          "wife_age": 33,
          "wife_education": 4,
          "wife_religion": 1
         },
         {
          "contraceptive_method_used": 3,
          "standard_of_living_index": 2,
          "wife_age": 32,
          "wife_education": 3,
          "wife_religion": 1
         },
         {
          "contraceptive_method_used": 1,
          "standard_of_living_index": 4,
          "wife_age": 35,
          "wife_education": 4,
          "wife_religion": 1
         },
         {
          "contraceptive_method_used": 2,
          "standard_of_living_index": 4,
          "wife_age": 32,
          "wife_education": 4,
          "wife_religion": 1
         },
         {
          "contraceptive_method_used": 3,
          "standard_of_living_index": 3,
          "wife_age": 25,
          "wife_education": 3,
          "wife_religion": 1
         },
         {
          "contraceptive_method_used": 2,
          "standard_of_living_index": 4,
          "wife_age": 38,
          "wife_education": 4,
          "wife_religion": 1
         },
         {
          "contraceptive_method_used": 3,
          "standard_of_living_index": 4,
          "wife_age": 30,
          "wife_education": 4,
          "wife_religion": 1
         },
         {
          "contraceptive_method_used": 3,
          "standard_of_living_index": 4,
          "wife_age": 23,
          "wife_education": 2,
          "wife_religion": 1
         },
         {
          "contraceptive_method_used": 1,
          "standard_of_living_index": 2,
          "wife_age": 19,
          "wife_education": 2,
          "wife_religion": 1
         },
         {
          "contraceptive_method_used": 3,
          "standard_of_living_index": 4,
          "wife_age": 40,
          "wife_education": 2,
          "wife_religion": 0
         },
         {
          "contraceptive_method_used": 2,
          "standard_of_living_index": 3,
          "wife_age": 26,
          "wife_education": 3,
          "wife_religion": 1
         },
         {
          "contraceptive_method_used": 1,
          "standard_of_living_index": 4,
          "wife_age": 31,
          "wife_education": 3,
          "wife_religion": 1
         },
         {
          "contraceptive_method_used": 2,
          "standard_of_living_index": 4,
          "wife_age": 37,
          "wife_education": 4,
          "wife_religion": 1
         },
         {
          "contraceptive_method_used": 1,
          "standard_of_living_index": 1,
          "wife_age": 24,
          "wife_education": 2,
          "wife_religion": 1
         },
         {
          "contraceptive_method_used": 3,
          "standard_of_living_index": 2,
          "wife_age": 30,
          "wife_education": 4,
          "wife_religion": 1
         },
         {
          "contraceptive_method_used": 3,
          "standard_of_living_index": 4,
          "wife_age": 26,
          "wife_education": 3,
          "wife_religion": 1
         },
         {
          "contraceptive_method_used": 2,
          "standard_of_living_index": 4,
          "wife_age": 44,
          "wife_education": 4,
          "wife_religion": 1
         },
         {
          "contraceptive_method_used": 1,
          "standard_of_living_index": 2,
          "wife_age": 46,
          "wife_education": 3,
          "wife_religion": 1
         },
         {
          "contraceptive_method_used": 3,
          "standard_of_living_index": 4,
          "wife_age": 44,
          "wife_education": 4,
          "wife_religion": 1
         },
         {
          "contraceptive_method_used": 1,
          "standard_of_living_index": 1,
          "wife_age": 48,
          "wife_education": 1,
          "wife_religion": 1
         },
         {
          "contraceptive_method_used": 1,
          "standard_of_living_index": 3,
          "wife_age": 47,
          "wife_education": 1,
          "wife_religion": 1
         },
         {
          "contraceptive_method_used": 1,
          "standard_of_living_index": 3,
          "wife_age": 47,
          "wife_education": 1,
          "wife_religion": 1
         },
         {
          "contraceptive_method_used": 3,
          "standard_of_living_index": 1,
          "wife_age": 27,
          "wife_education": 2,
          "wife_religion": 1
         },
         {
          "contraceptive_method_used": 1,
          "standard_of_living_index": 1,
          "wife_age": 24,
          "wife_education": 3,
          "wife_religion": 1
         },
         {
          "contraceptive_method_used": 3,
          "standard_of_living_index": 4,
          "wife_age": 41,
          "wife_education": 4,
          "wife_religion": 1
         },
         {
          "contraceptive_method_used": 2,
          "standard_of_living_index": 4,
          "wife_age": 32,
          "wife_education": 4,
          "wife_religion": 0
         },
         {
          "contraceptive_method_used": 3,
          "standard_of_living_index": 3,
          "wife_age": 26,
          "wife_education": 2,
          "wife_religion": 1
         },
         {
          "contraceptive_method_used": 3,
          "standard_of_living_index": 3,
          "wife_age": 24,
          "wife_education": 2,
          "wife_religion": 1
         },
         {
          "contraceptive_method_used": 2,
          "standard_of_living_index": 4,
          "wife_age": 20,
          "wife_education": 3,
          "wife_religion": 1
         },
         {
          "contraceptive_method_used": 1,
          "standard_of_living_index": 2,
          "wife_age": 48,
          "wife_education": 1,
          "wife_religion": 1
         },
         {
          "contraceptive_method_used": 1,
          "standard_of_living_index": 2,
          "wife_age": 45,
          "wife_education": 1,
          "wife_religion": 1
         },
         {
          "contraceptive_method_used": 1,
          "standard_of_living_index": 4,
          "wife_age": 30,
          "wife_education": 4,
          "wife_religion": 1
         },
         {
          "contraceptive_method_used": 3,
          "standard_of_living_index": 2,
          "wife_age": 34,
          "wife_education": 2,
          "wife_religion": 0
         },
         {
          "contraceptive_method_used": 1,
          "standard_of_living_index": 3,
          "wife_age": 23,
          "wife_education": 2,
          "wife_religion": 1
         },
         {
          "contraceptive_method_used": 3,
          "standard_of_living_index": 1,
          "wife_age": 29,
          "wife_education": 3,
          "wife_religion": 1
         },
         {
          "contraceptive_method_used": 1,
          "standard_of_living_index": 1,
          "wife_age": 29,
          "wife_education": 2,
          "wife_religion": 1
         },
         {
          "contraceptive_method_used": 1,
          "standard_of_living_index": 4,
          "wife_age": 48,
          "wife_education": 4,
          "wife_religion": 1
         },
         {
          "contraceptive_method_used": 1,
          "standard_of_living_index": 4,
          "wife_age": 27,
          "wife_education": 4,
          "wife_religion": 1
         },
         {
          "contraceptive_method_used": 3,
          "standard_of_living_index": 4,
          "wife_age": 27,
          "wife_education": 2,
          "wife_religion": 1
         },
         {
          "contraceptive_method_used": 1,
          "standard_of_living_index": 4,
          "wife_age": 22,
          "wife_education": 4,
          "wife_religion": 1
         },
         {
          "contraceptive_method_used": 1,
          "standard_of_living_index": 3,
          "wife_age": 47,
          "wife_education": 1,
          "wife_religion": 1
         },
         {
          "contraceptive_method_used": 1,
          "standard_of_living_index": 2,
          "wife_age": 21,
          "wife_education": 2,
          "wife_religion": 1
         },
         {
          "contraceptive_method_used": 1,
          "standard_of_living_index": 2,
          "wife_age": 40,
          "wife_education": 3,
          "wife_religion": 1
         },
         {
          "contraceptive_method_used": 2,
          "standard_of_living_index": 2,
          "wife_age": 21,
          "wife_education": 2,
          "wife_religion": 1
         },
         {
          "contraceptive_method_used": 1,
          "standard_of_living_index": 1,
          "wife_age": 44,
          "wife_education": 1,
          "wife_religion": 1
         },
         {
          "contraceptive_method_used": 3,
          "standard_of_living_index": 3,
          "wife_age": 19,
          "wife_education": 4,
          "wife_religion": 1
         },
         {
          "contraceptive_method_used": 2,
          "standard_of_living_index": 4,
          "wife_age": 45,
          "wife_education": 4,
          "wife_religion": 0
         },
         {
          "contraceptive_method_used": 3,
          "standard_of_living_index": 3,
          "wife_age": 24,
          "wife_education": 4,
          "wife_religion": 1
         },
         {
          "contraceptive_method_used": 3,
          "standard_of_living_index": 4,
          "wife_age": 28,
          "wife_education": 4,
          "wife_religion": 1
         },
         {
          "contraceptive_method_used": 1,
          "standard_of_living_index": 2,
          "wife_age": 32,
          "wife_education": 1,
          "wife_religion": 1
         },
         {
          "contraceptive_method_used": 3,
          "standard_of_living_index": 1,
          "wife_age": 29,
          "wife_education": 2,
          "wife_religion": 1
         },
         {
          "contraceptive_method_used": 2,
          "standard_of_living_index": 1,
          "wife_age": 21,
          "wife_education": 4,
          "wife_religion": 1
         },
         {
          "contraceptive_method_used": 1,
          "standard_of_living_index": 3,
          "wife_age": 40,
          "wife_education": 2,
          "wife_religion": 1
         },
         {
          "contraceptive_method_used": 1,
          "standard_of_living_index": 2,
          "wife_age": 41,
          "wife_education": 2,
          "wife_religion": 0
         },
         {
          "contraceptive_method_used": 1,
          "standard_of_living_index": 3,
          "wife_age": 34,
          "wife_education": 4,
          "wife_religion": 0
         },
         {
          "contraceptive_method_used": 1,
          "standard_of_living_index": 4,
          "wife_age": 49,
          "wife_education": 4,
          "wife_religion": 1
         },
         {
          "contraceptive_method_used": 3,
          "standard_of_living_index": 4,
          "wife_age": 33,
          "wife_education": 2,
          "wife_religion": 1
         },
         {
          "contraceptive_method_used": 3,
          "standard_of_living_index": 4,
          "wife_age": 28,
          "wife_education": 2,
          "wife_religion": 1
         },
         {
          "contraceptive_method_used": 1,
          "standard_of_living_index": 3,
          "wife_age": 33,
          "wife_education": 1,
          "wife_religion": 1
         },
         {
          "contraceptive_method_used": 1,
          "standard_of_living_index": 4,
          "wife_age": 26,
          "wife_education": 2,
          "wife_religion": 1
         },
         {
          "contraceptive_method_used": 1,
          "standard_of_living_index": 4,
          "wife_age": 45,
          "wife_education": 3,
          "wife_religion": 1
         },
         {
          "contraceptive_method_used": 1,
          "standard_of_living_index": 2,
          "wife_age": 28,
          "wife_education": 3,
          "wife_religion": 0
         },
         {
          "contraceptive_method_used": 1,
          "standard_of_living_index": 4,
          "wife_age": 25,
          "wife_education": 4,
          "wife_religion": 1
         },
         {
          "contraceptive_method_used": 3,
          "standard_of_living_index": 2,
          "wife_age": 29,
          "wife_education": 3,
          "wife_religion": 1
         },
         {
          "contraceptive_method_used": 1,
          "standard_of_living_index": 3,
          "wife_age": 45,
          "wife_education": 2,
          "wife_religion": 1
         },
         {
          "contraceptive_method_used": 2,
          "standard_of_living_index": 4,
          "wife_age": 36,
          "wife_education": 3,
          "wife_religion": 0
         },
         {
          "contraceptive_method_used": 1,
          "standard_of_living_index": 2,
          "wife_age": 25,
          "wife_education": 3,
          "wife_religion": 1
         },
         {
          "contraceptive_method_used": 3,
          "standard_of_living_index": 3,
          "wife_age": 26,
          "wife_education": 2,
          "wife_religion": 1
         },
         {
          "contraceptive_method_used": 3,
          "standard_of_living_index": 2,
          "wife_age": 29,
          "wife_education": 2,
          "wife_religion": 1
         },
         {
          "contraceptive_method_used": 2,
          "standard_of_living_index": 2,
          "wife_age": 36,
          "wife_education": 3,
          "wife_religion": 1
         },
         {
          "contraceptive_method_used": 1,
          "standard_of_living_index": 2,
          "wife_age": 26,
          "wife_education": 3,
          "wife_religion": 1
         },
         {
          "contraceptive_method_used": 2,
          "standard_of_living_index": 3,
          "wife_age": 35,
          "wife_education": 1,
          "wife_religion": 1
         },
         {
          "contraceptive_method_used": 3,
          "standard_of_living_index": 4,
          "wife_age": 32,
          "wife_education": 3,
          "wife_religion": 0
         },
         {
          "contraceptive_method_used": 3,
          "standard_of_living_index": 4,
          "wife_age": 26,
          "wife_education": 4,
          "wife_religion": 1
         },
         {
          "contraceptive_method_used": 3,
          "standard_of_living_index": 4,
          "wife_age": 22,
          "wife_education": 3,
          "wife_religion": 0
         },
         {
          "contraceptive_method_used": 3,
          "standard_of_living_index": 2,
          "wife_age": 20,
          "wife_education": 2,
          "wife_religion": 1
         },
         {
          "contraceptive_method_used": 3,
          "standard_of_living_index": 4,
          "wife_age": 25,
          "wife_education": 3,
          "wife_religion": 1
         },
         {
          "contraceptive_method_used": 1,
          "standard_of_living_index": 3,
          "wife_age": 34,
          "wife_education": 3,
          "wife_religion": 1
         },
         {
          "contraceptive_method_used": 3,
          "standard_of_living_index": 3,
          "wife_age": 19,
          "wife_education": 2,
          "wife_religion": 1
         },
         {
          "contraceptive_method_used": 3,
          "standard_of_living_index": 4,
          "wife_age": 29,
          "wife_education": 3,
          "wife_religion": 0
         },
         {
          "contraceptive_method_used": 3,
          "standard_of_living_index": 3,
          "wife_age": 26,
          "wife_education": 3,
          "wife_religion": 1
         },
         {
          "contraceptive_method_used": 1,
          "standard_of_living_index": 1,
          "wife_age": 26,
          "wife_education": 2,
          "wife_religion": 1
         },
         {
          "contraceptive_method_used": 2,
          "standard_of_living_index": 3,
          "wife_age": 35,
          "wife_education": 4,
          "wife_religion": 1
         },
         {
          "contraceptive_method_used": 1,
          "standard_of_living_index": 2,
          "wife_age": 44,
          "wife_education": 2,
          "wife_religion": 1
         },
         {
          "contraceptive_method_used": 1,
          "standard_of_living_index": 1,
          "wife_age": 25,
          "wife_education": 3,
          "wife_religion": 1
         },
         {
          "contraceptive_method_used": 3,
          "standard_of_living_index": 4,
          "wife_age": 20,
          "wife_education": 3,
          "wife_religion": 1
         },
         {
          "contraceptive_method_used": 1,
          "standard_of_living_index": 4,
          "wife_age": 32,
          "wife_education": 3,
          "wife_religion": 1
         },
         {
          "contraceptive_method_used": 1,
          "standard_of_living_index": 3,
          "wife_age": 34,
          "wife_education": 2,
          "wife_religion": 1
         },
         {
          "contraceptive_method_used": 3,
          "standard_of_living_index": 4,
          "wife_age": 31,
          "wife_education": 4,
          "wife_religion": 1
         },
         {
          "contraceptive_method_used": 3,
          "standard_of_living_index": 4,
          "wife_age": 43,
          "wife_education": 4,
          "wife_religion": 1
         },
         {
          "contraceptive_method_used": 3,
          "standard_of_living_index": 2,
          "wife_age": 27,
          "wife_education": 2,
          "wife_religion": 1
         },
         {
          "contraceptive_method_used": 1,
          "standard_of_living_index": 3,
          "wife_age": 28,
          "wife_education": 4,
          "wife_religion": 0
         },
         {
          "contraceptive_method_used": 1,
          "standard_of_living_index": 3,
          "wife_age": 45,
          "wife_education": 3,
          "wife_religion": 1
         },
         {
          "contraceptive_method_used": 3,
          "standard_of_living_index": 3,
          "wife_age": 25,
          "wife_education": 2,
          "wife_religion": 1
         },
         {
          "contraceptive_method_used": 3,
          "standard_of_living_index": 2,
          "wife_age": 22,
          "wife_education": 4,
          "wife_religion": 1
         },
         {
          "contraceptive_method_used": 3,
          "standard_of_living_index": 2,
          "wife_age": 28,
          "wife_education": 4,
          "wife_religion": 1
         },
         {
          "contraceptive_method_used": 1,
          "standard_of_living_index": 2,
          "wife_age": 37,
          "wife_education": 2,
          "wife_religion": 1
         },
         {
          "contraceptive_method_used": 1,
          "standard_of_living_index": 4,
          "wife_age": 42,
          "wife_education": 4,
          "wife_religion": 1
         },
         {
          "contraceptive_method_used": 3,
          "standard_of_living_index": 3,
          "wife_age": 33,
          "wife_education": 2,
          "wife_religion": 1
         },
         {
          "contraceptive_method_used": 1,
          "standard_of_living_index": 1,
          "wife_age": 23,
          "wife_education": 1,
          "wife_religion": 1
         },
         {
          "contraceptive_method_used": 1,
          "standard_of_living_index": 3,
          "wife_age": 24,
          "wife_education": 4,
          "wife_religion": 1
         },
         {
          "contraceptive_method_used": 3,
          "standard_of_living_index": 4,
          "wife_age": 24,
          "wife_education": 4,
          "wife_religion": 1
         },
         {
          "contraceptive_method_used": 1,
          "standard_of_living_index": 1,
          "wife_age": 47,
          "wife_education": 2,
          "wife_religion": 1
         },
         {
          "contraceptive_method_used": 1,
          "standard_of_living_index": 4,
          "wife_age": 47,
          "wife_education": 4,
          "wife_religion": 1
         },
         {
          "contraceptive_method_used": 3,
          "standard_of_living_index": 1,
          "wife_age": 19,
          "wife_education": 3,
          "wife_religion": 1
         },
         {
          "contraceptive_method_used": 3,
          "standard_of_living_index": 4,
          "wife_age": 27,
          "wife_education": 4,
          "wife_religion": 1
         },
         {
          "contraceptive_method_used": 1,
          "standard_of_living_index": 3,
          "wife_age": 47,
          "wife_education": 2,
          "wife_religion": 1
         },
         {
          "contraceptive_method_used": 3,
          "standard_of_living_index": 3,
          "wife_age": 40,
          "wife_education": 3,
          "wife_religion": 1
         },
         {
          "contraceptive_method_used": 3,
          "standard_of_living_index": 4,
          "wife_age": 35,
          "wife_education": 3,
          "wife_religion": 1
         },
         {
          "contraceptive_method_used": 3,
          "standard_of_living_index": 3,
          "wife_age": 40,
          "wife_education": 2,
          "wife_religion": 1
         },
         {
          "contraceptive_method_used": 3,
          "standard_of_living_index": 3,
          "wife_age": 21,
          "wife_education": 3,
          "wife_religion": 1
         },
         {
          "contraceptive_method_used": 2,
          "standard_of_living_index": 2,
          "wife_age": 20,
          "wife_education": 3,
          "wife_religion": 1
         },
         {
          "contraceptive_method_used": 1,
          "standard_of_living_index": 1,
          "wife_age": 32,
          "wife_education": 2,
          "wife_religion": 1
         },
         {
          "contraceptive_method_used": 1,
          "standard_of_living_index": 2,
          "wife_age": 42,
          "wife_education": 3,
          "wife_religion": 1
         },
         {
          "contraceptive_method_used": 1,
          "standard_of_living_index": 2,
          "wife_age": 32,
          "wife_education": 3,
          "wife_religion": 1
         },
         {
          "contraceptive_method_used": 3,
          "standard_of_living_index": 4,
          "wife_age": 29,
          "wife_education": 3,
          "wife_religion": 1
         },
         {
          "contraceptive_method_used": 1,
          "standard_of_living_index": 2,
          "wife_age": 36,
          "wife_education": 3,
          "wife_religion": 1
         },
         {
          "contraceptive_method_used": 1,
          "standard_of_living_index": 3,
          "wife_age": 49,
          "wife_education": 1,
          "wife_religion": 1
         },
         {
          "contraceptive_method_used": 1,
          "standard_of_living_index": 3,
          "wife_age": 47,
          "wife_education": 1,
          "wife_religion": 1
         },
         {
          "contraceptive_method_used": 3,
          "standard_of_living_index": 4,
          "wife_age": 45,
          "wife_education": 2,
          "wife_religion": 0
         },
         {
          "contraceptive_method_used": 1,
          "standard_of_living_index": 1,
          "wife_age": 48,
          "wife_education": 3,
          "wife_religion": 1
         },
         {
          "contraceptive_method_used": 3,
          "standard_of_living_index": 4,
          "wife_age": 37,
          "wife_education": 2,
          "wife_religion": 1
         },
         {
          "contraceptive_method_used": 1,
          "standard_of_living_index": 4,
          "wife_age": 45,
          "wife_education": 3,
          "wife_religion": 0
         },
         {
          "contraceptive_method_used": 2,
          "standard_of_living_index": 4,
          "wife_age": 34,
          "wife_education": 4,
          "wife_religion": 1
         },
         {
          "contraceptive_method_used": 1,
          "standard_of_living_index": 2,
          "wife_age": 25,
          "wife_education": 4,
          "wife_religion": 1
         },
         {
          "contraceptive_method_used": 2,
          "standard_of_living_index": 3,
          "wife_age": 28,
          "wife_education": 4,
          "wife_religion": 1
         },
         {
          "contraceptive_method_used": 3,
          "standard_of_living_index": 4,
          "wife_age": 25,
          "wife_education": 3,
          "wife_religion": 1
         },
         {
          "contraceptive_method_used": 2,
          "standard_of_living_index": 4,
          "wife_age": 39,
          "wife_education": 4,
          "wife_religion": 1
         },
         {
          "contraceptive_method_used": 1,
          "standard_of_living_index": 4,
          "wife_age": 20,
          "wife_education": 4,
          "wife_religion": 0
         },
         {
          "contraceptive_method_used": 3,
          "standard_of_living_index": 4,
          "wife_age": 20,
          "wife_education": 3,
          "wife_religion": 0
         },
         {
          "contraceptive_method_used": 3,
          "standard_of_living_index": 2,
          "wife_age": 26,
          "wife_education": 3,
          "wife_religion": 1
         },
         {
          "contraceptive_method_used": 3,
          "standard_of_living_index": 4,
          "wife_age": 37,
          "wife_education": 4,
          "wife_religion": 1
         },
         {
          "contraceptive_method_used": 3,
          "standard_of_living_index": 3,
          "wife_age": 29,
          "wife_education": 3,
          "wife_religion": 1
         },
         {
          "contraceptive_method_used": 1,
          "standard_of_living_index": 4,
          "wife_age": 38,
          "wife_education": 1,
          "wife_religion": 1
         },
         {
          "contraceptive_method_used": 2,
          "standard_of_living_index": 4,
          "wife_age": 41,
          "wife_education": 4,
          "wife_religion": 1
         },
         {
          "contraceptive_method_used": 2,
          "standard_of_living_index": 4,
          "wife_age": 33,
          "wife_education": 4,
          "wife_religion": 1
         },
         {
          "contraceptive_method_used": 3,
          "standard_of_living_index": 4,
          "wife_age": 27,
          "wife_education": 4,
          "wife_religion": 1
         },
         {
          "contraceptive_method_used": 1,
          "standard_of_living_index": 3,
          "wife_age": 26,
          "wife_education": 3,
          "wife_religion": 1
         },
         {
          "contraceptive_method_used": 1,
          "standard_of_living_index": 3,
          "wife_age": 36,
          "wife_education": 2,
          "wife_religion": 1
         },
         {
          "contraceptive_method_used": 3,
          "standard_of_living_index": 4,
          "wife_age": 33,
          "wife_education": 4,
          "wife_religion": 1
         },
         {
          "contraceptive_method_used": 2,
          "standard_of_living_index": 4,
          "wife_age": 23,
          "wife_education": 4,
          "wife_religion": 0
         },
         {
          "contraceptive_method_used": 1,
          "standard_of_living_index": 4,
          "wife_age": 48,
          "wife_education": 3,
          "wife_religion": 1
         },
         {
          "contraceptive_method_used": 1,
          "standard_of_living_index": 2,
          "wife_age": 40,
          "wife_education": 2,
          "wife_religion": 1
         },
         {
          "contraceptive_method_used": 2,
          "standard_of_living_index": 4,
          "wife_age": 26,
          "wife_education": 4,
          "wife_religion": 0
         },
         {
          "contraceptive_method_used": 3,
          "standard_of_living_index": 3,
          "wife_age": 39,
          "wife_education": 3,
          "wife_religion": 1
         },
         {
          "contraceptive_method_used": 1,
          "standard_of_living_index": 4,
          "wife_age": 42,
          "wife_education": 3,
          "wife_religion": 1
         },
         {
          "contraceptive_method_used": 3,
          "standard_of_living_index": 3,
          "wife_age": 29,
          "wife_education": 1,
          "wife_religion": 1
         },
         {
          "contraceptive_method_used": 1,
          "standard_of_living_index": 3,
          "wife_age": 45,
          "wife_education": 2,
          "wife_religion": 1
         },
         {
          "contraceptive_method_used": 1,
          "standard_of_living_index": 3,
          "wife_age": 28,
          "wife_education": 4,
          "wife_religion": 1
         },
         {
          "contraceptive_method_used": 1,
          "standard_of_living_index": 3,
          "wife_age": 44,
          "wife_education": 1,
          "wife_religion": 1
         },
         {
          "contraceptive_method_used": 3,
          "standard_of_living_index": 4,
          "wife_age": 33,
          "wife_education": 2,
          "wife_religion": 1
         },
         {
          "contraceptive_method_used": 3,
          "standard_of_living_index": 4,
          "wife_age": 33,
          "wife_education": 4,
          "wife_religion": 1
         },
         {
          "contraceptive_method_used": 1,
          "standard_of_living_index": 3,
          "wife_age": 39,
          "wife_education": 3,
          "wife_religion": 1
         },
         {
          "contraceptive_method_used": 1,
          "standard_of_living_index": 4,
          "wife_age": 35,
          "wife_education": 2,
          "wife_religion": 1
         },
         {
          "contraceptive_method_used": 2,
          "standard_of_living_index": 3,
          "wife_age": 44,
          "wife_education": 1,
          "wife_religion": 1
         },
         {
          "contraceptive_method_used": 1,
          "standard_of_living_index": 3,
          "wife_age": 19,
          "wife_education": 3,
          "wife_religion": 1
         },
         {
          "contraceptive_method_used": 1,
          "standard_of_living_index": 4,
          "wife_age": 32,
          "wife_education": 4,
          "wife_religion": 0
         },
         {
          "contraceptive_method_used": 1,
          "standard_of_living_index": 3,
          "wife_age": 32,
          "wife_education": 4,
          "wife_religion": 1
         },
         {
          "contraceptive_method_used": 1,
          "standard_of_living_index": 3,
          "wife_age": 22,
          "wife_education": 3,
          "wife_religion": 1
         },
         {
          "contraceptive_method_used": 3,
          "standard_of_living_index": 2,
          "wife_age": 31,
          "wife_education": 1,
          "wife_religion": 1
         },
         {
          "contraceptive_method_used": 2,
          "standard_of_living_index": 1,
          "wife_age": 44,
          "wife_education": 3,
          "wife_religion": 1
         },
         {
          "contraceptive_method_used": 2,
          "standard_of_living_index": 1,
          "wife_age": 25,
          "wife_education": 3,
          "wife_religion": 1
         },
         {
          "contraceptive_method_used": 2,
          "standard_of_living_index": 3,
          "wife_age": 37,
          "wife_education": 3,
          "wife_religion": 1
         },
         {
          "contraceptive_method_used": 1,
          "standard_of_living_index": 4,
          "wife_age": 49,
          "wife_education": 3,
          "wife_religion": 1
         },
         {
          "contraceptive_method_used": 1,
          "standard_of_living_index": 4,
          "wife_age": 24,
          "wife_education": 3,
          "wife_religion": 1
         },
         {
          "contraceptive_method_used": 1,
          "standard_of_living_index": 2,
          "wife_age": 38,
          "wife_education": 1,
          "wife_religion": 1
         },
         {
          "contraceptive_method_used": 1,
          "standard_of_living_index": 1,
          "wife_age": 38,
          "wife_education": 3,
          "wife_religion": 1
         },
         {
          "contraceptive_method_used": 3,
          "standard_of_living_index": 4,
          "wife_age": 25,
          "wife_education": 4,
          "wife_religion": 0
         },
         {
          "contraceptive_method_used": 3,
          "standard_of_living_index": 2,
          "wife_age": 21,
          "wife_education": 3,
          "wife_religion": 1
         },
         {
          "contraceptive_method_used": 3,
          "standard_of_living_index": 1,
          "wife_age": 22,
          "wife_education": 1,
          "wife_religion": 1
         },
         {
          "contraceptive_method_used": 1,
          "standard_of_living_index": 3,
          "wife_age": 31,
          "wife_education": 4,
          "wife_religion": 1
         },
         {
          "contraceptive_method_used": 3,
          "standard_of_living_index": 4,
          "wife_age": 29,
          "wife_education": 4,
          "wife_religion": 1
         },
         {
          "contraceptive_method_used": 1,
          "standard_of_living_index": 3,
          "wife_age": 31,
          "wife_education": 3,
          "wife_religion": 1
         },
         {
          "contraceptive_method_used": 3,
          "standard_of_living_index": 3,
          "wife_age": 26,
          "wife_education": 3,
          "wife_religion": 1
         },
         {
          "contraceptive_method_used": 3,
          "standard_of_living_index": 4,
          "wife_age": 24,
          "wife_education": 2,
          "wife_religion": 1
         },
         {
          "contraceptive_method_used": 1,
          "standard_of_living_index": 3,
          "wife_age": 30,
          "wife_education": 4,
          "wife_religion": 0
         },
         {
          "contraceptive_method_used": 2,
          "standard_of_living_index": 3,
          "wife_age": 45,
          "wife_education": 3,
          "wife_religion": 1
         },
         {
          "contraceptive_method_used": 1,
          "standard_of_living_index": 4,
          "wife_age": 22,
          "wife_education": 4,
          "wife_religion": 1
         },
         {
          "contraceptive_method_used": 3,
          "standard_of_living_index": 4,
          "wife_age": 26,
          "wife_education": 3,
          "wife_religion": 1
         },
         {
          "contraceptive_method_used": 3,
          "standard_of_living_index": 3,
          "wife_age": 37,
          "wife_education": 3,
          "wife_religion": 1
         },
         {
          "contraceptive_method_used": 1,
          "standard_of_living_index": 4,
          "wife_age": 26,
          "wife_education": 4,
          "wife_religion": 1
         },
         {
          "contraceptive_method_used": 3,
          "standard_of_living_index": 3,
          "wife_age": 25,
          "wife_education": 4,
          "wife_religion": 1
         },
         {
          "contraceptive_method_used": 1,
          "standard_of_living_index": 1,
          "wife_age": 26,
          "wife_education": 2,
          "wife_religion": 1
         },
         {
          "contraceptive_method_used": 1,
          "standard_of_living_index": 4,
          "wife_age": 40,
          "wife_education": 4,
          "wife_religion": 0
         },
         {
          "contraceptive_method_used": 3,
          "standard_of_living_index": 4,
          "wife_age": 37,
          "wife_education": 4,
          "wife_religion": 0
         },
         {
          "contraceptive_method_used": 2,
          "standard_of_living_index": 3,
          "wife_age": 40,
          "wife_education": 4,
          "wife_religion": 1
         },
         {
          "contraceptive_method_used": 2,
          "standard_of_living_index": 4,
          "wife_age": 35,
          "wife_education": 4,
          "wife_religion": 1
         },
         {
          "contraceptive_method_used": 1,
          "standard_of_living_index": 3,
          "wife_age": 43,
          "wife_education": 4,
          "wife_religion": 1
         },
         {
          "contraceptive_method_used": 2,
          "standard_of_living_index": 4,
          "wife_age": 27,
          "wife_education": 3,
          "wife_religion": 1
         },
         {
          "contraceptive_method_used": 1,
          "standard_of_living_index": 4,
          "wife_age": 27,
          "wife_education": 1,
          "wife_religion": 1
         },
         {
          "contraceptive_method_used": 1,
          "standard_of_living_index": 3,
          "wife_age": 34,
          "wife_education": 2,
          "wife_religion": 1
         },
         {
          "contraceptive_method_used": 1,
          "standard_of_living_index": 1,
          "wife_age": 49,
          "wife_education": 1,
          "wife_religion": 1
         },
         {
          "contraceptive_method_used": 1,
          "standard_of_living_index": 4,
          "wife_age": 33,
          "wife_education": 4,
          "wife_religion": 1
         },
         {
          "contraceptive_method_used": 1,
          "standard_of_living_index": 2,
          "wife_age": 44,
          "wife_education": 2,
          "wife_religion": 1
         },
         {
          "contraceptive_method_used": 2,
          "standard_of_living_index": 1,
          "wife_age": 36,
          "wife_education": 2,
          "wife_religion": 1
         },
         {
          "contraceptive_method_used": 1,
          "standard_of_living_index": 4,
          "wife_age": 22,
          "wife_education": 2,
          "wife_religion": 1
         },
         {
          "contraceptive_method_used": 3,
          "standard_of_living_index": 4,
          "wife_age": 27,
          "wife_education": 4,
          "wife_religion": 0
         },
         {
          "contraceptive_method_used": 3,
          "standard_of_living_index": 3,
          "wife_age": 27,
          "wife_education": 3,
          "wife_religion": 1
         },
         {
          "contraceptive_method_used": 1,
          "standard_of_living_index": 4,
          "wife_age": 43,
          "wife_education": 3,
          "wife_religion": 1
         },
         {
          "contraceptive_method_used": 3,
          "standard_of_living_index": 3,
          "wife_age": 43,
          "wife_education": 3,
          "wife_religion": 1
         },
         {
          "contraceptive_method_used": 2,
          "standard_of_living_index": 4,
          "wife_age": 33,
          "wife_education": 4,
          "wife_religion": 1
         },
         {
          "contraceptive_method_used": 3,
          "standard_of_living_index": 2,
          "wife_age": 45,
          "wife_education": 1,
          "wife_religion": 1
         },
         {
          "contraceptive_method_used": 1,
          "standard_of_living_index": 3,
          "wife_age": 24,
          "wife_education": 3,
          "wife_religion": 1
         },
         {
          "contraceptive_method_used": 3,
          "standard_of_living_index": 2,
          "wife_age": 30,
          "wife_education": 3,
          "wife_religion": 1
         },
         {
          "contraceptive_method_used": 3,
          "standard_of_living_index": 4,
          "wife_age": 33,
          "wife_education": 4,
          "wife_religion": 1
         },
         {
          "contraceptive_method_used": 1,
          "standard_of_living_index": 4,
          "wife_age": 49,
          "wife_education": 1,
          "wife_religion": 1
         },
         {
          "contraceptive_method_used": 1,
          "standard_of_living_index": 3,
          "wife_age": 44,
          "wife_education": 1,
          "wife_religion": 1
         },
         {
          "contraceptive_method_used": 3,
          "standard_of_living_index": 4,
          "wife_age": 29,
          "wife_education": 2,
          "wife_religion": 1
         },
         {
          "contraceptive_method_used": 2,
          "standard_of_living_index": 3,
          "wife_age": 32,
          "wife_education": 3,
          "wife_religion": 1
         },
         {
          "contraceptive_method_used": 3,
          "standard_of_living_index": 4,
          "wife_age": 39,
          "wife_education": 4,
          "wife_religion": 1
         },
         {
          "contraceptive_method_used": 2,
          "standard_of_living_index": 4,
          "wife_age": 42,
          "wife_education": 4,
          "wife_religion": 0
         },
         {
          "contraceptive_method_used": 1,
          "standard_of_living_index": 3,
          "wife_age": 47,
          "wife_education": 4,
          "wife_religion": 1
         },
         {
          "contraceptive_method_used": 3,
          "standard_of_living_index": 4,
          "wife_age": 39,
          "wife_education": 4,
          "wife_religion": 1
         },
         {
          "contraceptive_method_used": 3,
          "standard_of_living_index": 4,
          "wife_age": 43,
          "wife_education": 4,
          "wife_religion": 1
         },
         {
          "contraceptive_method_used": 1,
          "standard_of_living_index": 3,
          "wife_age": 48,
          "wife_education": 3,
          "wife_religion": 1
         },
         {
          "contraceptive_method_used": 2,
          "standard_of_living_index": 4,
          "wife_age": 24,
          "wife_education": 4,
          "wife_religion": 1
         },
         {
          "contraceptive_method_used": 3,
          "standard_of_living_index": 3,
          "wife_age": 43,
          "wife_education": 3,
          "wife_religion": 1
         },
         {
          "contraceptive_method_used": 1,
          "standard_of_living_index": 4,
          "wife_age": 45,
          "wife_education": 1,
          "wife_religion": 1
         },
         {
          "contraceptive_method_used": 3,
          "standard_of_living_index": 4,
          "wife_age": 41,
          "wife_education": 4,
          "wife_religion": 1
         },
         {
          "contraceptive_method_used": 3,
          "standard_of_living_index": 1,
          "wife_age": 21,
          "wife_education": 3,
          "wife_religion": 1
         },
         {
          "contraceptive_method_used": 3,
          "standard_of_living_index": 2,
          "wife_age": 29,
          "wife_education": 2,
          "wife_religion": 1
         },
         {
          "contraceptive_method_used": 1,
          "standard_of_living_index": 3,
          "wife_age": 41,
          "wife_education": 1,
          "wife_religion": 1
         },
         {
          "contraceptive_method_used": 2,
          "standard_of_living_index": 4,
          "wife_age": 24,
          "wife_education": 4,
          "wife_religion": 1
         },
         {
          "contraceptive_method_used": 2,
          "standard_of_living_index": 4,
          "wife_age": 35,
          "wife_education": 4,
          "wife_religion": 1
         },
         {
          "contraceptive_method_used": 1,
          "standard_of_living_index": 1,
          "wife_age": 47,
          "wife_education": 2,
          "wife_religion": 1
         },
         {
          "contraceptive_method_used": 3,
          "standard_of_living_index": 4,
          "wife_age": 28,
          "wife_education": 3,
          "wife_religion": 1
         },
         {
          "contraceptive_method_used": 3,
          "standard_of_living_index": 3,
          "wife_age": 22,
          "wife_education": 3,
          "wife_religion": 1
         },
         {
          "contraceptive_method_used": 2,
          "standard_of_living_index": 3,
          "wife_age": 28,
          "wife_education": 4,
          "wife_religion": 1
         },
         {
          "contraceptive_method_used": 3,
          "standard_of_living_index": 3,
          "wife_age": 27,
          "wife_education": 4,
          "wife_religion": 1
         },
         {
          "contraceptive_method_used": 3,
          "standard_of_living_index": 3,
          "wife_age": 24,
          "wife_education": 3,
          "wife_religion": 1
         },
         {
          "contraceptive_method_used": 2,
          "standard_of_living_index": 2,
          "wife_age": 35,
          "wife_education": 2,
          "wife_religion": 0
         },
         {
          "contraceptive_method_used": 1,
          "standard_of_living_index": 4,
          "wife_age": 28,
          "wife_education": 4,
          "wife_religion": 0
         },
         {
          "contraceptive_method_used": 3,
          "standard_of_living_index": 2,
          "wife_age": 30,
          "wife_education": 4,
          "wife_religion": 1
         },
         {
          "contraceptive_method_used": 1,
          "standard_of_living_index": 3,
          "wife_age": 45,
          "wife_education": 4,
          "wife_religion": 1
         },
         {
          "contraceptive_method_used": 2,
          "standard_of_living_index": 4,
          "wife_age": 35,
          "wife_education": 4,
          "wife_religion": 1
         },
         {
          "contraceptive_method_used": 3,
          "standard_of_living_index": 3,
          "wife_age": 33,
          "wife_education": 3,
          "wife_religion": 1
         },
         {
          "contraceptive_method_used": 3,
          "standard_of_living_index": 3,
          "wife_age": 29,
          "wife_education": 2,
          "wife_religion": 1
         },
         {
          "contraceptive_method_used": 2,
          "standard_of_living_index": 3,
          "wife_age": 23,
          "wife_education": 3,
          "wife_religion": 1
         },
         {
          "contraceptive_method_used": 2,
          "standard_of_living_index": 4,
          "wife_age": 31,
          "wife_education": 4,
          "wife_religion": 0
         },
         {
          "contraceptive_method_used": 3,
          "standard_of_living_index": 4,
          "wife_age": 34,
          "wife_education": 4,
          "wife_religion": 1
         },
         {
          "contraceptive_method_used": 2,
          "standard_of_living_index": 3,
          "wife_age": 24,
          "wife_education": 4,
          "wife_religion": 1
         },
         {
          "contraceptive_method_used": 2,
          "standard_of_living_index": 3,
          "wife_age": 44,
          "wife_education": 4,
          "wife_religion": 1
         },
         {
          "contraceptive_method_used": 3,
          "standard_of_living_index": 4,
          "wife_age": 33,
          "wife_education": 2,
          "wife_religion": 1
         },
         {
          "contraceptive_method_used": 1,
          "standard_of_living_index": 4,
          "wife_age": 26,
          "wife_education": 4,
          "wife_religion": 1
         },
         {
          "contraceptive_method_used": 2,
          "standard_of_living_index": 3,
          "wife_age": 36,
          "wife_education": 4,
          "wife_religion": 0
         },
         {
          "contraceptive_method_used": 2,
          "standard_of_living_index": 4,
          "wife_age": 41,
          "wife_education": 4,
          "wife_religion": 1
         },
         {
          "contraceptive_method_used": 3,
          "standard_of_living_index": 4,
          "wife_age": 36,
          "wife_education": 4,
          "wife_religion": 0
         },
         {
          "contraceptive_method_used": 1,
          "standard_of_living_index": 2,
          "wife_age": 31,
          "wife_education": 4,
          "wife_religion": 1
         },
         {
          "contraceptive_method_used": 1,
          "standard_of_living_index": 4,
          "wife_age": 20,
          "wife_education": 2,
          "wife_religion": 1
         },
         {
          "contraceptive_method_used": 3,
          "standard_of_living_index": 4,
          "wife_age": 38,
          "wife_education": 4,
          "wife_religion": 1
         },
         {
          "contraceptive_method_used": 3,
          "standard_of_living_index": 1,
          "wife_age": 32,
          "wife_education": 3,
          "wife_religion": 1
         },
         {
          "contraceptive_method_used": 3,
          "standard_of_living_index": 4,
          "wife_age": 25,
          "wife_education": 3,
          "wife_religion": 1
         },
         {
          "contraceptive_method_used": 3,
          "standard_of_living_index": 2,
          "wife_age": 24,
          "wife_education": 3,
          "wife_religion": 1
         },
         {
          "contraceptive_method_used": 1,
          "standard_of_living_index": 1,
          "wife_age": 25,
          "wife_education": 1,
          "wife_religion": 1
         },
         {
          "contraceptive_method_used": 3,
          "standard_of_living_index": 3,
          "wife_age": 33,
          "wife_education": 4,
          "wife_religion": 1
         },
         {
          "contraceptive_method_used": 1,
          "standard_of_living_index": 4,
          "wife_age": 49,
          "wife_education": 2,
          "wife_religion": 1
         },
         {
          "contraceptive_method_used": 3,
          "standard_of_living_index": 4,
          "wife_age": 25,
          "wife_education": 4,
          "wife_religion": 1
         },
         {
          "contraceptive_method_used": 1,
          "standard_of_living_index": 2,
          "wife_age": 22,
          "wife_education": 2,
          "wife_religion": 1
         },
         {
          "contraceptive_method_used": 1,
          "standard_of_living_index": 4,
          "wife_age": 26,
          "wife_education": 4,
          "wife_religion": 1
         },
         {
          "contraceptive_method_used": 1,
          "standard_of_living_index": 1,
          "wife_age": 19,
          "wife_education": 2,
          "wife_religion": 1
         },
         {
          "contraceptive_method_used": 1,
          "standard_of_living_index": 3,
          "wife_age": 48,
          "wife_education": 1,
          "wife_religion": 1
         },
         {
          "contraceptive_method_used": 1,
          "standard_of_living_index": 4,
          "wife_age": 48,
          "wife_education": 4,
          "wife_religion": 0
         },
         {
          "contraceptive_method_used": 2,
          "standard_of_living_index": 3,
          "wife_age": 36,
          "wife_education": 3,
          "wife_religion": 1
         },
         {
          "contraceptive_method_used": 3,
          "standard_of_living_index": 3,
          "wife_age": 35,
          "wife_education": 1,
          "wife_religion": 1
         },
         {
          "contraceptive_method_used": 3,
          "standard_of_living_index": 3,
          "wife_age": 20,
          "wife_education": 4,
          "wife_religion": 1
         },
         {
          "contraceptive_method_used": 1,
          "standard_of_living_index": 4,
          "wife_age": 34,
          "wife_education": 2,
          "wife_religion": 1
         },
         {
          "contraceptive_method_used": 1,
          "standard_of_living_index": 2,
          "wife_age": 39,
          "wife_education": 2,
          "wife_religion": 1
         },
         {
          "contraceptive_method_used": 1,
          "standard_of_living_index": 3,
          "wife_age": 21,
          "wife_education": 3,
          "wife_religion": 1
         },
         {
          "contraceptive_method_used": 1,
          "standard_of_living_index": 4,
          "wife_age": 36,
          "wife_education": 3,
          "wife_religion": 1
         },
         {
          "contraceptive_method_used": 1,
          "standard_of_living_index": 4,
          "wife_age": 47,
          "wife_education": 1,
          "wife_religion": 1
         },
         {
          "contraceptive_method_used": 1,
          "standard_of_living_index": 1,
          "wife_age": 46,
          "wife_education": 1,
          "wife_religion": 1
         },
         {
          "contraceptive_method_used": 1,
          "standard_of_living_index": 2,
          "wife_age": 25,
          "wife_education": 3,
          "wife_religion": 1
         },
         {
          "contraceptive_method_used": 3,
          "standard_of_living_index": 3,
          "wife_age": 34,
          "wife_education": 3,
          "wife_religion": 1
         },
         {
          "contraceptive_method_used": 1,
          "standard_of_living_index": 2,
          "wife_age": 45,
          "wife_education": 2,
          "wife_religion": 1
         },
         {
          "contraceptive_method_used": 1,
          "standard_of_living_index": 3,
          "wife_age": 40,
          "wife_education": 3,
          "wife_religion": 1
         },
         {
          "contraceptive_method_used": 1,
          "standard_of_living_index": 3,
          "wife_age": 35,
          "wife_education": 3,
          "wife_religion": 0
         },
         {
          "contraceptive_method_used": 1,
          "standard_of_living_index": 2,
          "wife_age": 38,
          "wife_education": 2,
          "wife_religion": 0
         },
         {
          "contraceptive_method_used": 1,
          "standard_of_living_index": 4,
          "wife_age": 30,
          "wife_education": 2,
          "wife_religion": 1
         },
         {
          "contraceptive_method_used": 1,
          "standard_of_living_index": 2,
          "wife_age": 35,
          "wife_education": 1,
          "wife_religion": 1
         },
         {
          "contraceptive_method_used": 3,
          "standard_of_living_index": 4,
          "wife_age": 28,
          "wife_education": 2,
          "wife_religion": 1
         },
         {
          "contraceptive_method_used": 2,
          "standard_of_living_index": 4,
          "wife_age": 42,
          "wife_education": 4,
          "wife_religion": 0
         },
         {
          "contraceptive_method_used": 2,
          "standard_of_living_index": 4,
          "wife_age": 26,
          "wife_education": 2,
          "wife_religion": 1
         },
         {
          "contraceptive_method_used": 1,
          "standard_of_living_index": 2,
          "wife_age": 31,
          "wife_education": 4,
          "wife_religion": 1
         },
         {
          "contraceptive_method_used": 3,
          "standard_of_living_index": 3,
          "wife_age": 35,
          "wife_education": 2,
          "wife_religion": 1
         },
         {
          "contraceptive_method_used": 3,
          "standard_of_living_index": 4,
          "wife_age": 36,
          "wife_education": 4,
          "wife_religion": 1
         },
         {
          "contraceptive_method_used": 2,
          "standard_of_living_index": 3,
          "wife_age": 35,
          "wife_education": 3,
          "wife_religion": 1
         },
         {
          "contraceptive_method_used": 3,
          "standard_of_living_index": 4,
          "wife_age": 35,
          "wife_education": 1,
          "wife_religion": 1
         },
         {
          "contraceptive_method_used": 3,
          "standard_of_living_index": 2,
          "wife_age": 38,
          "wife_education": 3,
          "wife_religion": 1
         },
         {
          "contraceptive_method_used": 3,
          "standard_of_living_index": 4,
          "wife_age": 48,
          "wife_education": 3,
          "wife_religion": 1
         },
         {
          "contraceptive_method_used": 2,
          "standard_of_living_index": 4,
          "wife_age": 25,
          "wife_education": 2,
          "wife_religion": 1
         },
         {
          "contraceptive_method_used": 2,
          "standard_of_living_index": 3,
          "wife_age": 31,
          "wife_education": 2,
          "wife_religion": 1
         },
         {
          "contraceptive_method_used": 3,
          "standard_of_living_index": 1,
          "wife_age": 23,
          "wife_education": 2,
          "wife_religion": 1
         },
         {
          "contraceptive_method_used": 1,
          "standard_of_living_index": 2,
          "wife_age": 33,
          "wife_education": 2,
          "wife_religion": 1
         },
         {
          "contraceptive_method_used": 3,
          "standard_of_living_index": 4,
          "wife_age": 40,
          "wife_education": 4,
          "wife_religion": 1
         },
         {
          "contraceptive_method_used": 1,
          "standard_of_living_index": 3,
          "wife_age": 44,
          "wife_education": 3,
          "wife_religion": 1
         },
         {
          "contraceptive_method_used": 2,
          "standard_of_living_index": 3,
          "wife_age": 43,
          "wife_education": 2,
          "wife_religion": 1
         },
         {
          "contraceptive_method_used": 1,
          "standard_of_living_index": 2,
          "wife_age": 36,
          "wife_education": 1,
          "wife_religion": 1
         },
         {
          "contraceptive_method_used": 1,
          "standard_of_living_index": 4,
          "wife_age": 29,
          "wife_education": 1,
          "wife_religion": 1
         },
         {
          "contraceptive_method_used": 2,
          "standard_of_living_index": 4,
          "wife_age": 27,
          "wife_education": 3,
          "wife_religion": 1
         },
         {
          "contraceptive_method_used": 2,
          "standard_of_living_index": 4,
          "wife_age": 26,
          "wife_education": 3,
          "wife_religion": 1
         },
         {
          "contraceptive_method_used": 3,
          "standard_of_living_index": 2,
          "wife_age": 24,
          "wife_education": 1,
          "wife_religion": 1
         },
         {
          "contraceptive_method_used": 3,
          "standard_of_living_index": 3,
          "wife_age": 30,
          "wife_education": 2,
          "wife_religion": 1
         },
         {
          "contraceptive_method_used": 3,
          "standard_of_living_index": 4,
          "wife_age": 32,
          "wife_education": 4,
          "wife_religion": 0
         },
         {
          "contraceptive_method_used": 3,
          "standard_of_living_index": 3,
          "wife_age": 27,
          "wife_education": 4,
          "wife_religion": 0
         },
         {
          "contraceptive_method_used": 2,
          "standard_of_living_index": 4,
          "wife_age": 30,
          "wife_education": 4,
          "wife_religion": 0
         },
         {
          "contraceptive_method_used": 3,
          "standard_of_living_index": 4,
          "wife_age": 29,
          "wife_education": 4,
          "wife_religion": 1
         },
         {
          "contraceptive_method_used": 3,
          "standard_of_living_index": 3,
          "wife_age": 41,
          "wife_education": 1,
          "wife_religion": 1
         },
         {
          "contraceptive_method_used": 3,
          "standard_of_living_index": 4,
          "wife_age": 36,
          "wife_education": 4,
          "wife_religion": 0
         },
         {
          "contraceptive_method_used": 3,
          "standard_of_living_index": 2,
          "wife_age": 29,
          "wife_education": 3,
          "wife_religion": 1
         },
         {
          "contraceptive_method_used": 1,
          "standard_of_living_index": 4,
          "wife_age": 45,
          "wife_education": 4,
          "wife_religion": 1
         },
         {
          "contraceptive_method_used": 3,
          "standard_of_living_index": 4,
          "wife_age": 32,
          "wife_education": 4,
          "wife_religion": 1
         },
         {
          "contraceptive_method_used": 1,
          "standard_of_living_index": 2,
          "wife_age": 25,
          "wife_education": 4,
          "wife_religion": 1
         },
         {
          "contraceptive_method_used": 1,
          "standard_of_living_index": 1,
          "wife_age": 25,
          "wife_education": 2,
          "wife_religion": 1
         },
         {
          "contraceptive_method_used": 3,
          "standard_of_living_index": 4,
          "wife_age": 35,
          "wife_education": 3,
          "wife_religion": 1
         },
         {
          "contraceptive_method_used": 1,
          "standard_of_living_index": 2,
          "wife_age": 32,
          "wife_education": 2,
          "wife_religion": 1
         },
         {
          "contraceptive_method_used": 3,
          "standard_of_living_index": 3,
          "wife_age": 22,
          "wife_education": 2,
          "wife_religion": 1
         },
         {
          "contraceptive_method_used": 3,
          "standard_of_living_index": 4,
          "wife_age": 22,
          "wife_education": 3,
          "wife_religion": 1
         },
         {
          "contraceptive_method_used": 3,
          "standard_of_living_index": 3,
          "wife_age": 28,
          "wife_education": 4,
          "wife_religion": 1
         },
         {
          "contraceptive_method_used": 1,
          "standard_of_living_index": 3,
          "wife_age": 48,
          "wife_education": 1,
          "wife_religion": 1
         },
         {
          "contraceptive_method_used": 1,
          "standard_of_living_index": 1,
          "wife_age": 47,
          "wife_education": 2,
          "wife_religion": 1
         },
         {
          "contraceptive_method_used": 1,
          "standard_of_living_index": 2,
          "wife_age": 31,
          "wife_education": 1,
          "wife_religion": 1
         },
         {
          "contraceptive_method_used": 3,
          "standard_of_living_index": 4,
          "wife_age": 30,
          "wife_education": 3,
          "wife_religion": 1
         },
         {
          "contraceptive_method_used": 3,
          "standard_of_living_index": 2,
          "wife_age": 25,
          "wife_education": 3,
          "wife_religion": 1
         },
         {
          "contraceptive_method_used": 3,
          "standard_of_living_index": 1,
          "wife_age": 25,
          "wife_education": 3,
          "wife_religion": 1
         },
         {
          "contraceptive_method_used": 3,
          "standard_of_living_index": 1,
          "wife_age": 27,
          "wife_education": 2,
          "wife_religion": 1
         },
         {
          "contraceptive_method_used": 3,
          "standard_of_living_index": 3,
          "wife_age": 24,
          "wife_education": 4,
          "wife_religion": 1
         },
         {
          "contraceptive_method_used": 1,
          "standard_of_living_index": 4,
          "wife_age": 34,
          "wife_education": 4,
          "wife_religion": 0
         },
         {
          "contraceptive_method_used": 2,
          "standard_of_living_index": 2,
          "wife_age": 44,
          "wife_education": 4,
          "wife_religion": 1
         },
         {
          "contraceptive_method_used": 1,
          "standard_of_living_index": 4,
          "wife_age": 24,
          "wife_education": 2,
          "wife_religion": 1
         },
         {
          "contraceptive_method_used": 1,
          "standard_of_living_index": 3,
          "wife_age": 26,
          "wife_education": 4,
          "wife_religion": 1
         },
         {
          "contraceptive_method_used": 2,
          "standard_of_living_index": 4,
          "wife_age": 37,
          "wife_education": 4,
          "wife_religion": 1
         },
         {
          "contraceptive_method_used": 3,
          "standard_of_living_index": 3,
          "wife_age": 26,
          "wife_education": 3,
          "wife_religion": 1
         },
         {
          "contraceptive_method_used": 1,
          "standard_of_living_index": 3,
          "wife_age": 18,
          "wife_education": 3,
          "wife_religion": 1
         },
         {
          "contraceptive_method_used": 2,
          "standard_of_living_index": 3,
          "wife_age": 29,
          "wife_education": 4,
          "wife_religion": 1
         },
         {
          "contraceptive_method_used": 2,
          "standard_of_living_index": 4,
          "wife_age": 22,
          "wife_education": 3,
          "wife_religion": 1
         },
         {
          "contraceptive_method_used": 2,
          "standard_of_living_index": 3,
          "wife_age": 32,
          "wife_education": 4,
          "wife_religion": 1
         },
         {
          "contraceptive_method_used": 1,
          "standard_of_living_index": 4,
          "wife_age": 27,
          "wife_education": 4,
          "wife_religion": 0
         },
         {
          "contraceptive_method_used": 1,
          "standard_of_living_index": 3,
          "wife_age": 34,
          "wife_education": 4,
          "wife_religion": 1
         },
         {
          "contraceptive_method_used": 3,
          "standard_of_living_index": 3,
          "wife_age": 32,
          "wife_education": 4,
          "wife_religion": 1
         },
         {
          "contraceptive_method_used": 2,
          "standard_of_living_index": 3,
          "wife_age": 30,
          "wife_education": 3,
          "wife_religion": 1
         },
         {
          "contraceptive_method_used": 2,
          "standard_of_living_index": 3,
          "wife_age": 31,
          "wife_education": 4,
          "wife_religion": 1
         },
         {
          "contraceptive_method_used": 1,
          "standard_of_living_index": 3,
          "wife_age": 29,
          "wife_education": 3,
          "wife_religion": 1
         },
         {
          "contraceptive_method_used": 1,
          "standard_of_living_index": 1,
          "wife_age": 27,
          "wife_education": 1,
          "wife_religion": 1
         },
         {
          "contraceptive_method_used": 1,
          "standard_of_living_index": 3,
          "wife_age": 31,
          "wife_education": 3,
          "wife_religion": 1
         },
         {
          "contraceptive_method_used": 2,
          "standard_of_living_index": 4,
          "wife_age": 34,
          "wife_education": 3,
          "wife_religion": 0
         },
         {
          "contraceptive_method_used": 1,
          "standard_of_living_index": 4,
          "wife_age": 24,
          "wife_education": 2,
          "wife_religion": 1
         },
         {
          "contraceptive_method_used": 1,
          "standard_of_living_index": 2,
          "wife_age": 25,
          "wife_education": 3,
          "wife_religion": 1
         },
         {
          "contraceptive_method_used": 1,
          "standard_of_living_index": 3,
          "wife_age": 42,
          "wife_education": 2,
          "wife_religion": 1
         },
         {
          "contraceptive_method_used": 1,
          "standard_of_living_index": 4,
          "wife_age": 48,
          "wife_education": 1,
          "wife_religion": 1
         },
         {
          "contraceptive_method_used": 3,
          "standard_of_living_index": 3,
          "wife_age": 24,
          "wife_education": 4,
          "wife_religion": 1
         },
         {
          "contraceptive_method_used": 3,
          "standard_of_living_index": 4,
          "wife_age": 39,
          "wife_education": 4,
          "wife_religion": 1
         },
         {
          "contraceptive_method_used": 1,
          "standard_of_living_index": 3,
          "wife_age": 43,
          "wife_education": 4,
          "wife_religion": 1
         },
         {
          "contraceptive_method_used": 3,
          "standard_of_living_index": 3,
          "wife_age": 36,
          "wife_education": 4,
          "wife_religion": 1
         },
         {
          "contraceptive_method_used": 1,
          "standard_of_living_index": 2,
          "wife_age": 40,
          "wife_education": 3,
          "wife_religion": 1
         },
         {
          "contraceptive_method_used": 2,
          "standard_of_living_index": 4,
          "wife_age": 41,
          "wife_education": 4,
          "wife_religion": 0
         },
         {
          "contraceptive_method_used": 3,
          "standard_of_living_index": 3,
          "wife_age": 17,
          "wife_education": 3,
          "wife_religion": 1
         },
         {
          "contraceptive_method_used": 1,
          "standard_of_living_index": 3,
          "wife_age": 23,
          "wife_education": 3,
          "wife_religion": 1
         },
         {
          "contraceptive_method_used": 1,
          "standard_of_living_index": 1,
          "wife_age": 28,
          "wife_education": 4,
          "wife_religion": 1
         },
         {
          "contraceptive_method_used": 1,
          "standard_of_living_index": 1,
          "wife_age": 48,
          "wife_education": 1,
          "wife_religion": 1
         },
         {
          "contraceptive_method_used": 1,
          "standard_of_living_index": 1,
          "wife_age": 39,
          "wife_education": 2,
          "wife_religion": 1
         },
         {
          "contraceptive_method_used": 1,
          "standard_of_living_index": 4,
          "wife_age": 39,
          "wife_education": 4,
          "wife_religion": 1
         },
         {
          "contraceptive_method_used": 1,
          "standard_of_living_index": 4,
          "wife_age": 30,
          "wife_education": 4,
          "wife_religion": 1
         },
         {
          "contraceptive_method_used": 1,
          "standard_of_living_index": 3,
          "wife_age": 34,
          "wife_education": 4,
          "wife_religion": 1
         },
         {
          "contraceptive_method_used": 1,
          "standard_of_living_index": 1,
          "wife_age": 25,
          "wife_education": 2,
          "wife_religion": 1
         },
         {
          "contraceptive_method_used": 3,
          "standard_of_living_index": 3,
          "wife_age": 47,
          "wife_education": 1,
          "wife_religion": 1
         },
         {
          "contraceptive_method_used": 1,
          "standard_of_living_index": 2,
          "wife_age": 25,
          "wife_education": 2,
          "wife_religion": 1
         },
         {
          "contraceptive_method_used": 1,
          "standard_of_living_index": 3,
          "wife_age": 34,
          "wife_education": 3,
          "wife_religion": 1
         },
         {
          "contraceptive_method_used": 1,
          "standard_of_living_index": 3,
          "wife_age": 20,
          "wife_education": 3,
          "wife_religion": 1
         },
         {
          "contraceptive_method_used": 1,
          "standard_of_living_index": 4,
          "wife_age": 39,
          "wife_education": 3,
          "wife_religion": 1
         },
         {
          "contraceptive_method_used": 1,
          "standard_of_living_index": 4,
          "wife_age": 36,
          "wife_education": 3,
          "wife_religion": 1
         },
         {
          "contraceptive_method_used": 1,
          "standard_of_living_index": 4,
          "wife_age": 49,
          "wife_education": 4,
          "wife_religion": 1
         },
         {
          "contraceptive_method_used": 3,
          "standard_of_living_index": 4,
          "wife_age": 42,
          "wife_education": 4,
          "wife_religion": 0
         },
         {
          "contraceptive_method_used": 2,
          "standard_of_living_index": 3,
          "wife_age": 40,
          "wife_education": 4,
          "wife_religion": 1
         },
         {
          "contraceptive_method_used": 1,
          "standard_of_living_index": 1,
          "wife_age": 35,
          "wife_education": 2,
          "wife_religion": 1
         },
         {
          "contraceptive_method_used": 2,
          "standard_of_living_index": 4,
          "wife_age": 45,
          "wife_education": 4,
          "wife_religion": 1
         },
         {
          "contraceptive_method_used": 3,
          "standard_of_living_index": 3,
          "wife_age": 25,
          "wife_education": 2,
          "wife_religion": 1
         },
         {
          "contraceptive_method_used": 1,
          "standard_of_living_index": 3,
          "wife_age": 20,
          "wife_education": 3,
          "wife_religion": 1
         },
         {
          "contraceptive_method_used": 1,
          "standard_of_living_index": 4,
          "wife_age": 23,
          "wife_education": 3,
          "wife_religion": 1
         },
         {
          "contraceptive_method_used": 3,
          "standard_of_living_index": 2,
          "wife_age": 23,
          "wife_education": 3,
          "wife_religion": 1
         },
         {
          "contraceptive_method_used": 2,
          "standard_of_living_index": 4,
          "wife_age": 37,
          "wife_education": 4,
          "wife_religion": 1
         },
         {
          "contraceptive_method_used": 1,
          "standard_of_living_index": 4,
          "wife_age": 47,
          "wife_education": 1,
          "wife_religion": 1
         },
         {
          "contraceptive_method_used": 1,
          "standard_of_living_index": 4,
          "wife_age": 26,
          "wife_education": 2,
          "wife_religion": 1
         },
         {
          "contraceptive_method_used": 1,
          "standard_of_living_index": 1,
          "wife_age": 29,
          "wife_education": 2,
          "wife_religion": 1
         },
         {
          "contraceptive_method_used": 1,
          "standard_of_living_index": 3,
          "wife_age": 18,
          "wife_education": 2,
          "wife_religion": 1
         },
         {
          "contraceptive_method_used": 2,
          "standard_of_living_index": 4,
          "wife_age": 39,
          "wife_education": 4,
          "wife_religion": 1
         },
         {
          "contraceptive_method_used": 3,
          "standard_of_living_index": 4,
          "wife_age": 33,
          "wife_education": 3,
          "wife_religion": 1
         },
         {
          "contraceptive_method_used": 3,
          "standard_of_living_index": 4,
          "wife_age": 19,
          "wife_education": 4,
          "wife_religion": 1
         },
         {
          "contraceptive_method_used": 1,
          "standard_of_living_index": 4,
          "wife_age": 30,
          "wife_education": 4,
          "wife_religion": 1
         },
         {
          "contraceptive_method_used": 3,
          "standard_of_living_index": 4,
          "wife_age": 21,
          "wife_education": 2,
          "wife_religion": 0
         },
         {
          "contraceptive_method_used": 2,
          "standard_of_living_index": 4,
          "wife_age": 43,
          "wife_education": 4,
          "wife_religion": 0
         },
         {
          "contraceptive_method_used": 1,
          "standard_of_living_index": 1,
          "wife_age": 25,
          "wife_education": 3,
          "wife_religion": 1
         },
         {
          "contraceptive_method_used": 2,
          "standard_of_living_index": 4,
          "wife_age": 48,
          "wife_education": 4,
          "wife_religion": 0
         },
         {
          "contraceptive_method_used": 1,
          "standard_of_living_index": 3,
          "wife_age": 42,
          "wife_education": 1,
          "wife_religion": 1
         },
         {
          "contraceptive_method_used": 3,
          "standard_of_living_index": 4,
          "wife_age": 24,
          "wife_education": 3,
          "wife_religion": 1
         },
         {
          "contraceptive_method_used": 3,
          "standard_of_living_index": 2,
          "wife_age": 20,
          "wife_education": 3,
          "wife_religion": 1
         },
         {
          "contraceptive_method_used": 1,
          "standard_of_living_index": 3,
          "wife_age": 29,
          "wife_education": 3,
          "wife_religion": 1
         },
         {
          "contraceptive_method_used": 1,
          "standard_of_living_index": 3,
          "wife_age": 41,
          "wife_education": 1,
          "wife_religion": 1
         },
         {
          "contraceptive_method_used": 2,
          "standard_of_living_index": 3,
          "wife_age": 26,
          "wife_education": 2,
          "wife_religion": 1
         },
         {
          "contraceptive_method_used": 3,
          "standard_of_living_index": 3,
          "wife_age": 32,
          "wife_education": 1,
          "wife_religion": 0
         },
         {
          "contraceptive_method_used": 2,
          "standard_of_living_index": 4,
          "wife_age": 39,
          "wife_education": 4,
          "wife_religion": 1
         },
         {
          "contraceptive_method_used": 1,
          "standard_of_living_index": 4,
          "wife_age": 22,
          "wife_education": 1,
          "wife_religion": 1
         },
         {
          "contraceptive_method_used": 3,
          "standard_of_living_index": 4,
          "wife_age": 36,
          "wife_education": 4,
          "wife_religion": 1
         },
         {
          "contraceptive_method_used": 1,
          "standard_of_living_index": 3,
          "wife_age": 45,
          "wife_education": 1,
          "wife_religion": 1
         },
         {
          "contraceptive_method_used": 1,
          "standard_of_living_index": 4,
          "wife_age": 44,
          "wife_education": 4,
          "wife_religion": 1
         },
         {
          "contraceptive_method_used": 1,
          "standard_of_living_index": 1,
          "wife_age": 22,
          "wife_education": 2,
          "wife_religion": 1
         },
         {
          "contraceptive_method_used": 3,
          "standard_of_living_index": 4,
          "wife_age": 42,
          "wife_education": 2,
          "wife_religion": 1
         },
         {
          "contraceptive_method_used": 1,
          "standard_of_living_index": 3,
          "wife_age": 32,
          "wife_education": 2,
          "wife_religion": 1
         },
         {
          "contraceptive_method_used": 3,
          "standard_of_living_index": 3,
          "wife_age": 22,
          "wife_education": 2,
          "wife_religion": 1
         },
         {
          "contraceptive_method_used": 1,
          "standard_of_living_index": 2,
          "wife_age": 27,
          "wife_education": 3,
          "wife_religion": 1
         },
         {
          "contraceptive_method_used": 1,
          "standard_of_living_index": 1,
          "wife_age": 21,
          "wife_education": 3,
          "wife_religion": 1
         },
         {
          "contraceptive_method_used": 1,
          "standard_of_living_index": 4,
          "wife_age": 47,
          "wife_education": 3,
          "wife_religion": 1
         },
         {
          "contraceptive_method_used": 3,
          "standard_of_living_index": 3,
          "wife_age": 28,
          "wife_education": 3,
          "wife_religion": 1
         },
         {
          "contraceptive_method_used": 2,
          "standard_of_living_index": 4,
          "wife_age": 42,
          "wife_education": 2,
          "wife_religion": 1
         },
         {
          "contraceptive_method_used": 1,
          "standard_of_living_index": 4,
          "wife_age": 30,
          "wife_education": 2,
          "wife_religion": 1
         },
         {
          "contraceptive_method_used": 1,
          "standard_of_living_index": 4,
          "wife_age": 31,
          "wife_education": 4,
          "wife_religion": 1
         },
         {
          "contraceptive_method_used": 1,
          "standard_of_living_index": 4,
          "wife_age": 40,
          "wife_education": 4,
          "wife_religion": 1
         },
         {
          "contraceptive_method_used": 3,
          "standard_of_living_index": 1,
          "wife_age": 30,
          "wife_education": 2,
          "wife_religion": 1
         },
         {
          "contraceptive_method_used": 2,
          "standard_of_living_index": 4,
          "wife_age": 37,
          "wife_education": 4,
          "wife_religion": 1
         },
         {
          "contraceptive_method_used": 1,
          "standard_of_living_index": 2,
          "wife_age": 21,
          "wife_education": 3,
          "wife_religion": 1
         },
         {
          "contraceptive_method_used": 2,
          "standard_of_living_index": 4,
          "wife_age": 35,
          "wife_education": 4,
          "wife_religion": 1
         },
         {
          "contraceptive_method_used": 3,
          "standard_of_living_index": 1,
          "wife_age": 22,
          "wife_education": 1,
          "wife_religion": 1
         },
         {
          "contraceptive_method_used": 2,
          "standard_of_living_index": 4,
          "wife_age": 34,
          "wife_education": 4,
          "wife_religion": 1
         },
         {
          "contraceptive_method_used": 1,
          "standard_of_living_index": 1,
          "wife_age": 23,
          "wife_education": 3,
          "wife_religion": 1
         },
         {
          "contraceptive_method_used": 3,
          "standard_of_living_index": 3,
          "wife_age": 19,
          "wife_education": 3,
          "wife_religion": 1
         },
         {
          "contraceptive_method_used": 2,
          "standard_of_living_index": 4,
          "wife_age": 34,
          "wife_education": 1,
          "wife_religion": 1
         },
         {
          "contraceptive_method_used": 1,
          "standard_of_living_index": 4,
          "wife_age": 47,
          "wife_education": 2,
          "wife_religion": 0
         },
         {
          "contraceptive_method_used": 1,
          "standard_of_living_index": 3,
          "wife_age": 25,
          "wife_education": 2,
          "wife_religion": 1
         },
         {
          "contraceptive_method_used": 2,
          "standard_of_living_index": 4,
          "wife_age": 34,
          "wife_education": 4,
          "wife_religion": 1
         },
         {
          "contraceptive_method_used": 3,
          "standard_of_living_index": 3,
          "wife_age": 30,
          "wife_education": 3,
          "wife_religion": 1
         },
         {
          "contraceptive_method_used": 2,
          "standard_of_living_index": 4,
          "wife_age": 34,
          "wife_education": 3,
          "wife_religion": 1
         },
         {
          "contraceptive_method_used": 1,
          "standard_of_living_index": 4,
          "wife_age": 42,
          "wife_education": 4,
          "wife_religion": 1
         },
         {
          "contraceptive_method_used": 2,
          "standard_of_living_index": 4,
          "wife_age": 23,
          "wife_education": 3,
          "wife_religion": 1
         },
         {
          "contraceptive_method_used": 3,
          "standard_of_living_index": 4,
          "wife_age": 29,
          "wife_education": 3,
          "wife_religion": 1
         },
         {
          "contraceptive_method_used": 1,
          "standard_of_living_index": 4,
          "wife_age": 41,
          "wife_education": 3,
          "wife_religion": 1
         },
         {
          "contraceptive_method_used": 1,
          "standard_of_living_index": 4,
          "wife_age": 38,
          "wife_education": 3,
          "wife_religion": 1
         },
         {
          "contraceptive_method_used": 1,
          "standard_of_living_index": 4,
          "wife_age": 20,
          "wife_education": 2,
          "wife_religion": 1
         },
         {
          "contraceptive_method_used": 1,
          "standard_of_living_index": 3,
          "wife_age": 40,
          "wife_education": 3,
          "wife_religion": 1
         },
         {
          "contraceptive_method_used": 3,
          "standard_of_living_index": 2,
          "wife_age": 21,
          "wife_education": 3,
          "wife_religion": 1
         },
         {
          "contraceptive_method_used": 2,
          "standard_of_living_index": 4,
          "wife_age": 43,
          "wife_education": 3,
          "wife_religion": 1
         },
         {
          "contraceptive_method_used": 2,
          "standard_of_living_index": 4,
          "wife_age": 43,
          "wife_education": 4,
          "wife_religion": 0
         },
         {
          "contraceptive_method_used": 1,
          "standard_of_living_index": 3,
          "wife_age": 45,
          "wife_education": 1,
          "wife_religion": 1
         },
         {
          "contraceptive_method_used": 1,
          "standard_of_living_index": 2,
          "wife_age": 42,
          "wife_education": 1,
          "wife_religion": 0
         },
         {
          "contraceptive_method_used": 1,
          "standard_of_living_index": 3,
          "wife_age": 35,
          "wife_education": 4,
          "wife_religion": 0
         },
         {
          "contraceptive_method_used": 3,
          "standard_of_living_index": 4,
          "wife_age": 34,
          "wife_education": 3,
          "wife_religion": 0
         },
         {
          "contraceptive_method_used": 1,
          "standard_of_living_index": 3,
          "wife_age": 48,
          "wife_education": 2,
          "wife_religion": 1
         },
         {
          "contraceptive_method_used": 3,
          "standard_of_living_index": 2,
          "wife_age": 34,
          "wife_education": 4,
          "wife_religion": 1
         },
         {
          "contraceptive_method_used": 2,
          "standard_of_living_index": 3,
          "wife_age": 41,
          "wife_education": 3,
          "wife_religion": 1
         },
         {
          "contraceptive_method_used": 2,
          "standard_of_living_index": 4,
          "wife_age": 39,
          "wife_education": 4,
          "wife_religion": 0
         },
         {
          "contraceptive_method_used": 2,
          "standard_of_living_index": 4,
          "wife_age": 35,
          "wife_education": 2,
          "wife_religion": 0
         },
         {
          "contraceptive_method_used": 3,
          "standard_of_living_index": 4,
          "wife_age": 30,
          "wife_education": 2,
          "wife_religion": 1
         },
         {
          "contraceptive_method_used": 1,
          "standard_of_living_index": 1,
          "wife_age": 43,
          "wife_education": 1,
          "wife_religion": 1
         },
         {
          "contraceptive_method_used": 2,
          "standard_of_living_index": 4,
          "wife_age": 37,
          "wife_education": 4,
          "wife_religion": 1
         },
         {
          "contraceptive_method_used": 2,
          "standard_of_living_index": 4,
          "wife_age": 36,
          "wife_education": 4,
          "wife_religion": 0
         },
         {
          "contraceptive_method_used": 1,
          "standard_of_living_index": 3,
          "wife_age": 48,
          "wife_education": 3,
          "wife_religion": 1
         },
         {
          "contraceptive_method_used": 3,
          "standard_of_living_index": 3,
          "wife_age": 32,
          "wife_education": 4,
          "wife_religion": 1
         },
         {
          "contraceptive_method_used": 2,
          "standard_of_living_index": 4,
          "wife_age": 39,
          "wife_education": 4,
          "wife_religion": 0
         },
         {
          "contraceptive_method_used": 1,
          "standard_of_living_index": 2,
          "wife_age": 47,
          "wife_education": 1,
          "wife_religion": 1
         },
         {
          "contraceptive_method_used": 3,
          "standard_of_living_index": 4,
          "wife_age": 32,
          "wife_education": 2,
          "wife_religion": 1
         },
         {
          "contraceptive_method_used": 2,
          "standard_of_living_index": 4,
          "wife_age": 24,
          "wife_education": 4,
          "wife_religion": 1
         },
         {
          "contraceptive_method_used": 1,
          "standard_of_living_index": 3,
          "wife_age": 34,
          "wife_education": 4,
          "wife_religion": 0
         },
         {
          "contraceptive_method_used": 1,
          "standard_of_living_index": 4,
          "wife_age": 42,
          "wife_education": 4,
          "wife_religion": 0
         },
         {
          "contraceptive_method_used": 1,
          "standard_of_living_index": 2,
          "wife_age": 31,
          "wife_education": 3,
          "wife_religion": 1
         },
         {
          "contraceptive_method_used": 1,
          "standard_of_living_index": 3,
          "wife_age": 16,
          "wife_education": 3,
          "wife_religion": 1
         },
         {
          "contraceptive_method_used": 2,
          "standard_of_living_index": 4,
          "wife_age": 31,
          "wife_education": 4,
          "wife_religion": 1
         },
         {
          "contraceptive_method_used": 1,
          "standard_of_living_index": 3,
          "wife_age": 26,
          "wife_education": 2,
          "wife_religion": 1
         },
         {
          "contraceptive_method_used": 3,
          "standard_of_living_index": 4,
          "wife_age": 26,
          "wife_education": 3,
          "wife_religion": 1
         },
         {
          "contraceptive_method_used": 3,
          "standard_of_living_index": 3,
          "wife_age": 29,
          "wife_education": 2,
          "wife_religion": 1
         },
         {
          "contraceptive_method_used": 3,
          "standard_of_living_index": 3,
          "wife_age": 30,
          "wife_education": 3,
          "wife_religion": 1
         },
         {
          "contraceptive_method_used": 2,
          "standard_of_living_index": 1,
          "wife_age": 30,
          "wife_education": 4,
          "wife_religion": 1
         },
         {
          "contraceptive_method_used": 1,
          "standard_of_living_index": 4,
          "wife_age": 32,
          "wife_education": 3,
          "wife_religion": 0
         },
         {
          "contraceptive_method_used": 2,
          "standard_of_living_index": 4,
          "wife_age": 48,
          "wife_education": 4,
          "wife_religion": 1
         },
         {
          "contraceptive_method_used": 2,
          "standard_of_living_index": 4,
          "wife_age": 48,
          "wife_education": 4,
          "wife_religion": 0
         },
         {
          "contraceptive_method_used": 1,
          "standard_of_living_index": 3,
          "wife_age": 24,
          "wife_education": 2,
          "wife_religion": 1
         },
         {
          "contraceptive_method_used": 3,
          "standard_of_living_index": 2,
          "wife_age": 33,
          "wife_education": 3,
          "wife_religion": 1
         },
         {
          "contraceptive_method_used": 1,
          "standard_of_living_index": 2,
          "wife_age": 38,
          "wife_education": 2,
          "wife_religion": 1
         },
         {
          "contraceptive_method_used": 1,
          "standard_of_living_index": 4,
          "wife_age": 40,
          "wife_education": 4,
          "wife_religion": 0
         },
         {
          "contraceptive_method_used": 2,
          "standard_of_living_index": 4,
          "wife_age": 29,
          "wife_education": 3,
          "wife_religion": 1
         },
         {
          "contraceptive_method_used": 1,
          "standard_of_living_index": 4,
          "wife_age": 48,
          "wife_education": 2,
          "wife_religion": 1
         },
         {
          "contraceptive_method_used": 1,
          "standard_of_living_index": 4,
          "wife_age": 24,
          "wife_education": 2,
          "wife_religion": 1
         },
         {
          "contraceptive_method_used": 1,
          "standard_of_living_index": 3,
          "wife_age": 49,
          "wife_education": 4,
          "wife_religion": 1
         },
         {
          "contraceptive_method_used": 2,
          "standard_of_living_index": 4,
          "wife_age": 41,
          "wife_education": 4,
          "wife_religion": 0
         },
         {
          "contraceptive_method_used": 2,
          "standard_of_living_index": 4,
          "wife_age": 42,
          "wife_education": 4,
          "wife_religion": 1
         },
         {
          "contraceptive_method_used": 1,
          "standard_of_living_index": 3,
          "wife_age": 19,
          "wife_education": 4,
          "wife_religion": 1
         },
         {
          "contraceptive_method_used": 3,
          "standard_of_living_index": 1,
          "wife_age": 31,
          "wife_education": 3,
          "wife_religion": 1
         },
         {
          "contraceptive_method_used": 1,
          "standard_of_living_index": 4,
          "wife_age": 37,
          "wife_education": 1,
          "wife_religion": 1
         },
         {
          "contraceptive_method_used": 1,
          "standard_of_living_index": 2,
          "wife_age": 25,
          "wife_education": 2,
          "wife_religion": 1
         },
         {
          "contraceptive_method_used": 1,
          "standard_of_living_index": 2,
          "wife_age": 40,
          "wife_education": 3,
          "wife_religion": 1
         },
         {
          "contraceptive_method_used": 3,
          "standard_of_living_index": 4,
          "wife_age": 44,
          "wife_education": 4,
          "wife_religion": 1
         },
         {
          "contraceptive_method_used": 1,
          "standard_of_living_index": 4,
          "wife_age": 33,
          "wife_education": 4,
          "wife_religion": 0
         },
         {
          "contraceptive_method_used": 1,
          "standard_of_living_index": 3,
          "wife_age": 42,
          "wife_education": 1,
          "wife_religion": 1
         },
         {
          "contraceptive_method_used": 3,
          "standard_of_living_index": 4,
          "wife_age": 26,
          "wife_education": 4,
          "wife_religion": 1
         },
         {
          "contraceptive_method_used": 3,
          "standard_of_living_index": 3,
          "wife_age": 33,
          "wife_education": 4,
          "wife_religion": 0
         },
         {
          "contraceptive_method_used": 3,
          "standard_of_living_index": 3,
          "wife_age": 34,
          "wife_education": 4,
          "wife_religion": 1
         },
         {
          "contraceptive_method_used": 2,
          "standard_of_living_index": 3,
          "wife_age": 40,
          "wife_education": 4,
          "wife_religion": 1
         },
         {
          "contraceptive_method_used": 2,
          "standard_of_living_index": 4,
          "wife_age": 30,
          "wife_education": 2,
          "wife_religion": 1
         },
         {
          "contraceptive_method_used": 1,
          "standard_of_living_index": 2,
          "wife_age": 20,
          "wife_education": 2,
          "wife_religion": 1
         },
         {
          "contraceptive_method_used": 3,
          "standard_of_living_index": 2,
          "wife_age": 24,
          "wife_education": 1,
          "wife_religion": 1
         },
         {
          "contraceptive_method_used": 1,
          "standard_of_living_index": 4,
          "wife_age": 34,
          "wife_education": 1,
          "wife_religion": 1
         },
         {
          "contraceptive_method_used": 3,
          "standard_of_living_index": 4,
          "wife_age": 32,
          "wife_education": 2,
          "wife_religion": 1
         },
         {
          "contraceptive_method_used": 3,
          "standard_of_living_index": 3,
          "wife_age": 21,
          "wife_education": 4,
          "wife_religion": 1
         },
         {
          "contraceptive_method_used": 2,
          "standard_of_living_index": 4,
          "wife_age": 46,
          "wife_education": 4,
          "wife_religion": 1
         },
         {
          "contraceptive_method_used": 3,
          "standard_of_living_index": 3,
          "wife_age": 24,
          "wife_education": 3,
          "wife_religion": 1
         },
         {
          "contraceptive_method_used": 3,
          "standard_of_living_index": 3,
          "wife_age": 30,
          "wife_education": 3,
          "wife_religion": 1
         },
         {
          "contraceptive_method_used": 3,
          "standard_of_living_index": 2,
          "wife_age": 25,
          "wife_education": 2,
          "wife_religion": 1
         },
         {
          "contraceptive_method_used": 3,
          "standard_of_living_index": 4,
          "wife_age": 23,
          "wife_education": 4,
          "wife_religion": 1
         },
         {
          "contraceptive_method_used": 3,
          "standard_of_living_index": 3,
          "wife_age": 22,
          "wife_education": 4,
          "wife_religion": 1
         },
         {
          "contraceptive_method_used": 3,
          "standard_of_living_index": 2,
          "wife_age": 30,
          "wife_education": 3,
          "wife_religion": 1
         },
         {
          "contraceptive_method_used": 3,
          "standard_of_living_index": 4,
          "wife_age": 27,
          "wife_education": 4,
          "wife_religion": 1
         },
         {
          "contraceptive_method_used": 3,
          "standard_of_living_index": 3,
          "wife_age": 25,
          "wife_education": 4,
          "wife_religion": 0
         },
         {
          "contraceptive_method_used": 1,
          "standard_of_living_index": 4,
          "wife_age": 44,
          "wife_education": 4,
          "wife_religion": 1
         },
         {
          "contraceptive_method_used": 3,
          "standard_of_living_index": 4,
          "wife_age": 34,
          "wife_education": 4,
          "wife_religion": 0
         },
         {
          "contraceptive_method_used": 3,
          "standard_of_living_index": 4,
          "wife_age": 26,
          "wife_education": 4,
          "wife_religion": 1
         },
         {
          "contraceptive_method_used": 1,
          "standard_of_living_index": 4,
          "wife_age": 41,
          "wife_education": 3,
          "wife_religion": 0
         },
         {
          "contraceptive_method_used": 2,
          "standard_of_living_index": 4,
          "wife_age": 32,
          "wife_education": 4,
          "wife_religion": 0
         },
         {
          "contraceptive_method_used": 2,
          "standard_of_living_index": 3,
          "wife_age": 31,
          "wife_education": 4,
          "wife_religion": 0
         },
         {
          "contraceptive_method_used": 2,
          "standard_of_living_index": 4,
          "wife_age": 28,
          "wife_education": 3,
          "wife_religion": 1
         },
         {
          "contraceptive_method_used": 1,
          "standard_of_living_index": 4,
          "wife_age": 29,
          "wife_education": 3,
          "wife_religion": 1
         },
         {
          "contraceptive_method_used": 1,
          "standard_of_living_index": 4,
          "wife_age": 23,
          "wife_education": 4,
          "wife_religion": 1
         },
         {
          "contraceptive_method_used": 1,
          "standard_of_living_index": 2,
          "wife_age": 46,
          "wife_education": 3,
          "wife_religion": 1
         },
         {
          "contraceptive_method_used": 3,
          "standard_of_living_index": 4,
          "wife_age": 32,
          "wife_education": 4,
          "wife_religion": 1
         },
         {
          "contraceptive_method_used": 2,
          "standard_of_living_index": 4,
          "wife_age": 46,
          "wife_education": 4,
          "wife_religion": 0
         },
         {
          "contraceptive_method_used": 1,
          "standard_of_living_index": 3,
          "wife_age": 23,
          "wife_education": 2,
          "wife_religion": 1
         },
         {
          "contraceptive_method_used": 3,
          "standard_of_living_index": 4,
          "wife_age": 41,
          "wife_education": 1,
          "wife_religion": 1
         },
         {
          "contraceptive_method_used": 2,
          "standard_of_living_index": 4,
          "wife_age": 49,
          "wife_education": 3,
          "wife_religion": 1
         },
         {
          "contraceptive_method_used": 3,
          "standard_of_living_index": 4,
          "wife_age": 25,
          "wife_education": 4,
          "wife_religion": 1
         },
         {
          "contraceptive_method_used": 3,
          "standard_of_living_index": 4,
          "wife_age": 39,
          "wife_education": 4,
          "wife_religion": 0
         },
         {
          "contraceptive_method_used": 2,
          "standard_of_living_index": 2,
          "wife_age": 40,
          "wife_education": 2,
          "wife_religion": 1
         },
         {
          "contraceptive_method_used": 3,
          "standard_of_living_index": 3,
          "wife_age": 26,
          "wife_education": 4,
          "wife_religion": 1
         },
         {
          "contraceptive_method_used": 1,
          "standard_of_living_index": 3,
          "wife_age": 20,
          "wife_education": 2,
          "wife_religion": 1
         },
         {
          "contraceptive_method_used": 2,
          "standard_of_living_index": 4,
          "wife_age": 32,
          "wife_education": 4,
          "wife_religion": 1
         },
         {
          "contraceptive_method_used": 1,
          "standard_of_living_index": 1,
          "wife_age": 21,
          "wife_education": 2,
          "wife_religion": 1
         },
         {
          "contraceptive_method_used": 1,
          "standard_of_living_index": 4,
          "wife_age": 46,
          "wife_education": 2,
          "wife_religion": 1
         },
         {
          "contraceptive_method_used": 1,
          "standard_of_living_index": 4,
          "wife_age": 35,
          "wife_education": 4,
          "wife_religion": 1
         },
         {
          "contraceptive_method_used": 2,
          "standard_of_living_index": 4,
          "wife_age": 28,
          "wife_education": 4,
          "wife_religion": 0
         },
         {
          "contraceptive_method_used": 3,
          "standard_of_living_index": 3,
          "wife_age": 30,
          "wife_education": 4,
          "wife_religion": 0
         },
         {
          "contraceptive_method_used": 2,
          "standard_of_living_index": 4,
          "wife_age": 32,
          "wife_education": 4,
          "wife_religion": 1
         },
         {
          "contraceptive_method_used": 1,
          "standard_of_living_index": 2,
          "wife_age": 43,
          "wife_education": 1,
          "wife_religion": 1
         },
         {
          "contraceptive_method_used": 3,
          "standard_of_living_index": 4,
          "wife_age": 36,
          "wife_education": 2,
          "wife_religion": 1
         },
         {
          "contraceptive_method_used": 3,
          "standard_of_living_index": 3,
          "wife_age": 25,
          "wife_education": 4,
          "wife_religion": 1
         },
         {
          "contraceptive_method_used": 1,
          "standard_of_living_index": 3,
          "wife_age": 22,
          "wife_education": 3,
          "wife_religion": 1
         },
         {
          "contraceptive_method_used": 2,
          "standard_of_living_index": 3,
          "wife_age": 35,
          "wife_education": 3,
          "wife_religion": 1
         },
         {
          "contraceptive_method_used": 1,
          "standard_of_living_index": 4,
          "wife_age": 27,
          "wife_education": 4,
          "wife_religion": 0
         },
         {
          "contraceptive_method_used": 1,
          "standard_of_living_index": 3,
          "wife_age": 34,
          "wife_education": 4,
          "wife_religion": 0
         },
         {
          "contraceptive_method_used": 3,
          "standard_of_living_index": 3,
          "wife_age": 33,
          "wife_education": 4,
          "wife_religion": 1
         },
         {
          "contraceptive_method_used": 2,
          "standard_of_living_index": 4,
          "wife_age": 31,
          "wife_education": 4,
          "wife_religion": 0
         },
         {
          "contraceptive_method_used": 1,
          "standard_of_living_index": 2,
          "wife_age": 21,
          "wife_education": 2,
          "wife_religion": 1
         },
         {
          "contraceptive_method_used": 3,
          "standard_of_living_index": 3,
          "wife_age": 30,
          "wife_education": 3,
          "wife_religion": 1
         },
         {
          "contraceptive_method_used": 2,
          "standard_of_living_index": 4,
          "wife_age": 33,
          "wife_education": 3,
          "wife_religion": 0
         },
         {
          "contraceptive_method_used": 3,
          "standard_of_living_index": 3,
          "wife_age": 38,
          "wife_education": 4,
          "wife_religion": 0
         },
         {
          "contraceptive_method_used": 3,
          "standard_of_living_index": 1,
          "wife_age": 32,
          "wife_education": 2,
          "wife_religion": 1
         },
         {
          "contraceptive_method_used": 3,
          "standard_of_living_index": 3,
          "wife_age": 39,
          "wife_education": 4,
          "wife_religion": 0
         },
         {
          "contraceptive_method_used": 1,
          "standard_of_living_index": 3,
          "wife_age": 42,
          "wife_education": 3,
          "wife_religion": 1
         },
         {
          "contraceptive_method_used": 1,
          "standard_of_living_index": 4,
          "wife_age": 31,
          "wife_education": 3,
          "wife_religion": 1
         },
         {
          "contraceptive_method_used": 1,
          "standard_of_living_index": 4,
          "wife_age": 26,
          "wife_education": 4,
          "wife_religion": 1
         },
         {
          "contraceptive_method_used": 1,
          "standard_of_living_index": 4,
          "wife_age": 30,
          "wife_education": 4,
          "wife_religion": 1
         },
         {
          "contraceptive_method_used": 1,
          "standard_of_living_index": 3,
          "wife_age": 27,
          "wife_education": 2,
          "wife_religion": 1
         },
         {
          "contraceptive_method_used": 3,
          "standard_of_living_index": 4,
          "wife_age": 37,
          "wife_education": 4,
          "wife_religion": 1
         },
         {
          "contraceptive_method_used": 1,
          "standard_of_living_index": 2,
          "wife_age": 24,
          "wife_education": 3,
          "wife_religion": 1
         },
         {
          "contraceptive_method_used": 1,
          "standard_of_living_index": 1,
          "wife_age": 26,
          "wife_education": 1,
          "wife_religion": 1
         },
         {
          "contraceptive_method_used": 3,
          "standard_of_living_index": 4,
          "wife_age": 31,
          "wife_education": 4,
          "wife_religion": 1
         },
         {
          "contraceptive_method_used": 1,
          "standard_of_living_index": 4,
          "wife_age": 47,
          "wife_education": 4,
          "wife_religion": 1
         },
         {
          "contraceptive_method_used": 2,
          "standard_of_living_index": 3,
          "wife_age": 29,
          "wife_education": 3,
          "wife_religion": 1
         },
         {
          "contraceptive_method_used": 1,
          "standard_of_living_index": 2,
          "wife_age": 24,
          "wife_education": 3,
          "wife_religion": 1
         },
         {
          "contraceptive_method_used": 2,
          "standard_of_living_index": 3,
          "wife_age": 28,
          "wife_education": 4,
          "wife_religion": 1
         },
         {
          "contraceptive_method_used": 1,
          "standard_of_living_index": 2,
          "wife_age": 47,
          "wife_education": 1,
          "wife_religion": 1
         },
         {
          "contraceptive_method_used": 3,
          "standard_of_living_index": 4,
          "wife_age": 44,
          "wife_education": 4,
          "wife_religion": 1
         },
         {
          "contraceptive_method_used": 2,
          "standard_of_living_index": 4,
          "wife_age": 33,
          "wife_education": 3,
          "wife_religion": 1
         },
         {
          "contraceptive_method_used": 3,
          "standard_of_living_index": 2,
          "wife_age": 32,
          "wife_education": 1,
          "wife_religion": 1
         },
         {
          "contraceptive_method_used": 2,
          "standard_of_living_index": 3,
          "wife_age": 34,
          "wife_education": 2,
          "wife_religion": 1
         },
         {
          "contraceptive_method_used": 3,
          "standard_of_living_index": 4,
          "wife_age": 28,
          "wife_education": 1,
          "wife_religion": 1
         },
         {
          "contraceptive_method_used": 2,
          "standard_of_living_index": 4,
          "wife_age": 47,
          "wife_education": 4,
          "wife_religion": 1
         },
         {
          "contraceptive_method_used": 1,
          "standard_of_living_index": 4,
          "wife_age": 22,
          "wife_education": 3,
          "wife_religion": 1
         },
         {
          "contraceptive_method_used": 2,
          "standard_of_living_index": 3,
          "wife_age": 22,
          "wife_education": 4,
          "wife_religion": 1
         },
         {
          "contraceptive_method_used": 3,
          "standard_of_living_index": 4,
          "wife_age": 42,
          "wife_education": 4,
          "wife_religion": 0
         },
         {
          "contraceptive_method_used": 1,
          "standard_of_living_index": 4,
          "wife_age": 37,
          "wife_education": 3,
          "wife_religion": 1
         }
        ]
       },
       "encoding": {
        "color": {
         "field": "standard_of_living_index",
         "legend": {
          "title": "Standard of living index"
         },
         "type": "quantitative"
        },
        "x": {
         "field": "contraceptive_method_used",
         "title": "Contraceptive method used",
         "type": "quantitative"
        },
        "y": {
         "aggregate": "count",
         "title": "Number of records",
         "type": "quantitative"
        }
       },
       "mark": {
        "size": 10,
        "type": "bar"
       },
       "title": "Distribution of Standard of Living For Each Method of Contraception Used",
       "width": 100
      },
      "text/plain": [
       "<VegaLite 4 object>\n",
       "\n",
       "If you see this message, it means the renderer has not been properly enabled\n",
       "for the frontend that you are using. For more information, see\n",
       "https://altair-viz.github.io/user_guide/troubleshooting.html\n"
      ]
     },
     "execution_count": 37,
     "metadata": {},
     "output_type": "execute_result"
    }
   ],
   "source": [
    "living_standard_correlation = alt.Chart(cmc_train, title = \"Distribution of Standard of Living For Each Method of Contraception Used\").mark_bar(size=10).encode(\n",
    "    x = alt.X(\"contraceptive_method_used\", title = \"Contraceptive method used\"),\n",
    "    y = alt.Y(\"count()\", title = \"Number of records\"),\n",
    "    color = alt.Color(\"standard_of_living_index\", legend=alt.Legend(title=\"Standard of living index\"))\n",
    ").properties(width=100)\n",
    "living_standard_correlation"
   ]
  },
  {
   "cell_type": "markdown",
   "metadata": {},
   "source": [
    "For individuals who have a standard of living of 1-3, it can clearly be seen that the proportion that use contraceptions decreases significantly for short-term (2) and long-term (3) methods. In addition, a larger percentage of the bars for 2 and 3 are taken up by individuals with a very high standard of living (4), meaning that there is a greater proportion that use contraceptives. "
   ]
  },
  {
   "cell_type": "markdown",
   "metadata": {},
   "source": [
    "**Religion**"
   ]
  },
  {
   "cell_type": "code",
   "execution_count": 38,
   "metadata": {},
   "outputs": [
    {
     "data": {
      "application/vnd.vegalite.v4+json": {
       "$schema": "https://vega.github.io/schema/vega-lite/v4.17.0.json",
       "config": {
        "view": {
         "continuousHeight": 300,
         "continuousWidth": 400
        }
       },
       "data": {
        "name": "data-3895c4260d1dd1a6efb37b73d7dea99f"
       },
       "datasets": {
        "data-3895c4260d1dd1a6efb37b73d7dea99f": [
         {
          "contraceptive_method_used": 3,
          "standard_of_living_index": 1,
          "wife_age": 30,
          "wife_education": 3,
          "wife_religion": 1
         },
         {
          "contraceptive_method_used": 2,
          "standard_of_living_index": 3,
          "wife_age": 34,
          "wife_education": 3,
          "wife_religion": 0
         },
         {
          "contraceptive_method_used": 1,
          "standard_of_living_index": 4,
          "wife_age": 28,
          "wife_education": 2,
          "wife_religion": 1
         },
         {
          "contraceptive_method_used": 1,
          "standard_of_living_index": 4,
          "wife_age": 30,
          "wife_education": 4,
          "wife_religion": 1
         },
         {
          "contraceptive_method_used": 1,
          "standard_of_living_index": 4,
          "wife_age": 35,
          "wife_education": 1,
          "wife_religion": 1
         },
         {
          "contraceptive_method_used": 2,
          "standard_of_living_index": 3,
          "wife_age": 21,
          "wife_education": 4,
          "wife_religion": 1
         },
         {
          "contraceptive_method_used": 2,
          "standard_of_living_index": 4,
          "wife_age": 26,
          "wife_education": 4,
          "wife_religion": 0
         },
         {
          "contraceptive_method_used": 1,
          "standard_of_living_index": 4,
          "wife_age": 42,
          "wife_education": 2,
          "wife_religion": 1
         },
         {
          "contraceptive_method_used": 3,
          "standard_of_living_index": 4,
          "wife_age": 40,
          "wife_education": 2,
          "wife_religion": 0
         },
         {
          "contraceptive_method_used": 1,
          "standard_of_living_index": 2,
          "wife_age": 22,
          "wife_education": 4,
          "wife_religion": 1
         },
         {
          "contraceptive_method_used": 3,
          "standard_of_living_index": 4,
          "wife_age": 26,
          "wife_education": 4,
          "wife_religion": 0
         },
         {
          "contraceptive_method_used": 1,
          "standard_of_living_index": 2,
          "wife_age": 19,
          "wife_education": 3,
          "wife_religion": 1
         },
         {
          "contraceptive_method_used": 1,
          "standard_of_living_index": 2,
          "wife_age": 27,
          "wife_education": 2,
          "wife_religion": 1
         },
         {
          "contraceptive_method_used": 3,
          "standard_of_living_index": 4,
          "wife_age": 25,
          "wife_education": 4,
          "wife_religion": 1
         },
         {
          "contraceptive_method_used": 1,
          "standard_of_living_index": 2,
          "wife_age": 28,
          "wife_education": 2,
          "wife_religion": 1
         },
         {
          "contraceptive_method_used": 1,
          "standard_of_living_index": 3,
          "wife_age": 22,
          "wife_education": 2,
          "wife_religion": 1
         },
         {
          "contraceptive_method_used": 1,
          "standard_of_living_index": 3,
          "wife_age": 21,
          "wife_education": 3,
          "wife_religion": 1
         },
         {
          "contraceptive_method_used": 3,
          "standard_of_living_index": 4,
          "wife_age": 37,
          "wife_education": 3,
          "wife_religion": 0
         },
         {
          "contraceptive_method_used": 1,
          "standard_of_living_index": 3,
          "wife_age": 29,
          "wife_education": 3,
          "wife_religion": 0
         },
         {
          "contraceptive_method_used": 1,
          "standard_of_living_index": 3,
          "wife_age": 45,
          "wife_education": 1,
          "wife_religion": 1
         },
         {
          "contraceptive_method_used": 3,
          "standard_of_living_index": 3,
          "wife_age": 28,
          "wife_education": 3,
          "wife_religion": 0
         },
         {
          "contraceptive_method_used": 1,
          "standard_of_living_index": 3,
          "wife_age": 36,
          "wife_education": 3,
          "wife_religion": 0
         },
         {
          "contraceptive_method_used": 1,
          "standard_of_living_index": 2,
          "wife_age": 19,
          "wife_education": 2,
          "wife_religion": 1
         },
         {
          "contraceptive_method_used": 3,
          "standard_of_living_index": 3,
          "wife_age": 27,
          "wife_education": 3,
          "wife_religion": 1
         },
         {
          "contraceptive_method_used": 1,
          "standard_of_living_index": 3,
          "wife_age": 31,
          "wife_education": 3,
          "wife_religion": 1
         },
         {
          "contraceptive_method_used": 1,
          "standard_of_living_index": 1,
          "wife_age": 25,
          "wife_education": 2,
          "wife_religion": 1
         },
         {
          "contraceptive_method_used": 3,
          "standard_of_living_index": 1,
          "wife_age": 20,
          "wife_education": 2,
          "wife_religion": 1
         },
         {
          "contraceptive_method_used": 1,
          "standard_of_living_index": 3,
          "wife_age": 49,
          "wife_education": 2,
          "wife_religion": 0
         },
         {
          "contraceptive_method_used": 2,
          "standard_of_living_index": 4,
          "wife_age": 37,
          "wife_education": 4,
          "wife_religion": 0
         },
         {
          "contraceptive_method_used": 2,
          "standard_of_living_index": 4,
          "wife_age": 25,
          "wife_education": 2,
          "wife_religion": 1
         },
         {
          "contraceptive_method_used": 1,
          "standard_of_living_index": 4,
          "wife_age": 45,
          "wife_education": 4,
          "wife_religion": 1
         },
         {
          "contraceptive_method_used": 2,
          "standard_of_living_index": 4,
          "wife_age": 44,
          "wife_education": 4,
          "wife_religion": 1
         },
         {
          "contraceptive_method_used": 2,
          "standard_of_living_index": 4,
          "wife_age": 47,
          "wife_education": 2,
          "wife_religion": 1
         },
         {
          "contraceptive_method_used": 1,
          "standard_of_living_index": 4,
          "wife_age": 47,
          "wife_education": 4,
          "wife_religion": 1
         },
         {
          "contraceptive_method_used": 3,
          "standard_of_living_index": 3,
          "wife_age": 22,
          "wife_education": 4,
          "wife_religion": 1
         },
         {
          "contraceptive_method_used": 1,
          "standard_of_living_index": 2,
          "wife_age": 40,
          "wife_education": 3,
          "wife_religion": 1
         },
         {
          "contraceptive_method_used": 2,
          "standard_of_living_index": 4,
          "wife_age": 44,
          "wife_education": 4,
          "wife_religion": 1
         },
         {
          "contraceptive_method_used": 3,
          "standard_of_living_index": 4,
          "wife_age": 38,
          "wife_education": 4,
          "wife_religion": 1
         },
         {
          "contraceptive_method_used": 2,
          "standard_of_living_index": 4,
          "wife_age": 36,
          "wife_education": 4,
          "wife_religion": 1
         },
         {
          "contraceptive_method_used": 1,
          "standard_of_living_index": 4,
          "wife_age": 37,
          "wife_education": 3,
          "wife_religion": 1
         },
         {
          "contraceptive_method_used": 1,
          "standard_of_living_index": 2,
          "wife_age": 42,
          "wife_education": 1,
          "wife_religion": 1
         },
         {
          "contraceptive_method_used": 2,
          "standard_of_living_index": 4,
          "wife_age": 41,
          "wife_education": 4,
          "wife_religion": 1
         },
         {
          "contraceptive_method_used": 2,
          "standard_of_living_index": 4,
          "wife_age": 44,
          "wife_education": 4,
          "wife_religion": 1
         },
         {
          "contraceptive_method_used": 3,
          "standard_of_living_index": 4,
          "wife_age": 32,
          "wife_education": 4,
          "wife_religion": 1
         },
         {
          "contraceptive_method_used": 2,
          "standard_of_living_index": 4,
          "wife_age": 41,
          "wife_education": 4,
          "wife_religion": 1
         },
         {
          "contraceptive_method_used": 2,
          "standard_of_living_index": 4,
          "wife_age": 40,
          "wife_education": 4,
          "wife_religion": 1
         },
         {
          "contraceptive_method_used": 3,
          "standard_of_living_index": 4,
          "wife_age": 49,
          "wife_education": 4,
          "wife_religion": 1
         },
         {
          "contraceptive_method_used": 1,
          "standard_of_living_index": 4,
          "wife_age": 33,
          "wife_education": 2,
          "wife_religion": 0
         },
         {
          "contraceptive_method_used": 2,
          "standard_of_living_index": 3,
          "wife_age": 37,
          "wife_education": 4,
          "wife_religion": 1
         },
         {
          "contraceptive_method_used": 1,
          "standard_of_living_index": 4,
          "wife_age": 28,
          "wife_education": 4,
          "wife_religion": 1
         },
         {
          "contraceptive_method_used": 1,
          "standard_of_living_index": 4,
          "wife_age": 49,
          "wife_education": 3,
          "wife_religion": 1
         },
         {
          "contraceptive_method_used": 2,
          "standard_of_living_index": 4,
          "wife_age": 44,
          "wife_education": 4,
          "wife_religion": 1
         },
         {
          "contraceptive_method_used": 1,
          "standard_of_living_index": 4,
          "wife_age": 30,
          "wife_education": 1,
          "wife_religion": 1
         },
         {
          "contraceptive_method_used": 1,
          "standard_of_living_index": 1,
          "wife_age": 28,
          "wife_education": 3,
          "wife_religion": 1
         },
         {
          "contraceptive_method_used": 1,
          "standard_of_living_index": 2,
          "wife_age": 42,
          "wife_education": 3,
          "wife_religion": 1
         },
         {
          "contraceptive_method_used": 2,
          "standard_of_living_index": 4,
          "wife_age": 41,
          "wife_education": 4,
          "wife_religion": 0
         },
         {
          "contraceptive_method_used": 3,
          "standard_of_living_index": 4,
          "wife_age": 26,
          "wife_education": 2,
          "wife_religion": 1
         },
         {
          "contraceptive_method_used": 1,
          "standard_of_living_index": 4,
          "wife_age": 39,
          "wife_education": 3,
          "wife_religion": 1
         },
         {
          "contraceptive_method_used": 2,
          "standard_of_living_index": 4,
          "wife_age": 41,
          "wife_education": 4,
          "wife_religion": 0
         },
         {
          "contraceptive_method_used": 3,
          "standard_of_living_index": 3,
          "wife_age": 26,
          "wife_education": 3,
          "wife_religion": 1
         },
         {
          "contraceptive_method_used": 2,
          "standard_of_living_index": 3,
          "wife_age": 25,
          "wife_education": 4,
          "wife_religion": 0
         },
         {
          "contraceptive_method_used": 2,
          "standard_of_living_index": 4,
          "wife_age": 40,
          "wife_education": 4,
          "wife_religion": 0
         },
         {
          "contraceptive_method_used": 3,
          "standard_of_living_index": 4,
          "wife_age": 25,
          "wife_education": 4,
          "wife_religion": 1
         },
         {
          "contraceptive_method_used": 2,
          "standard_of_living_index": 2,
          "wife_age": 24,
          "wife_education": 1,
          "wife_religion": 1
         },
         {
          "contraceptive_method_used": 1,
          "standard_of_living_index": 4,
          "wife_age": 32,
          "wife_education": 2,
          "wife_religion": 1
         },
         {
          "contraceptive_method_used": 1,
          "standard_of_living_index": 4,
          "wife_age": 39,
          "wife_education": 3,
          "wife_religion": 0
         },
         {
          "contraceptive_method_used": 3,
          "standard_of_living_index": 2,
          "wife_age": 35,
          "wife_education": 1,
          "wife_religion": 1
         },
         {
          "contraceptive_method_used": 2,
          "standard_of_living_index": 2,
          "wife_age": 24,
          "wife_education": 4,
          "wife_religion": 1
         },
         {
          "contraceptive_method_used": 2,
          "standard_of_living_index": 4,
          "wife_age": 25,
          "wife_education": 4,
          "wife_religion": 1
         },
         {
          "contraceptive_method_used": 3,
          "standard_of_living_index": 2,
          "wife_age": 22,
          "wife_education": 1,
          "wife_religion": 1
         },
         {
          "contraceptive_method_used": 1,
          "standard_of_living_index": 4,
          "wife_age": 25,
          "wife_education": 3,
          "wife_religion": 1
         },
         {
          "contraceptive_method_used": 2,
          "standard_of_living_index": 4,
          "wife_age": 24,
          "wife_education": 4,
          "wife_religion": 1
         },
         {
          "contraceptive_method_used": 1,
          "standard_of_living_index": 1,
          "wife_age": 40,
          "wife_education": 1,
          "wife_religion": 1
         },
         {
          "contraceptive_method_used": 2,
          "standard_of_living_index": 2,
          "wife_age": 36,
          "wife_education": 3,
          "wife_religion": 1
         },
         {
          "contraceptive_method_used": 2,
          "standard_of_living_index": 2,
          "wife_age": 35,
          "wife_education": 3,
          "wife_religion": 1
         },
         {
          "contraceptive_method_used": 1,
          "standard_of_living_index": 3,
          "wife_age": 22,
          "wife_education": 2,
          "wife_religion": 1
         },
         {
          "contraceptive_method_used": 2,
          "standard_of_living_index": 4,
          "wife_age": 17,
          "wife_education": 4,
          "wife_religion": 1
         },
         {
          "contraceptive_method_used": 3,
          "standard_of_living_index": 4,
          "wife_age": 17,
          "wife_education": 3,
          "wife_religion": 1
         },
         {
          "contraceptive_method_used": 3,
          "standard_of_living_index": 4,
          "wife_age": 35,
          "wife_education": 4,
          "wife_religion": 0
         },
         {
          "contraceptive_method_used": 1,
          "standard_of_living_index": 3,
          "wife_age": 45,
          "wife_education": 1,
          "wife_religion": 1
         },
         {
          "contraceptive_method_used": 2,
          "standard_of_living_index": 3,
          "wife_age": 28,
          "wife_education": 2,
          "wife_religion": 1
         },
         {
          "contraceptive_method_used": 1,
          "standard_of_living_index": 4,
          "wife_age": 47,
          "wife_education": 3,
          "wife_religion": 1
         },
         {
          "contraceptive_method_used": 2,
          "standard_of_living_index": 4,
          "wife_age": 30,
          "wife_education": 3,
          "wife_religion": 1
         },
         {
          "contraceptive_method_used": 2,
          "standard_of_living_index": 4,
          "wife_age": 21,
          "wife_education": 3,
          "wife_religion": 1
         },
         {
          "contraceptive_method_used": 2,
          "standard_of_living_index": 4,
          "wife_age": 35,
          "wife_education": 4,
          "wife_religion": 0
         },
         {
          "contraceptive_method_used": 1,
          "standard_of_living_index": 3,
          "wife_age": 25,
          "wife_education": 4,
          "wife_religion": 1
         },
         {
          "contraceptive_method_used": 1,
          "standard_of_living_index": 4,
          "wife_age": 38,
          "wife_education": 3,
          "wife_religion": 0
         },
         {
          "contraceptive_method_used": 2,
          "standard_of_living_index": 4,
          "wife_age": 21,
          "wife_education": 4,
          "wife_religion": 1
         },
         {
          "contraceptive_method_used": 1,
          "standard_of_living_index": 4,
          "wife_age": 48,
          "wife_education": 3,
          "wife_religion": 0
         },
         {
          "contraceptive_method_used": 1,
          "standard_of_living_index": 3,
          "wife_age": 35,
          "wife_education": 2,
          "wife_religion": 1
         },
         {
          "contraceptive_method_used": 3,
          "standard_of_living_index": 4,
          "wife_age": 35,
          "wife_education": 4,
          "wife_religion": 0
         },
         {
          "contraceptive_method_used": 1,
          "standard_of_living_index": 2,
          "wife_age": 22,
          "wife_education": 3,
          "wife_religion": 1
         },
         {
          "contraceptive_method_used": 3,
          "standard_of_living_index": 2,
          "wife_age": 40,
          "wife_education": 3,
          "wife_religion": 1
         },
         {
          "contraceptive_method_used": 1,
          "standard_of_living_index": 4,
          "wife_age": 27,
          "wife_education": 2,
          "wife_religion": 1
         },
         {
          "contraceptive_method_used": 2,
          "standard_of_living_index": 4,
          "wife_age": 30,
          "wife_education": 3,
          "wife_religion": 1
         },
         {
          "contraceptive_method_used": 1,
          "standard_of_living_index": 3,
          "wife_age": 47,
          "wife_education": 1,
          "wife_religion": 1
         },
         {
          "contraceptive_method_used": 3,
          "standard_of_living_index": 4,
          "wife_age": 25,
          "wife_education": 2,
          "wife_religion": 1
         },
         {
          "contraceptive_method_used": 3,
          "standard_of_living_index": 4,
          "wife_age": 32,
          "wife_education": 4,
          "wife_religion": 0
         },
         {
          "contraceptive_method_used": 1,
          "standard_of_living_index": 3,
          "wife_age": 36,
          "wife_education": 2,
          "wife_religion": 1
         },
         {
          "contraceptive_method_used": 3,
          "standard_of_living_index": 2,
          "wife_age": 26,
          "wife_education": 3,
          "wife_religion": 1
         },
         {
          "contraceptive_method_used": 3,
          "standard_of_living_index": 3,
          "wife_age": 22,
          "wife_education": 3,
          "wife_religion": 1
         },
         {
          "contraceptive_method_used": 1,
          "standard_of_living_index": 1,
          "wife_age": 34,
          "wife_education": 3,
          "wife_religion": 0
         },
         {
          "contraceptive_method_used": 2,
          "standard_of_living_index": 3,
          "wife_age": 36,
          "wife_education": 3,
          "wife_religion": 1
         },
         {
          "contraceptive_method_used": 3,
          "standard_of_living_index": 3,
          "wife_age": 32,
          "wife_education": 2,
          "wife_religion": 1
         },
         {
          "contraceptive_method_used": 1,
          "standard_of_living_index": 4,
          "wife_age": 28,
          "wife_education": 4,
          "wife_religion": 0
         },
         {
          "contraceptive_method_used": 1,
          "standard_of_living_index": 4,
          "wife_age": 47,
          "wife_education": 4,
          "wife_religion": 0
         },
         {
          "contraceptive_method_used": 1,
          "standard_of_living_index": 4,
          "wife_age": 33,
          "wife_education": 4,
          "wife_religion": 1
         },
         {
          "contraceptive_method_used": 1,
          "standard_of_living_index": 2,
          "wife_age": 35,
          "wife_education": 3,
          "wife_religion": 1
         },
         {
          "contraceptive_method_used": 3,
          "standard_of_living_index": 3,
          "wife_age": 25,
          "wife_education": 4,
          "wife_religion": 1
         },
         {
          "contraceptive_method_used": 3,
          "standard_of_living_index": 1,
          "wife_age": 36,
          "wife_education": 1,
          "wife_religion": 1
         },
         {
          "contraceptive_method_used": 1,
          "standard_of_living_index": 3,
          "wife_age": 29,
          "wife_education": 4,
          "wife_religion": 1
         },
         {
          "contraceptive_method_used": 1,
          "standard_of_living_index": 4,
          "wife_age": 49,
          "wife_education": 4,
          "wife_religion": 0
         },
         {
          "contraceptive_method_used": 3,
          "standard_of_living_index": 4,
          "wife_age": 33,
          "wife_education": 4,
          "wife_religion": 0
         },
         {
          "contraceptive_method_used": 3,
          "standard_of_living_index": 3,
          "wife_age": 48,
          "wife_education": 3,
          "wife_religion": 1
         },
         {
          "contraceptive_method_used": 3,
          "standard_of_living_index": 3,
          "wife_age": 31,
          "wife_education": 2,
          "wife_religion": 1
         },
         {
          "contraceptive_method_used": 3,
          "standard_of_living_index": 4,
          "wife_age": 46,
          "wife_education": 3,
          "wife_religion": 1
         },
         {
          "contraceptive_method_used": 1,
          "standard_of_living_index": 3,
          "wife_age": 37,
          "wife_education": 2,
          "wife_religion": 1
         },
         {
          "contraceptive_method_used": 1,
          "standard_of_living_index": 2,
          "wife_age": 35,
          "wife_education": 3,
          "wife_religion": 1
         },
         {
          "contraceptive_method_used": 2,
          "standard_of_living_index": 4,
          "wife_age": 39,
          "wife_education": 4,
          "wife_religion": 0
         },
         {
          "contraceptive_method_used": 3,
          "standard_of_living_index": 1,
          "wife_age": 30,
          "wife_education": 2,
          "wife_religion": 1
         },
         {
          "contraceptive_method_used": 3,
          "standard_of_living_index": 4,
          "wife_age": 35,
          "wife_education": 4,
          "wife_religion": 1
         },
         {
          "contraceptive_method_used": 2,
          "standard_of_living_index": 4,
          "wife_age": 38,
          "wife_education": 4,
          "wife_religion": 1
         },
         {
          "contraceptive_method_used": 1,
          "standard_of_living_index": 2,
          "wife_age": 49,
          "wife_education": 1,
          "wife_religion": 1
         },
         {
          "contraceptive_method_used": 2,
          "standard_of_living_index": 4,
          "wife_age": 45,
          "wife_education": 4,
          "wife_religion": 1
         },
         {
          "contraceptive_method_used": 1,
          "standard_of_living_index": 4,
          "wife_age": 37,
          "wife_education": 4,
          "wife_religion": 0
         },
         {
          "contraceptive_method_used": 1,
          "standard_of_living_index": 4,
          "wife_age": 44,
          "wife_education": 1,
          "wife_religion": 1
         },
         {
          "contraceptive_method_used": 2,
          "standard_of_living_index": 4,
          "wife_age": 35,
          "wife_education": 4,
          "wife_religion": 1
         },
         {
          "contraceptive_method_used": 3,
          "standard_of_living_index": 4,
          "wife_age": 24,
          "wife_education": 2,
          "wife_religion": 1
         },
         {
          "contraceptive_method_used": 3,
          "standard_of_living_index": 4,
          "wife_age": 32,
          "wife_education": 4,
          "wife_religion": 0
         },
         {
          "contraceptive_method_used": 1,
          "standard_of_living_index": 2,
          "wife_age": 47,
          "wife_education": 2,
          "wife_religion": 1
         },
         {
          "contraceptive_method_used": 3,
          "standard_of_living_index": 4,
          "wife_age": 48,
          "wife_education": 4,
          "wife_religion": 1
         },
         {
          "contraceptive_method_used": 3,
          "standard_of_living_index": 4,
          "wife_age": 33,
          "wife_education": 3,
          "wife_religion": 1
         },
         {
          "contraceptive_method_used": 1,
          "standard_of_living_index": 4,
          "wife_age": 43,
          "wife_education": 4,
          "wife_religion": 1
         },
         {
          "contraceptive_method_used": 2,
          "standard_of_living_index": 4,
          "wife_age": 47,
          "wife_education": 4,
          "wife_religion": 1
         },
         {
          "contraceptive_method_used": 1,
          "standard_of_living_index": 2,
          "wife_age": 43,
          "wife_education": 1,
          "wife_religion": 1
         },
         {
          "contraceptive_method_used": 1,
          "standard_of_living_index": 4,
          "wife_age": 26,
          "wife_education": 4,
          "wife_religion": 1
         },
         {
          "contraceptive_method_used": 3,
          "standard_of_living_index": 2,
          "wife_age": 30,
          "wife_education": 3,
          "wife_religion": 1
         },
         {
          "contraceptive_method_used": 1,
          "standard_of_living_index": 3,
          "wife_age": 21,
          "wife_education": 4,
          "wife_religion": 1
         },
         {
          "contraceptive_method_used": 1,
          "standard_of_living_index": 4,
          "wife_age": 43,
          "wife_education": 1,
          "wife_religion": 1
         },
         {
          "contraceptive_method_used": 3,
          "standard_of_living_index": 2,
          "wife_age": 26,
          "wife_education": 1,
          "wife_religion": 1
         },
         {
          "contraceptive_method_used": 1,
          "standard_of_living_index": 1,
          "wife_age": 28,
          "wife_education": 2,
          "wife_religion": 1
         },
         {
          "contraceptive_method_used": 2,
          "standard_of_living_index": 4,
          "wife_age": 38,
          "wife_education": 4,
          "wife_religion": 1
         },
         {
          "contraceptive_method_used": 3,
          "standard_of_living_index": 3,
          "wife_age": 23,
          "wife_education": 3,
          "wife_religion": 1
         },
         {
          "contraceptive_method_used": 1,
          "standard_of_living_index": 3,
          "wife_age": 28,
          "wife_education": 3,
          "wife_religion": 1
         },
         {
          "contraceptive_method_used": 1,
          "standard_of_living_index": 1,
          "wife_age": 18,
          "wife_education": 3,
          "wife_religion": 1
         },
         {
          "contraceptive_method_used": 1,
          "standard_of_living_index": 4,
          "wife_age": 35,
          "wife_education": 4,
          "wife_religion": 1
         },
         {
          "contraceptive_method_used": 1,
          "standard_of_living_index": 4,
          "wife_age": 48,
          "wife_education": 4,
          "wife_religion": 0
         },
         {
          "contraceptive_method_used": 3,
          "standard_of_living_index": 3,
          "wife_age": 29,
          "wife_education": 1,
          "wife_religion": 1
         },
         {
          "contraceptive_method_used": 1,
          "standard_of_living_index": 1,
          "wife_age": 22,
          "wife_education": 4,
          "wife_religion": 1
         },
         {
          "contraceptive_method_used": 3,
          "standard_of_living_index": 1,
          "wife_age": 25,
          "wife_education": 2,
          "wife_religion": 1
         },
         {
          "contraceptive_method_used": 3,
          "standard_of_living_index": 4,
          "wife_age": 32,
          "wife_education": 4,
          "wife_religion": 1
         },
         {
          "contraceptive_method_used": 2,
          "standard_of_living_index": 3,
          "wife_age": 44,
          "wife_education": 4,
          "wife_religion": 0
         },
         {
          "contraceptive_method_used": 3,
          "standard_of_living_index": 4,
          "wife_age": 28,
          "wife_education": 2,
          "wife_religion": 1
         },
         {
          "contraceptive_method_used": 2,
          "standard_of_living_index": 4,
          "wife_age": 35,
          "wife_education": 4,
          "wife_religion": 1
         },
         {
          "contraceptive_method_used": 2,
          "standard_of_living_index": 2,
          "wife_age": 32,
          "wife_education": 3,
          "wife_religion": 1
         },
         {
          "contraceptive_method_used": 2,
          "standard_of_living_index": 4,
          "wife_age": 27,
          "wife_education": 4,
          "wife_religion": 1
         },
         {
          "contraceptive_method_used": 3,
          "standard_of_living_index": 3,
          "wife_age": 25,
          "wife_education": 4,
          "wife_religion": 1
         },
         {
          "contraceptive_method_used": 3,
          "standard_of_living_index": 3,
          "wife_age": 33,
          "wife_education": 2,
          "wife_religion": 1
         },
         {
          "contraceptive_method_used": 1,
          "standard_of_living_index": 3,
          "wife_age": 24,
          "wife_education": 3,
          "wife_religion": 1
         },
         {
          "contraceptive_method_used": 3,
          "standard_of_living_index": 3,
          "wife_age": 31,
          "wife_education": 3,
          "wife_religion": 1
         },
         {
          "contraceptive_method_used": 3,
          "standard_of_living_index": 4,
          "wife_age": 35,
          "wife_education": 4,
          "wife_religion": 1
         },
         {
          "contraceptive_method_used": 2,
          "standard_of_living_index": 3,
          "wife_age": 32,
          "wife_education": 3,
          "wife_religion": 0
         },
         {
          "contraceptive_method_used": 1,
          "standard_of_living_index": 2,
          "wife_age": 27,
          "wife_education": 3,
          "wife_religion": 1
         },
         {
          "contraceptive_method_used": 3,
          "standard_of_living_index": 3,
          "wife_age": 47,
          "wife_education": 4,
          "wife_religion": 1
         },
         {
          "contraceptive_method_used": 1,
          "standard_of_living_index": 4,
          "wife_age": 21,
          "wife_education": 4,
          "wife_religion": 1
         },
         {
          "contraceptive_method_used": 2,
          "standard_of_living_index": 3,
          "wife_age": 33,
          "wife_education": 4,
          "wife_religion": 1
         },
         {
          "contraceptive_method_used": 3,
          "standard_of_living_index": 4,
          "wife_age": 31,
          "wife_education": 4,
          "wife_religion": 0
         },
         {
          "contraceptive_method_used": 1,
          "standard_of_living_index": 4,
          "wife_age": 40,
          "wife_education": 3,
          "wife_religion": 0
         },
         {
          "contraceptive_method_used": 1,
          "standard_of_living_index": 3,
          "wife_age": 38,
          "wife_education": 1,
          "wife_religion": 1
         },
         {
          "contraceptive_method_used": 1,
          "standard_of_living_index": 4,
          "wife_age": 43,
          "wife_education": 1,
          "wife_religion": 1
         },
         {
          "contraceptive_method_used": 1,
          "standard_of_living_index": 4,
          "wife_age": 48,
          "wife_education": 4,
          "wife_religion": 1
         },
         {
          "contraceptive_method_used": 1,
          "standard_of_living_index": 1,
          "wife_age": 26,
          "wife_education": 3,
          "wife_religion": 1
         },
         {
          "contraceptive_method_used": 3,
          "standard_of_living_index": 3,
          "wife_age": 26,
          "wife_education": 4,
          "wife_religion": 1
         },
         {
          "contraceptive_method_used": 1,
          "standard_of_living_index": 1,
          "wife_age": 39,
          "wife_education": 1,
          "wife_religion": 1
         },
         {
          "contraceptive_method_used": 3,
          "standard_of_living_index": 1,
          "wife_age": 21,
          "wife_education": 3,
          "wife_religion": 1
         },
         {
          "contraceptive_method_used": 2,
          "standard_of_living_index": 3,
          "wife_age": 35,
          "wife_education": 4,
          "wife_religion": 0
         },
         {
          "contraceptive_method_used": 2,
          "standard_of_living_index": 4,
          "wife_age": 38,
          "wife_education": 4,
          "wife_religion": 0
         },
         {
          "contraceptive_method_used": 2,
          "standard_of_living_index": 4,
          "wife_age": 29,
          "wife_education": 4,
          "wife_religion": 1
         },
         {
          "contraceptive_method_used": 3,
          "standard_of_living_index": 4,
          "wife_age": 36,
          "wife_education": 4,
          "wife_religion": 0
         },
         {
          "contraceptive_method_used": 3,
          "standard_of_living_index": 4,
          "wife_age": 28,
          "wife_education": 4,
          "wife_religion": 1
         },
         {
          "contraceptive_method_used": 2,
          "standard_of_living_index": 3,
          "wife_age": 29,
          "wife_education": 4,
          "wife_religion": 1
         },
         {
          "contraceptive_method_used": 2,
          "standard_of_living_index": 4,
          "wife_age": 29,
          "wife_education": 4,
          "wife_religion": 1
         },
         {
          "contraceptive_method_used": 3,
          "standard_of_living_index": 4,
          "wife_age": 44,
          "wife_education": 3,
          "wife_religion": 1
         },
         {
          "contraceptive_method_used": 1,
          "standard_of_living_index": 1,
          "wife_age": 28,
          "wife_education": 2,
          "wife_religion": 1
         },
         {
          "contraceptive_method_used": 3,
          "standard_of_living_index": 4,
          "wife_age": 41,
          "wife_education": 4,
          "wife_religion": 1
         },
         {
          "contraceptive_method_used": 2,
          "standard_of_living_index": 3,
          "wife_age": 42,
          "wife_education": 2,
          "wife_religion": 0
         },
         {
          "contraceptive_method_used": 1,
          "standard_of_living_index": 3,
          "wife_age": 27,
          "wife_education": 2,
          "wife_religion": 1
         },
         {
          "contraceptive_method_used": 3,
          "standard_of_living_index": 1,
          "wife_age": 22,
          "wife_education": 3,
          "wife_religion": 1
         },
         {
          "contraceptive_method_used": 3,
          "standard_of_living_index": 3,
          "wife_age": 30,
          "wife_education": 2,
          "wife_religion": 1
         },
         {
          "contraceptive_method_used": 2,
          "standard_of_living_index": 4,
          "wife_age": 36,
          "wife_education": 4,
          "wife_religion": 1
         },
         {
          "contraceptive_method_used": 2,
          "standard_of_living_index": 4,
          "wife_age": 42,
          "wife_education": 4,
          "wife_religion": 1
         },
         {
          "contraceptive_method_used": 3,
          "standard_of_living_index": 4,
          "wife_age": 31,
          "wife_education": 4,
          "wife_religion": 1
         },
         {
          "contraceptive_method_used": 1,
          "standard_of_living_index": 3,
          "wife_age": 25,
          "wife_education": 1,
          "wife_religion": 1
         },
         {
          "contraceptive_method_used": 1,
          "standard_of_living_index": 4,
          "wife_age": 32,
          "wife_education": 2,
          "wife_religion": 1
         },
         {
          "contraceptive_method_used": 1,
          "standard_of_living_index": 4,
          "wife_age": 40,
          "wife_education": 4,
          "wife_religion": 1
         },
         {
          "contraceptive_method_used": 3,
          "standard_of_living_index": 4,
          "wife_age": 22,
          "wife_education": 3,
          "wife_religion": 0
         },
         {
          "contraceptive_method_used": 3,
          "standard_of_living_index": 3,
          "wife_age": 26,
          "wife_education": 3,
          "wife_religion": 1
         },
         {
          "contraceptive_method_used": 3,
          "standard_of_living_index": 4,
          "wife_age": 35,
          "wife_education": 3,
          "wife_religion": 1
         },
         {
          "contraceptive_method_used": 1,
          "standard_of_living_index": 2,
          "wife_age": 43,
          "wife_education": 1,
          "wife_religion": 1
         },
         {
          "contraceptive_method_used": 3,
          "standard_of_living_index": 4,
          "wife_age": 25,
          "wife_education": 2,
          "wife_religion": 1
         },
         {
          "contraceptive_method_used": 2,
          "standard_of_living_index": 2,
          "wife_age": 29,
          "wife_education": 4,
          "wife_religion": 1
         },
         {
          "contraceptive_method_used": 3,
          "standard_of_living_index": 2,
          "wife_age": 37,
          "wife_education": 3,
          "wife_religion": 1
         },
         {
          "contraceptive_method_used": 3,
          "standard_of_living_index": 1,
          "wife_age": 25,
          "wife_education": 2,
          "wife_religion": 1
         },
         {
          "contraceptive_method_used": 1,
          "standard_of_living_index": 4,
          "wife_age": 29,
          "wife_education": 2,
          "wife_religion": 1
         },
         {
          "contraceptive_method_used": 3,
          "standard_of_living_index": 3,
          "wife_age": 25,
          "wife_education": 2,
          "wife_religion": 1
         },
         {
          "contraceptive_method_used": 3,
          "standard_of_living_index": 3,
          "wife_age": 30,
          "wife_education": 3,
          "wife_religion": 0
         },
         {
          "contraceptive_method_used": 1,
          "standard_of_living_index": 3,
          "wife_age": 31,
          "wife_education": 3,
          "wife_religion": 1
         },
         {
          "contraceptive_method_used": 3,
          "standard_of_living_index": 3,
          "wife_age": 28,
          "wife_education": 3,
          "wife_religion": 1
         },
         {
          "contraceptive_method_used": 2,
          "standard_of_living_index": 4,
          "wife_age": 44,
          "wife_education": 4,
          "wife_religion": 1
         },
         {
          "contraceptive_method_used": 1,
          "standard_of_living_index": 4,
          "wife_age": 36,
          "wife_education": 4,
          "wife_religion": 1
         },
         {
          "contraceptive_method_used": 1,
          "standard_of_living_index": 2,
          "wife_age": 49,
          "wife_education": 4,
          "wife_religion": 1
         },
         {
          "contraceptive_method_used": 1,
          "standard_of_living_index": 4,
          "wife_age": 31,
          "wife_education": 4,
          "wife_religion": 0
         },
         {
          "contraceptive_method_used": 1,
          "standard_of_living_index": 3,
          "wife_age": 24,
          "wife_education": 2,
          "wife_religion": 1
         },
         {
          "contraceptive_method_used": 1,
          "standard_of_living_index": 1,
          "wife_age": 30,
          "wife_education": 2,
          "wife_religion": 1
         },
         {
          "contraceptive_method_used": 2,
          "standard_of_living_index": 4,
          "wife_age": 42,
          "wife_education": 3,
          "wife_religion": 1
         },
         {
          "contraceptive_method_used": 2,
          "standard_of_living_index": 4,
          "wife_age": 30,
          "wife_education": 4,
          "wife_religion": 0
         },
         {
          "contraceptive_method_used": 1,
          "standard_of_living_index": 2,
          "wife_age": 35,
          "wife_education": 3,
          "wife_religion": 1
         },
         {
          "contraceptive_method_used": 3,
          "standard_of_living_index": 4,
          "wife_age": 27,
          "wife_education": 2,
          "wife_religion": 1
         },
         {
          "contraceptive_method_used": 1,
          "standard_of_living_index": 3,
          "wife_age": 38,
          "wife_education": 2,
          "wife_religion": 1
         },
         {
          "contraceptive_method_used": 1,
          "standard_of_living_index": 4,
          "wife_age": 23,
          "wife_education": 2,
          "wife_religion": 1
         },
         {
          "contraceptive_method_used": 1,
          "standard_of_living_index": 4,
          "wife_age": 33,
          "wife_education": 2,
          "wife_religion": 1
         },
         {
          "contraceptive_method_used": 2,
          "standard_of_living_index": 3,
          "wife_age": 44,
          "wife_education": 2,
          "wife_religion": 1
         },
         {
          "contraceptive_method_used": 3,
          "standard_of_living_index": 3,
          "wife_age": 24,
          "wife_education": 4,
          "wife_religion": 1
         },
         {
          "contraceptive_method_used": 2,
          "standard_of_living_index": 3,
          "wife_age": 45,
          "wife_education": 3,
          "wife_religion": 0
         },
         {
          "contraceptive_method_used": 3,
          "standard_of_living_index": 4,
          "wife_age": 26,
          "wife_education": 2,
          "wife_religion": 1
         },
         {
          "contraceptive_method_used": 2,
          "standard_of_living_index": 3,
          "wife_age": 33,
          "wife_education": 3,
          "wife_religion": 0
         },
         {
          "contraceptive_method_used": 1,
          "standard_of_living_index": 3,
          "wife_age": 21,
          "wife_education": 3,
          "wife_religion": 1
         },
         {
          "contraceptive_method_used": 3,
          "standard_of_living_index": 3,
          "wife_age": 29,
          "wife_education": 3,
          "wife_religion": 1
         },
         {
          "contraceptive_method_used": 1,
          "standard_of_living_index": 2,
          "wife_age": 31,
          "wife_education": 2,
          "wife_religion": 1
         },
         {
          "contraceptive_method_used": 2,
          "standard_of_living_index": 4,
          "wife_age": 42,
          "wife_education": 4,
          "wife_religion": 1
         },
         {
          "contraceptive_method_used": 3,
          "standard_of_living_index": 2,
          "wife_age": 39,
          "wife_education": 4,
          "wife_religion": 1
         },
         {
          "contraceptive_method_used": 2,
          "standard_of_living_index": 4,
          "wife_age": 33,
          "wife_education": 4,
          "wife_religion": 1
         },
         {
          "contraceptive_method_used": 1,
          "standard_of_living_index": 4,
          "wife_age": 37,
          "wife_education": 4,
          "wife_religion": 1
         },
         {
          "contraceptive_method_used": 1,
          "standard_of_living_index": 4,
          "wife_age": 45,
          "wife_education": 2,
          "wife_religion": 1
         },
         {
          "contraceptive_method_used": 1,
          "standard_of_living_index": 4,
          "wife_age": 46,
          "wife_education": 4,
          "wife_religion": 1
         },
         {
          "contraceptive_method_used": 3,
          "standard_of_living_index": 2,
          "wife_age": 27,
          "wife_education": 3,
          "wife_religion": 1
         },
         {
          "contraceptive_method_used": 2,
          "standard_of_living_index": 3,
          "wife_age": 23,
          "wife_education": 4,
          "wife_religion": 1
         },
         {
          "contraceptive_method_used": 1,
          "standard_of_living_index": 2,
          "wife_age": 31,
          "wife_education": 3,
          "wife_religion": 1
         },
         {
          "contraceptive_method_used": 3,
          "standard_of_living_index": 3,
          "wife_age": 34,
          "wife_education": 2,
          "wife_religion": 1
         },
         {
          "contraceptive_method_used": 2,
          "standard_of_living_index": 4,
          "wife_age": 46,
          "wife_education": 4,
          "wife_religion": 1
         },
         {
          "contraceptive_method_used": 3,
          "standard_of_living_index": 4,
          "wife_age": 29,
          "wife_education": 2,
          "wife_religion": 1
         },
         {
          "contraceptive_method_used": 3,
          "standard_of_living_index": 4,
          "wife_age": 36,
          "wife_education": 2,
          "wife_religion": 1
         },
         {
          "contraceptive_method_used": 1,
          "standard_of_living_index": 3,
          "wife_age": 19,
          "wife_education": 4,
          "wife_religion": 1
         },
         {
          "contraceptive_method_used": 2,
          "standard_of_living_index": 4,
          "wife_age": 42,
          "wife_education": 2,
          "wife_religion": 1
         },
         {
          "contraceptive_method_used": 1,
          "standard_of_living_index": 4,
          "wife_age": 25,
          "wife_education": 4,
          "wife_religion": 1
         },
         {
          "contraceptive_method_used": 1,
          "standard_of_living_index": 4,
          "wife_age": 24,
          "wife_education": 4,
          "wife_religion": 0
         },
         {
          "contraceptive_method_used": 3,
          "standard_of_living_index": 4,
          "wife_age": 46,
          "wife_education": 1,
          "wife_religion": 1
         },
         {
          "contraceptive_method_used": 3,
          "standard_of_living_index": 3,
          "wife_age": 37,
          "wife_education": 2,
          "wife_religion": 1
         },
         {
          "contraceptive_method_used": 1,
          "standard_of_living_index": 1,
          "wife_age": 25,
          "wife_education": 3,
          "wife_religion": 1
         },
         {
          "contraceptive_method_used": 1,
          "standard_of_living_index": 4,
          "wife_age": 35,
          "wife_education": 4,
          "wife_religion": 0
         },
         {
          "contraceptive_method_used": 1,
          "standard_of_living_index": 3,
          "wife_age": 24,
          "wife_education": 4,
          "wife_religion": 1
         },
         {
          "contraceptive_method_used": 3,
          "standard_of_living_index": 4,
          "wife_age": 38,
          "wife_education": 4,
          "wife_religion": 1
         },
         {
          "contraceptive_method_used": 1,
          "standard_of_living_index": 2,
          "wife_age": 24,
          "wife_education": 4,
          "wife_religion": 1
         },
         {
          "contraceptive_method_used": 1,
          "standard_of_living_index": 1,
          "wife_age": 30,
          "wife_education": 4,
          "wife_religion": 0
         },
         {
          "contraceptive_method_used": 2,
          "standard_of_living_index": 4,
          "wife_age": 48,
          "wife_education": 4,
          "wife_religion": 0
         },
         {
          "contraceptive_method_used": 3,
          "standard_of_living_index": 3,
          "wife_age": 23,
          "wife_education": 4,
          "wife_religion": 1
         },
         {
          "contraceptive_method_used": 1,
          "standard_of_living_index": 2,
          "wife_age": 25,
          "wife_education": 3,
          "wife_religion": 1
         },
         {
          "contraceptive_method_used": 1,
          "standard_of_living_index": 1,
          "wife_age": 33,
          "wife_education": 2,
          "wife_religion": 1
         },
         {
          "contraceptive_method_used": 2,
          "standard_of_living_index": 4,
          "wife_age": 37,
          "wife_education": 4,
          "wife_religion": 1
         },
         {
          "contraceptive_method_used": 1,
          "standard_of_living_index": 4,
          "wife_age": 32,
          "wife_education": 4,
          "wife_religion": 1
         },
         {
          "contraceptive_method_used": 3,
          "standard_of_living_index": 2,
          "wife_age": 30,
          "wife_education": 3,
          "wife_religion": 1
         },
         {
          "contraceptive_method_used": 3,
          "standard_of_living_index": 4,
          "wife_age": 36,
          "wife_education": 2,
          "wife_religion": 1
         },
         {
          "contraceptive_method_used": 3,
          "standard_of_living_index": 2,
          "wife_age": 21,
          "wife_education": 2,
          "wife_religion": 1
         },
         {
          "contraceptive_method_used": 3,
          "standard_of_living_index": 4,
          "wife_age": 30,
          "wife_education": 1,
          "wife_religion": 1
         },
         {
          "contraceptive_method_used": 3,
          "standard_of_living_index": 4,
          "wife_age": 28,
          "wife_education": 2,
          "wife_religion": 1
         },
         {
          "contraceptive_method_used": 2,
          "standard_of_living_index": 4,
          "wife_age": 36,
          "wife_education": 4,
          "wife_religion": 0
         },
         {
          "contraceptive_method_used": 3,
          "standard_of_living_index": 2,
          "wife_age": 37,
          "wife_education": 2,
          "wife_religion": 1
         },
         {
          "contraceptive_method_used": 2,
          "standard_of_living_index": 2,
          "wife_age": 32,
          "wife_education": 2,
          "wife_religion": 1
         },
         {
          "contraceptive_method_used": 2,
          "standard_of_living_index": 4,
          "wife_age": 32,
          "wife_education": 4,
          "wife_religion": 1
         },
         {
          "contraceptive_method_used": 3,
          "standard_of_living_index": 2,
          "wife_age": 21,
          "wife_education": 2,
          "wife_religion": 1
         },
         {
          "contraceptive_method_used": 3,
          "standard_of_living_index": 4,
          "wife_age": 27,
          "wife_education": 2,
          "wife_religion": 1
         },
         {
          "contraceptive_method_used": 2,
          "standard_of_living_index": 2,
          "wife_age": 44,
          "wife_education": 3,
          "wife_religion": 1
         },
         {
          "contraceptive_method_used": 1,
          "standard_of_living_index": 4,
          "wife_age": 29,
          "wife_education": 4,
          "wife_religion": 1
         },
         {
          "contraceptive_method_used": 1,
          "standard_of_living_index": 4,
          "wife_age": 36,
          "wife_education": 2,
          "wife_religion": 1
         },
         {
          "contraceptive_method_used": 1,
          "standard_of_living_index": 3,
          "wife_age": 20,
          "wife_education": 3,
          "wife_religion": 1
         },
         {
          "contraceptive_method_used": 1,
          "standard_of_living_index": 2,
          "wife_age": 36,
          "wife_education": 4,
          "wife_religion": 1
         },
         {
          "contraceptive_method_used": 1,
          "standard_of_living_index": 4,
          "wife_age": 46,
          "wife_education": 4,
          "wife_religion": 0
         },
         {
          "contraceptive_method_used": 3,
          "standard_of_living_index": 2,
          "wife_age": 34,
          "wife_education": 2,
          "wife_religion": 0
         },
         {
          "contraceptive_method_used": 1,
          "standard_of_living_index": 3,
          "wife_age": 35,
          "wife_education": 4,
          "wife_religion": 1
         },
         {
          "contraceptive_method_used": 3,
          "standard_of_living_index": 2,
          "wife_age": 18,
          "wife_education": 3,
          "wife_religion": 1
         },
         {
          "contraceptive_method_used": 1,
          "standard_of_living_index": 4,
          "wife_age": 19,
          "wife_education": 4,
          "wife_religion": 0
         },
         {
          "contraceptive_method_used": 1,
          "standard_of_living_index": 3,
          "wife_age": 27,
          "wife_education": 3,
          "wife_religion": 1
         },
         {
          "contraceptive_method_used": 3,
          "standard_of_living_index": 3,
          "wife_age": 25,
          "wife_education": 3,
          "wife_religion": 1
         },
         {
          "contraceptive_method_used": 3,
          "standard_of_living_index": 2,
          "wife_age": 21,
          "wife_education": 3,
          "wife_religion": 1
         },
         {
          "contraceptive_method_used": 2,
          "standard_of_living_index": 4,
          "wife_age": 44,
          "wife_education": 4,
          "wife_religion": 1
         },
         {
          "contraceptive_method_used": 1,
          "standard_of_living_index": 3,
          "wife_age": 42,
          "wife_education": 3,
          "wife_religion": 1
         },
         {
          "contraceptive_method_used": 3,
          "standard_of_living_index": 4,
          "wife_age": 42,
          "wife_education": 4,
          "wife_religion": 1
         },
         {
          "contraceptive_method_used": 1,
          "standard_of_living_index": 3,
          "wife_age": 36,
          "wife_education": 2,
          "wife_religion": 1
         },
         {
          "contraceptive_method_used": 3,
          "standard_of_living_index": 3,
          "wife_age": 32,
          "wife_education": 3,
          "wife_religion": 1
         },
         {
          "contraceptive_method_used": 1,
          "standard_of_living_index": 3,
          "wife_age": 26,
          "wife_education": 4,
          "wife_religion": 1
         },
         {
          "contraceptive_method_used": 1,
          "standard_of_living_index": 3,
          "wife_age": 28,
          "wife_education": 1,
          "wife_religion": 1
         },
         {
          "contraceptive_method_used": 3,
          "standard_of_living_index": 4,
          "wife_age": 22,
          "wife_education": 1,
          "wife_religion": 1
         },
         {
          "contraceptive_method_used": 3,
          "standard_of_living_index": 4,
          "wife_age": 40,
          "wife_education": 4,
          "wife_religion": 0
         },
         {
          "contraceptive_method_used": 2,
          "standard_of_living_index": 3,
          "wife_age": 27,
          "wife_education": 4,
          "wife_religion": 1
         },
         {
          "contraceptive_method_used": 2,
          "standard_of_living_index": 3,
          "wife_age": 29,
          "wife_education": 3,
          "wife_religion": 1
         },
         {
          "contraceptive_method_used": 2,
          "standard_of_living_index": 2,
          "wife_age": 43,
          "wife_education": 3,
          "wife_religion": 1
         },
         {
          "contraceptive_method_used": 3,
          "standard_of_living_index": 3,
          "wife_age": 35,
          "wife_education": 2,
          "wife_religion": 1
         },
         {
          "contraceptive_method_used": 1,
          "standard_of_living_index": 2,
          "wife_age": 31,
          "wife_education": 2,
          "wife_religion": 1
         },
         {
          "contraceptive_method_used": 1,
          "standard_of_living_index": 3,
          "wife_age": 23,
          "wife_education": 4,
          "wife_religion": 1
         },
         {
          "contraceptive_method_used": 1,
          "standard_of_living_index": 4,
          "wife_age": 26,
          "wife_education": 2,
          "wife_religion": 1
         },
         {
          "contraceptive_method_used": 3,
          "standard_of_living_index": 2,
          "wife_age": 22,
          "wife_education": 2,
          "wife_religion": 1
         },
         {
          "contraceptive_method_used": 2,
          "standard_of_living_index": 4,
          "wife_age": 40,
          "wife_education": 3,
          "wife_religion": 0
         },
         {
          "contraceptive_method_used": 1,
          "standard_of_living_index": 4,
          "wife_age": 41,
          "wife_education": 4,
          "wife_religion": 1
         },
         {
          "contraceptive_method_used": 1,
          "standard_of_living_index": 1,
          "wife_age": 49,
          "wife_education": 2,
          "wife_religion": 1
         },
         {
          "contraceptive_method_used": 1,
          "standard_of_living_index": 4,
          "wife_age": 31,
          "wife_education": 3,
          "wife_religion": 0
         },
         {
          "contraceptive_method_used": 2,
          "standard_of_living_index": 3,
          "wife_age": 32,
          "wife_education": 4,
          "wife_religion": 0
         },
         {
          "contraceptive_method_used": 2,
          "standard_of_living_index": 4,
          "wife_age": 36,
          "wife_education": 3,
          "wife_religion": 0
         },
         {
          "contraceptive_method_used": 2,
          "standard_of_living_index": 4,
          "wife_age": 27,
          "wife_education": 4,
          "wife_religion": 1
         },
         {
          "contraceptive_method_used": 1,
          "standard_of_living_index": 4,
          "wife_age": 24,
          "wife_education": 2,
          "wife_religion": 1
         },
         {
          "contraceptive_method_used": 1,
          "standard_of_living_index": 1,
          "wife_age": 24,
          "wife_education": 2,
          "wife_religion": 1
         },
         {
          "contraceptive_method_used": 1,
          "standard_of_living_index": 1,
          "wife_age": 22,
          "wife_education": 2,
          "wife_religion": 1
         },
         {
          "contraceptive_method_used": 1,
          "standard_of_living_index": 3,
          "wife_age": 23,
          "wife_education": 3,
          "wife_religion": 1
         },
         {
          "contraceptive_method_used": 3,
          "standard_of_living_index": 2,
          "wife_age": 26,
          "wife_education": 4,
          "wife_religion": 1
         },
         {
          "contraceptive_method_used": 2,
          "standard_of_living_index": 4,
          "wife_age": 34,
          "wife_education": 4,
          "wife_religion": 1
         },
         {
          "contraceptive_method_used": 2,
          "standard_of_living_index": 4,
          "wife_age": 39,
          "wife_education": 4,
          "wife_religion": 1
         },
         {
          "contraceptive_method_used": 1,
          "standard_of_living_index": 2,
          "wife_age": 36,
          "wife_education": 2,
          "wife_religion": 1
         },
         {
          "contraceptive_method_used": 1,
          "standard_of_living_index": 1,
          "wife_age": 22,
          "wife_education": 2,
          "wife_religion": 1
         },
         {
          "contraceptive_method_used": 3,
          "standard_of_living_index": 3,
          "wife_age": 28,
          "wife_education": 2,
          "wife_religion": 1
         },
         {
          "contraceptive_method_used": 2,
          "standard_of_living_index": 4,
          "wife_age": 45,
          "wife_education": 3,
          "wife_religion": 1
         },
         {
          "contraceptive_method_used": 2,
          "standard_of_living_index": 3,
          "wife_age": 33,
          "wife_education": 4,
          "wife_religion": 0
         },
         {
          "contraceptive_method_used": 2,
          "standard_of_living_index": 4,
          "wife_age": 21,
          "wife_education": 4,
          "wife_religion": 1
         },
         {
          "contraceptive_method_used": 1,
          "standard_of_living_index": 3,
          "wife_age": 47,
          "wife_education": 2,
          "wife_religion": 1
         },
         {
          "contraceptive_method_used": 3,
          "standard_of_living_index": 2,
          "wife_age": 21,
          "wife_education": 3,
          "wife_religion": 0
         },
         {
          "contraceptive_method_used": 1,
          "standard_of_living_index": 2,
          "wife_age": 21,
          "wife_education": 3,
          "wife_religion": 1
         },
         {
          "contraceptive_method_used": 3,
          "standard_of_living_index": 2,
          "wife_age": 36,
          "wife_education": 4,
          "wife_religion": 0
         },
         {
          "contraceptive_method_used": 1,
          "standard_of_living_index": 4,
          "wife_age": 29,
          "wife_education": 3,
          "wife_religion": 1
         },
         {
          "contraceptive_method_used": 1,
          "standard_of_living_index": 1,
          "wife_age": 38,
          "wife_education": 1,
          "wife_religion": 1
         },
         {
          "contraceptive_method_used": 3,
          "standard_of_living_index": 3,
          "wife_age": 22,
          "wife_education": 3,
          "wife_religion": 1
         },
         {
          "contraceptive_method_used": 1,
          "standard_of_living_index": 4,
          "wife_age": 28,
          "wife_education": 4,
          "wife_religion": 0
         },
         {
          "contraceptive_method_used": 3,
          "standard_of_living_index": 3,
          "wife_age": 24,
          "wife_education": 2,
          "wife_religion": 1
         },
         {
          "contraceptive_method_used": 2,
          "standard_of_living_index": 2,
          "wife_age": 22,
          "wife_education": 4,
          "wife_religion": 1
         },
         {
          "contraceptive_method_used": 1,
          "standard_of_living_index": 4,
          "wife_age": 22,
          "wife_education": 4,
          "wife_religion": 1
         },
         {
          "contraceptive_method_used": 2,
          "standard_of_living_index": 4,
          "wife_age": 41,
          "wife_education": 4,
          "wife_religion": 0
         },
         {
          "contraceptive_method_used": 1,
          "standard_of_living_index": 4,
          "wife_age": 29,
          "wife_education": 2,
          "wife_religion": 1
         },
         {
          "contraceptive_method_used": 1,
          "standard_of_living_index": 1,
          "wife_age": 46,
          "wife_education": 1,
          "wife_religion": 1
         },
         {
          "contraceptive_method_used": 1,
          "standard_of_living_index": 3,
          "wife_age": 23,
          "wife_education": 3,
          "wife_religion": 1
         },
         {
          "contraceptive_method_used": 2,
          "standard_of_living_index": 4,
          "wife_age": 34,
          "wife_education": 4,
          "wife_religion": 1
         },
         {
          "contraceptive_method_used": 3,
          "standard_of_living_index": 4,
          "wife_age": 35,
          "wife_education": 4,
          "wife_religion": 1
         },
         {
          "contraceptive_method_used": 3,
          "standard_of_living_index": 3,
          "wife_age": 47,
          "wife_education": 4,
          "wife_religion": 1
         },
         {
          "contraceptive_method_used": 2,
          "standard_of_living_index": 4,
          "wife_age": 33,
          "wife_education": 2,
          "wife_religion": 1
         },
         {
          "contraceptive_method_used": 1,
          "standard_of_living_index": 4,
          "wife_age": 22,
          "wife_education": 3,
          "wife_religion": 1
         },
         {
          "contraceptive_method_used": 1,
          "standard_of_living_index": 4,
          "wife_age": 43,
          "wife_education": 4,
          "wife_religion": 0
         },
         {
          "contraceptive_method_used": 2,
          "standard_of_living_index": 4,
          "wife_age": 26,
          "wife_education": 1,
          "wife_religion": 1
         },
         {
          "contraceptive_method_used": 1,
          "standard_of_living_index": 4,
          "wife_age": 30,
          "wife_education": 2,
          "wife_religion": 1
         },
         {
          "contraceptive_method_used": 3,
          "standard_of_living_index": 1,
          "wife_age": 16,
          "wife_education": 2,
          "wife_religion": 1
         },
         {
          "contraceptive_method_used": 3,
          "standard_of_living_index": 4,
          "wife_age": 28,
          "wife_education": 4,
          "wife_religion": 0
         },
         {
          "contraceptive_method_used": 2,
          "standard_of_living_index": 4,
          "wife_age": 27,
          "wife_education": 3,
          "wife_religion": 0
         },
         {
          "contraceptive_method_used": 3,
          "standard_of_living_index": 3,
          "wife_age": 21,
          "wife_education": 3,
          "wife_religion": 1
         },
         {
          "contraceptive_method_used": 3,
          "standard_of_living_index": 3,
          "wife_age": 21,
          "wife_education": 3,
          "wife_religion": 1
         },
         {
          "contraceptive_method_used": 1,
          "standard_of_living_index": 4,
          "wife_age": 30,
          "wife_education": 3,
          "wife_religion": 1
         },
         {
          "contraceptive_method_used": 1,
          "standard_of_living_index": 3,
          "wife_age": 22,
          "wife_education": 4,
          "wife_religion": 1
         },
         {
          "contraceptive_method_used": 1,
          "standard_of_living_index": 2,
          "wife_age": 34,
          "wife_education": 2,
          "wife_religion": 1
         },
         {
          "contraceptive_method_used": 3,
          "standard_of_living_index": 1,
          "wife_age": 25,
          "wife_education": 1,
          "wife_religion": 1
         },
         {
          "contraceptive_method_used": 1,
          "standard_of_living_index": 2,
          "wife_age": 27,
          "wife_education": 2,
          "wife_religion": 1
         },
         {
          "contraceptive_method_used": 1,
          "standard_of_living_index": 4,
          "wife_age": 31,
          "wife_education": 3,
          "wife_religion": 1
         },
         {
          "contraceptive_method_used": 2,
          "standard_of_living_index": 4,
          "wife_age": 25,
          "wife_education": 4,
          "wife_religion": 1
         },
         {
          "contraceptive_method_used": 3,
          "standard_of_living_index": 4,
          "wife_age": 30,
          "wife_education": 4,
          "wife_religion": 1
         },
         {
          "contraceptive_method_used": 2,
          "standard_of_living_index": 4,
          "wife_age": 36,
          "wife_education": 4,
          "wife_religion": 1
         },
         {
          "contraceptive_method_used": 3,
          "standard_of_living_index": 2,
          "wife_age": 23,
          "wife_education": 1,
          "wife_religion": 1
         },
         {
          "contraceptive_method_used": 2,
          "standard_of_living_index": 3,
          "wife_age": 26,
          "wife_education": 4,
          "wife_religion": 1
         },
         {
          "contraceptive_method_used": 3,
          "standard_of_living_index": 4,
          "wife_age": 20,
          "wife_education": 4,
          "wife_religion": 1
         },
         {
          "contraceptive_method_used": 3,
          "standard_of_living_index": 4,
          "wife_age": 27,
          "wife_education": 4,
          "wife_religion": 0
         },
         {
          "contraceptive_method_used": 2,
          "standard_of_living_index": 4,
          "wife_age": 37,
          "wife_education": 4,
          "wife_religion": 0
         },
         {
          "contraceptive_method_used": 1,
          "standard_of_living_index": 4,
          "wife_age": 38,
          "wife_education": 4,
          "wife_religion": 1
         },
         {
          "contraceptive_method_used": 3,
          "standard_of_living_index": 2,
          "wife_age": 26,
          "wife_education": 3,
          "wife_religion": 1
         },
         {
          "contraceptive_method_used": 1,
          "standard_of_living_index": 4,
          "wife_age": 37,
          "wife_education": 3,
          "wife_religion": 1
         },
         {
          "contraceptive_method_used": 1,
          "standard_of_living_index": 3,
          "wife_age": 45,
          "wife_education": 4,
          "wife_religion": 1
         },
         {
          "contraceptive_method_used": 2,
          "standard_of_living_index": 3,
          "wife_age": 24,
          "wife_education": 2,
          "wife_religion": 1
         },
         {
          "contraceptive_method_used": 3,
          "standard_of_living_index": 4,
          "wife_age": 46,
          "wife_education": 3,
          "wife_religion": 1
         },
         {
          "contraceptive_method_used": 2,
          "standard_of_living_index": 4,
          "wife_age": 31,
          "wife_education": 4,
          "wife_religion": 1
         },
         {
          "contraceptive_method_used": 1,
          "standard_of_living_index": 3,
          "wife_age": 47,
          "wife_education": 3,
          "wife_religion": 1
         },
         {
          "contraceptive_method_used": 3,
          "standard_of_living_index": 3,
          "wife_age": 29,
          "wife_education": 2,
          "wife_religion": 1
         },
         {
          "contraceptive_method_used": 1,
          "standard_of_living_index": 2,
          "wife_age": 47,
          "wife_education": 2,
          "wife_religion": 1
         },
         {
          "contraceptive_method_used": 1,
          "standard_of_living_index": 4,
          "wife_age": 31,
          "wife_education": 3,
          "wife_religion": 1
         },
         {
          "contraceptive_method_used": 3,
          "standard_of_living_index": 2,
          "wife_age": 23,
          "wife_education": 3,
          "wife_religion": 1
         },
         {
          "contraceptive_method_used": 3,
          "standard_of_living_index": 1,
          "wife_age": 25,
          "wife_education": 2,
          "wife_religion": 1
         },
         {
          "contraceptive_method_used": 3,
          "standard_of_living_index": 4,
          "wife_age": 34,
          "wife_education": 4,
          "wife_religion": 0
         },
         {
          "contraceptive_method_used": 3,
          "standard_of_living_index": 2,
          "wife_age": 17,
          "wife_education": 2,
          "wife_religion": 1
         },
         {
          "contraceptive_method_used": 3,
          "standard_of_living_index": 3,
          "wife_age": 21,
          "wife_education": 4,
          "wife_religion": 1
         },
         {
          "contraceptive_method_used": 1,
          "standard_of_living_index": 3,
          "wife_age": 20,
          "wife_education": 3,
          "wife_religion": 1
         },
         {
          "contraceptive_method_used": 1,
          "standard_of_living_index": 4,
          "wife_age": 28,
          "wife_education": 4,
          "wife_religion": 0
         },
         {
          "contraceptive_method_used": 2,
          "standard_of_living_index": 3,
          "wife_age": 30,
          "wife_education": 4,
          "wife_religion": 1
         },
         {
          "contraceptive_method_used": 2,
          "standard_of_living_index": 2,
          "wife_age": 38,
          "wife_education": 2,
          "wife_religion": 1
         },
         {
          "contraceptive_method_used": 3,
          "standard_of_living_index": 4,
          "wife_age": 41,
          "wife_education": 3,
          "wife_religion": 0
         },
         {
          "contraceptive_method_used": 1,
          "standard_of_living_index": 4,
          "wife_age": 42,
          "wife_education": 4,
          "wife_religion": 1
         },
         {
          "contraceptive_method_used": 3,
          "standard_of_living_index": 3,
          "wife_age": 23,
          "wife_education": 4,
          "wife_religion": 1
         },
         {
          "contraceptive_method_used": 2,
          "standard_of_living_index": 3,
          "wife_age": 19,
          "wife_education": 4,
          "wife_religion": 1
         },
         {
          "contraceptive_method_used": 3,
          "standard_of_living_index": 4,
          "wife_age": 32,
          "wife_education": 4,
          "wife_religion": 1
         },
         {
          "contraceptive_method_used": 3,
          "standard_of_living_index": 3,
          "wife_age": 32,
          "wife_education": 1,
          "wife_religion": 1
         },
         {
          "contraceptive_method_used": 2,
          "standard_of_living_index": 2,
          "wife_age": 34,
          "wife_education": 2,
          "wife_religion": 1
         },
         {
          "contraceptive_method_used": 1,
          "standard_of_living_index": 3,
          "wife_age": 43,
          "wife_education": 2,
          "wife_religion": 1
         },
         {
          "contraceptive_method_used": 1,
          "standard_of_living_index": 4,
          "wife_age": 21,
          "wife_education": 1,
          "wife_religion": 1
         },
         {
          "contraceptive_method_used": 3,
          "standard_of_living_index": 3,
          "wife_age": 25,
          "wife_education": 2,
          "wife_religion": 1
         },
         {
          "contraceptive_method_used": 3,
          "standard_of_living_index": 2,
          "wife_age": 32,
          "wife_education": 2,
          "wife_religion": 1
         },
         {
          "contraceptive_method_used": 3,
          "standard_of_living_index": 4,
          "wife_age": 34,
          "wife_education": 4,
          "wife_religion": 1
         },
         {
          "contraceptive_method_used": 1,
          "standard_of_living_index": 4,
          "wife_age": 38,
          "wife_education": 4,
          "wife_religion": 1
         },
         {
          "contraceptive_method_used": 3,
          "standard_of_living_index": 4,
          "wife_age": 28,
          "wife_education": 4,
          "wife_religion": 0
         },
         {
          "contraceptive_method_used": 1,
          "standard_of_living_index": 4,
          "wife_age": 42,
          "wife_education": 1,
          "wife_religion": 1
         },
         {
          "contraceptive_method_used": 3,
          "standard_of_living_index": 1,
          "wife_age": 25,
          "wife_education": 3,
          "wife_religion": 1
         },
         {
          "contraceptive_method_used": 2,
          "standard_of_living_index": 4,
          "wife_age": 29,
          "wife_education": 4,
          "wife_religion": 1
         },
         {
          "contraceptive_method_used": 3,
          "standard_of_living_index": 4,
          "wife_age": 29,
          "wife_education": 4,
          "wife_religion": 1
         },
         {
          "contraceptive_method_used": 3,
          "standard_of_living_index": 3,
          "wife_age": 30,
          "wife_education": 2,
          "wife_religion": 1
         },
         {
          "contraceptive_method_used": 2,
          "standard_of_living_index": 4,
          "wife_age": 49,
          "wife_education": 3,
          "wife_religion": 1
         },
         {
          "contraceptive_method_used": 2,
          "standard_of_living_index": 4,
          "wife_age": 35,
          "wife_education": 4,
          "wife_religion": 0
         },
         {
          "contraceptive_method_used": 3,
          "standard_of_living_index": 4,
          "wife_age": 30,
          "wife_education": 1,
          "wife_religion": 1
         },
         {
          "contraceptive_method_used": 1,
          "standard_of_living_index": 1,
          "wife_age": 45,
          "wife_education": 2,
          "wife_religion": 1
         },
         {
          "contraceptive_method_used": 3,
          "standard_of_living_index": 3,
          "wife_age": 25,
          "wife_education": 2,
          "wife_religion": 1
         },
         {
          "contraceptive_method_used": 2,
          "standard_of_living_index": 3,
          "wife_age": 34,
          "wife_education": 4,
          "wife_religion": 1
         },
         {
          "contraceptive_method_used": 3,
          "standard_of_living_index": 4,
          "wife_age": 28,
          "wife_education": 2,
          "wife_religion": 1
         },
         {
          "contraceptive_method_used": 2,
          "standard_of_living_index": 4,
          "wife_age": 45,
          "wife_education": 3,
          "wife_religion": 0
         },
         {
          "contraceptive_method_used": 1,
          "standard_of_living_index": 3,
          "wife_age": 40,
          "wife_education": 2,
          "wife_religion": 1
         },
         {
          "contraceptive_method_used": 1,
          "standard_of_living_index": 3,
          "wife_age": 26,
          "wife_education": 4,
          "wife_religion": 1
         },
         {
          "contraceptive_method_used": 3,
          "standard_of_living_index": 4,
          "wife_age": 29,
          "wife_education": 1,
          "wife_religion": 1
         },
         {
          "contraceptive_method_used": 1,
          "standard_of_living_index": 4,
          "wife_age": 44,
          "wife_education": 4,
          "wife_religion": 0
         },
         {
          "contraceptive_method_used": 2,
          "standard_of_living_index": 4,
          "wife_age": 42,
          "wife_education": 4,
          "wife_religion": 1
         },
         {
          "contraceptive_method_used": 1,
          "standard_of_living_index": 1,
          "wife_age": 36,
          "wife_education": 2,
          "wife_religion": 1
         },
         {
          "contraceptive_method_used": 3,
          "standard_of_living_index": 4,
          "wife_age": 35,
          "wife_education": 4,
          "wife_religion": 0
         },
         {
          "contraceptive_method_used": 2,
          "standard_of_living_index": 2,
          "wife_age": 29,
          "wife_education": 4,
          "wife_religion": 1
         },
         {
          "contraceptive_method_used": 3,
          "standard_of_living_index": 4,
          "wife_age": 39,
          "wife_education": 3,
          "wife_religion": 1
         },
         {
          "contraceptive_method_used": 3,
          "standard_of_living_index": 1,
          "wife_age": 22,
          "wife_education": 4,
          "wife_religion": 0
         },
         {
          "contraceptive_method_used": 3,
          "standard_of_living_index": 4,
          "wife_age": 39,
          "wife_education": 1,
          "wife_religion": 1
         },
         {
          "contraceptive_method_used": 2,
          "standard_of_living_index": 4,
          "wife_age": 47,
          "wife_education": 1,
          "wife_religion": 1
         },
         {
          "contraceptive_method_used": 3,
          "standard_of_living_index": 3,
          "wife_age": 36,
          "wife_education": 2,
          "wife_religion": 1
         },
         {
          "contraceptive_method_used": 2,
          "standard_of_living_index": 4,
          "wife_age": 25,
          "wife_education": 4,
          "wife_religion": 1
         },
         {
          "contraceptive_method_used": 3,
          "standard_of_living_index": 4,
          "wife_age": 31,
          "wife_education": 4,
          "wife_religion": 1
         },
         {
          "contraceptive_method_used": 1,
          "standard_of_living_index": 2,
          "wife_age": 38,
          "wife_education": 2,
          "wife_religion": 1
         },
         {
          "contraceptive_method_used": 3,
          "standard_of_living_index": 3,
          "wife_age": 21,
          "wife_education": 2,
          "wife_religion": 1
         },
         {
          "contraceptive_method_used": 3,
          "standard_of_living_index": 2,
          "wife_age": 27,
          "wife_education": 4,
          "wife_religion": 1
         },
         {
          "contraceptive_method_used": 1,
          "standard_of_living_index": 2,
          "wife_age": 26,
          "wife_education": 2,
          "wife_religion": 1
         },
         {
          "contraceptive_method_used": 1,
          "standard_of_living_index": 2,
          "wife_age": 38,
          "wife_education": 2,
          "wife_religion": 1
         },
         {
          "contraceptive_method_used": 1,
          "standard_of_living_index": 1,
          "wife_age": 33,
          "wife_education": 1,
          "wife_religion": 1
         },
         {
          "contraceptive_method_used": 2,
          "standard_of_living_index": 4,
          "wife_age": 32,
          "wife_education": 3,
          "wife_religion": 1
         },
         {
          "contraceptive_method_used": 1,
          "standard_of_living_index": 4,
          "wife_age": 45,
          "wife_education": 2,
          "wife_religion": 1
         },
         {
          "contraceptive_method_used": 2,
          "standard_of_living_index": 3,
          "wife_age": 26,
          "wife_education": 3,
          "wife_religion": 1
         },
         {
          "contraceptive_method_used": 1,
          "standard_of_living_index": 2,
          "wife_age": 21,
          "wife_education": 1,
          "wife_religion": 1
         },
         {
          "contraceptive_method_used": 2,
          "standard_of_living_index": 4,
          "wife_age": 38,
          "wife_education": 4,
          "wife_religion": 1
         },
         {
          "contraceptive_method_used": 1,
          "standard_of_living_index": 4,
          "wife_age": 37,
          "wife_education": 4,
          "wife_religion": 1
         },
         {
          "contraceptive_method_used": 2,
          "standard_of_living_index": 2,
          "wife_age": 38,
          "wife_education": 2,
          "wife_religion": 1
         },
         {
          "contraceptive_method_used": 3,
          "standard_of_living_index": 4,
          "wife_age": 41,
          "wife_education": 4,
          "wife_religion": 1
         },
         {
          "contraceptive_method_used": 2,
          "standard_of_living_index": 4,
          "wife_age": 25,
          "wife_education": 2,
          "wife_religion": 1
         },
         {
          "contraceptive_method_used": 1,
          "standard_of_living_index": 4,
          "wife_age": 33,
          "wife_education": 4,
          "wife_religion": 1
         },
         {
          "contraceptive_method_used": 1,
          "standard_of_living_index": 3,
          "wife_age": 41,
          "wife_education": 2,
          "wife_religion": 1
         },
         {
          "contraceptive_method_used": 1,
          "standard_of_living_index": 1,
          "wife_age": 37,
          "wife_education": 3,
          "wife_religion": 1
         },
         {
          "contraceptive_method_used": 3,
          "standard_of_living_index": 4,
          "wife_age": 34,
          "wife_education": 3,
          "wife_religion": 1
         },
         {
          "contraceptive_method_used": 1,
          "standard_of_living_index": 1,
          "wife_age": 25,
          "wife_education": 2,
          "wife_religion": 1
         },
         {
          "contraceptive_method_used": 1,
          "standard_of_living_index": 4,
          "wife_age": 44,
          "wife_education": 3,
          "wife_religion": 1
         },
         {
          "contraceptive_method_used": 3,
          "standard_of_living_index": 1,
          "wife_age": 31,
          "wife_education": 3,
          "wife_religion": 1
         },
         {
          "contraceptive_method_used": 1,
          "standard_of_living_index": 3,
          "wife_age": 43,
          "wife_education": 3,
          "wife_religion": 1
         },
         {
          "contraceptive_method_used": 3,
          "standard_of_living_index": 4,
          "wife_age": 37,
          "wife_education": 4,
          "wife_religion": 1
         },
         {
          "contraceptive_method_used": 2,
          "standard_of_living_index": 3,
          "wife_age": 38,
          "wife_education": 4,
          "wife_religion": 1
         },
         {
          "contraceptive_method_used": 3,
          "standard_of_living_index": 4,
          "wife_age": 33,
          "wife_education": 3,
          "wife_religion": 1
         },
         {
          "contraceptive_method_used": 1,
          "standard_of_living_index": 4,
          "wife_age": 44,
          "wife_education": 4,
          "wife_religion": 1
         },
         {
          "contraceptive_method_used": 1,
          "standard_of_living_index": 3,
          "wife_age": 30,
          "wife_education": 4,
          "wife_religion": 1
         },
         {
          "contraceptive_method_used": 3,
          "standard_of_living_index": 3,
          "wife_age": 44,
          "wife_education": 4,
          "wife_religion": 0
         },
         {
          "contraceptive_method_used": 3,
          "standard_of_living_index": 2,
          "wife_age": 30,
          "wife_education": 2,
          "wife_religion": 1
         },
         {
          "contraceptive_method_used": 1,
          "standard_of_living_index": 3,
          "wife_age": 44,
          "wife_education": 4,
          "wife_religion": 1
         },
         {
          "contraceptive_method_used": 3,
          "standard_of_living_index": 1,
          "wife_age": 21,
          "wife_education": 2,
          "wife_religion": 1
         },
         {
          "contraceptive_method_used": 3,
          "standard_of_living_index": 4,
          "wife_age": 43,
          "wife_education": 4,
          "wife_religion": 0
         },
         {
          "contraceptive_method_used": 3,
          "standard_of_living_index": 4,
          "wife_age": 32,
          "wife_education": 4,
          "wife_religion": 1
         },
         {
          "contraceptive_method_used": 2,
          "standard_of_living_index": 4,
          "wife_age": 18,
          "wife_education": 3,
          "wife_religion": 1
         },
         {
          "contraceptive_method_used": 2,
          "standard_of_living_index": 2,
          "wife_age": 34,
          "wife_education": 4,
          "wife_religion": 0
         },
         {
          "contraceptive_method_used": 1,
          "standard_of_living_index": 1,
          "wife_age": 39,
          "wife_education": 1,
          "wife_religion": 1
         },
         {
          "contraceptive_method_used": 1,
          "standard_of_living_index": 4,
          "wife_age": 27,
          "wife_education": 3,
          "wife_religion": 1
         },
         {
          "contraceptive_method_used": 1,
          "standard_of_living_index": 2,
          "wife_age": 21,
          "wife_education": 3,
          "wife_religion": 1
         },
         {
          "contraceptive_method_used": 3,
          "standard_of_living_index": 3,
          "wife_age": 23,
          "wife_education": 2,
          "wife_religion": 1
         },
         {
          "contraceptive_method_used": 1,
          "standard_of_living_index": 3,
          "wife_age": 44,
          "wife_education": 3,
          "wife_religion": 1
         },
         {
          "contraceptive_method_used": 1,
          "standard_of_living_index": 3,
          "wife_age": 43,
          "wife_education": 2,
          "wife_religion": 0
         },
         {
          "contraceptive_method_used": 1,
          "standard_of_living_index": 3,
          "wife_age": 27,
          "wife_education": 3,
          "wife_religion": 1
         },
         {
          "contraceptive_method_used": 1,
          "standard_of_living_index": 3,
          "wife_age": 45,
          "wife_education": 3,
          "wife_religion": 1
         },
         {
          "contraceptive_method_used": 3,
          "standard_of_living_index": 2,
          "wife_age": 27,
          "wife_education": 3,
          "wife_religion": 1
         },
         {
          "contraceptive_method_used": 2,
          "standard_of_living_index": 4,
          "wife_age": 41,
          "wife_education": 3,
          "wife_religion": 1
         },
         {
          "contraceptive_method_used": 1,
          "standard_of_living_index": 2,
          "wife_age": 27,
          "wife_education": 4,
          "wife_religion": 1
         },
         {
          "contraceptive_method_used": 3,
          "standard_of_living_index": 1,
          "wife_age": 21,
          "wife_education": 3,
          "wife_religion": 1
         },
         {
          "contraceptive_method_used": 2,
          "standard_of_living_index": 3,
          "wife_age": 27,
          "wife_education": 4,
          "wife_religion": 1
         },
         {
          "contraceptive_method_used": 3,
          "standard_of_living_index": 2,
          "wife_age": 35,
          "wife_education": 2,
          "wife_religion": 1
         },
         {
          "contraceptive_method_used": 2,
          "standard_of_living_index": 3,
          "wife_age": 47,
          "wife_education": 1,
          "wife_religion": 1
         },
         {
          "contraceptive_method_used": 1,
          "standard_of_living_index": 3,
          "wife_age": 36,
          "wife_education": 2,
          "wife_religion": 1
         },
         {
          "contraceptive_method_used": 3,
          "standard_of_living_index": 4,
          "wife_age": 30,
          "wife_education": 2,
          "wife_religion": 1
         },
         {
          "contraceptive_method_used": 3,
          "standard_of_living_index": 1,
          "wife_age": 22,
          "wife_education": 3,
          "wife_religion": 1
         },
         {
          "contraceptive_method_used": 1,
          "standard_of_living_index": 2,
          "wife_age": 26,
          "wife_education": 3,
          "wife_religion": 0
         },
         {
          "contraceptive_method_used": 2,
          "standard_of_living_index": 2,
          "wife_age": 22,
          "wife_education": 4,
          "wife_religion": 1
         },
         {
          "contraceptive_method_used": 1,
          "standard_of_living_index": 3,
          "wife_age": 36,
          "wife_education": 2,
          "wife_religion": 0
         },
         {
          "contraceptive_method_used": 3,
          "standard_of_living_index": 4,
          "wife_age": 25,
          "wife_education": 3,
          "wife_religion": 1
         },
         {
          "contraceptive_method_used": 3,
          "standard_of_living_index": 3,
          "wife_age": 25,
          "wife_education": 1,
          "wife_religion": 1
         },
         {
          "contraceptive_method_used": 2,
          "standard_of_living_index": 4,
          "wife_age": 23,
          "wife_education": 4,
          "wife_religion": 1
         },
         {
          "contraceptive_method_used": 1,
          "standard_of_living_index": 3,
          "wife_age": 46,
          "wife_education": 1,
          "wife_religion": 1
         },
         {
          "contraceptive_method_used": 1,
          "standard_of_living_index": 1,
          "wife_age": 27,
          "wife_education": 2,
          "wife_religion": 1
         },
         {
          "contraceptive_method_used": 3,
          "standard_of_living_index": 1,
          "wife_age": 24,
          "wife_education": 2,
          "wife_religion": 1
         },
         {
          "contraceptive_method_used": 3,
          "standard_of_living_index": 2,
          "wife_age": 35,
          "wife_education": 2,
          "wife_religion": 1
         },
         {
          "contraceptive_method_used": 1,
          "standard_of_living_index": 2,
          "wife_age": 28,
          "wife_education": 3,
          "wife_religion": 1
         },
         {
          "contraceptive_method_used": 1,
          "standard_of_living_index": 4,
          "wife_age": 25,
          "wife_education": 3,
          "wife_religion": 1
         },
         {
          "contraceptive_method_used": 2,
          "standard_of_living_index": 4,
          "wife_age": 33,
          "wife_education": 3,
          "wife_religion": 1
         },
         {
          "contraceptive_method_used": 3,
          "standard_of_living_index": 3,
          "wife_age": 41,
          "wife_education": 4,
          "wife_religion": 1
         },
         {
          "contraceptive_method_used": 1,
          "standard_of_living_index": 3,
          "wife_age": 41,
          "wife_education": 3,
          "wife_religion": 1
         },
         {
          "contraceptive_method_used": 1,
          "standard_of_living_index": 3,
          "wife_age": 46,
          "wife_education": 4,
          "wife_religion": 1
         },
         {
          "contraceptive_method_used": 3,
          "standard_of_living_index": 4,
          "wife_age": 43,
          "wife_education": 4,
          "wife_religion": 1
         },
         {
          "contraceptive_method_used": 1,
          "standard_of_living_index": 4,
          "wife_age": 25,
          "wife_education": 4,
          "wife_religion": 1
         },
         {
          "contraceptive_method_used": 3,
          "standard_of_living_index": 2,
          "wife_age": 22,
          "wife_education": 3,
          "wife_religion": 1
         },
         {
          "contraceptive_method_used": 3,
          "standard_of_living_index": 4,
          "wife_age": 21,
          "wife_education": 4,
          "wife_religion": 0
         },
         {
          "contraceptive_method_used": 1,
          "standard_of_living_index": 3,
          "wife_age": 48,
          "wife_education": 2,
          "wife_religion": 1
         },
         {
          "contraceptive_method_used": 2,
          "standard_of_living_index": 2,
          "wife_age": 28,
          "wife_education": 3,
          "wife_religion": 1
         },
         {
          "contraceptive_method_used": 1,
          "standard_of_living_index": 4,
          "wife_age": 25,
          "wife_education": 3,
          "wife_religion": 1
         },
         {
          "contraceptive_method_used": 2,
          "standard_of_living_index": 4,
          "wife_age": 33,
          "wife_education": 4,
          "wife_religion": 1
         },
         {
          "contraceptive_method_used": 3,
          "standard_of_living_index": 4,
          "wife_age": 31,
          "wife_education": 4,
          "wife_religion": 1
         },
         {
          "contraceptive_method_used": 1,
          "standard_of_living_index": 4,
          "wife_age": 25,
          "wife_education": 4,
          "wife_religion": 0
         },
         {
          "contraceptive_method_used": 2,
          "standard_of_living_index": 3,
          "wife_age": 32,
          "wife_education": 3,
          "wife_religion": 1
         },
         {
          "contraceptive_method_used": 1,
          "standard_of_living_index": 4,
          "wife_age": 45,
          "wife_education": 4,
          "wife_religion": 1
         },
         {
          "contraceptive_method_used": 1,
          "standard_of_living_index": 4,
          "wife_age": 26,
          "wife_education": 4,
          "wife_religion": 1
         },
         {
          "contraceptive_method_used": 2,
          "standard_of_living_index": 4,
          "wife_age": 36,
          "wife_education": 4,
          "wife_religion": 1
         },
         {
          "contraceptive_method_used": 1,
          "standard_of_living_index": 3,
          "wife_age": 27,
          "wife_education": 3,
          "wife_religion": 1
         },
         {
          "contraceptive_method_used": 1,
          "standard_of_living_index": 3,
          "wife_age": 32,
          "wife_education": 4,
          "wife_religion": 1
         },
         {
          "contraceptive_method_used": 3,
          "standard_of_living_index": 3,
          "wife_age": 24,
          "wife_education": 4,
          "wife_religion": 1
         },
         {
          "contraceptive_method_used": 2,
          "standard_of_living_index": 4,
          "wife_age": 39,
          "wife_education": 4,
          "wife_religion": 1
         },
         {
          "contraceptive_method_used": 3,
          "standard_of_living_index": 1,
          "wife_age": 31,
          "wife_education": 3,
          "wife_religion": 1
         },
         {
          "contraceptive_method_used": 3,
          "standard_of_living_index": 3,
          "wife_age": 30,
          "wife_education": 4,
          "wife_religion": 1
         },
         {
          "contraceptive_method_used": 1,
          "standard_of_living_index": 4,
          "wife_age": 20,
          "wife_education": 2,
          "wife_religion": 1
         },
         {
          "contraceptive_method_used": 2,
          "standard_of_living_index": 4,
          "wife_age": 23,
          "wife_education": 4,
          "wife_religion": 1
         },
         {
          "contraceptive_method_used": 3,
          "standard_of_living_index": 4,
          "wife_age": 35,
          "wife_education": 2,
          "wife_religion": 1
         },
         {
          "contraceptive_method_used": 1,
          "standard_of_living_index": 4,
          "wife_age": 37,
          "wife_education": 3,
          "wife_religion": 1
         },
         {
          "contraceptive_method_used": 1,
          "standard_of_living_index": 1,
          "wife_age": 30,
          "wife_education": 1,
          "wife_religion": 1
         },
         {
          "contraceptive_method_used": 2,
          "standard_of_living_index": 4,
          "wife_age": 27,
          "wife_education": 4,
          "wife_religion": 0
         },
         {
          "contraceptive_method_used": 3,
          "standard_of_living_index": 2,
          "wife_age": 25,
          "wife_education": 2,
          "wife_religion": 1
         },
         {
          "contraceptive_method_used": 2,
          "standard_of_living_index": 3,
          "wife_age": 28,
          "wife_education": 2,
          "wife_religion": 1
         },
         {
          "contraceptive_method_used": 2,
          "standard_of_living_index": 4,
          "wife_age": 33,
          "wife_education": 4,
          "wife_religion": 1
         },
         {
          "contraceptive_method_used": 1,
          "standard_of_living_index": 3,
          "wife_age": 28,
          "wife_education": 3,
          "wife_religion": 1
         },
         {
          "contraceptive_method_used": 3,
          "standard_of_living_index": 4,
          "wife_age": 37,
          "wife_education": 4,
          "wife_religion": 1
         },
         {
          "contraceptive_method_used": 1,
          "standard_of_living_index": 3,
          "wife_age": 25,
          "wife_education": 4,
          "wife_religion": 0
         },
         {
          "contraceptive_method_used": 1,
          "standard_of_living_index": 4,
          "wife_age": 44,
          "wife_education": 3,
          "wife_religion": 1
         },
         {
          "contraceptive_method_used": 1,
          "standard_of_living_index": 4,
          "wife_age": 16,
          "wife_education": 2,
          "wife_religion": 1
         },
         {
          "contraceptive_method_used": 3,
          "standard_of_living_index": 4,
          "wife_age": 33,
          "wife_education": 4,
          "wife_religion": 1
         },
         {
          "contraceptive_method_used": 3,
          "standard_of_living_index": 2,
          "wife_age": 32,
          "wife_education": 3,
          "wife_religion": 1
         },
         {
          "contraceptive_method_used": 1,
          "standard_of_living_index": 4,
          "wife_age": 35,
          "wife_education": 4,
          "wife_religion": 1
         },
         {
          "contraceptive_method_used": 2,
          "standard_of_living_index": 4,
          "wife_age": 32,
          "wife_education": 4,
          "wife_religion": 1
         },
         {
          "contraceptive_method_used": 3,
          "standard_of_living_index": 3,
          "wife_age": 25,
          "wife_education": 3,
          "wife_religion": 1
         },
         {
          "contraceptive_method_used": 2,
          "standard_of_living_index": 4,
          "wife_age": 38,
          "wife_education": 4,
          "wife_religion": 1
         },
         {
          "contraceptive_method_used": 3,
          "standard_of_living_index": 4,
          "wife_age": 30,
          "wife_education": 4,
          "wife_religion": 1
         },
         {
          "contraceptive_method_used": 3,
          "standard_of_living_index": 4,
          "wife_age": 23,
          "wife_education": 2,
          "wife_religion": 1
         },
         {
          "contraceptive_method_used": 1,
          "standard_of_living_index": 2,
          "wife_age": 19,
          "wife_education": 2,
          "wife_religion": 1
         },
         {
          "contraceptive_method_used": 3,
          "standard_of_living_index": 4,
          "wife_age": 40,
          "wife_education": 2,
          "wife_religion": 0
         },
         {
          "contraceptive_method_used": 2,
          "standard_of_living_index": 3,
          "wife_age": 26,
          "wife_education": 3,
          "wife_religion": 1
         },
         {
          "contraceptive_method_used": 1,
          "standard_of_living_index": 4,
          "wife_age": 31,
          "wife_education": 3,
          "wife_religion": 1
         },
         {
          "contraceptive_method_used": 2,
          "standard_of_living_index": 4,
          "wife_age": 37,
          "wife_education": 4,
          "wife_religion": 1
         },
         {
          "contraceptive_method_used": 1,
          "standard_of_living_index": 1,
          "wife_age": 24,
          "wife_education": 2,
          "wife_religion": 1
         },
         {
          "contraceptive_method_used": 3,
          "standard_of_living_index": 2,
          "wife_age": 30,
          "wife_education": 4,
          "wife_religion": 1
         },
         {
          "contraceptive_method_used": 3,
          "standard_of_living_index": 4,
          "wife_age": 26,
          "wife_education": 3,
          "wife_religion": 1
         },
         {
          "contraceptive_method_used": 2,
          "standard_of_living_index": 4,
          "wife_age": 44,
          "wife_education": 4,
          "wife_religion": 1
         },
         {
          "contraceptive_method_used": 1,
          "standard_of_living_index": 2,
          "wife_age": 46,
          "wife_education": 3,
          "wife_religion": 1
         },
         {
          "contraceptive_method_used": 3,
          "standard_of_living_index": 4,
          "wife_age": 44,
          "wife_education": 4,
          "wife_religion": 1
         },
         {
          "contraceptive_method_used": 1,
          "standard_of_living_index": 1,
          "wife_age": 48,
          "wife_education": 1,
          "wife_religion": 1
         },
         {
          "contraceptive_method_used": 1,
          "standard_of_living_index": 3,
          "wife_age": 47,
          "wife_education": 1,
          "wife_religion": 1
         },
         {
          "contraceptive_method_used": 1,
          "standard_of_living_index": 3,
          "wife_age": 47,
          "wife_education": 1,
          "wife_religion": 1
         },
         {
          "contraceptive_method_used": 3,
          "standard_of_living_index": 1,
          "wife_age": 27,
          "wife_education": 2,
          "wife_religion": 1
         },
         {
          "contraceptive_method_used": 1,
          "standard_of_living_index": 1,
          "wife_age": 24,
          "wife_education": 3,
          "wife_religion": 1
         },
         {
          "contraceptive_method_used": 3,
          "standard_of_living_index": 4,
          "wife_age": 41,
          "wife_education": 4,
          "wife_religion": 1
         },
         {
          "contraceptive_method_used": 2,
          "standard_of_living_index": 4,
          "wife_age": 32,
          "wife_education": 4,
          "wife_religion": 0
         },
         {
          "contraceptive_method_used": 3,
          "standard_of_living_index": 3,
          "wife_age": 26,
          "wife_education": 2,
          "wife_religion": 1
         },
         {
          "contraceptive_method_used": 3,
          "standard_of_living_index": 3,
          "wife_age": 24,
          "wife_education": 2,
          "wife_religion": 1
         },
         {
          "contraceptive_method_used": 2,
          "standard_of_living_index": 4,
          "wife_age": 20,
          "wife_education": 3,
          "wife_religion": 1
         },
         {
          "contraceptive_method_used": 1,
          "standard_of_living_index": 2,
          "wife_age": 48,
          "wife_education": 1,
          "wife_religion": 1
         },
         {
          "contraceptive_method_used": 1,
          "standard_of_living_index": 2,
          "wife_age": 45,
          "wife_education": 1,
          "wife_religion": 1
         },
         {
          "contraceptive_method_used": 1,
          "standard_of_living_index": 4,
          "wife_age": 30,
          "wife_education": 4,
          "wife_religion": 1
         },
         {
          "contraceptive_method_used": 3,
          "standard_of_living_index": 2,
          "wife_age": 34,
          "wife_education": 2,
          "wife_religion": 0
         },
         {
          "contraceptive_method_used": 1,
          "standard_of_living_index": 3,
          "wife_age": 23,
          "wife_education": 2,
          "wife_religion": 1
         },
         {
          "contraceptive_method_used": 3,
          "standard_of_living_index": 1,
          "wife_age": 29,
          "wife_education": 3,
          "wife_religion": 1
         },
         {
          "contraceptive_method_used": 1,
          "standard_of_living_index": 1,
          "wife_age": 29,
          "wife_education": 2,
          "wife_religion": 1
         },
         {
          "contraceptive_method_used": 1,
          "standard_of_living_index": 4,
          "wife_age": 48,
          "wife_education": 4,
          "wife_religion": 1
         },
         {
          "contraceptive_method_used": 1,
          "standard_of_living_index": 4,
          "wife_age": 27,
          "wife_education": 4,
          "wife_religion": 1
         },
         {
          "contraceptive_method_used": 3,
          "standard_of_living_index": 4,
          "wife_age": 27,
          "wife_education": 2,
          "wife_religion": 1
         },
         {
          "contraceptive_method_used": 1,
          "standard_of_living_index": 4,
          "wife_age": 22,
          "wife_education": 4,
          "wife_religion": 1
         },
         {
          "contraceptive_method_used": 1,
          "standard_of_living_index": 3,
          "wife_age": 47,
          "wife_education": 1,
          "wife_religion": 1
         },
         {
          "contraceptive_method_used": 1,
          "standard_of_living_index": 2,
          "wife_age": 21,
          "wife_education": 2,
          "wife_religion": 1
         },
         {
          "contraceptive_method_used": 1,
          "standard_of_living_index": 2,
          "wife_age": 40,
          "wife_education": 3,
          "wife_religion": 1
         },
         {
          "contraceptive_method_used": 2,
          "standard_of_living_index": 2,
          "wife_age": 21,
          "wife_education": 2,
          "wife_religion": 1
         },
         {
          "contraceptive_method_used": 1,
          "standard_of_living_index": 1,
          "wife_age": 44,
          "wife_education": 1,
          "wife_religion": 1
         },
         {
          "contraceptive_method_used": 3,
          "standard_of_living_index": 3,
          "wife_age": 19,
          "wife_education": 4,
          "wife_religion": 1
         },
         {
          "contraceptive_method_used": 2,
          "standard_of_living_index": 4,
          "wife_age": 45,
          "wife_education": 4,
          "wife_religion": 0
         },
         {
          "contraceptive_method_used": 3,
          "standard_of_living_index": 3,
          "wife_age": 24,
          "wife_education": 4,
          "wife_religion": 1
         },
         {
          "contraceptive_method_used": 3,
          "standard_of_living_index": 4,
          "wife_age": 28,
          "wife_education": 4,
          "wife_religion": 1
         },
         {
          "contraceptive_method_used": 1,
          "standard_of_living_index": 2,
          "wife_age": 32,
          "wife_education": 1,
          "wife_religion": 1
         },
         {
          "contraceptive_method_used": 3,
          "standard_of_living_index": 1,
          "wife_age": 29,
          "wife_education": 2,
          "wife_religion": 1
         },
         {
          "contraceptive_method_used": 2,
          "standard_of_living_index": 1,
          "wife_age": 21,
          "wife_education": 4,
          "wife_religion": 1
         },
         {
          "contraceptive_method_used": 1,
          "standard_of_living_index": 3,
          "wife_age": 40,
          "wife_education": 2,
          "wife_religion": 1
         },
         {
          "contraceptive_method_used": 1,
          "standard_of_living_index": 2,
          "wife_age": 41,
          "wife_education": 2,
          "wife_religion": 0
         },
         {
          "contraceptive_method_used": 1,
          "standard_of_living_index": 3,
          "wife_age": 34,
          "wife_education": 4,
          "wife_religion": 0
         },
         {
          "contraceptive_method_used": 1,
          "standard_of_living_index": 4,
          "wife_age": 49,
          "wife_education": 4,
          "wife_religion": 1
         },
         {
          "contraceptive_method_used": 3,
          "standard_of_living_index": 4,
          "wife_age": 33,
          "wife_education": 2,
          "wife_religion": 1
         },
         {
          "contraceptive_method_used": 3,
          "standard_of_living_index": 4,
          "wife_age": 28,
          "wife_education": 2,
          "wife_religion": 1
         },
         {
          "contraceptive_method_used": 1,
          "standard_of_living_index": 3,
          "wife_age": 33,
          "wife_education": 1,
          "wife_religion": 1
         },
         {
          "contraceptive_method_used": 1,
          "standard_of_living_index": 4,
          "wife_age": 26,
          "wife_education": 2,
          "wife_religion": 1
         },
         {
          "contraceptive_method_used": 1,
          "standard_of_living_index": 4,
          "wife_age": 45,
          "wife_education": 3,
          "wife_religion": 1
         },
         {
          "contraceptive_method_used": 1,
          "standard_of_living_index": 2,
          "wife_age": 28,
          "wife_education": 3,
          "wife_religion": 0
         },
         {
          "contraceptive_method_used": 1,
          "standard_of_living_index": 4,
          "wife_age": 25,
          "wife_education": 4,
          "wife_religion": 1
         },
         {
          "contraceptive_method_used": 3,
          "standard_of_living_index": 2,
          "wife_age": 29,
          "wife_education": 3,
          "wife_religion": 1
         },
         {
          "contraceptive_method_used": 1,
          "standard_of_living_index": 3,
          "wife_age": 45,
          "wife_education": 2,
          "wife_religion": 1
         },
         {
          "contraceptive_method_used": 2,
          "standard_of_living_index": 4,
          "wife_age": 36,
          "wife_education": 3,
          "wife_religion": 0
         },
         {
          "contraceptive_method_used": 1,
          "standard_of_living_index": 2,
          "wife_age": 25,
          "wife_education": 3,
          "wife_religion": 1
         },
         {
          "contraceptive_method_used": 3,
          "standard_of_living_index": 3,
          "wife_age": 26,
          "wife_education": 2,
          "wife_religion": 1
         },
         {
          "contraceptive_method_used": 3,
          "standard_of_living_index": 2,
          "wife_age": 29,
          "wife_education": 2,
          "wife_religion": 1
         },
         {
          "contraceptive_method_used": 2,
          "standard_of_living_index": 2,
          "wife_age": 36,
          "wife_education": 3,
          "wife_religion": 1
         },
         {
          "contraceptive_method_used": 1,
          "standard_of_living_index": 2,
          "wife_age": 26,
          "wife_education": 3,
          "wife_religion": 1
         },
         {
          "contraceptive_method_used": 2,
          "standard_of_living_index": 3,
          "wife_age": 35,
          "wife_education": 1,
          "wife_religion": 1
         },
         {
          "contraceptive_method_used": 3,
          "standard_of_living_index": 4,
          "wife_age": 32,
          "wife_education": 3,
          "wife_religion": 0
         },
         {
          "contraceptive_method_used": 3,
          "standard_of_living_index": 4,
          "wife_age": 26,
          "wife_education": 4,
          "wife_religion": 1
         },
         {
          "contraceptive_method_used": 3,
          "standard_of_living_index": 4,
          "wife_age": 22,
          "wife_education": 3,
          "wife_religion": 0
         },
         {
          "contraceptive_method_used": 3,
          "standard_of_living_index": 2,
          "wife_age": 20,
          "wife_education": 2,
          "wife_religion": 1
         },
         {
          "contraceptive_method_used": 3,
          "standard_of_living_index": 4,
          "wife_age": 25,
          "wife_education": 3,
          "wife_religion": 1
         },
         {
          "contraceptive_method_used": 1,
          "standard_of_living_index": 3,
          "wife_age": 34,
          "wife_education": 3,
          "wife_religion": 1
         },
         {
          "contraceptive_method_used": 3,
          "standard_of_living_index": 3,
          "wife_age": 19,
          "wife_education": 2,
          "wife_religion": 1
         },
         {
          "contraceptive_method_used": 3,
          "standard_of_living_index": 4,
          "wife_age": 29,
          "wife_education": 3,
          "wife_religion": 0
         },
         {
          "contraceptive_method_used": 3,
          "standard_of_living_index": 3,
          "wife_age": 26,
          "wife_education": 3,
          "wife_religion": 1
         },
         {
          "contraceptive_method_used": 1,
          "standard_of_living_index": 1,
          "wife_age": 26,
          "wife_education": 2,
          "wife_religion": 1
         },
         {
          "contraceptive_method_used": 2,
          "standard_of_living_index": 3,
          "wife_age": 35,
          "wife_education": 4,
          "wife_religion": 1
         },
         {
          "contraceptive_method_used": 1,
          "standard_of_living_index": 2,
          "wife_age": 44,
          "wife_education": 2,
          "wife_religion": 1
         },
         {
          "contraceptive_method_used": 1,
          "standard_of_living_index": 1,
          "wife_age": 25,
          "wife_education": 3,
          "wife_religion": 1
         },
         {
          "contraceptive_method_used": 3,
          "standard_of_living_index": 4,
          "wife_age": 20,
          "wife_education": 3,
          "wife_religion": 1
         },
         {
          "contraceptive_method_used": 1,
          "standard_of_living_index": 4,
          "wife_age": 32,
          "wife_education": 3,
          "wife_religion": 1
         },
         {
          "contraceptive_method_used": 1,
          "standard_of_living_index": 3,
          "wife_age": 34,
          "wife_education": 2,
          "wife_religion": 1
         },
         {
          "contraceptive_method_used": 3,
          "standard_of_living_index": 4,
          "wife_age": 31,
          "wife_education": 4,
          "wife_religion": 1
         },
         {
          "contraceptive_method_used": 3,
          "standard_of_living_index": 4,
          "wife_age": 43,
          "wife_education": 4,
          "wife_religion": 1
         },
         {
          "contraceptive_method_used": 3,
          "standard_of_living_index": 2,
          "wife_age": 27,
          "wife_education": 2,
          "wife_religion": 1
         },
         {
          "contraceptive_method_used": 1,
          "standard_of_living_index": 3,
          "wife_age": 28,
          "wife_education": 4,
          "wife_religion": 0
         },
         {
          "contraceptive_method_used": 1,
          "standard_of_living_index": 3,
          "wife_age": 45,
          "wife_education": 3,
          "wife_religion": 1
         },
         {
          "contraceptive_method_used": 3,
          "standard_of_living_index": 3,
          "wife_age": 25,
          "wife_education": 2,
          "wife_religion": 1
         },
         {
          "contraceptive_method_used": 3,
          "standard_of_living_index": 2,
          "wife_age": 22,
          "wife_education": 4,
          "wife_religion": 1
         },
         {
          "contraceptive_method_used": 3,
          "standard_of_living_index": 2,
          "wife_age": 28,
          "wife_education": 4,
          "wife_religion": 1
         },
         {
          "contraceptive_method_used": 1,
          "standard_of_living_index": 2,
          "wife_age": 37,
          "wife_education": 2,
          "wife_religion": 1
         },
         {
          "contraceptive_method_used": 1,
          "standard_of_living_index": 4,
          "wife_age": 42,
          "wife_education": 4,
          "wife_religion": 1
         },
         {
          "contraceptive_method_used": 3,
          "standard_of_living_index": 3,
          "wife_age": 33,
          "wife_education": 2,
          "wife_religion": 1
         },
         {
          "contraceptive_method_used": 1,
          "standard_of_living_index": 1,
          "wife_age": 23,
          "wife_education": 1,
          "wife_religion": 1
         },
         {
          "contraceptive_method_used": 1,
          "standard_of_living_index": 3,
          "wife_age": 24,
          "wife_education": 4,
          "wife_religion": 1
         },
         {
          "contraceptive_method_used": 3,
          "standard_of_living_index": 4,
          "wife_age": 24,
          "wife_education": 4,
          "wife_religion": 1
         },
         {
          "contraceptive_method_used": 1,
          "standard_of_living_index": 1,
          "wife_age": 47,
          "wife_education": 2,
          "wife_religion": 1
         },
         {
          "contraceptive_method_used": 1,
          "standard_of_living_index": 4,
          "wife_age": 47,
          "wife_education": 4,
          "wife_religion": 1
         },
         {
          "contraceptive_method_used": 3,
          "standard_of_living_index": 1,
          "wife_age": 19,
          "wife_education": 3,
          "wife_religion": 1
         },
         {
          "contraceptive_method_used": 3,
          "standard_of_living_index": 4,
          "wife_age": 27,
          "wife_education": 4,
          "wife_religion": 1
         },
         {
          "contraceptive_method_used": 1,
          "standard_of_living_index": 3,
          "wife_age": 47,
          "wife_education": 2,
          "wife_religion": 1
         },
         {
          "contraceptive_method_used": 3,
          "standard_of_living_index": 3,
          "wife_age": 40,
          "wife_education": 3,
          "wife_religion": 1
         },
         {
          "contraceptive_method_used": 3,
          "standard_of_living_index": 4,
          "wife_age": 35,
          "wife_education": 3,
          "wife_religion": 1
         },
         {
          "contraceptive_method_used": 3,
          "standard_of_living_index": 3,
          "wife_age": 40,
          "wife_education": 2,
          "wife_religion": 1
         },
         {
          "contraceptive_method_used": 3,
          "standard_of_living_index": 3,
          "wife_age": 21,
          "wife_education": 3,
          "wife_religion": 1
         },
         {
          "contraceptive_method_used": 2,
          "standard_of_living_index": 2,
          "wife_age": 20,
          "wife_education": 3,
          "wife_religion": 1
         },
         {
          "contraceptive_method_used": 1,
          "standard_of_living_index": 1,
          "wife_age": 32,
          "wife_education": 2,
          "wife_religion": 1
         },
         {
          "contraceptive_method_used": 1,
          "standard_of_living_index": 2,
          "wife_age": 42,
          "wife_education": 3,
          "wife_religion": 1
         },
         {
          "contraceptive_method_used": 1,
          "standard_of_living_index": 2,
          "wife_age": 32,
          "wife_education": 3,
          "wife_religion": 1
         },
         {
          "contraceptive_method_used": 3,
          "standard_of_living_index": 4,
          "wife_age": 29,
          "wife_education": 3,
          "wife_religion": 1
         },
         {
          "contraceptive_method_used": 1,
          "standard_of_living_index": 2,
          "wife_age": 36,
          "wife_education": 3,
          "wife_religion": 1
         },
         {
          "contraceptive_method_used": 1,
          "standard_of_living_index": 3,
          "wife_age": 49,
          "wife_education": 1,
          "wife_religion": 1
         },
         {
          "contraceptive_method_used": 1,
          "standard_of_living_index": 3,
          "wife_age": 47,
          "wife_education": 1,
          "wife_religion": 1
         },
         {
          "contraceptive_method_used": 3,
          "standard_of_living_index": 4,
          "wife_age": 45,
          "wife_education": 2,
          "wife_religion": 0
         },
         {
          "contraceptive_method_used": 1,
          "standard_of_living_index": 1,
          "wife_age": 48,
          "wife_education": 3,
          "wife_religion": 1
         },
         {
          "contraceptive_method_used": 3,
          "standard_of_living_index": 4,
          "wife_age": 37,
          "wife_education": 2,
          "wife_religion": 1
         },
         {
          "contraceptive_method_used": 1,
          "standard_of_living_index": 4,
          "wife_age": 45,
          "wife_education": 3,
          "wife_religion": 0
         },
         {
          "contraceptive_method_used": 2,
          "standard_of_living_index": 4,
          "wife_age": 34,
          "wife_education": 4,
          "wife_religion": 1
         },
         {
          "contraceptive_method_used": 1,
          "standard_of_living_index": 2,
          "wife_age": 25,
          "wife_education": 4,
          "wife_religion": 1
         },
         {
          "contraceptive_method_used": 2,
          "standard_of_living_index": 3,
          "wife_age": 28,
          "wife_education": 4,
          "wife_religion": 1
         },
         {
          "contraceptive_method_used": 3,
          "standard_of_living_index": 4,
          "wife_age": 25,
          "wife_education": 3,
          "wife_religion": 1
         },
         {
          "contraceptive_method_used": 2,
          "standard_of_living_index": 4,
          "wife_age": 39,
          "wife_education": 4,
          "wife_religion": 1
         },
         {
          "contraceptive_method_used": 1,
          "standard_of_living_index": 4,
          "wife_age": 20,
          "wife_education": 4,
          "wife_religion": 0
         },
         {
          "contraceptive_method_used": 3,
          "standard_of_living_index": 4,
          "wife_age": 20,
          "wife_education": 3,
          "wife_religion": 0
         },
         {
          "contraceptive_method_used": 3,
          "standard_of_living_index": 2,
          "wife_age": 26,
          "wife_education": 3,
          "wife_religion": 1
         },
         {
          "contraceptive_method_used": 3,
          "standard_of_living_index": 4,
          "wife_age": 37,
          "wife_education": 4,
          "wife_religion": 1
         },
         {
          "contraceptive_method_used": 3,
          "standard_of_living_index": 3,
          "wife_age": 29,
          "wife_education": 3,
          "wife_religion": 1
         },
         {
          "contraceptive_method_used": 1,
          "standard_of_living_index": 4,
          "wife_age": 38,
          "wife_education": 1,
          "wife_religion": 1
         },
         {
          "contraceptive_method_used": 2,
          "standard_of_living_index": 4,
          "wife_age": 41,
          "wife_education": 4,
          "wife_religion": 1
         },
         {
          "contraceptive_method_used": 2,
          "standard_of_living_index": 4,
          "wife_age": 33,
          "wife_education": 4,
          "wife_religion": 1
         },
         {
          "contraceptive_method_used": 3,
          "standard_of_living_index": 4,
          "wife_age": 27,
          "wife_education": 4,
          "wife_religion": 1
         },
         {
          "contraceptive_method_used": 1,
          "standard_of_living_index": 3,
          "wife_age": 26,
          "wife_education": 3,
          "wife_religion": 1
         },
         {
          "contraceptive_method_used": 1,
          "standard_of_living_index": 3,
          "wife_age": 36,
          "wife_education": 2,
          "wife_religion": 1
         },
         {
          "contraceptive_method_used": 3,
          "standard_of_living_index": 4,
          "wife_age": 33,
          "wife_education": 4,
          "wife_religion": 1
         },
         {
          "contraceptive_method_used": 2,
          "standard_of_living_index": 4,
          "wife_age": 23,
          "wife_education": 4,
          "wife_religion": 0
         },
         {
          "contraceptive_method_used": 1,
          "standard_of_living_index": 4,
          "wife_age": 48,
          "wife_education": 3,
          "wife_religion": 1
         },
         {
          "contraceptive_method_used": 1,
          "standard_of_living_index": 2,
          "wife_age": 40,
          "wife_education": 2,
          "wife_religion": 1
         },
         {
          "contraceptive_method_used": 2,
          "standard_of_living_index": 4,
          "wife_age": 26,
          "wife_education": 4,
          "wife_religion": 0
         },
         {
          "contraceptive_method_used": 3,
          "standard_of_living_index": 3,
          "wife_age": 39,
          "wife_education": 3,
          "wife_religion": 1
         },
         {
          "contraceptive_method_used": 1,
          "standard_of_living_index": 4,
          "wife_age": 42,
          "wife_education": 3,
          "wife_religion": 1
         },
         {
          "contraceptive_method_used": 3,
          "standard_of_living_index": 3,
          "wife_age": 29,
          "wife_education": 1,
          "wife_religion": 1
         },
         {
          "contraceptive_method_used": 1,
          "standard_of_living_index": 3,
          "wife_age": 45,
          "wife_education": 2,
          "wife_religion": 1
         },
         {
          "contraceptive_method_used": 1,
          "standard_of_living_index": 3,
          "wife_age": 28,
          "wife_education": 4,
          "wife_religion": 1
         },
         {
          "contraceptive_method_used": 1,
          "standard_of_living_index": 3,
          "wife_age": 44,
          "wife_education": 1,
          "wife_religion": 1
         },
         {
          "contraceptive_method_used": 3,
          "standard_of_living_index": 4,
          "wife_age": 33,
          "wife_education": 2,
          "wife_religion": 1
         },
         {
          "contraceptive_method_used": 3,
          "standard_of_living_index": 4,
          "wife_age": 33,
          "wife_education": 4,
          "wife_religion": 1
         },
         {
          "contraceptive_method_used": 1,
          "standard_of_living_index": 3,
          "wife_age": 39,
          "wife_education": 3,
          "wife_religion": 1
         },
         {
          "contraceptive_method_used": 1,
          "standard_of_living_index": 4,
          "wife_age": 35,
          "wife_education": 2,
          "wife_religion": 1
         },
         {
          "contraceptive_method_used": 2,
          "standard_of_living_index": 3,
          "wife_age": 44,
          "wife_education": 1,
          "wife_religion": 1
         },
         {
          "contraceptive_method_used": 1,
          "standard_of_living_index": 3,
          "wife_age": 19,
          "wife_education": 3,
          "wife_religion": 1
         },
         {
          "contraceptive_method_used": 1,
          "standard_of_living_index": 4,
          "wife_age": 32,
          "wife_education": 4,
          "wife_religion": 0
         },
         {
          "contraceptive_method_used": 1,
          "standard_of_living_index": 3,
          "wife_age": 32,
          "wife_education": 4,
          "wife_religion": 1
         },
         {
          "contraceptive_method_used": 1,
          "standard_of_living_index": 3,
          "wife_age": 22,
          "wife_education": 3,
          "wife_religion": 1
         },
         {
          "contraceptive_method_used": 3,
          "standard_of_living_index": 2,
          "wife_age": 31,
          "wife_education": 1,
          "wife_religion": 1
         },
         {
          "contraceptive_method_used": 2,
          "standard_of_living_index": 1,
          "wife_age": 44,
          "wife_education": 3,
          "wife_religion": 1
         },
         {
          "contraceptive_method_used": 2,
          "standard_of_living_index": 1,
          "wife_age": 25,
          "wife_education": 3,
          "wife_religion": 1
         },
         {
          "contraceptive_method_used": 2,
          "standard_of_living_index": 3,
          "wife_age": 37,
          "wife_education": 3,
          "wife_religion": 1
         },
         {
          "contraceptive_method_used": 1,
          "standard_of_living_index": 4,
          "wife_age": 49,
          "wife_education": 3,
          "wife_religion": 1
         },
         {
          "contraceptive_method_used": 1,
          "standard_of_living_index": 4,
          "wife_age": 24,
          "wife_education": 3,
          "wife_religion": 1
         },
         {
          "contraceptive_method_used": 1,
          "standard_of_living_index": 2,
          "wife_age": 38,
          "wife_education": 1,
          "wife_religion": 1
         },
         {
          "contraceptive_method_used": 1,
          "standard_of_living_index": 1,
          "wife_age": 38,
          "wife_education": 3,
          "wife_religion": 1
         },
         {
          "contraceptive_method_used": 3,
          "standard_of_living_index": 4,
          "wife_age": 25,
          "wife_education": 4,
          "wife_religion": 0
         },
         {
          "contraceptive_method_used": 3,
          "standard_of_living_index": 2,
          "wife_age": 21,
          "wife_education": 3,
          "wife_religion": 1
         },
         {
          "contraceptive_method_used": 3,
          "standard_of_living_index": 1,
          "wife_age": 22,
          "wife_education": 1,
          "wife_religion": 1
         },
         {
          "contraceptive_method_used": 1,
          "standard_of_living_index": 3,
          "wife_age": 31,
          "wife_education": 4,
          "wife_religion": 1
         },
         {
          "contraceptive_method_used": 3,
          "standard_of_living_index": 4,
          "wife_age": 29,
          "wife_education": 4,
          "wife_religion": 1
         },
         {
          "contraceptive_method_used": 1,
          "standard_of_living_index": 3,
          "wife_age": 31,
          "wife_education": 3,
          "wife_religion": 1
         },
         {
          "contraceptive_method_used": 3,
          "standard_of_living_index": 3,
          "wife_age": 26,
          "wife_education": 3,
          "wife_religion": 1
         },
         {
          "contraceptive_method_used": 3,
          "standard_of_living_index": 4,
          "wife_age": 24,
          "wife_education": 2,
          "wife_religion": 1
         },
         {
          "contraceptive_method_used": 1,
          "standard_of_living_index": 3,
          "wife_age": 30,
          "wife_education": 4,
          "wife_religion": 0
         },
         {
          "contraceptive_method_used": 2,
          "standard_of_living_index": 3,
          "wife_age": 45,
          "wife_education": 3,
          "wife_religion": 1
         },
         {
          "contraceptive_method_used": 1,
          "standard_of_living_index": 4,
          "wife_age": 22,
          "wife_education": 4,
          "wife_religion": 1
         },
         {
          "contraceptive_method_used": 3,
          "standard_of_living_index": 4,
          "wife_age": 26,
          "wife_education": 3,
          "wife_religion": 1
         },
         {
          "contraceptive_method_used": 3,
          "standard_of_living_index": 3,
          "wife_age": 37,
          "wife_education": 3,
          "wife_religion": 1
         },
         {
          "contraceptive_method_used": 1,
          "standard_of_living_index": 4,
          "wife_age": 26,
          "wife_education": 4,
          "wife_religion": 1
         },
         {
          "contraceptive_method_used": 3,
          "standard_of_living_index": 3,
          "wife_age": 25,
          "wife_education": 4,
          "wife_religion": 1
         },
         {
          "contraceptive_method_used": 1,
          "standard_of_living_index": 1,
          "wife_age": 26,
          "wife_education": 2,
          "wife_religion": 1
         },
         {
          "contraceptive_method_used": 1,
          "standard_of_living_index": 4,
          "wife_age": 40,
          "wife_education": 4,
          "wife_religion": 0
         },
         {
          "contraceptive_method_used": 3,
          "standard_of_living_index": 4,
          "wife_age": 37,
          "wife_education": 4,
          "wife_religion": 0
         },
         {
          "contraceptive_method_used": 2,
          "standard_of_living_index": 3,
          "wife_age": 40,
          "wife_education": 4,
          "wife_religion": 1
         },
         {
          "contraceptive_method_used": 2,
          "standard_of_living_index": 4,
          "wife_age": 35,
          "wife_education": 4,
          "wife_religion": 1
         },
         {
          "contraceptive_method_used": 1,
          "standard_of_living_index": 3,
          "wife_age": 43,
          "wife_education": 4,
          "wife_religion": 1
         },
         {
          "contraceptive_method_used": 2,
          "standard_of_living_index": 4,
          "wife_age": 27,
          "wife_education": 3,
          "wife_religion": 1
         },
         {
          "contraceptive_method_used": 1,
          "standard_of_living_index": 4,
          "wife_age": 27,
          "wife_education": 1,
          "wife_religion": 1
         },
         {
          "contraceptive_method_used": 1,
          "standard_of_living_index": 3,
          "wife_age": 34,
          "wife_education": 2,
          "wife_religion": 1
         },
         {
          "contraceptive_method_used": 1,
          "standard_of_living_index": 1,
          "wife_age": 49,
          "wife_education": 1,
          "wife_religion": 1
         },
         {
          "contraceptive_method_used": 1,
          "standard_of_living_index": 4,
          "wife_age": 33,
          "wife_education": 4,
          "wife_religion": 1
         },
         {
          "contraceptive_method_used": 1,
          "standard_of_living_index": 2,
          "wife_age": 44,
          "wife_education": 2,
          "wife_religion": 1
         },
         {
          "contraceptive_method_used": 2,
          "standard_of_living_index": 1,
          "wife_age": 36,
          "wife_education": 2,
          "wife_religion": 1
         },
         {
          "contraceptive_method_used": 1,
          "standard_of_living_index": 4,
          "wife_age": 22,
          "wife_education": 2,
          "wife_religion": 1
         },
         {
          "contraceptive_method_used": 3,
          "standard_of_living_index": 4,
          "wife_age": 27,
          "wife_education": 4,
          "wife_religion": 0
         },
         {
          "contraceptive_method_used": 3,
          "standard_of_living_index": 3,
          "wife_age": 27,
          "wife_education": 3,
          "wife_religion": 1
         },
         {
          "contraceptive_method_used": 1,
          "standard_of_living_index": 4,
          "wife_age": 43,
          "wife_education": 3,
          "wife_religion": 1
         },
         {
          "contraceptive_method_used": 3,
          "standard_of_living_index": 3,
          "wife_age": 43,
          "wife_education": 3,
          "wife_religion": 1
         },
         {
          "contraceptive_method_used": 2,
          "standard_of_living_index": 4,
          "wife_age": 33,
          "wife_education": 4,
          "wife_religion": 1
         },
         {
          "contraceptive_method_used": 3,
          "standard_of_living_index": 2,
          "wife_age": 45,
          "wife_education": 1,
          "wife_religion": 1
         },
         {
          "contraceptive_method_used": 1,
          "standard_of_living_index": 3,
          "wife_age": 24,
          "wife_education": 3,
          "wife_religion": 1
         },
         {
          "contraceptive_method_used": 3,
          "standard_of_living_index": 2,
          "wife_age": 30,
          "wife_education": 3,
          "wife_religion": 1
         },
         {
          "contraceptive_method_used": 3,
          "standard_of_living_index": 4,
          "wife_age": 33,
          "wife_education": 4,
          "wife_religion": 1
         },
         {
          "contraceptive_method_used": 1,
          "standard_of_living_index": 4,
          "wife_age": 49,
          "wife_education": 1,
          "wife_religion": 1
         },
         {
          "contraceptive_method_used": 1,
          "standard_of_living_index": 3,
          "wife_age": 44,
          "wife_education": 1,
          "wife_religion": 1
         },
         {
          "contraceptive_method_used": 3,
          "standard_of_living_index": 4,
          "wife_age": 29,
          "wife_education": 2,
          "wife_religion": 1
         },
         {
          "contraceptive_method_used": 2,
          "standard_of_living_index": 3,
          "wife_age": 32,
          "wife_education": 3,
          "wife_religion": 1
         },
         {
          "contraceptive_method_used": 3,
          "standard_of_living_index": 4,
          "wife_age": 39,
          "wife_education": 4,
          "wife_religion": 1
         },
         {
          "contraceptive_method_used": 2,
          "standard_of_living_index": 4,
          "wife_age": 42,
          "wife_education": 4,
          "wife_religion": 0
         },
         {
          "contraceptive_method_used": 1,
          "standard_of_living_index": 3,
          "wife_age": 47,
          "wife_education": 4,
          "wife_religion": 1
         },
         {
          "contraceptive_method_used": 3,
          "standard_of_living_index": 4,
          "wife_age": 39,
          "wife_education": 4,
          "wife_religion": 1
         },
         {
          "contraceptive_method_used": 3,
          "standard_of_living_index": 4,
          "wife_age": 43,
          "wife_education": 4,
          "wife_religion": 1
         },
         {
          "contraceptive_method_used": 1,
          "standard_of_living_index": 3,
          "wife_age": 48,
          "wife_education": 3,
          "wife_religion": 1
         },
         {
          "contraceptive_method_used": 2,
          "standard_of_living_index": 4,
          "wife_age": 24,
          "wife_education": 4,
          "wife_religion": 1
         },
         {
          "contraceptive_method_used": 3,
          "standard_of_living_index": 3,
          "wife_age": 43,
          "wife_education": 3,
          "wife_religion": 1
         },
         {
          "contraceptive_method_used": 1,
          "standard_of_living_index": 4,
          "wife_age": 45,
          "wife_education": 1,
          "wife_religion": 1
         },
         {
          "contraceptive_method_used": 3,
          "standard_of_living_index": 4,
          "wife_age": 41,
          "wife_education": 4,
          "wife_religion": 1
         },
         {
          "contraceptive_method_used": 3,
          "standard_of_living_index": 1,
          "wife_age": 21,
          "wife_education": 3,
          "wife_religion": 1
         },
         {
          "contraceptive_method_used": 3,
          "standard_of_living_index": 2,
          "wife_age": 29,
          "wife_education": 2,
          "wife_religion": 1
         },
         {
          "contraceptive_method_used": 1,
          "standard_of_living_index": 3,
          "wife_age": 41,
          "wife_education": 1,
          "wife_religion": 1
         },
         {
          "contraceptive_method_used": 2,
          "standard_of_living_index": 4,
          "wife_age": 24,
          "wife_education": 4,
          "wife_religion": 1
         },
         {
          "contraceptive_method_used": 2,
          "standard_of_living_index": 4,
          "wife_age": 35,
          "wife_education": 4,
          "wife_religion": 1
         },
         {
          "contraceptive_method_used": 1,
          "standard_of_living_index": 1,
          "wife_age": 47,
          "wife_education": 2,
          "wife_religion": 1
         },
         {
          "contraceptive_method_used": 3,
          "standard_of_living_index": 4,
          "wife_age": 28,
          "wife_education": 3,
          "wife_religion": 1
         },
         {
          "contraceptive_method_used": 3,
          "standard_of_living_index": 3,
          "wife_age": 22,
          "wife_education": 3,
          "wife_religion": 1
         },
         {
          "contraceptive_method_used": 2,
          "standard_of_living_index": 3,
          "wife_age": 28,
          "wife_education": 4,
          "wife_religion": 1
         },
         {
          "contraceptive_method_used": 3,
          "standard_of_living_index": 3,
          "wife_age": 27,
          "wife_education": 4,
          "wife_religion": 1
         },
         {
          "contraceptive_method_used": 3,
          "standard_of_living_index": 3,
          "wife_age": 24,
          "wife_education": 3,
          "wife_religion": 1
         },
         {
          "contraceptive_method_used": 2,
          "standard_of_living_index": 2,
          "wife_age": 35,
          "wife_education": 2,
          "wife_religion": 0
         },
         {
          "contraceptive_method_used": 1,
          "standard_of_living_index": 4,
          "wife_age": 28,
          "wife_education": 4,
          "wife_religion": 0
         },
         {
          "contraceptive_method_used": 3,
          "standard_of_living_index": 2,
          "wife_age": 30,
          "wife_education": 4,
          "wife_religion": 1
         },
         {
          "contraceptive_method_used": 1,
          "standard_of_living_index": 3,
          "wife_age": 45,
          "wife_education": 4,
          "wife_religion": 1
         },
         {
          "contraceptive_method_used": 2,
          "standard_of_living_index": 4,
          "wife_age": 35,
          "wife_education": 4,
          "wife_religion": 1
         },
         {
          "contraceptive_method_used": 3,
          "standard_of_living_index": 3,
          "wife_age": 33,
          "wife_education": 3,
          "wife_religion": 1
         },
         {
          "contraceptive_method_used": 3,
          "standard_of_living_index": 3,
          "wife_age": 29,
          "wife_education": 2,
          "wife_religion": 1
         },
         {
          "contraceptive_method_used": 2,
          "standard_of_living_index": 3,
          "wife_age": 23,
          "wife_education": 3,
          "wife_religion": 1
         },
         {
          "contraceptive_method_used": 2,
          "standard_of_living_index": 4,
          "wife_age": 31,
          "wife_education": 4,
          "wife_religion": 0
         },
         {
          "contraceptive_method_used": 3,
          "standard_of_living_index": 4,
          "wife_age": 34,
          "wife_education": 4,
          "wife_religion": 1
         },
         {
          "contraceptive_method_used": 2,
          "standard_of_living_index": 3,
          "wife_age": 24,
          "wife_education": 4,
          "wife_religion": 1
         },
         {
          "contraceptive_method_used": 2,
          "standard_of_living_index": 3,
          "wife_age": 44,
          "wife_education": 4,
          "wife_religion": 1
         },
         {
          "contraceptive_method_used": 3,
          "standard_of_living_index": 4,
          "wife_age": 33,
          "wife_education": 2,
          "wife_religion": 1
         },
         {
          "contraceptive_method_used": 1,
          "standard_of_living_index": 4,
          "wife_age": 26,
          "wife_education": 4,
          "wife_religion": 1
         },
         {
          "contraceptive_method_used": 2,
          "standard_of_living_index": 3,
          "wife_age": 36,
          "wife_education": 4,
          "wife_religion": 0
         },
         {
          "contraceptive_method_used": 2,
          "standard_of_living_index": 4,
          "wife_age": 41,
          "wife_education": 4,
          "wife_religion": 1
         },
         {
          "contraceptive_method_used": 3,
          "standard_of_living_index": 4,
          "wife_age": 36,
          "wife_education": 4,
          "wife_religion": 0
         },
         {
          "contraceptive_method_used": 1,
          "standard_of_living_index": 2,
          "wife_age": 31,
          "wife_education": 4,
          "wife_religion": 1
         },
         {
          "contraceptive_method_used": 1,
          "standard_of_living_index": 4,
          "wife_age": 20,
          "wife_education": 2,
          "wife_religion": 1
         },
         {
          "contraceptive_method_used": 3,
          "standard_of_living_index": 4,
          "wife_age": 38,
          "wife_education": 4,
          "wife_religion": 1
         },
         {
          "contraceptive_method_used": 3,
          "standard_of_living_index": 1,
          "wife_age": 32,
          "wife_education": 3,
          "wife_religion": 1
         },
         {
          "contraceptive_method_used": 3,
          "standard_of_living_index": 4,
          "wife_age": 25,
          "wife_education": 3,
          "wife_religion": 1
         },
         {
          "contraceptive_method_used": 3,
          "standard_of_living_index": 2,
          "wife_age": 24,
          "wife_education": 3,
          "wife_religion": 1
         },
         {
          "contraceptive_method_used": 1,
          "standard_of_living_index": 1,
          "wife_age": 25,
          "wife_education": 1,
          "wife_religion": 1
         },
         {
          "contraceptive_method_used": 3,
          "standard_of_living_index": 3,
          "wife_age": 33,
          "wife_education": 4,
          "wife_religion": 1
         },
         {
          "contraceptive_method_used": 1,
          "standard_of_living_index": 4,
          "wife_age": 49,
          "wife_education": 2,
          "wife_religion": 1
         },
         {
          "contraceptive_method_used": 3,
          "standard_of_living_index": 4,
          "wife_age": 25,
          "wife_education": 4,
          "wife_religion": 1
         },
         {
          "contraceptive_method_used": 1,
          "standard_of_living_index": 2,
          "wife_age": 22,
          "wife_education": 2,
          "wife_religion": 1
         },
         {
          "contraceptive_method_used": 1,
          "standard_of_living_index": 4,
          "wife_age": 26,
          "wife_education": 4,
          "wife_religion": 1
         },
         {
          "contraceptive_method_used": 1,
          "standard_of_living_index": 1,
          "wife_age": 19,
          "wife_education": 2,
          "wife_religion": 1
         },
         {
          "contraceptive_method_used": 1,
          "standard_of_living_index": 3,
          "wife_age": 48,
          "wife_education": 1,
          "wife_religion": 1
         },
         {
          "contraceptive_method_used": 1,
          "standard_of_living_index": 4,
          "wife_age": 48,
          "wife_education": 4,
          "wife_religion": 0
         },
         {
          "contraceptive_method_used": 2,
          "standard_of_living_index": 3,
          "wife_age": 36,
          "wife_education": 3,
          "wife_religion": 1
         },
         {
          "contraceptive_method_used": 3,
          "standard_of_living_index": 3,
          "wife_age": 35,
          "wife_education": 1,
          "wife_religion": 1
         },
         {
          "contraceptive_method_used": 3,
          "standard_of_living_index": 3,
          "wife_age": 20,
          "wife_education": 4,
          "wife_religion": 1
         },
         {
          "contraceptive_method_used": 1,
          "standard_of_living_index": 4,
          "wife_age": 34,
          "wife_education": 2,
          "wife_religion": 1
         },
         {
          "contraceptive_method_used": 1,
          "standard_of_living_index": 2,
          "wife_age": 39,
          "wife_education": 2,
          "wife_religion": 1
         },
         {
          "contraceptive_method_used": 1,
          "standard_of_living_index": 3,
          "wife_age": 21,
          "wife_education": 3,
          "wife_religion": 1
         },
         {
          "contraceptive_method_used": 1,
          "standard_of_living_index": 4,
          "wife_age": 36,
          "wife_education": 3,
          "wife_religion": 1
         },
         {
          "contraceptive_method_used": 1,
          "standard_of_living_index": 4,
          "wife_age": 47,
          "wife_education": 1,
          "wife_religion": 1
         },
         {
          "contraceptive_method_used": 1,
          "standard_of_living_index": 1,
          "wife_age": 46,
          "wife_education": 1,
          "wife_religion": 1
         },
         {
          "contraceptive_method_used": 1,
          "standard_of_living_index": 2,
          "wife_age": 25,
          "wife_education": 3,
          "wife_religion": 1
         },
         {
          "contraceptive_method_used": 3,
          "standard_of_living_index": 3,
          "wife_age": 34,
          "wife_education": 3,
          "wife_religion": 1
         },
         {
          "contraceptive_method_used": 1,
          "standard_of_living_index": 2,
          "wife_age": 45,
          "wife_education": 2,
          "wife_religion": 1
         },
         {
          "contraceptive_method_used": 1,
          "standard_of_living_index": 3,
          "wife_age": 40,
          "wife_education": 3,
          "wife_religion": 1
         },
         {
          "contraceptive_method_used": 1,
          "standard_of_living_index": 3,
          "wife_age": 35,
          "wife_education": 3,
          "wife_religion": 0
         },
         {
          "contraceptive_method_used": 1,
          "standard_of_living_index": 2,
          "wife_age": 38,
          "wife_education": 2,
          "wife_religion": 0
         },
         {
          "contraceptive_method_used": 1,
          "standard_of_living_index": 4,
          "wife_age": 30,
          "wife_education": 2,
          "wife_religion": 1
         },
         {
          "contraceptive_method_used": 1,
          "standard_of_living_index": 2,
          "wife_age": 35,
          "wife_education": 1,
          "wife_religion": 1
         },
         {
          "contraceptive_method_used": 3,
          "standard_of_living_index": 4,
          "wife_age": 28,
          "wife_education": 2,
          "wife_religion": 1
         },
         {
          "contraceptive_method_used": 2,
          "standard_of_living_index": 4,
          "wife_age": 42,
          "wife_education": 4,
          "wife_religion": 0
         },
         {
          "contraceptive_method_used": 2,
          "standard_of_living_index": 4,
          "wife_age": 26,
          "wife_education": 2,
          "wife_religion": 1
         },
         {
          "contraceptive_method_used": 1,
          "standard_of_living_index": 2,
          "wife_age": 31,
          "wife_education": 4,
          "wife_religion": 1
         },
         {
          "contraceptive_method_used": 3,
          "standard_of_living_index": 3,
          "wife_age": 35,
          "wife_education": 2,
          "wife_religion": 1
         },
         {
          "contraceptive_method_used": 3,
          "standard_of_living_index": 4,
          "wife_age": 36,
          "wife_education": 4,
          "wife_religion": 1
         },
         {
          "contraceptive_method_used": 2,
          "standard_of_living_index": 3,
          "wife_age": 35,
          "wife_education": 3,
          "wife_religion": 1
         },
         {
          "contraceptive_method_used": 3,
          "standard_of_living_index": 4,
          "wife_age": 35,
          "wife_education": 1,
          "wife_religion": 1
         },
         {
          "contraceptive_method_used": 3,
          "standard_of_living_index": 2,
          "wife_age": 38,
          "wife_education": 3,
          "wife_religion": 1
         },
         {
          "contraceptive_method_used": 3,
          "standard_of_living_index": 4,
          "wife_age": 48,
          "wife_education": 3,
          "wife_religion": 1
         },
         {
          "contraceptive_method_used": 2,
          "standard_of_living_index": 4,
          "wife_age": 25,
          "wife_education": 2,
          "wife_religion": 1
         },
         {
          "contraceptive_method_used": 2,
          "standard_of_living_index": 3,
          "wife_age": 31,
          "wife_education": 2,
          "wife_religion": 1
         },
         {
          "contraceptive_method_used": 3,
          "standard_of_living_index": 1,
          "wife_age": 23,
          "wife_education": 2,
          "wife_religion": 1
         },
         {
          "contraceptive_method_used": 1,
          "standard_of_living_index": 2,
          "wife_age": 33,
          "wife_education": 2,
          "wife_religion": 1
         },
         {
          "contraceptive_method_used": 3,
          "standard_of_living_index": 4,
          "wife_age": 40,
          "wife_education": 4,
          "wife_religion": 1
         },
         {
          "contraceptive_method_used": 1,
          "standard_of_living_index": 3,
          "wife_age": 44,
          "wife_education": 3,
          "wife_religion": 1
         },
         {
          "contraceptive_method_used": 2,
          "standard_of_living_index": 3,
          "wife_age": 43,
          "wife_education": 2,
          "wife_religion": 1
         },
         {
          "contraceptive_method_used": 1,
          "standard_of_living_index": 2,
          "wife_age": 36,
          "wife_education": 1,
          "wife_religion": 1
         },
         {
          "contraceptive_method_used": 1,
          "standard_of_living_index": 4,
          "wife_age": 29,
          "wife_education": 1,
          "wife_religion": 1
         },
         {
          "contraceptive_method_used": 2,
          "standard_of_living_index": 4,
          "wife_age": 27,
          "wife_education": 3,
          "wife_religion": 1
         },
         {
          "contraceptive_method_used": 2,
          "standard_of_living_index": 4,
          "wife_age": 26,
          "wife_education": 3,
          "wife_religion": 1
         },
         {
          "contraceptive_method_used": 3,
          "standard_of_living_index": 2,
          "wife_age": 24,
          "wife_education": 1,
          "wife_religion": 1
         },
         {
          "contraceptive_method_used": 3,
          "standard_of_living_index": 3,
          "wife_age": 30,
          "wife_education": 2,
          "wife_religion": 1
         },
         {
          "contraceptive_method_used": 3,
          "standard_of_living_index": 4,
          "wife_age": 32,
          "wife_education": 4,
          "wife_religion": 0
         },
         {
          "contraceptive_method_used": 3,
          "standard_of_living_index": 3,
          "wife_age": 27,
          "wife_education": 4,
          "wife_religion": 0
         },
         {
          "contraceptive_method_used": 2,
          "standard_of_living_index": 4,
          "wife_age": 30,
          "wife_education": 4,
          "wife_religion": 0
         },
         {
          "contraceptive_method_used": 3,
          "standard_of_living_index": 4,
          "wife_age": 29,
          "wife_education": 4,
          "wife_religion": 1
         },
         {
          "contraceptive_method_used": 3,
          "standard_of_living_index": 3,
          "wife_age": 41,
          "wife_education": 1,
          "wife_religion": 1
         },
         {
          "contraceptive_method_used": 3,
          "standard_of_living_index": 4,
          "wife_age": 36,
          "wife_education": 4,
          "wife_religion": 0
         },
         {
          "contraceptive_method_used": 3,
          "standard_of_living_index": 2,
          "wife_age": 29,
          "wife_education": 3,
          "wife_religion": 1
         },
         {
          "contraceptive_method_used": 1,
          "standard_of_living_index": 4,
          "wife_age": 45,
          "wife_education": 4,
          "wife_religion": 1
         },
         {
          "contraceptive_method_used": 3,
          "standard_of_living_index": 4,
          "wife_age": 32,
          "wife_education": 4,
          "wife_religion": 1
         },
         {
          "contraceptive_method_used": 1,
          "standard_of_living_index": 2,
          "wife_age": 25,
          "wife_education": 4,
          "wife_religion": 1
         },
         {
          "contraceptive_method_used": 1,
          "standard_of_living_index": 1,
          "wife_age": 25,
          "wife_education": 2,
          "wife_religion": 1
         },
         {
          "contraceptive_method_used": 3,
          "standard_of_living_index": 4,
          "wife_age": 35,
          "wife_education": 3,
          "wife_religion": 1
         },
         {
          "contraceptive_method_used": 1,
          "standard_of_living_index": 2,
          "wife_age": 32,
          "wife_education": 2,
          "wife_religion": 1
         },
         {
          "contraceptive_method_used": 3,
          "standard_of_living_index": 3,
          "wife_age": 22,
          "wife_education": 2,
          "wife_religion": 1
         },
         {
          "contraceptive_method_used": 3,
          "standard_of_living_index": 4,
          "wife_age": 22,
          "wife_education": 3,
          "wife_religion": 1
         },
         {
          "contraceptive_method_used": 3,
          "standard_of_living_index": 3,
          "wife_age": 28,
          "wife_education": 4,
          "wife_religion": 1
         },
         {
          "contraceptive_method_used": 1,
          "standard_of_living_index": 3,
          "wife_age": 48,
          "wife_education": 1,
          "wife_religion": 1
         },
         {
          "contraceptive_method_used": 1,
          "standard_of_living_index": 1,
          "wife_age": 47,
          "wife_education": 2,
          "wife_religion": 1
         },
         {
          "contraceptive_method_used": 1,
          "standard_of_living_index": 2,
          "wife_age": 31,
          "wife_education": 1,
          "wife_religion": 1
         },
         {
          "contraceptive_method_used": 3,
          "standard_of_living_index": 4,
          "wife_age": 30,
          "wife_education": 3,
          "wife_religion": 1
         },
         {
          "contraceptive_method_used": 3,
          "standard_of_living_index": 2,
          "wife_age": 25,
          "wife_education": 3,
          "wife_religion": 1
         },
         {
          "contraceptive_method_used": 3,
          "standard_of_living_index": 1,
          "wife_age": 25,
          "wife_education": 3,
          "wife_religion": 1
         },
         {
          "contraceptive_method_used": 3,
          "standard_of_living_index": 1,
          "wife_age": 27,
          "wife_education": 2,
          "wife_religion": 1
         },
         {
          "contraceptive_method_used": 3,
          "standard_of_living_index": 3,
          "wife_age": 24,
          "wife_education": 4,
          "wife_religion": 1
         },
         {
          "contraceptive_method_used": 1,
          "standard_of_living_index": 4,
          "wife_age": 34,
          "wife_education": 4,
          "wife_religion": 0
         },
         {
          "contraceptive_method_used": 2,
          "standard_of_living_index": 2,
          "wife_age": 44,
          "wife_education": 4,
          "wife_religion": 1
         },
         {
          "contraceptive_method_used": 1,
          "standard_of_living_index": 4,
          "wife_age": 24,
          "wife_education": 2,
          "wife_religion": 1
         },
         {
          "contraceptive_method_used": 1,
          "standard_of_living_index": 3,
          "wife_age": 26,
          "wife_education": 4,
          "wife_religion": 1
         },
         {
          "contraceptive_method_used": 2,
          "standard_of_living_index": 4,
          "wife_age": 37,
          "wife_education": 4,
          "wife_religion": 1
         },
         {
          "contraceptive_method_used": 3,
          "standard_of_living_index": 3,
          "wife_age": 26,
          "wife_education": 3,
          "wife_religion": 1
         },
         {
          "contraceptive_method_used": 1,
          "standard_of_living_index": 3,
          "wife_age": 18,
          "wife_education": 3,
          "wife_religion": 1
         },
         {
          "contraceptive_method_used": 2,
          "standard_of_living_index": 3,
          "wife_age": 29,
          "wife_education": 4,
          "wife_religion": 1
         },
         {
          "contraceptive_method_used": 2,
          "standard_of_living_index": 4,
          "wife_age": 22,
          "wife_education": 3,
          "wife_religion": 1
         },
         {
          "contraceptive_method_used": 2,
          "standard_of_living_index": 3,
          "wife_age": 32,
          "wife_education": 4,
          "wife_religion": 1
         },
         {
          "contraceptive_method_used": 1,
          "standard_of_living_index": 4,
          "wife_age": 27,
          "wife_education": 4,
          "wife_religion": 0
         },
         {
          "contraceptive_method_used": 1,
          "standard_of_living_index": 3,
          "wife_age": 34,
          "wife_education": 4,
          "wife_religion": 1
         },
         {
          "contraceptive_method_used": 3,
          "standard_of_living_index": 3,
          "wife_age": 32,
          "wife_education": 4,
          "wife_religion": 1
         },
         {
          "contraceptive_method_used": 2,
          "standard_of_living_index": 3,
          "wife_age": 30,
          "wife_education": 3,
          "wife_religion": 1
         },
         {
          "contraceptive_method_used": 2,
          "standard_of_living_index": 3,
          "wife_age": 31,
          "wife_education": 4,
          "wife_religion": 1
         },
         {
          "contraceptive_method_used": 1,
          "standard_of_living_index": 3,
          "wife_age": 29,
          "wife_education": 3,
          "wife_religion": 1
         },
         {
          "contraceptive_method_used": 1,
          "standard_of_living_index": 1,
          "wife_age": 27,
          "wife_education": 1,
          "wife_religion": 1
         },
         {
          "contraceptive_method_used": 1,
          "standard_of_living_index": 3,
          "wife_age": 31,
          "wife_education": 3,
          "wife_religion": 1
         },
         {
          "contraceptive_method_used": 2,
          "standard_of_living_index": 4,
          "wife_age": 34,
          "wife_education": 3,
          "wife_religion": 0
         },
         {
          "contraceptive_method_used": 1,
          "standard_of_living_index": 4,
          "wife_age": 24,
          "wife_education": 2,
          "wife_religion": 1
         },
         {
          "contraceptive_method_used": 1,
          "standard_of_living_index": 2,
          "wife_age": 25,
          "wife_education": 3,
          "wife_religion": 1
         },
         {
          "contraceptive_method_used": 1,
          "standard_of_living_index": 3,
          "wife_age": 42,
          "wife_education": 2,
          "wife_religion": 1
         },
         {
          "contraceptive_method_used": 1,
          "standard_of_living_index": 4,
          "wife_age": 48,
          "wife_education": 1,
          "wife_religion": 1
         },
         {
          "contraceptive_method_used": 3,
          "standard_of_living_index": 3,
          "wife_age": 24,
          "wife_education": 4,
          "wife_religion": 1
         },
         {
          "contraceptive_method_used": 3,
          "standard_of_living_index": 4,
          "wife_age": 39,
          "wife_education": 4,
          "wife_religion": 1
         },
         {
          "contraceptive_method_used": 1,
          "standard_of_living_index": 3,
          "wife_age": 43,
          "wife_education": 4,
          "wife_religion": 1
         },
         {
          "contraceptive_method_used": 3,
          "standard_of_living_index": 3,
          "wife_age": 36,
          "wife_education": 4,
          "wife_religion": 1
         },
         {
          "contraceptive_method_used": 1,
          "standard_of_living_index": 2,
          "wife_age": 40,
          "wife_education": 3,
          "wife_religion": 1
         },
         {
          "contraceptive_method_used": 2,
          "standard_of_living_index": 4,
          "wife_age": 41,
          "wife_education": 4,
          "wife_religion": 0
         },
         {
          "contraceptive_method_used": 3,
          "standard_of_living_index": 3,
          "wife_age": 17,
          "wife_education": 3,
          "wife_religion": 1
         },
         {
          "contraceptive_method_used": 1,
          "standard_of_living_index": 3,
          "wife_age": 23,
          "wife_education": 3,
          "wife_religion": 1
         },
         {
          "contraceptive_method_used": 1,
          "standard_of_living_index": 1,
          "wife_age": 28,
          "wife_education": 4,
          "wife_religion": 1
         },
         {
          "contraceptive_method_used": 1,
          "standard_of_living_index": 1,
          "wife_age": 48,
          "wife_education": 1,
          "wife_religion": 1
         },
         {
          "contraceptive_method_used": 1,
          "standard_of_living_index": 1,
          "wife_age": 39,
          "wife_education": 2,
          "wife_religion": 1
         },
         {
          "contraceptive_method_used": 1,
          "standard_of_living_index": 4,
          "wife_age": 39,
          "wife_education": 4,
          "wife_religion": 1
         },
         {
          "contraceptive_method_used": 1,
          "standard_of_living_index": 4,
          "wife_age": 30,
          "wife_education": 4,
          "wife_religion": 1
         },
         {
          "contraceptive_method_used": 1,
          "standard_of_living_index": 3,
          "wife_age": 34,
          "wife_education": 4,
          "wife_religion": 1
         },
         {
          "contraceptive_method_used": 1,
          "standard_of_living_index": 1,
          "wife_age": 25,
          "wife_education": 2,
          "wife_religion": 1
         },
         {
          "contraceptive_method_used": 3,
          "standard_of_living_index": 3,
          "wife_age": 47,
          "wife_education": 1,
          "wife_religion": 1
         },
         {
          "contraceptive_method_used": 1,
          "standard_of_living_index": 2,
          "wife_age": 25,
          "wife_education": 2,
          "wife_religion": 1
         },
         {
          "contraceptive_method_used": 1,
          "standard_of_living_index": 3,
          "wife_age": 34,
          "wife_education": 3,
          "wife_religion": 1
         },
         {
          "contraceptive_method_used": 1,
          "standard_of_living_index": 3,
          "wife_age": 20,
          "wife_education": 3,
          "wife_religion": 1
         },
         {
          "contraceptive_method_used": 1,
          "standard_of_living_index": 4,
          "wife_age": 39,
          "wife_education": 3,
          "wife_religion": 1
         },
         {
          "contraceptive_method_used": 1,
          "standard_of_living_index": 4,
          "wife_age": 36,
          "wife_education": 3,
          "wife_religion": 1
         },
         {
          "contraceptive_method_used": 1,
          "standard_of_living_index": 4,
          "wife_age": 49,
          "wife_education": 4,
          "wife_religion": 1
         },
         {
          "contraceptive_method_used": 3,
          "standard_of_living_index": 4,
          "wife_age": 42,
          "wife_education": 4,
          "wife_religion": 0
         },
         {
          "contraceptive_method_used": 2,
          "standard_of_living_index": 3,
          "wife_age": 40,
          "wife_education": 4,
          "wife_religion": 1
         },
         {
          "contraceptive_method_used": 1,
          "standard_of_living_index": 1,
          "wife_age": 35,
          "wife_education": 2,
          "wife_religion": 1
         },
         {
          "contraceptive_method_used": 2,
          "standard_of_living_index": 4,
          "wife_age": 45,
          "wife_education": 4,
          "wife_religion": 1
         },
         {
          "contraceptive_method_used": 3,
          "standard_of_living_index": 3,
          "wife_age": 25,
          "wife_education": 2,
          "wife_religion": 1
         },
         {
          "contraceptive_method_used": 1,
          "standard_of_living_index": 3,
          "wife_age": 20,
          "wife_education": 3,
          "wife_religion": 1
         },
         {
          "contraceptive_method_used": 1,
          "standard_of_living_index": 4,
          "wife_age": 23,
          "wife_education": 3,
          "wife_religion": 1
         },
         {
          "contraceptive_method_used": 3,
          "standard_of_living_index": 2,
          "wife_age": 23,
          "wife_education": 3,
          "wife_religion": 1
         },
         {
          "contraceptive_method_used": 2,
          "standard_of_living_index": 4,
          "wife_age": 37,
          "wife_education": 4,
          "wife_religion": 1
         },
         {
          "contraceptive_method_used": 1,
          "standard_of_living_index": 4,
          "wife_age": 47,
          "wife_education": 1,
          "wife_religion": 1
         },
         {
          "contraceptive_method_used": 1,
          "standard_of_living_index": 4,
          "wife_age": 26,
          "wife_education": 2,
          "wife_religion": 1
         },
         {
          "contraceptive_method_used": 1,
          "standard_of_living_index": 1,
          "wife_age": 29,
          "wife_education": 2,
          "wife_religion": 1
         },
         {
          "contraceptive_method_used": 1,
          "standard_of_living_index": 3,
          "wife_age": 18,
          "wife_education": 2,
          "wife_religion": 1
         },
         {
          "contraceptive_method_used": 2,
          "standard_of_living_index": 4,
          "wife_age": 39,
          "wife_education": 4,
          "wife_religion": 1
         },
         {
          "contraceptive_method_used": 3,
          "standard_of_living_index": 4,
          "wife_age": 33,
          "wife_education": 3,
          "wife_religion": 1
         },
         {
          "contraceptive_method_used": 3,
          "standard_of_living_index": 4,
          "wife_age": 19,
          "wife_education": 4,
          "wife_religion": 1
         },
         {
          "contraceptive_method_used": 1,
          "standard_of_living_index": 4,
          "wife_age": 30,
          "wife_education": 4,
          "wife_religion": 1
         },
         {
          "contraceptive_method_used": 3,
          "standard_of_living_index": 4,
          "wife_age": 21,
          "wife_education": 2,
          "wife_religion": 0
         },
         {
          "contraceptive_method_used": 2,
          "standard_of_living_index": 4,
          "wife_age": 43,
          "wife_education": 4,
          "wife_religion": 0
         },
         {
          "contraceptive_method_used": 1,
          "standard_of_living_index": 1,
          "wife_age": 25,
          "wife_education": 3,
          "wife_religion": 1
         },
         {
          "contraceptive_method_used": 2,
          "standard_of_living_index": 4,
          "wife_age": 48,
          "wife_education": 4,
          "wife_religion": 0
         },
         {
          "contraceptive_method_used": 1,
          "standard_of_living_index": 3,
          "wife_age": 42,
          "wife_education": 1,
          "wife_religion": 1
         },
         {
          "contraceptive_method_used": 3,
          "standard_of_living_index": 4,
          "wife_age": 24,
          "wife_education": 3,
          "wife_religion": 1
         },
         {
          "contraceptive_method_used": 3,
          "standard_of_living_index": 2,
          "wife_age": 20,
          "wife_education": 3,
          "wife_religion": 1
         },
         {
          "contraceptive_method_used": 1,
          "standard_of_living_index": 3,
          "wife_age": 29,
          "wife_education": 3,
          "wife_religion": 1
         },
         {
          "contraceptive_method_used": 1,
          "standard_of_living_index": 3,
          "wife_age": 41,
          "wife_education": 1,
          "wife_religion": 1
         },
         {
          "contraceptive_method_used": 2,
          "standard_of_living_index": 3,
          "wife_age": 26,
          "wife_education": 2,
          "wife_religion": 1
         },
         {
          "contraceptive_method_used": 3,
          "standard_of_living_index": 3,
          "wife_age": 32,
          "wife_education": 1,
          "wife_religion": 0
         },
         {
          "contraceptive_method_used": 2,
          "standard_of_living_index": 4,
          "wife_age": 39,
          "wife_education": 4,
          "wife_religion": 1
         },
         {
          "contraceptive_method_used": 1,
          "standard_of_living_index": 4,
          "wife_age": 22,
          "wife_education": 1,
          "wife_religion": 1
         },
         {
          "contraceptive_method_used": 3,
          "standard_of_living_index": 4,
          "wife_age": 36,
          "wife_education": 4,
          "wife_religion": 1
         },
         {
          "contraceptive_method_used": 1,
          "standard_of_living_index": 3,
          "wife_age": 45,
          "wife_education": 1,
          "wife_religion": 1
         },
         {
          "contraceptive_method_used": 1,
          "standard_of_living_index": 4,
          "wife_age": 44,
          "wife_education": 4,
          "wife_religion": 1
         },
         {
          "contraceptive_method_used": 1,
          "standard_of_living_index": 1,
          "wife_age": 22,
          "wife_education": 2,
          "wife_religion": 1
         },
         {
          "contraceptive_method_used": 3,
          "standard_of_living_index": 4,
          "wife_age": 42,
          "wife_education": 2,
          "wife_religion": 1
         },
         {
          "contraceptive_method_used": 1,
          "standard_of_living_index": 3,
          "wife_age": 32,
          "wife_education": 2,
          "wife_religion": 1
         },
         {
          "contraceptive_method_used": 3,
          "standard_of_living_index": 3,
          "wife_age": 22,
          "wife_education": 2,
          "wife_religion": 1
         },
         {
          "contraceptive_method_used": 1,
          "standard_of_living_index": 2,
          "wife_age": 27,
          "wife_education": 3,
          "wife_religion": 1
         },
         {
          "contraceptive_method_used": 1,
          "standard_of_living_index": 1,
          "wife_age": 21,
          "wife_education": 3,
          "wife_religion": 1
         },
         {
          "contraceptive_method_used": 1,
          "standard_of_living_index": 4,
          "wife_age": 47,
          "wife_education": 3,
          "wife_religion": 1
         },
         {
          "contraceptive_method_used": 3,
          "standard_of_living_index": 3,
          "wife_age": 28,
          "wife_education": 3,
          "wife_religion": 1
         },
         {
          "contraceptive_method_used": 2,
          "standard_of_living_index": 4,
          "wife_age": 42,
          "wife_education": 2,
          "wife_religion": 1
         },
         {
          "contraceptive_method_used": 1,
          "standard_of_living_index": 4,
          "wife_age": 30,
          "wife_education": 2,
          "wife_religion": 1
         },
         {
          "contraceptive_method_used": 1,
          "standard_of_living_index": 4,
          "wife_age": 31,
          "wife_education": 4,
          "wife_religion": 1
         },
         {
          "contraceptive_method_used": 1,
          "standard_of_living_index": 4,
          "wife_age": 40,
          "wife_education": 4,
          "wife_religion": 1
         },
         {
          "contraceptive_method_used": 3,
          "standard_of_living_index": 1,
          "wife_age": 30,
          "wife_education": 2,
          "wife_religion": 1
         },
         {
          "contraceptive_method_used": 2,
          "standard_of_living_index": 4,
          "wife_age": 37,
          "wife_education": 4,
          "wife_religion": 1
         },
         {
          "contraceptive_method_used": 1,
          "standard_of_living_index": 2,
          "wife_age": 21,
          "wife_education": 3,
          "wife_religion": 1
         },
         {
          "contraceptive_method_used": 2,
          "standard_of_living_index": 4,
          "wife_age": 35,
          "wife_education": 4,
          "wife_religion": 1
         },
         {
          "contraceptive_method_used": 3,
          "standard_of_living_index": 1,
          "wife_age": 22,
          "wife_education": 1,
          "wife_religion": 1
         },
         {
          "contraceptive_method_used": 2,
          "standard_of_living_index": 4,
          "wife_age": 34,
          "wife_education": 4,
          "wife_religion": 1
         },
         {
          "contraceptive_method_used": 1,
          "standard_of_living_index": 1,
          "wife_age": 23,
          "wife_education": 3,
          "wife_religion": 1
         },
         {
          "contraceptive_method_used": 3,
          "standard_of_living_index": 3,
          "wife_age": 19,
          "wife_education": 3,
          "wife_religion": 1
         },
         {
          "contraceptive_method_used": 2,
          "standard_of_living_index": 4,
          "wife_age": 34,
          "wife_education": 1,
          "wife_religion": 1
         },
         {
          "contraceptive_method_used": 1,
          "standard_of_living_index": 4,
          "wife_age": 47,
          "wife_education": 2,
          "wife_religion": 0
         },
         {
          "contraceptive_method_used": 1,
          "standard_of_living_index": 3,
          "wife_age": 25,
          "wife_education": 2,
          "wife_religion": 1
         },
         {
          "contraceptive_method_used": 2,
          "standard_of_living_index": 4,
          "wife_age": 34,
          "wife_education": 4,
          "wife_religion": 1
         },
         {
          "contraceptive_method_used": 3,
          "standard_of_living_index": 3,
          "wife_age": 30,
          "wife_education": 3,
          "wife_religion": 1
         },
         {
          "contraceptive_method_used": 2,
          "standard_of_living_index": 4,
          "wife_age": 34,
          "wife_education": 3,
          "wife_religion": 1
         },
         {
          "contraceptive_method_used": 1,
          "standard_of_living_index": 4,
          "wife_age": 42,
          "wife_education": 4,
          "wife_religion": 1
         },
         {
          "contraceptive_method_used": 2,
          "standard_of_living_index": 4,
          "wife_age": 23,
          "wife_education": 3,
          "wife_religion": 1
         },
         {
          "contraceptive_method_used": 3,
          "standard_of_living_index": 4,
          "wife_age": 29,
          "wife_education": 3,
          "wife_religion": 1
         },
         {
          "contraceptive_method_used": 1,
          "standard_of_living_index": 4,
          "wife_age": 41,
          "wife_education": 3,
          "wife_religion": 1
         },
         {
          "contraceptive_method_used": 1,
          "standard_of_living_index": 4,
          "wife_age": 38,
          "wife_education": 3,
          "wife_religion": 1
         },
         {
          "contraceptive_method_used": 1,
          "standard_of_living_index": 4,
          "wife_age": 20,
          "wife_education": 2,
          "wife_religion": 1
         },
         {
          "contraceptive_method_used": 1,
          "standard_of_living_index": 3,
          "wife_age": 40,
          "wife_education": 3,
          "wife_religion": 1
         },
         {
          "contraceptive_method_used": 3,
          "standard_of_living_index": 2,
          "wife_age": 21,
          "wife_education": 3,
          "wife_religion": 1
         },
         {
          "contraceptive_method_used": 2,
          "standard_of_living_index": 4,
          "wife_age": 43,
          "wife_education": 3,
          "wife_religion": 1
         },
         {
          "contraceptive_method_used": 2,
          "standard_of_living_index": 4,
          "wife_age": 43,
          "wife_education": 4,
          "wife_religion": 0
         },
         {
          "contraceptive_method_used": 1,
          "standard_of_living_index": 3,
          "wife_age": 45,
          "wife_education": 1,
          "wife_religion": 1
         },
         {
          "contraceptive_method_used": 1,
          "standard_of_living_index": 2,
          "wife_age": 42,
          "wife_education": 1,
          "wife_religion": 0
         },
         {
          "contraceptive_method_used": 1,
          "standard_of_living_index": 3,
          "wife_age": 35,
          "wife_education": 4,
          "wife_religion": 0
         },
         {
          "contraceptive_method_used": 3,
          "standard_of_living_index": 4,
          "wife_age": 34,
          "wife_education": 3,
          "wife_religion": 0
         },
         {
          "contraceptive_method_used": 1,
          "standard_of_living_index": 3,
          "wife_age": 48,
          "wife_education": 2,
          "wife_religion": 1
         },
         {
          "contraceptive_method_used": 3,
          "standard_of_living_index": 2,
          "wife_age": 34,
          "wife_education": 4,
          "wife_religion": 1
         },
         {
          "contraceptive_method_used": 2,
          "standard_of_living_index": 3,
          "wife_age": 41,
          "wife_education": 3,
          "wife_religion": 1
         },
         {
          "contraceptive_method_used": 2,
          "standard_of_living_index": 4,
          "wife_age": 39,
          "wife_education": 4,
          "wife_religion": 0
         },
         {
          "contraceptive_method_used": 2,
          "standard_of_living_index": 4,
          "wife_age": 35,
          "wife_education": 2,
          "wife_religion": 0
         },
         {
          "contraceptive_method_used": 3,
          "standard_of_living_index": 4,
          "wife_age": 30,
          "wife_education": 2,
          "wife_religion": 1
         },
         {
          "contraceptive_method_used": 1,
          "standard_of_living_index": 1,
          "wife_age": 43,
          "wife_education": 1,
          "wife_religion": 1
         },
         {
          "contraceptive_method_used": 2,
          "standard_of_living_index": 4,
          "wife_age": 37,
          "wife_education": 4,
          "wife_religion": 1
         },
         {
          "contraceptive_method_used": 2,
          "standard_of_living_index": 4,
          "wife_age": 36,
          "wife_education": 4,
          "wife_religion": 0
         },
         {
          "contraceptive_method_used": 1,
          "standard_of_living_index": 3,
          "wife_age": 48,
          "wife_education": 3,
          "wife_religion": 1
         },
         {
          "contraceptive_method_used": 3,
          "standard_of_living_index": 3,
          "wife_age": 32,
          "wife_education": 4,
          "wife_religion": 1
         },
         {
          "contraceptive_method_used": 2,
          "standard_of_living_index": 4,
          "wife_age": 39,
          "wife_education": 4,
          "wife_religion": 0
         },
         {
          "contraceptive_method_used": 1,
          "standard_of_living_index": 2,
          "wife_age": 47,
          "wife_education": 1,
          "wife_religion": 1
         },
         {
          "contraceptive_method_used": 3,
          "standard_of_living_index": 4,
          "wife_age": 32,
          "wife_education": 2,
          "wife_religion": 1
         },
         {
          "contraceptive_method_used": 2,
          "standard_of_living_index": 4,
          "wife_age": 24,
          "wife_education": 4,
          "wife_religion": 1
         },
         {
          "contraceptive_method_used": 1,
          "standard_of_living_index": 3,
          "wife_age": 34,
          "wife_education": 4,
          "wife_religion": 0
         },
         {
          "contraceptive_method_used": 1,
          "standard_of_living_index": 4,
          "wife_age": 42,
          "wife_education": 4,
          "wife_religion": 0
         },
         {
          "contraceptive_method_used": 1,
          "standard_of_living_index": 2,
          "wife_age": 31,
          "wife_education": 3,
          "wife_religion": 1
         },
         {
          "contraceptive_method_used": 1,
          "standard_of_living_index": 3,
          "wife_age": 16,
          "wife_education": 3,
          "wife_religion": 1
         },
         {
          "contraceptive_method_used": 2,
          "standard_of_living_index": 4,
          "wife_age": 31,
          "wife_education": 4,
          "wife_religion": 1
         },
         {
          "contraceptive_method_used": 1,
          "standard_of_living_index": 3,
          "wife_age": 26,
          "wife_education": 2,
          "wife_religion": 1
         },
         {
          "contraceptive_method_used": 3,
          "standard_of_living_index": 4,
          "wife_age": 26,
          "wife_education": 3,
          "wife_religion": 1
         },
         {
          "contraceptive_method_used": 3,
          "standard_of_living_index": 3,
          "wife_age": 29,
          "wife_education": 2,
          "wife_religion": 1
         },
         {
          "contraceptive_method_used": 3,
          "standard_of_living_index": 3,
          "wife_age": 30,
          "wife_education": 3,
          "wife_religion": 1
         },
         {
          "contraceptive_method_used": 2,
          "standard_of_living_index": 1,
          "wife_age": 30,
          "wife_education": 4,
          "wife_religion": 1
         },
         {
          "contraceptive_method_used": 1,
          "standard_of_living_index": 4,
          "wife_age": 32,
          "wife_education": 3,
          "wife_religion": 0
         },
         {
          "contraceptive_method_used": 2,
          "standard_of_living_index": 4,
          "wife_age": 48,
          "wife_education": 4,
          "wife_religion": 1
         },
         {
          "contraceptive_method_used": 2,
          "standard_of_living_index": 4,
          "wife_age": 48,
          "wife_education": 4,
          "wife_religion": 0
         },
         {
          "contraceptive_method_used": 1,
          "standard_of_living_index": 3,
          "wife_age": 24,
          "wife_education": 2,
          "wife_religion": 1
         },
         {
          "contraceptive_method_used": 3,
          "standard_of_living_index": 2,
          "wife_age": 33,
          "wife_education": 3,
          "wife_religion": 1
         },
         {
          "contraceptive_method_used": 1,
          "standard_of_living_index": 2,
          "wife_age": 38,
          "wife_education": 2,
          "wife_religion": 1
         },
         {
          "contraceptive_method_used": 1,
          "standard_of_living_index": 4,
          "wife_age": 40,
          "wife_education": 4,
          "wife_religion": 0
         },
         {
          "contraceptive_method_used": 2,
          "standard_of_living_index": 4,
          "wife_age": 29,
          "wife_education": 3,
          "wife_religion": 1
         },
         {
          "contraceptive_method_used": 1,
          "standard_of_living_index": 4,
          "wife_age": 48,
          "wife_education": 2,
          "wife_religion": 1
         },
         {
          "contraceptive_method_used": 1,
          "standard_of_living_index": 4,
          "wife_age": 24,
          "wife_education": 2,
          "wife_religion": 1
         },
         {
          "contraceptive_method_used": 1,
          "standard_of_living_index": 3,
          "wife_age": 49,
          "wife_education": 4,
          "wife_religion": 1
         },
         {
          "contraceptive_method_used": 2,
          "standard_of_living_index": 4,
          "wife_age": 41,
          "wife_education": 4,
          "wife_religion": 0
         },
         {
          "contraceptive_method_used": 2,
          "standard_of_living_index": 4,
          "wife_age": 42,
          "wife_education": 4,
          "wife_religion": 1
         },
         {
          "contraceptive_method_used": 1,
          "standard_of_living_index": 3,
          "wife_age": 19,
          "wife_education": 4,
          "wife_religion": 1
         },
         {
          "contraceptive_method_used": 3,
          "standard_of_living_index": 1,
          "wife_age": 31,
          "wife_education": 3,
          "wife_religion": 1
         },
         {
          "contraceptive_method_used": 1,
          "standard_of_living_index": 4,
          "wife_age": 37,
          "wife_education": 1,
          "wife_religion": 1
         },
         {
          "contraceptive_method_used": 1,
          "standard_of_living_index": 2,
          "wife_age": 25,
          "wife_education": 2,
          "wife_religion": 1
         },
         {
          "contraceptive_method_used": 1,
          "standard_of_living_index": 2,
          "wife_age": 40,
          "wife_education": 3,
          "wife_religion": 1
         },
         {
          "contraceptive_method_used": 3,
          "standard_of_living_index": 4,
          "wife_age": 44,
          "wife_education": 4,
          "wife_religion": 1
         },
         {
          "contraceptive_method_used": 1,
          "standard_of_living_index": 4,
          "wife_age": 33,
          "wife_education": 4,
          "wife_religion": 0
         },
         {
          "contraceptive_method_used": 1,
          "standard_of_living_index": 3,
          "wife_age": 42,
          "wife_education": 1,
          "wife_religion": 1
         },
         {
          "contraceptive_method_used": 3,
          "standard_of_living_index": 4,
          "wife_age": 26,
          "wife_education": 4,
          "wife_religion": 1
         },
         {
          "contraceptive_method_used": 3,
          "standard_of_living_index": 3,
          "wife_age": 33,
          "wife_education": 4,
          "wife_religion": 0
         },
         {
          "contraceptive_method_used": 3,
          "standard_of_living_index": 3,
          "wife_age": 34,
          "wife_education": 4,
          "wife_religion": 1
         },
         {
          "contraceptive_method_used": 2,
          "standard_of_living_index": 3,
          "wife_age": 40,
          "wife_education": 4,
          "wife_religion": 1
         },
         {
          "contraceptive_method_used": 2,
          "standard_of_living_index": 4,
          "wife_age": 30,
          "wife_education": 2,
          "wife_religion": 1
         },
         {
          "contraceptive_method_used": 1,
          "standard_of_living_index": 2,
          "wife_age": 20,
          "wife_education": 2,
          "wife_religion": 1
         },
         {
          "contraceptive_method_used": 3,
          "standard_of_living_index": 2,
          "wife_age": 24,
          "wife_education": 1,
          "wife_religion": 1
         },
         {
          "contraceptive_method_used": 1,
          "standard_of_living_index": 4,
          "wife_age": 34,
          "wife_education": 1,
          "wife_religion": 1
         },
         {
          "contraceptive_method_used": 3,
          "standard_of_living_index": 4,
          "wife_age": 32,
          "wife_education": 2,
          "wife_religion": 1
         },
         {
          "contraceptive_method_used": 3,
          "standard_of_living_index": 3,
          "wife_age": 21,
          "wife_education": 4,
          "wife_religion": 1
         },
         {
          "contraceptive_method_used": 2,
          "standard_of_living_index": 4,
          "wife_age": 46,
          "wife_education": 4,
          "wife_religion": 1
         },
         {
          "contraceptive_method_used": 3,
          "standard_of_living_index": 3,
          "wife_age": 24,
          "wife_education": 3,
          "wife_religion": 1
         },
         {
          "contraceptive_method_used": 3,
          "standard_of_living_index": 3,
          "wife_age": 30,
          "wife_education": 3,
          "wife_religion": 1
         },
         {
          "contraceptive_method_used": 3,
          "standard_of_living_index": 2,
          "wife_age": 25,
          "wife_education": 2,
          "wife_religion": 1
         },
         {
          "contraceptive_method_used": 3,
          "standard_of_living_index": 4,
          "wife_age": 23,
          "wife_education": 4,
          "wife_religion": 1
         },
         {
          "contraceptive_method_used": 3,
          "standard_of_living_index": 3,
          "wife_age": 22,
          "wife_education": 4,
          "wife_religion": 1
         },
         {
          "contraceptive_method_used": 3,
          "standard_of_living_index": 2,
          "wife_age": 30,
          "wife_education": 3,
          "wife_religion": 1
         },
         {
          "contraceptive_method_used": 3,
          "standard_of_living_index": 4,
          "wife_age": 27,
          "wife_education": 4,
          "wife_religion": 1
         },
         {
          "contraceptive_method_used": 3,
          "standard_of_living_index": 3,
          "wife_age": 25,
          "wife_education": 4,
          "wife_religion": 0
         },
         {
          "contraceptive_method_used": 1,
          "standard_of_living_index": 4,
          "wife_age": 44,
          "wife_education": 4,
          "wife_religion": 1
         },
         {
          "contraceptive_method_used": 3,
          "standard_of_living_index": 4,
          "wife_age": 34,
          "wife_education": 4,
          "wife_religion": 0
         },
         {
          "contraceptive_method_used": 3,
          "standard_of_living_index": 4,
          "wife_age": 26,
          "wife_education": 4,
          "wife_religion": 1
         },
         {
          "contraceptive_method_used": 1,
          "standard_of_living_index": 4,
          "wife_age": 41,
          "wife_education": 3,
          "wife_religion": 0
         },
         {
          "contraceptive_method_used": 2,
          "standard_of_living_index": 4,
          "wife_age": 32,
          "wife_education": 4,
          "wife_religion": 0
         },
         {
          "contraceptive_method_used": 2,
          "standard_of_living_index": 3,
          "wife_age": 31,
          "wife_education": 4,
          "wife_religion": 0
         },
         {
          "contraceptive_method_used": 2,
          "standard_of_living_index": 4,
          "wife_age": 28,
          "wife_education": 3,
          "wife_religion": 1
         },
         {
          "contraceptive_method_used": 1,
          "standard_of_living_index": 4,
          "wife_age": 29,
          "wife_education": 3,
          "wife_religion": 1
         },
         {
          "contraceptive_method_used": 1,
          "standard_of_living_index": 4,
          "wife_age": 23,
          "wife_education": 4,
          "wife_religion": 1
         },
         {
          "contraceptive_method_used": 1,
          "standard_of_living_index": 2,
          "wife_age": 46,
          "wife_education": 3,
          "wife_religion": 1
         },
         {
          "contraceptive_method_used": 3,
          "standard_of_living_index": 4,
          "wife_age": 32,
          "wife_education": 4,
          "wife_religion": 1
         },
         {
          "contraceptive_method_used": 2,
          "standard_of_living_index": 4,
          "wife_age": 46,
          "wife_education": 4,
          "wife_religion": 0
         },
         {
          "contraceptive_method_used": 1,
          "standard_of_living_index": 3,
          "wife_age": 23,
          "wife_education": 2,
          "wife_religion": 1
         },
         {
          "contraceptive_method_used": 3,
          "standard_of_living_index": 4,
          "wife_age": 41,
          "wife_education": 1,
          "wife_religion": 1
         },
         {
          "contraceptive_method_used": 2,
          "standard_of_living_index": 4,
          "wife_age": 49,
          "wife_education": 3,
          "wife_religion": 1
         },
         {
          "contraceptive_method_used": 3,
          "standard_of_living_index": 4,
          "wife_age": 25,
          "wife_education": 4,
          "wife_religion": 1
         },
         {
          "contraceptive_method_used": 3,
          "standard_of_living_index": 4,
          "wife_age": 39,
          "wife_education": 4,
          "wife_religion": 0
         },
         {
          "contraceptive_method_used": 2,
          "standard_of_living_index": 2,
          "wife_age": 40,
          "wife_education": 2,
          "wife_religion": 1
         },
         {
          "contraceptive_method_used": 3,
          "standard_of_living_index": 3,
          "wife_age": 26,
          "wife_education": 4,
          "wife_religion": 1
         },
         {
          "contraceptive_method_used": 1,
          "standard_of_living_index": 3,
          "wife_age": 20,
          "wife_education": 2,
          "wife_religion": 1
         },
         {
          "contraceptive_method_used": 2,
          "standard_of_living_index": 4,
          "wife_age": 32,
          "wife_education": 4,
          "wife_religion": 1
         },
         {
          "contraceptive_method_used": 1,
          "standard_of_living_index": 1,
          "wife_age": 21,
          "wife_education": 2,
          "wife_religion": 1
         },
         {
          "contraceptive_method_used": 1,
          "standard_of_living_index": 4,
          "wife_age": 46,
          "wife_education": 2,
          "wife_religion": 1
         },
         {
          "contraceptive_method_used": 1,
          "standard_of_living_index": 4,
          "wife_age": 35,
          "wife_education": 4,
          "wife_religion": 1
         },
         {
          "contraceptive_method_used": 2,
          "standard_of_living_index": 4,
          "wife_age": 28,
          "wife_education": 4,
          "wife_religion": 0
         },
         {
          "contraceptive_method_used": 3,
          "standard_of_living_index": 3,
          "wife_age": 30,
          "wife_education": 4,
          "wife_religion": 0
         },
         {
          "contraceptive_method_used": 2,
          "standard_of_living_index": 4,
          "wife_age": 32,
          "wife_education": 4,
          "wife_religion": 1
         },
         {
          "contraceptive_method_used": 1,
          "standard_of_living_index": 2,
          "wife_age": 43,
          "wife_education": 1,
          "wife_religion": 1
         },
         {
          "contraceptive_method_used": 3,
          "standard_of_living_index": 4,
          "wife_age": 36,
          "wife_education": 2,
          "wife_religion": 1
         },
         {
          "contraceptive_method_used": 3,
          "standard_of_living_index": 3,
          "wife_age": 25,
          "wife_education": 4,
          "wife_religion": 1
         },
         {
          "contraceptive_method_used": 1,
          "standard_of_living_index": 3,
          "wife_age": 22,
          "wife_education": 3,
          "wife_religion": 1
         },
         {
          "contraceptive_method_used": 2,
          "standard_of_living_index": 3,
          "wife_age": 35,
          "wife_education": 3,
          "wife_religion": 1
         },
         {
          "contraceptive_method_used": 1,
          "standard_of_living_index": 4,
          "wife_age": 27,
          "wife_education": 4,
          "wife_religion": 0
         },
         {
          "contraceptive_method_used": 1,
          "standard_of_living_index": 3,
          "wife_age": 34,
          "wife_education": 4,
          "wife_religion": 0
         },
         {
          "contraceptive_method_used": 3,
          "standard_of_living_index": 3,
          "wife_age": 33,
          "wife_education": 4,
          "wife_religion": 1
         },
         {
          "contraceptive_method_used": 2,
          "standard_of_living_index": 4,
          "wife_age": 31,
          "wife_education": 4,
          "wife_religion": 0
         },
         {
          "contraceptive_method_used": 1,
          "standard_of_living_index": 2,
          "wife_age": 21,
          "wife_education": 2,
          "wife_religion": 1
         },
         {
          "contraceptive_method_used": 3,
          "standard_of_living_index": 3,
          "wife_age": 30,
          "wife_education": 3,
          "wife_religion": 1
         },
         {
          "contraceptive_method_used": 2,
          "standard_of_living_index": 4,
          "wife_age": 33,
          "wife_education": 3,
          "wife_religion": 0
         },
         {
          "contraceptive_method_used": 3,
          "standard_of_living_index": 3,
          "wife_age": 38,
          "wife_education": 4,
          "wife_religion": 0
         },
         {
          "contraceptive_method_used": 3,
          "standard_of_living_index": 1,
          "wife_age": 32,
          "wife_education": 2,
          "wife_religion": 1
         },
         {
          "contraceptive_method_used": 3,
          "standard_of_living_index": 3,
          "wife_age": 39,
          "wife_education": 4,
          "wife_religion": 0
         },
         {
          "contraceptive_method_used": 1,
          "standard_of_living_index": 3,
          "wife_age": 42,
          "wife_education": 3,
          "wife_religion": 1
         },
         {
          "contraceptive_method_used": 1,
          "standard_of_living_index": 4,
          "wife_age": 31,
          "wife_education": 3,
          "wife_religion": 1
         },
         {
          "contraceptive_method_used": 1,
          "standard_of_living_index": 4,
          "wife_age": 26,
          "wife_education": 4,
          "wife_religion": 1
         },
         {
          "contraceptive_method_used": 1,
          "standard_of_living_index": 4,
          "wife_age": 30,
          "wife_education": 4,
          "wife_religion": 1
         },
         {
          "contraceptive_method_used": 1,
          "standard_of_living_index": 3,
          "wife_age": 27,
          "wife_education": 2,
          "wife_religion": 1
         },
         {
          "contraceptive_method_used": 3,
          "standard_of_living_index": 4,
          "wife_age": 37,
          "wife_education": 4,
          "wife_religion": 1
         },
         {
          "contraceptive_method_used": 1,
          "standard_of_living_index": 2,
          "wife_age": 24,
          "wife_education": 3,
          "wife_religion": 1
         },
         {
          "contraceptive_method_used": 1,
          "standard_of_living_index": 1,
          "wife_age": 26,
          "wife_education": 1,
          "wife_religion": 1
         },
         {
          "contraceptive_method_used": 3,
          "standard_of_living_index": 4,
          "wife_age": 31,
          "wife_education": 4,
          "wife_religion": 1
         },
         {
          "contraceptive_method_used": 1,
          "standard_of_living_index": 4,
          "wife_age": 47,
          "wife_education": 4,
          "wife_religion": 1
         },
         {
          "contraceptive_method_used": 2,
          "standard_of_living_index": 3,
          "wife_age": 29,
          "wife_education": 3,
          "wife_religion": 1
         },
         {
          "contraceptive_method_used": 1,
          "standard_of_living_index": 2,
          "wife_age": 24,
          "wife_education": 3,
          "wife_religion": 1
         },
         {
          "contraceptive_method_used": 2,
          "standard_of_living_index": 3,
          "wife_age": 28,
          "wife_education": 4,
          "wife_religion": 1
         },
         {
          "contraceptive_method_used": 1,
          "standard_of_living_index": 2,
          "wife_age": 47,
          "wife_education": 1,
          "wife_religion": 1
         },
         {
          "contraceptive_method_used": 3,
          "standard_of_living_index": 4,
          "wife_age": 44,
          "wife_education": 4,
          "wife_religion": 1
         },
         {
          "contraceptive_method_used": 2,
          "standard_of_living_index": 4,
          "wife_age": 33,
          "wife_education": 3,
          "wife_religion": 1
         },
         {
          "contraceptive_method_used": 3,
          "standard_of_living_index": 2,
          "wife_age": 32,
          "wife_education": 1,
          "wife_religion": 1
         },
         {
          "contraceptive_method_used": 2,
          "standard_of_living_index": 3,
          "wife_age": 34,
          "wife_education": 2,
          "wife_religion": 1
         },
         {
          "contraceptive_method_used": 3,
          "standard_of_living_index": 4,
          "wife_age": 28,
          "wife_education": 1,
          "wife_religion": 1
         },
         {
          "contraceptive_method_used": 2,
          "standard_of_living_index": 4,
          "wife_age": 47,
          "wife_education": 4,
          "wife_religion": 1
         },
         {
          "contraceptive_method_used": 1,
          "standard_of_living_index": 4,
          "wife_age": 22,
          "wife_education": 3,
          "wife_religion": 1
         },
         {
          "contraceptive_method_used": 2,
          "standard_of_living_index": 3,
          "wife_age": 22,
          "wife_education": 4,
          "wife_religion": 1
         },
         {
          "contraceptive_method_used": 3,
          "standard_of_living_index": 4,
          "wife_age": 42,
          "wife_education": 4,
          "wife_religion": 0
         },
         {
          "contraceptive_method_used": 1,
          "standard_of_living_index": 4,
          "wife_age": 37,
          "wife_education": 3,
          "wife_religion": 1
         }
        ]
       },
       "encoding": {
        "color": {
         "field": "wife_religion",
         "legend": {
          "title": "Religion"
         },
         "type": "quantitative"
        },
        "x": {
         "field": "contraceptive_method_used",
         "title": "Contraceptive method used",
         "type": "quantitative"
        },
        "y": {
         "aggregate": "count",
         "title": "Number of records",
         "type": "quantitative"
        }
       },
       "mark": {
        "size": 10,
        "type": "bar"
       },
       "title": "Distribution of Religion For Each Method of Contraception Used",
       "width": 100
      },
      "text/plain": [
       "<VegaLite 4 object>\n",
       "\n",
       "If you see this message, it means the renderer has not been properly enabled\n",
       "for the frontend that you are using. For more information, see\n",
       "https://altair-viz.github.io/user_guide/troubleshooting.html\n"
      ]
     },
     "execution_count": 38,
     "metadata": {},
     "output_type": "execute_result"
    }
   ],
   "source": [
    "wife_religion_correlation = alt.Chart(cmc_train, title = \"Distribution of Religion For Each Method of Contraception Used\").mark_bar(size=10).encode(\n",
    "    x = alt.X(\"contraceptive_method_used\", title = \"Contraceptive method used\"),\n",
    "    y = alt.Y(\"count()\", title = \"Number of records\"),\n",
    "    color = alt.Color(\"wife_religion\", legend=alt.Legend(title=\"Religion\"))\n",
    ").properties(width=100)\n",
    "wife_religion_correlation"
   ]
  },
  {
   "cell_type": "markdown",
   "metadata": {},
   "source": [
    "From the graph, we can see that the greater number of women surveyed were religious and used no method of contraception. However, when focusing on the invididual bars, the distribution of religion and non-religious women for each method of contraception does not differ greatly. "
   ]
  },
  {
   "attachments": {},
   "cell_type": "markdown",
   "metadata": {},
   "source": [
    "#### Data Analysis"
   ]
  },
  {
   "attachments": {},
   "cell_type": "markdown",
   "metadata": {},
   "source": [
    "Using the same training and testing set that was created in the preliminary analysis. We can begin to train a K-neighbours classifier to predict the method of contraceptive method used. First, we will create a pipeline with a scaler and KNeighboursClassifier. "
   ]
  },
  {
   "cell_type": "code",
   "execution_count": 39,
   "metadata": {},
   "outputs": [
    {
     "data": {
      "text/plain": [
       "ColumnTransformer(transformers=[('standardscaler', StandardScaler(),\n",
       "                                 ['wife_age', 'wife_education', 'wife_religion',\n",
       "                                  'standard_of_living_index'])])"
      ]
     },
     "execution_count": 39,
     "metadata": {},
     "output_type": "execute_result"
    }
   ],
   "source": [
    "#make preprocessor\n",
    "from sklearn.preprocessing import StandardScaler\n",
    "from sklearn.compose import make_column_transformer\n",
    "\n",
    "preprocessor = make_column_transformer(\n",
    "     (StandardScaler(), [\"wife_age\", \"wife_education\", \"wife_religion\", \"standard_of_living_index\"]),\n",
    ")\n",
    "preprocessor"
   ]
  },
  {
   "cell_type": "code",
   "execution_count": 40,
   "metadata": {},
   "outputs": [],
   "source": [
    "#choosing K\n",
    "from sklearn.neighbors import KNeighborsClassifier\n",
    "\n",
    "knn = KNeighborsClassifier()\n",
    "X = cmc_train.loc[:, [\"wife_age\", \"wife_education\", \"wife_religion\", \"standard_of_living_index\"]]\n",
    "y = cmc_train[\"contraceptive_method_used\"]\n"
   ]
  },
  {
   "cell_type": "code",
   "execution_count": 41,
   "metadata": {},
   "outputs": [
    {
     "data": {
      "text/plain": [
       "Pipeline(steps=[('columntransformer',\n",
       "                 ColumnTransformer(transformers=[('standardscaler',\n",
       "                                                  StandardScaler(),\n",
       "                                                  ['wife_age', 'wife_education',\n",
       "                                                   'wife_religion',\n",
       "                                                   'standard_of_living_index'])])),\n",
       "                ('kneighborsclassifier', KNeighborsClassifier())])"
      ]
     },
     "execution_count": 41,
     "metadata": {},
     "output_type": "execute_result"
    }
   ],
   "source": [
    "#make pipeline\n",
    "from sklearn.pipeline import make_pipeline\n",
    "pipeline = make_pipeline(preprocessor, knn)\n",
    "pipeline"
   ]
  },
  {
   "cell_type": "code",
   "execution_count": 42,
   "metadata": {},
   "outputs": [
    {
     "data": {
      "text/plain": [
       "{'memory': None,\n",
       " 'steps': [('columntransformer',\n",
       "   ColumnTransformer(transformers=[('standardscaler', StandardScaler(),\n",
       "                                    ['wife_age', 'wife_education', 'wife_religion',\n",
       "                                     'standard_of_living_index'])])),\n",
       "  ('kneighborsclassifier', KNeighborsClassifier())],\n",
       " 'verbose': False,\n",
       " 'columntransformer': ColumnTransformer(transformers=[('standardscaler', StandardScaler(),\n",
       "                                  ['wife_age', 'wife_education', 'wife_religion',\n",
       "                                   'standard_of_living_index'])]),\n",
       " 'kneighborsclassifier': KNeighborsClassifier(),\n",
       " 'columntransformer__n_jobs': None,\n",
       " 'columntransformer__remainder': 'drop',\n",
       " 'columntransformer__sparse_threshold': 0.3,\n",
       " 'columntransformer__transformer_weights': None,\n",
       " 'columntransformer__transformers': [('standardscaler',\n",
       "   StandardScaler(),\n",
       "   ['wife_age',\n",
       "    'wife_education',\n",
       "    'wife_religion',\n",
       "    'standard_of_living_index'])],\n",
       " 'columntransformer__verbose': False,\n",
       " 'columntransformer__verbose_feature_names_out': True,\n",
       " 'columntransformer__standardscaler': StandardScaler(),\n",
       " 'columntransformer__standardscaler__copy': True,\n",
       " 'columntransformer__standardscaler__with_mean': True,\n",
       " 'columntransformer__standardscaler__with_std': True,\n",
       " 'kneighborsclassifier__algorithm': 'auto',\n",
       " 'kneighborsclassifier__leaf_size': 30,\n",
       " 'kneighborsclassifier__metric': 'minkowski',\n",
       " 'kneighborsclassifier__metric_params': None,\n",
       " 'kneighborsclassifier__n_jobs': None,\n",
       " 'kneighborsclassifier__n_neighbors': 5,\n",
       " 'kneighborsclassifier__p': 2,\n",
       " 'kneighborsclassifier__weights': 'uniform'}"
      ]
     },
     "execution_count": 42,
     "metadata": {},
     "output_type": "execute_result"
    }
   ],
   "source": [
    "#specify grid of parameter values\n",
    "pipeline.get_params()"
   ]
  },
  {
   "attachments": {},
   "cell_type": "markdown",
   "metadata": {},
   "source": [
    "Using the parameters provided above, appropriate values were chosen for the parameter grid for the <code>GridSearchCV</code> method. As such, we are able to find the k-value that provides the most accurate predictions. "
   ]
  },
  {
   "cell_type": "code",
   "execution_count": 43,
   "metadata": {},
   "outputs": [
    {
     "data": {
      "text/plain": [
       "{'kneighborsclassifier__n_neighbors': range(1, 100, 5)}"
      ]
     },
     "execution_count": 43,
     "metadata": {},
     "output_type": "execute_result"
    }
   ],
   "source": [
    "#TODO: How do you determine the range of the data? We know that the lower limit is 1, but what would be upper limit be?\n",
    "\n",
    "#make parameter grid\n",
    "param_grid = {\n",
    "    \"kneighborsclassifier__n_neighbors\": range(1, 100, 5),\n",
    "}\n",
    "param_grid"
   ]
  },
  {
   "cell_type": "code",
   "execution_count": 44,
   "metadata": {},
   "outputs": [
    {
     "data": {
      "text/plain": [
       "GridSearchCV(cv=5,\n",
       "             estimator=Pipeline(steps=[('columntransformer',\n",
       "                                        ColumnTransformer(transformers=[('standardscaler',\n",
       "                                                                         StandardScaler(),\n",
       "                                                                         ['wife_age',\n",
       "                                                                          'wife_education',\n",
       "                                                                          'wife_religion',\n",
       "                                                                          'standard_of_living_index'])])),\n",
       "                                       ('kneighborsclassifier',\n",
       "                                        KNeighborsClassifier())]),\n",
       "             param_grid={'kneighborsclassifier__n_neighbors': range(1, 100, 5)})"
      ]
     },
     "execution_count": 44,
     "metadata": {},
     "output_type": "execute_result"
    }
   ],
   "source": [
    "#create GridSearchCV object\n",
    "from sklearn.model_selection import GridSearchCV\n",
    "\n",
    "cmc_tune_grid = GridSearchCV(\n",
    "    estimator=pipeline,\n",
    "    param_grid=param_grid,\n",
    "    cv=5\n",
    ")\n",
    "cmc_tune_grid"
   ]
  },
  {
   "cell_type": "code",
   "execution_count": 45,
   "metadata": {},
   "outputs": [
    {
     "data": {
      "text/html": [
       "<div>\n",
       "<style scoped>\n",
       "    .dataframe tbody tr th:only-of-type {\n",
       "        vertical-align: middle;\n",
       "    }\n",
       "\n",
       "    .dataframe tbody tr th {\n",
       "        vertical-align: top;\n",
       "    }\n",
       "\n",
       "    .dataframe thead th {\n",
       "        text-align: right;\n",
       "    }\n",
       "</style>\n",
       "<table border=\"1\" class=\"dataframe\">\n",
       "  <thead>\n",
       "    <tr style=\"text-align: right;\">\n",
       "      <th></th>\n",
       "      <th>mean_fit_time</th>\n",
       "      <th>std_fit_time</th>\n",
       "      <th>mean_score_time</th>\n",
       "      <th>std_score_time</th>\n",
       "      <th>param_kneighborsclassifier__n_neighbors</th>\n",
       "      <th>params</th>\n",
       "      <th>split0_test_score</th>\n",
       "      <th>split1_test_score</th>\n",
       "      <th>split2_test_score</th>\n",
       "      <th>split3_test_score</th>\n",
       "      <th>split4_test_score</th>\n",
       "      <th>mean_test_score</th>\n",
       "      <th>std_test_score</th>\n",
       "      <th>rank_test_score</th>\n",
       "    </tr>\n",
       "  </thead>\n",
       "  <tbody>\n",
       "    <tr>\n",
       "      <th>0</th>\n",
       "      <td>0.009770</td>\n",
       "      <td>0.008484</td>\n",
       "      <td>0.010007</td>\n",
       "      <td>0.001294</td>\n",
       "      <td>1</td>\n",
       "      <td>{'kneighborsclassifier__n_neighbors': 1}</td>\n",
       "      <td>0.416290</td>\n",
       "      <td>0.393665</td>\n",
       "      <td>0.420814</td>\n",
       "      <td>0.452489</td>\n",
       "      <td>0.381818</td>\n",
       "      <td>0.413015</td>\n",
       "      <td>0.024402</td>\n",
       "      <td>20</td>\n",
       "    </tr>\n",
       "    <tr>\n",
       "      <th>1</th>\n",
       "      <td>0.004093</td>\n",
       "      <td>0.000208</td>\n",
       "      <td>0.009239</td>\n",
       "      <td>0.000149</td>\n",
       "      <td>6</td>\n",
       "      <td>{'kneighborsclassifier__n_neighbors': 6}</td>\n",
       "      <td>0.447964</td>\n",
       "      <td>0.438914</td>\n",
       "      <td>0.488688</td>\n",
       "      <td>0.461538</td>\n",
       "      <td>0.418182</td>\n",
       "      <td>0.451057</td>\n",
       "      <td>0.023511</td>\n",
       "      <td>15</td>\n",
       "    </tr>\n",
       "    <tr>\n",
       "      <th>2</th>\n",
       "      <td>0.004094</td>\n",
       "      <td>0.000293</td>\n",
       "      <td>0.009500</td>\n",
       "      <td>0.000128</td>\n",
       "      <td>11</td>\n",
       "      <td>{'kneighborsclassifier__n_neighbors': 11}</td>\n",
       "      <td>0.438914</td>\n",
       "      <td>0.420814</td>\n",
       "      <td>0.479638</td>\n",
       "      <td>0.470588</td>\n",
       "      <td>0.427273</td>\n",
       "      <td>0.447445</td>\n",
       "      <td>0.023498</td>\n",
       "      <td>16</td>\n",
       "    </tr>\n",
       "    <tr>\n",
       "      <th>3</th>\n",
       "      <td>0.003955</td>\n",
       "      <td>0.000407</td>\n",
       "      <td>0.009091</td>\n",
       "      <td>0.000575</td>\n",
       "      <td>16</td>\n",
       "      <td>{'kneighborsclassifier__n_neighbors': 16}</td>\n",
       "      <td>0.434389</td>\n",
       "      <td>0.375566</td>\n",
       "      <td>0.488688</td>\n",
       "      <td>0.520362</td>\n",
       "      <td>0.450000</td>\n",
       "      <td>0.453801</td>\n",
       "      <td>0.049314</td>\n",
       "      <td>14</td>\n",
       "    </tr>\n",
       "    <tr>\n",
       "      <th>4</th>\n",
       "      <td>0.003496</td>\n",
       "      <td>0.000074</td>\n",
       "      <td>0.008959</td>\n",
       "      <td>0.000136</td>\n",
       "      <td>21</td>\n",
       "      <td>{'kneighborsclassifier__n_neighbors': 21}</td>\n",
       "      <td>0.429864</td>\n",
       "      <td>0.398190</td>\n",
       "      <td>0.452489</td>\n",
       "      <td>0.493213</td>\n",
       "      <td>0.440909</td>\n",
       "      <td>0.442933</td>\n",
       "      <td>0.030972</td>\n",
       "      <td>17</td>\n",
       "    </tr>\n",
       "    <tr>\n",
       "      <th>5</th>\n",
       "      <td>0.003836</td>\n",
       "      <td>0.000327</td>\n",
       "      <td>0.009437</td>\n",
       "      <td>0.000282</td>\n",
       "      <td>26</td>\n",
       "      <td>{'kneighborsclassifier__n_neighbors': 26}</td>\n",
       "      <td>0.434389</td>\n",
       "      <td>0.402715</td>\n",
       "      <td>0.420814</td>\n",
       "      <td>0.443439</td>\n",
       "      <td>0.450000</td>\n",
       "      <td>0.430271</td>\n",
       "      <td>0.016902</td>\n",
       "      <td>19</td>\n",
       "    </tr>\n",
       "    <tr>\n",
       "      <th>6</th>\n",
       "      <td>0.003945</td>\n",
       "      <td>0.000190</td>\n",
       "      <td>0.010038</td>\n",
       "      <td>0.000473</td>\n",
       "      <td>31</td>\n",
       "      <td>{'kneighborsclassifier__n_neighbors': 31}</td>\n",
       "      <td>0.429864</td>\n",
       "      <td>0.407240</td>\n",
       "      <td>0.475113</td>\n",
       "      <td>0.443439</td>\n",
       "      <td>0.450000</td>\n",
       "      <td>0.441131</td>\n",
       "      <td>0.022425</td>\n",
       "      <td>18</td>\n",
       "    </tr>\n",
       "    <tr>\n",
       "      <th>7</th>\n",
       "      <td>0.003564</td>\n",
       "      <td>0.000138</td>\n",
       "      <td>0.009722</td>\n",
       "      <td>0.000064</td>\n",
       "      <td>36</td>\n",
       "      <td>{'kneighborsclassifier__n_neighbors': 36}</td>\n",
       "      <td>0.466063</td>\n",
       "      <td>0.411765</td>\n",
       "      <td>0.488688</td>\n",
       "      <td>0.452489</td>\n",
       "      <td>0.477273</td>\n",
       "      <td>0.459255</td>\n",
       "      <td>0.026602</td>\n",
       "      <td>13</td>\n",
       "    </tr>\n",
       "    <tr>\n",
       "      <th>8</th>\n",
       "      <td>0.003547</td>\n",
       "      <td>0.000041</td>\n",
       "      <td>0.009960</td>\n",
       "      <td>0.000163</td>\n",
       "      <td>41</td>\n",
       "      <td>{'kneighborsclassifier__n_neighbors': 41}</td>\n",
       "      <td>0.470588</td>\n",
       "      <td>0.425339</td>\n",
       "      <td>0.479638</td>\n",
       "      <td>0.461538</td>\n",
       "      <td>0.477273</td>\n",
       "      <td>0.462875</td>\n",
       "      <td>0.019791</td>\n",
       "      <td>10</td>\n",
       "    </tr>\n",
       "    <tr>\n",
       "      <th>9</th>\n",
       "      <td>0.003633</td>\n",
       "      <td>0.000110</td>\n",
       "      <td>0.010210</td>\n",
       "      <td>0.000173</td>\n",
       "      <td>46</td>\n",
       "      <td>{'kneighborsclassifier__n_neighbors': 46}</td>\n",
       "      <td>0.452489</td>\n",
       "      <td>0.438914</td>\n",
       "      <td>0.493213</td>\n",
       "      <td>0.484163</td>\n",
       "      <td>0.445455</td>\n",
       "      <td>0.462847</td>\n",
       "      <td>0.021721</td>\n",
       "      <td>11</td>\n",
       "    </tr>\n",
       "  </tbody>\n",
       "</table>\n",
       "</div>"
      ],
      "text/plain": [
       "   mean_fit_time  std_fit_time  mean_score_time  std_score_time  \\\n",
       "0       0.009770      0.008484         0.010007        0.001294   \n",
       "1       0.004093      0.000208         0.009239        0.000149   \n",
       "2       0.004094      0.000293         0.009500        0.000128   \n",
       "3       0.003955      0.000407         0.009091        0.000575   \n",
       "4       0.003496      0.000074         0.008959        0.000136   \n",
       "5       0.003836      0.000327         0.009437        0.000282   \n",
       "6       0.003945      0.000190         0.010038        0.000473   \n",
       "7       0.003564      0.000138         0.009722        0.000064   \n",
       "8       0.003547      0.000041         0.009960        0.000163   \n",
       "9       0.003633      0.000110         0.010210        0.000173   \n",
       "\n",
       "  param_kneighborsclassifier__n_neighbors  \\\n",
       "0                                       1   \n",
       "1                                       6   \n",
       "2                                      11   \n",
       "3                                      16   \n",
       "4                                      21   \n",
       "5                                      26   \n",
       "6                                      31   \n",
       "7                                      36   \n",
       "8                                      41   \n",
       "9                                      46   \n",
       "\n",
       "                                      params  split0_test_score  \\\n",
       "0   {'kneighborsclassifier__n_neighbors': 1}           0.416290   \n",
       "1   {'kneighborsclassifier__n_neighbors': 6}           0.447964   \n",
       "2  {'kneighborsclassifier__n_neighbors': 11}           0.438914   \n",
       "3  {'kneighborsclassifier__n_neighbors': 16}           0.434389   \n",
       "4  {'kneighborsclassifier__n_neighbors': 21}           0.429864   \n",
       "5  {'kneighborsclassifier__n_neighbors': 26}           0.434389   \n",
       "6  {'kneighborsclassifier__n_neighbors': 31}           0.429864   \n",
       "7  {'kneighborsclassifier__n_neighbors': 36}           0.466063   \n",
       "8  {'kneighborsclassifier__n_neighbors': 41}           0.470588   \n",
       "9  {'kneighborsclassifier__n_neighbors': 46}           0.452489   \n",
       "\n",
       "   split1_test_score  split2_test_score  split3_test_score  split4_test_score  \\\n",
       "0           0.393665           0.420814           0.452489           0.381818   \n",
       "1           0.438914           0.488688           0.461538           0.418182   \n",
       "2           0.420814           0.479638           0.470588           0.427273   \n",
       "3           0.375566           0.488688           0.520362           0.450000   \n",
       "4           0.398190           0.452489           0.493213           0.440909   \n",
       "5           0.402715           0.420814           0.443439           0.450000   \n",
       "6           0.407240           0.475113           0.443439           0.450000   \n",
       "7           0.411765           0.488688           0.452489           0.477273   \n",
       "8           0.425339           0.479638           0.461538           0.477273   \n",
       "9           0.438914           0.493213           0.484163           0.445455   \n",
       "\n",
       "   mean_test_score  std_test_score  rank_test_score  \n",
       "0         0.413015        0.024402               20  \n",
       "1         0.451057        0.023511               15  \n",
       "2         0.447445        0.023498               16  \n",
       "3         0.453801        0.049314               14  \n",
       "4         0.442933        0.030972               17  \n",
       "5         0.430271        0.016902               19  \n",
       "6         0.441131        0.022425               18  \n",
       "7         0.459255        0.026602               13  \n",
       "8         0.462875        0.019791               10  \n",
       "9         0.462847        0.021721               11  "
      ]
     },
     "execution_count": 45,
     "metadata": {},
     "output_type": "execute_result"
    }
   ],
   "source": [
    "#use fit to begin tuning process\n",
    "accuracies_grid = pd.DataFrame(\n",
    "    cmc_tune_grid\n",
    "    .fit(cmc_train.loc[:, [\"wife_age\", \"wife_education\", \"wife_religion\", \"standard_of_living_index\"]],\n",
    "         cmc_train[\"contraceptive_method_used\"]\n",
    "        ).cv_results_)\n",
    "accuracies_grid.head(10)"
   ]
  },
  {
   "cell_type": "code",
   "execution_count": 46,
   "metadata": {},
   "outputs": [
    {
     "data": {
      "application/vnd.vegalite.v4+json": {
       "$schema": "https://vega.github.io/schema/vega-lite/v4.17.0.json",
       "config": {
        "view": {
         "continuousHeight": 300,
         "continuousWidth": 400
        }
       },
       "data": {
        "name": "data-3625e25f6f64d5532be4c8ea92202058"
       },
       "datasets": {
        "data-3625e25f6f64d5532be4c8ea92202058": [
         {
          "mean_fit_time": 0.009770345687866212,
          "mean_score_time": 0.01000680923461914,
          "mean_test_score": 0.4130152200740437,
          "param_kneighborsclassifier__n_neighbors": 1,
          "params": {
           "kneighborsclassifier__n_neighbors": 1
          },
          "rank_test_score": 20,
          "split0_test_score": 0.416289592760181,
          "split1_test_score": 0.3936651583710407,
          "split2_test_score": 0.42081447963800905,
          "split3_test_score": 0.45248868778280543,
          "split4_test_score": 0.38181818181818183,
          "std_fit_time": 0.008484115376667187,
          "std_score_time": 0.0012939890487776002,
          "std_test_score": 0.024402396206258982
         },
         {
          "mean_fit_time": 0.0040932178497314455,
          "mean_score_time": 0.009238815307617188,
          "mean_test_score": 0.45105717811600166,
          "param_kneighborsclassifier__n_neighbors": 6,
          "params": {
           "kneighborsclassifier__n_neighbors": 6
          },
          "rank_test_score": 15,
          "split0_test_score": 0.4479638009049774,
          "split1_test_score": 0.43891402714932126,
          "split2_test_score": 0.48868778280542985,
          "split3_test_score": 0.46153846153846156,
          "split4_test_score": 0.41818181818181815,
          "std_fit_time": 0.00020752725560524207,
          "std_score_time": 0.00014892988634119048,
          "std_test_score": 0.02351056826299756
         },
         {
          "mean_fit_time": 0.004093980789184571,
          "mean_score_time": 0.009499788284301758,
          "mean_test_score": 0.44744549568078984,
          "param_kneighborsclassifier__n_neighbors": 11,
          "params": {
           "kneighborsclassifier__n_neighbors": 11
          },
          "rank_test_score": 16,
          "split0_test_score": 0.43891402714932126,
          "split1_test_score": 0.42081447963800905,
          "split2_test_score": 0.4796380090497738,
          "split3_test_score": 0.47058823529411764,
          "split4_test_score": 0.42727272727272725,
          "std_fit_time": 0.00029292838990838084,
          "std_score_time": 0.00012844518549972312,
          "std_test_score": 0.02349843343647451
         },
         {
          "mean_fit_time": 0.00395498275756836,
          "mean_score_time": 0.009090614318847657,
          "mean_test_score": 0.45380090497737563,
          "param_kneighborsclassifier__n_neighbors": 16,
          "params": {
           "kneighborsclassifier__n_neighbors": 16
          },
          "rank_test_score": 14,
          "split0_test_score": 0.4343891402714932,
          "split1_test_score": 0.3755656108597285,
          "split2_test_score": 0.48868778280542985,
          "split3_test_score": 0.5203619909502263,
          "split4_test_score": 0.45,
          "std_fit_time": 0.0004072631414390448,
          "std_score_time": 0.0005749328936176593,
          "std_test_score": 0.049314292337603566
         },
         {
          "mean_fit_time": 0.003495645523071289,
          "mean_score_time": 0.008958530426025391,
          "mean_test_score": 0.4429329494035376,
          "param_kneighborsclassifier__n_neighbors": 21,
          "params": {
           "kneighborsclassifier__n_neighbors": 21
          },
          "rank_test_score": 17,
          "split0_test_score": 0.4298642533936652,
          "split1_test_score": 0.39819004524886875,
          "split2_test_score": 0.45248868778280543,
          "split3_test_score": 0.49321266968325794,
          "split4_test_score": 0.4409090909090909,
          "std_fit_time": 0.0000736799667148034,
          "std_score_time": 0.00013595390867044,
          "std_test_score": 0.03097152465791058
         },
         {
          "mean_fit_time": 0.0038361549377441406,
          "mean_score_time": 0.009436845779418945,
          "mean_test_score": 0.43027149321266966,
          "param_kneighborsclassifier__n_neighbors": 26,
          "params": {
           "kneighborsclassifier__n_neighbors": 26
          },
          "rank_test_score": 19,
          "split0_test_score": 0.4343891402714932,
          "split1_test_score": 0.40271493212669685,
          "split2_test_score": 0.42081447963800905,
          "split3_test_score": 0.4434389140271493,
          "split4_test_score": 0.45,
          "std_fit_time": 0.00032728915982201644,
          "std_score_time": 0.0002820261424275093,
          "std_test_score": 0.01690176992448209
         },
         {
          "mean_fit_time": 0.0039446353912353516,
          "mean_score_time": 0.010037612915039063,
          "mean_test_score": 0.44113122171945707,
          "param_kneighborsclassifier__n_neighbors": 31,
          "params": {
           "kneighborsclassifier__n_neighbors": 31
          },
          "rank_test_score": 18,
          "split0_test_score": 0.4298642533936652,
          "split1_test_score": 0.4072398190045249,
          "split2_test_score": 0.4751131221719457,
          "split3_test_score": 0.4434389140271493,
          "split4_test_score": 0.45,
          "std_fit_time": 0.00018950710920832782,
          "std_score_time": 0.0004730240808351528,
          "std_test_score": 0.022424638162429147
         },
         {
          "mean_fit_time": 0.0035637378692626952,
          "mean_score_time": 0.009722232818603516,
          "mean_test_score": 0.459255450431921,
          "param_kneighborsclassifier__n_neighbors": 36,
          "params": {
           "kneighborsclassifier__n_neighbors": 36
          },
          "rank_test_score": 13,
          "split0_test_score": 0.4660633484162896,
          "split1_test_score": 0.4117647058823529,
          "split2_test_score": 0.48868778280542985,
          "split3_test_score": 0.45248868778280543,
          "split4_test_score": 0.4772727272727273,
          "std_fit_time": 0.0001378576221367446,
          "std_score_time": 0.000064288189417121,
          "std_test_score": 0.02660222480654698
         },
         {
          "mean_fit_time": 0.003547191619873047,
          "mean_score_time": 0.009959983825683593,
          "mean_test_score": 0.46287535993418344,
          "param_kneighborsclassifier__n_neighbors": 41,
          "params": {
           "kneighborsclassifier__n_neighbors": 41
          },
          "rank_test_score": 10,
          "split0_test_score": 0.47058823529411764,
          "split1_test_score": 0.4253393665158371,
          "split2_test_score": 0.4796380090497738,
          "split3_test_score": 0.46153846153846156,
          "split4_test_score": 0.4772727272727273,
          "std_fit_time": 0.000040928908534531094,
          "std_score_time": 0.00016303943148330554,
          "std_test_score": 0.01979139781417106
         },
         {
          "mean_fit_time": 0.003633403778076172,
          "mean_score_time": 0.01020984649658203,
          "mean_test_score": 0.46284656519950634,
          "param_kneighborsclassifier__n_neighbors": 46,
          "params": {
           "kneighborsclassifier__n_neighbors": 46
          },
          "rank_test_score": 11,
          "split0_test_score": 0.45248868778280543,
          "split1_test_score": 0.43891402714932126,
          "split2_test_score": 0.49321266968325794,
          "split3_test_score": 0.4841628959276018,
          "split4_test_score": 0.44545454545454544,
          "std_fit_time": 0.00011031301737633747,
          "std_score_time": 0.00017297148129017547,
          "std_test_score": 0.02172105250737052
         },
         {
          "mean_fit_time": 0.0035154342651367186,
          "mean_score_time": 0.010388803482055665,
          "mean_test_score": 0.4709913615795969,
          "param_kneighborsclassifier__n_neighbors": 51,
          "params": {
           "kneighborsclassifier__n_neighbors": 51
          },
          "rank_test_score": 3,
          "split0_test_score": 0.4751131221719457,
          "split1_test_score": 0.4479638009049774,
          "split2_test_score": 0.48868778280542985,
          "split3_test_score": 0.497737556561086,
          "split4_test_score": 0.44545454545454544,
          "std_fit_time": 0.0000996027564366744,
          "std_score_time": 0.00002252539570570493,
          "std_test_score": 0.02110880720930746
         },
         {
          "mean_fit_time": 0.0036200523376464845,
          "mean_score_time": 0.010652446746826172,
          "mean_test_score": 0.4700946112710819,
          "param_kneighborsclassifier__n_neighbors": 56,
          "params": {
           "kneighborsclassifier__n_neighbors": 56
          },
          "rank_test_score": 6,
          "split0_test_score": 0.4751131221719457,
          "split1_test_score": 0.4298642533936652,
          "split2_test_score": 0.49321266968325794,
          "split3_test_score": 0.497737556561086,
          "split4_test_score": 0.45454545454545453,
          "std_fit_time": 0.000051207426751103205,
          "std_score_time": 0.00016711177111782512,
          "std_test_score": 0.025234977592778554
         },
         {
          "mean_fit_time": 0.0034991741180419923,
          "mean_score_time": 0.010952043533325195,
          "mean_test_score": 0.4673837926779103,
          "param_kneighborsclassifier__n_neighbors": 61,
          "params": {
           "kneighborsclassifier__n_neighbors": 61
          },
          "rank_test_score": 9,
          "split0_test_score": 0.45701357466063347,
          "split1_test_score": 0.4298642533936652,
          "split2_test_score": 0.5067873303167421,
          "split3_test_score": 0.4841628959276018,
          "split4_test_score": 0.4590909090909091,
          "std_fit_time": 0.00007474376444089384,
          "std_score_time": 0.00012714265310044982,
          "std_test_score": 0.02614653419608059
         },
         {
          "mean_fit_time": 0.0036803722381591798,
          "mean_score_time": 0.011175823211669923,
          "mean_test_score": 0.47010695187165774,
          "param_kneighborsclassifier__n_neighbors": 66,
          "params": {
           "kneighborsclassifier__n_neighbors": 66
          },
          "rank_test_score": 5,
          "split0_test_score": 0.45701357466063347,
          "split1_test_score": 0.4343891402714932,
          "split2_test_score": 0.502262443438914,
          "split3_test_score": 0.48868778280542985,
          "split4_test_score": 0.4681818181818182,
          "std_fit_time": 0.00010003420807661193,
          "std_score_time": 0.0001170129045026877,
          "std_test_score": 0.023791291045843155
         },
         {
          "mean_fit_time": 0.003551483154296875,
          "mean_score_time": 0.01130366325378418,
          "mean_test_score": 0.47460715754833405,
          "param_kneighborsclassifier__n_neighbors": 71,
          "params": {
           "kneighborsclassifier__n_neighbors": 71
          },
          "rank_test_score": 2,
          "split0_test_score": 0.4796380090497738,
          "split1_test_score": 0.4434389140271493,
          "split2_test_score": 0.5203619909502263,
          "split3_test_score": 0.48868778280542985,
          "split4_test_score": 0.4409090909090909,
          "std_fit_time": 0.00009160797618164332,
          "std_score_time": 0.00016569984902239606,
          "std_test_score": 0.029745915193565526
         },
         {
          "mean_fit_time": 0.0034799098968505858,
          "mean_score_time": 0.011460256576538087,
          "mean_test_score": 0.47098313451254636,
          "param_kneighborsclassifier__n_neighbors": 76,
          "params": {
           "kneighborsclassifier__n_neighbors": 76
          },
          "rank_test_score": 4,
          "split0_test_score": 0.4796380090497738,
          "split1_test_score": 0.43891402714932126,
          "split2_test_score": 0.5158371040723982,
          "split3_test_score": 0.4841628959276018,
          "split4_test_score": 0.43636363636363634,
          "std_fit_time": 0.00005276487030825302,
          "std_score_time": 0.0001040645507416426,
          "std_test_score": 0.029958066855675095
         },
         {
          "mean_fit_time": 0.0036171913146972657,
          "mean_score_time": 0.011766767501831055,
          "mean_test_score": 0.4682599753187988,
          "param_kneighborsclassifier__n_neighbors": 81,
          "params": {
           "kneighborsclassifier__n_neighbors": 81
          },
          "rank_test_score": 8,
          "split0_test_score": 0.47058823529411764,
          "split1_test_score": 0.45248868778280543,
          "split2_test_score": 0.5113122171945701,
          "split3_test_score": 0.4796380090497738,
          "split4_test_score": 0.42727272727272725,
          "std_fit_time": 0.00011508093127137537,
          "std_score_time": 0.00022042756836003155,
          "std_test_score": 0.027989512284278796
         },
         {
          "mean_fit_time": 0.0037783145904541015,
          "mean_score_time": 0.012158679962158202,
          "mean_test_score": 0.4691814068284656,
          "param_kneighborsclassifier__n_neighbors": 86,
          "params": {
           "kneighborsclassifier__n_neighbors": 86
          },
          "rank_test_score": 7,
          "split0_test_score": 0.48868778280542985,
          "split1_test_score": 0.4298642533936652,
          "split2_test_score": 0.5067873303167421,
          "split3_test_score": 0.4751131221719457,
          "split4_test_score": 0.44545454545454544,
          "std_fit_time": 0.00010102159542169376,
          "std_score_time": 0.00018082469809605983,
          "std_test_score": 0.028066677526738824
         },
         {
          "mean_fit_time": 0.00368351936340332,
          "mean_score_time": 0.01221165657043457,
          "mean_test_score": 0.46284656519950634,
          "param_kneighborsclassifier__n_neighbors": 91,
          "params": {
           "kneighborsclassifier__n_neighbors": 91
          },
          "rank_test_score": 11,
          "split0_test_score": 0.4660633484162896,
          "split1_test_score": 0.4253393665158371,
          "split2_test_score": 0.502262443438914,
          "split3_test_score": 0.4751131221719457,
          "split4_test_score": 0.44545454545454544,
          "std_fit_time": 0.0000897173136424082,
          "std_score_time": 0.0001297015126888021,
          "std_test_score": 0.026167536664772405
         },
         {
          "mean_fit_time": 0.0036786079406738283,
          "mean_score_time": 0.012363481521606445,
          "mean_test_score": 0.47551624845742496,
          "param_kneighborsclassifier__n_neighbors": 96,
          "params": {
           "kneighborsclassifier__n_neighbors": 96
          },
          "rank_test_score": 1,
          "split0_test_score": 0.502262443438914,
          "split1_test_score": 0.4434389140271493,
          "split2_test_score": 0.5248868778280543,
          "split3_test_score": 0.46153846153846156,
          "split4_test_score": 0.44545454545454544,
          "std_fit_time": 0.00005626706753675835,
          "std_score_time": 0.00015154485048445422,
          "std_test_score": 0.03249879348276458
         }
        ]
       },
       "encoding": {
        "x": {
         "field": "param_kneighborsclassifier__n_neighbors",
         "title": "Neighbors",
         "type": "quantitative"
        },
        "y": {
         "field": "mean_test_score",
         "scale": {
          "domain": [
           0.4,
           0.5
          ]
         },
         "title": "Accuracy Estimate",
         "type": "quantitative"
        }
       },
       "mark": {
        "point": true,
        "type": "line"
       }
      },
      "text/plain": [
       "<VegaLite 4 object>\n",
       "\n",
       "If you see this message, it means the renderer has not been properly enabled\n",
       "for the frontend that you are using. For more information, see\n",
       "https://altair-viz.github.io/user_guide/troubleshooting.html\n"
      ]
     },
     "execution_count": 46,
     "metadata": {},
     "output_type": "execute_result"
    }
   ],
   "source": [
    "#use a graph to determine the K value with the highest accuracy\n",
    "accuracy_vs_k = (\n",
    "    alt.Chart(accuracies_grid)\n",
    "    .mark_line(point=True)\n",
    "    .encode(\n",
    "        x=alt.X(\"param_kneighborsclassifier__n_neighbors\", title=\"Neighbors\",\n",
    "               ),\n",
    "        y=alt.Y(\"mean_test_score\",\n",
    "                title=\"Accuracy Estimate\",\n",
    "               scale=alt.Scale(domain=(0.40, 0.50)),\n",
    "    )\n",
    "    ))\n",
    "accuracy_vs_k"
   ]
  },
  {
   "attachments": {},
   "cell_type": "markdown",
   "metadata": {},
   "source": [
    "To better visualize the relevant data from the <code>accuracies_grid</code> dataset, we plotted the k-nearest-neighbours against the average test score in a line plot. From the graph, it can be observed that the highest accuracy occurs at a value of <code>k = 65</code>, with a mean score of around 0.486. As such, this would be the optimal k-value of the model to provide the most accurate predictions on new data."
   ]
  },
  {
   "cell_type": "code",
   "execution_count": 47,
   "metadata": {},
   "outputs": [],
   "source": [
    "#choose K value of 65\n",
    "knn = KNeighborsClassifier(n_neighbors=65)\n",
    "X = cmc_test.loc[:, [\"wife_age\", \"wife_education\", \"wife_religion\", \"standard_of_living_index\"]]\n",
    "y = cmc_test[\"contraceptive_method_used\"]"
   ]
  },
  {
   "cell_type": "code",
   "execution_count": 48,
   "metadata": {},
   "outputs": [
    {
     "data": {
      "text/plain": [
       "Pipeline(steps=[('columntransformer',\n",
       "                 ColumnTransformer(transformers=[('standardscaler',\n",
       "                                                  StandardScaler(),\n",
       "                                                  ['wife_age', 'wife_education',\n",
       "                                                   'wife_religion',\n",
       "                                                   'standard_of_living_index'])])),\n",
       "                ('kneighborsclassifier', KNeighborsClassifier(n_neighbors=65))])"
      ]
     },
     "execution_count": 48,
     "metadata": {},
     "output_type": "execute_result"
    }
   ],
   "source": [
    "#make pipeline\n",
    "knn_fit = make_pipeline(preprocessor, knn).fit(X, y)\n",
    "knn_fit"
   ]
  },
  {
   "cell_type": "code",
   "execution_count": 49,
   "metadata": {},
   "outputs": [
    {
     "data": {
      "text/html": [
       "<div>\n",
       "<style scoped>\n",
       "    .dataframe tbody tr th:only-of-type {\n",
       "        vertical-align: middle;\n",
       "    }\n",
       "\n",
       "    .dataframe tbody tr th {\n",
       "        vertical-align: top;\n",
       "    }\n",
       "\n",
       "    .dataframe thead th {\n",
       "        text-align: right;\n",
       "    }\n",
       "</style>\n",
       "<table border=\"1\" class=\"dataframe\">\n",
       "  <thead>\n",
       "    <tr style=\"text-align: right;\">\n",
       "      <th></th>\n",
       "      <th>wife_age</th>\n",
       "      <th>wife_education</th>\n",
       "      <th>wife_religion</th>\n",
       "      <th>standard_of_living_index</th>\n",
       "      <th>contraceptive_method_used</th>\n",
       "      <th>predicted</th>\n",
       "    </tr>\n",
       "  </thead>\n",
       "  <tbody>\n",
       "    <tr>\n",
       "      <th>1100</th>\n",
       "      <td>24</td>\n",
       "      <td>4</td>\n",
       "      <td>1</td>\n",
       "      <td>3</td>\n",
       "      <td>1</td>\n",
       "      <td>3</td>\n",
       "    </tr>\n",
       "    <tr>\n",
       "      <th>208</th>\n",
       "      <td>32</td>\n",
       "      <td>4</td>\n",
       "      <td>1</td>\n",
       "      <td>4</td>\n",
       "      <td>1</td>\n",
       "      <td>3</td>\n",
       "    </tr>\n",
       "    <tr>\n",
       "      <th>1179</th>\n",
       "      <td>23</td>\n",
       "      <td>3</td>\n",
       "      <td>1</td>\n",
       "      <td>2</td>\n",
       "      <td>1</td>\n",
       "      <td>3</td>\n",
       "    </tr>\n",
       "    <tr>\n",
       "      <th>1384</th>\n",
       "      <td>36</td>\n",
       "      <td>4</td>\n",
       "      <td>1</td>\n",
       "      <td>4</td>\n",
       "      <td>3</td>\n",
       "      <td>3</td>\n",
       "    </tr>\n",
       "    <tr>\n",
       "      <th>46</th>\n",
       "      <td>32</td>\n",
       "      <td>4</td>\n",
       "      <td>1</td>\n",
       "      <td>3</td>\n",
       "      <td>1</td>\n",
       "      <td>3</td>\n",
       "    </tr>\n",
       "    <tr>\n",
       "      <th>...</th>\n",
       "      <td>...</td>\n",
       "      <td>...</td>\n",
       "      <td>...</td>\n",
       "      <td>...</td>\n",
       "      <td>...</td>\n",
       "      <td>...</td>\n",
       "    </tr>\n",
       "    <tr>\n",
       "      <th>58</th>\n",
       "      <td>21</td>\n",
       "      <td>2</td>\n",
       "      <td>1</td>\n",
       "      <td>4</td>\n",
       "      <td>1</td>\n",
       "      <td>1</td>\n",
       "    </tr>\n",
       "    <tr>\n",
       "      <th>99</th>\n",
       "      <td>27</td>\n",
       "      <td>2</td>\n",
       "      <td>1</td>\n",
       "      <td>1</td>\n",
       "      <td>1</td>\n",
       "      <td>1</td>\n",
       "    </tr>\n",
       "    <tr>\n",
       "      <th>1174</th>\n",
       "      <td>18</td>\n",
       "      <td>3</td>\n",
       "      <td>1</td>\n",
       "      <td>1</td>\n",
       "      <td>1</td>\n",
       "      <td>1</td>\n",
       "    </tr>\n",
       "    <tr>\n",
       "      <th>1451</th>\n",
       "      <td>37</td>\n",
       "      <td>2</td>\n",
       "      <td>1</td>\n",
       "      <td>3</td>\n",
       "      <td>3</td>\n",
       "      <td>1</td>\n",
       "    </tr>\n",
       "    <tr>\n",
       "      <th>1081</th>\n",
       "      <td>49</td>\n",
       "      <td>4</td>\n",
       "      <td>0</td>\n",
       "      <td>4</td>\n",
       "      <td>1</td>\n",
       "      <td>2</td>\n",
       "    </tr>\n",
       "  </tbody>\n",
       "</table>\n",
       "<p>369 rows × 6 columns</p>\n",
       "</div>"
      ],
      "text/plain": [
       "      wife_age  wife_education  wife_religion  standard_of_living_index  \\\n",
       "1100        24               4              1                         3   \n",
       "208         32               4              1                         4   \n",
       "1179        23               3              1                         2   \n",
       "1384        36               4              1                         4   \n",
       "46          32               4              1                         3   \n",
       "...        ...             ...            ...                       ...   \n",
       "58          21               2              1                         4   \n",
       "99          27               2              1                         1   \n",
       "1174        18               3              1                         1   \n",
       "1451        37               2              1                         3   \n",
       "1081        49               4              0                         4   \n",
       "\n",
       "      contraceptive_method_used  predicted  \n",
       "1100                          1          3  \n",
       "208                           1          3  \n",
       "1179                          1          3  \n",
       "1384                          3          3  \n",
       "46                            1          3  \n",
       "...                         ...        ...  \n",
       "58                            1          1  \n",
       "99                            1          1  \n",
       "1174                          1          1  \n",
       "1451                          3          1  \n",
       "1081                          1          2  \n",
       "\n",
       "[369 rows x 6 columns]"
      ]
     },
     "execution_count": 49,
     "metadata": {},
     "output_type": "execute_result"
    }
   ],
   "source": [
    "#make predictions using test set\n",
    "cmc_test_predictions = cmc_test.assign(\n",
    "    predicted = knn_fit.predict(X))\n",
    "cmc_test_predictions"
   ]
  },
  {
   "cell_type": "code",
   "execution_count": 50,
   "metadata": {},
   "outputs": [
    {
     "data": {
      "text/html": [
       "<div>\n",
       "<style scoped>\n",
       "    .dataframe tbody tr th:only-of-type {\n",
       "        vertical-align: middle;\n",
       "    }\n",
       "\n",
       "    .dataframe tbody tr th {\n",
       "        vertical-align: top;\n",
       "    }\n",
       "\n",
       "    .dataframe thead th {\n",
       "        text-align: right;\n",
       "    }\n",
       "</style>\n",
       "<table border=\"1\" class=\"dataframe\">\n",
       "  <thead>\n",
       "    <tr style=\"text-align: right;\">\n",
       "      <th></th>\n",
       "      <th>wife_age</th>\n",
       "      <th>wife_education</th>\n",
       "      <th>wife_religion</th>\n",
       "      <th>standard_of_living_index</th>\n",
       "      <th>contraceptive_method_used</th>\n",
       "      <th>predicted</th>\n",
       "    </tr>\n",
       "  </thead>\n",
       "  <tbody>\n",
       "    <tr>\n",
       "      <th>1384</th>\n",
       "      <td>36</td>\n",
       "      <td>4</td>\n",
       "      <td>1</td>\n",
       "      <td>4</td>\n",
       "      <td>3</td>\n",
       "      <td>3</td>\n",
       "    </tr>\n",
       "    <tr>\n",
       "      <th>612</th>\n",
       "      <td>37</td>\n",
       "      <td>4</td>\n",
       "      <td>0</td>\n",
       "      <td>4</td>\n",
       "      <td>2</td>\n",
       "      <td>2</td>\n",
       "    </tr>\n",
       "    <tr>\n",
       "      <th>429</th>\n",
       "      <td>38</td>\n",
       "      <td>4</td>\n",
       "      <td>0</td>\n",
       "      <td>2</td>\n",
       "      <td>2</td>\n",
       "      <td>2</td>\n",
       "    </tr>\n",
       "    <tr>\n",
       "      <th>1279</th>\n",
       "      <td>39</td>\n",
       "      <td>4</td>\n",
       "      <td>0</td>\n",
       "      <td>4</td>\n",
       "      <td>2</td>\n",
       "      <td>2</td>\n",
       "    </tr>\n",
       "    <tr>\n",
       "      <th>548</th>\n",
       "      <td>41</td>\n",
       "      <td>4</td>\n",
       "      <td>1</td>\n",
       "      <td>4</td>\n",
       "      <td>2</td>\n",
       "      <td>2</td>\n",
       "    </tr>\n",
       "    <tr>\n",
       "      <th>...</th>\n",
       "      <td>...</td>\n",
       "      <td>...</td>\n",
       "      <td>...</td>\n",
       "      <td>...</td>\n",
       "      <td>...</td>\n",
       "      <td>...</td>\n",
       "    </tr>\n",
       "    <tr>\n",
       "      <th>869</th>\n",
       "      <td>28</td>\n",
       "      <td>3</td>\n",
       "      <td>1</td>\n",
       "      <td>4</td>\n",
       "      <td>3</td>\n",
       "      <td>3</td>\n",
       "    </tr>\n",
       "    <tr>\n",
       "      <th>158</th>\n",
       "      <td>45</td>\n",
       "      <td>1</td>\n",
       "      <td>1</td>\n",
       "      <td>2</td>\n",
       "      <td>1</td>\n",
       "      <td>1</td>\n",
       "    </tr>\n",
       "    <tr>\n",
       "      <th>58</th>\n",
       "      <td>21</td>\n",
       "      <td>2</td>\n",
       "      <td>1</td>\n",
       "      <td>4</td>\n",
       "      <td>1</td>\n",
       "      <td>1</td>\n",
       "    </tr>\n",
       "    <tr>\n",
       "      <th>99</th>\n",
       "      <td>27</td>\n",
       "      <td>2</td>\n",
       "      <td>1</td>\n",
       "      <td>1</td>\n",
       "      <td>1</td>\n",
       "      <td>1</td>\n",
       "    </tr>\n",
       "    <tr>\n",
       "      <th>1174</th>\n",
       "      <td>18</td>\n",
       "      <td>3</td>\n",
       "      <td>1</td>\n",
       "      <td>1</td>\n",
       "      <td>1</td>\n",
       "      <td>1</td>\n",
       "    </tr>\n",
       "  </tbody>\n",
       "</table>\n",
       "<p>193 rows × 6 columns</p>\n",
       "</div>"
      ],
      "text/plain": [
       "      wife_age  wife_education  wife_religion  standard_of_living_index  \\\n",
       "1384        36               4              1                         4   \n",
       "612         37               4              0                         4   \n",
       "429         38               4              0                         2   \n",
       "1279        39               4              0                         4   \n",
       "548         41               4              1                         4   \n",
       "...        ...             ...            ...                       ...   \n",
       "869         28               3              1                         4   \n",
       "158         45               1              1                         2   \n",
       "58          21               2              1                         4   \n",
       "99          27               2              1                         1   \n",
       "1174        18               3              1                         1   \n",
       "\n",
       "      contraceptive_method_used  predicted  \n",
       "1384                          3          3  \n",
       "612                           2          2  \n",
       "429                           2          2  \n",
       "1279                          2          2  \n",
       "548                           2          2  \n",
       "...                         ...        ...  \n",
       "869                           3          3  \n",
       "158                           1          1  \n",
       "58                            1          1  \n",
       "99                            1          1  \n",
       "1174                          1          1  \n",
       "\n",
       "[193 rows x 6 columns]"
      ]
     },
     "execution_count": 50,
     "metadata": {},
     "output_type": "execute_result"
    }
   ],
   "source": [
    "#compute accuracy by checking number of correct/incorrect predictions\n",
    "correct_preds = cmc_test_predictions[\n",
    "    cmc_test_predictions[\"contraceptive_method_used\"] == cmc_test_predictions[\"predicted\"]\n",
    "]\n",
    "correct_preds"
   ]
  },
  {
   "cell_type": "code",
   "execution_count": 51,
   "metadata": {},
   "outputs": [
    {
     "data": {
      "text/plain": [
       "45.25745257452575"
      ]
     },
     "execution_count": 51,
     "metadata": {},
     "output_type": "execute_result"
    }
   ],
   "source": [
    "prediction_accuracy = (167/369)*100\n",
    "prediction_accuracy"
   ]
  },
  {
   "attachments": {},
   "cell_type": "markdown",
   "metadata": {},
   "source": [
    "Using the classifier trained using the training set of <code>cmc.data.csv</code>, the prediction accuracy on the testing set is around 45.26%. "
   ]
  },
  {
   "cell_type": "code",
   "execution_count": 53,
   "metadata": {},
   "outputs": [],
   "source": [
    "#TODO: where do we put random states? Can we include a single one for the entire notebook? \n",
    "#TODO: what are some other things that we should address in our discussion relating to the low accuracy of our model. "
   ]
  },
  {
   "attachments": {},
   "cell_type": "markdown",
   "metadata": {},
   "source": [
    "#### Discussion\n",
    "\n",
    "This research explored the contraceptive method used among Indonesian women using a dataset from the ​​National Indonesia Contraceptive Prevalence Survey. Our initial exploratory analysis found no clear correlation between a woman's age and the use of contraception, but the proportion of women using short-term contraception peaked at around 30 years old, while those using long-term contraception peaked at around 35 years old. Additionally, education level and standard of living were found to be positively correlated with the use of contraception. Religion also played a role, as the majority of religious women did not use any method of contraception.\n",
    "\n",
    "\n",
    "These findings were consistent with our expectations. Younger women have been found to prefer a shorter duration of contraception, while older women were more likely to use it for longer periods (Wellings et al., 2013). Women with a higher standard of living and higher education level tend to use contraceptives longer than other groups because they are more aware of the available family planning resources and other resources beyond what the government offers. Alternatively, women with lower education levels and a lower standard of living are more likely to use contraceptives for a shorter period or not use them at all (Iseyemi et al., 2017). Lastly, Islamic beliefs can influence women’s view of contraception as some Muslim women viewed using contraceptives as a violation of Islamic teachings on procreation (Obasohan, 2014). \n",
    "\n",
    "\n",
    "However, after using the same variables to create a classifier to predict the method of contraception used, the results were different than what we predicted. The final accuracy of our model when predicting new data is around 45.26%, much less than the expected value. This indicates that the predictor variables have a weaker correlation to method of contraception among Indonesion women, leading to less accurate predictions. Another plausible factor is the data was too noisy or had too many outliers, which further weakened the correlation. \n",
    "\n",
    "\n",
    "Although it is not recommended for policymakers to use this report as the sole foundation for policy changes, our findings provide insight into the use of contraception among Indonesian women. Due to the decreased reliability of our model, further research needs to be conducted to have a better understanding of the relationship between variables. The results suggest that efforts to improve women’s education and economic empowerment could lead to increased access to contraception and more effective family planning practices in Indonesia. The social and economic disparities propose policymakers ensure education and access to preferred contraception are readily available to all sociodemographic groups, including those in lower social and educational levels. Despite Indonesia’s decline in fertility, contraceptive use can lower rates of unplanned pregnancies and maternal and infant mortality. \n",
    "\n",
    "\n",
    "Future studies should include a more comprehensive dataset and explore additional factors that may influence Indonesian women’s preferred contraceptive method. This includes cultural and religious norms from different parts of Indonesia, accessibility of contraceptive methods, and social attitudes toward family planning. Addressing the barriers to access to contraception can ensure social equality and promote autonomy and control over women’s reproductive health.\n"
   ]
  },
  {
   "attachments": {},
   "cell_type": "markdown",
   "metadata": {},
   "source": [
    "#### References\n",
    "\n",
    "Hefner, R. W. (2020). Islam and covenantal pluralism in Indonesia: A critical juncture analysis. The Review of Faith & International Affairs, 18(2), 1-17.\n",
    "\n",
    "Hill, N. J., Siwatu, M., & Robinson, A. K. (2014). “My religion picked my birth control”: The influence of religion on contraceptive use. Journal of religion and health, 53, 825-833.\n",
    "\n",
    "Iseyemi, A., Zhao, Q., McNicholas, C., & Peipert, J. F. (2017). Socioeconomic status as a risk factor for unintended pregnancy in the contraceptive CHOICE project. Obstetrics and gynecology, 130(3), 609.\n",
    "\n",
    "Lim, T. (1997). UCI Machine Learning Repository [http://archive.ics.uci.edu/ml]. Irvine, CA: University of California, School of Information and Computer Science.\n",
    "\n",
    "Obasohan, P. (2014). Religion, ethnicity and contraceptive use among reproductive age women in Nigeria. International Journal of MCH and AIDS (IJMA), 3(1). https://doi.org/10.21106/ijma.39 \n",
    "\n",
    "Sámano, R., Martínez-Rojano, H., Chico-Barba, G., Sánchez-Jiménez, B., Sam-Soto, S., Rodríguez-Ventura, A. L., ... & Sclavo-Melo, S. (2019). Sociodemographic factors associated with the knowledge and use of birth control methods in adolescents before and after pregnancy. International journal of environmental research and public health, 16(6), 1022.\n",
    "\n",
    "Wellings, K., Jones, K. G., Mercer, C. H., Tanton, C., Clifton, S., Datta, J., Copas, A. J., Erens, B., Gibson, L. J., Macdowall, W., Sonnenberg, P., Phelps, A., &amp; Johnson, A. M. (2013). The prevalence of unplanned pregnancy and associated factors in Britain: Findings from the Third National Survey of Sexual Attitudes and lifestyles (NATSAL-3). The Lancet, 382(9907), 1807–1816. https://doi.org/10.1016/s0140-6736(13)62071-1 \n"
   ]
  },
  {
   "cell_type": "code",
   "execution_count": null,
   "metadata": {},
   "outputs": [],
   "source": []
  }
 ],
 "metadata": {
  "kernelspec": {
   "display_name": "Python 3 (ipykernel)",
   "language": "python",
   "name": "python3"
  },
  "language_info": {
   "codemirror_mode": {
    "name": "ipython",
    "version": 3
   },
   "file_extension": ".py",
   "mimetype": "text/x-python",
   "name": "python",
   "nbconvert_exporter": "python",
   "pygments_lexer": "ipython3",
   "version": "3.9.12"
  },
  "vscode": {
   "interpreter": {
    "hash": "1b287bfc4bc62216e94f1ce7ec6562cda326ab241add07299d3b54ca651f2698"
   }
  }
 },
 "nbformat": 4,
 "nbformat_minor": 4
}
